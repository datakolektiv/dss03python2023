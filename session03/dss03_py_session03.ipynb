{
 "cells": [
  {
   "attachments": {},
   "cell_type": "markdown",
   "metadata": {},
   "source": [
    "# DATA SCIENCE SESSIONS VOL. 3\n",
    "### A Foundational Python Data Science Course\n",
    "## Session 03: Control Flow + Functions. Defensive programming. Pandas: I/O operations + `apply`, `filter`, `groupby`, `agg`\n",
    "\n",
    "[&larr; Back to course webpage](https://datakolektiv.com/)\n",
    "\n",
    "Feedback should be send to [goran.milovanovic@datakolektiv.com](mailto:goran.milovanovic@datakolektiv.com). \n",
    "\n",
    "These notebooks accompany the DATA SCIENCE SESSIONS VOL. 3 :: A Foundational Python Data Science Course."
   ]
  },
  {
   "cell_type": "markdown",
   "metadata": {},
   "source": [
    "![](../img/IntroRDataScience_NonTech-1.jpg)"
   ]
  },
  {
   "attachments": {},
   "cell_type": "markdown",
   "metadata": {},
   "source": [
    "### Lecturers\n",
    "\n",
    "[Goran S. Milovanović, PhD, DataKolektiv, Chief Scientist & Owner](https://www.linkedin.com/in/gmilovanovic/)\n",
    "\n",
    "[Aleksandar Cvetković, PhD, DataKolektiv, Consultant](https://www.linkedin.com/in/alegzndr/)\n",
    "\n",
    "[Ilija Lazarević, MA, DataKolektiv, Consultant](https://www.linkedin.com/in/ilijalazarevic/)"
   ]
  },
  {
   "cell_type": "markdown",
   "metadata": {},
   "source": [
    "![](../img/DK_Logo_100.png)"
   ]
  },
  {
   "cell_type": "markdown",
   "metadata": {},
   "source": [
    "***"
   ]
  },
  {
   "attachments": {},
   "cell_type": "markdown",
   "metadata": {},
   "source": [
    "### 0. What do we want to do today?\n",
    "\n",
    "Our goal in **Session03** is to learn\n",
    "\n",
    "- about the basics of Control Flow in Python (e.g. how do we tell the computer what to do with data in this language);\n",
    "- a bit more about functions in Python;\n",
    "- a bit about defensive programming in Python;\n",
    "- several new things that can be done with `pd.DataFrame`, such as\n",
    "   - Pandas I/O operations\n",
    "   - `apply` a function to a `pd.DataFrame` column\n",
    "   - use `filter`, `groupy`, and `agg` to filter out and produce data aggregates from `pd.DataFrame`"
   ]
  },
  {
   "attachments": {},
   "cell_type": "markdown",
   "metadata": {},
   "source": [
    "#### 1. Where am I?\n",
    "\n",
    "Your are (or you should be...) in the `session03` directory, where we find \n",
    "- this notebook, \n",
    "- it's HTML version, \n",
    "- another directory: `_data`\n",
    "- and a `.csv` file named `BostonHousingData.csv` in it.\n",
    "\n",
    "**NOTE.** `csv.` files play a prominent role in Data Science. If you do not know what a `.csv` (Comma Separated Values) file is, read through this document:[What Is a CSV File, and How Do I Open It? - by Chris Hoffman, Editor-in-Chief, How-To Geek](https://www.howtogeek.com/348960/what-is-a-csv-file-and-how-do-i-open-it/).\n",
    "\n",
    "The Boston Housing Data Set is available from GitHub [here](https://raw.githubusercontent.com/selva86/datasets/master/BostonHousing.csv)."
   ]
  },
  {
   "cell_type": "code",
   "execution_count": 1,
   "metadata": {},
   "outputs": [
    {
     "name": "stdout",
     "output_type": "stream",
     "text": [
      "/Users/goransm/Work/___DataKolektiv/_EDU/DSS_Vol00_PythonDS_2023/dss03python2023/session03\n",
      "['dss03_py_session03.ipynb', '.DS_Store', 'dss03_py_session03.html', '.ipynb_checkpoints', '_data']\n",
      "['BostonHousingData.csv', '.DS_Store', 'MovieRatings.csv']\n"
     ]
    }
   ],
   "source": [
    "import os\n",
    "work_dir = os.getcwd()\n",
    "print(work_dir)\n",
    "print(os.listdir(work_dir))\n",
    "data_dir = os.path.join(work_dir, \"_data\")\n",
    "print(os.listdir(data_dir))"
   ]
  },
  {
   "attachments": {},
   "cell_type": "markdown",
   "metadata": {},
   "source": [
    "`BostonHousingData.csv` is a data set, in a CSV format, that we will next load into a Pandas DataFrame in order to study it. It is also one of the data sets that were frequently used to benchmark Machine Learning algorithms in the past. \n",
    "\n",
    "The data was originally published by Harrison, D. and Rubinfeld, D.L. Hedonic prices and the demand for clean air, *J. Environ. Economics & Management*, vol.5, 81-102, 1978.\n"
   ]
  },
  {
   "attachments": {},
   "cell_type": "markdown",
   "metadata": {},
   "source": [
    "### 2. Data: The Boston Housing Data Set"
   ]
  },
  {
   "attachments": {},
   "cell_type": "markdown",
   "metadata": {},
   "source": [
    "Import Pandas:"
   ]
  },
  {
   "cell_type": "code",
   "execution_count": 2,
   "metadata": {},
   "outputs": [],
   "source": [
    "import pandas as pd"
   ]
  },
  {
   "attachments": {},
   "cell_type": "markdown",
   "metadata": {},
   "source": [
    "Load `BostonHousingData.csv` into a Pandas DataFrame. "
   ]
  },
  {
   "cell_type": "code",
   "execution_count": 3,
   "metadata": {},
   "outputs": [],
   "source": [
    "filename = 'BostonHousingData.csv'\n",
    "data_set = pd.read_csv(os.path.join(data_dir, filename))"
   ]
  },
  {
   "attachments": {},
   "cell_type": "markdown",
   "metadata": {},
   "source": [
    "Descibe `data_set`."
   ]
  },
  {
   "cell_type": "code",
   "execution_count": 4,
   "metadata": {},
   "outputs": [
    {
     "data": {
      "text/plain": [
       "crim       float64\n",
       "zn         float64\n",
       "indus      float64\n",
       "chas         int64\n",
       "nox        float64\n",
       "rm         float64\n",
       "age        float64\n",
       "dis        float64\n",
       "rad          int64\n",
       "tax          int64\n",
       "ptratio    float64\n",
       "b          float64\n",
       "lstat      float64\n",
       "medv       float64\n",
       "dtype: object"
      ]
     },
     "execution_count": 4,
     "metadata": {},
     "output_type": "execute_result"
    }
   ],
   "source": [
    "data_set.dtypes"
   ]
  },
  {
   "attachments": {},
   "cell_type": "markdown",
   "metadata": {},
   "source": [
    "Let's now invest some effort to **understand** the data set at hand before we proceed with the `pd.DataFrame` class:\n",
    "\n",
    "- **crim**: per capita crime rate by town.\n",
    "\n",
    "- **zn**: proportion of residential land zoned for lots over 25,000 sq.ft.\n",
    "\n",
    "- **indus**: proportion of non-retail business acres per town.\n",
    "\n",
    "- **chas**: Charles River dummy variable (= 1 if tract bounds river; 0 otherwise).\n",
    "\n",
    "- **nox**: nitrogen oxides concentration (parts per 10 million).\n",
    "\n",
    "- **rm**: average number of rooms per dwelling.\n",
    "\n",
    "- **age**: proportion of owner-occupied units built prior to 1940.\n",
    "\n",
    "- **dis**: weighted mean of distances to five Boston employment centres.\n",
    "\n",
    "- **rad**: index of accessibility to radial highways.\n",
    "\n",
    "- **tax**: full-value property-tax rate per \\$10,000.\n",
    "\n",
    "- **ptratio**: pupil-teacher ratio by town.\n",
    "\n",
    "- **black**: 1000(Bk - 0.63)^2 where Bk is the proportion of blacks by town.\n",
    "\n",
    "- **lstat**: lower status of the population (percent).\n",
    "\n",
    "- **medv**: median value of owner-occupied homes in \\$1000s."
   ]
  },
  {
   "attachments": {},
   "cell_type": "markdown",
   "metadata": {},
   "source": [
    "### 3. Control Flow A: Iterating in Python"
   ]
  },
  {
   "attachments": {},
   "cell_type": "markdown",
   "metadata": {},
   "source": [
    "We will first grab some values from `data_set` and turn them into a list."
   ]
  },
  {
   "cell_type": "code",
   "execution_count": 5,
   "metadata": {},
   "outputs": [
    {
     "name": "stdout",
     "output_type": "stream",
     "text": [
      "[24.0, 21.6, 34.7, 33.4, 36.2, 28.7, 22.9, 27.1, 16.5, 18.9, 15.0, 18.9, 21.7, 20.4, 18.2, 19.9, 23.1, 17.5, 20.2, 18.2]\n"
     ]
    }
   ],
   "source": [
    "my_data = data_set['medv'][0:20]\n",
    "my_data = list(my_data)\n",
    "print(my_data)"
   ]
  },
  {
   "attachments": {},
   "cell_type": "markdown",
   "metadata": {},
   "source": [
    "Task: check if the rounded values in `my_data` are even or not; print the result for each member of `my_data`."
   ]
  },
  {
   "cell_type": "code",
   "execution_count": 6,
   "metadata": {},
   "outputs": [
    {
     "name": "stdout",
     "output_type": "stream",
     "text": [
      "Rounded 24.0 is even.\n",
      "Rounded 21.6 is even.\n",
      "Rounded 34.7 is odd.\n",
      "Rounded 33.4 is odd.\n",
      "Rounded 36.2 is even.\n",
      "Rounded 28.7 is odd.\n",
      "Rounded 22.9 is odd.\n",
      "Rounded 27.1 is odd.\n",
      "Rounded 16.5 is even.\n",
      "Rounded 18.9 is odd.\n",
      "Rounded 15.0 is odd.\n",
      "Rounded 18.9 is odd.\n",
      "Rounded 21.7 is even.\n",
      "Rounded 20.4 is even.\n",
      "Rounded 18.2 is even.\n",
      "Rounded 19.9 is even.\n",
      "Rounded 23.1 is odd.\n",
      "Rounded 17.5 is even.\n",
      "Rounded 20.2 is even.\n",
      "Rounded 18.2 is even.\n"
     ]
    }
   ],
   "source": [
    "for number in my_data:\n",
    "    if round(number) % 2 == 0:\n",
    "        print('Rounded ' + str(number) + ' is even.')\n",
    "    else:\n",
    "        print('Rounded ' + str(number) + ' is odd.')"
   ]
  },
  {
   "attachments": {},
   "cell_type": "markdown",
   "metadata": {},
   "source": [
    "**Iterables** in Python: an iterable is an object that can return its elements one by one.\n",
    "\n",
    "**Sequences** in Pythin are iterbales: **lists**, **strings**, and **tuples**."
   ]
  },
  {
   "cell_type": "code",
   "execution_count": 7,
   "metadata": {},
   "outputs": [
    {
     "name": "stdout",
     "output_type": "stream",
     "text": [
      "<class 'int'>\n",
      "<class 'int'>\n",
      "<class 'str'>\n",
      "<class 'int'>\n",
      "<class 'int'>\n",
      "<class 'str'>\n",
      "<class 'int'>\n",
      "<class 'int'>\n",
      "<class 'str'>\n"
     ]
    }
   ],
   "source": [
    "my_data = (1, 2, '3', 4, 5, '7', 8, 9, '10')\n",
    "for d in my_data:\n",
    "    print(type(d))"
   ]
  },
  {
   "cell_type": "code",
   "execution_count": 8,
   "metadata": {},
   "outputs": [
    {
     "name": "stdout",
     "output_type": "stream",
     "text": [
      "B\n",
      "e\n",
      "l\n",
      "g\n",
      "r\n",
      "a\n",
      "d\n",
      "e\n",
      "r\n"
     ]
    }
   ],
   "source": [
    "my_data = \"Belgrader\"\n",
    "for letter in my_data:\n",
    "    print(letter)"
   ]
  },
  {
   "attachments": {},
   "cell_type": "markdown",
   "metadata": {},
   "source": [
    "**Dictionaries** are **iterables** but **not sequences**."
   ]
  },
  {
   "cell_type": "code",
   "execution_count": 9,
   "metadata": {},
   "outputs": [
    {
     "name": "stdout",
     "output_type": "stream",
     "text": [
      "a\n",
      "b\n",
      "c\n",
      "d\n",
      "e\n",
      "f\n"
     ]
    }
   ],
   "source": [
    "my_data = {'a':1,\n",
    "           'b':2,\n",
    "           'c':3,\n",
    "           'd':4,\n",
    "           'e':5,\n",
    "           'f':6}\n",
    "for item in my_data:\n",
    "    print(item)"
   ]
  },
  {
   "attachments": {},
   "cell_type": "markdown",
   "metadata": {},
   "source": [
    "**Keys only.** What about:"
   ]
  },
  {
   "cell_type": "code",
   "execution_count": 10,
   "metadata": {},
   "outputs": [
    {
     "name": "stdout",
     "output_type": "stream",
     "text": [
      "1\n",
      "2\n",
      "3\n",
      "4\n",
      "5\n",
      "6\n"
     ]
    }
   ],
   "source": [
    "for item in my_data.values():\n",
    "    print(item)"
   ]
  },
  {
   "attachments": {},
   "cell_type": "markdown",
   "metadata": {},
   "source": [
    "And we can also do something like this:"
   ]
  },
  {
   "cell_type": "code",
   "execution_count": 11,
   "metadata": {},
   "outputs": [
    {
     "name": "stdout",
     "output_type": "stream",
     "text": [
      "When a then 1\n",
      "When b then 2\n",
      "When c then 3\n",
      "When d then 4\n",
      "When e then 5\n",
      "When f then 6\n"
     ]
    }
   ],
   "source": [
    "for key in my_data:\n",
    "    print('When ' + key + ' then ' + str(my_data[key]))"
   ]
  },
  {
   "attachments": {},
   "cell_type": "markdown",
   "metadata": {},
   "source": [
    "Or:"
   ]
  },
  {
   "cell_type": "code",
   "execution_count": 12,
   "metadata": {},
   "outputs": [
    {
     "name": "stdout",
     "output_type": "stream",
     "text": [
      "When a then 1\n",
      "When b then 2\n",
      "When c then 3\n",
      "When d then 4\n",
      "When e then 5\n",
      "When f then 6\n"
     ]
    }
   ],
   "source": [
    "for kv in my_data.items():\n",
    "    key, value = kv\n",
    "    print('When ' + key + ' then ' + str(my_data[key]))"
   ]
  },
  {
   "attachments": {},
   "cell_type": "markdown",
   "metadata": {},
   "source": [
    "But also, unpacking `my_data.items()` before entering the loop:"
   ]
  },
  {
   "cell_type": "code",
   "execution_count": 13,
   "metadata": {},
   "outputs": [
    {
     "name": "stdout",
     "output_type": "stream",
     "text": [
      "When a then 1\n",
      "When b then 2\n",
      "When c then 3\n",
      "When d then 4\n",
      "When e then 5\n",
      "When f then 6\n"
     ]
    }
   ],
   "source": [
    "for key, value in my_data.items():\n",
    "    print('When ' + key + ' then ' + str(my_data[key]))"
   ]
  },
  {
   "attachments": {},
   "cell_type": "markdown",
   "metadata": {},
   "source": [
    "Let's apply a 20% discount to all prices in `data_set['medv']!"
   ]
  },
  {
   "cell_type": "code",
   "execution_count": 14,
   "metadata": {},
   "outputs": [
    {
     "name": "stdout",
     "output_type": "stream",
     "text": [
      "Original prices:\n",
      "[24.0, 21.6, 34.7, 33.4, 36.2, 28.7, 22.9, 27.1, 16.5, 18.9, 15.0, 18.9, 21.7, 20.4, 18.2, 19.9, 23.1, 17.5, 20.2, 18.2]\n",
      "Discounted prices (20%):\n",
      "[19.2, 17.28, 27.76, 26.72, 28.96, 22.96, 18.32, 21.68, 13.2, 15.12, 12.0, 15.12, 17.36, 16.32, 14.56, 15.92, 18.48, 14.0, 16.16, 14.56]\n"
     ]
    }
   ],
   "source": [
    "print(\"Original prices:\")\n",
    "print(list(data_set['medv'][0:20]))\n",
    "medv_discount = list(data_set['medv'])\n",
    "for price in range(len(medv_discount)):\n",
    "    medv_discount[price] = round(medv_discount[price] - .2*medv_discount[price],2)\n",
    "print(\"Discounted prices (20%):\")\n",
    "print(medv_discount[0:20])"
   ]
  },
  {
   "attachments": {},
   "cell_type": "markdown",
   "metadata": {},
   "source": [
    "What is this: `range(len(medv_discount))`?"
   ]
  },
  {
   "cell_type": "code",
   "execution_count": 15,
   "metadata": {},
   "outputs": [
    {
     "data": {
      "text/plain": [
       "range(0, 506)"
      ]
     },
     "execution_count": 15,
     "metadata": {},
     "output_type": "execute_result"
    }
   ],
   "source": [
    "range(len(medv_discount))"
   ]
  },
  {
   "cell_type": "code",
   "execution_count": 16,
   "metadata": {},
   "outputs": [
    {
     "data": {
      "text/plain": [
       "[5, 6, 7, 8, 9, 10, 11, 12, 13, 14]"
      ]
     },
     "execution_count": 16,
     "metadata": {},
     "output_type": "execute_result"
    }
   ],
   "source": [
    "list(range(5, 15))"
   ]
  },
  {
   "cell_type": "code",
   "execution_count": 17,
   "metadata": {},
   "outputs": [
    {
     "name": "stdout",
     "output_type": "stream",
     "text": [
      "[0, 1, 2, 3, 4, 5, 6, 7, 8, 9, 10, 11, 12, 13, 14, 15, 16, 17, 18, 19, 20, 21, 22, 23, 24, 25, 26, 27, 28, 29, 30, 31, 32, 33, 34, 35, 36, 37, 38, 39, 40, 41, 42, 43, 44, 45, 46, 47, 48, 49, 50, 51, 52, 53, 54, 55, 56, 57, 58, 59, 60, 61, 62, 63, 64, 65, 66, 67, 68, 69, 70, 71, 72, 73, 74, 75, 76, 77, 78, 79, 80, 81, 82, 83, 84, 85, 86, 87, 88, 89, 90, 91, 92, 93, 94, 95, 96, 97, 98, 99, 100, 101, 102, 103, 104, 105, 106, 107, 108, 109, 110, 111, 112, 113, 114, 115, 116, 117, 118, 119, 120, 121, 122, 123, 124, 125, 126, 127, 128, 129, 130, 131, 132, 133, 134, 135, 136, 137, 138, 139, 140, 141, 142, 143, 144, 145, 146, 147, 148, 149, 150, 151, 152, 153, 154, 155, 156, 157, 158, 159, 160, 161, 162, 163, 164, 165, 166, 167, 168, 169, 170, 171, 172, 173, 174, 175, 176, 177, 178, 179, 180, 181, 182, 183, 184, 185, 186, 187, 188, 189, 190, 191, 192, 193, 194, 195, 196, 197, 198, 199, 200, 201, 202, 203, 204, 205, 206, 207, 208, 209, 210, 211, 212, 213, 214, 215, 216, 217, 218, 219, 220, 221, 222, 223, 224, 225, 226, 227, 228, 229, 230, 231, 232, 233, 234, 235, 236, 237, 238, 239, 240, 241, 242, 243, 244, 245, 246, 247, 248, 249, 250, 251, 252, 253, 254, 255, 256, 257, 258, 259, 260, 261, 262, 263, 264, 265, 266, 267, 268, 269, 270, 271, 272, 273, 274, 275, 276, 277, 278, 279, 280, 281, 282, 283, 284, 285, 286, 287, 288, 289, 290, 291, 292, 293, 294, 295, 296, 297, 298, 299, 300, 301, 302, 303, 304, 305, 306, 307, 308, 309, 310, 311, 312, 313, 314, 315, 316, 317, 318, 319, 320, 321, 322, 323, 324, 325, 326, 327, 328, 329, 330, 331, 332, 333, 334, 335, 336, 337, 338, 339, 340, 341, 342, 343, 344, 345, 346, 347, 348, 349, 350, 351, 352, 353, 354, 355, 356, 357, 358, 359, 360, 361, 362, 363, 364, 365, 366, 367, 368, 369, 370, 371, 372, 373, 374, 375, 376, 377, 378, 379, 380, 381, 382, 383, 384, 385, 386, 387, 388, 389, 390, 391, 392, 393, 394, 395, 396, 397, 398, 399, 400, 401, 402, 403, 404, 405, 406, 407, 408, 409, 410, 411, 412, 413, 414, 415, 416, 417, 418, 419, 420, 421, 422, 423, 424, 425, 426, 427, 428, 429, 430, 431, 432, 433, 434, 435, 436, 437, 438, 439, 440, 441, 442, 443, 444, 445, 446, 447, 448, 449, 450, 451, 452, 453, 454, 455, 456, 457, 458, 459, 460, 461, 462, 463, 464, 465, 466, 467, 468, 469, 470, 471, 472, 473, 474, 475, 476, 477, 478, 479, 480, 481, 482, 483, 484, 485, 486, 487, 488, 489, 490, 491, 492, 493, 494, 495, 496, 497, 498, 499, 500, 501, 502, 503, 504, 505]\n"
     ]
    }
   ],
   "source": [
    "print(list(range(len(medv_discount))))"
   ]
  },
  {
   "attachments": {},
   "cell_type": "markdown",
   "metadata": {},
   "source": [
    "Now, **this is interestening:**"
   ]
  },
  {
   "cell_type": "code",
   "execution_count": 18,
   "metadata": {},
   "outputs": [
    {
     "name": "stdout",
     "output_type": "stream",
     "text": [
      "Original prices:\n",
      "[24.0, 21.6, 34.7, 33.4, 36.2, 28.7, 22.9, 27.1, 16.5, 18.9, 15.0, 18.9, 21.7, 20.4, 18.2, 19.9, 23.1, 17.5, 20.2, 18.2]\n",
      "Discounted prices (20%):\n",
      "[19.2, 17.28, 27.76, 26.72, 28.96, 22.96, 18.32, 21.68, 13.2, 15.12, 12.0, 15.12, 17.36, 16.32, 14.56, 15.92, 18.48, 14.0, 16.16, 14.56]\n"
     ]
    }
   ],
   "source": [
    "medv = list(data_set['medv'])\n",
    "\n",
    "# - list comprehension:\n",
    "medv_discount = [round(x-.2*x,2) for x in medv]\n",
    "\n",
    "print(\"Original prices:\")\n",
    "print(list(data_set['medv'][0:20]))\n",
    "print(\"Discounted prices (20%):\")\n",
    "print(medv_discount[0:20])"
   ]
  },
  {
   "attachments": {},
   "cell_type": "markdown",
   "metadata": {},
   "source": [
    "This ^^ is called: **a list comprehension**. It is a superpowerfull way of expressing iterations in Python!"
   ]
  },
  {
   "cell_type": "code",
   "execution_count": 19,
   "metadata": {},
   "outputs": [
    {
     "data": {
      "text/plain": [
       "['B', 'N', 'M', 'L', 'N', 'T']"
      ]
     },
     "execution_count": 19,
     "metadata": {},
     "output_type": "execute_result"
    }
   ],
   "source": [
    "my_list = ['Belgrade', 'New York', 'Moscow', 'London', 'New Delhi', 'Tokyo']\n",
    "[x[0] for x in my_list]"
   ]
  },
  {
   "cell_type": "code",
   "execution_count": 20,
   "metadata": {},
   "outputs": [
    {
     "data": {
      "text/plain": [
       "[1, 4, 9, 16, 25, 36, 49, 64, 81, 100]"
      ]
     },
     "execution_count": 20,
     "metadata": {},
     "output_type": "execute_result"
    }
   ],
   "source": [
    "my_list = [1, 2, 3, 4, 5, 6, 7, 8, 9 , 10]\n",
    "[x**2 for x in my_list]"
   ]
  },
  {
   "cell_type": "code",
   "execution_count": 21,
   "metadata": {},
   "outputs": [
    {
     "data": {
      "text/plain": [
       "['A:A', 'A:A', 'A:A', 'B:B', 'B:B', 'B:B', 'C:C', 'C:C', 'C:C']"
      ]
     },
     "execution_count": 21,
     "metadata": {},
     "output_type": "execute_result"
    }
   ],
   "source": [
    "l_1 = ['A', 'B', 'C']\n",
    "l_2 = ['X', 'Y', 'Z']\n",
    "[el1 + ':' + el1 for el1 in l_1 for el2 in l_2]"
   ]
  },
  {
   "cell_type": "code",
   "execution_count": 22,
   "metadata": {},
   "outputs": [
    {
     "data": {
      "text/plain": [
       "[('A', 'X'),\n",
       " ('A', 'Y'),\n",
       " ('A', 'Z'),\n",
       " ('B', 'X'),\n",
       " ('B', 'Y'),\n",
       " ('B', 'Z'),\n",
       " ('C', 'X'),\n",
       " ('C', 'Y'),\n",
       " ('C', 'Z')]"
      ]
     },
     "execution_count": 22,
     "metadata": {},
     "output_type": "execute_result"
    }
   ],
   "source": [
    "l_1 = ['A', 'B', 'C']\n",
    "l_2 = ['X', 'Y', 'Z']\n",
    "[(el1, el2) for el1 in l_1 for el2 in l_2]"
   ]
  },
  {
   "attachments": {},
   "cell_type": "markdown",
   "metadata": {},
   "source": [
    "And now for a bit more complicated expression..."
   ]
  },
  {
   "cell_type": "code",
   "execution_count": 23,
   "metadata": {},
   "outputs": [
    {
     "data": {
      "text/plain": [
       "['1 is odd.',\n",
       " '2 is even.',\n",
       " '3 is odd.',\n",
       " '4 is even.',\n",
       " '5 is odd.',\n",
       " '6 is even.',\n",
       " '7 is odd.',\n",
       " '8 is even.',\n",
       " '9 is odd.',\n",
       " '10 is even.']"
      ]
     },
     "execution_count": 23,
     "metadata": {},
     "output_type": "execute_result"
    }
   ],
   "source": [
    "l_1 = [1, 2, 3, 4, 5, 6, 7, 8, 9, 10]\n",
    "[str(x) + ' is even.' if x % 2 == 0 else str(x) + ' is odd.' for x in l_1]"
   ]
  },
  {
   "attachments": {},
   "cell_type": "markdown",
   "metadata": {},
   "source": [
    "What did I forgot? Ah, the `while` loop!"
   ]
  },
  {
   "cell_type": "code",
   "execution_count": 35,
   "metadata": {},
   "outputs": [
    {
     "name": "stdout",
     "output_type": "stream",
     "text": [
      "[2, 4, 6, 8, 10, 12, 14, 16, 18, 20, 22, 24, 26, 28, 30, 32, 34, 36, 38, 40, 42, 44, 46, 48, 50, 52, 54, 56, 58, 60, 62, 64, 66, 68, 70, 72, 74, 76, 78, 80, 82, 84, 86, 88, 90, 92, 94, 96, 98]\n"
     ]
    }
   ],
   "source": [
    "l = list()\n",
    "x = 1\n",
    "while x < 100:\n",
    "  if x % 2 == 0:\n",
    "    l.append(x)\n",
    "  x += 1\n",
    "print(l)"
   ]
  },
  {
   "attachments": {},
   "cell_type": "markdown",
   "metadata": {},
   "source": [
    "`break` statements in loops:"
   ]
  },
  {
   "cell_type": "code",
   "execution_count": null,
   "metadata": {},
   "outputs": [],
   "source": []
  },
  {
   "attachments": {},
   "cell_type": "markdown",
   "metadata": {},
   "source": [
    "### Control Flow C: Decisions in Python"
   ]
  },
  {
   "attachments": {},
   "cell_type": "markdown",
   "metadata": {},
   "source": [
    "Oh... we are using `if` and `else` again without telling you about them. It is really simple:"
   ]
  },
  {
   "cell_type": "code",
   "execution_count": 24,
   "metadata": {},
   "outputs": [
    {
     "name": "stdout",
     "output_type": "stream",
     "text": [
      "x is definitely 10.\n"
     ]
    }
   ],
   "source": [
    "x = 10\n",
    "if x**2 == 100:\n",
    "    print(\"x is definitely 10.\")\n",
    "else:\n",
    "    print(\"It is  definitely not 10.\")"
   ]
  },
  {
   "cell_type": "code",
   "execution_count": 25,
   "metadata": {},
   "outputs": [
    {
     "data": {
      "text/plain": [
       "[False, True, False, False, True]"
      ]
     },
     "execution_count": 25,
     "metadata": {},
     "output_type": "execute_result"
    }
   ],
   "source": [
    "def is_something_ten(x):\n",
    "    if x**2 == 100:\n",
    "        return(True)\n",
    "    else:\n",
    "        return(False)\n",
    "l_1 = [1, 10, 20, 4, 10]\n",
    "[is_something_ten(x) for x in l_1]"
   ]
  },
  {
   "attachments": {},
   "cell_type": "markdown",
   "metadata": {},
   "source": [
    "Nicer:"
   ]
  },
  {
   "cell_type": "code",
   "execution_count": 26,
   "metadata": {},
   "outputs": [
    {
     "data": {
      "text/plain": [
       "['1 is  not 10!', '10 is 10!', '20 is  not 10!', '4 is  not 10!', '10 is 10!']"
      ]
     },
     "execution_count": 26,
     "metadata": {},
     "output_type": "execute_result"
    }
   ],
   "source": [
    "def is_something_ten(x):\n",
    "    if x**2 == 100:\n",
    "        return(True)\n",
    "    else:\n",
    "        return(False)\n",
    "l_1 = [1, 10, 20, 4, 10]\n",
    "[str(x) + ' is 10!' if is_something_ten(x) else str(x) + ' is  not 10!' for x in l_1]"
   ]
  },
  {
   "attachments": {},
   "cell_type": "markdown",
   "metadata": {},
   "source": [
    "We can also branch our `if` statements with `elif`:"
   ]
  },
  {
   "cell_type": "code",
   "execution_count": 27,
   "metadata": {},
   "outputs": [
    {
     "name": "stdout",
     "output_type": "stream",
     "text": [
      "Ok it is less than 20, now... \n"
     ]
    }
   ],
   "source": [
    "x = 10\n",
    "if x < 20:\n",
    "    print('Ok it is less than 20, now... ')\n",
    "elif x > 30:\n",
    "    print('Ok it is not larger than 30.')\n",
    "else:\n",
    "    print('This is strange!')"
   ]
  },
  {
   "cell_type": "code",
   "execution_count": 29,
   "metadata": {},
   "outputs": [
    {
     "name": "stdout",
     "output_type": "stream",
     "text": [
      "It's between 20 and 30!\n"
     ]
    }
   ],
   "source": [
    "x = 25\n",
    "if x < 20:\n",
    "    print('Ok it is less than 20, now... ')\n",
    "elif x > 30:\n",
    "    print('Ok it is not larger than 30.')\n",
    "else:\n",
    "    print('It\\'s between 20 and 30!')"
   ]
  },
  {
   "cell_type": "code",
   "execution_count": 30,
   "metadata": {},
   "outputs": [
    {
     "name": "stdout",
     "output_type": "stream",
     "text": [
      "Ok it is not larger than 30.\n"
     ]
    }
   ],
   "source": [
    "x = 31\n",
    "if x < 20:\n",
    "    print('Ok it is less than 20, now... ')\n",
    "elif x > 30:\n",
    "    print('Ok it is not larger than 30.')\n",
    "else:\n",
    "    print('It\\'s between 20 and 30!')"
   ]
  },
  {
   "attachments": {},
   "cell_type": "markdown",
   "metadata": {},
   "source": [
    "`if` statements can be nested of course:"
   ]
  },
  {
   "cell_type": "code",
   "execution_count": 31,
   "metadata": {},
   "outputs": [
    {
     "name": "stdout",
     "output_type": "stream",
     "text": [
      "Ok it is less than 20, now... \n",
      "But not less than 18... \n"
     ]
    }
   ],
   "source": [
    "x = 19\n",
    "if x < 20:\n",
    "    print('Ok it is less than 20, now... ')\n",
    "    if x < 18:\n",
    "        print('And it is less than 18 too... ')\n",
    "    else:\n",
    "        print('But not less than 18... ')\n",
    "elif x > 30:\n",
    "    print('Ok it is not larger than 30.')\n",
    "else:\n",
    "    print('It\\'s between 20 and 30!')"
   ]
  },
  {
   "attachments": {},
   "cell_type": "markdown",
   "metadata": {},
   "source": [
    "Did I fo"
   ]
  },
  {
   "attachments": {},
   "cell_type": "markdown",
   "metadata": {},
   "source": [
    "### Readings and Videos\n",
    "- [Bill Lubanovic, Introducing Python, 1st Edition](https://www.oreilly.com/library/view/introducing-python-2nd/9781492051374/), Chapters 1 - 3.\n",
    "- [freeCodeCamp.org Intermediate Python Programming Course](https://www.youtube.com/watch?v=HGOBQPFzWKo), Sections 1 - 4 (Lists, Tuples, Dictionaries, Sets)"
   ]
  },
  {
   "attachments": {},
   "cell_type": "markdown",
   "metadata": {},
   "source": [
    "### A highly recommended To Do\n",
    "- Watch [Complete Python Pandas Data Science Tutorial! (Reading CSV/Excel files, Sorting, Filtering, Groupby)](https://www.youtube.com/watch?v=vmEHCJofslg)\n",
    "- Watch [Python NumPy Tutorial for Beginners](https://www.youtube.com/watch?v=QUT1VHiLmmI)\n",
    "- Read chapter [Introduction to NumPy](https://jakevdp.github.io/PythonDataScienceHandbook/02.00-introduction-to-numpy.html) from [Python Data Science Handbook, Jake VanderPlas](https://jakevdp.github.io/PythonDataScienceHandbook/)"
   ]
  },
  {
   "cell_type": "markdown",
   "metadata": {},
   "source": [
    "<hr>"
   ]
  },
  {
   "attachments": {},
   "cell_type": "markdown",
   "metadata": {},
   "source": [
    "DataKolektiv, 2022/23.\n",
    "\n",
    "[hello@datakolektiv.com](mailto:goran.milovanovic@datakolektiv.com)\n",
    "\n",
    "![](../img/DK_Logo_100.png)"
   ]
  },
  {
   "cell_type": "markdown",
   "metadata": {},
   "source": [
    "<font size=1>License: [GPLv3](https://www.gnu.org/licenses/gpl-3.0.txt) This Notebook is free software: you can redistribute it and/or modify it under the terms of the GNU General Public License as published by the Free Software Foundation, either version 3 of the License, or (at your option) any later version. This Notebook is distributed in the hope that it will be useful, but WITHOUT ANY WARRANTY; without even the implied warranty of MERCHANTABILITY or FITNESS FOR A PARTICULAR PURPOSE. See the GNU General Public License for more details. You should have received a copy of the GNU General Public License along with this Notebook. If not, see http://www.gnu.org/licenses/.</font>"
   ]
  }
 ],
 "metadata": {
  "kernelspec": {
   "display_name": "dss00python2023",
   "language": "python",
   "name": "python3"
  },
  "language_info": {
   "codemirror_mode": {
    "name": "ipython",
    "version": 3
   },
   "file_extension": ".py",
   "mimetype": "text/x-python",
   "name": "python",
   "nbconvert_exporter": "python",
   "pygments_lexer": "ipython3",
   "version": "3.9.16"
  },
  "orig_nbformat": 4,
  "vscode": {
   "interpreter": {
    "hash": "1cd3978be751434017ac2cef9d5b4683bcdb1c1d31a8fa91ec8c7c13b7681774"
   }
  }
 },
 "nbformat": 4,
 "nbformat_minor": 2
}
