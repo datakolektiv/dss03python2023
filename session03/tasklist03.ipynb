{
 "cells": [
  {
   "cell_type": "markdown",
   "id": "6806444c",
   "metadata": {},
   "source": [
    "# DATA SCIENCE SESSIONS VOL. 3\n",
    "### A Foundational Python Data Science Course\n",
    "## TaskList 03: Control Flow, Functions\n",
    "[&larr; Back to course webpage](https://datakolektiv.com/)\n",
    "\n",
    "Feedback should be send to [goran.milovanovic@datakolektiv.com](mailto:goran.milovanovic@datakolektiv.com). \n",
    "\n",
    "These notebooks accompany the DATA SCIENCE SESSIONS VOL. 3 :: A Foundational Python Data Science Course."
   ]
  },
  {
   "cell_type": "markdown",
   "id": "2fa408a2",
   "metadata": {},
   "source": [
    "![](../img/IntroRDataScience_NonTech-1.jpg)"
   ]
  },
  {
   "cell_type": "markdown",
   "id": "31525cfb",
   "metadata": {},
   "source": [
    "### Lecturers\n",
    "\n",
    "[Goran S. Milovanović, PhD, DataKolektiv, Chief Scientist & Owner](https://www.linkedin.com/in/gmilovanovic/)\n",
    "\n",
    "[Aleksandar Cvetković, PhD, DataKolektiv, Consultant](https://www.linkedin.com/in/alegzndr/)\n",
    "\n",
    "[Ilija Lazarević, MA, DataKolektiv, Consultant](https://www.linkedin.com/in/ilijalazarevic/)"
   ]
  },
  {
   "cell_type": "markdown",
   "id": "bc46e873",
   "metadata": {},
   "source": [
    "![](../img/DK_Logo_100.png)"
   ]
  },
  {
   "cell_type": "markdown",
   "id": "11b19553",
   "metadata": {},
   "source": [
    "### Intro"
   ]
  },
  {
   "cell_type": "markdown",
   "id": "8551f6b1",
   "metadata": {},
   "source": [
    "In this TaskList, you'll get to revise and expand upon the concepts regarding the control flow you've learned about in Session03."
   ]
  },
  {
   "cell_type": "markdown",
   "id": "df58fd60",
   "metadata": {},
   "source": [
    "### if/else"
   ]
  },
  {
   "cell_type": "markdown",
   "id": "40f44ae6",
   "metadata": {},
   "source": [
    "**01.** One use of the `if/else` *statement* is to construct a function which asserts whether some property is true for a given variable. For example, the following function checks whether a given number is divisible by 3:"
   ]
  },
  {
   "cell_type": "code",
   "execution_count": 1,
   "id": "ca811766",
   "metadata": {},
   "outputs": [],
   "source": [
    "def is_div_by_3(x):\n",
    "    \n",
    "    if x % 3 == 0:\n",
    "        return True\n",
    "    \n",
    "    else:\n",
    "        return False"
   ]
  },
  {
   "cell_type": "code",
   "execution_count": 2,
   "id": "1b0ee744",
   "metadata": {},
   "outputs": [
    {
     "data": {
      "text/plain": [
       "True"
      ]
     },
     "execution_count": 2,
     "metadata": {},
     "output_type": "execute_result"
    }
   ],
   "source": [
    "is_div_by_3(18)"
   ]
  },
  {
   "cell_type": "code",
   "execution_count": 3,
   "id": "11314329",
   "metadata": {},
   "outputs": [
    {
     "data": {
      "text/plain": [
       "False"
      ]
     },
     "execution_count": 3,
     "metadata": {},
     "output_type": "execute_result"
    }
   ],
   "source": [
    "is_div_by_3(19)"
   ]
  },
  {
   "cell_type": "markdown",
   "id": "c4499761",
   "metadata": {},
   "source": [
    "There is, however, an equivalent (and more Pythonic) way of doing this, without actually using `if/else`:"
   ]
  },
  {
   "cell_type": "code",
   "execution_count": 4,
   "id": "0b5aee23",
   "metadata": {},
   "outputs": [],
   "source": [
    "def is_div_by_3_short(x):\n",
    "    return x % 3 == 0"
   ]
  },
  {
   "cell_type": "code",
   "execution_count": 5,
   "id": "47829751",
   "metadata": {},
   "outputs": [
    {
     "data": {
      "text/plain": [
       "True"
      ]
     },
     "execution_count": 5,
     "metadata": {},
     "output_type": "execute_result"
    }
   ],
   "source": [
    "is_div_by_3_short(15)"
   ]
  },
  {
   "cell_type": "code",
   "execution_count": 6,
   "id": "895df7e4",
   "metadata": {},
   "outputs": [
    {
     "data": {
      "text/plain": [
       "False"
      ]
     },
     "execution_count": 6,
     "metadata": {},
     "output_type": "execute_result"
    }
   ],
   "source": [
    "is_div_by_3_short(16)"
   ]
  },
  {
   "cell_type": "markdown",
   "id": "2222f02c",
   "metadata": {},
   "source": [
    "In this manner only a *truth value* of the *logical expression* `x % 3 == 0` is returned."
   ]
  },
  {
   "cell_type": "markdown",
   "id": "12b7bdf2",
   "metadata": {},
   "source": [
    "Now, using this approach construct a function which asserts whether a given number is smaller than 3."
   ]
  },
  {
   "cell_type": "code",
   "execution_count": null,
   "id": "fcdbc9fd",
   "metadata": {},
   "outputs": [],
   "source": [
    "## your code here ##"
   ]
  },
  {
   "cell_type": "markdown",
   "id": "a296b85c",
   "metadata": {},
   "source": [
    "Note that this approach only if we want to return some truth value; if we want to return something else, then using `if/else` is mandatory. For example:"
   ]
  },
  {
   "cell_type": "code",
   "execution_count": 7,
   "id": "b1b9c646",
   "metadata": {},
   "outputs": [],
   "source": [
    "def div_by_3(x):\n",
    "    \n",
    "    if x % 3 == 0:\n",
    "        return \"It's divisible by 3.\"\n",
    "    else:\n",
    "        return \"It is NOT divisible by 3.\""
   ]
  },
  {
   "cell_type": "markdown",
   "id": "36272619",
   "metadata": {},
   "source": [
    "Or, as a one-liner:"
   ]
  },
  {
   "cell_type": "code",
   "execution_count": 8,
   "id": "f1c6141c",
   "metadata": {},
   "outputs": [],
   "source": [
    "def div_by_3(x):\n",
    "    return \"It's divisible by 3.\" if x % 3 == 0 else \"It is NOT divisible by 3.\""
   ]
  },
  {
   "cell_type": "code",
   "execution_count": 9,
   "id": "11e387ca",
   "metadata": {},
   "outputs": [
    {
     "data": {
      "text/plain": [
       "'It is NOT divisible by 3.'"
      ]
     },
     "execution_count": 9,
     "metadata": {},
     "output_type": "execute_result"
    }
   ],
   "source": [
    "div_by_3(23)"
   ]
  },
  {
   "cell_type": "markdown",
   "id": "dd79a567",
   "metadata": {},
   "source": [
    "**02.** Aside from simple logical expressions such is `x % 3 == 0`, you may build more complex logical expressions using `and`, `or`, `not`, which are called *logical operators*. For example, logical expression \n",
    "\n",
    "`x % 2 == 0 and x x % 3 == 0`\n",
    "\n",
    "checks whether a given number is divisible by both 2 and 3 (i.e. by 6). "
   ]
  },
  {
   "cell_type": "markdown",
   "id": "9ab1776b",
   "metadata": {},
   "source": [
    "Now, using given logical operators, construct functions which for given two numbers assert if\n",
    "\n",
    "- at least one of them is negative\n",
    "- both of them are negative\n",
    "- first of them is non-negative"
   ]
  },
  {
   "cell_type": "code",
   "execution_count": null,
   "id": "02a6d1a9",
   "metadata": {},
   "outputs": [],
   "source": [
    "## your code here ##"
   ]
  },
  {
   "cell_type": "code",
   "execution_count": null,
   "id": "724a6f94",
   "metadata": {},
   "outputs": [],
   "source": [
    "## your code here ##"
   ]
  },
  {
   "cell_type": "code",
   "execution_count": null,
   "id": "20c1bea0",
   "metadata": {},
   "outputs": [],
   "source": [
    "## your code here ##"
   ]
  },
  {
   "cell_type": "markdown",
   "id": "0744a689",
   "metadata": {},
   "source": [
    "**03.** You may use `elif` in your `if/else` statement if you want to include several alternative conditions. \n",
    "\n",
    "Assume we have following sets:\n",
    "- A: set of all numbers lesser than -273.15\n",
    "- B: set of all number greater than 199.99\n",
    "- C: set of all numbers in the [0, 1] interval (including the endpoints)\n",
    "- D: set of all the other numbers.\n",
    "\n",
    "Using `if/elif/else` define a function `belongs_to` which takes a number as an input and prints out to which set this number belongs to. "
   ]
  },
  {
   "cell_type": "code",
   "execution_count": null,
   "id": "564cded1",
   "metadata": {},
   "outputs": [],
   "source": [
    "## your code here ##"
   ]
  },
  {
   "cell_type": "markdown",
   "id": "f4437fc7",
   "metadata": {},
   "source": [
    "### for Loops"
   ]
  },
  {
   "cell_type": "markdown",
   "id": "3c4335dd",
   "metadata": {},
   "source": [
    "**04.** `for` loops can be used to iterate through some *iterable*. For example, you can iterate through the list using indices of its elements:"
   ]
  },
  {
   "cell_type": "code",
   "execution_count": 10,
   "id": "012ed977",
   "metadata": {},
   "outputs": [
    {
     "name": "stdout",
     "output_type": "stream",
     "text": [
      "2\n",
      "3\n",
      "z\n",
      "(4, 'b')\n",
      "9\n"
     ]
    }
   ],
   "source": [
    "l = [2, 3, 'z', (4, 'b'), 9]\n",
    "\n",
    "for i in range(len(l)):\n",
    "    print(l[i])"
   ]
  },
  {
   "cell_type": "markdown",
   "id": "2c54a48b",
   "metadata": {},
   "source": [
    "Or, even simpler, you can iterate through the elements of the list themselves:"
   ]
  },
  {
   "cell_type": "code",
   "execution_count": 11,
   "id": "9604a679",
   "metadata": {},
   "outputs": [
    {
     "name": "stdout",
     "output_type": "stream",
     "text": [
      "2\n",
      "3\n",
      "z\n",
      "(4, 'b')\n",
      "9\n"
     ]
    }
   ],
   "source": [
    "for element in l:\n",
    "    print(element)"
   ]
  },
  {
   "cell_type": "markdown",
   "id": "c607713a",
   "metadata": {},
   "source": [
    "String is also an iterable. Use `for` loop to iterate through the string `'espresso'`, printing out its characters in upper case (use `upper()` string method). Use both ways to iterate through this string. "
   ]
  },
  {
   "cell_type": "code",
   "execution_count": null,
   "id": "5f6b112d",
   "metadata": {},
   "outputs": [],
   "source": [
    "## your code here ##"
   ]
  },
  {
   "cell_type": "code",
   "execution_count": null,
   "id": "e1f8e9f2",
   "metadata": {},
   "outputs": [],
   "source": [
    "## your code here ##"
   ]
  },
  {
   "cell_type": "markdown",
   "id": "cf3d153b",
   "metadata": {},
   "source": [
    "**05.** Should you need both the index and the element of some iterable, you can use `enumerate()` in the `for` loop. Example:"
   ]
  },
  {
   "cell_type": "code",
   "execution_count": 12,
   "id": "2e511c5c",
   "metadata": {},
   "outputs": [
    {
     "name": "stdout",
     "output_type": "stream",
     "text": [
      "2 is the element with index 0 in the given iterable.\n",
      "3 is the element with index 1 in the given iterable.\n",
      "z is the element with index 2 in the given iterable.\n",
      "(4, 'b') is the element with index 3 in the given iterable.\n",
      "9 is the element with index 4 in the given iterable.\n"
     ]
    }
   ],
   "source": [
    "for i, el in enumerate(l):\n",
    "    print(str(el) + ' is the element with index ' + str(i) + ' in the given iterable.')"
   ]
  },
  {
   "cell_type": "markdown",
   "id": "8210def5",
   "metadata": {},
   "source": [
    "Using the same approach, iterate through all the characters of the string `'burek'`."
   ]
  },
  {
   "cell_type": "code",
   "execution_count": 13,
   "id": "88913391",
   "metadata": {},
   "outputs": [],
   "source": [
    "## your code here ##"
   ]
  },
  {
   "cell_type": "markdown",
   "id": "6e70c032",
   "metadata": {},
   "source": [
    "**06.** `if` statement can be used in combination with `for` loop. Use this to print out only odd numbers from the given list."
   ]
  },
  {
   "cell_type": "code",
   "execution_count": null,
   "id": "56ba24dd",
   "metadata": {},
   "outputs": [],
   "source": [
    "l_06 = [5, 7, 2, 11, 12, 33, 34, 53]\n",
    "\n",
    "## your code here ##"
   ]
  },
  {
   "cell_type": "markdown",
   "id": "fe55318d",
   "metadata": {},
   "source": [
    "### List Comprehension"
   ]
  },
  {
   "cell_type": "markdown",
   "id": "372b4e0c",
   "metadata": {},
   "source": [
    "**07.** `range()` is a function which returns a sequence of numbers from given parameters. \n",
    "\n",
    "`range(n)` creates a sequence of numbers from 0 to $n-1$:"
   ]
  },
  {
   "cell_type": "code",
   "execution_count": 14,
   "id": "87a5e83c",
   "metadata": {},
   "outputs": [
    {
     "data": {
      "text/plain": [
       "range(0, 11)"
      ]
     },
     "execution_count": 14,
     "metadata": {},
     "output_type": "execute_result"
    }
   ],
   "source": [
    "range(11)"
   ]
  },
  {
   "cell_type": "markdown",
   "id": "85fcc106",
   "metadata": {},
   "source": [
    "This sequence can easily be *cast* into a list:"
   ]
  },
  {
   "cell_type": "code",
   "execution_count": 15,
   "id": "4dc85668",
   "metadata": {},
   "outputs": [
    {
     "data": {
      "text/plain": [
       "[0, 1, 2, 3, 4, 5, 6, 7, 8, 9, 10]"
      ]
     },
     "execution_count": 15,
     "metadata": {},
     "output_type": "execute_result"
    }
   ],
   "source": [
    "list(range(11))"
   ]
  },
  {
   "cell_type": "markdown",
   "id": "7e701a2d",
   "metadata": {},
   "source": [
    "You can use `range()` to easily generate a list of, say, all the numbers between 7 and 23:"
   ]
  },
  {
   "cell_type": "code",
   "execution_count": 16,
   "id": "748fd0d1",
   "metadata": {},
   "outputs": [
    {
     "data": {
      "text/plain": [
       "[7, 8, 9, 10, 11, 12, 13, 14, 15, 16, 17, 18, 19, 20, 21, 22, 23]"
      ]
     },
     "execution_count": 16,
     "metadata": {},
     "output_type": "execute_result"
    }
   ],
   "source": [
    "list(range(7, 24))"
   ]
  },
  {
   "cell_type": "markdown",
   "id": "4516729a",
   "metadata": {},
   "source": [
    "Or, to generate a list of every 4th number between 7 and 23:"
   ]
  },
  {
   "cell_type": "code",
   "execution_count": 17,
   "id": "e87c7d04",
   "metadata": {},
   "outputs": [
    {
     "data": {
      "text/plain": [
       "[7, 11, 15, 19, 23]"
      ]
     },
     "execution_count": 17,
     "metadata": {},
     "output_type": "execute_result"
    }
   ],
   "source": [
    "list(range(7, 24, 4))"
   ]
  },
  {
   "cell_type": "markdown",
   "id": "ec7aa2dc",
   "metadata": {},
   "source": [
    "Now, using `range()` function generate a list of all even numbers between 1 and 8."
   ]
  },
  {
   "cell_type": "code",
   "execution_count": null,
   "id": "fd409c75",
   "metadata": {},
   "outputs": [],
   "source": [
    "## your code here ##"
   ]
  },
  {
   "cell_type": "markdown",
   "id": "a12b7988",
   "metadata": {},
   "source": [
    "**08.** *List comprehension* is a way to generate a list from an iterable, given some rules. For example, you can make a list of all the characters from the string `'Niš'`:"
   ]
  },
  {
   "cell_type": "code",
   "execution_count": 18,
   "id": "deffcbd0",
   "metadata": {},
   "outputs": [
    {
     "data": {
      "text/plain": [
       "['N', 'i', 'š']"
      ]
     },
     "execution_count": 18,
     "metadata": {},
     "output_type": "execute_result"
    }
   ],
   "source": [
    "[char for char in 'Niš']"
   ]
  },
  {
   "cell_type": "markdown",
   "id": "0183e94c",
   "metadata": {},
   "source": [
    "Now, use list comprehension to make a list of all the characters of the string `'JABUKA'` but in lower case."
   ]
  },
  {
   "cell_type": "code",
   "execution_count": null,
   "id": "649f8de0",
   "metadata": {},
   "outputs": [],
   "source": [
    "## your code here ##"
   ]
  },
  {
   "cell_type": "markdown",
   "id": "ac5581a6",
   "metadata": {},
   "source": [
    "**09.** `range()` is very convenient to use with list comprehension. This gives a list of cubes of all the numbers between 123 and 130:"
   ]
  },
  {
   "cell_type": "code",
   "execution_count": 19,
   "id": "ca3e04e9",
   "metadata": {},
   "outputs": [
    {
     "data": {
      "text/plain": [
       "[1860867, 1906624, 1953125, 2000376, 2048383, 2097152, 2146689, 2197000]"
      ]
     },
     "execution_count": 19,
     "metadata": {},
     "output_type": "execute_result"
    }
   ],
   "source": [
    "[num**3 for num in range(123, 131)]"
   ]
  },
  {
   "cell_type": "markdown",
   "id": "ce417c13",
   "metadata": {},
   "source": [
    "Create a list containing a negative value of every third number in the range between 15 and 45. "
   ]
  },
  {
   "cell_type": "code",
   "execution_count": null,
   "id": "5d0310a0",
   "metadata": {},
   "outputs": [],
   "source": [
    "## your code here ##"
   ]
  },
  {
   "cell_type": "markdown",
   "id": "0de958b1",
   "metadata": {},
   "source": [
    "**10.** `if` (and `else`) are quite commonly used in list comprehension. Examples (carefully note the syntax differences between the two): "
   ]
  },
  {
   "cell_type": "code",
   "execution_count": 20,
   "id": "3ac55e90",
   "metadata": {},
   "outputs": [
    {
     "data": {
      "text/plain": [
       "['N', 'B', 'G']"
      ]
     },
     "execution_count": 20,
     "metadata": {},
     "output_type": "execute_result"
    }
   ],
   "source": [
    "[char for char in 'Novi BeoGrad' if char.isupper()]"
   ]
  },
  {
   "cell_type": "code",
   "execution_count": 21,
   "id": "a193d3ef",
   "metadata": {},
   "outputs": [
    {
     "data": {
      "text/plain": [
       "['n', 'O', 'V', 'I', ' ', 'b', 'E', 'O', 'g', 'R', 'A', 'D']"
      ]
     },
     "execution_count": 21,
     "metadata": {},
     "output_type": "execute_result"
    }
   ],
   "source": [
    "[char.upper() if char.islower() else char.lower() for char in 'Novi BeoGrad']"
   ]
  },
  {
   "cell_type": "markdown",
   "id": "3f9fc5fe",
   "metadata": {},
   "source": [
    "**a)** Reproduce the result of task in **09**, but this time using `if` in list comprehension."
   ]
  },
  {
   "cell_type": "code",
   "execution_count": null,
   "id": "188a8f14",
   "metadata": {},
   "outputs": [],
   "source": [
    "## your code here ##"
   ]
  },
  {
   "cell_type": "markdown",
   "id": "eaac61ac",
   "metadata": {},
   "source": [
    "**b)** Make a list of all (natural) numbers between 5 and 15, where every two-digit number is reduced by 20. "
   ]
  },
  {
   "cell_type": "code",
   "execution_count": null,
   "id": "9113d419",
   "metadata": {},
   "outputs": [],
   "source": [
    "## your code here ##"
   ]
  },
  {
   "cell_type": "markdown",
   "id": "2af2e8c6",
   "metadata": {},
   "source": [
    "### while Loops"
   ]
  },
  {
   "cell_type": "markdown",
   "id": "895433b3",
   "metadata": {},
   "source": [
    "**11.** By default, a `while` loop will keep executing a block of code, untill *while condition* holds true. Example:"
   ]
  },
  {
   "cell_type": "code",
   "execution_count": 22,
   "id": "b6834773",
   "metadata": {},
   "outputs": [
    {
     "name": "stdout",
     "output_type": "stream",
     "text": [
      "5\n",
      "6\n",
      "7\n",
      "8\n",
      "9\n"
     ]
    }
   ],
   "source": [
    "x = 5\n",
    "\n",
    "while x <= 9:\n",
    "    print(x)\n",
    "    x += 1\n",
    "    "
   ]
  },
  {
   "cell_type": "markdown",
   "id": "948271de",
   "metadata": {},
   "source": [
    "Starting from $x=5$, the loop above keeps incrementing the value of $x$ by one, until we have $x=9$. Then, the loop increments the value of $x$ by one, violating the condition `x <= 9`, making the loop finish."
   ]
  },
  {
   "cell_type": "markdown",
   "id": "4cfe68aa",
   "metadata": {},
   "source": [
    "One should be careful with `while` loops as you might get stuck in an *infinite loop*. See that `x += 1` increment? Without this increment, while condition would never be violated, and we would be stuck in this `while` loop FOREVER... or at least until we *interrupt the kernel* (i.e. press the stop sign) in our notebook. \n",
    "\n",
    "We should be careful with the while conditions as well - changing the condition `while x >= 5` in the loop above would also render it infinite.  "
   ]
  },
  {
   "cell_type": "markdown",
   "id": "7bfce3bb",
   "metadata": {},
   "source": [
    "*Hint*: `while True` is the easiest way to make an infinite `while` loop."
   ]
  },
  {
   "cell_type": "markdown",
   "id": "c10221e8",
   "metadata": {},
   "source": [
    "Now, write a `while` loop which starts from $x=6$, decrementing it by one in every iteration, until 0 is reached."
   ]
  },
  {
   "cell_type": "code",
   "execution_count": null,
   "id": "1c62f9f0",
   "metadata": {},
   "outputs": [],
   "source": [
    "## your code here ##"
   ]
  },
  {
   "cell_type": "markdown",
   "id": "1d558402",
   "metadata": {},
   "source": [
    "**12.** In the example above we defined something called *iterative procedure* which can be written as \n",
    "\n",
    "$$x_0 = 5$$\n",
    "$$x_{k+1} = x_k + 1,$$\n",
    "\n",
    "until we reach\n",
    "\n",
    "$$ x_k = 9. $$\n",
    "\n",
    "This reads: *starting from five, in every iteration, we increase value from the previous iteration by 1, until we reach 9.*"
   ]
  },
  {
   "cell_type": "markdown",
   "id": "61ebaa4b",
   "metadata": {},
   "source": [
    "Now, write a while loop performing the following iterative procedure:\n",
    "\n",
    "$$ x_0 = 1024 $$\n",
    "$$ x_{k+1} = \\frac{x_k}{2}, $$\n",
    "\n",
    "until we reach \n",
    "\n",
    "$$ x_k = 1. $$"
   ]
  },
  {
   "cell_type": "code",
   "execution_count": null,
   "id": "ca7ba188",
   "metadata": {},
   "outputs": [],
   "source": [
    "## your code here ##"
   ]
  },
  {
   "cell_type": "markdown",
   "id": "47c0d6f9",
   "metadata": {},
   "source": [
    "Why is this important? Iterative procedures are the essence of *Numerical Optimization* and \n",
    "\n",
    "$$ {\\rm No\\ Numerical\\ Optimization} \\Rightarrow {\\rm No\\ Machine\\ Learning}. $$"
   ]
  },
  {
   "cell_type": "markdown",
   "id": "07365428",
   "metadata": {},
   "source": [
    "We'll get to know about the Numerical Optimization later on in the course, but don't worry - we won't get to technical with it. Anyhow, `while` loops come quite handy when coding iterative procedures. "
   ]
  },
  {
   "cell_type": "markdown",
   "id": "ddb8c3cc",
   "metadata": {},
   "source": [
    "## break and continue"
   ]
  },
  {
   "cell_type": "markdown",
   "id": "fe2e2047",
   "metadata": {},
   "source": [
    "**13.** `break` and `continue` can be used in both `for` and `while` loops to influence their execution. `continue` skips an iteration, while `break` breaks (from) it. "
   ]
  },
  {
   "cell_type": "markdown",
   "id": "4003dafc",
   "metadata": {},
   "source": [
    "Use `while` loop to iterate through the list `l_13`, printing out every positive integer, skipping every float and stopping when it reaches negative integer. "
   ]
  },
  {
   "cell_type": "code",
   "execution_count": null,
   "id": "3c3c1a00",
   "metadata": {},
   "outputs": [],
   "source": [
    "l_13 = [1, 2, 3, 4.56, 7.89, 10, 11.12, 13, -14.15, 16, 17.18, -19, 20, 21.22, 23.24, -25, 26.27]\n",
    "\n",
    "## your code here ##"
   ]
  },
  {
   "cell_type": "markdown",
   "id": "fe3ad4b6",
   "metadata": {},
   "source": [
    "**14.** Even though `while True` might sound like a joke, it actually has its uses. Should you ever need to use this, don't forget to throw in `break`, i.e. set up a *stopping condition* to break from the agony of infinite repetitions.  \n",
    "\n",
    "First, think about what the following cell does, and then execute it."
   ]
  },
  {
   "cell_type": "code",
   "execution_count": null,
   "id": "ac151712",
   "metadata": {},
   "outputs": [],
   "source": [
    "x = 1\n",
    "while True:\n",
    "    \n",
    "    print(x)\n",
    "    x *= 2\n",
    "    \n",
    "    if x > 10**5:\n",
    "        break"
   ]
  },
  {
   "cell_type": "markdown",
   "id": "5ef3de13",
   "metadata": {},
   "source": [
    "DataKolektiv, 2022/23.\n",
    "\n",
    "[hello@datakolektiv.com](mailto:goran.milovanovic@datakolektiv.com)\n",
    "\n",
    "![](../img/DK_Logo_100.png)"
   ]
  },
  {
   "cell_type": "markdown",
   "id": "cc843d31",
   "metadata": {},
   "source": [
    "<font size=1>License: [GPLv3](https://www.gnu.org/licenses/gpl-3.0.txt) This Notebook is free software: you can redistribute it and/or modify it under the terms of the GNU General Public License as published by the Free Software Foundation, either version 3 of the License, or (at your option) any later version. This Notebook is distributed in the hope that it will be useful, but WITHOUT ANY WARRANTY; without even the implied warranty of MERCHANTABILITY or FITNESS FOR A PARTICULAR PURPOSE. See the GNU General Public License for more details. You should have received a copy of the GNU General Public License along with this Notebook. If not, see http://www.gnu.org/licenses/.</font>"
   ]
  }
 ],
 "metadata": {
  "kernelspec": {
   "display_name": "Python 3 (ipykernel)",
   "language": "python",
   "name": "python3"
  },
  "language_info": {
   "codemirror_mode": {
    "name": "ipython",
    "version": 3
   },
   "file_extension": ".py",
   "mimetype": "text/x-python",
   "name": "python",
   "nbconvert_exporter": "python",
   "pygments_lexer": "ipython3",
   "version": "3.9.13"
  }
 },
 "nbformat": 4,
 "nbformat_minor": 5
}
