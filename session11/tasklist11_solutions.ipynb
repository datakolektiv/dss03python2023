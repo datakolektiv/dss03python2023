{
 "cells": [
  {
   "cell_type": "markdown",
   "id": "67b65bdc",
   "metadata": {},
   "source": [
    "# DATA SCIENCE SESSIONS VOL. 3\n",
    "### A Foundational Python Data Science Course\n",
    "## Tasklist 11 Solutions: Conditional Probability. Multivariate Random Variables. Bias and Variance.\n",
    "\n",
    "[&larr; Back to course webpage](https://datakolektiv.com/)\n",
    "\n",
    "Feedback should be send to [goran.milovanovic@datakolektiv.com](mailto:goran.milovanovic@datakolektiv.com). \n",
    "\n",
    "These notebooks accompany the DATA SCIENCE SESSIONS VOL. 3 :: A Foundational Python Data Science Course."
   ]
  },
  {
   "cell_type": "markdown",
   "id": "aa4dbdf7",
   "metadata": {},
   "source": [
    "![](../img/IntroRDataScience_NonTech-1.jpg)"
   ]
  },
  {
   "cell_type": "markdown",
   "id": "e5e97431",
   "metadata": {},
   "source": [
    "### Lecturers\n",
    "\n",
    "[Goran S. Milovanović, PhD, DataKolektiv, Chief Scientist & Owner](https://www.linkedin.com/in/gmilovanovic/)\n",
    "\n",
    "[Aleksandar Cvetković, PhD, DataKolektiv, Consultant](https://www.linkedin.com/in/alegzndr/)\n",
    "\n",
    "[Ilija Lazarević, MA, DataKolektiv, Consultant](https://www.linkedin.com/in/ilijalazarevic/)"
   ]
  },
  {
   "cell_type": "markdown",
   "id": "2d9da7dd",
   "metadata": {},
   "source": [
    "![](../img/DK_Logo_100.png)"
   ]
  },
  {
   "cell_type": "markdown",
   "id": "f52c2322",
   "metadata": {},
   "source": [
    "***"
   ]
  },
  {
   "cell_type": "markdown",
   "id": "fc6f6683",
   "metadata": {},
   "source": [
    "### Intro \n",
    "\n",
    "The goal of this Tasklist is to consolidate Probability Theory formulas and concepts we talked about in Session11 by applying appropriate functions, calculations and visualizations in Python. Good luck!"
   ]
  },
  {
   "cell_type": "markdown",
   "id": "af1584f6",
   "metadata": {},
   "source": [
    "**01.** *Multinomial Distribution* is the generalization of the Binomial Distribution - it is used for experiments having three or more different outcomes, and it is used to calculate probabilities for a given count of these outcomes, in a given number of repetitions of the experiment. \n",
    "\n",
    "You are given two urns $A$ and $B$. Urn $A$ cotains blue, red and white balls in proportion of 8:1:1, while for urn $B$ they are in proportion 6:3:1. \n",
    "\n",
    "$$\\$$\n",
    "\n",
    "**a)** What's the probability of drawing 5 blue, 3 red and one white ball from urn $A$? What's the probability of drawing the same count of balls from urn $B$.\n",
    "\n",
    "*Hint:* Use `multinomial` from `scipy.stats` to solve this. The parameters for `multinomial` are `n` - number of repetitions of the experiment (i.e. the number of balls drawn) and `p` - a list of prpobabilities for each outcome (i.e. a probability for a ball of certain colour to be drawn from an urn)."
   ]
  },
  {
   "cell_type": "code",
   "execution_count": 1,
   "id": "356a64b8",
   "metadata": {},
   "outputs": [],
   "source": [
    "import scipy.stats\n",
    "from scipy.stats import multinomial"
   ]
  },
  {
   "cell_type": "code",
   "execution_count": 2,
   "id": "1eefd18b",
   "metadata": {},
   "outputs": [
    {
     "data": {
      "text/plain": [
       "0.016515072000000023"
      ]
     },
     "execution_count": 2,
     "metadata": {},
     "output_type": "execute_result"
    }
   ],
   "source": [
    "#the probability for urn A\n",
    "p_A = multinomial.pmf(x=[5, 3, 1], n=9, p=[.8, .1, .1])\n",
    "p_A"
   ]
  },
  {
   "cell_type": "code",
   "execution_count": 3,
   "id": "16070e57",
   "metadata": {},
   "outputs": [
    {
     "data": {
      "text/plain": [
       "0.10581580799999993"
      ]
     },
     "execution_count": 3,
     "metadata": {},
     "output_type": "execute_result"
    }
   ],
   "source": [
    "#the probability for urn B\n",
    "p_B = multinomial.pmf(x=[5, 3, 1], n=9, p=[.6, .3, .1])\n",
    "p_B"
   ]
  },
  {
   "cell_type": "markdown",
   "id": "addc7a39",
   "metadata": {},
   "source": [
    "**b)** You are given an unfair coin with probabilities of landing head/tails given by:\n",
    "\n",
    "$$C:\n",
    "\\begin{pmatrix}\n",
    "H & T\\\\\n",
    "0.65 & 0.35\n",
    "\\end{pmatrix}\n",
    "$$.\n",
    "\n",
    "You toss this coin and draw 10 (**here should be 9!**) balls from an urn. If you land heads you draw from urn $A$, and if you land tails, you draw from urn $B$. Using Law of Total Probability, calculate the probability to draw 5 blue, 3 red and one white ball, regardless of the urn you drew from.\n",
    "\n",
    "*Hint:* Use the probabilities calculated above as conditional probabilities of the form $P(X; \\theta)$, where $X$ is the outcome and $\\theta$ parameters of Multinomial Distribution."
   ]
  },
  {
   "cell_type": "markdown",
   "id": "7d3ab456",
   "metadata": {},
   "source": [
    "$$P(X) = P(X|\\ {\\rm urn}\\ A)P(H) + P(X|\\ {\\rm urn}\\ B)P(T).$$"
   ]
  },
  {
   "cell_type": "code",
   "execution_count": 4,
   "id": "3c1fa31e",
   "metadata": {},
   "outputs": [
    {
     "data": {
      "text/plain": [
       "0.04777032959999999"
      ]
     },
     "execution_count": 4,
     "metadata": {},
     "output_type": "execute_result"
    }
   ],
   "source": [
    "p_X = p_A*.65 + p_B*.35\n",
    "p_X"
   ]
  },
  {
   "cell_type": "markdown",
   "id": "35507568",
   "metadata": {},
   "source": [
    "**c)** Using Bayes' Theorem calculate the probability that the result of drawing 5 blue, 3 red and one white ball comes from urn $B$."
   ]
  },
  {
   "cell_type": "markdown",
   "id": "474c8d73",
   "metadata": {},
   "source": [
    "$$P({\\rm urn}\\ B\\ |X) = \\frac{P(X|\\ {\\rm urn}\\ B)P(T)}{P(X)}.$$"
   ]
  },
  {
   "cell_type": "code",
   "execution_count": 5,
   "id": "7e7b62b7",
   "metadata": {},
   "outputs": [
    {
     "data": {
      "text/plain": [
       "0.7752831749354306"
      ]
     },
     "execution_count": 5,
     "metadata": {},
     "output_type": "execute_result"
    }
   ],
   "source": [
    "(p_B*.35)/p_X"
   ]
  },
  {
   "cell_type": "markdown",
   "id": "c05ceef7",
   "metadata": {},
   "source": [
    "**02.**"
   ]
  },
  {
   "cell_type": "markdown",
   "id": "d2a7891c",
   "metadata": {},
   "source": [
    "Assume that in a population height is distributed according to the Normal Distribution. For male part of the population this distribution is $\\mathcal{N}(182, 100)$ and for female is $\\mathcal{N}(167, 121)$. \n",
    "\n",
    "$$\\$$\n",
    "\n",
    "**a)** What's the likelihood that the member of the population higher than 175cm is male? What about female?"
   ]
  },
  {
   "cell_type": "markdown",
   "id": "ec578023",
   "metadata": {},
   "source": [
    "$$\\mathcal{L}(M|X\\geqslant 175) = P(X\\geqslant 175| M).$$\n",
    "$$\\mathcal{L}(F|X\\geqslant 175) = P(X\\geqslant 175| F).$$"
   ]
  },
  {
   "cell_type": "code",
   "execution_count": 6,
   "id": "cb112d2b",
   "metadata": {},
   "outputs": [],
   "source": [
    "from scipy.stats import norm"
   ]
  },
  {
   "cell_type": "code",
   "execution_count": 7,
   "id": "8d598f53",
   "metadata": {},
   "outputs": [
    {
     "data": {
      "text/plain": [
       "0.758036347776927"
      ]
     },
     "execution_count": 7,
     "metadata": {},
     "output_type": "execute_result"
    }
   ],
   "source": [
    "#for male\n",
    "p_m = 1 - norm.cdf(x=175, loc=182, scale=10)\n",
    "p_m"
   ]
  },
  {
   "cell_type": "code",
   "execution_count": 8,
   "id": "f41ae8eb",
   "metadata": {},
   "outputs": [
    {
     "data": {
      "text/plain": [
       "0.2335294508575867"
      ]
     },
     "execution_count": 8,
     "metadata": {},
     "output_type": "execute_result"
    }
   ],
   "source": [
    "#for female\n",
    "p_f = 1 - norm.cdf(x=175, loc=167, scale=11)\n",
    "p_f"
   ]
  },
  {
   "cell_type": "markdown",
   "id": "2be8d9a9",
   "metadata": {},
   "source": [
    "**b)** What's the probability that a given member of the population is higher than 175cm, regardless of the gender? To calculate this, we assume that the population has the same number of male and female members."
   ]
  },
  {
   "cell_type": "markdown",
   "id": "eb5c1e62",
   "metadata": {},
   "source": [
    "$$P(X\\geqslant 175) = P(X\\geqslant 175|M)P(M) + P(X\\geqslant 175|F)P(F).$$"
   ]
  },
  {
   "cell_type": "code",
   "execution_count": 9,
   "id": "f3d25226",
   "metadata": {},
   "outputs": [
    {
     "data": {
      "text/plain": [
       "0.49578289931725683"
      ]
     },
     "execution_count": 9,
     "metadata": {},
     "output_type": "execute_result"
    }
   ],
   "source": [
    "p_x = p_m*.5 + p_f*.5\n",
    "p_x"
   ]
  },
  {
   "cell_type": "markdown",
   "id": "c9af86de",
   "metadata": {},
   "source": [
    "**c)** What's the probability that the member of the population is female if they're higher than 175cm?"
   ]
  },
  {
   "cell_type": "markdown",
   "id": "bd869b92",
   "metadata": {},
   "source": [
    "$$P(F|X\\geqslant 175) = \\frac{P(X\\geqslant 175|F)P(F)}{P(X\\geqslant 175)}.$$"
   ]
  },
  {
   "cell_type": "code",
   "execution_count": 10,
   "id": "a6d463cd",
   "metadata": {},
   "outputs": [
    {
     "data": {
      "text/plain": [
       "0.23551583886735541"
      ]
     },
     "execution_count": 10,
     "metadata": {},
     "output_type": "execute_result"
    }
   ],
   "source": [
    "(p_f*.5)/p_x"
   ]
  },
  {
   "cell_type": "markdown",
   "id": "b614c8b4",
   "metadata": {},
   "source": [
    "**03.** A product is presented to people from Belgrade and Niš. In Niš product is bought by 531 person younger than 30, and 142 people aged 30 and older. As for Belgrade, 1 672 people younger than 30 bought the product, and 1 049 aged 30 and older. \n",
    "\n",
    "$$\\$$\n",
    "\n",
    "**a)** Using Pandas `pivot_table()` function and the data above, create a contingency table for bivarate random variable showing probabilities of a person buying the product from a given city-age group. What's the probability of a 33-year old person from Belgrade buying the product?"
   ]
  },
  {
   "cell_type": "code",
   "execution_count": 11,
   "id": "aacb71dd",
   "metadata": {
    "scrolled": true
   },
   "outputs": [
    {
     "data": {
      "text/html": [
       "<div>\n",
       "<style scoped>\n",
       "    .dataframe tbody tr th:only-of-type {\n",
       "        vertical-align: middle;\n",
       "    }\n",
       "\n",
       "    .dataframe tbody tr th {\n",
       "        vertical-align: top;\n",
       "    }\n",
       "\n",
       "    .dataframe thead th {\n",
       "        text-align: right;\n",
       "    }\n",
       "</style>\n",
       "<table border=\"1\" class=\"dataframe\">\n",
       "  <thead>\n",
       "    <tr style=\"text-align: right;\">\n",
       "      <th>Age</th>\n",
       "      <th>&lt;30</th>\n",
       "      <th>&gt;=30</th>\n",
       "    </tr>\n",
       "    <tr>\n",
       "      <th>City</th>\n",
       "      <th></th>\n",
       "      <th></th>\n",
       "    </tr>\n",
       "  </thead>\n",
       "  <tbody>\n",
       "    <tr>\n",
       "      <th>Belgrade</th>\n",
       "      <td>1672</td>\n",
       "      <td>1049</td>\n",
       "    </tr>\n",
       "    <tr>\n",
       "      <th>Niš</th>\n",
       "      <td>531</td>\n",
       "      <td>142</td>\n",
       "    </tr>\n",
       "  </tbody>\n",
       "</table>\n",
       "</div>"
      ],
      "text/plain": [
       "Age        <30  >=30\n",
       "City                \n",
       "Belgrade  1672  1049\n",
       "Niš        531   142"
      ]
     },
     "execution_count": 11,
     "metadata": {},
     "output_type": "execute_result"
    }
   ],
   "source": [
    "import pandas as pd\n",
    "\n",
    "df = pd.DataFrame()\n",
    "df['City'] = ['Niš', 'Niš', 'Belgrade', 'Belgrade']\n",
    "df['Age'] = ['<30', '>=30', '<30', '>=30']\n",
    "df['Counts'] = [531, 142, 1672, 1049]\n",
    "\n",
    "pivo = df.pivot_table(index='City', columns='Age', values='Counts')\n",
    "pivo"
   ]
  },
  {
   "cell_type": "code",
   "execution_count": 12,
   "id": "8584e7d3",
   "metadata": {},
   "outputs": [
    {
     "data": {
      "text/html": [
       "<div>\n",
       "<style scoped>\n",
       "    .dataframe tbody tr th:only-of-type {\n",
       "        vertical-align: middle;\n",
       "    }\n",
       "\n",
       "    .dataframe tbody tr th {\n",
       "        vertical-align: top;\n",
       "    }\n",
       "\n",
       "    .dataframe thead th {\n",
       "        text-align: right;\n",
       "    }\n",
       "</style>\n",
       "<table border=\"1\" class=\"dataframe\">\n",
       "  <thead>\n",
       "    <tr style=\"text-align: right;\">\n",
       "      <th>Age</th>\n",
       "      <th>&lt;30</th>\n",
       "      <th>&gt;=30</th>\n",
       "    </tr>\n",
       "    <tr>\n",
       "      <th>City</th>\n",
       "      <th></th>\n",
       "      <th></th>\n",
       "    </tr>\n",
       "  </thead>\n",
       "  <tbody>\n",
       "    <tr>\n",
       "      <th>Belgrade</th>\n",
       "      <td>0.492634</td>\n",
       "      <td>0.309075</td>\n",
       "    </tr>\n",
       "    <tr>\n",
       "      <th>Niš</th>\n",
       "      <td>0.156453</td>\n",
       "      <td>0.041839</td>\n",
       "    </tr>\n",
       "  </tbody>\n",
       "</table>\n",
       "</div>"
      ],
      "text/plain": [
       "Age            <30      >=30\n",
       "City                        \n",
       "Belgrade  0.492634  0.309075\n",
       "Niš       0.156453  0.041839"
      ]
     },
     "execution_count": 12,
     "metadata": {},
     "output_type": "execute_result"
    }
   ],
   "source": [
    "probs = pivo/df['Counts'].sum()\n",
    "probs"
   ]
  },
  {
   "cell_type": "code",
   "execution_count": 13,
   "id": "88f6b06a",
   "metadata": {},
   "outputs": [
    {
     "name": "stdout",
     "output_type": "stream",
     "text": [
      "The probability that a 33-year old person from Belgrade buys the product is 30.91%.\n"
     ]
    }
   ],
   "source": [
    "print('The probability that a 33-year old person from Belgrade buys the product is 30.91%.')"
   ]
  },
  {
   "cell_type": "markdown",
   "id": "3367f9f8",
   "metadata": {},
   "source": [
    "**b)** Use `margins` argument in the `pivot_table()` function to calculate the corresponding marginal probabilities. What's the probability of person from Niš buying the product?"
   ]
  },
  {
   "cell_type": "code",
   "execution_count": 14,
   "id": "6b0cce06",
   "metadata": {},
   "outputs": [
    {
     "data": {
      "text/html": [
       "<div>\n",
       "<style scoped>\n",
       "    .dataframe tbody tr th:only-of-type {\n",
       "        vertical-align: middle;\n",
       "    }\n",
       "\n",
       "    .dataframe tbody tr th {\n",
       "        vertical-align: top;\n",
       "    }\n",
       "\n",
       "    .dataframe thead th {\n",
       "        text-align: right;\n",
       "    }\n",
       "</style>\n",
       "<table border=\"1\" class=\"dataframe\">\n",
       "  <thead>\n",
       "    <tr style=\"text-align: right;\">\n",
       "      <th>Age</th>\n",
       "      <th>&lt;30</th>\n",
       "      <th>&gt;=30</th>\n",
       "      <th>All</th>\n",
       "    </tr>\n",
       "    <tr>\n",
       "      <th>City</th>\n",
       "      <th></th>\n",
       "      <th></th>\n",
       "      <th></th>\n",
       "    </tr>\n",
       "  </thead>\n",
       "  <tbody>\n",
       "    <tr>\n",
       "      <th>Belgrade</th>\n",
       "      <td>0.492634</td>\n",
       "      <td>0.309075</td>\n",
       "      <td>0.801709</td>\n",
       "    </tr>\n",
       "    <tr>\n",
       "      <th>Niš</th>\n",
       "      <td>0.156453</td>\n",
       "      <td>0.041839</td>\n",
       "      <td>0.198291</td>\n",
       "    </tr>\n",
       "    <tr>\n",
       "      <th>All</th>\n",
       "      <td>0.649087</td>\n",
       "      <td>0.350913</td>\n",
       "      <td>1.000000</td>\n",
       "    </tr>\n",
       "  </tbody>\n",
       "</table>\n",
       "</div>"
      ],
      "text/plain": [
       "Age            <30      >=30       All\n",
       "City                                  \n",
       "Belgrade  0.492634  0.309075  0.801709\n",
       "Niš       0.156453  0.041839  0.198291\n",
       "All       0.649087  0.350913  1.000000"
      ]
     },
     "execution_count": 14,
     "metadata": {},
     "output_type": "execute_result"
    }
   ],
   "source": [
    "probs_marg = df.pivot_table(index='City', columns='Age', values='Counts', margins=True, aggfunc='sum')/df['Counts'].sum()\n",
    "probs_marg"
   ]
  },
  {
   "cell_type": "code",
   "execution_count": 15,
   "id": "0e44ffcc",
   "metadata": {},
   "outputs": [
    {
     "name": "stdout",
     "output_type": "stream",
     "text": [
      "The probability that a person from Niš buys the product is 19.83%.\n"
     ]
    }
   ],
   "source": [
    "print('The probability that a person from Niš buys the product is 19.83%.')"
   ]
  },
  {
   "cell_type": "markdown",
   "id": "bd429bf8",
   "metadata": {},
   "source": [
    "**04.** Two random variables are normally distributed with $X\\sim\\mathcal{N}(2, 25)$ and $Y\\sim\\mathcal{N}(-1, 16)$. \n",
    "\n",
    "$$\\$$\n",
    "\n",
    "**a)** RV $(X, Y)$ has Bivariate Normal Distribution $\\mathcal{N}(\\boldsymbol\\mu, \\Sigma)$. Assuming that the correlation between those RVs $X$ and $Y$ is -0.6, define Numpy arrays for mean vector $\\boldsymbol\\mu$ and covariance matrix $\\Sigma$."
   ]
  },
  {
   "cell_type": "code",
   "execution_count": 16,
   "id": "94fea61c",
   "metadata": {},
   "outputs": [
    {
     "data": {
      "text/plain": [
       "array([ 2, -1])"
      ]
     },
     "execution_count": 16,
     "metadata": {},
     "output_type": "execute_result"
    }
   ],
   "source": [
    "import numpy as np\n",
    "\n",
    "#mean vector\n",
    "mu = np.array([2, -1])\n",
    "mu"
   ]
  },
  {
   "cell_type": "code",
   "execution_count": 17,
   "id": "656db92d",
   "metadata": {},
   "outputs": [
    {
     "data": {
      "text/plain": [
       "array([[ 25., -12.],\n",
       "       [-12.,  16.]])"
      ]
     },
     "execution_count": 17,
     "metadata": {},
     "output_type": "execute_result"
    }
   ],
   "source": [
    "#covariance matrix\n",
    "sigma = np.array([[25, -.6*5*4], [-.6*5*4, 16]])\n",
    "sigma"
   ]
  },
  {
   "cell_type": "markdown",
   "id": "54a64878",
   "metadata": {},
   "source": [
    "**b)** Using either Numpy or Scipy draw a sample from $\\mathcal{N}(\\boldsymbol\\mu, \\Sigma)$ of size 1000; use `jointplot()` from Seaborn to display how the sample points are distributed in 2D space, along with histograms of marginal distributions."
   ]
  },
  {
   "cell_type": "code",
   "execution_count": 18,
   "id": "0f0011e3",
   "metadata": {
    "scrolled": true
   },
   "outputs": [
    {
     "data": {
      "text/plain": [
       "array([[ 3.81591836,  0.6915325 ],\n",
       "       [ 3.76969468,  0.96921105],\n",
       "       [-7.34242168,  5.84368398],\n",
       "       ...,\n",
       "       [ 8.10615995, -5.10972997],\n",
       "       [-0.68539881,  0.16545933],\n",
       "       [ 9.67700303, -3.67115112]])"
      ]
     },
     "execution_count": 18,
     "metadata": {},
     "output_type": "execute_result"
    }
   ],
   "source": [
    "from scipy.stats import multivariate_normal\n",
    "\n",
    "sample = multivariate_normal.rvs(mean=mu, cov=sigma, size=1000)\n",
    "sample"
   ]
  },
  {
   "cell_type": "code",
   "execution_count": 19,
   "id": "2d32e304",
   "metadata": {},
   "outputs": [
    {
     "data": {
      "image/png": "[encoded data removed]",
      "text/plain": [
       "<Figure size 432x432 with 3 Axes>"
      ]
     },
     "metadata": {
      "needs_background": "light"
     },
     "output_type": "display_data"
    }
   ],
   "source": [
    "import seaborn as sns\n",
    "\n",
    "sns.jointplot(x=sample[:, 0], y=sample[:, 1]);"
   ]
  },
  {
   "cell_type": "markdown",
   "id": "9426b0e8",
   "metadata": {},
   "source": [
    "**c1)** Define a random variable $Z = X + Y$. Draw a sample $(\\bar{X}, \\bar{Y})\\sim\\mathcal{N}(\\boldsymbol\\mu, \\Sigma)$ of size $10^6$ and sum its $\\bar{X}$ and $\\bar{Y}$ coordinates to obtain a sample $\\bar{Z}$."
   ]
  },
  {
   "cell_type": "code",
   "execution_count": 20,
   "id": "fde5ebb3",
   "metadata": {
    "scrolled": true
   },
   "outputs": [
    {
     "data": {
      "text/plain": [
       "array([[-0.67202292,  0.76590739],\n",
       "       [-1.1297213 ,  4.68813729],\n",
       "       [-3.15017823,  1.1798207 ],\n",
       "       ...,\n",
       "       [-1.33198513, -2.80661789],\n",
       "       [-0.63101763,  3.01579882],\n",
       "       [ 2.2408779 , -2.74744086]])"
      ]
     },
     "execution_count": 20,
     "metadata": {},
     "output_type": "execute_result"
    }
   ],
   "source": [
    "sample_2 = multivariate_normal.rvs(mean=mu, cov=sigma, size=10**6)\n",
    "sample_2"
   ]
  },
  {
   "cell_type": "code",
   "execution_count": 21,
   "id": "91e5bc8f",
   "metadata": {},
   "outputs": [
    {
     "data": {
      "text/plain": [
       "array([ 0.09388447,  3.55841599, -1.97035753, ..., -4.13860302,\n",
       "        2.38478119, -0.50656296])"
      ]
     },
     "execution_count": 21,
     "metadata": {},
     "output_type": "execute_result"
    }
   ],
   "source": [
    "Z = sample_2[:, 0] + sample_2[:, 1]\n",
    "Z"
   ]
  },
  {
   "cell_type": "markdown",
   "id": "cd882e33",
   "metadata": {},
   "source": [
    "**c2)** Using the sample mean and sample std of sample $\\bar{Z}$ estimate the mean and std/variance for RV $Z$."
   ]
  },
  {
   "cell_type": "code",
   "execution_count": 22,
   "id": "e155c61d",
   "metadata": {},
   "outputs": [
    {
     "data": {
      "text/plain": [
       "1.000567735067261"
      ]
     },
     "execution_count": 22,
     "metadata": {},
     "output_type": "execute_result"
    }
   ],
   "source": [
    "Z.mean()"
   ]
  },
  {
   "cell_type": "code",
   "execution_count": 23,
   "id": "cc613a76",
   "metadata": {},
   "outputs": [
    {
     "data": {
      "text/plain": [
       "17.017523019021514"
      ]
     },
     "execution_count": 23,
     "metadata": {},
     "output_type": "execute_result"
    }
   ],
   "source": [
    "Z.var(ddof=1)"
   ]
  },
  {
   "cell_type": "markdown",
   "id": "af52fbba",
   "metadata": {},
   "source": [
    "**c3)** Draw a histogram from this sample. What's the distribution for RV $Z$?"
   ]
  },
  {
   "cell_type": "code",
   "execution_count": 24,
   "id": "7da05a58",
   "metadata": {},
   "outputs": [
    {
     "data": {
      "image/png": "[encoded data removed]",
      "text/plain": [
       "<Figure size 432x288 with 1 Axes>"
      ]
     },
     "metadata": {
      "needs_background": "light"
     },
     "output_type": "display_data"
    }
   ],
   "source": [
    "sns.histplot(Z);"
   ]
  },
  {
   "cell_type": "code",
   "execution_count": 25,
   "id": "08e8c4cb",
   "metadata": {},
   "outputs": [
    {
     "name": "stdout",
     "output_type": "stream",
     "text": [
      "It's normal distribution!\n"
     ]
    }
   ],
   "source": [
    "print(\"It's normal distribution!\")"
   ]
  },
  {
   "cell_type": "markdown",
   "id": "bde66c58",
   "metadata": {},
   "source": [
    "**05.** Let RV $\\mathbf{X}$ be a point picked uniformly at random from the *unit square*, i.e. a 2D point $(x, y)$ where both its coordinates belong to the interval $[0, 1]$. This RV has a *Bivariate Uniform Distribution*, i.e. $\\mathbf{X}\\sim\\mathcal{U}[0,1]^2.$\n",
    "\n",
    "$$\\$$\n",
    "\n",
    "Using `rng.random()` with the appropriate value for `size` argument, draw a sample from $\\mathcal{U}[0,1]^2$ of size 1000. Use `jointplot()` from Seaborn to display how the sample points are distributed in 2D space, along with histograms of marginal distributions."
   ]
  },
  {
   "cell_type": "code",
   "execution_count": 26,
   "id": "df60aa29",
   "metadata": {},
   "outputs": [
    {
     "data": {
      "text/plain": [
       "array([[0.33886908, 0.90589874],\n",
       "       [0.90960195, 0.74722338],\n",
       "       [0.82310232, 0.26763656],\n",
       "       ...,\n",
       "       [0.64227992, 0.04629571],\n",
       "       [0.8116009 , 0.70633791],\n",
       "       [0.41200449, 0.4582459 ]])"
      ]
     },
     "execution_count": 26,
     "metadata": {},
     "output_type": "execute_result"
    }
   ],
   "source": [
    "rng = np.random.default_rng(seed=1023)\n",
    "\n",
    "sample = rng.random(size=(1000, 2))\n",
    "sample"
   ]
  },
  {
   "cell_type": "code",
   "execution_count": 27,
   "id": "d47b9787",
   "metadata": {},
   "outputs": [
    {
     "data": {
      "image/png": "[encoded data removed]",
      "text/plain": [
       "<Figure size 432x432 with 3 Axes>"
      ]
     },
     "metadata": {
      "needs_background": "light"
     },
     "output_type": "display_data"
    }
   ],
   "source": [
    "sns.jointplot(x=sample[:, 0], y=sample[:, 1]);"
   ]
  },
  {
   "cell_type": "markdown",
   "id": "12e49eca",
   "metadata": {},
   "source": [
    "**06.** Let $X$ and $Y$ be two RVs with $X\\sim\\mathcal{E}(3)$ and $Y\\sim\\mathcal{N}(3, 1)$. \n",
    "\n",
    "$$\\$$\n",
    "\n",
    "**a)** Draw a sample of size 1000 for both RVs separately. "
   ]
  },
  {
   "cell_type": "code",
   "execution_count": 28,
   "id": "b39711fc",
   "metadata": {},
   "outputs": [],
   "source": [
    "sample_x = rng.exponential(scale=3, size=1000)"
   ]
  },
  {
   "cell_type": "code",
   "execution_count": 29,
   "id": "ffce82d0",
   "metadata": {},
   "outputs": [],
   "source": [
    "sample_y = rng.normal(loc=3, scale=1, size=1000)"
   ]
  },
  {
   "cell_type": "markdown",
   "id": "c598798b",
   "metadata": {},
   "source": [
    "**b)** Use `jointplot()` from Seaborn to display how the sample points of bivariate RV $(X, Y)$ are distributed in 2D space, along with histograms of marginal distributions."
   ]
  },
  {
   "cell_type": "code",
   "execution_count": 30,
   "id": "e46e357d",
   "metadata": {},
   "outputs": [
    {
     "data": {
      "image/png": "[encoded data removed]",
      "text/plain": [
       "<Figure size 432x432 with 3 Axes>"
      ]
     },
     "metadata": {
      "needs_background": "light"
     },
     "output_type": "display_data"
    }
   ],
   "source": [
    "sns.jointplot(x=sample_x, y=sample_y);"
   ]
  },
  {
   "cell_type": "markdown",
   "id": "9b63987a",
   "metadata": {},
   "source": [
    "**07.** You need to estimate a parameter $\\theta$, and you only know that it's a value between 0 and 1. You just decide to pick a number uniformly at random from $[0, 1]$ interval as the estimate of this parameter $\\hat{\\theta}$. \n",
    "\n",
    "$$\\$$ \n",
    "\n",
    "**a)** What should be the true value of parameter $\\theta$ in order for your 'decision method' to be unbiased? Answer this question by drawing a (large enough) sample from $\\mathcal{U}[0,1]$ and using the sample mean to approximate $E\\hat{\\theta}$."
   ]
  },
  {
   "cell_type": "code",
   "execution_count": 31,
   "id": "47302843",
   "metadata": {},
   "outputs": [
    {
     "data": {
      "text/plain": [
       "0.5000331813895471"
      ]
     },
     "execution_count": 31,
     "metadata": {},
     "output_type": "execute_result"
    }
   ],
   "source": [
    "sample = rng.random(size=10**6)\n",
    "sample.mean()"
   ]
  },
  {
   "cell_type": "code",
   "execution_count": 32,
   "id": "9e2b369b",
   "metadata": {},
   "outputs": [
    {
     "name": "stdout",
     "output_type": "stream",
     "text": [
      "The true value of parameter should be 0.5 for our decision method to be unbiased.\n"
     ]
    }
   ],
   "source": [
    "print('The true value of parameter should be 0.5 for our decision method to be unbiased.')"
   ]
  },
  {
   "cell_type": "markdown",
   "id": "10df6a26",
   "metadata": {},
   "source": [
    "**b)** What's the (approximate) variance of this 'decision method'? \n",
    "\n",
    "*Hint*: To compute $E(\\hat{\\theta} - E\\hat{\\theta})^2$ use $({\\rm sample} - {\\rm sample\\ mean})^2$, and then find the mean of this result to approximate its expected value (and therefore the variance)."
   ]
  },
  {
   "cell_type": "code",
   "execution_count": 33,
   "id": "3f8d526b",
   "metadata": {},
   "outputs": [
    {
     "data": {
      "text/plain": [
       "array([0.00900192, 0.20522132, 0.00591562, ..., 0.11694058, 0.13704425,\n",
       "       0.09450423])"
      ]
     },
     "execution_count": 33,
     "metadata": {},
     "output_type": "execute_result"
    }
   ],
   "source": [
    "diff = (sample - sample.mean())**2\n",
    "diff"
   ]
  },
  {
   "cell_type": "code",
   "execution_count": 34,
   "id": "9f25690a",
   "metadata": {},
   "outputs": [
    {
     "data": {
      "text/plain": [
       "0.08325264830709218"
      ]
     },
     "execution_count": 34,
     "metadata": {},
     "output_type": "execute_result"
    }
   ],
   "source": [
    "diff.mean()"
   ]
  },
  {
   "cell_type": "code",
   "execution_count": 35,
   "id": "4b00df44",
   "metadata": {},
   "outputs": [
    {
     "name": "stdout",
     "output_type": "stream",
     "text": [
      "Approximate variance of our decision method is 0.083.\n"
     ]
    }
   ],
   "source": [
    "print('Approximate variance of our decision method is 0.083.')"
   ]
  },
  {
   "cell_type": "markdown",
   "id": "f5dc0348",
   "metadata": {},
   "source": [
    "DataKolektiv, 2022/23.\n",
    "\n",
    "[hello@datakolektiv.com](mailto:goran.milovanovic@datakolektiv.com)\n",
    "\n",
    "![](../img/DK_Logo_100.png)"
   ]
  },
  {
   "cell_type": "markdown",
   "id": "6f8e160a",
   "metadata": {},
   "source": [
    "<font size=1>License: [GPLv3](https://www.gnu.org/licenses/gpl-3.0.txt) This Notebook is free software: you can redistribute it and/or modify it under the terms of the GNU General Public License as published by the Free Software Foundation, either version 3 of the License, or (at your option) any later version. This Notebook is distributed in the hope that it will be useful, but WITHOUT ANY WARRANTY; without even the implied warranty of MERCHANTABILITY or FITNESS FOR A PARTICULAR PURPOSE. See the GNU General Public License for more details. You should have received a copy of the GNU General Public License along with this Notebook. If not, see http://www.gnu.org/licenses/.</font>"
   ]
  }
 ],
 "metadata": {
  "kernelspec": {
   "display_name": "Python 3",
   "language": "python",
   "name": "python3"
  },
  "language_info": {
   "codemirror_mode": {
    "name": "ipython",
    "version": 3
   },
   "file_extension": ".py",
   "mimetype": "text/x-python",
   "name": "python",
   "nbconvert_exporter": "python",
   "pygments_lexer": "ipython3",
   "version": "3.8.8"
  }
 },
 "nbformat": 4,
 "nbformat_minor": 5
}
