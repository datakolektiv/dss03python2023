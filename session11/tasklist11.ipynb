{
 "cells": [
  {
   "cell_type": "markdown",
   "id": "67b65bdc",
   "metadata": {},
   "source": [
    "# DATA SCIENCE SESSIONS VOL. 3\n",
    "### A Foundational Python Data Science Course\n",
    "## Tasklist 11: Conditional Probability. Multivariate Random Variables. Bias and Variance.\n",
    "\n",
    "[&larr; Back to course webpage](https://datakolektiv.com/)\n",
    "\n",
    "Feedback should be send to [goran.milovanovic@datakolektiv.com](mailto:goran.milovanovic@datakolektiv.com). \n",
    "\n",
    "These notebooks accompany the DATA SCIENCE SESSIONS VOL. 3 :: A Foundational Python Data Science Course."
   ]
  },
  {
   "cell_type": "markdown",
   "id": "aa4dbdf7",
   "metadata": {},
   "source": [
    "![](../img/IntroRDataScience_NonTech-1.jpg)"
   ]
  },
  {
   "cell_type": "markdown",
   "id": "e5e97431",
   "metadata": {},
   "source": [
    "### Lecturers\n",
    "\n",
    "[Goran S. Milovanović, PhD, DataKolektiv, Chief Scientist & Owner](https://www.linkedin.com/in/gmilovanovic/)\n",
    "\n",
    "[Aleksandar Cvetković, PhD, DataKolektiv, Consultant](https://www.linkedin.com/in/alegzndr/)\n",
    "\n",
    "[Ilija Lazarević, MA, DataKolektiv, Consultant](https://www.linkedin.com/in/ilijalazarevic/)"
   ]
  },
  {
   "cell_type": "markdown",
   "id": "2d9da7dd",
   "metadata": {},
   "source": [
    "![](../img/DK_Logo_100.png)"
   ]
  },
  {
   "cell_type": "markdown",
   "id": "f52c2322",
   "metadata": {},
   "source": [
    "***"
   ]
  },
  {
   "cell_type": "markdown",
   "id": "fc6f6683",
   "metadata": {},
   "source": [
    "### Intro \n",
    "\n",
    "The goal of this Tasklist is to consolidate Probability Theory formulas and concepts we talked about in Session11 by applying appropriate functions, calculations and visualizations in Python. Good luck!"
   ]
  },
  {
   "cell_type": "markdown",
   "id": "af1584f6",
   "metadata": {},
   "source": [
    "**01.** *Multinomial Distribution* is the generalization of the Binomial Distribution - it is used for experiments having three or more different outcomes, and it is used to calculate probabilities for a given count of these outcomes, in a given number of repetitions of the experiment. \n",
    "\n",
    "You are given two urns $A$ and $B$. Urn $A$ cotains blue, red and white balls in proportion of 8:1:1, while for urn $B$ they are in proportion 6:3:1. \n",
    "\n",
    "$$\\$$\n",
    "\n",
    "**a)** What's the probability of drawing 5 blue, 3 red and one white ball from urn $A$? What's the probability of drawing the same count of balls from urn $B$.\n",
    "\n",
    "*Hint:* Use `multinomial` from `scipy.stats` to solve this. The parameters for `multinomial` are `n` - number of repetitions of the experiment (i.e. the number of balls drawn) and `p` - a list of prpobabilities for each outcome (i.e. a probability for a ball of certain colour to be drawn from an urn)."
   ]
  },
  {
   "cell_type": "code",
   "execution_count": null,
   "id": "356a64b8",
   "metadata": {},
   "outputs": [],
   "source": [
    "### your code here ###"
   ]
  },
  {
   "cell_type": "markdown",
   "id": "addc7a39",
   "metadata": {},
   "source": [
    "**b)** You are given an unfair coin with probabilities of landing head/tails given by:\n",
    "\n",
    "$$C:\n",
    "\\begin{pmatrix}\n",
    "H & T\\\\\n",
    "0.65 & 0.35\n",
    "\\end{pmatrix}\n",
    "$$.\n",
    "\n",
    "You toss this coin and draw 10 balls from an urn. If you land heads you draw from urn $A$, and if you land tails, you draw from urn $B$. Using Law of Total Probability, calculate the probability to draw 5 blue, 3 red and one white ball, regardless of the urn you drew from.\n",
    "\n",
    "*Hint:* Use the probabilities calculated above as conditional probabilities of the form $P(X; \\theta)$, where $X$ is the outcome and $\\theta$ parameters of Multinomial Distribution."
   ]
  },
  {
   "cell_type": "code",
   "execution_count": null,
   "id": "3c1fa31e",
   "metadata": {},
   "outputs": [],
   "source": [
    "### your code here ###"
   ]
  },
  {
   "cell_type": "markdown",
   "id": "35507568",
   "metadata": {},
   "source": [
    "**c)** Using Bayes' Theorem calculate the probability that the result of drawing 5 blue, 3 red and one white ball comes from urn $B$."
   ]
  },
  {
   "cell_type": "code",
   "execution_count": null,
   "id": "7e7b62b7",
   "metadata": {},
   "outputs": [],
   "source": [
    "### your code here ###"
   ]
  },
  {
   "cell_type": "markdown",
   "id": "c05ceef7",
   "metadata": {},
   "source": [
    "**02.**"
   ]
  },
  {
   "cell_type": "markdown",
   "id": "d2a7891c",
   "metadata": {},
   "source": [
    "Assume that in a population height is distributed according to the Normal Distribution. For male part of the population this distribution is $\\mathcal{N}(182, 100)$ and for female is $\\mathcal{N}(167, 121)$. \n",
    "\n",
    "$$\\$$\n",
    "\n",
    "**a)** What's the likelihood that the member of the population higher than 175cm is male? What about female?"
   ]
  },
  {
   "cell_type": "code",
   "execution_count": null,
   "id": "cb112d2b",
   "metadata": {},
   "outputs": [],
   "source": [
    "### your code here ###"
   ]
  },
  {
   "cell_type": "markdown",
   "id": "2be8d9a9",
   "metadata": {},
   "source": [
    "**b)** What's the probability that a given member of the population is higher than 175cm, regardless of the gender? To calculate this, we assume that the population has the same number of male and female members."
   ]
  },
  {
   "cell_type": "code",
   "execution_count": null,
   "id": "f3d25226",
   "metadata": {},
   "outputs": [],
   "source": [
    "### your code here ###"
   ]
  },
  {
   "cell_type": "markdown",
   "id": "c9af86de",
   "metadata": {},
   "source": [
    "**c)** What's the probability that the member of the population is female if they're higher than 175cm?"
   ]
  },
  {
   "cell_type": "code",
   "execution_count": null,
   "id": "a6d463cd",
   "metadata": {},
   "outputs": [],
   "source": [
    "### your code here ###"
   ]
  },
  {
   "cell_type": "markdown",
   "id": "b614c8b4",
   "metadata": {},
   "source": [
    "**03.** A product is presented to people from Belgrade and Niš. In Niš product is bought by 531 person younger than 30, and 142 people aged 30 and older. As for Belgrade, 1 672 people younger than 30 bought the product, and 1 049 aged 30 and older. \n",
    "\n",
    "$$\\$$\n",
    "\n",
    "**a)** Using Pandas `pivot_table()` function and the data above, create a contingency table for bivarate random variable showing probabilities of a person buying the product from a given city-age group. What's the probability of a 33-year old person from Belgrade buying the product?"
   ]
  },
  {
   "cell_type": "code",
   "execution_count": null,
   "id": "aacb71dd",
   "metadata": {},
   "outputs": [],
   "source": [
    "### your code here ###"
   ]
  },
  {
   "cell_type": "markdown",
   "id": "3367f9f8",
   "metadata": {},
   "source": [
    "**b)** Use `margins` argument in the `pivot_table()` function to calculate the corresponding marginal probabilities. What's the probability of person from Niš buying the product?"
   ]
  },
  {
   "cell_type": "code",
   "execution_count": null,
   "id": "6b0cce06",
   "metadata": {},
   "outputs": [],
   "source": [
    "### your code here ###"
   ]
  },
  {
   "cell_type": "markdown",
   "id": "bd429bf8",
   "metadata": {},
   "source": [
    "**04.** Two random variables are normally distributed with $X\\sim\\mathcal{N}(2, 25)$ and $Y\\sim\\mathcal{N}(-1, 16)$. \n",
    "\n",
    "$$\\$$\n",
    "\n",
    "**a)** RV $(X, Y)$ has Bivariate Normal Distribution $\\mathcal{N}(\\boldsymbol\\mu, \\Sigma)$. Assuming that the correlation between those RVs $X$ and $Y$ is -0.6, define Numpy arrays for mean vector $\\boldsymbol\\mu$ and covariance matrix $\\Sigma$."
   ]
  },
  {
   "cell_type": "code",
   "execution_count": null,
   "id": "94fea61c",
   "metadata": {},
   "outputs": [],
   "source": [
    "### your code here ###"
   ]
  },
  {
   "cell_type": "markdown",
   "id": "54a64878",
   "metadata": {},
   "source": [
    "**b)** Using either Numpy or Scipy draw a sample from $\\mathcal{N}(\\boldsymbol\\mu, \\Sigma)$ of size 1000; use `jointplot()` from Seaborn to display how the sample points are distributed in 2D space, along with histograms of marginal distributions."
   ]
  },
  {
   "cell_type": "code",
   "execution_count": null,
   "id": "0f0011e3",
   "metadata": {},
   "outputs": [],
   "source": [
    "### your code here ###"
   ]
  },
  {
   "cell_type": "markdown",
   "id": "9426b0e8",
   "metadata": {},
   "source": [
    "**c1)** Define a random variable $Z = X + Y$. Draw a sample $(\\bar{X}, \\bar{Y})\\sim\\mathcal{N}(\\boldsymbol\\mu, \\Sigma)$ of size $10^6$ and sum its $\\bar{X}$ and $\\bar{Y}$ coordinates to obtain a sample $\\bar{Z}$."
   ]
  },
  {
   "cell_type": "code",
   "execution_count": null,
   "id": "fde5ebb3",
   "metadata": {},
   "outputs": [],
   "source": [
    "### your code here ###"
   ]
  },
  {
   "cell_type": "markdown",
   "id": "cd882e33",
   "metadata": {},
   "source": [
    "**c2)** Using the sample mean and sample std of sample $\\bar{Z}$ estimate the mean and std/variance for RV $Z$."
   ]
  },
  {
   "cell_type": "code",
   "execution_count": null,
   "id": "e155c61d",
   "metadata": {},
   "outputs": [],
   "source": [
    "### your code here ###"
   ]
  },
  {
   "cell_type": "markdown",
   "id": "af52fbba",
   "metadata": {},
   "source": [
    "**c3)** Draw a histogram from this sample. What's the distribution for RV $Z$?"
   ]
  },
  {
   "cell_type": "code",
   "execution_count": null,
   "id": "7da05a58",
   "metadata": {},
   "outputs": [],
   "source": [
    "### your code here ###"
   ]
  },
  {
   "cell_type": "markdown",
   "id": "bde66c58",
   "metadata": {},
   "source": [
    "**05.** Let RV $\\mathbf{X}$ be a point picked uniformly at random from the *unit square*, i.e. a 2D point $(x, y)$ where both its coordinates belong to the interval $[0, 1]$. This RV has a *Bivariate Uniform Distribution*, i.e. $\\mathbf{X}\\sim\\mathcal{U}[0,1]^2.$\n",
    "\n",
    "$$\\$$\n",
    "\n",
    "Using `rng.random()` with the appropriate value for `size` argument, draw a sample from $\\mathcal{U}[0,1]^2$ of size 1000. Use `jointplot()` from Seaborn to display how the sample points are distributed in 2D space, along with histograms of marginal distributions."
   ]
  },
  {
   "cell_type": "code",
   "execution_count": null,
   "id": "df60aa29",
   "metadata": {},
   "outputs": [],
   "source": [
    "### your code here ###"
   ]
  },
  {
   "cell_type": "code",
   "execution_count": null,
   "id": "d47b9787",
   "metadata": {},
   "outputs": [],
   "source": [
    "### your code here ###"
   ]
  },
  {
   "cell_type": "markdown",
   "id": "12e49eca",
   "metadata": {},
   "source": [
    "**06.** Let $X$ and $Y$ be two RVs with $X\\sim\\mathcal{E}(3)$ and $Y\\sim\\mathcal{N}(3, 1)$. \n",
    "\n",
    "$$\\$$\n",
    "\n",
    "**a)** Draw a sample of size 1000 for both RVs separately. "
   ]
  },
  {
   "cell_type": "code",
   "execution_count": null,
   "id": "b39711fc",
   "metadata": {},
   "outputs": [],
   "source": [
    "### your code here ###"
   ]
  },
  {
   "cell_type": "markdown",
   "id": "c598798b",
   "metadata": {},
   "source": [
    "**b)** Use `jointplot()` from Seaborn to display how the sample points of bivariate RV $(X, Y)$ are distributed in 2D space, along with histograms of marginal distributions."
   ]
  },
  {
   "cell_type": "code",
   "execution_count": null,
   "id": "e46e357d",
   "metadata": {},
   "outputs": [],
   "source": [
    "### your code here ###"
   ]
  },
  {
   "cell_type": "markdown",
   "id": "9b63987a",
   "metadata": {},
   "source": [
    "**07.** You need to estimate a parameter $\\theta$, and you only know that it's a value between 0 and 1. You just decide to pick a number uniformly at random from $[0, 1]$ interval as the estimate of this parameter $\\hat{\\theta}$. \n",
    "\n",
    "$$\\$$ \n",
    "\n",
    "**a)** What should be the true value of parameter $\\theta$ in order for your 'decision method' to be unbiased? Answer this question by drawing a (large enough) sample from $\\mathcal{U}[0,1]$ and using the sample mean to approximate $E\\hat{\\theta}$."
   ]
  },
  {
   "cell_type": "code",
   "execution_count": null,
   "id": "47302843",
   "metadata": {},
   "outputs": [],
   "source": [
    "### your code here ###"
   ]
  },
  {
   "cell_type": "markdown",
   "id": "10df6a26",
   "metadata": {},
   "source": [
    "**b)** What's the (approximate) variance of this 'decision method'? \n",
    "\n",
    "*Hint*: To compute $E(\\hat{\\theta} - E\\hat{\\theta})^2$ use $({\\rm sample} - {\\rm sample\\ mean})^2$, and then find the mean of this result to approximate its expected value (and therefore the variance)."
   ]
  },
  {
   "cell_type": "code",
   "execution_count": null,
   "id": "3f8d526b",
   "metadata": {},
   "outputs": [],
   "source": [
    "### your code here ###"
   ]
  },
  {
   "cell_type": "markdown",
   "id": "f5dc0348",
   "metadata": {},
   "source": [
    "DataKolektiv, 2022/23.\n",
    "\n",
    "[hello@datakolektiv.com](mailto:goran.milovanovic@datakolektiv.com)\n",
    "\n",
    "![](../img/DK_Logo_100.png)"
   ]
  },
  {
   "cell_type": "markdown",
   "id": "6f8e160a",
   "metadata": {},
   "source": [
    "<font size=1>License: [GPLv3](https://www.gnu.org/licenses/gpl-3.0.txt) This Notebook is free software: you can redistribute it and/or modify it under the terms of the GNU General Public License as published by the Free Software Foundation, either version 3 of the License, or (at your option) any later version. This Notebook is distributed in the hope that it will be useful, but WITHOUT ANY WARRANTY; without even the implied warranty of MERCHANTABILITY or FITNESS FOR A PARTICULAR PURPOSE. See the GNU General Public License for more details. You should have received a copy of the GNU General Public License along with this Notebook. If not, see http://www.gnu.org/licenses/.</font>"
   ]
  }
 ],
 "metadata": {
  "kernelspec": {
   "display_name": "Python 3",
   "language": "python",
   "name": "python3"
  },
  "language_info": {
   "codemirror_mode": {
    "name": "ipython",
    "version": 3
   },
   "file_extension": ".py",
   "mimetype": "text/x-python",
   "name": "python",
   "nbconvert_exporter": "python",
   "pygments_lexer": "ipython3",
   "version": "3.8.8"
  }
 },
 "nbformat": 4,
 "nbformat_minor": 5
}
