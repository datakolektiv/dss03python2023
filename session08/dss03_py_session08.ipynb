{
 "cells": [
  {
   "cell_type": "markdown",
   "id": "64c13a8b",
   "metadata": {},
   "source": [
    "## 1. Event and Experimental Probability"
   ]
  },
  {
   "cell_type": "markdown",
   "id": "a01fcb91",
   "metadata": {},
   "source": [
    "When asked: *What's the probability of landing Tails when tossing a (fair) coin?* You'd (probably) answer: $\\frac{1}{2}$. Or 50%. But what does that mean?\n",
    "\n",
    "And when asked: *What's the probability of getting 6 when throwing a six-sided (fair) die?* The expected answer: $\\frac{1}{6}$ *What about NOT getting 6?* It's: $\\frac{5}{6}$. And *getting a number less than five?* $\\frac{2}{3}$? But what do those numbers mean?\n",
    "\n",
    "And and - *The probability of drawing an Ace from a (fair) deck of cards?*"
   ]
  },
  {
   "cell_type": "markdown",
   "id": "e70f43e7",
   "metadata": {},
   "source": [
    "---\n",
    "\n",
    "Let's get back to the coin. $\\frac{1}{2}$ says you. But what does it mean? Maybe you ment that out of two tossings you'll land exactly one Tails ($TH$ or $HT$)? Okay, let's toss a coin two times. I got $TT$. Maybe my assumption was wrong? Or I've just got unlucky? Let's toss it again. $HT$ this time. Maybe I'm actually right? Or I got lucky. Another two tosses! $HH$. Hmm... Unlucky again? But can I talk about luck in mathematics and in hypothesis testing?\n",
    "\n",
    "What about the other answer: 50%. Does that mean that I'll land Tails exactly half the times when tossing a coin $N$ times? Let's toss it, say, 10 times. But I don't actually have a coin. Luckily I have Python which can simulate tossing a coin. "
   ]
  },
  {
   "cell_type": "code",
   "execution_count": 1,
   "id": "8d3325d3",
   "metadata": {},
   "outputs": [],
   "source": [
    "import numpy as np\n",
    "import pandas as pd\n",
    "import matplotlib.pyplot as plt\n",
    "import seaborn as sns\n",
    "\n",
    "rng = np.random.default_rng(seed=1023)"
   ]
  },
  {
   "cell_type": "code",
   "execution_count": 2,
   "id": "766698ee",
   "metadata": {},
   "outputs": [
    {
     "data": {
      "text/plain": [
       "array(['H', 'H', 'T', 'T', 'T', 'T', 'H', 'T', 'H', 'T'], dtype='<U1')"
      ]
     },
     "execution_count": 2,
     "metadata": {},
     "output_type": "execute_result"
    }
   ],
   "source": [
    "coin = ['H', 'T']\n",
    "\n",
    "tossing = rng.choice(coin, size=10)\n",
    "tossing"
   ]
  },
  {
   "cell_type": "markdown",
   "id": "263913d8",
   "metadata": {},
   "source": [
    "6 of 10 Tails. Close, but not quite 50%. But, wait. 50% also means 50/100. Let's toss a coin 100 times then. "
   ]
  },
  {
   "cell_type": "code",
   "execution_count": 3,
   "id": "377bc6d0",
   "metadata": {},
   "outputs": [
    {
     "data": {
      "text/plain": [
       "array(['T', 'H', 'H', 'H', 'T', 'H', 'T', 'T', 'H', 'T', 'H', 'H', 'T',\n",
       "       'H', 'T', 'H', 'H', 'H', 'T', 'T', 'H', 'T', 'H', 'H', 'H', 'H',\n",
       "       'T', 'H', 'H', 'T', 'H', 'H', 'T', 'T', 'H', 'H', 'H', 'T', 'H',\n",
       "       'T', 'H', 'H', 'T', 'H', 'T', 'H', 'T', 'H', 'T', 'T', 'H', 'H',\n",
       "       'H', 'H', 'T', 'T', 'T', 'T', 'T', 'T', 'T', 'H', 'T', 'H', 'T',\n",
       "       'T', 'T', 'T', 'H', 'H', 'H', 'H', 'H', 'H', 'T', 'H', 'H', 'H',\n",
       "       'T', 'T', 'T', 'T', 'H', 'T', 'H', 'T', 'T', 'H', 'H', 'T', 'T',\n",
       "       'H', 'T', 'H', 'T', 'T', 'T', 'H', 'H', 'H'], dtype='<U1')"
      ]
     },
     "execution_count": 3,
     "metadata": {},
     "output_type": "execute_result"
    }
   ],
   "source": [
    "tossing = rng.choice(coin, size=100)\n",
    "tossing"
   ]
  },
  {
   "cell_type": "markdown",
   "id": "66f46ede",
   "metadata": {},
   "source": [
    "How many Tails, then?"
   ]
  },
  {
   "cell_type": "code",
   "execution_count": 4,
   "id": "d5dc3ab6",
   "metadata": {},
   "outputs": [
    {
     "data": {
      "text/plain": [
       "(array(['H', 'T'], dtype='<U1'), array([53, 47], dtype=int64))"
      ]
     },
     "execution_count": 4,
     "metadata": {},
     "output_type": "execute_result"
    }
   ],
   "source": [
    "np.unique(tossing, return_counts=True)"
   ]
  },
  {
   "cell_type": "markdown",
   "id": "3735e5e7",
   "metadata": {},
   "source": [
    "47/100. Not bad. But not quite 50%. Lucky, but not as quite? (But can I talk about luck in mathematics and in hypothesis testing?) What if those 50% is actually an *approximation* of the result? Let's toss a coin 1000 times.  "
   ]
  },
  {
   "cell_type": "code",
   "execution_count": 5,
   "id": "67b57ed3",
   "metadata": {},
   "outputs": [
    {
     "data": {
      "text/plain": [
       "(array(['H', 'T'], dtype='<U1'), array([480, 520], dtype=int64))"
      ]
     },
     "execution_count": 5,
     "metadata": {},
     "output_type": "execute_result"
    }
   ],
   "source": [
    "tossing = rng.choice(coin, size=1000)\n",
    "np.unique(tossing, return_counts=True)"
   ]
  },
  {
   "cell_type": "markdown",
   "id": "bbd5261a",
   "metadata": {},
   "source": [
    "520/1000. That's 52%. And that's not that quite bad *approximation*. But still... Now, let's toss a coin ONE MILLION TIMES."
   ]
  },
  {
   "cell_type": "code",
   "execution_count": 6,
   "id": "ef2791bb",
   "metadata": {},
   "outputs": [
    {
     "data": {
      "text/plain": [
       "(array(['H', 'T'], dtype='<U1'), array([500537, 499463], dtype=int64))"
      ]
     },
     "execution_count": 6,
     "metadata": {},
     "output_type": "execute_result"
    }
   ],
   "source": [
    "tossing = rng.choice(coin, size=10**6)\n",
    "np.unique(tossing, return_counts=True)"
   ]
  },
  {
   "cell_type": "code",
   "execution_count": 7,
   "id": "c35449c4",
   "metadata": {},
   "outputs": [
    {
     "data": {
      "text/plain": [
       "0.499463"
      ]
     },
     "execution_count": 7,
     "metadata": {},
     "output_type": "execute_result"
    }
   ],
   "source": [
    "499463/10**6"
   ]
  },
  {
   "cell_type": "markdown",
   "id": "d95f815b",
   "metadata": {},
   "source": [
    "Well - that's 49.95%, almost 50%. Quite good approximation. \n",
    "\n",
    "What if tossed a coin more than million times?"
   ]
  },
  {
   "cell_type": "code",
   "execution_count": 8,
   "id": "8e78e894",
   "metadata": {},
   "outputs": [
    {
     "data": {
      "text/plain": [
       "(array(['H', 'T'], dtype='<U1'), array([4999908, 5000092], dtype=int64))"
      ]
     },
     "execution_count": 8,
     "metadata": {},
     "output_type": "execute_result"
    }
   ],
   "source": [
    "tossing = rng.choice(coin, size=10**7)\n",
    "np.unique(tossing, return_counts=True)"
   ]
  },
  {
   "cell_type": "code",
   "execution_count": 9,
   "id": "f60df64c",
   "metadata": {},
   "outputs": [
    {
     "data": {
      "text/plain": [
       "0.5000092"
      ]
     },
     "execution_count": 9,
     "metadata": {},
     "output_type": "execute_result"
    }
   ],
   "source": [
    "5000092/10**7"
   ]
  },
  {
   "cell_type": "markdown",
   "id": "19b8fe40",
   "metadata": {},
   "source": [
    "This is even better, veeeery close to 50%; 50.001%, to be more exact.\n",
    "\n",
    "And if we tossed a coin **infinitely many times**? Then there is no approximation. We'd get 50% sharp. Mathematically, we can write this\n",
    "\n",
    "$$ P(T) = \\lim_{N_{\\rm TRIES}\\rightarrow\\infty}\\frac{n_{\\rm HITS}}{N_{\\rm TRIES}} = 0.5 = \\frac{1}{2}.$$"
   ]
  },
  {
   "cell_type": "markdown",
   "id": "24db8811",
   "metadata": {},
   "source": [
    "What are all these letters? Let's interpret this formula one by one. \n",
    "\n",
    "- $T$ is the *event*: event of landing Tails when tossing ONE coin. \n",
    "\n",
    "\n",
    "- $P$ is the *probability*: we may consider it as a function which *measures* how probable an event is. So, $P(T)$ is probability of langing Tails when tossing one coin. \n",
    "\n",
    "\n",
    "- $N_{\\rm TRIES}$ is the number of trials of the SAME experiment. In our case, it's the number of tossing a coin. \n",
    "\n",
    "\n",
    "- $n_{\\rm HITS}$ is the number of 'hits', i.e. the number of desired outcomes in our set of trials. In our case, it's the number of Tails landed. \n",
    "\n",
    "\n",
    "- $\\lim_{N_{\\rm TRIES}\\rightarrow\\infty}$ is the *limit*: a value of the fraction $\\frac{n_{\\rm HITS}}{N_{\\rm TRIES}}$ which we would obtain if we would *theoretically* be able to toss a coin infinitely many times in our finite lives. But we can't do that. We can only obtain an *experimental* (or *statistical*) approximation of the *theoretical* value in finite number of trials. And as we demonstrated - the larger number of trials, the better the approximation. "
   ]
  },
  {
   "cell_type": "markdown",
   "id": "b1593854",
   "metadata": {},
   "source": [
    "***"
   ]
  },
  {
   "cell_type": "markdown",
   "id": "f3e067ae",
   "metadata": {},
   "source": [
    "Let's now illustrate this *limit* on another example: rolling a six-sided die. Intuintively we say that the probability of getting a 6 is $\\frac{1}{6}$, or 16.666...% . Similarly as with the coin, we'll simulate rolling a die for various numbers of trials and list the results, i.e. approximations of theoretical probability."
   ]
  },
  {
   "cell_type": "code",
   "execution_count": 10,
   "id": "e257182a",
   "metadata": {
    "scrolled": true
   },
   "outputs": [
    {
     "name": "stdout",
     "output_type": "stream",
     "text": [
      "|    |     No. of Rolls |        No. of 6s |   Experimental Probability |\n",
      "|---:|-----------------:|-----------------:|---------------------------:|\n",
      "|  0 |     56           |      6           |                    0.10714 |\n",
      "|  1 |     63           |     22           |                    0.34921 |\n",
      "|  2 |     71           |     12           |                    0.16901 |\n",
      "|  3 |     81           |     16           |                    0.19753 |\n",
      "|  4 |     91           |     12           |                    0.13187 |\n",
      "|  5 |    103           |     20           |                    0.19417 |\n",
      "|  6 |    116           |     14           |                    0.12069 |\n",
      "|  7 |    132           |     23           |                    0.17424 |\n",
      "|  8 |    149           |     26           |                    0.1745  |\n",
      "|  9 |    168           |     31           |                    0.18452 |\n",
      "| 10 |    190           |     36           |                    0.18947 |\n",
      "| 11 |    215           |     32           |                    0.14884 |\n",
      "| 12 |    243           |     35           |                    0.14403 |\n",
      "| 13 |    275           |     50           |                    0.18182 |\n",
      "| 14 |    310           |     59           |                    0.19032 |\n",
      "| 15 |    351           |     60           |                    0.17094 |\n",
      "| 16 |    396           |     75           |                    0.18939 |\n",
      "| 17 |    448           |     78           |                    0.17411 |\n",
      "| 18 |    506           |     85           |                    0.16798 |\n",
      "| 19 |    572           |     87           |                    0.1521  |\n",
      "| 20 |    646           |    111           |                    0.17183 |\n",
      "| 21 |    730           |    120           |                    0.16438 |\n",
      "| 22 |    825           |    149           |                    0.18061 |\n",
      "| 23 |    932           |    153           |                    0.16416 |\n",
      "| 24 |   1053           |    156           |                    0.14815 |\n",
      "| 25 |   1190           |    182           |                    0.15294 |\n",
      "| 26 |   1345           |    238           |                    0.17695 |\n",
      "| 27 |   1519           |    250           |                    0.16458 |\n",
      "| 28 |   1717           |    285           |                    0.16599 |\n",
      "| 29 |   1940           |    332           |                    0.17113 |\n",
      "| 30 |   2192           |    353           |                    0.16104 |\n",
      "| 31 |   2477           |    398           |                    0.16068 |\n",
      "| 32 |   2798           |    464           |                    0.16583 |\n",
      "| 33 |   3162           |    513           |                    0.16224 |\n",
      "| 34 |   3572           |    609           |                    0.17049 |\n",
      "| 35 |   4037           |    661           |                    0.16374 |\n",
      "| 36 |   4561           |    750           |                    0.16444 |\n",
      "| 37 |   5153           |    903           |                    0.17524 |\n",
      "| 38 |   5823           |    959           |                    0.16469 |\n",
      "| 39 |   6579           |   1113           |                    0.16917 |\n",
      "| 40 |   7433           |   1209           |                    0.16265 |\n",
      "| 41 |   8399           |   1388           |                    0.16526 |\n",
      "| 42 |   9490           |   1547           |                    0.16301 |\n",
      "| 43 |  10722           |   1852           |                    0.17273 |\n",
      "| 44 |  12115           |   2096           |                    0.17301 |\n",
      "| 45 |  13688           |   2395           |                    0.17497 |\n",
      "| 46 |  15466           |   2557           |                    0.16533 |\n",
      "| 47 |  17475           |   2981           |                    0.17059 |\n",
      "| 48 |  19744           |   3316           |                    0.16795 |\n",
      "| 49 |  22309           |   3757           |                    0.16841 |\n",
      "| 50 |  25206           |   4103           |                    0.16278 |\n",
      "| 51 |  28480           |   4877           |                    0.17124 |\n",
      "| 52 |  32179           |   5340           |                    0.16595 |\n",
      "| 53 |  36358           |   6164           |                    0.16954 |\n",
      "| 54 |  41080           |   6904           |                    0.16806 |\n",
      "| 55 |  46415           |   7798           |                    0.16801 |\n",
      "| 56 |  52444           |   8848           |                    0.16871 |\n",
      "| 57 |  59255           |   9899           |                    0.16706 |\n",
      "| 58 |  66951           |  11168           |                    0.16681 |\n",
      "| 59 |  75646           |  12612           |                    0.16672 |\n",
      "| 60 |  85470           |  14220           |                    0.16637 |\n",
      "| 61 |  96571           |  16169           |                    0.16743 |\n",
      "| 62 | 109113           |  18097           |                    0.16586 |\n",
      "| 63 | 123284           |  20700           |                    0.1679  |\n",
      "| 64 | 139296           |  23241           |                    0.16685 |\n",
      "| 65 | 157387           |  26089           |                    0.16576 |\n",
      "| 66 | 177827           |  29739           |                    0.16724 |\n",
      "| 67 | 200923           |  33427           |                    0.16637 |\n",
      "| 68 | 227018           |  37589           |                    0.16558 |\n",
      "| 69 | 256502           |  42681           |                    0.1664  |\n",
      "| 70 | 289815           |  48210           |                    0.16635 |\n",
      "| 71 | 327454           |  54615           |                    0.16679 |\n",
      "| 72 | 369983           |  61763           |                    0.16693 |\n",
      "| 73 | 418034           |  69819           |                    0.16702 |\n",
      "| 74 | 472326           |  78679           |                    0.16658 |\n",
      "| 75 | 533669           |  88798           |                    0.16639 |\n",
      "| 76 | 602980           | 100287           |                    0.16632 |\n",
      "| 77 | 681292           | 113559           |                    0.16668 |\n",
      "| 78 | 769774           | 128476           |                    0.1669  |\n",
      "| 79 | 869749           | 145148           |                    0.16688 |\n",
      "| 80 | 982707           | 164425           |                    0.16732 |\n",
      "| 81 |      1.11034e+06 | 185157           |                    0.16676 |\n",
      "| 82 |      1.25454e+06 | 208969           |                    0.16657 |\n",
      "| 83 |      1.41747e+06 | 236653           |                    0.16695 |\n",
      "| 84 |      1.60157e+06 | 267313           |                    0.16691 |\n",
      "| 85 |      1.80957e+06 | 301658           |                    0.1667  |\n",
      "| 86 |      2.04459e+06 | 340357           |                    0.16647 |\n",
      "| 87 |      2.31013e+06 | 384242           |                    0.16633 |\n",
      "| 88 |      2.61016e+06 | 435183           |                    0.16673 |\n",
      "| 89 |      2.94915e+06 | 491206           |                    0.16656 |\n",
      "| 90 |      3.33217e+06 | 555415           |                    0.16668 |\n",
      "| 91 |      3.76494e+06 | 627093           |                    0.16656 |\n",
      "| 92 |      4.25390e+06 | 708713           |                    0.1666  |\n",
      "| 93 |      4.80638e+06 | 801624           |                    0.16678 |\n",
      "| 94 |      5.43061e+06 | 905153           |                    0.16668 |\n",
      "| 95 |      6.13591e+06 |      1.02205e+06 |                    0.16657 |\n",
      "| 96 |      6.93281e+06 |      1.15658e+06 |                    0.16683 |\n",
      "| 97 |      7.8332e+06  |      1.30626e+06 |                    0.16676 |\n",
      "| 98 |      8.85054e+06 |      1.47522e+06 |                    0.16668 |\n",
      "| 99 |      1e+07       |      1.66675e+06 |                    0.16668 |\n"
     ]
    }
   ],
   "source": [
    "exp_prob_df = pd.DataFrame(columns=['No. of Rolls', 'No. of 6s', 'Experimental Probability'])\n",
    "\n",
    "number_of_rolls = np.logspace(1.75, 7, 100, dtype=int).tolist()\n",
    "number_of_6s = []\n",
    "die = list(range(1, 7))\n",
    "           \n",
    "for n_rolls in number_of_rolls:\n",
    "    rolling = rng.choice(die, size=n_rolls)\n",
    "    \n",
    "    results = np.unique(rolling, return_counts=True)\n",
    "    n_6 = results[1][-1]\n",
    "    number_of_6s.append(n_6)\n",
    "\n",
    "number_of_6s = np.asarray(number_of_6s)\n",
    "\n",
    "exp_prob_df['No. of Rolls'] = number_of_rolls\n",
    "exp_prob_df['No. of 6s'] = number_of_6s\n",
    "exp_prob_df['Experimental Probability'] = np.round(number_of_6s/number_of_rolls, 5)\n",
    "    \n",
    "    \n",
    "print(exp_prob_df.to_markdown())"
   ]
  },
  {
   "cell_type": "markdown",
   "id": "3d6081e8",
   "metadata": {},
   "source": [
    "And here's how our accumulation point looks like:"
   ]
  },
  {
   "cell_type": "code",
   "execution_count": 11,
   "id": "af83af80",
   "metadata": {},
   "outputs": [
    {
     "data": {
      "image/png": "[encoded data removed]",
      "text/plain": [
       "<Figure size 1152x720 with 1 Axes>"
      ]
     },
     "metadata": {
      "needs_background": "light"
     },
     "output_type": "display_data"
    }
   ],
   "source": [
    "fig, ax = plt.subplots(figsize=(16, 10))\n",
    "\n",
    "sns.scatterplot(ax = ax, data = exp_prob_df, x='No. of Rolls', y='Experimental Probability');\n",
    "ax.axhline(.16667, c='r')\n",
    "\n",
    "ax.set_xscale('log')\n",
    "ax.set_yticks(np.linspace(.08, .24, 25))\n",
    "ax.legend(['Theoretical Probability']);"
   ]
  },
  {
   "cell_type": "markdown",
   "id": "90628064",
   "metadata": {},
   "source": [
    "From the scatterplot above we see how the values of ratio $\\frac{n_{\\rm HITS}}{N_{\\rm TRIES}}$ converge towards the predicted theoretical probability of 16.666...% as $N_{\\rm TRIES}\\rightarrow\\infty$."
   ]
  },
  {
   "cell_type": "markdown",
   "id": "eb52acf6",
   "metadata": {},
   "source": [
    "But, is there a way to calculate theoretical probability **exactly**?"
   ]
  },
  {
   "cell_type": "markdown",
   "id": "ddd6ccd2",
   "metadata": {},
   "source": [
    "## 2. $\\sigma$-Algebra of Events and Theoretical Probability"
   ]
  },
  {
   "cell_type": "markdown",
   "id": "9bd9f7d7",
   "metadata": {},
   "source": [
    "In order to be able to speak properly about theoretical probability (and be able to compute it), we need to introduce *$\\sigma$-algebra of events* and *probability-as-a-measure*. We can consider $\\sigma$-algebra of events as a family of sets where every set is an event, and every element of this event-set is an *outcome* for which consider the evenet realized, i.e. a *favorable outcome*. \n",
    "\n",
    "For example, if we toss a coin two times, then one event-set might be\n",
    "\n",
    "$$ A - {\\rm Landed\\ 1\\ Heads\\ and\\ 1\\ Tails}, $$\n",
    "\n",
    "and its elements are\n",
    "\n",
    "$$ A = \\{HT, TH\\}.$$"
   ]
  },
  {
   "cell_type": "markdown",
   "id": "2e4f3923",
   "metadata": {},
   "source": [
    "A set of all the possible outcomes for a given experiment/observation is called the *universal set*. It is denoted by $\\Omega$ and it is the set upon which $\\sigma$-algebra of events is built upon, from the subsets $A\\subset\\Omega$ of the universal set.  \n",
    "\n",
    "For tossing a coin two times we have\n",
    "\n",
    "$$ \\Omega = \\{HH, HT, TH, TT\\},$$\n",
    "\n",
    "and obviously\n",
    "\n",
    "$$ A \\subset \\Omega. $$"
   ]
  },
  {
   "cell_type": "markdown",
   "id": "b2b9c6b4",
   "metadata": {},
   "source": [
    "Let $\\Sigma$ be a $\\sigma$-algebra of events on $\\Omega$, and $A$ and $B$ two events (which we write $A, B\\in \\Sigma$). Then we have:"
   ]
  },
  {
   "cell_type": "markdown",
   "id": "6cbbdaaa",
   "metadata": {},
   "source": [
    "$$1^\\circ\\quad \\emptyset,\\ \\Omega \\in \\Sigma$$\n",
    "\n",
    "$$2^\\circ\\quad A^C \\in \\Sigma$$\n",
    "\n",
    "$$3^\\circ\\quad A\\cup B \\in \\Sigma$$\n",
    "\n",
    "$$4^\\circ\\quad A\\cap B \\in \\Sigma.$$"
   ]
  },
  {
   "cell_type": "markdown",
   "id": "7d1edebb",
   "metadata": {},
   "source": [
    "What do these cryptic messages even mean? Let's explain them one by one, I promise they make sense."
   ]
  },
  {
   "cell_type": "markdown",
   "id": "1c310bb0",
   "metadata": {},
   "source": [
    "$$1^\\circ\\quad \\emptyset,\\ \\Omega \\in \\Sigma$$"
   ]
  },
  {
   "cell_type": "markdown",
   "id": "a5ffcbb2",
   "metadata": {},
   "source": [
    "This means that the empty set $\\emptyset$ and the total set $\\Omega$ are also considered as events.\n",
    "\n",
    "$\\emptyset$ is called an *impossible event*, and it does not contain any (possible) outcome. \n",
    "\n",
    "$\\Omega$, viewed as an event is called *certain event* - getting any outcome from all the possible outcomes is definitely a certain event. \n",
    "\n",
    "---"
   ]
  },
  {
   "cell_type": "markdown",
   "id": "dbeef6cd",
   "metadata": {},
   "source": [
    "$$2^\\circ\\quad A^C \\in \\Sigma$$"
   ]
  },
  {
   "cell_type": "markdown",
   "id": "3636e867",
   "metadata": {},
   "source": [
    "An complementary set of $A$: $A^C = \\Omega\\setminus A$ is also considered as an event. Every unfavourable outcome of $A$ is favourable for $A^C$ (and vice versa). So, for the event $A$ as defined above, we have:\n",
    "\n",
    "$$ A^C = \\{HH, TT\\}. $$\n",
    "\n",
    "---"
   ]
  },
  {
   "cell_type": "markdown",
   "id": "ac6b2514",
   "metadata": {},
   "source": [
    "$$3^\\circ\\quad A\\cup B \\in \\Sigma$$"
   ]
  },
  {
   "cell_type": "markdown",
   "id": "d2b80bfa",
   "metadata": {},
   "source": [
    "A union of two events (denoted also as $A + B$) is also considered as an event. But what is a union of two events actually? We say that the event $A\\cup B$ is realized when at least one of the events $A$ **OR** $B$ is realized. $A\\cup B$ contains all the outcomes which are favourable for either the event $A$ **OR** event $B$.\n",
    "\n",
    "For example, if we define event $B$ as\n",
    "\n",
    "$$B - {\\rm Landed\\ 2\\ Tails,}$$\n",
    "\n",
    "we have \n",
    "\n",
    "$$ A\\cup B = \\{HT, TH, TT\\}.$$\n",
    "\n",
    "---"
   ]
  },
  {
   "cell_type": "markdown",
   "id": "9e1785a5",
   "metadata": {},
   "source": [
    "$$4^\\circ\\quad A\\cap B \\in \\Sigma.$$"
   ]
  },
  {
   "cell_type": "markdown",
   "id": "98e5b387",
   "metadata": {},
   "source": [
    "An intersection of two events (denoted also as AB) is also considered as an event. We say that the event $AB$ is realized when both events $A$ **AND** $B$ are simultaneously realized. $AB$ contains all the outcomes which are favourable for both events $A$ **AND** $B$. \n",
    "\n",
    "For examle, if we define event $C$ as \n",
    "\n",
    "$$ C - {\\rm Tails\\ in\\ the\\ first\\ coin\\ toss}, $$\n",
    "\n",
    "we have \n",
    "\n",
    "$$ AC = \\{HT, TH\\} \\cap \\{TH, TT\\} = \\{TH\\}.$$"
   ]
  },
  {
   "cell_type": "markdown",
   "id": "248e65b4",
   "metadata": {},
   "source": [
    "Two events $A$ and $B$ are *mutually exclusive* or *disjoint* if $A\\cap B = \\emptyset$, i.e. if realization of both events simultaneously is an impossible event.\n",
    "\n",
    "---"
   ]
  },
  {
   "cell_type": "markdown",
   "id": "a451f0fd",
   "metadata": {},
   "source": [
    "One more importan notion is the *elementary event* - an event containing a single possible outcome. So, for tossing our coin two times, elementary events are: $\\{HH\\},\\ \\{HT\\},\\ \\{TH\\}$ and $\\{TT\\}$."
   ]
  },
  {
   "cell_type": "markdown",
   "id": "6d8b0462",
   "metadata": {},
   "source": [
    "$\\sigma$-algebras of events serve us as a brige between the natural language by which we describe events and their outcomes with formal mathematical language to describe them via sets, their elements and set operations. The upside of mathematical objects is that it is natural to impose some measure on them, and now we can measure the events, i.e. measure the probability of event realization. So we can define probability-as-a-measure, that is a mapping $P$ from $\\sigma$-algebra of events to interval a set of real numbers via following set of *axioms* (known as *Kolmogorov Axioms*):"
   ]
  },
  {
   "cell_type": "markdown",
   "id": "935e5759",
   "metadata": {},
   "source": [
    "**Axiom 1**: For any event $A$ we have\n",
    "\n",
    "$$ P(A)\\geqslant 0.$$\n",
    "\n",
    "**Axiom 2**: For certain event $\\Omega$ we have\n",
    "\n",
    "$$ P(\\Omega) = 1.$$\n",
    "\n",
    "**Axiom 3**: For mutually exclusive events $A_1, A_2, \\ldots, A_n, \\ldots$ we have\n",
    "\n",
    "$$P\\Big(\\bigcup_{i=1}^{\\infty}A_i\\Big) = \\sum_{i=1}^{\\infty}P(A_i).$$"
   ]
  },
  {
   "cell_type": "markdown",
   "id": "a2adbdca",
   "metadata": {},
   "source": [
    "What do those axioms tell us?"
   ]
  },
  {
   "cell_type": "markdown",
   "id": "28c3e187",
   "metadata": {},
   "source": [
    "**Axiom 1** means that the probability of any event has to be some non-negative real number; in other words - we cannot have negative probability (the same way we cannot have negative length, surface or volume - which are also measures of some kind)"
   ]
  },
  {
   "cell_type": "markdown",
   "id": "b0c8f5e8",
   "metadata": {},
   "source": [
    "**Axiom 2** says that the probability of a certain event is 1 (or 100%). As we know that $\\Omega$, viewed as a set, is a universal set, i.e. set that contains all the possible outcomes - this axiom also tells us that the probability of observing any outcome of all possible defined outcomes is equal to 1. "
   ]
  },
  {
   "cell_type": "markdown",
   "id": "34a9254b",
   "metadata": {},
   "source": [
    "If we want to compute a probability of some union of mutually exclusive events, **Axiom 3** tells us that we can do that just by summing the probabilities of every single event. "
   ]
  },
  {
   "cell_type": "markdown",
   "id": "f78bc3c8",
   "metadata": {},
   "source": [
    "***"
   ]
  },
  {
   "cell_type": "markdown",
   "id": "20205917",
   "metadata": {},
   "source": [
    "And here's a nice reminder for $\\sigma$-algebras and Kolmogorov Axioms:"
   ]
  },
  {
   "cell_type": "markdown",
   "id": "82def81e",
   "metadata": {},
   "source": [
    "<img src=\"prob.png\" style=\"width: 800px;\"/>"
   ]
  },
  {
   "cell_type": "markdown",
   "id": "d5f048f1",
   "metadata": {},
   "source": [
    "These axioms have very usefull consequences; if $A$ and $B$ are two events, we have:\n",
    "\n",
    "$$ 1^\\circ\\ P(\\emptyset) = 0, $$\n",
    "\n",
    "$$ 2^\\circ\\ 0 \\leqslant P(A) \\leqslant 1, $$\n",
    "\n",
    "$$ 3^\\circ\\ P(A^C) = 1 - P(A), $$\n",
    "\n",
    "$$ 4^\\circ\\ A\\subseteq B \\Rightarrow P(A) \\leqslant P(B).$$"
   ]
  },
  {
   "cell_type": "markdown",
   "id": "95102dfa",
   "metadata": {},
   "source": [
    "Let's now go over these consequences. "
   ]
  },
  {
   "cell_type": "markdown",
   "id": "832bd03b",
   "metadata": {},
   "source": [
    "$$ 1^\\circ\\ P(\\emptyset) = 0 $$"
   ]
  },
  {
   "cell_type": "markdown",
   "id": "126888d0",
   "metadata": {},
   "source": [
    "We saw that impossible event is represented by $\\emptyset$. So, this tells us that the probability of an impossible event is 0. "
   ]
  },
  {
   "cell_type": "markdown",
   "id": "771ca432",
   "metadata": {},
   "source": [
    "***"
   ]
  },
  {
   "cell_type": "markdown",
   "id": "000a3b1f",
   "metadata": {},
   "source": [
    "$$ 2^\\circ\\ 0 \\leqslant P(A) \\leqslant 1 $$"
   ]
  },
  {
   "cell_type": "markdown",
   "id": "8d84eb85",
   "metadata": {},
   "source": [
    "Not only that the probability of an event is some non-negative real number - it's a real number belonging to the interval [0, 1]; and the endpoints of this interval correspond to the impossible event ($P(\\emptyset) = 0$) and certain event ($P(\\Omega) = 1$). The closer the probability is to 1, the more probable is the realization of an event. This also alows us to speak about probabilities in terms of percents. "
   ]
  },
  {
   "cell_type": "markdown",
   "id": "5d45967e",
   "metadata": {},
   "source": [
    "***"
   ]
  },
  {
   "cell_type": "markdown",
   "id": "a190b7f9",
   "metadata": {},
   "source": [
    "$$ 3^\\circ\\ P(A^C) = 1 - P(A) $$"
   ]
  },
  {
   "cell_type": "markdown",
   "id": "9d64746c",
   "metadata": {},
   "source": [
    "This tells us how to simply calculate probability of a complementary event. If a probability of an event happening is 22%, then the probability of it NOT happening is 78%."
   ]
  },
  {
   "cell_type": "markdown",
   "id": "d83d9ece",
   "metadata": {},
   "source": [
    "***"
   ]
  },
  {
   "cell_type": "markdown",
   "id": "2030cb0a",
   "metadata": {},
   "source": [
    "$$4^\\circ\\ A\\subseteq B \\Rightarrow P(A) \\leqslant P(B) $$"
   ]
  },
  {
   "cell_type": "markdown",
   "id": "f63529f6",
   "metadata": {},
   "source": [
    "If set $A$ is contained in set $B$, i.e. if all the outcomes favourable for event $A$ are also favourable for event $B$, then event $A$ has smaller (or equal) chances for realization than the event $B$. In other words - events with smaller set of favourable outcomes are less probable. "
   ]
  },
  {
   "cell_type": "markdown",
   "id": "7d6726c7",
   "metadata": {},
   "source": [
    "***"
   ]
  },
  {
   "cell_type": "markdown",
   "id": "bcd4c664",
   "metadata": {},
   "source": [
    "All this talk about the Probability Theory, but we still haven't figured out how to calculate theoretical probability. Don't worry, we are almost there - and we have all the ingredients to write a formula that stems quite naturally from the theoretical foundations above. "
   ]
  },
  {
   "cell_type": "markdown",
   "id": "8365a598",
   "metadata": {},
   "source": [
    "As we saw, probabilty of an event should be some number between 0 and 1, with probabilities of impossible and certain event as extreme values. And the bigger the event/set is, the biger its probability should be. This leads us to define theoretical probability of an event ($A$) via the following simple formula:\n",
    "\n",
    "$$P(A) = \\frac{|A|}{|\\Omega|} = \\frac{{\\rm No.\\ of\\ all\\ the\\ favourable\\ outcomes\\ for}\\ A}{{\\rm No.\\ of\\ all\\ the\\ possible\\ outcomes}}.$$"
   ]
  },
  {
   "cell_type": "markdown",
   "id": "8ae401c1",
   "metadata": {},
   "source": [
    "($|A|$ is the *cardinality* of a set, i.e. a number of elements that set has.)"
   ]
  },
  {
   "cell_type": "markdown",
   "id": "42b9375e",
   "metadata": {},
   "source": [
    "One can easily check that formula for the probability, as given above, satisfies all the Kolmogorov Axioms and, of course, all the listed consequences. "
   ]
  },
  {
   "cell_type": "markdown",
   "id": "5efc546f",
   "metadata": {},
   "source": [
    "***"
   ]
  },
  {
   "cell_type": "markdown",
   "id": "95396b04",
   "metadata": {},
   "source": [
    "Now that we have the 'formula for probability' we can easily calculate probabilities of the events listed at the beginning of this notebook. "
   ]
  },
  {
   "cell_type": "markdown",
   "id": "7b55f15d",
   "metadata": {},
   "source": [
    "- Probability of landing Tails on a coin toss:\n",
    "\n",
    "$$P(T) = \\frac{|\\{T\\}|}{|\\{H, T\\}|} = \\frac{1}{2}.$$\n",
    "\n",
    "\n",
    "- Probability of landing at least one Tails on two coin tosses (event $A$):\n",
    "\n",
    "$$P(A) = \\frac{|\\{TH, HT, TT\\}|}{|\\{HH, TH, HT, TT\\}|} = \\frac{3}{4}.$$\n",
    "\n",
    "\n",
    "- Probability of getting 6 when rolling a six-sided die:\n",
    "\n",
    "$$P(X = 6) = \\frac{|\\{6\\}|}{|\\{1, 2, 3, 4, 5, 6\\}|} = \\frac{1}{6}.$$\n",
    "\n",
    "\n",
    "\n",
    "- Probability of getting less than 5 when rolling a six-sided die:\n",
    "\n",
    "$$P(X < 5) = \\frac{|\\{1, 2, 3, 4\\}|}{|\\{1, 2, 3, 4, 5, 6\\}|} = \\frac{4}{6} = \\frac{2}{3}.$$\n",
    "\n",
    "\n",
    "\n",
    "- Probability of getting any number from 1 to 6 when rolling a six-sided die:\n",
    "\n",
    "$$P(1\\leqslant X\\leqslant 6) = \\frac{|\\{1, 2, 3, 4, 5, 6\\}|}{|\\{1, 2, 3, 4, 5, 6\\}|} = \\frac{6}{6} = 1.$$\n",
    "\n",
    "\n",
    "\n",
    "- Probability of getting a 7 when rolling a six-sided die:\n",
    "\n",
    "$$P(X = 7) = \\frac{|\\emptyset|}{|\\{1, 2, 3, 4, 5, 6\\}|} = \\frac{0}{6} = 0.$$\n",
    "\n",
    "\n",
    "- Probability of getting 6 or 7 when rolling a 20-sided die:\n",
    "\n",
    "$$P(\\{X=6\\}\\cup\\{X=7\\}) = P(X=6) + P(X=7) = \\frac{1}{20} + \\frac{1}{20} = \\frac{2}{20} = \\frac{1}{10}.$$\n",
    "\n",
    "\n",
    "\n",
    "- Probability of getting less than 19 when rolling a 20-sided die:\n",
    "\n",
    "$$P(X < 19) = 1 - P(\\{X < 19\\}^C) = 1 - P(X\\geqslant 19) =  1 -\\frac{|\\{19, 20\\}|}{|\\{1, 2, \\ldots, 20\\}|} = 1 - \\frac{2}{20} = \\frac{18}{20} = \\frac{9}{10}.$$\n",
    "\n",
    "\n",
    "- Probability of drawing an Ace from a deck of cards:"
   ]
  },
  {
   "cell_type": "code",
   "execution_count": 12,
   "id": "f20b1123",
   "metadata": {},
   "outputs": [
    {
     "name": "stdout",
     "output_type": "stream",
     "text": [
      "P(X = A) = |{🂡, 🂱, 🃁, 🃑}|/|Whole Deck of Cards| = 4/52 = 1/13.\n"
     ]
    }
   ],
   "source": [
    "print('P(X = A) = |{\\U0001F0A1, \\U0001F0B1, \\U0001F0C1, \\U0001F0D1}|/|Whole Deck of Cards| = 4/52 = 1/13.')"
   ]
  },
  {
   "cell_type": "markdown",
   "id": "390aeacc",
   "metadata": {},
   "source": [
    "Even though we have a tool to calculate probability of an event exactly, we shouldn't forget about experimental probability. First, it can serve us to experimentally check our theoretical calculation. Secondly, and more important: sometimes calculating theoretical probability is difficult, or even impossible; so, performing the experiments and noting down the results is a way to obtain the probability of an event. "
   ]
  },
  {
   "cell_type": "markdown",
   "id": "896f99f6",
   "metadata": {},
   "source": [
    "While we've been using the given formula for calculating theoretical probabilities, there was actually one important thing that we hid under the rug - the formula works only in case when $\\Omega$ is finite set. But what if $\\Omega$ is infinite? Does all this mathematical construction breaks down? Actually no. $\\sigma$-algebras, Kolmogorov Axioms and their consequences actually give us tools to handle even infinite $\\Omega$s, and we'll see how later on. \n",
    "\n",
    "But first let's talk about *random variables*."
   ]
  },
  {
   "cell_type": "markdown",
   "id": "28b1d799",
   "metadata": {},
   "source": [
    "## 3. Random variable: a Discrete Type"
   ]
  },
  {
   "cell_type": "markdown",
   "id": "d4d298a3",
   "metadata": {},
   "source": [
    "When we were calculating theoretical probabilities a bit above we introduced the following notation $P(X = 6)$ or $P(X \\geqslant 19)$. What is this $X$? It is actually a random variable (RV) - a varable which can take one of the several different values, each with its own probability. \n",
    "\n",
    "There are two types of random variables: *discrete* and *(absolutely) continuous*. Values of RV are elements, i.e. outcomes of set $\\Omega$. If $\\Omega$ is finite or *countably infinite*, then associated RV is discrete. If $\\Omega$ is *uncountably infinite*, then the corresponding RV is continuous. \n",
    "\n",
    "\n",
    "We'll speak about discrete RVs now. "
   ]
  },
  {
   "cell_type": "markdown",
   "id": "e1a5d7ca",
   "metadata": {},
   "source": [
    "---"
   ]
  },
  {
   "cell_type": "markdown",
   "id": "2d615429",
   "metadata": {},
   "source": [
    "A discrete random variable is fully described if we know all the values it can take, and all the probabilities corresponding to those values. This 'description' of a random variable is called its *distribution*. So, 'knowing' a random variable is equivalent to 'knowing' its distribution. "
   ]
  },
  {
   "cell_type": "markdown",
   "id": "f90bad7d",
   "metadata": {},
   "source": [
    "For tossing a coin, a random variable $X$ can take two values: Heads and Tails, each with probability $\\frac{1}{2}$. We can write its distribution as\n",
    "\n",
    "$$ X :\n",
    "\\begin{pmatrix}\n",
    "H & T\\\\\n",
    "\\frac{1}{2} & \\frac{1}{2}\n",
    "\\end{pmatrix}.\n",
    "$$"
   ]
  },
  {
   "cell_type": "markdown",
   "id": "321f3c4a",
   "metadata": {},
   "source": [
    "For rolling a six sided die, we have a random variable which can take some of the values from the die given with\n",
    "\n",
    "$$ X :\n",
    "\\begin{pmatrix}\n",
    "1 & 2 & 3 & 4 & 5 & 6\\\\\n",
    "\\frac{1}{6} & \\frac{1}{6} & \\frac{1}{6} & \\frac{1}{6} & \\frac{1}{6} & \\frac{1}{6}\n",
    "\\end{pmatrix}.\n",
    "$$"
   ]
  },
  {
   "cell_type": "markdown",
   "id": "497cc3af",
   "metadata": {},
   "source": [
    "We can even define RVs on our own. The only important thing is that all the probabilites in its distribution need to sum to 1 (as the union of all elementary events, i.e. of every possible outcome gives $\\Omega$, and $P(\\Omega) = 1$). \n",
    "\n",
    "For example:"
   ]
  },
  {
   "cell_type": "markdown",
   "id": "9e73cb11",
   "metadata": {},
   "source": [
    "\n",
    "$$ X :\n",
    "\\begin{pmatrix}\n",
    "-1 & 0 & 2 & 4.7\\\\\n",
    " 0.2 & 0.05 & 0.45 & 0.3\n",
    "\\end{pmatrix}.\n",
    "$$"
   ]
  },
  {
   "cell_type": "markdown",
   "id": "ea5d118e",
   "metadata": {},
   "source": [
    "We can simulate the outcomes of this RV using `rng.choice()`:"
   ]
  },
  {
   "cell_type": "code",
   "execution_count": 21,
   "id": "573c0e0e",
   "metadata": {},
   "outputs": [
    {
     "data": {
      "text/plain": [
       "2.0"
      ]
     },
     "execution_count": 21,
     "metadata": {},
     "output_type": "execute_result"
    }
   ],
   "source": [
    "X = [-1, 0, 2, 4.7]\n",
    "\n",
    "rng.choice(X, p=[.2, .05, .45, .3])"
   ]
  },
  {
   "cell_type": "code",
   "execution_count": 23,
   "id": "17d6c7db",
   "metadata": {},
   "outputs": [
    {
     "data": {
      "text/plain": [
       "array([ 4.7, -1. ,  2. ,  2. ,  2. ,  4.7,  4.7, -1. ,  2. ,  2. ,  2. ,\n",
       "        4.7, -1. ,  2. ,  0. ,  2. ,  2. ,  4.7,  2. ,  2. ,  4.7,  2. ,\n",
       "       -1. ,  2. ,  2. , -1. ,  2. ,  4.7,  2. ,  4.7,  4.7,  2. ,  2. ,\n",
       "        4.7,  4.7, -1. ,  4.7,  2. ,  2. ,  2. ,  4.7,  2. ,  2. , -1. ,\n",
       "        4.7,  2. , -1. ,  4.7,  2. , -1. ,  0. , -1. ,  2. ,  2. ,  2. ,\n",
       "        2. ,  4.7, -1. ,  4.7,  0. , -1. ,  4.7,  2. , -1. , -1. ,  0. ,\n",
       "        0. ,  2. ,  2. , -1. , -1. ,  4.7,  4.7,  2. , -1. , -1. ,  0. ,\n",
       "        2. ,  2. ,  4.7,  2. ,  2. ,  4.7, -1. , -1. , -1. ,  4.7,  2. ,\n",
       "        4.7,  2. ,  2. ,  2. ,  4.7,  2. ,  4.7,  2. ,  4.7,  4.7,  4.7,\n",
       "       -1. ])"
      ]
     },
     "execution_count": 23,
     "metadata": {},
     "output_type": "execute_result"
    }
   ],
   "source": [
    "outcomes = rng.choice(X, p=[.2, .05, .45, .3], size=100)\n",
    "outcomes"
   ]
  },
  {
   "cell_type": "code",
   "execution_count": 28,
   "id": "762bb952",
   "metadata": {},
   "outputs": [
    {
     "data": {
      "text/plain": [
       "(array([-1. ,  0. ,  2. ,  4.7]), array([22,  6, 43, 29], dtype=int64))"
      ]
     },
     "execution_count": 28,
     "metadata": {},
     "output_type": "execute_result"
    }
   ],
   "source": [
    "no_outcomes = np.unique(outcomes, return_counts=True)\n",
    "no_outcomes"
   ]
  },
  {
   "cell_type": "code",
   "execution_count": 51,
   "id": "ba455ab7",
   "metadata": {},
   "outputs": [
    {
     "data": {
      "image/png": "[encoded data removed]",
      "text/plain": [
       "<Figure size 576x432 with 1 Axes>"
      ]
     },
     "metadata": {
      "needs_background": "light"
     },
     "output_type": "display_data"
    }
   ],
   "source": [
    "fig, ax = plt.subplots(figsize=(8, 6))\n",
    "\n",
    "\n",
    "\n",
    "sns.barplot(ax = ax, x = no_outcomes[0], y = no_outcomes[1]/100)\n",
    "ax.axhline(.2, c='b', linestyle='--')\n",
    "ax.axhline(.05, c='orange', linestyle='--')\n",
    "ax.axhline(.45, c='green', linestyle='--')\n",
    "ax.axhline(.3, c='red', linestyle='--')\n",
    "ax.set_yticks(np.arange(0, .55, .05));"
   ]
  },
  {
   "cell_type": "code",
   "execution_count": 57,
   "id": "0e53f744",
   "metadata": {
    "scrolled": false
   },
   "outputs": [
    {
     "data": {
      "image/png": "[encoded data removed]",
      "text/plain": [
       "<Figure size 576x432 with 1 Axes>"
      ]
     },
     "metadata": {
      "needs_background": "light"
     },
     "output_type": "display_data"
    }
   ],
   "source": [
    "no_tries = 10**6\n",
    "outcomes = rng.choice(X, p=[.2, .05, .45, .3], size=no_tries)\n",
    "no_outcomes = np.unique(outcomes, return_counts=True)\n",
    "\n",
    "fig, ax = plt.subplots(figsize=(8, 6))\n",
    "\n",
    "\n",
    "\n",
    "sns.barplot(ax = ax, x = no_outcomes[0], y = no_outcomes[1]/no_tries)\n",
    "ax.axhline(.2, c='b', linestyle='--')\n",
    "ax.axhline(.05, c='orange', linestyle='--')\n",
    "ax.axhline(.45, c='green', linestyle='--')\n",
    "ax.axhline(.3, c='red', linestyle='--')\n",
    "ax.set_yticks(np.arange(0, .55, .05));"
   ]
  },
  {
   "cell_type": "markdown",
   "id": "b5d2c0ab",
   "metadata": {},
   "source": [
    "***"
   ]
  },
  {
   "cell_type": "markdown",
   "id": "5d82120b",
   "metadata": {},
   "source": [
    "Let's assume we have a following discrete random variable which can take infinitely many values:\n",
    "\n",
    "\n",
    "$$ X :\n",
    "\\begin{pmatrix}\n",
    "1 & 2 & \\cdots & k & \\cdots \\\\\n",
    "p_1 & p_2 & \\cdots & p_k & \\cdots & \n",
    "\\end{pmatrix}.\n",
    "$$"
   ]
  },
  {
   "cell_type": "markdown",
   "id": "5763ac8c",
   "metadata": {},
   "source": [
    "Using its distribution, we can calculate probabilities of some events in the following manner (which also applies for finite RVs):\n",
    "\n",
    "$$ P(X = k) = p_k $$\n",
    "\n",
    "$$ P(X \\leqslant k) = p_1 + p_2 + \\cdots + p_k $$\n",
    "\n",
    "$$ P(X < k) = P(X \\leqslant k - 1) = p_1 + p_2 + \\cdots + p_{k-1} $$\n",
    "\n",
    "$$ P(3 \\leqslant X \\leqslant k) = p_3 + p_4 + \\cdots + p_k $$\n",
    "\n",
    "$$ P(X > k) = 1 - P(X \\leqslant k) = 1 - (p_1 + p_2 + \\cdots + p_k) $$"
   ]
  },
  {
   "cell_type": "markdown",
   "id": "da75888d",
   "metadata": {},
   "source": [
    "## 4. Discrete Type Distributions"
   ]
  },
  {
   "cell_type": "markdown",
   "id": "54b97dc5",
   "metadata": {},
   "source": [
    "Random or *stochastic* processes are not just some mathematical intellectual plaything. They occur all around us and within us. Many stochastic natural and social phenomena behave according to some distribution, and can be modelled according to that distribution. Here we go through some of those important discrete-type distributions."
   ]
  },
  {
   "cell_type": "markdown",
   "id": "2fbc5d61",
   "metadata": {},
   "source": [
    "### Bernoulli Distribution"
   ]
  },
  {
   "cell_type": "markdown",
   "id": "108f84f8",
   "metadata": {},
   "source": [
    "The simplest discrete distribution is Bernoulli Distribution - it's a distribution of a RV that has binary outcomes - yes/no, hit/miss or success/failure. The *parameter* of this distribution is $p$ - the probability of 'hit'. This distribution looks like:"
   ]
  },
  {
   "cell_type": "markdown",
   "id": "32d86575",
   "metadata": {},
   "source": [
    "$$ X :\n",
    "\\begin{pmatrix}\n",
    "0 & 1\\\\\n",
    "1 - p & p\n",
    "\\end{pmatrix}.\n",
    "$$"
   ]
  },
  {
   "cell_type": "markdown",
   "id": "96bd04ea",
   "metadata": {},
   "source": [
    "To sample from Bernoulli Distribution we can use `rng.choice()` with two outcomes. Say, we have a population that gives a 'yes' answer to some question in 2/3 cases and 'no' in 1/3 cases, and we want to draw a sample of 100 from it. Here's a sample:"
   ]
  },
  {
   "cell_type": "code",
   "execution_count": 63,
   "id": "c7041389",
   "metadata": {},
   "outputs": [
    {
     "data": {
      "image/png": "[encoded data removed]",
      "text/plain": [
       "<Figure size 576x432 with 1 Axes>"
      ]
     },
     "metadata": {
      "needs_background": "light"
     },
     "output_type": "display_data"
    }
   ],
   "source": [
    "X = ['yes', 'no']\n",
    "\n",
    "no_tries = 100\n",
    "outcomes = rng.choice(X, p=[2/3, 1/3], size=no_tries)\n",
    "no_outcomes = np.unique(outcomes, return_counts=True)\n",
    "\n",
    "\n",
    "fig, ax = plt.subplots(figsize=(8, 6))\n",
    "\n",
    "sns.barplot(ax = ax, x = no_outcomes[0], y = no_outcomes[1])\n",
    "\n",
    "ax.axhline(33.33, c='b', linestyle='--')\n",
    "ax.axhline(66.67, c='orange', linestyle='--')\n",
    "\n",
    "ax.set_yticks(np.arange(0, 100, 5));"
   ]
  },
  {
   "cell_type": "markdown",
   "id": "334aefef",
   "metadata": {},
   "source": [
    "### Binomial Distribution"
   ]
  },
  {
   "cell_type": "markdown",
   "id": "133d59f1",
   "metadata": {},
   "source": [
    "Binomial distribution gives an answer to the following question: *what's the probability of getting $k$ hits in $n$ trials of the same hit/miss experiment, having probability of hit equal to $p$?*\n",
    "\n",
    "Binomial Distribution has two parameteres:\n",
    "\n",
    "- $n$: number of repetitions of the same experiment\n",
    "- $p$: probability of a hit (success)\n",
    "\n",
    "If a random variable $X$ has a Binomial Distribution with parameters $n$ and $p$, we write that\n",
    "\n",
    "$$ X \\sim \\mathcal{B}(n, p).$$\n",
    "\n",
    "For example, we'd like to know what's the probability of landing 7 Tails in tossing a coin 10 times. We can approximate this probability by sampling from the Binomial Distribution with parameters $n=10$ and $p=0.5$ ($\\mathcal{B}(100, 0.5)$), using `rng.binomial()`."
   ]
  },
  {
   "cell_type": "code",
   "execution_count": 83,
   "id": "89b99f01",
   "metadata": {},
   "outputs": [
    {
     "data": {
      "text/plain": [
       "array([6, 3, 1, 5, 6, 7, 7, 4, 5, 5, 5, 6, 5, 7, 3, 5, 2, 5, 5, 5, 5, 6,\n",
       "       6, 8, 4, 6, 5, 5, 5, 3, 4, 7, 3, 5, 4, 7, 4, 5, 5, 5, 2, 6, 4, 5,\n",
       "       6, 4, 6, 4, 6, 2, 2, 5, 2, 5, 6, 5, 6, 4, 3, 4, 8, 5, 5, 7, 8, 2,\n",
       "       6, 5, 5, 3, 6, 5, 4, 7, 6, 4, 4, 7, 3, 4, 6, 6, 2, 4, 6, 7, 5, 4,\n",
       "       4, 6, 6, 8, 3, 5, 4, 4, 5, 4, 5, 4], dtype=int64)"
      ]
     },
     "execution_count": 83,
     "metadata": {},
     "output_type": "execute_result"
    }
   ],
   "source": [
    "outcomes = rng.binomial(n=10, p=.5, size=100)\n",
    "outcomes"
   ]
  },
  {
   "cell_type": "code",
   "execution_count": 84,
   "id": "ec905b4c",
   "metadata": {},
   "outputs": [
    {
     "data": {
      "text/plain": [
       "(array([1, 2, 3, 4, 5, 6, 7, 8], dtype=int64),\n",
       " array([ 1,  7,  8, 21, 30, 20,  9,  4], dtype=int64))"
      ]
     },
     "execution_count": 84,
     "metadata": {},
     "output_type": "execute_result"
    }
   ],
   "source": [
    "no_outcomes = np.unique(outcomes, return_counts=True)\n",
    "no_outcomes"
   ]
  },
  {
   "cell_type": "code",
   "execution_count": 85,
   "id": "8061219f",
   "metadata": {},
   "outputs": [
    {
     "data": {
      "image/png": "[encoded data removed]",
      "text/plain": [
       "<Figure size 576x432 with 1 Axes>"
      ]
     },
     "metadata": {
      "needs_background": "light"
     },
     "output_type": "display_data"
    }
   ],
   "source": [
    "fig, ax = plt.subplots(figsize=(8, 6))\n",
    "\n",
    "\n",
    "\n",
    "sns.barplot(ax = ax, x = no_outcomes[0], y = no_outcomes[1]/100)\n",
    "ax.set_yticks(np.arange(0, .55, .05));"
   ]
  },
  {
   "cell_type": "code",
   "execution_count": 94,
   "id": "e6cf1cb8",
   "metadata": {},
   "outputs": [],
   "source": [
    "def sample_from_binomial(n, p, no_tries):\n",
    "    \n",
    "    outcomes = rng.binomial(n, p, size=no_tries)\n",
    "    no_outcomes = np.unique(outcomes, return_counts=True)\n",
    "\n",
    "\n",
    "    fig, ax = plt.subplots(figsize=(8, 6))\n",
    "\n",
    "    sns.barplot(ax = ax, x = no_outcomes[0], y = no_outcomes[1]/no_tries)\n",
    "\n",
    "    ax.set_yticks(np.arange(0, np.max(no_outcomes[1]/no_tries) + .05, .05)); "
   ]
  },
  {
   "cell_type": "code",
   "execution_count": 97,
   "id": "c47b5fda",
   "metadata": {},
   "outputs": [
    {
     "data": {
      "image/png": "[encoded data removed]",
      "text/plain": [
       "<Figure size 576x432 with 1 Axes>"
      ]
     },
     "metadata": {
      "needs_background": "light"
     },
     "output_type": "display_data"
    }
   ],
   "source": [
    "sample_from_binomial(n=10, p=.5, no_tries=10**6)"
   ]
  },
  {
   "cell_type": "markdown",
   "id": "7fa14269",
   "metadata": {},
   "source": [
    "But we can actually calculate these probabilities theoretically, via"
   ]
  },
  {
   "cell_type": "markdown",
   "id": "fc4b995c",
   "metadata": {},
   "source": [
    "$$P(X = k) = \\binom{n}{k}p^k(1-p)^{n-k},$$\n",
    "\n",
    "where $\\binom{n}{k}$, called *binomial coefficient*, is\n",
    "\n",
    "$$\\binom{n}{k} = \\frac{n!}{k!(n-k)!}.$$"
   ]
  },
  {
   "cell_type": "markdown",
   "id": "02511fcb",
   "metadata": {},
   "source": [
    "Say we have some unfair coin which lands Tails with probability 0.25, and we toss it three times. Using the formula above for $\\mathcal{B}(3, 0.25)$ we obtain the probabilities for number of Tails in 3 tosses $X$:"
   ]
  },
  {
   "cell_type": "markdown",
   "id": "f5761297",
   "metadata": {},
   "source": [
    "$$ X :\n",
    "\\begin{pmatrix}\n",
    "0 & 1 & 2 & 3\\\\\n",
    "0.421875 & 0.421875 & 0.140625 & 0.015625\n",
    "\\end{pmatrix}.\n",
    "$$"
   ]
  },
  {
   "cell_type": "markdown",
   "id": "1cec2811",
   "metadata": {},
   "source": [
    "And to confirm the results experimentally:"
   ]
  },
  {
   "cell_type": "code",
   "execution_count": 99,
   "id": "b294acff",
   "metadata": {},
   "outputs": [
    {
     "data": {
      "image/png": "[encoded data removed]",
      "text/plain": [
       "<Figure size 576x432 with 1 Axes>"
      ]
     },
     "metadata": {
      "needs_background": "light"
     },
     "output_type": "display_data"
    }
   ],
   "source": [
    "sample_from_binomial(n=3, p=.25, no_tries=10**6)"
   ]
  },
  {
   "cell_type": "markdown",
   "id": "af143390",
   "metadata": {},
   "source": [
    "### Geometric Distribution"
   ]
  },
  {
   "cell_type": "markdown",
   "id": "ac72084d",
   "metadata": {},
   "source": [
    "Geometric Distribution gives an answer to the following question: *what's the probability of getting the first hit in $k$th repetition of a hit/miss experiment, if the probability of a hit is $p$?* \n",
    "\n",
    "Geometric Distribution has only one parameter: probability of a hit $p$.\n",
    "\n",
    "Random variable $X$ having Geometric Distribution has (countably) infinite values.\n",
    "\n",
    "For example, we'd like to know what's the probability of getting a first 6 in 3rd roll of a six-sided die . We can approximate this probability by sampling from the Geometric Distribution with parameter $p=1/6$, using `rng.geometric()`."
   ]
  },
  {
   "cell_type": "code",
   "execution_count": 102,
   "id": "20d23f16",
   "metadata": {},
   "outputs": [
    {
     "data": {
      "text/plain": [
       "array([15,  2,  1,  5,  7, 12,  3,  1,  2,  2,  1,  3,  2,  5,  6,  5, 14,\n",
       "        8,  5,  8,  3, 29,  1,  6,  2,  5,  1,  3, 10,  6,  6,  6, 22,  2,\n",
       "        5,  4,  2,  4,  7,  2,  6,  5,  5,  3,  2, 19,  1, 10,  6,  3,  1,\n",
       "        1,  9,  2, 15, 10,  2,  1,  6,  3,  7,  2,  1,  9, 15,  4, 13,  3,\n",
       "        4,  6,  1,  6, 18,  8,  2,  3,  1,  9,  2, 10,  8,  3,  2, 23,  9,\n",
       "       11,  6,  3,  5,  1, 17,  3,  5, 11,  6,  4,  1,  4,  7,  3],\n",
       "      dtype=int64)"
      ]
     },
     "execution_count": 102,
     "metadata": {},
     "output_type": "execute_result"
    }
   ],
   "source": [
    "outcomes = rng.geometric(p=1/6, size=100)\n",
    "outcomes"
   ]
  },
  {
   "cell_type": "code",
   "execution_count": 104,
   "id": "b4c4e3fd",
   "metadata": {},
   "outputs": [
    {
     "data": {
      "text/plain": [
       "(array([ 1,  2,  3,  4,  5,  6,  7,  8,  9, 10, 11, 12, 13, 14, 15, 17, 18,\n",
       "        19, 22, 23, 29], dtype=int64),\n",
       " array([14, 15, 13,  6, 10, 12,  4,  4,  4,  4,  2,  1,  1,  1,  3,  1,  1,\n",
       "         1,  1,  1,  1], dtype=int64))"
      ]
     },
     "execution_count": 104,
     "metadata": {},
     "output_type": "execute_result"
    }
   ],
   "source": [
    "no_outcomes = np.unique(outcomes, return_counts=True)\n",
    "no_outcomes"
   ]
  },
  {
   "cell_type": "code",
   "execution_count": 108,
   "id": "824278b6",
   "metadata": {},
   "outputs": [
    {
     "data": {
      "image/png": "[encoded data removed]",
      "text/plain": [
       "<Figure size 576x432 with 1 Axes>"
      ]
     },
     "metadata": {
      "needs_background": "light"
     },
     "output_type": "display_data"
    }
   ],
   "source": [
    "fig, ax = plt.subplots(figsize=(8, 6))\n",
    "\n",
    "\n",
    "\n",
    "sns.barplot(ax = ax, x = no_outcomes[0], y = no_outcomes[1]/100)\n",
    "ax.set_yticks(np.arange(0, .2, .025));"
   ]
  },
  {
   "cell_type": "code",
   "execution_count": 130,
   "id": "7672df34",
   "metadata": {},
   "outputs": [],
   "source": [
    "def sample_from_geometric(p, no_tries):\n",
    "    \n",
    "    outcomes = rng.geometric(p, size=no_tries)\n",
    "    no_outcomes = np.unique(outcomes, return_counts=True)\n",
    "\n",
    "\n",
    "    fig, ax = plt.subplots(figsize=(20, 6))\n",
    "\n",
    "    sns.barplot(ax = ax, x = no_outcomes[0], y = no_outcomes[1]/no_tries)\n",
    "    ax.axhline(1/6, c='m', linestyle='--')\n",
    "#     ax.axhline(25/216, c='c', linestyle='--')\n",
    "\n",
    "\n",
    "    ax.set_yticks(np.arange(0, np.max(no_outcomes[1]/no_tries) + .025, .025)); "
   ]
  },
  {
   "cell_type": "code",
   "execution_count": 131,
   "id": "549a2084",
   "metadata": {},
   "outputs": [
    {
     "data": {
      "image/png": "[encoded data removed]",
      "text/plain": [
       "<Figure size 1440x432 with 1 Axes>"
      ]
     },
     "metadata": {
      "needs_background": "light"
     },
     "output_type": "display_data"
    }
   ],
   "source": [
    "sample_from_geometric(p=1/6, no_tries=10**6)"
   ]
  },
  {
   "cell_type": "markdown",
   "id": "c0af82fc",
   "metadata": {},
   "source": [
    "We can calculate these probabilities theoretically using a formula for a RV having Geometric Distribution:\n",
    "\n",
    "$$P(X=k) = (1-p)^{k-1}p.$$"
   ]
  },
  {
   "cell_type": "markdown",
   "id": "8faff698",
   "metadata": {},
   "source": [
    "So, for our example we have\n",
    "\n",
    "$$P(X = 3) = \\Big(\\frac{5}{6}\\Big)^2\\cdot\\frac{1}{6} = 0.1157407407... .$$"
   ]
  },
  {
   "cell_type": "markdown",
   "id": "1fe11bcb",
   "metadata": {},
   "source": [
    "## Discrete Uniform Distribution"
   ]
  },
  {
   "cell_type": "markdown",
   "id": "c595a7b5",
   "metadata": {},
   "source": [
    "This is actually a known one - it's a distribution of a RV where every outcome has the same probability: rolling a six-sided die, for example. The only parameter of this random variable is $N$ - number of values this RV can take. And the probability of each outcome is $\\frac{1}{N}$.\n",
    "\n",
    "We can sample from Discrete Uniform Distribution using `rng.choice()` without the `p` argument. "
   ]
  },
  {
   "cell_type": "markdown",
   "id": "6e4ab4a6",
   "metadata": {},
   "source": [
    "Let's sample frequencies of each number when rolling a six-sided die. "
   ]
  },
  {
   "cell_type": "code",
   "execution_count": 119,
   "id": "9d97dcbd",
   "metadata": {},
   "outputs": [],
   "source": [
    "def sample_from_uniform(N, no_tries):\n",
    "    \n",
    "    outcomes = rng.choice(np.arange(1, N+1), size=no_tries)\n",
    "    no_outcomes = np.unique(outcomes, return_counts=True)\n",
    "\n",
    "\n",
    "    fig, ax = plt.subplots(figsize=(8, 6))\n",
    "\n",
    "    sns.barplot(ax = ax, x = no_outcomes[0], y = no_outcomes[1]/no_tries)\n",
    "    ax.axhline(1/6, c='m', linestyle='--')\n",
    "\n",
    "    ax.set_yticks(np.arange(0, np.max(no_outcomes[1]/no_tries) + .025, .025)); "
   ]
  },
  {
   "cell_type": "code",
   "execution_count": 122,
   "id": "12dbf62b",
   "metadata": {},
   "outputs": [
    {
     "data": {
      "image/png": "[encoded data removed]",
      "text/plain": [
       "<Figure size 576x432 with 1 Axes>"
      ]
     },
     "metadata": {
      "needs_background": "light"
     },
     "output_type": "display_data"
    }
   ],
   "source": [
    "sample_from_uniform(N=6, no_tries=10**6)"
   ]
  },
  {
   "cell_type": "markdown",
   "id": "3cb16a29",
   "metadata": {},
   "source": [
    "## Poisson Distribution"
   ]
  },
  {
   "cell_type": "code",
   "execution_count": 126,
   "id": "2d648b15",
   "metadata": {},
   "outputs": [
    {
     "data": {
      "text/plain": [
       "0"
      ]
     },
     "execution_count": 126,
     "metadata": {},
     "output_type": "execute_result"
    }
   ],
   "source": [
    "rng.poisson()"
   ]
  },
  {
   "cell_type": "code",
   "execution_count": null,
   "id": "85b0f3e5",
   "metadata": {},
   "outputs": [],
   "source": []
  }
 ],
 "metadata": {
  "kernelspec": {
   "display_name": "Python 3",
   "language": "python",
   "name": "python3"
  },
  "language_info": {
   "codemirror_mode": {
    "name": "ipython",
    "version": 3
   },
   "file_extension": ".py",
   "mimetype": "text/x-python",
   "name": "python",
   "nbconvert_exporter": "python",
   "pygments_lexer": "ipython3",
   "version": "3.8.8"
  }
 },
 "nbformat": 4,
 "nbformat_minor": 5
}
