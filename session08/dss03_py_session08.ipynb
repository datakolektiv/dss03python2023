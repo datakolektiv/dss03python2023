{
 "cells": [
  {
   "cell_type": "markdown",
   "id": "64c13a8b",
   "metadata": {},
   "source": [
    "## 1. Event and Experimental Probability"
   ]
  },
  {
   "cell_type": "markdown",
   "id": "a01fcb91",
   "metadata": {},
   "source": [
    "When asked: *What's the probability of landing Tails when tossing a (fair) coin?* You'd (probably) answer: $\\frac{1}{2}$. Or 50%. But what does that mean?\n",
    "\n",
    "And when asked: *What's the probability of getting 6 when throwing a six-sided (fair) die?* The expected answer: $\\frac{1}{6}$ *What about NOT getting 6?* It's: $\\frac{5}{6}$. And *getting a number less than five?* $\\frac{2}{3}$? But what do those numbers mean?\n",
    "\n",
    "And and - *The probability of drawing an Ace from a (fair) deck of cards?*"
   ]
  },
  {
   "cell_type": "markdown",
   "id": "e70f43e7",
   "metadata": {},
   "source": [
    "---\n",
    "\n",
    "Let's get back to the coin. $\\frac{1}{2}$ says you. But what does it mean? Maybe you ment that out of two tossings you'll land exactly one Tails ($TH$ or $HT$)? Okay, let's toss a coin two times. I got $TT$. Maybe my assumption was wrong? Or I've just got unlucky? Let's toss it again. $HT$ this time. Maybe I'm actually right? Or I got lucky. Another two tosses! $HH$. Hmm... Unlucky again? But can I talk about luck in mathematics and in hypothesis testing?\n",
    "\n",
    "What about the other answer: 50%. Does that mean that I'll land Tails exactly half the times when tossing a coin $N$ times? Let's toss it, say, 10 times. But I don't actually have a coin. Luckily I have Python which can simulate tossing a coin. "
   ]
  },
  {
   "cell_type": "code",
   "execution_count": null,
   "id": "8d3325d3",
   "metadata": {},
   "outputs": [],
   "source": [
    "import numpy as np\n",
    "import pandas as pd\n",
    "import matplotlib.pyplot as plt\n",
    "import seaborn as sns\n",
    "\n",
    "rng = np.random.default_rng(seed=1023)"
   ]
  },
  {
   "cell_type": "code",
   "execution_count": null,
   "id": "766698ee",
   "metadata": {},
   "outputs": [],
   "source": [
    "coin = ['H', 'T']\n",
    "\n",
    "tossing = rng.choice(coin, size=10)\n",
    "tossing"
   ]
  },
  {
   "cell_type": "markdown",
   "id": "263913d8",
   "metadata": {},
   "source": [
    "6 of 10 Tails. Close, but not quite 50%. But, wait. 50% also means 50/100. Let's toss a coin 100 times then. "
   ]
  },
  {
   "cell_type": "code",
   "execution_count": null,
   "id": "377bc6d0",
   "metadata": {},
   "outputs": [],
   "source": [
    "tossing = rng.choice(coin, size=100)\n",
    "tossing"
   ]
  },
  {
   "cell_type": "markdown",
   "id": "66f46ede",
   "metadata": {},
   "source": [
    "How many Tails, then?"
   ]
  },
  {
   "cell_type": "code",
   "execution_count": null,
   "id": "d5dc3ab6",
   "metadata": {},
   "outputs": [],
   "source": [
    "np.unique(tossing, return_counts=True)"
   ]
  },
  {
   "cell_type": "markdown",
   "id": "3735e5e7",
   "metadata": {},
   "source": [
    "47/100. Not bad. But not quite 50%. Lucky, but not as quite? (But can I talk about luck in mathematics and in hypothesis testing?) What if those 50% is actually an *approximation* of the result? Let's toss a coin 1000 times.  "
   ]
  },
  {
   "cell_type": "code",
   "execution_count": null,
   "id": "67b57ed3",
   "metadata": {},
   "outputs": [],
   "source": [
    "tossing = rng.choice(coin, size=1000)\n",
    "np.unique(tossing, return_counts=True)"
   ]
  },
  {
   "cell_type": "markdown",
   "id": "bbd5261a",
   "metadata": {},
   "source": [
    "520/1000. That's 52%. And that's not that quite bad *approximation*. But still... Now, let's toss a coin ONE MILLION TIMES."
   ]
  },
  {
   "cell_type": "code",
   "execution_count": null,
   "id": "ef2791bb",
   "metadata": {},
   "outputs": [],
   "source": [
    "tossing = rng.choice(coin, size=10**6)\n",
    "np.unique(tossing, return_counts=True)"
   ]
  },
  {
   "cell_type": "code",
   "execution_count": null,
   "id": "c35449c4",
   "metadata": {},
   "outputs": [],
   "source": [
    "499463/10**6"
   ]
  },
  {
   "cell_type": "markdown",
   "id": "d95f815b",
   "metadata": {},
   "source": [
    "Well - that's 49.95%, almost 50%. Quite good approximation. \n",
    "\n",
    "What if tossed a coin more than million times?"
   ]
  },
  {
   "cell_type": "code",
   "execution_count": null,
   "id": "8e78e894",
   "metadata": {},
   "outputs": [],
   "source": [
    "tossing = rng.choice(coin, size=10**7)\n",
    "np.unique(tossing, return_counts=True)"
   ]
  },
  {
   "cell_type": "code",
   "execution_count": null,
   "id": "f60df64c",
   "metadata": {},
   "outputs": [],
   "source": [
    "5000092/10**7"
   ]
  },
  {
   "cell_type": "markdown",
   "id": "19b8fe40",
   "metadata": {},
   "source": [
    "This is even better, veeeery close to 50%; 50.001%, to be more exact.\n",
    "\n",
    "And if we tossed a coin **infinitely many times**? Then there is no approximation. We'd get 50% sharp. Mathematically, we can write this\n",
    "\n",
    "$$ P(T) = \\lim_{N_{\\rm TRIES}\\rightarrow\\infty}\\frac{n_{\\rm HITS}}{N_{\\rm TRIES}} = 0.5 = \\frac{1}{2}.$$"
   ]
  },
  {
   "cell_type": "markdown",
   "id": "24db8811",
   "metadata": {},
   "source": [
    "What are all these letters? Let's interpret this formula one by one. \n",
    "\n",
    "- $T$ is the *event*: event of landing Tails when tossing ONE coin. \n",
    "\n",
    "\n",
    "- $P$ is the *probability*: we may consider it as a function which *measures* how probable an event is. So, $P(T)$ is probability of langing Tails when tossing one coin. \n",
    "\n",
    "\n",
    "- $N_{\\rm TRIES}$ is the number of trials of the SAME experiment. In our case, it's the number of tossing a coin. \n",
    "\n",
    "\n",
    "- $n_{\\rm HITS}$ is the number of 'hits', i.e. the number of desired outcomes in our set of trials. In our case, it's the number of Tails landed. \n",
    "\n",
    "\n",
    "- $\\lim_{N_{\\rm TRIES}\\rightarrow\\infty}$ is the *limit*: a value of the fraction $\\frac{n_{\\rm HITS}}{N_{\\rm TRIES}}$ which we would obtain if we would *theoretically* be able to toss a coin infinitely many times in our finite lives. But we can't do that. We can only obtain an *experimental* (or *statistical*) approximation of the *theoretical* value in finite number of trials. And as we demonstrated - the larger number of trials, the better the approximation. "
   ]
  },
  {
   "cell_type": "markdown",
   "id": "b1593854",
   "metadata": {},
   "source": [
    "***"
   ]
  },
  {
   "cell_type": "markdown",
   "id": "f3e067ae",
   "metadata": {},
   "source": [
    "Let's now illustrate this *limit* on another example: rolling a six-sided die. Intuintively we say that the probability of getting a 6 is $\\frac{1}{6}$, or 16.666...% . Similarly as with the coin, we'll simulate rolling a die for various numbers of trials and list the results, i.e. approximations of theoretical probability."
   ]
  },
  {
   "cell_type": "code",
   "execution_count": null,
   "id": "e257182a",
   "metadata": {
    "scrolled": true
   },
   "outputs": [],
   "source": [
    "exp_prob_df = pd.DataFrame(columns=['No. of Rolls', 'No. of 6s', 'Experimental Probability'])\n",
    "\n",
    "number_of_rolls = np.logspace(1.75, 7, 100, dtype=int).tolist()\n",
    "number_of_6s = []\n",
    "die = list(range(1, 7))\n",
    "           \n",
    "for n_rolls in number_of_rolls:\n",
    "    rolling = rng.choice(die, size=n_rolls)\n",
    "    \n",
    "    results = np.unique(rolling, return_counts=True)\n",
    "    n_6 = results[1][-1]\n",
    "    number_of_6s.append(n_6)\n",
    "\n",
    "number_of_6s = np.asarray(number_of_6s)\n",
    "\n",
    "exp_prob_df['No. of Rolls'] = number_of_rolls\n",
    "exp_prob_df['No. of 6s'] = number_of_6s\n",
    "exp_prob_df['Experimental Probability'] = np.round(number_of_6s/number_of_rolls, 5)\n",
    "    \n",
    "    \n",
    "print(exp_prob_df.to_markdown())"
   ]
  },
  {
   "cell_type": "markdown",
   "id": "3d6081e8",
   "metadata": {},
   "source": [
    "And here's how our accumulation point looks like:"
   ]
  },
  {
   "cell_type": "code",
   "execution_count": null,
   "id": "af83af80",
   "metadata": {},
   "outputs": [],
   "source": [
    "fig, ax = plt.subplots(figsize=(16, 10))\n",
    "\n",
    "sns.scatterplot(ax = ax, data = exp_prob_df, x='No. of Rolls', y='Experimental Probability');\n",
    "ax.axhline(.16667, c='r')\n",
    "\n",
    "ax.set_xscale('log')\n",
    "ax.set_yticks(np.linspace(.08, .24, 25))\n",
    "ax.legend(['Theoretical Probability']);"
   ]
  },
  {
   "cell_type": "markdown",
   "id": "90628064",
   "metadata": {},
   "source": [
    "From the scatterplot above we see how the values of ratio $\\frac{n_{\\rm HITS}}{N_{\\rm TRIES}}$ converge towards the predicted theoretical probability of 16.666...% as $N_{\\rm TRIES}\\rightarrow\\infty$."
   ]
  },
  {
   "cell_type": "markdown",
   "id": "eb52acf6",
   "metadata": {},
   "source": [
    "But, is there a way to calculate theoretical probability **exactly**?"
   ]
  },
  {
   "cell_type": "markdown",
   "id": "ddd6ccd2",
   "metadata": {},
   "source": [
    "## 2. $\\sigma$-Algebra of Events and Theoretical Probability"
   ]
  },
  {
   "cell_type": "markdown",
   "id": "9bd9f7d7",
   "metadata": {},
   "source": [
    "In order to be able to speak properly about theoretical probability (and be able to compute it), we need to introduce *$\\sigma$-algebra of events* and *probability-as-a-measure*. We can consider $\\sigma$-algebra of events as a family of sets where every set is an event, and every element of this event-set is an *outcome* for which consider the evenet realized, i.e. a *favorable outcome*. \n",
    "\n",
    "For example, if we toss a coin two times, then one event-set might be\n",
    "\n",
    "$$ A - {\\rm Landed\\ 1\\ Heads\\ and\\ 1\\ Tails}, $$\n",
    "\n",
    "and its elements are\n",
    "\n",
    "$$ A = \\{HT, TH\\}.$$"
   ]
  },
  {
   "cell_type": "markdown",
   "id": "2e4f3923",
   "metadata": {},
   "source": [
    "A set of all the possible outcomes for a given experiment/observation is called the *universal set*. It is denoted by $\\Omega$ and it is the set upon which $\\sigma$-algebra of events is built upon, from the subsets $A\\subset\\Omega$ of the universal set.  \n",
    "\n",
    "For tossing a coin two times we have\n",
    "\n",
    "$$ \\Omega = \\{HH, HT, TH, TT\\},$$\n",
    "\n",
    "and obviously\n",
    "\n",
    "$$ A \\subset \\Omega. $$"
   ]
  },
  {
   "cell_type": "markdown",
   "id": "b2b9c6b4",
   "metadata": {},
   "source": [
    "Let $\\Sigma$ be a $\\sigma$-algebra of events on $\\Omega$, and $A$ and $B$ two events (which we write $A, B\\in \\Sigma$). Then we have:"
   ]
  },
  {
   "cell_type": "markdown",
   "id": "6cbbdaaa",
   "metadata": {},
   "source": [
    "$$1^\\circ\\quad \\emptyset,\\ \\Omega \\in \\Sigma$$\n",
    "\n",
    "$$2^\\circ\\quad A^C \\in \\Sigma$$\n",
    "\n",
    "$$3^\\circ\\quad A\\cup B \\in \\Sigma$$\n",
    "\n",
    "$$4^\\circ\\quad A\\cap B \\in \\Sigma.$$"
   ]
  },
  {
   "cell_type": "markdown",
   "id": "7d1edebb",
   "metadata": {},
   "source": [
    "What do these cryptic messages even mean? Let's explain them one by one, I promise they make sense."
   ]
  },
  {
   "cell_type": "markdown",
   "id": "1c310bb0",
   "metadata": {},
   "source": [
    "$$1^\\circ\\quad \\emptyset,\\ \\Omega \\in \\Sigma$$"
   ]
  },
  {
   "cell_type": "markdown",
   "id": "a5ffcbb2",
   "metadata": {},
   "source": [
    "This means that the empty set $\\emptyset$ and the total set $\\Omega$ are also considered as events.\n",
    "\n",
    "$\\emptyset$ is called an *impossible event*, and it does not contain any (possible) outcome. \n",
    "\n",
    "$\\Omega$, viewed as an event is called *certain event* - getting any outcome from all the possible outcomes is definitely a certain event. \n",
    "\n",
    "---"
   ]
  },
  {
   "cell_type": "markdown",
   "id": "dbeef6cd",
   "metadata": {},
   "source": [
    "$$2^\\circ\\quad A^C \\in \\Sigma$$"
   ]
  },
  {
   "cell_type": "markdown",
   "id": "3636e867",
   "metadata": {},
   "source": [
    "An complementary set of $A$: $A^C = \\Omega\\setminus A$ is also considered as an event. Every unfavourable outcome of $A$ is favourable for $A^C$ (and vice versa). So, for the event $A$ as defined above, we have:\n",
    "\n",
    "$$ A^C = \\{HH, TT\\}. $$\n",
    "\n",
    "---"
   ]
  },
  {
   "cell_type": "markdown",
   "id": "ac6b2514",
   "metadata": {},
   "source": [
    "$$3^\\circ\\quad A\\cup B \\in \\Sigma$$"
   ]
  },
  {
   "cell_type": "markdown",
   "id": "d2b80bfa",
   "metadata": {},
   "source": [
    "A union of two events (denoted also as $A + B$) is also considered as an event. But what is a union of two events actually? We say that the event $A\\cup B$ is realized when at least one of the events $A$ **OR** $B$ is realized. $A\\cup B$ contains all the outcomes which are favourable for either the event $A$ **OR** event $B$.\n",
    "\n",
    "For example, if we define event $B$ as\n",
    "\n",
    "$$B - {\\rm Landed\\ 2\\ Tails,}$$\n",
    "\n",
    "we have \n",
    "\n",
    "$$ A\\cup B = \\{HT, TH, TT\\}.$$\n",
    "\n",
    "---"
   ]
  },
  {
   "cell_type": "markdown",
   "id": "9e1785a5",
   "metadata": {},
   "source": [
    "$$4^\\circ\\quad A\\cap B \\in \\Sigma.$$"
   ]
  },
  {
   "cell_type": "markdown",
   "id": "98e5b387",
   "metadata": {},
   "source": [
    "An intersection of two events (denoted also as AB) is also considered as an event. We say that the event $AB$ is realized when both events $A$ **AND** $B$ are simultaneously realized. $AB$ contains all the outcomes which are favourable for both events $A$ **AND** $B$. \n",
    "\n",
    "For examle, if we define event $C$ as \n",
    "\n",
    "$$ C - {\\rm Tails\\ in\\ the\\ first\\ coin\\ toss}, $$\n",
    "\n",
    "we have \n",
    "\n",
    "$$ AC = \\{HT, TH\\} \\cap \\{TH, TT\\} = \\{TH\\}.$$"
   ]
  },
  {
   "cell_type": "markdown",
   "id": "248e65b4",
   "metadata": {},
   "source": [
    "Two events $A$ and $B$ are *mutually exclusive* or *disjoint* if $A\\cap B = \\emptyset$, i.e. if realization of both events simultaneously is an impossible event.\n",
    "\n",
    "---"
   ]
  },
  {
   "cell_type": "markdown",
   "id": "a451f0fd",
   "metadata": {},
   "source": [
    "One more importan notion is the *elementary event* - an event containing a single possible outcome. So, for tossing our coin two times, elementary events are: $\\{HH\\},\\ \\{HT\\},\\ \\{TH\\}$ and $\\{TT\\}$."
   ]
  },
  {
   "cell_type": "markdown",
   "id": "b8dd4454",
   "metadata": {},
   "source": [
    "$\\sigma$-algebras of events serve us as a brige between the natural language by which we describe events and their outcomes with formal mathematical language to describe them via sets, their elements and set operations. The upside of mathematical objects is that it is natural to impose some measure on them, and now we can measure the events, i.e. measure the probability of event realization. So we can define probability-as-a-measure, that is a mapping $P$ from $\\sigma$-algebra of events to interval a set of real numbers via following set of *axioms* (known as *Kolmogorov Axioms*):"
   ]
  },
  {
   "cell_type": "markdown",
   "id": "2aebdb0c",
   "metadata": {},
   "source": [
    "**Axiom 1**: For any event $A$ we have\n",
    "\n",
    "$$ P(A)\\geqslant 0.$$\n",
    "\n",
    "**Axiom 2**: For certain event $\\Omega$ we have\n",
    "\n",
    "$$ P(\\Omega) = 1.$$\n",
    "\n",
    "**Axiom 3**: For mutually exclusive events $A_1, A_2, \\ldots, A_n, \\ldots$ we have\n",
    "\n",
    "$$P\\Big(\\bigcup_{i=1}^{\\infty}A_i\\Big) = \\sum_{i=1}^{\\infty}P(A_i).$$"
   ]
  },
  {
   "cell_type": "markdown",
   "id": "d534340f",
   "metadata": {},
   "source": [
    "What do those axioms tell us?"
   ]
  },
  {
   "cell_type": "markdown",
   "id": "7f786c02",
   "metadata": {},
   "source": [
    "**Axiom 1** means that the probability of any event has to be some non-negative real number; in other words - we cannot have negative probability (the same way we cannot have negative length, surface or volume - which are also measures of some kind)"
   ]
  },
  {
   "cell_type": "markdown",
   "id": "66db1bea",
   "metadata": {},
   "source": [
    "**Axiom 2** says that the probability of a certain event is 1 (or 100%). As we know that $\\Omega$, viewed as a set, is a universal set, i.e. set that contains all the possible outcomes - this axiom also tells us that the probability of observing any outcome of all possible defined outcomes is equal to 1. "
   ]
  },
  {
   "cell_type": "markdown",
   "id": "7362ca25",
   "metadata": {},
   "source": [
    "If we want to compute a probability of some union of mutually exclusive events, **Axiom 3** tells us that we can do that just by summing the probabilities of every single event. "
   ]
  },
  {
   "cell_type": "markdown",
   "id": "0be3dbb9",
   "metadata": {},
   "source": [
    "***"
   ]
  },
  {
   "cell_type": "markdown",
   "id": "5759af8c",
   "metadata": {},
   "source": [
    "And here's a nice reminder for $\\sigma$-algebras and Kolmogorov Axioms:"
   ]
  },
  {
   "cell_type": "markdown",
   "id": "919d345c",
   "metadata": {},
   "source": [
    "<img src=\"prob.png\" style=\"width: 800px;\"/>"
   ]
  },
  {
   "cell_type": "markdown",
   "id": "716f1196",
   "metadata": {},
   "source": [
    "These axioms have very usefull consequences; if $A$ and $B$ are two events, we have:\n",
    "\n",
    "$$ 1^\\circ\\ P(\\emptyset) = 0, $$\n",
    "\n",
    "$$ 2^\\circ\\ 0 \\leqslant P(A) \\leqslant 1, $$\n",
    "\n",
    "$$ 3^\\circ\\ P(A^C) = 1 - P(A), $$\n",
    "\n",
    "$$ 4^\\circ\\ A\\subseteq B \\Rightarrow P(A) \\leqslant P(B).$$"
   ]
  },
  {
   "cell_type": "markdown",
   "id": "48822d34",
   "metadata": {},
   "source": [
    "Let's now go over these consequences. "
   ]
  },
  {
   "cell_type": "markdown",
   "id": "03d2ea79",
   "metadata": {},
   "source": [
    "$$ 1^\\circ\\ P(\\emptyset) = 0 $$"
   ]
  },
  {
   "cell_type": "markdown",
   "id": "105770c8",
   "metadata": {},
   "source": [
    "We saw that impossible event is represented by $\\emptyset$. So, this tells us that the probability of an impossible event is 0. "
   ]
  },
  {
   "cell_type": "markdown",
   "id": "3f01b3c5",
   "metadata": {},
   "source": [
    "***"
   ]
  },
  {
   "cell_type": "markdown",
   "id": "d5bc71c3",
   "metadata": {},
   "source": [
    "$$ 2^\\circ\\ 0 \\leqslant P(A) \\leqslant 1 $$"
   ]
  },
  {
   "cell_type": "markdown",
   "id": "0462183b",
   "metadata": {},
   "source": [
    "Not only that the probability of an event is some non-negative real number - it's a real number belonging to the interval [0, 1]; and the endpoints of this interval correspond to the impossible event ($P(\\emptyset) = 0$) and certain event ($P(\\Omega) = 1$). The closer the probability is to 1, the more probable is the realization of an event. This also alows us to speak about probabilities in terms of percents. "
   ]
  },
  {
   "cell_type": "markdown",
   "id": "a80cf00b",
   "metadata": {},
   "source": [
    "***"
   ]
  },
  {
   "cell_type": "markdown",
   "id": "5f156e11",
   "metadata": {},
   "source": [
    "$$ 3^\\circ\\ P(A^C) = 1 - P(A) $$"
   ]
  },
  {
   "cell_type": "markdown",
   "id": "ce0da37f",
   "metadata": {},
   "source": [
    "This tells us how to simply calculate probability of a complementary event. If a probability of an event happening is 22%, then the probability of it NOT happening is 78%."
   ]
  },
  {
   "cell_type": "markdown",
   "id": "52656992",
   "metadata": {},
   "source": [
    "***"
   ]
  },
  {
   "cell_type": "markdown",
   "id": "de0e526b",
   "metadata": {},
   "source": [
    "$$4^\\circ\\ A\\subseteq B \\Rightarrow P(A) \\leqslant P(B) $$"
   ]
  },
  {
   "cell_type": "markdown",
   "id": "1701a0fe",
   "metadata": {},
   "source": [
    "If set $A$ is contained in set $B$, i.e. if all the outcomes favourable for event $A$ are also favourable for event $B$, then event $A$ has smaller (or equal) chances for realization than the event $B$. In other words - events with smaller set of favourable outcomes are less probable. "
   ]
  },
  {
   "cell_type": "markdown",
   "id": "3465978f",
   "metadata": {},
   "source": [
    "***"
   ]
  },
  {
   "cell_type": "markdown",
   "id": "45383d34",
   "metadata": {},
   "source": [
    "All this talk about the Probability Theory, but we still haven't figured out how to calculate theoretical probability. Don't worry, we are almost there - and we have all the ingredients to write a formula that stems quite naturally from the theoretical foundations above. "
   ]
  },
  {
   "cell_type": "markdown",
   "id": "58d6af29",
   "metadata": {},
   "source": [
    "As we saw, probabilty of an event should be some number between 0 and 1, with probabilities of impossible and certain event as extreme values. And the bigger the event/set is, the biger its probability should be. This leads us to define theoretical probability of an event ($A$) via the following simple formula:\n",
    "\n",
    "$$P(A) = \\frac{|A|}{|\\Omega|} = \\frac{{\\rm No.\\ of\\ all\\ the\\ favourable\\ outcomes\\ for}\\ A}{{\\rm No.\\ of\\ all\\ the\\ possible\\ outcomes}}.$$"
   ]
  },
  {
   "cell_type": "markdown",
   "id": "a4d0df57",
   "metadata": {},
   "source": [
    "($|A|$ is the *cardinality* of a set, i.e. a number of elements that set has.)"
   ]
  },
  {
   "cell_type": "markdown",
   "id": "f8476c19",
   "metadata": {},
   "source": [
    "One can easily check that formula for the probability, as given above, satisfies all the Kolmogorov Axioms and, of course, all the listed consequences. "
   ]
  },
  {
   "cell_type": "markdown",
   "id": "c04938ea",
   "metadata": {},
   "source": [
    "***"
   ]
  },
  {
   "cell_type": "markdown",
   "id": "3a789d8c",
   "metadata": {},
   "source": [
    "Now that we have the 'formula for probability' we can easily calculate probabilities of the events listed at the beginning of this notebook. "
   ]
  },
  {
   "cell_type": "markdown",
   "id": "bd6382e0",
   "metadata": {},
   "source": [
    "- Probability of landing Tails on a coin toss:\n",
    "\n",
    "$$P(T) = \\frac{|\\{T\\}|}{|\\{H, T\\}|} = \\frac{1}{2}.$$\n",
    "\n",
    "\n",
    "- Probability of landing at least one Tails on two coin tosses (event $A$):\n",
    "\n",
    "$$P(A) = \\frac{|\\{TH, HT, TT\\}|}{|\\{HH, TH, HT, TT\\}|} = \\frac{3}{4}.$$\n",
    "\n",
    "\n",
    "- Probability of getting 6 when rolling a six-sided die:\n",
    "\n",
    "$$P(X = 6) = \\frac{|\\{6\\}|}{|\\{1, 2, 3, 4, 5, 6\\}|} = \\frac{1}{6}.$$\n",
    "\n",
    "\n",
    "\n",
    "- Probability of getting less than 5 when rolling a six-sided die:\n",
    "\n",
    "$$P(X < 5) = \\frac{|\\{1, 2, 3, 4\\}|}{|\\{1, 2, 3, 4, 5, 6\\}|} = \\frac{4}{6} = \\frac{2}{3}.$$\n",
    "\n",
    "\n",
    "\n",
    "- Probability of getting any number from 1 to 6 when rolling a six-sided die:\n",
    "\n",
    "$$P(1\\leqslant X\\leqslant 6) = \\frac{|\\{1, 2, 3, 4, 5, 6\\}|}{|\\{1, 2, 3, 4, 5, 6\\}|} = \\frac{6}{6} = 1.$$\n",
    "\n",
    "\n",
    "\n",
    "- Probability of getting a 7 when rolling a six-sided die:\n",
    "\n",
    "$$P(X = 7) = \\frac{|\\emptyset|}{|\\{1, 2, 3, 4, 5, 6\\}|} = \\frac{0}{6} = 0.$$\n",
    "\n",
    "\n",
    "- Probability of getting 6 or 7 when rolling a 20-sided die:\n",
    "\n",
    "$$P(\\{X=6\\}\\cup\\{X=7\\}) = P(X=6) + P(X=7) = \\frac{1}{20} + \\frac{1}{20} = \\frac{2}{20} = \\frac{1}{10}.$$\n",
    "\n",
    "\n",
    "\n",
    "- Probability of getting less than 19 when rolling a 20-sided die:\n",
    "\n",
    "$$P(X < 19) = 1 - P(\\{X < 19\\}^C) = 1 - P(X\\geqslant 19) =  1 -\\frac{|\\{19, 20\\}|}{|\\{1, 2, \\ldots, 20\\}|} = 1 - \\frac{2}{20} = \\frac{18}{20} = \\frac{9}{10}.$$\n",
    "\n",
    "\n",
    "- Probability of drawing an Ace from a deck of cards:"
   ]
  },
  {
   "cell_type": "code",
   "execution_count": null,
   "id": "96a3ce9a",
   "metadata": {},
   "outputs": [],
   "source": [
    "print('P(X = A) = |{\\U0001F0A1, \\U0001F0B1, \\U0001F0C1, \\U0001F0D1}|/|Whole Deck of Cards| = 4/52 = 1/13.')"
   ]
  },
  {
   "cell_type": "markdown",
   "id": "b81e8ac0",
   "metadata": {},
   "source": [
    "Even though we have a tool to calculate probability of an event exactly, we shouldn't forget about experimental probability. First, it can serve us to experimentally check our theoretical calculation. Secondly, and more important: sometimes calculating theoretical probability is difficult, or even impossible; so, performing the experiments and noting down the results is a way to obtain the probability of an event. "
   ]
  },
  {
   "cell_type": "markdown",
   "id": "b2db5e2d",
   "metadata": {},
   "source": [
    "## 3. Random variable: a Discrete Type"
   ]
  },
  {
   "cell_type": "code",
   "execution_count": null,
   "id": "1a3050ad",
   "metadata": {},
   "outputs": [],
   "source": []
  }
 ],
 "metadata": {
  "kernelspec": {
   "display_name": "Python 3",
   "language": "python",
   "name": "python3"
  },
  "language_info": {
   "codemirror_mode": {
    "name": "ipython",
    "version": 3
   },
   "file_extension": ".py",
   "mimetype": "text/x-python",
   "name": "python",
   "nbconvert_exporter": "python",
   "pygments_lexer": "ipython3",
   "version": "3.8.8"
  }
 },
 "nbformat": 4,
 "nbformat_minor": 5
}
