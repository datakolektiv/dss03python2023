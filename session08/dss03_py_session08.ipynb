{
 "cells": [
  {
   "cell_type": "markdown",
   "id": "64c13a8b",
   "metadata": {},
   "source": [
    "## 1. Event and Experimental Probability"
   ]
  },
  {
   "cell_type": "markdown",
   "id": "a01fcb91",
   "metadata": {},
   "source": [
    "When asked: *What's the probability of landing Tails when tossing a (fair) coin?* You'd (probably) answer: $\\frac{1}{2}$. Or 50%. But what does that mean?\n",
    "\n",
    "And when asked: *What's the probability of getting 6 when throwing a six-sided (fair) die?* The expected answer: $\\frac{1}{6}$ *What about NOT getting 6?* It's: $\\frac{5}{6}$. And *getting a number less than five?* $\\frac{2}{3}$? But what do those numbers mean?\n",
    "\n",
    "And and - *The probability of drawing an Ace from a (fair) deck of cards?*"
   ]
  },
  {
   "cell_type": "markdown",
   "id": "e70f43e7",
   "metadata": {},
   "source": [
    "---\n",
    "\n",
    "Let's get back to the coin. $\\frac{1}{2}$ says you. But what does it mean? Maybe you ment that out of two tossings you'll land exactly one Tails ($TH$ or $HT$)? Okay, let's toss a coin two times. I got $TT$. Maybe my assumption was wrong? Or I've just got unlucky? Let's toss it again. $HT$ this time. Maybe I'm actually right? Or I got lucky. Another two tosses! $HH$. Hmm... Unlucky again? But can I talk about luck in mathematics and in hypothesis testing?\n",
    "\n",
    "What about the other answer: 50%. Does that mean that I'll land Tails exactly half the times when tossing a coin $N$ times? Let's toss it, say, 10 times. But I don't actually have a coin. Luckily I have Python which can simulate tossing a coin. "
   ]
  },
  {
   "cell_type": "code",
   "execution_count": 40,
   "id": "8d3325d3",
   "metadata": {},
   "outputs": [],
   "source": [
    "import numpy as np\n",
    "import pandas as pd\n",
    "import matplotlib.pyplot as plt\n",
    "import seaborn as sns\n",
    "\n",
    "rng = np.random.default_rng(seed=1023)"
   ]
  },
  {
   "cell_type": "code",
   "execution_count": 2,
   "id": "766698ee",
   "metadata": {},
   "outputs": [
    {
     "data": {
      "text/plain": [
       "array(['H', 'H', 'T', 'T', 'T', 'T', 'H', 'T', 'H', 'T'], dtype='<U1')"
      ]
     },
     "execution_count": 2,
     "metadata": {},
     "output_type": "execute_result"
    }
   ],
   "source": [
    "coin = ['H', 'T']\n",
    "\n",
    "tossing = rng.choice(coin, size=10)\n",
    "tossing"
   ]
  },
  {
   "cell_type": "markdown",
   "id": "263913d8",
   "metadata": {},
   "source": [
    "6 of 10 Tails. Close, but not quite 50%. But, wait. 50% also means 50/100. Let's toss a coin 100 times then. "
   ]
  },
  {
   "cell_type": "code",
   "execution_count": 3,
   "id": "377bc6d0",
   "metadata": {},
   "outputs": [
    {
     "data": {
      "text/plain": [
       "array(['T', 'H', 'H', 'H', 'T', 'H', 'T', 'T', 'H', 'T', 'H', 'H', 'T',\n",
       "       'H', 'T', 'H', 'H', 'H', 'T', 'T', 'H', 'T', 'H', 'H', 'H', 'H',\n",
       "       'T', 'H', 'H', 'T', 'H', 'H', 'T', 'T', 'H', 'H', 'H', 'T', 'H',\n",
       "       'T', 'H', 'H', 'T', 'H', 'T', 'H', 'T', 'H', 'T', 'T', 'H', 'H',\n",
       "       'H', 'H', 'T', 'T', 'T', 'T', 'T', 'T', 'T', 'H', 'T', 'H', 'T',\n",
       "       'T', 'T', 'T', 'H', 'H', 'H', 'H', 'H', 'H', 'T', 'H', 'H', 'H',\n",
       "       'T', 'T', 'T', 'T', 'H', 'T', 'H', 'T', 'T', 'H', 'H', 'T', 'T',\n",
       "       'H', 'T', 'H', 'T', 'T', 'T', 'H', 'H', 'H'], dtype='<U1')"
      ]
     },
     "execution_count": 3,
     "metadata": {},
     "output_type": "execute_result"
    }
   ],
   "source": [
    "tossing = rng.choice(coin, size=100)\n",
    "tossing"
   ]
  },
  {
   "cell_type": "markdown",
   "id": "66f46ede",
   "metadata": {},
   "source": [
    "How many Tails, then?"
   ]
  },
  {
   "cell_type": "code",
   "execution_count": 4,
   "id": "d5dc3ab6",
   "metadata": {},
   "outputs": [
    {
     "data": {
      "text/plain": [
       "(array(['H', 'T'], dtype='<U1'), array([53, 47], dtype=int64))"
      ]
     },
     "execution_count": 4,
     "metadata": {},
     "output_type": "execute_result"
    }
   ],
   "source": [
    "np.unique(tossing, return_counts=True)"
   ]
  },
  {
   "cell_type": "markdown",
   "id": "3735e5e7",
   "metadata": {},
   "source": [
    "47/100. Not bad. But not quite 50%. Lucky, but not as quite? (But can I talk about luck in mathematics and in hypothesis testing?) What if those 50% is actually an *approximation* of the result? Let's toss a coin 1000 times.  "
   ]
  },
  {
   "cell_type": "code",
   "execution_count": 5,
   "id": "67b57ed3",
   "metadata": {},
   "outputs": [
    {
     "data": {
      "text/plain": [
       "(array(['H', 'T'], dtype='<U1'), array([480, 520], dtype=int64))"
      ]
     },
     "execution_count": 5,
     "metadata": {},
     "output_type": "execute_result"
    }
   ],
   "source": [
    "tossing = rng.choice(coin, size=1000)\n",
    "np.unique(tossing, return_counts=True)"
   ]
  },
  {
   "cell_type": "markdown",
   "id": "bbd5261a",
   "metadata": {},
   "source": [
    "520/1000. That's 52%. And that's not that quite bad *approximation*. But still... Now, let's toss a coin ONE MILLION TIMES."
   ]
  },
  {
   "cell_type": "code",
   "execution_count": 6,
   "id": "ef2791bb",
   "metadata": {},
   "outputs": [
    {
     "data": {
      "text/plain": [
       "(array(['H', 'T'], dtype='<U1'), array([500537, 499463], dtype=int64))"
      ]
     },
     "execution_count": 6,
     "metadata": {},
     "output_type": "execute_result"
    }
   ],
   "source": [
    "tossing = rng.choice(coin, size=10**6)\n",
    "np.unique(tossing, return_counts=True)"
   ]
  },
  {
   "cell_type": "code",
   "execution_count": 7,
   "id": "c35449c4",
   "metadata": {},
   "outputs": [
    {
     "data": {
      "text/plain": [
       "0.499463"
      ]
     },
     "execution_count": 7,
     "metadata": {},
     "output_type": "execute_result"
    }
   ],
   "source": [
    "499463/10**6"
   ]
  },
  {
   "cell_type": "markdown",
   "id": "d95f815b",
   "metadata": {},
   "source": [
    "Well - that's 49.95%, almost 50%. Quite good approximation. \n",
    "\n",
    "What if tossed a coin more than million times?"
   ]
  },
  {
   "cell_type": "code",
   "execution_count": 8,
   "id": "8e78e894",
   "metadata": {},
   "outputs": [
    {
     "data": {
      "text/plain": [
       "(array(['H', 'T'], dtype='<U1'), array([4999908, 5000092], dtype=int64))"
      ]
     },
     "execution_count": 8,
     "metadata": {},
     "output_type": "execute_result"
    }
   ],
   "source": [
    "tossing = rng.choice(coin, size=10**7)\n",
    "np.unique(tossing, return_counts=True)"
   ]
  },
  {
   "cell_type": "code",
   "execution_count": 9,
   "id": "f60df64c",
   "metadata": {},
   "outputs": [
    {
     "data": {
      "text/plain": [
       "0.5000092"
      ]
     },
     "execution_count": 9,
     "metadata": {},
     "output_type": "execute_result"
    }
   ],
   "source": [
    "5000092/10**7"
   ]
  },
  {
   "cell_type": "markdown",
   "id": "19b8fe40",
   "metadata": {},
   "source": [
    "This is even better, veeeery close to 50%; 50.001%, to be more exact.\n",
    "\n",
    "And if we tossed a coin **infinitely many times**? Then there is no approximation. We'd get 50% sharp. Mathematically, we can write this\n",
    "\n",
    "$$ P(T) = \\lim_{N_{\\rm TRIES}\\rightarrow\\infty}\\frac{n_{\\rm HITS}}{N_{\\rm TRIES}} = 0.5 = \\frac{1}{2}.$$"
   ]
  },
  {
   "cell_type": "markdown",
   "id": "24db8811",
   "metadata": {},
   "source": [
    "What are all these letters? Let's interpret this formula one by one. \n",
    "\n",
    "- $T$ is the *event*: event of landing Tails when tossing ONE coin. \n",
    "\n",
    "\n",
    "- $P$ is the *probability*: we may consider it as a function which *measures* how probable an event is. So, $P(T)$ is probability of langing Tails when tossing one coin. \n",
    "\n",
    "\n",
    "- $N_{\\rm TRIES}$ is the number of trials of the SAME experiment. In our case, it's the number of tossing a coin. \n",
    "\n",
    "\n",
    "- $n_{\\rm HITS}$ is the number of 'hits', i.e. the number of desired outcomes in our set of trials. In our case, it's the number of Tails landed. \n",
    "\n",
    "\n",
    "- $\\lim_{N_{\\rm TRIES}\\rightarrow\\infty}$ is the *limit*: a value of the fraction $\\frac{n_{\\rm HITS}}{N_{\\rm TRIES}}$ which we would obtain if we would *theoretically* be able to toss a coin infinitely many times in our finite lives. But we can't do that. We can only obtain an *experimental* (or *statistical*) approximation of the *theoretical* value in finite number of trials. And as we demonstrated - the larger number of trials, the better the approximation. "
   ]
  },
  {
   "cell_type": "markdown",
   "id": "b1593854",
   "metadata": {},
   "source": [
    "***"
   ]
  },
  {
   "cell_type": "markdown",
   "id": "f3e067ae",
   "metadata": {},
   "source": [
    "Let's now illustrate this *limit* on another example: rolling a six-sided die. Intuintively we say that the probability of getting a 6 is $\\frac{1}{6}$, or 16.666...% . Similarly as with the coin, we'll simulate rolling a die for various numbers of trials and list the results, i.e. approximations of theoretical probability."
   ]
  },
  {
   "cell_type": "code",
   "execution_count": 38,
   "id": "e257182a",
   "metadata": {
    "scrolled": true
   },
   "outputs": [
    {
     "name": "stdout",
     "output_type": "stream",
     "text": [
      "|    |     No. of Rolls |        No. of 6s |   Experimental Probability |\n",
      "|---:|-----------------:|-----------------:|---------------------------:|\n",
      "|  0 |     56           |     12           |                    0.21429 |\n",
      "|  1 |     63           |      6           |                    0.09524 |\n",
      "|  2 |     71           |     13           |                    0.1831  |\n",
      "|  3 |     81           |     16           |                    0.19753 |\n",
      "|  4 |     91           |     20           |                    0.21978 |\n",
      "|  5 |    103           |     15           |                    0.14563 |\n",
      "|  6 |    116           |     16           |                    0.13793 |\n",
      "|  7 |    132           |     21           |                    0.15909 |\n",
      "|  8 |    149           |     26           |                    0.1745  |\n",
      "|  9 |    168           |     33           |                    0.19643 |\n",
      "| 10 |    190           |     32           |                    0.16842 |\n",
      "| 11 |    215           |     32           |                    0.14884 |\n",
      "| 12 |    243           |     33           |                    0.1358  |\n",
      "| 13 |    275           |     27           |                    0.09818 |\n",
      "| 14 |    310           |     53           |                    0.17097 |\n",
      "| 15 |    351           |     60           |                    0.17094 |\n",
      "| 16 |    396           |     66           |                    0.16667 |\n",
      "| 17 |    448           |     91           |                    0.20312 |\n",
      "| 18 |    506           |     65           |                    0.12846 |\n",
      "| 19 |    572           |     89           |                    0.15559 |\n",
      "| 20 |    646           |    113           |                    0.17492 |\n",
      "| 21 |    730           |    111           |                    0.15205 |\n",
      "| 22 |    825           |    132           |                    0.16    |\n",
      "| 23 |    932           |    140           |                    0.15021 |\n",
      "| 24 |   1053           |    169           |                    0.16049 |\n",
      "| 25 |   1190           |    208           |                    0.17479 |\n",
      "| 26 |   1345           |    213           |                    0.15836 |\n",
      "| 27 |   1519           |    285           |                    0.18762 |\n",
      "| 28 |   1717           |    282           |                    0.16424 |\n",
      "| 29 |   1940           |    325           |                    0.16753 |\n",
      "| 30 |   2192           |    363           |                    0.1656  |\n",
      "| 31 |   2477           |    412           |                    0.16633 |\n",
      "| 32 |   2798           |    472           |                    0.16869 |\n",
      "| 33 |   3162           |    548           |                    0.17331 |\n",
      "| 34 |   3572           |    559           |                    0.15649 |\n",
      "| 35 |   4037           |    688           |                    0.17042 |\n",
      "| 36 |   4561           |    838           |                    0.18373 |\n",
      "| 37 |   5153           |    833           |                    0.16165 |\n",
      "| 38 |   5823           |    977           |                    0.16778 |\n",
      "| 39 |   6579           |   1153           |                    0.17525 |\n",
      "| 40 |   7433           |   1267           |                    0.17046 |\n",
      "| 41 |   8399           |   1447           |                    0.17228 |\n",
      "| 42 |   9490           |   1624           |                    0.17113 |\n",
      "| 43 |  10722           |   1721           |                    0.16051 |\n",
      "| 44 |  12115           |   2024           |                    0.16707 |\n",
      "| 45 |  13688           |   2280           |                    0.16657 |\n",
      "| 46 |  15466           |   2533           |                    0.16378 |\n",
      "| 47 |  17475           |   2989           |                    0.17104 |\n",
      "| 48 |  19744           |   3358           |                    0.17008 |\n",
      "| 49 |  22309           |   3624           |                    0.16245 |\n",
      "| 50 |  25206           |   4292           |                    0.17028 |\n",
      "| 51 |  28480           |   4703           |                    0.16513 |\n",
      "| 52 |  32179           |   5297           |                    0.16461 |\n",
      "| 53 |  36358           |   6272           |                    0.17251 |\n",
      "| 54 |  41080           |   6877           |                    0.16741 |\n",
      "| 55 |  46415           |   7764           |                    0.16727 |\n",
      "| 56 |  52444           |   8753           |                    0.1669  |\n",
      "| 57 |  59255           |   9794           |                    0.16529 |\n",
      "| 58 |  66951           |  11249           |                    0.16802 |\n",
      "| 59 |  75646           |  12627           |                    0.16692 |\n",
      "| 60 |  85470           |  14096           |                    0.16492 |\n",
      "| 61 |  96571           |  16211           |                    0.16787 |\n",
      "| 62 | 109113           |  18047           |                    0.1654  |\n",
      "| 63 | 123284           |  20366           |                    0.1652  |\n",
      "| 64 | 139296           |  23113           |                    0.16593 |\n",
      "| 65 | 157387           |  26292           |                    0.16705 |\n",
      "| 66 | 177827           |  29642           |                    0.16669 |\n",
      "| 67 | 200923           |  33477           |                    0.16662 |\n",
      "| 68 | 227018           |  38075           |                    0.16772 |\n",
      "| 69 | 256502           |  42677           |                    0.16638 |\n",
      "| 70 | 289815           |  48308           |                    0.16669 |\n",
      "| 71 | 327454           |  54612           |                    0.16678 |\n",
      "| 72 | 369983           |  61553           |                    0.16637 |\n",
      "| 73 | 418034           |  69366           |                    0.16593 |\n",
      "| 74 | 472326           |  78719           |                    0.16666 |\n",
      "| 75 | 533669           |  89394           |                    0.16751 |\n",
      "| 76 | 602980           | 100338           |                    0.1664  |\n",
      "| 77 | 681292           | 113496           |                    0.16659 |\n",
      "| 78 | 769774           | 128586           |                    0.16704 |\n",
      "| 79 | 869749           | 145356           |                    0.16712 |\n",
      "| 80 | 982707           | 163685           |                    0.16657 |\n",
      "| 81 |      1.11034e+06 | 185462           |                    0.16703 |\n",
      "| 82 |      1.25454e+06 | 209362           |                    0.16688 |\n",
      "| 83 |      1.41747e+06 | 236421           |                    0.16679 |\n",
      "| 84 |      1.60157e+06 | 266743           |                    0.16655 |\n",
      "| 85 |      1.80957e+06 | 301335           |                    0.16652 |\n",
      "| 86 |      2.04459e+06 | 339795           |                    0.16619 |\n",
      "| 87 |      2.31013e+06 | 385403           |                    0.16683 |\n",
      "| 88 |      2.61016e+06 | 435296           |                    0.16677 |\n",
      "| 89 |      2.94915e+06 | 490808           |                    0.16642 |\n",
      "| 90 |      3.33217e+06 | 555136           |                    0.1666  |\n",
      "| 91 |      3.76494e+06 | 627401           |                    0.16664 |\n",
      "| 92 |      4.25390e+06 | 708531           |                    0.16656 |\n",
      "| 93 |      4.80638e+06 | 799792           |                    0.1664  |\n",
      "| 94 |      5.43061e+06 | 904873           |                    0.16662 |\n",
      "| 95 |      6.13591e+06 |      1.02259e+06 |                    0.16666 |\n",
      "| 96 |      6.93281e+06 |      1.15466e+06 |                    0.16655 |\n",
      "| 97 |      7.8332e+06  |      1.30646e+06 |                    0.16679 |\n",
      "| 98 |      8.85054e+06 |      1.47527e+06 |                    0.16669 |\n",
      "| 99 |      1e+07       |      1.66529e+06 |                    0.16653 |\n"
     ]
    }
   ],
   "source": [
    "exp_prob_df = pd.DataFrame(columns=['No. of Rolls', 'No. of 6s', 'Experimental Probability'])\n",
    "\n",
    "number_of_rolls = np.logspace(1.75, 7, 100, dtype=int).tolist()\n",
    "number_of_6s = []\n",
    "die = list(range(1, 7))\n",
    "           \n",
    "for n_rolls in number_of_rolls:\n",
    "    rolling = rng.choice(die, size=n_rolls)\n",
    "    \n",
    "    results = np.unique(rolling, return_counts=True)\n",
    "    n_6 = results[1][-1]\n",
    "    number_of_6s.append(n_6)\n",
    "\n",
    "number_of_6s = np.asarray(number_of_6s)\n",
    "\n",
    "exp_prob_df['No. of Rolls'] = number_of_rolls\n",
    "exp_prob_df['No. of 6s'] = number_of_6s\n",
    "exp_prob_df['Experimental Probability'] = np.round(number_of_6s/number_of_rolls, 5)\n",
    "    \n",
    "    \n",
    "print(exp_prob_df.to_markdown())"
   ]
  },
  {
   "cell_type": "markdown",
   "id": "3d6081e8",
   "metadata": {},
   "source": [
    "And here's how our accumulation point looks like:"
   ]
  },
  {
   "cell_type": "code",
   "execution_count": 67,
   "id": "af83af80",
   "metadata": {},
   "outputs": [
    {
     "data": {
      "image/png": "[encoded data removed]",
      "text/plain": [
       "<Figure size 1152x720 with 1 Axes>"
      ]
     },
     "metadata": {
      "needs_background": "light"
     },
     "output_type": "display_data"
    }
   ],
   "source": [
    "fig, ax = plt.subplots(figsize=(16, 10))\n",
    "\n",
    "sns.scatterplot(ax = ax, data = exp_prob_df, x='No. of Rolls', y='Experimental Probability');\n",
    "ax.axhline(.16667, c='r')\n",
    "\n",
    "ax.set_xscale('log')\n",
    "ax.set_yticks(np.linspace(.08, .24, 25))\n",
    "ax.legend(['Theoretical Probability']);"
   ]
  },
  {
   "cell_type": "markdown",
   "id": "90628064",
   "metadata": {},
   "source": [
    "From the scatterplot above we see how the values of ratio $\\frac{n_{\\rm HITS}}{N_{\\rm TRIES}}$ converge towards the predicted theoretical probability of 16.666...% as $N_{\\rm TRIES}\\rightarrow\\infty$."
   ]
  },
  {
   "cell_type": "markdown",
   "id": "eb52acf6",
   "metadata": {},
   "source": [
    "But, is there a way to calculate theoretical probability **exactly**?"
   ]
  },
  {
   "cell_type": "markdown",
   "id": "ddd6ccd2",
   "metadata": {},
   "source": [
    "## 2. $\\sigma$-Algebra of Events and Theoretical Probability"
   ]
  },
  {
   "cell_type": "markdown",
   "id": "9bd9f7d7",
   "metadata": {},
   "source": [
    "In order to be able to speak properly about theoretical probability (and be able to compute it), we need to introduce *$\\sigma$-algebra of events* and *probability-as-a-measure*. We can consider $\\sigma$-algebra of events as a family of sets where every set is an event, and every element of this event-set is an *outcome* for which consider the evenet realized, i.e. a *favorable outcome*. \n",
    "\n",
    "For example, if we toss a coin two times, then one event-set might be\n",
    "\n",
    "$$ A - {\\rm Landed\\ 1\\ Heads\\ and\\ 1\\ Tails}, $$\n",
    "\n",
    "and its elements are\n",
    "\n",
    "$$ A = \\{HT, TH\\}.$$"
   ]
  },
  {
   "cell_type": "markdown",
   "id": "2e4f3923",
   "metadata": {},
   "source": [
    "A set of all the possible outcomes for a given experiment/observation is called the *universal set*. It is denoted by $\\Omega$ and it is the set upon which $\\sigma$-algebra of events is built upon, from the subsets $A\\subset\\Omega$ of the universal set.  \n",
    "\n",
    "For tossing a coin two times we have\n",
    "\n",
    "$$ \\Omega = \\{HH, HT, TH, TT\\},$$\n",
    "\n",
    "and obviously\n",
    "\n",
    "$$ A \\subset \\Omega. $$"
   ]
  },
  {
   "cell_type": "markdown",
   "id": "b2b9c6b4",
   "metadata": {},
   "source": [
    "Let $\\Sigma$ be a $\\sigma$-algebra of events on $\\Omega$, and $A$ and $B$ two events (which we write $A, B\\in \\Sigma$). Then we have:"
   ]
  },
  {
   "cell_type": "markdown",
   "id": "6cbbdaaa",
   "metadata": {},
   "source": [
    "$$1^\\circ\\quad \\emptyset,\\ \\Omega \\in \\Sigma$$\n",
    "\n",
    "$$2^\\circ\\quad A^C \\in \\Sigma$$\n",
    "\n",
    "$$3^\\circ\\quad A\\cup B \\in \\Sigma$$\n",
    "\n",
    "$$4^\\circ\\quad A\\cap B \\in \\Sigma.$$"
   ]
  },
  {
   "cell_type": "markdown",
   "id": "7d1edebb",
   "metadata": {},
   "source": [
    "What do these cryptic messages even mean? Let's explain them one by one, I promise they make sense."
   ]
  },
  {
   "cell_type": "markdown",
   "id": "1c310bb0",
   "metadata": {},
   "source": [
    "$$1^\\circ\\quad \\emptyset,\\ \\Omega \\in \\Sigma$$"
   ]
  },
  {
   "cell_type": "markdown",
   "id": "a5ffcbb2",
   "metadata": {},
   "source": [
    "This means that the empty set $\\emptyset$ and the total set $\\Omega$ are also considered as events.\n",
    "\n",
    "$\\emptyset$ is called an *impossible event*, and it does not contain any (possible) outcome. \n",
    "\n",
    "$\\Omega$, viewed as an event is called *certain event* - getting any outcome from all the possible outcomes is definitely a certain event. \n",
    "\n",
    "---"
   ]
  },
  {
   "cell_type": "markdown",
   "id": "dbeef6cd",
   "metadata": {},
   "source": [
    "$$2^\\circ\\quad A^C \\in \\Sigma$$"
   ]
  },
  {
   "cell_type": "markdown",
   "id": "3636e867",
   "metadata": {},
   "source": [
    "An complementary set of $A$: $A^C = \\Omega\\setminus A$ is also considered as an event. Every unfavourable outcome of $A$ is favourable for $A^C$ (and vice versa). So, for the event $A$ as defined above, we have:\n",
    "\n",
    "$$ A^C = \\{HH, TT\\}. $$\n",
    "\n",
    "---"
   ]
  },
  {
   "cell_type": "markdown",
   "id": "ac6b2514",
   "metadata": {},
   "source": [
    "$$3^\\circ\\quad A\\cup B \\in \\Sigma$$"
   ]
  },
  {
   "cell_type": "markdown",
   "id": "d2b80bfa",
   "metadata": {},
   "source": [
    "A union of two events (denoted also as $A + B$) is also considered as an event. But what is a union of two events actually? We say that the event $A\\cup B$ is realized when at least one of the events $A$ **OR** $B$ is realized. $A\\cup B$ contains all the outcomes which are favourable for either the event $A$ **OR** event $B$.\n",
    "\n",
    "For example, if we define event $B$ as\n",
    "\n",
    "$$B - {\\rm Landed\\ 2\\ Tails,}$$\n",
    "\n",
    "we have \n",
    "\n",
    "$$ A\\cup B = \\{HT, TH, TT\\}.$$\n",
    "\n",
    "---"
   ]
  },
  {
   "cell_type": "markdown",
   "id": "9e1785a5",
   "metadata": {},
   "source": [
    "$$4^\\circ\\quad A\\cap B \\in \\Sigma.$$"
   ]
  },
  {
   "cell_type": "markdown",
   "id": "98e5b387",
   "metadata": {},
   "source": [
    "An intersection of two events (denoted also as AB) is also considered as an event. We say that the event $AB$ is realized when both events $A$ **AND** $B$ are simultaneously realized. $AB$ contains all the outcomes which are favourable for both events $A$ **AND** $B$. \n",
    "\n",
    "For examle, if we define event $C$ as \n",
    "\n",
    "$$ C - {\\rm Tails\\ in\\ the\\ first\\ coin\\ toss}, $$\n",
    "\n",
    "we have \n",
    "\n",
    "$$ AC = \\{HT, TH\\} \\cap \\{TH, TT\\} = \\{TH\\}.$$"
   ]
  },
  {
   "cell_type": "markdown",
   "id": "248e65b4",
   "metadata": {},
   "source": [
    "Two events $A$ and $B$ are *mutually exclusive* if $A\\cap B = \\emptyset$, i.e. if realization of both events simultaneously is an impossible event.\n",
    "\n",
    "---"
   ]
  },
  {
   "cell_type": "code",
   "execution_count": null,
   "id": "51da29fd",
   "metadata": {},
   "outputs": [],
   "source": []
  },
  {
   "cell_type": "code",
   "execution_count": null,
   "id": "5e637bd2",
   "metadata": {},
   "outputs": [],
   "source": []
  },
  {
   "cell_type": "code",
   "execution_count": null,
   "id": "5d57015c",
   "metadata": {},
   "outputs": [],
   "source": []
  }
 ],
 "metadata": {
  "kernelspec": {
   "display_name": "Python 3",
   "language": "python",
   "name": "python3"
  },
  "language_info": {
   "codemirror_mode": {
    "name": "ipython",
    "version": 3
   },
   "file_extension": ".py",
   "mimetype": "text/x-python",
   "name": "python",
   "nbconvert_exporter": "python",
   "pygments_lexer": "ipython3",
   "version": "3.8.8"
  }
 },
 "nbformat": 4,
 "nbformat_minor": 5
}
