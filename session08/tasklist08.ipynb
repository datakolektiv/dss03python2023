{
 "cells": [
  {
   "attachments": {},
   "cell_type": "markdown",
   "id": "0596f44a",
   "metadata": {},
   "source": [
    "# DATA SCIENCE SESSIONS VOL. 3\n",
    "### A Foundational Python Data Science Course\n",
    "## TaskList 08: Probability 1.\n",
    "\n",
    "[&larr; Back to course webpage](https://datakolektiv.com/)\n",
    "\n",
    "Feedback should be send to [goran.milovanovic@datakolektiv.com](mailto:goran.milovanovic@datakolektiv.com). \n",
    "\n",
    "These notebooks accompany the DATA SCIENCE SESSIONS VOL. 3 :: A Foundational Python Data Science Course."
   ]
  },
  {
   "cell_type": "markdown",
   "id": "5e41fa90",
   "metadata": {},
   "source": [
    "![](../img/IntroRDataScience_NonTech-1.jpg)"
   ]
  },
  {
   "cell_type": "markdown",
   "id": "80a8469f",
   "metadata": {},
   "source": [
    "### Lecturers\n",
    "\n",
    "[Goran S. Milovanović, PhD, DataKolektiv, Chief Scientist & Owner](https://www.linkedin.com/in/gmilovanovic/)\n",
    "\n",
    "[Aleksandar Cvetković, PhD, DataKolektiv, Consultant](https://www.linkedin.com/in/alegzndr/)\n",
    "\n",
    "[Ilija Lazarević, MA, DataKolektiv, Consultant](https://www.linkedin.com/in/ilijalazarevic/)"
   ]
  },
  {
   "cell_type": "markdown",
   "id": "20821a04",
   "metadata": {},
   "source": [
    "![](../img/DK_Logo_100.png)"
   ]
  },
  {
   "cell_type": "markdown",
   "id": "b39d0c5b",
   "metadata": {},
   "source": [
    "***"
   ]
  },
  {
   "attachments": {},
   "cell_type": "markdown",
   "id": "0ee740f1",
   "metadata": {},
   "source": [
    "### Intro\n",
    "\n",
    "In this tasklist we will deal with the basics of Probability Theory as presented in Session 08 and 09. \n",
    "This tasklist is meant as a refresher of what was discussed in the sessions. It is not meant to improve your Python coding skills except for very basic things in Numpy and Scipy and all in relation to Probability Theory alone. "
   ]
  },
  {
   "attachments": {},
   "cell_type": "markdown",
   "id": "e1841bac",
   "metadata": {},
   "source": [
    "**00.** There are 15 red, 20 blue, and 10 yellow marbles in a bowl. The statistical experiment that we wish to study is a random draw of a marble from the bowl. Use a Numpy vector to represent the event space of this experiment (i.e. create a \"bowl\" that contains 15 red, 20 blue, and 10 yellow marbles; you can perhaps use numbers to represent different colors)."
   ]
  },
  {
   "cell_type": "code",
   "execution_count": 1,
   "id": "10a77449",
   "metadata": {},
   "outputs": [],
   "source": [
    "### Your code here ###"
   ]
  },
  {
   "attachments": {},
   "cell_type": "markdown",
   "id": "c5fb307b",
   "metadata": {},
   "source": [
    "**01.** Use Numpy to compute $P(Blue)$, $P(Red)$, and $P(Yellow)$. What is their sum?"
   ]
  },
  {
   "cell_type": "code",
   "execution_count": 8,
   "id": "1d124b5f",
   "metadata": {},
   "outputs": [
    {
     "name": "stdout",
     "output_type": "stream",
     "text": [
      "The probability to draw a blue marble at random is 0.4444444444444444\n",
      "The probability to draw a red marble at random is 0.3333333333333333\n",
      "The probability to draw a yellow marble at random is 0.2222222222222222\n",
      "The sum of P(Blue), P(Red), and P(Yellow) is 0.9999999999999999\n"
     ]
    }
   ],
   "source": [
    "### Your code here ###"
   ]
  },
  {
   "attachments": {},
   "cell_type": "markdown",
   "id": "a973b510",
   "metadata": {},
   "source": [
    "**02.** Compute $P(Blue \\cup Red)$"
   ]
  },
  {
   "cell_type": "code",
   "execution_count": 9,
   "id": "905615d6",
   "metadata": {},
   "outputs": [
    {
     "name": "stdout",
     "output_type": "stream",
     "text": [
      "The probability that a blue or a red marble is drawn is 0.7777777777777777.\n"
     ]
    }
   ],
   "source": [
    "### Your code here ###"
   ]
  },
  {
   "attachments": {},
   "cell_type": "markdown",
   "id": "98c95786",
   "metadata": {},
   "source": [
    "**03.** Assume that we have already drew five blue, two red, and six yellow marbles from the bowl. Following each draw we **did not return** the marble back into the bowl. What is now $P(Blue)$, the probability to draw a blue marble at random?"
   ]
  },
  {
   "cell_type": "code",
   "execution_count": 10,
   "id": "65065201",
   "metadata": {},
   "outputs": [
    {
     "name": "stdout",
     "output_type": "stream",
     "text": [
      "P(Blue) is now 0.46875\n"
     ]
    }
   ],
   "source": [
    "### Your code here ###"
   ]
  },
  {
   "attachments": {},
   "cell_type": "markdown",
   "id": "902cfb1e",
   "metadata": {},
   "source": [
    "**04.** I have a tricky coin with $P(Head)=.78$. What is the probability that I obtain sixty-five $Heads$ from one hundred tosses of my tricky coin? (I like tricky things, indeed). Use Scipy!"
   ]
  },
  {
   "cell_type": "code",
   "execution_count": 18,
   "id": "d77faa13",
   "metadata": {},
   "outputs": [
    {
     "name": "stdout",
     "output_type": "stream",
     "text": [
      "The probability to obtain sixty-five Heads in one hundred tosses of your tricky coin is 0.0010241976052498694\n"
     ]
    }
   ],
   "source": [
    "### Your code here ###"
   ]
  },
  {
   "attachments": {},
   "cell_type": "markdown",
   "id": "c5afb935",
   "metadata": {},
   "source": [
    "**05.** And what is the probability to obtain sixty-five **or more than sixty-five** Heads? **N.B. Tricky**. "
   ]
  },
  {
   "cell_type": "code",
   "execution_count": 19,
   "id": "8ff8f344",
   "metadata": {},
   "outputs": [
    {
     "name": "stdout",
     "output_type": "stream",
     "text": [
      "The probability to obtain sixty-five or more Heads in one hundred tosses of your tricky coin is 0.9990132090258856\n"
     ]
    }
   ],
   "source": [
    "### Your code here ###"
   ]
  },
  {
   "attachments": {},
   "cell_type": "markdown",
   "id": "57155dee",
   "metadata": {},
   "source": [
    "**06.** My cat scratches me - accidentally or intentionally - 9.97 times monthly on the average. What is the probability that the darned animal will scratch me 11 times in the following month?"
   ]
  },
  {
   "cell_type": "code",
   "execution_count": 24,
   "id": "bd2423d2",
   "metadata": {},
   "outputs": [
    {
     "name": "stdout",
     "output_type": "stream",
     "text": [
      "The probability that your cat will scratch you eleven times in the following month is 0.11339007402506597\n"
     ]
    }
   ],
   "source": [
    "### Your code here ###"
   ]
  },
  {
   "attachments": {},
   "cell_type": "markdown",
   "id": "fd6dcb87",
   "metadata": {},
   "source": [
    "**07.** And what is the probability that the cat will scratch me five or less than five times (on a good month)?"
   ]
  },
  {
   "cell_type": "code",
   "execution_count": 25,
   "id": "d7ad09ae",
   "metadata": {},
   "outputs": [
    {
     "name": "stdout",
     "output_type": "stream",
     "text": [
      "The probability that your cat will scratch you five or less than five times in the following month is 0.0682295077107305\n"
     ]
    }
   ],
   "source": [
    "### Your code here ###"
   ]
  },
  {
   "attachments": {},
   "cell_type": "markdown",
   "id": "c624aa37",
   "metadata": {},
   "source": [
    "**08.** The probability that any of my bank's customer support agents answer my phone call on weekends is $P(Answer)=.05$ (**N.B.** the website says it's a 24h support any given day; they just don't give a d*). What is the probability that my phone call will be answered in my 10th attempt?\n",
    "\n",
    "**N.B.** If you wonder if Scipy can handle a Geometric distribution... [scipy.stats.geom](https://docs.scipy.org/doc/scipy/reference/generated/scipy.stats.geom.html)"
   ]
  },
  {
   "cell_type": "code",
   "execution_count": 29,
   "id": "a2b932e5",
   "metadata": {},
   "outputs": [
    {
     "name": "stdout",
     "output_type": "stream",
     "text": [
      "The probability that your call will be answered in your 10th attempt is 0.03151247048623045\n"
     ]
    }
   ],
   "source": [
    "### Your code here ###"
   ]
  },
  {
   "attachments": {},
   "cell_type": "markdown",
   "id": "91b02091",
   "metadata": {},
   "source": [
    "**09.** And what is the probability that my call will be answered in the first ten attempts, including the tenth attempt?"
   ]
  },
  {
   "cell_type": "code",
   "execution_count": 28,
   "id": "aaf69ddb",
   "metadata": {},
   "outputs": [
    {
     "name": "stdout",
     "output_type": "stream",
     "text": [
      "The probability that your call will be answered in before or at your 10th attempt is 0.4012630607616211\n"
     ]
    }
   ],
   "source": [
    "### Your code here ###"
   ]
  },
  {
   "attachments": {},
   "cell_type": "markdown",
   "id": "537eb274",
   "metadata": {},
   "source": [
    "**10.** As [Alex](https://www.linkedin.com/in/alegzndr/) explained in Session08, we consider finite, countably infinite, and uncountably infinite event sets in Probability Theory. The set of all natural numbers, $\\mathbb{N}$, is countably infinite, and its cardinal number - meaning its size - is $\\aleph_0$ (aleph-zero). A set is uncountably infinite if it cannot be brought into a 1:1 correspondence with the set of natural numbers, $\\mathbb{N}$, and of course $\\mathbb{R}$ - the set of real numbers - is thus uncountably infinite. We say that the cardinal number of $\\mathbb{R}$ is $\\aleph_1$ (aleph-one). Prove that there are no sets whose cardinality lies between $\\aleph_0$ and $\\aleph_1$. Please make sure to keep the proof concise, elegant, and easy to read. You can use OpenAI's [ChatGPT](https://openai.com/blog/chatgpt) to solve this task if you prefer.\n",
    "\n",
    "Some background material is provided in [Continuum hypothesis|English Wikipedia](https://en.wikipedia.org/wiki/Continuum_hypothesis)."
   ]
  },
  {
   "cell_type": "code",
   "execution_count": 2,
   "id": "2517d965",
   "metadata": {},
   "outputs": [],
   "source": [
    "### Your code here ###"
   ]
  },
  {
   "cell_type": "markdown",
   "id": "f6df9430",
   "metadata": {},
   "source": [
    "***"
   ]
  },
  {
   "cell_type": "markdown",
   "id": "12ef95f3",
   "metadata": {},
   "source": [
    "DataKolektiv, 2022/23.\n",
    "\n",
    "[hello@datakolektiv.com](mailto:goran.milovanovic@datakolektiv.com)\n",
    "\n",
    "![](../img/DK_Logo_100.png)"
   ]
  },
  {
   "cell_type": "markdown",
   "id": "fedb123c",
   "metadata": {},
   "source": [
    "<font size=1>License: [GPLv3](https://www.gnu.org/licenses/gpl-3.0.txt) This Notebook is free software: you can redistribute it and/or modify it under the terms of the GNU General Public License as published by the Free Software Foundation, either version 3 of the License, or (at your option) any later version. This Notebook is distributed in the hope that it will be useful, but WITHOUT ANY WARRANTY; without even the implied warranty of MERCHANTABILITY or FITNESS FOR A PARTICULAR PURPOSE. See the GNU General Public License for more details. You should have received a copy of the GNU General Public License along with this Notebook. If not, see http://www.gnu.org/licenses/.</font>"
   ]
  }
 ],
 "metadata": {
  "kernelspec": {
   "display_name": "Python 3",
   "language": "python",
   "name": "python3"
  },
  "language_info": {
   "codemirror_mode": {
    "name": "ipython",
    "version": 3
   },
   "file_extension": ".py",
   "mimetype": "text/x-python",
   "name": "python",
   "nbconvert_exporter": "python",
   "pygments_lexer": "ipython3",
   "version": "3.9.16"
  }
 },
 "nbformat": 4,
 "nbformat_minor": 5
}
