{
 "cells": [
  {
   "cell_type": "markdown",
   "id": "61e049ab",
   "metadata": {},
   "source": [
    "# DATA SCIENCE SESSIONS VOL. 3\n",
    "### A Foundational Python Data Science Course\n",
    "## Task List 05: Strings in Python\n",
    "\n",
    "[&larr; Back to course webpage](https://datakolektiv.com/)\n",
    "\n",
    "Feedback should be send to [goran.milovanovic@datakolektiv.com](mailto:goran.milovanovic@datakolektiv.com). \n",
    "\n",
    "These notebooks accompany the DATA SCIENCE SESSIONS VOL. 3 :: A Foundational Python Data Science Course."
   ]
  },
  {
   "cell_type": "markdown",
   "id": "68271335",
   "metadata": {},
   "source": [
    "![](../img/IntroRDataScience_NonTech-1.jpg)"
   ]
  },
  {
   "cell_type": "markdown",
   "id": "d70f7a4a",
   "metadata": {},
   "source": [
    "### Lecturers\n",
    "\n",
    "[Goran S. Milovanović, PhD, DataKolektiv, Chief Scientist & Owner](https://www.linkedin.com/in/gmilovanovic/)\n",
    "\n",
    "[Aleksandar Cvetković, PhD, DataKolektiv, Consultant](https://www.linkedin.com/in/alegzndr/)\n",
    "\n",
    "[Ilija Lazarević, MA, DataKolektiv, Consultant](https://www.linkedin.com/in/ilijalazarevic/)"
   ]
  },
  {
   "cell_type": "markdown",
   "id": "83d89836",
   "metadata": {},
   "source": [
    "![](../img/DK_Logo_100.png)"
   ]
  },
  {
   "cell_type": "markdown",
   "id": "a7eb4615",
   "metadata": {},
   "source": [
    "***"
   ]
  },
  {
   "cell_type": "markdown",
   "id": "ce4fb74c",
   "metadata": {},
   "source": [
    "### Intro\n",
    "\n",
    "NumPy and all the Linear Algebra might have been tough and tiresome. Now it's time to rest a bit from all the math and work with words and letters for a change. And here's a li'l bunny."
   ]
  },
  {
   "cell_type": "code",
   "execution_count": 1,
   "id": "50833698",
   "metadata": {},
   "outputs": [
    {
     "name": "stdout",
     "output_type": "stream",
     "text": [
      " Λ__Λ\n",
      "(•.• )\n",
      "/ >💐\n"
     ]
    }
   ],
   "source": [
    "print(\"\"\" Λ__Λ\\n(•.• )\\n/ >\\U0001F490\"\"\")"
   ]
  },
  {
   "cell_type": "markdown",
   "id": "718fe807",
   "metadata": {},
   "source": [
    "Or a li'l cat?"
   ]
  },
  {
   "cell_type": "markdown",
   "id": "ccacf920",
   "metadata": {},
   "source": [
    "**01.**"
   ]
  },
  {
   "cell_type": "code",
   "execution_count": 2,
   "id": "8a654d10",
   "metadata": {},
   "outputs": [
    {
     "data": {
      "text/plain": [
       "['Using',\n",
       " 'a',\n",
       " 'proper',\n",
       " 'string',\n",
       " 'method',\n",
       " 'make',\n",
       " 'a',\n",
       " 'list',\n",
       " 'of',\n",
       " 'all',\n",
       " 'the',\n",
       " 'words',\n",
       " 'in',\n",
       " 'this',\n",
       " 'sentence']"
      ]
     },
     "execution_count": 2,
     "metadata": {},
     "output_type": "execute_result"
    }
   ],
   "source": [
    "task_text_1 = \"Using a proper string method make a list of all the words in this sentence\"\n",
    "\n",
    "task_text_1.split()"
   ]
  },
  {
   "cell_type": "markdown",
   "id": "e5383b17",
   "metadata": {},
   "source": [
    "**02.**"
   ]
  },
  {
   "cell_type": "code",
   "execution_count": 3,
   "id": "d0c59e8c",
   "metadata": {},
   "outputs": [
    {
     "data": {
      "text/plain": [
       "'Using a proper string method join elements of this list into a single sentence'"
      ]
     },
     "execution_count": 3,
     "metadata": {},
     "output_type": "execute_result"
    }
   ],
   "source": [
    "task_text_list_2 = ['Using', 'a', 'proper', 'string', 'method', \n",
    "                    'join', 'elements', 'of', 'this', 'list', \n",
    "                    'into', 'a', 'single', 'sentence']\n",
    "\n",
    "' '.join(task_text_list_2)"
   ]
  },
  {
   "cell_type": "markdown",
   "id": "33ace47d",
   "metadata": {},
   "source": [
    "**03.** "
   ]
  },
  {
   "cell_type": "code",
   "execution_count": 4,
   "id": "6f38933a",
   "metadata": {},
   "outputs": [
    {
     "data": {
      "text/plain": [
       "['M', 'a', 'l', 'c', 'o', 't', 'f', 'l', 'o', 'e', 'w', 'i', 't', 's']"
      ]
     },
     "execution_count": 4,
     "metadata": {},
     "output_type": "execute_result"
    }
   ],
   "source": [
    "task_text_3 = \"Make a list containing only the first letters of every word in this sentence\"\n",
    "\n",
    "[word[0] for word in task_text_3.split()]"
   ]
  },
  {
   "cell_type": "markdown",
   "id": "34118eef",
   "metadata": {},
   "source": [
    "*Hint: Task 01 might be of use here.*"
   ]
  },
  {
   "cell_type": "markdown",
   "id": "96dc0afc",
   "metadata": {},
   "source": [
    "**04.** `[::-1]` is a neat trick to reverse the elements of an ordered iterable:"
   ]
  },
  {
   "cell_type": "code",
   "execution_count": 5,
   "id": "fd5c79f3",
   "metadata": {},
   "outputs": [
    {
     "data": {
      "text/plain": [
       "[5, 4, 3, 2, 1]"
      ]
     },
     "execution_count": 5,
     "metadata": {},
     "output_type": "execute_result"
    }
   ],
   "source": [
    "[1, 2, 3, 4, 5][::-1]"
   ]
  },
  {
   "cell_type": "markdown",
   "id": "34041b34",
   "metadata": {},
   "source": [
    "It works for the strings as well!"
   ]
  },
  {
   "cell_type": "code",
   "execution_count": 6,
   "id": "014fea90",
   "metadata": {},
   "outputs": [
    {
     "data": {
      "text/plain": [
       "['esrever', 'yreve', 'drow', 'fo', 'siht', 'ecnetnes']"
      ]
     },
     "execution_count": 6,
     "metadata": {},
     "output_type": "execute_result"
    }
   ],
   "source": [
    "task_text_4 = \"reverse every word of this sentence\"\n",
    "\n",
    "[word[::-1] for word in task_text_4.split()]"
   ]
  },
  {
   "cell_type": "markdown",
   "id": "a3d92cbd",
   "metadata": {},
   "source": [
    "**05.** Write a function `tebrizator` which takes first two letters of a word and places them at the end of the word (i.e. translates it to *šatrovački*)\n",
    "\n",
    "`tebrizator('pazi') = 'zipa'`\n",
    "\n",
    "`tebrizator('zatvor') = 'tvorza'`"
   ]
  },
  {
   "cell_type": "code",
   "execution_count": 7,
   "id": "8f88c450",
   "metadata": {},
   "outputs": [],
   "source": [
    "def tebrizator(word):\n",
    "    return word[2:] + word[:2]"
   ]
  },
  {
   "cell_type": "code",
   "execution_count": 8,
   "id": "9767ae47",
   "metadata": {},
   "outputs": [
    {
     "data": {
      "text/plain": [
       "'vopi'"
      ]
     },
     "execution_count": 8,
     "metadata": {},
     "output_type": "execute_result"
    }
   ],
   "source": [
    "tebrizator('pivo')"
   ]
  },
  {
   "cell_type": "markdown",
   "id": "dfd83317",
   "metadata": {},
   "source": [
    " **06.** Write a function `utezabrinjator` which builds upon šatrovački to produce *utrovački* in the followign manner:\n",
    " \n",
    "                    'u' + 2nd part of the word + `'za'` + 1st part of the word + 'nje'"
   ]
  },
  {
   "cell_type": "markdown",
   "id": "22b9b612",
   "metadata": {},
   "source": [
    "`utezabrinjator('pazi') = 'uzizapanje'`\n",
    "\n",
    "`utezabrinjator('zatvor') = 'utvorzazanje'`"
   ]
  },
  {
   "cell_type": "code",
   "execution_count": 9,
   "id": "d2b53cfa",
   "metadata": {},
   "outputs": [],
   "source": [
    "def utezabrinjator(word):\n",
    "    return 'u' + word[2:] + 'za' + word[:2] + 'nje'"
   ]
  },
  {
   "cell_type": "code",
   "execution_count": 10,
   "id": "9d2a63ed",
   "metadata": {},
   "outputs": [
    {
     "data": {
      "text/plain": [
       "'uvozapinje'"
      ]
     },
     "execution_count": 10,
     "metadata": {},
     "output_type": "execute_result"
    }
   ],
   "source": [
    "utezabrinjator('pivo')"
   ]
  },
  {
   "cell_type": "markdown",
   "id": "42c19993",
   "metadata": {},
   "source": [
    "**07.** "
   ]
  },
  {
   "cell_type": "code",
   "execution_count": 11,
   "id": "91c51983",
   "metadata": {},
   "outputs": [
    {
     "data": {
      "text/plain": [
       "'Remove every sentence having characters'"
      ]
     },
     "execution_count": 11,
     "metadata": {},
     "output_type": "execute_result"
    }
   ],
   "source": [
    "task_text_7 = 'Remove every word from this sentence having less than five characters'\n",
    "\n",
    "' '.join([word for word in task_text_7.split() if len(word) >= 5])"
   ]
  },
  {
   "cell_type": "markdown",
   "id": "ff933ab0",
   "metadata": {},
   "source": [
    "**08.** "
   ]
  },
  {
   "cell_type": "code",
   "execution_count": 12,
   "id": "c56b5b51",
   "metadata": {},
   "outputs": [
    {
     "data": {
      "text/plain": [
       "'Rmv vry vwl frm ths sntnc'"
      ]
     },
     "execution_count": 12,
     "metadata": {},
     "output_type": "execute_result"
    }
   ],
   "source": [
    "task_text_8 = 'Remove every vowel from this sentence'\n",
    "\n",
    "''.join([char for char in task_text_8 if char not in ['a', 'e', 'i', 'o', 'u']])"
   ]
  },
  {
   "cell_type": "markdown",
   "id": "daee4912",
   "metadata": {},
   "source": [
    "**09.** Using `enumerate()` and `f-strings` iterate through list `l_8` printing out the statement\n",
    "\n",
    "                          Item at index position k is: item.\n",
    "                          \n",
    "for every item in the list. Round all values to 3 decimals."
   ]
  },
  {
   "cell_type": "code",
   "execution_count": 13,
   "id": "7ba4eec9",
   "metadata": {},
   "outputs": [],
   "source": [
    "l_8 = [1.35454, -4.154531, 12.15648054, -45.1522104]"
   ]
  },
  {
   "cell_type": "code",
   "execution_count": 14,
   "id": "045673f1",
   "metadata": {},
   "outputs": [
    {
     "name": "stdout",
     "output_type": "stream",
     "text": [
      "Item at index position 0 is: 1.355\n",
      "Item at index position 1 is: -4.155\n",
      "Item at index position 2 is: 12.156\n",
      "Item at index position 3 is: -45.152\n"
     ]
    }
   ],
   "source": [
    "for index, item in enumerate(l_8):\n",
    "    print(f'Item at index position {index} is: {item:.3f}')"
   ]
  },
  {
   "cell_type": "markdown",
   "id": "71683b2b",
   "metadata": {},
   "source": [
    "**10.** Remember the bunny? "
   ]
  },
  {
   "cell_type": "code",
   "execution_count": 15,
   "id": "58cf0183",
   "metadata": {},
   "outputs": [
    {
     "name": "stdout",
     "output_type": "stream",
     "text": [
      " Λ__Λ\n",
      "(•.• )\n",
      "/ >💐\n"
     ]
    }
   ],
   "source": [
    "print(\"\"\" Λ__Λ\\n(•.• )\\n/ >\\U0001F490\"\"\")"
   ]
  },
  {
   "cell_type": "markdown",
   "id": "a244f2ce",
   "metadata": {},
   "source": [
    "In the string above ears and eyers are easily recognizable. But where are the flowers? That's actually this part: `'\\U0001F490'` - it's a Unicode for the flowers emoji. Actually, the true unicode is `U+1F490` but you need to change `+` to `'000'` and add `'\\'` at the beginning for Python to be able to decode it properly. "
   ]
  },
  {
   "cell_type": "markdown",
   "id": "c3dca1d4",
   "metadata": {},
   "source": [
    "Now, write a function `lil_bunny` which takes some emoji unicode (in Python readable `'\\U0001Fxxx'` format) and outputs the bunny holding that emoji."
   ]
  },
  {
   "cell_type": "code",
   "execution_count": 16,
   "id": "dcabf0f6",
   "metadata": {},
   "outputs": [],
   "source": [
    "def lil_bunny(emoji):\n",
    "    print(f\"\"\" Λ__Λ\\n(•.• )\\n/ >{emoji}\"\"\")"
   ]
  },
  {
   "cell_type": "code",
   "execution_count": 17,
   "id": "87bfa812",
   "metadata": {},
   "outputs": [
    {
     "name": "stdout",
     "output_type": "stream",
     "text": [
      " Λ__Λ\n",
      "(•.• )\n",
      "/ >🍕\n"
     ]
    }
   ],
   "source": [
    "lil_bunny('\\U0001F355')"
   ]
  },
  {
   "cell_type": "markdown",
   "id": "0eebc72e",
   "metadata": {},
   "source": [
    "**11.** Using Unicode, various string methods (and f-strings!) you can draw nice geometrical patterns in Python. Here's a simple example:"
   ]
  },
  {
   "cell_type": "code",
   "execution_count": 18,
   "id": "1f328a12",
   "metadata": {},
   "outputs": [
    {
     "name": "stdout",
     "output_type": "stream",
     "text": [
      "\\▾/x\\▾/x\\▾/x\\▾/x\\▾/x\\▾/x\\▾/x\\▾/x\\▾/x\\▾/x\\▾/x\\▾/x\\▾/x\\▾/\n",
      "/▴\\x/▴\\x/▴\\x/▴\\x/▴\\x/▴\\x/▴\\x/▴\\x/▴\\x/▴\\x/▴\\x/▴\\x/▴\\x/▴\\\n"
     ]
    }
   ],
   "source": [
    "print('\\▾/x'.join('' for _ in range(15))[:-1])\n",
    "print('/▴\\\\x'.join('' for _ in range(15))[:-1])"
   ]
  },
  {
   "cell_type": "markdown",
   "id": "f625d768",
   "metadata": {},
   "source": [
    "Be creative and make some nice string-pattern yourself:)"
   ]
  },
  {
   "cell_type": "code",
   "execution_count": 19,
   "id": "e2cd0d97",
   "metadata": {},
   "outputs": [
    {
     "name": "stdout",
     "output_type": "stream",
     "text": [
      "👉👈👉👈👉👈👉👈👉👈👉👈👉👈👉👈👉👈👉👈👉👈👉👈👉👈👉👈\n"
     ]
    }
   ],
   "source": [
    "print('\\U0001F449\\U0001F448'.join('' for _ in range(15)))"
   ]
  },
  {
   "cell_type": "markdown",
   "id": "4a865217",
   "metadata": {},
   "source": [
    "***"
   ]
  },
  {
   "cell_type": "markdown",
   "id": "b0a3df61",
   "metadata": {},
   "source": [
    "DataKolektiv, 2022/23.\n",
    "\n",
    "[hello@datakolektiv.com](mailto:goran.milovanovic@datakolektiv.com)\n",
    "\n",
    "![](../img/DK_Logo_100.png)"
   ]
  },
  {
   "cell_type": "markdown",
   "id": "b10633cb",
   "metadata": {},
   "source": [
    "<font size=1>License: [GPLv3](https://www.gnu.org/licenses/gpl-3.0.txt) This Notebook is free software: you can redistribute it and/or modify it under the terms of the GNU General Public License as published by the Free Software Foundation, either version 3 of the License, or (at your option) any later version. This Notebook is distributed in the hope that it will be useful, but WITHOUT ANY WARRANTY; without even the implied warranty of MERCHANTABILITY or FITNESS FOR A PARTICULAR PURPOSE. See the GNU General Public License for more details. You should have received a copy of the GNU General Public License along with this Notebook. If not, see http://www.gnu.org/licenses/.</font>"
   ]
  },
  {
   "cell_type": "code",
   "execution_count": null,
   "id": "ea7076a2",
   "metadata": {},
   "outputs": [],
   "source": []
  }
 ],
 "metadata": {
  "kernelspec": {
   "display_name": "Python 3",
   "language": "python",
   "name": "python3"
  },
  "language_info": {
   "codemirror_mode": {
    "name": "ipython",
    "version": 3
   },
   "file_extension": ".py",
   "mimetype": "text/x-python",
   "name": "python",
   "nbconvert_exporter": "python",
   "pygments_lexer": "ipython3",
   "version": "3.8.8"
  }
 },
 "nbformat": 4,
 "nbformat_minor": 5
}
