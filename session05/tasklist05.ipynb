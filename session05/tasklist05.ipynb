{
 "cells": [
  {
   "cell_type": "markdown",
   "id": "61e049ab",
   "metadata": {},
   "source": [
    "# DATA SCIENCE SESSIONS VOL. 3\n",
    "### A Foundational Python Data Science Course\n",
    "## Task List 05: Strings in Python\n",
    "\n",
    "[&larr; Back to course webpage](https://datakolektiv.com/)\n",
    "\n",
    "Feedback should be send to [goran.milovanovic@datakolektiv.com](mailto:goran.milovanovic@datakolektiv.com). \n",
    "\n",
    "These notebooks accompany the DATA SCIENCE SESSIONS VOL. 3 :: A Foundational Python Data Science Course."
   ]
  },
  {
   "cell_type": "markdown",
   "id": "68271335",
   "metadata": {},
   "source": [
    "![](../img/IntroRDataScience_NonTech-1.jpg)"
   ]
  },
  {
   "cell_type": "markdown",
   "id": "d70f7a4a",
   "metadata": {},
   "source": [
    "### Lecturers\n",
    "\n",
    "[Goran S. Milovanović, PhD, DataKolektiv, Chief Scientist & Owner](https://www.linkedin.com/in/gmilovanovic/)\n",
    "\n",
    "[Aleksandar Cvetković, PhD, DataKolektiv, Consultant](https://www.linkedin.com/in/alegzndr/)\n",
    "\n",
    "[Ilija Lazarević, MA, DataKolektiv, Consultant](https://www.linkedin.com/in/ilijalazarevic/)"
   ]
  },
  {
   "cell_type": "markdown",
   "id": "83d89836",
   "metadata": {},
   "source": [
    "![](../img/DK_Logo_100.png)"
   ]
  },
  {
   "cell_type": "markdown",
   "id": "a7eb4615",
   "metadata": {},
   "source": [
    "***"
   ]
  },
  {
   "cell_type": "markdown",
   "id": "ce4fb74c",
   "metadata": {},
   "source": [
    "### Intro\n",
    "\n",
    "NumPy and all the Linear Algebra might have been tough and tiresome. Now it's time to rest a bit from all the math and work with words and letters for a change. And here's a li'l bunny."
   ]
  },
  {
   "cell_type": "code",
   "execution_count": null,
   "id": "50833698",
   "metadata": {},
   "outputs": [],
   "source": [
    "print(\"\"\" Λ__Λ\\n(•.• )\\n/ >\\U0001F490\"\"\")"
   ]
  },
  {
   "cell_type": "markdown",
   "id": "718fe807",
   "metadata": {},
   "source": [
    "Or a li'l cat?"
   ]
  },
  {
   "cell_type": "markdown",
   "id": "ccacf920",
   "metadata": {},
   "source": [
    "**01.**"
   ]
  },
  {
   "cell_type": "code",
   "execution_count": null,
   "id": "8a654d10",
   "metadata": {},
   "outputs": [],
   "source": [
    "task_text_1 = \"Using a proper string method make a list of all the words in this sentence\"\n",
    "\n",
    "### your code here ###"
   ]
  },
  {
   "cell_type": "markdown",
   "id": "e5383b17",
   "metadata": {},
   "source": [
    "**02.**"
   ]
  },
  {
   "cell_type": "code",
   "execution_count": null,
   "id": "d0c59e8c",
   "metadata": {},
   "outputs": [],
   "source": [
    "task_text_list_2 = ['Using', 'a', 'proper', 'string', 'method', \n",
    "                    'join', 'elements', 'of', 'this', 'list', \n",
    "                    'into', 'a', 'single', 'sentence']\n",
    "\n",
    "### your code here ###"
   ]
  },
  {
   "cell_type": "markdown",
   "id": "33ace47d",
   "metadata": {},
   "source": [
    "**03.** "
   ]
  },
  {
   "cell_type": "code",
   "execution_count": null,
   "id": "6f38933a",
   "metadata": {},
   "outputs": [],
   "source": [
    "task_text_3 = \"Make a list containing only the first letters of every word in this sentence\"\n",
    "\n",
    "### your code here ###"
   ]
  },
  {
   "cell_type": "markdown",
   "id": "34118eef",
   "metadata": {},
   "source": [
    "*Hint: Task 01 might be of use here.*"
   ]
  },
  {
   "cell_type": "markdown",
   "id": "96dc0afc",
   "metadata": {},
   "source": [
    "**04.** `[::-1]` is a neat trick to reverse the elements of an ordered iterable:"
   ]
  },
  {
   "cell_type": "code",
   "execution_count": 1,
   "id": "fd5c79f3",
   "metadata": {},
   "outputs": [
    {
     "data": {
      "text/plain": [
       "[5, 4, 3, 2, 1]"
      ]
     },
     "execution_count": 1,
     "metadata": {},
     "output_type": "execute_result"
    }
   ],
   "source": [
    "[1, 2, 3, 4, 5][::-1]"
   ]
  },
  {
   "cell_type": "markdown",
   "id": "34041b34",
   "metadata": {},
   "source": [
    "It works for the strings as well!"
   ]
  },
  {
   "cell_type": "code",
   "execution_count": null,
   "id": "014fea90",
   "metadata": {},
   "outputs": [],
   "source": [
    "task_text_4 = \"reverse every word of this sentence\"\n",
    "\n",
    "### your code here ###"
   ]
  },
  {
   "cell_type": "markdown",
   "id": "a3d92cbd",
   "metadata": {},
   "source": [
    "**05.** Write a function `tebrizator` which takes first two letters of a word and places them at the end of the word (i.e. translates it to *šatrovački*)\n",
    "\n",
    "`tebrizator('pazi') = 'zipa'`\n",
    "\n",
    "`tebrizator('zatvor') = 'tvorza'`"
   ]
  },
  {
   "cell_type": "code",
   "execution_count": null,
   "id": "8f88c450",
   "metadata": {},
   "outputs": [],
   "source": [
    "### your code here ###"
   ]
  },
  {
   "cell_type": "markdown",
   "id": "dfd83317",
   "metadata": {},
   "source": [
    " **06.** Write a function `utezabrinjator` which builds upon šatrovački to produce *utrovački* in the followign manner:\n",
    " \n",
    "                    'u' + 2nd part of the word + `'za'` + 1st part of the word + 'nje'"
   ]
  },
  {
   "cell_type": "markdown",
   "id": "22b9b612",
   "metadata": {},
   "source": [
    "`utezabrinjator('pazi') = 'uzizapanje'`\n",
    "\n",
    "`utezabrinjator('zatvor') = 'utvorzazanje'`"
   ]
  },
  {
   "cell_type": "code",
   "execution_count": null,
   "id": "d2b53cfa",
   "metadata": {},
   "outputs": [],
   "source": [
    "### your code here ###"
   ]
  },
  {
   "cell_type": "markdown",
   "id": "42c19993",
   "metadata": {},
   "source": [
    "**07.** "
   ]
  },
  {
   "cell_type": "code",
   "execution_count": null,
   "id": "91c51983",
   "metadata": {},
   "outputs": [],
   "source": [
    "task_text_7 = 'Remove every word from this sentence having less than five characters'\n",
    "\n",
    "### your code here ###"
   ]
  },
  {
   "cell_type": "markdown",
   "id": "ff933ab0",
   "metadata": {},
   "source": [
    "**08.** "
   ]
  },
  {
   "cell_type": "code",
   "execution_count": null,
   "id": "c56b5b51",
   "metadata": {},
   "outputs": [],
   "source": [
    "task_text_8 = 'Remove every vowel from this sentence'\n",
    "\n",
    "### your code here ###"
   ]
  },
  {
   "cell_type": "markdown",
   "id": "daee4912",
   "metadata": {},
   "source": [
    "**09.** Using `enumerate()` and `f-strings` iterate through list `l_8` printing out the statement\n",
    "\n",
    "                          Item at index position k is: item.\n",
    "                          \n",
    "for every item in the list. Round all values to 3 decimals."
   ]
  },
  {
   "cell_type": "code",
   "execution_count": 2,
   "id": "7ba4eec9",
   "metadata": {},
   "outputs": [],
   "source": [
    "l_8 = [1.35454, -4.154531, 12.15648054, -45.1522104]"
   ]
  },
  {
   "cell_type": "code",
   "execution_count": null,
   "id": "045673f1",
   "metadata": {},
   "outputs": [],
   "source": [
    "### your code here ###"
   ]
  },
  {
   "cell_type": "markdown",
   "id": "71683b2b",
   "metadata": {},
   "source": [
    "**10.** Remember the bunny? "
   ]
  },
  {
   "cell_type": "code",
   "execution_count": null,
   "id": "58cf0183",
   "metadata": {},
   "outputs": [],
   "source": [
    "print(\"\"\" Λ__Λ\\n(•.• )\\n/ >\\U0001F490\"\"\")"
   ]
  },
  {
   "cell_type": "markdown",
   "id": "a244f2ce",
   "metadata": {},
   "source": [
    "In the string above ears and eyers are easily recognizable. But where are the flowers? That's actually this part: `'\\U0001F490'` - it's a Unicode for the flowers emoji. Actually, the true unicode is `U+1F490` but you need to change `+` to `'000'` and add `'\\'` at the beginning for Python to be able to decode it properly. "
   ]
  },
  {
   "cell_type": "markdown",
   "id": "c3dca1d4",
   "metadata": {},
   "source": [
    "Now, write a function `lil_bunny` which takes some emoji unicode (in Python readable `'\\U0001Fxxx'` format) and outputs the bunny holding that emoji."
   ]
  },
  {
   "cell_type": "code",
   "execution_count": null,
   "id": "dcabf0f6",
   "metadata": {},
   "outputs": [],
   "source": [
    "### your code here ###"
   ]
  },
  {
   "cell_type": "markdown",
   "id": "0eebc72e",
   "metadata": {},
   "source": [
    "**11.** Using Unicode, various string methods (and f-strings!) you can draw nice geometrical patterns in Python. Here's a simple example:"
   ]
  },
  {
   "cell_type": "code",
   "execution_count": null,
   "id": "1f328a12",
   "metadata": {},
   "outputs": [],
   "source": [
    "print('\\▾/x'.join('' for _ in range(15))[:-1])\n",
    "print('/▴\\\\x'.join('' for _ in range(15))[:-1])"
   ]
  },
  {
   "cell_type": "markdown",
   "id": "f625d768",
   "metadata": {},
   "source": [
    "Be creative and make some nice string-pattern yourself:)"
   ]
  },
  {
   "cell_type": "code",
   "execution_count": null,
   "id": "e2cd0d97",
   "metadata": {},
   "outputs": [],
   "source": [
    "### your code here ###"
   ]
  },
  {
   "cell_type": "markdown",
   "id": "4a865217",
   "metadata": {},
   "source": [
    "***"
   ]
  },
  {
   "cell_type": "markdown",
   "id": "b0a3df61",
   "metadata": {},
   "source": [
    "DataKolektiv, 2022/23.\n",
    "\n",
    "[hello@datakolektiv.com](mailto:goran.milovanovic@datakolektiv.com)\n",
    "\n",
    "![](../img/DK_Logo_100.png)"
   ]
  },
  {
   "cell_type": "markdown",
   "id": "b10633cb",
   "metadata": {},
   "source": [
    "<font size=1>License: [GPLv3](https://www.gnu.org/licenses/gpl-3.0.txt) This Notebook is free software: you can redistribute it and/or modify it under the terms of the GNU General Public License as published by the Free Software Foundation, either version 3 of the License, or (at your option) any later version. This Notebook is distributed in the hope that it will be useful, but WITHOUT ANY WARRANTY; without even the implied warranty of MERCHANTABILITY or FITNESS FOR A PARTICULAR PURPOSE. See the GNU General Public License for more details. You should have received a copy of the GNU General Public License along with this Notebook. If not, see http://www.gnu.org/licenses/.</font>"
   ]
  },
  {
   "cell_type": "code",
   "execution_count": null,
   "id": "ea7076a2",
   "metadata": {},
   "outputs": [],
   "source": []
  }
 ],
 "metadata": {
  "kernelspec": {
   "display_name": "Python 3",
   "language": "python",
   "name": "python3"
  },
  "language_info": {
   "codemirror_mode": {
    "name": "ipython",
    "version": 3
   },
   "file_extension": ".py",
   "mimetype": "text/x-python",
   "name": "python",
   "nbconvert_exporter": "python",
   "pygments_lexer": "ipython3",
   "version": "3.8.8"
  }
 },
 "nbformat": 4,
 "nbformat_minor": 5
}
