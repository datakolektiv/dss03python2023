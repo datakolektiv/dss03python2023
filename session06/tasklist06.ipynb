{
 "cells": [
  {
   "cell_type": "markdown",
   "id": "3da402bd",
   "metadata": {},
   "source": [
    "# DATA SCIENCE SESSIONS VOL. 3\n",
    "### A Foundational Python Data Science Course\n",
    "## TaskList 06: Exploratory Data Analysis - EDA\n",
    "\n",
    "[&larr; Back to course webpage](https://datakolektiv.com/)\n",
    "\n",
    "Feedback should be send to [goran.milovanovic@datakolektiv.com](mailto:goran.milovanovic@datakolektiv.com). \n",
    "\n",
    "These notebooks accompany the DATA SCIENCE SESSIONS VOL. 3 :: A Foundational Python Data Science Course."
   ]
  },
  {
   "cell_type": "markdown",
   "id": "af70f52e",
   "metadata": {},
   "source": [
    "![](../img/IntroRDataScience_NonTech-1.jpg)"
   ]
  },
  {
   "cell_type": "markdown",
   "id": "4be99766",
   "metadata": {},
   "source": [
    "### Lecturers\n",
    "\n",
    "[Goran S. Milovanović, PhD, DataKolektiv, Chief Scientist & Owner](https://www.linkedin.com/in/gmilovanovic/)\n",
    "\n",
    "[Aleksandar Cvetković, PhD, DataKolektiv, Consultant](https://www.linkedin.com/in/alegzndr/)\n",
    "\n",
    "[Ilija Lazarević, MA, DataKolektiv, Consultant](https://www.linkedin.com/in/ilijalazarevic/)"
   ]
  },
  {
   "cell_type": "markdown",
   "id": "5315a5b3",
   "metadata": {},
   "source": [
    "![](../img/DK_Logo_100.png)"
   ]
  },
  {
   "cell_type": "markdown",
   "id": "8375a06b",
   "metadata": {},
   "source": [
    "***"
   ]
  },
  {
   "cell_type": "markdown",
   "id": "c0c04c1a",
   "metadata": {},
   "source": [
    "### Intro"
   ]
  },
  {
   "cell_type": "markdown",
   "id": "1f599acc",
   "metadata": {},
   "source": [
    "This 'tasklist' is going to be actually one open/free-form task. You'll be provided with a dataset, and your goal is to apply what you've learned about on Session06 (and previous sessions) to perform EDA on this dataset. There are no wrong answers here - you are going to look through the dataset provided, and offer insights you find relevant and interesting. In order to do so, you will use tables, cross-tables and various visualizations. And don't forget to describe your insights using text! \n",
    "\n",
    "In essence, the output of this tasklist should be in the form of an exploratory report on the dataset provided. "
   ]
  },
  {
   "cell_type": "markdown",
   "id": "2edcd974",
   "metadata": {},
   "source": [
    "### The Dataset"
   ]
  },
  {
   "cell_type": "markdown",
   "id": "c9ae0dae",
   "metadata": {},
   "source": [
    "The dataset in question is `rome_weekends.csv`. It is a dataset containing prices of Airbnb properties in Rome during the weekends, along with various additional data. It is a part of a larger dataset `Airbnb Prices in European Cities`, which can be found [here](https://www.kaggle.com/datasets/thedevastator/airbnb-prices-in-european-cities). If doing EDA on `rome_weekends` was a fun ride, you're encouraged to download a dataset for some other city, perform the same analysis and compare the results. \n",
    "\n"
   ]
  },
  {
   "cell_type": "markdown",
   "id": "23ddcc22",
   "metadata": {},
   "source": [
    "The field names of this dataset may look a bit cryptical, so here's a brief description for each of them:\n",
    "\n",
    "- `realSum` - The total price of the Airbnb listing\n",
    "- `room_type` - The type of room being offered (e.g. private, shared, etc.)\n",
    "- `room_shared` - Whether the room is shared or not\n",
    "- `room_private` - Whether the room is private or not\n",
    "- `person_capacity` - The maximum number of people that can stay in the room.\n",
    "- `host_is_superhost` - Whether the host is a superhost or not\n",
    "- `multi` - Whether the listing is for multiple rooms or not\n",
    "- `biz` - Whether the listing is for business purposes or not\n",
    "- `cleanliness_rating` - The cleanliness rating of the listing\n",
    "- `guest_satisfaction_overall` - The overall guest satisfaction rating of the listing\n",
    "- `bedrooms` - The number of bedrooms in the listing\n",
    "- `dist` - The distance from the city centre\n",
    "- `metro_dist` - The distance from the nearest metro station\n",
    "- `lng` - The longitude of the listing\n",
    "- `lat` - The latitude of the listing"
   ]
  },
  {
   "cell_type": "markdown",
   "id": "d86f2044",
   "metadata": {},
   "source": [
    "### Preparation"
   ]
  },
  {
   "cell_type": "markdown",
   "id": "176b4a2f",
   "metadata": {},
   "source": [
    "Before embarking on this explorations, let's make some first necessary steps.\n",
    "\n",
    "First, import all the Python libraries you are going to use during your EDA."
   ]
  },
  {
   "cell_type": "code",
   "execution_count": 32,
   "id": "4ffd3a91",
   "metadata": {},
   "outputs": [],
   "source": [
    "### your code here ###"
   ]
  },
  {
   "cell_type": "markdown",
   "id": "4bd1cdba",
   "metadata": {},
   "source": [
    "Next, load `rome_weekends.csv` dataset from the `_data` folder in `Session06`."
   ]
  },
  {
   "cell_type": "code",
   "execution_count": 33,
   "id": "bddd8152",
   "metadata": {},
   "outputs": [],
   "source": [
    "### your code here ###"
   ]
  },
  {
   "cell_type": "markdown",
   "id": "b0508423",
   "metadata": {},
   "source": [
    "And now: the stage is yours. "
   ]
  },
  {
   "cell_type": "markdown",
   "id": "c1d9b789",
   "metadata": {},
   "source": [
    "### EDA"
   ]
  },
  {
   "cell_type": "code",
   "execution_count": null,
   "id": "a007e728",
   "metadata": {},
   "outputs": [],
   "source": []
  },
  {
   "cell_type": "markdown",
   "id": "9f980883",
   "metadata": {},
   "source": [
    "***"
   ]
  },
  {
   "cell_type": "markdown",
   "id": "0b89db07",
   "metadata": {},
   "source": [
    "DataKolektiv, 2022/23.\n",
    "\n",
    "[hello@datakolektiv.com](mailto:goran.milovanovic@datakolektiv.com)\n",
    "\n",
    "![](../img/DK_Logo_100.png)"
   ]
  },
  {
   "cell_type": "markdown",
   "id": "f1a5af7d",
   "metadata": {},
   "source": [
    "<font size=1>License: [GPLv3](https://www.gnu.org/licenses/gpl-3.0.txt) This Notebook is free software: you can redistribute it and/or modify it under the terms of the GNU General Public License as published by the Free Software Foundation, either version 3 of the License, or (at your option) any later version. This Notebook is distributed in the hope that it will be useful, but WITHOUT ANY WARRANTY; without even the implied warranty of MERCHANTABILITY or FITNESS FOR A PARTICULAR PURPOSE. See the GNU General Public License for more details. You should have received a copy of the GNU General Public License along with this Notebook. If not, see http://www.gnu.org/licenses/.</font>"
   ]
  },
  {
   "cell_type": "code",
   "execution_count": null,
   "id": "6876acf3",
   "metadata": {},
   "outputs": [],
   "source": []
  }
 ],
 "metadata": {
  "kernelspec": {
   "display_name": "Python 3",
   "language": "python",
   "name": "python3"
  },
  "language_info": {
   "codemirror_mode": {
    "name": "ipython",
    "version": 3
   },
   "file_extension": ".py",
   "mimetype": "text/x-python",
   "name": "python",
   "nbconvert_exporter": "python",
   "pygments_lexer": "ipython3",
   "version": "3.8.8"
  }
 },
 "nbformat": 4,
 "nbformat_minor": 5
}
