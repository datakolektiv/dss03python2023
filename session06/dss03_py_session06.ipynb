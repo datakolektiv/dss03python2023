{
 "cells": [
  {
   "attachments": {},
   "cell_type": "markdown",
   "metadata": {},
   "source": [
    "# DATA SCIENCE SESSIONS VOL. 3\n",
    "### A Foundational Python Data Science Course\n",
    "## Session 06: Exploratory Data Analysis - EDA\n",
    "\n",
    "[&larr; Back to course webpage](https://datakolektiv.com/)\n",
    "\n",
    "Feedback should be send to [goran.milovanovic@datakolektiv.com](mailto:goran.milovanovic@datakolektiv.com). \n",
    "\n",
    "These notebooks accompany the DATA SCIENCE SESSIONS VOL. 3 :: A Foundational Python Data Science Course."
   ]
  },
  {
   "cell_type": "markdown",
   "metadata": {},
   "source": [
    "![](../img/IntroRDataScience_NonTech-1.jpg)"
   ]
  },
  {
   "attachments": {},
   "cell_type": "markdown",
   "metadata": {},
   "source": [
    "### Lecturers\n",
    "\n",
    "[Goran S. Milovanović, PhD, DataKolektiv, Chief Scientist & Owner](https://www.linkedin.com/in/gmilovanovic/)\n",
    "\n",
    "[Aleksandar Cvetković, PhD, DataKolektiv, Consultant](https://www.linkedin.com/in/alegzndr/)\n",
    "\n",
    "[Ilija Lazarević, MA, DataKolektiv, Consultant](https://www.linkedin.com/in/ilijalazarevic/)"
   ]
  },
  {
   "cell_type": "markdown",
   "metadata": {},
   "source": [
    "![](../img/DK_Logo_100.png)"
   ]
  },
  {
   "cell_type": "markdown",
   "metadata": {},
   "source": [
    "***"
   ]
  },
  {
   "attachments": {},
   "cell_type": "markdown",
   "metadata": {},
   "source": [
    "### 0. What do we want to do today?\n",
    "\n",
    "Our goal in **Session06** is to learn how to perform exploratory data analysis. We will:\n",
    "- load the data,\n",
    "- inspect the nature of the data,\n",
    "- use charts of different kind for representing data graphically,\n",
    "- make some conclusions based on the previous steps."
   ]
  },
  {
   "attachments": {},
   "cell_type": "markdown",
   "metadata": {},
   "source": [
    "### 1. Where am I?\n",
    "\n",
    "Your are (or you should be...) in the `session06` directory, where we find \n",
    "- this notebook, \n",
    "- it's HTML version, \n",
    "- another directory `_data` that contains CSV files."
   ]
  },
  {
   "cell_type": "code",
   "execution_count": 1,
   "metadata": {},
   "outputs": [
    {
     "name": "stdout",
     "output_type": "stream",
     "text": [
      "/home/ikacikac/workspace/dss03python2023/session06\n",
      "['dss03_py_session06_b.ipynb', '_img', 'dss03_py_session06.ipynb', '_data']\n"
     ]
    },
    {
     "data": {
      "text/plain": [
       "['airports.csv', 'planes.csv', 'weather.csv', 'flights.csv', 'airlines.csv']"
      ]
     },
     "execution_count": 1,
     "metadata": {},
     "output_type": "execute_result"
    }
   ],
   "source": [
    "import os\n",
    "\n",
    "work_dir = os.getcwd()\n",
    "print(work_dir)\n",
    "print(os.listdir(work_dir))\n",
    "data_dir = os.path.join(work_dir, \"_data\")\n",
    "os.listdir(data_dir)"
   ]
  },
  {
   "attachments": {},
   "cell_type": "markdown",
   "metadata": {},
   "source": [
    "### Load the libraries"
   ]
  },
  {
   "cell_type": "code",
   "execution_count": 2,
   "metadata": {},
   "outputs": [],
   "source": [
    "import numpy as np\n",
    "import pandas as pd\n",
    "\n",
    "import matplotlib.pyplot as plt\n",
    "import seaborn as sns"
   ]
  },
  {
   "attachments": {},
   "cell_type": "markdown",
   "metadata": {},
   "source": [
    "### Loading the data"
   ]
  },
  {
   "attachments": {},
   "cell_type": "markdown",
   "metadata": {},
   "source": [
    "Today we are working with nycflights13 dataset. It consists of data about flights that departed NYC in 2013.\n",
    "\n",
    "Also includes useful 'metadata' on airlines, airports, weather, and planes, but we will be using these on second part of todays lectures, i.e. sesssion07."
   ]
  },
  {
   "attachments": {},
   "cell_type": "markdown",
   "metadata": {},
   "source": [
    "First things first. We shall start with loading the flights data, and inspecting the data."
   ]
  },
  {
   "cell_type": "code",
   "execution_count": 3,
   "metadata": {},
   "outputs": [
    {
     "data": {
      "text/html": [
       "<div>\n",
       "<style scoped>\n",
       "    .dataframe tbody tr th:only-of-type {\n",
       "        vertical-align: middle;\n",
       "    }\n",
       "\n",
       "    .dataframe tbody tr th {\n",
       "        vertical-align: top;\n",
       "    }\n",
       "\n",
       "    .dataframe thead th {\n",
       "        text-align: right;\n",
       "    }\n",
       "</style>\n",
       "<table border=\"1\" class=\"dataframe\">\n",
       "  <thead>\n",
       "    <tr style=\"text-align: right;\">\n",
       "      <th></th>\n",
       "      <th>year</th>\n",
       "      <th>month</th>\n",
       "      <th>day</th>\n",
       "      <th>dep_time</th>\n",
       "      <th>sched_dep_time</th>\n",
       "      <th>dep_delay</th>\n",
       "      <th>arr_time</th>\n",
       "      <th>sched_arr_time</th>\n",
       "      <th>arr_delay</th>\n",
       "      <th>carrier</th>\n",
       "      <th>flight</th>\n",
       "      <th>tailnum</th>\n",
       "      <th>origin</th>\n",
       "      <th>dest</th>\n",
       "      <th>air_time</th>\n",
       "      <th>distance</th>\n",
       "      <th>hour</th>\n",
       "      <th>minute</th>\n",
       "      <th>time_hour</th>\n",
       "    </tr>\n",
       "  </thead>\n",
       "  <tbody>\n",
       "    <tr>\n",
       "      <th>1</th>\n",
       "      <td>2013</td>\n",
       "      <td>1</td>\n",
       "      <td>1</td>\n",
       "      <td>517.0</td>\n",
       "      <td>515</td>\n",
       "      <td>2.0</td>\n",
       "      <td>830.0</td>\n",
       "      <td>819</td>\n",
       "      <td>11.0</td>\n",
       "      <td>UA</td>\n",
       "      <td>1545</td>\n",
       "      <td>N14228</td>\n",
       "      <td>EWR</td>\n",
       "      <td>IAH</td>\n",
       "      <td>227.0</td>\n",
       "      <td>1400</td>\n",
       "      <td>5</td>\n",
       "      <td>15</td>\n",
       "      <td>2013-01-01 05:00:00</td>\n",
       "    </tr>\n",
       "    <tr>\n",
       "      <th>2</th>\n",
       "      <td>2013</td>\n",
       "      <td>1</td>\n",
       "      <td>1</td>\n",
       "      <td>533.0</td>\n",
       "      <td>529</td>\n",
       "      <td>4.0</td>\n",
       "      <td>850.0</td>\n",
       "      <td>830</td>\n",
       "      <td>20.0</td>\n",
       "      <td>UA</td>\n",
       "      <td>1714</td>\n",
       "      <td>N24211</td>\n",
       "      <td>LGA</td>\n",
       "      <td>IAH</td>\n",
       "      <td>227.0</td>\n",
       "      <td>1416</td>\n",
       "      <td>5</td>\n",
       "      <td>29</td>\n",
       "      <td>2013-01-01 05:00:00</td>\n",
       "    </tr>\n",
       "    <tr>\n",
       "      <th>3</th>\n",
       "      <td>2013</td>\n",
       "      <td>1</td>\n",
       "      <td>1</td>\n",
       "      <td>542.0</td>\n",
       "      <td>540</td>\n",
       "      <td>2.0</td>\n",
       "      <td>923.0</td>\n",
       "      <td>850</td>\n",
       "      <td>33.0</td>\n",
       "      <td>AA</td>\n",
       "      <td>1141</td>\n",
       "      <td>N619AA</td>\n",
       "      <td>JFK</td>\n",
       "      <td>MIA</td>\n",
       "      <td>160.0</td>\n",
       "      <td>1089</td>\n",
       "      <td>5</td>\n",
       "      <td>40</td>\n",
       "      <td>2013-01-01 05:00:00</td>\n",
       "    </tr>\n",
       "    <tr>\n",
       "      <th>4</th>\n",
       "      <td>2013</td>\n",
       "      <td>1</td>\n",
       "      <td>1</td>\n",
       "      <td>544.0</td>\n",
       "      <td>545</td>\n",
       "      <td>-1.0</td>\n",
       "      <td>1004.0</td>\n",
       "      <td>1022</td>\n",
       "      <td>-18.0</td>\n",
       "      <td>B6</td>\n",
       "      <td>725</td>\n",
       "      <td>N804JB</td>\n",
       "      <td>JFK</td>\n",
       "      <td>BQN</td>\n",
       "      <td>183.0</td>\n",
       "      <td>1576</td>\n",
       "      <td>5</td>\n",
       "      <td>45</td>\n",
       "      <td>2013-01-01 05:00:00</td>\n",
       "    </tr>\n",
       "    <tr>\n",
       "      <th>5</th>\n",
       "      <td>2013</td>\n",
       "      <td>1</td>\n",
       "      <td>1</td>\n",
       "      <td>554.0</td>\n",
       "      <td>600</td>\n",
       "      <td>-6.0</td>\n",
       "      <td>812.0</td>\n",
       "      <td>837</td>\n",
       "      <td>-25.0</td>\n",
       "      <td>DL</td>\n",
       "      <td>461</td>\n",
       "      <td>N668DN</td>\n",
       "      <td>LGA</td>\n",
       "      <td>ATL</td>\n",
       "      <td>116.0</td>\n",
       "      <td>762</td>\n",
       "      <td>6</td>\n",
       "      <td>0</td>\n",
       "      <td>2013-01-01 06:00:00</td>\n",
       "    </tr>\n",
       "  </tbody>\n",
       "</table>\n",
       "</div>"
      ],
      "text/plain": [
       "   year  month  day  dep_time  sched_dep_time  dep_delay  arr_time  \\\n",
       "1  2013      1    1     517.0             515        2.0     830.0   \n",
       "2  2013      1    1     533.0             529        4.0     850.0   \n",
       "3  2013      1    1     542.0             540        2.0     923.0   \n",
       "4  2013      1    1     544.0             545       -1.0    1004.0   \n",
       "5  2013      1    1     554.0             600       -6.0     812.0   \n",
       "\n",
       "   sched_arr_time  arr_delay carrier  flight tailnum origin dest  air_time  \\\n",
       "1             819       11.0      UA    1545  N14228    EWR  IAH     227.0   \n",
       "2             830       20.0      UA    1714  N24211    LGA  IAH     227.0   \n",
       "3             850       33.0      AA    1141  N619AA    JFK  MIA     160.0   \n",
       "4            1022      -18.0      B6     725  N804JB    JFK  BQN     183.0   \n",
       "5             837      -25.0      DL     461  N668DN    LGA  ATL     116.0   \n",
       "\n",
       "   distance  hour  minute            time_hour  \n",
       "1      1400     5      15  2013-01-01 05:00:00  \n",
       "2      1416     5      29  2013-01-01 05:00:00  \n",
       "3      1089     5      40  2013-01-01 05:00:00  \n",
       "4      1576     5      45  2013-01-01 05:00:00  \n",
       "5       762     6       0  2013-01-01 06:00:00  "
      ]
     },
     "execution_count": 3,
     "metadata": {},
     "output_type": "execute_result"
    }
   ],
   "source": [
    "df = pd.read_csv('_data/flights.csv', index_col=0)\n",
    "\n",
    "df.head()"
   ]
  },
  {
   "attachments": {},
   "cell_type": "markdown",
   "metadata": {},
   "source": [
    "#### Columns (features) description\n",
    "\n",
    "- **year, month, day** - Date of departure.\n",
    "- **dep_time, arr_time** - Actual departure and arrival times (format HHMM or HMM), local tz.\n",
    "- **sched_dep_time, sched_arr_time** - Scheduled departure and arrival times (format HHMM or HMM), local tz.\n",
    "- **dep_delay, arr_delay** - Departure and arrival delays, in minutes. Negative times represent early departures/arrivals.\n",
    "- **carrier** - Two letter carrier abbreviation. See airlines to get name.\n",
    "- **flight** - Flight number.\n",
    "- **tailnum** - Plane tail number. See planes for additional metadata.\n",
    "- **origin, dest** - Origin and destination. See airports for additional metadata.\n",
    "- **air_time** - Amount of time spent in the air, in minutes.\n",
    "- **distance** - Distance between airports, in miles.\n",
    "- **hour, minute** - Time of scheduled departure broken into hour and minutes.\n",
    "- **time_hour** - Scheduled date and hour of the flight as a POSIXct date. Along with origin, can be used to join flights data to weather data.\n",
    "\n",
    "What is POSIXct date format? \n",
    "> POSIXct stores date and time in seconds with the number of seconds beginning at 1 January 1970. Negative numbers are used to store dates prior to 1970. Thus, the POSIXct format stores each date and time as a single value in units of seconds."
   ]
  },
  {
   "attachments": {},
   "cell_type": "markdown",
   "metadata": {},
   "source": [
    "Now that we have the overview, we want to check the data for missing values."
   ]
  },
  {
   "attachments": {},
   "cell_type": "markdown",
   "metadata": {},
   "source": [
    "### Cleaning the data"
   ]
  },
  {
   "cell_type": "code",
   "execution_count": 4,
   "metadata": {},
   "outputs": [
    {
     "data": {
      "text/html": [
       "<div>\n",
       "<style scoped>\n",
       "    .dataframe tbody tr th:only-of-type {\n",
       "        vertical-align: middle;\n",
       "    }\n",
       "\n",
       "    .dataframe tbody tr th {\n",
       "        vertical-align: top;\n",
       "    }\n",
       "\n",
       "    .dataframe thead th {\n",
       "        text-align: right;\n",
       "    }\n",
       "</style>\n",
       "<table border=\"1\" class=\"dataframe\">\n",
       "  <thead>\n",
       "    <tr style=\"text-align: right;\">\n",
       "      <th></th>\n",
       "      <th>feature</th>\n",
       "      <th>no_nulls</th>\n",
       "      <th>perc_nulls</th>\n",
       "    </tr>\n",
       "  </thead>\n",
       "  <tbody>\n",
       "    <tr>\n",
       "      <th>8</th>\n",
       "      <td>arr_delay</td>\n",
       "      <td>9430</td>\n",
       "      <td>2.800081</td>\n",
       "    </tr>\n",
       "    <tr>\n",
       "      <th>14</th>\n",
       "      <td>air_time</td>\n",
       "      <td>9430</td>\n",
       "      <td>2.800081</td>\n",
       "    </tr>\n",
       "    <tr>\n",
       "      <th>6</th>\n",
       "      <td>arr_time</td>\n",
       "      <td>8713</td>\n",
       "      <td>2.587180</td>\n",
       "    </tr>\n",
       "    <tr>\n",
       "      <th>3</th>\n",
       "      <td>dep_time</td>\n",
       "      <td>8255</td>\n",
       "      <td>2.451184</td>\n",
       "    </tr>\n",
       "    <tr>\n",
       "      <th>5</th>\n",
       "      <td>dep_delay</td>\n",
       "      <td>8255</td>\n",
       "      <td>2.451184</td>\n",
       "    </tr>\n",
       "    <tr>\n",
       "      <th>11</th>\n",
       "      <td>tailnum</td>\n",
       "      <td>2512</td>\n",
       "      <td>0.745896</td>\n",
       "    </tr>\n",
       "    <tr>\n",
       "      <th>0</th>\n",
       "      <td>year</td>\n",
       "      <td>0</td>\n",
       "      <td>0.000000</td>\n",
       "    </tr>\n",
       "    <tr>\n",
       "      <th>12</th>\n",
       "      <td>origin</td>\n",
       "      <td>0</td>\n",
       "      <td>0.000000</td>\n",
       "    </tr>\n",
       "    <tr>\n",
       "      <th>17</th>\n",
       "      <td>minute</td>\n",
       "      <td>0</td>\n",
       "      <td>0.000000</td>\n",
       "    </tr>\n",
       "    <tr>\n",
       "      <th>16</th>\n",
       "      <td>hour</td>\n",
       "      <td>0</td>\n",
       "      <td>0.000000</td>\n",
       "    </tr>\n",
       "    <tr>\n",
       "      <th>15</th>\n",
       "      <td>distance</td>\n",
       "      <td>0</td>\n",
       "      <td>0.000000</td>\n",
       "    </tr>\n",
       "    <tr>\n",
       "      <th>13</th>\n",
       "      <td>dest</td>\n",
       "      <td>0</td>\n",
       "      <td>0.000000</td>\n",
       "    </tr>\n",
       "    <tr>\n",
       "      <th>9</th>\n",
       "      <td>carrier</td>\n",
       "      <td>0</td>\n",
       "      <td>0.000000</td>\n",
       "    </tr>\n",
       "    <tr>\n",
       "      <th>10</th>\n",
       "      <td>flight</td>\n",
       "      <td>0</td>\n",
       "      <td>0.000000</td>\n",
       "    </tr>\n",
       "    <tr>\n",
       "      <th>1</th>\n",
       "      <td>month</td>\n",
       "      <td>0</td>\n",
       "      <td>0.000000</td>\n",
       "    </tr>\n",
       "    <tr>\n",
       "      <th>7</th>\n",
       "      <td>sched_arr_time</td>\n",
       "      <td>0</td>\n",
       "      <td>0.000000</td>\n",
       "    </tr>\n",
       "    <tr>\n",
       "      <th>4</th>\n",
       "      <td>sched_dep_time</td>\n",
       "      <td>0</td>\n",
       "      <td>0.000000</td>\n",
       "    </tr>\n",
       "    <tr>\n",
       "      <th>2</th>\n",
       "      <td>day</td>\n",
       "      <td>0</td>\n",
       "      <td>0.000000</td>\n",
       "    </tr>\n",
       "    <tr>\n",
       "      <th>18</th>\n",
       "      <td>time_hour</td>\n",
       "      <td>0</td>\n",
       "      <td>0.000000</td>\n",
       "    </tr>\n",
       "  </tbody>\n",
       "</table>\n",
       "</div>"
      ],
      "text/plain": [
       "           feature  no_nulls  perc_nulls\n",
       "8        arr_delay      9430    2.800081\n",
       "14        air_time      9430    2.800081\n",
       "6         arr_time      8713    2.587180\n",
       "3         dep_time      8255    2.451184\n",
       "5        dep_delay      8255    2.451184\n",
       "11         tailnum      2512    0.745896\n",
       "0             year         0    0.000000\n",
       "12          origin         0    0.000000\n",
       "17          minute         0    0.000000\n",
       "16            hour         0    0.000000\n",
       "15        distance         0    0.000000\n",
       "13            dest         0    0.000000\n",
       "9          carrier         0    0.000000\n",
       "10          flight         0    0.000000\n",
       "1            month         0    0.000000\n",
       "7   sched_arr_time         0    0.000000\n",
       "4   sched_dep_time         0    0.000000\n",
       "2              day         0    0.000000\n",
       "18       time_hour         0    0.000000"
      ]
     },
     "execution_count": 4,
     "metadata": {},
     "output_type": "execute_result"
    }
   ],
   "source": [
    "(df.isna()\n",
    "   .sum()\n",
    "   .reset_index()\n",
    "   .rename(columns={'index': 'feature', 0: 'no_nulls'})\n",
    "   .sort_values('no_nulls', ascending=False)\n",
    "   .assign(perc_nulls = lambda x: x['no_nulls'] / len(df) * 100))"
   ]
  },
  {
   "attachments": {},
   "cell_type": "markdown",
   "metadata": {},
   "source": [
    "Interesting! This gives us some idea on where we have missing values. From here, you can either decide to just discard these, or go to investigate and maybe impute the data yourself. In case percentage of missing data is very low, like in our case, you may opt to discarding these right away. However, you should be careful with discarding because these percentages show you just a part of the picture. What do we mean? Let's view couple of examples.\n",
    "\n",
    "First, let's look at the visualizations of our missing data.\n",
    "\n",
    "![](_img/missing_data_example_a.png)\n",
    "\n",
    "Here, black lines are missing values for each column. This also gives you the part of the picture. Let's group flights with missing values for columns, and display only columns that have missing values.\n",
    "\n",
    "![](_img/missing_data_example_b.png)\n",
    "\n",
    "Based on this view, you can be sure that discarding flights with missing values will remove just a small portion of flights from the original data set.\n",
    "\n",
    "The scenario could easily be where missing value cells are not so neatly grouped. Look at this example:\n",
    "\n",
    "![](_img/missing_data_example_c.png)\n",
    "\n",
    "And let's do the same thing as with our data.\n",
    "\n",
    "![](_img/missing_data_example_d.png)\n",
    "\n",
    "What will happen if we discard all flights with missing values, with `pd.dropna()`? Yes, we will discard more than half of our data. This is not a good start. \n",
    "\n",
    "Conclusion is to really pay attention to the missing values and be very careful in discarding them."
   ]
  },
  {
   "attachments": {},
   "cell_type": "markdown",
   "metadata": {},
   "source": [
    "But how does Pandas handle missing values. Did we mention `None` value in Python? "
   ]
  },
  {
   "cell_type": "code",
   "execution_count": 5,
   "metadata": {},
   "outputs": [
    {
     "data": {
      "text/plain": [
       "NoneType"
      ]
     },
     "execution_count": 5,
     "metadata": {},
     "output_type": "execute_result"
    }
   ],
   "source": [
    "type(None)"
   ]
  },
  {
   "attachments": {},
   "cell_type": "markdown",
   "metadata": {},
   "source": [
    "Python has it's own way of handling missing value. NumPy too. And Pandas uses NumPy for `pd.Series` values. And `pd.DataFrame` uses `pd.Series` for storing column values. So, we have to go to NumPy to see what is happening.\n",
    "\n",
    "NumPy library has 3 different variables that are used for marking missing values (Not A Number - NAN). These are all of `float` type."
   ]
  },
  {
   "cell_type": "code",
   "execution_count": 6,
   "metadata": {},
   "outputs": [
    {
     "data": {
      "text/plain": [
       "(float, float, float)"
      ]
     },
     "execution_count": 6,
     "metadata": {},
     "output_type": "execute_result"
    }
   ],
   "source": [
    "type(np.NaN), type(np.NAN), type(np.nan)"
   ]
  },
  {
   "attachments": {},
   "cell_type": "markdown",
   "metadata": {},
   "source": [
    "If we try to compare 'nothing' with 'nothing' we get `False`. This should make sense."
   ]
  },
  {
   "cell_type": "code",
   "execution_count": 7,
   "metadata": {},
   "outputs": [
    {
     "data": {
      "text/plain": [
       "False"
      ]
     },
     "execution_count": 7,
     "metadata": {},
     "output_type": "execute_result"
    }
   ],
   "source": [
    "np.NaN == np.nan"
   ]
  },
  {
   "attachments": {},
   "cell_type": "markdown",
   "metadata": {},
   "source": [
    "But if we try to see if they are the same objects, we see that they are. This should also make sense."
   ]
  },
  {
   "cell_type": "code",
   "execution_count": 8,
   "metadata": {},
   "outputs": [
    {
     "data": {
      "text/plain": [
       "(True, True, True)"
      ]
     },
     "execution_count": 8,
     "metadata": {},
     "output_type": "execute_result"
    }
   ],
   "source": [
    "(np.NaN is np.nan, \n",
    " np.NaN is np.NAN,  \n",
    " np.NAN is np.nan)"
   ]
  },
  {
   "attachments": {},
   "cell_type": "markdown",
   "metadata": {},
   "source": [
    "Why was this so important. Because when NumPy treats `NaN` values as `float`, then columns that should by its nature be of type `int`, but have missing values, are treated as `float`. This is the reason why columns that should be of type `int` and have missing value are treated as `float`. Check it out:  "
   ]
  },
  {
   "cell_type": "code",
   "execution_count": 9,
   "metadata": {},
   "outputs": [],
   "source": [
    "null_columns = df.isna().sum().where(lambda x: x > 0).dropna().index.to_list()"
   ]
  },
  {
   "cell_type": "code",
   "execution_count": 10,
   "metadata": {},
   "outputs": [
    {
     "data": {
      "text/html": [
       "<div>\n",
       "<style scoped>\n",
       "    .dataframe tbody tr th:only-of-type {\n",
       "        vertical-align: middle;\n",
       "    }\n",
       "\n",
       "    .dataframe tbody tr th {\n",
       "        vertical-align: top;\n",
       "    }\n",
       "\n",
       "    .dataframe thead th {\n",
       "        text-align: right;\n",
       "    }\n",
       "</style>\n",
       "<table border=\"1\" class=\"dataframe\">\n",
       "  <thead>\n",
       "    <tr style=\"text-align: right;\">\n",
       "      <th></th>\n",
       "      <th>dep_time</th>\n",
       "      <th>dep_delay</th>\n",
       "      <th>arr_time</th>\n",
       "      <th>arr_delay</th>\n",
       "      <th>tailnum</th>\n",
       "      <th>air_time</th>\n",
       "    </tr>\n",
       "  </thead>\n",
       "  <tbody>\n",
       "    <tr>\n",
       "      <th>1</th>\n",
       "      <td>517.0</td>\n",
       "      <td>2.0</td>\n",
       "      <td>830.0</td>\n",
       "      <td>11.0</td>\n",
       "      <td>N14228</td>\n",
       "      <td>227.0</td>\n",
       "    </tr>\n",
       "    <tr>\n",
       "      <th>2</th>\n",
       "      <td>533.0</td>\n",
       "      <td>4.0</td>\n",
       "      <td>850.0</td>\n",
       "      <td>20.0</td>\n",
       "      <td>N24211</td>\n",
       "      <td>227.0</td>\n",
       "    </tr>\n",
       "    <tr>\n",
       "      <th>3</th>\n",
       "      <td>542.0</td>\n",
       "      <td>2.0</td>\n",
       "      <td>923.0</td>\n",
       "      <td>33.0</td>\n",
       "      <td>N619AA</td>\n",
       "      <td>160.0</td>\n",
       "    </tr>\n",
       "    <tr>\n",
       "      <th>4</th>\n",
       "      <td>544.0</td>\n",
       "      <td>-1.0</td>\n",
       "      <td>1004.0</td>\n",
       "      <td>-18.0</td>\n",
       "      <td>N804JB</td>\n",
       "      <td>183.0</td>\n",
       "    </tr>\n",
       "    <tr>\n",
       "      <th>5</th>\n",
       "      <td>554.0</td>\n",
       "      <td>-6.0</td>\n",
       "      <td>812.0</td>\n",
       "      <td>-25.0</td>\n",
       "      <td>N668DN</td>\n",
       "      <td>116.0</td>\n",
       "    </tr>\n",
       "  </tbody>\n",
       "</table>\n",
       "</div>"
      ],
      "text/plain": [
       "   dep_time  dep_delay  arr_time  arr_delay tailnum  air_time\n",
       "1     517.0        2.0     830.0       11.0  N14228     227.0\n",
       "2     533.0        4.0     850.0       20.0  N24211     227.0\n",
       "3     542.0        2.0     923.0       33.0  N619AA     160.0\n",
       "4     544.0       -1.0    1004.0      -18.0  N804JB     183.0\n",
       "5     554.0       -6.0     812.0      -25.0  N668DN     116.0"
      ]
     },
     "execution_count": 10,
     "metadata": {},
     "output_type": "execute_result"
    }
   ],
   "source": [
    "df[null_columns].head()"
   ]
  },
  {
   "cell_type": "code",
   "execution_count": 11,
   "metadata": {},
   "outputs": [
    {
     "name": "stdout",
     "output_type": "stream",
     "text": [
      "<class 'pandas.core.frame.DataFrame'>\n",
      "Int64Index: 336776 entries, 1 to 336776\n",
      "Data columns (total 6 columns):\n",
      " #   Column     Non-Null Count   Dtype  \n",
      "---  ------     --------------   -----  \n",
      " 0   dep_time   328521 non-null  float64\n",
      " 1   dep_delay  328521 non-null  float64\n",
      " 2   arr_time   328063 non-null  float64\n",
      " 3   arr_delay  327346 non-null  float64\n",
      " 4   tailnum    334264 non-null  object \n",
      " 5   air_time   327346 non-null  float64\n",
      "dtypes: float64(5), object(1)\n",
      "memory usage: 18.0+ MB\n"
     ]
    }
   ],
   "source": [
    "df[null_columns].info()"
   ]
  },
  {
   "attachments": {},
   "cell_type": "markdown",
   "metadata": {},
   "source": [
    "Okay. Enough with this. Let's just drop flights that have missing values in any of the columns. We should be fine with this approach."
   ]
  },
  {
   "cell_type": "code",
   "execution_count": 12,
   "metadata": {},
   "outputs": [],
   "source": [
    "df = df.dropna()"
   ]
  },
  {
   "cell_type": "code",
   "execution_count": 13,
   "metadata": {},
   "outputs": [
    {
     "data": {
      "text/html": [
       "<div>\n",
       "<style scoped>\n",
       "    .dataframe tbody tr th:only-of-type {\n",
       "        vertical-align: middle;\n",
       "    }\n",
       "\n",
       "    .dataframe tbody tr th {\n",
       "        vertical-align: top;\n",
       "    }\n",
       "\n",
       "    .dataframe thead th {\n",
       "        text-align: right;\n",
       "    }\n",
       "</style>\n",
       "<table border=\"1\" class=\"dataframe\">\n",
       "  <thead>\n",
       "    <tr style=\"text-align: right;\">\n",
       "      <th></th>\n",
       "      <th>year</th>\n",
       "      <th>month</th>\n",
       "      <th>day</th>\n",
       "      <th>dep_time</th>\n",
       "      <th>sched_dep_time</th>\n",
       "      <th>dep_delay</th>\n",
       "      <th>arr_time</th>\n",
       "      <th>sched_arr_time</th>\n",
       "      <th>arr_delay</th>\n",
       "      <th>carrier</th>\n",
       "      <th>flight</th>\n",
       "      <th>tailnum</th>\n",
       "      <th>origin</th>\n",
       "      <th>dest</th>\n",
       "      <th>air_time</th>\n",
       "      <th>distance</th>\n",
       "      <th>hour</th>\n",
       "      <th>minute</th>\n",
       "      <th>time_hour</th>\n",
       "    </tr>\n",
       "  </thead>\n",
       "  <tbody>\n",
       "    <tr>\n",
       "      <th>1</th>\n",
       "      <td>2013</td>\n",
       "      <td>1</td>\n",
       "      <td>1</td>\n",
       "      <td>517.0</td>\n",
       "      <td>515</td>\n",
       "      <td>2.0</td>\n",
       "      <td>830.0</td>\n",
       "      <td>819</td>\n",
       "      <td>11.0</td>\n",
       "      <td>UA</td>\n",
       "      <td>1545</td>\n",
       "      <td>N14228</td>\n",
       "      <td>EWR</td>\n",
       "      <td>IAH</td>\n",
       "      <td>227.0</td>\n",
       "      <td>1400</td>\n",
       "      <td>5</td>\n",
       "      <td>15</td>\n",
       "      <td>2013-01-01 05:00:00</td>\n",
       "    </tr>\n",
       "    <tr>\n",
       "      <th>2</th>\n",
       "      <td>2013</td>\n",
       "      <td>1</td>\n",
       "      <td>1</td>\n",
       "      <td>533.0</td>\n",
       "      <td>529</td>\n",
       "      <td>4.0</td>\n",
       "      <td>850.0</td>\n",
       "      <td>830</td>\n",
       "      <td>20.0</td>\n",
       "      <td>UA</td>\n",
       "      <td>1714</td>\n",
       "      <td>N24211</td>\n",
       "      <td>LGA</td>\n",
       "      <td>IAH</td>\n",
       "      <td>227.0</td>\n",
       "      <td>1416</td>\n",
       "      <td>5</td>\n",
       "      <td>29</td>\n",
       "      <td>2013-01-01 05:00:00</td>\n",
       "    </tr>\n",
       "    <tr>\n",
       "      <th>3</th>\n",
       "      <td>2013</td>\n",
       "      <td>1</td>\n",
       "      <td>1</td>\n",
       "      <td>542.0</td>\n",
       "      <td>540</td>\n",
       "      <td>2.0</td>\n",
       "      <td>923.0</td>\n",
       "      <td>850</td>\n",
       "      <td>33.0</td>\n",
       "      <td>AA</td>\n",
       "      <td>1141</td>\n",
       "      <td>N619AA</td>\n",
       "      <td>JFK</td>\n",
       "      <td>MIA</td>\n",
       "      <td>160.0</td>\n",
       "      <td>1089</td>\n",
       "      <td>5</td>\n",
       "      <td>40</td>\n",
       "      <td>2013-01-01 05:00:00</td>\n",
       "    </tr>\n",
       "    <tr>\n",
       "      <th>4</th>\n",
       "      <td>2013</td>\n",
       "      <td>1</td>\n",
       "      <td>1</td>\n",
       "      <td>544.0</td>\n",
       "      <td>545</td>\n",
       "      <td>-1.0</td>\n",
       "      <td>1004.0</td>\n",
       "      <td>1022</td>\n",
       "      <td>-18.0</td>\n",
       "      <td>B6</td>\n",
       "      <td>725</td>\n",
       "      <td>N804JB</td>\n",
       "      <td>JFK</td>\n",
       "      <td>BQN</td>\n",
       "      <td>183.0</td>\n",
       "      <td>1576</td>\n",
       "      <td>5</td>\n",
       "      <td>45</td>\n",
       "      <td>2013-01-01 05:00:00</td>\n",
       "    </tr>\n",
       "    <tr>\n",
       "      <th>5</th>\n",
       "      <td>2013</td>\n",
       "      <td>1</td>\n",
       "      <td>1</td>\n",
       "      <td>554.0</td>\n",
       "      <td>600</td>\n",
       "      <td>-6.0</td>\n",
       "      <td>812.0</td>\n",
       "      <td>837</td>\n",
       "      <td>-25.0</td>\n",
       "      <td>DL</td>\n",
       "      <td>461</td>\n",
       "      <td>N668DN</td>\n",
       "      <td>LGA</td>\n",
       "      <td>ATL</td>\n",
       "      <td>116.0</td>\n",
       "      <td>762</td>\n",
       "      <td>6</td>\n",
       "      <td>0</td>\n",
       "      <td>2013-01-01 06:00:00</td>\n",
       "    </tr>\n",
       "  </tbody>\n",
       "</table>\n",
       "</div>"
      ],
      "text/plain": [
       "   year  month  day  dep_time  sched_dep_time  dep_delay  arr_time  \\\n",
       "1  2013      1    1     517.0             515        2.0     830.0   \n",
       "2  2013      1    1     533.0             529        4.0     850.0   \n",
       "3  2013      1    1     542.0             540        2.0     923.0   \n",
       "4  2013      1    1     544.0             545       -1.0    1004.0   \n",
       "5  2013      1    1     554.0             600       -6.0     812.0   \n",
       "\n",
       "   sched_arr_time  arr_delay carrier  flight tailnum origin dest  air_time  \\\n",
       "1             819       11.0      UA    1545  N14228    EWR  IAH     227.0   \n",
       "2             830       20.0      UA    1714  N24211    LGA  IAH     227.0   \n",
       "3             850       33.0      AA    1141  N619AA    JFK  MIA     160.0   \n",
       "4            1022      -18.0      B6     725  N804JB    JFK  BQN     183.0   \n",
       "5             837      -25.0      DL     461  N668DN    LGA  ATL     116.0   \n",
       "\n",
       "   distance  hour  minute            time_hour  \n",
       "1      1400     5      15  2013-01-01 05:00:00  \n",
       "2      1416     5      29  2013-01-01 05:00:00  \n",
       "3      1089     5      40  2013-01-01 05:00:00  \n",
       "4      1576     5      45  2013-01-01 05:00:00  \n",
       "5       762     6       0  2013-01-01 06:00:00  "
      ]
     },
     "execution_count": 13,
     "metadata": {},
     "output_type": "execute_result"
    }
   ],
   "source": [
    "df.head()"
   ]
  },
  {
   "cell_type": "code",
   "execution_count": 14,
   "metadata": {},
   "outputs": [
    {
     "name": "stdout",
     "output_type": "stream",
     "text": [
      "<class 'pandas.core.frame.DataFrame'>\n",
      "Int64Index: 327346 entries, 1 to 336770\n",
      "Data columns (total 19 columns):\n",
      " #   Column          Non-Null Count   Dtype  \n",
      "---  ------          --------------   -----  \n",
      " 0   year            327346 non-null  int64  \n",
      " 1   month           327346 non-null  int64  \n",
      " 2   day             327346 non-null  int64  \n",
      " 3   dep_time        327346 non-null  float64\n",
      " 4   sched_dep_time  327346 non-null  int64  \n",
      " 5   dep_delay       327346 non-null  float64\n",
      " 6   arr_time        327346 non-null  float64\n",
      " 7   sched_arr_time  327346 non-null  int64  \n",
      " 8   arr_delay       327346 non-null  float64\n",
      " 9   carrier         327346 non-null  object \n",
      " 10  flight          327346 non-null  int64  \n",
      " 11  tailnum         327346 non-null  object \n",
      " 12  origin          327346 non-null  object \n",
      " 13  dest            327346 non-null  object \n",
      " 14  air_time        327346 non-null  float64\n",
      " 15  distance        327346 non-null  int64  \n",
      " 16  hour            327346 non-null  int64  \n",
      " 17  minute          327346 non-null  int64  \n",
      " 18  time_hour       327346 non-null  object \n",
      "dtypes: float64(5), int64(9), object(5)\n",
      "memory usage: 49.9+ MB\n"
     ]
    }
   ],
   "source": [
    "df.info()"
   ]
  },
  {
   "attachments": {},
   "cell_type": "markdown",
   "metadata": {},
   "source": [
    "Pandas DataFrame has great method for trying to correctly recognize column data types. It is called `convert_dtypes`. Let's see what is the result."
   ]
  },
  {
   "cell_type": "code",
   "execution_count": 15,
   "metadata": {},
   "outputs": [
    {
     "name": "stdout",
     "output_type": "stream",
     "text": [
      "<class 'pandas.core.frame.DataFrame'>\n",
      "Int64Index: 327346 entries, 1 to 336770\n",
      "Data columns (total 19 columns):\n",
      " #   Column          Non-Null Count   Dtype \n",
      "---  ------          --------------   ----- \n",
      " 0   year            327346 non-null  Int64 \n",
      " 1   month           327346 non-null  Int64 \n",
      " 2   day             327346 non-null  Int64 \n",
      " 3   dep_time        327346 non-null  Int64 \n",
      " 4   sched_dep_time  327346 non-null  Int64 \n",
      " 5   dep_delay       327346 non-null  Int64 \n",
      " 6   arr_time        327346 non-null  Int64 \n",
      " 7   sched_arr_time  327346 non-null  Int64 \n",
      " 8   arr_delay       327346 non-null  Int64 \n",
      " 9   carrier         327346 non-null  string\n",
      " 10  flight          327346 non-null  Int64 \n",
      " 11  tailnum         327346 non-null  string\n",
      " 12  origin          327346 non-null  string\n",
      " 13  dest            327346 non-null  string\n",
      " 14  air_time        327346 non-null  Int64 \n",
      " 15  distance        327346 non-null  Int64 \n",
      " 16  hour            327346 non-null  Int64 \n",
      " 17  minute          327346 non-null  Int64 \n",
      " 18  time_hour       327346 non-null  string\n",
      "dtypes: Int64(14), string(5)\n",
      "memory usage: 54.3 MB\n"
     ]
    }
   ],
   "source": [
    "df = df.convert_dtypes()\n",
    "\n",
    "df.info()"
   ]
  },
  {
   "attachments": {},
   "cell_type": "markdown",
   "metadata": {},
   "source": [
    "Voila. Once we removed `NaN` values, Pandas recognizes all of the numeric columns as `int` data type. Also, columns with `object` type are now of `string` type. "
   ]
  },
  {
   "cell_type": "code",
   "execution_count": 16,
   "metadata": {},
   "outputs": [
    {
     "data": {
      "text/html": [
       "<div>\n",
       "<style scoped>\n",
       "    .dataframe tbody tr th:only-of-type {\n",
       "        vertical-align: middle;\n",
       "    }\n",
       "\n",
       "    .dataframe tbody tr th {\n",
       "        vertical-align: top;\n",
       "    }\n",
       "\n",
       "    .dataframe thead th {\n",
       "        text-align: right;\n",
       "    }\n",
       "</style>\n",
       "<table border=\"1\" class=\"dataframe\">\n",
       "  <thead>\n",
       "    <tr style=\"text-align: right;\">\n",
       "      <th></th>\n",
       "      <th>year</th>\n",
       "      <th>month</th>\n",
       "      <th>day</th>\n",
       "      <th>dep_time</th>\n",
       "      <th>sched_dep_time</th>\n",
       "      <th>dep_delay</th>\n",
       "      <th>arr_time</th>\n",
       "      <th>sched_arr_time</th>\n",
       "      <th>arr_delay</th>\n",
       "      <th>flight</th>\n",
       "      <th>air_time</th>\n",
       "      <th>distance</th>\n",
       "      <th>hour</th>\n",
       "      <th>minute</th>\n",
       "    </tr>\n",
       "  </thead>\n",
       "  <tbody>\n",
       "    <tr>\n",
       "      <th>1</th>\n",
       "      <td>2013</td>\n",
       "      <td>1</td>\n",
       "      <td>1</td>\n",
       "      <td>517</td>\n",
       "      <td>515</td>\n",
       "      <td>2</td>\n",
       "      <td>830</td>\n",
       "      <td>819</td>\n",
       "      <td>11</td>\n",
       "      <td>1545</td>\n",
       "      <td>227</td>\n",
       "      <td>1400</td>\n",
       "      <td>5</td>\n",
       "      <td>15</td>\n",
       "    </tr>\n",
       "    <tr>\n",
       "      <th>2</th>\n",
       "      <td>2013</td>\n",
       "      <td>1</td>\n",
       "      <td>1</td>\n",
       "      <td>533</td>\n",
       "      <td>529</td>\n",
       "      <td>4</td>\n",
       "      <td>850</td>\n",
       "      <td>830</td>\n",
       "      <td>20</td>\n",
       "      <td>1714</td>\n",
       "      <td>227</td>\n",
       "      <td>1416</td>\n",
       "      <td>5</td>\n",
       "      <td>29</td>\n",
       "    </tr>\n",
       "    <tr>\n",
       "      <th>3</th>\n",
       "      <td>2013</td>\n",
       "      <td>1</td>\n",
       "      <td>1</td>\n",
       "      <td>542</td>\n",
       "      <td>540</td>\n",
       "      <td>2</td>\n",
       "      <td>923</td>\n",
       "      <td>850</td>\n",
       "      <td>33</td>\n",
       "      <td>1141</td>\n",
       "      <td>160</td>\n",
       "      <td>1089</td>\n",
       "      <td>5</td>\n",
       "      <td>40</td>\n",
       "    </tr>\n",
       "    <tr>\n",
       "      <th>4</th>\n",
       "      <td>2013</td>\n",
       "      <td>1</td>\n",
       "      <td>1</td>\n",
       "      <td>544</td>\n",
       "      <td>545</td>\n",
       "      <td>-1</td>\n",
       "      <td>1004</td>\n",
       "      <td>1022</td>\n",
       "      <td>-18</td>\n",
       "      <td>725</td>\n",
       "      <td>183</td>\n",
       "      <td>1576</td>\n",
       "      <td>5</td>\n",
       "      <td>45</td>\n",
       "    </tr>\n",
       "    <tr>\n",
       "      <th>5</th>\n",
       "      <td>2013</td>\n",
       "      <td>1</td>\n",
       "      <td>1</td>\n",
       "      <td>554</td>\n",
       "      <td>600</td>\n",
       "      <td>-6</td>\n",
       "      <td>812</td>\n",
       "      <td>837</td>\n",
       "      <td>-25</td>\n",
       "      <td>461</td>\n",
       "      <td>116</td>\n",
       "      <td>762</td>\n",
       "      <td>6</td>\n",
       "      <td>0</td>\n",
       "    </tr>\n",
       "  </tbody>\n",
       "</table>\n",
       "</div>"
      ],
      "text/plain": [
       "   year  month  day  dep_time  sched_dep_time  dep_delay  arr_time  \\\n",
       "1  2013      1    1       517             515          2       830   \n",
       "2  2013      1    1       533             529          4       850   \n",
       "3  2013      1    1       542             540          2       923   \n",
       "4  2013      1    1       544             545         -1      1004   \n",
       "5  2013      1    1       554             600         -6       812   \n",
       "\n",
       "   sched_arr_time  arr_delay  flight  air_time  distance  hour  minute  \n",
       "1             819         11    1545       227      1400     5      15  \n",
       "2             830         20    1714       227      1416     5      29  \n",
       "3             850         33    1141       160      1089     5      40  \n",
       "4            1022        -18     725       183      1576     5      45  \n",
       "5             837        -25     461       116       762     6       0  "
      ]
     },
     "execution_count": 16,
     "metadata": {},
     "output_type": "execute_result"
    }
   ],
   "source": [
    "df.select_dtypes('int64').head()"
   ]
  },
  {
   "attachments": {},
   "cell_type": "markdown",
   "metadata": {},
   "source": [
    "What can de conclude based on this subset of \"integer\" columns?\n",
    "\n",
    "Well, here is what we can see:\n",
    "- `year`, `month`, `day`, `hour` and `minute` are surely integers, but there is hardly any point in doing arithmetic operations with them. These are not categorical too. Maybe we can observe them as ordinal type variables?\n",
    "- `sched_dep_time` and `sched_arr_time` have specific format i.e. HHMM or HMM, and are not to be viewed as integers. Very specific format, we have to deal with this somehow.\n",
    "- `flight` is the number of flight. This should be nominal (categorical) variable or just string."
   ]
  },
  {
   "attachments": {},
   "cell_type": "markdown",
   "metadata": {},
   "source": [
    "- `dep_delay` is the delay in minutes. We can use this as is.\n",
    "- `air_time` is, as the name says, airplane air time, in minutes.\n",
    "- `dep_time` and `arr_time` are of same format as `sched_dep_time` and `sched_arr_time`. We have to deal with these properly."
   ]
  },
  {
   "attachments": {},
   "cell_type": "markdown",
   "metadata": {},
   "source": [
    "What `dep_time` and `arr_time` actually stands for? \n",
    "\n",
    "> The **departure time** is the moment that your plane **pushes back from the gate**, not the time it takes off. \n",
    "\n",
    "> The **arrival time** is the moment that your plane **pulls into the gate**, not the time it touches down on the runway. "
   ]
  },
  {
   "attachments": {},
   "cell_type": "markdown",
   "metadata": {},
   "source": [
    "Let's look at the columns of `string` type."
   ]
  },
  {
   "cell_type": "code",
   "execution_count": 17,
   "metadata": {},
   "outputs": [
    {
     "data": {
      "text/html": [
       "<div>\n",
       "<style scoped>\n",
       "    .dataframe tbody tr th:only-of-type {\n",
       "        vertical-align: middle;\n",
       "    }\n",
       "\n",
       "    .dataframe tbody tr th {\n",
       "        vertical-align: top;\n",
       "    }\n",
       "\n",
       "    .dataframe thead th {\n",
       "        text-align: right;\n",
       "    }\n",
       "</style>\n",
       "<table border=\"1\" class=\"dataframe\">\n",
       "  <thead>\n",
       "    <tr style=\"text-align: right;\">\n",
       "      <th></th>\n",
       "      <th>carrier</th>\n",
       "      <th>tailnum</th>\n",
       "      <th>origin</th>\n",
       "      <th>dest</th>\n",
       "      <th>time_hour</th>\n",
       "    </tr>\n",
       "  </thead>\n",
       "  <tbody>\n",
       "    <tr>\n",
       "      <th>1</th>\n",
       "      <td>UA</td>\n",
       "      <td>N14228</td>\n",
       "      <td>EWR</td>\n",
       "      <td>IAH</td>\n",
       "      <td>2013-01-01 05:00:00</td>\n",
       "    </tr>\n",
       "    <tr>\n",
       "      <th>2</th>\n",
       "      <td>UA</td>\n",
       "      <td>N24211</td>\n",
       "      <td>LGA</td>\n",
       "      <td>IAH</td>\n",
       "      <td>2013-01-01 05:00:00</td>\n",
       "    </tr>\n",
       "    <tr>\n",
       "      <th>3</th>\n",
       "      <td>AA</td>\n",
       "      <td>N619AA</td>\n",
       "      <td>JFK</td>\n",
       "      <td>MIA</td>\n",
       "      <td>2013-01-01 05:00:00</td>\n",
       "    </tr>\n",
       "    <tr>\n",
       "      <th>4</th>\n",
       "      <td>B6</td>\n",
       "      <td>N804JB</td>\n",
       "      <td>JFK</td>\n",
       "      <td>BQN</td>\n",
       "      <td>2013-01-01 05:00:00</td>\n",
       "    </tr>\n",
       "    <tr>\n",
       "      <th>5</th>\n",
       "      <td>DL</td>\n",
       "      <td>N668DN</td>\n",
       "      <td>LGA</td>\n",
       "      <td>ATL</td>\n",
       "      <td>2013-01-01 06:00:00</td>\n",
       "    </tr>\n",
       "    <tr>\n",
       "      <th>...</th>\n",
       "      <td>...</td>\n",
       "      <td>...</td>\n",
       "      <td>...</td>\n",
       "      <td>...</td>\n",
       "      <td>...</td>\n",
       "    </tr>\n",
       "    <tr>\n",
       "      <th>336766</th>\n",
       "      <td>B6</td>\n",
       "      <td>N354JB</td>\n",
       "      <td>JFK</td>\n",
       "      <td>SYR</td>\n",
       "      <td>2013-09-30 22:00:00</td>\n",
       "    </tr>\n",
       "    <tr>\n",
       "      <th>336767</th>\n",
       "      <td>B6</td>\n",
       "      <td>N281JB</td>\n",
       "      <td>JFK</td>\n",
       "      <td>BUF</td>\n",
       "      <td>2013-09-30 22:00:00</td>\n",
       "    </tr>\n",
       "    <tr>\n",
       "      <th>336768</th>\n",
       "      <td>B6</td>\n",
       "      <td>N346JB</td>\n",
       "      <td>JFK</td>\n",
       "      <td>ROC</td>\n",
       "      <td>2013-09-30 22:00:00</td>\n",
       "    </tr>\n",
       "    <tr>\n",
       "      <th>336769</th>\n",
       "      <td>B6</td>\n",
       "      <td>N565JB</td>\n",
       "      <td>JFK</td>\n",
       "      <td>BOS</td>\n",
       "      <td>2013-09-30 22:00:00</td>\n",
       "    </tr>\n",
       "    <tr>\n",
       "      <th>336770</th>\n",
       "      <td>B6</td>\n",
       "      <td>N516JB</td>\n",
       "      <td>JFK</td>\n",
       "      <td>PSE</td>\n",
       "      <td>2013-09-30 23:00:00</td>\n",
       "    </tr>\n",
       "  </tbody>\n",
       "</table>\n",
       "<p>327346 rows × 5 columns</p>\n",
       "</div>"
      ],
      "text/plain": [
       "       carrier tailnum origin dest            time_hour\n",
       "1           UA  N14228    EWR  IAH  2013-01-01 05:00:00\n",
       "2           UA  N24211    LGA  IAH  2013-01-01 05:00:00\n",
       "3           AA  N619AA    JFK  MIA  2013-01-01 05:00:00\n",
       "4           B6  N804JB    JFK  BQN  2013-01-01 05:00:00\n",
       "5           DL  N668DN    LGA  ATL  2013-01-01 06:00:00\n",
       "...        ...     ...    ...  ...                  ...\n",
       "336766      B6  N354JB    JFK  SYR  2013-09-30 22:00:00\n",
       "336767      B6  N281JB    JFK  BUF  2013-09-30 22:00:00\n",
       "336768      B6  N346JB    JFK  ROC  2013-09-30 22:00:00\n",
       "336769      B6  N565JB    JFK  BOS  2013-09-30 22:00:00\n",
       "336770      B6  N516JB    JFK  PSE  2013-09-30 23:00:00\n",
       "\n",
       "[327346 rows x 5 columns]"
      ]
     },
     "execution_count": 17,
     "metadata": {},
     "output_type": "execute_result"
    }
   ],
   "source": [
    "df.select_dtypes('string')"
   ]
  },
  {
   "attachments": {},
   "cell_type": "markdown",
   "metadata": {},
   "source": [
    "Okay, this mostly makes sense, except this `time_hour` column. We already said this is special column for joining the rest of the data, stored in other CSV files in `_data` folder. What is the good thing with Pandas is that it can parse this as date/time very easy. Let's just give it a quick demo:"
   ]
  },
  {
   "cell_type": "code",
   "execution_count": 18,
   "metadata": {},
   "outputs": [
    {
     "data": {
      "text/plain": [
       "1        2013-01-01 05:00:00\n",
       "2        2013-01-01 05:00:00\n",
       "3        2013-01-01 05:00:00\n",
       "4        2013-01-01 05:00:00\n",
       "5        2013-01-01 06:00:00\n",
       "                 ...        \n",
       "336766   2013-09-30 22:00:00\n",
       "336767   2013-09-30 22:00:00\n",
       "336768   2013-09-30 22:00:00\n",
       "336769   2013-09-30 22:00:00\n",
       "336770   2013-09-30 23:00:00\n",
       "Name: time_hour, Length: 327346, dtype: datetime64[ns]"
      ]
     },
     "execution_count": 18,
     "metadata": {},
     "output_type": "execute_result"
    }
   ],
   "source": [
    "_time_hour = pd.to_datetime(df['time_hour'])\n",
    "\n",
    "_time_hour"
   ]
  },
  {
   "cell_type": "markdown",
   "metadata": {},
   "source": [
    "Okay, big deal. What is the benefit of this? Well, you can work with this in very interesting way."
   ]
  },
  {
   "cell_type": "code",
   "execution_count": 19,
   "metadata": {},
   "outputs": [
    {
     "data": {
      "text/plain": [
       "1    5\n",
       "2    5\n",
       "3    5\n",
       "4    5\n",
       "5    6\n",
       "Name: time_hour, dtype: int64"
      ]
     },
     "execution_count": 19,
     "metadata": {},
     "output_type": "execute_result"
    }
   ],
   "source": [
    "_time_hour.dt.hour.head()"
   ]
  },
  {
   "cell_type": "code",
   "execution_count": 20,
   "metadata": {},
   "outputs": [
    {
     "data": {
      "text/plain": [
       "1    2013\n",
       "2    2013\n",
       "3    2013\n",
       "4    2013\n",
       "5    2013\n",
       "Name: time_hour, dtype: int64"
      ]
     },
     "execution_count": 20,
     "metadata": {},
     "output_type": "execute_result"
    }
   ],
   "source": [
    "_time_hour.dt.year.head()"
   ]
  },
  {
   "cell_type": "code",
   "execution_count": 21,
   "metadata": {},
   "outputs": [
    {
     "data": {
      "text/plain": [
       "1    2013-01-01\n",
       "2    2013-01-01\n",
       "3    2013-01-01\n",
       "4    2013-01-01\n",
       "5    2013-01-01\n",
       "Name: time_hour, dtype: object"
      ]
     },
     "execution_count": 21,
     "metadata": {},
     "output_type": "execute_result"
    }
   ],
   "source": [
    "_time_hour.dt.strftime('%Y-%m-%d').head()"
   ]
  },
  {
   "cell_type": "code",
   "execution_count": 22,
   "metadata": {},
   "outputs": [
    {
     "data": {
      "text/plain": [
       "1    05-00-00\n",
       "2    05-00-00\n",
       "3    05-00-00\n",
       "4    05-00-00\n",
       "5    06-00-00\n",
       "Name: time_hour, dtype: object"
      ]
     },
     "execution_count": 22,
     "metadata": {},
     "output_type": "execute_result"
    }
   ],
   "source": [
    "_time_hour.dt.strftime('%H-%M-%S').head()"
   ]
  },
  {
   "cell_type": "code",
   "execution_count": 23,
   "metadata": {},
   "outputs": [
    {
     "data": {
      "text/plain": [
       "1   2012-12-22 05:00:00\n",
       "2   2012-12-22 05:00:00\n",
       "3   2012-12-22 05:00:00\n",
       "4   2012-12-22 05:00:00\n",
       "5   2012-12-22 06:00:00\n",
       "Name: time_hour, dtype: datetime64[ns]"
      ]
     },
     "execution_count": 23,
     "metadata": {},
     "output_type": "execute_result"
    }
   ],
   "source": [
    "(_time_hour - pd.Timedelta('10 days')).head()"
   ]
  },
  {
   "attachments": {},
   "cell_type": "markdown",
   "metadata": {},
   "source": [
    "Working with date and time is for the separate course on itself. This was just a small showoff just for you to get the feel of what you can do with datetime type of column.\n",
    "\n",
    "Ok, let's get back to our data set. Let's refresh our memory of the data set content."
   ]
  },
  {
   "cell_type": "code",
   "execution_count": 24,
   "metadata": {},
   "outputs": [
    {
     "data": {
      "text/html": [
       "<div>\n",
       "<style scoped>\n",
       "    .dataframe tbody tr th:only-of-type {\n",
       "        vertical-align: middle;\n",
       "    }\n",
       "\n",
       "    .dataframe tbody tr th {\n",
       "        vertical-align: top;\n",
       "    }\n",
       "\n",
       "    .dataframe thead th {\n",
       "        text-align: right;\n",
       "    }\n",
       "</style>\n",
       "<table border=\"1\" class=\"dataframe\">\n",
       "  <thead>\n",
       "    <tr style=\"text-align: right;\">\n",
       "      <th></th>\n",
       "      <th>year</th>\n",
       "      <th>month</th>\n",
       "      <th>day</th>\n",
       "      <th>dep_time</th>\n",
       "      <th>sched_dep_time</th>\n",
       "      <th>dep_delay</th>\n",
       "      <th>arr_time</th>\n",
       "      <th>sched_arr_time</th>\n",
       "      <th>arr_delay</th>\n",
       "      <th>carrier</th>\n",
       "      <th>flight</th>\n",
       "      <th>tailnum</th>\n",
       "      <th>origin</th>\n",
       "      <th>dest</th>\n",
       "      <th>air_time</th>\n",
       "      <th>distance</th>\n",
       "      <th>hour</th>\n",
       "      <th>minute</th>\n",
       "      <th>time_hour</th>\n",
       "    </tr>\n",
       "  </thead>\n",
       "  <tbody>\n",
       "    <tr>\n",
       "      <th>1</th>\n",
       "      <td>2013</td>\n",
       "      <td>1</td>\n",
       "      <td>1</td>\n",
       "      <td>517</td>\n",
       "      <td>515</td>\n",
       "      <td>2</td>\n",
       "      <td>830</td>\n",
       "      <td>819</td>\n",
       "      <td>11</td>\n",
       "      <td>UA</td>\n",
       "      <td>1545</td>\n",
       "      <td>N14228</td>\n",
       "      <td>EWR</td>\n",
       "      <td>IAH</td>\n",
       "      <td>227</td>\n",
       "      <td>1400</td>\n",
       "      <td>5</td>\n",
       "      <td>15</td>\n",
       "      <td>2013-01-01 05:00:00</td>\n",
       "    </tr>\n",
       "    <tr>\n",
       "      <th>2</th>\n",
       "      <td>2013</td>\n",
       "      <td>1</td>\n",
       "      <td>1</td>\n",
       "      <td>533</td>\n",
       "      <td>529</td>\n",
       "      <td>4</td>\n",
       "      <td>850</td>\n",
       "      <td>830</td>\n",
       "      <td>20</td>\n",
       "      <td>UA</td>\n",
       "      <td>1714</td>\n",
       "      <td>N24211</td>\n",
       "      <td>LGA</td>\n",
       "      <td>IAH</td>\n",
       "      <td>227</td>\n",
       "      <td>1416</td>\n",
       "      <td>5</td>\n",
       "      <td>29</td>\n",
       "      <td>2013-01-01 05:00:00</td>\n",
       "    </tr>\n",
       "    <tr>\n",
       "      <th>3</th>\n",
       "      <td>2013</td>\n",
       "      <td>1</td>\n",
       "      <td>1</td>\n",
       "      <td>542</td>\n",
       "      <td>540</td>\n",
       "      <td>2</td>\n",
       "      <td>923</td>\n",
       "      <td>850</td>\n",
       "      <td>33</td>\n",
       "      <td>AA</td>\n",
       "      <td>1141</td>\n",
       "      <td>N619AA</td>\n",
       "      <td>JFK</td>\n",
       "      <td>MIA</td>\n",
       "      <td>160</td>\n",
       "      <td>1089</td>\n",
       "      <td>5</td>\n",
       "      <td>40</td>\n",
       "      <td>2013-01-01 05:00:00</td>\n",
       "    </tr>\n",
       "    <tr>\n",
       "      <th>4</th>\n",
       "      <td>2013</td>\n",
       "      <td>1</td>\n",
       "      <td>1</td>\n",
       "      <td>544</td>\n",
       "      <td>545</td>\n",
       "      <td>-1</td>\n",
       "      <td>1004</td>\n",
       "      <td>1022</td>\n",
       "      <td>-18</td>\n",
       "      <td>B6</td>\n",
       "      <td>725</td>\n",
       "      <td>N804JB</td>\n",
       "      <td>JFK</td>\n",
       "      <td>BQN</td>\n",
       "      <td>183</td>\n",
       "      <td>1576</td>\n",
       "      <td>5</td>\n",
       "      <td>45</td>\n",
       "      <td>2013-01-01 05:00:00</td>\n",
       "    </tr>\n",
       "    <tr>\n",
       "      <th>5</th>\n",
       "      <td>2013</td>\n",
       "      <td>1</td>\n",
       "      <td>1</td>\n",
       "      <td>554</td>\n",
       "      <td>600</td>\n",
       "      <td>-6</td>\n",
       "      <td>812</td>\n",
       "      <td>837</td>\n",
       "      <td>-25</td>\n",
       "      <td>DL</td>\n",
       "      <td>461</td>\n",
       "      <td>N668DN</td>\n",
       "      <td>LGA</td>\n",
       "      <td>ATL</td>\n",
       "      <td>116</td>\n",
       "      <td>762</td>\n",
       "      <td>6</td>\n",
       "      <td>0</td>\n",
       "      <td>2013-01-01 06:00:00</td>\n",
       "    </tr>\n",
       "  </tbody>\n",
       "</table>\n",
       "</div>"
      ],
      "text/plain": [
       "   year  month  day  dep_time  sched_dep_time  dep_delay  arr_time  \\\n",
       "1  2013      1    1       517             515          2       830   \n",
       "2  2013      1    1       533             529          4       850   \n",
       "3  2013      1    1       542             540          2       923   \n",
       "4  2013      1    1       544             545         -1      1004   \n",
       "5  2013      1    1       554             600         -6       812   \n",
       "\n",
       "   sched_arr_time  arr_delay carrier  flight tailnum origin dest  air_time  \\\n",
       "1             819         11      UA    1545  N14228    EWR  IAH       227   \n",
       "2             830         20      UA    1714  N24211    LGA  IAH       227   \n",
       "3             850         33      AA    1141  N619AA    JFK  MIA       160   \n",
       "4            1022        -18      B6     725  N804JB    JFK  BQN       183   \n",
       "5             837        -25      DL     461  N668DN    LGA  ATL       116   \n",
       "\n",
       "   distance  hour  minute            time_hour  \n",
       "1      1400     5      15  2013-01-01 05:00:00  \n",
       "2      1416     5      29  2013-01-01 05:00:00  \n",
       "3      1089     5      40  2013-01-01 05:00:00  \n",
       "4      1576     5      45  2013-01-01 05:00:00  \n",
       "5       762     6       0  2013-01-01 06:00:00  "
      ]
     },
     "execution_count": 24,
     "metadata": {},
     "output_type": "execute_result"
    }
   ],
   "source": [
    "df.head()"
   ]
  },
  {
   "attachments": {},
   "cell_type": "markdown",
   "metadata": {},
   "source": [
    "Let's do some column data type conversion. Remember, some of the columns are mistakenly \"recognized\" as numeric type and should be converted to either string (object) or category."
   ]
  },
  {
   "cell_type": "code",
   "execution_count": 25,
   "metadata": {},
   "outputs": [],
   "source": [
    "# df.loc[:, 'flight'] = df.loc[:, 'flight'].astype('object')"
   ]
  },
  {
   "cell_type": "code",
   "execution_count": 26,
   "metadata": {},
   "outputs": [],
   "source": [
    "df = df.astype({'flight': 'string'})"
   ]
  },
  {
   "cell_type": "code",
   "execution_count": 27,
   "metadata": {},
   "outputs": [
    {
     "data": {
      "text/html": [
       "<div>\n",
       "<style scoped>\n",
       "    .dataframe tbody tr th:only-of-type {\n",
       "        vertical-align: middle;\n",
       "    }\n",
       "\n",
       "    .dataframe tbody tr th {\n",
       "        vertical-align: top;\n",
       "    }\n",
       "\n",
       "    .dataframe thead th {\n",
       "        text-align: right;\n",
       "    }\n",
       "</style>\n",
       "<table border=\"1\" class=\"dataframe\">\n",
       "  <thead>\n",
       "    <tr style=\"text-align: right;\">\n",
       "      <th></th>\n",
       "      <th>year</th>\n",
       "      <th>month</th>\n",
       "      <th>day</th>\n",
       "      <th>dep_time</th>\n",
       "      <th>sched_dep_time</th>\n",
       "      <th>dep_delay</th>\n",
       "      <th>arr_time</th>\n",
       "      <th>sched_arr_time</th>\n",
       "      <th>arr_delay</th>\n",
       "      <th>carrier</th>\n",
       "      <th>flight</th>\n",
       "      <th>tailnum</th>\n",
       "      <th>origin</th>\n",
       "      <th>dest</th>\n",
       "      <th>air_time</th>\n",
       "      <th>distance</th>\n",
       "      <th>hour</th>\n",
       "      <th>minute</th>\n",
       "      <th>time_hour</th>\n",
       "    </tr>\n",
       "  </thead>\n",
       "  <tbody>\n",
       "    <tr>\n",
       "      <th>1</th>\n",
       "      <td>2013</td>\n",
       "      <td>1</td>\n",
       "      <td>1</td>\n",
       "      <td>517</td>\n",
       "      <td>515</td>\n",
       "      <td>2</td>\n",
       "      <td>830</td>\n",
       "      <td>819</td>\n",
       "      <td>11</td>\n",
       "      <td>UA</td>\n",
       "      <td>1545</td>\n",
       "      <td>N14228</td>\n",
       "      <td>EWR</td>\n",
       "      <td>IAH</td>\n",
       "      <td>227</td>\n",
       "      <td>1400</td>\n",
       "      <td>5</td>\n",
       "      <td>15</td>\n",
       "      <td>2013-01-01 05:00:00</td>\n",
       "    </tr>\n",
       "    <tr>\n",
       "      <th>2</th>\n",
       "      <td>2013</td>\n",
       "      <td>1</td>\n",
       "      <td>1</td>\n",
       "      <td>533</td>\n",
       "      <td>529</td>\n",
       "      <td>4</td>\n",
       "      <td>850</td>\n",
       "      <td>830</td>\n",
       "      <td>20</td>\n",
       "      <td>UA</td>\n",
       "      <td>1714</td>\n",
       "      <td>N24211</td>\n",
       "      <td>LGA</td>\n",
       "      <td>IAH</td>\n",
       "      <td>227</td>\n",
       "      <td>1416</td>\n",
       "      <td>5</td>\n",
       "      <td>29</td>\n",
       "      <td>2013-01-01 05:00:00</td>\n",
       "    </tr>\n",
       "    <tr>\n",
       "      <th>3</th>\n",
       "      <td>2013</td>\n",
       "      <td>1</td>\n",
       "      <td>1</td>\n",
       "      <td>542</td>\n",
       "      <td>540</td>\n",
       "      <td>2</td>\n",
       "      <td>923</td>\n",
       "      <td>850</td>\n",
       "      <td>33</td>\n",
       "      <td>AA</td>\n",
       "      <td>1141</td>\n",
       "      <td>N619AA</td>\n",
       "      <td>JFK</td>\n",
       "      <td>MIA</td>\n",
       "      <td>160</td>\n",
       "      <td>1089</td>\n",
       "      <td>5</td>\n",
       "      <td>40</td>\n",
       "      <td>2013-01-01 05:00:00</td>\n",
       "    </tr>\n",
       "    <tr>\n",
       "      <th>4</th>\n",
       "      <td>2013</td>\n",
       "      <td>1</td>\n",
       "      <td>1</td>\n",
       "      <td>544</td>\n",
       "      <td>545</td>\n",
       "      <td>-1</td>\n",
       "      <td>1004</td>\n",
       "      <td>1022</td>\n",
       "      <td>-18</td>\n",
       "      <td>B6</td>\n",
       "      <td>725</td>\n",
       "      <td>N804JB</td>\n",
       "      <td>JFK</td>\n",
       "      <td>BQN</td>\n",
       "      <td>183</td>\n",
       "      <td>1576</td>\n",
       "      <td>5</td>\n",
       "      <td>45</td>\n",
       "      <td>2013-01-01 05:00:00</td>\n",
       "    </tr>\n",
       "    <tr>\n",
       "      <th>5</th>\n",
       "      <td>2013</td>\n",
       "      <td>1</td>\n",
       "      <td>1</td>\n",
       "      <td>554</td>\n",
       "      <td>600</td>\n",
       "      <td>-6</td>\n",
       "      <td>812</td>\n",
       "      <td>837</td>\n",
       "      <td>-25</td>\n",
       "      <td>DL</td>\n",
       "      <td>461</td>\n",
       "      <td>N668DN</td>\n",
       "      <td>LGA</td>\n",
       "      <td>ATL</td>\n",
       "      <td>116</td>\n",
       "      <td>762</td>\n",
       "      <td>6</td>\n",
       "      <td>0</td>\n",
       "      <td>2013-01-01 06:00:00</td>\n",
       "    </tr>\n",
       "  </tbody>\n",
       "</table>\n",
       "</div>"
      ],
      "text/plain": [
       "   year  month  day  dep_time  sched_dep_time  dep_delay  arr_time  \\\n",
       "1  2013      1    1       517             515          2       830   \n",
       "2  2013      1    1       533             529          4       850   \n",
       "3  2013      1    1       542             540          2       923   \n",
       "4  2013      1    1       544             545         -1      1004   \n",
       "5  2013      1    1       554             600         -6       812   \n",
       "\n",
       "   sched_arr_time  arr_delay carrier flight tailnum origin dest  air_time  \\\n",
       "1             819         11      UA   1545  N14228    EWR  IAH       227   \n",
       "2             830         20      UA   1714  N24211    LGA  IAH       227   \n",
       "3             850         33      AA   1141  N619AA    JFK  MIA       160   \n",
       "4            1022        -18      B6    725  N804JB    JFK  BQN       183   \n",
       "5             837        -25      DL    461  N668DN    LGA  ATL       116   \n",
       "\n",
       "   distance  hour  minute            time_hour  \n",
       "1      1400     5      15  2013-01-01 05:00:00  \n",
       "2      1416     5      29  2013-01-01 05:00:00  \n",
       "3      1089     5      40  2013-01-01 05:00:00  \n",
       "4      1576     5      45  2013-01-01 05:00:00  \n",
       "5       762     6       0  2013-01-01 06:00:00  "
      ]
     },
     "execution_count": 27,
     "metadata": {},
     "output_type": "execute_result"
    }
   ],
   "source": [
    "df.head()"
   ]
  },
  {
   "cell_type": "code",
   "execution_count": 28,
   "metadata": {},
   "outputs": [
    {
     "name": "stdout",
     "output_type": "stream",
     "text": [
      "<class 'pandas.core.frame.DataFrame'>\n",
      "Int64Index: 327346 entries, 1 to 336770\n",
      "Data columns (total 19 columns):\n",
      " #   Column          Non-Null Count   Dtype \n",
      "---  ------          --------------   ----- \n",
      " 0   year            327346 non-null  Int64 \n",
      " 1   month           327346 non-null  Int64 \n",
      " 2   day             327346 non-null  Int64 \n",
      " 3   dep_time        327346 non-null  Int64 \n",
      " 4   sched_dep_time  327346 non-null  Int64 \n",
      " 5   dep_delay       327346 non-null  Int64 \n",
      " 6   arr_time        327346 non-null  Int64 \n",
      " 7   sched_arr_time  327346 non-null  Int64 \n",
      " 8   arr_delay       327346 non-null  Int64 \n",
      " 9   carrier         327346 non-null  string\n",
      " 10  flight          327346 non-null  string\n",
      " 11  tailnum         327346 non-null  string\n",
      " 12  origin          327346 non-null  string\n",
      " 13  dest            327346 non-null  string\n",
      " 14  air_time        327346 non-null  Int64 \n",
      " 15  distance        327346 non-null  Int64 \n",
      " 16  hour            327346 non-null  Int64 \n",
      " 17  minute          327346 non-null  Int64 \n",
      " 18  time_hour       327346 non-null  string\n",
      "dtypes: Int64(13), string(6)\n",
      "memory usage: 54.0 MB\n"
     ]
    }
   ],
   "source": [
    "df.info()"
   ]
  },
  {
   "cell_type": "markdown",
   "metadata": {},
   "source": [
    "Let's quickly see if there are duplicate rows. This is is also very important."
   ]
  },
  {
   "cell_type": "code",
   "execution_count": 29,
   "metadata": {},
   "outputs": [
    {
     "data": {
      "text/plain": [
       "False"
      ]
     },
     "execution_count": 29,
     "metadata": {},
     "output_type": "execute_result"
    }
   ],
   "source": [
    "df.duplicated().any()"
   ]
  },
  {
   "cell_type": "markdown",
   "metadata": {},
   "source": [
    "Now we are ready to do some data exploration!"
   ]
  },
  {
   "attachments": {},
   "cell_type": "markdown",
   "metadata": {},
   "source": [
    "### Data Exploration"
   ]
  },
  {
   "attachments": {},
   "cell_type": "markdown",
   "metadata": {},
   "source": [
    "We already had some practice with visualizing the data from `pd.DataFrame`. Remember:"
   ]
  },
  {
   "cell_type": "code",
   "execution_count": 30,
   "metadata": {},
   "outputs": [
    {
     "data": {
      "image/png": "[encoded data removed]",
      "text/plain": [
       "<Figure size 640x480 with 1 Axes>"
      ]
     },
     "metadata": {},
     "output_type": "display_data"
    }
   ],
   "source": [
    "df['carrier'].value_counts().plot(kind='barh', title='Number of flights per carrier');"
   ]
  },
  {
   "attachments": {},
   "cell_type": "markdown",
   "metadata": {},
   "source": [
    "Even though this approach is quick and easy, it is used mostly for simple visuals. It also uses `matplotlib` library for drawing the elements on the image.\n",
    "\n",
    "There are many ways you can use `matplotlib` and draw desired visuals, and also many libraries that use `matplotlib` as a base, while adding more user friendly methods. One of which is `seaborn` that we are going to use too. \n",
    "\n",
    "But first, let's discuss some beginner steps with using `matplotlib`.\n",
    "\n",
    "When trying to draw (plot) a chart using `matplotlib`, everything is organized in one `Figure`. There are many parts of the figure, and most important ones are depicted on the next image (officialy from `matplotlib` site):\n",
    "\n",
    "![](matplotlib_figure_parts.png)"
   ]
  },
  {
   "attachments": {},
   "cell_type": "markdown",
   "metadata": {},
   "source": [
    "Nothing beats practice. Let's plot the example of exponential function."
   ]
  },
  {
   "cell_type": "code",
   "execution_count": 31,
   "metadata": {},
   "outputs": [],
   "source": [
    "x = np.linspace(0, 50, 101)\n",
    "y = x**2"
   ]
  },
  {
   "cell_type": "code",
   "execution_count": 32,
   "metadata": {},
   "outputs": [
    {
     "data": {
      "image/png": "[encoded data removed]",
      "text/plain": [
       "<Figure size 640x480 with 1 Axes>"
      ]
     },
     "metadata": {},
     "output_type": "display_data"
    }
   ],
   "source": [
    "fig, ax = plt.subplots()\n",
    "ax.plot(x, y)\n",
    "plt.show();"
   ]
  },
  {
   "attachments": {},
   "cell_type": "markdown",
   "metadata": {},
   "source": [
    "Can we do it even simpler? Yes!"
   ]
  },
  {
   "cell_type": "code",
   "execution_count": 33,
   "metadata": {},
   "outputs": [
    {
     "name": "stderr",
     "output_type": "stream",
     "text": [
      "/tmp/ipykernel_171625/83080198.py:2: RuntimeWarning: divide by zero encountered in log\n",
      "  ax.plot(x, np.log(x))\n"
     ]
    },
    {
     "data": {
      "image/png": "[encoded data removed]",
      "text/plain": [
       "<Figure size 640x480 with 1 Axes>"
      ]
     },
     "metadata": {},
     "output_type": "display_data"
    }
   ],
   "source": [
    "fig, ax = plt.subplots()\n",
    "ax.plot(x, np.log(x))\n",
    "plt.show();"
   ]
  },
  {
   "attachments": {},
   "cell_type": "markdown",
   "metadata": {},
   "source": [
    "Watch out! `log(0)` is undefined. Make sure of what you are doing. \n",
    "\n",
    "What about if `x` is in range (-50, 50)?\n",
    "\n",
    "And what if we ommit calling `plt.show()`? "
   ]
  },
  {
   "cell_type": "code",
   "execution_count": 34,
   "metadata": {},
   "outputs": [],
   "source": [
    "x = np.linspace(-50, 50, 100)"
   ]
  },
  {
   "cell_type": "code",
   "execution_count": 35,
   "metadata": {},
   "outputs": [
    {
     "data": {
      "image/png": "[encoded data removed]",
      "text/plain": [
       "<Figure size 640x480 with 1 Axes>"
      ]
     },
     "metadata": {},
     "output_type": "display_data"
    }
   ],
   "source": [
    "fig, ax = plt.subplots()\n",
    "\n",
    "ax.plot(x, x**2);"
   ]
  },
  {
   "attachments": {},
   "cell_type": "markdown",
   "metadata": {},
   "source": [
    "From these examples it is evident that:\n",
    "- we first have to create `Figure` and the `Axes` objects. Figure holds every part of the drawing. \n",
    "- `Axes` holds every part of the graph (charting area), and this includes \"coordinate system\", multiple `Axis` (2, 3), x and y labels, ticks, grid, etc.\n",
    "- We use `ax` instance of `Axes` object, and call it's `plot` method that is plotting the line of our function.\n"
   ]
  },
  {
   "attachments": {},
   "cell_type": "markdown",
   "metadata": {},
   "source": [
    "![](matplotlib_figure_parts.png)"
   ]
  },
  {
   "attachments": {},
   "cell_type": "markdown",
   "metadata": {},
   "source": [
    "Like the official `matplotlib` figure shows:\n",
    "- `Axis` are what defines \"coordinate\" system. Most of the time we will be working with 2D charts, so we will have X and Y axis.\n",
    "- `Axis` hold axis labels, minor and major ticks.\n",
    "- `Axis` also has it's title, legend, grid and spines.\n",
    "\n",
    "\n",
    "Let's see how this is plotted and let's use our data."
   ]
  },
  {
   "cell_type": "code",
   "execution_count": 36,
   "metadata": {},
   "outputs": [
    {
     "data": {
      "text/html": [
       "<div>\n",
       "<style scoped>\n",
       "    .dataframe tbody tr th:only-of-type {\n",
       "        vertical-align: middle;\n",
       "    }\n",
       "\n",
       "    .dataframe tbody tr th {\n",
       "        vertical-align: top;\n",
       "    }\n",
       "\n",
       "    .dataframe thead th {\n",
       "        text-align: right;\n",
       "    }\n",
       "</style>\n",
       "<table border=\"1\" class=\"dataframe\">\n",
       "  <thead>\n",
       "    <tr style=\"text-align: right;\">\n",
       "      <th></th>\n",
       "      <th>year</th>\n",
       "      <th>month</th>\n",
       "      <th>day</th>\n",
       "      <th>dep_time</th>\n",
       "      <th>sched_dep_time</th>\n",
       "      <th>dep_delay</th>\n",
       "      <th>arr_time</th>\n",
       "      <th>sched_arr_time</th>\n",
       "      <th>arr_delay</th>\n",
       "      <th>carrier</th>\n",
       "      <th>flight</th>\n",
       "      <th>tailnum</th>\n",
       "      <th>origin</th>\n",
       "      <th>dest</th>\n",
       "      <th>air_time</th>\n",
       "      <th>distance</th>\n",
       "      <th>hour</th>\n",
       "      <th>minute</th>\n",
       "      <th>time_hour</th>\n",
       "    </tr>\n",
       "  </thead>\n",
       "  <tbody>\n",
       "    <tr>\n",
       "      <th>1</th>\n",
       "      <td>2013</td>\n",
       "      <td>1</td>\n",
       "      <td>1</td>\n",
       "      <td>517</td>\n",
       "      <td>515</td>\n",
       "      <td>2</td>\n",
       "      <td>830</td>\n",
       "      <td>819</td>\n",
       "      <td>11</td>\n",
       "      <td>UA</td>\n",
       "      <td>1545</td>\n",
       "      <td>N14228</td>\n",
       "      <td>EWR</td>\n",
       "      <td>IAH</td>\n",
       "      <td>227</td>\n",
       "      <td>1400</td>\n",
       "      <td>5</td>\n",
       "      <td>15</td>\n",
       "      <td>2013-01-01 05:00:00</td>\n",
       "    </tr>\n",
       "    <tr>\n",
       "      <th>2</th>\n",
       "      <td>2013</td>\n",
       "      <td>1</td>\n",
       "      <td>1</td>\n",
       "      <td>533</td>\n",
       "      <td>529</td>\n",
       "      <td>4</td>\n",
       "      <td>850</td>\n",
       "      <td>830</td>\n",
       "      <td>20</td>\n",
       "      <td>UA</td>\n",
       "      <td>1714</td>\n",
       "      <td>N24211</td>\n",
       "      <td>LGA</td>\n",
       "      <td>IAH</td>\n",
       "      <td>227</td>\n",
       "      <td>1416</td>\n",
       "      <td>5</td>\n",
       "      <td>29</td>\n",
       "      <td>2013-01-01 05:00:00</td>\n",
       "    </tr>\n",
       "    <tr>\n",
       "      <th>3</th>\n",
       "      <td>2013</td>\n",
       "      <td>1</td>\n",
       "      <td>1</td>\n",
       "      <td>542</td>\n",
       "      <td>540</td>\n",
       "      <td>2</td>\n",
       "      <td>923</td>\n",
       "      <td>850</td>\n",
       "      <td>33</td>\n",
       "      <td>AA</td>\n",
       "      <td>1141</td>\n",
       "      <td>N619AA</td>\n",
       "      <td>JFK</td>\n",
       "      <td>MIA</td>\n",
       "      <td>160</td>\n",
       "      <td>1089</td>\n",
       "      <td>5</td>\n",
       "      <td>40</td>\n",
       "      <td>2013-01-01 05:00:00</td>\n",
       "    </tr>\n",
       "    <tr>\n",
       "      <th>4</th>\n",
       "      <td>2013</td>\n",
       "      <td>1</td>\n",
       "      <td>1</td>\n",
       "      <td>544</td>\n",
       "      <td>545</td>\n",
       "      <td>-1</td>\n",
       "      <td>1004</td>\n",
       "      <td>1022</td>\n",
       "      <td>-18</td>\n",
       "      <td>B6</td>\n",
       "      <td>725</td>\n",
       "      <td>N804JB</td>\n",
       "      <td>JFK</td>\n",
       "      <td>BQN</td>\n",
       "      <td>183</td>\n",
       "      <td>1576</td>\n",
       "      <td>5</td>\n",
       "      <td>45</td>\n",
       "      <td>2013-01-01 05:00:00</td>\n",
       "    </tr>\n",
       "    <tr>\n",
       "      <th>5</th>\n",
       "      <td>2013</td>\n",
       "      <td>1</td>\n",
       "      <td>1</td>\n",
       "      <td>554</td>\n",
       "      <td>600</td>\n",
       "      <td>-6</td>\n",
       "      <td>812</td>\n",
       "      <td>837</td>\n",
       "      <td>-25</td>\n",
       "      <td>DL</td>\n",
       "      <td>461</td>\n",
       "      <td>N668DN</td>\n",
       "      <td>LGA</td>\n",
       "      <td>ATL</td>\n",
       "      <td>116</td>\n",
       "      <td>762</td>\n",
       "      <td>6</td>\n",
       "      <td>0</td>\n",
       "      <td>2013-01-01 06:00:00</td>\n",
       "    </tr>\n",
       "  </tbody>\n",
       "</table>\n",
       "</div>"
      ],
      "text/plain": [
       "   year  month  day  dep_time  sched_dep_time  dep_delay  arr_time  \\\n",
       "1  2013      1    1       517             515          2       830   \n",
       "2  2013      1    1       533             529          4       850   \n",
       "3  2013      1    1       542             540          2       923   \n",
       "4  2013      1    1       544             545         -1      1004   \n",
       "5  2013      1    1       554             600         -6       812   \n",
       "\n",
       "   sched_arr_time  arr_delay carrier flight tailnum origin dest  air_time  \\\n",
       "1             819         11      UA   1545  N14228    EWR  IAH       227   \n",
       "2             830         20      UA   1714  N24211    LGA  IAH       227   \n",
       "3             850         33      AA   1141  N619AA    JFK  MIA       160   \n",
       "4            1022        -18      B6    725  N804JB    JFK  BQN       183   \n",
       "5             837        -25      DL    461  N668DN    LGA  ATL       116   \n",
       "\n",
       "   distance  hour  minute            time_hour  \n",
       "1      1400     5      15  2013-01-01 05:00:00  \n",
       "2      1416     5      29  2013-01-01 05:00:00  \n",
       "3      1089     5      40  2013-01-01 05:00:00  \n",
       "4      1576     5      45  2013-01-01 05:00:00  \n",
       "5       762     6       0  2013-01-01 06:00:00  "
      ]
     },
     "execution_count": 36,
     "metadata": {},
     "output_type": "execute_result"
    }
   ],
   "source": [
    "df.head()"
   ]
  },
  {
   "attachments": {},
   "cell_type": "markdown",
   "metadata": {},
   "source": [
    "Let's plot the number of flights per each carrier."
   ]
  },
  {
   "cell_type": "code",
   "execution_count": 37,
   "metadata": {},
   "outputs": [
    {
     "data": {
      "text/html": [
       "<div>\n",
       "<style scoped>\n",
       "    .dataframe tbody tr th:only-of-type {\n",
       "        vertical-align: middle;\n",
       "    }\n",
       "\n",
       "    .dataframe tbody tr th {\n",
       "        vertical-align: top;\n",
       "    }\n",
       "\n",
       "    .dataframe thead th {\n",
       "        text-align: right;\n",
       "    }\n",
       "</style>\n",
       "<table border=\"1\" class=\"dataframe\">\n",
       "  <thead>\n",
       "    <tr style=\"text-align: right;\">\n",
       "      <th></th>\n",
       "      <th>carrier</th>\n",
       "      <th>no_of_flights</th>\n",
       "    </tr>\n",
       "  </thead>\n",
       "  <tbody>\n",
       "    <tr>\n",
       "      <th>0</th>\n",
       "      <td>UA</td>\n",
       "      <td>57782</td>\n",
       "    </tr>\n",
       "    <tr>\n",
       "      <th>1</th>\n",
       "      <td>B6</td>\n",
       "      <td>54049</td>\n",
       "    </tr>\n",
       "    <tr>\n",
       "      <th>2</th>\n",
       "      <td>EV</td>\n",
       "      <td>51108</td>\n",
       "    </tr>\n",
       "    <tr>\n",
       "      <th>3</th>\n",
       "      <td>DL</td>\n",
       "      <td>47658</td>\n",
       "    </tr>\n",
       "    <tr>\n",
       "      <th>4</th>\n",
       "      <td>AA</td>\n",
       "      <td>31947</td>\n",
       "    </tr>\n",
       "    <tr>\n",
       "      <th>5</th>\n",
       "      <td>MQ</td>\n",
       "      <td>25037</td>\n",
       "    </tr>\n",
       "    <tr>\n",
       "      <th>6</th>\n",
       "      <td>US</td>\n",
       "      <td>19831</td>\n",
       "    </tr>\n",
       "    <tr>\n",
       "      <th>7</th>\n",
       "      <td>9E</td>\n",
       "      <td>17294</td>\n",
       "    </tr>\n",
       "    <tr>\n",
       "      <th>8</th>\n",
       "      <td>WN</td>\n",
       "      <td>12044</td>\n",
       "    </tr>\n",
       "    <tr>\n",
       "      <th>9</th>\n",
       "      <td>VX</td>\n",
       "      <td>5116</td>\n",
       "    </tr>\n",
       "    <tr>\n",
       "      <th>10</th>\n",
       "      <td>FL</td>\n",
       "      <td>3175</td>\n",
       "    </tr>\n",
       "    <tr>\n",
       "      <th>11</th>\n",
       "      <td>AS</td>\n",
       "      <td>709</td>\n",
       "    </tr>\n",
       "    <tr>\n",
       "      <th>12</th>\n",
       "      <td>F9</td>\n",
       "      <td>681</td>\n",
       "    </tr>\n",
       "    <tr>\n",
       "      <th>13</th>\n",
       "      <td>YV</td>\n",
       "      <td>544</td>\n",
       "    </tr>\n",
       "    <tr>\n",
       "      <th>14</th>\n",
       "      <td>HA</td>\n",
       "      <td>342</td>\n",
       "    </tr>\n",
       "    <tr>\n",
       "      <th>15</th>\n",
       "      <td>OO</td>\n",
       "      <td>29</td>\n",
       "    </tr>\n",
       "  </tbody>\n",
       "</table>\n",
       "</div>"
      ],
      "text/plain": [
       "   carrier  no_of_flights\n",
       "0       UA          57782\n",
       "1       B6          54049\n",
       "2       EV          51108\n",
       "3       DL          47658\n",
       "4       AA          31947\n",
       "5       MQ          25037\n",
       "6       US          19831\n",
       "7       9E          17294\n",
       "8       WN          12044\n",
       "9       VX           5116\n",
       "10      FL           3175\n",
       "11      AS            709\n",
       "12      F9            681\n",
       "13      YV            544\n",
       "14      HA            342\n",
       "15      OO             29"
      ]
     },
     "execution_count": 37,
     "metadata": {},
     "output_type": "execute_result"
    }
   ],
   "source": [
    "_df = df['carrier'].value_counts().reset_index().rename(columns={'index': 'carrier', 'carrier': 'no_of_flights'})\n",
    "\n",
    "_df "
   ]
  },
  {
   "cell_type": "code",
   "execution_count": 38,
   "metadata": {},
   "outputs": [
    {
     "data": {
      "image/png": "[encoded data removed]",
      "text/plain": [
       "<Figure size 640x480 with 1 Axes>"
      ]
     },
     "metadata": {},
     "output_type": "display_data"
    }
   ],
   "source": [
    "fig, ax = plt.subplots()\n",
    "ax.barh(y='carrier', width='no_of_flights', data=_df)\n",
    "ax.set_title('Number of flights per each carrier', size=20, pad=20)\n",
    "ax.grid(alpha=.5)\n",
    "ax.invert_yaxis() # attention!\n"
   ]
  },
  {
   "attachments": {},
   "cell_type": "markdown",
   "metadata": {},
   "source": [
    "But what about if we want to plot bars vertically? Not a problem. It is easy, just pay attention to change the arguments accordingly."
   ]
  },
  {
   "cell_type": "code",
   "execution_count": 39,
   "metadata": {},
   "outputs": [
    {
     "data": {
      "image/png": "[encoded data removed]",
      "text/plain": [
       "<Figure size 640x480 with 1 Axes>"
      ]
     },
     "metadata": {},
     "output_type": "display_data"
    }
   ],
   "source": [
    "fig, ax = plt.subplots()\n",
    "ax.bar(x='carrier', height='no_of_flights', data=_df)\n",
    "ax.set_title('Number of flights per each carrier', size=20, pad=20)\n",
    "ax.grid(alpha=.5)\n",
    "ax.set_xlabel('Carrier')\n",
    "ax.set_ylabel('# of flights');\n"
   ]
  },
  {
   "cell_type": "code",
   "execution_count": 40,
   "metadata": {},
   "outputs": [
    {
     "data": {
      "text/html": [
       "<div>\n",
       "<style scoped>\n",
       "    .dataframe tbody tr th:only-of-type {\n",
       "        vertical-align: middle;\n",
       "    }\n",
       "\n",
       "    .dataframe tbody tr th {\n",
       "        vertical-align: top;\n",
       "    }\n",
       "\n",
       "    .dataframe thead th {\n",
       "        text-align: right;\n",
       "    }\n",
       "</style>\n",
       "<table border=\"1\" class=\"dataframe\">\n",
       "  <thead>\n",
       "    <tr style=\"text-align: right;\">\n",
       "      <th></th>\n",
       "      <th>year</th>\n",
       "      <th>month</th>\n",
       "      <th>day</th>\n",
       "      <th>dep_time</th>\n",
       "      <th>sched_dep_time</th>\n",
       "      <th>dep_delay</th>\n",
       "      <th>arr_time</th>\n",
       "      <th>sched_arr_time</th>\n",
       "      <th>arr_delay</th>\n",
       "      <th>carrier</th>\n",
       "      <th>flight</th>\n",
       "      <th>tailnum</th>\n",
       "      <th>origin</th>\n",
       "      <th>dest</th>\n",
       "      <th>air_time</th>\n",
       "      <th>distance</th>\n",
       "      <th>hour</th>\n",
       "      <th>minute</th>\n",
       "      <th>time_hour</th>\n",
       "    </tr>\n",
       "  </thead>\n",
       "  <tbody>\n",
       "    <tr>\n",
       "      <th>1</th>\n",
       "      <td>2013</td>\n",
       "      <td>1</td>\n",
       "      <td>1</td>\n",
       "      <td>517</td>\n",
       "      <td>515</td>\n",
       "      <td>2</td>\n",
       "      <td>830</td>\n",
       "      <td>819</td>\n",
       "      <td>11</td>\n",
       "      <td>UA</td>\n",
       "      <td>1545</td>\n",
       "      <td>N14228</td>\n",
       "      <td>EWR</td>\n",
       "      <td>IAH</td>\n",
       "      <td>227</td>\n",
       "      <td>1400</td>\n",
       "      <td>5</td>\n",
       "      <td>15</td>\n",
       "      <td>2013-01-01 05:00:00</td>\n",
       "    </tr>\n",
       "    <tr>\n",
       "      <th>2</th>\n",
       "      <td>2013</td>\n",
       "      <td>1</td>\n",
       "      <td>1</td>\n",
       "      <td>533</td>\n",
       "      <td>529</td>\n",
       "      <td>4</td>\n",
       "      <td>850</td>\n",
       "      <td>830</td>\n",
       "      <td>20</td>\n",
       "      <td>UA</td>\n",
       "      <td>1714</td>\n",
       "      <td>N24211</td>\n",
       "      <td>LGA</td>\n",
       "      <td>IAH</td>\n",
       "      <td>227</td>\n",
       "      <td>1416</td>\n",
       "      <td>5</td>\n",
       "      <td>29</td>\n",
       "      <td>2013-01-01 05:00:00</td>\n",
       "    </tr>\n",
       "    <tr>\n",
       "      <th>3</th>\n",
       "      <td>2013</td>\n",
       "      <td>1</td>\n",
       "      <td>1</td>\n",
       "      <td>542</td>\n",
       "      <td>540</td>\n",
       "      <td>2</td>\n",
       "      <td>923</td>\n",
       "      <td>850</td>\n",
       "      <td>33</td>\n",
       "      <td>AA</td>\n",
       "      <td>1141</td>\n",
       "      <td>N619AA</td>\n",
       "      <td>JFK</td>\n",
       "      <td>MIA</td>\n",
       "      <td>160</td>\n",
       "      <td>1089</td>\n",
       "      <td>5</td>\n",
       "      <td>40</td>\n",
       "      <td>2013-01-01 05:00:00</td>\n",
       "    </tr>\n",
       "    <tr>\n",
       "      <th>4</th>\n",
       "      <td>2013</td>\n",
       "      <td>1</td>\n",
       "      <td>1</td>\n",
       "      <td>544</td>\n",
       "      <td>545</td>\n",
       "      <td>-1</td>\n",
       "      <td>1004</td>\n",
       "      <td>1022</td>\n",
       "      <td>-18</td>\n",
       "      <td>B6</td>\n",
       "      <td>725</td>\n",
       "      <td>N804JB</td>\n",
       "      <td>JFK</td>\n",
       "      <td>BQN</td>\n",
       "      <td>183</td>\n",
       "      <td>1576</td>\n",
       "      <td>5</td>\n",
       "      <td>45</td>\n",
       "      <td>2013-01-01 05:00:00</td>\n",
       "    </tr>\n",
       "    <tr>\n",
       "      <th>5</th>\n",
       "      <td>2013</td>\n",
       "      <td>1</td>\n",
       "      <td>1</td>\n",
       "      <td>554</td>\n",
       "      <td>600</td>\n",
       "      <td>-6</td>\n",
       "      <td>812</td>\n",
       "      <td>837</td>\n",
       "      <td>-25</td>\n",
       "      <td>DL</td>\n",
       "      <td>461</td>\n",
       "      <td>N668DN</td>\n",
       "      <td>LGA</td>\n",
       "      <td>ATL</td>\n",
       "      <td>116</td>\n",
       "      <td>762</td>\n",
       "      <td>6</td>\n",
       "      <td>0</td>\n",
       "      <td>2013-01-01 06:00:00</td>\n",
       "    </tr>\n",
       "  </tbody>\n",
       "</table>\n",
       "</div>"
      ],
      "text/plain": [
       "   year  month  day  dep_time  sched_dep_time  dep_delay  arr_time  \\\n",
       "1  2013      1    1       517             515          2       830   \n",
       "2  2013      1    1       533             529          4       850   \n",
       "3  2013      1    1       542             540          2       923   \n",
       "4  2013      1    1       544             545         -1      1004   \n",
       "5  2013      1    1       554             600         -6       812   \n",
       "\n",
       "   sched_arr_time  arr_delay carrier flight tailnum origin dest  air_time  \\\n",
       "1             819         11      UA   1545  N14228    EWR  IAH       227   \n",
       "2             830         20      UA   1714  N24211    LGA  IAH       227   \n",
       "3             850         33      AA   1141  N619AA    JFK  MIA       160   \n",
       "4            1022        -18      B6    725  N804JB    JFK  BQN       183   \n",
       "5             837        -25      DL    461  N668DN    LGA  ATL       116   \n",
       "\n",
       "   distance  hour  minute            time_hour  \n",
       "1      1400     5      15  2013-01-01 05:00:00  \n",
       "2      1416     5      29  2013-01-01 05:00:00  \n",
       "3      1089     5      40  2013-01-01 05:00:00  \n",
       "4      1576     5      45  2013-01-01 05:00:00  \n",
       "5       762     6       0  2013-01-01 06:00:00  "
      ]
     },
     "execution_count": 40,
     "metadata": {},
     "output_type": "execute_result"
    }
   ],
   "source": [
    "df.head()"
   ]
  },
  {
   "attachments": {},
   "cell_type": "markdown",
   "metadata": {},
   "source": [
    "Let's now show the descriptive statistis for columns where this makes sense.\n",
    "\n",
    "These are `air_time`, `distance`, `dep_delay`, `arr_delay`"
   ]
  },
  {
   "cell_type": "code",
   "execution_count": 41,
   "metadata": {},
   "outputs": [
    {
     "data": {
      "text/html": [
       "<div>\n",
       "<style scoped>\n",
       "    .dataframe tbody tr th:only-of-type {\n",
       "        vertical-align: middle;\n",
       "    }\n",
       "\n",
       "    .dataframe tbody tr th {\n",
       "        vertical-align: top;\n",
       "    }\n",
       "\n",
       "    .dataframe thead th {\n",
       "        text-align: right;\n",
       "    }\n",
       "</style>\n",
       "<table border=\"1\" class=\"dataframe\">\n",
       "  <thead>\n",
       "    <tr style=\"text-align: right;\">\n",
       "      <th></th>\n",
       "      <th>air_time</th>\n",
       "      <th>distance</th>\n",
       "      <th>dep_delay</th>\n",
       "      <th>arr_delay</th>\n",
       "    </tr>\n",
       "  </thead>\n",
       "  <tbody>\n",
       "    <tr>\n",
       "      <th>count</th>\n",
       "      <td>327346.000000</td>\n",
       "      <td>327346.000000</td>\n",
       "      <td>327346.000000</td>\n",
       "      <td>327346.000000</td>\n",
       "    </tr>\n",
       "    <tr>\n",
       "      <th>mean</th>\n",
       "      <td>150.686460</td>\n",
       "      <td>1048.371314</td>\n",
       "      <td>12.555156</td>\n",
       "      <td>6.895377</td>\n",
       "    </tr>\n",
       "    <tr>\n",
       "      <th>std</th>\n",
       "      <td>93.688305</td>\n",
       "      <td>735.908523</td>\n",
       "      <td>40.065688</td>\n",
       "      <td>44.633292</td>\n",
       "    </tr>\n",
       "    <tr>\n",
       "      <th>min</th>\n",
       "      <td>20.000000</td>\n",
       "      <td>80.000000</td>\n",
       "      <td>-43.000000</td>\n",
       "      <td>-86.000000</td>\n",
       "    </tr>\n",
       "    <tr>\n",
       "      <th>25%</th>\n",
       "      <td>82.000000</td>\n",
       "      <td>509.000000</td>\n",
       "      <td>-5.000000</td>\n",
       "      <td>-17.000000</td>\n",
       "    </tr>\n",
       "    <tr>\n",
       "      <th>50%</th>\n",
       "      <td>129.000000</td>\n",
       "      <td>888.000000</td>\n",
       "      <td>-2.000000</td>\n",
       "      <td>-5.000000</td>\n",
       "    </tr>\n",
       "    <tr>\n",
       "      <th>75%</th>\n",
       "      <td>192.000000</td>\n",
       "      <td>1389.000000</td>\n",
       "      <td>11.000000</td>\n",
       "      <td>14.000000</td>\n",
       "    </tr>\n",
       "    <tr>\n",
       "      <th>max</th>\n",
       "      <td>695.000000</td>\n",
       "      <td>4983.000000</td>\n",
       "      <td>1301.000000</td>\n",
       "      <td>1272.000000</td>\n",
       "    </tr>\n",
       "  </tbody>\n",
       "</table>\n",
       "</div>"
      ],
      "text/plain": [
       "            air_time       distance      dep_delay      arr_delay\n",
       "count  327346.000000  327346.000000  327346.000000  327346.000000\n",
       "mean      150.686460    1048.371314      12.555156       6.895377\n",
       "std        93.688305     735.908523      40.065688      44.633292\n",
       "min        20.000000      80.000000     -43.000000     -86.000000\n",
       "25%        82.000000     509.000000      -5.000000     -17.000000\n",
       "50%       129.000000     888.000000      -2.000000      -5.000000\n",
       "75%       192.000000    1389.000000      11.000000      14.000000\n",
       "max       695.000000    4983.000000    1301.000000    1272.000000"
      ]
     },
     "execution_count": 41,
     "metadata": {},
     "output_type": "execute_result"
    }
   ],
   "source": [
    "df[['air_time', 'distance', 'dep_delay', 'arr_delay']].describe()"
   ]
  },
  {
   "attachments": {},
   "cell_type": "markdown",
   "metadata": {},
   "source": [
    "If you remember, we already used **box plots** for depicting some of these descriptive statistics. Let's use it for `air_time`."
   ]
  },
  {
   "cell_type": "code",
   "execution_count": 42,
   "metadata": {},
   "outputs": [
    {
     "data": {
      "image/png": "[encoded data removed]",
      "text/plain": [
       "<Figure size 640x480 with 1 Axes>"
      ]
     },
     "metadata": {},
     "output_type": "display_data"
    }
   ],
   "source": [
    "fig, ax = plt.subplots()\n",
    "\n",
    "ax.boxplot(df['air_time']);\n",
    "ax.grid(alpha=.3)\n",
    "ax.set_title('Boxplot for air_time column.', size=20, pad=20);"
   ]
  },
  {
   "attachments": {},
   "cell_type": "markdown",
   "metadata": {},
   "source": [
    "What about we draw it horizontally, and make figure a bit wider?"
   ]
  },
  {
   "cell_type": "code",
   "execution_count": 43,
   "metadata": {},
   "outputs": [
    {
     "data": {
      "image/png": "[encoded data removed]",
      "text/plain": [
       "<Figure size 1500x400 with 1 Axes>"
      ]
     },
     "metadata": {},
     "output_type": "display_data"
    }
   ],
   "source": [
    "fig, ax = plt.subplots(figsize=(15, 4))\n",
    "\n",
    "ax.boxplot(df['air_time'], vert=False);\n",
    "ax.grid(alpha=.3)\n",
    "ax.set_title('Boxplot for air_time column.', size=20, pad=20)\n",
    "ax.set_xticks(np.arange(0, df.air_time.max()+20, 20));\n",
    "ax.set_ylabel('air_time')\n",
    "ax.set_yticks([]);"
   ]
  },
  {
   "cell_type": "code",
   "execution_count": 44,
   "metadata": {},
   "outputs": [
    {
     "data": {
      "text/plain": [
       "count    327346.000000\n",
       "mean        150.686460\n",
       "std          93.688305\n",
       "min          20.000000\n",
       "25%          82.000000\n",
       "50%         129.000000\n",
       "75%         192.000000\n",
       "max         695.000000\n",
       "Name: air_time, dtype: float64"
      ]
     },
     "execution_count": 44,
     "metadata": {},
     "output_type": "execute_result"
    }
   ],
   "source": [
    "df.air_time.describe()"
   ]
  },
  {
   "attachments": {},
   "cell_type": "markdown",
   "metadata": {},
   "source": [
    "Let's go over each of these:\n",
    "- count speaks for itself,\n",
    "- mean is the arithmetic mean of the values in `air_time` column. It's the sum of all values divided by the count."
   ]
  },
  {
   "cell_type": "code",
   "execution_count": 45,
   "metadata": {},
   "outputs": [
    {
     "data": {
      "text/plain": [
       "150.68646019807787"
      ]
     },
     "execution_count": 45,
     "metadata": {},
     "output_type": "execute_result"
    }
   ],
   "source": [
    "df.air_time.sum() / len(df)"
   ]
  },
  {
   "attachments": {},
   "cell_type": "markdown",
   "metadata": {},
   "source": [
    "- std is standard deviation of the sample (our data is just the sample!).\n",
    "\n",
    "\n",
    "Remember, the standard deviation is the measure of dispersion and for the population is:\n",
    "\n",
    "$$\\sigma = \\sqrt{\\frac{\\sum_{i=1}^{n}{(x_i - \\mu)^2}}{n}}$$\n",
    "\n",
    "where $\\mu$ is the population mean, n is the population size.\n",
    "\n",
    "However the standard deviation for the sample is:\n",
    "\n",
    "$$\\sigma = \\sqrt{\\frac{\\sum_{i=1}^{N}{(x_i - M)^2}}{N - 1}}$$\n",
    "\n",
    "where M is the sample mean, and N is the sample size."
   ]
  },
  {
   "cell_type": "code",
   "execution_count": 46,
   "metadata": {},
   "outputs": [],
   "source": [
    "def sample_dispersion(values, correction=True):\n",
    "    nominator = np.sum((values - np.mean(values))**2)\n",
    "    if correction is True:\n",
    "        denominator = len(values) - 1\n",
    "    else:\n",
    "        denominator = len(values)\n",
    "    return np.sqrt(nominator/denominator)"
   ]
  },
  {
   "cell_type": "code",
   "execution_count": 47,
   "metadata": {},
   "outputs": [
    {
     "data": {
      "text/plain": [
       "count    327346.000000\n",
       "mean        150.686460\n",
       "std          93.688305\n",
       "min          20.000000\n",
       "25%          82.000000\n",
       "50%         129.000000\n",
       "75%         192.000000\n",
       "max         695.000000\n",
       "Name: air_time, dtype: float64"
      ]
     },
     "execution_count": 47,
     "metadata": {},
     "output_type": "execute_result"
    }
   ],
   "source": [
    "df.air_time.describe()"
   ]
  },
  {
   "cell_type": "code",
   "execution_count": 48,
   "metadata": {},
   "outputs": [
    {
     "data": {
      "text/plain": [
       "93.6883046590099"
      ]
     },
     "execution_count": 48,
     "metadata": {},
     "output_type": "execute_result"
    }
   ],
   "source": [
    "sample_dispersion(df.air_time, correction=True)"
   ]
  },
  {
   "cell_type": "code",
   "execution_count": 49,
   "metadata": {},
   "outputs": [
    {
     "data": {
      "text/plain": [
       "93.68816155602985"
      ]
     },
     "execution_count": 49,
     "metadata": {},
     "output_type": "execute_result"
    }
   ],
   "source": [
    "np.std(df.air_time)"
   ]
  },
  {
   "cell_type": "code",
   "execution_count": 50,
   "metadata": {},
   "outputs": [
    {
     "data": {
      "text/plain": [
       "93.68816155602985"
      ]
     },
     "execution_count": 50,
     "metadata": {},
     "output_type": "execute_result"
    }
   ],
   "source": [
    "sample_dispersion(df.air_time, correction=False)"
   ]
  },
  {
   "cell_type": "code",
   "execution_count": 51,
   "metadata": {},
   "outputs": [
    {
     "data": {
      "text/plain": [
       "93.68816155602985"
      ]
     },
     "execution_count": 51,
     "metadata": {},
     "output_type": "execute_result"
    }
   ],
   "source": [
    "np.std(df.air_time, ddof=0)"
   ]
  },
  {
   "attachments": {},
   "cell_type": "markdown",
   "metadata": {},
   "source": [
    "The **N-1** in denominator is the correction. You can interpret it in couple of ways. Simple one would be that we introduce penalty for small samples. More rigorous interpretation is related to standard deviation being biased if just **N** is used. This has to do with degrees of freedom. And this is exactly what we have been tweaking with `ddof` parameter in `np.std`. Pay attention, Pandas `describe` method is taking this correction into account when producting value for standard deviation of our sample. "
   ]
  },
  {
   "attachments": {},
   "cell_type": "markdown",
   "metadata": {},
   "source": [
    "The rest of the descriptive statistics is:\n",
    "- `min` and `max`, which is obvious, and\n",
    "- quartiles given with `25%`, `50%` and `75%`.\n",
    "\n",
    "Okay, so to start talking about quartiles, we shall first go into explaining what quantiles are.\n",
    "\n",
    "Quantiles are values that split sorted data or a probability distribution into equal parts.\n",
    "\n",
    " The most commonly used quantiles have special names:\n",
    "- **Quartiles (4-quantiles)**: Three quartiles split the data into four parts.\n",
    "- **Deciles (10-quantiles)**: Nine deciles split the data into 10 parts.\n",
    "- **Percentiles (100-quantiles)**: 99 percentiles split the data into 100 parts.\n",
    "\n",
    "So, quartiles divide numerical data into 4 quarters, so that each quarter is the same size. \n",
    "- 1st quartile's value divides data so that it is bigger than 25% of data and smaller from 75%. \n",
    "- 2nd quartile divides data into equal parts (50% or the median). \n",
    "- 3rd quartile divides data so that 75% of the data is smaller and 25% of the data is bigger in value from it.\n",
    "\n",
    "\n",
    "Let's say you have an array of values:"
   ]
  },
  {
   "cell_type": "code",
   "execution_count": 52,
   "metadata": {},
   "outputs": [],
   "source": [
    "_arr = np.array([1,2,5,6,4,2,6,7,10,3])"
   ]
  },
  {
   "attachments": {},
   "cell_type": "markdown",
   "metadata": {},
   "source": [
    "How do we get quartiles? We use NumPy's `quantile` method. Second argument is the list are the splitting points. Let's see the example:"
   ]
  },
  {
   "cell_type": "code",
   "execution_count": 53,
   "metadata": {},
   "outputs": [
    {
     "data": {
      "text/plain": [
       "array([2.25, 4.5 , 6.  ])"
      ]
     },
     "execution_count": 53,
     "metadata": {},
     "output_type": "execute_result"
    }
   ],
   "source": [
    "np.quantile(_arr, q=[.25, .5, .75])"
   ]
  },
  {
   "attachments": {},
   "cell_type": "markdown",
   "metadata": {},
   "source": [
    "Why this is so important? Well, there are 3 main measures of central tendency:\n",
    "- mean,\n",
    "- median,\n",
    "- mode.\n",
    "\n",
    "Each of these gives just a part of the perspective when looking at the distribution of the data.\n",
    "\n",
    "Let's go back to our `air_time` and see the values of these measures."
   ]
  },
  {
   "cell_type": "code",
   "execution_count": 54,
   "metadata": {},
   "outputs": [
    {
     "data": {
      "text/plain": [
       "count    327346.000000\n",
       "mean        150.686460\n",
       "std          93.688305\n",
       "min          20.000000\n",
       "25%          82.000000\n",
       "50%         129.000000\n",
       "75%         192.000000\n",
       "max         695.000000\n",
       "Name: air_time, dtype: float64"
      ]
     },
     "execution_count": 54,
     "metadata": {},
     "output_type": "execute_result"
    }
   ],
   "source": [
    "df.air_time.describe()"
   ]
  },
  {
   "cell_type": "code",
   "execution_count": 55,
   "metadata": {},
   "outputs": [],
   "source": [
    "_air_time_mean = np.mean(df.air_time)\n",
    "_air_time_median = np.median(df.air_time)"
   ]
  },
  {
   "cell_type": "code",
   "execution_count": 56,
   "metadata": {},
   "outputs": [
    {
     "data": {
      "image/png": "[encoded data removed]",
      "text/plain": [
       "<Figure size 1500x400 with 1 Axes>"
      ]
     },
     "metadata": {},
     "output_type": "display_data"
    }
   ],
   "source": [
    "plt.figure(figsize=(15, 4))\n",
    "plt.boxplot(df['air_time'], vert=False);\n",
    "plt.grid(alpha=.3)\n",
    "plt.title('Boxplot for air_time column.', size=20, pad=20)\n",
    "plt.xticks(np.arange(0, df.air_time.max()+20, 20));\n",
    "plt.ylabel('air_time')\n",
    "plt.yticks([]);\n",
    "\n",
    "# lets draw the mean and median\n",
    "ymin, ymax = plt.gca().get_ylim()\n",
    "plt.vlines(x=[_air_time_mean], ymin=ymin, ymax=ymax, color='red', label='mean')\n",
    "plt.vlines(x=[_air_time_median], ymin=ymin, ymax=ymax, color='green', label='median')\n",
    "\n",
    "# plot the legend\n",
    "plt.legend(framealpha=.0);"
   ]
  },
  {
   "attachments": {},
   "cell_type": "markdown",
   "metadata": {},
   "source": [
    "Mode is specific in a way that it shows the most repetitive value in the data. When we are talking about nominal and ordinal variables, this is possible. However, doing this for a other types of variables is not possible. This is why we will use `mode` on a different example later. "
   ]
  },
  {
   "attachments": {},
   "cell_type": "markdown",
   "metadata": {},
   "source": [
    "Let's try to view distribution of the `air_time` column.\n",
    "\n",
    "Let's try putting both graphs in the same figure."
   ]
  },
  {
   "cell_type": "code",
   "execution_count": 57,
   "metadata": {},
   "outputs": [],
   "source": [
    "_air_time_mean = np.mean(df.air_time)\n",
    "_air_time_median = np.median(df.air_time)"
   ]
  },
  {
   "cell_type": "code",
   "execution_count": 58,
   "metadata": {},
   "outputs": [
    {
     "data": {
      "image/png": "[encoded data removed]",
      "text/plain": [
       "<Figure size 1500x500 with 2 Axes>"
      ]
     },
     "metadata": {},
     "output_type": "display_data"
    }
   ],
   "source": [
    "# we have to take figure and axes\n",
    "fig, axes = plt.subplots(ncols=1, nrows=2, figsize=(15, 5), sharex=True)\n",
    "\n",
    "# flatten for easier indexing\n",
    "axes = axes.flatten()\n",
    "\n",
    "# plotting first chart\n",
    "axes[0].hist(df.air_time, bins=200, alpha=.3)\n",
    "axes[0].set_title('Distribution of air_time.', size=20, pad=20)\n",
    "axes[0].grid(alpha=.3)\n",
    "\n",
    "ymin, ymax = axes[0].get_ylim()\n",
    "axes[0].vlines(x=[_air_time_mean], ymin=ymin, ymax=ymax, color='red', label='mean')\n",
    "axes[0].vlines(x=[_air_time_median], ymin=ymin, ymax=ymax, color='green', label='median')\n",
    "axes[0].legend(framealpha=.0);\n",
    "\n",
    "# plotting second chart\n",
    "axes[1].boxplot(df['air_time'], vert=False);\n",
    "axes[1].grid(alpha=.3)\n",
    "axes[1].set_xlabel('air_time')\n",
    "axes[1].set_xticks(np.arange(0, df.air_time.max()+20, 20));\n",
    "axes[1].set_yticks([]);\n",
    "\n",
    "ymin, ymax = axes[1].get_ylim()\n",
    "axes[1].vlines(x=[_air_time_mean], ymin=ymin, ymax=ymax, color='red', label='mean')\n",
    "axes[1].vlines(x=[_air_time_median], ymin=ymin, ymax=ymax, color='green', label='median')\n",
    "axes[1].legend(framealpha=.0);"
   ]
  },
  {
   "cell_type": "code",
   "execution_count": 59,
   "metadata": {},
   "outputs": [
    {
     "data": {
      "text/html": [
       "<div>\n",
       "<style scoped>\n",
       "    .dataframe tbody tr th:only-of-type {\n",
       "        vertical-align: middle;\n",
       "    }\n",
       "\n",
       "    .dataframe tbody tr th {\n",
       "        vertical-align: top;\n",
       "    }\n",
       "\n",
       "    .dataframe thead th {\n",
       "        text-align: right;\n",
       "    }\n",
       "</style>\n",
       "<table border=\"1\" class=\"dataframe\">\n",
       "  <thead>\n",
       "    <tr style=\"text-align: right;\">\n",
       "      <th></th>\n",
       "      <th>year</th>\n",
       "      <th>month</th>\n",
       "      <th>day</th>\n",
       "      <th>dep_time</th>\n",
       "      <th>sched_dep_time</th>\n",
       "      <th>dep_delay</th>\n",
       "      <th>arr_time</th>\n",
       "      <th>sched_arr_time</th>\n",
       "      <th>arr_delay</th>\n",
       "      <th>carrier</th>\n",
       "      <th>flight</th>\n",
       "      <th>tailnum</th>\n",
       "      <th>origin</th>\n",
       "      <th>dest</th>\n",
       "      <th>air_time</th>\n",
       "      <th>distance</th>\n",
       "      <th>hour</th>\n",
       "      <th>minute</th>\n",
       "      <th>time_hour</th>\n",
       "    </tr>\n",
       "  </thead>\n",
       "  <tbody>\n",
       "    <tr>\n",
       "      <th>1</th>\n",
       "      <td>2013</td>\n",
       "      <td>1</td>\n",
       "      <td>1</td>\n",
       "      <td>517</td>\n",
       "      <td>515</td>\n",
       "      <td>2</td>\n",
       "      <td>830</td>\n",
       "      <td>819</td>\n",
       "      <td>11</td>\n",
       "      <td>UA</td>\n",
       "      <td>1545</td>\n",
       "      <td>N14228</td>\n",
       "      <td>EWR</td>\n",
       "      <td>IAH</td>\n",
       "      <td>227</td>\n",
       "      <td>1400</td>\n",
       "      <td>5</td>\n",
       "      <td>15</td>\n",
       "      <td>2013-01-01 05:00:00</td>\n",
       "    </tr>\n",
       "    <tr>\n",
       "      <th>2</th>\n",
       "      <td>2013</td>\n",
       "      <td>1</td>\n",
       "      <td>1</td>\n",
       "      <td>533</td>\n",
       "      <td>529</td>\n",
       "      <td>4</td>\n",
       "      <td>850</td>\n",
       "      <td>830</td>\n",
       "      <td>20</td>\n",
       "      <td>UA</td>\n",
       "      <td>1714</td>\n",
       "      <td>N24211</td>\n",
       "      <td>LGA</td>\n",
       "      <td>IAH</td>\n",
       "      <td>227</td>\n",
       "      <td>1416</td>\n",
       "      <td>5</td>\n",
       "      <td>29</td>\n",
       "      <td>2013-01-01 05:00:00</td>\n",
       "    </tr>\n",
       "    <tr>\n",
       "      <th>3</th>\n",
       "      <td>2013</td>\n",
       "      <td>1</td>\n",
       "      <td>1</td>\n",
       "      <td>542</td>\n",
       "      <td>540</td>\n",
       "      <td>2</td>\n",
       "      <td>923</td>\n",
       "      <td>850</td>\n",
       "      <td>33</td>\n",
       "      <td>AA</td>\n",
       "      <td>1141</td>\n",
       "      <td>N619AA</td>\n",
       "      <td>JFK</td>\n",
       "      <td>MIA</td>\n",
       "      <td>160</td>\n",
       "      <td>1089</td>\n",
       "      <td>5</td>\n",
       "      <td>40</td>\n",
       "      <td>2013-01-01 05:00:00</td>\n",
       "    </tr>\n",
       "    <tr>\n",
       "      <th>4</th>\n",
       "      <td>2013</td>\n",
       "      <td>1</td>\n",
       "      <td>1</td>\n",
       "      <td>544</td>\n",
       "      <td>545</td>\n",
       "      <td>-1</td>\n",
       "      <td>1004</td>\n",
       "      <td>1022</td>\n",
       "      <td>-18</td>\n",
       "      <td>B6</td>\n",
       "      <td>725</td>\n",
       "      <td>N804JB</td>\n",
       "      <td>JFK</td>\n",
       "      <td>BQN</td>\n",
       "      <td>183</td>\n",
       "      <td>1576</td>\n",
       "      <td>5</td>\n",
       "      <td>45</td>\n",
       "      <td>2013-01-01 05:00:00</td>\n",
       "    </tr>\n",
       "    <tr>\n",
       "      <th>5</th>\n",
       "      <td>2013</td>\n",
       "      <td>1</td>\n",
       "      <td>1</td>\n",
       "      <td>554</td>\n",
       "      <td>600</td>\n",
       "      <td>-6</td>\n",
       "      <td>812</td>\n",
       "      <td>837</td>\n",
       "      <td>-25</td>\n",
       "      <td>DL</td>\n",
       "      <td>461</td>\n",
       "      <td>N668DN</td>\n",
       "      <td>LGA</td>\n",
       "      <td>ATL</td>\n",
       "      <td>116</td>\n",
       "      <td>762</td>\n",
       "      <td>6</td>\n",
       "      <td>0</td>\n",
       "      <td>2013-01-01 06:00:00</td>\n",
       "    </tr>\n",
       "  </tbody>\n",
       "</table>\n",
       "</div>"
      ],
      "text/plain": [
       "   year  month  day  dep_time  sched_dep_time  dep_delay  arr_time  \\\n",
       "1  2013      1    1       517             515          2       830   \n",
       "2  2013      1    1       533             529          4       850   \n",
       "3  2013      1    1       542             540          2       923   \n",
       "4  2013      1    1       544             545         -1      1004   \n",
       "5  2013      1    1       554             600         -6       812   \n",
       "\n",
       "   sched_arr_time  arr_delay carrier flight tailnum origin dest  air_time  \\\n",
       "1             819         11      UA   1545  N14228    EWR  IAH       227   \n",
       "2             830         20      UA   1714  N24211    LGA  IAH       227   \n",
       "3             850         33      AA   1141  N619AA    JFK  MIA       160   \n",
       "4            1022        -18      B6    725  N804JB    JFK  BQN       183   \n",
       "5             837        -25      DL    461  N668DN    LGA  ATL       116   \n",
       "\n",
       "   distance  hour  minute            time_hour  \n",
       "1      1400     5      15  2013-01-01 05:00:00  \n",
       "2      1416     5      29  2013-01-01 05:00:00  \n",
       "3      1089     5      40  2013-01-01 05:00:00  \n",
       "4      1576     5      45  2013-01-01 05:00:00  \n",
       "5       762     6       0  2013-01-01 06:00:00  "
      ]
     },
     "execution_count": 59,
     "metadata": {},
     "output_type": "execute_result"
    }
   ],
   "source": [
    "df.head()"
   ]
  },
  {
   "cell_type": "code",
   "execution_count": 60,
   "metadata": {},
   "outputs": [
    {
     "data": {
      "image/png": "[encoded data removed]",
      "text/plain": [
       "<Figure size 1500x500 with 1 Axes>"
      ]
     },
     "metadata": {},
     "output_type": "display_data"
    }
   ],
   "source": [
    "plt.figure(figsize=(15, 5))\n",
    "plt.scatter(x=df.distance, y=df.air_time, s=1, alpha=.2)\n",
    "plt.xlabel('distance')\n",
    "plt.ylabel('air_time')\n",
    "plt.title('How distance affects air time.', size=20, pad=20)\n",
    "plt.grid(alpha=.3)\n",
    "plt.xticks(np.arange(0, df.distance.max()+20, 250));\n"
   ]
  },
  {
   "attachments": {},
   "cell_type": "markdown",
   "metadata": {},
   "source": [
    "Who would say, distance between place of departure and arrival does affect the time in air!\n",
    "\n",
    "Obviously there are some big distance flights. Shall we take a look at these?"
   ]
  },
  {
   "cell_type": "code",
   "execution_count": 61,
   "metadata": {},
   "outputs": [
    {
     "data": {
      "text/html": [
       "<div>\n",
       "<style scoped>\n",
       "    .dataframe tbody tr th:only-of-type {\n",
       "        vertical-align: middle;\n",
       "    }\n",
       "\n",
       "    .dataframe tbody tr th {\n",
       "        vertical-align: top;\n",
       "    }\n",
       "\n",
       "    .dataframe thead th {\n",
       "        text-align: right;\n",
       "    }\n",
       "</style>\n",
       "<table border=\"1\" class=\"dataframe\">\n",
       "  <thead>\n",
       "    <tr style=\"text-align: right;\">\n",
       "      <th></th>\n",
       "      <th>year</th>\n",
       "      <th>month</th>\n",
       "      <th>day</th>\n",
       "      <th>dep_time</th>\n",
       "      <th>sched_dep_time</th>\n",
       "      <th>dep_delay</th>\n",
       "      <th>arr_time</th>\n",
       "      <th>sched_arr_time</th>\n",
       "      <th>arr_delay</th>\n",
       "      <th>carrier</th>\n",
       "      <th>flight</th>\n",
       "      <th>tailnum</th>\n",
       "      <th>origin</th>\n",
       "      <th>dest</th>\n",
       "      <th>air_time</th>\n",
       "      <th>distance</th>\n",
       "      <th>hour</th>\n",
       "      <th>minute</th>\n",
       "      <th>time_hour</th>\n",
       "    </tr>\n",
       "  </thead>\n",
       "  <tbody>\n",
       "    <tr>\n",
       "      <th>163</th>\n",
       "      <td>2013</td>\n",
       "      <td>1</td>\n",
       "      <td>1</td>\n",
       "      <td>857</td>\n",
       "      <td>900</td>\n",
       "      <td>-3</td>\n",
       "      <td>1516</td>\n",
       "      <td>1530</td>\n",
       "      <td>-14</td>\n",
       "      <td>HA</td>\n",
       "      <td>51</td>\n",
       "      <td>N380HA</td>\n",
       "      <td>JFK</td>\n",
       "      <td>HNL</td>\n",
       "      <td>659</td>\n",
       "      <td>4983</td>\n",
       "      <td>9</td>\n",
       "      <td>0</td>\n",
       "      <td>2013-01-01 09:00:00</td>\n",
       "    </tr>\n",
       "    <tr>\n",
       "      <th>380</th>\n",
       "      <td>2013</td>\n",
       "      <td>1</td>\n",
       "      <td>1</td>\n",
       "      <td>1344</td>\n",
       "      <td>1344</td>\n",
       "      <td>0</td>\n",
       "      <td>2005</td>\n",
       "      <td>1944</td>\n",
       "      <td>21</td>\n",
       "      <td>UA</td>\n",
       "      <td>15</td>\n",
       "      <td>N76065</td>\n",
       "      <td>EWR</td>\n",
       "      <td>HNL</td>\n",
       "      <td>656</td>\n",
       "      <td>4963</td>\n",
       "      <td>13</td>\n",
       "      <td>44</td>\n",
       "      <td>2013-01-01 13:00:00</td>\n",
       "    </tr>\n",
       "    <tr>\n",
       "      <th>1074</th>\n",
       "      <td>2013</td>\n",
       "      <td>1</td>\n",
       "      <td>2</td>\n",
       "      <td>909</td>\n",
       "      <td>900</td>\n",
       "      <td>9</td>\n",
       "      <td>1525</td>\n",
       "      <td>1530</td>\n",
       "      <td>-5</td>\n",
       "      <td>HA</td>\n",
       "      <td>51</td>\n",
       "      <td>N380HA</td>\n",
       "      <td>JFK</td>\n",
       "      <td>HNL</td>\n",
       "      <td>638</td>\n",
       "      <td>4983</td>\n",
       "      <td>9</td>\n",
       "      <td>0</td>\n",
       "      <td>2013-01-02 09:00:00</td>\n",
       "    </tr>\n",
       "    <tr>\n",
       "      <th>1294</th>\n",
       "      <td>2013</td>\n",
       "      <td>1</td>\n",
       "      <td>2</td>\n",
       "      <td>1344</td>\n",
       "      <td>1344</td>\n",
       "      <td>0</td>\n",
       "      <td>1940</td>\n",
       "      <td>1944</td>\n",
       "      <td>-4</td>\n",
       "      <td>UA</td>\n",
       "      <td>15</td>\n",
       "      <td>N77066</td>\n",
       "      <td>EWR</td>\n",
       "      <td>HNL</td>\n",
       "      <td>634</td>\n",
       "      <td>4963</td>\n",
       "      <td>13</td>\n",
       "      <td>44</td>\n",
       "      <td>2013-01-02 13:00:00</td>\n",
       "    </tr>\n",
       "    <tr>\n",
       "      <th>2019</th>\n",
       "      <td>2013</td>\n",
       "      <td>1</td>\n",
       "      <td>3</td>\n",
       "      <td>914</td>\n",
       "      <td>900</td>\n",
       "      <td>14</td>\n",
       "      <td>1504</td>\n",
       "      <td>1530</td>\n",
       "      <td>-26</td>\n",
       "      <td>HA</td>\n",
       "      <td>51</td>\n",
       "      <td>N380HA</td>\n",
       "      <td>JFK</td>\n",
       "      <td>HNL</td>\n",
       "      <td>616</td>\n",
       "      <td>4983</td>\n",
       "      <td>9</td>\n",
       "      <td>0</td>\n",
       "      <td>2013-01-03 09:00:00</td>\n",
       "    </tr>\n",
       "    <tr>\n",
       "      <th>...</th>\n",
       "      <td>...</td>\n",
       "      <td>...</td>\n",
       "      <td>...</td>\n",
       "      <td>...</td>\n",
       "      <td>...</td>\n",
       "      <td>...</td>\n",
       "      <td>...</td>\n",
       "      <td>...</td>\n",
       "      <td>...</td>\n",
       "      <td>...</td>\n",
       "      <td>...</td>\n",
       "      <td>...</td>\n",
       "      <td>...</td>\n",
       "      <td>...</td>\n",
       "      <td>...</td>\n",
       "      <td>...</td>\n",
       "      <td>...</td>\n",
       "      <td>...</td>\n",
       "      <td>...</td>\n",
       "    </tr>\n",
       "    <tr>\n",
       "      <th>334537</th>\n",
       "      <td>2013</td>\n",
       "      <td>9</td>\n",
       "      <td>28</td>\n",
       "      <td>1327</td>\n",
       "      <td>1329</td>\n",
       "      <td>-2</td>\n",
       "      <td>1710</td>\n",
       "      <td>1813</td>\n",
       "      <td>-63</td>\n",
       "      <td>UA</td>\n",
       "      <td>15</td>\n",
       "      <td>N66057</td>\n",
       "      <td>EWR</td>\n",
       "      <td>HNL</td>\n",
       "      <td>562</td>\n",
       "      <td>4963</td>\n",
       "      <td>13</td>\n",
       "      <td>29</td>\n",
       "      <td>2013-09-28 13:00:00</td>\n",
       "    </tr>\n",
       "    <tr>\n",
       "      <th>335096</th>\n",
       "      <td>2013</td>\n",
       "      <td>9</td>\n",
       "      <td>29</td>\n",
       "      <td>957</td>\n",
       "      <td>1000</td>\n",
       "      <td>-3</td>\n",
       "      <td>1405</td>\n",
       "      <td>1445</td>\n",
       "      <td>-40</td>\n",
       "      <td>HA</td>\n",
       "      <td>51</td>\n",
       "      <td>N384HA</td>\n",
       "      <td>JFK</td>\n",
       "      <td>HNL</td>\n",
       "      <td>580</td>\n",
       "      <td>4983</td>\n",
       "      <td>10</td>\n",
       "      <td>0</td>\n",
       "      <td>2013-09-29 10:00:00</td>\n",
       "    </tr>\n",
       "    <tr>\n",
       "      <th>335302</th>\n",
       "      <td>2013</td>\n",
       "      <td>9</td>\n",
       "      <td>29</td>\n",
       "      <td>1420</td>\n",
       "      <td>1329</td>\n",
       "      <td>51</td>\n",
       "      <td>1817</td>\n",
       "      <td>1813</td>\n",
       "      <td>4</td>\n",
       "      <td>UA</td>\n",
       "      <td>15</td>\n",
       "      <td>N66057</td>\n",
       "      <td>EWR</td>\n",
       "      <td>HNL</td>\n",
       "      <td>569</td>\n",
       "      <td>4963</td>\n",
       "      <td>13</td>\n",
       "      <td>29</td>\n",
       "      <td>2013-09-29 13:00:00</td>\n",
       "    </tr>\n",
       "    <tr>\n",
       "      <th>336082</th>\n",
       "      <td>2013</td>\n",
       "      <td>9</td>\n",
       "      <td>30</td>\n",
       "      <td>959</td>\n",
       "      <td>1000</td>\n",
       "      <td>-1</td>\n",
       "      <td>1438</td>\n",
       "      <td>1445</td>\n",
       "      <td>-7</td>\n",
       "      <td>HA</td>\n",
       "      <td>51</td>\n",
       "      <td>N392HA</td>\n",
       "      <td>JFK</td>\n",
       "      <td>HNL</td>\n",
       "      <td>603</td>\n",
       "      <td>4983</td>\n",
       "      <td>10</td>\n",
       "      <td>0</td>\n",
       "      <td>2013-09-30 10:00:00</td>\n",
       "    </tr>\n",
       "    <tr>\n",
       "      <th>336263</th>\n",
       "      <td>2013</td>\n",
       "      <td>9</td>\n",
       "      <td>30</td>\n",
       "      <td>1335</td>\n",
       "      <td>1329</td>\n",
       "      <td>6</td>\n",
       "      <td>1802</td>\n",
       "      <td>1813</td>\n",
       "      <td>-11</td>\n",
       "      <td>UA</td>\n",
       "      <td>15</td>\n",
       "      <td>N76054</td>\n",
       "      <td>EWR</td>\n",
       "      <td>HNL</td>\n",
       "      <td>604</td>\n",
       "      <td>4963</td>\n",
       "      <td>13</td>\n",
       "      <td>29</td>\n",
       "      <td>2013-09-30 13:00:00</td>\n",
       "    </tr>\n",
       "  </tbody>\n",
       "</table>\n",
       "<p>701 rows × 19 columns</p>\n",
       "</div>"
      ],
      "text/plain": [
       "        year  month  day  dep_time  sched_dep_time  dep_delay  arr_time  \\\n",
       "163     2013      1    1       857             900         -3      1516   \n",
       "380     2013      1    1      1344            1344          0      2005   \n",
       "1074    2013      1    2       909             900          9      1525   \n",
       "1294    2013      1    2      1344            1344          0      1940   \n",
       "2019    2013      1    3       914             900         14      1504   \n",
       "...      ...    ...  ...       ...             ...        ...       ...   \n",
       "334537  2013      9   28      1327            1329         -2      1710   \n",
       "335096  2013      9   29       957            1000         -3      1405   \n",
       "335302  2013      9   29      1420            1329         51      1817   \n",
       "336082  2013      9   30       959            1000         -1      1438   \n",
       "336263  2013      9   30      1335            1329          6      1802   \n",
       "\n",
       "        sched_arr_time  arr_delay carrier flight tailnum origin dest  \\\n",
       "163               1530        -14      HA     51  N380HA    JFK  HNL   \n",
       "380               1944         21      UA     15  N76065    EWR  HNL   \n",
       "1074              1530         -5      HA     51  N380HA    JFK  HNL   \n",
       "1294              1944         -4      UA     15  N77066    EWR  HNL   \n",
       "2019              1530        -26      HA     51  N380HA    JFK  HNL   \n",
       "...                ...        ...     ...    ...     ...    ...  ...   \n",
       "334537            1813        -63      UA     15  N66057    EWR  HNL   \n",
       "335096            1445        -40      HA     51  N384HA    JFK  HNL   \n",
       "335302            1813          4      UA     15  N66057    EWR  HNL   \n",
       "336082            1445         -7      HA     51  N392HA    JFK  HNL   \n",
       "336263            1813        -11      UA     15  N76054    EWR  HNL   \n",
       "\n",
       "        air_time  distance  hour  minute            time_hour  \n",
       "163          659      4983     9       0  2013-01-01 09:00:00  \n",
       "380          656      4963    13      44  2013-01-01 13:00:00  \n",
       "1074         638      4983     9       0  2013-01-02 09:00:00  \n",
       "1294         634      4963    13      44  2013-01-02 13:00:00  \n",
       "2019         616      4983     9       0  2013-01-03 09:00:00  \n",
       "...          ...       ...   ...     ...                  ...  \n",
       "334537       562      4963    13      29  2013-09-28 13:00:00  \n",
       "335096       580      4983    10       0  2013-09-29 10:00:00  \n",
       "335302       569      4963    13      29  2013-09-29 13:00:00  \n",
       "336082       603      4983    10       0  2013-09-30 10:00:00  \n",
       "336263       604      4963    13      29  2013-09-30 13:00:00  \n",
       "\n",
       "[701 rows x 19 columns]"
      ]
     },
     "execution_count": 61,
     "metadata": {},
     "output_type": "execute_result"
    }
   ],
   "source": [
    "df[df.distance > 4000]"
   ]
  },
  {
   "cell_type": "code",
   "execution_count": 62,
   "metadata": {},
   "outputs": [
    {
     "data": {
      "text/plain": [
       "True"
      ]
     },
     "execution_count": 62,
     "metadata": {},
     "output_type": "execute_result"
    }
   ],
   "source": [
    "df[df.distance > 4000].apply(lambda x: 'HNL' in x['origin'] or 'HNL' in x['dest'], axis=1).all()"
   ]
  },
  {
   "attachments": {},
   "cell_type": "markdown",
   "metadata": {},
   "source": [
    "These flights are all to Honolulu or from Honoluly airport. Makes sense.\n",
    "\n",
    "Let's see what is the distribution of flight times to and from HNL airport, if the other airport is JFK in NYC. \n",
    "\n",
    "First, let's see how many flights is there on this relation, grouped by the place of departure."
   ]
  },
  {
   "cell_type": "code",
   "execution_count": 63,
   "metadata": {},
   "outputs": [
    {
     "data": {
      "text/html": [
       "<div>\n",
       "<style scoped>\n",
       "    .dataframe tbody tr th:only-of-type {\n",
       "        vertical-align: middle;\n",
       "    }\n",
       "\n",
       "    .dataframe tbody tr th {\n",
       "        vertical-align: top;\n",
       "    }\n",
       "\n",
       "    .dataframe thead th {\n",
       "        text-align: right;\n",
       "    }\n",
       "</style>\n",
       "<table border=\"1\" class=\"dataframe\">\n",
       "  <thead>\n",
       "    <tr style=\"text-align: right;\">\n",
       "      <th></th>\n",
       "      <th>origin</th>\n",
       "      <th>dest</th>\n",
       "      <th>no_of_flights</th>\n",
       "    </tr>\n",
       "  </thead>\n",
       "  <tbody>\n",
       "    <tr>\n",
       "      <th>31</th>\n",
       "      <td>EWR</td>\n",
       "      <td>HNL</td>\n",
       "      <td>359</td>\n",
       "    </tr>\n",
       "    <tr>\n",
       "      <th>108</th>\n",
       "      <td>JFK</td>\n",
       "      <td>HNL</td>\n",
       "      <td>342</td>\n",
       "    </tr>\n",
       "  </tbody>\n",
       "</table>\n",
       "</div>"
      ],
      "text/plain": [
       "    origin dest  no_of_flights\n",
       "31     EWR  HNL            359\n",
       "108    JFK  HNL            342"
      ]
     },
     "execution_count": 63,
     "metadata": {},
     "output_type": "execute_result"
    }
   ],
   "source": [
    "(df.groupby(['origin', 'dest'])['air_time']\n",
    "   .count()\n",
    "   .reset_index()\n",
    "   .rename(columns={'air_time': 'no_of_flights'})\n",
    "   .query('origin == \"HNL\" | dest == \"HNL\"'))"
   ]
  },
  {
   "attachments": {},
   "cell_type": "markdown",
   "metadata": {},
   "source": [
    "Strange, there is no flights departing from HNL airport. Okay, let's view the distribution of air time for flights from JFK to HNL.\n"
   ]
  },
  {
   "cell_type": "code",
   "execution_count": 64,
   "metadata": {},
   "outputs": [
    {
     "data": {
      "text/html": [
       "<div>\n",
       "<style scoped>\n",
       "    .dataframe tbody tr th:only-of-type {\n",
       "        vertical-align: middle;\n",
       "    }\n",
       "\n",
       "    .dataframe tbody tr th {\n",
       "        vertical-align: top;\n",
       "    }\n",
       "\n",
       "    .dataframe thead th {\n",
       "        text-align: right;\n",
       "    }\n",
       "</style>\n",
       "<table border=\"1\" class=\"dataframe\">\n",
       "  <thead>\n",
       "    <tr style=\"text-align: right;\">\n",
       "      <th></th>\n",
       "      <th>year</th>\n",
       "      <th>month</th>\n",
       "      <th>day</th>\n",
       "      <th>dep_time</th>\n",
       "      <th>sched_dep_time</th>\n",
       "      <th>dep_delay</th>\n",
       "      <th>arr_time</th>\n",
       "      <th>sched_arr_time</th>\n",
       "      <th>arr_delay</th>\n",
       "      <th>carrier</th>\n",
       "      <th>flight</th>\n",
       "      <th>tailnum</th>\n",
       "      <th>origin</th>\n",
       "      <th>dest</th>\n",
       "      <th>air_time</th>\n",
       "      <th>distance</th>\n",
       "      <th>hour</th>\n",
       "      <th>minute</th>\n",
       "      <th>time_hour</th>\n",
       "    </tr>\n",
       "  </thead>\n",
       "  <tbody>\n",
       "    <tr>\n",
       "      <th>163</th>\n",
       "      <td>2013</td>\n",
       "      <td>1</td>\n",
       "      <td>1</td>\n",
       "      <td>857</td>\n",
       "      <td>900</td>\n",
       "      <td>-3</td>\n",
       "      <td>1516</td>\n",
       "      <td>1530</td>\n",
       "      <td>-14</td>\n",
       "      <td>HA</td>\n",
       "      <td>51</td>\n",
       "      <td>N380HA</td>\n",
       "      <td>JFK</td>\n",
       "      <td>HNL</td>\n",
       "      <td>659</td>\n",
       "      <td>4983</td>\n",
       "      <td>9</td>\n",
       "      <td>0</td>\n",
       "      <td>2013-01-01 09:00:00</td>\n",
       "    </tr>\n",
       "    <tr>\n",
       "      <th>1074</th>\n",
       "      <td>2013</td>\n",
       "      <td>1</td>\n",
       "      <td>2</td>\n",
       "      <td>909</td>\n",
       "      <td>900</td>\n",
       "      <td>9</td>\n",
       "      <td>1525</td>\n",
       "      <td>1530</td>\n",
       "      <td>-5</td>\n",
       "      <td>HA</td>\n",
       "      <td>51</td>\n",
       "      <td>N380HA</td>\n",
       "      <td>JFK</td>\n",
       "      <td>HNL</td>\n",
       "      <td>638</td>\n",
       "      <td>4983</td>\n",
       "      <td>9</td>\n",
       "      <td>0</td>\n",
       "      <td>2013-01-02 09:00:00</td>\n",
       "    </tr>\n",
       "    <tr>\n",
       "      <th>2019</th>\n",
       "      <td>2013</td>\n",
       "      <td>1</td>\n",
       "      <td>3</td>\n",
       "      <td>914</td>\n",
       "      <td>900</td>\n",
       "      <td>14</td>\n",
       "      <td>1504</td>\n",
       "      <td>1530</td>\n",
       "      <td>-26</td>\n",
       "      <td>HA</td>\n",
       "      <td>51</td>\n",
       "      <td>N380HA</td>\n",
       "      <td>JFK</td>\n",
       "      <td>HNL</td>\n",
       "      <td>616</td>\n",
       "      <td>4983</td>\n",
       "      <td>9</td>\n",
       "      <td>0</td>\n",
       "      <td>2013-01-03 09:00:00</td>\n",
       "    </tr>\n",
       "    <tr>\n",
       "      <th>2923</th>\n",
       "      <td>2013</td>\n",
       "      <td>1</td>\n",
       "      <td>4</td>\n",
       "      <td>900</td>\n",
       "      <td>900</td>\n",
       "      <td>0</td>\n",
       "      <td>1516</td>\n",
       "      <td>1530</td>\n",
       "      <td>-14</td>\n",
       "      <td>HA</td>\n",
       "      <td>51</td>\n",
       "      <td>N384HA</td>\n",
       "      <td>JFK</td>\n",
       "      <td>HNL</td>\n",
       "      <td>639</td>\n",
       "      <td>4983</td>\n",
       "      <td>9</td>\n",
       "      <td>0</td>\n",
       "      <td>2013-01-04 09:00:00</td>\n",
       "    </tr>\n",
       "    <tr>\n",
       "      <th>3792</th>\n",
       "      <td>2013</td>\n",
       "      <td>1</td>\n",
       "      <td>5</td>\n",
       "      <td>858</td>\n",
       "      <td>900</td>\n",
       "      <td>-2</td>\n",
       "      <td>1519</td>\n",
       "      <td>1530</td>\n",
       "      <td>-11</td>\n",
       "      <td>HA</td>\n",
       "      <td>51</td>\n",
       "      <td>N381HA</td>\n",
       "      <td>JFK</td>\n",
       "      <td>HNL</td>\n",
       "      <td>635</td>\n",
       "      <td>4983</td>\n",
       "      <td>9</td>\n",
       "      <td>0</td>\n",
       "      <td>2013-01-05 09:00:00</td>\n",
       "    </tr>\n",
       "    <tr>\n",
       "      <th>...</th>\n",
       "      <td>...</td>\n",
       "      <td>...</td>\n",
       "      <td>...</td>\n",
       "      <td>...</td>\n",
       "      <td>...</td>\n",
       "      <td>...</td>\n",
       "      <td>...</td>\n",
       "      <td>...</td>\n",
       "      <td>...</td>\n",
       "      <td>...</td>\n",
       "      <td>...</td>\n",
       "      <td>...</td>\n",
       "      <td>...</td>\n",
       "      <td>...</td>\n",
       "      <td>...</td>\n",
       "      <td>...</td>\n",
       "      <td>...</td>\n",
       "      <td>...</td>\n",
       "      <td>...</td>\n",
       "    </tr>\n",
       "    <tr>\n",
       "      <th>331507</th>\n",
       "      <td>2013</td>\n",
       "      <td>9</td>\n",
       "      <td>25</td>\n",
       "      <td>1001</td>\n",
       "      <td>1000</td>\n",
       "      <td>1</td>\n",
       "      <td>1508</td>\n",
       "      <td>1445</td>\n",
       "      <td>23</td>\n",
       "      <td>HA</td>\n",
       "      <td>51</td>\n",
       "      <td>N389HA</td>\n",
       "      <td>JFK</td>\n",
       "      <td>HNL</td>\n",
       "      <td>636</td>\n",
       "      <td>4983</td>\n",
       "      <td>10</td>\n",
       "      <td>0</td>\n",
       "      <td>2013-09-25 10:00:00</td>\n",
       "    </tr>\n",
       "    <tr>\n",
       "      <th>333479</th>\n",
       "      <td>2013</td>\n",
       "      <td>9</td>\n",
       "      <td>27</td>\n",
       "      <td>951</td>\n",
       "      <td>1000</td>\n",
       "      <td>-9</td>\n",
       "      <td>1442</td>\n",
       "      <td>1445</td>\n",
       "      <td>-3</td>\n",
       "      <td>HA</td>\n",
       "      <td>51</td>\n",
       "      <td>N390HA</td>\n",
       "      <td>JFK</td>\n",
       "      <td>HNL</td>\n",
       "      <td>629</td>\n",
       "      <td>4983</td>\n",
       "      <td>10</td>\n",
       "      <td>0</td>\n",
       "      <td>2013-09-27 10:00:00</td>\n",
       "    </tr>\n",
       "    <tr>\n",
       "      <th>334407</th>\n",
       "      <td>2013</td>\n",
       "      <td>9</td>\n",
       "      <td>28</td>\n",
       "      <td>955</td>\n",
       "      <td>1000</td>\n",
       "      <td>-5</td>\n",
       "      <td>1412</td>\n",
       "      <td>1445</td>\n",
       "      <td>-33</td>\n",
       "      <td>HA</td>\n",
       "      <td>51</td>\n",
       "      <td>N391HA</td>\n",
       "      <td>JFK</td>\n",
       "      <td>HNL</td>\n",
       "      <td>584</td>\n",
       "      <td>4983</td>\n",
       "      <td>10</td>\n",
       "      <td>0</td>\n",
       "      <td>2013-09-28 10:00:00</td>\n",
       "    </tr>\n",
       "    <tr>\n",
       "      <th>335096</th>\n",
       "      <td>2013</td>\n",
       "      <td>9</td>\n",
       "      <td>29</td>\n",
       "      <td>957</td>\n",
       "      <td>1000</td>\n",
       "      <td>-3</td>\n",
       "      <td>1405</td>\n",
       "      <td>1445</td>\n",
       "      <td>-40</td>\n",
       "      <td>HA</td>\n",
       "      <td>51</td>\n",
       "      <td>N384HA</td>\n",
       "      <td>JFK</td>\n",
       "      <td>HNL</td>\n",
       "      <td>580</td>\n",
       "      <td>4983</td>\n",
       "      <td>10</td>\n",
       "      <td>0</td>\n",
       "      <td>2013-09-29 10:00:00</td>\n",
       "    </tr>\n",
       "    <tr>\n",
       "      <th>336082</th>\n",
       "      <td>2013</td>\n",
       "      <td>9</td>\n",
       "      <td>30</td>\n",
       "      <td>959</td>\n",
       "      <td>1000</td>\n",
       "      <td>-1</td>\n",
       "      <td>1438</td>\n",
       "      <td>1445</td>\n",
       "      <td>-7</td>\n",
       "      <td>HA</td>\n",
       "      <td>51</td>\n",
       "      <td>N392HA</td>\n",
       "      <td>JFK</td>\n",
       "      <td>HNL</td>\n",
       "      <td>603</td>\n",
       "      <td>4983</td>\n",
       "      <td>10</td>\n",
       "      <td>0</td>\n",
       "      <td>2013-09-30 10:00:00</td>\n",
       "    </tr>\n",
       "  </tbody>\n",
       "</table>\n",
       "<p>342 rows × 19 columns</p>\n",
       "</div>"
      ],
      "text/plain": [
       "        year  month  day  dep_time  sched_dep_time  dep_delay  arr_time  \\\n",
       "163     2013      1    1       857             900         -3      1516   \n",
       "1074    2013      1    2       909             900          9      1525   \n",
       "2019    2013      1    3       914             900         14      1504   \n",
       "2923    2013      1    4       900             900          0      1516   \n",
       "3792    2013      1    5       858             900         -2      1519   \n",
       "...      ...    ...  ...       ...             ...        ...       ...   \n",
       "331507  2013      9   25      1001            1000          1      1508   \n",
       "333479  2013      9   27       951            1000         -9      1442   \n",
       "334407  2013      9   28       955            1000         -5      1412   \n",
       "335096  2013      9   29       957            1000         -3      1405   \n",
       "336082  2013      9   30       959            1000         -1      1438   \n",
       "\n",
       "        sched_arr_time  arr_delay carrier flight tailnum origin dest  \\\n",
       "163               1530        -14      HA     51  N380HA    JFK  HNL   \n",
       "1074              1530         -5      HA     51  N380HA    JFK  HNL   \n",
       "2019              1530        -26      HA     51  N380HA    JFK  HNL   \n",
       "2923              1530        -14      HA     51  N384HA    JFK  HNL   \n",
       "3792              1530        -11      HA     51  N381HA    JFK  HNL   \n",
       "...                ...        ...     ...    ...     ...    ...  ...   \n",
       "331507            1445         23      HA     51  N389HA    JFK  HNL   \n",
       "333479            1445         -3      HA     51  N390HA    JFK  HNL   \n",
       "334407            1445        -33      HA     51  N391HA    JFK  HNL   \n",
       "335096            1445        -40      HA     51  N384HA    JFK  HNL   \n",
       "336082            1445         -7      HA     51  N392HA    JFK  HNL   \n",
       "\n",
       "        air_time  distance  hour  minute            time_hour  \n",
       "163          659      4983     9       0  2013-01-01 09:00:00  \n",
       "1074         638      4983     9       0  2013-01-02 09:00:00  \n",
       "2019         616      4983     9       0  2013-01-03 09:00:00  \n",
       "2923         639      4983     9       0  2013-01-04 09:00:00  \n",
       "3792         635      4983     9       0  2013-01-05 09:00:00  \n",
       "...          ...       ...   ...     ...                  ...  \n",
       "331507       636      4983    10       0  2013-09-25 10:00:00  \n",
       "333479       629      4983    10       0  2013-09-27 10:00:00  \n",
       "334407       584      4983    10       0  2013-09-28 10:00:00  \n",
       "335096       580      4983    10       0  2013-09-29 10:00:00  \n",
       "336082       603      4983    10       0  2013-09-30 10:00:00  \n",
       "\n",
       "[342 rows x 19 columns]"
      ]
     },
     "execution_count": 64,
     "metadata": {},
     "output_type": "execute_result"
    }
   ],
   "source": [
    "_df = df.loc[(df.origin == 'JFK') & (df.dest == 'HNL')]\n",
    "\n",
    "_df"
   ]
  },
  {
   "cell_type": "code",
   "execution_count": 65,
   "metadata": {},
   "outputs": [
    {
     "data": {
      "image/png": "[encoded data removed]",
      "text/plain": [
       "<Figure size 1500x500 with 2 Axes>"
      ]
     },
     "metadata": {},
     "output_type": "display_data"
    }
   ],
   "source": [
    "_air_time_mean = np.mean(_df.air_time)\n",
    "_air_time_median = np.median(_df.air_time)\n",
    "\n",
    "# we have to take figure and axes\n",
    "fig, axes = plt.subplots(ncols=1, nrows=2, figsize=(15, 5), sharex=True)\n",
    "\n",
    "# flatten for easier indexing\n",
    "axes = axes.flatten()\n",
    "\n",
    "# plotting first chart\n",
    "axes[0].hist(_df.air_time, bins=20, alpha=.3)\n",
    "axes[0].set_title('Distribution of air_time for flights from JFK to NHL', size=20, pad=20)\n",
    "axes[0].grid(alpha=.3)\n",
    "\n",
    "ymin, ymax = axes[0].get_ylim()\n",
    "axes[0].vlines(x=[_air_time_mean], ymin=ymin, ymax=ymax, color='red', label='mean')\n",
    "axes[0].vlines(x=[_air_time_median], ymin=ymin, ymax=ymax, color='green', label='median')\n",
    "axes[0].legend(framealpha=.0);\n",
    "\n",
    "# plotting second chart\n",
    "axes[1].boxplot(_df.air_time, vert=False);\n",
    "axes[1].grid(alpha=.3)\n",
    "axes[1].set_xlabel('air_time')\n",
    "axes[1].set_xticks(np.arange(0, df.air_time.max()+20, 20));\n",
    "axes[1].set_yticks([]);\n",
    "\n",
    "ymin, ymax = axes[1].get_ylim()\n",
    "axes[1].vlines(x=[_air_time_mean], ymin=ymin, ymax=ymax, color='red', label='mean')\n",
    "axes[1].vlines(x=[_air_time_median], ymin=ymin, ymax=ymax, color='green', label='median')\n",
    "axes[1].legend(framealpha=.0);"
   ]
  },
  {
   "attachments": {},
   "cell_type": "markdown",
   "metadata": {},
   "source": [
    "Okay, so that' it, but can we check which carriers are having flights on this relation?"
   ]
  },
  {
   "cell_type": "code",
   "execution_count": 66,
   "metadata": {},
   "outputs": [
    {
     "data": {
      "text/plain": [
       "HA    342\n",
       "Name: carrier, dtype: Int64"
      ]
     },
     "execution_count": 66,
     "metadata": {},
     "output_type": "execute_result"
    }
   ],
   "source": [
    "_df.carrier.value_counts()"
   ]
  },
  {
   "attachments": {},
   "cell_type": "markdown",
   "metadata": {},
   "source": [
    "Well, just one... the Hawaiian Airlines."
   ]
  },
  {
   "attachments": {},
   "cell_type": "markdown",
   "metadata": {},
   "source": [
    "Here is another idea! Let's find top 10 fastest carriers.\n",
    "\n",
    "Have in mind that distance is probably in miles, and air time is in minutes. This way we will get the **miles/minute** measure of speed. Not **miles/hour**.\n",
    "\n",
    "We can convert our air time to hours. Let's do that."
   ]
  },
  {
   "cell_type": "code",
   "execution_count": 67,
   "metadata": {},
   "outputs": [],
   "source": [
    "df['speed'] = df.distance / (df.air_time / 60)"
   ]
  },
  {
   "cell_type": "code",
   "execution_count": 68,
   "metadata": {},
   "outputs": [
    {
     "data": {
      "text/html": [
       "<div>\n",
       "<style scoped>\n",
       "    .dataframe tbody tr th:only-of-type {\n",
       "        vertical-align: middle;\n",
       "    }\n",
       "\n",
       "    .dataframe tbody tr th {\n",
       "        vertical-align: top;\n",
       "    }\n",
       "\n",
       "    .dataframe thead th {\n",
       "        text-align: right;\n",
       "    }\n",
       "</style>\n",
       "<table border=\"1\" class=\"dataframe\">\n",
       "  <thead>\n",
       "    <tr style=\"text-align: right;\">\n",
       "      <th></th>\n",
       "      <th>count</th>\n",
       "      <th>mean</th>\n",
       "      <th>std</th>\n",
       "      <th>min</th>\n",
       "      <th>25%</th>\n",
       "      <th>50%</th>\n",
       "      <th>75%</th>\n",
       "      <th>max</th>\n",
       "    </tr>\n",
       "    <tr>\n",
       "      <th>carrier</th>\n",
       "      <th></th>\n",
       "      <th></th>\n",
       "      <th></th>\n",
       "      <th></th>\n",
       "      <th></th>\n",
       "      <th></th>\n",
       "      <th></th>\n",
       "      <th></th>\n",
       "    </tr>\n",
       "  </thead>\n",
       "  <tbody>\n",
       "    <tr>\n",
       "      <th>9E</th>\n",
       "      <td>17294.0</td>\n",
       "      <td>345.430398</td>\n",
       "      <td>65.081449</td>\n",
       "      <td>92.459016</td>\n",
       "      <td>305.228833</td>\n",
       "      <td>349.900990</td>\n",
       "      <td>392.666667</td>\n",
       "      <td>517.664234</td>\n",
       "    </tr>\n",
       "    <tr>\n",
       "      <th>AA</th>\n",
       "      <td>31947.0</td>\n",
       "      <td>417.472739</td>\n",
       "      <td>47.461814</td>\n",
       "      <td>116.875000</td>\n",
       "      <td>392.000000</td>\n",
       "      <td>423.045685</td>\n",
       "      <td>450.410959</td>\n",
       "      <td>556.457143</td>\n",
       "    </tr>\n",
       "    <tr>\n",
       "      <th>AS</th>\n",
       "      <td>709.0</td>\n",
       "      <td>443.678889</td>\n",
       "      <td>21.720863</td>\n",
       "      <td>367.653061</td>\n",
       "      <td>428.928571</td>\n",
       "      <td>444.814815</td>\n",
       "      <td>458.980892</td>\n",
       "      <td>520.288809</td>\n",
       "    </tr>\n",
       "    <tr>\n",
       "      <th>B6</th>\n",
       "      <td>54049.0</td>\n",
       "      <td>399.971468</td>\n",
       "      <td>64.904780</td>\n",
       "      <td>84.680851</td>\n",
       "      <td>352.000000</td>\n",
       "      <td>416.153846</td>\n",
       "      <td>448.439306</td>\n",
       "      <td>557.441860</td>\n",
       "    </tr>\n",
       "    <tr>\n",
       "      <th>DL</th>\n",
       "      <td>47658.0</td>\n",
       "      <td>418.462807</td>\n",
       "      <td>43.575184</td>\n",
       "      <td>123.296703</td>\n",
       "      <td>393.037975</td>\n",
       "      <td>423.776224</td>\n",
       "      <td>448.235294</td>\n",
       "      <td>703.384615</td>\n",
       "    </tr>\n",
       "    <tr>\n",
       "      <th>EV</th>\n",
       "      <td>51108.0</td>\n",
       "      <td>362.943626</td>\n",
       "      <td>52.243521</td>\n",
       "      <td>123.076923</td>\n",
       "      <td>328.000000</td>\n",
       "      <td>366.857143</td>\n",
       "      <td>401.447368</td>\n",
       "      <td>650.322581</td>\n",
       "    </tr>\n",
       "    <tr>\n",
       "      <th>F9</th>\n",
       "      <td>681.0</td>\n",
       "      <td>425.172111</td>\n",
       "      <td>27.778219</td>\n",
       "      <td>349.640288</td>\n",
       "      <td>406.694561</td>\n",
       "      <td>424.454148</td>\n",
       "      <td>445.871560</td>\n",
       "      <td>498.461538</td>\n",
       "    </tr>\n",
       "    <tr>\n",
       "      <th>FL</th>\n",
       "      <td>3175.0</td>\n",
       "      <td>394.358094</td>\n",
       "      <td>34.192364</td>\n",
       "      <td>280.235294</td>\n",
       "      <td>371.707317</td>\n",
       "      <td>394.137931</td>\n",
       "      <td>419.449541</td>\n",
       "      <td>531.627907</td>\n",
       "    </tr>\n",
       "    <tr>\n",
       "      <th>HA</th>\n",
       "      <td>342.0</td>\n",
       "      <td>480.357719</td>\n",
       "      <td>15.771798</td>\n",
       "      <td>432.677279</td>\n",
       "      <td>470.834646</td>\n",
       "      <td>481.062258</td>\n",
       "      <td>491.743421</td>\n",
       "      <td>515.482759</td>\n",
       "    </tr>\n",
       "    <tr>\n",
       "      <th>MQ</th>\n",
       "      <td>25037.0</td>\n",
       "      <td>368.402836</td>\n",
       "      <td>50.822437</td>\n",
       "      <td>131.752577</td>\n",
       "      <td>342.089552</td>\n",
       "      <td>374.782609</td>\n",
       "      <td>402.962963</td>\n",
       "      <td>508.000000</td>\n",
       "    </tr>\n",
       "    <tr>\n",
       "      <th>OO</th>\n",
       "      <td>29.0</td>\n",
       "      <td>366.320085</td>\n",
       "      <td>25.851527</td>\n",
       "      <td>274.800000</td>\n",
       "      <td>359.142857</td>\n",
       "      <td>369.705882</td>\n",
       "      <td>375.223881</td>\n",
       "      <td>419.000000</td>\n",
       "    </tr>\n",
       "    <tr>\n",
       "      <th>UA</th>\n",
       "      <td>57782.0</td>\n",
       "      <td>420.883774</td>\n",
       "      <td>48.361956</td>\n",
       "      <td>107.142857</td>\n",
       "      <td>396.226415</td>\n",
       "      <td>428.690808</td>\n",
       "      <td>454.128440</td>\n",
       "      <td>550.786517</td>\n",
       "    </tr>\n",
       "    <tr>\n",
       "      <th>US</th>\n",
       "      <td>19831.0</td>\n",
       "      <td>341.939717</td>\n",
       "      <td>71.672334</td>\n",
       "      <td>76.800000</td>\n",
       "      <td>291.818182</td>\n",
       "      <td>337.894737</td>\n",
       "      <td>398.048780</td>\n",
       "      <td>526.666667</td>\n",
       "    </tr>\n",
       "    <tr>\n",
       "      <th>VX</th>\n",
       "      <td>5116.0</td>\n",
       "      <td>446.174935</td>\n",
       "      <td>23.118805</td>\n",
       "      <td>362.580645</td>\n",
       "      <td>429.806094</td>\n",
       "      <td>445.945946</td>\n",
       "      <td>462.616822</td>\n",
       "      <td>519.230769</td>\n",
       "    </tr>\n",
       "    <tr>\n",
       "      <th>WN</th>\n",
       "      <td>12044.0</td>\n",
       "      <td>400.532009</td>\n",
       "      <td>38.431249</td>\n",
       "      <td>171.864407</td>\n",
       "      <td>378.260870</td>\n",
       "      <td>402.545455</td>\n",
       "      <td>426.106195</td>\n",
       "      <td>504.269663</td>\n",
       "    </tr>\n",
       "    <tr>\n",
       "      <th>YV</th>\n",
       "      <td>544.0</td>\n",
       "      <td>331.969987</td>\n",
       "      <td>62.924261</td>\n",
       "      <td>120.000000</td>\n",
       "      <td>286.250000</td>\n",
       "      <td>319.534884</td>\n",
       "      <td>388.571429</td>\n",
       "      <td>473.043478</td>\n",
       "    </tr>\n",
       "  </tbody>\n",
       "</table>\n",
       "</div>"
      ],
      "text/plain": [
       "           count        mean        std         min         25%         50%  \\\n",
       "carrier                                                                       \n",
       "9E       17294.0  345.430398  65.081449   92.459016  305.228833  349.900990   \n",
       "AA       31947.0  417.472739  47.461814  116.875000  392.000000  423.045685   \n",
       "AS         709.0  443.678889  21.720863  367.653061  428.928571  444.814815   \n",
       "B6       54049.0  399.971468  64.904780   84.680851  352.000000  416.153846   \n",
       "DL       47658.0  418.462807  43.575184  123.296703  393.037975  423.776224   \n",
       "EV       51108.0  362.943626  52.243521  123.076923  328.000000  366.857143   \n",
       "F9         681.0  425.172111  27.778219  349.640288  406.694561  424.454148   \n",
       "FL        3175.0  394.358094  34.192364  280.235294  371.707317  394.137931   \n",
       "HA         342.0  480.357719  15.771798  432.677279  470.834646  481.062258   \n",
       "MQ       25037.0  368.402836  50.822437  131.752577  342.089552  374.782609   \n",
       "OO          29.0  366.320085  25.851527  274.800000  359.142857  369.705882   \n",
       "UA       57782.0  420.883774  48.361956  107.142857  396.226415  428.690808   \n",
       "US       19831.0  341.939717  71.672334   76.800000  291.818182  337.894737   \n",
       "VX        5116.0  446.174935  23.118805  362.580645  429.806094  445.945946   \n",
       "WN       12044.0  400.532009  38.431249  171.864407  378.260870  402.545455   \n",
       "YV         544.0  331.969987  62.924261  120.000000  286.250000  319.534884   \n",
       "\n",
       "                75%         max  \n",
       "carrier                          \n",
       "9E       392.666667  517.664234  \n",
       "AA       450.410959  556.457143  \n",
       "AS       458.980892  520.288809  \n",
       "B6       448.439306  557.441860  \n",
       "DL       448.235294  703.384615  \n",
       "EV       401.447368  650.322581  \n",
       "F9       445.871560  498.461538  \n",
       "FL       419.449541  531.627907  \n",
       "HA       491.743421  515.482759  \n",
       "MQ       402.962963  508.000000  \n",
       "OO       375.223881  419.000000  \n",
       "UA       454.128440  550.786517  \n",
       "US       398.048780  526.666667  \n",
       "VX       462.616822  519.230769  \n",
       "WN       426.106195  504.269663  \n",
       "YV       388.571429  473.043478  "
      ]
     },
     "execution_count": 68,
     "metadata": {},
     "output_type": "execute_result"
    }
   ],
   "source": [
    "df.groupby('carrier')['speed'].describe()"
   ]
  },
  {
   "attachments": {},
   "cell_type": "markdown",
   "metadata": {},
   "source": [
    "Well, to get top N of these, we would have to choose the metric by which we are sorting. How about we plot speed distribution for each of the carriers?\n",
    "\n",
    "And, while we are trying to do this, let's try switching from using `matplotlib` to using `seaborn`!"
   ]
  },
  {
   "cell_type": "code",
   "execution_count": 69,
   "metadata": {},
   "outputs": [
    {
     "data": {
      "image/png": "[encoded data removed]",
      "text/plain": [
       "<Figure size 1500x500 with 1 Axes>"
      ]
     },
     "metadata": {},
     "output_type": "display_data"
    }
   ],
   "source": [
    "plt.figure(figsize=(15, 5))\n",
    "sns.boxplot(x='speed', y='carrier', data=df)\n",
    "plt.title('Distributions of speeds for each of the carriers.', size=20, pad=20)\n",
    "plt.grid(alpha=.3)"
   ]
  },
  {
   "attachments": {},
   "cell_type": "markdown",
   "metadata": {},
   "source": [
    "So, apparently HA carrier (our friends from Hawaiian Airlines) are the fastest on average. Could it be that longer flights are the \"fastest\" because the proportion of time waiting to take off and dock on the terminal is smaller in comparison to other flights with shorter distance?\n",
    "\n",
    "Let's find out.\n",
    "\n",
    "What do we need. Well, let's take the carrier that has the most flights in our data set. \n",
    "\n",
    "It is the UA carrier.\n",
    "\n",
    "From what we can see, this carrier has a lot of \"outliers\" on the lower side. At least, this is what boxplot is detecting with it's IRQ rule. But nevertheless, UA holds one of the widest distribution in comparing to other carriers. This is probably because this carrier has a lot of departures from various airport pairs. \n",
    "\n",
    "Let's see if the distance between the airports where UA is having flights, is somehow affecting the speed of it's aircraft.\n",
    "\n",
    "How do we want to do this? Well, we first have to make a histogram of distances, i.e. bin them somehow, and then do the boxplot for each bin. "
   ]
  },
  {
   "cell_type": "code",
   "execution_count": 70,
   "metadata": {},
   "outputs": [
    {
     "data": {
      "text/plain": [
       "(57782, 20)"
      ]
     },
     "execution_count": 70,
     "metadata": {},
     "output_type": "execute_result"
    }
   ],
   "source": [
    "# a lot of flights\n",
    "df[df.carrier == 'UA'].shape"
   ]
  },
  {
   "attachments": {},
   "cell_type": "markdown",
   "metadata": {},
   "source": [
    "Let's create helping dataframe that will contain only the data we are interested in."
   ]
  },
  {
   "cell_type": "code",
   "execution_count": 71,
   "metadata": {},
   "outputs": [],
   "source": [
    "_df = df.loc[(df.carrier == 'UA'), ['distance', 'speed']].copy().reset_index(drop=True)"
   ]
  },
  {
   "cell_type": "code",
   "execution_count": 72,
   "metadata": {},
   "outputs": [
    {
     "data": {
      "text/html": [
       "<div>\n",
       "<style scoped>\n",
       "    .dataframe tbody tr th:only-of-type {\n",
       "        vertical-align: middle;\n",
       "    }\n",
       "\n",
       "    .dataframe tbody tr th {\n",
       "        vertical-align: top;\n",
       "    }\n",
       "\n",
       "    .dataframe thead th {\n",
       "        text-align: right;\n",
       "    }\n",
       "</style>\n",
       "<table border=\"1\" class=\"dataframe\">\n",
       "  <thead>\n",
       "    <tr style=\"text-align: right;\">\n",
       "      <th></th>\n",
       "      <th>distance</th>\n",
       "      <th>speed</th>\n",
       "    </tr>\n",
       "  </thead>\n",
       "  <tbody>\n",
       "    <tr>\n",
       "      <th>0</th>\n",
       "      <td>1400</td>\n",
       "      <td>370.044053</td>\n",
       "    </tr>\n",
       "    <tr>\n",
       "      <th>1</th>\n",
       "      <td>1416</td>\n",
       "      <td>374.273128</td>\n",
       "    </tr>\n",
       "    <tr>\n",
       "      <th>2</th>\n",
       "      <td>719</td>\n",
       "      <td>287.6</td>\n",
       "    </tr>\n",
       "    <tr>\n",
       "      <th>3</th>\n",
       "      <td>2475</td>\n",
       "      <td>430.434783</td>\n",
       "    </tr>\n",
       "    <tr>\n",
       "      <th>4</th>\n",
       "      <td>2565</td>\n",
       "      <td>426.315789</td>\n",
       "    </tr>\n",
       "    <tr>\n",
       "      <th>...</th>\n",
       "      <td>...</td>\n",
       "      <td>...</td>\n",
       "    </tr>\n",
       "    <tr>\n",
       "      <th>57777</th>\n",
       "      <td>937</td>\n",
       "      <td>457.073171</td>\n",
       "    </tr>\n",
       "    <tr>\n",
       "      <th>57778</th>\n",
       "      <td>200</td>\n",
       "      <td>300.0</td>\n",
       "    </tr>\n",
       "    <tr>\n",
       "      <th>57779</th>\n",
       "      <td>1400</td>\n",
       "      <td>480.0</td>\n",
       "    </tr>\n",
       "    <tr>\n",
       "      <th>57780</th>\n",
       "      <td>200</td>\n",
       "      <td>324.324324</td>\n",
       "    </tr>\n",
       "    <tr>\n",
       "      <th>57781</th>\n",
       "      <td>2565</td>\n",
       "      <td>483.962264</td>\n",
       "    </tr>\n",
       "  </tbody>\n",
       "</table>\n",
       "<p>57782 rows × 2 columns</p>\n",
       "</div>"
      ],
      "text/plain": [
       "       distance       speed\n",
       "0          1400  370.044053\n",
       "1          1416  374.273128\n",
       "2           719       287.6\n",
       "3          2475  430.434783\n",
       "4          2565  426.315789\n",
       "...         ...         ...\n",
       "57777       937  457.073171\n",
       "57778       200       300.0\n",
       "57779      1400       480.0\n",
       "57780       200  324.324324\n",
       "57781      2565  483.962264\n",
       "\n",
       "[57782 rows x 2 columns]"
      ]
     },
     "execution_count": 72,
     "metadata": {},
     "output_type": "execute_result"
    }
   ],
   "source": [
    "_df"
   ]
  },
  {
   "attachments": {},
   "cell_type": "markdown",
   "metadata": {},
   "source": [
    "NumPy `histogram` method is able to create histogram for given array (distance). It returns values for each bin and bin edges. Bin edges array is just an array with increasing values where the bins are created."
   ]
  },
  {
   "cell_type": "code",
   "execution_count": 73,
   "metadata": {},
   "outputs": [],
   "source": [
    "_hist, _bin_edges = np.histogram(_df['distance'], bins=30)"
   ]
  },
  {
   "cell_type": "code",
   "execution_count": 74,
   "metadata": {},
   "outputs": [
    {
     "data": {
      "text/plain": [
       "array([116.0, 277.56666666666666, 439.1333333333333, 600.7,\n",
       "       762.2666666666667, 923.8333333333333, 1085.4, 1246.9666666666667,\n",
       "       1408.5333333333333, 1570.1, 1731.6666666666665, 1893.2333333333333,\n",
       "       2054.8, 2216.366666666667, 2377.9333333333334, 2539.5,\n",
       "       2701.0666666666666, 2862.633333333333, 3024.2, 3185.7666666666664,\n",
       "       3347.333333333333, 3508.9, 3670.4666666666667, 3832.0333333333333,\n",
       "       3993.6, 4155.166666666666, 4316.733333333334, 4478.3,\n",
       "       4639.866666666667, 4801.433333333333, 4963.0], dtype=object)"
      ]
     },
     "execution_count": 74,
     "metadata": {},
     "output_type": "execute_result"
    }
   ],
   "source": [
    "_bin_edges"
   ]
  },
  {
   "cell_type": "code",
   "execution_count": 75,
   "metadata": {},
   "outputs": [
    {
     "name": "stderr",
     "output_type": "stream",
     "text": [
      "/home/ikacikac/workspace/dss03python2023/.venv/lib/python3.8/site-packages/seaborn/distributions.py:497: FutureWarning: In a future version, the Index constructor will not infer numeric dtypes when passed object-dtype sequences (matching Series behavior)\n",
      "  pd.Index(edges, name=\"edges\"),\n",
      "/home/ikacikac/workspace/dss03python2023/.venv/lib/python3.8/site-packages/seaborn/distributions.py:498: FutureWarning: In a future version, the Index constructor will not infer numeric dtypes when passed object-dtype sequences (matching Series behavior)\n",
      "  pd.Index(widths, name=\"widths\"),\n"
     ]
    },
    {
     "data": {
      "image/png": "[encoded data removed]",
      "text/plain": [
       "<Figure size 500x500 with 1 Axes>"
      ]
     },
     "metadata": {},
     "output_type": "display_data"
    }
   ],
   "source": [
    "sns.displot(x='distance', data=_df)\n",
    "sns.despine();"
   ]
  },
  {
   "attachments": {},
   "cell_type": "markdown",
   "metadata": {},
   "source": [
    "Pandas has the method that can be used to create Series that will hold the bin for each of the observations."
   ]
  },
  {
   "cell_type": "code",
   "execution_count": 76,
   "metadata": {},
   "outputs": [
    {
     "data": {
      "text/plain": [
       "0        (1246.967, 1408.533]\n",
       "1          (1408.533, 1570.1]\n",
       "2            (600.7, 762.267]\n",
       "3          (2377.933, 2539.5]\n",
       "4          (2539.5, 2701.067]\n",
       "                 ...         \n",
       "57777       (923.833, 1085.4]\n",
       "57778        (116.0, 277.567]\n",
       "57779    (1246.967, 1408.533]\n",
       "57780        (116.0, 277.567]\n",
       "57781      (2539.5, 2701.067]\n",
       "Name: distance, Length: 57782, dtype: category\n",
       "Categories (30, interval[float64, right]): [(116.0, 277.567] < (277.567, 439.133] < (439.133, 600.7] < (600.7, 762.267] ... (4316.733, 4478.3] < (4478.3, 4639.867] < (4639.867, 4801.433] < (4801.433, 4963.0]]"
      ]
     },
     "execution_count": 76,
     "metadata": {},
     "output_type": "execute_result"
    }
   ],
   "source": [
    "pd.cut(_df['distance'], _bin_edges)"
   ]
  },
  {
   "attachments": {},
   "cell_type": "markdown",
   "metadata": {},
   "source": [
    "Additionally, we can select the left or right edge, right being inclusive, for easier interpretation, and create the series.\n",
    "\n",
    "This is the new one, with the same index as the helping data frame, plus we are giving it a new name."
   ]
  },
  {
   "cell_type": "code",
   "execution_count": 77,
   "metadata": {},
   "outputs": [
    {
     "name": "stderr",
     "output_type": "stream",
     "text": [
      "/home/ikacikac/workspace/dss03python2023/.venv/lib/python3.8/site-packages/IPython/lib/pretty.py:778: FutureWarning: Index.ravel returning ndarray is deprecated; in a future version this will return a view on self.\n",
      "  output = repr(obj)\n"
     ]
    },
    {
     "data": {
      "text/plain": [
       "0        1408.533\n",
       "1        1570.100\n",
       "2         762.267\n",
       "3        2539.500\n",
       "4        2701.067\n",
       "           ...   \n",
       "57777    1085.400\n",
       "57778     277.567\n",
       "57779    1408.533\n",
       "57780     277.567\n",
       "57781    2701.067\n",
       "Name: bin, Length: 57782, dtype: category\n",
       "Categories (30, float64): [277.567 < 439.133 < 600.700 < 762.267 ... 4478.300 < 4639.867 < 4801.433 < 4963.000]"
      ]
     },
     "execution_count": 77,
     "metadata": {},
     "output_type": "execute_result"
    }
   ],
   "source": [
    "(pd.Series(pd.cut(_df['distance'], _bin_edges).apply(lambda x: x.right), \n",
    "           name='bin', \n",
    "           index=_df.index))"
   ]
  },
  {
   "attachments": {},
   "cell_type": "markdown",
   "metadata": {},
   "source": [
    "Okay, let's add this to the existing helping data frame. This is one of the ways to perform the 'merging', by concatenating. Other is by joining dataframes. More on that approach later."
   ]
  },
  {
   "cell_type": "code",
   "execution_count": 78,
   "metadata": {},
   "outputs": [],
   "source": [
    "_df1= pd.concat([\n",
    "    _df, \n",
    "    pd.Series(pd.cut(_df['distance'], _bin_edges).apply(lambda x: x.right), \n",
    "              name='bin', \n",
    "              index=_df.index)\n",
    "], axis=1)"
   ]
  },
  {
   "cell_type": "code",
   "execution_count": 79,
   "metadata": {},
   "outputs": [
    {
     "data": {
      "image/png": "[encoded data removed]",
      "text/plain": [
       "<Figure size 1500x500 with 1 Axes>"
      ]
     },
     "metadata": {},
     "output_type": "display_data"
    }
   ],
   "source": [
    "fig, ax = plt.subplots(figsize=(15, 5))\n",
    "\n",
    "sns.boxplot(x='speed', y='bin', data=_df1, ax=ax)\n",
    "\n",
    "plt.ylabel('distance bin')\n",
    "ax.set_title('Distributions of speeds per segments of distance.', size=20, pad=20);\n",
    "\n",
    "ax.set_xticks(list(range(100, 600, 20)))\n",
    "\n",
    "_y_tick_labels = [x.get_text() for x in ax.get_yticklabels()]\n",
    "ax.set_yticklabels([f'{float(x):.0f}' for x in _y_tick_labels]);\n",
    "\n",
    "plt.grid(alpha=.3)"
   ]
  },
  {
   "attachments": {},
   "cell_type": "markdown",
   "metadata": {},
   "source": [
    "Well, in general it seems that the greater the distance the greater the speed is. Makes sense!"
   ]
  },
  {
   "attachments": {},
   "cell_type": "markdown",
   "metadata": {},
   "source": [
    "### Bonus"
   ]
  },
  {
   "attachments": {},
   "cell_type": "markdown",
   "metadata": {},
   "source": [
    "At the beginning we have shown the graphical representation of the missing values. But how did we do it?\n",
    "\n",
    "There is a `seaborn` method called `heatmap`. It takes tabular data and creates a graphical representation of this table, but instead of showing the values it colors the cell based on this values.\n",
    "\n",
    "When checking for the missing values in the dataset, we can call Pandas DataFrame method `isna`, which gives us the table of the same dimensions but but boolean values instead of original ones. `True` is the value of the cell which has the missing values.\n",
    "\n",
    "This way we are able to use `seaborn` `heatmap` to represent this table of booleans in appealing way.\n",
    "\n",
    "Let's see how we can do this."
   ]
  },
  {
   "attachments": {},
   "cell_type": "markdown",
   "metadata": {},
   "source": [
    "We will load the data once again, because we need the original one that had missing values. "
   ]
  },
  {
   "cell_type": "code",
   "execution_count": 80,
   "metadata": {},
   "outputs": [
    {
     "data": {
      "text/html": [
       "<div>\n",
       "<style scoped>\n",
       "    .dataframe tbody tr th:only-of-type {\n",
       "        vertical-align: middle;\n",
       "    }\n",
       "\n",
       "    .dataframe tbody tr th {\n",
       "        vertical-align: top;\n",
       "    }\n",
       "\n",
       "    .dataframe thead th {\n",
       "        text-align: right;\n",
       "    }\n",
       "</style>\n",
       "<table border=\"1\" class=\"dataframe\">\n",
       "  <thead>\n",
       "    <tr style=\"text-align: right;\">\n",
       "      <th></th>\n",
       "      <th>year</th>\n",
       "      <th>month</th>\n",
       "      <th>day</th>\n",
       "      <th>dep_time</th>\n",
       "      <th>sched_dep_time</th>\n",
       "      <th>dep_delay</th>\n",
       "      <th>arr_time</th>\n",
       "      <th>sched_arr_time</th>\n",
       "      <th>arr_delay</th>\n",
       "      <th>carrier</th>\n",
       "      <th>flight</th>\n",
       "      <th>tailnum</th>\n",
       "      <th>origin</th>\n",
       "      <th>dest</th>\n",
       "      <th>air_time</th>\n",
       "      <th>distance</th>\n",
       "      <th>hour</th>\n",
       "      <th>minute</th>\n",
       "      <th>time_hour</th>\n",
       "    </tr>\n",
       "  </thead>\n",
       "  <tbody>\n",
       "    <tr>\n",
       "      <th>1</th>\n",
       "      <td>2013</td>\n",
       "      <td>1</td>\n",
       "      <td>1</td>\n",
       "      <td>517.0</td>\n",
       "      <td>515</td>\n",
       "      <td>2.0</td>\n",
       "      <td>830.0</td>\n",
       "      <td>819</td>\n",
       "      <td>11.0</td>\n",
       "      <td>UA</td>\n",
       "      <td>1545</td>\n",
       "      <td>N14228</td>\n",
       "      <td>EWR</td>\n",
       "      <td>IAH</td>\n",
       "      <td>227.0</td>\n",
       "      <td>1400</td>\n",
       "      <td>5</td>\n",
       "      <td>15</td>\n",
       "      <td>2013-01-01 05:00:00</td>\n",
       "    </tr>\n",
       "    <tr>\n",
       "      <th>2</th>\n",
       "      <td>2013</td>\n",
       "      <td>1</td>\n",
       "      <td>1</td>\n",
       "      <td>533.0</td>\n",
       "      <td>529</td>\n",
       "      <td>4.0</td>\n",
       "      <td>850.0</td>\n",
       "      <td>830</td>\n",
       "      <td>20.0</td>\n",
       "      <td>UA</td>\n",
       "      <td>1714</td>\n",
       "      <td>N24211</td>\n",
       "      <td>LGA</td>\n",
       "      <td>IAH</td>\n",
       "      <td>227.0</td>\n",
       "      <td>1416</td>\n",
       "      <td>5</td>\n",
       "      <td>29</td>\n",
       "      <td>2013-01-01 05:00:00</td>\n",
       "    </tr>\n",
       "    <tr>\n",
       "      <th>3</th>\n",
       "      <td>2013</td>\n",
       "      <td>1</td>\n",
       "      <td>1</td>\n",
       "      <td>542.0</td>\n",
       "      <td>540</td>\n",
       "      <td>2.0</td>\n",
       "      <td>923.0</td>\n",
       "      <td>850</td>\n",
       "      <td>33.0</td>\n",
       "      <td>AA</td>\n",
       "      <td>1141</td>\n",
       "      <td>N619AA</td>\n",
       "      <td>JFK</td>\n",
       "      <td>MIA</td>\n",
       "      <td>160.0</td>\n",
       "      <td>1089</td>\n",
       "      <td>5</td>\n",
       "      <td>40</td>\n",
       "      <td>2013-01-01 05:00:00</td>\n",
       "    </tr>\n",
       "    <tr>\n",
       "      <th>4</th>\n",
       "      <td>2013</td>\n",
       "      <td>1</td>\n",
       "      <td>1</td>\n",
       "      <td>544.0</td>\n",
       "      <td>545</td>\n",
       "      <td>-1.0</td>\n",
       "      <td>1004.0</td>\n",
       "      <td>1022</td>\n",
       "      <td>-18.0</td>\n",
       "      <td>B6</td>\n",
       "      <td>725</td>\n",
       "      <td>N804JB</td>\n",
       "      <td>JFK</td>\n",
       "      <td>BQN</td>\n",
       "      <td>183.0</td>\n",
       "      <td>1576</td>\n",
       "      <td>5</td>\n",
       "      <td>45</td>\n",
       "      <td>2013-01-01 05:00:00</td>\n",
       "    </tr>\n",
       "    <tr>\n",
       "      <th>5</th>\n",
       "      <td>2013</td>\n",
       "      <td>1</td>\n",
       "      <td>1</td>\n",
       "      <td>554.0</td>\n",
       "      <td>600</td>\n",
       "      <td>-6.0</td>\n",
       "      <td>812.0</td>\n",
       "      <td>837</td>\n",
       "      <td>-25.0</td>\n",
       "      <td>DL</td>\n",
       "      <td>461</td>\n",
       "      <td>N668DN</td>\n",
       "      <td>LGA</td>\n",
       "      <td>ATL</td>\n",
       "      <td>116.0</td>\n",
       "      <td>762</td>\n",
       "      <td>6</td>\n",
       "      <td>0</td>\n",
       "      <td>2013-01-01 06:00:00</td>\n",
       "    </tr>\n",
       "  </tbody>\n",
       "</table>\n",
       "</div>"
      ],
      "text/plain": [
       "   year  month  day  dep_time  sched_dep_time  dep_delay  arr_time  \\\n",
       "1  2013      1    1     517.0             515        2.0     830.0   \n",
       "2  2013      1    1     533.0             529        4.0     850.0   \n",
       "3  2013      1    1     542.0             540        2.0     923.0   \n",
       "4  2013      1    1     544.0             545       -1.0    1004.0   \n",
       "5  2013      1    1     554.0             600       -6.0     812.0   \n",
       "\n",
       "   sched_arr_time  arr_delay carrier  flight tailnum origin dest  air_time  \\\n",
       "1             819       11.0      UA    1545  N14228    EWR  IAH     227.0   \n",
       "2             830       20.0      UA    1714  N24211    LGA  IAH     227.0   \n",
       "3             850       33.0      AA    1141  N619AA    JFK  MIA     160.0   \n",
       "4            1022      -18.0      B6     725  N804JB    JFK  BQN     183.0   \n",
       "5             837      -25.0      DL     461  N668DN    LGA  ATL     116.0   \n",
       "\n",
       "   distance  hour  minute            time_hour  \n",
       "1      1400     5      15  2013-01-01 05:00:00  \n",
       "2      1416     5      29  2013-01-01 05:00:00  \n",
       "3      1089     5      40  2013-01-01 05:00:00  \n",
       "4      1576     5      45  2013-01-01 05:00:00  \n",
       "5       762     6       0  2013-01-01 06:00:00  "
      ]
     },
     "execution_count": 80,
     "metadata": {},
     "output_type": "execute_result"
    }
   ],
   "source": [
    "df = pd.read_csv('_data/flights.csv', index_col=0)\n",
    "\n",
    "df.head()"
   ]
  },
  {
   "attachments": {},
   "cell_type": "markdown",
   "metadata": {},
   "source": [
    "Let's make a list of column names where we have missing values.\n",
    "\n",
    "First get the list of all columns and number of missing values per each."
   ]
  },
  {
   "cell_type": "code",
   "execution_count": 81,
   "metadata": {},
   "outputs": [
    {
     "data": {
      "text/plain": [
       "arr_delay         9430\n",
       "air_time          9430\n",
       "arr_time          8713\n",
       "dep_time          8255\n",
       "dep_delay         8255\n",
       "tailnum           2512\n",
       "year                 0\n",
       "origin               0\n",
       "minute               0\n",
       "hour                 0\n",
       "distance             0\n",
       "dest                 0\n",
       "carrier              0\n",
       "flight               0\n",
       "month                0\n",
       "sched_arr_time       0\n",
       "sched_dep_time       0\n",
       "day                  0\n",
       "time_hour            0\n",
       "dtype: int64"
      ]
     },
     "execution_count": 81,
     "metadata": {},
     "output_type": "execute_result"
    }
   ],
   "source": [
    " df.isna().sum().sort_values(ascending=False)"
   ]
  },
  {
   "attachments": {},
   "cell_type": "markdown",
   "metadata": {},
   "source": [
    "Then we want to sort them in decreasing order and take only those columns that have missing values."
   ]
  },
  {
   "cell_type": "code",
   "execution_count": 82,
   "metadata": {},
   "outputs": [
    {
     "data": {
      "text/plain": [
       "arr_delay    9430.0\n",
       "air_time     9430.0\n",
       "arr_time     8713.0\n",
       "dep_time     8255.0\n",
       "dep_delay    8255.0\n",
       "tailnum      2512.0\n",
       "dtype: float64"
      ]
     },
     "execution_count": 82,
     "metadata": {},
     "output_type": "execute_result"
    }
   ],
   "source": [
    "(df.isna()\n",
    "   .sum()\n",
    "   .sort_values(ascending=False)\n",
    "   .where(lambda x: x > 0)\n",
    "   .dropna())"
   ]
  },
  {
   "attachments": {},
   "cell_type": "markdown",
   "metadata": {},
   "source": [
    "After that we want to store this as a list of column names."
   ]
  },
  {
   "cell_type": "code",
   "execution_count": 83,
   "metadata": {},
   "outputs": [],
   "source": [
    "null_columns =  (df.isna()\n",
    "                   .sum()\n",
    "                   .sort_values(ascending=False)\n",
    "                   .where(lambda x: x > 0)\n",
    "                   .dropna()\n",
    "                   .index.to_list())"
   ]
  },
  {
   "attachments": {},
   "cell_type": "markdown",
   "metadata": {},
   "source": [
    "In the end, we create the `heatmap` with this "
   ]
  },
  {
   "attachments": {},
   "cell_type": "markdown",
   "metadata": {},
   "source": [
    "Before plotting the `heatmap` here is how the table of booleans looks like. Pay attention, it is transposed!"
   ]
  },
  {
   "cell_type": "code",
   "execution_count": 84,
   "metadata": {},
   "outputs": [
    {
     "data": {
      "text/html": [
       "<div>\n",
       "<style scoped>\n",
       "    .dataframe tbody tr th:only-of-type {\n",
       "        vertical-align: middle;\n",
       "    }\n",
       "\n",
       "    .dataframe tbody tr th {\n",
       "        vertical-align: top;\n",
       "    }\n",
       "\n",
       "    .dataframe thead th {\n",
       "        text-align: right;\n",
       "    }\n",
       "</style>\n",
       "<table border=\"1\" class=\"dataframe\">\n",
       "  <thead>\n",
       "    <tr style=\"text-align: right;\">\n",
       "      <th></th>\n",
       "      <th>1783</th>\n",
       "      <th>1785</th>\n",
       "      <th>2698</th>\n",
       "      <th>2699</th>\n",
       "      <th>3609</th>\n",
       "      <th>3610</th>\n",
       "      <th>4333</th>\n",
       "      <th>6099</th>\n",
       "      <th>6998</th>\n",
       "      <th>7896</th>\n",
       "      <th>...</th>\n",
       "      <th>336761</th>\n",
       "      <th>336762</th>\n",
       "      <th>336763</th>\n",
       "      <th>336764</th>\n",
       "      <th>336765</th>\n",
       "      <th>336766</th>\n",
       "      <th>336767</th>\n",
       "      <th>336768</th>\n",
       "      <th>336769</th>\n",
       "      <th>336770</th>\n",
       "    </tr>\n",
       "  </thead>\n",
       "  <tbody>\n",
       "    <tr>\n",
       "      <th>arr_delay</th>\n",
       "      <td>True</td>\n",
       "      <td>True</td>\n",
       "      <td>True</td>\n",
       "      <td>True</td>\n",
       "      <td>True</td>\n",
       "      <td>True</td>\n",
       "      <td>True</td>\n",
       "      <td>True</td>\n",
       "      <td>True</td>\n",
       "      <td>True</td>\n",
       "      <td>...</td>\n",
       "      <td>False</td>\n",
       "      <td>False</td>\n",
       "      <td>False</td>\n",
       "      <td>False</td>\n",
       "      <td>False</td>\n",
       "      <td>False</td>\n",
       "      <td>False</td>\n",
       "      <td>False</td>\n",
       "      <td>False</td>\n",
       "      <td>False</td>\n",
       "    </tr>\n",
       "    <tr>\n",
       "      <th>air_time</th>\n",
       "      <td>True</td>\n",
       "      <td>True</td>\n",
       "      <td>True</td>\n",
       "      <td>True</td>\n",
       "      <td>True</td>\n",
       "      <td>True</td>\n",
       "      <td>True</td>\n",
       "      <td>True</td>\n",
       "      <td>True</td>\n",
       "      <td>True</td>\n",
       "      <td>...</td>\n",
       "      <td>False</td>\n",
       "      <td>False</td>\n",
       "      <td>False</td>\n",
       "      <td>False</td>\n",
       "      <td>False</td>\n",
       "      <td>False</td>\n",
       "      <td>False</td>\n",
       "      <td>False</td>\n",
       "      <td>False</td>\n",
       "      <td>False</td>\n",
       "    </tr>\n",
       "    <tr>\n",
       "      <th>arr_time</th>\n",
       "      <td>True</td>\n",
       "      <td>True</td>\n",
       "      <td>True</td>\n",
       "      <td>True</td>\n",
       "      <td>True</td>\n",
       "      <td>True</td>\n",
       "      <td>True</td>\n",
       "      <td>True</td>\n",
       "      <td>True</td>\n",
       "      <td>True</td>\n",
       "      <td>...</td>\n",
       "      <td>False</td>\n",
       "      <td>False</td>\n",
       "      <td>False</td>\n",
       "      <td>False</td>\n",
       "      <td>False</td>\n",
       "      <td>False</td>\n",
       "      <td>False</td>\n",
       "      <td>False</td>\n",
       "      <td>False</td>\n",
       "      <td>False</td>\n",
       "    </tr>\n",
       "    <tr>\n",
       "      <th>dep_time</th>\n",
       "      <td>True</td>\n",
       "      <td>True</td>\n",
       "      <td>True</td>\n",
       "      <td>True</td>\n",
       "      <td>True</td>\n",
       "      <td>True</td>\n",
       "      <td>True</td>\n",
       "      <td>True</td>\n",
       "      <td>True</td>\n",
       "      <td>True</td>\n",
       "      <td>...</td>\n",
       "      <td>False</td>\n",
       "      <td>False</td>\n",
       "      <td>False</td>\n",
       "      <td>False</td>\n",
       "      <td>False</td>\n",
       "      <td>False</td>\n",
       "      <td>False</td>\n",
       "      <td>False</td>\n",
       "      <td>False</td>\n",
       "      <td>False</td>\n",
       "    </tr>\n",
       "    <tr>\n",
       "      <th>dep_delay</th>\n",
       "      <td>True</td>\n",
       "      <td>True</td>\n",
       "      <td>True</td>\n",
       "      <td>True</td>\n",
       "      <td>True</td>\n",
       "      <td>True</td>\n",
       "      <td>True</td>\n",
       "      <td>True</td>\n",
       "      <td>True</td>\n",
       "      <td>True</td>\n",
       "      <td>...</td>\n",
       "      <td>False</td>\n",
       "      <td>False</td>\n",
       "      <td>False</td>\n",
       "      <td>False</td>\n",
       "      <td>False</td>\n",
       "      <td>False</td>\n",
       "      <td>False</td>\n",
       "      <td>False</td>\n",
       "      <td>False</td>\n",
       "      <td>False</td>\n",
       "    </tr>\n",
       "    <tr>\n",
       "      <th>tailnum</th>\n",
       "      <td>True</td>\n",
       "      <td>True</td>\n",
       "      <td>True</td>\n",
       "      <td>True</td>\n",
       "      <td>True</td>\n",
       "      <td>True</td>\n",
       "      <td>True</td>\n",
       "      <td>True</td>\n",
       "      <td>True</td>\n",
       "      <td>True</td>\n",
       "      <td>...</td>\n",
       "      <td>False</td>\n",
       "      <td>False</td>\n",
       "      <td>False</td>\n",
       "      <td>False</td>\n",
       "      <td>False</td>\n",
       "      <td>False</td>\n",
       "      <td>False</td>\n",
       "      <td>False</td>\n",
       "      <td>False</td>\n",
       "      <td>False</td>\n",
       "    </tr>\n",
       "  </tbody>\n",
       "</table>\n",
       "<p>6 rows × 336776 columns</p>\n",
       "</div>"
      ],
      "text/plain": [
       "           1783    1785    2698    2699    3609    3610    4333    6099    \\\n",
       "arr_delay    True    True    True    True    True    True    True    True   \n",
       "air_time     True    True    True    True    True    True    True    True   \n",
       "arr_time     True    True    True    True    True    True    True    True   \n",
       "dep_time     True    True    True    True    True    True    True    True   \n",
       "dep_delay    True    True    True    True    True    True    True    True   \n",
       "tailnum      True    True    True    True    True    True    True    True   \n",
       "\n",
       "           6998    7896    ...  336761  336762  336763  336764  336765  \\\n",
       "arr_delay    True    True  ...   False   False   False   False   False   \n",
       "air_time     True    True  ...   False   False   False   False   False   \n",
       "arr_time     True    True  ...   False   False   False   False   False   \n",
       "dep_time     True    True  ...   False   False   False   False   False   \n",
       "dep_delay    True    True  ...   False   False   False   False   False   \n",
       "tailnum      True    True  ...   False   False   False   False   False   \n",
       "\n",
       "           336766  336767  336768  336769  336770  \n",
       "arr_delay   False   False   False   False   False  \n",
       "air_time    False   False   False   False   False  \n",
       "arr_time    False   False   False   False   False  \n",
       "dep_time    False   False   False   False   False  \n",
       "dep_delay   False   False   False   False   False  \n",
       "tailnum     False   False   False   False   False  \n",
       "\n",
       "[6 rows x 336776 columns]"
      ]
     },
     "execution_count": 84,
     "metadata": {},
     "output_type": "execute_result"
    }
   ],
   "source": [
    "df[null_columns].isna().sort_values(by=null_columns, ascending=False).T"
   ]
  },
  {
   "cell_type": "code",
   "execution_count": 85,
   "metadata": {},
   "outputs": [
    {
     "data": {
      "image/png": "[encoded data removed]",
      "text/plain": [
       "<Figure size 1000x500 with 1 Axes>"
      ]
     },
     "metadata": {},
     "output_type": "display_data"
    }
   ],
   "source": [
    "fig, ax = plt.subplots(figsize=(10, 5))\n",
    "\n",
    "# changing the color mapping\n",
    "rocket_cmap = sns.color_palette(\"Blues\", as_cmap=True)\n",
    "\n",
    "sns.heatmap(df[null_columns].isna().sort_values(by=null_columns, ascending=False).T, \n",
    "            cbar=False,  # disabling color bar on the right\n",
    "            cmap=rocket_cmap, # setting the new color mapping\n",
    "            ax=ax # one of the ways how we can explicitly set the destination axis\n",
    ") \n",
    "\n",
    "sns.despine(bottom=True, left=True) # removing all of the spines\n",
    "ax.set_xticks([])\n",
    "ax.set_title('Missing values in example dataset.', size=20);"
   ]
  },
  {
   "attachments": {},
   "cell_type": "markdown",
   "metadata": {},
   "source": [
    "### Readings and Videos\n",
    "- [Matplotlib - Quick start guide](https://matplotlib.org/stable/tutorials/introductory/quick_start.html)\n",
    "- [Seaborn Gallery](https://seaborn.pydata.org/examples/index.html)\n",
    "- [Visualizing Missing Data with Seaborn Heatmap and Displot](https://datavizpyr.com/visualizing-missing-data-with-seaborn-heatmap-and-displot/)"
   ]
  },
  {
   "attachments": {},
   "cell_type": "markdown",
   "metadata": {},
   "source": [
    "### A highly recommended To Do\n",
    "- [Bill Lubanovic, Introducing Python, 1st Edition](https://www.oreilly.com/library/view/introducing-python-2nd/9781492051374/), Chapter 13. Calendars and Clocks. "
   ]
  },
  {
   "cell_type": "markdown",
   "metadata": {},
   "source": [
    "<hr>"
   ]
  },
  {
   "attachments": {},
   "cell_type": "markdown",
   "metadata": {},
   "source": [
    "DataKolektiv, 2022/23.\n",
    "\n",
    "[hello@datakolektiv.com](mailto:goran.milovanovic@datakolektiv.com)\n",
    "\n",
    "![](../img/DK_Logo_100.png)"
   ]
  },
  {
   "cell_type": "markdown",
   "metadata": {},
   "source": [
    "<font size=1>License: [GPLv3](https://www.gnu.org/licenses/gpl-3.0.txt) This Notebook is free software: you can redistribute it and/or modify it under the terms of the GNU General Public License as published by the Free Software Foundation, either version 3 of the License, or (at your option) any later version. This Notebook is distributed in the hope that it will be useful, but WITHOUT ANY WARRANTY; without even the implied warranty of MERCHANTABILITY or FITNESS FOR A PARTICULAR PURPOSE. See the GNU General Public License for more details. You should have received a copy of the GNU General Public License along with this Notebook. If not, see http://www.gnu.org/licenses/.</font>"
   ]
  }
 ],
 "metadata": {
  "kernelspec": {
   "display_name": "dss00python2023",
   "language": "python",
   "name": "python3"
  },
  "language_info": {
   "codemirror_mode": {
    "name": "ipython",
    "version": 3
   },
   "file_extension": ".py",
   "mimetype": "text/x-python",
   "name": "python",
   "nbconvert_exporter": "python",
   "pygments_lexer": "ipython3",
   "version": "3.8.10"
  },
  "orig_nbformat": 4,
  "vscode": {
   "interpreter": {
    "hash": "1cd3978be751434017ac2cef9d5b4683bcdb1c1d31a8fa91ec8c7c13b7681774"
   }
  }
 },
 "nbformat": 4,
 "nbformat_minor": 2
}
