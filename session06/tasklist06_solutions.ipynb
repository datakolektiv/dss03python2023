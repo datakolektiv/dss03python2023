{
 "cells": [
  {
   "cell_type": "markdown",
   "id": "3da402bd",
   "metadata": {},
   "source": [
    "# DATA SCIENCE SESSIONS VOL. 3\n",
    "### A Foundational Python Data Science Course\n",
    "## TaskList 06: Exploratory Data Analysis - EDA\n",
    "\n",
    "[&larr; Back to course webpage](https://datakolektiv.com/)\n",
    "\n",
    "Feedback should be send to [goran.milovanovic@datakolektiv.com](mailto:goran.milovanovic@datakolektiv.com). \n",
    "\n",
    "These notebooks accompany the DATA SCIENCE SESSIONS VOL. 3 :: A Foundational Python Data Science Course."
   ]
  },
  {
   "cell_type": "markdown",
   "id": "af70f52e",
   "metadata": {},
   "source": [
    "![](../img/IntroRDataScience_NonTech-1.jpg)"
   ]
  },
  {
   "cell_type": "markdown",
   "id": "4be99766",
   "metadata": {},
   "source": [
    "### Lecturers\n",
    "\n",
    "[Goran S. Milovanović, PhD, DataKolektiv, Chief Scientist & Owner](https://www.linkedin.com/in/gmilovanovic/)\n",
    "\n",
    "[Aleksandar Cvetković, PhD, DataKolektiv, Consultant](https://www.linkedin.com/in/alegzndr/)\n",
    "\n",
    "[Ilija Lazarević, MA, DataKolektiv, Consultant](https://www.linkedin.com/in/ilijalazarevic/)"
   ]
  },
  {
   "cell_type": "markdown",
   "id": "5315a5b3",
   "metadata": {},
   "source": [
    "![](../img/DK_Logo_100.png)"
   ]
  },
  {
   "cell_type": "markdown",
   "id": "8375a06b",
   "metadata": {},
   "source": [
    "***"
   ]
  },
  {
   "cell_type": "markdown",
   "id": "c0c04c1a",
   "metadata": {},
   "source": [
    "### Intro"
   ]
  },
  {
   "cell_type": "markdown",
   "id": "1f599acc",
   "metadata": {},
   "source": [
    "This 'tasklist' is going to be actually one open/free-form task. You'll be provided with a dataset, and your goal is to apply what you've learned about on Session06 (and previous sessions) to perform EDA on this dataset. There are no wrong answers here - you are going to look through the dataset provided, and offer insights you find relevant and interesting. In order to do so, you will use tables, cross-tables and various visualizations. And don't forget to describe your insights using text! \n",
    "\n",
    "In essence, the output of this tasklist should be in the form of an exploratory report on the dataset provided. "
   ]
  },
  {
   "cell_type": "markdown",
   "id": "2edcd974",
   "metadata": {},
   "source": [
    "### The Dataset"
   ]
  },
  {
   "cell_type": "markdown",
   "id": "c9ae0dae",
   "metadata": {},
   "source": [
    "The dataset in question is `rome_weekends.csv`. It is a dataset containing prices of Airbnb properties in Rome during the weekends, along with various additional data. It is a part of a larger dataset `Airbnb Prices in European Cities`, which can be found [here](https://www.kaggle.com/datasets/thedevastator/airbnb-prices-in-european-cities). If doing EDA on `rome_weekends` was a fun ride, you're encouraged to download a dataset for some other city, perform the same analysis and compare the results. \n",
    "\n"
   ]
  },
  {
   "cell_type": "markdown",
   "id": "23ddcc22",
   "metadata": {},
   "source": [
    "The field names of this dataset may look a bit cryptical, so here's a brief description for each of them:\n",
    "\n",
    "- `realSum` - The total price of the Airbnb listing\n",
    "- `room_type` - The type of room being offered (e.g. private, shared, etc.)\n",
    "- `room_shared` - Whether the room is shared or not\n",
    "- `room_private` - Whether the room is private or not\n",
    "- `person_capacity` - The maximum number of people that can stay in the room.\n",
    "- `host_is_superhost` - Whether the host is a superhost or not\n",
    "- `multi` - Whether the listing is for multiple rooms or not\n",
    "- `biz` - Whether the listing is for business purposes or not\n",
    "- `cleanliness_rating` - The cleanliness rating of the listing\n",
    "- `guest_satisfaction_overall` - The overall guest satisfaction rating of the listing\n",
    "- `bedrooms` - The number of bedrooms in the listing\n",
    "- `dist` - The distance from the city centre\n",
    "- `metro_dist` - The distance from the nearest metro station\n",
    "- `lng` - The longitude of the listing\n",
    "- `lat` - The latitude of the listing"
   ]
  },
  {
   "cell_type": "markdown",
   "id": "d86f2044",
   "metadata": {},
   "source": [
    "### Preparation"
   ]
  },
  {
   "cell_type": "markdown",
   "id": "176b4a2f",
   "metadata": {},
   "source": [
    "Before embarking on this explorations, let's make some first necessary steps.\n",
    "\n",
    "First, import all the Python libraries you are going to use during your EDA."
   ]
  },
  {
   "cell_type": "code",
   "execution_count": 1,
   "id": "4ffd3a91",
   "metadata": {},
   "outputs": [],
   "source": [
    "### your code here ###\n",
    "import os\n",
    "import numpy as np\n",
    "import pandas as pd\n",
    "import matplotlib.pyplot as plt\n",
    "import seaborn as sns\n",
    "import warnings\n",
    "warnings.filterwarnings(\"ignore\")"
   ]
  },
  {
   "cell_type": "markdown",
   "id": "4bd1cdba",
   "metadata": {},
   "source": [
    "Next, load `rome_weekends.csv` dataset from the `_data` folder in `Session06`."
   ]
  },
  {
   "cell_type": "code",
   "execution_count": 2,
   "id": "bddd8152",
   "metadata": {},
   "outputs": [
    {
     "name": "stdout",
     "output_type": "stream",
     "text": [
      "/home/ikacikac/workspace/dss03python2023/session06\n",
      "['dss03_py_session06_b.ipynb', 'tasklist06_solutions.html', 'dss03_py_session06_goran.ipynb', '_img', 'tasklist06.ipynb', 'dss03_py_session06.html', 'tasklist06.html', 'data_mumbojumbo.ipynb', 'dss03_py_session06.ipynb', 'tasklist06_solutions.ipynb', '_data']\n"
     ]
    },
    {
     "data": {
      "text/html": [
       "<div>\n",
       "<style scoped>\n",
       "    .dataframe tbody tr th:only-of-type {\n",
       "        vertical-align: middle;\n",
       "    }\n",
       "\n",
       "    .dataframe tbody tr th {\n",
       "        vertical-align: top;\n",
       "    }\n",
       "\n",
       "    .dataframe thead th {\n",
       "        text-align: right;\n",
       "    }\n",
       "</style>\n",
       "<table border=\"1\" class=\"dataframe\">\n",
       "  <thead>\n",
       "    <tr style=\"text-align: right;\">\n",
       "      <th></th>\n",
       "      <th>realSum</th>\n",
       "      <th>room_type</th>\n",
       "      <th>room_shared</th>\n",
       "      <th>room_private</th>\n",
       "      <th>person_capacity</th>\n",
       "      <th>host_is_superhost</th>\n",
       "      <th>multi</th>\n",
       "      <th>biz</th>\n",
       "      <th>cleanliness_rating</th>\n",
       "      <th>guest_satisfaction_overall</th>\n",
       "      <th>bedrooms</th>\n",
       "      <th>dist</th>\n",
       "      <th>metro_dist</th>\n",
       "      <th>attr_index</th>\n",
       "      <th>attr_index_norm</th>\n",
       "      <th>rest_index</th>\n",
       "      <th>rest_index_norm</th>\n",
       "      <th>lng</th>\n",
       "      <th>lat</th>\n",
       "    </tr>\n",
       "  </thead>\n",
       "  <tbody>\n",
       "    <tr>\n",
       "      <th>0</th>\n",
       "      <td>172.772543</td>\n",
       "      <td>Private room</td>\n",
       "      <td>False</td>\n",
       "      <td>True</td>\n",
       "      <td>2.0</td>\n",
       "      <td>False</td>\n",
       "      <td>0</td>\n",
       "      <td>0</td>\n",
       "      <td>10.0</td>\n",
       "      <td>93.0</td>\n",
       "      <td>1</td>\n",
       "      <td>1.222582</td>\n",
       "      <td>0.397760</td>\n",
       "      <td>550.078435</td>\n",
       "      <td>12.187232</td>\n",
       "      <td>1075.412107</td>\n",
       "      <td>23.430621</td>\n",
       "      <td>12.50181</td>\n",
       "      <td>41.88987</td>\n",
       "    </tr>\n",
       "    <tr>\n",
       "      <th>1</th>\n",
       "      <td>156.874664</td>\n",
       "      <td>Private room</td>\n",
       "      <td>False</td>\n",
       "      <td>True</td>\n",
       "      <td>2.0</td>\n",
       "      <td>True</td>\n",
       "      <td>1</td>\n",
       "      <td>0</td>\n",
       "      <td>10.0</td>\n",
       "      <td>95.0</td>\n",
       "      <td>1</td>\n",
       "      <td>2.978482</td>\n",
       "      <td>1.595742</td>\n",
       "      <td>281.162756</td>\n",
       "      <td>6.229285</td>\n",
       "      <td>697.725034</td>\n",
       "      <td>15.201736</td>\n",
       "      <td>12.48654</td>\n",
       "      <td>41.92498</td>\n",
       "    </tr>\n",
       "    <tr>\n",
       "      <th>2</th>\n",
       "      <td>195.917986</td>\n",
       "      <td>Private room</td>\n",
       "      <td>False</td>\n",
       "      <td>True</td>\n",
       "      <td>2.0</td>\n",
       "      <td>False</td>\n",
       "      <td>1</td>\n",
       "      <td>0</td>\n",
       "      <td>9.0</td>\n",
       "      <td>80.0</td>\n",
       "      <td>1</td>\n",
       "      <td>0.935379</td>\n",
       "      <td>0.649273</td>\n",
       "      <td>482.708059</td>\n",
       "      <td>10.694611</td>\n",
       "      <td>1251.514249</td>\n",
       "      <td>27.267459</td>\n",
       "      <td>12.49627</td>\n",
       "      <td>41.90801</td>\n",
       "    </tr>\n",
       "    <tr>\n",
       "      <th>3</th>\n",
       "      <td>298.552825</td>\n",
       "      <td>Entire home/apt</td>\n",
       "      <td>False</td>\n",
       "      <td>False</td>\n",
       "      <td>4.0</td>\n",
       "      <td>False</td>\n",
       "      <td>0</td>\n",
       "      <td>1</td>\n",
       "      <td>9.0</td>\n",
       "      <td>90.0</td>\n",
       "      <td>1</td>\n",
       "      <td>2.203023</td>\n",
       "      <td>0.494699</td>\n",
       "      <td>691.716421</td>\n",
       "      <td>15.325284</td>\n",
       "      <td>1625.911297</td>\n",
       "      <td>35.424663</td>\n",
       "      <td>12.47700</td>\n",
       "      <td>41.90700</td>\n",
       "    </tr>\n",
       "    <tr>\n",
       "      <th>4</th>\n",
       "      <td>131.391298</td>\n",
       "      <td>Private room</td>\n",
       "      <td>False</td>\n",
       "      <td>True</td>\n",
       "      <td>3.0</td>\n",
       "      <td>False</td>\n",
       "      <td>1</td>\n",
       "      <td>0</td>\n",
       "      <td>9.0</td>\n",
       "      <td>91.0</td>\n",
       "      <td>1</td>\n",
       "      <td>1.295984</td>\n",
       "      <td>0.867473</td>\n",
       "      <td>317.074092</td>\n",
       "      <td>7.024917</td>\n",
       "      <td>836.616071</td>\n",
       "      <td>18.227835</td>\n",
       "      <td>12.51544</td>\n",
       "      <td>41.89463</td>\n",
       "    </tr>\n",
       "  </tbody>\n",
       "</table>\n",
       "</div>"
      ],
      "text/plain": [
       "      realSum        room_type  room_shared  room_private  person_capacity  \\\n",
       "0  172.772543     Private room        False          True              2.0   \n",
       "1  156.874664     Private room        False          True              2.0   \n",
       "2  195.917986     Private room        False          True              2.0   \n",
       "3  298.552825  Entire home/apt        False         False              4.0   \n",
       "4  131.391298     Private room        False          True              3.0   \n",
       "\n",
       "   host_is_superhost  multi  biz  cleanliness_rating  \\\n",
       "0              False      0    0                10.0   \n",
       "1               True      1    0                10.0   \n",
       "2              False      1    0                 9.0   \n",
       "3              False      0    1                 9.0   \n",
       "4              False      1    0                 9.0   \n",
       "\n",
       "   guest_satisfaction_overall  bedrooms      dist  metro_dist  attr_index  \\\n",
       "0                        93.0         1  1.222582    0.397760  550.078435   \n",
       "1                        95.0         1  2.978482    1.595742  281.162756   \n",
       "2                        80.0         1  0.935379    0.649273  482.708059   \n",
       "3                        90.0         1  2.203023    0.494699  691.716421   \n",
       "4                        91.0         1  1.295984    0.867473  317.074092   \n",
       "\n",
       "   attr_index_norm   rest_index  rest_index_norm       lng       lat  \n",
       "0        12.187232  1075.412107        23.430621  12.50181  41.88987  \n",
       "1         6.229285   697.725034        15.201736  12.48654  41.92498  \n",
       "2        10.694611  1251.514249        27.267459  12.49627  41.90801  \n",
       "3        15.325284  1625.911297        35.424663  12.47700  41.90700  \n",
       "4         7.024917   836.616071        18.227835  12.51544  41.89463  "
      ]
     },
     "execution_count": 2,
     "metadata": {},
     "output_type": "execute_result"
    }
   ],
   "source": [
    "### your code here ###\n",
    "work_dir = os.getcwd()\n",
    "print(work_dir)\n",
    "print(os.listdir(work_dir))\n",
    "data_dir = os.path.join(work_dir, \"_data\")\n",
    "os.listdir(data_dir)\n",
    "filepath = os.path.join(data_dir, 'rome_weekends.csv')\n",
    "df = pd.read_csv(filepath, index_col=0)\n",
    "df.head()"
   ]
  },
  {
   "cell_type": "markdown",
   "id": "b0508423",
   "metadata": {},
   "source": [
    "And now: the stage is yours. "
   ]
  },
  {
   "attachments": {},
   "cell_type": "markdown",
   "id": "c1d9b789",
   "metadata": {},
   "source": [
    "## EDA"
   ]
  },
  {
   "attachments": {},
   "cell_type": "markdown",
   "id": "d28b98e3",
   "metadata": {},
   "source": [
    "### Are there any missing data?"
   ]
  },
  {
   "cell_type": "code",
   "execution_count": 3,
   "id": "eb76691e",
   "metadata": {},
   "outputs": [
    {
     "data": {
      "text/html": [
       "<div>\n",
       "<style scoped>\n",
       "    .dataframe tbody tr th:only-of-type {\n",
       "        vertical-align: middle;\n",
       "    }\n",
       "\n",
       "    .dataframe tbody tr th {\n",
       "        vertical-align: top;\n",
       "    }\n",
       "\n",
       "    .dataframe thead th {\n",
       "        text-align: right;\n",
       "    }\n",
       "</style>\n",
       "<table border=\"1\" class=\"dataframe\">\n",
       "  <thead>\n",
       "    <tr style=\"text-align: right;\">\n",
       "      <th></th>\n",
       "      <th>feature</th>\n",
       "      <th>no_nulls</th>\n",
       "      <th>perc_nulls</th>\n",
       "    </tr>\n",
       "  </thead>\n",
       "  <tbody>\n",
       "    <tr>\n",
       "      <th>0</th>\n",
       "      <td>realSum</td>\n",
       "      <td>0</td>\n",
       "      <td>0.0</td>\n",
       "    </tr>\n",
       "    <tr>\n",
       "      <th>10</th>\n",
       "      <td>bedrooms</td>\n",
       "      <td>0</td>\n",
       "      <td>0.0</td>\n",
       "    </tr>\n",
       "    <tr>\n",
       "      <th>17</th>\n",
       "      <td>lng</td>\n",
       "      <td>0</td>\n",
       "      <td>0.0</td>\n",
       "    </tr>\n",
       "    <tr>\n",
       "      <th>16</th>\n",
       "      <td>rest_index_norm</td>\n",
       "      <td>0</td>\n",
       "      <td>0.0</td>\n",
       "    </tr>\n",
       "    <tr>\n",
       "      <th>15</th>\n",
       "      <td>rest_index</td>\n",
       "      <td>0</td>\n",
       "      <td>0.0</td>\n",
       "    </tr>\n",
       "    <tr>\n",
       "      <th>14</th>\n",
       "      <td>attr_index_norm</td>\n",
       "      <td>0</td>\n",
       "      <td>0.0</td>\n",
       "    </tr>\n",
       "    <tr>\n",
       "      <th>13</th>\n",
       "      <td>attr_index</td>\n",
       "      <td>0</td>\n",
       "      <td>0.0</td>\n",
       "    </tr>\n",
       "    <tr>\n",
       "      <th>12</th>\n",
       "      <td>metro_dist</td>\n",
       "      <td>0</td>\n",
       "      <td>0.0</td>\n",
       "    </tr>\n",
       "    <tr>\n",
       "      <th>11</th>\n",
       "      <td>dist</td>\n",
       "      <td>0</td>\n",
       "      <td>0.0</td>\n",
       "    </tr>\n",
       "    <tr>\n",
       "      <th>9</th>\n",
       "      <td>guest_satisfaction_overall</td>\n",
       "      <td>0</td>\n",
       "      <td>0.0</td>\n",
       "    </tr>\n",
       "    <tr>\n",
       "      <th>1</th>\n",
       "      <td>room_type</td>\n",
       "      <td>0</td>\n",
       "      <td>0.0</td>\n",
       "    </tr>\n",
       "    <tr>\n",
       "      <th>8</th>\n",
       "      <td>cleanliness_rating</td>\n",
       "      <td>0</td>\n",
       "      <td>0.0</td>\n",
       "    </tr>\n",
       "    <tr>\n",
       "      <th>7</th>\n",
       "      <td>biz</td>\n",
       "      <td>0</td>\n",
       "      <td>0.0</td>\n",
       "    </tr>\n",
       "    <tr>\n",
       "      <th>6</th>\n",
       "      <td>multi</td>\n",
       "      <td>0</td>\n",
       "      <td>0.0</td>\n",
       "    </tr>\n",
       "    <tr>\n",
       "      <th>5</th>\n",
       "      <td>host_is_superhost</td>\n",
       "      <td>0</td>\n",
       "      <td>0.0</td>\n",
       "    </tr>\n",
       "    <tr>\n",
       "      <th>4</th>\n",
       "      <td>person_capacity</td>\n",
       "      <td>0</td>\n",
       "      <td>0.0</td>\n",
       "    </tr>\n",
       "    <tr>\n",
       "      <th>3</th>\n",
       "      <td>room_private</td>\n",
       "      <td>0</td>\n",
       "      <td>0.0</td>\n",
       "    </tr>\n",
       "    <tr>\n",
       "      <th>2</th>\n",
       "      <td>room_shared</td>\n",
       "      <td>0</td>\n",
       "      <td>0.0</td>\n",
       "    </tr>\n",
       "    <tr>\n",
       "      <th>18</th>\n",
       "      <td>lat</td>\n",
       "      <td>0</td>\n",
       "      <td>0.0</td>\n",
       "    </tr>\n",
       "  </tbody>\n",
       "</table>\n",
       "</div>"
      ],
      "text/plain": [
       "                       feature  no_nulls  perc_nulls\n",
       "0                      realSum         0         0.0\n",
       "10                    bedrooms         0         0.0\n",
       "17                         lng         0         0.0\n",
       "16             rest_index_norm         0         0.0\n",
       "15                  rest_index         0         0.0\n",
       "14             attr_index_norm         0         0.0\n",
       "13                  attr_index         0         0.0\n",
       "12                  metro_dist         0         0.0\n",
       "11                        dist         0         0.0\n",
       "9   guest_satisfaction_overall         0         0.0\n",
       "1                    room_type         0         0.0\n",
       "8           cleanliness_rating         0         0.0\n",
       "7                          biz         0         0.0\n",
       "6                        multi         0         0.0\n",
       "5            host_is_superhost         0         0.0\n",
       "4              person_capacity         0         0.0\n",
       "3                 room_private         0         0.0\n",
       "2                  room_shared         0         0.0\n",
       "18                         lat         0         0.0"
      ]
     },
     "execution_count": 3,
     "metadata": {},
     "output_type": "execute_result"
    }
   ],
   "source": [
    "(df.isna()\n",
    "   .sum()\n",
    "   .reset_index()\n",
    "   .rename(columns={'index': 'feature', 0: 'no_nulls'})\n",
    "   .sort_values('no_nulls', ascending=False)\n",
    "   .assign(perc_nulls = lambda x: x['no_nulls'] / len(df) * 100))"
   ]
  },
  {
   "attachments": {},
   "cell_type": "markdown",
   "id": "fbbf20a7",
   "metadata": {},
   "source": [
    "#### Inspect the distribution of `realSum` (i.e. listing price)"
   ]
  },
  {
   "cell_type": "markdown",
   "id": "ffb81d3e",
   "metadata": {},
   "source": [
    "Descriptive Statistics."
   ]
  },
  {
   "cell_type": "code",
   "execution_count": 4,
   "id": "a007e728",
   "metadata": {},
   "outputs": [
    {
     "data": {
      "text/plain": [
       "count    4535.000000\n",
       "mean      209.130063\n",
       "std       119.367764\n",
       "min        46.057092\n",
       "25%       138.638861\n",
       "50%       184.462161\n",
       "75%       242.676455\n",
       "max      2311.738714\n",
       "Name: realSum, dtype: float64"
      ]
     },
     "execution_count": 4,
     "metadata": {},
     "output_type": "execute_result"
    }
   ],
   "source": [
    "df['realSum'].describe()"
   ]
  },
  {
   "attachments": {},
   "cell_type": "markdown",
   "id": "147a4338",
   "metadata": {},
   "source": [
    "Boxplot w. outliers."
   ]
  },
  {
   "cell_type": "code",
   "execution_count": 5,
   "id": "a1d4cb37",
   "metadata": {},
   "outputs": [
    {
     "data": {
      "image/png": "[encoded data removed]",
      "text/plain": [
       "<Figure size 1500x400 with 1 Axes>"
      ]
     },
     "metadata": {},
     "output_type": "display_data"
    }
   ],
   "source": [
    "fig, ax = plt.subplots(figsize=(15, 4))\n",
    "ax.boxplot(df['realSum'], vert=False);\n",
    "ax.grid(alpha=.3)\n",
    "ax.set_title('Boxplot for realSum.', size=20, pad=20)\n",
    "ax.set_xticks(np.arange(0, df.realSum.max()+20, 20));\n",
    "ax.set_xticklabels(ax.get_xticks(), rotation = 90, size=6)\n",
    "ax.set_ylabel('realSum')\n",
    "ax.set_yticks([]);"
   ]
  },
  {
   "attachments": {},
   "cell_type": "markdown",
   "id": "fb282cd2",
   "metadata": {},
   "source": [
    "We can see that there are tons of (at least) mild outliers in `realSum`."
   ]
  },
  {
   "attachments": {},
   "cell_type": "markdown",
   "id": "8d376f45",
   "metadata": {},
   "source": [
    "Distribution (Histogram)."
   ]
  },
  {
   "cell_type": "code",
   "execution_count": 6,
   "id": "1f36cd43",
   "metadata": {},
   "outputs": [
    {
     "data": {
      "image/png": "[encoded data removed]",
      "text/plain": [
       "<Figure size 1500x500 with 1 Axes>"
      ]
     },
     "metadata": {},
     "output_type": "display_data"
    }
   ],
   "source": [
    "# setup\n",
    "fig, ax = plt.subplots(figsize=(15, 5))\n",
    "\n",
    "# histogram\n",
    "ax.hist(df.realSum, bins=200, alpha=.3)\n",
    "ax.set_title('Distribution of realSum.', size=20, pad=20)\n",
    "ax.grid(alpha=.3)"
   ]
  },
  {
   "attachments": {},
   "cell_type": "markdown",
   "id": "9075f9e5",
   "metadata": {},
   "source": [
    "To inspect the distribution of `realSum` in more depth, I want to check whether it exhibits a [Power law behavior](https://en.wikipedia.org/wiki/Power_law) at least approximately. In order to do so, I will first rank the prices in `realSum`, and then plot (a) a Rank-Price plot alongside (b) log(Rank)-log(Price) plot. Variables that exhibit power law behaviour are also known to exhbit a linear rank-value relationship in the log space (however, **that is not an ultimate test of power-laws**, as exemplified nicely in [Clauset, A.; Shalizi, C. R.; Newman, M. E. J. (2009). \"Power-Law Distributions in Empirical Data\". SIAM Review. 51 (4): 661–703.](https://arxiv.org/abs/0706.1062)).  "
   ]
  },
  {
   "attachments": {},
   "cell_type": "markdown",
   "id": "5e779ecb",
   "metadata": {},
   "source": [
    "Rank `realSum` first:"
   ]
  },
  {
   "cell_type": "code",
   "execution_count": 7,
   "id": "81a1e7d5",
   "metadata": {},
   "outputs": [
    {
     "data": {
      "text/html": [
       "<div>\n",
       "<style scoped>\n",
       "    .dataframe tbody tr th:only-of-type {\n",
       "        vertical-align: middle;\n",
       "    }\n",
       "\n",
       "    .dataframe tbody tr th {\n",
       "        vertical-align: top;\n",
       "    }\n",
       "\n",
       "    .dataframe thead th {\n",
       "        text-align: right;\n",
       "    }\n",
       "</style>\n",
       "<table border=\"1\" class=\"dataframe\">\n",
       "  <thead>\n",
       "    <tr style=\"text-align: right;\">\n",
       "      <th></th>\n",
       "      <th>price</th>\n",
       "      <th>rank</th>\n",
       "    </tr>\n",
       "  </thead>\n",
       "  <tbody>\n",
       "    <tr>\n",
       "      <th>3374</th>\n",
       "      <td>2311.738714</td>\n",
       "      <td>1.0</td>\n",
       "    </tr>\n",
       "    <tr>\n",
       "      <th>362</th>\n",
       "      <td>2286.489140</td>\n",
       "      <td>2.0</td>\n",
       "    </tr>\n",
       "    <tr>\n",
       "      <th>3404</th>\n",
       "      <td>1907.044163</td>\n",
       "      <td>3.0</td>\n",
       "    </tr>\n",
       "    <tr>\n",
       "      <th>890</th>\n",
       "      <td>1613.634770</td>\n",
       "      <td>4.0</td>\n",
       "    </tr>\n",
       "    <tr>\n",
       "      <th>2263</th>\n",
       "      <td>1384.752063</td>\n",
       "      <td>5.0</td>\n",
       "    </tr>\n",
       "    <tr>\n",
       "      <th>...</th>\n",
       "      <td>...</td>\n",
       "      <td>...</td>\n",
       "    </tr>\n",
       "    <tr>\n",
       "      <th>2701</th>\n",
       "      <td>62.422556</td>\n",
       "      <td>4531.0</td>\n",
       "    </tr>\n",
       "    <tr>\n",
       "      <th>2112</th>\n",
       "      <td>57.746709</td>\n",
       "      <td>4532.5</td>\n",
       "    </tr>\n",
       "    <tr>\n",
       "      <th>2111</th>\n",
       "      <td>57.746709</td>\n",
       "      <td>4532.5</td>\n",
       "    </tr>\n",
       "    <tr>\n",
       "      <th>2962</th>\n",
       "      <td>55.408786</td>\n",
       "      <td>4534.0</td>\n",
       "    </tr>\n",
       "    <tr>\n",
       "      <th>1714</th>\n",
       "      <td>46.057092</td>\n",
       "      <td>4535.0</td>\n",
       "    </tr>\n",
       "  </tbody>\n",
       "</table>\n",
       "<p>4535 rows × 2 columns</p>\n",
       "</div>"
      ],
      "text/plain": [
       "            price    rank\n",
       "3374  2311.738714     1.0\n",
       "362   2286.489140     2.0\n",
       "3404  1907.044163     3.0\n",
       "890   1613.634770     4.0\n",
       "2263  1384.752063     5.0\n",
       "...           ...     ...\n",
       "2701    62.422556  4531.0\n",
       "2112    57.746709  4532.5\n",
       "2111    57.746709  4532.5\n",
       "2962    55.408786  4534.0\n",
       "1714    46.057092  4535.0\n",
       "\n",
       "[4535 rows x 2 columns]"
      ]
     },
     "execution_count": 7,
     "metadata": {},
     "output_type": "execute_result"
    }
   ],
   "source": [
    "df_realsum = df['realSum'].reset_index()\n",
    "df_realsum = df_realsum.sort_values(\"realSum\", ascending=False)\n",
    "df_realsum.rename(columns={'realSum':'price'}, inplace=True)\n",
    "df_realsum.drop('index', axis=1, inplace=True)\n",
    "df_realsum['rank'] = df_realsum['price'].rank(ascending=False)\n",
    "df_realsum"
   ]
  },
  {
   "attachments": {},
   "cell_type": "markdown",
   "id": "14824c8b",
   "metadata": {},
   "source": [
    "Rank-Price vs. log(Rank)-log(Price) plots (include linear regression model):"
   ]
  },
  {
   "cell_type": "code",
   "execution_count": 8,
   "id": "3ef74b99",
   "metadata": {},
   "outputs": [
    {
     "data": {
      "text/plain": [
       "Text(0.5, 0, 'log(rank)')"
      ]
     },
     "execution_count": 8,
     "metadata": {},
     "output_type": "execute_result"
    },
    {
     "data": {
      "image/png": "[encoded data removed]",
      "text/plain": [
       "<Figure size 1500x500 with 2 Axes>"
      ]
     },
     "metadata": {},
     "output_type": "display_data"
    }
   ],
   "source": [
    "# setup figure and axes\n",
    "fig, axes = plt.subplots(ncols=2, nrows=1, figsize=(15, 5))\n",
    "\n",
    "# flatten for easier indexing\n",
    "axes = axes.flatten()\n",
    "\n",
    "# Rank vs Price\n",
    "axes[0].scatter(x=df_realsum['rank'], y=df_realsum['price'])\n",
    "axes[0].set_title('Rank vs Price plot', size=20, pad=20)\n",
    "axes[0].grid(alpha=.3)\n",
    "axes[0].set_ylabel('price')\n",
    "axes[0].set_xlabel('rank')\n",
    "\n",
    "# log(Rank) vs log(Price)\n",
    "axes[1].scatter(x=np.log(df_realsum['rank']), y=np.log(df_realsum['price']))\n",
    "axes[1].set_title('log(Rank) vs log(Price) plot', size=20, pad=20)\n",
    "x = np.log(df_realsum['rank'])\n",
    "y = np.log(df_realsum['price'])\n",
    "m, b = np.polyfit(x, y, 1)\n",
    "axes[1].plot(x, m*x+b, color=\"red\")\n",
    "\n",
    "axes[1].grid(alpha=.3)\n",
    "axes[1].set_ylabel('log(price)')\n",
    "axes[1].set_xlabel('log(rank)')"
   ]
  },
  {
   "attachments": {},
   "cell_type": "markdown",
   "id": "2863bf74",
   "metadata": {},
   "source": [
    "A Power law? Well, I do not think so. Maybe in a subset of the price (`realSum`) distribution only, but we will not go for testing now."
   ]
  },
  {
   "attachments": {},
   "cell_type": "markdown",
   "id": "c84551fa",
   "metadata": {},
   "source": [
    "#### Do hosts and superhosts differ in prices? "
   ]
  },
  {
   "cell_type": "code",
   "execution_count": 9,
   "id": "eb63dfce",
   "metadata": {},
   "outputs": [
    {
     "data": {
      "text/html": [
       "<div>\n",
       "<style scoped>\n",
       "    .dataframe tbody tr th:only-of-type {\n",
       "        vertical-align: middle;\n",
       "    }\n",
       "\n",
       "    .dataframe tbody tr th {\n",
       "        vertical-align: top;\n",
       "    }\n",
       "\n",
       "    .dataframe thead tr th {\n",
       "        text-align: left;\n",
       "    }\n",
       "\n",
       "    .dataframe thead tr:last-of-type th {\n",
       "        text-align: right;\n",
       "    }\n",
       "</style>\n",
       "<table border=\"1\" class=\"dataframe\">\n",
       "  <thead>\n",
       "    <tr>\n",
       "      <th></th>\n",
       "      <th colspan=\"3\" halign=\"left\">realSum</th>\n",
       "    </tr>\n",
       "    <tr>\n",
       "      <th></th>\n",
       "      <th>mean</th>\n",
       "      <th>median</th>\n",
       "      <th>std</th>\n",
       "    </tr>\n",
       "    <tr>\n",
       "      <th>host_is_superhost</th>\n",
       "      <th></th>\n",
       "      <th></th>\n",
       "      <th></th>\n",
       "    </tr>\n",
       "  </thead>\n",
       "  <tbody>\n",
       "    <tr>\n",
       "      <th>False</th>\n",
       "      <td>206.820016</td>\n",
       "      <td>182.358030</td>\n",
       "      <td>126.526739</td>\n",
       "    </tr>\n",
       "    <tr>\n",
       "      <th>True</th>\n",
       "      <td>214.105177</td>\n",
       "      <td>190.774554</td>\n",
       "      <td>102.125657</td>\n",
       "    </tr>\n",
       "  </tbody>\n",
       "</table>\n",
       "</div>"
      ],
      "text/plain": [
       "                      realSum                        \n",
       "                         mean      median         std\n",
       "host_is_superhost                                    \n",
       "False              206.820016  182.358030  126.526739\n",
       "True               214.105177  190.774554  102.125657"
      ]
     },
     "execution_count": 9,
     "metadata": {},
     "output_type": "execute_result"
    }
   ],
   "source": [
    "df[['host_is_superhost','realSum']]\\\n",
    "    .groupby('host_is_superhost')\\\n",
    "    .agg(['mean','median', 'std'])"
   ]
  },
  {
   "attachments": {},
   "cell_type": "markdown",
   "id": "ac65e41b",
   "metadata": {},
   "source": [
    "Well, only slightly, but the standard deviation of `realSum` seems to be higher in the group of hosts that are not recognized as superhosts. Let me inspect the `realSum` distributions in these two groups on the log scale again:"
   ]
  },
  {
   "cell_type": "code",
   "execution_count": 10,
   "id": "f534eb07",
   "metadata": {},
   "outputs": [
    {
     "data": {
      "image/png": "[encoded data removed]",
      "text/plain": [
       "<Figure size 1500x500 with 2 Axes>"
      ]
     },
     "metadata": {},
     "output_type": "display_data"
    }
   ],
   "source": [
    "# setup figure and axes\n",
    "fig, axes = plt.subplots(ncols=2, nrows=1, figsize=(15, 5), sharex=True)\n",
    "\n",
    "# flatten for easier indexing\n",
    "axes = axes.flatten()\n",
    "\n",
    "# superhosts\n",
    "axes[0].hist(x=np.log(df.loc[df['host_is_superhost']==True, 'realSum']), bins=50)\n",
    "axes[0].set_title('Superhosts', size=20, pad=20)\n",
    "axes[0].grid(alpha=.3)\n",
    "axes[0].set_ylabel('count');\n",
    "axes[0].set_xlabel('log Price');\n",
    "\n",
    "# hosts\n",
    "axes[1].hist(x=np.log(df.loc[df['host_is_superhost']==False, 'realSum']), bins=50)\n",
    "axes[1].set_title('Hosts', size=20, pad=20)\n",
    "axes[1].grid(alpha=.3)\n",
    "axes[1].set_ylabel('count');\n",
    "axes[1].set_xlabel('log Price');"
   ]
  },
  {
   "attachments": {},
   "cell_type": "markdown",
   "id": "290b4c19",
   "metadata": {},
   "source": [
    "### Business purposes: do they affect the price?"
   ]
  },
  {
   "attachments": {},
   "cell_type": "markdown",
   "id": "386f6b13",
   "metadata": {},
   "source": [
    "Assuming that `1s` stand for `True` and `0s` for `False`..."
   ]
  },
  {
   "cell_type": "code",
   "execution_count": 11,
   "id": "94f4a709",
   "metadata": {},
   "outputs": [
    {
     "data": {
      "text/html": [
       "<div>\n",
       "<style scoped>\n",
       "    .dataframe tbody tr th:only-of-type {\n",
       "        vertical-align: middle;\n",
       "    }\n",
       "\n",
       "    .dataframe tbody tr th {\n",
       "        vertical-align: top;\n",
       "    }\n",
       "\n",
       "    .dataframe thead tr th {\n",
       "        text-align: left;\n",
       "    }\n",
       "\n",
       "    .dataframe thead tr:last-of-type th {\n",
       "        text-align: right;\n",
       "    }\n",
       "</style>\n",
       "<table border=\"1\" class=\"dataframe\">\n",
       "  <thead>\n",
       "    <tr>\n",
       "      <th></th>\n",
       "      <th colspan=\"3\" halign=\"left\">realSum</th>\n",
       "    </tr>\n",
       "    <tr>\n",
       "      <th></th>\n",
       "      <th>mean</th>\n",
       "      <th>median</th>\n",
       "      <th>std</th>\n",
       "    </tr>\n",
       "    <tr>\n",
       "      <th>biz</th>\n",
       "      <th></th>\n",
       "      <th></th>\n",
       "      <th></th>\n",
       "    </tr>\n",
       "  </thead>\n",
       "  <tbody>\n",
       "    <tr>\n",
       "      <th>0</th>\n",
       "      <td>204.331703</td>\n",
       "      <td>182.474926</td>\n",
       "      <td>124.197171</td>\n",
       "    </tr>\n",
       "    <tr>\n",
       "      <th>1</th>\n",
       "      <td>218.489519</td>\n",
       "      <td>195.917986</td>\n",
       "      <td>108.766865</td>\n",
       "    </tr>\n",
       "  </tbody>\n",
       "</table>\n",
       "</div>"
      ],
      "text/plain": [
       "        realSum                        \n",
       "           mean      median         std\n",
       "biz                                    \n",
       "0    204.331703  182.474926  124.197171\n",
       "1    218.489519  195.917986  108.766865"
      ]
     },
     "execution_count": 11,
     "metadata": {},
     "output_type": "execute_result"
    }
   ],
   "source": [
    "df[['biz','realSum']]\\\n",
    "    .groupby('biz')\\\n",
    "    .agg(['mean','median', 'std'])"
   ]
  },
  {
   "attachments": {},
   "cell_type": "markdown",
   "id": "521c9baf",
   "metadata": {},
   "source": [
    "It seems that listings for business purposes exclusively are more expensive indeed (and consistently so: look at the standard deviation)."
   ]
  },
  {
   "attachments": {},
   "cell_type": "markdown",
   "id": "efe88d36",
   "metadata": {},
   "source": [
    "#### Is overall guest satisfaction somehow related to price?"
   ]
  },
  {
   "attachments": {},
   "cell_type": "markdown",
   "id": "fe4f3c07",
   "metadata": {},
   "source": [
    "We will look at `realSum` for listings above and below the median of `guest_satisfaction_overall`:"
   ]
  },
  {
   "cell_type": "code",
   "execution_count": 12,
   "id": "31995f91",
   "metadata": {},
   "outputs": [
    {
     "data": {
      "image/png": "[encoded data removed]",
      "text/plain": [
       "<Figure size 1500x500 with 2 Axes>"
      ]
     },
     "metadata": {},
     "output_type": "display_data"
    }
   ],
   "source": [
    "# figure and axes\n",
    "fig, axes = plt.subplots(ncols=2, nrows=1, figsize=(15, 5), sharey=True)\n",
    "\n",
    "# flatten for easier indexing\n",
    "axes = axes.flatten()\n",
    "\n",
    "# satisfaction >= median\n",
    "axes[0].boxplot(df.loc[df['guest_satisfaction_overall'] >= df['guest_satisfaction_overall'].median(),\\\n",
    "                     'realSum'], vert=True);\n",
    "axes[0].set_title('Satisfaction at or above median', size=20, pad=20)\n",
    "axes[0].grid(alpha=.3)\n",
    "axes[0].set_ylabel('realSum');\n",
    "\n",
    "# satisfaction < median\n",
    "axes[1].boxplot(df.loc[df['guest_satisfaction_overall'] < df['guest_satisfaction_overall'].median(),\\\n",
    "              'realSum'], vert=True);\n",
    "axes[1].set_title('Satisfaction below median', size=20, pad=20)\n",
    "axes[1].grid(alpha=.3)\n",
    "axes[1].set_ylabel('realSum');"
   ]
  },
  {
   "attachments": {},
   "cell_type": "markdown",
   "id": "d1108de3",
   "metadata": {},
   "source": [
    "The boxplots are not really informative in this case."
   ]
  },
  {
   "cell_type": "code",
   "execution_count": 13,
   "id": "3c0bd4ea",
   "metadata": {},
   "outputs": [
    {
     "data": {
      "text/html": [
       "<div>\n",
       "<style scoped>\n",
       "    .dataframe tbody tr th:only-of-type {\n",
       "        vertical-align: middle;\n",
       "    }\n",
       "\n",
       "    .dataframe tbody tr th {\n",
       "        vertical-align: top;\n",
       "    }\n",
       "\n",
       "    .dataframe thead tr th {\n",
       "        text-align: left;\n",
       "    }\n",
       "\n",
       "    .dataframe thead tr:last-of-type th {\n",
       "        text-align: right;\n",
       "    }\n",
       "</style>\n",
       "<table border=\"1\" class=\"dataframe\">\n",
       "  <thead>\n",
       "    <tr>\n",
       "      <th></th>\n",
       "      <th colspan=\"3\" halign=\"left\">realSum</th>\n",
       "    </tr>\n",
       "    <tr>\n",
       "      <th></th>\n",
       "      <th>mean</th>\n",
       "      <th>median</th>\n",
       "      <th>std</th>\n",
       "    </tr>\n",
       "    <tr>\n",
       "      <th>above_median_satisfication</th>\n",
       "      <th></th>\n",
       "      <th></th>\n",
       "      <th></th>\n",
       "    </tr>\n",
       "  </thead>\n",
       "  <tbody>\n",
       "    <tr>\n",
       "      <th>False</th>\n",
       "      <td>200.678054</td>\n",
       "      <td>178.617352</td>\n",
       "      <td>116.319948</td>\n",
       "    </tr>\n",
       "    <tr>\n",
       "      <th>True</th>\n",
       "      <td>216.871489</td>\n",
       "      <td>190.073177</td>\n",
       "      <td>121.602579</td>\n",
       "    </tr>\n",
       "  </tbody>\n",
       "</table>\n",
       "</div>"
      ],
      "text/plain": [
       "                               realSum                        \n",
       "                                  mean      median         std\n",
       "above_median_satisfication                                    \n",
       "False                       200.678054  178.617352  116.319948\n",
       "True                        216.871489  190.073177  121.602579"
      ]
     },
     "execution_count": 13,
     "metadata": {},
     "output_type": "execute_result"
    }
   ],
   "source": [
    "df[['guest_satisfaction_overall', 'realSum']]\\\n",
    "    .assign(above_median_satisfication = df['guest_satisfaction_overall'] >= df['guest_satisfaction_overall'].median())\\\n",
    "    .drop('guest_satisfaction_overall', axis=1)\\\n",
    "    .groupby('above_median_satisfication')\\\n",
    "    .agg(['mean', 'median', 'std'])"
   ]
  },
  {
   "attachments": {},
   "cell_type": "markdown",
   "id": "06f8013b",
   "metadata": {},
   "source": [
    "We find some differences in respect to the overal guest satisfaction, this time the standard deviation of `realSum` being higher among the more expensive listings (for which satisfaction is found above median)."
   ]
  },
  {
   "attachments": {},
   "cell_type": "markdown",
   "id": "f96284ec",
   "metadata": {},
   "source": [
    "#### Distance from city centre and price"
   ]
  },
  {
   "attachments": {},
   "cell_type": "markdown",
   "id": "972946f4",
   "metadata": {},
   "source": [
    "I will first `pd.cut()` the `dist` variable into five equaly wide-spread intervals: "
   ]
  },
  {
   "cell_type": "code",
   "execution_count": 14,
   "id": "df6851c6",
   "metadata": {},
   "outputs": [
    {
     "data": {
      "text/html": [
       "<div>\n",
       "<style scoped>\n",
       "    .dataframe tbody tr th:only-of-type {\n",
       "        vertical-align: middle;\n",
       "    }\n",
       "\n",
       "    .dataframe tbody tr th {\n",
       "        vertical-align: top;\n",
       "    }\n",
       "\n",
       "    .dataframe thead th {\n",
       "        text-align: right;\n",
       "    }\n",
       "</style>\n",
       "<table border=\"1\" class=\"dataframe\">\n",
       "  <thead>\n",
       "    <tr style=\"text-align: right;\">\n",
       "      <th></th>\n",
       "      <th>realSum</th>\n",
       "      <th>room_type</th>\n",
       "      <th>room_shared</th>\n",
       "      <th>room_private</th>\n",
       "      <th>person_capacity</th>\n",
       "      <th>host_is_superhost</th>\n",
       "      <th>multi</th>\n",
       "      <th>biz</th>\n",
       "      <th>cleanliness_rating</th>\n",
       "      <th>guest_satisfaction_overall</th>\n",
       "      <th>bedrooms</th>\n",
       "      <th>dist</th>\n",
       "      <th>metro_dist</th>\n",
       "      <th>attr_index</th>\n",
       "      <th>attr_index_norm</th>\n",
       "      <th>rest_index</th>\n",
       "      <th>rest_index_norm</th>\n",
       "      <th>lng</th>\n",
       "      <th>lat</th>\n",
       "      <th>qdist</th>\n",
       "    </tr>\n",
       "  </thead>\n",
       "  <tbody>\n",
       "    <tr>\n",
       "      <th>0</th>\n",
       "      <td>172.772543</td>\n",
       "      <td>Private room</td>\n",
       "      <td>False</td>\n",
       "      <td>True</td>\n",
       "      <td>2.0</td>\n",
       "      <td>False</td>\n",
       "      <td>0</td>\n",
       "      <td>0</td>\n",
       "      <td>10.0</td>\n",
       "      <td>93.0</td>\n",
       "      <td>1</td>\n",
       "      <td>1.222582</td>\n",
       "      <td>0.397760</td>\n",
       "      <td>550.078435</td>\n",
       "      <td>12.187232</td>\n",
       "      <td>1075.412107</td>\n",
       "      <td>23.430621</td>\n",
       "      <td>12.50181</td>\n",
       "      <td>41.88987</td>\n",
       "      <td>(0.0323, 1.945]</td>\n",
       "    </tr>\n",
       "    <tr>\n",
       "      <th>1</th>\n",
       "      <td>156.874664</td>\n",
       "      <td>Private room</td>\n",
       "      <td>False</td>\n",
       "      <td>True</td>\n",
       "      <td>2.0</td>\n",
       "      <td>True</td>\n",
       "      <td>1</td>\n",
       "      <td>0</td>\n",
       "      <td>10.0</td>\n",
       "      <td>95.0</td>\n",
       "      <td>1</td>\n",
       "      <td>2.978482</td>\n",
       "      <td>1.595742</td>\n",
       "      <td>281.162756</td>\n",
       "      <td>6.229285</td>\n",
       "      <td>697.725034</td>\n",
       "      <td>15.201736</td>\n",
       "      <td>12.48654</td>\n",
       "      <td>41.92498</td>\n",
       "      <td>(1.945, 3.847]</td>\n",
       "    </tr>\n",
       "    <tr>\n",
       "      <th>2</th>\n",
       "      <td>195.917986</td>\n",
       "      <td>Private room</td>\n",
       "      <td>False</td>\n",
       "      <td>True</td>\n",
       "      <td>2.0</td>\n",
       "      <td>False</td>\n",
       "      <td>1</td>\n",
       "      <td>0</td>\n",
       "      <td>9.0</td>\n",
       "      <td>80.0</td>\n",
       "      <td>1</td>\n",
       "      <td>0.935379</td>\n",
       "      <td>0.649273</td>\n",
       "      <td>482.708059</td>\n",
       "      <td>10.694611</td>\n",
       "      <td>1251.514249</td>\n",
       "      <td>27.267459</td>\n",
       "      <td>12.49627</td>\n",
       "      <td>41.90801</td>\n",
       "      <td>(0.0323, 1.945]</td>\n",
       "    </tr>\n",
       "    <tr>\n",
       "      <th>3</th>\n",
       "      <td>298.552825</td>\n",
       "      <td>Entire home/apt</td>\n",
       "      <td>False</td>\n",
       "      <td>False</td>\n",
       "      <td>4.0</td>\n",
       "      <td>False</td>\n",
       "      <td>0</td>\n",
       "      <td>1</td>\n",
       "      <td>9.0</td>\n",
       "      <td>90.0</td>\n",
       "      <td>1</td>\n",
       "      <td>2.203023</td>\n",
       "      <td>0.494699</td>\n",
       "      <td>691.716421</td>\n",
       "      <td>15.325284</td>\n",
       "      <td>1625.911297</td>\n",
       "      <td>35.424663</td>\n",
       "      <td>12.47700</td>\n",
       "      <td>41.90700</td>\n",
       "      <td>(1.945, 3.847]</td>\n",
       "    </tr>\n",
       "    <tr>\n",
       "      <th>4</th>\n",
       "      <td>131.391298</td>\n",
       "      <td>Private room</td>\n",
       "      <td>False</td>\n",
       "      <td>True</td>\n",
       "      <td>3.0</td>\n",
       "      <td>False</td>\n",
       "      <td>1</td>\n",
       "      <td>0</td>\n",
       "      <td>9.0</td>\n",
       "      <td>91.0</td>\n",
       "      <td>1</td>\n",
       "      <td>1.295984</td>\n",
       "      <td>0.867473</td>\n",
       "      <td>317.074092</td>\n",
       "      <td>7.024917</td>\n",
       "      <td>836.616071</td>\n",
       "      <td>18.227835</td>\n",
       "      <td>12.51544</td>\n",
       "      <td>41.89463</td>\n",
       "      <td>(0.0323, 1.945]</td>\n",
       "    </tr>\n",
       "  </tbody>\n",
       "</table>\n",
       "</div>"
      ],
      "text/plain": [
       "      realSum        room_type  room_shared  room_private  person_capacity  \\\n",
       "0  172.772543     Private room        False          True              2.0   \n",
       "1  156.874664     Private room        False          True              2.0   \n",
       "2  195.917986     Private room        False          True              2.0   \n",
       "3  298.552825  Entire home/apt        False         False              4.0   \n",
       "4  131.391298     Private room        False          True              3.0   \n",
       "\n",
       "   host_is_superhost  multi  biz  cleanliness_rating  \\\n",
       "0              False      0    0                10.0   \n",
       "1               True      1    0                10.0   \n",
       "2              False      1    0                 9.0   \n",
       "3              False      0    1                 9.0   \n",
       "4              False      1    0                 9.0   \n",
       "\n",
       "   guest_satisfaction_overall  bedrooms      dist  metro_dist  attr_index  \\\n",
       "0                        93.0         1  1.222582    0.397760  550.078435   \n",
       "1                        95.0         1  2.978482    1.595742  281.162756   \n",
       "2                        80.0         1  0.935379    0.649273  482.708059   \n",
       "3                        90.0         1  2.203023    0.494699  691.716421   \n",
       "4                        91.0         1  1.295984    0.867473  317.074092   \n",
       "\n",
       "   attr_index_norm   rest_index  rest_index_norm       lng       lat  \\\n",
       "0        12.187232  1075.412107        23.430621  12.50181  41.88987   \n",
       "1         6.229285   697.725034        15.201736  12.48654  41.92498   \n",
       "2        10.694611  1251.514249        27.267459  12.49627  41.90801   \n",
       "3        15.325284  1625.911297        35.424663  12.47700  41.90700   \n",
       "4         7.024917   836.616071        18.227835  12.51544  41.89463   \n",
       "\n",
       "             qdist  \n",
       "0  (0.0323, 1.945]  \n",
       "1   (1.945, 3.847]  \n",
       "2  (0.0323, 1.945]  \n",
       "3   (1.945, 3.847]  \n",
       "4  (0.0323, 1.945]  "
      ]
     },
     "execution_count": 14,
     "metadata": {},
     "output_type": "execute_result"
    }
   ],
   "source": [
    "df['qdist'] = pd.cut(x=df['dist'], bins=5, include_lowest=True)\n",
    "df.head()"
   ]
  },
  {
   "attachments": {},
   "cell_type": "markdown",
   "id": "64826f71",
   "metadata": {},
   "source": [
    "The group means plot can be easily obtained from Pandas directly by relying on `groupby` then:"
   ]
  },
  {
   "cell_type": "code",
   "execution_count": 15,
   "id": "3a5f6765",
   "metadata": {},
   "outputs": [
    {
     "data": {
      "text/plain": [
       "<AxesSubplot: xlabel='Distance', ylabel='Average Price'>"
      ]
     },
     "execution_count": 15,
     "metadata": {},
     "output_type": "execute_result"
    },
    {
     "data": {
      "image/png": "[encoded data removed]",
      "text/plain": [
       "<Figure size 640x480 with 1 Axes>"
      ]
     },
     "metadata": {},
     "output_type": "display_data"
    }
   ],
   "source": [
    "df.groupby('qdist').realSum.mean().plot(xlabel=\"Distance\", ylabel=\"Average Price\")"
   ]
  },
  {
   "attachments": {},
   "cell_type": "markdown",
   "id": "6159a7e0",
   "metadata": {},
   "source": [
    "Obviously, the lesser the distance from the city centre - the higher the listing price. However, it seems that there is an anomaly present: look at the average price in the most distant places."
   ]
  },
  {
   "cell_type": "code",
   "execution_count": 16,
   "id": "e6b06715",
   "metadata": {},
   "outputs": [
    {
     "data": {
      "image/png": "[encoded data removed]",
      "text/plain": [
       "<Figure size 640x480 with 1 Axes>"
      ]
     },
     "metadata": {},
     "output_type": "display_data"
    }
   ],
   "source": [
    "sns.boxplot(x=\"qdist\", y=\"realSum\",\n",
    "            hue=\"qdist\",\n",
    "            data=df)\n",
    "sns.despine(offset=10, trim=True)"
   ]
  },
  {
   "cell_type": "markdown",
   "id": "9f980883",
   "metadata": {},
   "source": [
    "***"
   ]
  },
  {
   "cell_type": "markdown",
   "id": "0b89db07",
   "metadata": {},
   "source": [
    "DataKolektiv, 2022/23.\n",
    "\n",
    "[hello@datakolektiv.com](mailto:goran.milovanovic@datakolektiv.com)\n",
    "\n",
    "![](../img/DK_Logo_100.png)"
   ]
  },
  {
   "cell_type": "markdown",
   "id": "f1a5af7d",
   "metadata": {},
   "source": [
    "<font size=1>License: [GPLv3](https://www.gnu.org/licenses/gpl-3.0.txt) This Notebook is free software: you can redistribute it and/or modify it under the terms of the GNU General Public License as published by the Free Software Foundation, either version 3 of the License, or (at your option) any later version. This Notebook is distributed in the hope that it will be useful, but WITHOUT ANY WARRANTY; without even the implied warranty of MERCHANTABILITY or FITNESS FOR A PARTICULAR PURPOSE. See the GNU General Public License for more details. You should have received a copy of the GNU General Public License along with this Notebook. If not, see http://www.gnu.org/licenses/.</font>"
   ]
  }
 ],
 "metadata": {
  "kernelspec": {
   "display_name": "Python 3",
   "language": "python",
   "name": "python3"
  },
  "language_info": {
   "codemirror_mode": {
    "name": "ipython",
    "version": 3
   },
   "file_extension": ".py",
   "mimetype": "text/x-python",
   "name": "python",
   "nbconvert_exporter": "python",
   "pygments_lexer": "ipython3",
   "version": "3.8.10"
  }
 },
 "nbformat": 4,
 "nbformat_minor": 5
}
