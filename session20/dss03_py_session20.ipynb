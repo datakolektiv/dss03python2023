{
 "cells": [
  {
   "attachments": {},
   "cell_type": "markdown",
   "id": "45045c69",
   "metadata": {},
   "source": [
    "# DATA SCIENCE SESSIONS VOL. 3\n",
    "### A Foundational Python Data Science Course\n",
    "## Session 18: Generalized Linear Models III. Multinomial Logistic Regression. Regularization of MNR. \n",
    "\n",
    "[&larr; Back to course webpage](https://datakolektiv.com/)\n",
    "\n",
    "Feedback should be send to [goran.milovanovic@datakolektiv.com](mailto:goran.milovanovic@datakolektiv.com). \n",
    "\n",
    "These notebooks accompany the DATA SCIENCE SESSIONS VOL. 3 :: A Foundational Python Data Science Course."
   ]
  },
  {
   "attachments": {},
   "cell_type": "markdown",
   "id": "62cd48f6",
   "metadata": {},
   "source": [
    "![](../img/IntroRDataScience_NonTech-1.jpg)"
   ]
  },
  {
   "attachments": {},
   "cell_type": "markdown",
   "id": "500b83fb",
   "metadata": {},
   "source": [
    "### Lecturers\n",
    "\n",
    "[Goran S. Milovanović, PhD, DataKolektiv, Chief Scientist & Owner](https://www.linkedin.com/in/gmilovanovic/)\n",
    "\n",
    "[Aleksandar Cvetković, PhD, DataKolektiv, Consultant](https://www.linkedin.com/in/alegzndr/)\n",
    "\n",
    "[Ilija Lazarević, MA, DataKolektiv, Consultant](https://www.linkedin.com/in/ilijalazarevic/)"
   ]
  },
  {
   "attachments": {},
   "cell_type": "markdown",
   "id": "ab6dd040",
   "metadata": {},
   "source": [
    "![](../img/DK_Logo_100.png)"
   ]
  },
  {
   "attachments": {},
   "cell_type": "markdown",
   "id": "1110a258",
   "metadata": {},
   "source": [
    "***"
   ]
  },
  {
   "cell_type": "code",
   "execution_count": 1,
   "id": "a4a7b078",
   "metadata": {},
   "outputs": [],
   "source": [
    "### --- Setup - importing the libraries\n",
    "\n",
    "# - supress those annoying 'Future Warning'\n",
    "import warnings\n",
    "warnings.simplefilter(action='ignore', category=FutureWarning)\n",
    "\n",
    "# - data\n",
    "import numpy as np\n",
    "import pandas as pd\n",
    "\n",
    "# - os\n",
    "import os\n",
    "\n",
    "# - ml\n",
    "import statsmodels.api as sm\n",
    "import statsmodels.formula.api as smf\n",
    "from statsmodels.stats.outliers_influence import variance_inflation_factor\n",
    "\n",
    "from sklearn.metrics import ConfusionMatrixDisplay\n",
    "from sklearn.metrics import plot_confusion_matrix\n",
    "\n",
    "\n",
    "from sklearn import tree\n",
    "from sklearn.tree import DecisionTreeClassifier\n",
    "\n",
    "# - visualization\n",
    "import matplotlib.pyplot as plt\n",
    "import seaborn as sns\n",
    "\n",
    "# - directory tree\n",
    "data_dir = os.path.join(os.getcwd(), '_data')"
   ]
  },
  {
   "attachments": {},
   "cell_type": "markdown",
   "id": "27df2849",
   "metadata": {},
   "source": [
    "# Decision Trees\n",
    "\n",
    "Decision trees are powerful and widely used models in machine learning and data science. They provide a systematic and intuitive approach to solving classification and regression problems. Decision trees mimic human decision-making processes by breaking down complex problems into a sequence of simpler decisions or conditions.\n",
    "\n",
    "At its core, a decision tree is a flowchart-like structure that consists of nodes and branches. Each node represents a feature or attribute, and the branches represent the possible values or outcomes of that feature. The tree structure starts with a root node and branches out into intermediate nodes, known as internal nodes, and leaf nodes, which represent the final decision or prediction.\n",
    "\n",
    "Example of decision tree would be:\n",
    "\n",
    "![](_images/decision_tree_example.png)\n"
   ]
  },
  {
   "attachments": {},
   "cell_type": "markdown",
   "id": "ea367468",
   "metadata": {},
   "source": [
    "The important thing is that there is a goal in mind e.g. to buy a car. Then, based on options and decisions, the path to the goal is defined with it.\n",
    "\n",
    "In general, decision trees are used in decision analysis to help define best strategy to reach given goal.\n",
    "\n",
    "In machine learning, and particularly in supervised learning, we use decision trees based on the data where goal was already reached. In that sense, what we are trying to do is to reverse-engineer the whole process, and based on data provided come up with the tree-like structure of rules, that can support the evidence in data.\n",
    "\n",
    "Let's take a quick look at how we create decision trees with `sklearn` library. \n",
    "\n",
    "For this session we are going to use *Titanic* dataset, one of the few data sets that are widely known because it contains data of all Titanic survivors. For each of the passengers there is a set of characteristics and a flag variable *Survived* that marks if the passenger survived or not. As you can imagine, this is going to be classification problem at hand, and we will start by showing how decision trees can be used in classification."
   ]
  },
  {
   "cell_type": "code",
   "execution_count": 2,
   "id": "9d16b9f1",
   "metadata": {},
   "outputs": [],
   "source": [
    "df_train = pd.read_csv(os.path.join(data_dir, 'train.csv'))"
   ]
  },
  {
   "cell_type": "code",
   "execution_count": 3,
   "id": "0e3a4014",
   "metadata": {},
   "outputs": [
    {
     "data": {
      "text/html": [
       "<div>\n",
       "<style scoped>\n",
       "    .dataframe tbody tr th:only-of-type {\n",
       "        vertical-align: middle;\n",
       "    }\n",
       "\n",
       "    .dataframe tbody tr th {\n",
       "        vertical-align: top;\n",
       "    }\n",
       "\n",
       "    .dataframe thead th {\n",
       "        text-align: right;\n",
       "    }\n",
       "</style>\n",
       "<table border=\"1\" class=\"dataframe\">\n",
       "  <thead>\n",
       "    <tr style=\"text-align: right;\">\n",
       "      <th></th>\n",
       "      <th>PassengerId</th>\n",
       "      <th>Survived</th>\n",
       "      <th>Pclass</th>\n",
       "      <th>Name</th>\n",
       "      <th>Sex</th>\n",
       "      <th>Age</th>\n",
       "      <th>SibSp</th>\n",
       "      <th>Parch</th>\n",
       "      <th>Ticket</th>\n",
       "      <th>Fare</th>\n",
       "      <th>Cabin</th>\n",
       "      <th>Embarked</th>\n",
       "    </tr>\n",
       "  </thead>\n",
       "  <tbody>\n",
       "    <tr>\n",
       "      <th>0</th>\n",
       "      <td>1</td>\n",
       "      <td>0</td>\n",
       "      <td>3</td>\n",
       "      <td>Braund, Mr. Owen Harris</td>\n",
       "      <td>male</td>\n",
       "      <td>22.0</td>\n",
       "      <td>1</td>\n",
       "      <td>0</td>\n",
       "      <td>A/5 21171</td>\n",
       "      <td>7.2500</td>\n",
       "      <td>NaN</td>\n",
       "      <td>S</td>\n",
       "    </tr>\n",
       "    <tr>\n",
       "      <th>1</th>\n",
       "      <td>2</td>\n",
       "      <td>1</td>\n",
       "      <td>1</td>\n",
       "      <td>Cumings, Mrs. John Bradley (Florence Briggs Th...</td>\n",
       "      <td>female</td>\n",
       "      <td>38.0</td>\n",
       "      <td>1</td>\n",
       "      <td>0</td>\n",
       "      <td>PC 17599</td>\n",
       "      <td>71.2833</td>\n",
       "      <td>C85</td>\n",
       "      <td>C</td>\n",
       "    </tr>\n",
       "    <tr>\n",
       "      <th>2</th>\n",
       "      <td>3</td>\n",
       "      <td>1</td>\n",
       "      <td>3</td>\n",
       "      <td>Heikkinen, Miss. Laina</td>\n",
       "      <td>female</td>\n",
       "      <td>26.0</td>\n",
       "      <td>0</td>\n",
       "      <td>0</td>\n",
       "      <td>STON/O2. 3101282</td>\n",
       "      <td>7.9250</td>\n",
       "      <td>NaN</td>\n",
       "      <td>S</td>\n",
       "    </tr>\n",
       "    <tr>\n",
       "      <th>3</th>\n",
       "      <td>4</td>\n",
       "      <td>1</td>\n",
       "      <td>1</td>\n",
       "      <td>Futrelle, Mrs. Jacques Heath (Lily May Peel)</td>\n",
       "      <td>female</td>\n",
       "      <td>35.0</td>\n",
       "      <td>1</td>\n",
       "      <td>0</td>\n",
       "      <td>113803</td>\n",
       "      <td>53.1000</td>\n",
       "      <td>C123</td>\n",
       "      <td>S</td>\n",
       "    </tr>\n",
       "    <tr>\n",
       "      <th>4</th>\n",
       "      <td>5</td>\n",
       "      <td>0</td>\n",
       "      <td>3</td>\n",
       "      <td>Allen, Mr. William Henry</td>\n",
       "      <td>male</td>\n",
       "      <td>35.0</td>\n",
       "      <td>0</td>\n",
       "      <td>0</td>\n",
       "      <td>373450</td>\n",
       "      <td>8.0500</td>\n",
       "      <td>NaN</td>\n",
       "      <td>S</td>\n",
       "    </tr>\n",
       "  </tbody>\n",
       "</table>\n",
       "</div>"
      ],
      "text/plain": [
       "   PassengerId  Survived  Pclass  \\\n",
       "0            1         0       3   \n",
       "1            2         1       1   \n",
       "2            3         1       3   \n",
       "3            4         1       1   \n",
       "4            5         0       3   \n",
       "\n",
       "                                                Name     Sex   Age  SibSp  \\\n",
       "0                            Braund, Mr. Owen Harris    male  22.0      1   \n",
       "1  Cumings, Mrs. John Bradley (Florence Briggs Th...  female  38.0      1   \n",
       "2                             Heikkinen, Miss. Laina  female  26.0      0   \n",
       "3       Futrelle, Mrs. Jacques Heath (Lily May Peel)  female  35.0      1   \n",
       "4                           Allen, Mr. William Henry    male  35.0      0   \n",
       "\n",
       "   Parch            Ticket     Fare Cabin Embarked  \n",
       "0      0         A/5 21171   7.2500   NaN        S  \n",
       "1      0          PC 17599  71.2833   C85        C  \n",
       "2      0  STON/O2. 3101282   7.9250   NaN        S  \n",
       "3      0            113803  53.1000  C123        S  \n",
       "4      0            373450   8.0500   NaN        S  "
      ]
     },
     "execution_count": 3,
     "metadata": {},
     "output_type": "execute_result"
    }
   ],
   "source": [
    "df_train.head()"
   ]
  },
  {
   "attachments": {},
   "cell_type": "markdown",
   "id": "8fe10db1",
   "metadata": {},
   "source": [
    "Let's for the sake of quick overview run next cell without going into details:"
   ]
  },
  {
   "cell_type": "code",
   "execution_count": 6,
   "id": "d4d216d2",
   "metadata": {},
   "outputs": [
    {
     "data": {
      "image/png": "[encoded data removed]",
      "text/plain": [
       "<Figure size 1000x600 with 1 Axes>"
      ]
     },
     "metadata": {},
     "output_type": "display_data"
    }
   ],
   "source": [
    "# select few predictors\n",
    "df_train = df_train[['Survived', 'Pclass', 'Sex', 'Age']]\n",
    "\n",
    "# encode binary categorical variable\n",
    "df_train['Sex'] = df_train['Sex'].replace({'male': 0, 'female': 1})\n",
    "\n",
    "# drop observations with NaN values\n",
    "df_train = df_train.dropna()\n",
    "\n",
    "# create DT\n",
    "dc = DecisionTreeClassifier(max_depth=3, criterion='entropy')\n",
    "# fit the DT\n",
    "X, y = df_train.drop(columns=['Survived']), df_train[['Survived']]\n",
    "dc.fit(X, y)\n",
    "\n",
    "# plot the DT\n",
    "fig = plt.figure(figsize=(10, 6))\n",
    "_ = tree.plot_tree(dc, \n",
    "                   feature_names=dc.feature_names_in_,  \n",
    "                   class_names=['no', 'yes'],\n",
    "                   filled=True, \n",
    "                   rounded=True)\n",
    "plt.gca().set_title('Decision Tree for Titanic survival data.');"
   ]
  },
  {
   "attachments": {},
   "cell_type": "markdown",
   "id": "602cebc6",
   "metadata": {},
   "source": [
    "As you can see, there is 15 nodes in this tree. First node at the top is called tree root. Nodes at the bottom are called leafs. Each node contains 5 rows of information, and most of these are not that important at the moment. First row in each node shows the name of the predictor that algorithm used for creating the logical expression. Based on the truth of this expression does algorithm spawn another tree branch and node. \n",
    "\n",
    "But how does algorithm decide which predictor and value to use for each node's logical expression?\n",
    "\n",
    "Here we have to make a short detour into **Information Theory** and describe important concepts that will make everything clear. And remember, we are still at classification problems. Later on we will move to a regression ones."
   ]
  },
  {
   "attachments": {},
   "cell_type": "markdown",
   "id": "ee77d9f4",
   "metadata": {},
   "source": [
    "## Information theory\n",
    "\n",
    "Information theory is a discipline that focuses on the mathematical study of information, its transmission, storage, and processing. Developed by Claude Shannon in the mid-20th century, information theory provides a quantitative framework to measure the amount of information contained in a message or data. It offers insights into how efficiently information can be encoded, transmitted, and decoded, while accounting for factors such as noise and uncertainty.\n",
    "\n",
    "At the core of information theory is the concept of entropy, which quantifies the uncertainty or randomness in a set of data. Shannon's entropy measures the average amount of information needed to identify an outcome in a dataset. By analyzing the distribution and probabilities of outcomes, entropy enables us to understand the optimal encoding and compression schemes for efficient data representation. \n",
    "\n",
    "Information theory has found applications in various fields, including telecommunications, data compression, cryptography, and machine learning, providing a solid mathematical foundation for understanding and manipulating information in a quantitative manner.\n",
    "\n",
    "The important concept that we are introducing here, for the purpose of creating decision trees is **entropy**. As already stated, it **quantifies the uncertainty or randomness in a set of data**.\n",
    "\n",
    "Let us, in parallel, define **information content**, and let us view it from the perspective of a certain event happening. As you can already remember, we talked about term event when we spoke about probability. And this is exactly how we are going to approach describing these concepts.\n"
   ]
  },
  {
   "attachments": {},
   "cell_type": "markdown",
   "id": "7a23f1f2",
   "metadata": {},
   "source": [
    "### Information and Probability\n",
    "\n",
    "For the sake of clear explanation, let's imagine each day at noon, you look through your windows, at the sky. Is it day or night? Day most probably. As a matter of fact, it is certainly day (except there is an eclipse). And since this surely must be a day, and not night, how informative is this insight to you? You could just as easily guessed that it is a day, and you would be right. Probability of being a day at noon is 99.99% (or something very close). \n",
    "\n",
    "This is very intuitive, right? If something is almost certain, than we are probably used to it, and that information is of low value to us. We can say it has a low information content. And randomness of this event is very low, right? \n",
    "\n",
    "If we sum this up, we can say that **event with high probability has low information content** (*self-information*).\n",
    "\n",
    "In the scenario where there was an eclipse, it would be 'night', right? And this would be something you would eagerly rush to tell your friends. Why? Because it is of great value i.e. high information content. And we all know that eclipse has very low probability. Let's imagine we do not have ways of knowing the exact day it will happen, because we do, at this day and age. But this is not the point. The point is, **event with low probability has high information content**.\n",
    "\n",
    "### Information content\n",
    "\n",
    "Apparently, there are few other assumptions that Claude Shannon introduced, while defining information content as a concept. And while you may think that information content should be defined as $\\frac{1}{P(E)}$, where $E$ is an event, it is defined as:\n",
    "\n",
    "$$ I(E) = \\log_{2}{\\frac{1}{P(E)}}.$$\n",
    "\n",
    "Using highschool knowledge of logarighms, we can write this in another form:\n",
    "\n",
    "$$I(E) = - \\log_{2}\\bigl({P(E)}\\bigr).$$\n",
    "\n",
    "But why **logarithm**? Well, one of the assumptions was that if there are two events, $A$ and $B$, and $P(A) > P(B)$, then $I(A) < I(B)$. This of course can be satisfied with using $\\frac{1}{P(E)}$ as an expression of information content. \n",
    "\n",
    "However, another assumption is that if there are two independent events $A$ and $B$, information content of them both happening should be the sum of information contents of each of them happening, or $I(P(A, B)) = I(P(A)) + I(P(B))$. If we remember from the probability theory, for two indepentend events $A$ and $B$, we had that:\n",
    "\n",
    "$$P(A\\cap B) = P(A, B) = P(A)P(B).$$\n",
    "\n",
    "Because of this, logarithm was a convenient function to use to express information content.\n",
    "\n",
    "Now, let's define Python function that will return information content for event based on it's probability.\n"
   ]
  },
  {
   "cell_type": "code",
   "execution_count": 7,
   "id": "7ed1a561",
   "metadata": {},
   "outputs": [],
   "source": [
    "def self_information(p: float = .5):\n",
    "    return -np.log2(p)"
   ]
  },
  {
   "cell_type": "code",
   "execution_count": 8,
   "id": "8eb5aa3e",
   "metadata": {},
   "outputs": [
    {
     "data": {
      "text/plain": [
       "1.0"
      ]
     },
     "execution_count": 8,
     "metadata": {},
     "output_type": "execute_result"
    }
   ],
   "source": [
    "# Self-information of event with .5 probability\n",
    "self_information(.5)"
   ]
  },
  {
   "attachments": {},
   "cell_type": "markdown",
   "id": "b74f921a",
   "metadata": {},
   "source": [
    "You could say, that if we flip a fair coin, the information content of result being Heads is 1.0. This is also the maximal randomness, right? We can't say what result is more probable, since both are equaly probable. And since randomness is at it's peak, we say that the entropy is also maximal.\n",
    "\n",
    "What about we plot information content as a function of probability?"
   ]
  },
  {
   "cell_type": "code",
   "execution_count": 37,
   "id": "f3e62cc7",
   "metadata": {},
   "outputs": [
    {
     "data": {
      "image/png": "[encoded data removed]",
      "text/plain": [
       "<Figure size 640x480 with 1 Axes>"
      ]
     },
     "metadata": {},
     "output_type": "display_data"
    }
   ],
   "source": [
    "x = np.linspace(0.01, 1, 100)\n",
    "y = self_information(x)\n",
    "plt.plot(x, y)\n",
    "sns.despine()\n",
    "plt.xlabel('p')\n",
    "plt.ylim(0)\n",
    "plt.xlim(0)\n",
    "plt.plot((.5, .5), (1, 0), '--', color='grey')\n",
    "plt.plot((.0, .5), (1, 1), '--', color='grey')\n",
    "plt.ylabel('self-information')\n",
    "plt.title('Self-information as a function of probability p.');"
   ]
  },
  {
   "attachments": {},
   "cell_type": "markdown",
   "id": "c695d7a6",
   "metadata": {},
   "source": [
    "Information of 5 independent throws (of fair coin), i.e. gettin sequence of results: **0 1 1 0 1**?"
   ]
  },
  {
   "cell_type": "code",
   "execution_count": 45,
   "id": "4c1291cc",
   "metadata": {},
   "outputs": [
    {
     "data": {
      "text/plain": [
       "5.0"
      ]
     },
     "execution_count": 45,
     "metadata": {},
     "output_type": "execute_result"
    }
   ],
   "source": [
    "PH = .5\n",
    "PT = .5\n",
    "\n",
    "self_information(PT) + self_information(PH) + self_information(PH) + self_information(PT) + self_information(PT)"
   ]
  },
  {
   "attachments": {},
   "cell_type": "markdown",
   "id": "d82cce8d",
   "metadata": {},
   "source": [
    "And what is an average information content for these throws"
   ]
  },
  {
   "cell_type": "code",
   "execution_count": 47,
   "id": "acfe7348",
   "metadata": {},
   "outputs": [
    {
     "data": {
      "text/plain": [
       "1.0"
      ]
     },
     "execution_count": 47,
     "metadata": {},
     "output_type": "execute_result"
    }
   ],
   "source": [
    "(3 * self_information(PH) + 2 * self_information(PT)) / 5"
   ]
  },
  {
   "attachments": {},
   "cell_type": "markdown",
   "id": "da3ea48b",
   "metadata": {},
   "source": [
    "### Information Entropy\n",
    "\n",
    "Now, what if we wanted to generalize above presented approach and define a way of defining average information content for random variable at hand? \n",
    "\n",
    "Let's start with the descrete random variable.\n",
    "\n",
    "If we have **p** as a vector of probabilities for each possible state of a random variable X, then average information content, also called **information entropy**, would be defined as:\n",
    "\n",
    "$$H(X)=-\\sum_i p_ilog_2p_i$$\n",
    "\n",
    "Defining it for continous random variable is very similar:\n",
    "\n",
    "$$H(X)=\\int p(x)log_2p(x)dx$$\n",
    "\n",
    "How about we define Python function that will return information entropy of a descrete random variable which vector of probabilities is defined as **p**."
   ]
  },
  {
   "cell_type": "code",
   "execution_count": 48,
   "id": "4451c7e0",
   "metadata": {},
   "outputs": [],
   "source": [
    "def entropy(p):\n",
    "    return np.sum(p * self_information(p))"
   ]
  },
  {
   "attachments": {},
   "cell_type": "markdown",
   "id": "6660facd",
   "metadata": {},
   "source": [
    "What is the information entropy of a random variable describing fair coin flip?"
   ]
  },
  {
   "cell_type": "code",
   "execution_count": 49,
   "id": "e2c7d50c",
   "metadata": {},
   "outputs": [
    {
     "data": {
      "text/plain": [
       "1.0"
      ]
     },
     "execution_count": 49,
     "metadata": {},
     "output_type": "execute_result"
    }
   ],
   "source": [
    "entropy([1/2, 1/2])"
   ]
  },
  {
   "attachments": {},
   "cell_type": "markdown",
   "id": "63986d7c",
   "metadata": {},
   "source": [
    "And what about fair six-sided dice?"
   ]
  },
  {
   "cell_type": "code",
   "execution_count": 50,
   "id": "6f95711f",
   "metadata": {},
   "outputs": [
    {
     "data": {
      "text/plain": [
       "2.584962500721156"
      ]
     },
     "execution_count": 50,
     "metadata": {},
     "output_type": "execute_result"
    }
   ],
   "source": [
    "entropy([1/6, 1/6, 1/6, 1/6, 1/6, 1/6])"
   ]
  },
  {
   "attachments": {},
   "cell_type": "markdown",
   "id": "4119903a",
   "metadata": {},
   "source": [
    "And now, what about we plot entropy as a function of a probability of getting Heads in coin flip?"
   ]
  },
  {
   "cell_type": "code",
   "execution_count": 66,
   "id": "c4d92983",
   "metadata": {},
   "outputs": [
    {
     "data": {
      "image/png": "[encoded data removed]",
      "text/plain": [
       "<Figure size 640x480 with 1 Axes>"
      ]
     },
     "metadata": {},
     "output_type": "display_data"
    }
   ],
   "source": [
    "x = np.linspace(0.001, 0.999, 100)\n",
    "y = list(map(entropy, list(zip(x, 1-x))))\n",
    "plt.plot(x, y)\n",
    "sns.despine()\n",
    "plt.title('Entropy as a function of probability of getting Heads.');\n"
   ]
  },
  {
   "attachments": {},
   "cell_type": "markdown",
   "id": "1b73abec",
   "metadata": {},
   "source": [
    "Wait wait, what happened there? Where? Here `list(map(entropy, list(zip(x, 1-x))))`?\n",
    "\n",
    "Let's go step by step."
   ]
  },
  {
   "cell_type": "code",
   "execution_count": 68,
   "id": "367da2b3",
   "metadata": {},
   "outputs": [
    {
     "data": {
      "text/plain": [
       "(array([0.001     , 0.01108081, 0.02116162, 0.03124242, 0.04132323,\n",
       "        0.05140404, 0.06148485, 0.07156566, 0.08164646, 0.09172727]),\n",
       " array([0.999     , 0.98891919, 0.97883838, 0.96875758, 0.95867677,\n",
       "        0.94859596, 0.93851515, 0.92843434, 0.91835354, 0.90827273]))"
      ]
     },
     "execution_count": 68,
     "metadata": {},
     "output_type": "execute_result"
    }
   ],
   "source": [
    "x[:10], (1-x)[:10]"
   ]
  },
  {
   "cell_type": "code",
   "execution_count": 69,
   "id": "73ce957f",
   "metadata": {},
   "outputs": [
    {
     "data": {
      "text/plain": [
       "[(0.001, 0.999),\n",
       " (0.01108080808080808, 0.988919191919192),\n",
       " (0.021161616161616163, 0.9788383838383838),\n",
       " (0.031242424242424245, 0.9687575757575757),\n",
       " (0.041323232323232324, 0.9586767676767677),\n",
       " (0.0514040404040404, 0.9485959595959595),\n",
       " (0.06148484848484849, 0.9385151515151515),\n",
       " (0.07156565656565657, 0.9284343434343434),\n",
       " (0.08164646464646465, 0.9183535353535354),\n",
       " (0.09172727272727273, 0.9082727272727272)]"
      ]
     },
     "execution_count": 69,
     "metadata": {},
     "output_type": "execute_result"
    }
   ],
   "source": [
    "list(zip(x, 1-x))[:10]"
   ]
  },
  {
   "cell_type": "code",
   "execution_count": 71,
   "id": "8b3d9abd",
   "metadata": {},
   "outputs": [
    {
     "data": {
      "text/plain": [
       "[0.011407757737461138,\n",
       " 0.08787596435469067,\n",
       " 0.14791393481427534,\n",
       " 0.20058479115485361,\n",
       " 0.24832660995876613,\n",
       " 0.292331543644311,\n",
       " 0.3333112291872919,\n",
       " 0.3717393976676705,\n",
       " 0.4079542063302699,\n",
       " 0.44220910087961685]"
      ]
     },
     "execution_count": 71,
     "metadata": {},
     "output_type": "execute_result"
    }
   ],
   "source": [
    "list(map(entropy, list(zip(x, 1-x))[:10]))"
   ]
  },
  {
   "attachments": {},
   "cell_type": "markdown",
   "id": "b4876910",
   "metadata": {},
   "source": [
    "Now, let's try solving next problem. We have 12 balls, *blue* and *red*, and we have them ordered.\n",
    "\n",
    "What is the information entropy of this group of balls in respect to the colors present?\n",
    "\n",
    "We will define `DataFrame` to visualize this example:"
   ]
  },
  {
   "cell_type": "code",
   "execution_count": 101,
   "id": "403948ec",
   "metadata": {},
   "outputs": [
    {
     "data": {
      "text/html": [
       "<div>\n",
       "<style scoped>\n",
       "    .dataframe tbody tr th:only-of-type {\n",
       "        vertical-align: middle;\n",
       "    }\n",
       "\n",
       "    .dataframe tbody tr th {\n",
       "        vertical-align: top;\n",
       "    }\n",
       "\n",
       "    .dataframe thead th {\n",
       "        text-align: right;\n",
       "    }\n",
       "</style>\n",
       "<table border=\"1\" class=\"dataframe\">\n",
       "  <thead>\n",
       "    <tr style=\"text-align: right;\">\n",
       "      <th></th>\n",
       "      <th>num</th>\n",
       "      <th>color</th>\n",
       "      <th>color_label</th>\n",
       "    </tr>\n",
       "  </thead>\n",
       "  <tbody>\n",
       "    <tr>\n",
       "      <th>0</th>\n",
       "      <td>1</td>\n",
       "      <td>b</td>\n",
       "      <td>1</td>\n",
       "    </tr>\n",
       "    <tr>\n",
       "      <th>1</th>\n",
       "      <td>2</td>\n",
       "      <td>r</td>\n",
       "      <td>0</td>\n",
       "    </tr>\n",
       "    <tr>\n",
       "      <th>2</th>\n",
       "      <td>3</td>\n",
       "      <td>r</td>\n",
       "      <td>0</td>\n",
       "    </tr>\n",
       "    <tr>\n",
       "      <th>3</th>\n",
       "      <td>4</td>\n",
       "      <td>r</td>\n",
       "      <td>0</td>\n",
       "    </tr>\n",
       "    <tr>\n",
       "      <th>4</th>\n",
       "      <td>5</td>\n",
       "      <td>b</td>\n",
       "      <td>1</td>\n",
       "    </tr>\n",
       "    <tr>\n",
       "      <th>5</th>\n",
       "      <td>6</td>\n",
       "      <td>b</td>\n",
       "      <td>1</td>\n",
       "    </tr>\n",
       "    <tr>\n",
       "      <th>6</th>\n",
       "      <td>7</td>\n",
       "      <td>b</td>\n",
       "      <td>1</td>\n",
       "    </tr>\n",
       "    <tr>\n",
       "      <th>7</th>\n",
       "      <td>8</td>\n",
       "      <td>r</td>\n",
       "      <td>0</td>\n",
       "    </tr>\n",
       "    <tr>\n",
       "      <th>8</th>\n",
       "      <td>9</td>\n",
       "      <td>b</td>\n",
       "      <td>1</td>\n",
       "    </tr>\n",
       "    <tr>\n",
       "      <th>9</th>\n",
       "      <td>10</td>\n",
       "      <td>b</td>\n",
       "      <td>1</td>\n",
       "    </tr>\n",
       "    <tr>\n",
       "      <th>10</th>\n",
       "      <td>11</td>\n",
       "      <td>r</td>\n",
       "      <td>0</td>\n",
       "    </tr>\n",
       "    <tr>\n",
       "      <th>11</th>\n",
       "      <td>12</td>\n",
       "      <td>b</td>\n",
       "      <td>1</td>\n",
       "    </tr>\n",
       "  </tbody>\n",
       "</table>\n",
       "</div>"
      ],
      "text/plain": [
       "    num color  color_label\n",
       "0     1     b            1\n",
       "1     2     r            0\n",
       "2     3     r            0\n",
       "3     4     r            0\n",
       "4     5     b            1\n",
       "5     6     b            1\n",
       "6     7     b            1\n",
       "7     8     r            0\n",
       "8     9     b            1\n",
       "9    10     b            1\n",
       "10   11     r            0\n",
       "11   12     b            1"
      ]
     },
     "execution_count": 101,
     "metadata": {},
     "output_type": "execute_result"
    }
   ],
   "source": [
    "df_balls = pd.DataFrame(['b', 'r', 'r', 'r', 'b', 'b', 'b', 'r', 'b', 'b', 'r', 'b']).reset_index().rename(columns={'index': 'num', 0: 'color'})\n",
    "\n",
    "df_balls['num'] = df_balls['num'] + 1\n",
    "\n",
    "df_balls['color_label'] = (df_balls['color'] == 'b').astype('int')\n",
    "\n",
    "df_balls"
   ]
  },
  {
   "attachments": {},
   "cell_type": "markdown",
   "id": "422cb69e",
   "metadata": {},
   "source": [
    "Let's define helper method that will take sequence representing each observation's belonging to a certain class, i.e. `df_balls['color_label']`."
   ]
  },
  {
   "cell_type": "code",
   "execution_count": 102,
   "id": "df0f8567",
   "metadata": {},
   "outputs": [],
   "source": [
    "def prepare_for_entropy(x):\n",
    "    _, counts = np.unique(x, return_counts=True)\n",
    "    return counts/np.sum(counts)"
   ]
  },
  {
   "attachments": {},
   "cell_type": "markdown",
   "id": "49542822",
   "metadata": {},
   "source": [
    "How does result of calling this method look like?"
   ]
  },
  {
   "cell_type": "code",
   "execution_count": 103,
   "id": "fc06ab8c",
   "metadata": {},
   "outputs": [
    {
     "data": {
      "text/plain": [
       "array([0.41666667, 0.58333333])"
      ]
     },
     "execution_count": 103,
     "metadata": {},
     "output_type": "execute_result"
    }
   ],
   "source": [
    "prepare_for_entropy(df_balls['color_label'])"
   ]
  },
  {
   "attachments": {},
   "cell_type": "markdown",
   "id": "19fbfc05",
   "metadata": {},
   "source": [
    "These are the probabilities for each class.\n",
    "\n",
    "Previously defined method `entropy` knows how to work with this."
   ]
  },
  {
   "cell_type": "code",
   "execution_count": 104,
   "id": "fd026b81",
   "metadata": {},
   "outputs": [
    {
     "data": {
      "text/plain": [
       "0.9798687566511528"
      ]
     },
     "execution_count": 104,
     "metadata": {},
     "output_type": "execute_result"
    }
   ],
   "source": [
    "entropy(prepare_for_entropy(df_balls['color_label']))"
   ]
  },
  {
   "attachments": {},
   "cell_type": "markdown",
   "id": "392075c2",
   "metadata": {},
   "source": [
    "This is all good, but how about we try to divide this set in two separate ones. Let's split it by order number so that all balls with order number bigger than 4 goes into one set, while the rest goes to another."
   ]
  },
  {
   "cell_type": "code",
   "execution_count": 109,
   "id": "d4dfbe22",
   "metadata": {},
   "outputs": [],
   "source": [
    "df_balls_1 = df_balls[df_balls['num'] > 5]\n",
    "df_balls_2 = df_balls[df_balls['num'] <= 5]"
   ]
  },
  {
   "attachments": {},
   "cell_type": "markdown",
   "id": "5d333363",
   "metadata": {},
   "source": [
    "What is the information entropy for each of these?"
   ]
  },
  {
   "cell_type": "code",
   "execution_count": 110,
   "id": "ebc4e752",
   "metadata": {},
   "outputs": [
    {
     "data": {
      "text/plain": [
       "0.863120568566631"
      ]
     },
     "execution_count": 110,
     "metadata": {},
     "output_type": "execute_result"
    }
   ],
   "source": [
    "entropy(prepare_for_entropy(df_balls_1['color_label']))"
   ]
  },
  {
   "cell_type": "code",
   "execution_count": 111,
   "id": "465de6b8",
   "metadata": {},
   "outputs": [
    {
     "data": {
      "text/plain": [
       "0.9709505944546686"
      ]
     },
     "execution_count": 111,
     "metadata": {},
     "output_type": "execute_result"
    }
   ],
   "source": [
    "entropy(prepare_for_entropy(df_balls_2['color_label']))"
   ]
  },
  {
   "attachments": {},
   "cell_type": "markdown",
   "id": "6286f8fe",
   "metadata": {},
   "source": [
    "### Information Gain\n",
    "\n",
    "Now, what we saw previously is that after splitting our balls in two parts, entropies of each changed. We could easily end up in a scenario where each group's entropies are equal, regardless of the number of balls in each. Or, even with same entropies as the entropy of original group we split. \n",
    "\n",
    "We want to account for this, by scaling each group entropy by proportion of the balls ended up in it. And then, let's combine these entropies by summing them. Let's see what happens then.\n",
    "\n",
    "This is how we will do it:"
   ]
  },
  {
   "cell_type": "code",
   "execution_count": 113,
   "id": "74721329",
   "metadata": {},
   "outputs": [],
   "source": [
    "scaled_entropy_1 = entropy(prepare_for_entropy(df_balls_1['color_label'])) * df_balls_1.shape[0]/df_balls.shape[0]\n",
    "scaled_entropy_2 = entropy(prepare_for_entropy(df_balls_2['color_label'])) * df_balls_2.shape[0]/df_balls.shape[0]"
   ]
  },
  {
   "cell_type": "code",
   "execution_count": 115,
   "id": "fbfd680e",
   "metadata": {},
   "outputs": [
    {
     "data": {
      "text/plain": [
       "(0.5034869983305348, 0.4045627476894453)"
      ]
     },
     "execution_count": 115,
     "metadata": {},
     "output_type": "execute_result"
    }
   ],
   "source": [
    "scaled_entropy_1, scaled_entropy_2"
   ]
  },
  {
   "cell_type": "code",
   "execution_count": 116,
   "id": "a7863b3e",
   "metadata": {},
   "outputs": [
    {
     "data": {
      "text/plain": [
       "0.9080497460199801"
      ]
     },
     "execution_count": 116,
     "metadata": {},
     "output_type": "execute_result"
    }
   ],
   "source": [
    "scaled_entropy_1 + scaled_entropy_2"
   ]
  },
  {
   "attachments": {},
   "cell_type": "markdown",
   "id": "5e9459d8",
   "metadata": {},
   "source": [
    "And what was the entropy of original group?"
   ]
  },
  {
   "cell_type": "code",
   "execution_count": 117,
   "id": "cc02fcdb",
   "metadata": {},
   "outputs": [
    {
     "data": {
      "text/plain": [
       "0.9798687566511528"
      ]
     },
     "execution_count": 117,
     "metadata": {},
     "output_type": "execute_result"
    }
   ],
   "source": [
    "entropy(prepare_for_entropy(df_balls['color_label']))"
   ]
  },
  {
   "attachments": {},
   "cell_type": "markdown",
   "id": "b7453105",
   "metadata": {},
   "source": [
    "Hmmm, so after splitting original set of balls, we managed to decrease combined entropy of groups?\n",
    "\n",
    "So if by splitting data set we decrease the entropy, then we are practically gaining some information in the process, right? Therefore, this is can be called **information gain**, right? And that is exactly how the process is called and here is the definition.\n",
    "\n",
    "The definition would go like this. Let's say we have a dataset of $N$ observations. And it's entropy is already known as $S_0$. Then, if we use variable $X$ for splitting (in our example this was the column with ordering number for each ball), and we have $x$ number of groups after splittin, then information gain $IG(X)$ is defined as:\n",
    "\n",
    "$$ IG(X) = S_o - \\sum_{i=1}^{x}{\\frac{N_i}{N}}S_i$$"
   ]
  },
  {
   "attachments": {},
   "cell_type": "markdown",
   "id": "2bf07229",
   "metadata": {},
   "source": [
    "$N_i$ is number of observations in i-th group, while $S_i$ is the entropy of i-th group.\n",
    "\n",
    "Let's define helper method for getting the information gain, based on:\n",
    "* dataset,\n",
    "* variable,\n",
    "* variable threshold we use for splitting."
   ]
  },
  {
   "cell_type": "code",
   "execution_count": null,
   "id": "42c7cf11",
   "metadata": {},
   "outputs": [],
   "source": []
  },
  {
   "cell_type": "code",
   "execution_count": null,
   "id": "723fa248",
   "metadata": {},
   "outputs": [],
   "source": []
  },
  {
   "cell_type": "code",
   "execution_count": null,
   "id": "4d97b07f",
   "metadata": {},
   "outputs": [],
   "source": []
  },
  {
   "cell_type": "code",
   "execution_count": null,
   "id": "89eb89d4",
   "metadata": {},
   "outputs": [],
   "source": []
  },
  {
   "attachments": {},
   "cell_type": "markdown",
   "id": "91e06841",
   "metadata": {},
   "source": [
    "\n",
    "\n",
    "### Gini coefficient\n",
    "\n",
    "### Regression and reduction of variance\n",
    "\n",
    "### Overfitting, and pre-pruning and post-pruning\n",
    "\n",
    "\n",
    "\n"
   ]
  },
  {
   "attachments": {},
   "cell_type": "markdown",
   "id": "60f1fe91",
   "metadata": {},
   "source": [
    "Up until now we have introduced "
   ]
  },
  {
   "cell_type": "code",
   "execution_count": null,
   "id": "148acf75",
   "metadata": {},
   "outputs": [],
   "source": []
  },
  {
   "attachments": {},
   "cell_type": "markdown",
   "id": "e259036f",
   "metadata": {},
   "source": [
    "### Further Reading"
   ]
  },
  {
   "attachments": {},
   "cell_type": "markdown",
   "id": "0b27e0c3",
   "metadata": {},
   "source": []
  },
  {
   "attachments": {},
   "cell_type": "markdown",
   "id": "86f63398",
   "metadata": {},
   "source": [
    "***"
   ]
  },
  {
   "attachments": {},
   "cell_type": "markdown",
   "id": "0794ec11",
   "metadata": {},
   "source": [
    "DataKolektiv, 2022/23.\n",
    "\n",
    "[hello@datakolektiv.com](mailto:goran.milovanovic@datakolektiv.com)\n",
    "\n",
    "![](../img/DK_Logo_100.png)"
   ]
  },
  {
   "attachments": {},
   "cell_type": "markdown",
   "id": "e85cbf9a",
   "metadata": {},
   "source": [
    "<font size=1>License: [GPLv3](https://www.gnu.org/licenses/gpl-3.0.txt) This Notebook is free software: you can redistribute it and/or modify it under the terms of the GNU General Public License as published by the Free Software Foundation, either version 3 of the License, or (at your option) any later version. This Notebook is distributed in the hope that it will be useful, but WITHOUT ANY WARRANTY; without even the implied warranty of MERCHANTABILITY or FITNESS FOR A PARTICULAR PURPOSE. See the GNU General Public License for more details. You should have received a copy of the GNU General Public License along with this Notebook. If not, see http://www.gnu.org/licenses/.</font>"
   ]
  }
 ],
 "metadata": {
  "kernelspec": {
   "display_name": "Python 3",
   "language": "python",
   "name": "python3"
  },
  "language_info": {
   "codemirror_mode": {
    "name": "ipython",
    "version": 3
   },
   "file_extension": ".py",
   "mimetype": "text/x-python",
   "name": "python",
   "nbconvert_exporter": "python",
   "pygments_lexer": "ipython3",
   "version": "3.8.10"
  }
 },
 "nbformat": 4,
 "nbformat_minor": 5
}
