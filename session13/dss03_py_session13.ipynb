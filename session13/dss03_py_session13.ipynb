{
 "cells": [
  {
   "cell_type": "markdown",
   "id": "78dc32db",
   "metadata": {},
   "source": [
    "# DATA SCIENCE SESSIONS VOL. 3\n",
    "### A Foundational Python Data Science Course\n",
    "## Session 13: Simple Linear Regression. Parametric bootstrap. Partial and part correlation.\n",
    "\n",
    "\n",
    "[&larr; Back to course webpage](https://datakolektiv.com/)\n",
    "\n",
    "Feedback should be send to [goran.milovanovic@datakolektiv.com](mailto:goran.milovanovic@datakolektiv.com). \n",
    "\n",
    "These notebooks accompany the DATA SCIENCE SESSIONS VOL. 3 :: A Foundational Python Data Science Course."
   ]
  },
  {
   "cell_type": "markdown",
   "id": "6a29cb88",
   "metadata": {},
   "source": [
    "![](../img/IntroRDataScience_NonTech-1.jpg)"
   ]
  },
  {
   "cell_type": "markdown",
   "id": "547a2b91",
   "metadata": {},
   "source": [
    "### Lecturers\n",
    "\n",
    "[Goran S. Milovanović, PhD, DataKolektiv, Chief Scientist & Owner](https://www.linkedin.com/in/gmilovanovic/)\n",
    "\n",
    "[Aleksandar Cvetković, PhD, DataKolektiv, Consultant](https://www.linkedin.com/in/alegzndr/)\n",
    "\n",
    "[Ilija Lazarević, MA, DataKolektiv, Consultant](https://www.linkedin.com/in/ilijalazarevic/)"
   ]
  },
  {
   "cell_type": "markdown",
   "id": "ee3c05fd",
   "metadata": {},
   "source": [
    "![](../img/DK_Logo_100.png)"
   ]
  },
  {
   "cell_type": "markdown",
   "id": "e15d92a8",
   "metadata": {},
   "source": [
    "***"
   ]
  },
  {
   "cell_type": "markdown",
   "id": "aea9126f",
   "metadata": {},
   "source": [
    "## 1. Simple Linear Regression"
   ]
  },
  {
   "cell_type": "code",
   "execution_count": 2,
   "id": "3c11318e",
   "metadata": {},
   "outputs": [],
   "source": [
    "### --- Setup - importing the libraries\n",
    "\n",
    "# - supress those annoying 'Future Warning'\n",
    "import warnings\n",
    "warnings.simplefilter(action='ignore', category=FutureWarning)\n",
    "\n",
    "# - data\n",
    "import numpy as np\n",
    "import pandas as pd\n",
    "\n",
    "# - os\n",
    "import os\n",
    "\n",
    "# - ml\n",
    "import statsmodels.api as sm\n",
    "import statsmodels.formula.api as smf\n",
    "\n",
    "\n",
    "# - visualization\n",
    "import matplotlib.pyplot as plt\n",
    "import seaborn as sns\n",
    "\n",
    "# - parameters\n",
    "%matplotlib inline\n",
    "pd.options.mode.chained_assignment = None  # default='warn'\n",
    "sns.set_theme()\n",
    "# - rng\n",
    "rng = np.random.default_rng()\n",
    "# - plots\n",
    "plt.rc(\"figure\", figsize=(8, 6))\n",
    "plt.rc(\"font\", size=14)\n",
    "sns.set_theme(style='white')\n",
    "\n",
    "# - directory tree\n",
    "data_dir = os.path.join(os.getcwd(), '_data')"
   ]
  },
  {
   "cell_type": "code",
   "execution_count": 3,
   "id": "3875c06c",
   "metadata": {},
   "outputs": [
    {
     "data": {
      "text/html": [
       "<div>\n",
       "<style scoped>\n",
       "    .dataframe tbody tr th:only-of-type {\n",
       "        vertical-align: middle;\n",
       "    }\n",
       "\n",
       "    .dataframe tbody tr th {\n",
       "        vertical-align: top;\n",
       "    }\n",
       "\n",
       "    .dataframe thead th {\n",
       "        text-align: right;\n",
       "    }\n",
       "</style>\n",
       "<table border=\"1\" class=\"dataframe\">\n",
       "  <thead>\n",
       "    <tr style=\"text-align: right;\">\n",
       "      <th></th>\n",
       "      <th>Species</th>\n",
       "      <th>Weight</th>\n",
       "      <th>Length1</th>\n",
       "      <th>Length2</th>\n",
       "      <th>Length3</th>\n",
       "      <th>Height</th>\n",
       "      <th>Width</th>\n",
       "    </tr>\n",
       "  </thead>\n",
       "  <tbody>\n",
       "    <tr>\n",
       "      <th>0</th>\n",
       "      <td>Bream</td>\n",
       "      <td>242.0</td>\n",
       "      <td>23.2</td>\n",
       "      <td>25.4</td>\n",
       "      <td>30.0</td>\n",
       "      <td>11.5200</td>\n",
       "      <td>4.0200</td>\n",
       "    </tr>\n",
       "    <tr>\n",
       "      <th>1</th>\n",
       "      <td>Bream</td>\n",
       "      <td>290.0</td>\n",
       "      <td>24.0</td>\n",
       "      <td>26.3</td>\n",
       "      <td>31.2</td>\n",
       "      <td>12.4800</td>\n",
       "      <td>4.3056</td>\n",
       "    </tr>\n",
       "    <tr>\n",
       "      <th>2</th>\n",
       "      <td>Bream</td>\n",
       "      <td>340.0</td>\n",
       "      <td>23.9</td>\n",
       "      <td>26.5</td>\n",
       "      <td>31.1</td>\n",
       "      <td>12.3778</td>\n",
       "      <td>4.6961</td>\n",
       "    </tr>\n",
       "    <tr>\n",
       "      <th>3</th>\n",
       "      <td>Bream</td>\n",
       "      <td>363.0</td>\n",
       "      <td>26.3</td>\n",
       "      <td>29.0</td>\n",
       "      <td>33.5</td>\n",
       "      <td>12.7300</td>\n",
       "      <td>4.4555</td>\n",
       "    </tr>\n",
       "    <tr>\n",
       "      <th>4</th>\n",
       "      <td>Bream</td>\n",
       "      <td>430.0</td>\n",
       "      <td>26.5</td>\n",
       "      <td>29.0</td>\n",
       "      <td>34.0</td>\n",
       "      <td>12.4440</td>\n",
       "      <td>5.1340</td>\n",
       "    </tr>\n",
       "    <tr>\n",
       "      <th>5</th>\n",
       "      <td>Bream</td>\n",
       "      <td>450.0</td>\n",
       "      <td>26.8</td>\n",
       "      <td>29.7</td>\n",
       "      <td>34.7</td>\n",
       "      <td>13.6024</td>\n",
       "      <td>4.9274</td>\n",
       "    </tr>\n",
       "    <tr>\n",
       "      <th>6</th>\n",
       "      <td>Bream</td>\n",
       "      <td>500.0</td>\n",
       "      <td>26.8</td>\n",
       "      <td>29.7</td>\n",
       "      <td>34.5</td>\n",
       "      <td>14.1795</td>\n",
       "      <td>5.2785</td>\n",
       "    </tr>\n",
       "    <tr>\n",
       "      <th>7</th>\n",
       "      <td>Bream</td>\n",
       "      <td>390.0</td>\n",
       "      <td>27.6</td>\n",
       "      <td>30.0</td>\n",
       "      <td>35.0</td>\n",
       "      <td>12.6700</td>\n",
       "      <td>4.6900</td>\n",
       "    </tr>\n",
       "    <tr>\n",
       "      <th>8</th>\n",
       "      <td>Bream</td>\n",
       "      <td>450.0</td>\n",
       "      <td>27.6</td>\n",
       "      <td>30.0</td>\n",
       "      <td>35.1</td>\n",
       "      <td>14.0049</td>\n",
       "      <td>4.8438</td>\n",
       "    </tr>\n",
       "    <tr>\n",
       "      <th>9</th>\n",
       "      <td>Bream</td>\n",
       "      <td>500.0</td>\n",
       "      <td>28.5</td>\n",
       "      <td>30.7</td>\n",
       "      <td>36.2</td>\n",
       "      <td>14.2266</td>\n",
       "      <td>4.9594</td>\n",
       "    </tr>\n",
       "  </tbody>\n",
       "</table>\n",
       "</div>"
      ],
      "text/plain": [
       "  Species  Weight  Length1  Length2  Length3   Height   Width\n",
       "0   Bream   242.0     23.2     25.4     30.0  11.5200  4.0200\n",
       "1   Bream   290.0     24.0     26.3     31.2  12.4800  4.3056\n",
       "2   Bream   340.0     23.9     26.5     31.1  12.3778  4.6961\n",
       "3   Bream   363.0     26.3     29.0     33.5  12.7300  4.4555\n",
       "4   Bream   430.0     26.5     29.0     34.0  12.4440  5.1340\n",
       "5   Bream   450.0     26.8     29.7     34.7  13.6024  4.9274\n",
       "6   Bream   500.0     26.8     29.7     34.5  14.1795  5.2785\n",
       "7   Bream   390.0     27.6     30.0     35.0  12.6700  4.6900\n",
       "8   Bream   450.0     27.6     30.0     35.1  14.0049  4.8438\n",
       "9   Bream   500.0     28.5     30.7     36.2  14.2266  4.9594"
      ]
     },
     "execution_count": 3,
     "metadata": {},
     "output_type": "execute_result"
    }
   ],
   "source": [
    "# - loading the dataset\n",
    "# - Kaggle: https://www.kaggle.com/datasets/aungpyaeap/fish-market\n",
    "# - place it in your _data/ directory\n",
    "fish_data = pd.read_csv(os.path.join(data_dir, 'Fish.csv'))\n",
    "fish_data.head(10)"
   ]
  },
  {
   "cell_type": "code",
   "execution_count": 4,
   "id": "2f70afdb",
   "metadata": {},
   "outputs": [
    {
     "name": "stdout",
     "output_type": "stream",
     "text": [
      "<class 'pandas.core.frame.DataFrame'>\n",
      "RangeIndex: 159 entries, 0 to 158\n",
      "Data columns (total 7 columns):\n",
      " #   Column   Non-Null Count  Dtype  \n",
      "---  ------   --------------  -----  \n",
      " 0   Species  159 non-null    object \n",
      " 1   Weight   159 non-null    float64\n",
      " 2   Length1  159 non-null    float64\n",
      " 3   Length2  159 non-null    float64\n",
      " 4   Length3  159 non-null    float64\n",
      " 5   Height   159 non-null    float64\n",
      " 6   Width    159 non-null    float64\n",
      "dtypes: float64(6), object(1)\n",
      "memory usage: 8.8+ KB\n"
     ]
    }
   ],
   "source": [
    "fish_data.info()"
   ]
  },
  {
   "cell_type": "markdown",
   "id": "ec9bcc3a",
   "metadata": {},
   "source": [
    "### Target: predict Weight from Height"
   ]
  },
  {
   "cell_type": "code",
   "execution_count": 5,
   "id": "86d495b2",
   "metadata": {},
   "outputs": [
    {
     "data": {
      "text/html": [
       "<div>\n",
       "<style scoped>\n",
       "    .dataframe tbody tr th:only-of-type {\n",
       "        vertical-align: middle;\n",
       "    }\n",
       "\n",
       "    .dataframe tbody tr th {\n",
       "        vertical-align: top;\n",
       "    }\n",
       "\n",
       "    .dataframe thead th {\n",
       "        text-align: right;\n",
       "    }\n",
       "</style>\n",
       "<table border=\"1\" class=\"dataframe\">\n",
       "  <thead>\n",
       "    <tr style=\"text-align: right;\">\n",
       "      <th></th>\n",
       "      <th>Height</th>\n",
       "      <th>Weight</th>\n",
       "    </tr>\n",
       "  </thead>\n",
       "  <tbody>\n",
       "    <tr>\n",
       "      <th>0</th>\n",
       "      <td>11.5200</td>\n",
       "      <td>242.0</td>\n",
       "    </tr>\n",
       "    <tr>\n",
       "      <th>1</th>\n",
       "      <td>12.4800</td>\n",
       "      <td>290.0</td>\n",
       "    </tr>\n",
       "    <tr>\n",
       "      <th>2</th>\n",
       "      <td>12.3778</td>\n",
       "      <td>340.0</td>\n",
       "    </tr>\n",
       "    <tr>\n",
       "      <th>3</th>\n",
       "      <td>12.7300</td>\n",
       "      <td>363.0</td>\n",
       "    </tr>\n",
       "    <tr>\n",
       "      <th>4</th>\n",
       "      <td>12.4440</td>\n",
       "      <td>430.0</td>\n",
       "    </tr>\n",
       "    <tr>\n",
       "      <th>...</th>\n",
       "      <td>...</td>\n",
       "      <td>...</td>\n",
       "    </tr>\n",
       "    <tr>\n",
       "      <th>154</th>\n",
       "      <td>2.0904</td>\n",
       "      <td>12.2</td>\n",
       "    </tr>\n",
       "    <tr>\n",
       "      <th>155</th>\n",
       "      <td>2.4300</td>\n",
       "      <td>13.4</td>\n",
       "    </tr>\n",
       "    <tr>\n",
       "      <th>156</th>\n",
       "      <td>2.2770</td>\n",
       "      <td>12.2</td>\n",
       "    </tr>\n",
       "    <tr>\n",
       "      <th>157</th>\n",
       "      <td>2.8728</td>\n",
       "      <td>19.7</td>\n",
       "    </tr>\n",
       "    <tr>\n",
       "      <th>158</th>\n",
       "      <td>2.9322</td>\n",
       "      <td>19.9</td>\n",
       "    </tr>\n",
       "  </tbody>\n",
       "</table>\n",
       "<p>159 rows × 2 columns</p>\n",
       "</div>"
      ],
      "text/plain": [
       "      Height  Weight\n",
       "0    11.5200   242.0\n",
       "1    12.4800   290.0\n",
       "2    12.3778   340.0\n",
       "3    12.7300   363.0\n",
       "4    12.4440   430.0\n",
       "..       ...     ...\n",
       "154   2.0904    12.2\n",
       "155   2.4300    13.4\n",
       "156   2.2770    12.2\n",
       "157   2.8728    19.7\n",
       "158   2.9322    19.9\n",
       "\n",
       "[159 rows x 2 columns]"
      ]
     },
     "execution_count": 5,
     "metadata": {},
     "output_type": "execute_result"
    }
   ],
   "source": [
    "model_frame = fish_data[['Height', 'Weight']]\n",
    "model_frame"
   ]
  },
  {
   "cell_type": "code",
   "execution_count": 6,
   "id": "05c7aed4",
   "metadata": {},
   "outputs": [
    {
     "data": {
      "text/html": [
       "<table class=\"simpletable\">\n",
       "<caption>OLS Regression Results</caption>\n",
       "<tr>\n",
       "  <th>Dep. Variable:</th>         <td>Weight</td>      <th>  R-squared:         </th> <td>   0.525</td>\n",
       "</tr>\n",
       "<tr>\n",
       "  <th>Model:</th>                   <td>OLS</td>       <th>  Adj. R-squared:    </th> <td>   0.522</td>\n",
       "</tr>\n",
       "<tr>\n",
       "  <th>Method:</th>             <td>Least Squares</td>  <th>  F-statistic:       </th> <td>   173.3</td>\n",
       "</tr>\n",
       "<tr>\n",
       "  <th>Date:</th>             <td>Wed, 19 Apr 2023</td> <th>  Prob (F-statistic):</th> <td>3.84e-27</td>\n",
       "</tr>\n",
       "<tr>\n",
       "  <th>Time:</th>                 <td>21:52:57</td>     <th>  Log-Likelihood:    </th> <td> -1101.0</td>\n",
       "</tr>\n",
       "<tr>\n",
       "  <th>No. Observations:</th>      <td>   159</td>      <th>  AIC:               </th> <td>   2206.</td>\n",
       "</tr>\n",
       "<tr>\n",
       "  <th>Df Residuals:</th>          <td>   157</td>      <th>  BIC:               </th> <td>   2212.</td>\n",
       "</tr>\n",
       "<tr>\n",
       "  <th>Df Model:</th>              <td>     1</td>      <th>                     </th>     <td> </td>   \n",
       "</tr>\n",
       "<tr>\n",
       "  <th>Covariance Type:</th>      <td>nonrobust</td>    <th>                     </th>     <td> </td>   \n",
       "</tr>\n",
       "</table>\n",
       "<table class=\"simpletable\">\n",
       "<tr>\n",
       "      <td></td>         <th>coef</th>     <th>std err</th>      <th>t</th>      <th>P>|t|</th>  <th>[0.025</th>    <th>0.975]</th>  \n",
       "</tr>\n",
       "<tr>\n",
       "  <th>Intercept</th> <td> -144.3860</td> <td>   45.663</td> <td>   -3.162</td> <td> 0.002</td> <td> -234.579</td> <td>  -54.193</td>\n",
       "</tr>\n",
       "<tr>\n",
       "  <th>Height</th>    <td>   60.4964</td> <td>    4.595</td> <td>   13.164</td> <td> 0.000</td> <td>   51.419</td> <td>   69.573</td>\n",
       "</tr>\n",
       "</table>\n",
       "<table class=\"simpletable\">\n",
       "<tr>\n",
       "  <th>Omnibus:</th>       <td>95.711</td> <th>  Durbin-Watson:     </th> <td>   0.279</td> \n",
       "</tr>\n",
       "<tr>\n",
       "  <th>Prob(Omnibus):</th> <td> 0.000</td> <th>  Jarque-Bera (JB):  </th> <td> 482.586</td> \n",
       "</tr>\n",
       "<tr>\n",
       "  <th>Skew:</th>          <td> 2.288</td> <th>  Prob(JB):          </th> <td>1.61e-105</td>\n",
       "</tr>\n",
       "<tr>\n",
       "  <th>Kurtosis:</th>      <td>10.204</td> <th>  Cond. No.          </th> <td>    23.3</td> \n",
       "</tr>\n",
       "</table><br/><br/>Notes:<br/>[1] Standard Errors assume that the covariance matrix of the errors is correctly specified."
      ],
      "text/plain": [
       "<class 'statsmodels.iolib.summary.Summary'>\n",
       "\"\"\"\n",
       "                            OLS Regression Results                            \n",
       "==============================================================================\n",
       "Dep. Variable:                 Weight   R-squared:                       0.525\n",
       "Model:                            OLS   Adj. R-squared:                  0.522\n",
       "Method:                 Least Squares   F-statistic:                     173.3\n",
       "Date:                Wed, 19 Apr 2023   Prob (F-statistic):           3.84e-27\n",
       "Time:                        21:52:57   Log-Likelihood:                -1101.0\n",
       "No. Observations:                 159   AIC:                             2206.\n",
       "Df Residuals:                     157   BIC:                             2212.\n",
       "Df Model:                           1                                         \n",
       "Covariance Type:            nonrobust                                         \n",
       "==============================================================================\n",
       "                 coef    std err          t      P>|t|      [0.025      0.975]\n",
       "------------------------------------------------------------------------------\n",
       "Intercept   -144.3860     45.663     -3.162      0.002    -234.579     -54.193\n",
       "Height        60.4964      4.595     13.164      0.000      51.419      69.573\n",
       "==============================================================================\n",
       "Omnibus:                       95.711   Durbin-Watson:                   0.279\n",
       "Prob(Omnibus):                  0.000   Jarque-Bera (JB):              482.586\n",
       "Skew:                           2.288   Prob(JB):                    1.61e-105\n",
       "Kurtosis:                      10.204   Cond. No.                         23.3\n",
       "==============================================================================\n",
       "\n",
       "Notes:\n",
       "[1] Standard Errors assume that the covariance matrix of the errors is correctly specified.\n",
       "\"\"\""
      ]
     },
     "execution_count": 6,
     "metadata": {},
     "output_type": "execute_result"
    }
   ],
   "source": [
    "# - fitting the linear model to the data\n",
    "linear_model = smf.ols(formula='Weight ~ Height', data=model_frame).fit()\n",
    "linear_model.summary()"
   ]
  },
  {
   "cell_type": "markdown",
   "id": "b206f9b3",
   "metadata": {},
   "source": [
    "Linear model has the form\n",
    "\n",
    "$$y = \\beta_1 x + \\beta_0 + \\varepsilon,$$\n",
    "\n",
    "where\n",
    "- $y$ - the true value of the *target variable*\n",
    "- $\\beta_1$ - the *slope* of the model\n",
    "- $\\beta_0$ - the *intercept* of the model\n",
    "- $\\varepsilon$ - the *residual*"
   ]
  },
  {
   "cell_type": "markdown",
   "id": "ded3d29b",
   "metadata": {},
   "source": [
    "The predicted value $\\hat{y}$ of the target variable is computed via Liner regression via\n",
    "\n",
    "$$\\hat{y} = \\beta_1 x + \\beta_0.$$"
   ]
  },
  {
   "cell_type": "code",
   "execution_count": 7,
   "id": "a0a39b64",
   "metadata": {},
   "outputs": [
    {
     "data": {
      "text/plain": [
       "Intercept   -144.385971\n",
       "Height        60.496351\n",
       "dtype: float64"
      ]
     },
     "execution_count": 7,
     "metadata": {},
     "output_type": "execute_result"
    }
   ],
   "source": [
    "# - model's parameters; Hight represent the slope k\n",
    "linear_model.params"
   ]
  },
  {
   "cell_type": "code",
   "execution_count": 8,
   "id": "7d5bd0b7",
   "metadata": {},
   "outputs": [],
   "source": [
    "# - predicting the value using model's formula and parameters\n",
    "model_frame['Predicted Values'] = linear_model.predict()"
   ]
  },
  {
   "cell_type": "code",
   "execution_count": 9,
   "id": "9ed21256",
   "metadata": {},
   "outputs": [],
   "source": [
    "# - calculating the residuals - the difference between the true and predicted values\n",
    "model_frame['Residuals'] = linear_model.resid"
   ]
  },
  {
   "cell_type": "code",
   "execution_count": 10,
   "id": "356583c5",
   "metadata": {},
   "outputs": [
    {
     "data": {
      "text/html": [
       "<div>\n",
       "<style scoped>\n",
       "    .dataframe tbody tr th:only-of-type {\n",
       "        vertical-align: middle;\n",
       "    }\n",
       "\n",
       "    .dataframe tbody tr th {\n",
       "        vertical-align: top;\n",
       "    }\n",
       "\n",
       "    .dataframe thead th {\n",
       "        text-align: right;\n",
       "    }\n",
       "</style>\n",
       "<table border=\"1\" class=\"dataframe\">\n",
       "  <thead>\n",
       "    <tr style=\"text-align: right;\">\n",
       "      <th></th>\n",
       "      <th>Height</th>\n",
       "      <th>Weight</th>\n",
       "      <th>Predicted Values</th>\n",
       "      <th>Residuals</th>\n",
       "    </tr>\n",
       "  </thead>\n",
       "  <tbody>\n",
       "    <tr>\n",
       "      <th>0</th>\n",
       "      <td>11.5200</td>\n",
       "      <td>242.0</td>\n",
       "      <td>552.531995</td>\n",
       "      <td>-310.531995</td>\n",
       "    </tr>\n",
       "    <tr>\n",
       "      <th>1</th>\n",
       "      <td>12.4800</td>\n",
       "      <td>290.0</td>\n",
       "      <td>610.608492</td>\n",
       "      <td>-320.608492</td>\n",
       "    </tr>\n",
       "    <tr>\n",
       "      <th>2</th>\n",
       "      <td>12.3778</td>\n",
       "      <td>340.0</td>\n",
       "      <td>604.425765</td>\n",
       "      <td>-264.425765</td>\n",
       "    </tr>\n",
       "    <tr>\n",
       "      <th>3</th>\n",
       "      <td>12.7300</td>\n",
       "      <td>363.0</td>\n",
       "      <td>625.732580</td>\n",
       "      <td>-262.732580</td>\n",
       "    </tr>\n",
       "    <tr>\n",
       "      <th>4</th>\n",
       "      <td>12.4440</td>\n",
       "      <td>430.0</td>\n",
       "      <td>608.430623</td>\n",
       "      <td>-178.430623</td>\n",
       "    </tr>\n",
       "    <tr>\n",
       "      <th>...</th>\n",
       "      <td>...</td>\n",
       "      <td>...</td>\n",
       "      <td>...</td>\n",
       "      <td>...</td>\n",
       "    </tr>\n",
       "    <tr>\n",
       "      <th>154</th>\n",
       "      <td>2.0904</td>\n",
       "      <td>12.2</td>\n",
       "      <td>-17.924399</td>\n",
       "      <td>30.124399</td>\n",
       "    </tr>\n",
       "    <tr>\n",
       "      <th>155</th>\n",
       "      <td>2.4300</td>\n",
       "      <td>13.4</td>\n",
       "      <td>2.620162</td>\n",
       "      <td>10.779838</td>\n",
       "    </tr>\n",
       "    <tr>\n",
       "      <th>156</th>\n",
       "      <td>2.2770</td>\n",
       "      <td>12.2</td>\n",
       "      <td>-6.635779</td>\n",
       "      <td>18.835779</td>\n",
       "    </tr>\n",
       "    <tr>\n",
       "      <th>157</th>\n",
       "      <td>2.8728</td>\n",
       "      <td>19.7</td>\n",
       "      <td>29.407947</td>\n",
       "      <td>-9.707947</td>\n",
       "    </tr>\n",
       "    <tr>\n",
       "      <th>158</th>\n",
       "      <td>2.9322</td>\n",
       "      <td>19.9</td>\n",
       "      <td>33.001430</td>\n",
       "      <td>-13.101430</td>\n",
       "    </tr>\n",
       "  </tbody>\n",
       "</table>\n",
       "<p>159 rows × 4 columns</p>\n",
       "</div>"
      ],
      "text/plain": [
       "      Height  Weight  Predicted Values   Residuals\n",
       "0    11.5200   242.0        552.531995 -310.531995\n",
       "1    12.4800   290.0        610.608492 -320.608492\n",
       "2    12.3778   340.0        604.425765 -264.425765\n",
       "3    12.7300   363.0        625.732580 -262.732580\n",
       "4    12.4440   430.0        608.430623 -178.430623\n",
       "..       ...     ...               ...         ...\n",
       "154   2.0904    12.2        -17.924399   30.124399\n",
       "155   2.4300    13.4          2.620162   10.779838\n",
       "156   2.2770    12.2         -6.635779   18.835779\n",
       "157   2.8728    19.7         29.407947   -9.707947\n",
       "158   2.9322    19.9         33.001430  -13.101430\n",
       "\n",
       "[159 rows x 4 columns]"
      ]
     },
     "execution_count": 10,
     "metadata": {},
     "output_type": "execute_result"
    }
   ],
   "source": [
    "model_frame"
   ]
  },
  {
   "cell_type": "code",
   "execution_count": 11,
   "id": "638bccc4",
   "metadata": {},
   "outputs": [
    {
     "data": {
      "text/plain": [
       "count    1.590000e+02\n",
       "mean    -6.432870e-14\n",
       "std      2.468036e+02\n",
       "min     -3.572937e+02\n",
       "25%     -1.165323e+02\n",
       "50%     -7.076091e+01\n",
       "75%      3.391263e+01\n",
       "max      1.163621e+03\n",
       "Name: Residuals, dtype: float64"
      ]
     },
     "execution_count": 11,
     "metadata": {},
     "output_type": "execute_result"
    }
   ],
   "source": [
    "# - some statistics on the residuals\n",
    "model_frame['Residuals'].describe()"
   ]
  },
  {
   "cell_type": "code",
   "execution_count": 12,
   "id": "c9ad8b2c",
   "metadata": {},
   "outputs": [
    {
     "data": {
      "image/png": "[encoded data removed]",
      "text/plain": [
       "<Figure size 576x432 with 1 Axes>"
      ]
     },
     "metadata": {},
     "output_type": "display_data"
    }
   ],
   "source": [
    "# - plotting the true data, predicted values and the prediction line\n",
    "sns.regplot(data=model_frame, x='Height', y='Weight', ci=0, line_kws={'color':'red'})\n",
    "sns.scatterplot(data=model_frame, x='Height', y='Predicted Values', color='red', s=50)\n",
    "sns.despine(offset=10, trim=True)\n",
    "plt.title('Weight ~ Hight', fontsize=14);"
   ]
  },
  {
   "cell_type": "code",
   "execution_count": 13,
   "id": "fd46227c",
   "metadata": {},
   "outputs": [
    {
     "name": "stdout",
     "output_type": "stream",
     "text": [
      "Pearson's correlation (R-value): 0.7243\n",
      "Coefficient of determination (R^2): 0.5247\n"
     ]
    }
   ],
   "source": [
    "# - Pearson's correlation (R-value) coefficient and R^2\n",
    "print(f\"Pearson's correlation (R-value): {round(np.sqrt(linear_model.rsquared), 4)}\")\n",
    "print(f\"Coefficient of determination (R^2): {round(linear_model.rsquared, 4)}\")"
   ]
  },
  {
   "cell_type": "code",
   "execution_count": 14,
   "id": "9f1fd40e",
   "metadata": {},
   "outputs": [
    {
     "name": "stdout",
     "output_type": "stream",
     "text": [
      "p-values: \n",
      "Intercept    1.881076e-03\n",
      "Height       3.842342e-27\n",
      "dtype: float64\n"
     ]
    }
   ],
   "source": [
    "# - p-values of the model's parameters\n",
    "print(f\"p-values: \\n{linear_model.pvalues}\")"
   ]
  },
  {
   "cell_type": "code",
   "execution_count": 15,
   "id": "f854fc77",
   "metadata": {},
   "outputs": [
    {
     "name": "stdout",
     "output_type": "stream",
     "text": [
      "       Height      Weight\n",
      "0   10.804985  509.276179\n",
      "1   15.348863  784.164224\n",
      "2    4.765494  143.908999\n",
      "3    6.522283  250.188376\n",
      "4   10.024896  462.083661\n",
      "..        ...         ...\n",
      "95   9.961327  458.237980\n",
      "96   0.000000 -144.385971\n",
      "97  15.671202  803.664547\n",
      "98  10.254498  475.973755\n",
      "99   7.387911  302.555713\n",
      "\n",
      "[100 rows x 2 columns]\n"
     ]
    }
   ],
   "source": [
    "# --- Predicting new data\n",
    "\n",
    "predictions = pd.DataFrame(columns=['Height', 'Weight'])\n",
    "\n",
    "\n",
    "# - sampling the new data from the normal distribution with the mean and std parameters taken from the original data\n",
    "new_fish_height = rng.normal(loc=model_frame['Height'].mean(), scale=model_frame['Height'].std(), size=100)\n",
    "# - clipping the negative values \n",
    "new_fish_height = np.clip(new_fish_height, a_min=0, a_max=np.infty)\n",
    "predictions['Height'] = new_fish_height\n",
    "\n",
    "# - predicting the heights on the new data using the linear model\n",
    "new_fish_weight = linear_model.predict(predictions['Height'])\n",
    "\n",
    "# - displaying the new data and the corresponding predictions\n",
    "predictions['Weight'] = new_fish_weight\n",
    "print(predictions)"
   ]
  },
  {
   "cell_type": "code",
   "execution_count": 16,
   "id": "215f41b5",
   "metadata": {},
   "outputs": [
    {
     "data": {
      "image/png": "[encoded data removed]",
      "text/plain": [
       "<Figure size 576x432 with 1 Axes>"
      ]
     },
     "metadata": {},
     "output_type": "display_data"
    }
   ],
   "source": [
    "# - plotting the predictions\n",
    "sns.lineplot(data=predictions, x='Height', y='Weight', color='red')\n",
    "sns.scatterplot(data=predictions, x='Height', y='Weight', color='red', s=50)\n",
    "sns.despine(offset=10, trim=True)\n",
    "plt.title('Predictions', fontsize=14);"
   ]
  },
  {
   "cell_type": "code",
   "execution_count": 17,
   "id": "e4bbceab",
   "metadata": {},
   "outputs": [
    {
     "name": "stdout",
     "output_type": "stream",
     "text": [
      "True\n"
     ]
    }
   ],
   "source": [
    "# R^2 upacked - calculating R^2 using the corresponding formulas\n",
    "total_sse = np.sum((model_frame['Weight'] - model_frame['Weight'].mean())**2)\n",
    "model_sse = np.sum((model_frame['Predicted Values'] - model_frame['Weight'].mean())**2)\n",
    "residual_sse = np.sum(model_frame['Residuals']**2)\n",
    "\n",
    "print(np.isclose(total_sse, model_sse + residual_sse))"
   ]
  },
  {
   "cell_type": "code",
   "execution_count": 18,
   "id": "0b64a716",
   "metadata": {},
   "outputs": [
    {
     "name": "stdout",
     "output_type": "stream",
     "text": [
      "r2 = 0.5246761559328881\n",
      "\n",
      "[[1.         0.52467616]\n",
      " [0.52467616 1.        ]] \n",
      "\n",
      "r2 = 0.5246761559328881\n"
     ]
    }
   ],
   "source": [
    "# - calculating R^2 from the correlation \n",
    "r2 = model_frame['Height'].corr(model_frame['Weight'])**2\n",
    "print(f\"r2 = {r2}\\n\")\n",
    "\n",
    "# - or \n",
    "corr_matrix = np.corrcoef(model_frame['Height'], model_frame['Weight'])**2\n",
    "print(corr_matrix, '\\n')\n",
    "r2 = corr_matrix[0, 1]\n",
    "print(f\"r2 = {r2}\")"
   ]
  },
  {
   "cell_type": "code",
   "execution_count": 19,
   "id": "ace61e77",
   "metadata": {},
   "outputs": [
    {
     "data": {
      "text/plain": [
       "0.5246761559328881"
      ]
     },
     "execution_count": 19,
     "metadata": {},
     "output_type": "execute_result"
    }
   ],
   "source": [
    "# - yet another way to calculate R^2\n",
    "model_sse/total_sse"
   ]
  },
  {
   "cell_type": "code",
   "execution_count": 20,
   "id": "09fd4268",
   "metadata": {},
   "outputs": [
    {
     "name": "stdout",
     "output_type": "stream",
     "text": [
      "cov.:  0.7243453291993318\n",
      "R^2 = cov.^2:  0.5246761559328884\n"
     ]
    }
   ],
   "source": [
    "# - correlation is the covariance of the scaled variables!\n",
    "\n",
    "# - scaling the variables\n",
    "x = (model_frame['Height'] - model_frame['Height'].mean())/model_frame['Height'].std()\n",
    "y = (model_frame['Weight'] - model_frame['Weight'].mean())/model_frame['Weight'].std()\n",
    "\n",
    "# - calculating the covariance\n",
    "cov_matrix = np.cov(x, y)\n",
    "cov = cov_matrix[0, 1]\n",
    "print('cov.: ', cov)\n",
    "print('R^2 = cov.^2: ', cov**2)"
   ]
  },
  {
   "cell_type": "code",
   "execution_count": 21,
   "id": "d0ca1be1",
   "metadata": {},
   "outputs": [
    {
     "data": {
      "image/png": "[encoded data removed]",
      "text/plain": [
       "<Figure size 576x432 with 1 Axes>"
      ]
     },
     "metadata": {},
     "output_type": "display_data"
    }
   ],
   "source": [
    "# - plotting the distribution of the residuals\n",
    "plt.figure(figsize=(8, 6))\n",
    "sns.histplot(data=model_frame, x='Residuals', binwidth=10, color='tab:orange')\n",
    "sns.despine(offset=10, trim=True)\n",
    "plt.title('Model Residuals', fontsize=14);"
   ]
  },
  {
   "cell_type": "code",
   "execution_count": 22,
   "id": "945aa0a1",
   "metadata": {},
   "outputs": [
    {
     "data": {
      "image/png": "[encoded data removed]",
      "text/plain": [
       "<Figure size 576x432 with 1 Axes>"
      ]
     },
     "metadata": {},
     "output_type": "display_data"
    }
   ],
   "source": [
    "# - plotting the qqplot\n",
    "sm.qqplot(model_frame['Residuals'].values, line='q')\n",
    "sns.despine(offset=10, trim=True)\n",
    "plt.title('Q-Q Plot of Model Results', fontsize=14);"
   ]
  },
  {
   "cell_type": "code",
   "execution_count": 23,
   "id": "51a7ce57",
   "metadata": {},
   "outputs": [
    {
     "data": {
      "image/png": "[encoded data removed]",
      "text/plain": [
       "<Figure size 576x432 with 1 Axes>"
      ]
     },
     "metadata": {},
     "output_type": "display_data"
    }
   ],
   "source": [
    "### --- Heteroskedacity\n",
    "\n",
    "# - plotting the predicted values vs the residuals\n",
    "plt.figure(figsize=(8, 6))\n",
    "sns.scatterplot(data=model_frame, x='Predicted Values', y='Residuals')\n",
    "sns.despine(offset=10, trim=True)\n",
    "plt.axhline(y=0, color='red')\n",
    "plt.title('Predicted vs Residual', fontsize=14);"
   ]
  },
  {
   "cell_type": "code",
   "execution_count": 24,
   "id": "7cc43cd6",
   "metadata": {},
   "outputs": [
    {
     "data": {
      "text/html": [
       "<div>\n",
       "<style scoped>\n",
       "    .dataframe tbody tr th:only-of-type {\n",
       "        vertical-align: middle;\n",
       "    }\n",
       "\n",
       "    .dataframe tbody tr th {\n",
       "        vertical-align: top;\n",
       "    }\n",
       "\n",
       "    .dataframe thead th {\n",
       "        text-align: right;\n",
       "    }\n",
       "</style>\n",
       "<table border=\"1\" class=\"dataframe\">\n",
       "  <thead>\n",
       "    <tr style=\"text-align: right;\">\n",
       "      <th></th>\n",
       "      <th>dfb_Intercept</th>\n",
       "      <th>dfb_Height</th>\n",
       "      <th>cooks_d</th>\n",
       "      <th>standard_resid</th>\n",
       "      <th>hat_diag</th>\n",
       "      <th>dffits_internal</th>\n",
       "      <th>student_resid</th>\n",
       "      <th>dffits</th>\n",
       "    </tr>\n",
       "  </thead>\n",
       "  <tbody>\n",
       "    <tr>\n",
       "      <th>0</th>\n",
       "      <td>0.010916</td>\n",
       "      <td>-0.059963</td>\n",
       "      <td>0.006823</td>\n",
       "      <td>-1.259609</td>\n",
       "      <td>0.008528</td>\n",
       "      <td>-0.116819</td>\n",
       "      <td>-1.261984</td>\n",
       "      <td>-0.117039</td>\n",
       "    </tr>\n",
       "    <tr>\n",
       "      <th>1</th>\n",
       "      <td>0.032398</td>\n",
       "      <td>-0.085427</td>\n",
       "      <td>0.009019</td>\n",
       "      <td>-1.301798</td>\n",
       "      <td>0.010531</td>\n",
       "      <td>-0.134302</td>\n",
       "      <td>-1.304707</td>\n",
       "      <td>-0.134602</td>\n",
       "    </tr>\n",
       "    <tr>\n",
       "      <th>2</th>\n",
       "      <td>0.024818</td>\n",
       "      <td>-0.068269</td>\n",
       "      <td>0.005990</td>\n",
       "      <td>-1.073542</td>\n",
       "      <td>0.010288</td>\n",
       "      <td>-0.109452</td>\n",
       "      <td>-1.074067</td>\n",
       "      <td>-0.109506</td>\n",
       "    </tr>\n",
       "    <tr>\n",
       "      <th>3</th>\n",
       "      <td>0.031016</td>\n",
       "      <td>-0.074907</td>\n",
       "      <td>0.006424</td>\n",
       "      <td>-1.067137</td>\n",
       "      <td>0.011157</td>\n",
       "      <td>-0.113353</td>\n",
       "      <td>-1.067612</td>\n",
       "      <td>-0.113404</td>\n",
       "    </tr>\n",
       "    <tr>\n",
       "      <th>4</th>\n",
       "      <td>0.017523</td>\n",
       "      <td>-0.046875</td>\n",
       "      <td>0.002770</td>\n",
       "      <td>-0.724468</td>\n",
       "      <td>0.010445</td>\n",
       "      <td>-0.074430</td>\n",
       "      <td>-0.723367</td>\n",
       "      <td>-0.074317</td>\n",
       "    </tr>\n",
       "    <tr>\n",
       "      <th>...</th>\n",
       "      <td>...</td>\n",
       "      <td>...</td>\n",
       "      <td>...</td>\n",
       "      <td>...</td>\n",
       "      <td>...</td>\n",
       "      <td>...</td>\n",
       "      <td>...</td>\n",
       "      <td>...</td>\n",
       "    </tr>\n",
       "    <tr>\n",
       "      <th>154</th>\n",
       "      <td>0.018540</td>\n",
       "      <td>-0.015848</td>\n",
       "      <td>0.000175</td>\n",
       "      <td>0.123070</td>\n",
       "      <td>0.022599</td>\n",
       "      <td>0.018714</td>\n",
       "      <td>0.122683</td>\n",
       "      <td>0.018655</td>\n",
       "    </tr>\n",
       "    <tr>\n",
       "      <th>155</th>\n",
       "      <td>0.006371</td>\n",
       "      <td>-0.005382</td>\n",
       "      <td>0.000021</td>\n",
       "      <td>0.044004</td>\n",
       "      <td>0.021029</td>\n",
       "      <td>0.006449</td>\n",
       "      <td>0.043864</td>\n",
       "      <td>0.006429</td>\n",
       "    </tr>\n",
       "    <tr>\n",
       "      <th>156</th>\n",
       "      <td>0.011339</td>\n",
       "      <td>-0.009632</td>\n",
       "      <td>0.000066</td>\n",
       "      <td>0.076917</td>\n",
       "      <td>0.021726</td>\n",
       "      <td>0.011463</td>\n",
       "      <td>0.076673</td>\n",
       "      <td>0.011426</td>\n",
       "    </tr>\n",
       "    <tr>\n",
       "      <th>157</th>\n",
       "      <td>-0.005431</td>\n",
       "      <td>0.004510</td>\n",
       "      <td>0.000015</td>\n",
       "      <td>-0.039590</td>\n",
       "      <td>0.019101</td>\n",
       "      <td>-0.005525</td>\n",
       "      <td>-0.039464</td>\n",
       "      <td>-0.005507</td>\n",
       "    </tr>\n",
       "    <tr>\n",
       "      <th>158</th>\n",
       "      <td>-0.007274</td>\n",
       "      <td>0.006026</td>\n",
       "      <td>0.000027</td>\n",
       "      <td>-0.053422</td>\n",
       "      <td>0.018852</td>\n",
       "      <td>-0.007405</td>\n",
       "      <td>-0.053252</td>\n",
       "      <td>-0.007382</td>\n",
       "    </tr>\n",
       "  </tbody>\n",
       "</table>\n",
       "<p>159 rows × 8 columns</p>\n",
       "</div>"
      ],
      "text/plain": [
       "     dfb_Intercept  dfb_Height   cooks_d  standard_resid  hat_diag  \\\n",
       "0         0.010916   -0.059963  0.006823       -1.259609  0.008528   \n",
       "1         0.032398   -0.085427  0.009019       -1.301798  0.010531   \n",
       "2         0.024818   -0.068269  0.005990       -1.073542  0.010288   \n",
       "3         0.031016   -0.074907  0.006424       -1.067137  0.011157   \n",
       "4         0.017523   -0.046875  0.002770       -0.724468  0.010445   \n",
       "..             ...         ...       ...             ...       ...   \n",
       "154       0.018540   -0.015848  0.000175        0.123070  0.022599   \n",
       "155       0.006371   -0.005382  0.000021        0.044004  0.021029   \n",
       "156       0.011339   -0.009632  0.000066        0.076917  0.021726   \n",
       "157      -0.005431    0.004510  0.000015       -0.039590  0.019101   \n",
       "158      -0.007274    0.006026  0.000027       -0.053422  0.018852   \n",
       "\n",
       "     dffits_internal  student_resid    dffits  \n",
       "0          -0.116819      -1.261984 -0.117039  \n",
       "1          -0.134302      -1.304707 -0.134602  \n",
       "2          -0.109452      -1.074067 -0.109506  \n",
       "3          -0.113353      -1.067612 -0.113404  \n",
       "4          -0.074430      -0.723367 -0.074317  \n",
       "..               ...            ...       ...  \n",
       "154         0.018714       0.122683  0.018655  \n",
       "155         0.006449       0.043864  0.006429  \n",
       "156         0.011463       0.076673  0.011426  \n",
       "157        -0.005525      -0.039464 -0.005507  \n",
       "158        -0.007405      -0.053252 -0.007382  \n",
       "\n",
       "[159 rows x 8 columns]"
      ]
     },
     "execution_count": 24,
     "metadata": {},
     "output_type": "execute_result"
    }
   ],
   "source": [
    "# - identifying the influental cases\n",
    "model_inf = linear_model.get_influence()\n",
    "inf_frame = model_inf.summary_frame()\n",
    "inf_frame"
   ]
  },
  {
   "cell_type": "code",
   "execution_count": 25,
   "id": "64c15a72",
   "metadata": {},
   "outputs": [
    {
     "data": {
      "text/plain": [
       "array([], shape=(0, 1), dtype=int64)"
      ]
     },
     "execution_count": 25,
     "metadata": {},
     "output_type": "execute_result"
    }
   ],
   "source": [
    "### --- Influence Measures\n",
    "\n",
    "# - calculating the Cook's distance /Cook and Weisberg (1982)/\n",
    "# - consider values with Cook's distance greater than 1 to be problematic\n",
    "\n",
    "w_cookD = np.argwhere(model_inf.cooks_distance[0] > 1)\n",
    "w_cookD"
   ]
  },
  {
   "cell_type": "code",
   "execution_count": 26,
   "id": "19822f44",
   "metadata": {},
   "outputs": [
    {
     "data": {
      "text/plain": [
       "array([[27],\n",
       "       [28],\n",
       "       [29],\n",
       "       [30],\n",
       "       [31],\n",
       "       [32],\n",
       "       [33],\n",
       "       [34]], dtype=int64)"
      ]
     },
     "execution_count": 26,
     "metadata": {},
     "output_type": "execute_result"
    }
   ],
   "source": [
    "# - Leverage: hat values\n",
    "# - Average Leverage = (k+1)/n\n",
    "# - k - num. of predictors\n",
    "# - n - num. observations\n",
    "# - Also termed: hat values, range: 0 - 1\n",
    "# - Various criteria (twice the average leverage, three times the average leverage...)\n",
    "\n",
    "k = 1\n",
    "n = len(model_frame)\n",
    "w_leverage = np.argwhere(model_inf.hat_matrix_diag > 2*(k+1)/n)\n",
    "w_leverage"
   ]
  },
  {
   "cell_type": "code",
   "execution_count": 27,
   "id": "a0d80481",
   "metadata": {},
   "outputs": [
    {
     "data": {
      "text/html": [
       "<div>\n",
       "<style scoped>\n",
       "    .dataframe tbody tr th:only-of-type {\n",
       "        vertical-align: middle;\n",
       "    }\n",
       "\n",
       "    .dataframe tbody tr th {\n",
       "        vertical-align: top;\n",
       "    }\n",
       "\n",
       "    .dataframe thead th {\n",
       "        text-align: right;\n",
       "    }\n",
       "</style>\n",
       "<table border=\"1\" class=\"dataframe\">\n",
       "  <thead>\n",
       "    <tr style=\"text-align: right;\">\n",
       "      <th></th>\n",
       "      <th>Residuals</th>\n",
       "      <th>Leverage</th>\n",
       "      <th>Cook Dist.</th>\n",
       "    </tr>\n",
       "  </thead>\n",
       "  <tbody>\n",
       "    <tr>\n",
       "      <th>0</th>\n",
       "      <td>-310.531995</td>\n",
       "      <td>0.008528</td>\n",
       "      <td>0.006823</td>\n",
       "    </tr>\n",
       "    <tr>\n",
       "      <th>1</th>\n",
       "      <td>-320.608492</td>\n",
       "      <td>0.010531</td>\n",
       "      <td>0.009019</td>\n",
       "    </tr>\n",
       "    <tr>\n",
       "      <th>2</th>\n",
       "      <td>-264.425765</td>\n",
       "      <td>0.010288</td>\n",
       "      <td>0.005990</td>\n",
       "    </tr>\n",
       "    <tr>\n",
       "      <th>3</th>\n",
       "      <td>-262.732580</td>\n",
       "      <td>0.011157</td>\n",
       "      <td>0.006424</td>\n",
       "    </tr>\n",
       "    <tr>\n",
       "      <th>4</th>\n",
       "      <td>-178.430623</td>\n",
       "      <td>0.010445</td>\n",
       "      <td>0.002770</td>\n",
       "    </tr>\n",
       "    <tr>\n",
       "      <th>...</th>\n",
       "      <td>...</td>\n",
       "      <td>...</td>\n",
       "      <td>...</td>\n",
       "    </tr>\n",
       "    <tr>\n",
       "      <th>154</th>\n",
       "      <td>30.124399</td>\n",
       "      <td>0.022599</td>\n",
       "      <td>0.000175</td>\n",
       "    </tr>\n",
       "    <tr>\n",
       "      <th>155</th>\n",
       "      <td>10.779838</td>\n",
       "      <td>0.021029</td>\n",
       "      <td>0.000021</td>\n",
       "    </tr>\n",
       "    <tr>\n",
       "      <th>156</th>\n",
       "      <td>18.835779</td>\n",
       "      <td>0.021726</td>\n",
       "      <td>0.000066</td>\n",
       "    </tr>\n",
       "    <tr>\n",
       "      <th>157</th>\n",
       "      <td>-9.707947</td>\n",
       "      <td>0.019101</td>\n",
       "      <td>0.000015</td>\n",
       "    </tr>\n",
       "    <tr>\n",
       "      <th>158</th>\n",
       "      <td>-13.101430</td>\n",
       "      <td>0.018852</td>\n",
       "      <td>0.000027</td>\n",
       "    </tr>\n",
       "  </tbody>\n",
       "</table>\n",
       "<p>159 rows × 3 columns</p>\n",
       "</div>"
      ],
      "text/plain": [
       "      Residuals  Leverage  Cook Dist.\n",
       "0   -310.531995  0.008528    0.006823\n",
       "1   -320.608492  0.010531    0.009019\n",
       "2   -264.425765  0.010288    0.005990\n",
       "3   -262.732580  0.011157    0.006424\n",
       "4   -178.430623  0.010445    0.002770\n",
       "..          ...       ...         ...\n",
       "154   30.124399  0.022599    0.000175\n",
       "155   10.779838  0.021029    0.000021\n",
       "156   18.835779  0.021726    0.000066\n",
       "157   -9.707947  0.019101    0.000015\n",
       "158  -13.101430  0.018852    0.000027\n",
       "\n",
       "[159 rows x 3 columns]"
      ]
     },
     "execution_count": 27,
     "metadata": {},
     "output_type": "execute_result"
    }
   ],
   "source": [
    "# - influence plot\n",
    "inf_plot_frame = pd.DataFrame(columns=['Residuals', 'Leverage', 'Cook Dist.'])\n",
    "\n",
    "inf_plot_frame['Residuals'] = model_frame['Residuals']\n",
    "inf_plot_frame['Leverage'] = model_inf.hat_matrix_diag\n",
    "inf_plot_frame['Cook Dist.'] = model_inf.cooks_distance[0]\n",
    "\n",
    "inf_plot_frame"
   ]
  },
  {
   "cell_type": "code",
   "execution_count": 28,
   "id": "18169563",
   "metadata": {},
   "outputs": [
    {
     "data": {
      "image/png": "[encoded data removed]",
      "text/plain": [
       "<Figure size 576x432 with 1 Axes>"
      ]
     },
     "metadata": {},
     "output_type": "display_data"
    }
   ],
   "source": [
    "# - plotting the influence plot\n",
    "plt.figure(figsize=(8, 6))\n",
    "sns.scatterplot(data=inf_plot_frame, x='Leverage', y='Residuals', size='Cook Dist.', legend=None)\n",
    "sns.despine(offset=10, trim=True)\n",
    "plt.title(\"Influence Plot\\n Size of the blob corresponds to Cook's distance\", fontsize=14);"
   ]
  },
  {
   "cell_type": "markdown",
   "id": "f9f723dc",
   "metadata": {},
   "source": [
    "## Linear Regression using scikit-learn"
   ]
  },
  {
   "cell_type": "code",
   "execution_count": 29,
   "id": "64332b35",
   "metadata": {},
   "outputs": [],
   "source": [
    "# - import scikit-learn\n",
    "from sklearn.linear_model import LinearRegression"
   ]
  },
  {
   "cell_type": "code",
   "execution_count": 30,
   "id": "b418f733",
   "metadata": {},
   "outputs": [
    {
     "data": {
      "text/html": [
       "<style>#sk-container-id-1 {color: black;background-color: white;}#sk-container-id-1 pre{padding: 0;}#sk-container-id-1 div.sk-toggleable {background-color: white;}#sk-container-id-1 label.sk-toggleable__label {cursor: pointer;display: block;width: 100%;margin-bottom: 0;padding: 0.3em;box-sizing: border-box;text-align: center;}#sk-container-id-1 label.sk-toggleable__label-arrow:before {content: \"▸\";float: left;margin-right: 0.25em;color: #696969;}#sk-container-id-1 label.sk-toggleable__label-arrow:hover:before {color: black;}#sk-container-id-1 div.sk-estimator:hover label.sk-toggleable__label-arrow:before {color: black;}#sk-container-id-1 div.sk-toggleable__content {max-height: 0;max-width: 0;overflow: hidden;text-align: left;background-color: #f0f8ff;}#sk-container-id-1 div.sk-toggleable__content pre {margin: 0.2em;color: black;border-radius: 0.25em;background-color: #f0f8ff;}#sk-container-id-1 input.sk-toggleable__control:checked~div.sk-toggleable__content {max-height: 200px;max-width: 100%;overflow: auto;}#sk-container-id-1 input.sk-toggleable__control:checked~label.sk-toggleable__label-arrow:before {content: \"▾\";}#sk-container-id-1 div.sk-estimator input.sk-toggleable__control:checked~label.sk-toggleable__label {background-color: #d4ebff;}#sk-container-id-1 div.sk-label input.sk-toggleable__control:checked~label.sk-toggleable__label {background-color: #d4ebff;}#sk-container-id-1 input.sk-hidden--visually {border: 0;clip: rect(1px 1px 1px 1px);clip: rect(1px, 1px, 1px, 1px);height: 1px;margin: -1px;overflow: hidden;padding: 0;position: absolute;width: 1px;}#sk-container-id-1 div.sk-estimator {font-family: monospace;background-color: #f0f8ff;border: 1px dotted black;border-radius: 0.25em;box-sizing: border-box;margin-bottom: 0.5em;}#sk-container-id-1 div.sk-estimator:hover {background-color: #d4ebff;}#sk-container-id-1 div.sk-parallel-item::after {content: \"\";width: 100%;border-bottom: 1px solid gray;flex-grow: 1;}#sk-container-id-1 div.sk-label:hover label.sk-toggleable__label {background-color: #d4ebff;}#sk-container-id-1 div.sk-serial::before {content: \"\";position: absolute;border-left: 1px solid gray;box-sizing: border-box;top: 0;bottom: 0;left: 50%;z-index: 0;}#sk-container-id-1 div.sk-serial {display: flex;flex-direction: column;align-items: center;background-color: white;padding-right: 0.2em;padding-left: 0.2em;position: relative;}#sk-container-id-1 div.sk-item {position: relative;z-index: 1;}#sk-container-id-1 div.sk-parallel {display: flex;align-items: stretch;justify-content: center;background-color: white;position: relative;}#sk-container-id-1 div.sk-item::before, #sk-container-id-1 div.sk-parallel-item::before {content: \"\";position: absolute;border-left: 1px solid gray;box-sizing: border-box;top: 0;bottom: 0;left: 50%;z-index: -1;}#sk-container-id-1 div.sk-parallel-item {display: flex;flex-direction: column;z-index: 1;position: relative;background-color: white;}#sk-container-id-1 div.sk-parallel-item:first-child::after {align-self: flex-end;width: 50%;}#sk-container-id-1 div.sk-parallel-item:last-child::after {align-self: flex-start;width: 50%;}#sk-container-id-1 div.sk-parallel-item:only-child::after {width: 0;}#sk-container-id-1 div.sk-dashed-wrapped {border: 1px dashed gray;margin: 0 0.4em 0.5em 0.4em;box-sizing: border-box;padding-bottom: 0.4em;background-color: white;}#sk-container-id-1 div.sk-label label {font-family: monospace;font-weight: bold;display: inline-block;line-height: 1.2em;}#sk-container-id-1 div.sk-label-container {text-align: center;}#sk-container-id-1 div.sk-container {/* jupyter's `normalize.less` sets `[hidden] { display: none; }` but bootstrap.min.css set `[hidden] { display: none !important; }` so we also need the `!important` here to be able to override the default hidden behavior on the sphinx rendered scikit-learn.org. See: https://github.com/scikit-learn/scikit-learn/issues/21755 */display: inline-block !important;position: relative;}#sk-container-id-1 div.sk-text-repr-fallback {display: none;}</style><div id=\"sk-container-id-1\" class=\"sk-top-container\"><div class=\"sk-text-repr-fallback\"><pre>LinearRegression()</pre><b>In a Jupyter environment, please rerun this cell to show the HTML representation or trust the notebook. <br />On GitHub, the HTML representation is unable to render, please try loading this page with nbviewer.org.</b></div><div class=\"sk-container\" hidden><div class=\"sk-item\"><div class=\"sk-estimator sk-toggleable\"><input class=\"sk-toggleable__control sk-hidden--visually\" id=\"sk-estimator-id-1\" type=\"checkbox\" checked><label for=\"sk-estimator-id-1\" class=\"sk-toggleable__label sk-toggleable__label-arrow\">LinearRegression</label><div class=\"sk-toggleable__content\"><pre>LinearRegression()</pre></div></div></div></div></div>"
      ],
      "text/plain": [
       "LinearRegression()"
      ]
     },
     "execution_count": 30,
     "metadata": {},
     "output_type": "execute_result"
    }
   ],
   "source": [
    "# - fitting the linear model to the data\n",
    "X = model_frame['Height'].values.reshape(-1, 1)\n",
    "y = model_frame['Weight'].values.reshape(-1, 1)\n",
    "lin_reg = LinearRegression()\n",
    "lin_reg.fit(X, y)"
   ]
  },
  {
   "cell_type": "code",
   "execution_count": 31,
   "id": "454035d6",
   "metadata": {},
   "outputs": [
    {
     "data": {
      "text/plain": [
       "(array([[60.49635121]]), array([-144.38597115]))"
      ]
     },
     "execution_count": 31,
     "metadata": {},
     "output_type": "execute_result"
    }
   ],
   "source": [
    "# - coefficents of the model\n",
    "lin_reg.coef_, lin_reg.intercept_"
   ]
  },
  {
   "cell_type": "code",
   "execution_count": 32,
   "id": "b3ae4a50",
   "metadata": {},
   "outputs": [
    {
     "data": {
      "text/plain": [
       "0.5246761559328882"
      ]
     },
     "execution_count": 32,
     "metadata": {},
     "output_type": "execute_result"
    }
   ],
   "source": [
    "# - calculating R^2 \n",
    "lin_reg.score(X, y)"
   ]
  },
  {
   "cell_type": "code",
   "execution_count": 33,
   "id": "5d7f6886",
   "metadata": {},
   "outputs": [
    {
     "data": {
      "text/plain": [
       "array([[509.27617897],\n",
       "       [784.16422374],\n",
       "       [143.9089987 ],\n",
       "       [250.18837614],\n",
       "       [462.0836611 ],\n",
       "       [535.95336025],\n",
       "       [273.92477427],\n",
       "       [921.70690843],\n",
       "       [132.07483005],\n",
       "       [430.25967871]])"
      ]
     },
     "execution_count": 33,
     "metadata": {},
     "output_type": "execute_result"
    }
   ],
   "source": [
    "# - predicting the weight using the model\n",
    "X_pred = predictions['Height'].values.reshape(-1, 1)\n",
    "y_pred = lin_reg.predict(X_pred)\n",
    "y_pred[:10]"
   ]
  },
  {
   "cell_type": "code",
   "execution_count": 34,
   "id": "63f2317a",
   "metadata": {},
   "outputs": [
    {
     "data": {
      "text/plain": [
       "0     509.276179\n",
       "1     784.164224\n",
       "2     143.908999\n",
       "3     250.188376\n",
       "4     462.083661\n",
       "         ...    \n",
       "95    458.237980\n",
       "96   -144.385971\n",
       "97    803.664547\n",
       "98    475.973755\n",
       "99    302.555713\n",
       "Name: Weight, Length: 100, dtype: float64"
      ]
     },
     "execution_count": 34,
     "metadata": {},
     "output_type": "execute_result"
    }
   ],
   "source": [
    "# - comparing with the predictions from scipy's model\n",
    "predictions['Weight']"
   ]
  },
  {
   "cell_type": "markdown",
   "id": "8df5645d",
   "metadata": {},
   "source": [
    "## 2. Parametric Bootstrap"
   ]
  },
  {
   "cell_type": "code",
   "execution_count": null,
   "id": "582d5be4",
   "metadata": {},
   "outputs": [],
   "source": []
  },
  {
   "cell_type": "markdown",
   "id": "3021dcd7",
   "metadata": {},
   "source": [
    "### Enter the Sim-Fit Loop"
   ]
  },
  {
   "cell_type": "code",
   "execution_count": null,
   "id": "004c17fa",
   "metadata": {},
   "outputs": [],
   "source": []
  },
  {
   "cell_type": "markdown",
   "id": "b4880785",
   "metadata": {},
   "source": [
    "### Bias and Variance via the Bootstrap"
   ]
  },
  {
   "cell_type": "code",
   "execution_count": null,
   "id": "1efc4fba",
   "metadata": {},
   "outputs": [],
   "source": []
  },
  {
   "cell_type": "markdown",
   "id": "fe0e798c",
   "metadata": {},
   "source": [
    "## 3. Partial and Part Correlation"
   ]
  },
  {
   "cell_type": "code",
   "execution_count": null,
   "id": "3e79c068",
   "metadata": {},
   "outputs": [],
   "source": []
  },
  {
   "cell_type": "markdown",
   "id": "062ca206",
   "metadata": {},
   "source": [
    "### Further Reading"
   ]
  },
  {
   "cell_type": "code",
   "execution_count": null,
   "id": "0ffc92c4",
   "metadata": {},
   "outputs": [],
   "source": []
  },
  {
   "cell_type": "markdown",
   "id": "fc0fa4aa",
   "metadata": {},
   "source": [
    "***"
   ]
  },
  {
   "cell_type": "markdown",
   "id": "755cb396",
   "metadata": {},
   "source": [
    "DataKolektiv, 2022/23.\n",
    "\n",
    "[hello@datakolektiv.com](mailto:goran.milovanovic@datakolektiv.com)\n",
    "\n",
    "![](../img/DK_Logo_100.png)"
   ]
  },
  {
   "cell_type": "markdown",
   "id": "fe0a2a8f",
   "metadata": {},
   "source": [
    "<font size=1>License: [GPLv3](https://www.gnu.org/licenses/gpl-3.0.txt) This Notebook is free software: you can redistribute it and/or modify it under the terms of the GNU General Public License as published by the Free Software Foundation, either version 3 of the License, or (at your option) any later version. This Notebook is distributed in the hope that it will be useful, but WITHOUT ANY WARRANTY; without even the implied warranty of MERCHANTABILITY or FITNESS FOR A PARTICULAR PURPOSE. See the GNU General Public License for more details. You should have received a copy of the GNU General Public License along with this Notebook. If not, see http://www.gnu.org/licenses/.</font>"
   ]
  },
  {
   "cell_type": "code",
   "execution_count": null,
   "id": "40aae10d",
   "metadata": {},
   "outputs": [],
   "source": []
  }
 ],
 "metadata": {
  "kernelspec": {
   "display_name": "Python 3",
   "language": "python",
   "name": "python3"
  },
  "language_info": {
   "codemirror_mode": {
    "name": "ipython",
    "version": 3
   },
   "file_extension": ".py",
   "mimetype": "text/x-python",
   "name": "python",
   "nbconvert_exporter": "python",
   "pygments_lexer": "ipython3",
   "version": "3.8.8"
  }
 },
 "nbformat": 4,
 "nbformat_minor": 5
}
