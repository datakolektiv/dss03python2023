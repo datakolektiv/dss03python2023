{
 "cells": [
  {
   "cell_type": "markdown",
   "id": "a1900ac2",
   "metadata": {},
   "source": [
    "# DATA SCIENCE SESSIONS VOL. 3\n",
    "### A Foundational Python Data Science Course\n",
    "## Session 14-02: One-Hot Encoding. Linear Model Diagnostics. \n",
    "\n",
    "[&larr; Back to course webpage](https://datakolektiv.com/)\n",
    "\n",
    "Feedback should be send to [goran.milovanovic@datakolektiv.com](mailto:goran.milovanovic@datakolektiv.com). \n",
    "\n",
    "These notebooks accompany the DATA SCIENCE SESSIONS VOL. 3 :: A Foundational Python Data Science Course."
   ]
  },
  {
   "cell_type": "markdown",
   "id": "b3b49eee",
   "metadata": {},
   "source": [
    "![](../img/IntroRDataScience_NonTech-1.jpg)"
   ]
  },
  {
   "cell_type": "markdown",
   "id": "dea593ad",
   "metadata": {},
   "source": [
    "### Lecturers\n",
    "\n",
    "[Goran S. Milovanović, PhD, DataKolektiv, Chief Scientist & Owner](https://www.linkedin.com/in/gmilovanovic/)\n",
    "\n",
    "[Aleksandar Cvetković, PhD, DataKolektiv, Consultant](https://www.linkedin.com/in/alegzndr/)\n",
    "\n",
    "[Ilija Lazarević, MA, DataKolektiv, Consultant](https://www.linkedin.com/in/ilijalazarevic/)"
   ]
  },
  {
   "cell_type": "markdown",
   "id": "02ccff2d",
   "metadata": {},
   "source": [
    "![](../img/DK_Logo_100.png)"
   ]
  },
  {
   "cell_type": "markdown",
   "id": "8ca157e9",
   "metadata": {},
   "source": [
    "***"
   ]
  },
  {
   "cell_type": "code",
   "execution_count": 1,
   "id": "08c33535",
   "metadata": {},
   "outputs": [],
   "source": [
    "### --- Setup - importing the libraries\n",
    "\n",
    "# - supress those annoying 'Future Warning'\n",
    "import warnings\n",
    "warnings.simplefilter(action='ignore', category=FutureWarning)\n",
    "\n",
    "# - science\n",
    "import numpy as np\n",
    "\n",
    "# - data\n",
    "import pandas as pd\n",
    "\n",
    "# - os\n",
    "import os\n",
    "\n",
    "# - ml\n",
    "import statsmodels.api as sm\n",
    "import statsmodels.formula.api as smf\n",
    "from statsmodels.stats.outliers_influence import variance_inflation_factor\n",
    "\n",
    "# - visualization\n",
    "import matplotlib.pyplot as plt\n",
    "import seaborn as sns\n",
    "\n",
    "# - parameters\n",
    "%matplotlib inline\n",
    "pd.options.mode.chained_assignment = None  # default='warn'\n",
    "sns.set_theme()\n",
    "\n",
    "# - rng\n",
    "rng = np.random.default_rng()\n",
    "\n",
    "# - plots\n",
    "plt.rc(\"figure\", figsize=(8, 6))\n",
    "plt.rc(\"font\", size=14)\n",
    "sns.set_theme(style='white')\n",
    "\n",
    "# - directory tree\n",
    "data_dir = os.path.join(os.getcwd(), '_data')"
   ]
  },
  {
   "cell_type": "markdown",
   "id": "5c4a0710",
   "metadata": {},
   "source": [
    "## 3. One-Hot (Dummy) Encoding"
   ]
  },
  {
   "cell_type": "markdown",
   "id": "bebf48dd",
   "metadata": {},
   "source": [
    "### Target: predict weight from all the predictors (both categorical and continuous)"
   ]
  },
  {
   "cell_type": "code",
   "execution_count": 2,
   "id": "9c9395ce",
   "metadata": {},
   "outputs": [
    {
     "data": {
      "text/html": [
       "<div>\n",
       "<style scoped>\n",
       "    .dataframe tbody tr th:only-of-type {\n",
       "        vertical-align: middle;\n",
       "    }\n",
       "\n",
       "    .dataframe tbody tr th {\n",
       "        vertical-align: top;\n",
       "    }\n",
       "\n",
       "    .dataframe thead th {\n",
       "        text-align: right;\n",
       "    }\n",
       "</style>\n",
       "<table border=\"1\" class=\"dataframe\">\n",
       "  <thead>\n",
       "    <tr style=\"text-align: right;\">\n",
       "      <th></th>\n",
       "      <th>Species</th>\n",
       "      <th>Weight</th>\n",
       "      <th>Length1</th>\n",
       "      <th>Length2</th>\n",
       "      <th>Length3</th>\n",
       "      <th>Height</th>\n",
       "      <th>Width</th>\n",
       "    </tr>\n",
       "  </thead>\n",
       "  <tbody>\n",
       "    <tr>\n",
       "      <th>0</th>\n",
       "      <td>Bream</td>\n",
       "      <td>242.0</td>\n",
       "      <td>23.2</td>\n",
       "      <td>25.4</td>\n",
       "      <td>30.0</td>\n",
       "      <td>11.5200</td>\n",
       "      <td>4.0200</td>\n",
       "    </tr>\n",
       "    <tr>\n",
       "      <th>1</th>\n",
       "      <td>Bream</td>\n",
       "      <td>290.0</td>\n",
       "      <td>24.0</td>\n",
       "      <td>26.3</td>\n",
       "      <td>31.2</td>\n",
       "      <td>12.4800</td>\n",
       "      <td>4.3056</td>\n",
       "    </tr>\n",
       "    <tr>\n",
       "      <th>2</th>\n",
       "      <td>Bream</td>\n",
       "      <td>340.0</td>\n",
       "      <td>23.9</td>\n",
       "      <td>26.5</td>\n",
       "      <td>31.1</td>\n",
       "      <td>12.3778</td>\n",
       "      <td>4.6961</td>\n",
       "    </tr>\n",
       "    <tr>\n",
       "      <th>3</th>\n",
       "      <td>Bream</td>\n",
       "      <td>363.0</td>\n",
       "      <td>26.3</td>\n",
       "      <td>29.0</td>\n",
       "      <td>33.5</td>\n",
       "      <td>12.7300</td>\n",
       "      <td>4.4555</td>\n",
       "    </tr>\n",
       "    <tr>\n",
       "      <th>4</th>\n",
       "      <td>Bream</td>\n",
       "      <td>430.0</td>\n",
       "      <td>26.5</td>\n",
       "      <td>29.0</td>\n",
       "      <td>34.0</td>\n",
       "      <td>12.4440</td>\n",
       "      <td>5.1340</td>\n",
       "    </tr>\n",
       "    <tr>\n",
       "      <th>5</th>\n",
       "      <td>Bream</td>\n",
       "      <td>450.0</td>\n",
       "      <td>26.8</td>\n",
       "      <td>29.7</td>\n",
       "      <td>34.7</td>\n",
       "      <td>13.6024</td>\n",
       "      <td>4.9274</td>\n",
       "    </tr>\n",
       "    <tr>\n",
       "      <th>6</th>\n",
       "      <td>Bream</td>\n",
       "      <td>500.0</td>\n",
       "      <td>26.8</td>\n",
       "      <td>29.7</td>\n",
       "      <td>34.5</td>\n",
       "      <td>14.1795</td>\n",
       "      <td>5.2785</td>\n",
       "    </tr>\n",
       "    <tr>\n",
       "      <th>7</th>\n",
       "      <td>Bream</td>\n",
       "      <td>390.0</td>\n",
       "      <td>27.6</td>\n",
       "      <td>30.0</td>\n",
       "      <td>35.0</td>\n",
       "      <td>12.6700</td>\n",
       "      <td>4.6900</td>\n",
       "    </tr>\n",
       "    <tr>\n",
       "      <th>8</th>\n",
       "      <td>Bream</td>\n",
       "      <td>450.0</td>\n",
       "      <td>27.6</td>\n",
       "      <td>30.0</td>\n",
       "      <td>35.1</td>\n",
       "      <td>14.0049</td>\n",
       "      <td>4.8438</td>\n",
       "    </tr>\n",
       "    <tr>\n",
       "      <th>9</th>\n",
       "      <td>Bream</td>\n",
       "      <td>500.0</td>\n",
       "      <td>28.5</td>\n",
       "      <td>30.7</td>\n",
       "      <td>36.2</td>\n",
       "      <td>14.2266</td>\n",
       "      <td>4.9594</td>\n",
       "    </tr>\n",
       "  </tbody>\n",
       "</table>\n",
       "</div>"
      ],
      "text/plain": [
       "  Species  Weight  Length1  Length2  Length3   Height   Width\n",
       "0   Bream   242.0     23.2     25.4     30.0  11.5200  4.0200\n",
       "1   Bream   290.0     24.0     26.3     31.2  12.4800  4.3056\n",
       "2   Bream   340.0     23.9     26.5     31.1  12.3778  4.6961\n",
       "3   Bream   363.0     26.3     29.0     33.5  12.7300  4.4555\n",
       "4   Bream   430.0     26.5     29.0     34.0  12.4440  5.1340\n",
       "5   Bream   450.0     26.8     29.7     34.7  13.6024  4.9274\n",
       "6   Bream   500.0     26.8     29.7     34.5  14.1795  5.2785\n",
       "7   Bream   390.0     27.6     30.0     35.0  12.6700  4.6900\n",
       "8   Bream   450.0     27.6     30.0     35.1  14.0049  4.8438\n",
       "9   Bream   500.0     28.5     30.7     36.2  14.2266  4.9594"
      ]
     },
     "execution_count": 2,
     "metadata": {},
     "output_type": "execute_result"
    }
   ],
   "source": [
    "# - loading the dataset\n",
    "# - Kaggle: https://www.kaggle.com/datasets/aungpyaeap/fish-market\n",
    "# - place it in your _data/ directory\n",
    "fish_data = pd.read_csv(os.path.join(data_dir, 'Fish.csv'))\n",
    "fish_data.head(10)"
   ]
  },
  {
   "cell_type": "markdown",
   "id": "990f7e0d",
   "metadata": {},
   "source": [
    "### Target: predict weight from all the predictors (both categorical and continuous)"
   ]
  },
  {
   "cell_type": "code",
   "execution_count": 3,
   "id": "3a746d65",
   "metadata": {},
   "outputs": [],
   "source": [
    "model_frame = fish_data.copy()"
   ]
  },
  {
   "cell_type": "code",
   "execution_count": 4,
   "id": "85d1f53e",
   "metadata": {},
   "outputs": [
    {
     "data": {
      "text/plain": [
       "Perch        56\n",
       "Bream        35\n",
       "Roach        20\n",
       "Pike         17\n",
       "Smelt        14\n",
       "Parkki       11\n",
       "Whitefish     6\n",
       "Name: Species, dtype: int64"
      ]
     },
     "execution_count": 4,
     "metadata": {},
     "output_type": "execute_result"
    }
   ],
   "source": [
    "# - number of data entries grouped by species class\n",
    "model_frame['Species'].value_counts()"
   ]
  },
  {
   "cell_type": "code",
   "execution_count": 5,
   "id": "db8316ee",
   "metadata": {},
   "outputs": [
    {
     "data": {
      "text/plain": [
       "Index(['Species', 'Length1', 'Length2', 'Length3', 'Height', 'Width'], dtype='object')"
      ]
     },
     "execution_count": 5,
     "metadata": {},
     "output_type": "execute_result"
    }
   ],
   "source": [
    "predictors = model_frame.columns.drop('Weight')\n",
    "predictors"
   ]
  },
  {
   "cell_type": "markdown",
   "id": "fbd4589f",
   "metadata": {},
   "source": [
    "In one hot encoding categorical predictor 'split' into $C$ binary vectors, where $C$ is the number of categories. Each coordinate of this vector becomes a new \"dummy\" feature, corresponding to one category of a categorical variable. We won't write explicit mathematical formula of the model in this case, as it would require us going into some Linear Algebra and matrix-vector notation. "
   ]
  },
  {
   "cell_type": "code",
   "execution_count": 6,
   "id": "39922e76",
   "metadata": {},
   "outputs": [
    {
     "data": {
      "text/plain": [
       "'Weight ~ Species + Length1 + Length2 + Length3 + Height + Width'"
      ]
     },
     "execution_count": 6,
     "metadata": {},
     "output_type": "execute_result"
    }
   ],
   "source": [
    "# --- Composing the fomula of the model\n",
    "\n",
    "# - right side of the formula\n",
    "formula = ' + '.join(predictors)\n",
    "\n",
    "# - left side of the formula\n",
    "formula = 'Weight ~ ' + formula\n",
    "\n",
    "formula"
   ]
  },
  {
   "cell_type": "code",
   "execution_count": 7,
   "id": "e3c85e95",
   "metadata": {},
   "outputs": [
    {
     "data": {
      "text/html": [
       "<table class=\"simpletable\">\n",
       "<caption>OLS Regression Results</caption>\n",
       "<tr>\n",
       "  <th>Dep. Variable:</th>         <td>Weight</td>      <th>  R-squared:         </th> <td>   0.936</td>\n",
       "</tr>\n",
       "<tr>\n",
       "  <th>Model:</th>                   <td>OLS</td>       <th>  Adj. R-squared:    </th> <td>   0.931</td>\n",
       "</tr>\n",
       "<tr>\n",
       "  <th>Method:</th>             <td>Least Squares</td>  <th>  F-statistic:       </th> <td>   195.7</td>\n",
       "</tr>\n",
       "<tr>\n",
       "  <th>Date:</th>             <td>Sat, 22 Apr 2023</td> <th>  Prob (F-statistic):</th> <td>6.85e-82</td>\n",
       "</tr>\n",
       "<tr>\n",
       "  <th>Time:</th>                 <td>11:22:13</td>     <th>  Log-Likelihood:    </th> <td> -941.46</td>\n",
       "</tr>\n",
       "<tr>\n",
       "  <th>No. Observations:</th>      <td>   159</td>      <th>  AIC:               </th> <td>   1907.</td>\n",
       "</tr>\n",
       "<tr>\n",
       "  <th>Df Residuals:</th>          <td>   147</td>      <th>  BIC:               </th> <td>   1944.</td>\n",
       "</tr>\n",
       "<tr>\n",
       "  <th>Df Model:</th>              <td>    11</td>      <th>                     </th>     <td> </td>   \n",
       "</tr>\n",
       "<tr>\n",
       "  <th>Covariance Type:</th>      <td>nonrobust</td>    <th>                     </th>     <td> </td>   \n",
       "</tr>\n",
       "</table>\n",
       "<table class=\"simpletable\">\n",
       "<tr>\n",
       "            <td></td>              <th>coef</th>     <th>std err</th>      <th>t</th>      <th>P>|t|</th>  <th>[0.025</th>    <th>0.975]</th>  \n",
       "</tr>\n",
       "<tr>\n",
       "  <th>Intercept</th>            <td> -918.3321</td> <td>  127.083</td> <td>   -7.226</td> <td> 0.000</td> <td>-1169.478</td> <td> -667.186</td>\n",
       "</tr>\n",
       "<tr>\n",
       "  <th>Species[T.Parkki]</th>    <td>  164.7227</td> <td>   75.699</td> <td>    2.176</td> <td> 0.031</td> <td>   15.123</td> <td>  314.322</td>\n",
       "</tr>\n",
       "<tr>\n",
       "  <th>Species[T.Perch]</th>     <td>  137.9489</td> <td>  120.314</td> <td>    1.147</td> <td> 0.253</td> <td>  -99.819</td> <td>  375.717</td>\n",
       "</tr>\n",
       "<tr>\n",
       "  <th>Species[T.Pike]</th>      <td> -208.4294</td> <td>  135.306</td> <td>   -1.540</td> <td> 0.126</td> <td> -475.826</td> <td>   58.968</td>\n",
       "</tr>\n",
       "<tr>\n",
       "  <th>Species[T.Roach]</th>     <td>  103.0400</td> <td>   91.308</td> <td>    1.128</td> <td> 0.261</td> <td>  -77.407</td> <td>  283.487</td>\n",
       "</tr>\n",
       "<tr>\n",
       "  <th>Species[T.Smelt]</th>     <td>  446.0733</td> <td>  119.430</td> <td>    3.735</td> <td> 0.000</td> <td>  210.051</td> <td>  682.095</td>\n",
       "</tr>\n",
       "<tr>\n",
       "  <th>Species[T.Whitefish]</th> <td>   93.8742</td> <td>   96.658</td> <td>    0.971</td> <td> 0.333</td> <td>  -97.145</td> <td>  284.893</td>\n",
       "</tr>\n",
       "<tr>\n",
       "  <th>Length1</th>              <td>  -80.3030</td> <td>   36.279</td> <td>   -2.214</td> <td> 0.028</td> <td> -151.998</td> <td>   -8.608</td>\n",
       "</tr>\n",
       "<tr>\n",
       "  <th>Length2</th>              <td>   79.8886</td> <td>   45.718</td> <td>    1.747</td> <td> 0.083</td> <td>  -10.461</td> <td>  170.238</td>\n",
       "</tr>\n",
       "<tr>\n",
       "  <th>Length3</th>              <td>   32.5354</td> <td>   29.300</td> <td>    1.110</td> <td> 0.269</td> <td>  -25.369</td> <td>   90.439</td>\n",
       "</tr>\n",
       "<tr>\n",
       "  <th>Height</th>               <td>    5.2510</td> <td>   13.056</td> <td>    0.402</td> <td> 0.688</td> <td>  -20.551</td> <td>   31.053</td>\n",
       "</tr>\n",
       "<tr>\n",
       "  <th>Width</th>                <td>   -0.5154</td> <td>   23.913</td> <td>   -0.022</td> <td> 0.983</td> <td>  -47.773</td> <td>   46.742</td>\n",
       "</tr>\n",
       "</table>\n",
       "<table class=\"simpletable\">\n",
       "<tr>\n",
       "  <th>Omnibus:</th>       <td>43.558</td> <th>  Durbin-Watson:     </th> <td>   0.973</td>\n",
       "</tr>\n",
       "<tr>\n",
       "  <th>Prob(Omnibus):</th> <td> 0.000</td> <th>  Jarque-Bera (JB):  </th> <td>  97.422</td>\n",
       "</tr>\n",
       "<tr>\n",
       "  <th>Skew:</th>          <td> 1.184</td> <th>  Prob(JB):          </th> <td>7.00e-22</td>\n",
       "</tr>\n",
       "<tr>\n",
       "  <th>Kurtosis:</th>      <td> 6.016</td> <th>  Cond. No.          </th> <td>2.03e+03</td>\n",
       "</tr>\n",
       "</table><br/><br/>Notes:<br/>[1] Standard Errors assume that the covariance matrix of the errors is correctly specified.<br/>[2] The condition number is large, 2.03e+03. This might indicate that there are<br/>strong multicollinearity or other numerical problems."
      ],
      "text/plain": [
       "<class 'statsmodels.iolib.summary.Summary'>\n",
       "\"\"\"\n",
       "                            OLS Regression Results                            \n",
       "==============================================================================\n",
       "Dep. Variable:                 Weight   R-squared:                       0.936\n",
       "Model:                            OLS   Adj. R-squared:                  0.931\n",
       "Method:                 Least Squares   F-statistic:                     195.7\n",
       "Date:                Sat, 22 Apr 2023   Prob (F-statistic):           6.85e-82\n",
       "Time:                        11:22:13   Log-Likelihood:                -941.46\n",
       "No. Observations:                 159   AIC:                             1907.\n",
       "Df Residuals:                     147   BIC:                             1944.\n",
       "Df Model:                          11                                         \n",
       "Covariance Type:            nonrobust                                         \n",
       "========================================================================================\n",
       "                           coef    std err          t      P>|t|      [0.025      0.975]\n",
       "----------------------------------------------------------------------------------------\n",
       "Intercept             -918.3321    127.083     -7.226      0.000   -1169.478    -667.186\n",
       "Species[T.Parkki]      164.7227     75.699      2.176      0.031      15.123     314.322\n",
       "Species[T.Perch]       137.9489    120.314      1.147      0.253     -99.819     375.717\n",
       "Species[T.Pike]       -208.4294    135.306     -1.540      0.126    -475.826      58.968\n",
       "Species[T.Roach]       103.0400     91.308      1.128      0.261     -77.407     283.487\n",
       "Species[T.Smelt]       446.0733    119.430      3.735      0.000     210.051     682.095\n",
       "Species[T.Whitefish]    93.8742     96.658      0.971      0.333     -97.145     284.893\n",
       "Length1                -80.3030     36.279     -2.214      0.028    -151.998      -8.608\n",
       "Length2                 79.8886     45.718      1.747      0.083     -10.461     170.238\n",
       "Length3                 32.5354     29.300      1.110      0.269     -25.369      90.439\n",
       "Height                   5.2510     13.056      0.402      0.688     -20.551      31.053\n",
       "Width                   -0.5154     23.913     -0.022      0.983     -47.773      46.742\n",
       "==============================================================================\n",
       "Omnibus:                       43.558   Durbin-Watson:                   0.973\n",
       "Prob(Omnibus):                  0.000   Jarque-Bera (JB):               97.422\n",
       "Skew:                           1.184   Prob(JB):                     7.00e-22\n",
       "Kurtosis:                       6.016   Cond. No.                     2.03e+03\n",
       "==============================================================================\n",
       "\n",
       "Notes:\n",
       "[1] Standard Errors assume that the covariance matrix of the errors is correctly specified.\n",
       "[2] The condition number is large, 2.03e+03. This might indicate that there are\n",
       "strong multicollinearity or other numerical problems.\n",
       "\"\"\""
      ]
     },
     "execution_count": 7,
     "metadata": {},
     "output_type": "execute_result"
    }
   ],
   "source": [
    "# - fitting the linear model to the data\n",
    "linear_model = smf.ols(formula=formula, data=model_frame).fit()\n",
    "linear_model.summary()"
   ]
  },
  {
   "cell_type": "markdown",
   "id": "ab61fcd4",
   "metadata": {},
   "source": [
    "#### The Referrence Category \n",
    "\n",
    "One-hot/dummy encoding can create a high collinearity between its dummy variables - this is called \"dummy variable trap\". To resolve this, we chose one category as a referrence and throw its corresponding dummy variable out of the model. Therefore, we have $C-1$ dummy variables, where $C$ is the number of categories."
   ]
  },
  {
   "cell_type": "code",
   "execution_count": 8,
   "id": "cb2a5ade",
   "metadata": {},
   "outputs": [
    {
     "data": {
      "text/plain": [
       "'Weight ~ C(Species, Treatment(reference=\"Perch\")) + Length1 + Length2 + Length3 + Height + Width'"
      ]
     },
     "execution_count": 8,
     "metadata": {},
     "output_type": "execute_result"
    }
   ],
   "source": [
    "# --- Composing the fomula of the model\n",
    "\n",
    "# - right side of the formula; continuous predictors\n",
    "num_predictors = predictors.drop('Species')\n",
    "formula = ' + '.join(num_predictors)\n",
    "\n",
    "# - right side of the formula; categorical predictor, one-hot encoded using the \"Perch\" category as the reference\n",
    "formula = 'C(Species, Treatment(reference=\"Perch\")) + ' + formula\n",
    "\n",
    "# - left side of the formula\n",
    "formula = 'Weight ~ ' + formula\n",
    "formula"
   ]
  },
  {
   "cell_type": "code",
   "execution_count": 9,
   "id": "9bb855fc",
   "metadata": {},
   "outputs": [
    {
     "data": {
      "text/html": [
       "<table class=\"simpletable\">\n",
       "<caption>OLS Regression Results</caption>\n",
       "<tr>\n",
       "  <th>Dep. Variable:</th>         <td>Weight</td>      <th>  R-squared:         </th> <td>   0.936</td>\n",
       "</tr>\n",
       "<tr>\n",
       "  <th>Model:</th>                   <td>OLS</td>       <th>  Adj. R-squared:    </th> <td>   0.931</td>\n",
       "</tr>\n",
       "<tr>\n",
       "  <th>Method:</th>             <td>Least Squares</td>  <th>  F-statistic:       </th> <td>   195.7</td>\n",
       "</tr>\n",
       "<tr>\n",
       "  <th>Date:</th>             <td>Sat, 22 Apr 2023</td> <th>  Prob (F-statistic):</th> <td>6.85e-82</td>\n",
       "</tr>\n",
       "<tr>\n",
       "  <th>Time:</th>                 <td>11:22:14</td>     <th>  Log-Likelihood:    </th> <td> -941.46</td>\n",
       "</tr>\n",
       "<tr>\n",
       "  <th>No. Observations:</th>      <td>   159</td>      <th>  AIC:               </th> <td>   1907.</td>\n",
       "</tr>\n",
       "<tr>\n",
       "  <th>Df Residuals:</th>          <td>   147</td>      <th>  BIC:               </th> <td>   1944.</td>\n",
       "</tr>\n",
       "<tr>\n",
       "  <th>Df Model:</th>              <td>    11</td>      <th>                     </th>     <td> </td>   \n",
       "</tr>\n",
       "<tr>\n",
       "  <th>Covariance Type:</th>      <td>nonrobust</td>    <th>                     </th>     <td> </td>   \n",
       "</tr>\n",
       "</table>\n",
       "<table class=\"simpletable\">\n",
       "<tr>\n",
       "                            <td></td>                               <th>coef</th>     <th>std err</th>      <th>t</th>      <th>P>|t|</th>  <th>[0.025</th>    <th>0.975]</th>  \n",
       "</tr>\n",
       "<tr>\n",
       "  <th>Intercept</th>                                             <td> -780.3832</td> <td>   39.541</td> <td>  -19.736</td> <td> 0.000</td> <td> -858.526</td> <td> -702.240</td>\n",
       "</tr>\n",
       "<tr>\n",
       "  <th>C(Species, Treatment(reference=\"Perch\"))[T.Bream]</th>     <td> -137.9489</td> <td>  120.314</td> <td>   -1.147</td> <td> 0.253</td> <td> -375.717</td> <td>   99.819</td>\n",
       "</tr>\n",
       "<tr>\n",
       "  <th>C(Species, Treatment(reference=\"Perch\"))[T.Parkki]</th>    <td>   26.7738</td> <td>   65.378</td> <td>    0.410</td> <td> 0.683</td> <td> -102.429</td> <td>  155.977</td>\n",
       "</tr>\n",
       "<tr>\n",
       "  <th>C(Species, Treatment(reference=\"Perch\"))[T.Pike]</th>      <td> -346.3783</td> <td>   74.804</td> <td>   -4.630</td> <td> 0.000</td> <td> -494.209</td> <td> -198.548</td>\n",
       "</tr>\n",
       "<tr>\n",
       "  <th>C(Species, Treatment(reference=\"Perch\"))[T.Roach]</th>     <td>  -34.9090</td> <td>   47.802</td> <td>   -0.730</td> <td> 0.466</td> <td> -129.377</td> <td>   59.559</td>\n",
       "</tr>\n",
       "<tr>\n",
       "  <th>C(Species, Treatment(reference=\"Perch\"))[T.Smelt]</th>     <td>  308.1244</td> <td>   42.941</td> <td>    7.176</td> <td> 0.000</td> <td>  223.263</td> <td>  392.985</td>\n",
       "</tr>\n",
       "<tr>\n",
       "  <th>C(Species, Treatment(reference=\"Perch\"))[T.Whitefish]</th> <td>  -44.0747</td> <td>   52.938</td> <td>   -0.833</td> <td> 0.406</td> <td> -148.693</td> <td>   60.544</td>\n",
       "</tr>\n",
       "<tr>\n",
       "  <th>Length1</th>                                               <td>  -80.3030</td> <td>   36.279</td> <td>   -2.214</td> <td> 0.028</td> <td> -151.998</td> <td>   -8.608</td>\n",
       "</tr>\n",
       "<tr>\n",
       "  <th>Length2</th>                                               <td>   79.8886</td> <td>   45.718</td> <td>    1.747</td> <td> 0.083</td> <td>  -10.461</td> <td>  170.238</td>\n",
       "</tr>\n",
       "<tr>\n",
       "  <th>Length3</th>                                               <td>   32.5354</td> <td>   29.300</td> <td>    1.110</td> <td> 0.269</td> <td>  -25.369</td> <td>   90.439</td>\n",
       "</tr>\n",
       "<tr>\n",
       "  <th>Height</th>                                                <td>    5.2510</td> <td>   13.056</td> <td>    0.402</td> <td> 0.688</td> <td>  -20.551</td> <td>   31.053</td>\n",
       "</tr>\n",
       "<tr>\n",
       "  <th>Width</th>                                                 <td>   -0.5154</td> <td>   23.913</td> <td>   -0.022</td> <td> 0.983</td> <td>  -47.773</td> <td>   46.742</td>\n",
       "</tr>\n",
       "</table>\n",
       "<table class=\"simpletable\">\n",
       "<tr>\n",
       "  <th>Omnibus:</th>       <td>43.558</td> <th>  Durbin-Watson:     </th> <td>   0.973</td>\n",
       "</tr>\n",
       "<tr>\n",
       "  <th>Prob(Omnibus):</th> <td> 0.000</td> <th>  Jarque-Bera (JB):  </th> <td>  97.422</td>\n",
       "</tr>\n",
       "<tr>\n",
       "  <th>Skew:</th>          <td> 1.184</td> <th>  Prob(JB):          </th> <td>7.00e-22</td>\n",
       "</tr>\n",
       "<tr>\n",
       "  <th>Kurtosis:</th>      <td> 6.016</td> <th>  Cond. No.          </th> <td>1.07e+03</td>\n",
       "</tr>\n",
       "</table><br/><br/>Notes:<br/>[1] Standard Errors assume that the covariance matrix of the errors is correctly specified.<br/>[2] The condition number is large, 1.07e+03. This might indicate that there are<br/>strong multicollinearity or other numerical problems."
      ],
      "text/plain": [
       "<class 'statsmodels.iolib.summary.Summary'>\n",
       "\"\"\"\n",
       "                            OLS Regression Results                            \n",
       "==============================================================================\n",
       "Dep. Variable:                 Weight   R-squared:                       0.936\n",
       "Model:                            OLS   Adj. R-squared:                  0.931\n",
       "Method:                 Least Squares   F-statistic:                     195.7\n",
       "Date:                Sat, 22 Apr 2023   Prob (F-statistic):           6.85e-82\n",
       "Time:                        11:22:14   Log-Likelihood:                -941.46\n",
       "No. Observations:                 159   AIC:                             1907.\n",
       "Df Residuals:                     147   BIC:                             1944.\n",
       "Df Model:                          11                                         \n",
       "Covariance Type:            nonrobust                                         \n",
       "=========================================================================================================================\n",
       "                                                            coef    std err          t      P>|t|      [0.025      0.975]\n",
       "-------------------------------------------------------------------------------------------------------------------------\n",
       "Intercept                                              -780.3832     39.541    -19.736      0.000    -858.526    -702.240\n",
       "C(Species, Treatment(reference=\"Perch\"))[T.Bream]      -137.9489    120.314     -1.147      0.253    -375.717      99.819\n",
       "C(Species, Treatment(reference=\"Perch\"))[T.Parkki]       26.7738     65.378      0.410      0.683    -102.429     155.977\n",
       "C(Species, Treatment(reference=\"Perch\"))[T.Pike]       -346.3783     74.804     -4.630      0.000    -494.209    -198.548\n",
       "C(Species, Treatment(reference=\"Perch\"))[T.Roach]       -34.9090     47.802     -0.730      0.466    -129.377      59.559\n",
       "C(Species, Treatment(reference=\"Perch\"))[T.Smelt]       308.1244     42.941      7.176      0.000     223.263     392.985\n",
       "C(Species, Treatment(reference=\"Perch\"))[T.Whitefish]   -44.0747     52.938     -0.833      0.406    -148.693      60.544\n",
       "Length1                                                 -80.3030     36.279     -2.214      0.028    -151.998      -8.608\n",
       "Length2                                                  79.8886     45.718      1.747      0.083     -10.461     170.238\n",
       "Length3                                                  32.5354     29.300      1.110      0.269     -25.369      90.439\n",
       "Height                                                    5.2510     13.056      0.402      0.688     -20.551      31.053\n",
       "Width                                                    -0.5154     23.913     -0.022      0.983     -47.773      46.742\n",
       "==============================================================================\n",
       "Omnibus:                       43.558   Durbin-Watson:                   0.973\n",
       "Prob(Omnibus):                  0.000   Jarque-Bera (JB):               97.422\n",
       "Skew:                           1.184   Prob(JB):                     7.00e-22\n",
       "Kurtosis:                       6.016   Cond. No.                     1.07e+03\n",
       "==============================================================================\n",
       "\n",
       "Notes:\n",
       "[1] Standard Errors assume that the covariance matrix of the errors is correctly specified.\n",
       "[2] The condition number is large, 1.07e+03. This might indicate that there are\n",
       "strong multicollinearity or other numerical problems.\n",
       "\"\"\""
      ]
     },
     "execution_count": 9,
     "metadata": {},
     "output_type": "execute_result"
    }
   ],
   "source": [
    "# - fitting the linear model to the data\n",
    "linear_model = smf.ols(formula=formula, data=model_frame).fit()\n",
    "linear_model.summary()"
   ]
  },
  {
   "cell_type": "code",
   "execution_count": 10,
   "id": "7ceb8d76",
   "metadata": {},
   "outputs": [
    {
     "data": {
      "text/html": [
       "<div>\n",
       "<style scoped>\n",
       "    .dataframe tbody tr th:only-of-type {\n",
       "        vertical-align: middle;\n",
       "    }\n",
       "\n",
       "    .dataframe tbody tr th {\n",
       "        vertical-align: top;\n",
       "    }\n",
       "\n",
       "    .dataframe thead th {\n",
       "        text-align: right;\n",
       "    }\n",
       "</style>\n",
       "<table border=\"1\" class=\"dataframe\">\n",
       "  <thead>\n",
       "    <tr style=\"text-align: right;\">\n",
       "      <th></th>\n",
       "      <th>Species</th>\n",
       "      <th>Weight</th>\n",
       "      <th>Length1</th>\n",
       "      <th>Length2</th>\n",
       "      <th>Length3</th>\n",
       "      <th>Height</th>\n",
       "      <th>Width</th>\n",
       "      <th>Predicted Weight</th>\n",
       "    </tr>\n",
       "  </thead>\n",
       "  <tbody>\n",
       "    <tr>\n",
       "      <th>0</th>\n",
       "      <td>Bream</td>\n",
       "      <td>242.0</td>\n",
       "      <td>23.2</td>\n",
       "      <td>25.4</td>\n",
       "      <td>30.0</td>\n",
       "      <td>11.5200</td>\n",
       "      <td>4.0200</td>\n",
       "      <td>282.291371</td>\n",
       "    </tr>\n",
       "    <tr>\n",
       "      <th>1</th>\n",
       "      <td>Bream</td>\n",
       "      <td>290.0</td>\n",
       "      <td>24.0</td>\n",
       "      <td>26.3</td>\n",
       "      <td>31.2</td>\n",
       "      <td>12.4800</td>\n",
       "      <td>4.3056</td>\n",
       "      <td>333.884974</td>\n",
       "    </tr>\n",
       "    <tr>\n",
       "      <th>2</th>\n",
       "      <td>Bream</td>\n",
       "      <td>340.0</td>\n",
       "      <td>23.9</td>\n",
       "      <td>26.5</td>\n",
       "      <td>31.1</td>\n",
       "      <td>12.3778</td>\n",
       "      <td>4.6961</td>\n",
       "      <td>353.901528</td>\n",
       "    </tr>\n",
       "    <tr>\n",
       "      <th>3</th>\n",
       "      <td>Bream</td>\n",
       "      <td>363.0</td>\n",
       "      <td>26.3</td>\n",
       "      <td>29.0</td>\n",
       "      <td>33.5</td>\n",
       "      <td>12.7300</td>\n",
       "      <td>4.4555</td>\n",
       "      <td>440.954349</td>\n",
       "    </tr>\n",
       "    <tr>\n",
       "      <th>4</th>\n",
       "      <td>Bream</td>\n",
       "      <td>430.0</td>\n",
       "      <td>26.5</td>\n",
       "      <td>29.0</td>\n",
       "      <td>34.0</td>\n",
       "      <td>12.4440</td>\n",
       "      <td>5.1340</td>\n",
       "      <td>439.309943</td>\n",
       "    </tr>\n",
       "    <tr>\n",
       "      <th>...</th>\n",
       "      <td>...</td>\n",
       "      <td>...</td>\n",
       "      <td>...</td>\n",
       "      <td>...</td>\n",
       "      <td>...</td>\n",
       "      <td>...</td>\n",
       "      <td>...</td>\n",
       "      <td>...</td>\n",
       "    </tr>\n",
       "    <tr>\n",
       "      <th>154</th>\n",
       "      <td>Smelt</td>\n",
       "      <td>12.2</td>\n",
       "      <td>11.5</td>\n",
       "      <td>12.2</td>\n",
       "      <td>13.4</td>\n",
       "      <td>2.0904</td>\n",
       "      <td>1.3936</td>\n",
       "      <td>25.130994</td>\n",
       "    </tr>\n",
       "    <tr>\n",
       "      <th>155</th>\n",
       "      <td>Smelt</td>\n",
       "      <td>13.4</td>\n",
       "      <td>11.7</td>\n",
       "      <td>12.4</td>\n",
       "      <td>13.5</td>\n",
       "      <td>2.4300</td>\n",
       "      <td>1.2690</td>\n",
       "      <td>30.149127</td>\n",
       "    </tr>\n",
       "    <tr>\n",
       "      <th>156</th>\n",
       "      <td>Smelt</td>\n",
       "      <td>12.2</td>\n",
       "      <td>12.1</td>\n",
       "      <td>13.0</td>\n",
       "      <td>13.8</td>\n",
       "      <td>2.2770</td>\n",
       "      <td>1.2558</td>\n",
       "      <td>54.925142</td>\n",
       "    </tr>\n",
       "    <tr>\n",
       "      <th>157</th>\n",
       "      <td>Smelt</td>\n",
       "      <td>19.7</td>\n",
       "      <td>13.2</td>\n",
       "      <td>14.3</td>\n",
       "      <td>15.2</td>\n",
       "      <td>2.8728</td>\n",
       "      <td>2.0672</td>\n",
       "      <td>118.706961</td>\n",
       "    </tr>\n",
       "    <tr>\n",
       "      <th>158</th>\n",
       "      <td>Smelt</td>\n",
       "      <td>19.9</td>\n",
       "      <td>13.8</td>\n",
       "      <td>15.0</td>\n",
       "      <td>16.2</td>\n",
       "      <td>2.9322</td>\n",
       "      <td>1.8792</td>\n",
       "      <td>159.391425</td>\n",
       "    </tr>\n",
       "  </tbody>\n",
       "</table>\n",
       "<p>159 rows × 8 columns</p>\n",
       "</div>"
      ],
      "text/plain": [
       "    Species  Weight  Length1  Length2  Length3   Height   Width  \\\n",
       "0     Bream   242.0     23.2     25.4     30.0  11.5200  4.0200   \n",
       "1     Bream   290.0     24.0     26.3     31.2  12.4800  4.3056   \n",
       "2     Bream   340.0     23.9     26.5     31.1  12.3778  4.6961   \n",
       "3     Bream   363.0     26.3     29.0     33.5  12.7300  4.4555   \n",
       "4     Bream   430.0     26.5     29.0     34.0  12.4440  5.1340   \n",
       "..      ...     ...      ...      ...      ...      ...     ...   \n",
       "154   Smelt    12.2     11.5     12.2     13.4   2.0904  1.3936   \n",
       "155   Smelt    13.4     11.7     12.4     13.5   2.4300  1.2690   \n",
       "156   Smelt    12.2     12.1     13.0     13.8   2.2770  1.2558   \n",
       "157   Smelt    19.7     13.2     14.3     15.2   2.8728  2.0672   \n",
       "158   Smelt    19.9     13.8     15.0     16.2   2.9322  1.8792   \n",
       "\n",
       "     Predicted Weight  \n",
       "0          282.291371  \n",
       "1          333.884974  \n",
       "2          353.901528  \n",
       "3          440.954349  \n",
       "4          439.309943  \n",
       "..                ...  \n",
       "154         25.130994  \n",
       "155         30.149127  \n",
       "156         54.925142  \n",
       "157        118.706961  \n",
       "158        159.391425  \n",
       "\n",
       "[159 rows x 8 columns]"
      ]
     },
     "execution_count": 10,
     "metadata": {},
     "output_type": "execute_result"
    }
   ],
   "source": [
    "# - predicting the values\n",
    "model_frame['Predicted Weight'] = linear_model.predict()\n",
    "model_frame"
   ]
  },
  {
   "cell_type": "code",
   "execution_count": 11,
   "id": "196b9e54",
   "metadata": {},
   "outputs": [
    {
     "data": {
      "image/png": "[encoded data removed]",
      "text/plain": [
       "<Figure size 576x432 with 1 Axes>"
      ]
     },
     "metadata": {},
     "output_type": "display_data"
    }
   ],
   "source": [
    "# - plotting the true values vs predicted values\n",
    "# - the identity line (y=x) shows how good is the prediction - the closer the datapoint to the line, the better\n",
    "sns.scatterplot(data=model_frame, x='Predicted Weight', y='Weight')\n",
    "sns.lineplot(x=np.arange(-500, 2000), y=np.arange(-500, 2000), color='k')\n",
    "sns.despine(offset=10, trim=True)\n",
    "plt.title('Model Predictions \\n Note: identity line', fontsize=14);"
   ]
  },
  {
   "cell_type": "markdown",
   "id": "bf230ca5",
   "metadata": {},
   "source": [
    "### One-Hot Encoding in scikit-learn"
   ]
  },
  {
   "cell_type": "code",
   "execution_count": 12,
   "id": "984efd6e",
   "metadata": {},
   "outputs": [],
   "source": [
    "# - import One-Hot Encoder from scikit-learn\n",
    "from sklearn.linear_model import LinearRegression\n",
    "from sklearn.preprocessing import OneHotEncoder"
   ]
  },
  {
   "cell_type": "code",
   "execution_count": 13,
   "id": "228d8b46",
   "metadata": {},
   "outputs": [],
   "source": [
    "model_frame = fish_data.copy()"
   ]
  },
  {
   "cell_type": "code",
   "execution_count": 14,
   "id": "69d973e6",
   "metadata": {},
   "outputs": [
    {
     "data": {
      "text/plain": [
       "array([[1., 0., 0., 0., 0., 0.],\n",
       "       [1., 0., 0., 0., 0., 0.],\n",
       "       [1., 0., 0., 0., 0., 0.],\n",
       "       [1., 0., 0., 0., 0., 0.],\n",
       "       [1., 0., 0., 0., 0., 0.],\n",
       "       [1., 0., 0., 0., 0., 0.],\n",
       "       [1., 0., 0., 0., 0., 0.],\n",
       "       [1., 0., 0., 0., 0., 0.],\n",
       "       [1., 0., 0., 0., 0., 0.],\n",
       "       [1., 0., 0., 0., 0., 0.]])"
      ]
     },
     "execution_count": 14,
     "metadata": {},
     "output_type": "execute_result"
    }
   ],
   "source": [
    "### --- One-Hot Encoding the categories\n",
    "\n",
    "# - feature matrix\n",
    "X0 = model_frame.drop(columns='Weight')\n",
    "\n",
    "# - extracting the categorical variable\n",
    "cat_var = X0['Species'].values.reshape(-1, 1)\n",
    "\n",
    "# - defining the One Hot Encoder; 'drop' argument defines which class to drop and use as a referrence\n",
    "# - we need to specify 'sparse=False' in order for the encoder to give as a dense binary matrix\n",
    "enc = OneHotEncoder(drop=['Perch'], sparse=False)\n",
    "\n",
    "# - transforming categorical variable values into corresponding binary vectors\n",
    "dummy = enc.fit_transform(cat_var)\n",
    "dummy[:10]"
   ]
  },
  {
   "cell_type": "code",
   "execution_count": 15,
   "id": "decd9182",
   "metadata": {},
   "outputs": [
    {
     "data": {
      "text/html": [
       "<style>#sk-container-id-1 {color: black;background-color: white;}#sk-container-id-1 pre{padding: 0;}#sk-container-id-1 div.sk-toggleable {background-color: white;}#sk-container-id-1 label.sk-toggleable__label {cursor: pointer;display: block;width: 100%;margin-bottom: 0;padding: 0.3em;box-sizing: border-box;text-align: center;}#sk-container-id-1 label.sk-toggleable__label-arrow:before {content: \"▸\";float: left;margin-right: 0.25em;color: #696969;}#sk-container-id-1 label.sk-toggleable__label-arrow:hover:before {color: black;}#sk-container-id-1 div.sk-estimator:hover label.sk-toggleable__label-arrow:before {color: black;}#sk-container-id-1 div.sk-toggleable__content {max-height: 0;max-width: 0;overflow: hidden;text-align: left;background-color: #f0f8ff;}#sk-container-id-1 div.sk-toggleable__content pre {margin: 0.2em;color: black;border-radius: 0.25em;background-color: #f0f8ff;}#sk-container-id-1 input.sk-toggleable__control:checked~div.sk-toggleable__content {max-height: 200px;max-width: 100%;overflow: auto;}#sk-container-id-1 input.sk-toggleable__control:checked~label.sk-toggleable__label-arrow:before {content: \"▾\";}#sk-container-id-1 div.sk-estimator input.sk-toggleable__control:checked~label.sk-toggleable__label {background-color: #d4ebff;}#sk-container-id-1 div.sk-label input.sk-toggleable__control:checked~label.sk-toggleable__label {background-color: #d4ebff;}#sk-container-id-1 input.sk-hidden--visually {border: 0;clip: rect(1px 1px 1px 1px);clip: rect(1px, 1px, 1px, 1px);height: 1px;margin: -1px;overflow: hidden;padding: 0;position: absolute;width: 1px;}#sk-container-id-1 div.sk-estimator {font-family: monospace;background-color: #f0f8ff;border: 1px dotted black;border-radius: 0.25em;box-sizing: border-box;margin-bottom: 0.5em;}#sk-container-id-1 div.sk-estimator:hover {background-color: #d4ebff;}#sk-container-id-1 div.sk-parallel-item::after {content: \"\";width: 100%;border-bottom: 1px solid gray;flex-grow: 1;}#sk-container-id-1 div.sk-label:hover label.sk-toggleable__label {background-color: #d4ebff;}#sk-container-id-1 div.sk-serial::before {content: \"\";position: absolute;border-left: 1px solid gray;box-sizing: border-box;top: 0;bottom: 0;left: 50%;z-index: 0;}#sk-container-id-1 div.sk-serial {display: flex;flex-direction: column;align-items: center;background-color: white;padding-right: 0.2em;padding-left: 0.2em;position: relative;}#sk-container-id-1 div.sk-item {position: relative;z-index: 1;}#sk-container-id-1 div.sk-parallel {display: flex;align-items: stretch;justify-content: center;background-color: white;position: relative;}#sk-container-id-1 div.sk-item::before, #sk-container-id-1 div.sk-parallel-item::before {content: \"\";position: absolute;border-left: 1px solid gray;box-sizing: border-box;top: 0;bottom: 0;left: 50%;z-index: -1;}#sk-container-id-1 div.sk-parallel-item {display: flex;flex-direction: column;z-index: 1;position: relative;background-color: white;}#sk-container-id-1 div.sk-parallel-item:first-child::after {align-self: flex-end;width: 50%;}#sk-container-id-1 div.sk-parallel-item:last-child::after {align-self: flex-start;width: 50%;}#sk-container-id-1 div.sk-parallel-item:only-child::after {width: 0;}#sk-container-id-1 div.sk-dashed-wrapped {border: 1px dashed gray;margin: 0 0.4em 0.5em 0.4em;box-sizing: border-box;padding-bottom: 0.4em;background-color: white;}#sk-container-id-1 div.sk-label label {font-family: monospace;font-weight: bold;display: inline-block;line-height: 1.2em;}#sk-container-id-1 div.sk-label-container {text-align: center;}#sk-container-id-1 div.sk-container {/* jupyter's `normalize.less` sets `[hidden] { display: none; }` but bootstrap.min.css set `[hidden] { display: none !important; }` so we also need the `!important` here to be able to override the default hidden behavior on the sphinx rendered scikit-learn.org. See: https://github.com/scikit-learn/scikit-learn/issues/21755 */display: inline-block !important;position: relative;}#sk-container-id-1 div.sk-text-repr-fallback {display: none;}</style><div id=\"sk-container-id-1\" class=\"sk-top-container\"><div class=\"sk-text-repr-fallback\"><pre>LinearRegression()</pre><b>In a Jupyter environment, please rerun this cell to show the HTML representation or trust the notebook. <br />On GitHub, the HTML representation is unable to render, please try loading this page with nbviewer.org.</b></div><div class=\"sk-container\" hidden><div class=\"sk-item\"><div class=\"sk-estimator sk-toggleable\"><input class=\"sk-toggleable__control sk-hidden--visually\" id=\"sk-estimator-id-1\" type=\"checkbox\" checked><label for=\"sk-estimator-id-1\" class=\"sk-toggleable__label sk-toggleable__label-arrow\">LinearRegression</label><div class=\"sk-toggleable__content\"><pre>LinearRegression()</pre></div></div></div></div></div>"
      ],
      "text/plain": [
       "LinearRegression()"
      ]
     },
     "execution_count": 15,
     "metadata": {},
     "output_type": "execute_result"
    }
   ],
   "source": [
    "### --- Fitting the linear model to the numerical data\n",
    "\n",
    "# - independent variables\n",
    "\n",
    "# - numerical variables\n",
    "X0 = X0.drop(columns='Species').values\n",
    "\n",
    "# - all the variables\n",
    "X = np.concatenate((dummy, X0), axis=-1)\n",
    "\n",
    "# - the dependent variable\n",
    "y = model_frame['Weight'].values.reshape(-1, 1)\n",
    "\n",
    "\n",
    "lin_reg = LinearRegression()\n",
    "lin_reg.fit(X, y)"
   ]
  },
  {
   "cell_type": "code",
   "execution_count": 16,
   "id": "2c5bd43c",
   "metadata": {},
   "outputs": [
    {
     "data": {
      "text/plain": [
       "(array([[-137.94890963,   26.77375104, -346.37826625,  -34.90895507,\n",
       "          308.12440784,  -44.07474158,  -80.30295196,   79.88863137,\n",
       "           32.53538142,    5.25098766,   -0.51543798]]),\n",
       " array([-780.38323057]))"
      ]
     },
     "execution_count": 16,
     "metadata": {},
     "output_type": "execute_result"
    }
   ],
   "source": [
    "# - coefficents of the model\n",
    "lin_reg.coef_, lin_reg.intercept_"
   ]
  },
  {
   "cell_type": "code",
   "execution_count": 17,
   "id": "fd7b0eba",
   "metadata": {},
   "outputs": [
    {
     "data": {
      "text/plain": [
       "0.9360849020585845"
      ]
     },
     "execution_count": 17,
     "metadata": {},
     "output_type": "execute_result"
    }
   ],
   "source": [
    "# - calculating R^2 \n",
    "lin_reg.score(X, y)"
   ]
  },
  {
   "cell_type": "code",
   "execution_count": 18,
   "id": "bfedbb9a",
   "metadata": {},
   "outputs": [
    {
     "data": {
      "text/plain": [
       "array([[282.29137079],\n",
       "       [333.88497422],\n",
       "       [353.90152808],\n",
       "       [440.95434943],\n",
       "       [439.30994261],\n",
       "       [500.10509956],\n",
       "       [496.44739798],\n",
       "       [464.81628591],\n",
       "       [475.00009312],\n",
       "       [495.54295721]])"
      ]
     },
     "execution_count": 18,
     "metadata": {},
     "output_type": "execute_result"
    }
   ],
   "source": [
    "# - predicting the weight using the model\n",
    "y_pred = lin_reg.predict(X)\n",
    "y_pred[:10]"
   ]
  },
  {
   "cell_type": "markdown",
   "id": "ab1908c4",
   "metadata": {},
   "source": [
    "## 4. Linear Model Diagnostics"
   ]
  },
  {
   "cell_type": "markdown",
   "id": "02c5bae1",
   "metadata": {},
   "source": [
    "The following are the key assumptions of linear regression:\n",
    "\n",
    "**Linearity**: There should be a linear relationship between the dependent variable and the independent variable(s). This means that the relationship between the variables can be approximated by a straight line.\n",
    "\n",
    "**Independence**: The observations should be independent of each other. That is, the value of one observation should not be influenced by the value of another observation.\n",
    "\n",
    "**Homoscedasticity**: The variance of the errors (residuals) should be constant across all levels of the independent variable(s). This means that the spread of the residuals should be the same across the range of values for the independent variable(s).\n",
    "\n",
    "**Normality**: The residuals should be normally distributed. This means that the distribution of the residuals should follow a bell-shaped curve, with most of the residuals near zero and fewer residuals further from zero.\n",
    "\n",
    "**No multicollinearity**: There should be no perfect linear relationship among the independent variables. This means that the independent variables should not be highly correlated with each other.\n",
    "\n",
    "**No influential outliers**: There should be no influential outliers, which are data points that have a large effect on the regression coefficients.\n",
    "\n",
    "Violation of these assumptions can lead to biased or inefficient estimates of the regression coefficients and incorrect statistical inferences. Therefore, it is important to assess these assumptions before interpreting the results of a linear regression model. "
   ]
  },
  {
   "cell_type": "markdown",
   "id": "f4582fec",
   "metadata": {},
   "source": [
    "### Further Reading"
   ]
  },
  {
   "cell_type": "markdown",
   "id": "2c08710f",
   "metadata": {},
   "source": [
    "- [Brandon Foltz, Statistics PL15 - Multiple Linear Regression Playlist](https://www.youtube.com/playlist?list=PLIeGtxpvyG-IqjoU8IiF0Yu1WtxNq_4z-)\n"
   ]
  },
  {
   "cell_type": "markdown",
   "id": "b80c6988",
   "metadata": {},
   "source": [
    "***"
   ]
  },
  {
   "cell_type": "markdown",
   "id": "7081a36f",
   "metadata": {},
   "source": [
    "DataKolektiv, 2022/23.\n",
    "\n",
    "[hello@datakolektiv.com](mailto:goran.milovanovic@datakolektiv.com)\n",
    "\n",
    "![](../img/DK_Logo_100.png)"
   ]
  },
  {
   "cell_type": "markdown",
   "id": "e6b17b16",
   "metadata": {},
   "source": [
    "<font size=1>License: [GPLv3](https://www.gnu.org/licenses/gpl-3.0.txt) This Notebook is free software: you can redistribute it and/or modify it under the terms of the GNU General Public License as published by the Free Software Foundation, either version 3 of the License, or (at your option) any later version. This Notebook is distributed in the hope that it will be useful, but WITHOUT ANY WARRANTY; without even the implied warranty of MERCHANTABILITY or FITNESS FOR A PARTICULAR PURPOSE. See the GNU General Public License for more details. You should have received a copy of the GNU General Public License along with this Notebook. If not, see http://www.gnu.org/licenses/.</font>"
   ]
  },
  {
   "cell_type": "code",
   "execution_count": null,
   "id": "a941c761",
   "metadata": {},
   "outputs": [],
   "source": []
  }
 ],
 "metadata": {
  "kernelspec": {
   "display_name": "Python 3",
   "language": "python",
   "name": "python3"
  },
  "language_info": {
   "codemirror_mode": {
    "name": "ipython",
    "version": 3
   },
   "file_extension": ".py",
   "mimetype": "text/x-python",
   "name": "python",
   "nbconvert_exporter": "python",
   "pygments_lexer": "ipython3",
   "version": "3.8.8"
  }
 },
 "nbformat": 4,
 "nbformat_minor": 5
}
