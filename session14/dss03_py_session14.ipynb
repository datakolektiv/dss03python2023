{
 "cells": [
  {
   "cell_type": "markdown",
   "id": "c2e3e419",
   "metadata": {},
   "source": [
    "# DATA SCIENCE SESSIONS VOL. 3\n",
    "### A Foundational Python Data Science Course\n",
    "## Session 14: Multiple Linear Regression. One-Hot Encoding. Nested Models.\n",
    "\n",
    "[&larr; Back to course webpage](https://datakolektiv.com/)\n",
    "\n",
    "Feedback should be send to [goran.milovanovic@datakolektiv.com](mailto:goran.milovanovic@datakolektiv.com). \n",
    "\n",
    "These notebooks accompany the DATA SCIENCE SESSIONS VOL. 3 :: A Foundational Python Data Science Course."
   ]
  },
  {
   "cell_type": "markdown",
   "id": "9d0c806a",
   "metadata": {},
   "source": [
    "![](../img/IntroRDataScience_NonTech-1.jpg)"
   ]
  },
  {
   "cell_type": "markdown",
   "id": "7be30149",
   "metadata": {},
   "source": [
    "### Lecturers\n",
    "\n",
    "[Goran S. Milovanović, PhD, DataKolektiv, Chief Scientist & Owner](https://www.linkedin.com/in/gmilovanovic/)\n",
    "\n",
    "[Aleksandar Cvetković, PhD, DataKolektiv, Consultant](https://www.linkedin.com/in/alegzndr/)\n",
    "\n",
    "[Ilija Lazarević, MA, DataKolektiv, Consultant](https://www.linkedin.com/in/ilijalazarevic/)"
   ]
  },
  {
   "cell_type": "markdown",
   "id": "a123543b",
   "metadata": {},
   "source": [
    "![](../img/DK_Logo_100.png)"
   ]
  },
  {
   "cell_type": "markdown",
   "id": "18d2a4d4",
   "metadata": {},
   "source": [
    "***"
   ]
  },
  {
   "cell_type": "markdown",
   "id": "901b62d5",
   "metadata": {},
   "source": [
    "## 1. Multiple Linear Regression"
   ]
  },
  {
   "cell_type": "code",
   "execution_count": 1,
   "id": "707a3c4f",
   "metadata": {},
   "outputs": [],
   "source": [
    "### --- Setup - importing the libraries\n",
    "\n",
    "# - supress those annoying 'Future Warning'\n",
    "import warnings\n",
    "warnings.simplefilter(action='ignore', category=FutureWarning)\n",
    "\n",
    "\n",
    "# - data\n",
    "import numpy as np\n",
    "import pandas as pd\n",
    "\n",
    "# - os\n",
    "import os\n",
    "\n",
    "# - ml\n",
    "import statsmodels.api as sm\n",
    "import statsmodels.formula.api as smf\n",
    "from statsmodels.stats.outliers_influence import variance_inflation_factor\n",
    "\n",
    "# - visualization\n",
    "import matplotlib.pyplot as plt\n",
    "import seaborn as sns\n",
    "\n",
    "\n",
    "\n",
    "# - parameters\n",
    "%matplotlib inline\n",
    "pd.options.mode.chained_assignment = None  # default='warn'\n",
    "sns.set_theme()\n",
    "\n",
    "# - rng\n",
    "rng = np.random.default_rng()\n",
    "\n",
    "# - plots\n",
    "plt.rc(\"figure\", figsize=(8, 6))\n",
    "plt.rc(\"font\", size=14)\n",
    "sns.set_theme(style='white')\n",
    "\n",
    "# - directory tree\n",
    "data_dir = os.path.join(os.getcwd(), '_data')"
   ]
  },
  {
   "cell_type": "code",
   "execution_count": 2,
   "id": "d19f17ac",
   "metadata": {},
   "outputs": [
    {
     "data": {
      "text/html": [
       "<div>\n",
       "<style scoped>\n",
       "    .dataframe tbody tr th:only-of-type {\n",
       "        vertical-align: middle;\n",
       "    }\n",
       "\n",
       "    .dataframe tbody tr th {\n",
       "        vertical-align: top;\n",
       "    }\n",
       "\n",
       "    .dataframe thead th {\n",
       "        text-align: right;\n",
       "    }\n",
       "</style>\n",
       "<table border=\"1\" class=\"dataframe\">\n",
       "  <thead>\n",
       "    <tr style=\"text-align: right;\">\n",
       "      <th></th>\n",
       "      <th>Species</th>\n",
       "      <th>Weight</th>\n",
       "      <th>Length1</th>\n",
       "      <th>Length2</th>\n",
       "      <th>Length3</th>\n",
       "      <th>Height</th>\n",
       "      <th>Width</th>\n",
       "    </tr>\n",
       "  </thead>\n",
       "  <tbody>\n",
       "    <tr>\n",
       "      <th>0</th>\n",
       "      <td>Bream</td>\n",
       "      <td>242.0</td>\n",
       "      <td>23.2</td>\n",
       "      <td>25.4</td>\n",
       "      <td>30.0</td>\n",
       "      <td>11.5200</td>\n",
       "      <td>4.0200</td>\n",
       "    </tr>\n",
       "    <tr>\n",
       "      <th>1</th>\n",
       "      <td>Bream</td>\n",
       "      <td>290.0</td>\n",
       "      <td>24.0</td>\n",
       "      <td>26.3</td>\n",
       "      <td>31.2</td>\n",
       "      <td>12.4800</td>\n",
       "      <td>4.3056</td>\n",
       "    </tr>\n",
       "    <tr>\n",
       "      <th>2</th>\n",
       "      <td>Bream</td>\n",
       "      <td>340.0</td>\n",
       "      <td>23.9</td>\n",
       "      <td>26.5</td>\n",
       "      <td>31.1</td>\n",
       "      <td>12.3778</td>\n",
       "      <td>4.6961</td>\n",
       "    </tr>\n",
       "    <tr>\n",
       "      <th>3</th>\n",
       "      <td>Bream</td>\n",
       "      <td>363.0</td>\n",
       "      <td>26.3</td>\n",
       "      <td>29.0</td>\n",
       "      <td>33.5</td>\n",
       "      <td>12.7300</td>\n",
       "      <td>4.4555</td>\n",
       "    </tr>\n",
       "    <tr>\n",
       "      <th>4</th>\n",
       "      <td>Bream</td>\n",
       "      <td>430.0</td>\n",
       "      <td>26.5</td>\n",
       "      <td>29.0</td>\n",
       "      <td>34.0</td>\n",
       "      <td>12.4440</td>\n",
       "      <td>5.1340</td>\n",
       "    </tr>\n",
       "    <tr>\n",
       "      <th>5</th>\n",
       "      <td>Bream</td>\n",
       "      <td>450.0</td>\n",
       "      <td>26.8</td>\n",
       "      <td>29.7</td>\n",
       "      <td>34.7</td>\n",
       "      <td>13.6024</td>\n",
       "      <td>4.9274</td>\n",
       "    </tr>\n",
       "    <tr>\n",
       "      <th>6</th>\n",
       "      <td>Bream</td>\n",
       "      <td>500.0</td>\n",
       "      <td>26.8</td>\n",
       "      <td>29.7</td>\n",
       "      <td>34.5</td>\n",
       "      <td>14.1795</td>\n",
       "      <td>5.2785</td>\n",
       "    </tr>\n",
       "    <tr>\n",
       "      <th>7</th>\n",
       "      <td>Bream</td>\n",
       "      <td>390.0</td>\n",
       "      <td>27.6</td>\n",
       "      <td>30.0</td>\n",
       "      <td>35.0</td>\n",
       "      <td>12.6700</td>\n",
       "      <td>4.6900</td>\n",
       "    </tr>\n",
       "    <tr>\n",
       "      <th>8</th>\n",
       "      <td>Bream</td>\n",
       "      <td>450.0</td>\n",
       "      <td>27.6</td>\n",
       "      <td>30.0</td>\n",
       "      <td>35.1</td>\n",
       "      <td>14.0049</td>\n",
       "      <td>4.8438</td>\n",
       "    </tr>\n",
       "    <tr>\n",
       "      <th>9</th>\n",
       "      <td>Bream</td>\n",
       "      <td>500.0</td>\n",
       "      <td>28.5</td>\n",
       "      <td>30.7</td>\n",
       "      <td>36.2</td>\n",
       "      <td>14.2266</td>\n",
       "      <td>4.9594</td>\n",
       "    </tr>\n",
       "  </tbody>\n",
       "</table>\n",
       "</div>"
      ],
      "text/plain": [
       "  Species  Weight  Length1  Length2  Length3   Height   Width\n",
       "0   Bream   242.0     23.2     25.4     30.0  11.5200  4.0200\n",
       "1   Bream   290.0     24.0     26.3     31.2  12.4800  4.3056\n",
       "2   Bream   340.0     23.9     26.5     31.1  12.3778  4.6961\n",
       "3   Bream   363.0     26.3     29.0     33.5  12.7300  4.4555\n",
       "4   Bream   430.0     26.5     29.0     34.0  12.4440  5.1340\n",
       "5   Bream   450.0     26.8     29.7     34.7  13.6024  4.9274\n",
       "6   Bream   500.0     26.8     29.7     34.5  14.1795  5.2785\n",
       "7   Bream   390.0     27.6     30.0     35.0  12.6700  4.6900\n",
       "8   Bream   450.0     27.6     30.0     35.1  14.0049  4.8438\n",
       "9   Bream   500.0     28.5     30.7     36.2  14.2266  4.9594"
      ]
     },
     "execution_count": 2,
     "metadata": {},
     "output_type": "execute_result"
    }
   ],
   "source": [
    "# - loading the dataset\n",
    "# - Kaggle: https://www.kaggle.com/datasets/aungpyaeap/fish-market\n",
    "# - place it in your _data/ directory\n",
    "fish_data = pd.read_csv(os.path.join(data_dir, 'Fish.csv'))\n",
    "fish_data.head(10)"
   ]
  },
  {
   "cell_type": "code",
   "execution_count": 3,
   "id": "39b5525c",
   "metadata": {},
   "outputs": [
    {
     "name": "stdout",
     "output_type": "stream",
     "text": [
      "<class 'pandas.core.frame.DataFrame'>\n",
      "RangeIndex: 159 entries, 0 to 158\n",
      "Data columns (total 7 columns):\n",
      " #   Column   Non-Null Count  Dtype  \n",
      "---  ------   --------------  -----  \n",
      " 0   Species  159 non-null    object \n",
      " 1   Weight   159 non-null    float64\n",
      " 2   Length1  159 non-null    float64\n",
      " 3   Length2  159 non-null    float64\n",
      " 4   Length3  159 non-null    float64\n",
      " 5   Height   159 non-null    float64\n",
      " 6   Width    159 non-null    float64\n",
      "dtypes: float64(6), object(1)\n",
      "memory usage: 8.8+ KB\n"
     ]
    }
   ],
   "source": [
    "fish_data.info()"
   ]
  },
  {
   "cell_type": "markdown",
   "id": "48cb4089",
   "metadata": {},
   "source": [
    "### Target: predict weight from all continuous predictors"
   ]
  },
  {
   "cell_type": "code",
   "execution_count": 4,
   "id": "e9d5c5f3",
   "metadata": {},
   "outputs": [
    {
     "data": {
      "text/html": [
       "<div>\n",
       "<style scoped>\n",
       "    .dataframe tbody tr th:only-of-type {\n",
       "        vertical-align: middle;\n",
       "    }\n",
       "\n",
       "    .dataframe tbody tr th {\n",
       "        vertical-align: top;\n",
       "    }\n",
       "\n",
       "    .dataframe thead th {\n",
       "        text-align: right;\n",
       "    }\n",
       "</style>\n",
       "<table border=\"1\" class=\"dataframe\">\n",
       "  <thead>\n",
       "    <tr style=\"text-align: right;\">\n",
       "      <th></th>\n",
       "      <th>Weight</th>\n",
       "      <th>Length1</th>\n",
       "      <th>Length2</th>\n",
       "      <th>Length3</th>\n",
       "      <th>Height</th>\n",
       "      <th>Width</th>\n",
       "    </tr>\n",
       "  </thead>\n",
       "  <tbody>\n",
       "    <tr>\n",
       "      <th>0</th>\n",
       "      <td>242.0</td>\n",
       "      <td>23.2</td>\n",
       "      <td>25.4</td>\n",
       "      <td>30.0</td>\n",
       "      <td>11.5200</td>\n",
       "      <td>4.0200</td>\n",
       "    </tr>\n",
       "    <tr>\n",
       "      <th>1</th>\n",
       "      <td>290.0</td>\n",
       "      <td>24.0</td>\n",
       "      <td>26.3</td>\n",
       "      <td>31.2</td>\n",
       "      <td>12.4800</td>\n",
       "      <td>4.3056</td>\n",
       "    </tr>\n",
       "    <tr>\n",
       "      <th>2</th>\n",
       "      <td>340.0</td>\n",
       "      <td>23.9</td>\n",
       "      <td>26.5</td>\n",
       "      <td>31.1</td>\n",
       "      <td>12.3778</td>\n",
       "      <td>4.6961</td>\n",
       "    </tr>\n",
       "    <tr>\n",
       "      <th>3</th>\n",
       "      <td>363.0</td>\n",
       "      <td>26.3</td>\n",
       "      <td>29.0</td>\n",
       "      <td>33.5</td>\n",
       "      <td>12.7300</td>\n",
       "      <td>4.4555</td>\n",
       "    </tr>\n",
       "    <tr>\n",
       "      <th>4</th>\n",
       "      <td>430.0</td>\n",
       "      <td>26.5</td>\n",
       "      <td>29.0</td>\n",
       "      <td>34.0</td>\n",
       "      <td>12.4440</td>\n",
       "      <td>5.1340</td>\n",
       "    </tr>\n",
       "    <tr>\n",
       "      <th>...</th>\n",
       "      <td>...</td>\n",
       "      <td>...</td>\n",
       "      <td>...</td>\n",
       "      <td>...</td>\n",
       "      <td>...</td>\n",
       "      <td>...</td>\n",
       "    </tr>\n",
       "    <tr>\n",
       "      <th>154</th>\n",
       "      <td>12.2</td>\n",
       "      <td>11.5</td>\n",
       "      <td>12.2</td>\n",
       "      <td>13.4</td>\n",
       "      <td>2.0904</td>\n",
       "      <td>1.3936</td>\n",
       "    </tr>\n",
       "    <tr>\n",
       "      <th>155</th>\n",
       "      <td>13.4</td>\n",
       "      <td>11.7</td>\n",
       "      <td>12.4</td>\n",
       "      <td>13.5</td>\n",
       "      <td>2.4300</td>\n",
       "      <td>1.2690</td>\n",
       "    </tr>\n",
       "    <tr>\n",
       "      <th>156</th>\n",
       "      <td>12.2</td>\n",
       "      <td>12.1</td>\n",
       "      <td>13.0</td>\n",
       "      <td>13.8</td>\n",
       "      <td>2.2770</td>\n",
       "      <td>1.2558</td>\n",
       "    </tr>\n",
       "    <tr>\n",
       "      <th>157</th>\n",
       "      <td>19.7</td>\n",
       "      <td>13.2</td>\n",
       "      <td>14.3</td>\n",
       "      <td>15.2</td>\n",
       "      <td>2.8728</td>\n",
       "      <td>2.0672</td>\n",
       "    </tr>\n",
       "    <tr>\n",
       "      <th>158</th>\n",
       "      <td>19.9</td>\n",
       "      <td>13.8</td>\n",
       "      <td>15.0</td>\n",
       "      <td>16.2</td>\n",
       "      <td>2.9322</td>\n",
       "      <td>1.8792</td>\n",
       "    </tr>\n",
       "  </tbody>\n",
       "</table>\n",
       "<p>159 rows × 6 columns</p>\n",
       "</div>"
      ],
      "text/plain": [
       "     Weight  Length1  Length2  Length3   Height   Width\n",
       "0     242.0     23.2     25.4     30.0  11.5200  4.0200\n",
       "1     290.0     24.0     26.3     31.2  12.4800  4.3056\n",
       "2     340.0     23.9     26.5     31.1  12.3778  4.6961\n",
       "3     363.0     26.3     29.0     33.5  12.7300  4.4555\n",
       "4     430.0     26.5     29.0     34.0  12.4440  5.1340\n",
       "..      ...      ...      ...      ...      ...     ...\n",
       "154    12.2     11.5     12.2     13.4   2.0904  1.3936\n",
       "155    13.4     11.7     12.4     13.5   2.4300  1.2690\n",
       "156    12.2     12.1     13.0     13.8   2.2770  1.2558\n",
       "157    19.7     13.2     14.3     15.2   2.8728  2.0672\n",
       "158    19.9     13.8     15.0     16.2   2.9322  1.8792\n",
       "\n",
       "[159 rows x 6 columns]"
      ]
     },
     "execution_count": 4,
     "metadata": {},
     "output_type": "execute_result"
    }
   ],
   "source": [
    "model_frame = fish_data.drop(columns='Species')\n",
    "model_frame"
   ]
  },
  {
   "cell_type": "code",
   "execution_count": 5,
   "id": "36e8df57",
   "metadata": {},
   "outputs": [
    {
     "data": {
      "text/plain": [
       "Index(['Length1', 'Length2', 'Length3', 'Height', 'Width'], dtype='object')"
      ]
     },
     "execution_count": 5,
     "metadata": {},
     "output_type": "execute_result"
    }
   ],
   "source": [
    "predictors = model_frame.columns.drop('Weight')\n",
    "predictors"
   ]
  },
  {
   "cell_type": "markdown",
   "id": "2cff6124",
   "metadata": {},
   "source": [
    "The formula for the Multiple Linear Regression Model has the form\n",
    "\n",
    "$$y = \\beta_1x_1 + \\beta_2x_2 + \\cdots + \\beta_kx_k + \\beta_0 + \\varepsilon,$$\n",
    "\n",
    "where \n",
    "\n",
    "- $y$ - the true value of target variable\n",
    "- $x_1, x_2, \\ldots, x_k$ - the predictors' values\n",
    "- $\\beta_1, \\beta_2, \\ldots, \\beta_k$ - model's parameters for the predictors\n",
    "- $\\beta_0$ - the intercept of the model\n",
    "- $\\varepsilon$ - the residual"
   ]
  },
  {
   "cell_type": "markdown",
   "id": "5ff188a1",
   "metadata": {},
   "source": [
    "To predict a value $\\hat{y}$ of the target variable via Multiple Linear Regression, we use\n",
    "\n",
    "$$\\hat{y} = \\beta_1x_1 + \\beta_2x_2 + \\cdots + \\beta_kx_k + \\beta_0.$$"
   ]
  },
  {
   "cell_type": "code",
   "execution_count": 6,
   "id": "aded23e3",
   "metadata": {},
   "outputs": [
    {
     "data": {
      "text/plain": [
       "'Weight ~ Length1 + Length2 + Length3 + Height + Width'"
      ]
     },
     "execution_count": 6,
     "metadata": {},
     "output_type": "execute_result"
    }
   ],
   "source": [
    "# --- Composing the fomula of the model\n",
    "\n",
    "# - right side of the formula\n",
    "formula = ' + '.join(predictors)\n",
    "\n",
    "# - left side of the formula\n",
    "formula = 'Weight ~ ' + formula\n",
    "\n",
    "formula"
   ]
  },
  {
   "cell_type": "code",
   "execution_count": 7,
   "id": "464ac6c8",
   "metadata": {},
   "outputs": [
    {
     "data": {
      "text/html": [
       "<table class=\"simpletable\">\n",
       "<caption>OLS Regression Results</caption>\n",
       "<tr>\n",
       "  <th>Dep. Variable:</th>         <td>Weight</td>      <th>  R-squared:         </th> <td>   0.885</td>\n",
       "</tr>\n",
       "<tr>\n",
       "  <th>Model:</th>                   <td>OLS</td>       <th>  Adj. R-squared:    </th> <td>   0.882</td>\n",
       "</tr>\n",
       "<tr>\n",
       "  <th>Method:</th>             <td>Least Squares</td>  <th>  F-statistic:       </th> <td>   236.2</td>\n",
       "</tr>\n",
       "<tr>\n",
       "  <th>Date:</th>             <td>Wed, 19 Apr 2023</td> <th>  Prob (F-statistic):</th> <td>4.95e-70</td>\n",
       "</tr>\n",
       "<tr>\n",
       "  <th>Time:</th>                 <td>23:05:11</td>     <th>  Log-Likelihood:    </th> <td> -987.96</td>\n",
       "</tr>\n",
       "<tr>\n",
       "  <th>No. Observations:</th>      <td>   159</td>      <th>  AIC:               </th> <td>   1988.</td>\n",
       "</tr>\n",
       "<tr>\n",
       "  <th>Df Residuals:</th>          <td>   153</td>      <th>  BIC:               </th> <td>   2006.</td>\n",
       "</tr>\n",
       "<tr>\n",
       "  <th>Df Model:</th>              <td>     5</td>      <th>                     </th>     <td> </td>   \n",
       "</tr>\n",
       "<tr>\n",
       "  <th>Covariance Type:</th>      <td>nonrobust</td>    <th>                     </th>     <td> </td>   \n",
       "</tr>\n",
       "</table>\n",
       "<table class=\"simpletable\">\n",
       "<tr>\n",
       "      <td></td>         <th>coef</th>     <th>std err</th>      <th>t</th>      <th>P>|t|</th>  <th>[0.025</th>    <th>0.975]</th>  \n",
       "</tr>\n",
       "<tr>\n",
       "  <th>Intercept</th> <td> -499.5870</td> <td>   29.572</td> <td>  -16.894</td> <td> 0.000</td> <td> -558.010</td> <td> -441.164</td>\n",
       "</tr>\n",
       "<tr>\n",
       "  <th>Length1</th>   <td>   62.3552</td> <td>   40.209</td> <td>    1.551</td> <td> 0.123</td> <td>  -17.081</td> <td>  141.791</td>\n",
       "</tr>\n",
       "<tr>\n",
       "  <th>Length2</th>   <td>   -6.5268</td> <td>   41.759</td> <td>   -0.156</td> <td> 0.876</td> <td>  -89.025</td> <td>   75.971</td>\n",
       "</tr>\n",
       "<tr>\n",
       "  <th>Length3</th>   <td>  -29.0262</td> <td>   17.353</td> <td>   -1.673</td> <td> 0.096</td> <td>  -63.309</td> <td>    5.256</td>\n",
       "</tr>\n",
       "<tr>\n",
       "  <th>Height</th>    <td>   28.2974</td> <td>    8.729</td> <td>    3.242</td> <td> 0.001</td> <td>   11.052</td> <td>   45.543</td>\n",
       "</tr>\n",
       "<tr>\n",
       "  <th>Width</th>     <td>   22.4733</td> <td>   20.372</td> <td>    1.103</td> <td> 0.272</td> <td>  -17.773</td> <td>   62.720</td>\n",
       "</tr>\n",
       "</table>\n",
       "<table class=\"simpletable\">\n",
       "<tr>\n",
       "  <th>Omnibus:</th>       <td>20.989</td> <th>  Durbin-Watson:     </th> <td>   0.424</td>\n",
       "</tr>\n",
       "<tr>\n",
       "  <th>Prob(Omnibus):</th> <td> 0.000</td> <th>  Jarque-Bera (JB):  </th> <td>  27.307</td>\n",
       "</tr>\n",
       "<tr>\n",
       "  <th>Skew:</th>          <td> 0.792</td> <th>  Prob(JB):          </th> <td>1.18e-06</td>\n",
       "</tr>\n",
       "<tr>\n",
       "  <th>Kurtosis:</th>      <td> 4.269</td> <th>  Cond. No.          </th> <td>    315.</td>\n",
       "</tr>\n",
       "</table><br/><br/>Notes:<br/>[1] Standard Errors assume that the covariance matrix of the errors is correctly specified."
      ],
      "text/plain": [
       "<class 'statsmodels.iolib.summary.Summary'>\n",
       "\"\"\"\n",
       "                            OLS Regression Results                            \n",
       "==============================================================================\n",
       "Dep. Variable:                 Weight   R-squared:                       0.885\n",
       "Model:                            OLS   Adj. R-squared:                  0.882\n",
       "Method:                 Least Squares   F-statistic:                     236.2\n",
       "Date:                Wed, 19 Apr 2023   Prob (F-statistic):           4.95e-70\n",
       "Time:                        23:05:11   Log-Likelihood:                -987.96\n",
       "No. Observations:                 159   AIC:                             1988.\n",
       "Df Residuals:                     153   BIC:                             2006.\n",
       "Df Model:                           5                                         \n",
       "Covariance Type:            nonrobust                                         \n",
       "==============================================================================\n",
       "                 coef    std err          t      P>|t|      [0.025      0.975]\n",
       "------------------------------------------------------------------------------\n",
       "Intercept   -499.5870     29.572    -16.894      0.000    -558.010    -441.164\n",
       "Length1       62.3552     40.209      1.551      0.123     -17.081     141.791\n",
       "Length2       -6.5268     41.759     -0.156      0.876     -89.025      75.971\n",
       "Length3      -29.0262     17.353     -1.673      0.096     -63.309       5.256\n",
       "Height        28.2974      8.729      3.242      0.001      11.052      45.543\n",
       "Width         22.4733     20.372      1.103      0.272     -17.773      62.720\n",
       "==============================================================================\n",
       "Omnibus:                       20.989   Durbin-Watson:                   0.424\n",
       "Prob(Omnibus):                  0.000   Jarque-Bera (JB):               27.307\n",
       "Skew:                           0.792   Prob(JB):                     1.18e-06\n",
       "Kurtosis:                       4.269   Cond. No.                         315.\n",
       "==============================================================================\n",
       "\n",
       "Notes:\n",
       "[1] Standard Errors assume that the covariance matrix of the errors is correctly specified.\n",
       "\"\"\""
      ]
     },
     "execution_count": 7,
     "metadata": {},
     "output_type": "execute_result"
    }
   ],
   "source": [
    "# - fitting the linear model to the data\n",
    "linear_model = smf.ols(formula=formula, data=model_frame).fit()\n",
    "linear_model.summary()"
   ]
  },
  {
   "cell_type": "code",
   "execution_count": 8,
   "id": "5e27e0d0",
   "metadata": {},
   "outputs": [
    {
     "data": {
      "text/plain": [
       "Intercept   -499.586955\n",
       "Length1       62.355214\n",
       "Length2       -6.526752\n",
       "Length3      -29.026219\n",
       "Height        28.297351\n",
       "Width         22.473307\n",
       "dtype: float64"
      ]
     },
     "execution_count": 8,
     "metadata": {},
     "output_type": "execute_result"
    }
   ],
   "source": [
    "# - model's parameters\n",
    "linear_model.params"
   ]
  },
  {
   "cell_type": "code",
   "execution_count": 9,
   "id": "356b41f0",
   "metadata": {},
   "outputs": [],
   "source": [
    "# - predicting the values using linear model's formula and parameters\n",
    "model_frame['Predicted Weight'] = linear_model.predict()"
   ]
  },
  {
   "cell_type": "code",
   "execution_count": 10,
   "id": "6e560415",
   "metadata": {},
   "outputs": [],
   "source": [
    "# - calculating the residuals - the difference between the true and predicted values\n",
    "model_frame['Residuals'] = linear_model.resid"
   ]
  },
  {
   "cell_type": "code",
   "execution_count": 11,
   "id": "bb204a53",
   "metadata": {},
   "outputs": [
    {
     "data": {
      "text/html": [
       "<div>\n",
       "<style scoped>\n",
       "    .dataframe tbody tr th:only-of-type {\n",
       "        vertical-align: middle;\n",
       "    }\n",
       "\n",
       "    .dataframe tbody tr th {\n",
       "        vertical-align: top;\n",
       "    }\n",
       "\n",
       "    .dataframe thead th {\n",
       "        text-align: right;\n",
       "    }\n",
       "</style>\n",
       "<table border=\"1\" class=\"dataframe\">\n",
       "  <thead>\n",
       "    <tr style=\"text-align: right;\">\n",
       "      <th></th>\n",
       "      <th>Weight</th>\n",
       "      <th>Length1</th>\n",
       "      <th>Length2</th>\n",
       "      <th>Length3</th>\n",
       "      <th>Height</th>\n",
       "      <th>Width</th>\n",
       "      <th>Predicted Weight</th>\n",
       "      <th>Residuals</th>\n",
       "    </tr>\n",
       "  </thead>\n",
       "  <tbody>\n",
       "    <tr>\n",
       "      <th>0</th>\n",
       "      <td>242.0</td>\n",
       "      <td>23.2</td>\n",
       "      <td>25.4</td>\n",
       "      <td>30.0</td>\n",
       "      <td>11.5200</td>\n",
       "      <td>4.0200</td>\n",
       "      <td>326.816128</td>\n",
       "      <td>-84.816128</td>\n",
       "    </tr>\n",
       "    <tr>\n",
       "      <th>1</th>\n",
       "      <td>290.0</td>\n",
       "      <td>24.0</td>\n",
       "      <td>26.3</td>\n",
       "      <td>31.2</td>\n",
       "      <td>12.4800</td>\n",
       "      <td>4.3056</td>\n",
       "      <td>369.578593</td>\n",
       "      <td>-79.578593</td>\n",
       "    </tr>\n",
       "    <tr>\n",
       "      <th>2</th>\n",
       "      <td>340.0</td>\n",
       "      <td>23.9</td>\n",
       "      <td>26.5</td>\n",
       "      <td>31.1</td>\n",
       "      <td>12.3778</td>\n",
       "      <td>4.6961</td>\n",
       "      <td>370.824180</td>\n",
       "      <td>-30.824180</td>\n",
       "    </tr>\n",
       "    <tr>\n",
       "      <th>3</th>\n",
       "      <td>363.0</td>\n",
       "      <td>26.3</td>\n",
       "      <td>29.0</td>\n",
       "      <td>33.5</td>\n",
       "      <td>12.7300</td>\n",
       "      <td>4.4555</td>\n",
       "      <td>439.056139</td>\n",
       "      <td>-76.056139</td>\n",
       "    </tr>\n",
       "    <tr>\n",
       "      <th>4</th>\n",
       "      <td>430.0</td>\n",
       "      <td>26.5</td>\n",
       "      <td>29.0</td>\n",
       "      <td>34.0</td>\n",
       "      <td>12.4440</td>\n",
       "      <td>5.1340</td>\n",
       "      <td>444.169168</td>\n",
       "      <td>-14.169168</td>\n",
       "    </tr>\n",
       "    <tr>\n",
       "      <th>...</th>\n",
       "      <td>...</td>\n",
       "      <td>...</td>\n",
       "      <td>...</td>\n",
       "      <td>...</td>\n",
       "      <td>...</td>\n",
       "      <td>...</td>\n",
       "      <td>...</td>\n",
       "      <td>...</td>\n",
       "    </tr>\n",
       "    <tr>\n",
       "      <th>154</th>\n",
       "      <td>12.2</td>\n",
       "      <td>11.5</td>\n",
       "      <td>12.2</td>\n",
       "      <td>13.4</td>\n",
       "      <td>2.0904</td>\n",
       "      <td>1.3936</td>\n",
       "      <td>-160.608116</td>\n",
       "      <td>172.808116</td>\n",
       "    </tr>\n",
       "    <tr>\n",
       "      <th>155</th>\n",
       "      <td>13.4</td>\n",
       "      <td>11.7</td>\n",
       "      <td>12.4</td>\n",
       "      <td>13.5</td>\n",
       "      <td>2.4300</td>\n",
       "      <td>1.2690</td>\n",
       "      <td>-145.535439</td>\n",
       "      <td>158.935439</td>\n",
       "    </tr>\n",
       "    <tr>\n",
       "      <th>156</th>\n",
       "      <td>12.2</td>\n",
       "      <td>12.1</td>\n",
       "      <td>13.0</td>\n",
       "      <td>13.8</td>\n",
       "      <td>2.2770</td>\n",
       "      <td>1.2558</td>\n",
       "      <td>-137.843413</td>\n",
       "      <td>150.043413</td>\n",
       "    </tr>\n",
       "    <tr>\n",
       "      <th>157</th>\n",
       "      <td>19.7</td>\n",
       "      <td>13.2</td>\n",
       "      <td>14.3</td>\n",
       "      <td>15.2</td>\n",
       "      <td>2.8728</td>\n",
       "      <td>2.0672</td>\n",
       "      <td>-83.279758</td>\n",
       "      <td>102.979758</td>\n",
       "    </tr>\n",
       "    <tr>\n",
       "      <th>158</th>\n",
       "      <td>19.9</td>\n",
       "      <td>13.8</td>\n",
       "      <td>15.0</td>\n",
       "      <td>16.2</td>\n",
       "      <td>2.9322</td>\n",
       "      <td>1.8792</td>\n",
       "      <td>-82.005694</td>\n",
       "      <td>101.905694</td>\n",
       "    </tr>\n",
       "  </tbody>\n",
       "</table>\n",
       "<p>159 rows × 8 columns</p>\n",
       "</div>"
      ],
      "text/plain": [
       "     Weight  Length1  Length2  Length3   Height   Width  Predicted Weight  \\\n",
       "0     242.0     23.2     25.4     30.0  11.5200  4.0200        326.816128   \n",
       "1     290.0     24.0     26.3     31.2  12.4800  4.3056        369.578593   \n",
       "2     340.0     23.9     26.5     31.1  12.3778  4.6961        370.824180   \n",
       "3     363.0     26.3     29.0     33.5  12.7300  4.4555        439.056139   \n",
       "4     430.0     26.5     29.0     34.0  12.4440  5.1340        444.169168   \n",
       "..      ...      ...      ...      ...      ...     ...               ...   \n",
       "154    12.2     11.5     12.2     13.4   2.0904  1.3936       -160.608116   \n",
       "155    13.4     11.7     12.4     13.5   2.4300  1.2690       -145.535439   \n",
       "156    12.2     12.1     13.0     13.8   2.2770  1.2558       -137.843413   \n",
       "157    19.7     13.2     14.3     15.2   2.8728  2.0672        -83.279758   \n",
       "158    19.9     13.8     15.0     16.2   2.9322  1.8792        -82.005694   \n",
       "\n",
       "      Residuals  \n",
       "0    -84.816128  \n",
       "1    -79.578593  \n",
       "2    -30.824180  \n",
       "3    -76.056139  \n",
       "4    -14.169168  \n",
       "..          ...  \n",
       "154  172.808116  \n",
       "155  158.935439  \n",
       "156  150.043413  \n",
       "157  102.979758  \n",
       "158  101.905694  \n",
       "\n",
       "[159 rows x 8 columns]"
      ]
     },
     "execution_count": 11,
     "metadata": {},
     "output_type": "execute_result"
    }
   ],
   "source": [
    "model_frame"
   ]
  },
  {
   "cell_type": "code",
   "execution_count": 12,
   "id": "aaee4d6a",
   "metadata": {},
   "outputs": [
    {
     "data": {
      "text/plain": [
       "count    1.590000e+02\n",
       "mean    -2.530247e-12\n",
       "std      1.212449e+02\n",
       "min     -2.436873e+02\n",
       "25%     -6.509770e+01\n",
       "50%     -2.552057e+01\n",
       "75%      5.798004e+01\n",
       "max      4.472475e+02\n",
       "Name: Residuals, dtype: float64"
      ]
     },
     "execution_count": 12,
     "metadata": {},
     "output_type": "execute_result"
    }
   ],
   "source": [
    "# - some statistics on the residuals\n",
    "model_frame['Residuals'].describe()"
   ]
  },
  {
   "cell_type": "code",
   "execution_count": 13,
   "id": "079416f4",
   "metadata": {},
   "outputs": [
    {
     "data": {
      "image/png": "[encoded data removed]",
      "text/plain": [
       "<Figure size 576x432 with 1 Axes>"
      ]
     },
     "metadata": {},
     "output_type": "display_data"
    }
   ],
   "source": [
    "# - plotting the true values vs predicted values\n",
    "# - the identity line (y=x) shows how good is the prediction - the closer the datapoint to the line, the better\n",
    "sns.scatterplot(data=model_frame, x='Predicted Weight', y='Weight')\n",
    "sns.lineplot(x=np.arange(-500, 2000), y=np.arange(-500, 2000), color='k')\n",
    "sns.despine(offset=10, trim=True)\n",
    "plt.title('Model Predictions \\n Note: identity line', fontsize=14);"
   ]
  },
  {
   "cell_type": "code",
   "execution_count": 14,
   "id": "0313f331",
   "metadata": {},
   "outputs": [
    {
     "name": "stdout",
     "output_type": "stream",
     "text": [
      "Pearson's correlation (R-value): 0.9409\n",
      "Coefficient of determination (R^2): 0.8853\n"
     ]
    }
   ],
   "source": [
    "# - Pearson's correlation (R-value) coefficient and R^2\n",
    "print(f\"Pearson's correlation (R-value): {round(np.sqrt(linear_model.rsquared), 4)}\")\n",
    "print(f\"Coefficient of determination (R^2): {round(linear_model.rsquared, 4)}\")"
   ]
  },
  {
   "cell_type": "code",
   "execution_count": 15,
   "id": "d7e3ac0a",
   "metadata": {},
   "outputs": [
    {
     "name": "stdout",
     "output_type": "stream",
     "text": [
      "p-values: \n",
      "Intercept    8.441362e-37\n",
      "Length1      1.230186e-01\n",
      "Length2      8.760053e-01\n",
      "Length3      9.643079e-02\n",
      "Height       1.458477e-03\n",
      "Width        2.716892e-01\n",
      "dtype: float64\n"
     ]
    }
   ],
   "source": [
    "# - p-values of the model's parameters\n",
    "print(f\"p-values: \\n{linear_model.pvalues}\")"
   ]
  },
  {
   "cell_type": "code",
   "execution_count": 16,
   "id": "130c594f",
   "metadata": {},
   "outputs": [
    {
     "name": "stdout",
     "output_type": "stream",
     "text": [
      "True\n"
     ]
    }
   ],
   "source": [
    "# R^2 upacked - calculating R^2 using the corresponding formulas\n",
    "total_sse = np.sum((model_frame['Weight'] - model_frame['Weight'].mean())**2)\n",
    "model_sse = np.sum((model_frame['Predicted Weight'] - model_frame['Weight'].mean())**2)\n",
    "residual_sse = np.sum(model_frame['Residuals']**2)\n",
    "\n",
    "\n",
    "print(np.isclose(total_sse, model_sse + residual_sse))"
   ]
  },
  {
   "cell_type": "code",
   "execution_count": 17,
   "id": "251e21d2",
   "metadata": {},
   "outputs": [
    {
     "data": {
      "text/plain": [
       "0.8852867046546216"
      ]
     },
     "execution_count": 17,
     "metadata": {},
     "output_type": "execute_result"
    }
   ],
   "source": [
    "# - yet another way to calculate R^2\n",
    "model_sse/total_sse"
   ]
  },
  {
   "cell_type": "code",
   "execution_count": 18,
   "id": "82af8f76",
   "metadata": {},
   "outputs": [
    {
     "data": {
      "image/png": "[encoded data removed]",
      "text/plain": [
       "<Figure size 576x432 with 1 Axes>"
      ]
     },
     "metadata": {},
     "output_type": "display_data"
    }
   ],
   "source": [
    "# - plotting the distribution of the residuals\n",
    "plt.figure(figsize=(8, 6))\n",
    "sns.histplot(data=model_frame, x='Residuals', binwidth=10, color='tab:orange')\n",
    "sns.despine(offset=10, trim=False)\n",
    "plt.title('Model Residuals', fontsize=14);"
   ]
  },
  {
   "cell_type": "code",
   "execution_count": 19,
   "id": "b391fc8e",
   "metadata": {},
   "outputs": [
    {
     "data": {
      "image/png": "[encoded data removed]",
      "text/plain": [
       "<Figure size 576x432 with 1 Axes>"
      ]
     },
     "metadata": {},
     "output_type": "display_data"
    }
   ],
   "source": [
    "# - plotting the qqplot\n",
    "sm.qqplot(model_frame['Residuals'].values, line='q')\n",
    "sns.despine(offset=10)\n",
    "plt.title('Q-Q Plot of Model Results', fontsize=14);"
   ]
  },
  {
   "cell_type": "code",
   "execution_count": 20,
   "id": "ed559393",
   "metadata": {},
   "outputs": [
    {
     "data": {
      "image/png": "[encoded data removed]",
      "text/plain": [
       "<Figure size 576x432 with 1 Axes>"
      ]
     },
     "metadata": {},
     "output_type": "display_data"
    }
   ],
   "source": [
    "### --- Heteroskedacity\n",
    "\n",
    "# - plotting the predicted values vs the residuals\n",
    "plt.figure(figsize=(8, 6))\n",
    "sns.scatterplot(data=model_frame, x='Predicted Weight', y='Residuals')\n",
    "sns.despine(offset=10)\n",
    "plt.axhline(y=0, color='red')\n",
    "plt.title('Predicted vs Residual', fontsize=14);"
   ]
  },
  {
   "cell_type": "code",
   "execution_count": 21,
   "id": "a2f1a1a0",
   "metadata": {},
   "outputs": [
    {
     "data": {
      "text/html": [
       "<div>\n",
       "<style scoped>\n",
       "    .dataframe tbody tr th:only-of-type {\n",
       "        vertical-align: middle;\n",
       "    }\n",
       "\n",
       "    .dataframe tbody tr th {\n",
       "        vertical-align: top;\n",
       "    }\n",
       "\n",
       "    .dataframe thead th {\n",
       "        text-align: right;\n",
       "    }\n",
       "</style>\n",
       "<table border=\"1\" class=\"dataframe\">\n",
       "  <thead>\n",
       "    <tr style=\"text-align: right;\">\n",
       "      <th></th>\n",
       "      <th>dfb_Intercept</th>\n",
       "      <th>dfb_Length1</th>\n",
       "      <th>dfb_Length2</th>\n",
       "      <th>dfb_Length3</th>\n",
       "      <th>dfb_Height</th>\n",
       "      <th>dfb_Width</th>\n",
       "      <th>cooks_d</th>\n",
       "      <th>standard_resid</th>\n",
       "      <th>hat_diag</th>\n",
       "      <th>dffits_internal</th>\n",
       "      <th>student_resid</th>\n",
       "      <th>dffits</th>\n",
       "    </tr>\n",
       "  </thead>\n",
       "  <tbody>\n",
       "    <tr>\n",
       "      <th>0</th>\n",
       "      <td>-0.014971</td>\n",
       "      <td>0.013313</td>\n",
       "      <td>0.015105</td>\n",
       "      <td>-0.061481</td>\n",
       "      <td>0.024483</td>\n",
       "      <td>-0.007549</td>\n",
       "      <td>0.002071</td>\n",
       "      <td>-0.697129</td>\n",
       "      <td>0.024926</td>\n",
       "      <td>-0.111461</td>\n",
       "      <td>-0.695954</td>\n",
       "      <td>-0.111273</td>\n",
       "    </tr>\n",
       "    <tr>\n",
       "      <th>1</th>\n",
       "      <td>-0.007100</td>\n",
       "      <td>0.011868</td>\n",
       "      <td>0.016926</td>\n",
       "      <td>-0.062002</td>\n",
       "      <td>0.023480</td>\n",
       "      <td>-0.012842</td>\n",
       "      <td>0.002076</td>\n",
       "      <td>-0.655179</td>\n",
       "      <td>0.028193</td>\n",
       "      <td>-0.111593</td>\n",
       "      <td>-0.653952</td>\n",
       "      <td>-0.111384</td>\n",
       "    </tr>\n",
       "    <tr>\n",
       "      <th>2</th>\n",
       "      <td>0.004293</td>\n",
       "      <td>0.029358</td>\n",
       "      <td>-0.014546</td>\n",
       "      <td>-0.026450</td>\n",
       "      <td>0.021258</td>\n",
       "      <td>-0.015360</td>\n",
       "      <td>0.000425</td>\n",
       "      <td>-0.255032</td>\n",
       "      <td>0.037721</td>\n",
       "      <td>-0.050493</td>\n",
       "      <td>-0.254251</td>\n",
       "      <td>-0.050339</td>\n",
       "    </tr>\n",
       "    <tr>\n",
       "      <th>3</th>\n",
       "      <td>0.002442</td>\n",
       "      <td>0.059705</td>\n",
       "      <td>-0.051392</td>\n",
       "      <td>-0.008673</td>\n",
       "      <td>-0.008840</td>\n",
       "      <td>0.031107</td>\n",
       "      <td>0.001918</td>\n",
       "      <td>-0.626276</td>\n",
       "      <td>0.028497</td>\n",
       "      <td>-0.107261</td>\n",
       "      <td>-0.625028</td>\n",
       "      <td>-0.107048</td>\n",
       "    </tr>\n",
       "    <tr>\n",
       "      <th>4</th>\n",
       "      <td>0.003725</td>\n",
       "      <td>0.004675</td>\n",
       "      <td>0.005207</td>\n",
       "      <td>-0.020717</td>\n",
       "      <td>0.016021</td>\n",
       "      <td>-0.014936</td>\n",
       "      <td>0.000106</td>\n",
       "      <td>-0.117607</td>\n",
       "      <td>0.043838</td>\n",
       "      <td>-0.025182</td>\n",
       "      <td>-0.117227</td>\n",
       "      <td>-0.025101</td>\n",
       "    </tr>\n",
       "    <tr>\n",
       "      <th>...</th>\n",
       "      <td>...</td>\n",
       "      <td>...</td>\n",
       "      <td>...</td>\n",
       "      <td>...</td>\n",
       "      <td>...</td>\n",
       "      <td>...</td>\n",
       "      <td>...</td>\n",
       "      <td>...</td>\n",
       "      <td>...</td>\n",
       "      <td>...</td>\n",
       "      <td>...</td>\n",
       "      <td>...</td>\n",
       "    </tr>\n",
       "    <tr>\n",
       "      <th>154</th>\n",
       "      <td>0.230454</td>\n",
       "      <td>0.097695</td>\n",
       "      <td>-0.103952</td>\n",
       "      <td>0.033734</td>\n",
       "      <td>-0.017510</td>\n",
       "      <td>-0.026127</td>\n",
       "      <td>0.011360</td>\n",
       "      <td>1.425865</td>\n",
       "      <td>0.032439</td>\n",
       "      <td>0.261079</td>\n",
       "      <td>1.430736</td>\n",
       "      <td>0.261971</td>\n",
       "    </tr>\n",
       "    <tr>\n",
       "      <th>155</th>\n",
       "      <td>0.228208</td>\n",
       "      <td>0.105397</td>\n",
       "      <td>-0.078481</td>\n",
       "      <td>-0.036793</td>\n",
       "      <td>0.057673</td>\n",
       "      <td>-0.093287</td>\n",
       "      <td>0.010625</td>\n",
       "      <td>1.313568</td>\n",
       "      <td>0.035630</td>\n",
       "      <td>0.252487</td>\n",
       "      <td>1.316714</td>\n",
       "      <td>0.253091</td>\n",
       "    </tr>\n",
       "    <tr>\n",
       "      <th>156</th>\n",
       "      <td>0.206981</td>\n",
       "      <td>0.028224</td>\n",
       "      <td>0.013098</td>\n",
       "      <td>-0.083006</td>\n",
       "      <td>0.075653</td>\n",
       "      <td>-0.126856</td>\n",
       "      <td>0.009100</td>\n",
       "      <td>1.239244</td>\n",
       "      <td>0.034333</td>\n",
       "      <td>0.233668</td>\n",
       "      <td>1.241434</td>\n",
       "      <td>0.234081</td>\n",
       "    </tr>\n",
       "    <tr>\n",
       "      <th>157</th>\n",
       "      <td>0.109987</td>\n",
       "      <td>-0.008234</td>\n",
       "      <td>0.010811</td>\n",
       "      <td>-0.009464</td>\n",
       "      <td>-0.010875</td>\n",
       "      <td>-0.008333</td>\n",
       "      <td>0.002564</td>\n",
       "      <td>0.844768</td>\n",
       "      <td>0.021105</td>\n",
       "      <td>0.124039</td>\n",
       "      <td>0.843973</td>\n",
       "      <td>0.123922</td>\n",
       "    </tr>\n",
       "    <tr>\n",
       "      <th>158</th>\n",
       "      <td>0.103923</td>\n",
       "      <td>-0.025716</td>\n",
       "      <td>0.023472</td>\n",
       "      <td>0.000496</td>\n",
       "      <td>-0.016997</td>\n",
       "      <td>-0.022979</td>\n",
       "      <td>0.002670</td>\n",
       "      <td>0.836503</td>\n",
       "      <td>0.022383</td>\n",
       "      <td>0.126573</td>\n",
       "      <td>0.835678</td>\n",
       "      <td>0.126448</td>\n",
       "    </tr>\n",
       "  </tbody>\n",
       "</table>\n",
       "<p>159 rows × 12 columns</p>\n",
       "</div>"
      ],
      "text/plain": [
       "     dfb_Intercept  dfb_Length1  dfb_Length2  dfb_Length3  dfb_Height  \\\n",
       "0        -0.014971     0.013313     0.015105    -0.061481    0.024483   \n",
       "1        -0.007100     0.011868     0.016926    -0.062002    0.023480   \n",
       "2         0.004293     0.029358    -0.014546    -0.026450    0.021258   \n",
       "3         0.002442     0.059705    -0.051392    -0.008673   -0.008840   \n",
       "4         0.003725     0.004675     0.005207    -0.020717    0.016021   \n",
       "..             ...          ...          ...          ...         ...   \n",
       "154       0.230454     0.097695    -0.103952     0.033734   -0.017510   \n",
       "155       0.228208     0.105397    -0.078481    -0.036793    0.057673   \n",
       "156       0.206981     0.028224     0.013098    -0.083006    0.075653   \n",
       "157       0.109987    -0.008234     0.010811    -0.009464   -0.010875   \n",
       "158       0.103923    -0.025716     0.023472     0.000496   -0.016997   \n",
       "\n",
       "     dfb_Width   cooks_d  standard_resid  hat_diag  dffits_internal  \\\n",
       "0    -0.007549  0.002071       -0.697129  0.024926        -0.111461   \n",
       "1    -0.012842  0.002076       -0.655179  0.028193        -0.111593   \n",
       "2    -0.015360  0.000425       -0.255032  0.037721        -0.050493   \n",
       "3     0.031107  0.001918       -0.626276  0.028497        -0.107261   \n",
       "4    -0.014936  0.000106       -0.117607  0.043838        -0.025182   \n",
       "..         ...       ...             ...       ...              ...   \n",
       "154  -0.026127  0.011360        1.425865  0.032439         0.261079   \n",
       "155  -0.093287  0.010625        1.313568  0.035630         0.252487   \n",
       "156  -0.126856  0.009100        1.239244  0.034333         0.233668   \n",
       "157  -0.008333  0.002564        0.844768  0.021105         0.124039   \n",
       "158  -0.022979  0.002670        0.836503  0.022383         0.126573   \n",
       "\n",
       "     student_resid    dffits  \n",
       "0        -0.695954 -0.111273  \n",
       "1        -0.653952 -0.111384  \n",
       "2        -0.254251 -0.050339  \n",
       "3        -0.625028 -0.107048  \n",
       "4        -0.117227 -0.025101  \n",
       "..             ...       ...  \n",
       "154       1.430736  0.261971  \n",
       "155       1.316714  0.253091  \n",
       "156       1.241434  0.234081  \n",
       "157       0.843973  0.123922  \n",
       "158       0.835678  0.126448  \n",
       "\n",
       "[159 rows x 12 columns]"
      ]
     },
     "execution_count": 21,
     "metadata": {},
     "output_type": "execute_result"
    }
   ],
   "source": [
    "# - identifying the influental cases\n",
    "model_inf = linear_model.get_influence()\n",
    "inf_frame = model_inf.summary_frame()\n",
    "inf_frame"
   ]
  },
  {
   "cell_type": "code",
   "execution_count": 22,
   "id": "9a2974a5",
   "metadata": {},
   "outputs": [
    {
     "data": {
      "text/plain": [
       "array([], shape=(0, 1), dtype=int64)"
      ]
     },
     "execution_count": 22,
     "metadata": {},
     "output_type": "execute_result"
    }
   ],
   "source": [
    "### --- Influence Measures\n",
    "\n",
    "# - calculating the Cook's distance /Cook and Weisberg (1982)/\n",
    "# - consider values with Cook's distance greater than 1 to be problematic\n",
    "\n",
    "w_cookD = np.argwhere(model_inf.cooks_distance[0] > 1)\n",
    "w_cookD"
   ]
  },
  {
   "cell_type": "code",
   "execution_count": 23,
   "id": "1bce9116",
   "metadata": {},
   "outputs": [
    {
     "data": {
      "text/plain": [
       "array([[111],\n",
       "       [113],\n",
       "       [118],\n",
       "       [129],\n",
       "       [130],\n",
       "       [141],\n",
       "       [142],\n",
       "       [143],\n",
       "       [144]], dtype=int64)"
      ]
     },
     "execution_count": 23,
     "metadata": {},
     "output_type": "execute_result"
    }
   ],
   "source": [
    "# - Leverage: hat values\n",
    "# - Average Leverage = (k+1)/n\n",
    "# - k - num. of predictors\n",
    "# - n - num. observations\n",
    "# - Also termed: hat values, range: 0 - 1\n",
    "# - Various criteria (twice the average leverage, three times the average leverage...)\n",
    "\n",
    "k = len(predictors)\n",
    "n = len(model_frame)\n",
    "w_leverage = np.argwhere(model_inf.hat_matrix_diag > 2*(k+1)/n)\n",
    "w_leverage"
   ]
  },
  {
   "cell_type": "code",
   "execution_count": 24,
   "id": "1e5eb027",
   "metadata": {},
   "outputs": [
    {
     "data": {
      "text/html": [
       "<div>\n",
       "<style scoped>\n",
       "    .dataframe tbody tr th:only-of-type {\n",
       "        vertical-align: middle;\n",
       "    }\n",
       "\n",
       "    .dataframe tbody tr th {\n",
       "        vertical-align: top;\n",
       "    }\n",
       "\n",
       "    .dataframe thead th {\n",
       "        text-align: right;\n",
       "    }\n",
       "</style>\n",
       "<table border=\"1\" class=\"dataframe\">\n",
       "  <thead>\n",
       "    <tr style=\"text-align: right;\">\n",
       "      <th></th>\n",
       "      <th>Residuals</th>\n",
       "      <th>Leverage</th>\n",
       "      <th>Cook Dist.</th>\n",
       "    </tr>\n",
       "  </thead>\n",
       "  <tbody>\n",
       "    <tr>\n",
       "      <th>0</th>\n",
       "      <td>-84.816128</td>\n",
       "      <td>0.024926</td>\n",
       "      <td>0.002071</td>\n",
       "    </tr>\n",
       "    <tr>\n",
       "      <th>1</th>\n",
       "      <td>-79.578593</td>\n",
       "      <td>0.028193</td>\n",
       "      <td>0.002076</td>\n",
       "    </tr>\n",
       "    <tr>\n",
       "      <th>2</th>\n",
       "      <td>-30.824180</td>\n",
       "      <td>0.037721</td>\n",
       "      <td>0.000425</td>\n",
       "    </tr>\n",
       "    <tr>\n",
       "      <th>3</th>\n",
       "      <td>-76.056139</td>\n",
       "      <td>0.028497</td>\n",
       "      <td>0.001918</td>\n",
       "    </tr>\n",
       "    <tr>\n",
       "      <th>4</th>\n",
       "      <td>-14.169168</td>\n",
       "      <td>0.043838</td>\n",
       "      <td>0.000106</td>\n",
       "    </tr>\n",
       "    <tr>\n",
       "      <th>...</th>\n",
       "      <td>...</td>\n",
       "      <td>...</td>\n",
       "      <td>...</td>\n",
       "    </tr>\n",
       "    <tr>\n",
       "      <th>154</th>\n",
       "      <td>172.808116</td>\n",
       "      <td>0.032439</td>\n",
       "      <td>0.011360</td>\n",
       "    </tr>\n",
       "    <tr>\n",
       "      <th>155</th>\n",
       "      <td>158.935439</td>\n",
       "      <td>0.035630</td>\n",
       "      <td>0.010625</td>\n",
       "    </tr>\n",
       "    <tr>\n",
       "      <th>156</th>\n",
       "      <td>150.043413</td>\n",
       "      <td>0.034333</td>\n",
       "      <td>0.009100</td>\n",
       "    </tr>\n",
       "    <tr>\n",
       "      <th>157</th>\n",
       "      <td>102.979758</td>\n",
       "      <td>0.021105</td>\n",
       "      <td>0.002564</td>\n",
       "    </tr>\n",
       "    <tr>\n",
       "      <th>158</th>\n",
       "      <td>101.905694</td>\n",
       "      <td>0.022383</td>\n",
       "      <td>0.002670</td>\n",
       "    </tr>\n",
       "  </tbody>\n",
       "</table>\n",
       "<p>159 rows × 3 columns</p>\n",
       "</div>"
      ],
      "text/plain": [
       "      Residuals  Leverage  Cook Dist.\n",
       "0    -84.816128  0.024926    0.002071\n",
       "1    -79.578593  0.028193    0.002076\n",
       "2    -30.824180  0.037721    0.000425\n",
       "3    -76.056139  0.028497    0.001918\n",
       "4    -14.169168  0.043838    0.000106\n",
       "..          ...       ...         ...\n",
       "154  172.808116  0.032439    0.011360\n",
       "155  158.935439  0.035630    0.010625\n",
       "156  150.043413  0.034333    0.009100\n",
       "157  102.979758  0.021105    0.002564\n",
       "158  101.905694  0.022383    0.002670\n",
       "\n",
       "[159 rows x 3 columns]"
      ]
     },
     "execution_count": 24,
     "metadata": {},
     "output_type": "execute_result"
    }
   ],
   "source": [
    "### --- The influence plot\n",
    "inf_plot_frame = pd.DataFrame(columns=['Residuals', 'Leverage', 'Cook Dist.'])\n",
    "\n",
    "inf_plot_frame['Residuals'] = model_frame['Residuals']\n",
    "inf_plot_frame['Leverage'] = model_inf.hat_matrix_diag\n",
    "inf_plot_frame['Cook Dist.'] = model_inf.cooks_distance[0]\n",
    "\n",
    "inf_plot_frame"
   ]
  },
  {
   "cell_type": "code",
   "execution_count": 25,
   "id": "1a5bbd7b",
   "metadata": {},
   "outputs": [
    {
     "data": {
      "image/png": "[encoded data removed]",
      "text/plain": [
       "<Figure size 576x432 with 1 Axes>"
      ]
     },
     "metadata": {},
     "output_type": "display_data"
    }
   ],
   "source": [
    "# - plotting the influence plot\n",
    "plt.figure(figsize=(8, 6))\n",
    "sns.scatterplot(data=inf_plot_frame, x='Leverage', y='Residuals', size='Cook Dist.', legend=None)\n",
    "sns.despine(offset=10, trim=True)\n",
    "plt.title(\"Influence Plot\\n Size of the blob corresponds to Cook's distance\", fontsize=14);"
   ]
  },
  {
   "cell_type": "code",
   "execution_count": 26,
   "id": "40c43af2",
   "metadata": {},
   "outputs": [
    {
     "data": {
      "text/html": [
       "<div>\n",
       "<style scoped>\n",
       "    .dataframe tbody tr th:only-of-type {\n",
       "        vertical-align: middle;\n",
       "    }\n",
       "\n",
       "    .dataframe tbody tr th {\n",
       "        vertical-align: top;\n",
       "    }\n",
       "\n",
       "    .dataframe thead th {\n",
       "        text-align: right;\n",
       "    }\n",
       "</style>\n",
       "<table border=\"1\" class=\"dataframe\">\n",
       "  <thead>\n",
       "    <tr style=\"text-align: right;\">\n",
       "      <th></th>\n",
       "      <th>Length1</th>\n",
       "      <th>Length2</th>\n",
       "      <th>Length3</th>\n",
       "      <th>Height</th>\n",
       "      <th>Width</th>\n",
       "    </tr>\n",
       "  </thead>\n",
       "  <tbody>\n",
       "    <tr>\n",
       "      <th>Length1</th>\n",
       "      <td>1.000000</td>\n",
       "      <td>0.999517</td>\n",
       "      <td>0.992031</td>\n",
       "      <td>0.625378</td>\n",
       "      <td>0.867050</td>\n",
       "    </tr>\n",
       "    <tr>\n",
       "      <th>Length2</th>\n",
       "      <td>0.999517</td>\n",
       "      <td>1.000000</td>\n",
       "      <td>0.994103</td>\n",
       "      <td>0.640441</td>\n",
       "      <td>0.873547</td>\n",
       "    </tr>\n",
       "    <tr>\n",
       "      <th>Length3</th>\n",
       "      <td>0.992031</td>\n",
       "      <td>0.994103</td>\n",
       "      <td>1.000000</td>\n",
       "      <td>0.703409</td>\n",
       "      <td>0.878520</td>\n",
       "    </tr>\n",
       "    <tr>\n",
       "      <th>Height</th>\n",
       "      <td>0.625378</td>\n",
       "      <td>0.640441</td>\n",
       "      <td>0.703409</td>\n",
       "      <td>1.000000</td>\n",
       "      <td>0.792881</td>\n",
       "    </tr>\n",
       "    <tr>\n",
       "      <th>Width</th>\n",
       "      <td>0.867050</td>\n",
       "      <td>0.873547</td>\n",
       "      <td>0.878520</td>\n",
       "      <td>0.792881</td>\n",
       "      <td>1.000000</td>\n",
       "    </tr>\n",
       "  </tbody>\n",
       "</table>\n",
       "</div>"
      ],
      "text/plain": [
       "          Length1   Length2   Length3    Height     Width\n",
       "Length1  1.000000  0.999517  0.992031  0.625378  0.867050\n",
       "Length2  0.999517  1.000000  0.994103  0.640441  0.873547\n",
       "Length3  0.992031  0.994103  1.000000  0.703409  0.878520\n",
       "Height   0.625378  0.640441  0.703409  1.000000  0.792881\n",
       "Width    0.867050  0.873547  0.878520  0.792881  1.000000"
      ]
     },
     "execution_count": 26,
     "metadata": {},
     "output_type": "execute_result"
    }
   ],
   "source": [
    "### --- Multicolinearity\n",
    "model_frame[predictors].corr()"
   ]
  },
  {
   "cell_type": "code",
   "execution_count": 27,
   "id": "87503d6e",
   "metadata": {},
   "outputs": [
    {
     "data": {
      "text/html": [
       "<div>\n",
       "<style scoped>\n",
       "    .dataframe tbody tr th:only-of-type {\n",
       "        vertical-align: middle;\n",
       "    }\n",
       "\n",
       "    .dataframe tbody tr th {\n",
       "        vertical-align: top;\n",
       "    }\n",
       "\n",
       "    .dataframe thead th {\n",
       "        text-align: right;\n",
       "    }\n",
       "</style>\n",
       "<table border=\"1\" class=\"dataframe\">\n",
       "  <thead>\n",
       "    <tr style=\"text-align: right;\">\n",
       "      <th></th>\n",
       "      <th>const</th>\n",
       "      <th>Length1</th>\n",
       "      <th>Length2</th>\n",
       "      <th>Length3</th>\n",
       "      <th>Height</th>\n",
       "      <th>Width</th>\n",
       "    </tr>\n",
       "  </thead>\n",
       "  <tbody>\n",
       "    <tr>\n",
       "      <th>0</th>\n",
       "      <td>1.0</td>\n",
       "      <td>23.2</td>\n",
       "      <td>25.4</td>\n",
       "      <td>30.0</td>\n",
       "      <td>11.5200</td>\n",
       "      <td>4.0200</td>\n",
       "    </tr>\n",
       "    <tr>\n",
       "      <th>1</th>\n",
       "      <td>1.0</td>\n",
       "      <td>24.0</td>\n",
       "      <td>26.3</td>\n",
       "      <td>31.2</td>\n",
       "      <td>12.4800</td>\n",
       "      <td>4.3056</td>\n",
       "    </tr>\n",
       "    <tr>\n",
       "      <th>2</th>\n",
       "      <td>1.0</td>\n",
       "      <td>23.9</td>\n",
       "      <td>26.5</td>\n",
       "      <td>31.1</td>\n",
       "      <td>12.3778</td>\n",
       "      <td>4.6961</td>\n",
       "    </tr>\n",
       "    <tr>\n",
       "      <th>3</th>\n",
       "      <td>1.0</td>\n",
       "      <td>26.3</td>\n",
       "      <td>29.0</td>\n",
       "      <td>33.5</td>\n",
       "      <td>12.7300</td>\n",
       "      <td>4.4555</td>\n",
       "    </tr>\n",
       "    <tr>\n",
       "      <th>4</th>\n",
       "      <td>1.0</td>\n",
       "      <td>26.5</td>\n",
       "      <td>29.0</td>\n",
       "      <td>34.0</td>\n",
       "      <td>12.4440</td>\n",
       "      <td>5.1340</td>\n",
       "    </tr>\n",
       "    <tr>\n",
       "      <th>...</th>\n",
       "      <td>...</td>\n",
       "      <td>...</td>\n",
       "      <td>...</td>\n",
       "      <td>...</td>\n",
       "      <td>...</td>\n",
       "      <td>...</td>\n",
       "    </tr>\n",
       "    <tr>\n",
       "      <th>154</th>\n",
       "      <td>1.0</td>\n",
       "      <td>11.5</td>\n",
       "      <td>12.2</td>\n",
       "      <td>13.4</td>\n",
       "      <td>2.0904</td>\n",
       "      <td>1.3936</td>\n",
       "    </tr>\n",
       "    <tr>\n",
       "      <th>155</th>\n",
       "      <td>1.0</td>\n",
       "      <td>11.7</td>\n",
       "      <td>12.4</td>\n",
       "      <td>13.5</td>\n",
       "      <td>2.4300</td>\n",
       "      <td>1.2690</td>\n",
       "    </tr>\n",
       "    <tr>\n",
       "      <th>156</th>\n",
       "      <td>1.0</td>\n",
       "      <td>12.1</td>\n",
       "      <td>13.0</td>\n",
       "      <td>13.8</td>\n",
       "      <td>2.2770</td>\n",
       "      <td>1.2558</td>\n",
       "    </tr>\n",
       "    <tr>\n",
       "      <th>157</th>\n",
       "      <td>1.0</td>\n",
       "      <td>13.2</td>\n",
       "      <td>14.3</td>\n",
       "      <td>15.2</td>\n",
       "      <td>2.8728</td>\n",
       "      <td>2.0672</td>\n",
       "    </tr>\n",
       "    <tr>\n",
       "      <th>158</th>\n",
       "      <td>1.0</td>\n",
       "      <td>13.8</td>\n",
       "      <td>15.0</td>\n",
       "      <td>16.2</td>\n",
       "      <td>2.9322</td>\n",
       "      <td>1.8792</td>\n",
       "    </tr>\n",
       "  </tbody>\n",
       "</table>\n",
       "<p>159 rows × 6 columns</p>\n",
       "</div>"
      ],
      "text/plain": [
       "     const  Length1  Length2  Length3   Height   Width\n",
       "0      1.0     23.2     25.4     30.0  11.5200  4.0200\n",
       "1      1.0     24.0     26.3     31.2  12.4800  4.3056\n",
       "2      1.0     23.9     26.5     31.1  12.3778  4.6961\n",
       "3      1.0     26.3     29.0     33.5  12.7300  4.4555\n",
       "4      1.0     26.5     29.0     34.0  12.4440  5.1340\n",
       "..     ...      ...      ...      ...      ...     ...\n",
       "154    1.0     11.5     12.2     13.4   2.0904  1.3936\n",
       "155    1.0     11.7     12.4     13.5   2.4300  1.2690\n",
       "156    1.0     12.1     13.0     13.8   2.2770  1.2558\n",
       "157    1.0     13.2     14.3     15.2   2.8728  2.0672\n",
       "158    1.0     13.8     15.0     16.2   2.9322  1.8792\n",
       "\n",
       "[159 rows x 6 columns]"
      ]
     },
     "execution_count": 27,
     "metadata": {},
     "output_type": "execute_result"
    }
   ],
   "source": [
    "### --- Variance Inflation Factors (VIFs)\n",
    "\n",
    "# - appending the columns of ones to the predictors' data\n",
    "model_frame_predictors = sm.add_constant(model_frame[predictors])\n",
    "model_frame_predictors"
   ]
  },
  {
   "cell_type": "code",
   "execution_count": 28,
   "id": "03058675",
   "metadata": {},
   "outputs": [
    {
     "data": {
      "text/html": [
       "<div>\n",
       "<style scoped>\n",
       "    .dataframe tbody tr th:only-of-type {\n",
       "        vertical-align: middle;\n",
       "    }\n",
       "\n",
       "    .dataframe tbody tr th {\n",
       "        vertical-align: top;\n",
       "    }\n",
       "\n",
       "    .dataframe thead th {\n",
       "        text-align: right;\n",
       "    }\n",
       "</style>\n",
       "<table border=\"1\" class=\"dataframe\">\n",
       "  <thead>\n",
       "    <tr style=\"text-align: right;\">\n",
       "      <th></th>\n",
       "      <th>Length1</th>\n",
       "      <th>Length2</th>\n",
       "      <th>Length3</th>\n",
       "      <th>Height</th>\n",
       "      <th>Width</th>\n",
       "    </tr>\n",
       "  </thead>\n",
       "  <tbody>\n",
       "    <tr>\n",
       "      <th>0</th>\n",
       "      <td>1681.496487</td>\n",
       "      <td>2084.257828</td>\n",
       "      <td>422.468251</td>\n",
       "      <td>14.570087</td>\n",
       "      <td>12.275361</td>\n",
       "    </tr>\n",
       "  </tbody>\n",
       "</table>\n",
       "</div>"
      ],
      "text/plain": [
       "       Length1      Length2     Length3     Height      Width\n",
       "0  1681.496487  2084.257828  422.468251  14.570087  12.275361"
      ]
     },
     "execution_count": 28,
     "metadata": {},
     "output_type": "execute_result"
    }
   ],
   "source": [
    "# - computing VIFs\n",
    "\n",
    "# - NOTE: \n",
    "# The lower bound of VIF is 1; \n",
    "# - there is no upper bound;\n",
    "# - VIF > 2 indicates high variance inflation\n",
    "vifs = [variance_inflation_factor(model_frame_predictors.values, i) for i in range(1, len(predictors)+1)]\n",
    "vifs = np.array(vifs).reshape(1, -1)\n",
    "vifs\n",
    "pd.DataFrame(vifs, columns=predictors)"
   ]
  },
  {
   "cell_type": "code",
   "execution_count": 29,
   "id": "f8c26877",
   "metadata": {},
   "outputs": [
    {
     "data": {
      "text/html": [
       "<div>\n",
       "<style scoped>\n",
       "    .dataframe tbody tr th:only-of-type {\n",
       "        vertical-align: middle;\n",
       "    }\n",
       "\n",
       "    .dataframe tbody tr th {\n",
       "        vertical-align: top;\n",
       "    }\n",
       "\n",
       "    .dataframe thead th {\n",
       "        text-align: right;\n",
       "    }\n",
       "</style>\n",
       "<table border=\"1\" class=\"dataframe\">\n",
       "  <thead>\n",
       "    <tr style=\"text-align: right;\">\n",
       "      <th></th>\n",
       "      <th>Length1</th>\n",
       "      <th>Length2</th>\n",
       "      <th>Length3</th>\n",
       "      <th>Height</th>\n",
       "      <th>Width</th>\n",
       "    </tr>\n",
       "  </thead>\n",
       "  <tbody>\n",
       "    <tr>\n",
       "      <th>0</th>\n",
       "      <td>41.006054</td>\n",
       "      <td>45.653673</td>\n",
       "      <td>20.554032</td>\n",
       "      <td>3.817078</td>\n",
       "      <td>3.503621</td>\n",
       "    </tr>\n",
       "  </tbody>\n",
       "</table>\n",
       "</div>"
      ],
      "text/plain": [
       "     Length1    Length2    Length3    Height     Width\n",
       "0  41.006054  45.653673  20.554032  3.817078  3.503621"
      ]
     },
     "execution_count": 29,
     "metadata": {},
     "output_type": "execute_result"
    }
   ],
   "source": [
    "# - square roots of VIFs\n",
    "pd.DataFrame(np.sqrt(vifs), columns=predictors)"
   ]
  },
  {
   "cell_type": "markdown",
   "id": "57193e12",
   "metadata": {},
   "source": [
    "### Multiple Linear Regression using scikit-learn\n"
   ]
  },
  {
   "cell_type": "code",
   "execution_count": 40,
   "id": "1c37685a",
   "metadata": {},
   "outputs": [],
   "source": [
    "# - import scikit-learn\n",
    "from sklearn.linear_model import LinearRegression"
   ]
  },
  {
   "cell_type": "code",
   "execution_count": 41,
   "id": "0f58ec69",
   "metadata": {},
   "outputs": [],
   "source": [
    "model_frame = fish_data.drop(columns='Species')"
   ]
  },
  {
   "cell_type": "code",
   "execution_count": 42,
   "id": "93efb74a",
   "metadata": {},
   "outputs": [
    {
     "data": {
      "text/html": [
       "<style>#sk-container-id-1 {color: black;background-color: white;}#sk-container-id-1 pre{padding: 0;}#sk-container-id-1 div.sk-toggleable {background-color: white;}#sk-container-id-1 label.sk-toggleable__label {cursor: pointer;display: block;width: 100%;margin-bottom: 0;padding: 0.3em;box-sizing: border-box;text-align: center;}#sk-container-id-1 label.sk-toggleable__label-arrow:before {content: \"▸\";float: left;margin-right: 0.25em;color: #696969;}#sk-container-id-1 label.sk-toggleable__label-arrow:hover:before {color: black;}#sk-container-id-1 div.sk-estimator:hover label.sk-toggleable__label-arrow:before {color: black;}#sk-container-id-1 div.sk-toggleable__content {max-height: 0;max-width: 0;overflow: hidden;text-align: left;background-color: #f0f8ff;}#sk-container-id-1 div.sk-toggleable__content pre {margin: 0.2em;color: black;border-radius: 0.25em;background-color: #f0f8ff;}#sk-container-id-1 input.sk-toggleable__control:checked~div.sk-toggleable__content {max-height: 200px;max-width: 100%;overflow: auto;}#sk-container-id-1 input.sk-toggleable__control:checked~label.sk-toggleable__label-arrow:before {content: \"▾\";}#sk-container-id-1 div.sk-estimator input.sk-toggleable__control:checked~label.sk-toggleable__label {background-color: #d4ebff;}#sk-container-id-1 div.sk-label input.sk-toggleable__control:checked~label.sk-toggleable__label {background-color: #d4ebff;}#sk-container-id-1 input.sk-hidden--visually {border: 0;clip: rect(1px 1px 1px 1px);clip: rect(1px, 1px, 1px, 1px);height: 1px;margin: -1px;overflow: hidden;padding: 0;position: absolute;width: 1px;}#sk-container-id-1 div.sk-estimator {font-family: monospace;background-color: #f0f8ff;border: 1px dotted black;border-radius: 0.25em;box-sizing: border-box;margin-bottom: 0.5em;}#sk-container-id-1 div.sk-estimator:hover {background-color: #d4ebff;}#sk-container-id-1 div.sk-parallel-item::after {content: \"\";width: 100%;border-bottom: 1px solid gray;flex-grow: 1;}#sk-container-id-1 div.sk-label:hover label.sk-toggleable__label {background-color: #d4ebff;}#sk-container-id-1 div.sk-serial::before {content: \"\";position: absolute;border-left: 1px solid gray;box-sizing: border-box;top: 0;bottom: 0;left: 50%;z-index: 0;}#sk-container-id-1 div.sk-serial {display: flex;flex-direction: column;align-items: center;background-color: white;padding-right: 0.2em;padding-left: 0.2em;position: relative;}#sk-container-id-1 div.sk-item {position: relative;z-index: 1;}#sk-container-id-1 div.sk-parallel {display: flex;align-items: stretch;justify-content: center;background-color: white;position: relative;}#sk-container-id-1 div.sk-item::before, #sk-container-id-1 div.sk-parallel-item::before {content: \"\";position: absolute;border-left: 1px solid gray;box-sizing: border-box;top: 0;bottom: 0;left: 50%;z-index: -1;}#sk-container-id-1 div.sk-parallel-item {display: flex;flex-direction: column;z-index: 1;position: relative;background-color: white;}#sk-container-id-1 div.sk-parallel-item:first-child::after {align-self: flex-end;width: 50%;}#sk-container-id-1 div.sk-parallel-item:last-child::after {align-self: flex-start;width: 50%;}#sk-container-id-1 div.sk-parallel-item:only-child::after {width: 0;}#sk-container-id-1 div.sk-dashed-wrapped {border: 1px dashed gray;margin: 0 0.4em 0.5em 0.4em;box-sizing: border-box;padding-bottom: 0.4em;background-color: white;}#sk-container-id-1 div.sk-label label {font-family: monospace;font-weight: bold;display: inline-block;line-height: 1.2em;}#sk-container-id-1 div.sk-label-container {text-align: center;}#sk-container-id-1 div.sk-container {/* jupyter's `normalize.less` sets `[hidden] { display: none; }` but bootstrap.min.css set `[hidden] { display: none !important; }` so we also need the `!important` here to be able to override the default hidden behavior on the sphinx rendered scikit-learn.org. See: https://github.com/scikit-learn/scikit-learn/issues/21755 */display: inline-block !important;position: relative;}#sk-container-id-1 div.sk-text-repr-fallback {display: none;}</style><div id=\"sk-container-id-1\" class=\"sk-top-container\"><div class=\"sk-text-repr-fallback\"><pre>LinearRegression()</pre><b>In a Jupyter environment, please rerun this cell to show the HTML representation or trust the notebook. <br />On GitHub, the HTML representation is unable to render, please try loading this page with nbviewer.org.</b></div><div class=\"sk-container\" hidden><div class=\"sk-item\"><div class=\"sk-estimator sk-toggleable\"><input class=\"sk-toggleable__control sk-hidden--visually\" id=\"sk-estimator-id-1\" type=\"checkbox\" checked><label for=\"sk-estimator-id-1\" class=\"sk-toggleable__label sk-toggleable__label-arrow\">LinearRegression</label><div class=\"sk-toggleable__content\"><pre>LinearRegression()</pre></div></div></div></div></div>"
      ],
      "text/plain": [
       "LinearRegression()"
      ]
     },
     "execution_count": 42,
     "metadata": {},
     "output_type": "execute_result"
    }
   ],
   "source": [
    "### --- Fitting the linear model to the numerical data\n",
    "\n",
    "# - independent variables\n",
    "X = model_frame.drop(columns='Weight')\n",
    "\n",
    "# - the dependent variable\n",
    "y = model_frame['Weight'].values.reshape(-1, 1)\n",
    "\n",
    "lin_reg = LinearRegression()\n",
    "lin_reg.fit(X, y)"
   ]
  },
  {
   "cell_type": "code",
   "execution_count": 43,
   "id": "ceb1f6e1",
   "metadata": {},
   "outputs": [
    {
     "data": {
      "text/plain": [
       "(array([[ 62.35521443,  -6.52675249, -29.02621861,  28.29735132,\n",
       "          22.47330665]]),\n",
       " array([-499.58695536]))"
      ]
     },
     "execution_count": 43,
     "metadata": {},
     "output_type": "execute_result"
    }
   ],
   "source": [
    "# - coefficents of the model\n",
    "lin_reg.coef_, lin_reg.intercept_"
   ]
  },
  {
   "cell_type": "code",
   "execution_count": 44,
   "id": "1f0cb932",
   "metadata": {},
   "outputs": [
    {
     "data": {
      "text/plain": [
       "0.8852867046546207"
      ]
     },
     "execution_count": 44,
     "metadata": {},
     "output_type": "execute_result"
    }
   ],
   "source": [
    "# - calculating R^2 \n",
    "lin_reg.score(X, y)"
   ]
  },
  {
   "cell_type": "code",
   "execution_count": 45,
   "id": "f5cd13ef",
   "metadata": {},
   "outputs": [
    {
     "data": {
      "text/plain": [
       "array([[326.81612777],\n",
       "       [369.57859339],\n",
       "       [370.82418025],\n",
       "       [439.05613854],\n",
       "       [444.16916821],\n",
       "       [466.12531938],\n",
       "       [496.15134252],\n",
       "       [473.62398623],\n",
       "       [511.95189321],\n",
       "       [540.44545602]])"
      ]
     },
     "execution_count": 45,
     "metadata": {},
     "output_type": "execute_result"
    }
   ],
   "source": [
    "# - predicting the weight using the model\n",
    "y_pred = lin_reg.predict(X)\n",
    "y_pred[:10]"
   ]
  },
  {
   "cell_type": "markdown",
   "id": "f3d6d322",
   "metadata": {},
   "source": [
    "## 2. One-Hot (Dummy) Encoding"
   ]
  },
  {
   "cell_type": "markdown",
   "id": "a0fad978",
   "metadata": {},
   "source": [
    "### Target: predict weight from all the predictors (both categorical and continuous)"
   ]
  },
  {
   "cell_type": "code",
   "execution_count": 30,
   "id": "fc48efae",
   "metadata": {},
   "outputs": [
    {
     "data": {
      "text/html": [
       "<div>\n",
       "<style scoped>\n",
       "    .dataframe tbody tr th:only-of-type {\n",
       "        vertical-align: middle;\n",
       "    }\n",
       "\n",
       "    .dataframe tbody tr th {\n",
       "        vertical-align: top;\n",
       "    }\n",
       "\n",
       "    .dataframe thead th {\n",
       "        text-align: right;\n",
       "    }\n",
       "</style>\n",
       "<table border=\"1\" class=\"dataframe\">\n",
       "  <thead>\n",
       "    <tr style=\"text-align: right;\">\n",
       "      <th></th>\n",
       "      <th>Species</th>\n",
       "      <th>Weight</th>\n",
       "      <th>Length1</th>\n",
       "      <th>Length2</th>\n",
       "      <th>Length3</th>\n",
       "      <th>Height</th>\n",
       "      <th>Width</th>\n",
       "    </tr>\n",
       "  </thead>\n",
       "  <tbody>\n",
       "    <tr>\n",
       "      <th>0</th>\n",
       "      <td>Bream</td>\n",
       "      <td>242.0</td>\n",
       "      <td>23.2</td>\n",
       "      <td>25.4</td>\n",
       "      <td>30.0</td>\n",
       "      <td>11.5200</td>\n",
       "      <td>4.0200</td>\n",
       "    </tr>\n",
       "    <tr>\n",
       "      <th>1</th>\n",
       "      <td>Bream</td>\n",
       "      <td>290.0</td>\n",
       "      <td>24.0</td>\n",
       "      <td>26.3</td>\n",
       "      <td>31.2</td>\n",
       "      <td>12.4800</td>\n",
       "      <td>4.3056</td>\n",
       "    </tr>\n",
       "    <tr>\n",
       "      <th>2</th>\n",
       "      <td>Bream</td>\n",
       "      <td>340.0</td>\n",
       "      <td>23.9</td>\n",
       "      <td>26.5</td>\n",
       "      <td>31.1</td>\n",
       "      <td>12.3778</td>\n",
       "      <td>4.6961</td>\n",
       "    </tr>\n",
       "    <tr>\n",
       "      <th>3</th>\n",
       "      <td>Bream</td>\n",
       "      <td>363.0</td>\n",
       "      <td>26.3</td>\n",
       "      <td>29.0</td>\n",
       "      <td>33.5</td>\n",
       "      <td>12.7300</td>\n",
       "      <td>4.4555</td>\n",
       "    </tr>\n",
       "    <tr>\n",
       "      <th>4</th>\n",
       "      <td>Bream</td>\n",
       "      <td>430.0</td>\n",
       "      <td>26.5</td>\n",
       "      <td>29.0</td>\n",
       "      <td>34.0</td>\n",
       "      <td>12.4440</td>\n",
       "      <td>5.1340</td>\n",
       "    </tr>\n",
       "    <tr>\n",
       "      <th>...</th>\n",
       "      <td>...</td>\n",
       "      <td>...</td>\n",
       "      <td>...</td>\n",
       "      <td>...</td>\n",
       "      <td>...</td>\n",
       "      <td>...</td>\n",
       "      <td>...</td>\n",
       "    </tr>\n",
       "    <tr>\n",
       "      <th>154</th>\n",
       "      <td>Smelt</td>\n",
       "      <td>12.2</td>\n",
       "      <td>11.5</td>\n",
       "      <td>12.2</td>\n",
       "      <td>13.4</td>\n",
       "      <td>2.0904</td>\n",
       "      <td>1.3936</td>\n",
       "    </tr>\n",
       "    <tr>\n",
       "      <th>155</th>\n",
       "      <td>Smelt</td>\n",
       "      <td>13.4</td>\n",
       "      <td>11.7</td>\n",
       "      <td>12.4</td>\n",
       "      <td>13.5</td>\n",
       "      <td>2.4300</td>\n",
       "      <td>1.2690</td>\n",
       "    </tr>\n",
       "    <tr>\n",
       "      <th>156</th>\n",
       "      <td>Smelt</td>\n",
       "      <td>12.2</td>\n",
       "      <td>12.1</td>\n",
       "      <td>13.0</td>\n",
       "      <td>13.8</td>\n",
       "      <td>2.2770</td>\n",
       "      <td>1.2558</td>\n",
       "    </tr>\n",
       "    <tr>\n",
       "      <th>157</th>\n",
       "      <td>Smelt</td>\n",
       "      <td>19.7</td>\n",
       "      <td>13.2</td>\n",
       "      <td>14.3</td>\n",
       "      <td>15.2</td>\n",
       "      <td>2.8728</td>\n",
       "      <td>2.0672</td>\n",
       "    </tr>\n",
       "    <tr>\n",
       "      <th>158</th>\n",
       "      <td>Smelt</td>\n",
       "      <td>19.9</td>\n",
       "      <td>13.8</td>\n",
       "      <td>15.0</td>\n",
       "      <td>16.2</td>\n",
       "      <td>2.9322</td>\n",
       "      <td>1.8792</td>\n",
       "    </tr>\n",
       "  </tbody>\n",
       "</table>\n",
       "<p>159 rows × 7 columns</p>\n",
       "</div>"
      ],
      "text/plain": [
       "    Species  Weight  Length1  Length2  Length3   Height   Width\n",
       "0     Bream   242.0     23.2     25.4     30.0  11.5200  4.0200\n",
       "1     Bream   290.0     24.0     26.3     31.2  12.4800  4.3056\n",
       "2     Bream   340.0     23.9     26.5     31.1  12.3778  4.6961\n",
       "3     Bream   363.0     26.3     29.0     33.5  12.7300  4.4555\n",
       "4     Bream   430.0     26.5     29.0     34.0  12.4440  5.1340\n",
       "..      ...     ...      ...      ...      ...      ...     ...\n",
       "154   Smelt    12.2     11.5     12.2     13.4   2.0904  1.3936\n",
       "155   Smelt    13.4     11.7     12.4     13.5   2.4300  1.2690\n",
       "156   Smelt    12.2     12.1     13.0     13.8   2.2770  1.2558\n",
       "157   Smelt    19.7     13.2     14.3     15.2   2.8728  2.0672\n",
       "158   Smelt    19.9     13.8     15.0     16.2   2.9322  1.8792\n",
       "\n",
       "[159 rows x 7 columns]"
      ]
     },
     "execution_count": 30,
     "metadata": {},
     "output_type": "execute_result"
    }
   ],
   "source": [
    "model_frame = fish_data.copy()\n",
    "model_frame"
   ]
  },
  {
   "cell_type": "code",
   "execution_count": 31,
   "id": "acb546f6",
   "metadata": {},
   "outputs": [
    {
     "data": {
      "text/plain": [
       "Perch        56\n",
       "Bream        35\n",
       "Roach        20\n",
       "Pike         17\n",
       "Smelt        14\n",
       "Parkki       11\n",
       "Whitefish     6\n",
       "Name: Species, dtype: int64"
      ]
     },
     "execution_count": 31,
     "metadata": {},
     "output_type": "execute_result"
    }
   ],
   "source": [
    "# - number of data entries grouped by species class\n",
    "model_frame['Species'].value_counts()"
   ]
  },
  {
   "cell_type": "code",
   "execution_count": 32,
   "id": "7e39cc8c",
   "metadata": {},
   "outputs": [
    {
     "data": {
      "text/plain": [
       "Index(['Species', 'Length1', 'Length2', 'Length3', 'Height', 'Width'], dtype='object')"
      ]
     },
     "execution_count": 32,
     "metadata": {},
     "output_type": "execute_result"
    }
   ],
   "source": [
    "predictors = model_frame.columns.drop('Weight')\n",
    "predictors"
   ]
  },
  {
   "cell_type": "markdown",
   "id": "3a746d8c",
   "metadata": {},
   "source": [
    "In one hot encoding categorical predictor 'split' into $C$ binary vectors, where $C$ is the number of categories. Each coordinate of this vector becomes a new \"dummy\" feature, corresponding to one category of a categorical variable. We won't write explicit mathematical formula of the model in this case, as it would require us going into some Linear Algebra and matrix-vector notation. "
   ]
  },
  {
   "cell_type": "code",
   "execution_count": 33,
   "id": "09cdc6a2",
   "metadata": {},
   "outputs": [
    {
     "data": {
      "text/plain": [
       "'Weight ~ Species + Length1 + Length2 + Length3 + Height + Width'"
      ]
     },
     "execution_count": 33,
     "metadata": {},
     "output_type": "execute_result"
    }
   ],
   "source": [
    "# --- Composing the fomula of the model\n",
    "\n",
    "# - right side of the formula\n",
    "formula = ' + '.join(predictors)\n",
    "\n",
    "# - left side of the formula\n",
    "formula = 'Weight ~ ' + formula\n",
    "\n",
    "formula"
   ]
  },
  {
   "cell_type": "code",
   "execution_count": 34,
   "id": "a33f94e4",
   "metadata": {},
   "outputs": [
    {
     "data": {
      "text/html": [
       "<table class=\"simpletable\">\n",
       "<caption>OLS Regression Results</caption>\n",
       "<tr>\n",
       "  <th>Dep. Variable:</th>         <td>Weight</td>      <th>  R-squared:         </th> <td>   0.936</td>\n",
       "</tr>\n",
       "<tr>\n",
       "  <th>Model:</th>                   <td>OLS</td>       <th>  Adj. R-squared:    </th> <td>   0.931</td>\n",
       "</tr>\n",
       "<tr>\n",
       "  <th>Method:</th>             <td>Least Squares</td>  <th>  F-statistic:       </th> <td>   195.7</td>\n",
       "</tr>\n",
       "<tr>\n",
       "  <th>Date:</th>             <td>Wed, 19 Apr 2023</td> <th>  Prob (F-statistic):</th> <td>6.85e-82</td>\n",
       "</tr>\n",
       "<tr>\n",
       "  <th>Time:</th>                 <td>23:08:54</td>     <th>  Log-Likelihood:    </th> <td> -941.46</td>\n",
       "</tr>\n",
       "<tr>\n",
       "  <th>No. Observations:</th>      <td>   159</td>      <th>  AIC:               </th> <td>   1907.</td>\n",
       "</tr>\n",
       "<tr>\n",
       "  <th>Df Residuals:</th>          <td>   147</td>      <th>  BIC:               </th> <td>   1944.</td>\n",
       "</tr>\n",
       "<tr>\n",
       "  <th>Df Model:</th>              <td>    11</td>      <th>                     </th>     <td> </td>   \n",
       "</tr>\n",
       "<tr>\n",
       "  <th>Covariance Type:</th>      <td>nonrobust</td>    <th>                     </th>     <td> </td>   \n",
       "</tr>\n",
       "</table>\n",
       "<table class=\"simpletable\">\n",
       "<tr>\n",
       "            <td></td>              <th>coef</th>     <th>std err</th>      <th>t</th>      <th>P>|t|</th>  <th>[0.025</th>    <th>0.975]</th>  \n",
       "</tr>\n",
       "<tr>\n",
       "  <th>Intercept</th>            <td> -918.3321</td> <td>  127.083</td> <td>   -7.226</td> <td> 0.000</td> <td>-1169.478</td> <td> -667.186</td>\n",
       "</tr>\n",
       "<tr>\n",
       "  <th>Species[T.Parkki]</th>    <td>  164.7227</td> <td>   75.699</td> <td>    2.176</td> <td> 0.031</td> <td>   15.123</td> <td>  314.322</td>\n",
       "</tr>\n",
       "<tr>\n",
       "  <th>Species[T.Perch]</th>     <td>  137.9489</td> <td>  120.314</td> <td>    1.147</td> <td> 0.253</td> <td>  -99.819</td> <td>  375.717</td>\n",
       "</tr>\n",
       "<tr>\n",
       "  <th>Species[T.Pike]</th>      <td> -208.4294</td> <td>  135.306</td> <td>   -1.540</td> <td> 0.126</td> <td> -475.826</td> <td>   58.968</td>\n",
       "</tr>\n",
       "<tr>\n",
       "  <th>Species[T.Roach]</th>     <td>  103.0400</td> <td>   91.308</td> <td>    1.128</td> <td> 0.261</td> <td>  -77.407</td> <td>  283.487</td>\n",
       "</tr>\n",
       "<tr>\n",
       "  <th>Species[T.Smelt]</th>     <td>  446.0733</td> <td>  119.430</td> <td>    3.735</td> <td> 0.000</td> <td>  210.051</td> <td>  682.095</td>\n",
       "</tr>\n",
       "<tr>\n",
       "  <th>Species[T.Whitefish]</th> <td>   93.8742</td> <td>   96.658</td> <td>    0.971</td> <td> 0.333</td> <td>  -97.145</td> <td>  284.893</td>\n",
       "</tr>\n",
       "<tr>\n",
       "  <th>Length1</th>              <td>  -80.3030</td> <td>   36.279</td> <td>   -2.214</td> <td> 0.028</td> <td> -151.998</td> <td>   -8.608</td>\n",
       "</tr>\n",
       "<tr>\n",
       "  <th>Length2</th>              <td>   79.8886</td> <td>   45.718</td> <td>    1.747</td> <td> 0.083</td> <td>  -10.461</td> <td>  170.238</td>\n",
       "</tr>\n",
       "<tr>\n",
       "  <th>Length3</th>              <td>   32.5354</td> <td>   29.300</td> <td>    1.110</td> <td> 0.269</td> <td>  -25.369</td> <td>   90.439</td>\n",
       "</tr>\n",
       "<tr>\n",
       "  <th>Height</th>               <td>    5.2510</td> <td>   13.056</td> <td>    0.402</td> <td> 0.688</td> <td>  -20.551</td> <td>   31.053</td>\n",
       "</tr>\n",
       "<tr>\n",
       "  <th>Width</th>                <td>   -0.5154</td> <td>   23.913</td> <td>   -0.022</td> <td> 0.983</td> <td>  -47.773</td> <td>   46.742</td>\n",
       "</tr>\n",
       "</table>\n",
       "<table class=\"simpletable\">\n",
       "<tr>\n",
       "  <th>Omnibus:</th>       <td>43.558</td> <th>  Durbin-Watson:     </th> <td>   0.973</td>\n",
       "</tr>\n",
       "<tr>\n",
       "  <th>Prob(Omnibus):</th> <td> 0.000</td> <th>  Jarque-Bera (JB):  </th> <td>  97.422</td>\n",
       "</tr>\n",
       "<tr>\n",
       "  <th>Skew:</th>          <td> 1.184</td> <th>  Prob(JB):          </th> <td>7.00e-22</td>\n",
       "</tr>\n",
       "<tr>\n",
       "  <th>Kurtosis:</th>      <td> 6.016</td> <th>  Cond. No.          </th> <td>2.03e+03</td>\n",
       "</tr>\n",
       "</table><br/><br/>Notes:<br/>[1] Standard Errors assume that the covariance matrix of the errors is correctly specified.<br/>[2] The condition number is large, 2.03e+03. This might indicate that there are<br/>strong multicollinearity or other numerical problems."
      ],
      "text/plain": [
       "<class 'statsmodels.iolib.summary.Summary'>\n",
       "\"\"\"\n",
       "                            OLS Regression Results                            \n",
       "==============================================================================\n",
       "Dep. Variable:                 Weight   R-squared:                       0.936\n",
       "Model:                            OLS   Adj. R-squared:                  0.931\n",
       "Method:                 Least Squares   F-statistic:                     195.7\n",
       "Date:                Wed, 19 Apr 2023   Prob (F-statistic):           6.85e-82\n",
       "Time:                        23:08:54   Log-Likelihood:                -941.46\n",
       "No. Observations:                 159   AIC:                             1907.\n",
       "Df Residuals:                     147   BIC:                             1944.\n",
       "Df Model:                          11                                         \n",
       "Covariance Type:            nonrobust                                         \n",
       "========================================================================================\n",
       "                           coef    std err          t      P>|t|      [0.025      0.975]\n",
       "----------------------------------------------------------------------------------------\n",
       "Intercept             -918.3321    127.083     -7.226      0.000   -1169.478    -667.186\n",
       "Species[T.Parkki]      164.7227     75.699      2.176      0.031      15.123     314.322\n",
       "Species[T.Perch]       137.9489    120.314      1.147      0.253     -99.819     375.717\n",
       "Species[T.Pike]       -208.4294    135.306     -1.540      0.126    -475.826      58.968\n",
       "Species[T.Roach]       103.0400     91.308      1.128      0.261     -77.407     283.487\n",
       "Species[T.Smelt]       446.0733    119.430      3.735      0.000     210.051     682.095\n",
       "Species[T.Whitefish]    93.8742     96.658      0.971      0.333     -97.145     284.893\n",
       "Length1                -80.3030     36.279     -2.214      0.028    -151.998      -8.608\n",
       "Length2                 79.8886     45.718      1.747      0.083     -10.461     170.238\n",
       "Length3                 32.5354     29.300      1.110      0.269     -25.369      90.439\n",
       "Height                   5.2510     13.056      0.402      0.688     -20.551      31.053\n",
       "Width                   -0.5154     23.913     -0.022      0.983     -47.773      46.742\n",
       "==============================================================================\n",
       "Omnibus:                       43.558   Durbin-Watson:                   0.973\n",
       "Prob(Omnibus):                  0.000   Jarque-Bera (JB):               97.422\n",
       "Skew:                           1.184   Prob(JB):                     7.00e-22\n",
       "Kurtosis:                       6.016   Cond. No.                     2.03e+03\n",
       "==============================================================================\n",
       "\n",
       "Notes:\n",
       "[1] Standard Errors assume that the covariance matrix of the errors is correctly specified.\n",
       "[2] The condition number is large, 2.03e+03. This might indicate that there are\n",
       "strong multicollinearity or other numerical problems.\n",
       "\"\"\""
      ]
     },
     "execution_count": 34,
     "metadata": {},
     "output_type": "execute_result"
    }
   ],
   "source": [
    "# - fitting the linear model to the data\n",
    "linear_model = smf.ols(formula=formula, data=model_frame).fit()\n",
    "linear_model.summary()"
   ]
  },
  {
   "cell_type": "markdown",
   "id": "893ca653",
   "metadata": {},
   "source": [
    "#### The Referrence Category \n",
    "\n",
    "One-hot/dummy encoding can create a high collinearity between its dummy variables - this is called \"dummy variable trap\". To resolve this, we chose one category as a referrence and throw its corresponding dummy variable out of the model. Therefore, we have $C-1$ dummy variables, where $C$ is the number of categories."
   ]
  },
  {
   "cell_type": "code",
   "execution_count": 36,
   "id": "dd823436",
   "metadata": {},
   "outputs": [
    {
     "data": {
      "text/plain": [
       "'Weight ~ C(Species, Treatment(reference=\"Perch\")) + Length1 + Length2 + Length3 + Height + Width'"
      ]
     },
     "execution_count": 36,
     "metadata": {},
     "output_type": "execute_result"
    }
   ],
   "source": [
    "# --- Composing the fomula of the model\n",
    "\n",
    "# - right side of the formula; continuous predictors\n",
    "num_predictors = predictors.drop('Species')\n",
    "formula = ' + '.join(num_predictors)\n",
    "\n",
    "# - right side of the formula; categorical predictor, one-hot encoded using the \"Perch\" category as the reference\n",
    "formula = 'C(Species, Treatment(reference=\"Perch\")) + ' + formula\n",
    "\n",
    "# - left side of the formula\n",
    "formula = 'Weight ~ ' + formula\n",
    "formula"
   ]
  },
  {
   "cell_type": "code",
   "execution_count": 37,
   "id": "81635f6c",
   "metadata": {},
   "outputs": [
    {
     "data": {
      "text/html": [
       "<table class=\"simpletable\">\n",
       "<caption>OLS Regression Results</caption>\n",
       "<tr>\n",
       "  <th>Dep. Variable:</th>         <td>Weight</td>      <th>  R-squared:         </th> <td>   0.936</td>\n",
       "</tr>\n",
       "<tr>\n",
       "  <th>Model:</th>                   <td>OLS</td>       <th>  Adj. R-squared:    </th> <td>   0.931</td>\n",
       "</tr>\n",
       "<tr>\n",
       "  <th>Method:</th>             <td>Least Squares</td>  <th>  F-statistic:       </th> <td>   195.7</td>\n",
       "</tr>\n",
       "<tr>\n",
       "  <th>Date:</th>             <td>Wed, 19 Apr 2023</td> <th>  Prob (F-statistic):</th> <td>6.85e-82</td>\n",
       "</tr>\n",
       "<tr>\n",
       "  <th>Time:</th>                 <td>23:09:21</td>     <th>  Log-Likelihood:    </th> <td> -941.46</td>\n",
       "</tr>\n",
       "<tr>\n",
       "  <th>No. Observations:</th>      <td>   159</td>      <th>  AIC:               </th> <td>   1907.</td>\n",
       "</tr>\n",
       "<tr>\n",
       "  <th>Df Residuals:</th>          <td>   147</td>      <th>  BIC:               </th> <td>   1944.</td>\n",
       "</tr>\n",
       "<tr>\n",
       "  <th>Df Model:</th>              <td>    11</td>      <th>                     </th>     <td> </td>   \n",
       "</tr>\n",
       "<tr>\n",
       "  <th>Covariance Type:</th>      <td>nonrobust</td>    <th>                     </th>     <td> </td>   \n",
       "</tr>\n",
       "</table>\n",
       "<table class=\"simpletable\">\n",
       "<tr>\n",
       "                            <td></td>                               <th>coef</th>     <th>std err</th>      <th>t</th>      <th>P>|t|</th>  <th>[0.025</th>    <th>0.975]</th>  \n",
       "</tr>\n",
       "<tr>\n",
       "  <th>Intercept</th>                                             <td> -780.3832</td> <td>   39.541</td> <td>  -19.736</td> <td> 0.000</td> <td> -858.526</td> <td> -702.240</td>\n",
       "</tr>\n",
       "<tr>\n",
       "  <th>C(Species, Treatment(reference=\"Perch\"))[T.Bream]</th>     <td> -137.9489</td> <td>  120.314</td> <td>   -1.147</td> <td> 0.253</td> <td> -375.717</td> <td>   99.819</td>\n",
       "</tr>\n",
       "<tr>\n",
       "  <th>C(Species, Treatment(reference=\"Perch\"))[T.Parkki]</th>    <td>   26.7738</td> <td>   65.378</td> <td>    0.410</td> <td> 0.683</td> <td> -102.429</td> <td>  155.977</td>\n",
       "</tr>\n",
       "<tr>\n",
       "  <th>C(Species, Treatment(reference=\"Perch\"))[T.Pike]</th>      <td> -346.3783</td> <td>   74.804</td> <td>   -4.630</td> <td> 0.000</td> <td> -494.209</td> <td> -198.548</td>\n",
       "</tr>\n",
       "<tr>\n",
       "  <th>C(Species, Treatment(reference=\"Perch\"))[T.Roach]</th>     <td>  -34.9090</td> <td>   47.802</td> <td>   -0.730</td> <td> 0.466</td> <td> -129.377</td> <td>   59.559</td>\n",
       "</tr>\n",
       "<tr>\n",
       "  <th>C(Species, Treatment(reference=\"Perch\"))[T.Smelt]</th>     <td>  308.1244</td> <td>   42.941</td> <td>    7.176</td> <td> 0.000</td> <td>  223.263</td> <td>  392.985</td>\n",
       "</tr>\n",
       "<tr>\n",
       "  <th>C(Species, Treatment(reference=\"Perch\"))[T.Whitefish]</th> <td>  -44.0747</td> <td>   52.938</td> <td>   -0.833</td> <td> 0.406</td> <td> -148.693</td> <td>   60.544</td>\n",
       "</tr>\n",
       "<tr>\n",
       "  <th>Length1</th>                                               <td>  -80.3030</td> <td>   36.279</td> <td>   -2.214</td> <td> 0.028</td> <td> -151.998</td> <td>   -8.608</td>\n",
       "</tr>\n",
       "<tr>\n",
       "  <th>Length2</th>                                               <td>   79.8886</td> <td>   45.718</td> <td>    1.747</td> <td> 0.083</td> <td>  -10.461</td> <td>  170.238</td>\n",
       "</tr>\n",
       "<tr>\n",
       "  <th>Length3</th>                                               <td>   32.5354</td> <td>   29.300</td> <td>    1.110</td> <td> 0.269</td> <td>  -25.369</td> <td>   90.439</td>\n",
       "</tr>\n",
       "<tr>\n",
       "  <th>Height</th>                                                <td>    5.2510</td> <td>   13.056</td> <td>    0.402</td> <td> 0.688</td> <td>  -20.551</td> <td>   31.053</td>\n",
       "</tr>\n",
       "<tr>\n",
       "  <th>Width</th>                                                 <td>   -0.5154</td> <td>   23.913</td> <td>   -0.022</td> <td> 0.983</td> <td>  -47.773</td> <td>   46.742</td>\n",
       "</tr>\n",
       "</table>\n",
       "<table class=\"simpletable\">\n",
       "<tr>\n",
       "  <th>Omnibus:</th>       <td>43.558</td> <th>  Durbin-Watson:     </th> <td>   0.973</td>\n",
       "</tr>\n",
       "<tr>\n",
       "  <th>Prob(Omnibus):</th> <td> 0.000</td> <th>  Jarque-Bera (JB):  </th> <td>  97.422</td>\n",
       "</tr>\n",
       "<tr>\n",
       "  <th>Skew:</th>          <td> 1.184</td> <th>  Prob(JB):          </th> <td>7.00e-22</td>\n",
       "</tr>\n",
       "<tr>\n",
       "  <th>Kurtosis:</th>      <td> 6.016</td> <th>  Cond. No.          </th> <td>1.07e+03</td>\n",
       "</tr>\n",
       "</table><br/><br/>Notes:<br/>[1] Standard Errors assume that the covariance matrix of the errors is correctly specified.<br/>[2] The condition number is large, 1.07e+03. This might indicate that there are<br/>strong multicollinearity or other numerical problems."
      ],
      "text/plain": [
       "<class 'statsmodels.iolib.summary.Summary'>\n",
       "\"\"\"\n",
       "                            OLS Regression Results                            \n",
       "==============================================================================\n",
       "Dep. Variable:                 Weight   R-squared:                       0.936\n",
       "Model:                            OLS   Adj. R-squared:                  0.931\n",
       "Method:                 Least Squares   F-statistic:                     195.7\n",
       "Date:                Wed, 19 Apr 2023   Prob (F-statistic):           6.85e-82\n",
       "Time:                        23:09:21   Log-Likelihood:                -941.46\n",
       "No. Observations:                 159   AIC:                             1907.\n",
       "Df Residuals:                     147   BIC:                             1944.\n",
       "Df Model:                          11                                         \n",
       "Covariance Type:            nonrobust                                         \n",
       "=========================================================================================================================\n",
       "                                                            coef    std err          t      P>|t|      [0.025      0.975]\n",
       "-------------------------------------------------------------------------------------------------------------------------\n",
       "Intercept                                              -780.3832     39.541    -19.736      0.000    -858.526    -702.240\n",
       "C(Species, Treatment(reference=\"Perch\"))[T.Bream]      -137.9489    120.314     -1.147      0.253    -375.717      99.819\n",
       "C(Species, Treatment(reference=\"Perch\"))[T.Parkki]       26.7738     65.378      0.410      0.683    -102.429     155.977\n",
       "C(Species, Treatment(reference=\"Perch\"))[T.Pike]       -346.3783     74.804     -4.630      0.000    -494.209    -198.548\n",
       "C(Species, Treatment(reference=\"Perch\"))[T.Roach]       -34.9090     47.802     -0.730      0.466    -129.377      59.559\n",
       "C(Species, Treatment(reference=\"Perch\"))[T.Smelt]       308.1244     42.941      7.176      0.000     223.263     392.985\n",
       "C(Species, Treatment(reference=\"Perch\"))[T.Whitefish]   -44.0747     52.938     -0.833      0.406    -148.693      60.544\n",
       "Length1                                                 -80.3030     36.279     -2.214      0.028    -151.998      -8.608\n",
       "Length2                                                  79.8886     45.718      1.747      0.083     -10.461     170.238\n",
       "Length3                                                  32.5354     29.300      1.110      0.269     -25.369      90.439\n",
       "Height                                                    5.2510     13.056      0.402      0.688     -20.551      31.053\n",
       "Width                                                    -0.5154     23.913     -0.022      0.983     -47.773      46.742\n",
       "==============================================================================\n",
       "Omnibus:                       43.558   Durbin-Watson:                   0.973\n",
       "Prob(Omnibus):                  0.000   Jarque-Bera (JB):               97.422\n",
       "Skew:                           1.184   Prob(JB):                     7.00e-22\n",
       "Kurtosis:                       6.016   Cond. No.                     1.07e+03\n",
       "==============================================================================\n",
       "\n",
       "Notes:\n",
       "[1] Standard Errors assume that the covariance matrix of the errors is correctly specified.\n",
       "[2] The condition number is large, 1.07e+03. This might indicate that there are\n",
       "strong multicollinearity or other numerical problems.\n",
       "\"\"\""
      ]
     },
     "execution_count": 37,
     "metadata": {},
     "output_type": "execute_result"
    }
   ],
   "source": [
    "# - fitting the linear model to the data\n",
    "linear_model = smf.ols(formula=formula, data=model_frame).fit()\n",
    "linear_model.summary()"
   ]
  },
  {
   "cell_type": "code",
   "execution_count": 38,
   "id": "4d0ccc4a",
   "metadata": {},
   "outputs": [
    {
     "data": {
      "text/html": [
       "<div>\n",
       "<style scoped>\n",
       "    .dataframe tbody tr th:only-of-type {\n",
       "        vertical-align: middle;\n",
       "    }\n",
       "\n",
       "    .dataframe tbody tr th {\n",
       "        vertical-align: top;\n",
       "    }\n",
       "\n",
       "    .dataframe thead th {\n",
       "        text-align: right;\n",
       "    }\n",
       "</style>\n",
       "<table border=\"1\" class=\"dataframe\">\n",
       "  <thead>\n",
       "    <tr style=\"text-align: right;\">\n",
       "      <th></th>\n",
       "      <th>Species</th>\n",
       "      <th>Weight</th>\n",
       "      <th>Length1</th>\n",
       "      <th>Length2</th>\n",
       "      <th>Length3</th>\n",
       "      <th>Height</th>\n",
       "      <th>Width</th>\n",
       "      <th>Predicted Weight</th>\n",
       "    </tr>\n",
       "  </thead>\n",
       "  <tbody>\n",
       "    <tr>\n",
       "      <th>0</th>\n",
       "      <td>Bream</td>\n",
       "      <td>242.0</td>\n",
       "      <td>23.2</td>\n",
       "      <td>25.4</td>\n",
       "      <td>30.0</td>\n",
       "      <td>11.5200</td>\n",
       "      <td>4.0200</td>\n",
       "      <td>282.291371</td>\n",
       "    </tr>\n",
       "    <tr>\n",
       "      <th>1</th>\n",
       "      <td>Bream</td>\n",
       "      <td>290.0</td>\n",
       "      <td>24.0</td>\n",
       "      <td>26.3</td>\n",
       "      <td>31.2</td>\n",
       "      <td>12.4800</td>\n",
       "      <td>4.3056</td>\n",
       "      <td>333.884974</td>\n",
       "    </tr>\n",
       "    <tr>\n",
       "      <th>2</th>\n",
       "      <td>Bream</td>\n",
       "      <td>340.0</td>\n",
       "      <td>23.9</td>\n",
       "      <td>26.5</td>\n",
       "      <td>31.1</td>\n",
       "      <td>12.3778</td>\n",
       "      <td>4.6961</td>\n",
       "      <td>353.901528</td>\n",
       "    </tr>\n",
       "    <tr>\n",
       "      <th>3</th>\n",
       "      <td>Bream</td>\n",
       "      <td>363.0</td>\n",
       "      <td>26.3</td>\n",
       "      <td>29.0</td>\n",
       "      <td>33.5</td>\n",
       "      <td>12.7300</td>\n",
       "      <td>4.4555</td>\n",
       "      <td>440.954349</td>\n",
       "    </tr>\n",
       "    <tr>\n",
       "      <th>4</th>\n",
       "      <td>Bream</td>\n",
       "      <td>430.0</td>\n",
       "      <td>26.5</td>\n",
       "      <td>29.0</td>\n",
       "      <td>34.0</td>\n",
       "      <td>12.4440</td>\n",
       "      <td>5.1340</td>\n",
       "      <td>439.309943</td>\n",
       "    </tr>\n",
       "    <tr>\n",
       "      <th>...</th>\n",
       "      <td>...</td>\n",
       "      <td>...</td>\n",
       "      <td>...</td>\n",
       "      <td>...</td>\n",
       "      <td>...</td>\n",
       "      <td>...</td>\n",
       "      <td>...</td>\n",
       "      <td>...</td>\n",
       "    </tr>\n",
       "    <tr>\n",
       "      <th>154</th>\n",
       "      <td>Smelt</td>\n",
       "      <td>12.2</td>\n",
       "      <td>11.5</td>\n",
       "      <td>12.2</td>\n",
       "      <td>13.4</td>\n",
       "      <td>2.0904</td>\n",
       "      <td>1.3936</td>\n",
       "      <td>25.130994</td>\n",
       "    </tr>\n",
       "    <tr>\n",
       "      <th>155</th>\n",
       "      <td>Smelt</td>\n",
       "      <td>13.4</td>\n",
       "      <td>11.7</td>\n",
       "      <td>12.4</td>\n",
       "      <td>13.5</td>\n",
       "      <td>2.4300</td>\n",
       "      <td>1.2690</td>\n",
       "      <td>30.149127</td>\n",
       "    </tr>\n",
       "    <tr>\n",
       "      <th>156</th>\n",
       "      <td>Smelt</td>\n",
       "      <td>12.2</td>\n",
       "      <td>12.1</td>\n",
       "      <td>13.0</td>\n",
       "      <td>13.8</td>\n",
       "      <td>2.2770</td>\n",
       "      <td>1.2558</td>\n",
       "      <td>54.925142</td>\n",
       "    </tr>\n",
       "    <tr>\n",
       "      <th>157</th>\n",
       "      <td>Smelt</td>\n",
       "      <td>19.7</td>\n",
       "      <td>13.2</td>\n",
       "      <td>14.3</td>\n",
       "      <td>15.2</td>\n",
       "      <td>2.8728</td>\n",
       "      <td>2.0672</td>\n",
       "      <td>118.706961</td>\n",
       "    </tr>\n",
       "    <tr>\n",
       "      <th>158</th>\n",
       "      <td>Smelt</td>\n",
       "      <td>19.9</td>\n",
       "      <td>13.8</td>\n",
       "      <td>15.0</td>\n",
       "      <td>16.2</td>\n",
       "      <td>2.9322</td>\n",
       "      <td>1.8792</td>\n",
       "      <td>159.391425</td>\n",
       "    </tr>\n",
       "  </tbody>\n",
       "</table>\n",
       "<p>159 rows × 8 columns</p>\n",
       "</div>"
      ],
      "text/plain": [
       "    Species  Weight  Length1  Length2  Length3   Height   Width  \\\n",
       "0     Bream   242.0     23.2     25.4     30.0  11.5200  4.0200   \n",
       "1     Bream   290.0     24.0     26.3     31.2  12.4800  4.3056   \n",
       "2     Bream   340.0     23.9     26.5     31.1  12.3778  4.6961   \n",
       "3     Bream   363.0     26.3     29.0     33.5  12.7300  4.4555   \n",
       "4     Bream   430.0     26.5     29.0     34.0  12.4440  5.1340   \n",
       "..      ...     ...      ...      ...      ...      ...     ...   \n",
       "154   Smelt    12.2     11.5     12.2     13.4   2.0904  1.3936   \n",
       "155   Smelt    13.4     11.7     12.4     13.5   2.4300  1.2690   \n",
       "156   Smelt    12.2     12.1     13.0     13.8   2.2770  1.2558   \n",
       "157   Smelt    19.7     13.2     14.3     15.2   2.8728  2.0672   \n",
       "158   Smelt    19.9     13.8     15.0     16.2   2.9322  1.8792   \n",
       "\n",
       "     Predicted Weight  \n",
       "0          282.291371  \n",
       "1          333.884974  \n",
       "2          353.901528  \n",
       "3          440.954349  \n",
       "4          439.309943  \n",
       "..                ...  \n",
       "154         25.130994  \n",
       "155         30.149127  \n",
       "156         54.925142  \n",
       "157        118.706961  \n",
       "158        159.391425  \n",
       "\n",
       "[159 rows x 8 columns]"
      ]
     },
     "execution_count": 38,
     "metadata": {},
     "output_type": "execute_result"
    }
   ],
   "source": [
    "# - predicting the values\n",
    "model_frame['Predicted Weight'] = linear_model.predict()\n",
    "model_frame"
   ]
  },
  {
   "cell_type": "code",
   "execution_count": 39,
   "id": "7021a959",
   "metadata": {},
   "outputs": [
    {
     "data": {
      "image/png": "[encoded data removed]",
      "text/plain": [
       "<Figure size 576x432 with 1 Axes>"
      ]
     },
     "metadata": {},
     "output_type": "display_data"
    }
   ],
   "source": [
    "# - plotting the true values vs predicted values\n",
    "# - the identity line (y=x) shows how good is the prediction - the closer the datapoint to the line, the better\n",
    "sns.scatterplot(data=model_frame, x='Predicted Weight', y='Weight')\n",
    "sns.lineplot(x=np.arange(-500, 2000), y=np.arange(-500, 2000), color='k')\n",
    "sns.despine(offset=10, trim=True)\n",
    "plt.title('Model Predictions \\n Note: identity line', fontsize=14);"
   ]
  },
  {
   "cell_type": "markdown",
   "id": "8430d09a",
   "metadata": {},
   "source": [
    "### One-Hot Encoding in scikit-learn"
   ]
  },
  {
   "cell_type": "code",
   "execution_count": 46,
   "id": "d53b31f6",
   "metadata": {},
   "outputs": [],
   "source": [
    "# - import One-Hot Encoder from scikit-learn\n",
    "from sklearn.preprocessing import OneHotEncoder"
   ]
  },
  {
   "cell_type": "code",
   "execution_count": 47,
   "id": "035699fc",
   "metadata": {},
   "outputs": [],
   "source": [
    "model_frame = fish_data.copy()"
   ]
  },
  {
   "cell_type": "code",
   "execution_count": 48,
   "id": "91660706",
   "metadata": {},
   "outputs": [
    {
     "data": {
      "text/plain": [
       "array([[1., 0., 0., 0., 0., 0.],\n",
       "       [1., 0., 0., 0., 0., 0.],\n",
       "       [1., 0., 0., 0., 0., 0.],\n",
       "       [1., 0., 0., 0., 0., 0.],\n",
       "       [1., 0., 0., 0., 0., 0.],\n",
       "       [1., 0., 0., 0., 0., 0.],\n",
       "       [1., 0., 0., 0., 0., 0.],\n",
       "       [1., 0., 0., 0., 0., 0.],\n",
       "       [1., 0., 0., 0., 0., 0.],\n",
       "       [1., 0., 0., 0., 0., 0.]])"
      ]
     },
     "execution_count": 48,
     "metadata": {},
     "output_type": "execute_result"
    }
   ],
   "source": [
    "### --- One-Hot Encoding the categories\n",
    "\n",
    "# - feature matrix\n",
    "X0 = model_frame.drop(columns='Weight')\n",
    "\n",
    "# - extracting the categorical variable\n",
    "cat_var = X0['Species'].values.reshape(-1, 1)\n",
    "\n",
    "# - defining the One Hot Encoder; 'drop' argument defines which class to drop and use as a referrence\n",
    "# - we need to specify 'sparse=False' in order for the encoder to give as a dense binary matrix\n",
    "enc = OneHotEncoder(drop=['Perch'], sparse=False)\n",
    "\n",
    "# - transforming categorical variable values into corresponding binary vectors\n",
    "dummy = enc.fit_transform(cat_var)\n",
    "dummy[:10]"
   ]
  },
  {
   "cell_type": "code",
   "execution_count": 49,
   "id": "beb452e5",
   "metadata": {},
   "outputs": [
    {
     "data": {
      "text/html": [
       "<style>#sk-container-id-2 {color: black;background-color: white;}#sk-container-id-2 pre{padding: 0;}#sk-container-id-2 div.sk-toggleable {background-color: white;}#sk-container-id-2 label.sk-toggleable__label {cursor: pointer;display: block;width: 100%;margin-bottom: 0;padding: 0.3em;box-sizing: border-box;text-align: center;}#sk-container-id-2 label.sk-toggleable__label-arrow:before {content: \"▸\";float: left;margin-right: 0.25em;color: #696969;}#sk-container-id-2 label.sk-toggleable__label-arrow:hover:before {color: black;}#sk-container-id-2 div.sk-estimator:hover label.sk-toggleable__label-arrow:before {color: black;}#sk-container-id-2 div.sk-toggleable__content {max-height: 0;max-width: 0;overflow: hidden;text-align: left;background-color: #f0f8ff;}#sk-container-id-2 div.sk-toggleable__content pre {margin: 0.2em;color: black;border-radius: 0.25em;background-color: #f0f8ff;}#sk-container-id-2 input.sk-toggleable__control:checked~div.sk-toggleable__content {max-height: 200px;max-width: 100%;overflow: auto;}#sk-container-id-2 input.sk-toggleable__control:checked~label.sk-toggleable__label-arrow:before {content: \"▾\";}#sk-container-id-2 div.sk-estimator input.sk-toggleable__control:checked~label.sk-toggleable__label {background-color: #d4ebff;}#sk-container-id-2 div.sk-label input.sk-toggleable__control:checked~label.sk-toggleable__label {background-color: #d4ebff;}#sk-container-id-2 input.sk-hidden--visually {border: 0;clip: rect(1px 1px 1px 1px);clip: rect(1px, 1px, 1px, 1px);height: 1px;margin: -1px;overflow: hidden;padding: 0;position: absolute;width: 1px;}#sk-container-id-2 div.sk-estimator {font-family: monospace;background-color: #f0f8ff;border: 1px dotted black;border-radius: 0.25em;box-sizing: border-box;margin-bottom: 0.5em;}#sk-container-id-2 div.sk-estimator:hover {background-color: #d4ebff;}#sk-container-id-2 div.sk-parallel-item::after {content: \"\";width: 100%;border-bottom: 1px solid gray;flex-grow: 1;}#sk-container-id-2 div.sk-label:hover label.sk-toggleable__label {background-color: #d4ebff;}#sk-container-id-2 div.sk-serial::before {content: \"\";position: absolute;border-left: 1px solid gray;box-sizing: border-box;top: 0;bottom: 0;left: 50%;z-index: 0;}#sk-container-id-2 div.sk-serial {display: flex;flex-direction: column;align-items: center;background-color: white;padding-right: 0.2em;padding-left: 0.2em;position: relative;}#sk-container-id-2 div.sk-item {position: relative;z-index: 1;}#sk-container-id-2 div.sk-parallel {display: flex;align-items: stretch;justify-content: center;background-color: white;position: relative;}#sk-container-id-2 div.sk-item::before, #sk-container-id-2 div.sk-parallel-item::before {content: \"\";position: absolute;border-left: 1px solid gray;box-sizing: border-box;top: 0;bottom: 0;left: 50%;z-index: -1;}#sk-container-id-2 div.sk-parallel-item {display: flex;flex-direction: column;z-index: 1;position: relative;background-color: white;}#sk-container-id-2 div.sk-parallel-item:first-child::after {align-self: flex-end;width: 50%;}#sk-container-id-2 div.sk-parallel-item:last-child::after {align-self: flex-start;width: 50%;}#sk-container-id-2 div.sk-parallel-item:only-child::after {width: 0;}#sk-container-id-2 div.sk-dashed-wrapped {border: 1px dashed gray;margin: 0 0.4em 0.5em 0.4em;box-sizing: border-box;padding-bottom: 0.4em;background-color: white;}#sk-container-id-2 div.sk-label label {font-family: monospace;font-weight: bold;display: inline-block;line-height: 1.2em;}#sk-container-id-2 div.sk-label-container {text-align: center;}#sk-container-id-2 div.sk-container {/* jupyter's `normalize.less` sets `[hidden] { display: none; }` but bootstrap.min.css set `[hidden] { display: none !important; }` so we also need the `!important` here to be able to override the default hidden behavior on the sphinx rendered scikit-learn.org. See: https://github.com/scikit-learn/scikit-learn/issues/21755 */display: inline-block !important;position: relative;}#sk-container-id-2 div.sk-text-repr-fallback {display: none;}</style><div id=\"sk-container-id-2\" class=\"sk-top-container\"><div class=\"sk-text-repr-fallback\"><pre>LinearRegression()</pre><b>In a Jupyter environment, please rerun this cell to show the HTML representation or trust the notebook. <br />On GitHub, the HTML representation is unable to render, please try loading this page with nbviewer.org.</b></div><div class=\"sk-container\" hidden><div class=\"sk-item\"><div class=\"sk-estimator sk-toggleable\"><input class=\"sk-toggleable__control sk-hidden--visually\" id=\"sk-estimator-id-2\" type=\"checkbox\" checked><label for=\"sk-estimator-id-2\" class=\"sk-toggleable__label sk-toggleable__label-arrow\">LinearRegression</label><div class=\"sk-toggleable__content\"><pre>LinearRegression()</pre></div></div></div></div></div>"
      ],
      "text/plain": [
       "LinearRegression()"
      ]
     },
     "execution_count": 49,
     "metadata": {},
     "output_type": "execute_result"
    }
   ],
   "source": [
    "### --- Fitting the linear model to the numerical data\n",
    "\n",
    "# - independent variables\n",
    "\n",
    "# - numerical variables\n",
    "X0 = X0.drop(columns='Species').values\n",
    "\n",
    "# - all the variables\n",
    "X = np.concatenate((dummy, X0), axis=-1)\n",
    "\n",
    "# - the dependent variable\n",
    "y = model_frame['Weight'].values.reshape(-1, 1)\n",
    "\n",
    "\n",
    "lin_reg = LinearRegression()\n",
    "lin_reg.fit(X, y)"
   ]
  },
  {
   "cell_type": "code",
   "execution_count": 50,
   "id": "6e59d222",
   "metadata": {},
   "outputs": [
    {
     "data": {
      "text/plain": [
       "(array([[-137.94890963,   26.77375104, -346.37826625,  -34.90895507,\n",
       "          308.12440784,  -44.07474158,  -80.30295196,   79.88863137,\n",
       "           32.53538142,    5.25098766,   -0.51543798]]),\n",
       " array([-780.38323057]))"
      ]
     },
     "execution_count": 50,
     "metadata": {},
     "output_type": "execute_result"
    }
   ],
   "source": [
    "# - coefficents of the model\n",
    "lin_reg.coef_, lin_reg.intercept_"
   ]
  },
  {
   "cell_type": "code",
   "execution_count": 51,
   "id": "898b051e",
   "metadata": {},
   "outputs": [
    {
     "data": {
      "text/plain": [
       "0.9360849020585845"
      ]
     },
     "execution_count": 51,
     "metadata": {},
     "output_type": "execute_result"
    }
   ],
   "source": [
    "# - calculating R^2 \n",
    "lin_reg.score(X, y)"
   ]
  },
  {
   "cell_type": "code",
   "execution_count": 52,
   "id": "5962ca85",
   "metadata": {},
   "outputs": [
    {
     "data": {
      "text/plain": [
       "array([[282.29137079],\n",
       "       [333.88497422],\n",
       "       [353.90152808],\n",
       "       [440.95434943],\n",
       "       [439.30994261],\n",
       "       [500.10509956],\n",
       "       [496.44739798],\n",
       "       [464.81628591],\n",
       "       [475.00009312],\n",
       "       [495.54295721]])"
      ]
     },
     "execution_count": 52,
     "metadata": {},
     "output_type": "execute_result"
    }
   ],
   "source": [
    "# - predicting the weight using the model\n",
    "y_pred = lin_reg.predict(X)\n",
    "y_pred[:10]"
   ]
  },
  {
   "cell_type": "markdown",
   "id": "7b3c8f7f",
   "metadata": {},
   "source": [
    "### The Role of Partial and Part Correlation in MLR"
   ]
  },
  {
   "cell_type": "code",
   "execution_count": null,
   "id": "e315a199",
   "metadata": {},
   "outputs": [],
   "source": []
  },
  {
   "cell_type": "markdown",
   "id": "d3e0af4b",
   "metadata": {},
   "source": [
    "## 3. Nested Models"
   ]
  },
  {
   "cell_type": "code",
   "execution_count": null,
   "id": "2e328301",
   "metadata": {},
   "outputs": [],
   "source": []
  },
  {
   "cell_type": "markdown",
   "id": "0ef5bf2e",
   "metadata": {},
   "source": [
    "### Further Reading"
   ]
  },
  {
   "cell_type": "code",
   "execution_count": null,
   "id": "ebb60c83",
   "metadata": {},
   "outputs": [],
   "source": []
  },
  {
   "cell_type": "markdown",
   "id": "c3c12bd0",
   "metadata": {},
   "source": [
    "***"
   ]
  },
  {
   "cell_type": "markdown",
   "id": "526cba5c",
   "metadata": {},
   "source": [
    "DataKolektiv, 2022/23.\n",
    "\n",
    "[hello@datakolektiv.com](mailto:goran.milovanovic@datakolektiv.com)\n",
    "\n",
    "![](../img/DK_Logo_100.png)"
   ]
  },
  {
   "cell_type": "markdown",
   "id": "76482338",
   "metadata": {},
   "source": [
    "<font size=1>License: [GPLv3](https://www.gnu.org/licenses/gpl-3.0.txt) This Notebook is free software: you can redistribute it and/or modify it under the terms of the GNU General Public License as published by the Free Software Foundation, either version 3 of the License, or (at your option) any later version. This Notebook is distributed in the hope that it will be useful, but WITHOUT ANY WARRANTY; without even the implied warranty of MERCHANTABILITY or FITNESS FOR A PARTICULAR PURPOSE. See the GNU General Public License for more details. You should have received a copy of the GNU General Public License along with this Notebook. If not, see http://www.gnu.org/licenses/.</font>"
   ]
  },
  {
   "cell_type": "code",
   "execution_count": null,
   "id": "6196a551",
   "metadata": {},
   "outputs": [],
   "source": []
  }
 ],
 "metadata": {
  "kernelspec": {
   "display_name": "Python 3",
   "language": "python",
   "name": "python3"
  },
  "language_info": {
   "codemirror_mode": {
    "name": "ipython",
    "version": 3
   },
   "file_extension": ".py",
   "mimetype": "text/x-python",
   "name": "python",
   "nbconvert_exporter": "python",
   "pygments_lexer": "ipython3",
   "version": "3.8.8"
  }
 },
 "nbformat": 4,
 "nbformat_minor": 5
}
