{
 "cells": [
  {
   "attachments": {},
   "cell_type": "markdown",
   "id": "67b65bdc",
   "metadata": {},
   "source": [
    "# DATA SCIENCE SESSIONS VOL. 3\n",
    "### A Foundational Python Data Science Course\n",
    "## Tasklist 15: Session 15: Regularization in MLR. The Maximum Likelihood Estimation (MLE).\n",
    "\n",
    "[&larr; Back to course webpage](https://datakolektiv.com/)\n",
    "\n",
    "Feedback should be send to [goran.milovanovic@datakolektiv.com](mailto:goran.milovanovic@datakolektiv.com). \n",
    "\n",
    "These notebooks accompany the DATA SCIENCE SESSIONS VOL. 3 :: A Foundational Python Data Science Course."
   ]
  },
  {
   "cell_type": "markdown",
   "id": "aa4dbdf7",
   "metadata": {},
   "source": [
    "![](../img/IntroRDataScience_NonTech-1.jpg)"
   ]
  },
  {
   "cell_type": "markdown",
   "id": "e5e97431",
   "metadata": {},
   "source": [
    "### Lecturers\n",
    "\n",
    "[Goran S. Milovanović, PhD, DataKolektiv, Chief Scientist & Owner](https://www.linkedin.com/in/gmilovanovic/)\n",
    "\n",
    "[Aleksandar Cvetković, PhD, DataKolektiv, Consultant](https://www.linkedin.com/in/alegzndr/)\n",
    "\n",
    "[Ilija Lazarević, MA, DataKolektiv, Consultant](https://www.linkedin.com/in/ilijalazarevic/)"
   ]
  },
  {
   "cell_type": "markdown",
   "id": "2d9da7dd",
   "metadata": {},
   "source": [
    "![](../img/DK_Logo_100.png)"
   ]
  },
  {
   "cell_type": "markdown",
   "id": "f52c2322",
   "metadata": {},
   "source": [
    "***"
   ]
  },
  {
   "attachments": {},
   "cell_type": "markdown",
   "id": "fc6f6683",
   "metadata": {},
   "source": [
    "### Intro \n",
    "\n",
    "The goal of this task list is to consolidate our knowledge of the theoretical and practical insights provided on regularization in session 15. So far, we have shown two types of regularization, namely Ridge and Lasso. Also, we did introduce another type of parameter estimation called Maximum Likelihood Estimation. We said that after making the assumption that errors are normally distributed, we can use MLE for linear regression model parameter estimation instead of good old OLS.\n",
    "\n",
    "Today you are going to do some practicing with the data set provided. This is not the first time you will see this data set. We used it in session 03. It is the Boston Housing Data Set (available from GitHub [here](https://raw.githubusercontent.com/selva86/datasets/master/BostonHousing.csv)).\n",
    "\n",
    "As a refreshed, here is the list of variables and their description:\n",
    "- **crim**: per capita crime rate by town.\n",
    "\n",
    "- **zn**: proportion of residential land zoned for lots over 25,000 sq.ft.\n",
    "\n",
    "- **indus**: proportion of non-retail business acres per town.\n",
    "\n",
    "- **chas**: Charles River dummy variable (= 1 if tract bounds river; 0 otherwise).\n",
    "\n",
    "- **nox**: nitrogen oxides concentration (parts per 10 million).\n",
    "\n",
    "- **rm**: average number of rooms per dwelling.\n",
    "\n",
    "- **age**: proportion of owner-occupied units built prior to 1940.\n",
    "\n",
    "- **dis**: weighted mean of distances to five Boston employment centres.\n",
    "\n",
    "- **rad**: index of accessibility to radial highways.\n",
    "\n",
    "- **tax**: full-value property-tax rate per \\$10,000.\n",
    "\n",
    "- **ptratio**: pupil-teacher ratio by town.\n",
    "\n",
    "- **b**: 1000(Bk - 0.63)^2 where Bk is the proportion of blacks by town.\n",
    "\n",
    "- **lstat**: lower status of the population (percent).\n",
    "\n",
    "- **medv**: median value of owner-occupied homes in \\$1000s.\n",
    "\n",
    "Variable **medv** will be the one we are going to predict using Multiple Linear Regression with or without regularization."
   ]
  },
  {
   "cell_type": "markdown",
   "id": "4b49b344",
   "metadata": {},
   "source": [
    "Let's start by importing neccessary libraries."
   ]
  },
  {
   "cell_type": "code",
   "execution_count": 1,
   "id": "84ef5bc1",
   "metadata": {},
   "outputs": [],
   "source": [
    "import warnings\n",
    "warnings.filterwarnings(\"ignore\")"
   ]
  },
  {
   "cell_type": "code",
   "execution_count": 2,
   "id": "fb2a4445",
   "metadata": {},
   "outputs": [],
   "source": [
    "import os \n",
    "\n",
    "import numpy as np\n",
    "import pandas as pd\n",
    "\n",
    "import matplotlib.pyplot as plt\n",
    "import seaborn as sns\n",
    "\n",
    "import statsmodels.api as sm\n",
    "import statsmodels.formula.api as smf\n",
    "from statsmodels.stats.outliers_influence import variance_inflation_factor\n",
    "\n",
    "from scipy import stats \n",
    "\n",
    "from statsmodels.regression.linear_model import RegressionResultsWrapper\n",
    "\n",
    "from sklearn import linear_model\n",
    "from sklearn.linear_model import LinearRegression, Ridge, Lasso\n",
    "from sklearn.metrics import r2_score"
   ]
  },
  {
   "attachments": {},
   "cell_type": "markdown",
   "id": "6523ac68",
   "metadata": {},
   "source": [
    "Like we said, we have the data set in `_data` folder."
   ]
  },
  {
   "cell_type": "code",
   "execution_count": 3,
   "id": "613bb18d",
   "metadata": {},
   "outputs": [
    {
     "data": {
      "text/plain": [
       "['BostonHousingData.csv', 'iris.csv', 'kc_house_data.csv']"
      ]
     },
     "execution_count": 3,
     "metadata": {},
     "output_type": "execute_result"
    }
   ],
   "source": [
    "import os\n",
    "work_dir = os.getcwd()\n",
    "data_dir = os.path.join(work_dir, \"_data\")\n",
    "os.listdir(data_dir)"
   ]
  },
  {
   "attachments": {},
   "cell_type": "markdown",
   "id": "3920e357",
   "metadata": {},
   "source": [
    "## Regularization"
   ]
  },
  {
   "attachments": {},
   "cell_type": "markdown",
   "id": "1df064a3",
   "metadata": {},
   "source": [
    "**01.** Load the data set and do the initial scan of the data set."
   ]
  },
  {
   "cell_type": "code",
   "execution_count": 4,
   "id": "63a4d5af",
   "metadata": {},
   "outputs": [],
   "source": [
    "### your code here ###"
   ]
  },
  {
   "attachments": {},
   "cell_type": "markdown",
   "id": "ba52f173",
   "metadata": {},
   "source": [
    "**02.** Are there any missing values?"
   ]
  },
  {
   "cell_type": "code",
   "execution_count": 5,
   "id": "e6fac83d",
   "metadata": {},
   "outputs": [],
   "source": [
    "### your code here ###"
   ]
  },
  {
   "attachments": {},
   "cell_type": "markdown",
   "id": "c9207a2f",
   "metadata": {},
   "source": [
    "**03.** Perform the EDA on data set provided."
   ]
  },
  {
   "cell_type": "code",
   "execution_count": 6,
   "id": "c3e7ae4e",
   "metadata": {},
   "outputs": [],
   "source": [
    "### your code here ###"
   ]
  },
  {
   "attachments": {},
   "cell_type": "markdown",
   "id": "02eadd98",
   "metadata": {},
   "source": [
    "**04.** We talked about certain assumptions that have to be fulfilled before using linear models (MLR). What can you conclude by now?"
   ]
  },
  {
   "cell_type": "code",
   "execution_count": 7,
   "id": "b3c651cc",
   "metadata": {},
   "outputs": [],
   "source": [
    "### your answer here ###"
   ]
  },
  {
   "attachments": {},
   "cell_type": "markdown",
   "id": "3fb53ad0",
   "metadata": {},
   "source": [
    "**05.** Use `statsmodels` to fit the MLR model. "
   ]
  },
  {
   "cell_type": "code",
   "execution_count": 8,
   "id": "29d0c492",
   "metadata": {},
   "outputs": [],
   "source": [
    "### your code here ###"
   ]
  },
  {
   "attachments": {},
   "cell_type": "markdown",
   "id": "eb08effb",
   "metadata": {},
   "source": [
    "**06.** What are your conclusions based on the results of `statsmodels` model report?"
   ]
  },
  {
   "cell_type": "code",
   "execution_count": 9,
   "id": "d5bbe47b",
   "metadata": {},
   "outputs": [],
   "source": [
    "### your answer here ###"
   ]
  },
  {
   "attachments": {},
   "cell_type": "markdown",
   "id": "c606fc3d",
   "metadata": {},
   "source": [
    "**07.** What are the *VIF*s for each predictor variable? What are your conclusions?"
   ]
  },
  {
   "cell_type": "code",
   "execution_count": 10,
   "id": "d6b59ec9",
   "metadata": {},
   "outputs": [],
   "source": [
    "### your answer here ###"
   ]
  },
  {
   "attachments": {},
   "cell_type": "markdown",
   "id": "1fccf337",
   "metadata": {},
   "source": [
    "**08.** Use `sklearn` **Ridge** regularized linear model and search for the best `alpha` value, like we did in session 15. "
   ]
  },
  {
   "cell_type": "code",
   "execution_count": 11,
   "id": "0c433bdd",
   "metadata": {},
   "outputs": [],
   "source": [
    "### your code here ###"
   ]
  },
  {
   "attachments": {},
   "cell_type": "markdown",
   "id": "4aead46b",
   "metadata": {},
   "source": [
    "**09.** Plot how different *alpha* values affect: model parameters, L2 norm, MSE and R2 scores. What are your conclusions based on the charts?"
   ]
  },
  {
   "cell_type": "code",
   "execution_count": 12,
   "id": "39500e80",
   "metadata": {},
   "outputs": [],
   "source": [
    "### your code here ###"
   ]
  },
  {
   "attachments": {},
   "cell_type": "markdown",
   "id": "99473cb5",
   "metadata": {},
   "source": [
    "**10.** Use `sklearn` **Ridge** regularized linear model and search for the best `alpha` value, like we did in session 15. "
   ]
  },
  {
   "cell_type": "code",
   "execution_count": 13,
   "id": "e11dc1ee",
   "metadata": {},
   "outputs": [],
   "source": [
    "### your code here ###"
   ]
  },
  {
   "attachments": {},
   "cell_type": "markdown",
   "id": "7f985f08",
   "metadata": {},
   "source": [
    "**11.** Plot how different *alpha* values affect: model parameters, L2 norm, MSE and R2 scores. What are your conclusions based on the charts?"
   ]
  },
  {
   "cell_type": "code",
   "execution_count": 14,
   "id": "884234ea",
   "metadata": {},
   "outputs": [],
   "source": [
    "### your code here ###"
   ]
  },
  {
   "attachments": {},
   "cell_type": "markdown",
   "id": "f5dc0348",
   "metadata": {},
   "source": [
    "DataKolektiv, 2022/23.\n",
    "\n",
    "[hello@datakolektiv.com](mailto:goran.milovanovic@datakolektiv.com)\n",
    "\n",
    "![](../img/DK_Logo_100.png)"
   ]
  },
  {
   "cell_type": "markdown",
   "id": "6f8e160a",
   "metadata": {},
   "source": [
    "<font size=1>License: [GPLv3](https://www.gnu.org/licenses/gpl-3.0.txt) This Notebook is free software: you can redistribute it and/or modify it under the terms of the GNU General Public License as published by the Free Software Foundation, either version 3 of the License, or (at your option) any later version. This Notebook is distributed in the hope that it will be useful, but WITHOUT ANY WARRANTY; without even the implied warranty of MERCHANTABILITY or FITNESS FOR A PARTICULAR PURPOSE. See the GNU General Public License for more details. You should have received a copy of the GNU General Public License along with this Notebook. If not, see http://www.gnu.org/licenses/.</font>"
   ]
  }
 ],
 "metadata": {
  "kernelspec": {
   "display_name": "Python 3",
   "language": "python",
   "name": "python3"
  },
  "language_info": {
   "codemirror_mode": {
    "name": "ipython",
    "version": 3
   },
   "file_extension": ".py",
   "mimetype": "text/x-python",
   "name": "python",
   "nbconvert_exporter": "python",
   "pygments_lexer": "ipython3",
   "version": "3.8.10"
  }
 },
 "nbformat": 4,
 "nbformat_minor": 5
}
