{
 "cells": [
  {
   "attachments": {},
   "cell_type": "markdown",
   "id": "1eb50e3e",
   "metadata": {},
   "source": [
    "# DATA SCIENCE SESSIONS VOL. 3\n",
    "### A Foundational Python Data Science Course\n",
    "## Tasklist 17/18: Regularized Binomial and Multinomial Logistic Regression. \n",
    "\n",
    "[&larr; Back to course webpage](https://datakolektiv.com/)\n",
    "\n",
    "Feedback should be send to [goran.milovanovic@datakolektiv.com](mailto:goran.milovanovic@datakolektiv.com). \n",
    "\n",
    "These notebooks accompany the DATA SCIENCE SESSIONS VOL. 3 :: A Foundational Python Data Science Course."
   ]
  },
  {
   "attachments": {},
   "cell_type": "markdown",
   "id": "50a2e922",
   "metadata": {},
   "source": [
    "![](../img/IntroRDataScience_NonTech-1.jpg)"
   ]
  },
  {
   "attachments": {},
   "cell_type": "markdown",
   "id": "645ebc0d",
   "metadata": {},
   "source": [
    "### Lecturers\n",
    "\n",
    "[Goran S. Milovanović, PhD, DataKolektiv, Chief Scientist & Owner](https://www.linkedin.com/in/gmilovanovic/)\n",
    "\n",
    "[Aleksandar Cvetković, PhD, DataKolektiv, Consultant](https://www.linkedin.com/in/alegzndr/)\n",
    "\n",
    "[Ilija Lazarević, MA, DataKolektiv, Consultant](https://www.linkedin.com/in/ilijalazarevic/)"
   ]
  },
  {
   "attachments": {},
   "cell_type": "markdown",
   "id": "726f9a1b",
   "metadata": {},
   "source": [
    "![](../img/DK_Logo_100.png)"
   ]
  },
  {
   "attachments": {},
   "cell_type": "markdown",
   "id": "b63bcccf",
   "metadata": {},
   "source": [
    "***"
   ]
  },
  {
   "attachments": {},
   "cell_type": "markdown",
   "id": "2eafa2ed",
   "metadata": {},
   "source": [
    "### Intro "
   ]
  },
  {
   "attachments": {},
   "cell_type": "markdown",
   "id": "2227d1e5",
   "metadata": {},
   "source": [
    "In this Tasklist you will work with the Regularized Binomial and Multinomial Logistic Regression models in `scikit-learn`. For the Multinomial Regression you will essentialy need only to adapt the existing Python code from Session 18 to attempt to solve the Wine Quality problem in a different way. And now for the Regularized Binomial Logistic Regression:"
   ]
  },
  {
   "cell_type": "code",
   "execution_count": 1,
   "id": "283f5aae",
   "metadata": {},
   "outputs": [],
   "source": [
    "# suppressing those annoying warnings\n",
    "import warnings\n",
    "\n",
    "warnings.filterwarnings(\"ignore\")"
   ]
  },
  {
   "cell_type": "code",
   "execution_count": 2,
   "id": "dc3e7812",
   "metadata": {},
   "outputs": [],
   "source": [
    "# importing necessary libraries\n",
    "import os \n",
    "\n",
    "import numpy as np\n",
    "import pandas as pd\n",
    "\n",
    "import matplotlib.pyplot as plt\n",
    "import seaborn as sns\n",
    "\n",
    "from sklearn.linear_model import LogisticRegression"
   ]
  },
  {
   "cell_type": "code",
   "execution_count": 3,
   "id": "db543f83",
   "metadata": {},
   "outputs": [
    {
     "data": {
      "text/plain": [
       "['winequality-red.csv', 'Iris.csv', 'framingham.csv', 'kc_house_data.csv']"
      ]
     },
     "execution_count": 3,
     "metadata": {},
     "output_type": "execute_result"
    }
   ],
   "source": [
    "# setting the working directory\n",
    "\n",
    "work_dir = os.getcwd()\n",
    "data_dir = os.path.join(work_dir, \"_data\")\n",
    "os.listdir(data_dir)"
   ]
  },
  {
   "attachments": {},
   "cell_type": "markdown",
   "id": "84102e75",
   "metadata": {},
   "source": [
    "## Regularized Binomial Logistic Regression"
   ]
  },
  {
   "attachments": {},
   "cell_type": "markdown",
   "id": "ecfbef25",
   "metadata": {},
   "source": [
    "Consider the `framingham.csv` data set, provided in your `_data` directory for Session 18. The source of this data set is Kaggle: [Logistic regression To predict heart disease](https://www.kaggle.com/datasets/dileep070/heart-disease-prediction-using-logistic-regression) where a thorough description of all variables is provided; please read through the data set and task description on Kaggle carefully before proceeding."
   ]
  },
  {
   "cell_type": "code",
   "execution_count": 4,
   "id": "55b55ed8",
   "metadata": {},
   "outputs": [
    {
     "data": {
      "text/html": [
       "<div>\n",
       "<style scoped>\n",
       "    .dataframe tbody tr th:only-of-type {\n",
       "        vertical-align: middle;\n",
       "    }\n",
       "\n",
       "    .dataframe tbody tr th {\n",
       "        vertical-align: top;\n",
       "    }\n",
       "\n",
       "    .dataframe thead th {\n",
       "        text-align: right;\n",
       "    }\n",
       "</style>\n",
       "<table border=\"1\" class=\"dataframe\">\n",
       "  <thead>\n",
       "    <tr style=\"text-align: right;\">\n",
       "      <th></th>\n",
       "      <th>male</th>\n",
       "      <th>age</th>\n",
       "      <th>education</th>\n",
       "      <th>currentSmoker</th>\n",
       "      <th>cigsPerDay</th>\n",
       "      <th>BPMeds</th>\n",
       "      <th>prevalentStroke</th>\n",
       "      <th>prevalentHyp</th>\n",
       "      <th>diabetes</th>\n",
       "      <th>totChol</th>\n",
       "      <th>sysBP</th>\n",
       "      <th>diaBP</th>\n",
       "      <th>BMI</th>\n",
       "      <th>heartRate</th>\n",
       "      <th>glucose</th>\n",
       "      <th>TenYearCHD</th>\n",
       "    </tr>\n",
       "  </thead>\n",
       "  <tbody>\n",
       "    <tr>\n",
       "      <th>0</th>\n",
       "      <td>1</td>\n",
       "      <td>39</td>\n",
       "      <td>4.0</td>\n",
       "      <td>0</td>\n",
       "      <td>0.0</td>\n",
       "      <td>0.0</td>\n",
       "      <td>0</td>\n",
       "      <td>0</td>\n",
       "      <td>0</td>\n",
       "      <td>195.0</td>\n",
       "      <td>106.0</td>\n",
       "      <td>70.0</td>\n",
       "      <td>26.97</td>\n",
       "      <td>80.0</td>\n",
       "      <td>77.0</td>\n",
       "      <td>0</td>\n",
       "    </tr>\n",
       "    <tr>\n",
       "      <th>1</th>\n",
       "      <td>0</td>\n",
       "      <td>46</td>\n",
       "      <td>2.0</td>\n",
       "      <td>0</td>\n",
       "      <td>0.0</td>\n",
       "      <td>0.0</td>\n",
       "      <td>0</td>\n",
       "      <td>0</td>\n",
       "      <td>0</td>\n",
       "      <td>250.0</td>\n",
       "      <td>121.0</td>\n",
       "      <td>81.0</td>\n",
       "      <td>28.73</td>\n",
       "      <td>95.0</td>\n",
       "      <td>76.0</td>\n",
       "      <td>0</td>\n",
       "    </tr>\n",
       "    <tr>\n",
       "      <th>2</th>\n",
       "      <td>1</td>\n",
       "      <td>48</td>\n",
       "      <td>1.0</td>\n",
       "      <td>1</td>\n",
       "      <td>20.0</td>\n",
       "      <td>0.0</td>\n",
       "      <td>0</td>\n",
       "      <td>0</td>\n",
       "      <td>0</td>\n",
       "      <td>245.0</td>\n",
       "      <td>127.5</td>\n",
       "      <td>80.0</td>\n",
       "      <td>25.34</td>\n",
       "      <td>75.0</td>\n",
       "      <td>70.0</td>\n",
       "      <td>0</td>\n",
       "    </tr>\n",
       "    <tr>\n",
       "      <th>3</th>\n",
       "      <td>0</td>\n",
       "      <td>61</td>\n",
       "      <td>3.0</td>\n",
       "      <td>1</td>\n",
       "      <td>30.0</td>\n",
       "      <td>0.0</td>\n",
       "      <td>0</td>\n",
       "      <td>1</td>\n",
       "      <td>0</td>\n",
       "      <td>225.0</td>\n",
       "      <td>150.0</td>\n",
       "      <td>95.0</td>\n",
       "      <td>28.58</td>\n",
       "      <td>65.0</td>\n",
       "      <td>103.0</td>\n",
       "      <td>1</td>\n",
       "    </tr>\n",
       "    <tr>\n",
       "      <th>4</th>\n",
       "      <td>0</td>\n",
       "      <td>46</td>\n",
       "      <td>3.0</td>\n",
       "      <td>1</td>\n",
       "      <td>23.0</td>\n",
       "      <td>0.0</td>\n",
       "      <td>0</td>\n",
       "      <td>0</td>\n",
       "      <td>0</td>\n",
       "      <td>285.0</td>\n",
       "      <td>130.0</td>\n",
       "      <td>84.0</td>\n",
       "      <td>23.10</td>\n",
       "      <td>85.0</td>\n",
       "      <td>85.0</td>\n",
       "      <td>0</td>\n",
       "    </tr>\n",
       "    <tr>\n",
       "      <th>5</th>\n",
       "      <td>0</td>\n",
       "      <td>43</td>\n",
       "      <td>2.0</td>\n",
       "      <td>0</td>\n",
       "      <td>0.0</td>\n",
       "      <td>0.0</td>\n",
       "      <td>0</td>\n",
       "      <td>1</td>\n",
       "      <td>0</td>\n",
       "      <td>228.0</td>\n",
       "      <td>180.0</td>\n",
       "      <td>110.0</td>\n",
       "      <td>30.30</td>\n",
       "      <td>77.0</td>\n",
       "      <td>99.0</td>\n",
       "      <td>0</td>\n",
       "    </tr>\n",
       "    <tr>\n",
       "      <th>6</th>\n",
       "      <td>0</td>\n",
       "      <td>63</td>\n",
       "      <td>1.0</td>\n",
       "      <td>0</td>\n",
       "      <td>0.0</td>\n",
       "      <td>0.0</td>\n",
       "      <td>0</td>\n",
       "      <td>0</td>\n",
       "      <td>0</td>\n",
       "      <td>205.0</td>\n",
       "      <td>138.0</td>\n",
       "      <td>71.0</td>\n",
       "      <td>33.11</td>\n",
       "      <td>60.0</td>\n",
       "      <td>85.0</td>\n",
       "      <td>1</td>\n",
       "    </tr>\n",
       "    <tr>\n",
       "      <th>7</th>\n",
       "      <td>0</td>\n",
       "      <td>45</td>\n",
       "      <td>2.0</td>\n",
       "      <td>1</td>\n",
       "      <td>20.0</td>\n",
       "      <td>0.0</td>\n",
       "      <td>0</td>\n",
       "      <td>0</td>\n",
       "      <td>0</td>\n",
       "      <td>313.0</td>\n",
       "      <td>100.0</td>\n",
       "      <td>71.0</td>\n",
       "      <td>21.68</td>\n",
       "      <td>79.0</td>\n",
       "      <td>78.0</td>\n",
       "      <td>0</td>\n",
       "    </tr>\n",
       "    <tr>\n",
       "      <th>8</th>\n",
       "      <td>1</td>\n",
       "      <td>52</td>\n",
       "      <td>1.0</td>\n",
       "      <td>0</td>\n",
       "      <td>0.0</td>\n",
       "      <td>0.0</td>\n",
       "      <td>0</td>\n",
       "      <td>1</td>\n",
       "      <td>0</td>\n",
       "      <td>260.0</td>\n",
       "      <td>141.5</td>\n",
       "      <td>89.0</td>\n",
       "      <td>26.36</td>\n",
       "      <td>76.0</td>\n",
       "      <td>79.0</td>\n",
       "      <td>0</td>\n",
       "    </tr>\n",
       "    <tr>\n",
       "      <th>9</th>\n",
       "      <td>1</td>\n",
       "      <td>43</td>\n",
       "      <td>1.0</td>\n",
       "      <td>1</td>\n",
       "      <td>30.0</td>\n",
       "      <td>0.0</td>\n",
       "      <td>0</td>\n",
       "      <td>1</td>\n",
       "      <td>0</td>\n",
       "      <td>225.0</td>\n",
       "      <td>162.0</td>\n",
       "      <td>107.0</td>\n",
       "      <td>23.61</td>\n",
       "      <td>93.0</td>\n",
       "      <td>88.0</td>\n",
       "      <td>0</td>\n",
       "    </tr>\n",
       "  </tbody>\n",
       "</table>\n",
       "</div>"
      ],
      "text/plain": [
       "   male  age  education  currentSmoker  cigsPerDay  BPMeds  prevalentStroke  \\\n",
       "0     1   39        4.0              0         0.0     0.0                0   \n",
       "1     0   46        2.0              0         0.0     0.0                0   \n",
       "2     1   48        1.0              1        20.0     0.0                0   \n",
       "3     0   61        3.0              1        30.0     0.0                0   \n",
       "4     0   46        3.0              1        23.0     0.0                0   \n",
       "5     0   43        2.0              0         0.0     0.0                0   \n",
       "6     0   63        1.0              0         0.0     0.0                0   \n",
       "7     0   45        2.0              1        20.0     0.0                0   \n",
       "8     1   52        1.0              0         0.0     0.0                0   \n",
       "9     1   43        1.0              1        30.0     0.0                0   \n",
       "\n",
       "   prevalentHyp  diabetes  totChol  sysBP  diaBP    BMI  heartRate  glucose  \\\n",
       "0             0         0    195.0  106.0   70.0  26.97       80.0     77.0   \n",
       "1             0         0    250.0  121.0   81.0  28.73       95.0     76.0   \n",
       "2             0         0    245.0  127.5   80.0  25.34       75.0     70.0   \n",
       "3             1         0    225.0  150.0   95.0  28.58       65.0    103.0   \n",
       "4             0         0    285.0  130.0   84.0  23.10       85.0     85.0   \n",
       "5             1         0    228.0  180.0  110.0  30.30       77.0     99.0   \n",
       "6             0         0    205.0  138.0   71.0  33.11       60.0     85.0   \n",
       "7             0         0    313.0  100.0   71.0  21.68       79.0     78.0   \n",
       "8             1         0    260.0  141.5   89.0  26.36       76.0     79.0   \n",
       "9             1         0    225.0  162.0  107.0  23.61       93.0     88.0   \n",
       "\n",
       "   TenYearCHD  \n",
       "0           0  \n",
       "1           0  \n",
       "2           0  \n",
       "3           1  \n",
       "4           0  \n",
       "5           0  \n",
       "6           1  \n",
       "7           0  \n",
       "8           0  \n",
       "9           0  "
      ]
     },
     "execution_count": 4,
     "metadata": {},
     "output_type": "execute_result"
    }
   ],
   "source": [
    "data_set = pd.read_csv(os.path.join(data_dir, \"framingham.csv\"))\n",
    "data_set.head(10)"
   ]
  },
  {
   "attachments": {},
   "cell_type": "markdown",
   "id": "5bdf8278",
   "metadata": {},
   "source": [
    "The task is to predict the `TenYearCHD` binary variable from all available (numeric and categorical) predictors."
   ]
  },
  {
   "attachments": {},
   "cell_type": "markdown",
   "id": "64ff57e6",
   "metadata": {},
   "source": [
    "**1.** Provide an elementary EDA of the data: \n",
    "\n",
    "   - **1.1** Produce the correlation matrix of all `float64` predictors and speculate if multicolinearity might be present or not; use `seaborn` to visualize the correlation matrix by a heatmap. \n",
    "   - **1.2** Provide the categorized box-plots for the following variables vs. the outome: `cigsPerDay`, `totChol`, `sysBP`, `diaBP`, `BMI`."
   ]
  },
  {
   "attachments": {},
   "cell_type": "markdown",
   "id": "8a17aa2e",
   "metadata": {},
   "source": [
    "**1.1** Correlation Matrix"
   ]
  },
  {
   "cell_type": "code",
   "execution_count": 5,
   "id": "c1b51a00",
   "metadata": {},
   "outputs": [
    {
     "data": {
      "text/plain": [
       "male                 int64\n",
       "age                  int64\n",
       "education          float64\n",
       "currentSmoker        int64\n",
       "cigsPerDay         float64\n",
       "BPMeds             float64\n",
       "prevalentStroke      int64\n",
       "prevalentHyp         int64\n",
       "diabetes             int64\n",
       "totChol            float64\n",
       "sysBP              float64\n",
       "diaBP              float64\n",
       "BMI                float64\n",
       "heartRate          float64\n",
       "glucose            float64\n",
       "TenYearCHD           int64\n",
       "dtype: object"
      ]
     },
     "execution_count": 5,
     "metadata": {},
     "output_type": "execute_result"
    }
   ],
   "source": [
    "data_set.dtypes"
   ]
  },
  {
   "cell_type": "code",
   "execution_count": 2,
   "id": "6d3a4f17",
   "metadata": {},
   "outputs": [],
   "source": [
    "### --- YOUR CODE HERE --- ###"
   ]
  },
  {
   "attachments": {},
   "cell_type": "markdown",
   "id": "efdc6313",
   "metadata": {},
   "source": [
    "**1.2** Box-plots"
   ]
  },
  {
   "cell_type": "code",
   "execution_count": 3,
   "id": "5b307798",
   "metadata": {},
   "outputs": [],
   "source": [
    "### --- YOUR CODE HERE --- ###"
   ]
  },
  {
   "attachments": {},
   "cell_type": "markdown",
   "id": "e7aa0dee",
   "metadata": {},
   "source": [
    "**2.** Perform an ElasticNet regularization of the Binomial Logistic Regression model like we did in Session17 to predict `TenYearCHD`."
   ]
  },
  {
   "attachments": {},
   "cell_type": "markdown",
   "id": "79f50f7a",
   "metadata": {},
   "source": [
    "There are only two binary coded categorical predictors, `male` and `currentSmoker`, so there will be no need to separate categorical from numerical predictors and perform Dummy Coding with `sklearn.preprocessing.OneHotEncoder` here. However, make sure that there are no missing values in the data, because Linear Models like the Binomial Logistic Regression do not tolerate missing values! Keep only the rows with complete observations for this exercise. There should be `3656` observations left following the clean-up."
   ]
  },
  {
   "cell_type": "code",
   "execution_count": 4,
   "id": "4f1b85a1",
   "metadata": {},
   "outputs": [],
   "source": [
    "### --- YOUR CODE HERE --- ###"
   ]
  },
  {
   "attachments": {},
   "cell_type": "markdown",
   "id": "65a240ab",
   "metadata": {},
   "source": [
    "Do we have a class imbalance problem in this data set? Examine:"
   ]
  },
  {
   "cell_type": "code",
   "execution_count": 5,
   "id": "83b8c111",
   "metadata": {},
   "outputs": [],
   "source": [
    "### --- YOUR CODE HERE --- ###"
   ]
  },
  {
   "attachments": {},
   "cell_type": "markdown",
   "id": "17b01c66",
   "metadata": {},
   "source": [
    "Now go for the ElasticNet like we did in Session17 and make sure to use the `class_weight` argument properly; use the weighted F-1 score to assess the model performance.\n",
    "\n",
    "Do not forget to use `sklearn.preprocessing.StandardScaler` to standardize your feature matrix for regularization.\n",
    "\n",
    "You can use the following values for the inverse penalty `C` and the `l1_ratio`:\n",
    "\n",
    "`C_range = [0.001, 0.01, 0.1, 1, 10, 100, 1000, 10000]`\n",
    "\n",
    "`l1_range = [0, .1, .25, .5, .75, .9, 1]`"
   ]
  },
  {
   "cell_type": "code",
   "execution_count": 6,
   "id": "e2910ab6",
   "metadata": {},
   "outputs": [],
   "source": [
    "### --- YOUR CODE HERE --- ###"
   ]
  },
  {
   "attachments": {},
   "cell_type": "markdown",
   "id": "0f622c7a",
   "metadata": {},
   "source": [
    "Refit the model using the optimal `C` and `l1_ratio` values, print out the model coefficients, and discuss the effect of each predictor."
   ]
  },
  {
   "cell_type": "code",
   "execution_count": 7,
   "id": "700c0404",
   "metadata": {},
   "outputs": [],
   "source": [
    "### --- YOUR CODE HERE --- ###"
   ]
  },
  {
   "attachments": {},
   "cell_type": "markdown",
   "id": "ae0508f5",
   "metadata": {},
   "source": [
    "## Regularized Multinomial Regression"
   ]
  },
  {
   "attachments": {},
   "cell_type": "markdown",
   "id": "d19566ac",
   "metadata": {},
   "source": [
    "**3.** Perform an ElasticNet regularization of the Multinomial Regression model predict `quality` by first grouping the outcome variable into three larger classes (instead of using the original six classes)."
   ]
  },
  {
   "attachments": {},
   "cell_type": "markdown",
   "id": "35c71d79",
   "metadata": {},
   "source": [
    "Load the `winequality-red.csv` data set from the Session 18 `_data` directory:"
   ]
  },
  {
   "cell_type": "code",
   "execution_count": 8,
   "id": "16881268",
   "metadata": {},
   "outputs": [],
   "source": [
    "### --- YOUR CODE HERE --- ###"
   ]
  },
  {
   "attachments": {},
   "cell_type": "markdown",
   "id": "d549b24b",
   "metadata": {},
   "source": [
    "Overview of the `quality` variable:"
   ]
  },
  {
   "cell_type": "code",
   "execution_count": 9,
   "id": "826ca3be",
   "metadata": {},
   "outputs": [],
   "source": [
    "### --- YOUR CODE HERE --- ###"
   ]
  },
  {
   "attachments": {},
   "cell_type": "markdown",
   "id": "3c65b1a5",
   "metadata": {},
   "source": [
    "Recode the `quality` variable to group the existing classes in the following way:\n",
    "\n",
    "- quality levels 3, 4, and 5 go into new class 1;\n",
    "- quality level 6 goes into a new class 2;\n",
    "- quality levels 7 and 8 go into a new class 3.\n",
    "\n",
    "**Hint.** Use [pandas.DataFrame.replace](https://pandas.pydata.org/docs/reference/api/pandas.DataFrame.replace.html).\n",
    "\n",
    "Show us the distribution of instances across the classes again:"
   ]
  },
  {
   "cell_type": "code",
   "execution_count": 10,
   "id": "1b77e855",
   "metadata": {},
   "outputs": [],
   "source": [
    "# Recode the 'quality' variable"
   ]
  },
  {
   "attachments": {},
   "cell_type": "markdown",
   "id": "d62f8d44",
   "metadata": {},
   "source": [
    "Prepare `X`, and `y`, and use the following values of `C` and `l1_ratio` in ElasticNet for the Multinomial Regression model to predict `quality` (again, use the weighted F-1 score to select the best model):\n",
    "\n",
    "`C_range = [0.001, 0.01, 0.1, 1, 10, 100, 1000, 10000]`\n",
    "\n",
    "`l1_range = [0, .1, .25, .5, .75, .9, 1]`"
   ]
  },
  {
   "cell_type": "code",
   "execution_count": 11,
   "id": "5db451fd",
   "metadata": {},
   "outputs": [],
   "source": [
    "### --- YOUR CODE HERE --- ###"
   ]
  },
  {
   "attachments": {},
   "cell_type": "markdown",
   "id": "079bd122",
   "metadata": {},
   "source": [
    "Print out the confusion matrix from the best model"
   ]
  },
  {
   "cell_type": "code",
   "execution_count": 12,
   "id": "01a22090",
   "metadata": {},
   "outputs": [],
   "source": [
    "### --- YOUR CODE HERE --- ###"
   ]
  },
  {
   "attachments": {},
   "cell_type": "markdown",
   "id": "7b79ad8f",
   "metadata": {},
   "source": [
    "Are the results any better than those that we were able to obtain from the initial qualities classes in Session18? Please comment."
   ]
  },
  {
   "attachments": {},
   "cell_type": "markdown",
   "id": "3fe4ab53",
   "metadata": {},
   "source": [
    "`### --- YOUR ANSWER HERE --- ###`"
   ]
  },
  {
   "attachments": {},
   "cell_type": "markdown",
   "id": "07c947eb",
   "metadata": {},
   "source": [
    "***"
   ]
  },
  {
   "attachments": {},
   "cell_type": "markdown",
   "id": "d240cdce",
   "metadata": {},
   "source": [
    "DataKolektiv, 2022/23.\n",
    "\n",
    "[hello@datakolektiv.com](mailto:goran.milovanovic@datakolektiv.com)\n",
    "\n",
    "![](../img/DK_Logo_100.png)"
   ]
  },
  {
   "attachments": {},
   "cell_type": "markdown",
   "id": "9c9d4273",
   "metadata": {},
   "source": [
    "<font size=1>License: [GPLv3](https://www.gnu.org/licenses/gpl-3.0.txt) This Notebook is free software: you can redistribute it and/or modify it under the terms of the GNU General Public License as published by the Free Software Foundation, either version 3 of the License, or (at your option) any later version. This Notebook is distributed in the hope that it will be useful, but WITHOUT ANY WARRANTY; without even the implied warranty of MERCHANTABILITY or FITNESS FOR A PARTICULAR PURPOSE. See the GNU General Public License for more details. You should have received a copy of the GNU General Public License along with this Notebook. If not, see http://www.gnu.org/licenses/.</font>"
   ]
  }
 ],
 "metadata": {
  "kernelspec": {
   "display_name": "Python 3",
   "language": "python",
   "name": "python3"
  },
  "language_info": {
   "codemirror_mode": {
    "name": "ipython",
    "version": 3
   },
   "file_extension": ".py",
   "mimetype": "text/x-python",
   "name": "python",
   "nbconvert_exporter": "python",
   "pygments_lexer": "ipython3",
   "version": "3.9.16"
  }
 },
 "nbformat": 4,
 "nbformat_minor": 5
}
