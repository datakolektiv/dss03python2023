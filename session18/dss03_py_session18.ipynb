{
 "cells": [
  {
   "cell_type": "markdown",
   "id": "45045c69",
   "metadata": {},
   "source": [
    "# DATA SCIENCE SESSIONS VOL. 3\n",
    "### A Foundational Python Data Science Course\n",
    "## Session 18: Generalized Linear Models III. Multinomial Logistic Regression. Regularization of MNR. \n",
    "\n",
    "[&larr; Back to course webpage](https://datakolektiv.com/)\n",
    "\n",
    "Feedback should be send to [goran.milovanovic@datakolektiv.com](mailto:goran.milovanovic@datakolektiv.com). \n",
    "\n",
    "These notebooks accompany the DATA SCIENCE SESSIONS VOL. 3 :: A Foundational Python Data Science Course."
   ]
  },
  {
   "cell_type": "markdown",
   "id": "62cd48f6",
   "metadata": {},
   "source": [
    "![](../img/IntroRDataScience_NonTech-1.jpg)"
   ]
  },
  {
   "cell_type": "markdown",
   "id": "500b83fb",
   "metadata": {},
   "source": [
    "### Lecturers\n",
    "\n",
    "[Goran S. Milovanović, PhD, DataKolektiv, Chief Scientist & Owner](https://www.linkedin.com/in/gmilovanovic/)\n",
    "\n",
    "[Aleksandar Cvetković, PhD, DataKolektiv, Consultant](https://www.linkedin.com/in/alegzndr/)\n",
    "\n",
    "[Ilija Lazarević, MA, DataKolektiv, Consultant](https://www.linkedin.com/in/ilijalazarevic/)"
   ]
  },
  {
   "cell_type": "markdown",
   "id": "ab6dd040",
   "metadata": {},
   "source": [
    "![](../img/DK_Logo_100.png)"
   ]
  },
  {
   "cell_type": "markdown",
   "id": "1110a258",
   "metadata": {},
   "source": [
    "***"
   ]
  },
  {
   "cell_type": "code",
   "execution_count": 1,
   "id": "a4a7b078",
   "metadata": {},
   "outputs": [],
   "source": [
    "### --- Setup - importing the libraries\n",
    "\n",
    "# - supress those annoying 'Future Warning'\n",
    "import warnings\n",
    "warnings.simplefilter(action='ignore', category=FutureWarning)\n",
    "\n",
    "# - data\n",
    "import numpy as np\n",
    "import pandas as pd\n",
    "\n",
    "# - os\n",
    "import os\n",
    "\n",
    "# - ml\n",
    "import statsmodels.api as sm\n",
    "import statsmodels.formula.api as smf\n",
    "from statsmodels.stats.outliers_influence import variance_inflation_factor\n",
    "\n",
    "# - visualization\n",
    "import matplotlib.pyplot as plt\n",
    "import seaborn as sns\n",
    "\n",
    "# - parameters\n",
    "%matplotlib inline\n",
    "pd.options.mode.chained_assignment = None  # default='warn'\n",
    "sns.set_theme()\n",
    "# - rng\n",
    "rng = np.random.default_rng()\n",
    "# - plots\n",
    "plt.rc(\"figure\", figsize=(8, 6))\n",
    "plt.rc(\"font\", size=14)\n",
    "sns.set_theme(style='white')\n",
    "\n",
    "# - directory tree\n",
    "data_dir = os.path.join(os.getcwd(), '_data')"
   ]
  },
  {
   "cell_type": "markdown",
   "id": "0998760c",
   "metadata": {},
   "source": [
    "## 1. Multinomial Regression"
   ]
  },
  {
   "cell_type": "markdown",
   "id": "d2048ef9",
   "metadata": {},
   "source": [
    "The Multinomial Regression model is a powerful classification tool. Consider a problem where some outcome variable can result in more than two discrete outcomes. For example, a customer visiting a webshop can end up their visit (a) buying nothing, (b) buying some Product A, or (c) Product B, or (d) Product C, etc. If we have some information about a particular customer's journey through the website (e.g. how much time did they spend on some particular pages, did they visit the webshop before or not, or any other information that customers might have chose to disclose on their sign-up...), we can use it as a set of predictors of customer behavior resulting in any of the (a), (b), (c), (d). We do that by means of a simple extension of the Binomial Logistic Regression that is used to solve for dichotomies: enters the Multinomial Regression model."
   ]
  },
  {
   "cell_type": "markdown",
   "id": "30cbc780",
   "metadata": {},
   "source": [
    "### The Model\n",
    "\n",
    "First, similar to what happens in *dummy coding*, given a set of $K$ possible outcomes we choose one of them as a *baseline*. Thus all results of the Multionomial Regression will be interpreted as effects relative to that baseline outcome category, for example: for a unit increase in predictor $X_1$ what is the change in odds to switch from (a) buying nothing to (b) buying Product A. We are already familiar with this logic, right?\n",
    "\n",
    "So, consider a set of $K-1$ independent Binary Logistic Models with only one predictor $X$ where the baseline is now referred to as $K$:\n",
    "\n",
    "$$log\\frac{P(Y_i = 1)}{P(Y_i = K)} = \\beta_{1,0} + \\beta_{1,1}X$$\n",
    "\n",
    "$$log\\frac{P(Y_i = 2)}{P(Y_i = K)} = \\beta_{2,0} + \\beta_{2,1}X$$\n",
    "\n",
    "$$log\\frac{P(Y_i = K-1)}{P(Y_i = K)} = \\beta_{K-1,0} + \\beta_{K-1,1}X$$\n",
    "\n",
    "Obviously, we are introducing a set of new regression coefficients ($\\beta_{k,\\cdot}$) for each possible value of the outcome $k = 1, 2,.., K-1$. The *log-odds* are on the LHS while the linear model remains on the RHS.\n",
    "\n",
    "Now we exponentiate the equations to arrive at the expressions for *odds*:\n",
    "\n",
    "$$\\frac{P(Y_i = 1)}{P(Y_i = K)} = e^{\\beta_{1,0} + \\beta_{1,1}X}$$\n",
    "\n",
    "$$\\frac{P(Y_i = 2)}{P(Y_i = K)} = e^{\\beta_{2,0} + \\beta_{2,1}X}$$\n",
    "\n",
    "$$\\frac{P(Y_i = K-1)}{P(Y_i = K)} = e^{\\beta_{K-1,0} + \\beta_{K-1,1}X}$$\n",
    "\n",
    "And solve for $P(Y_i = 1), P(Y_i = 2),.. P(Y_i = K-1)$:\n",
    "\n",
    "$$P(Y_i = 1) = P(Y_i = K)e^{\\beta_{1,0} + \\beta_{1,1}X}$$\n",
    "\n",
    "$$P(Y_i = 2) = P(Y_i = K)e^{\\beta_{2,0} + \\beta_{2,1}X}$$\n",
    "\n",
    "$$P(Y_i = K-1) = P(Y_i = K)e^{\\beta_{K-1,0} + \\beta_{K-1,1}X}$$\n",
    "\n",
    "From the fact that all probabilities $P(Y_i = 1), P(Y_i = 2), .., P(Y_i = K)$ must sum to one it can be shown that\n",
    "\n",
    "$$P(Y_i = K) = \\frac{1}{1+\\sum_{k=1}^{K-1}e^{\\beta_{k,0} + \\beta_{k,1}X}}$$\n",
    "\n",
    "Because:\n",
    "\n",
    "(1) $P(Y_i = 1) + P(Y_i = 2) + ... + P(Y_i = K) = 1$, we have\n",
    "\n",
    "(2) $P(Y_i = K) + P(Y_i = K)e^{\\beta_{1,0} + \\beta_{1,1}X} + P(Y_i = K)e^{\\beta_{2,0} + \\beta_{2,1}X} + ... + P(Y_i = K=1)e^{\\beta_{K-1,0} + \\beta_{K-1,1}X} = 1$ \n",
    "\n",
    "(3) and then replace $e^{\\beta_{1,0} + \\beta_{1,1}X}$ by $l_1$, $e^{\\beta_{2,0} + \\beta_{2,1}X}$ by $l_2$, and $e^{\\beta_{k,0} + \\beta_{k,1}X}$ by $l_k$ in the general case, we have\n",
    "\n",
    "(4) $P(Y_i = K) + P(Y_i = K)e^{l_1} + P(Y_i = K)e^{l_2} + ... + P(Y_i = K-1)e^{l_{K-1}} = 1$\n",
    "\n",
    "(5) $P(Y_i = K)[1 + e^{l_1} + e^{l_2} + ... + e^{l_{K-1}}] = 1$ so that \n",
    "\n",
    "(6) $P(Y_i = K) = \\frac{1}{1 + e^{l_1} + e^{l_2} + ... + e^{l_{K-1}}} = \\frac{1}{1+\\sum_{k=1}^{K-1}e^{\\beta_{k,0} + \\beta_{k,1}X}}$\n",
    "\n",
    "It is easy now to derive the expressions for all $K-1$ probabilities of the outcome resulting in a particular class:\n",
    "\n",
    "$$P(Y_i = 1) = \\frac{e^{\\beta_{1,0} + \\beta_{1,1}X}}{1+\\sum_{k=1}^{K-1}e^{\\beta_{k,0} + \\beta_{k,1}X}}$$\n",
    "\n",
    "$$P(Y_i = 2) = \\frac{e^{\\beta_{2,0} + \\beta_{2,1}X}}{1+\\sum_{k=1}^{K-1}e^{\\beta_{k,0} + \\beta_{k,1}X}}$$\n",
    "\n",
    "$$P(Y_i = K-1) = \\frac{e^{\\beta_{K-1,0} + \\beta_{K-1,1}X}}{1+\\sum_{k=1}^{K-1}e^{\\beta_{k,0} + \\beta_{k,1}X}}$$"
   ]
  },
  {
   "cell_type": "code",
   "execution_count": 2,
   "id": "2f4a0362",
   "metadata": {},
   "outputs": [
    {
     "data": {
      "text/html": [
       "<div>\n",
       "<style scoped>\n",
       "    .dataframe tbody tr th:only-of-type {\n",
       "        vertical-align: middle;\n",
       "    }\n",
       "\n",
       "    .dataframe tbody tr th {\n",
       "        vertical-align: top;\n",
       "    }\n",
       "\n",
       "    .dataframe thead th {\n",
       "        text-align: right;\n",
       "    }\n",
       "</style>\n",
       "<table border=\"1\" class=\"dataframe\">\n",
       "  <thead>\n",
       "    <tr style=\"text-align: right;\">\n",
       "      <th></th>\n",
       "      <th>SepalLengthCm</th>\n",
       "      <th>SepalWidthCm</th>\n",
       "      <th>PetalLengthCm</th>\n",
       "      <th>PetalWidthCm</th>\n",
       "      <th>Species</th>\n",
       "    </tr>\n",
       "    <tr>\n",
       "      <th>Id</th>\n",
       "      <th></th>\n",
       "      <th></th>\n",
       "      <th></th>\n",
       "      <th></th>\n",
       "      <th></th>\n",
       "    </tr>\n",
       "  </thead>\n",
       "  <tbody>\n",
       "    <tr>\n",
       "      <th>1</th>\n",
       "      <td>5.1</td>\n",
       "      <td>3.5</td>\n",
       "      <td>1.4</td>\n",
       "      <td>0.2</td>\n",
       "      <td>Iris-setosa</td>\n",
       "    </tr>\n",
       "    <tr>\n",
       "      <th>2</th>\n",
       "      <td>4.9</td>\n",
       "      <td>3.0</td>\n",
       "      <td>1.4</td>\n",
       "      <td>0.2</td>\n",
       "      <td>Iris-setosa</td>\n",
       "    </tr>\n",
       "    <tr>\n",
       "      <th>3</th>\n",
       "      <td>4.7</td>\n",
       "      <td>3.2</td>\n",
       "      <td>1.3</td>\n",
       "      <td>0.2</td>\n",
       "      <td>Iris-setosa</td>\n",
       "    </tr>\n",
       "    <tr>\n",
       "      <th>4</th>\n",
       "      <td>4.6</td>\n",
       "      <td>3.1</td>\n",
       "      <td>1.5</td>\n",
       "      <td>0.2</td>\n",
       "      <td>Iris-setosa</td>\n",
       "    </tr>\n",
       "    <tr>\n",
       "      <th>5</th>\n",
       "      <td>5.0</td>\n",
       "      <td>3.6</td>\n",
       "      <td>1.4</td>\n",
       "      <td>0.2</td>\n",
       "      <td>Iris-setosa</td>\n",
       "    </tr>\n",
       "    <tr>\n",
       "      <th>6</th>\n",
       "      <td>5.4</td>\n",
       "      <td>3.9</td>\n",
       "      <td>1.7</td>\n",
       "      <td>0.4</td>\n",
       "      <td>Iris-setosa</td>\n",
       "    </tr>\n",
       "    <tr>\n",
       "      <th>7</th>\n",
       "      <td>4.6</td>\n",
       "      <td>3.4</td>\n",
       "      <td>1.4</td>\n",
       "      <td>0.3</td>\n",
       "      <td>Iris-setosa</td>\n",
       "    </tr>\n",
       "    <tr>\n",
       "      <th>8</th>\n",
       "      <td>5.0</td>\n",
       "      <td>3.4</td>\n",
       "      <td>1.5</td>\n",
       "      <td>0.2</td>\n",
       "      <td>Iris-setosa</td>\n",
       "    </tr>\n",
       "    <tr>\n",
       "      <th>9</th>\n",
       "      <td>4.4</td>\n",
       "      <td>2.9</td>\n",
       "      <td>1.4</td>\n",
       "      <td>0.2</td>\n",
       "      <td>Iris-setosa</td>\n",
       "    </tr>\n",
       "    <tr>\n",
       "      <th>10</th>\n",
       "      <td>4.9</td>\n",
       "      <td>3.1</td>\n",
       "      <td>1.5</td>\n",
       "      <td>0.1</td>\n",
       "      <td>Iris-setosa</td>\n",
       "    </tr>\n",
       "  </tbody>\n",
       "</table>\n",
       "</div>"
      ],
      "text/plain": [
       "    SepalLengthCm  SepalWidthCm  PetalLengthCm  PetalWidthCm      Species\n",
       "Id                                                                       \n",
       "1             5.1           3.5            1.4           0.2  Iris-setosa\n",
       "2             4.9           3.0            1.4           0.2  Iris-setosa\n",
       "3             4.7           3.2            1.3           0.2  Iris-setosa\n",
       "4             4.6           3.1            1.5           0.2  Iris-setosa\n",
       "5             5.0           3.6            1.4           0.2  Iris-setosa\n",
       "6             5.4           3.9            1.7           0.4  Iris-setosa\n",
       "7             4.6           3.4            1.4           0.3  Iris-setosa\n",
       "8             5.0           3.4            1.5           0.2  Iris-setosa\n",
       "9             4.4           2.9            1.4           0.2  Iris-setosa\n",
       "10            4.9           3.1            1.5           0.1  Iris-setosa"
      ]
     },
     "execution_count": 2,
     "metadata": {},
     "output_type": "execute_result"
    }
   ],
   "source": [
    "# - loading the dataset\n",
    "# - Kaggle: https://www.kaggle.com/datasets/uciml/iris\n",
    "# - place it in your _data/ directory\n",
    "iris_data = pd.read_csv(os.path.join(data_dir, 'Iris.csv'), index_col='Id')\n",
    "iris_data.head(10)"
   ]
  },
  {
   "cell_type": "code",
   "execution_count": 3,
   "id": "fd4df55e",
   "metadata": {},
   "outputs": [
    {
     "data": {
      "text/plain": [
       "Iris-setosa        50\n",
       "Iris-versicolor    50\n",
       "Iris-virginica     50\n",
       "Name: Species, dtype: int64"
      ]
     },
     "execution_count": 3,
     "metadata": {},
     "output_type": "execute_result"
    }
   ],
   "source": [
    "# - counting the instances of each category\n",
    "iris_data['Species'].value_counts()"
   ]
  },
  {
   "cell_type": "code",
   "execution_count": 4,
   "id": "046f9d8f",
   "metadata": {},
   "outputs": [
    {
     "name": "stdout",
     "output_type": "stream",
     "text": [
      "<class 'pandas.core.frame.DataFrame'>\n",
      "Int64Index: 150 entries, 1 to 150\n",
      "Data columns (total 5 columns):\n",
      " #   Column         Non-Null Count  Dtype  \n",
      "---  ------         --------------  -----  \n",
      " 0   SepalLengthCm  150 non-null    float64\n",
      " 1   SepalWidthCm   150 non-null    float64\n",
      " 2   PetalLengthCm  150 non-null    float64\n",
      " 3   PetalWidthCm   150 non-null    float64\n",
      " 4   Species        150 non-null    object \n",
      "dtypes: float64(4), object(1)\n",
      "memory usage: 7.0+ KB\n"
     ]
    }
   ],
   "source": [
    "# - info on the variables\n",
    "iris_data.info()"
   ]
  },
  {
   "cell_type": "markdown",
   "id": "5ee2110e",
   "metadata": {},
   "source": [
    "### Target: predict species from all continuous predictors"
   ]
  },
  {
   "cell_type": "markdown",
   "id": "106d40dd",
   "metadata": {},
   "source": [
    "We use Multinomial Logistic Regression Model to predict the most probable category for the given observation $\\textbf{x}$ with features $(x_1, x_2, \\ldots, x_k)$. Assume that our target variable $y$ belongs to one of categories from the set $\\{1, 2, \\ldots, C\\}$. In MNR we usually select one category as the referrence category; let that be the category $C$. Then, the probability that the target variable $y$ belongs to category $c = 1,\\ldots,C-1$ is calculated via\n",
    "\n",
    "$$P(y = c) = \\frac{e^{\\beta^{(c)}_1x_1 + \\beta^{(c)}_2x_2 + \\cdots + \\beta^{(c)}_kx_k + \\beta_0}}{1+\\sum_{j=1}^{C-1}e^{\\beta^{(j)}_1x_1 + \\beta^{(j)}_2x_2 + \\cdots + \\beta^{(j)}_kx_k + \\beta_0}},$$\n",
    "\n",
    "and the probability that it belogns to the referrence category $C$ is \n",
    "\n",
    "$$P(y = C) = \\frac{1}{1+\\sum_{j=1}^{C-1}e^{\\beta^{(j)}_1x_1 + \\beta^{(j)}_2x_2 + \\cdots + \\beta^{(j)}_kx_k + \\beta_0}},$$\n",
    "\n",
    "where $\\beta^{(j)}_1, \\beta^{(j)}_2, \\ldots, \\beta^{(j)}_k,\\ j=1,\\ldots,C$ are the model's parameters for predictors and target variable categories, and $n$ is the intercept of the model.\n",
    "\n",
    "After calculating all the probabilities $P(y = c),\\ c=1,\\ldots,C$ we predict the target variable as\n",
    "\n",
    "$$\\hat{y} = \\textrm{argmax}_{c=1,\\ldots,C}P(y=c).$$\n",
    "\n",
    "The model is estimated by MLE (Maximum Likelihood Estimation). For each category $c$ - except for the referrence $C$, of course - we obtain a set of coefficients. Each model coefficient, in each category, tells us about the $\\Delta_{odds}$ in favor of the target category, for a unit change of a predictor, in comparison with the baseline category, and given that everything else is kept constant."
   ]
  },
  {
   "cell_type": "code",
   "execution_count": 5,
   "id": "a0817223",
   "metadata": {},
   "outputs": [
    {
     "name": "stdout",
     "output_type": "stream",
     "text": [
      "    const  SepalLengthCm  SepalWidthCm  PetalLengthCm  PetalWidthCm\n",
      "Id                                                                 \n",
      "1     1.0            5.1           3.5            1.4           0.2\n",
      "2     1.0            4.9           3.0            1.4           0.2\n",
      "3     1.0            4.7           3.2            1.3           0.2\n",
      "4     1.0            4.6           3.1            1.5           0.2\n",
      "5     1.0            5.0           3.6            1.4           0.2\n",
      "6     1.0            5.4           3.9            1.7           0.4\n",
      "7     1.0            4.6           3.4            1.4           0.3\n",
      "8     1.0            5.0           3.4            1.5           0.2\n",
      "9     1.0            4.4           2.9            1.4           0.2\n",
      "10    1.0            4.9           3.1            1.5           0.1\n"
     ]
    }
   ],
   "source": [
    "### --- Preparing the variables \n",
    "\n",
    "# - feature matrix\n",
    "X = iris_data.drop(columns='Species')\n",
    "# - we append a constant column of ones to the feature matrix\n",
    "X = sm.add_constant(X)\n",
    "print(X[:10])\n",
    "\n",
    "\n",
    "# - we impose the ordering to the categories of the target vector; the first category is the referrence category\n",
    "cat_type = pd.CategoricalDtype(categories=[\"Iris-versicolor\", \"Iris-virginica\", \"Iris-setosa\"], ordered=True)\n",
    "y = iris_data['Species'].astype(cat_type)"
   ]
  },
  {
   "cell_type": "code",
   "execution_count": 6,
   "id": "e050fba8",
   "metadata": {},
   "outputs": [
    {
     "name": "stdout",
     "output_type": "stream",
     "text": [
      "Optimization terminated successfully.\n",
      "         Current function value: 0.039663\n",
      "         Iterations: 116\n",
      "         Function evaluations: 117\n",
      "         Gradient evaluations: 117\n",
      "         Hessian evaluations: 116\n"
     ]
    },
    {
     "data": {
      "text/html": [
       "<table class=\"simpletable\">\n",
       "<caption>MNLogit Regression Results</caption>\n",
       "<tr>\n",
       "  <th>Dep. Variable:</th>        <td>Species</td>     <th>  No. Observations:  </th>  <td>   150</td>  \n",
       "</tr>\n",
       "<tr>\n",
       "  <th>Model:</th>                <td>MNLogit</td>     <th>  Df Residuals:      </th>  <td>   140</td>  \n",
       "</tr>\n",
       "<tr>\n",
       "  <th>Method:</th>                 <td>MLE</td>       <th>  Df Model:          </th>  <td>     8</td>  \n",
       "</tr>\n",
       "<tr>\n",
       "  <th>Date:</th>            <td>Wed, 03 May 2023</td> <th>  Pseudo R-squ.:     </th>  <td>0.9639</td>  \n",
       "</tr>\n",
       "<tr>\n",
       "  <th>Time:</th>                <td>15:18:24</td>     <th>  Log-Likelihood:    </th> <td> -5.9494</td> \n",
       "</tr>\n",
       "<tr>\n",
       "  <th>converged:</th>             <td>True</td>       <th>  LL-Null:           </th> <td> -164.79</td> \n",
       "</tr>\n",
       "<tr>\n",
       "  <th>Covariance Type:</th>     <td>nonrobust</td>    <th>  LLR p-value:       </th> <td>7.056e-64</td>\n",
       "</tr>\n",
       "</table>\n",
       "<table class=\"simpletable\">\n",
       "<tr>\n",
       "  <th>Species=Iris-virginica</th>    <th>coef</th>     <th>std err</th>      <th>z</th>      <th>P>|z|</th>  <th>[0.025</th>    <th>0.975]</th>  \n",
       "</tr>\n",
       "<tr>\n",
       "  <th>const</th>                  <td>  -42.6378</td> <td>   25.707</td> <td>   -1.659</td> <td> 0.097</td> <td>  -93.023</td> <td>    7.748</td>\n",
       "</tr>\n",
       "<tr>\n",
       "  <th>SepalLengthCm</th>          <td>   -2.4650</td> <td>    2.394</td> <td>   -1.030</td> <td> 0.303</td> <td>   -7.158</td> <td>    2.228</td>\n",
       "</tr>\n",
       "<tr>\n",
       "  <th>SepalWidthCm</th>           <td>   -6.6814</td> <td>    4.480</td> <td>   -1.491</td> <td> 0.136</td> <td>  -15.461</td> <td>    2.099</td>\n",
       "</tr>\n",
       "<tr>\n",
       "  <th>PetalLengthCm</th>          <td>    9.4294</td> <td>    4.737</td> <td>    1.990</td> <td> 0.047</td> <td>    0.145</td> <td>   18.714</td>\n",
       "</tr>\n",
       "<tr>\n",
       "  <th>PetalWidthCm</th>           <td>   18.2859</td> <td>    9.743</td> <td>    1.877</td> <td> 0.061</td> <td>   -0.809</td> <td>   37.381</td>\n",
       "</tr>\n",
       "<tr>\n",
       "  <th>Species=Iris-setosa</th>    <th>coef</th>     <th>std err</th>      <th>z</th>      <th>P>|z|</th>  <th>[0.025</th>    <th>0.975]</th>  \n",
       "</tr>\n",
       "<tr>\n",
       "  <th>const</th>               <td>    1.2464</td> <td> 2814.348</td> <td>    0.000</td> <td> 1.000</td> <td>-5514.774</td> <td> 5517.267</td>\n",
       "</tr>\n",
       "<tr>\n",
       "  <th>SepalLengthCm</th>       <td>    2.1570</td> <td>  796.124</td> <td>    0.003</td> <td> 0.998</td> <td>-1558.216</td> <td> 1562.531</td>\n",
       "</tr>\n",
       "<tr>\n",
       "  <th>SepalWidthCm</th>        <td>    6.3632</td> <td>  392.430</td> <td>    0.016</td> <td> 0.987</td> <td> -762.785</td> <td>  775.511</td>\n",
       "</tr>\n",
       "<tr>\n",
       "  <th>PetalLengthCm</th>       <td>  -10.6666</td> <td>  514.181</td> <td>   -0.021</td> <td> 0.983</td> <td>-1018.443</td> <td>  997.110</td>\n",
       "</tr>\n",
       "<tr>\n",
       "  <th>PetalWidthCm</th>        <td>   -5.4860</td> <td>  974.930</td> <td>   -0.006</td> <td> 0.996</td> <td>-1916.313</td> <td> 1905.341</td>\n",
       "</tr>\n",
       "</table>"
      ],
      "text/plain": [
       "<class 'statsmodels.iolib.summary.Summary'>\n",
       "\"\"\"\n",
       "                          MNLogit Regression Results                          \n",
       "==============================================================================\n",
       "Dep. Variable:                Species   No. Observations:                  150\n",
       "Model:                        MNLogit   Df Residuals:                      140\n",
       "Method:                           MLE   Df Model:                            8\n",
       "Date:                Wed, 03 May 2023   Pseudo R-squ.:                  0.9639\n",
       "Time:                        15:18:24   Log-Likelihood:                -5.9494\n",
       "converged:                       True   LL-Null:                       -164.79\n",
       "Covariance Type:            nonrobust   LLR p-value:                 7.056e-64\n",
       "=======================================================================================\n",
       "Species=Iris-virginica       coef    std err          z      P>|z|      [0.025      0.975]\n",
       "------------------------------------------------------------------------------------------\n",
       "const                    -42.6378     25.707     -1.659      0.097     -93.023       7.748\n",
       "SepalLengthCm             -2.4650      2.394     -1.030      0.303      -7.158       2.228\n",
       "SepalWidthCm              -6.6814      4.480     -1.491      0.136     -15.461       2.099\n",
       "PetalLengthCm              9.4294      4.737      1.990      0.047       0.145      18.714\n",
       "PetalWidthCm              18.2859      9.743      1.877      0.061      -0.809      37.381\n",
       "------------------------------------------------------------------------------------------\n",
       "Species=Iris-setosa       coef    std err          z      P>|z|      [0.025      0.975]\n",
       "---------------------------------------------------------------------------------------\n",
       "const                   1.2464   2814.348      0.000      1.000   -5514.774    5517.267\n",
       "SepalLengthCm           2.1570    796.124      0.003      0.998   -1558.216    1562.531\n",
       "SepalWidthCm            6.3632    392.430      0.016      0.987    -762.785     775.511\n",
       "PetalLengthCm         -10.6666    514.181     -0.021      0.983   -1018.443     997.110\n",
       "PetalWidthCm           -5.4860    974.930     -0.006      0.996   -1916.313    1905.341\n",
       "=======================================================================================\n",
       "\"\"\""
      ]
     },
     "execution_count": 6,
     "metadata": {},
     "output_type": "execute_result"
    }
   ],
   "source": [
    "# - fitting the MNR model to the data; we use the Newton's Conjugate Gradient method as the optimizer to compute the\n",
    "# - models coefficients\n",
    "mnr_model = sm.MNLogit(exog=X, endog=y).fit(method='ncg', maxiter=150)\n",
    "mnr_model.summary()"
   ]
  },
  {
   "cell_type": "code",
   "execution_count": 7,
   "id": "96985430",
   "metadata": {},
   "outputs": [
    {
     "data": {
      "text/plain": [
       "array([[49.,  1.,  0.],\n",
       "       [ 1., 49.,  0.],\n",
       "       [ 0.,  0., 50.]])"
      ]
     },
     "execution_count": 7,
     "metadata": {},
     "output_type": "execute_result"
    }
   ],
   "source": [
    "# - confusion matrix for our model and given data; rows/columns are on par with the ordering of categorical variable\n",
    "mnr_model.pred_table()"
   ]
  },
  {
   "cell_type": "code",
   "execution_count": 8,
   "id": "0738a08d",
   "metadata": {},
   "outputs": [
    {
     "name": "stdout",
     "output_type": "stream",
     "text": [
      "Correct observations: 148.0\n",
      "Total observations: 150.0\n",
      "The accuracy of our model: 0.9867\n"
     ]
    }
   ],
   "source": [
    "# - accuracy of the model\n",
    "correct_classes = np.trace(mnr_model.pred_table())\n",
    "print(f'Correct observations: {correct_classes}')\n",
    "num_obs = np.sum(mnr_model.pred_table())\n",
    "print(f'Total observations: {num_obs}')\n",
    "print(f'The accuracy of our model: {round(correct_classes/num_obs, 4)}')"
   ]
  },
  {
   "cell_type": "code",
   "execution_count": 9,
   "id": "321639e5",
   "metadata": {},
   "outputs": [
    {
     "data": {
      "text/plain": [
       "array([[9.34872753e-09, 1.44324732e-35, 9.99999991e-01],\n",
       "       [3.46621493e-07, 2.47392957e-32, 9.99999653e-01],\n",
       "       [5.14366413e-08, 6.15260257e-34, 9.99999949e-01],\n",
       "       [1.01809267e-06, 2.00366351e-31, 9.99998982e-01],\n",
       "       [6.13878953e-09, 6.21664320e-36, 9.99999994e-01],\n",
       "       [2.82201171e-08, 9.42229344e-34, 9.99999972e-01],\n",
       "       [8.98984023e-08, 5.77985326e-33, 9.99999910e-01],\n",
       "       [6.36830880e-08, 6.30010984e-34, 9.99999936e-01],\n",
       "       [1.92574911e-06, 9.19522343e-31, 9.99998074e-01],\n",
       "       [3.07960805e-07, 4.64760530e-33, 9.99999692e-01]])"
      ]
     },
     "execution_count": 9,
     "metadata": {},
     "output_type": "execute_result"
    }
   ],
   "source": [
    "# - model's prediction of probabilities; columns correspond to the ordering of categorical variable\n",
    "mnr_model.predict()[:10]"
   ]
  },
  {
   "cell_type": "code",
   "execution_count": 10,
   "id": "8811e0b3",
   "metadata": {},
   "outputs": [
    {
     "data": {
      "text/plain": [
       "array([2, 2, 2, 2, 2, 2, 2, 2, 2, 2, 2, 2, 2, 2, 2, 2, 2, 2, 2, 2, 2, 2,\n",
       "       2, 2, 2, 2, 2, 2, 2, 2, 2, 2, 2, 2, 2, 2, 2, 2, 2, 2, 2, 2, 2, 2,\n",
       "       2, 2, 2, 2, 2, 2, 0, 0, 0, 0, 0, 0, 0, 0, 0, 0, 0, 0, 0, 0, 0, 0,\n",
       "       0, 0, 0, 0, 0, 0, 0, 0, 0, 0, 0, 0, 0, 0, 0, 0, 0, 1, 0, 0, 0, 0,\n",
       "       0, 0, 0, 0, 0, 0, 0, 0, 0, 0, 0, 0, 1, 1, 1, 1, 1, 1, 1, 1, 1, 1,\n",
       "       1, 1, 1, 1, 1, 1, 1, 1, 1, 1, 1, 1, 1, 1, 1, 1, 1, 1, 1, 1, 1, 1,\n",
       "       1, 0, 1, 1, 1, 1, 1, 1, 1, 1, 1, 1, 1, 1, 1, 1, 1, 1], dtype=int64)"
      ]
     },
     "execution_count": 10,
     "metadata": {},
     "output_type": "execute_result"
    }
   ],
   "source": [
    "# - model's prediction of categories; numbers correspond to the ordering of categorical variable\n",
    "preds = np.argmax(mnr_model.predict(), axis=-1)\n",
    "preds"
   ]
  },
  {
   "cell_type": "markdown",
   "id": "f540f640",
   "metadata": {},
   "source": [
    "### Multicolinearity in Multinomial Regression"
   ]
  },
  {
   "cell_type": "code",
   "execution_count": 11,
   "id": "3db36c7e",
   "metadata": {},
   "outputs": [
    {
     "data": {
      "text/plain": [
       "Id\n",
       "1      2\n",
       "2      2\n",
       "3      2\n",
       "4      2\n",
       "5      2\n",
       "      ..\n",
       "146    1\n",
       "147    1\n",
       "148    1\n",
       "149    1\n",
       "150    1\n",
       "Length: 150, dtype: int8"
      ]
     },
     "execution_count": 11,
     "metadata": {},
     "output_type": "execute_result"
    }
   ],
   "source": [
    "# - Step 1: recode categorical target variable to integer values, \n",
    "# - just in order to be able to run a multiple linear regression on the data:\n",
    "y_code = y.cat.codes\n",
    "y_code"
   ]
  },
  {
   "cell_type": "code",
   "execution_count": 12,
   "id": "8b4de329",
   "metadata": {},
   "outputs": [
    {
     "data": {
      "text/html": [
       "<table class=\"simpletable\">\n",
       "<caption>OLS Regression Results</caption>\n",
       "<tr>\n",
       "  <th>Dep. Variable:</th>            <td>y</td>        <th>  R-squared:         </th> <td>   0.571</td>\n",
       "</tr>\n",
       "<tr>\n",
       "  <th>Model:</th>                   <td>OLS</td>       <th>  Adj. R-squared:    </th> <td>   0.559</td>\n",
       "</tr>\n",
       "<tr>\n",
       "  <th>Method:</th>             <td>Least Squares</td>  <th>  F-statistic:       </th> <td>   48.17</td>\n",
       "</tr>\n",
       "<tr>\n",
       "  <th>Date:</th>             <td>Wed, 03 May 2023</td> <th>  Prob (F-statistic):</th> <td>1.02e-25</td>\n",
       "</tr>\n",
       "<tr>\n",
       "  <th>Time:</th>                 <td>15:18:26</td>     <th>  Log-Likelihood:    </th> <td> -119.03</td>\n",
       "</tr>\n",
       "<tr>\n",
       "  <th>No. Observations:</th>      <td>   150</td>      <th>  AIC:               </th> <td>   248.1</td>\n",
       "</tr>\n",
       "<tr>\n",
       "  <th>Df Residuals:</th>          <td>   145</td>      <th>  BIC:               </th> <td>   263.1</td>\n",
       "</tr>\n",
       "<tr>\n",
       "  <th>Df Model:</th>              <td>     4</td>      <th>                     </th>     <td> </td>   \n",
       "</tr>\n",
       "<tr>\n",
       "  <th>Covariance Type:</th>      <td>nonrobust</td>    <th>                     </th>     <td> </td>   \n",
       "</tr>\n",
       "</table>\n",
       "<table class=\"simpletable\">\n",
       "<tr>\n",
       "        <td></td>           <th>coef</th>     <th>std err</th>      <th>t</th>      <th>P>|t|</th>  <th>[0.025</th>    <th>0.975]</th>  \n",
       "</tr>\n",
       "<tr>\n",
       "  <th>const</th>         <td>   -0.4405</td> <td>    0.509</td> <td>   -0.866</td> <td> 0.388</td> <td>   -1.446</td> <td>    0.565</td>\n",
       "</tr>\n",
       "<tr>\n",
       "  <th>SepalLengthCm</th> <td>    0.0872</td> <td>    0.143</td> <td>    0.608</td> <td> 0.544</td> <td>   -0.196</td> <td>    0.371</td>\n",
       "</tr>\n",
       "<tr>\n",
       "  <th>SepalWidthCm</th>  <td>    0.6832</td> <td>    0.149</td> <td>    4.586</td> <td> 0.000</td> <td>    0.389</td> <td>    0.978</td>\n",
       "</tr>\n",
       "<tr>\n",
       "  <th>PetalLengthCm</th> <td>   -0.4413</td> <td>    0.142</td> <td>   -3.117</td> <td> 0.002</td> <td>   -0.721</td> <td>   -0.161</td>\n",
       "</tr>\n",
       "<tr>\n",
       "  <th>PetalWidthCm</th>  <td>    0.4198</td> <td>    0.235</td> <td>    1.789</td> <td> 0.076</td> <td>   -0.044</td> <td>    0.884</td>\n",
       "</tr>\n",
       "</table>\n",
       "<table class=\"simpletable\">\n",
       "<tr>\n",
       "  <th>Omnibus:</th>       <td>28.857</td> <th>  Durbin-Watson:     </th> <td>   0.448</td>\n",
       "</tr>\n",
       "<tr>\n",
       "  <th>Prob(Omnibus):</th> <td> 0.000</td> <th>  Jarque-Bera (JB):  </th> <td>   7.904</td>\n",
       "</tr>\n",
       "<tr>\n",
       "  <th>Skew:</th>          <td>-0.222</td> <th>  Prob(JB):          </th> <td>  0.0192</td>\n",
       "</tr>\n",
       "<tr>\n",
       "  <th>Kurtosis:</th>      <td> 1.966</td> <th>  Cond. No.          </th> <td>    91.8</td>\n",
       "</tr>\n",
       "</table><br/><br/>Notes:<br/>[1] Standard Errors assume that the covariance matrix of the errors is correctly specified."
      ],
      "text/plain": [
       "<class 'statsmodels.iolib.summary.Summary'>\n",
       "\"\"\"\n",
       "                            OLS Regression Results                            \n",
       "==============================================================================\n",
       "Dep. Variable:                      y   R-squared:                       0.571\n",
       "Model:                            OLS   Adj. R-squared:                  0.559\n",
       "Method:                 Least Squares   F-statistic:                     48.17\n",
       "Date:                Wed, 03 May 2023   Prob (F-statistic):           1.02e-25\n",
       "Time:                        15:18:26   Log-Likelihood:                -119.03\n",
       "No. Observations:                 150   AIC:                             248.1\n",
       "Df Residuals:                     145   BIC:                             263.1\n",
       "Df Model:                           4                                         \n",
       "Covariance Type:            nonrobust                                         \n",
       "=================================================================================\n",
       "                    coef    std err          t      P>|t|      [0.025      0.975]\n",
       "---------------------------------------------------------------------------------\n",
       "const            -0.4405      0.509     -0.866      0.388      -1.446       0.565\n",
       "SepalLengthCm     0.0872      0.143      0.608      0.544      -0.196       0.371\n",
       "SepalWidthCm      0.6832      0.149      4.586      0.000       0.389       0.978\n",
       "PetalLengthCm    -0.4413      0.142     -3.117      0.002      -0.721      -0.161\n",
       "PetalWidthCm      0.4198      0.235      1.789      0.076      -0.044       0.884\n",
       "==============================================================================\n",
       "Omnibus:                       28.857   Durbin-Watson:                   0.448\n",
       "Prob(Omnibus):                  0.000   Jarque-Bera (JB):                7.904\n",
       "Skew:                          -0.222   Prob(JB):                       0.0192\n",
       "Kurtosis:                       1.966   Cond. No.                         91.8\n",
       "==============================================================================\n",
       "\n",
       "Notes:\n",
       "[1] Standard Errors assume that the covariance matrix of the errors is correctly specified.\n",
       "\"\"\""
      ]
     },
     "execution_count": 12,
     "metadata": {},
     "output_type": "execute_result"
    }
   ],
   "source": [
    "### --- Step 2: produce a Multiple Linear Regression model for the data \n",
    "mnr_model = sm.OLS(exog=X, endog=y_code).fit()\n",
    "mnr_model.summary()"
   ]
  },
  {
   "cell_type": "code",
   "execution_count": 13,
   "id": "cc299782",
   "metadata": {},
   "outputs": [
    {
     "data": {
      "text/plain": [
       "Index(['SepalLengthCm', 'SepalWidthCm', 'PetalLengthCm', 'PetalWidthCm'], dtype='object')"
      ]
     },
     "execution_count": 13,
     "metadata": {},
     "output_type": "execute_result"
    }
   ],
   "source": [
    "# --- Step 3: compute VIFs for the predictors\n",
    "predictors = iris_data.columns.drop('Species')\n",
    "predictors"
   ]
  },
  {
   "cell_type": "code",
   "execution_count": 14,
   "id": "3bd77834",
   "metadata": {},
   "outputs": [],
   "source": [
    "# - appending the columns of ones to the predictors' data\n",
    "model_frame_predictors = sm.add_constant(iris_data[predictors])"
   ]
  },
  {
   "cell_type": "code",
   "execution_count": 15,
   "id": "69def740",
   "metadata": {},
   "outputs": [
    {
     "data": {
      "text/html": [
       "<div>\n",
       "<style scoped>\n",
       "    .dataframe tbody tr th:only-of-type {\n",
       "        vertical-align: middle;\n",
       "    }\n",
       "\n",
       "    .dataframe tbody tr th {\n",
       "        vertical-align: top;\n",
       "    }\n",
       "\n",
       "    .dataframe thead th {\n",
       "        text-align: right;\n",
       "    }\n",
       "</style>\n",
       "<table border=\"1\" class=\"dataframe\">\n",
       "  <thead>\n",
       "    <tr style=\"text-align: right;\">\n",
       "      <th></th>\n",
       "      <th>SepalLengthCm</th>\n",
       "      <th>SepalWidthCm</th>\n",
       "      <th>PetalLengthCm</th>\n",
       "      <th>PetalWidthCm</th>\n",
       "    </tr>\n",
       "  </thead>\n",
       "  <tbody>\n",
       "    <tr>\n",
       "      <th>0</th>\n",
       "      <td>7.103113</td>\n",
       "      <td>2.099039</td>\n",
       "      <td>31.397292</td>\n",
       "      <td>16.141564</td>\n",
       "    </tr>\n",
       "  </tbody>\n",
       "</table>\n",
       "</div>"
      ],
      "text/plain": [
       "   SepalLengthCm  SepalWidthCm  PetalLengthCm  PetalWidthCm\n",
       "0       7.103113      2.099039      31.397292     16.141564"
      ]
     },
     "execution_count": 15,
     "metadata": {},
     "output_type": "execute_result"
    }
   ],
   "source": [
    "# - computing VIFs\n",
    "vifs = [variance_inflation_factor(model_frame_predictors.values, i) for i in range(1, len(predictors)+1)]\n",
    "vifs = np.array(vifs).reshape(1, -1)\n",
    "pd.DataFrame(vifs, columns=predictors)"
   ]
  },
  {
   "cell_type": "markdown",
   "id": "8866cb56",
   "metadata": {},
   "source": [
    "### Multinomial Logistic Regression using scikit-learn"
   ]
  },
  {
   "cell_type": "code",
   "execution_count": 16,
   "id": "02d2e405",
   "metadata": {},
   "outputs": [],
   "source": [
    "# - import scikit-learn\n",
    "from sklearn.linear_model import LogisticRegression\n",
    "from sklearn.metrics import confusion_matrix"
   ]
  },
  {
   "cell_type": "code",
   "execution_count": 17,
   "id": "cf46aba5",
   "metadata": {},
   "outputs": [],
   "source": [
    "# - Preparing the variables \n",
    "\n",
    "# - feature matrix\n",
    "X = iris_data.drop(columns='Species').values\n",
    "\n",
    "# - target variable\n",
    "y = iris_data['Species']"
   ]
  },
  {
   "cell_type": "markdown",
   "id": "b30d265a",
   "metadata": {},
   "source": [
    "**N.B.** scikit-learn does not implement the referrence category automatically! "
   ]
  },
  {
   "cell_type": "code",
   "execution_count": 18,
   "id": "cf8326b8",
   "metadata": {},
   "outputs": [
    {
     "data": {
      "text/html": [
       "<style>#sk-container-id-1 {color: black;background-color: white;}#sk-container-id-1 pre{padding: 0;}#sk-container-id-1 div.sk-toggleable {background-color: white;}#sk-container-id-1 label.sk-toggleable__label {cursor: pointer;display: block;width: 100%;margin-bottom: 0;padding: 0.3em;box-sizing: border-box;text-align: center;}#sk-container-id-1 label.sk-toggleable__label-arrow:before {content: \"▸\";float: left;margin-right: 0.25em;color: #696969;}#sk-container-id-1 label.sk-toggleable__label-arrow:hover:before {color: black;}#sk-container-id-1 div.sk-estimator:hover label.sk-toggleable__label-arrow:before {color: black;}#sk-container-id-1 div.sk-toggleable__content {max-height: 0;max-width: 0;overflow: hidden;text-align: left;background-color: #f0f8ff;}#sk-container-id-1 div.sk-toggleable__content pre {margin: 0.2em;color: black;border-radius: 0.25em;background-color: #f0f8ff;}#sk-container-id-1 input.sk-toggleable__control:checked~div.sk-toggleable__content {max-height: 200px;max-width: 100%;overflow: auto;}#sk-container-id-1 input.sk-toggleable__control:checked~label.sk-toggleable__label-arrow:before {content: \"▾\";}#sk-container-id-1 div.sk-estimator input.sk-toggleable__control:checked~label.sk-toggleable__label {background-color: #d4ebff;}#sk-container-id-1 div.sk-label input.sk-toggleable__control:checked~label.sk-toggleable__label {background-color: #d4ebff;}#sk-container-id-1 input.sk-hidden--visually {border: 0;clip: rect(1px 1px 1px 1px);clip: rect(1px, 1px, 1px, 1px);height: 1px;margin: -1px;overflow: hidden;padding: 0;position: absolute;width: 1px;}#sk-container-id-1 div.sk-estimator {font-family: monospace;background-color: #f0f8ff;border: 1px dotted black;border-radius: 0.25em;box-sizing: border-box;margin-bottom: 0.5em;}#sk-container-id-1 div.sk-estimator:hover {background-color: #d4ebff;}#sk-container-id-1 div.sk-parallel-item::after {content: \"\";width: 100%;border-bottom: 1px solid gray;flex-grow: 1;}#sk-container-id-1 div.sk-label:hover label.sk-toggleable__label {background-color: #d4ebff;}#sk-container-id-1 div.sk-serial::before {content: \"\";position: absolute;border-left: 1px solid gray;box-sizing: border-box;top: 0;bottom: 0;left: 50%;z-index: 0;}#sk-container-id-1 div.sk-serial {display: flex;flex-direction: column;align-items: center;background-color: white;padding-right: 0.2em;padding-left: 0.2em;position: relative;}#sk-container-id-1 div.sk-item {position: relative;z-index: 1;}#sk-container-id-1 div.sk-parallel {display: flex;align-items: stretch;justify-content: center;background-color: white;position: relative;}#sk-container-id-1 div.sk-item::before, #sk-container-id-1 div.sk-parallel-item::before {content: \"\";position: absolute;border-left: 1px solid gray;box-sizing: border-box;top: 0;bottom: 0;left: 50%;z-index: -1;}#sk-container-id-1 div.sk-parallel-item {display: flex;flex-direction: column;z-index: 1;position: relative;background-color: white;}#sk-container-id-1 div.sk-parallel-item:first-child::after {align-self: flex-end;width: 50%;}#sk-container-id-1 div.sk-parallel-item:last-child::after {align-self: flex-start;width: 50%;}#sk-container-id-1 div.sk-parallel-item:only-child::after {width: 0;}#sk-container-id-1 div.sk-dashed-wrapped {border: 1px dashed gray;margin: 0 0.4em 0.5em 0.4em;box-sizing: border-box;padding-bottom: 0.4em;background-color: white;}#sk-container-id-1 div.sk-label label {font-family: monospace;font-weight: bold;display: inline-block;line-height: 1.2em;}#sk-container-id-1 div.sk-label-container {text-align: center;}#sk-container-id-1 div.sk-container {/* jupyter's `normalize.less` sets `[hidden] { display: none; }` but bootstrap.min.css set `[hidden] { display: none !important; }` so we also need the `!important` here to be able to override the default hidden behavior on the sphinx rendered scikit-learn.org. See: https://github.com/scikit-learn/scikit-learn/issues/21755 */display: inline-block !important;position: relative;}#sk-container-id-1 div.sk-text-repr-fallback {display: none;}</style><div id=\"sk-container-id-1\" class=\"sk-top-container\"><div class=\"sk-text-repr-fallback\"><pre>LogisticRegression(penalty=&#x27;none&#x27;, solver=&#x27;newton-cg&#x27;)</pre><b>In a Jupyter environment, please rerun this cell to show the HTML representation or trust the notebook. <br />On GitHub, the HTML representation is unable to render, please try loading this page with nbviewer.org.</b></div><div class=\"sk-container\" hidden><div class=\"sk-item\"><div class=\"sk-estimator sk-toggleable\"><input class=\"sk-toggleable__control sk-hidden--visually\" id=\"sk-estimator-id-1\" type=\"checkbox\" checked><label for=\"sk-estimator-id-1\" class=\"sk-toggleable__label sk-toggleable__label-arrow\">LogisticRegression</label><div class=\"sk-toggleable__content\"><pre>LogisticRegression(penalty=&#x27;none&#x27;, solver=&#x27;newton-cg&#x27;)</pre></div></div></div></div></div>"
      ],
      "text/plain": [
       "LogisticRegression(penalty='none', solver='newton-cg')"
      ]
     },
     "execution_count": 18,
     "metadata": {},
     "output_type": "execute_result"
    }
   ],
   "source": [
    "# - Fitting the logistic model to the numerical data\n",
    "# - scikit-learn does not implement the referrence category automatically \n",
    "log_reg = LogisticRegression(solver='newton-cg', penalty='none')\n",
    "log_reg.fit(X, y)"
   ]
  },
  {
   "cell_type": "code",
   "execution_count": 19,
   "id": "3f54bca8",
   "metadata": {},
   "outputs": [
    {
     "data": {
      "text/plain": [
       "(array([[  4.88501685,   7.84683378, -12.83914117,  -6.66236914],\n",
       "        [ -1.20989943,  -0.58296936,   1.70486765,  -5.81189786],\n",
       "        [ -3.67511742,  -7.26386442,  11.13427351,  12.47426701]]),\n",
       " array([  2.32878337,  20.15458005, -22.48336342]))"
      ]
     },
     "execution_count": 19,
     "metadata": {},
     "output_type": "execute_result"
    }
   ],
   "source": [
    "# - coefficents of the model; rows correspond to the order of appearance of categories in the target variable\n",
    "log_reg.coef_, log_reg.intercept_"
   ]
  },
  {
   "cell_type": "code",
   "execution_count": 20,
   "id": "b6a7d557",
   "metadata": {},
   "outputs": [
    {
     "data": {
      "text/plain": [
       "0.9867"
      ]
     },
     "execution_count": 20,
     "metadata": {},
     "output_type": "execute_result"
    }
   ],
   "source": [
    "# - model's accuracy\n",
    "round(log_reg.score(X, y), 4)"
   ]
  },
  {
   "cell_type": "code",
   "execution_count": 21,
   "id": "83de5cce",
   "metadata": {},
   "outputs": [
    {
     "data": {
      "text/plain": [
       "array(['Iris-setosa', 'Iris-setosa', 'Iris-setosa', 'Iris-setosa',\n",
       "       'Iris-setosa', 'Iris-setosa', 'Iris-setosa', 'Iris-setosa',\n",
       "       'Iris-setosa', 'Iris-setosa'], dtype=object)"
      ]
     },
     "execution_count": 21,
     "metadata": {},
     "output_type": "execute_result"
    }
   ],
   "source": [
    "# - predictions\n",
    "y_pred = log_reg.predict(X)\n",
    "y_pred[:10]"
   ]
  },
  {
   "cell_type": "code",
   "execution_count": 22,
   "id": "38890955",
   "metadata": {},
   "outputs": [
    {
     "data": {
      "text/plain": [
       "array([[50,  0,  0],\n",
       "       [ 0, 49,  1],\n",
       "       [ 0,  1, 49]], dtype=int64)"
      ]
     },
     "execution_count": 22,
     "metadata": {},
     "output_type": "execute_result"
    }
   ],
   "source": [
    "# - confusion matrix for the given data\n",
    "# - rows/columns rows correspond to the order of appearance of categories in the target variable\n",
    "confusion_matrix(y, y_pred)"
   ]
  },
  {
   "cell_type": "markdown",
   "id": "7b1f3112",
   "metadata": {},
   "source": [
    "## 2. Regularization of Multinomial Regression"
   ]
  },
  {
   "cell_type": "code",
   "execution_count": 23,
   "id": "38ad01e3",
   "metadata": {},
   "outputs": [
    {
     "data": {
      "text/html": [
       "<div>\n",
       "<style scoped>\n",
       "    .dataframe tbody tr th:only-of-type {\n",
       "        vertical-align: middle;\n",
       "    }\n",
       "\n",
       "    .dataframe tbody tr th {\n",
       "        vertical-align: top;\n",
       "    }\n",
       "\n",
       "    .dataframe thead th {\n",
       "        text-align: right;\n",
       "    }\n",
       "</style>\n",
       "<table border=\"1\" class=\"dataframe\">\n",
       "  <thead>\n",
       "    <tr style=\"text-align: right;\">\n",
       "      <th></th>\n",
       "      <th>fixed acidity</th>\n",
       "      <th>volatile acidity</th>\n",
       "      <th>citric acid</th>\n",
       "      <th>residual sugar</th>\n",
       "      <th>chlorides</th>\n",
       "      <th>free sulfur dioxide</th>\n",
       "      <th>total sulfur dioxide</th>\n",
       "      <th>density</th>\n",
       "      <th>pH</th>\n",
       "      <th>sulphates</th>\n",
       "      <th>alcohol</th>\n",
       "      <th>quality</th>\n",
       "    </tr>\n",
       "  </thead>\n",
       "  <tbody>\n",
       "    <tr>\n",
       "      <th>0</th>\n",
       "      <td>7.4</td>\n",
       "      <td>0.70</td>\n",
       "      <td>0.00</td>\n",
       "      <td>1.9</td>\n",
       "      <td>0.076</td>\n",
       "      <td>11.0</td>\n",
       "      <td>34.0</td>\n",
       "      <td>0.9978</td>\n",
       "      <td>3.51</td>\n",
       "      <td>0.56</td>\n",
       "      <td>9.4</td>\n",
       "      <td>5</td>\n",
       "    </tr>\n",
       "    <tr>\n",
       "      <th>1</th>\n",
       "      <td>7.8</td>\n",
       "      <td>0.88</td>\n",
       "      <td>0.00</td>\n",
       "      <td>2.6</td>\n",
       "      <td>0.098</td>\n",
       "      <td>25.0</td>\n",
       "      <td>67.0</td>\n",
       "      <td>0.9968</td>\n",
       "      <td>3.20</td>\n",
       "      <td>0.68</td>\n",
       "      <td>9.8</td>\n",
       "      <td>5</td>\n",
       "    </tr>\n",
       "    <tr>\n",
       "      <th>2</th>\n",
       "      <td>7.8</td>\n",
       "      <td>0.76</td>\n",
       "      <td>0.04</td>\n",
       "      <td>2.3</td>\n",
       "      <td>0.092</td>\n",
       "      <td>15.0</td>\n",
       "      <td>54.0</td>\n",
       "      <td>0.9970</td>\n",
       "      <td>3.26</td>\n",
       "      <td>0.65</td>\n",
       "      <td>9.8</td>\n",
       "      <td>5</td>\n",
       "    </tr>\n",
       "    <tr>\n",
       "      <th>3</th>\n",
       "      <td>11.2</td>\n",
       "      <td>0.28</td>\n",
       "      <td>0.56</td>\n",
       "      <td>1.9</td>\n",
       "      <td>0.075</td>\n",
       "      <td>17.0</td>\n",
       "      <td>60.0</td>\n",
       "      <td>0.9980</td>\n",
       "      <td>3.16</td>\n",
       "      <td>0.58</td>\n",
       "      <td>9.8</td>\n",
       "      <td>6</td>\n",
       "    </tr>\n",
       "    <tr>\n",
       "      <th>4</th>\n",
       "      <td>7.4</td>\n",
       "      <td>0.70</td>\n",
       "      <td>0.00</td>\n",
       "      <td>1.9</td>\n",
       "      <td>0.076</td>\n",
       "      <td>11.0</td>\n",
       "      <td>34.0</td>\n",
       "      <td>0.9978</td>\n",
       "      <td>3.51</td>\n",
       "      <td>0.56</td>\n",
       "      <td>9.4</td>\n",
       "      <td>5</td>\n",
       "    </tr>\n",
       "    <tr>\n",
       "      <th>5</th>\n",
       "      <td>7.4</td>\n",
       "      <td>0.66</td>\n",
       "      <td>0.00</td>\n",
       "      <td>1.8</td>\n",
       "      <td>0.075</td>\n",
       "      <td>13.0</td>\n",
       "      <td>40.0</td>\n",
       "      <td>0.9978</td>\n",
       "      <td>3.51</td>\n",
       "      <td>0.56</td>\n",
       "      <td>9.4</td>\n",
       "      <td>5</td>\n",
       "    </tr>\n",
       "    <tr>\n",
       "      <th>6</th>\n",
       "      <td>7.9</td>\n",
       "      <td>0.60</td>\n",
       "      <td>0.06</td>\n",
       "      <td>1.6</td>\n",
       "      <td>0.069</td>\n",
       "      <td>15.0</td>\n",
       "      <td>59.0</td>\n",
       "      <td>0.9964</td>\n",
       "      <td>3.30</td>\n",
       "      <td>0.46</td>\n",
       "      <td>9.4</td>\n",
       "      <td>5</td>\n",
       "    </tr>\n",
       "    <tr>\n",
       "      <th>7</th>\n",
       "      <td>7.3</td>\n",
       "      <td>0.65</td>\n",
       "      <td>0.00</td>\n",
       "      <td>1.2</td>\n",
       "      <td>0.065</td>\n",
       "      <td>15.0</td>\n",
       "      <td>21.0</td>\n",
       "      <td>0.9946</td>\n",
       "      <td>3.39</td>\n",
       "      <td>0.47</td>\n",
       "      <td>10.0</td>\n",
       "      <td>7</td>\n",
       "    </tr>\n",
       "    <tr>\n",
       "      <th>8</th>\n",
       "      <td>7.8</td>\n",
       "      <td>0.58</td>\n",
       "      <td>0.02</td>\n",
       "      <td>2.0</td>\n",
       "      <td>0.073</td>\n",
       "      <td>9.0</td>\n",
       "      <td>18.0</td>\n",
       "      <td>0.9968</td>\n",
       "      <td>3.36</td>\n",
       "      <td>0.57</td>\n",
       "      <td>9.5</td>\n",
       "      <td>7</td>\n",
       "    </tr>\n",
       "    <tr>\n",
       "      <th>9</th>\n",
       "      <td>7.5</td>\n",
       "      <td>0.50</td>\n",
       "      <td>0.36</td>\n",
       "      <td>6.1</td>\n",
       "      <td>0.071</td>\n",
       "      <td>17.0</td>\n",
       "      <td>102.0</td>\n",
       "      <td>0.9978</td>\n",
       "      <td>3.35</td>\n",
       "      <td>0.80</td>\n",
       "      <td>10.5</td>\n",
       "      <td>5</td>\n",
       "    </tr>\n",
       "  </tbody>\n",
       "</table>\n",
       "</div>"
      ],
      "text/plain": [
       "   fixed acidity  volatile acidity  citric acid  residual sugar  chlorides  \\\n",
       "0            7.4              0.70         0.00             1.9      0.076   \n",
       "1            7.8              0.88         0.00             2.6      0.098   \n",
       "2            7.8              0.76         0.04             2.3      0.092   \n",
       "3           11.2              0.28         0.56             1.9      0.075   \n",
       "4            7.4              0.70         0.00             1.9      0.076   \n",
       "5            7.4              0.66         0.00             1.8      0.075   \n",
       "6            7.9              0.60         0.06             1.6      0.069   \n",
       "7            7.3              0.65         0.00             1.2      0.065   \n",
       "8            7.8              0.58         0.02             2.0      0.073   \n",
       "9            7.5              0.50         0.36             6.1      0.071   \n",
       "\n",
       "   free sulfur dioxide  total sulfur dioxide  density    pH  sulphates  \\\n",
       "0                 11.0                  34.0   0.9978  3.51       0.56   \n",
       "1                 25.0                  67.0   0.9968  3.20       0.68   \n",
       "2                 15.0                  54.0   0.9970  3.26       0.65   \n",
       "3                 17.0                  60.0   0.9980  3.16       0.58   \n",
       "4                 11.0                  34.0   0.9978  3.51       0.56   \n",
       "5                 13.0                  40.0   0.9978  3.51       0.56   \n",
       "6                 15.0                  59.0   0.9964  3.30       0.46   \n",
       "7                 15.0                  21.0   0.9946  3.39       0.47   \n",
       "8                  9.0                  18.0   0.9968  3.36       0.57   \n",
       "9                 17.0                 102.0   0.9978  3.35       0.80   \n",
       "\n",
       "   alcohol  quality  \n",
       "0      9.4        5  \n",
       "1      9.8        5  \n",
       "2      9.8        5  \n",
       "3      9.8        6  \n",
       "4      9.4        5  \n",
       "5      9.4        5  \n",
       "6      9.4        5  \n",
       "7     10.0        7  \n",
       "8      9.5        7  \n",
       "9     10.5        5  "
      ]
     },
     "execution_count": 23,
     "metadata": {},
     "output_type": "execute_result"
    }
   ],
   "source": [
    "# - loading the dataset\n",
    "# - UCI ML: https://archive.ics.uci.edu/ml/machine-learning-databases/wine-quality/) (download winequality-red.csv)\n",
    "# - place it in your _data/ directory\n",
    "wine_data = pd.read_csv(os.path.join(data_dir, 'winequality-red.csv'), sep=';')\n",
    "wine_data.head(10)"
   ]
  },
  {
   "cell_type": "markdown",
   "id": "c80e18aa",
   "metadata": {},
   "source": [
    "### Target: predict wine quality from all the predictors"
   ]
  },
  {
   "cell_type": "code",
   "execution_count": 24,
   "id": "6b5ffd4d",
   "metadata": {},
   "outputs": [
    {
     "name": "stdout",
     "output_type": "stream",
     "text": [
      "<class 'pandas.core.frame.DataFrame'>\n",
      "RangeIndex: 1599 entries, 0 to 1598\n",
      "Data columns (total 12 columns):\n",
      " #   Column                Non-Null Count  Dtype  \n",
      "---  ------                --------------  -----  \n",
      " 0   fixed acidity         1599 non-null   float64\n",
      " 1   volatile acidity      1599 non-null   float64\n",
      " 2   citric acid           1599 non-null   float64\n",
      " 3   residual sugar        1599 non-null   float64\n",
      " 4   chlorides             1599 non-null   float64\n",
      " 5   free sulfur dioxide   1599 non-null   float64\n",
      " 6   total sulfur dioxide  1599 non-null   float64\n",
      " 7   density               1599 non-null   float64\n",
      " 8   pH                    1599 non-null   float64\n",
      " 9   sulphates             1599 non-null   float64\n",
      " 10  alcohol               1599 non-null   float64\n",
      " 11  quality               1599 non-null   int64  \n",
      "dtypes: float64(11), int64(1)\n",
      "memory usage: 150.0 KB\n"
     ]
    }
   ],
   "source": [
    "wine_data.info()"
   ]
  },
  {
   "cell_type": "code",
   "execution_count": 25,
   "id": "6cfe5043",
   "metadata": {},
   "outputs": [
    {
     "data": {
      "text/plain": [
       "Index(['fixed acidity', 'volatile acidity', 'citric acid', 'residual sugar',\n",
       "       'chlorides', 'free sulfur dioxide', 'total sulfur dioxide', 'density',\n",
       "       'pH', 'sulphates', 'alcohol'],\n",
       "      dtype='object')"
      ]
     },
     "execution_count": 25,
     "metadata": {},
     "output_type": "execute_result"
    }
   ],
   "source": [
    "predictors = wine_data.columns.drop('quality')\n",
    "predictors"
   ]
  },
  {
   "cell_type": "code",
   "execution_count": 26,
   "id": "7ba71d1c",
   "metadata": {},
   "outputs": [
    {
     "name": "stdout",
     "output_type": "stream",
     "text": [
      "<class 'pandas.core.series.Series'>\n",
      "RangeIndex: 1599 entries, 0 to 1598\n",
      "Series name: quality\n",
      "Non-Null Count  Dtype   \n",
      "--------------  -----   \n",
      "1599 non-null   category\n",
      "dtypes: category(1)\n",
      "memory usage: 1.9 KB\n"
     ]
    }
   ],
   "source": [
    "# - converting 'quality' variable which is numerical into ordered categorical\n",
    "wine_data['quality'] = wine_data['quality'].astype(pd.CategoricalDtype(ordered=True))\n",
    "wine_data['quality'].info()"
   ]
  },
  {
   "cell_type": "code",
   "execution_count": 27,
   "id": "23631fee",
   "metadata": {},
   "outputs": [
    {
     "data": {
      "text/plain": [
       "0    5\n",
       "1    5\n",
       "2    5\n",
       "3    6\n",
       "4    5\n",
       "Name: quality, dtype: category\n",
       "Categories (6, int64): [3 < 4 < 5 < 6 < 7 < 8]"
      ]
     },
     "execution_count": 27,
     "metadata": {},
     "output_type": "execute_result"
    }
   ],
   "source": [
    "wine_data['quality'].head()"
   ]
  },
  {
   "cell_type": "code",
   "execution_count": 28,
   "id": "e5d028de",
   "metadata": {},
   "outputs": [
    {
     "data": {
      "text/plain": [
       "5    681\n",
       "6    638\n",
       "7    199\n",
       "4     53\n",
       "8     18\n",
       "3     10\n",
       "Name: quality, dtype: int64"
      ]
     },
     "execution_count": 28,
     "metadata": {},
     "output_type": "execute_result"
    }
   ],
   "source": [
    "wine_data['quality'].value_counts()"
   ]
  },
  {
   "cell_type": "code",
   "execution_count": 29,
   "id": "9119d68c",
   "metadata": {},
   "outputs": [],
   "source": [
    "### --- Preparing the variables \n",
    "\n",
    "# - feature matrix\n",
    "X = wine_data.drop(columns='quality')\n",
    "# - we append a constant column of ones to the feature matrix\n",
    "X = sm.add_constant(X)\n",
    "\n",
    "# - target vector\n",
    "y = wine_data['quality']"
   ]
  },
  {
   "cell_type": "code",
   "execution_count": 30,
   "id": "36dae9ec",
   "metadata": {},
   "outputs": [
    {
     "name": "stdout",
     "output_type": "stream",
     "text": [
      "Optimization terminated successfully.\n",
      "         Current function value: 0.913760\n",
      "         Iterations: 46\n",
      "         Function evaluations: 78\n",
      "         Gradient evaluations: 78\n",
      "         Hessian evaluations: 46\n"
     ]
    },
    {
     "data": {
      "text/html": [
       "<table class=\"simpletable\">\n",
       "<caption>MNLogit Regression Results</caption>\n",
       "<tr>\n",
       "  <th>Dep. Variable:</th>        <td>quality</td>     <th>  No. Observations:  </th>   <td>  1599</td>  \n",
       "</tr>\n",
       "<tr>\n",
       "  <th>Model:</th>                <td>MNLogit</td>     <th>  Df Residuals:      </th>   <td>  1539</td>  \n",
       "</tr>\n",
       "<tr>\n",
       "  <th>Method:</th>                 <td>MLE</td>       <th>  Df Model:          </th>   <td>    55</td>  \n",
       "</tr>\n",
       "<tr>\n",
       "  <th>Date:</th>            <td>Wed, 03 May 2023</td> <th>  Pseudo R-squ.:     </th>   <td>0.2287</td>  \n",
       "</tr>\n",
       "<tr>\n",
       "  <th>Time:</th>                <td>15:18:44</td>     <th>  Log-Likelihood:    </th>  <td> -1461.1</td> \n",
       "</tr>\n",
       "<tr>\n",
       "  <th>converged:</th>             <td>True</td>       <th>  LL-Null:           </th>  <td> -1894.2</td> \n",
       "</tr>\n",
       "<tr>\n",
       "  <th>Covariance Type:</th>     <td>nonrobust</td>    <th>  LLR p-value:       </th> <td>2.987e-146</td>\n",
       "</tr>\n",
       "</table>\n",
       "<table class=\"simpletable\">\n",
       "<tr>\n",
       "        <th>quality=4</th>         <th>coef</th>     <th>std err</th>      <th>z</th>      <th>P>|z|</th>  <th>[0.025</th>    <th>0.975]</th>  \n",
       "</tr>\n",
       "<tr>\n",
       "  <th>const</th>                <td>  150.7854</td> <td>  547.752</td> <td>    0.275</td> <td> 0.783</td> <td> -922.789</td> <td> 1224.360</td>\n",
       "</tr>\n",
       "<tr>\n",
       "  <th>fixed acidity</th>        <td>   -0.6119</td> <td>    0.688</td> <td>   -0.889</td> <td> 0.374</td> <td>   -1.961</td> <td>    0.737</td>\n",
       "</tr>\n",
       "<tr>\n",
       "  <th>volatile acidity</th>     <td>   -4.8509</td> <td>    2.448</td> <td>   -1.981</td> <td> 0.048</td> <td>   -9.649</td> <td>   -0.052</td>\n",
       "</tr>\n",
       "<tr>\n",
       "  <th>citric acid</th>          <td>   -2.3627</td> <td>    4.063</td> <td>   -0.581</td> <td> 0.561</td> <td>  -10.326</td> <td>    5.601</td>\n",
       "</tr>\n",
       "<tr>\n",
       "  <th>residual sugar</th>       <td>    0.1666</td> <td>    0.312</td> <td>    0.533</td> <td> 0.594</td> <td>   -0.446</td> <td>    0.779</td>\n",
       "</tr>\n",
       "<tr>\n",
       "  <th>chlorides</th>            <td>  -10.3956</td> <td>    7.560</td> <td>   -1.375</td> <td> 0.169</td> <td>  -25.212</td> <td>    4.421</td>\n",
       "</tr>\n",
       "<tr>\n",
       "  <th>free sulfur dioxide</th>  <td>   -0.1601</td> <td>    0.091</td> <td>   -1.757</td> <td> 0.079</td> <td>   -0.339</td> <td>    0.018</td>\n",
       "</tr>\n",
       "<tr>\n",
       "  <th>total sulfur dioxide</th> <td>    0.0839</td> <td>    0.050</td> <td>    1.678</td> <td> 0.093</td> <td>   -0.014</td> <td>    0.182</td>\n",
       "</tr>\n",
       "<tr>\n",
       "  <th>density</th>              <td> -131.9670</td> <td>  557.829</td> <td>   -0.237</td> <td> 0.813</td> <td>-1225.292</td> <td>  961.358</td>\n",
       "</tr>\n",
       "<tr>\n",
       "  <th>pH</th>                   <td>   -7.1129</td> <td>    5.073</td> <td>   -1.402</td> <td> 0.161</td> <td>  -17.056</td> <td>    2.831</td>\n",
       "</tr>\n",
       "<tr>\n",
       "  <th>sulphates</th>            <td>    1.1854</td> <td>    3.746</td> <td>    0.316</td> <td> 0.752</td> <td>   -6.156</td> <td>    8.527</td>\n",
       "</tr>\n",
       "<tr>\n",
       "  <th>alcohol</th>              <td>    1.5048</td> <td>    0.877</td> <td>    1.715</td> <td> 0.086</td> <td>   -0.215</td> <td>    3.225</td>\n",
       "</tr>\n",
       "<tr>\n",
       "        <th>quality=5</th>         <th>coef</th>     <th>std err</th>      <th>z</th>      <th>P>|z|</th>  <th>[0.025</th>    <th>0.975]</th>  \n",
       "</tr>\n",
       "<tr>\n",
       "  <th>const</th>                <td> -104.0851</td> <td>  522.960</td> <td>   -0.199</td> <td> 0.842</td> <td>-1129.067</td> <td>  920.897</td>\n",
       "</tr>\n",
       "<tr>\n",
       "  <th>fixed acidity</th>        <td>   -0.9018</td> <td>    0.651</td> <td>   -1.386</td> <td> 0.166</td> <td>   -2.177</td> <td>    0.373</td>\n",
       "</tr>\n",
       "<tr>\n",
       "  <th>volatile acidity</th>     <td>   -7.8053</td> <td>    2.408</td> <td>   -3.241</td> <td> 0.001</td> <td>  -12.525</td> <td>   -3.086</td>\n",
       "</tr>\n",
       "<tr>\n",
       "  <th>citric acid</th>          <td>   -2.7974</td> <td>    3.904</td> <td>   -0.716</td> <td> 0.474</td> <td>  -10.450</td> <td>    4.855</td>\n",
       "</tr>\n",
       "<tr>\n",
       "  <th>residual sugar</th>       <td>   -0.1348</td> <td>    0.298</td> <td>   -0.453</td> <td> 0.651</td> <td>   -0.719</td> <td>    0.449</td>\n",
       "</tr>\n",
       "<tr>\n",
       "  <th>chlorides</th>            <td>  -12.8486</td> <td>    6.884</td> <td>   -1.867</td> <td> 0.062</td> <td>  -26.340</td> <td>    0.643</td>\n",
       "</tr>\n",
       "<tr>\n",
       "  <th>free sulfur dioxide</th>  <td>   -0.1366</td> <td>    0.088</td> <td>   -1.545</td> <td> 0.122</td> <td>   -0.310</td> <td>    0.037</td>\n",
       "</tr>\n",
       "<tr>\n",
       "  <th>total sulfur dioxide</th> <td>    0.0994</td> <td>    0.049</td> <td>    2.011</td> <td> 0.044</td> <td>    0.003</td> <td>    0.196</td>\n",
       "</tr>\n",
       "<tr>\n",
       "  <th>density</th>              <td>  143.4813</td> <td>  532.630</td> <td>    0.269</td> <td> 0.788</td> <td> -900.455</td> <td> 1187.417</td>\n",
       "</tr>\n",
       "<tr>\n",
       "  <th>pH</th>                   <td>  -10.8172</td> <td>    4.888</td> <td>   -2.213</td> <td> 0.027</td> <td>  -20.398</td> <td>   -1.237</td>\n",
       "</tr>\n",
       "<tr>\n",
       "  <th>sulphates</th>            <td>    0.9416</td> <td>    3.538</td> <td>    0.266</td> <td> 0.790</td> <td>   -5.994</td> <td>    7.877</td>\n",
       "</tr>\n",
       "<tr>\n",
       "  <th>alcohol</th>              <td>    1.4625</td> <td>    0.852</td> <td>    1.717</td> <td> 0.086</td> <td>   -0.207</td> <td>    3.132</td>\n",
       "</tr>\n",
       "<tr>\n",
       "        <th>quality=6</th>         <th>coef</th>     <th>std err</th>      <th>z</th>      <th>P>|z|</th>  <th>[0.025</th>    <th>0.975]</th>  \n",
       "</tr>\n",
       "<tr>\n",
       "  <th>const</th>                <td>  -71.9561</td> <td>  524.277</td> <td>   -0.137</td> <td> 0.891</td> <td>-1099.519</td> <td>  955.607</td>\n",
       "</tr>\n",
       "<tr>\n",
       "  <th>fixed acidity</th>        <td>   -0.7707</td> <td>    0.651</td> <td>   -1.184</td> <td> 0.236</td> <td>   -2.046</td> <td>    0.505</td>\n",
       "</tr>\n",
       "<tr>\n",
       "  <th>volatile acidity</th>     <td>  -10.4437</td> <td>    2.432</td> <td>   -4.294</td> <td> 0.000</td> <td>  -15.211</td> <td>   -5.676</td>\n",
       "</tr>\n",
       "<tr>\n",
       "  <th>citric acid</th>          <td>   -4.0991</td> <td>    3.919</td> <td>   -1.046</td> <td> 0.296</td> <td>  -11.780</td> <td>    3.581</td>\n",
       "</tr>\n",
       "<tr>\n",
       "  <th>residual sugar</th>       <td>   -0.0872</td> <td>    0.299</td> <td>   -0.291</td> <td> 0.771</td> <td>   -0.674</td> <td>    0.499</td>\n",
       "</tr>\n",
       "<tr>\n",
       "  <th>chlorides</th>            <td>  -15.5298</td> <td>    6.965</td> <td>   -2.230</td> <td> 0.026</td> <td>  -29.181</td> <td>   -1.879</td>\n",
       "</tr>\n",
       "<tr>\n",
       "  <th>free sulfur dioxide</th>  <td>   -0.1152</td> <td>    0.088</td> <td>   -1.303</td> <td> 0.193</td> <td>   -0.289</td> <td>    0.058</td>\n",
       "</tr>\n",
       "<tr>\n",
       "  <th>total sulfur dioxide</th> <td>    0.0831</td> <td>    0.049</td> <td>    1.680</td> <td> 0.093</td> <td>   -0.014</td> <td>    0.180</td>\n",
       "</tr>\n",
       "<tr>\n",
       "  <th>density</th>              <td>  102.7745</td> <td>  533.925</td> <td>    0.192</td> <td> 0.847</td> <td> -943.699</td> <td> 1149.248</td>\n",
       "</tr>\n",
       "<tr>\n",
       "  <th>pH</th>                   <td>  -10.8040</td> <td>    4.895</td> <td>   -2.207</td> <td> 0.027</td> <td>  -20.397</td> <td>   -1.211</td>\n",
       "</tr>\n",
       "<tr>\n",
       "  <th>sulphates</th>            <td>    3.3265</td> <td>    3.547</td> <td>    0.938</td> <td> 0.348</td> <td>   -3.625</td> <td>   10.278</td>\n",
       "</tr>\n",
       "<tr>\n",
       "  <th>alcohol</th>              <td>    2.2466</td> <td>    0.854</td> <td>    2.631</td> <td> 0.009</td> <td>    0.573</td> <td>    3.920</td>\n",
       "</tr>\n",
       "<tr>\n",
       "        <th>quality=7</th>         <th>coef</th>     <th>std err</th>      <th>z</th>      <th>P>|z|</th>  <th>[0.025</th>    <th>0.975]</th>  \n",
       "</tr>\n",
       "<tr>\n",
       "  <th>const</th>                <td>  110.3545</td> <td>  532.965</td> <td>    0.207</td> <td> 0.836</td> <td> -934.239</td> <td> 1154.947</td>\n",
       "</tr>\n",
       "<tr>\n",
       "  <th>fixed acidity</th>        <td>   -0.5539</td> <td>    0.660</td> <td>   -0.840</td> <td> 0.401</td> <td>   -1.847</td> <td>    0.739</td>\n",
       "</tr>\n",
       "<tr>\n",
       "  <th>volatile acidity</th>     <td>  -12.4942</td> <td>    2.548</td> <td>   -4.904</td> <td> 0.000</td> <td>  -17.488</td> <td>   -7.501</td>\n",
       "</tr>\n",
       "<tr>\n",
       "  <th>citric acid</th>          <td>   -3.4084</td> <td>    3.994</td> <td>   -0.853</td> <td> 0.393</td> <td>  -11.236</td> <td>    4.419</td>\n",
       "</tr>\n",
       "<tr>\n",
       "  <th>residual sugar</th>       <td>    0.1293</td> <td>    0.306</td> <td>    0.423</td> <td> 0.672</td> <td>   -0.470</td> <td>    0.729</td>\n",
       "</tr>\n",
       "<tr>\n",
       "  <th>chlorides</th>            <td>  -22.5771</td> <td>    7.679</td> <td>   -2.940</td> <td> 0.003</td> <td>  -37.628</td> <td>   -7.526</td>\n",
       "</tr>\n",
       "<tr>\n",
       "  <th>free sulfur dioxide</th>  <td>   -0.1129</td> <td>    0.089</td> <td>   -1.266</td> <td> 0.205</td> <td>   -0.288</td> <td>    0.062</td>\n",
       "</tr>\n",
       "<tr>\n",
       "  <th>total sulfur dioxide</th> <td>    0.0730</td> <td>    0.050</td> <td>    1.469</td> <td> 0.142</td> <td>   -0.024</td> <td>    0.170</td>\n",
       "</tr>\n",
       "<tr>\n",
       "  <th>density</th>              <td>  -91.5019</td> <td>  542.825</td> <td>   -0.169</td> <td> 0.866</td> <td>-1155.420</td> <td>  972.416</td>\n",
       "</tr>\n",
       "<tr>\n",
       "  <th>pH</th>                   <td>  -10.4309</td> <td>    4.977</td> <td>   -2.096</td> <td> 0.036</td> <td>  -20.186</td> <td>   -0.676</td>\n",
       "</tr>\n",
       "<tr>\n",
       "  <th>sulphates</th>            <td>    6.1363</td> <td>    3.581</td> <td>    1.714</td> <td> 0.087</td> <td>   -0.882</td> <td>   13.154</td>\n",
       "</tr>\n",
       "<tr>\n",
       "  <th>alcohol</th>              <td>    2.7929</td> <td>    0.862</td> <td>    3.239</td> <td> 0.001</td> <td>    1.103</td> <td>    4.483</td>\n",
       "</tr>\n",
       "<tr>\n",
       "        <th>quality=8</th>         <th>coef</th>     <th>std err</th>      <th>z</th>      <th>P>|z|</th>  <th>[0.025</th>    <th>0.975]</th>  \n",
       "</tr>\n",
       "<tr>\n",
       "  <th>const</th>                <td>   16.4134</td> <td>  622.164</td> <td>    0.026</td> <td> 0.979</td> <td>-1203.006</td> <td> 1235.832</td>\n",
       "</tr>\n",
       "<tr>\n",
       "  <th>fixed acidity</th>        <td>   -1.0994</td> <td>    0.764</td> <td>   -1.440</td> <td> 0.150</td> <td>   -2.596</td> <td>    0.397</td>\n",
       "</tr>\n",
       "<tr>\n",
       "  <th>volatile acidity</th>     <td>   -8.7279</td> <td>    3.354</td> <td>   -2.602</td> <td> 0.009</td> <td>  -15.301</td> <td>   -2.155</td>\n",
       "</tr>\n",
       "<tr>\n",
       "  <th>citric acid</th>          <td>   -0.5451</td> <td>    4.662</td> <td>   -0.117</td> <td> 0.907</td> <td>   -9.683</td> <td>    8.593</td>\n",
       "</tr>\n",
       "<tr>\n",
       "  <th>residual sugar</th>       <td>   -0.0568</td> <td>    0.426</td> <td>   -0.133</td> <td> 0.894</td> <td>   -0.892</td> <td>    0.779</td>\n",
       "</tr>\n",
       "<tr>\n",
       "  <th>chlorides</th>            <td>  -47.4693</td> <td>   17.779</td> <td>   -2.670</td> <td> 0.008</td> <td>  -82.315</td> <td>  -12.624</td>\n",
       "</tr>\n",
       "<tr>\n",
       "  <th>free sulfur dioxide</th>  <td>   -0.1051</td> <td>    0.096</td> <td>   -1.089</td> <td> 0.276</td> <td>   -0.294</td> <td>    0.084</td>\n",
       "</tr>\n",
       "<tr>\n",
       "  <th>total sulfur dioxide</th> <td>    0.0569</td> <td>    0.052</td> <td>    1.093</td> <td> 0.274</td> <td>   -0.045</td> <td>    0.159</td>\n",
       "</tr>\n",
       "<tr>\n",
       "  <th>density</th>              <td>   15.5386</td> <td>  634.354</td> <td>    0.024</td> <td> 0.980</td> <td>-1227.772</td> <td> 1258.849</td>\n",
       "</tr>\n",
       "<tr>\n",
       "  <th>pH</th>                   <td>  -16.6706</td> <td>    5.867</td> <td>   -2.842</td> <td> 0.004</td> <td>  -28.169</td> <td>   -5.172</td>\n",
       "</tr>\n",
       "<tr>\n",
       "  <th>sulphates</th>            <td>    7.9065</td> <td>    3.853</td> <td>    2.052</td> <td> 0.040</td> <td>    0.355</td> <td>   15.458</td>\n",
       "</tr>\n",
       "<tr>\n",
       "  <th>alcohol</th>              <td>    3.5475</td> <td>    0.953</td> <td>    3.722</td> <td> 0.000</td> <td>    1.679</td> <td>    5.416</td>\n",
       "</tr>\n",
       "</table>"
      ],
      "text/plain": [
       "<class 'statsmodels.iolib.summary.Summary'>\n",
       "\"\"\"\n",
       "                          MNLogit Regression Results                          \n",
       "==============================================================================\n",
       "Dep. Variable:                quality   No. Observations:                 1599\n",
       "Model:                        MNLogit   Df Residuals:                     1539\n",
       "Method:                           MLE   Df Model:                           55\n",
       "Date:                Wed, 03 May 2023   Pseudo R-squ.:                  0.2287\n",
       "Time:                        15:18:44   Log-Likelihood:                -1461.1\n",
       "converged:                       True   LL-Null:                       -1894.2\n",
       "Covariance Type:            nonrobust   LLR p-value:                2.987e-146\n",
       "========================================================================================\n",
       "           quality=4       coef    std err          z      P>|z|      [0.025      0.975]\n",
       "----------------------------------------------------------------------------------------\n",
       "const                  150.7854    547.752      0.275      0.783    -922.789    1224.360\n",
       "fixed acidity           -0.6119      0.688     -0.889      0.374      -1.961       0.737\n",
       "volatile acidity        -4.8509      2.448     -1.981      0.048      -9.649      -0.052\n",
       "citric acid             -2.3627      4.063     -0.581      0.561     -10.326       5.601\n",
       "residual sugar           0.1666      0.312      0.533      0.594      -0.446       0.779\n",
       "chlorides              -10.3956      7.560     -1.375      0.169     -25.212       4.421\n",
       "free sulfur dioxide     -0.1601      0.091     -1.757      0.079      -0.339       0.018\n",
       "total sulfur dioxide     0.0839      0.050      1.678      0.093      -0.014       0.182\n",
       "density               -131.9670    557.829     -0.237      0.813   -1225.292     961.358\n",
       "pH                      -7.1129      5.073     -1.402      0.161     -17.056       2.831\n",
       "sulphates                1.1854      3.746      0.316      0.752      -6.156       8.527\n",
       "alcohol                  1.5048      0.877      1.715      0.086      -0.215       3.225\n",
       "----------------------------------------------------------------------------------------\n",
       "           quality=5       coef    std err          z      P>|z|      [0.025      0.975]\n",
       "----------------------------------------------------------------------------------------\n",
       "const                 -104.0851    522.960     -0.199      0.842   -1129.067     920.897\n",
       "fixed acidity           -0.9018      0.651     -1.386      0.166      -2.177       0.373\n",
       "volatile acidity        -7.8053      2.408     -3.241      0.001     -12.525      -3.086\n",
       "citric acid             -2.7974      3.904     -0.716      0.474     -10.450       4.855\n",
       "residual sugar          -0.1348      0.298     -0.453      0.651      -0.719       0.449\n",
       "chlorides              -12.8486      6.884     -1.867      0.062     -26.340       0.643\n",
       "free sulfur dioxide     -0.1366      0.088     -1.545      0.122      -0.310       0.037\n",
       "total sulfur dioxide     0.0994      0.049      2.011      0.044       0.003       0.196\n",
       "density                143.4813    532.630      0.269      0.788    -900.455    1187.417\n",
       "pH                     -10.8172      4.888     -2.213      0.027     -20.398      -1.237\n",
       "sulphates                0.9416      3.538      0.266      0.790      -5.994       7.877\n",
       "alcohol                  1.4625      0.852      1.717      0.086      -0.207       3.132\n",
       "----------------------------------------------------------------------------------------\n",
       "           quality=6       coef    std err          z      P>|z|      [0.025      0.975]\n",
       "----------------------------------------------------------------------------------------\n",
       "const                  -71.9561    524.277     -0.137      0.891   -1099.519     955.607\n",
       "fixed acidity           -0.7707      0.651     -1.184      0.236      -2.046       0.505\n",
       "volatile acidity       -10.4437      2.432     -4.294      0.000     -15.211      -5.676\n",
       "citric acid             -4.0991      3.919     -1.046      0.296     -11.780       3.581\n",
       "residual sugar          -0.0872      0.299     -0.291      0.771      -0.674       0.499\n",
       "chlorides              -15.5298      6.965     -2.230      0.026     -29.181      -1.879\n",
       "free sulfur dioxide     -0.1152      0.088     -1.303      0.193      -0.289       0.058\n",
       "total sulfur dioxide     0.0831      0.049      1.680      0.093      -0.014       0.180\n",
       "density                102.7745    533.925      0.192      0.847    -943.699    1149.248\n",
       "pH                     -10.8040      4.895     -2.207      0.027     -20.397      -1.211\n",
       "sulphates                3.3265      3.547      0.938      0.348      -3.625      10.278\n",
       "alcohol                  2.2466      0.854      2.631      0.009       0.573       3.920\n",
       "----------------------------------------------------------------------------------------\n",
       "           quality=7       coef    std err          z      P>|z|      [0.025      0.975]\n",
       "----------------------------------------------------------------------------------------\n",
       "const                  110.3545    532.965      0.207      0.836    -934.239    1154.947\n",
       "fixed acidity           -0.5539      0.660     -0.840      0.401      -1.847       0.739\n",
       "volatile acidity       -12.4942      2.548     -4.904      0.000     -17.488      -7.501\n",
       "citric acid             -3.4084      3.994     -0.853      0.393     -11.236       4.419\n",
       "residual sugar           0.1293      0.306      0.423      0.672      -0.470       0.729\n",
       "chlorides              -22.5771      7.679     -2.940      0.003     -37.628      -7.526\n",
       "free sulfur dioxide     -0.1129      0.089     -1.266      0.205      -0.288       0.062\n",
       "total sulfur dioxide     0.0730      0.050      1.469      0.142      -0.024       0.170\n",
       "density                -91.5019    542.825     -0.169      0.866   -1155.420     972.416\n",
       "pH                     -10.4309      4.977     -2.096      0.036     -20.186      -0.676\n",
       "sulphates                6.1363      3.581      1.714      0.087      -0.882      13.154\n",
       "alcohol                  2.7929      0.862      3.239      0.001       1.103       4.483\n",
       "----------------------------------------------------------------------------------------\n",
       "           quality=8       coef    std err          z      P>|z|      [0.025      0.975]\n",
       "----------------------------------------------------------------------------------------\n",
       "const                   16.4134    622.164      0.026      0.979   -1203.006    1235.832\n",
       "fixed acidity           -1.0994      0.764     -1.440      0.150      -2.596       0.397\n",
       "volatile acidity        -8.7279      3.354     -2.602      0.009     -15.301      -2.155\n",
       "citric acid             -0.5451      4.662     -0.117      0.907      -9.683       8.593\n",
       "residual sugar          -0.0568      0.426     -0.133      0.894      -0.892       0.779\n",
       "chlorides              -47.4693     17.779     -2.670      0.008     -82.315     -12.624\n",
       "free sulfur dioxide     -0.1051      0.096     -1.089      0.276      -0.294       0.084\n",
       "total sulfur dioxide     0.0569      0.052      1.093      0.274      -0.045       0.159\n",
       "density                 15.5386    634.354      0.024      0.980   -1227.772    1258.849\n",
       "pH                     -16.6706      5.867     -2.842      0.004     -28.169      -5.172\n",
       "sulphates                7.9065      3.853      2.052      0.040       0.355      15.458\n",
       "alcohol                  3.5475      0.953      3.722      0.000       1.679       5.416\n",
       "========================================================================================\n",
       "\"\"\""
      ]
     },
     "execution_count": 30,
     "metadata": {},
     "output_type": "execute_result"
    }
   ],
   "source": [
    "# - fitting the MNR model to the data; we use the Newton's Conjugate Gradient method as the optimizer to compute the\n",
    "#models coefficients\n",
    "mnr_model = sm.MNLogit(exog=X, endog=y).fit(method='ncg', maxiter=100)\n",
    "mnr_model.summary()"
   ]
  },
  {
   "cell_type": "code",
   "execution_count": 31,
   "id": "fdcc09f7",
   "metadata": {},
   "outputs": [
    {
     "data": {
      "text/plain": [
       "array([[  2.,   0.,   7.,   1.,   0.,   0.],\n",
       "       [  1.,   1.,  34.,  15.,   2.,   0.],\n",
       "       [  2.,   0., 514., 159.,   6.,   0.],\n",
       "       [  0.,   0., 207., 391.,  40.,   0.],\n",
       "       [  0.,   0.,  13., 120.,  66.,   0.],\n",
       "       [  0.,   0.,   0.,  10.,   8.,   0.]])"
      ]
     },
     "execution_count": 31,
     "metadata": {},
     "output_type": "execute_result"
    }
   ],
   "source": [
    "# - confusion matrix for the model prdictions; ordering of rows/columns correspond to the oredering of the classes\n",
    "conf_matrix = mnr_model.pred_table()\n",
    "conf_matrix"
   ]
  },
  {
   "cell_type": "code",
   "execution_count": 32,
   "id": "2572bcc7",
   "metadata": {},
   "outputs": [
    {
     "data": {
      "text/plain": [
       "0.6091307066916823"
      ]
     },
     "execution_count": 32,
     "metadata": {},
     "output_type": "execute_result"
    }
   ],
   "source": [
    "# - accuracy of the model\n",
    "mnr_acc = np.sum(np.diag(conf_matrix))/np.sum(conf_matrix)\n",
    "mnr_acc"
   ]
  },
  {
   "cell_type": "markdown",
   "id": "7471a1c6",
   "metadata": {},
   "source": [
    "### Regularization of the model coefficients: Ridge (L2) Regularization"
   ]
  },
  {
   "cell_type": "markdown",
   "id": "f4966745",
   "metadata": {},
   "source": [
    "Now we are going to use scikit-learn to perform *Regularized* Multinomial Logistic Regression; we'll be using the Ridge Regression. \n",
    "\n",
    "The Ridge Regression model is obtained by minimizing the function\n",
    "\n",
    "$$-C\\cdot LL + \\frac{1}{2}L_2^2,$$\n",
    "\n",
    "where $LL$ is Log-Likelihood of the 'ordinary' MNR, and $L_2^2$ is the squared *Frobenius norm* of model parameters matrix $W$:\n",
    "\n",
    "$$L_2^2 = ||W||_F^2 = \\sum_{i=1}^k\\sum_{j=1}^K(\\beta_i^{(j)})^2;$$\n",
    "\n",
    "$k$ is the number of predictors, $K$ number of categories of the targert variable, and $\\beta_i^{(j)}$ are model parameters. $C$ is the *Regularization (hyper)parameter* and it the invers of penalization hyperparameter $\\alpha$."
   ]
  },
  {
   "cell_type": "code",
   "execution_count": 152,
   "id": "5c02ffe5",
   "metadata": {},
   "outputs": [],
   "source": [
    "# - import scikit-learn\n",
    "from sklearn.linear_model import LogisticRegression, LogisticRegressionCV\n",
    "from sklearn.metrics import confusion_matrix"
   ]
  },
  {
   "cell_type": "code",
   "execution_count": 153,
   "id": "3109a939",
   "metadata": {},
   "outputs": [],
   "source": [
    "### --- Preparing the variables \n",
    "\n",
    "# - feature matrix\n",
    "X = wine_data.drop(columns='quality').values\n",
    "\n",
    "# - target variable\n",
    "y = wine_data['quality']"
   ]
  },
  {
   "cell_type": "code",
   "execution_count": 158,
   "id": "a85827ad",
   "metadata": {},
   "outputs": [
    {
     "data": {
      "text/html": [
       "<style>#sk-container-id-28 {color: black;background-color: white;}#sk-container-id-28 pre{padding: 0;}#sk-container-id-28 div.sk-toggleable {background-color: white;}#sk-container-id-28 label.sk-toggleable__label {cursor: pointer;display: block;width: 100%;margin-bottom: 0;padding: 0.3em;box-sizing: border-box;text-align: center;}#sk-container-id-28 label.sk-toggleable__label-arrow:before {content: \"▸\";float: left;margin-right: 0.25em;color: #696969;}#sk-container-id-28 label.sk-toggleable__label-arrow:hover:before {color: black;}#sk-container-id-28 div.sk-estimator:hover label.sk-toggleable__label-arrow:before {color: black;}#sk-container-id-28 div.sk-toggleable__content {max-height: 0;max-width: 0;overflow: hidden;text-align: left;background-color: #f0f8ff;}#sk-container-id-28 div.sk-toggleable__content pre {margin: 0.2em;color: black;border-radius: 0.25em;background-color: #f0f8ff;}#sk-container-id-28 input.sk-toggleable__control:checked~div.sk-toggleable__content {max-height: 200px;max-width: 100%;overflow: auto;}#sk-container-id-28 input.sk-toggleable__control:checked~label.sk-toggleable__label-arrow:before {content: \"▾\";}#sk-container-id-28 div.sk-estimator input.sk-toggleable__control:checked~label.sk-toggleable__label {background-color: #d4ebff;}#sk-container-id-28 div.sk-label input.sk-toggleable__control:checked~label.sk-toggleable__label {background-color: #d4ebff;}#sk-container-id-28 input.sk-hidden--visually {border: 0;clip: rect(1px 1px 1px 1px);clip: rect(1px, 1px, 1px, 1px);height: 1px;margin: -1px;overflow: hidden;padding: 0;position: absolute;width: 1px;}#sk-container-id-28 div.sk-estimator {font-family: monospace;background-color: #f0f8ff;border: 1px dotted black;border-radius: 0.25em;box-sizing: border-box;margin-bottom: 0.5em;}#sk-container-id-28 div.sk-estimator:hover {background-color: #d4ebff;}#sk-container-id-28 div.sk-parallel-item::after {content: \"\";width: 100%;border-bottom: 1px solid gray;flex-grow: 1;}#sk-container-id-28 div.sk-label:hover label.sk-toggleable__label {background-color: #d4ebff;}#sk-container-id-28 div.sk-serial::before {content: \"\";position: absolute;border-left: 1px solid gray;box-sizing: border-box;top: 0;bottom: 0;left: 50%;z-index: 0;}#sk-container-id-28 div.sk-serial {display: flex;flex-direction: column;align-items: center;background-color: white;padding-right: 0.2em;padding-left: 0.2em;position: relative;}#sk-container-id-28 div.sk-item {position: relative;z-index: 1;}#sk-container-id-28 div.sk-parallel {display: flex;align-items: stretch;justify-content: center;background-color: white;position: relative;}#sk-container-id-28 div.sk-item::before, #sk-container-id-28 div.sk-parallel-item::before {content: \"\";position: absolute;border-left: 1px solid gray;box-sizing: border-box;top: 0;bottom: 0;left: 50%;z-index: -1;}#sk-container-id-28 div.sk-parallel-item {display: flex;flex-direction: column;z-index: 1;position: relative;background-color: white;}#sk-container-id-28 div.sk-parallel-item:first-child::after {align-self: flex-end;width: 50%;}#sk-container-id-28 div.sk-parallel-item:last-child::after {align-self: flex-start;width: 50%;}#sk-container-id-28 div.sk-parallel-item:only-child::after {width: 0;}#sk-container-id-28 div.sk-dashed-wrapped {border: 1px dashed gray;margin: 0 0.4em 0.5em 0.4em;box-sizing: border-box;padding-bottom: 0.4em;background-color: white;}#sk-container-id-28 div.sk-label label {font-family: monospace;font-weight: bold;display: inline-block;line-height: 1.2em;}#sk-container-id-28 div.sk-label-container {text-align: center;}#sk-container-id-28 div.sk-container {/* jupyter's `normalize.less` sets `[hidden] { display: none; }` but bootstrap.min.css set `[hidden] { display: none !important; }` so we also need the `!important` here to be able to override the default hidden behavior on the sphinx rendered scikit-learn.org. See: https://github.com/scikit-learn/scikit-learn/issues/21755 */display: inline-block !important;position: relative;}#sk-container-id-28 div.sk-text-repr-fallback {display: none;}</style><div id=\"sk-container-id-28\" class=\"sk-top-container\"><div class=\"sk-text-repr-fallback\"><pre>LogisticRegression(C=250, solver=&#x27;newton-cg&#x27;)</pre><b>In a Jupyter environment, please rerun this cell to show the HTML representation or trust the notebook. <br />On GitHub, the HTML representation is unable to render, please try loading this page with nbviewer.org.</b></div><div class=\"sk-container\" hidden><div class=\"sk-item\"><div class=\"sk-estimator sk-toggleable\"><input class=\"sk-toggleable__control sk-hidden--visually\" id=\"sk-estimator-id-28\" type=\"checkbox\" checked><label for=\"sk-estimator-id-28\" class=\"sk-toggleable__label sk-toggleable__label-arrow\">LogisticRegression</label><div class=\"sk-toggleable__content\"><pre>LogisticRegression(C=250, solver=&#x27;newton-cg&#x27;)</pre></div></div></div></div></div>"
      ],
      "text/plain": [
       "LogisticRegression(C=250, solver='newton-cg')"
      ]
     },
     "execution_count": 158,
     "metadata": {},
     "output_type": "execute_result"
    }
   ],
   "source": [
    "### --- Fitting a Ridge MNR Regularized model on the given data, with the regularization parameter C = 250\n",
    "\n",
    "# - NOTE: LogisticRegression from scikit-learn implements L2 regularization BY DEFAULT\n",
    "# - so, you actually don't need to pass 'penalty' parameter in order to implement Ridge Regularization\n",
    "# - if you want to perform MNR without any regularization with scikit-learn, you need to pass 'penalty=none' parameter\n",
    "\n",
    "log_reg = LogisticRegression(solver='newton-cg', penalty='l2', C=250)\n",
    "log_reg.fit(X, y)"
   ]
  },
  {
   "cell_type": "code",
   "execution_count": 159,
   "id": "372b419f",
   "metadata": {},
   "outputs": [
    {
     "data": {
      "text/plain": [
       "array([-21.92075208,   1.95548122,   8.43134916,   2.14612481,\n",
       "         2.8028652 ,   6.58493168])"
      ]
     },
     "execution_count": 159,
     "metadata": {},
     "output_type": "execute_result"
    }
   ],
   "source": [
    "# - intercept of the model; entries correspond to the orderdering of the categories in the target variable \n",
    "log_reg.intercept_"
   ]
  },
  {
   "cell_type": "code",
   "execution_count": 160,
   "id": "0ece286c",
   "metadata": {},
   "outputs": [
    {
     "data": {
      "text/plain": [
       "array([[ 6.14803951e-01,  7.56763474e+00,  2.45865287e+00,\n",
       "         1.14608834e-02,  1.40139205e+01,  1.04510711e-01,\n",
       "        -6.66259221e-02,  3.69122587e-01,  8.72678197e+00,\n",
       "        -2.72743545e+00, -1.87880504e+00],\n",
       "       [-1.13518559e-01,  2.80313116e+00,  1.59509973e-01,\n",
       "         1.14656962e-01,  5.27580878e+00, -5.30471209e-02,\n",
       "         1.69277450e-02, -3.07275513e+00,  1.44599702e+00,\n",
       "        -2.27686797e+00, -3.21108286e-01],\n",
       "       [-1.08836596e-01, -2.44317524e-01, -5.78272970e-01,\n",
       "        -7.99026847e-02,  3.61521325e+00, -3.29943230e-02,\n",
       "         3.37384507e-02,  4.80080982e+00, -7.93598622e-01,\n",
       "        -2.17469094e+00, -5.90818556e-01],\n",
       "       [-1.57653049e-02, -2.89753100e+00, -1.86281805e+00,\n",
       "        -4.66663039e-02,  9.91879988e-01, -1.13792937e-02,\n",
       "         1.73276089e-02,  3.33634205e+00, -9.78561474e-01,\n",
       "         1.27877313e-01,  2.27470082e-01],\n",
       "       [ 3.77687787e-02, -5.39289727e+00, -1.43891422e+00,\n",
       "         9.54358594e-02, -6.43978670e+00, -6.89353735e-03,\n",
       "         6.38593128e-03, -5.26050024e+00, -1.53619932e+00,\n",
       "         2.68808375e+00,  9.38377394e-01],\n",
       "       [-4.14452270e-01, -1.83602011e+00,  1.26184239e+00,\n",
       "        -9.49847164e-02, -1.74570359e+01, -1.96435890e-04,\n",
       "        -7.75381413e-03, -1.73019096e-01, -6.86441957e+00,\n",
       "         4.36303330e+00,  1.62488441e+00]])"
      ]
     },
     "execution_count": 160,
     "metadata": {},
     "output_type": "execute_result"
    }
   ],
   "source": [
    "# - coefficents of the model; rows correspond to the ordering of the categories in the target variable;\n",
    "# - columns correspond to the predictors\n",
    "log_reg.coef_"
   ]
  },
  {
   "cell_type": "code",
   "execution_count": 161,
   "id": "61f2ad72",
   "metadata": {},
   "outputs": [
    {
     "data": {
      "text/plain": [
       "0.610381488430269"
      ]
     },
     "execution_count": 161,
     "metadata": {},
     "output_type": "execute_result"
    }
   ],
   "source": [
    "# - accuracy of Ridge Regularization\n",
    "log_reg.score(X, y)"
   ]
  },
  {
   "cell_type": "markdown",
   "id": "eddafffb",
   "metadata": {},
   "source": [
    "We managed to obtain a small improvement: 61.04% accuracy, against 60.91% of the baseline model. But, can we do better?"
   ]
  },
  {
   "cell_type": "code",
   "execution_count": 162,
   "id": "267fdd9c",
   "metadata": {},
   "outputs": [],
   "source": [
    "### --- Varying the regularization parameter for the Ridge Regularized Model\n",
    "n_Cs = 25\n",
    "Cs = np.linspace(1e-2, 500, n_Cs)\n",
    "\n",
    "l2_coefs = []\n",
    "accuracies = []\n",
    "frob_norms_matrix = []\n",
    "for C in Cs:\n",
    "    \n",
    "    # - fitting a Ridge Regularization\n",
    "    ridge = LogisticRegression(solver='newton-cg', C=C, max_iter=1000)\n",
    "    ridge.fit(X, y)\n",
    "    \n",
    "    # - squared L2 norm of model coefficients vectors for each category\n",
    "    l2_c = np.linalg.norm(ridge.coef_, ord=2, axis=0)**2\n",
    "    \n",
    "    # - accuracy of a fitted Regularized Model\n",
    "    acc = ridge.score(X, y)\n",
    "    \n",
    "    # - squared Frobenius norm of model coefficient matrix\n",
    "    frob = np.linalg.norm(ridge.coef_, ord=2)**2\n",
    "    \n",
    "    l2_coefs.append(l2_c)\n",
    "    accuracies.append(acc)\n",
    "    frob_norms_matrix.append(frob)"
   ]
  },
  {
   "cell_type": "code",
   "execution_count": 163,
   "id": "eaa98508",
   "metadata": {},
   "outputs": [
    {
     "data": {
      "image/png": "[encoded data removed]",
      "text/plain": [
       "<Figure size 576x432 with 1 Axes>"
      ]
     },
     "metadata": {},
     "output_type": "display_data"
    }
   ],
   "source": [
    "### --- Plotting the dependence of model parameters vs. the regularization hyperparameter\n",
    "ax = plt.gca()\n",
    "\n",
    "ax.plot(Cs, l2_coefs)\n",
    "ax.axvline(x=250, c='g', ls='--') # green line, corresponding to C = 250\n",
    "plt.xlabel(\"C\")\n",
    "plt.ylabel(\"weights\")\n",
    "plt.title(\"Ridge coefficients as a function of the regularization\")\n",
    "plt.axis(\"tight\")\n",
    "plt.legend(predictors)\n",
    "plt.show()"
   ]
  },
  {
   "cell_type": "code",
   "execution_count": 54,
   "id": "b09859c1",
   "metadata": {},
   "outputs": [
    {
     "data": {
      "image/png": "[encoded data removed]",
      "text/plain": [
       "<Figure size 1152x432 with 2 Axes>"
      ]
     },
     "metadata": {},
     "output_type": "display_data"
    }
   ],
   "source": [
    "### --- Plotting the dependance of various model metrics vs. the regularization hyperparameter\n",
    "ig, ax = plt.subplots(1, 2, figsize=(16, 6), sharex=True)\n",
    "\n",
    "\n",
    "# - squared Frobenius vs. C\n",
    "ax[0].plot(Cs, frob_norms_matrix)\n",
    "ax[0].axvline(x=250, c='g', ls='--') # green line, corresponding to C = 250\n",
    "ax[0].set_xlabel(\"C\")\n",
    "ax[0].set_ylabel(\"Frob. norm$^2$\")\n",
    "ax[0].set_title(\"Squared Frobenius norm as a function of the regularization\")\n",
    "ax[0].axis(\"tight\")\n",
    "\n",
    "# - accuracy vs. C\n",
    "ax[1].plot(Cs, accuracies)\n",
    "ax[1].axvline(x=250, c='g', ls='--') # green line\n",
    "ax[1].set_xlabel(\"C\")\n",
    "ax[1].set_ylabel(\"Accuracy\")\n",
    "ax[1].set_title(\"Model accuracy as a function of the regularization\")\n",
    "ax[1].axis(\"tight\");"
   ]
  },
  {
   "cell_type": "markdown",
   "id": "3af2b9e2",
   "metadata": {},
   "source": [
    "From the right graph above, we may assume that for regularization hyperparameter C ~ 12.5 we may obtain a good approximation of the best model."
   ]
  },
  {
   "cell_type": "code",
   "execution_count": 55,
   "id": "52af2038",
   "metadata": {},
   "outputs": [
    {
     "data": {
      "text/html": [
       "<style>#sk-container-id-4 {color: black;background-color: white;}#sk-container-id-4 pre{padding: 0;}#sk-container-id-4 div.sk-toggleable {background-color: white;}#sk-container-id-4 label.sk-toggleable__label {cursor: pointer;display: block;width: 100%;margin-bottom: 0;padding: 0.3em;box-sizing: border-box;text-align: center;}#sk-container-id-4 label.sk-toggleable__label-arrow:before {content: \"▸\";float: left;margin-right: 0.25em;color: #696969;}#sk-container-id-4 label.sk-toggleable__label-arrow:hover:before {color: black;}#sk-container-id-4 div.sk-estimator:hover label.sk-toggleable__label-arrow:before {color: black;}#sk-container-id-4 div.sk-toggleable__content {max-height: 0;max-width: 0;overflow: hidden;text-align: left;background-color: #f0f8ff;}#sk-container-id-4 div.sk-toggleable__content pre {margin: 0.2em;color: black;border-radius: 0.25em;background-color: #f0f8ff;}#sk-container-id-4 input.sk-toggleable__control:checked~div.sk-toggleable__content {max-height: 200px;max-width: 100%;overflow: auto;}#sk-container-id-4 input.sk-toggleable__control:checked~label.sk-toggleable__label-arrow:before {content: \"▾\";}#sk-container-id-4 div.sk-estimator input.sk-toggleable__control:checked~label.sk-toggleable__label {background-color: #d4ebff;}#sk-container-id-4 div.sk-label input.sk-toggleable__control:checked~label.sk-toggleable__label {background-color: #d4ebff;}#sk-container-id-4 input.sk-hidden--visually {border: 0;clip: rect(1px 1px 1px 1px);clip: rect(1px, 1px, 1px, 1px);height: 1px;margin: -1px;overflow: hidden;padding: 0;position: absolute;width: 1px;}#sk-container-id-4 div.sk-estimator {font-family: monospace;background-color: #f0f8ff;border: 1px dotted black;border-radius: 0.25em;box-sizing: border-box;margin-bottom: 0.5em;}#sk-container-id-4 div.sk-estimator:hover {background-color: #d4ebff;}#sk-container-id-4 div.sk-parallel-item::after {content: \"\";width: 100%;border-bottom: 1px solid gray;flex-grow: 1;}#sk-container-id-4 div.sk-label:hover label.sk-toggleable__label {background-color: #d4ebff;}#sk-container-id-4 div.sk-serial::before {content: \"\";position: absolute;border-left: 1px solid gray;box-sizing: border-box;top: 0;bottom: 0;left: 50%;z-index: 0;}#sk-container-id-4 div.sk-serial {display: flex;flex-direction: column;align-items: center;background-color: white;padding-right: 0.2em;padding-left: 0.2em;position: relative;}#sk-container-id-4 div.sk-item {position: relative;z-index: 1;}#sk-container-id-4 div.sk-parallel {display: flex;align-items: stretch;justify-content: center;background-color: white;position: relative;}#sk-container-id-4 div.sk-item::before, #sk-container-id-4 div.sk-parallel-item::before {content: \"\";position: absolute;border-left: 1px solid gray;box-sizing: border-box;top: 0;bottom: 0;left: 50%;z-index: -1;}#sk-container-id-4 div.sk-parallel-item {display: flex;flex-direction: column;z-index: 1;position: relative;background-color: white;}#sk-container-id-4 div.sk-parallel-item:first-child::after {align-self: flex-end;width: 50%;}#sk-container-id-4 div.sk-parallel-item:last-child::after {align-self: flex-start;width: 50%;}#sk-container-id-4 div.sk-parallel-item:only-child::after {width: 0;}#sk-container-id-4 div.sk-dashed-wrapped {border: 1px dashed gray;margin: 0 0.4em 0.5em 0.4em;box-sizing: border-box;padding-bottom: 0.4em;background-color: white;}#sk-container-id-4 div.sk-label label {font-family: monospace;font-weight: bold;display: inline-block;line-height: 1.2em;}#sk-container-id-4 div.sk-label-container {text-align: center;}#sk-container-id-4 div.sk-container {/* jupyter's `normalize.less` sets `[hidden] { display: none; }` but bootstrap.min.css set `[hidden] { display: none !important; }` so we also need the `!important` here to be able to override the default hidden behavior on the sphinx rendered scikit-learn.org. See: https://github.com/scikit-learn/scikit-learn/issues/21755 */display: inline-block !important;position: relative;}#sk-container-id-4 div.sk-text-repr-fallback {display: none;}</style><div id=\"sk-container-id-4\" class=\"sk-top-container\"><div class=\"sk-text-repr-fallback\"><pre>LogisticRegression(C=12.5, solver=&#x27;newton-cg&#x27;)</pre><b>In a Jupyter environment, please rerun this cell to show the HTML representation or trust the notebook. <br />On GitHub, the HTML representation is unable to render, please try loading this page with nbviewer.org.</b></div><div class=\"sk-container\" hidden><div class=\"sk-item\"><div class=\"sk-estimator sk-toggleable\"><input class=\"sk-toggleable__control sk-hidden--visually\" id=\"sk-estimator-id-4\" type=\"checkbox\" checked><label for=\"sk-estimator-id-4\" class=\"sk-toggleable__label sk-toggleable__label-arrow\">LogisticRegression</label><div class=\"sk-toggleable__content\"><pre>LogisticRegression(C=12.5, solver=&#x27;newton-cg&#x27;)</pre></div></div></div></div></div>"
      ],
      "text/plain": [
       "LogisticRegression(C=12.5, solver='newton-cg')"
      ]
     },
     "execution_count": 55,
     "metadata": {},
     "output_type": "execute_result"
    }
   ],
   "source": [
    "### --- Fitting an assumed approximation of the best Ridge Regularized model\n",
    "ridge_best = LogisticRegression(C=12.5, solver='newton-cg')\n",
    "ridge_best.fit(X, y)"
   ]
  },
  {
   "cell_type": "code",
   "execution_count": 56,
   "id": "215a691f",
   "metadata": {},
   "outputs": [
    {
     "data": {
      "text/plain": [
       "array([-5.36870319, -0.40200138, 11.58437309,  3.49235553, -4.55844927,\n",
       "       -4.74757479])"
      ]
     },
     "execution_count": 56,
     "metadata": {},
     "output_type": "execute_result"
    }
   ],
   "source": [
    "ridge_best.intercept_"
   ]
  },
  {
   "cell_type": "code",
   "execution_count": 57,
   "id": "d184ac8d",
   "metadata": {},
   "outputs": [
    {
     "data": {
      "text/plain": [
       "array([[ 3.45549775e-01,  6.58733940e+00,  1.36310056e+00,\n",
       "         9.23288000e-02,  3.03620804e+00,  8.65226195e-02,\n",
       "        -6.34795536e-02,  2.68289765e-02,  3.83621757e+00,\n",
       "        -1.03498214e+00, -1.53389937e+00],\n",
       "       [-1.28796833e-01,  2.91022314e+00,  4.25363277e-01,\n",
       "         1.16383928e-01,  1.81702215e+00, -4.80549423e-02,\n",
       "         1.45603721e-02, -1.43138264e-01,  1.44750820e+00,\n",
       "        -1.93177259e+00, -3.85766308e-01],\n",
       "       [-8.69221363e-02,  6.00823040e-02, -1.86469471e-01,\n",
       "        -7.78867289e-02,  2.24085323e+00, -2.76364534e-02,\n",
       "         3.12840393e-02,  2.63178557e-01, -2.91219185e-01,\n",
       "        -2.28454575e+00, -6.66343573e-01],\n",
       "       [ 1.11162390e-02, -2.53942397e+00, -1.44085328e+00,\n",
       "        -4.64611861e-02,  2.20915151e-01, -6.14488130e-03,\n",
       "         1.49491281e-02,  1.89260606e-01, -3.73775558e-01,\n",
       "        -1.14570432e-01,  1.55758454e-01],\n",
       "       [ 6.53378941e-02, -5.04475830e+00, -1.07785365e+00,\n",
       "         8.43238762e-02, -4.14733996e+00, -2.33029029e-03,\n",
       "         4.76181586e-03, -3.01191618e-01, -8.08393553e-01,\n",
       "         2.27083839e+00,  8.79433165e-01],\n",
       "       [-2.06284939e-01, -1.97346258e+00,  9.16712559e-01,\n",
       "        -1.68688689e-01, -3.16765861e+00, -2.35605213e-03,\n",
       "        -2.07580181e-03, -3.49382588e-02, -3.81033748e+00,\n",
       "         3.09503252e+00,  1.55081764e+00]])"
      ]
     },
     "execution_count": 57,
     "metadata": {},
     "output_type": "execute_result"
    }
   ],
   "source": [
    "ridge_best.coef_"
   ]
  },
  {
   "cell_type": "code",
   "execution_count": 58,
   "id": "f4f580ef",
   "metadata": {},
   "outputs": [
    {
     "data": {
      "text/plain": [
       "0.6128830519074422"
      ]
     },
     "execution_count": 58,
     "metadata": {},
     "output_type": "execute_result"
    }
   ],
   "source": [
    "# - accuracy of our model\n",
    "ridge_best.score(X, y)"
   ]
  },
  {
   "cell_type": "markdown",
   "id": "6f0ccb3a",
   "metadata": {},
   "source": [
    "We did manage to obtain even more accurate model! (61.29% against 61.04% accuracy for C=250, and 60.91% for unregularized model) But, is this the best we can?"
   ]
  },
  {
   "cell_type": "markdown",
   "id": "daa4a6d0",
   "metadata": {},
   "source": [
    "### LASSO (L1) Regularization"
   ]
  },
  {
   "cell_type": "markdown",
   "id": "309ae72a",
   "metadata": {},
   "source": [
    "*LASSO* is another way to regularize MNR model. It's obtained by minimizing the function\n",
    "\n",
    "$$-C\\cdot LL + \\frac{1}{2}L_1,$$\n",
    "\n",
    "where $LL$ is Log-Likelihood of the 'ordinary' MNR, and $L_1$ is the $L_1$ norm of model parameters matrix $W$:\n",
    "\n",
    "$$L_1 = ||W||_1 = \\sum_{i=1}^k\\sum_{j=1}^K|\\beta_i^{(j)}|.$$\n",
    "\n",
    "$C$ is, of course regularization hyperparameter."
   ]
  },
  {
   "cell_type": "code",
   "execution_count": 169,
   "id": "a07d8f7f",
   "metadata": {},
   "outputs": [],
   "source": [
    "### --- Varying the penalization parameter for the LASSO Regularized Model\n",
    "n_Cs = 25\n",
    "Cs = np.linspace(1e-2, 500, n_Cs)\n",
    "\n",
    "l1_coefs = []\n",
    "accuracies = []\n",
    "l1_norms_matrix = []\n",
    "for C in Cs:\n",
    "    # - fitting a LASSO Regularization\n",
    "    # - when using 'saga' solver, we need to set multi_class='multinomial' argument explicitly\n",
    "    ridge = LogisticRegression(solver='saga', multi_class='multinomial', penalty='l1', C=C, max_iter=10**5)\n",
    "    ridge.fit(X, y)\n",
    "    \n",
    "    # - L1 norm of model coefficients vectors for each category\n",
    "    l1_c = np.linalg.norm(ridge.coef_, ord=1, axis=0)\n",
    "    \n",
    "    # - accuracy of a fitted Regularized Model\n",
    "    acc = ridge.score(X, y)\n",
    "    \n",
    "    # - L1 norm of model coefficient matrix\n",
    "    l1_m = np.linalg.norm(ridge.coef_, ord=1)\n",
    "    \n",
    "    l1_coefs.append(l1_c)\n",
    "    accuracies.append(acc)\n",
    "    l1_norms_matrix.append(l1_m)"
   ]
  },
  {
   "cell_type": "code",
   "execution_count": 170,
   "id": "dab11f94",
   "metadata": {},
   "outputs": [
    {
     "data": {
      "image/png": "[encoded data removed]",
      "text/plain": [
       "<Figure size 576x432 with 1 Axes>"
      ]
     },
     "metadata": {},
     "output_type": "display_data"
    }
   ],
   "source": [
    "### --- Plotting the dependence of model parameters vs. the regularization hyperparameter\n",
    "ax = plt.gca()\n",
    "\n",
    "ax.plot(Cs, l1_coefs)\n",
    "plt.xlabel(\"C\")\n",
    "plt.ylabel(\"weights\")\n",
    "plt.title(\"LASSO coefficients as a function of the regularization\")\n",
    "plt.axis(\"tight\")\n",
    "plt.legend(predictors)\n",
    "plt.show()"
   ]
  },
  {
   "cell_type": "code",
   "execution_count": 171,
   "id": "3afbe5a0",
   "metadata": {},
   "outputs": [
    {
     "data": {
      "image/png": "[encoded data removed]",
      "text/plain": [
       "<Figure size 1152x432 with 2 Axes>"
      ]
     },
     "metadata": {},
     "output_type": "display_data"
    }
   ],
   "source": [
    "### --- Plotting the dependance of various model metrics vs. the regularization hyperparameter\n",
    "ig, ax = plt.subplots(1, 2, figsize=(16, 6), sharex=True)\n",
    "\n",
    "\n",
    "# - L1-norm vs. C\n",
    "ax[0].plot(Cs, l1_norms_matrix)\n",
    "ax[0].set_xlabel(\"C\")\n",
    "ax[0].set_ylabel(\"$L_1$ norm\")\n",
    "ax[0].set_title(\"$L_1$ norm as a function of the regularization\")\n",
    "ax[0].axis(\"tight\")\n",
    "\n",
    "# - Model accuracy vs. C\n",
    "ax[1].plot(Cs, accuracies)\n",
    "ax[1].set_xlabel(\"C\")\n",
    "ax[1].set_ylabel(\"Accuracy\")\n",
    "ax[1].set_title(\"Model accuracy as a function of the regularization\")\n",
    "ax[1].axis(\"tight\");"
   ]
  },
  {
   "cell_type": "code",
   "execution_count": 172,
   "id": "dceac477",
   "metadata": {},
   "outputs": [
    {
     "data": {
      "text/html": [
       "<style>#sk-container-id-29 {color: black;background-color: white;}#sk-container-id-29 pre{padding: 0;}#sk-container-id-29 div.sk-toggleable {background-color: white;}#sk-container-id-29 label.sk-toggleable__label {cursor: pointer;display: block;width: 100%;margin-bottom: 0;padding: 0.3em;box-sizing: border-box;text-align: center;}#sk-container-id-29 label.sk-toggleable__label-arrow:before {content: \"▸\";float: left;margin-right: 0.25em;color: #696969;}#sk-container-id-29 label.sk-toggleable__label-arrow:hover:before {color: black;}#sk-container-id-29 div.sk-estimator:hover label.sk-toggleable__label-arrow:before {color: black;}#sk-container-id-29 div.sk-toggleable__content {max-height: 0;max-width: 0;overflow: hidden;text-align: left;background-color: #f0f8ff;}#sk-container-id-29 div.sk-toggleable__content pre {margin: 0.2em;color: black;border-radius: 0.25em;background-color: #f0f8ff;}#sk-container-id-29 input.sk-toggleable__control:checked~div.sk-toggleable__content {max-height: 200px;max-width: 100%;overflow: auto;}#sk-container-id-29 input.sk-toggleable__control:checked~label.sk-toggleable__label-arrow:before {content: \"▾\";}#sk-container-id-29 div.sk-estimator input.sk-toggleable__control:checked~label.sk-toggleable__label {background-color: #d4ebff;}#sk-container-id-29 div.sk-label input.sk-toggleable__control:checked~label.sk-toggleable__label {background-color: #d4ebff;}#sk-container-id-29 input.sk-hidden--visually {border: 0;clip: rect(1px 1px 1px 1px);clip: rect(1px, 1px, 1px, 1px);height: 1px;margin: -1px;overflow: hidden;padding: 0;position: absolute;width: 1px;}#sk-container-id-29 div.sk-estimator {font-family: monospace;background-color: #f0f8ff;border: 1px dotted black;border-radius: 0.25em;box-sizing: border-box;margin-bottom: 0.5em;}#sk-container-id-29 div.sk-estimator:hover {background-color: #d4ebff;}#sk-container-id-29 div.sk-parallel-item::after {content: \"\";width: 100%;border-bottom: 1px solid gray;flex-grow: 1;}#sk-container-id-29 div.sk-label:hover label.sk-toggleable__label {background-color: #d4ebff;}#sk-container-id-29 div.sk-serial::before {content: \"\";position: absolute;border-left: 1px solid gray;box-sizing: border-box;top: 0;bottom: 0;left: 50%;z-index: 0;}#sk-container-id-29 div.sk-serial {display: flex;flex-direction: column;align-items: center;background-color: white;padding-right: 0.2em;padding-left: 0.2em;position: relative;}#sk-container-id-29 div.sk-item {position: relative;z-index: 1;}#sk-container-id-29 div.sk-parallel {display: flex;align-items: stretch;justify-content: center;background-color: white;position: relative;}#sk-container-id-29 div.sk-item::before, #sk-container-id-29 div.sk-parallel-item::before {content: \"\";position: absolute;border-left: 1px solid gray;box-sizing: border-box;top: 0;bottom: 0;left: 50%;z-index: -1;}#sk-container-id-29 div.sk-parallel-item {display: flex;flex-direction: column;z-index: 1;position: relative;background-color: white;}#sk-container-id-29 div.sk-parallel-item:first-child::after {align-self: flex-end;width: 50%;}#sk-container-id-29 div.sk-parallel-item:last-child::after {align-self: flex-start;width: 50%;}#sk-container-id-29 div.sk-parallel-item:only-child::after {width: 0;}#sk-container-id-29 div.sk-dashed-wrapped {border: 1px dashed gray;margin: 0 0.4em 0.5em 0.4em;box-sizing: border-box;padding-bottom: 0.4em;background-color: white;}#sk-container-id-29 div.sk-label label {font-family: monospace;font-weight: bold;display: inline-block;line-height: 1.2em;}#sk-container-id-29 div.sk-label-container {text-align: center;}#sk-container-id-29 div.sk-container {/* jupyter's `normalize.less` sets `[hidden] { display: none; }` but bootstrap.min.css set `[hidden] { display: none !important; }` so we also need the `!important` here to be able to override the default hidden behavior on the sphinx rendered scikit-learn.org. See: https://github.com/scikit-learn/scikit-learn/issues/21755 */display: inline-block !important;position: relative;}#sk-container-id-29 div.sk-text-repr-fallback {display: none;}</style><div id=\"sk-container-id-29\" class=\"sk-top-container\"><div class=\"sk-text-repr-fallback\"><pre>LogisticRegression(C=12.5, max_iter=100000, multi_class=&#x27;multinomial&#x27;,\n",
       "                   penalty=&#x27;l1&#x27;, solver=&#x27;saga&#x27;)</pre><b>In a Jupyter environment, please rerun this cell to show the HTML representation or trust the notebook. <br />On GitHub, the HTML representation is unable to render, please try loading this page with nbviewer.org.</b></div><div class=\"sk-container\" hidden><div class=\"sk-item\"><div class=\"sk-estimator sk-toggleable\"><input class=\"sk-toggleable__control sk-hidden--visually\" id=\"sk-estimator-id-29\" type=\"checkbox\" checked><label for=\"sk-estimator-id-29\" class=\"sk-toggleable__label sk-toggleable__label-arrow\">LogisticRegression</label><div class=\"sk-toggleable__content\"><pre>LogisticRegression(C=12.5, max_iter=100000, multi_class=&#x27;multinomial&#x27;,\n",
       "                   penalty=&#x27;l1&#x27;, solver=&#x27;saga&#x27;)</pre></div></div></div></div></div>"
      ],
      "text/plain": [
       "LogisticRegression(C=12.5, max_iter=100000, multi_class='multinomial',\n",
       "                   penalty='l1', solver='saga')"
      ]
     },
     "execution_count": 172,
     "metadata": {},
     "output_type": "execute_result"
    }
   ],
   "source": [
    "# - fitting an assumed best approximation for C = 12.5\n",
    "lasso_best = LogisticRegression(C=12.5, solver='saga', penalty='l1', multi_class='multinomial', max_iter=10**5)\n",
    "lasso_best.fit(X, y)"
   ]
  },
  {
   "cell_type": "code",
   "execution_count": 173,
   "id": "1688767c",
   "metadata": {},
   "outputs": [
    {
     "data": {
      "text/plain": [
       "array([ 0.01653163,  0.07951739,  0.61367716, -0.01770283, -0.51636025,\n",
       "       -0.1756631 ])"
      ]
     },
     "execution_count": 173,
     "metadata": {},
     "output_type": "execute_result"
    }
   ],
   "source": [
    "lasso_best.intercept_"
   ]
  },
  {
   "cell_type": "code",
   "execution_count": 174,
   "id": "ae34633c",
   "metadata": {},
   "outputs": [
    {
     "data": {
      "text/plain": [
       "array([[ 9.62303819e-02,  3.34984285e-01, -6.92752142e-02,\n",
       "         1.06553596e-01,  2.82438443e-02,  5.02023018e-02,\n",
       "        -4.80317131e-02,  1.39354651e-02,  1.31709414e-01,\n",
       "        -5.22921589e-02, -2.86866736e-01],\n",
       "       [-1.12590384e-01,  7.38204358e-01, -2.51165010e-01,\n",
       "         1.01256713e-01,  2.01125432e-02, -4.11046018e-02,\n",
       "         1.08700810e-02,  7.20921765e-02,  4.62082408e-01,\n",
       "        -1.65791336e-01, -1.49553505e-01],\n",
       "       [ 1.37701483e-01,  1.03224417e+00, -2.46823400e-01,\n",
       "        -8.04668792e-02,  2.27274705e-01, -1.75461953e-02,\n",
       "         2.82120185e-02,  6.05433387e-01,  1.69815540e+00,\n",
       "        -7.82320341e-01, -6.50410199e-01],\n",
       "       [ 6.37433764e-02, -5.07520168e-01, -2.40435632e-01,\n",
       "        -6.38748218e-02, -6.18810465e-02,  9.57210190e-03,\n",
       "         8.41535028e-03, -7.21729022e-03,  1.52877102e-01,\n",
       "         2.42385773e-01,  8.78155862e-02],\n",
       "       [ 6.76714501e-03, -1.34308293e+00,  6.10496352e-01,\n",
       "         1.79389666e-02, -1.80510488e-01,  1.25811192e-02,\n",
       "        -7.13793907e-08, -5.10900296e-01, -1.73641470e+00,\n",
       "         6.77528781e-01,  6.75575956e-01],\n",
       "       [-2.03903681e-01, -2.54761582e-01,  2.09543845e-01,\n",
       "        -8.06414713e-02, -3.30288632e-02, -1.39840523e-02,\n",
       "        -4.06748304e-03, -1.68872364e-01, -7.14511418e-01,\n",
       "         8.10575771e-02,  3.24615253e-01]])"
      ]
     },
     "execution_count": 174,
     "metadata": {},
     "output_type": "execute_result"
    }
   ],
   "source": [
    "lasso_best.coef_"
   ]
  },
  {
   "cell_type": "code",
   "execution_count": 175,
   "id": "bcb52bfe",
   "metadata": {},
   "outputs": [
    {
     "data": {
      "text/plain": [
       "0.5909943714821764"
      ]
     },
     "execution_count": 175,
     "metadata": {},
     "output_type": "execute_result"
    }
   ],
   "source": [
    "lasso_best.score(X, y)"
   ]
  },
  {
   "cell_type": "markdown",
   "id": "f819e375",
   "metadata": {},
   "source": [
    "Unfortunately, for our case, LASSO regularization did not provide a better model (59.1% accuracy against 60.91% of the baseline model); at least for the selected value ($C$ = 12.5) of the regularization hyperparameter."
   ]
  },
  {
   "cell_type": "markdown",
   "id": "ea05b957",
   "metadata": {},
   "source": [
    "## 3. Cross-Validation of Multinomial Regression"
   ]
  },
  {
   "cell_type": "markdown",
   "id": "2f6351a2",
   "metadata": {},
   "source": [
    "In order to find the most optimal penalization hyperparameter we may use *cross-validation* across the 'grid' of hyperparameters, fitting a model for every $C$ in the grid, and then choosing the best perfoming-one (i.e. with the highest accuracy)."
   ]
  },
  {
   "cell_type": "markdown",
   "id": "44e216b4",
   "metadata": {},
   "source": [
    "### CV for Ridge (L2) Regularization"
   ]
  },
  {
   "cell_type": "code",
   "execution_count": 151,
   "id": "fd14cc68",
   "metadata": {},
   "outputs": [
    {
     "data": {
      "text/html": [
       "<style>#sk-container-id-26 {color: black;background-color: white;}#sk-container-id-26 pre{padding: 0;}#sk-container-id-26 div.sk-toggleable {background-color: white;}#sk-container-id-26 label.sk-toggleable__label {cursor: pointer;display: block;width: 100%;margin-bottom: 0;padding: 0.3em;box-sizing: border-box;text-align: center;}#sk-container-id-26 label.sk-toggleable__label-arrow:before {content: \"▸\";float: left;margin-right: 0.25em;color: #696969;}#sk-container-id-26 label.sk-toggleable__label-arrow:hover:before {color: black;}#sk-container-id-26 div.sk-estimator:hover label.sk-toggleable__label-arrow:before {color: black;}#sk-container-id-26 div.sk-toggleable__content {max-height: 0;max-width: 0;overflow: hidden;text-align: left;background-color: #f0f8ff;}#sk-container-id-26 div.sk-toggleable__content pre {margin: 0.2em;color: black;border-radius: 0.25em;background-color: #f0f8ff;}#sk-container-id-26 input.sk-toggleable__control:checked~div.sk-toggleable__content {max-height: 200px;max-width: 100%;overflow: auto;}#sk-container-id-26 input.sk-toggleable__control:checked~label.sk-toggleable__label-arrow:before {content: \"▾\";}#sk-container-id-26 div.sk-estimator input.sk-toggleable__control:checked~label.sk-toggleable__label {background-color: #d4ebff;}#sk-container-id-26 div.sk-label input.sk-toggleable__control:checked~label.sk-toggleable__label {background-color: #d4ebff;}#sk-container-id-26 input.sk-hidden--visually {border: 0;clip: rect(1px 1px 1px 1px);clip: rect(1px, 1px, 1px, 1px);height: 1px;margin: -1px;overflow: hidden;padding: 0;position: absolute;width: 1px;}#sk-container-id-26 div.sk-estimator {font-family: monospace;background-color: #f0f8ff;border: 1px dotted black;border-radius: 0.25em;box-sizing: border-box;margin-bottom: 0.5em;}#sk-container-id-26 div.sk-estimator:hover {background-color: #d4ebff;}#sk-container-id-26 div.sk-parallel-item::after {content: \"\";width: 100%;border-bottom: 1px solid gray;flex-grow: 1;}#sk-container-id-26 div.sk-label:hover label.sk-toggleable__label {background-color: #d4ebff;}#sk-container-id-26 div.sk-serial::before {content: \"\";position: absolute;border-left: 1px solid gray;box-sizing: border-box;top: 0;bottom: 0;left: 50%;z-index: 0;}#sk-container-id-26 div.sk-serial {display: flex;flex-direction: column;align-items: center;background-color: white;padding-right: 0.2em;padding-left: 0.2em;position: relative;}#sk-container-id-26 div.sk-item {position: relative;z-index: 1;}#sk-container-id-26 div.sk-parallel {display: flex;align-items: stretch;justify-content: center;background-color: white;position: relative;}#sk-container-id-26 div.sk-item::before, #sk-container-id-26 div.sk-parallel-item::before {content: \"\";position: absolute;border-left: 1px solid gray;box-sizing: border-box;top: 0;bottom: 0;left: 50%;z-index: -1;}#sk-container-id-26 div.sk-parallel-item {display: flex;flex-direction: column;z-index: 1;position: relative;background-color: white;}#sk-container-id-26 div.sk-parallel-item:first-child::after {align-self: flex-end;width: 50%;}#sk-container-id-26 div.sk-parallel-item:last-child::after {align-self: flex-start;width: 50%;}#sk-container-id-26 div.sk-parallel-item:only-child::after {width: 0;}#sk-container-id-26 div.sk-dashed-wrapped {border: 1px dashed gray;margin: 0 0.4em 0.5em 0.4em;box-sizing: border-box;padding-bottom: 0.4em;background-color: white;}#sk-container-id-26 div.sk-label label {font-family: monospace;font-weight: bold;display: inline-block;line-height: 1.2em;}#sk-container-id-26 div.sk-label-container {text-align: center;}#sk-container-id-26 div.sk-container {/* jupyter's `normalize.less` sets `[hidden] { display: none; }` but bootstrap.min.css set `[hidden] { display: none !important; }` so we also need the `!important` here to be able to override the default hidden behavior on the sphinx rendered scikit-learn.org. See: https://github.com/scikit-learn/scikit-learn/issues/21755 */display: inline-block !important;position: relative;}#sk-container-id-26 div.sk-text-repr-fallback {display: none;}</style><div id=\"sk-container-id-26\" class=\"sk-top-container\"><div class=\"sk-text-repr-fallback\"><pre>LogisticRegressionCV(max_iter=1000, multi_class=&#x27;multinomial&#x27;,\n",
       "                     solver=&#x27;newton-cg&#x27;)</pre><b>In a Jupyter environment, please rerun this cell to show the HTML representation or trust the notebook. <br />On GitHub, the HTML representation is unable to render, please try loading this page with nbviewer.org.</b></div><div class=\"sk-container\" hidden><div class=\"sk-item\"><div class=\"sk-estimator sk-toggleable\"><input class=\"sk-toggleable__control sk-hidden--visually\" id=\"sk-estimator-id-26\" type=\"checkbox\" checked><label for=\"sk-estimator-id-26\" class=\"sk-toggleable__label sk-toggleable__label-arrow\">LogisticRegressionCV</label><div class=\"sk-toggleable__content\"><pre>LogisticRegressionCV(max_iter=1000, multi_class=&#x27;multinomial&#x27;,\n",
       "                     solver=&#x27;newton-cg&#x27;)</pre></div></div></div></div></div>"
      ],
      "text/plain": [
       "LogisticRegressionCV(max_iter=1000, multi_class='multinomial',\n",
       "                     solver='newton-cg')"
      ]
     },
     "execution_count": 151,
     "metadata": {},
     "output_type": "execute_result"
    }
   ],
   "source": [
    "### --- Performing the cross-validation across 10 log-distributed values of C in the [10^(-4), 10^4] interval\n",
    "ridgeCV = LogisticRegressionCV(Cs=10, solver='newton-cg', multi_class='multinomial', max_iter=1000)\n",
    "ridgeCV.fit(X, y)"
   ]
  },
  {
   "cell_type": "code",
   "execution_count": 94,
   "id": "5ca8ac84",
   "metadata": {},
   "outputs": [
    {
     "data": {
      "text/plain": [
       "array([21.5443469, 21.5443469, 21.5443469, 21.5443469, 21.5443469,\n",
       "       21.5443469])"
      ]
     },
     "execution_count": 94,
     "metadata": {},
     "output_type": "execute_result"
    }
   ],
   "source": [
    "# - regularization hyperparameters for the best model\n",
    "# - note that we do not obtain a single C, but a set of regularization hyperparameters\n",
    "# - each entry corresponds to the best regularization value for a given category\n",
    "ridgeCV.C_"
   ]
  },
  {
   "cell_type": "code",
   "execution_count": 95,
   "id": "f9535fcc",
   "metadata": {},
   "outputs": [
    {
     "data": {
      "text/plain": [
       "array([-8.70703436, -0.6268013 , 11.60633644,  3.69046602, -3.80397255,\n",
       "       -2.15899426])"
      ]
     },
     "execution_count": 95,
     "metadata": {},
     "output_type": "execute_result"
    }
   ],
   "source": [
    "ridgeCV.intercept_"
   ]
  },
  {
   "cell_type": "code",
   "execution_count": 96,
   "id": "00889a0b",
   "metadata": {
    "scrolled": true
   },
   "outputs": [
    {
     "data": {
      "text/plain": [
       "array([[ 3.92136523e-01,  7.10622562e+00,  1.91394294e+00,\n",
       "         7.46392207e-02,  4.57710990e+00,  9.24234412e-02,\n",
       "        -6.52203648e-02,  4.34018924e-02,  4.93801348e+00,\n",
       "        -1.22160998e+00, -1.66053591e+00],\n",
       "       [-1.21534890e-01,  2.90788123e+00,  3.71505773e-01,\n",
       "         1.15774455e-01,  2.51955341e+00, -4.94293304e-02,\n",
       "         1.52333700e-02, -2.53675412e-01,  1.49553963e+00,\n",
       "        -2.08825508e+00, -3.65376147e-01],\n",
       "       [-8.72968281e-02, -3.02295076e-02, -3.16930577e-01,\n",
       "        -7.78551242e-02,  2.44378230e+00, -2.92766472e-02,\n",
       "         3.20699892e-02,  4.42747262e-01, -3.87376376e-01,\n",
       "        -2.31298916e+00, -6.41490196e-01],\n",
       "       [ 9.36081293e-03, -2.65791244e+00, -1.58917105e+00,\n",
       "        -4.59737341e-02,  2.61416751e-01, -7.79036318e-03,\n",
       "         1.57259097e-02,  3.17240946e-01, -5.00145962e-01,\n",
       "        -1.02728491e-01,  1.80037670e-01],\n",
       "       [ 6.19513711e-02, -5.19631840e+00, -1.23124123e+00,\n",
       "         8.75564597e-02, -4.92405100e+00, -3.78764476e-03,\n",
       "         5.31143661e-03, -5.01452736e-01, -9.82542086e-01,\n",
       "         2.33637593e+00,  9.02106032e-01],\n",
       "       [-2.54616989e-01, -2.12964651e+00,  8.51894142e-01,\n",
       "        -1.54141277e-01, -4.87781136e+00, -2.13945568e-03,\n",
       "        -3.12034067e-03, -4.82619518e-02, -4.56348869e+00,\n",
       "         3.38920678e+00,  1.58525855e+00]])"
      ]
     },
     "execution_count": 96,
     "metadata": {},
     "output_type": "execute_result"
    }
   ],
   "source": [
    "ridgeCV.coef_"
   ]
  },
  {
   "cell_type": "code",
   "execution_count": 97,
   "id": "0d200e2f",
   "metadata": {},
   "outputs": [
    {
     "data": {
      "text/plain": [
       "0.6135084427767354"
      ]
     },
     "execution_count": 97,
     "metadata": {},
     "output_type": "execute_result"
    }
   ],
   "source": [
    "# - accuracy of the model obtained through the cross-validation\n",
    "ridgeCV.score(X, y)"
   ]
  },
  {
   "cell_type": "markdown",
   "id": "53b8fa09",
   "metadata": {},
   "source": [
    "We have managed to obtained and even more accurate model through Ridge Regularization and cross-validation! (compared with 60.91% accuracy of unregularized model, and 61.29% accuracy of regularized, but without CV)"
   ]
  },
  {
   "cell_type": "code",
   "execution_count": 105,
   "id": "2332176f",
   "metadata": {},
   "outputs": [
    {
     "data": {
      "text/plain": [
       "array([[  1,   1,   7,   1,   0,   0],\n",
       "       [  0,   1,  35,  16,   1,   0],\n",
       "       [  2,   0, 517, 158,   4,   0],\n",
       "       [  0,   0, 206, 397,  35,   0],\n",
       "       [  0,   0,  13, 121,  65,   0],\n",
       "       [  0,   0,   0,  10,   8,   0]], dtype=int64)"
      ]
     },
     "execution_count": 105,
     "metadata": {},
     "output_type": "execute_result"
    }
   ],
   "source": [
    "confusion_matrix(y, ridgeCV.predict(X))"
   ]
  },
  {
   "cell_type": "markdown",
   "id": "1473b653",
   "metadata": {},
   "source": [
    "### CV for LASSO (L1) Regularization"
   ]
  },
  {
   "cell_type": "code",
   "execution_count": 176,
   "id": "e37bdb9c",
   "metadata": {},
   "outputs": [
    {
     "data": {
      "text/html": [
       "<style>#sk-container-id-30 {color: black;background-color: white;}#sk-container-id-30 pre{padding: 0;}#sk-container-id-30 div.sk-toggleable {background-color: white;}#sk-container-id-30 label.sk-toggleable__label {cursor: pointer;display: block;width: 100%;margin-bottom: 0;padding: 0.3em;box-sizing: border-box;text-align: center;}#sk-container-id-30 label.sk-toggleable__label-arrow:before {content: \"▸\";float: left;margin-right: 0.25em;color: #696969;}#sk-container-id-30 label.sk-toggleable__label-arrow:hover:before {color: black;}#sk-container-id-30 div.sk-estimator:hover label.sk-toggleable__label-arrow:before {color: black;}#sk-container-id-30 div.sk-toggleable__content {max-height: 0;max-width: 0;overflow: hidden;text-align: left;background-color: #f0f8ff;}#sk-container-id-30 div.sk-toggleable__content pre {margin: 0.2em;color: black;border-radius: 0.25em;background-color: #f0f8ff;}#sk-container-id-30 input.sk-toggleable__control:checked~div.sk-toggleable__content {max-height: 200px;max-width: 100%;overflow: auto;}#sk-container-id-30 input.sk-toggleable__control:checked~label.sk-toggleable__label-arrow:before {content: \"▾\";}#sk-container-id-30 div.sk-estimator input.sk-toggleable__control:checked~label.sk-toggleable__label {background-color: #d4ebff;}#sk-container-id-30 div.sk-label input.sk-toggleable__control:checked~label.sk-toggleable__label {background-color: #d4ebff;}#sk-container-id-30 input.sk-hidden--visually {border: 0;clip: rect(1px 1px 1px 1px);clip: rect(1px, 1px, 1px, 1px);height: 1px;margin: -1px;overflow: hidden;padding: 0;position: absolute;width: 1px;}#sk-container-id-30 div.sk-estimator {font-family: monospace;background-color: #f0f8ff;border: 1px dotted black;border-radius: 0.25em;box-sizing: border-box;margin-bottom: 0.5em;}#sk-container-id-30 div.sk-estimator:hover {background-color: #d4ebff;}#sk-container-id-30 div.sk-parallel-item::after {content: \"\";width: 100%;border-bottom: 1px solid gray;flex-grow: 1;}#sk-container-id-30 div.sk-label:hover label.sk-toggleable__label {background-color: #d4ebff;}#sk-container-id-30 div.sk-serial::before {content: \"\";position: absolute;border-left: 1px solid gray;box-sizing: border-box;top: 0;bottom: 0;left: 50%;z-index: 0;}#sk-container-id-30 div.sk-serial {display: flex;flex-direction: column;align-items: center;background-color: white;padding-right: 0.2em;padding-left: 0.2em;position: relative;}#sk-container-id-30 div.sk-item {position: relative;z-index: 1;}#sk-container-id-30 div.sk-parallel {display: flex;align-items: stretch;justify-content: center;background-color: white;position: relative;}#sk-container-id-30 div.sk-item::before, #sk-container-id-30 div.sk-parallel-item::before {content: \"\";position: absolute;border-left: 1px solid gray;box-sizing: border-box;top: 0;bottom: 0;left: 50%;z-index: -1;}#sk-container-id-30 div.sk-parallel-item {display: flex;flex-direction: column;z-index: 1;position: relative;background-color: white;}#sk-container-id-30 div.sk-parallel-item:first-child::after {align-self: flex-end;width: 50%;}#sk-container-id-30 div.sk-parallel-item:last-child::after {align-self: flex-start;width: 50%;}#sk-container-id-30 div.sk-parallel-item:only-child::after {width: 0;}#sk-container-id-30 div.sk-dashed-wrapped {border: 1px dashed gray;margin: 0 0.4em 0.5em 0.4em;box-sizing: border-box;padding-bottom: 0.4em;background-color: white;}#sk-container-id-30 div.sk-label label {font-family: monospace;font-weight: bold;display: inline-block;line-height: 1.2em;}#sk-container-id-30 div.sk-label-container {text-align: center;}#sk-container-id-30 div.sk-container {/* jupyter's `normalize.less` sets `[hidden] { display: none; }` but bootstrap.min.css set `[hidden] { display: none !important; }` so we also need the `!important` here to be able to override the default hidden behavior on the sphinx rendered scikit-learn.org. See: https://github.com/scikit-learn/scikit-learn/issues/21755 */display: inline-block !important;position: relative;}#sk-container-id-30 div.sk-text-repr-fallback {display: none;}</style><div id=\"sk-container-id-30\" class=\"sk-top-container\"><div class=\"sk-text-repr-fallback\"><pre>LogisticRegressionCV(max_iter=100000, multi_class=&#x27;multinomial&#x27;, penalty=&#x27;l1&#x27;,\n",
       "                     solver=&#x27;saga&#x27;)</pre><b>In a Jupyter environment, please rerun this cell to show the HTML representation or trust the notebook. <br />On GitHub, the HTML representation is unable to render, please try loading this page with nbviewer.org.</b></div><div class=\"sk-container\" hidden><div class=\"sk-item\"><div class=\"sk-estimator sk-toggleable\"><input class=\"sk-toggleable__control sk-hidden--visually\" id=\"sk-estimator-id-30\" type=\"checkbox\" checked><label for=\"sk-estimator-id-30\" class=\"sk-toggleable__label sk-toggleable__label-arrow\">LogisticRegressionCV</label><div class=\"sk-toggleable__content\"><pre>LogisticRegressionCV(max_iter=100000, multi_class=&#x27;multinomial&#x27;, penalty=&#x27;l1&#x27;,\n",
       "                     solver=&#x27;saga&#x27;)</pre></div></div></div></div></div>"
      ],
      "text/plain": [
       "LogisticRegressionCV(max_iter=100000, multi_class='multinomial', penalty='l1',\n",
       "                     solver='saga')"
      ]
     },
     "execution_count": 176,
     "metadata": {},
     "output_type": "execute_result"
    }
   ],
   "source": [
    "### --- Performing the cross-validation across 10 log-distributed values of C in the [10^(-4), 10^4] interval\n",
    "lassoCV = LogisticRegressionCV(Cs=10, solver='saga', penalty='l1', multi_class='multinomial', max_iter=10**5)\n",
    "lassoCV.fit(X, y)"
   ]
  },
  {
   "cell_type": "code",
   "execution_count": 177,
   "id": "3aecfe37",
   "metadata": {},
   "outputs": [
    {
     "data": {
      "text/plain": [
       "array([2.7825594, 2.7825594, 2.7825594, 2.7825594, 2.7825594, 2.7825594])"
      ]
     },
     "execution_count": 177,
     "metadata": {},
     "output_type": "execute_result"
    }
   ],
   "source": [
    "# - regularization values obtained through the cross-validation\n",
    "lassoCV.C_"
   ]
  },
  {
   "cell_type": "code",
   "execution_count": 178,
   "id": "80faf207",
   "metadata": {},
   "outputs": [
    {
     "data": {
      "text/plain": [
       "array([-1.80673134, -0.45177149,  3.10805287,  1.32212115, -0.30742504,\n",
       "       -1.86424614])"
      ]
     },
     "execution_count": 178,
     "metadata": {},
     "output_type": "execute_result"
    }
   ],
   "source": [
    "lassoCV.intercept_"
   ]
  },
  {
   "cell_type": "code",
   "execution_count": 179,
   "id": "bf01119b",
   "metadata": {},
   "outputs": [
    {
     "data": {
      "text/plain": [
       "array([[ 8.07385869e-02,  2.07550734e-01, -2.66719389e-02,\n",
       "         8.85397100e-02,  1.41882698e-03,  4.31232732e-02,\n",
       "        -4.05676258e-02,  2.33640471e-03,  9.20582794e-02,\n",
       "        -8.16666487e-03, -1.17717158e-01],\n",
       "       [-1.14313644e-01,  7.45386791e-01, -1.47286209e-01,\n",
       "         1.07295963e-01,  1.68155555e-04, -3.77391835e-02,\n",
       "         1.02938663e-02,  3.64423889e-02,  5.36635586e-01,\n",
       "        -7.05448425e-02, -1.54983238e-01],\n",
       "       [ 7.04719122e-02,  9.83359490e-01,  1.29010026e-03,\n",
       "        -7.22258998e-02,  7.44961593e-02, -1.48587443e-02,\n",
       "         2.65334783e-02,  1.96279004e-01,  1.53396667e+00,\n",
       "        -8.55828520e-01, -7.68021272e-01],\n",
       "       [ 1.72922681e-02, -4.83766887e-01, -1.00045942e-01,\n",
       "        -5.62473653e-02, -2.03814538e-02,  1.20980525e-02,\n",
       "         7.11008297e-03,  0.00000000e+00,  6.30028522e-02,\n",
       "         1.30869642e-01,  3.56320555e-04],\n",
       "       [-6.83155012e-03, -1.28645881e+00,  4.52106786e-01,\n",
       "         2.77780554e-02, -5.54636507e-02,  1.48039898e-02,\n",
       "        -9.18203378e-04, -2.08586416e-01, -1.77194883e+00,\n",
       "         6.39223193e-01,  6.22833989e-01],\n",
       "       [-1.58060749e-01, -9.84412849e-02,  8.40462481e-02,\n",
       "        -5.70945196e-02, -1.46704348e-04, -1.00511939e-02,\n",
       "        -4.23597269e-03, -5.28384802e-02, -4.75105628e-01,\n",
       "         3.07145903e-02,  3.23378306e-01]])"
      ]
     },
     "execution_count": 179,
     "metadata": {},
     "output_type": "execute_result"
    }
   ],
   "source": [
    "lassoCV.coef_"
   ]
  },
  {
   "cell_type": "code",
   "execution_count": 180,
   "id": "40d9c3ec",
   "metadata": {},
   "outputs": [
    {
     "data": {
      "text/plain": [
       "0.5966228893058161"
      ]
     },
     "execution_count": 180,
     "metadata": {},
     "output_type": "execute_result"
    }
   ],
   "source": [
    "# - accuracy of the model obtained through the cross-validation\n",
    "lassoCV.score(X, y)"
   ]
  },
  {
   "cell_type": "markdown",
   "id": "ce812128",
   "metadata": {},
   "source": [
    "LASSO CV did produce more accurate model than with our value-guessing for $C$, but still no better than the baseline model on our dataset. "
   ]
  },
  {
   "cell_type": "code",
   "execution_count": 181,
   "id": "ef6eeb88",
   "metadata": {},
   "outputs": [
    {
     "data": {
      "text/html": [
       "<div>\n",
       "<style scoped>\n",
       "    .dataframe tbody tr th:only-of-type {\n",
       "        vertical-align: middle;\n",
       "    }\n",
       "\n",
       "    .dataframe tbody tr th {\n",
       "        vertical-align: top;\n",
       "    }\n",
       "\n",
       "    .dataframe thead th {\n",
       "        text-align: right;\n",
       "    }\n",
       "</style>\n",
       "<table border=\"1\" class=\"dataframe\">\n",
       "  <thead>\n",
       "    <tr style=\"text-align: right;\">\n",
       "      <th></th>\n",
       "      <th>Model</th>\n",
       "      <th>Accuracy (%)</th>\n",
       "    </tr>\n",
       "  </thead>\n",
       "  <tbody>\n",
       "    <tr>\n",
       "      <th>0</th>\n",
       "      <td>Unregularized</td>\n",
       "      <td>60.91</td>\n",
       "    </tr>\n",
       "    <tr>\n",
       "      <th>1</th>\n",
       "      <td>Ridge with $C = 250$</td>\n",
       "      <td>61.04</td>\n",
       "    </tr>\n",
       "    <tr>\n",
       "      <th>2</th>\n",
       "      <td>Ridge with $C = 12.5$</td>\n",
       "      <td>61.29</td>\n",
       "    </tr>\n",
       "    <tr>\n",
       "      <th>3</th>\n",
       "      <td>Ridge with CV</td>\n",
       "      <td>61.35</td>\n",
       "    </tr>\n",
       "    <tr>\n",
       "      <th>4</th>\n",
       "      <td>LASSO with $C = 12.5$</td>\n",
       "      <td>59.10</td>\n",
       "    </tr>\n",
       "    <tr>\n",
       "      <th>5</th>\n",
       "      <td>LASSO with CV</td>\n",
       "      <td>59.66</td>\n",
       "    </tr>\n",
       "  </tbody>\n",
       "</table>\n",
       "</div>"
      ],
      "text/plain": [
       "                   Model  Accuracy (%)\n",
       "0          Unregularized         60.91\n",
       "1   Ridge with $C = 250$         61.04\n",
       "2  Ridge with $C = 12.5$         61.29\n",
       "3          Ridge with CV         61.35\n",
       "4  LASSO with $C = 12.5$         59.10\n",
       "5          LASSO with CV         59.66"
      ]
     },
     "execution_count": 181,
     "metadata": {},
     "output_type": "execute_result"
    }
   ],
   "source": [
    "model_comparison = pd.DataFrame()\n",
    "\n",
    "model_comparison['Model'] = ['Unregularized', 'Ridge with $C = 250$', 'Ridge with $C = 12.5$', 'Ridge with CV', 'LASSO with $C = 12.5$', 'LASSO with CV']\n",
    "model_comparison['Accuracy (%)'] = [60.91, 61.04, 61.29, 61.35, 59.1, 59.66]\n",
    "\n",
    "model_comparison"
   ]
  },
  {
   "cell_type": "markdown",
   "id": "fa03a522",
   "metadata": {},
   "source": [
    "### CV for Elastic-Net Regularization"
   ]
  },
  {
   "cell_type": "markdown",
   "id": "d1a8ff4e",
   "metadata": {},
   "source": [
    "Both Ridge and LASSO Regularizations are a part of a more general *Elastic-net* Regularization, obtaned by minimizing the function \n",
    "\n",
    "$$-C\\cdot LL + \\rho L_1 + \\frac{1 - \\rho}{2}L_2^2$$\n",
    "\n",
    "where $\\rho\\in[0,1]$ is yet another hyperparameter, called *$L_1$-ratio*. For $\\rho = 0$ one recovers Ridge Regularization, and for $\\rho = 1$ LASSO Regularization."
   ]
  },
  {
   "cell_type": "markdown",
   "id": "e2d75d57",
   "metadata": {},
   "source": [
    "Since there are two hyperparameters to tune, here we will perform cross-validation for each one, in parallel. \n",
    "\n",
    "We make a grid of values for hyperparameters $\\rho$ and $C$. For every value of $\\rho$ we perform a *k-fold cross-validation*: we split the data in $k$ *folds*, i.e. subsets. Then we select all but one fold to be the *test folds*; all the remaining folds are *train folds*. We fit the model on train folds, and evaluate the performance on the test fold, as an indicator of how it handles the unseen data. After this, we a new fold is chosen as the test fold, while the previous test fold becomes another train fold; we train and evaluate the model in this new setting. We repeat this procedure $k$ times and obtain $k$ different models. We select a combination of hyperparameters which performed the best. \n",
    "\n",
    "Note that we will not use values 0 and 1 for $\\rho$, as this would lead to *Ridge* and *LASSO* regularization, respectivelly."
   ]
  },
  {
   "cell_type": "markdown",
   "id": "9994d705",
   "metadata": {},
   "source": [
    "First, we preform $k$-fold CV only for hyperparameter $C$, while keeping $\\rho = 0.5$ fixed. "
   ]
  },
  {
   "cell_type": "code",
   "execution_count": 183,
   "id": "ea135b00",
   "metadata": {},
   "outputs": [
    {
     "data": {
      "text/html": [
       "<style>#sk-container-id-31 {color: black;background-color: white;}#sk-container-id-31 pre{padding: 0;}#sk-container-id-31 div.sk-toggleable {background-color: white;}#sk-container-id-31 label.sk-toggleable__label {cursor: pointer;display: block;width: 100%;margin-bottom: 0;padding: 0.3em;box-sizing: border-box;text-align: center;}#sk-container-id-31 label.sk-toggleable__label-arrow:before {content: \"▸\";float: left;margin-right: 0.25em;color: #696969;}#sk-container-id-31 label.sk-toggleable__label-arrow:hover:before {color: black;}#sk-container-id-31 div.sk-estimator:hover label.sk-toggleable__label-arrow:before {color: black;}#sk-container-id-31 div.sk-toggleable__content {max-height: 0;max-width: 0;overflow: hidden;text-align: left;background-color: #f0f8ff;}#sk-container-id-31 div.sk-toggleable__content pre {margin: 0.2em;color: black;border-radius: 0.25em;background-color: #f0f8ff;}#sk-container-id-31 input.sk-toggleable__control:checked~div.sk-toggleable__content {max-height: 200px;max-width: 100%;overflow: auto;}#sk-container-id-31 input.sk-toggleable__control:checked~label.sk-toggleable__label-arrow:before {content: \"▾\";}#sk-container-id-31 div.sk-estimator input.sk-toggleable__control:checked~label.sk-toggleable__label {background-color: #d4ebff;}#sk-container-id-31 div.sk-label input.sk-toggleable__control:checked~label.sk-toggleable__label {background-color: #d4ebff;}#sk-container-id-31 input.sk-hidden--visually {border: 0;clip: rect(1px 1px 1px 1px);clip: rect(1px, 1px, 1px, 1px);height: 1px;margin: -1px;overflow: hidden;padding: 0;position: absolute;width: 1px;}#sk-container-id-31 div.sk-estimator {font-family: monospace;background-color: #f0f8ff;border: 1px dotted black;border-radius: 0.25em;box-sizing: border-box;margin-bottom: 0.5em;}#sk-container-id-31 div.sk-estimator:hover {background-color: #d4ebff;}#sk-container-id-31 div.sk-parallel-item::after {content: \"\";width: 100%;border-bottom: 1px solid gray;flex-grow: 1;}#sk-container-id-31 div.sk-label:hover label.sk-toggleable__label {background-color: #d4ebff;}#sk-container-id-31 div.sk-serial::before {content: \"\";position: absolute;border-left: 1px solid gray;box-sizing: border-box;top: 0;bottom: 0;left: 50%;z-index: 0;}#sk-container-id-31 div.sk-serial {display: flex;flex-direction: column;align-items: center;background-color: white;padding-right: 0.2em;padding-left: 0.2em;position: relative;}#sk-container-id-31 div.sk-item {position: relative;z-index: 1;}#sk-container-id-31 div.sk-parallel {display: flex;align-items: stretch;justify-content: center;background-color: white;position: relative;}#sk-container-id-31 div.sk-item::before, #sk-container-id-31 div.sk-parallel-item::before {content: \"\";position: absolute;border-left: 1px solid gray;box-sizing: border-box;top: 0;bottom: 0;left: 50%;z-index: -1;}#sk-container-id-31 div.sk-parallel-item {display: flex;flex-direction: column;z-index: 1;position: relative;background-color: white;}#sk-container-id-31 div.sk-parallel-item:first-child::after {align-self: flex-end;width: 50%;}#sk-container-id-31 div.sk-parallel-item:last-child::after {align-self: flex-start;width: 50%;}#sk-container-id-31 div.sk-parallel-item:only-child::after {width: 0;}#sk-container-id-31 div.sk-dashed-wrapped {border: 1px dashed gray;margin: 0 0.4em 0.5em 0.4em;box-sizing: border-box;padding-bottom: 0.4em;background-color: white;}#sk-container-id-31 div.sk-label label {font-family: monospace;font-weight: bold;display: inline-block;line-height: 1.2em;}#sk-container-id-31 div.sk-label-container {text-align: center;}#sk-container-id-31 div.sk-container {/* jupyter's `normalize.less` sets `[hidden] { display: none; }` but bootstrap.min.css set `[hidden] { display: none !important; }` so we also need the `!important` here to be able to override the default hidden behavior on the sphinx rendered scikit-learn.org. See: https://github.com/scikit-learn/scikit-learn/issues/21755 */display: inline-block !important;position: relative;}#sk-container-id-31 div.sk-text-repr-fallback {display: none;}</style><div id=\"sk-container-id-31\" class=\"sk-top-container\"><div class=\"sk-text-repr-fallback\"><pre>LogisticRegressionCV(Cs=5, cv=5, l1_ratios=[0.5], max_iter=10000,\n",
       "                     multi_class=&#x27;multinomial&#x27;, penalty=&#x27;elasticnet&#x27;,\n",
       "                     solver=&#x27;saga&#x27;)</pre><b>In a Jupyter environment, please rerun this cell to show the HTML representation or trust the notebook. <br />On GitHub, the HTML representation is unable to render, please try loading this page with nbviewer.org.</b></div><div class=\"sk-container\" hidden><div class=\"sk-item\"><div class=\"sk-estimator sk-toggleable\"><input class=\"sk-toggleable__control sk-hidden--visually\" id=\"sk-estimator-id-31\" type=\"checkbox\" checked><label for=\"sk-estimator-id-31\" class=\"sk-toggleable__label sk-toggleable__label-arrow\">LogisticRegressionCV</label><div class=\"sk-toggleable__content\"><pre>LogisticRegressionCV(Cs=5, cv=5, l1_ratios=[0.5], max_iter=10000,\n",
       "                     multi_class=&#x27;multinomial&#x27;, penalty=&#x27;elasticnet&#x27;,\n",
       "                     solver=&#x27;saga&#x27;)</pre></div></div></div></div></div>"
      ],
      "text/plain": [
       "LogisticRegressionCV(Cs=5, cv=5, l1_ratios=[0.5], max_iter=10000,\n",
       "                     multi_class='multinomial', penalty='elasticnet',\n",
       "                     solver='saga')"
      ]
     },
     "execution_count": 183,
     "metadata": {},
     "output_type": "execute_result"
    }
   ],
   "source": [
    "### --- Performing the cross-validation across 10 log-distributed values of C in the [10^(-4), 10^4] interval\n",
    "# - and one fixed value for \\rho = 0.5; we perform 5-fold CV\n",
    "elNetCV = LogisticRegressionCV(penalty='elasticnet', Cs=5, l1_ratios=[.5], solver='saga', multi_class='multinomial', \n",
    "                               max_iter=10**5, cv=5)\n",
    "elNetCV.fit(X, y)"
   ]
  },
  {
   "cell_type": "code",
   "execution_count": 184,
   "id": "9cd5f047",
   "metadata": {},
   "outputs": [
    {
     "data": {
      "text/plain": [
       "array([1., 1., 1., 1., 1., 1.])"
      ]
     },
     "execution_count": 184,
     "metadata": {},
     "output_type": "execute_result"
    }
   ],
   "source": [
    "elNetCV.C_"
   ]
  },
  {
   "cell_type": "code",
   "execution_count": 185,
   "id": "ff89f8c1",
   "metadata": {
    "scrolled": true
   },
   "outputs": [
    {
     "data": {
      "text/plain": [
       "0.600375234521576"
      ]
     },
     "execution_count": 185,
     "metadata": {},
     "output_type": "execute_result"
    }
   ],
   "source": [
    "elNetCV.score(X, y)"
   ]
  },
  {
   "cell_type": "markdown",
   "id": "9179baa7",
   "metadata": {},
   "source": [
    "Now we perform $k$-fold CV for both hyperparameters $C$ and $\\rho$ in parallel. "
   ]
  },
  {
   "cell_type": "code",
   "execution_count": 214,
   "id": "11d621b5",
   "metadata": {},
   "outputs": [
    {
     "data": {
      "text/html": [
       "<style>#sk-container-id-37 {color: black;background-color: white;}#sk-container-id-37 pre{padding: 0;}#sk-container-id-37 div.sk-toggleable {background-color: white;}#sk-container-id-37 label.sk-toggleable__label {cursor: pointer;display: block;width: 100%;margin-bottom: 0;padding: 0.3em;box-sizing: border-box;text-align: center;}#sk-container-id-37 label.sk-toggleable__label-arrow:before {content: \"▸\";float: left;margin-right: 0.25em;color: #696969;}#sk-container-id-37 label.sk-toggleable__label-arrow:hover:before {color: black;}#sk-container-id-37 div.sk-estimator:hover label.sk-toggleable__label-arrow:before {color: black;}#sk-container-id-37 div.sk-toggleable__content {max-height: 0;max-width: 0;overflow: hidden;text-align: left;background-color: #f0f8ff;}#sk-container-id-37 div.sk-toggleable__content pre {margin: 0.2em;color: black;border-radius: 0.25em;background-color: #f0f8ff;}#sk-container-id-37 input.sk-toggleable__control:checked~div.sk-toggleable__content {max-height: 200px;max-width: 100%;overflow: auto;}#sk-container-id-37 input.sk-toggleable__control:checked~label.sk-toggleable__label-arrow:before {content: \"▾\";}#sk-container-id-37 div.sk-estimator input.sk-toggleable__control:checked~label.sk-toggleable__label {background-color: #d4ebff;}#sk-container-id-37 div.sk-label input.sk-toggleable__control:checked~label.sk-toggleable__label {background-color: #d4ebff;}#sk-container-id-37 input.sk-hidden--visually {border: 0;clip: rect(1px 1px 1px 1px);clip: rect(1px, 1px, 1px, 1px);height: 1px;margin: -1px;overflow: hidden;padding: 0;position: absolute;width: 1px;}#sk-container-id-37 div.sk-estimator {font-family: monospace;background-color: #f0f8ff;border: 1px dotted black;border-radius: 0.25em;box-sizing: border-box;margin-bottom: 0.5em;}#sk-container-id-37 div.sk-estimator:hover {background-color: #d4ebff;}#sk-container-id-37 div.sk-parallel-item::after {content: \"\";width: 100%;border-bottom: 1px solid gray;flex-grow: 1;}#sk-container-id-37 div.sk-label:hover label.sk-toggleable__label {background-color: #d4ebff;}#sk-container-id-37 div.sk-serial::before {content: \"\";position: absolute;border-left: 1px solid gray;box-sizing: border-box;top: 0;bottom: 0;left: 50%;z-index: 0;}#sk-container-id-37 div.sk-serial {display: flex;flex-direction: column;align-items: center;background-color: white;padding-right: 0.2em;padding-left: 0.2em;position: relative;}#sk-container-id-37 div.sk-item {position: relative;z-index: 1;}#sk-container-id-37 div.sk-parallel {display: flex;align-items: stretch;justify-content: center;background-color: white;position: relative;}#sk-container-id-37 div.sk-item::before, #sk-container-id-37 div.sk-parallel-item::before {content: \"\";position: absolute;border-left: 1px solid gray;box-sizing: border-box;top: 0;bottom: 0;left: 50%;z-index: -1;}#sk-container-id-37 div.sk-parallel-item {display: flex;flex-direction: column;z-index: 1;position: relative;background-color: white;}#sk-container-id-37 div.sk-parallel-item:first-child::after {align-self: flex-end;width: 50%;}#sk-container-id-37 div.sk-parallel-item:last-child::after {align-self: flex-start;width: 50%;}#sk-container-id-37 div.sk-parallel-item:only-child::after {width: 0;}#sk-container-id-37 div.sk-dashed-wrapped {border: 1px dashed gray;margin: 0 0.4em 0.5em 0.4em;box-sizing: border-box;padding-bottom: 0.4em;background-color: white;}#sk-container-id-37 div.sk-label label {font-family: monospace;font-weight: bold;display: inline-block;line-height: 1.2em;}#sk-container-id-37 div.sk-label-container {text-align: center;}#sk-container-id-37 div.sk-container {/* jupyter's `normalize.less` sets `[hidden] { display: none; }` but bootstrap.min.css set `[hidden] { display: none !important; }` so we also need the `!important` here to be able to override the default hidden behavior on the sphinx rendered scikit-learn.org. See: https://github.com/scikit-learn/scikit-learn/issues/21755 */display: inline-block !important;position: relative;}#sk-container-id-37 div.sk-text-repr-fallback {display: none;}</style><div id=\"sk-container-id-37\" class=\"sk-top-container\"><div class=\"sk-text-repr-fallback\"><pre>LogisticRegressionCV(Cs=20, cv=5, l1_ratios=array([0.1, 0.3, 0.5, 0.7, 0.9]),\n",
       "                     max_iter=10000, multi_class=&#x27;multinomial&#x27;,\n",
       "                     penalty=&#x27;elasticnet&#x27;, solver=&#x27;saga&#x27;)</pre><b>In a Jupyter environment, please rerun this cell to show the HTML representation or trust the notebook. <br />On GitHub, the HTML representation is unable to render, please try loading this page with nbviewer.org.</b></div><div class=\"sk-container\" hidden><div class=\"sk-item\"><div class=\"sk-estimator sk-toggleable\"><input class=\"sk-toggleable__control sk-hidden--visually\" id=\"sk-estimator-id-37\" type=\"checkbox\" checked><label for=\"sk-estimator-id-37\" class=\"sk-toggleable__label sk-toggleable__label-arrow\">LogisticRegressionCV</label><div class=\"sk-toggleable__content\"><pre>LogisticRegressionCV(Cs=20, cv=5, l1_ratios=array([0.1, 0.3, 0.5, 0.7, 0.9]),\n",
       "                     max_iter=10000, multi_class=&#x27;multinomial&#x27;,\n",
       "                     penalty=&#x27;elasticnet&#x27;, solver=&#x27;saga&#x27;)</pre></div></div></div></div></div>"
      ],
      "text/plain": [
       "LogisticRegressionCV(Cs=20, cv=5, l1_ratios=array([0.1, 0.3, 0.5, 0.7, 0.9]),\n",
       "                     max_iter=10000, multi_class='multinomial',\n",
       "                     penalty='elasticnet', solver='saga')"
      ]
     },
     "execution_count": 214,
     "metadata": {},
     "output_type": "execute_result"
    }
   ],
   "source": [
    "### --- Performing the cross-validation across 10 log-distributed values of C in the [10^(-4), 10^4] interval\n",
    "# - and \\rho selects value from the grid [0.1, 0.3, 0.5, 0.7, 0.9]\n",
    "\n",
    "rhos = np.arange(.1, 1, .2)\n",
    "\n",
    "elNetCV = LogisticRegressionCV(penalty='elasticnet', Cs=20, l1_ratios=rhos, solver='saga', multi_class='multinomial',\n",
    "                               max_iter=10**4, cv=5)\n",
    "elNetCV.fit(X, y)"
   ]
  },
  {
   "cell_type": "code",
   "execution_count": 215,
   "id": "ef825c6b",
   "metadata": {},
   "outputs": [
    {
     "data": {
      "text/plain": [
       "array([4.2813324, 4.2813324, 4.2813324, 4.2813324, 4.2813324, 4.2813324])"
      ]
     },
     "execution_count": 215,
     "metadata": {},
     "output_type": "execute_result"
    }
   ],
   "source": [
    "elNetCV.C_"
   ]
  },
  {
   "cell_type": "code",
   "execution_count": 218,
   "id": "2d3f0966",
   "metadata": {},
   "outputs": [
    {
     "data": {
      "text/plain": [
       "array([0.7, 0.7, 0.7, 0.7, 0.7, 0.7])"
      ]
     },
     "execution_count": 218,
     "metadata": {},
     "output_type": "execute_result"
    }
   ],
   "source": [
    "elNetCV.l1_ratio_"
   ]
  },
  {
   "cell_type": "code",
   "execution_count": 216,
   "id": "113d3e69",
   "metadata": {},
   "outputs": [
    {
     "data": {
      "text/plain": [
       "0.6028767979987493"
      ]
     },
     "execution_count": 216,
     "metadata": {},
     "output_type": "execute_result"
    }
   ],
   "source": [
    "elNetCV.score(X, y)"
   ]
  },
  {
   "cell_type": "markdown",
   "id": "8e6e0883",
   "metadata": {},
   "source": [
    "This model gave a better model than for $\\rho = 0.5$, but it still didn't outperform the unregularized model. Building a finer grid might help, but that would require much more computing time. "
   ]
  },
  {
   "cell_type": "markdown",
   "id": "177d30f9",
   "metadata": {},
   "source": [
    "### Elastic-Net for Multiple Linear Regression"
   ]
  },
  {
   "cell_type": "markdown",
   "id": "2c50726e",
   "metadata": {},
   "source": [
    "We'll also implement Elastic-Net regularization for Multiple LR in the following example on `kc_house_data` dataset, where we predict price of the house based on various numerical and categorical predictors."
   ]
  },
  {
   "cell_type": "code",
   "execution_count": 220,
   "id": "790c0ab3",
   "metadata": {},
   "outputs": [
    {
     "data": {
      "text/html": [
       "<div>\n",
       "<style scoped>\n",
       "    .dataframe tbody tr th:only-of-type {\n",
       "        vertical-align: middle;\n",
       "    }\n",
       "\n",
       "    .dataframe tbody tr th {\n",
       "        vertical-align: top;\n",
       "    }\n",
       "\n",
       "    .dataframe thead th {\n",
       "        text-align: right;\n",
       "    }\n",
       "</style>\n",
       "<table border=\"1\" class=\"dataframe\">\n",
       "  <thead>\n",
       "    <tr style=\"text-align: right;\">\n",
       "      <th></th>\n",
       "      <th>id</th>\n",
       "      <th>date</th>\n",
       "      <th>price</th>\n",
       "      <th>bedrooms</th>\n",
       "      <th>bathrooms</th>\n",
       "      <th>sqft_living</th>\n",
       "      <th>sqft_lot</th>\n",
       "      <th>floors</th>\n",
       "      <th>waterfront</th>\n",
       "      <th>view</th>\n",
       "      <th>...</th>\n",
       "      <th>grade</th>\n",
       "      <th>sqft_above</th>\n",
       "      <th>sqft_basement</th>\n",
       "      <th>yr_built</th>\n",
       "      <th>yr_renovated</th>\n",
       "      <th>zipcode</th>\n",
       "      <th>lat</th>\n",
       "      <th>long</th>\n",
       "      <th>sqft_living15</th>\n",
       "      <th>sqft_lot15</th>\n",
       "    </tr>\n",
       "  </thead>\n",
       "  <tbody>\n",
       "    <tr>\n",
       "      <th>0</th>\n",
       "      <td>7129300520</td>\n",
       "      <td>20141013T000000</td>\n",
       "      <td>221900.0</td>\n",
       "      <td>3</td>\n",
       "      <td>1.00</td>\n",
       "      <td>1180</td>\n",
       "      <td>5650</td>\n",
       "      <td>1.0</td>\n",
       "      <td>0</td>\n",
       "      <td>0</td>\n",
       "      <td>...</td>\n",
       "      <td>7</td>\n",
       "      <td>1180</td>\n",
       "      <td>0</td>\n",
       "      <td>1955</td>\n",
       "      <td>0</td>\n",
       "      <td>98178</td>\n",
       "      <td>47.5112</td>\n",
       "      <td>-122.257</td>\n",
       "      <td>1340</td>\n",
       "      <td>5650</td>\n",
       "    </tr>\n",
       "    <tr>\n",
       "      <th>1</th>\n",
       "      <td>6414100192</td>\n",
       "      <td>20141209T000000</td>\n",
       "      <td>538000.0</td>\n",
       "      <td>3</td>\n",
       "      <td>2.25</td>\n",
       "      <td>2570</td>\n",
       "      <td>7242</td>\n",
       "      <td>2.0</td>\n",
       "      <td>0</td>\n",
       "      <td>0</td>\n",
       "      <td>...</td>\n",
       "      <td>7</td>\n",
       "      <td>2170</td>\n",
       "      <td>400</td>\n",
       "      <td>1951</td>\n",
       "      <td>1991</td>\n",
       "      <td>98125</td>\n",
       "      <td>47.7210</td>\n",
       "      <td>-122.319</td>\n",
       "      <td>1690</td>\n",
       "      <td>7639</td>\n",
       "    </tr>\n",
       "    <tr>\n",
       "      <th>2</th>\n",
       "      <td>5631500400</td>\n",
       "      <td>20150225T000000</td>\n",
       "      <td>180000.0</td>\n",
       "      <td>2</td>\n",
       "      <td>1.00</td>\n",
       "      <td>770</td>\n",
       "      <td>10000</td>\n",
       "      <td>1.0</td>\n",
       "      <td>0</td>\n",
       "      <td>0</td>\n",
       "      <td>...</td>\n",
       "      <td>6</td>\n",
       "      <td>770</td>\n",
       "      <td>0</td>\n",
       "      <td>1933</td>\n",
       "      <td>0</td>\n",
       "      <td>98028</td>\n",
       "      <td>47.7379</td>\n",
       "      <td>-122.233</td>\n",
       "      <td>2720</td>\n",
       "      <td>8062</td>\n",
       "    </tr>\n",
       "    <tr>\n",
       "      <th>3</th>\n",
       "      <td>2487200875</td>\n",
       "      <td>20141209T000000</td>\n",
       "      <td>604000.0</td>\n",
       "      <td>4</td>\n",
       "      <td>3.00</td>\n",
       "      <td>1960</td>\n",
       "      <td>5000</td>\n",
       "      <td>1.0</td>\n",
       "      <td>0</td>\n",
       "      <td>0</td>\n",
       "      <td>...</td>\n",
       "      <td>7</td>\n",
       "      <td>1050</td>\n",
       "      <td>910</td>\n",
       "      <td>1965</td>\n",
       "      <td>0</td>\n",
       "      <td>98136</td>\n",
       "      <td>47.5208</td>\n",
       "      <td>-122.393</td>\n",
       "      <td>1360</td>\n",
       "      <td>5000</td>\n",
       "    </tr>\n",
       "    <tr>\n",
       "      <th>4</th>\n",
       "      <td>1954400510</td>\n",
       "      <td>20150218T000000</td>\n",
       "      <td>510000.0</td>\n",
       "      <td>3</td>\n",
       "      <td>2.00</td>\n",
       "      <td>1680</td>\n",
       "      <td>8080</td>\n",
       "      <td>1.0</td>\n",
       "      <td>0</td>\n",
       "      <td>0</td>\n",
       "      <td>...</td>\n",
       "      <td>8</td>\n",
       "      <td>1680</td>\n",
       "      <td>0</td>\n",
       "      <td>1987</td>\n",
       "      <td>0</td>\n",
       "      <td>98074</td>\n",
       "      <td>47.6168</td>\n",
       "      <td>-122.045</td>\n",
       "      <td>1800</td>\n",
       "      <td>7503</td>\n",
       "    </tr>\n",
       "    <tr>\n",
       "      <th>5</th>\n",
       "      <td>7237550310</td>\n",
       "      <td>20140512T000000</td>\n",
       "      <td>1225000.0</td>\n",
       "      <td>4</td>\n",
       "      <td>4.50</td>\n",
       "      <td>5420</td>\n",
       "      <td>101930</td>\n",
       "      <td>1.0</td>\n",
       "      <td>0</td>\n",
       "      <td>0</td>\n",
       "      <td>...</td>\n",
       "      <td>11</td>\n",
       "      <td>3890</td>\n",
       "      <td>1530</td>\n",
       "      <td>2001</td>\n",
       "      <td>0</td>\n",
       "      <td>98053</td>\n",
       "      <td>47.6561</td>\n",
       "      <td>-122.005</td>\n",
       "      <td>4760</td>\n",
       "      <td>101930</td>\n",
       "    </tr>\n",
       "    <tr>\n",
       "      <th>6</th>\n",
       "      <td>1321400060</td>\n",
       "      <td>20140627T000000</td>\n",
       "      <td>257500.0</td>\n",
       "      <td>3</td>\n",
       "      <td>2.25</td>\n",
       "      <td>1715</td>\n",
       "      <td>6819</td>\n",
       "      <td>2.0</td>\n",
       "      <td>0</td>\n",
       "      <td>0</td>\n",
       "      <td>...</td>\n",
       "      <td>7</td>\n",
       "      <td>1715</td>\n",
       "      <td>0</td>\n",
       "      <td>1995</td>\n",
       "      <td>0</td>\n",
       "      <td>98003</td>\n",
       "      <td>47.3097</td>\n",
       "      <td>-122.327</td>\n",
       "      <td>2238</td>\n",
       "      <td>6819</td>\n",
       "    </tr>\n",
       "    <tr>\n",
       "      <th>7</th>\n",
       "      <td>2008000270</td>\n",
       "      <td>20150115T000000</td>\n",
       "      <td>291850.0</td>\n",
       "      <td>3</td>\n",
       "      <td>1.50</td>\n",
       "      <td>1060</td>\n",
       "      <td>9711</td>\n",
       "      <td>1.0</td>\n",
       "      <td>0</td>\n",
       "      <td>0</td>\n",
       "      <td>...</td>\n",
       "      <td>7</td>\n",
       "      <td>1060</td>\n",
       "      <td>0</td>\n",
       "      <td>1963</td>\n",
       "      <td>0</td>\n",
       "      <td>98198</td>\n",
       "      <td>47.4095</td>\n",
       "      <td>-122.315</td>\n",
       "      <td>1650</td>\n",
       "      <td>9711</td>\n",
       "    </tr>\n",
       "    <tr>\n",
       "      <th>8</th>\n",
       "      <td>2414600126</td>\n",
       "      <td>20150415T000000</td>\n",
       "      <td>229500.0</td>\n",
       "      <td>3</td>\n",
       "      <td>1.00</td>\n",
       "      <td>1780</td>\n",
       "      <td>7470</td>\n",
       "      <td>1.0</td>\n",
       "      <td>0</td>\n",
       "      <td>0</td>\n",
       "      <td>...</td>\n",
       "      <td>7</td>\n",
       "      <td>1050</td>\n",
       "      <td>730</td>\n",
       "      <td>1960</td>\n",
       "      <td>0</td>\n",
       "      <td>98146</td>\n",
       "      <td>47.5123</td>\n",
       "      <td>-122.337</td>\n",
       "      <td>1780</td>\n",
       "      <td>8113</td>\n",
       "    </tr>\n",
       "    <tr>\n",
       "      <th>9</th>\n",
       "      <td>3793500160</td>\n",
       "      <td>20150312T000000</td>\n",
       "      <td>323000.0</td>\n",
       "      <td>3</td>\n",
       "      <td>2.50</td>\n",
       "      <td>1890</td>\n",
       "      <td>6560</td>\n",
       "      <td>2.0</td>\n",
       "      <td>0</td>\n",
       "      <td>0</td>\n",
       "      <td>...</td>\n",
       "      <td>7</td>\n",
       "      <td>1890</td>\n",
       "      <td>0</td>\n",
       "      <td>2003</td>\n",
       "      <td>0</td>\n",
       "      <td>98038</td>\n",
       "      <td>47.3684</td>\n",
       "      <td>-122.031</td>\n",
       "      <td>2390</td>\n",
       "      <td>7570</td>\n",
       "    </tr>\n",
       "  </tbody>\n",
       "</table>\n",
       "<p>10 rows × 21 columns</p>\n",
       "</div>"
      ],
      "text/plain": [
       "           id             date      price  bedrooms  bathrooms  sqft_living  \\\n",
       "0  7129300520  20141013T000000   221900.0         3       1.00         1180   \n",
       "1  6414100192  20141209T000000   538000.0         3       2.25         2570   \n",
       "2  5631500400  20150225T000000   180000.0         2       1.00          770   \n",
       "3  2487200875  20141209T000000   604000.0         4       3.00         1960   \n",
       "4  1954400510  20150218T000000   510000.0         3       2.00         1680   \n",
       "5  7237550310  20140512T000000  1225000.0         4       4.50         5420   \n",
       "6  1321400060  20140627T000000   257500.0         3       2.25         1715   \n",
       "7  2008000270  20150115T000000   291850.0         3       1.50         1060   \n",
       "8  2414600126  20150415T000000   229500.0         3       1.00         1780   \n",
       "9  3793500160  20150312T000000   323000.0         3       2.50         1890   \n",
       "\n",
       "   sqft_lot  floors  waterfront  view  ...  grade  sqft_above  sqft_basement  \\\n",
       "0      5650     1.0           0     0  ...      7        1180              0   \n",
       "1      7242     2.0           0     0  ...      7        2170            400   \n",
       "2     10000     1.0           0     0  ...      6         770              0   \n",
       "3      5000     1.0           0     0  ...      7        1050            910   \n",
       "4      8080     1.0           0     0  ...      8        1680              0   \n",
       "5    101930     1.0           0     0  ...     11        3890           1530   \n",
       "6      6819     2.0           0     0  ...      7        1715              0   \n",
       "7      9711     1.0           0     0  ...      7        1060              0   \n",
       "8      7470     1.0           0     0  ...      7        1050            730   \n",
       "9      6560     2.0           0     0  ...      7        1890              0   \n",
       "\n",
       "   yr_built  yr_renovated  zipcode      lat     long  sqft_living15  \\\n",
       "0      1955             0    98178  47.5112 -122.257           1340   \n",
       "1      1951          1991    98125  47.7210 -122.319           1690   \n",
       "2      1933             0    98028  47.7379 -122.233           2720   \n",
       "3      1965             0    98136  47.5208 -122.393           1360   \n",
       "4      1987             0    98074  47.6168 -122.045           1800   \n",
       "5      2001             0    98053  47.6561 -122.005           4760   \n",
       "6      1995             0    98003  47.3097 -122.327           2238   \n",
       "7      1963             0    98198  47.4095 -122.315           1650   \n",
       "8      1960             0    98146  47.5123 -122.337           1780   \n",
       "9      2003             0    98038  47.3684 -122.031           2390   \n",
       "\n",
       "   sqft_lot15  \n",
       "0        5650  \n",
       "1        7639  \n",
       "2        8062  \n",
       "3        5000  \n",
       "4        7503  \n",
       "5      101930  \n",
       "6        6819  \n",
       "7        9711  \n",
       "8        8113  \n",
       "9        7570  \n",
       "\n",
       "[10 rows x 21 columns]"
      ]
     },
     "execution_count": 220,
     "metadata": {},
     "output_type": "execute_result"
    }
   ],
   "source": [
    "data_set = pd.read_csv(os.path.join(data_dir, 'kc_house_data.csv'))\n",
    "data_set.head(10)"
   ]
  },
  {
   "cell_type": "code",
   "execution_count": 221,
   "id": "8643605e",
   "metadata": {},
   "outputs": [
    {
     "name": "stdout",
     "output_type": "stream",
     "text": [
      "<class 'pandas.core.frame.DataFrame'>\n",
      "RangeIndex: 21613 entries, 0 to 21612\n",
      "Data columns (total 21 columns):\n",
      " #   Column         Non-Null Count  Dtype  \n",
      "---  ------         --------------  -----  \n",
      " 0   id             21613 non-null  int64  \n",
      " 1   date           21613 non-null  object \n",
      " 2   price          21613 non-null  float64\n",
      " 3   bedrooms       21613 non-null  int64  \n",
      " 4   bathrooms      21613 non-null  float64\n",
      " 5   sqft_living    21613 non-null  int64  \n",
      " 6   sqft_lot       21613 non-null  int64  \n",
      " 7   floors         21613 non-null  float64\n",
      " 8   waterfront     21613 non-null  int64  \n",
      " 9   view           21613 non-null  int64  \n",
      " 10  condition      21613 non-null  int64  \n",
      " 11  grade          21613 non-null  int64  \n",
      " 12  sqft_above     21613 non-null  int64  \n",
      " 13  sqft_basement  21613 non-null  int64  \n",
      " 14  yr_built       21613 non-null  int64  \n",
      " 15  yr_renovated   21613 non-null  int64  \n",
      " 16  zipcode        21613 non-null  int64  \n",
      " 17  lat            21613 non-null  float64\n",
      " 18  long           21613 non-null  float64\n",
      " 19  sqft_living15  21613 non-null  int64  \n",
      " 20  sqft_lot15     21613 non-null  int64  \n",
      "dtypes: float64(5), int64(15), object(1)\n",
      "memory usage: 3.5+ MB\n"
     ]
    }
   ],
   "source": [
    "data_set.info()"
   ]
  },
  {
   "cell_type": "code",
   "execution_count": 222,
   "id": "e0947ce7",
   "metadata": {},
   "outputs": [
    {
     "data": {
      "text/html": [
       "<div>\n",
       "<style scoped>\n",
       "    .dataframe tbody tr th:only-of-type {\n",
       "        vertical-align: middle;\n",
       "    }\n",
       "\n",
       "    .dataframe tbody tr th {\n",
       "        vertical-align: top;\n",
       "    }\n",
       "\n",
       "    .dataframe thead th {\n",
       "        text-align: right;\n",
       "    }\n",
       "</style>\n",
       "<table border=\"1\" class=\"dataframe\">\n",
       "  <thead>\n",
       "    <tr style=\"text-align: right;\">\n",
       "      <th></th>\n",
       "      <th>price</th>\n",
       "      <th>bedrooms</th>\n",
       "      <th>bathrooms</th>\n",
       "      <th>sqft_living</th>\n",
       "      <th>sqft_lot</th>\n",
       "      <th>floors</th>\n",
       "      <th>waterfront</th>\n",
       "      <th>view</th>\n",
       "      <th>condition</th>\n",
       "      <th>grade</th>\n",
       "      <th>sqft_above</th>\n",
       "      <th>sqft_basement</th>\n",
       "      <th>yr_built</th>\n",
       "      <th>zipcode</th>\n",
       "      <th>sqft_living15</th>\n",
       "      <th>sqft_lot15</th>\n",
       "    </tr>\n",
       "  </thead>\n",
       "  <tbody>\n",
       "    <tr>\n",
       "      <th>0</th>\n",
       "      <td>221900.0</td>\n",
       "      <td>3</td>\n",
       "      <td>1.00</td>\n",
       "      <td>1180</td>\n",
       "      <td>5650</td>\n",
       "      <td>1.0</td>\n",
       "      <td>0</td>\n",
       "      <td>0</td>\n",
       "      <td>3</td>\n",
       "      <td>7</td>\n",
       "      <td>1180</td>\n",
       "      <td>0</td>\n",
       "      <td>1955</td>\n",
       "      <td>98178</td>\n",
       "      <td>1340</td>\n",
       "      <td>5650</td>\n",
       "    </tr>\n",
       "    <tr>\n",
       "      <th>1</th>\n",
       "      <td>538000.0</td>\n",
       "      <td>3</td>\n",
       "      <td>2.25</td>\n",
       "      <td>2570</td>\n",
       "      <td>7242</td>\n",
       "      <td>2.0</td>\n",
       "      <td>0</td>\n",
       "      <td>0</td>\n",
       "      <td>3</td>\n",
       "      <td>7</td>\n",
       "      <td>2170</td>\n",
       "      <td>400</td>\n",
       "      <td>1951</td>\n",
       "      <td>98125</td>\n",
       "      <td>1690</td>\n",
       "      <td>7639</td>\n",
       "    </tr>\n",
       "    <tr>\n",
       "      <th>2</th>\n",
       "      <td>180000.0</td>\n",
       "      <td>2</td>\n",
       "      <td>1.00</td>\n",
       "      <td>770</td>\n",
       "      <td>10000</td>\n",
       "      <td>1.0</td>\n",
       "      <td>0</td>\n",
       "      <td>0</td>\n",
       "      <td>3</td>\n",
       "      <td>6</td>\n",
       "      <td>770</td>\n",
       "      <td>0</td>\n",
       "      <td>1933</td>\n",
       "      <td>98028</td>\n",
       "      <td>2720</td>\n",
       "      <td>8062</td>\n",
       "    </tr>\n",
       "    <tr>\n",
       "      <th>3</th>\n",
       "      <td>604000.0</td>\n",
       "      <td>4</td>\n",
       "      <td>3.00</td>\n",
       "      <td>1960</td>\n",
       "      <td>5000</td>\n",
       "      <td>1.0</td>\n",
       "      <td>0</td>\n",
       "      <td>0</td>\n",
       "      <td>5</td>\n",
       "      <td>7</td>\n",
       "      <td>1050</td>\n",
       "      <td>910</td>\n",
       "      <td>1965</td>\n",
       "      <td>98136</td>\n",
       "      <td>1360</td>\n",
       "      <td>5000</td>\n",
       "    </tr>\n",
       "    <tr>\n",
       "      <th>4</th>\n",
       "      <td>510000.0</td>\n",
       "      <td>3</td>\n",
       "      <td>2.00</td>\n",
       "      <td>1680</td>\n",
       "      <td>8080</td>\n",
       "      <td>1.0</td>\n",
       "      <td>0</td>\n",
       "      <td>0</td>\n",
       "      <td>3</td>\n",
       "      <td>8</td>\n",
       "      <td>1680</td>\n",
       "      <td>0</td>\n",
       "      <td>1987</td>\n",
       "      <td>98074</td>\n",
       "      <td>1800</td>\n",
       "      <td>7503</td>\n",
       "    </tr>\n",
       "  </tbody>\n",
       "</table>\n",
       "</div>"
      ],
      "text/plain": [
       "      price  bedrooms  bathrooms  sqft_living  sqft_lot  floors  waterfront  \\\n",
       "0  221900.0         3       1.00         1180      5650     1.0           0   \n",
       "1  538000.0         3       2.25         2570      7242     2.0           0   \n",
       "2  180000.0         2       1.00          770     10000     1.0           0   \n",
       "3  604000.0         4       3.00         1960      5000     1.0           0   \n",
       "4  510000.0         3       2.00         1680      8080     1.0           0   \n",
       "\n",
       "   view  condition  grade  sqft_above  sqft_basement  yr_built  zipcode  \\\n",
       "0     0          3      7        1180              0      1955    98178   \n",
       "1     0          3      7        2170            400      1951    98125   \n",
       "2     0          3      6         770              0      1933    98028   \n",
       "3     0          5      7        1050            910      1965    98136   \n",
       "4     0          3      8        1680              0      1987    98074   \n",
       "\n",
       "   sqft_living15  sqft_lot15  \n",
       "0           1340        5650  \n",
       "1           1690        7639  \n",
       "2           2720        8062  \n",
       "3           1360        5000  \n",
       "4           1800        7503  "
      ]
     },
     "execution_count": 222,
     "metadata": {},
     "output_type": "execute_result"
    }
   ],
   "source": [
    "# - we remove some redundant or problematic predictors\n",
    "model_frame = data_set.drop(columns = ['id', 'lat', 'long', 'date', 'yr_renovated'])\n",
    "model_frame.head()"
   ]
  },
  {
   "cell_type": "code",
   "execution_count": 223,
   "id": "8d97ccc7",
   "metadata": {},
   "outputs": [],
   "source": [
    "# - we separate categorical from the numerical predictors\n",
    "categorical_df = model_frame[['zipcode', 'view']]\n",
    "numerical_df = model_frame.drop(columns = ['zipcode', 'view'])"
   ]
  },
  {
   "cell_type": "code",
   "execution_count": 224,
   "id": "77455f18",
   "metadata": {},
   "outputs": [
    {
     "data": {
      "text/plain": [
       "70"
      ]
     },
     "execution_count": 224,
     "metadata": {},
     "output_type": "execute_result"
    }
   ],
   "source": [
    "# - number of zipcode categories\n",
    "len(categorical_df['zipcode'].unique())"
   ]
  },
  {
   "cell_type": "code",
   "execution_count": 225,
   "id": "b1a8e7c6",
   "metadata": {},
   "outputs": [
    {
     "data": {
      "text/plain": [
       "array([0, 3, 4, 2, 1], dtype=int64)"
      ]
     },
     "execution_count": 225,
     "metadata": {},
     "output_type": "execute_result"
    }
   ],
   "source": [
    "# - view categories\n",
    "categorical_df['view'].unique()"
   ]
  },
  {
   "cell_type": "code",
   "execution_count": 226,
   "id": "fb07b74f",
   "metadata": {},
   "outputs": [
    {
     "data": {
      "text/plain": [
       "(21613, 73)"
      ]
     },
     "execution_count": 226,
     "metadata": {},
     "output_type": "execute_result"
    }
   ],
   "source": [
    "### --- Encoding the categorical variables\n",
    "from sklearn.preprocessing import OneHotEncoder\n",
    "\n",
    "# - for each categorical variables we employ Dummy Encoding\n",
    "# - we take the value appearing the first as the reference category\n",
    "\n",
    "# - encoding the 'view' variable\n",
    "enc_view = OneHotEncoder(drop='first', sparse=False)\n",
    "dummy_view = enc_view.fit_transform(categorical_df['view'].values.reshape(-1, 1))\n",
    "\n",
    "# - encoding the 'zipcode' variable\n",
    "enc_zipcode = OneHotEncoder(drop='first', sparse=False)\n",
    "dummy_zipcode = enc_zipcode.fit_transform(categorical_df['zipcode'].values.reshape(-1, 1))\n",
    "\n",
    "# - concatenating encoded variables into a single binary matrix\n",
    "# - it has 73 columns: 69 (i.e. 70-1) for the 'zipcode', and 4 (5-1) for the 'view'\n",
    "X0 = np.concatenate((dummy_view, dummy_zipcode), axis=-1)\n",
    "X0.shape"
   ]
  },
  {
   "cell_type": "code",
   "execution_count": 227,
   "id": "42908bed",
   "metadata": {},
   "outputs": [
    {
     "name": "stdout",
     "output_type": "stream",
     "text": [
      "(21613, 86)\n"
     ]
    }
   ],
   "source": [
    "### --- Constructing the feature matrix and the target vector\n",
    "\n",
    "# - dropping the dependent (numerical) 'price' variable\n",
    "X1 = numerical_df.drop(columns='price').values\n",
    "\n",
    "# - conncatenating the encoded variables matrix with the matrix of numerical variables values\n",
    "X = np.concatenate((X0, X1), axis=-1)\n",
    "print(X.shape)\n",
    "\n",
    "# - target vector values\n",
    "y = numerical_df['price'].values"
   ]
  },
  {
   "cell_type": "code",
   "execution_count": 229,
   "id": "759628ac",
   "metadata": {},
   "outputs": [],
   "source": [
    "from sklearn.linear_model import LinearRegression, ElasticNetCV\n",
    "\n",
    "\n",
    "mlr_model = LinearRegression()"
   ]
  },
  {
   "cell_type": "code",
   "execution_count": 230,
   "id": "2d92cf1b",
   "metadata": {},
   "outputs": [
    {
     "data": {
      "text/html": [
       "<style>#sk-container-id-38 {color: black;background-color: white;}#sk-container-id-38 pre{padding: 0;}#sk-container-id-38 div.sk-toggleable {background-color: white;}#sk-container-id-38 label.sk-toggleable__label {cursor: pointer;display: block;width: 100%;margin-bottom: 0;padding: 0.3em;box-sizing: border-box;text-align: center;}#sk-container-id-38 label.sk-toggleable__label-arrow:before {content: \"▸\";float: left;margin-right: 0.25em;color: #696969;}#sk-container-id-38 label.sk-toggleable__label-arrow:hover:before {color: black;}#sk-container-id-38 div.sk-estimator:hover label.sk-toggleable__label-arrow:before {color: black;}#sk-container-id-38 div.sk-toggleable__content {max-height: 0;max-width: 0;overflow: hidden;text-align: left;background-color: #f0f8ff;}#sk-container-id-38 div.sk-toggleable__content pre {margin: 0.2em;color: black;border-radius: 0.25em;background-color: #f0f8ff;}#sk-container-id-38 input.sk-toggleable__control:checked~div.sk-toggleable__content {max-height: 200px;max-width: 100%;overflow: auto;}#sk-container-id-38 input.sk-toggleable__control:checked~label.sk-toggleable__label-arrow:before {content: \"▾\";}#sk-container-id-38 div.sk-estimator input.sk-toggleable__control:checked~label.sk-toggleable__label {background-color: #d4ebff;}#sk-container-id-38 div.sk-label input.sk-toggleable__control:checked~label.sk-toggleable__label {background-color: #d4ebff;}#sk-container-id-38 input.sk-hidden--visually {border: 0;clip: rect(1px 1px 1px 1px);clip: rect(1px, 1px, 1px, 1px);height: 1px;margin: -1px;overflow: hidden;padding: 0;position: absolute;width: 1px;}#sk-container-id-38 div.sk-estimator {font-family: monospace;background-color: #f0f8ff;border: 1px dotted black;border-radius: 0.25em;box-sizing: border-box;margin-bottom: 0.5em;}#sk-container-id-38 div.sk-estimator:hover {background-color: #d4ebff;}#sk-container-id-38 div.sk-parallel-item::after {content: \"\";width: 100%;border-bottom: 1px solid gray;flex-grow: 1;}#sk-container-id-38 div.sk-label:hover label.sk-toggleable__label {background-color: #d4ebff;}#sk-container-id-38 div.sk-serial::before {content: \"\";position: absolute;border-left: 1px solid gray;box-sizing: border-box;top: 0;bottom: 0;left: 50%;z-index: 0;}#sk-container-id-38 div.sk-serial {display: flex;flex-direction: column;align-items: center;background-color: white;padding-right: 0.2em;padding-left: 0.2em;position: relative;}#sk-container-id-38 div.sk-item {position: relative;z-index: 1;}#sk-container-id-38 div.sk-parallel {display: flex;align-items: stretch;justify-content: center;background-color: white;position: relative;}#sk-container-id-38 div.sk-item::before, #sk-container-id-38 div.sk-parallel-item::before {content: \"\";position: absolute;border-left: 1px solid gray;box-sizing: border-box;top: 0;bottom: 0;left: 50%;z-index: -1;}#sk-container-id-38 div.sk-parallel-item {display: flex;flex-direction: column;z-index: 1;position: relative;background-color: white;}#sk-container-id-38 div.sk-parallel-item:first-child::after {align-self: flex-end;width: 50%;}#sk-container-id-38 div.sk-parallel-item:last-child::after {align-self: flex-start;width: 50%;}#sk-container-id-38 div.sk-parallel-item:only-child::after {width: 0;}#sk-container-id-38 div.sk-dashed-wrapped {border: 1px dashed gray;margin: 0 0.4em 0.5em 0.4em;box-sizing: border-box;padding-bottom: 0.4em;background-color: white;}#sk-container-id-38 div.sk-label label {font-family: monospace;font-weight: bold;display: inline-block;line-height: 1.2em;}#sk-container-id-38 div.sk-label-container {text-align: center;}#sk-container-id-38 div.sk-container {/* jupyter's `normalize.less` sets `[hidden] { display: none; }` but bootstrap.min.css set `[hidden] { display: none !important; }` so we also need the `!important` here to be able to override the default hidden behavior on the sphinx rendered scikit-learn.org. See: https://github.com/scikit-learn/scikit-learn/issues/21755 */display: inline-block !important;position: relative;}#sk-container-id-38 div.sk-text-repr-fallback {display: none;}</style><div id=\"sk-container-id-38\" class=\"sk-top-container\"><div class=\"sk-text-repr-fallback\"><pre>LinearRegression()</pre><b>In a Jupyter environment, please rerun this cell to show the HTML representation or trust the notebook. <br />On GitHub, the HTML representation is unable to render, please try loading this page with nbviewer.org.</b></div><div class=\"sk-container\" hidden><div class=\"sk-item\"><div class=\"sk-estimator sk-toggleable\"><input class=\"sk-toggleable__control sk-hidden--visually\" id=\"sk-estimator-id-38\" type=\"checkbox\" checked><label for=\"sk-estimator-id-38\" class=\"sk-toggleable__label sk-toggleable__label-arrow\">LinearRegression</label><div class=\"sk-toggleable__content\"><pre>LinearRegression()</pre></div></div></div></div></div>"
      ],
      "text/plain": [
       "LinearRegression()"
      ]
     },
     "execution_count": 230,
     "metadata": {},
     "output_type": "execute_result"
    }
   ],
   "source": [
    "mlr_model.fit(X, y)"
   ]
  },
  {
   "cell_type": "code",
   "execution_count": 231,
   "id": "e8c27dd1",
   "metadata": {},
   "outputs": [
    {
     "data": {
      "text/plain": [
       "0.8094580414445584"
      ]
     },
     "execution_count": 231,
     "metadata": {},
     "output_type": "execute_result"
    }
   ],
   "source": [
    "mlr_model.score(X, y)"
   ]
  },
  {
   "cell_type": "markdown",
   "id": "1865d9a8",
   "metadata": {},
   "source": [
    "We will preform *Regularized MLR* using the *Elastic-Net* regularization, obtained by minimizing the function\n",
    "\n",
    "$$\\frac{1}{2}MSE + \\alpha\\Big(\\rho L_1 + \\frac{1 - \\rho}{2}L_2^2\\Big).$$\n",
    "\n",
    "This model has two hyperparameters: *penalization* $\\alpha > 0$, and *$L_1$-ratio* $\\rho\\in[0,1]$."
   ]
  },
  {
   "cell_type": "code",
   "execution_count": 306,
   "id": "d7c0be10",
   "metadata": {},
   "outputs": [
    {
     "name": "stderr",
     "output_type": "stream",
     "text": [
      "C:\\Users\\alegza\\anaconda3\\lib\\site-packages\\sklearn\\linear_model\\_coordinate_descent.py:648: ConvergenceWarning: Objective did not converge. You might want to increase the number of iterations, check the scale of the features or consider increasing regularisation. Duality gap: 5.144e+14, tolerance: 2.913e+11\n",
      "  model = cd_fast.enet_coordinate_descent(\n"
     ]
    },
    {
     "data": {
      "text/html": [
       "<style>#sk-container-id-56 {color: black;background-color: white;}#sk-container-id-56 pre{padding: 0;}#sk-container-id-56 div.sk-toggleable {background-color: white;}#sk-container-id-56 label.sk-toggleable__label {cursor: pointer;display: block;width: 100%;margin-bottom: 0;padding: 0.3em;box-sizing: border-box;text-align: center;}#sk-container-id-56 label.sk-toggleable__label-arrow:before {content: \"▸\";float: left;margin-right: 0.25em;color: #696969;}#sk-container-id-56 label.sk-toggleable__label-arrow:hover:before {color: black;}#sk-container-id-56 div.sk-estimator:hover label.sk-toggleable__label-arrow:before {color: black;}#sk-container-id-56 div.sk-toggleable__content {max-height: 0;max-width: 0;overflow: hidden;text-align: left;background-color: #f0f8ff;}#sk-container-id-56 div.sk-toggleable__content pre {margin: 0.2em;color: black;border-radius: 0.25em;background-color: #f0f8ff;}#sk-container-id-56 input.sk-toggleable__control:checked~div.sk-toggleable__content {max-height: 200px;max-width: 100%;overflow: auto;}#sk-container-id-56 input.sk-toggleable__control:checked~label.sk-toggleable__label-arrow:before {content: \"▾\";}#sk-container-id-56 div.sk-estimator input.sk-toggleable__control:checked~label.sk-toggleable__label {background-color: #d4ebff;}#sk-container-id-56 div.sk-label input.sk-toggleable__control:checked~label.sk-toggleable__label {background-color: #d4ebff;}#sk-container-id-56 input.sk-hidden--visually {border: 0;clip: rect(1px 1px 1px 1px);clip: rect(1px, 1px, 1px, 1px);height: 1px;margin: -1px;overflow: hidden;padding: 0;position: absolute;width: 1px;}#sk-container-id-56 div.sk-estimator {font-family: monospace;background-color: #f0f8ff;border: 1px dotted black;border-radius: 0.25em;box-sizing: border-box;margin-bottom: 0.5em;}#sk-container-id-56 div.sk-estimator:hover {background-color: #d4ebff;}#sk-container-id-56 div.sk-parallel-item::after {content: \"\";width: 100%;border-bottom: 1px solid gray;flex-grow: 1;}#sk-container-id-56 div.sk-label:hover label.sk-toggleable__label {background-color: #d4ebff;}#sk-container-id-56 div.sk-serial::before {content: \"\";position: absolute;border-left: 1px solid gray;box-sizing: border-box;top: 0;bottom: 0;left: 50%;z-index: 0;}#sk-container-id-56 div.sk-serial {display: flex;flex-direction: column;align-items: center;background-color: white;padding-right: 0.2em;padding-left: 0.2em;position: relative;}#sk-container-id-56 div.sk-item {position: relative;z-index: 1;}#sk-container-id-56 div.sk-parallel {display: flex;align-items: stretch;justify-content: center;background-color: white;position: relative;}#sk-container-id-56 div.sk-item::before, #sk-container-id-56 div.sk-parallel-item::before {content: \"\";position: absolute;border-left: 1px solid gray;box-sizing: border-box;top: 0;bottom: 0;left: 50%;z-index: -1;}#sk-container-id-56 div.sk-parallel-item {display: flex;flex-direction: column;z-index: 1;position: relative;background-color: white;}#sk-container-id-56 div.sk-parallel-item:first-child::after {align-self: flex-end;width: 50%;}#sk-container-id-56 div.sk-parallel-item:last-child::after {align-self: flex-start;width: 50%;}#sk-container-id-56 div.sk-parallel-item:only-child::after {width: 0;}#sk-container-id-56 div.sk-dashed-wrapped {border: 1px dashed gray;margin: 0 0.4em 0.5em 0.4em;box-sizing: border-box;padding-bottom: 0.4em;background-color: white;}#sk-container-id-56 div.sk-label label {font-family: monospace;font-weight: bold;display: inline-block;line-height: 1.2em;}#sk-container-id-56 div.sk-label-container {text-align: center;}#sk-container-id-56 div.sk-container {/* jupyter's `normalize.less` sets `[hidden] { display: none; }` but bootstrap.min.css set `[hidden] { display: none !important; }` so we also need the `!important` here to be able to override the default hidden behavior on the sphinx rendered scikit-learn.org. See: https://github.com/scikit-learn/scikit-learn/issues/21755 */display: inline-block !important;position: relative;}#sk-container-id-56 div.sk-text-repr-fallback {display: none;}</style><div id=\"sk-container-id-56\" class=\"sk-top-container\"><div class=\"sk-text-repr-fallback\"><pre>ElasticNetCV(cv=2, eps=1e-07, l1_ratio=0.999, max_iter=100000)</pre><b>In a Jupyter environment, please rerun this cell to show the HTML representation or trust the notebook. <br />On GitHub, the HTML representation is unable to render, please try loading this page with nbviewer.org.</b></div><div class=\"sk-container\" hidden><div class=\"sk-item\"><div class=\"sk-estimator sk-toggleable\"><input class=\"sk-toggleable__control sk-hidden--visually\" id=\"sk-estimator-id-56\" type=\"checkbox\" checked><label for=\"sk-estimator-id-56\" class=\"sk-toggleable__label sk-toggleable__label-arrow\">ElasticNetCV</label><div class=\"sk-toggleable__content\"><pre>ElasticNetCV(cv=2, eps=1e-07, l1_ratio=0.999, max_iter=100000)</pre></div></div></div></div></div>"
      ],
      "text/plain": [
       "ElasticNetCV(cv=2, eps=1e-07, l1_ratio=0.999, max_iter=100000)"
      ]
     },
     "execution_count": 306,
     "metadata": {},
     "output_type": "execute_result"
    }
   ],
   "source": [
    "from sklearn.linear_model import ElasticNetCV\n",
    "\n",
    "\n",
    "# - fitting an instance of Elastic-Net, with fixed \\rho = 0.5, on the train fold\n",
    "# - \\alpha is found via \"implicit\" CV\n",
    "elNetCV = ElasticNetCV(l1_ratio=.999, eps=1e-7, max_iter=10**5, cv=2)\n",
    "elNetCV.fit(X, y)"
   ]
  },
  {
   "cell_type": "code",
   "execution_count": 307,
   "id": "59aa574f",
   "metadata": {},
   "outputs": [
    {
     "data": {
      "text/plain": [
       "136.47381621866782"
      ]
     },
     "execution_count": 307,
     "metadata": {},
     "output_type": "execute_result"
    }
   ],
   "source": [
    "elNetCV.alpha_"
   ]
  },
  {
   "cell_type": "code",
   "execution_count": 308,
   "id": "ce44bb62",
   "metadata": {},
   "outputs": [
    {
     "data": {
      "text/plain": [
       "0.6422626108138807"
      ]
     },
     "execution_count": 308,
     "metadata": {},
     "output_type": "execute_result"
    }
   ],
   "source": [
    "# - evaluating R^2 score on the test fold\n",
    "sc1 = elNetCV.score(X, y)\n",
    "sc1"
   ]
  },
  {
   "cell_type": "code",
   "execution_count": 309,
   "id": "e891bdfe",
   "metadata": {},
   "outputs": [
    {
     "data": {
      "text/plain": [
       "0.6442445927010314"
      ]
     },
     "execution_count": 309,
     "metadata": {},
     "output_type": "execute_result"
    }
   ],
   "source": [
    "elNetCV.score(X_test, y_test)"
   ]
  },
  {
   "cell_type": "code",
   "execution_count": null,
   "id": "f94e1d08",
   "metadata": {},
   "outputs": [],
   "source": []
  }
 ],
 "metadata": {
  "kernelspec": {
   "display_name": "Python 3",
   "language": "python",
   "name": "python3"
  },
  "language_info": {
   "codemirror_mode": {
    "name": "ipython",
    "version": 3
   },
   "file_extension": ".py",
   "mimetype": "text/x-python",
   "name": "python",
   "nbconvert_exporter": "python",
   "pygments_lexer": "ipython3",
   "version": "3.8.8"
  }
 },
 "nbformat": 4,
 "nbformat_minor": 5
}
