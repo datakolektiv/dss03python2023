{
 "cells": [
  {
   "attachments": {},
   "cell_type": "markdown",
   "id": "45045c69",
   "metadata": {},
   "source": [
    "# DATA SCIENCE SESSIONS VOL. 3\n",
    "### A Foundational Python Data Science Course\n",
    "## Session 18: Generalized Linear Models III. Multinomial Logistic Regression. Regularization of MNR. \n",
    "\n",
    "[&larr; Back to course webpage](https://datakolektiv.com/)\n",
    "\n",
    "Feedback should be send to [goran.milovanovic@datakolektiv.com](mailto:goran.milovanovic@datakolektiv.com). \n",
    "\n",
    "These notebooks accompany the DATA SCIENCE SESSIONS VOL. 3 :: A Foundational Python Data Science Course."
   ]
  },
  {
   "attachments": {},
   "cell_type": "markdown",
   "id": "62cd48f6",
   "metadata": {},
   "source": [
    "![](../img/IntroRDataScience_NonTech-1.jpg)"
   ]
  },
  {
   "attachments": {},
   "cell_type": "markdown",
   "id": "500b83fb",
   "metadata": {},
   "source": [
    "### Lecturers\n",
    "\n",
    "[Goran S. Milovanović, PhD, DataKolektiv, Chief Scientist & Owner](https://www.linkedin.com/in/gmilovanovic/)\n",
    "\n",
    "[Aleksandar Cvetković, PhD, DataKolektiv, Consultant](https://www.linkedin.com/in/alegzndr/)\n",
    "\n",
    "[Ilija Lazarević, MA, DataKolektiv, Consultant](https://www.linkedin.com/in/ilijalazarevic/)"
   ]
  },
  {
   "attachments": {},
   "cell_type": "markdown",
   "id": "ab6dd040",
   "metadata": {},
   "source": [
    "![](../img/DK_Logo_100.png)"
   ]
  },
  {
   "attachments": {},
   "cell_type": "markdown",
   "id": "1110a258",
   "metadata": {},
   "source": [
    "***"
   ]
  },
  {
   "cell_type": "code",
   "execution_count": 1,
   "id": "a4a7b078",
   "metadata": {},
   "outputs": [],
   "source": [
    "### --- Setup - importing the libraries\n",
    "\n",
    "# - supress those annoying 'Future Warning'\n",
    "import warnings\n",
    "warnings.simplefilter(action='ignore', category=FutureWarning)\n",
    "\n",
    "# - data\n",
    "import numpy as np\n",
    "import pandas as pd\n",
    "\n",
    "# - os\n",
    "import os\n",
    "\n",
    "# - ml\n",
    "import statsmodels.api as sm\n",
    "import statsmodels.formula.api as smf\n",
    "from statsmodels.stats.outliers_influence import variance_inflation_factor\n",
    "\n",
    "from sklearn.metrics import ConfusionMatrixDisplay\n",
    "from sklearn.metrics import plot_confusion_matrix\n",
    "\n",
    "# - visualization\n",
    "import matplotlib.pyplot as plt\n",
    "import seaborn as sns\n",
    "\n",
    "# - parameters\n",
    "%matplotlib inline\n",
    "\n",
    "pd.options.mode.chained_assignment = None  # default='warn'\n",
    "sns.set_theme()\n",
    "\n",
    "# - rng\n",
    "rng = np.random.default_rng()\n",
    "\n",
    "# - plots\n",
    "plt.rc(\"figure\", figsize=(8, 6))\n",
    "plt.rc(\"font\", size=14)\n",
    "sns.set_theme(style='white')\n",
    "\n",
    "# - directory tree\n",
    "data_dir = os.path.join(os.getcwd(), '_data')"
   ]
  },
  {
   "attachments": {},
   "cell_type": "markdown",
   "id": "0998760c",
   "metadata": {},
   "source": [
    "## 1. Multinomial Regression"
   ]
  },
  {
   "attachments": {},
   "cell_type": "markdown",
   "id": "d2048ef9",
   "metadata": {},
   "source": [
    "The Multinomial Regression model is a powerful classification tool. Consider a problem where some outcome variable can result in more than two discrete outcomes. For example, a customer visiting a webshop can end up their visit (a) buying nothing, (b) buying some Product A, or (c) Product B, or (d) Product C, etc. If we have some information about a particular customer's journey through the website (e.g. how much time did they spend on some particular pages, did they visit the webshop before or not, or any other information that customers might have chose to disclose on their sign-up...), we can use it as a set of predictors of customer behavior resulting in any of the (a), (b), (c), (d). We do that by means of a simple extension of the Binomial Logistic Regression that is used to solve for dichotomies: enters the Multinomial Regression model."
   ]
  },
  {
   "attachments": {},
   "cell_type": "markdown",
   "id": "30cbc780",
   "metadata": {},
   "source": [
    "### The Model\n",
    "\n",
    "First, similar to what happens in *dummy coding*, given a set of $K$ possible outcomes we choose one of them as a *baseline*. Thus all results of the Multionomial Regression will be interpreted as effects relative to that baseline outcome category, for example: for a unit increase in predictor $X_1$ what is the change in odds to switch from (a) buying nothing to (b) buying Product A. We are already familiar with this logic, right?\n",
    "\n",
    "So, consider a set of $K-1$ independent Binary Logistic Models with only one predictor $X$ where the baseline is now referred to as $K$:\n",
    "\n",
    "$$log\\frac{P(Y_i = 1)}{P(Y_i = K)} = \\beta_{1,0} + \\beta_{1,1}X$$\n",
    "\n",
    "$$log\\frac{P(Y_i = 2)}{P(Y_i = K)} = \\beta_{2,0} + \\beta_{2,1}X$$\n",
    "\n",
    "$$log\\frac{P(Y_i = K-1)}{P(Y_i = K)} = \\beta_{K-1,0} + \\beta_{K-1,1}X$$\n",
    "\n",
    "Obviously, we are introducing a set of new regression coefficients ($\\beta_{k,\\cdot}$) for each possible value of the outcome $k = 1, 2,.., K-1$. The *log-odds* are on the LHS while the linear model remains on the RHS.\n",
    "\n",
    "Now we exponentiate the equations to arrive at the expressions for *odds*:\n",
    "\n",
    "$$\\frac{P(Y_i = 1)}{P(Y_i = K)} = e^{\\beta_{1,0} + \\beta_{1,1}X}$$\n",
    "\n",
    "$$\\frac{P(Y_i = 2)}{P(Y_i = K)} = e^{\\beta_{2,0} + \\beta_{2,1}X}$$\n",
    "\n",
    "$$\\frac{P(Y_i = K-1)}{P(Y_i = K)} = e^{\\beta_{K-1,0} + \\beta_{K-1,1}X}$$\n",
    "\n",
    "And solve for $P(Y_i = 1), P(Y_i = 2),.. P(Y_i = K-1)$:\n",
    "\n",
    "$$P(Y_i = 1) = P(Y_i = K)e^{\\beta_{1,0} + \\beta_{1,1}X}$$\n",
    "\n",
    "$$P(Y_i = 2) = P(Y_i = K)e^{\\beta_{2,0} + \\beta_{2,1}X}$$\n",
    "\n",
    "$$P(Y_i = K-1) = P(Y_i = K)e^{\\beta_{K-1,0} + \\beta_{K-1,1}X}$$\n",
    "\n",
    "From the fact that all probabilities $P(Y_i = 1), P(Y_i = 2), .., P(Y_i = K)$ must sum to one it can be shown that\n",
    "\n",
    "$$P(Y_i = K) = \\frac{1}{1+\\sum_{k=1}^{K-1}e^{\\beta_{k,0} + \\beta_{k,1}X}}$$\n",
    "\n",
    "Because:\n",
    "\n",
    "(1) $P(Y_i = 1) + P(Y_i = 2) + ... + P(Y_i = K) = 1$, we have\n",
    "\n",
    "(2) $P(Y_i = K) + P(Y_i = K)e^{\\beta_{1,0} + \\beta_{1,1}X} + P(Y_i = K)e^{\\beta_{2,0} + \\beta_{2,1}X} + ... + P(Y_i = K=1)e^{\\beta_{K-1,0} + \\beta_{K-1,1}X} = 1$ \n",
    "\n",
    "(3) and then replace $e^{\\beta_{1,0} + \\beta_{1,1}X}$ by $l_1$, $e^{\\beta_{2,0} + \\beta_{2,1}X}$ by $l_2$, and $e^{\\beta_{k,0} + \\beta_{k,1}X}$ by $l_k$ in the general case, we have\n",
    "\n",
    "(4) $P(Y_i = K) + P(Y_i = K)e^{l_1} + P(Y_i = K)e^{l_2} + ... + P(Y_i = K-1)e^{l_{K-1}} = 1$\n",
    "\n",
    "(5) $P(Y_i = K)[1 + e^{l_1} + e^{l_2} + ... + e^{l_{K-1}}] = 1$ so that \n",
    "\n",
    "(6) $P(Y_i = K) = \\frac{1}{1 + e^{l_1} + e^{l_2} + ... + e^{l_{K-1}}} = \\frac{1}{1+\\sum_{k=1}^{K-1}e^{\\beta_{k,0} + \\beta_{k,1}X}}$\n",
    "\n",
    "It is easy now to derive the expressions for all $K-1$ probabilities of the outcome resulting in a particular class:\n",
    "\n",
    "$$P(Y_i = 1) = \\frac{e^{\\beta_{1,0} + \\beta_{1,1}X}}{1+\\sum_{k=1}^{K-1}e^{\\beta_{k,0} + \\beta_{k,1}X}}$$\n",
    "\n",
    "$$P(Y_i = 2) = \\frac{e^{\\beta_{2,0} + \\beta_{2,1}X}}{1+\\sum_{k=1}^{K-1}e^{\\beta_{k,0} + \\beta_{k,1}X}}$$\n",
    "\n",
    "$$P(Y_i = K-1) = \\frac{e^{\\beta_{K-1,0} + \\beta_{K-1,1}X}}{1+\\sum_{k=1}^{K-1}e^{\\beta_{k,0} + \\beta_{k,1}X}}$$"
   ]
  },
  {
   "cell_type": "code",
   "execution_count": 2,
   "id": "2f4a0362",
   "metadata": {},
   "outputs": [
    {
     "data": {
      "text/html": [
       "<div>\n",
       "<style scoped>\n",
       "    .dataframe tbody tr th:only-of-type {\n",
       "        vertical-align: middle;\n",
       "    }\n",
       "\n",
       "    .dataframe tbody tr th {\n",
       "        vertical-align: top;\n",
       "    }\n",
       "\n",
       "    .dataframe thead th {\n",
       "        text-align: right;\n",
       "    }\n",
       "</style>\n",
       "<table border=\"1\" class=\"dataframe\">\n",
       "  <thead>\n",
       "    <tr style=\"text-align: right;\">\n",
       "      <th></th>\n",
       "      <th>SepalLengthCm</th>\n",
       "      <th>SepalWidthCm</th>\n",
       "      <th>PetalLengthCm</th>\n",
       "      <th>PetalWidthCm</th>\n",
       "      <th>Species</th>\n",
       "    </tr>\n",
       "    <tr>\n",
       "      <th>Id</th>\n",
       "      <th></th>\n",
       "      <th></th>\n",
       "      <th></th>\n",
       "      <th></th>\n",
       "      <th></th>\n",
       "    </tr>\n",
       "  </thead>\n",
       "  <tbody>\n",
       "    <tr>\n",
       "      <th>1</th>\n",
       "      <td>5.1</td>\n",
       "      <td>3.5</td>\n",
       "      <td>1.4</td>\n",
       "      <td>0.2</td>\n",
       "      <td>Iris-setosa</td>\n",
       "    </tr>\n",
       "    <tr>\n",
       "      <th>2</th>\n",
       "      <td>4.9</td>\n",
       "      <td>3.0</td>\n",
       "      <td>1.4</td>\n",
       "      <td>0.2</td>\n",
       "      <td>Iris-setosa</td>\n",
       "    </tr>\n",
       "    <tr>\n",
       "      <th>3</th>\n",
       "      <td>4.7</td>\n",
       "      <td>3.2</td>\n",
       "      <td>1.3</td>\n",
       "      <td>0.2</td>\n",
       "      <td>Iris-setosa</td>\n",
       "    </tr>\n",
       "    <tr>\n",
       "      <th>4</th>\n",
       "      <td>4.6</td>\n",
       "      <td>3.1</td>\n",
       "      <td>1.5</td>\n",
       "      <td>0.2</td>\n",
       "      <td>Iris-setosa</td>\n",
       "    </tr>\n",
       "    <tr>\n",
       "      <th>5</th>\n",
       "      <td>5.0</td>\n",
       "      <td>3.6</td>\n",
       "      <td>1.4</td>\n",
       "      <td>0.2</td>\n",
       "      <td>Iris-setosa</td>\n",
       "    </tr>\n",
       "    <tr>\n",
       "      <th>6</th>\n",
       "      <td>5.4</td>\n",
       "      <td>3.9</td>\n",
       "      <td>1.7</td>\n",
       "      <td>0.4</td>\n",
       "      <td>Iris-setosa</td>\n",
       "    </tr>\n",
       "    <tr>\n",
       "      <th>7</th>\n",
       "      <td>4.6</td>\n",
       "      <td>3.4</td>\n",
       "      <td>1.4</td>\n",
       "      <td>0.3</td>\n",
       "      <td>Iris-setosa</td>\n",
       "    </tr>\n",
       "    <tr>\n",
       "      <th>8</th>\n",
       "      <td>5.0</td>\n",
       "      <td>3.4</td>\n",
       "      <td>1.5</td>\n",
       "      <td>0.2</td>\n",
       "      <td>Iris-setosa</td>\n",
       "    </tr>\n",
       "    <tr>\n",
       "      <th>9</th>\n",
       "      <td>4.4</td>\n",
       "      <td>2.9</td>\n",
       "      <td>1.4</td>\n",
       "      <td>0.2</td>\n",
       "      <td>Iris-setosa</td>\n",
       "    </tr>\n",
       "    <tr>\n",
       "      <th>10</th>\n",
       "      <td>4.9</td>\n",
       "      <td>3.1</td>\n",
       "      <td>1.5</td>\n",
       "      <td>0.1</td>\n",
       "      <td>Iris-setosa</td>\n",
       "    </tr>\n",
       "  </tbody>\n",
       "</table>\n",
       "</div>"
      ],
      "text/plain": [
       "    SepalLengthCm  SepalWidthCm  PetalLengthCm  PetalWidthCm      Species\n",
       "Id                                                                       \n",
       "1             5.1           3.5            1.4           0.2  Iris-setosa\n",
       "2             4.9           3.0            1.4           0.2  Iris-setosa\n",
       "3             4.7           3.2            1.3           0.2  Iris-setosa\n",
       "4             4.6           3.1            1.5           0.2  Iris-setosa\n",
       "5             5.0           3.6            1.4           0.2  Iris-setosa\n",
       "6             5.4           3.9            1.7           0.4  Iris-setosa\n",
       "7             4.6           3.4            1.4           0.3  Iris-setosa\n",
       "8             5.0           3.4            1.5           0.2  Iris-setosa\n",
       "9             4.4           2.9            1.4           0.2  Iris-setosa\n",
       "10            4.9           3.1            1.5           0.1  Iris-setosa"
      ]
     },
     "execution_count": 2,
     "metadata": {},
     "output_type": "execute_result"
    }
   ],
   "source": [
    "# - loading the dataset\n",
    "# - Kaggle: https://www.kaggle.com/datasets/uciml/iris\n",
    "# - place it in your _data/ directory\n",
    "iris_data = pd.read_csv(os.path.join(data_dir, 'Iris.csv'), index_col='Id')\n",
    "iris_data.head(10)"
   ]
  },
  {
   "cell_type": "code",
   "execution_count": 3,
   "id": "fd4df55e",
   "metadata": {},
   "outputs": [
    {
     "data": {
      "text/plain": [
       "Iris-setosa        50\n",
       "Iris-versicolor    50\n",
       "Iris-virginica     50\n",
       "Name: Species, dtype: int64"
      ]
     },
     "execution_count": 3,
     "metadata": {},
     "output_type": "execute_result"
    }
   ],
   "source": [
    "# - counting the instances of each category\n",
    "iris_data['Species'].value_counts()"
   ]
  },
  {
   "cell_type": "code",
   "execution_count": 4,
   "id": "046f9d8f",
   "metadata": {},
   "outputs": [
    {
     "name": "stdout",
     "output_type": "stream",
     "text": [
      "<class 'pandas.core.frame.DataFrame'>\n",
      "Int64Index: 150 entries, 1 to 150\n",
      "Data columns (total 5 columns):\n",
      " #   Column         Non-Null Count  Dtype  \n",
      "---  ------         --------------  -----  \n",
      " 0   SepalLengthCm  150 non-null    float64\n",
      " 1   SepalWidthCm   150 non-null    float64\n",
      " 2   PetalLengthCm  150 non-null    float64\n",
      " 3   PetalWidthCm   150 non-null    float64\n",
      " 4   Species        150 non-null    object \n",
      "dtypes: float64(4), object(1)\n",
      "memory usage: 7.0+ KB\n"
     ]
    }
   ],
   "source": [
    "# - info on the variables\n",
    "iris_data.info()"
   ]
  },
  {
   "attachments": {},
   "cell_type": "markdown",
   "id": "5ee2110e",
   "metadata": {},
   "source": [
    "### Target: predict species from all continuous predictors"
   ]
  },
  {
   "attachments": {},
   "cell_type": "markdown",
   "id": "106d40dd",
   "metadata": {},
   "source": [
    "We use Multinomial Logistic Regression Model to predict the most probable category for the given observation $\\textbf{x}$ with features $(x_1, x_2, \\ldots, x_k)$. Assume that our target variable $y$ belongs to one of categories from the set $\\{1, 2, \\ldots, C\\}$. In MNR we usually select one category as the referrence category; let that be the category $C$. Then, the probability that the target variable $y$ belongs to category $c = 1,\\ldots,C-1$ is calculated via\n",
    "\n",
    "$$P(y = c) = \\frac{e^{\\beta^{(c)}_1x_1 + \\beta^{(c)}_2x_2 + \\cdots + \\beta^{(c)}_kx_k + \\beta_0}}{1+\\sum_{j=1}^{C-1}e^{\\beta^{(j)}_1x_1 + \\beta^{(j)}_2x_2 + \\cdots + \\beta^{(j)}_kx_k + \\beta_0}},$$\n",
    "\n",
    "and the probability that it belogns to the referrence category $C$ is \n",
    "\n",
    "$$P(y = C) = \\frac{1}{1+\\sum_{j=1}^{C-1}e^{\\beta^{(j)}_1x_1 + \\beta^{(j)}_2x_2 + \\cdots + \\beta^{(j)}_kx_k + \\beta_0}},$$\n",
    "\n",
    "where $\\beta^{(j)}_1, \\beta^{(j)}_2, \\ldots, \\beta^{(j)}_k,\\ j=1,\\ldots,C$ are the model's parameters for predictors and target variable categories, and $n$ is the intercept of the model.\n",
    "\n",
    "After calculating all the probabilities $P(y = c),\\ c=1,\\ldots,C$ we predict the target variable as\n",
    "\n",
    "$$\\hat{y} = \\textrm{argmax}_{c=1,\\ldots,C}P(y=c).$$\n",
    "\n",
    "The model is estimated by MLE (Maximum Likelihood Estimation). For each category $c$ - except for the referrence $C$, of course - we obtain a set of coefficients. Each model coefficient, in each category, tells us about the $\\Delta_{odds}$ in favor of the target category, for a unit change of a predictor, in comparison with the baseline category, and given that everything else is kept constant."
   ]
  },
  {
   "cell_type": "code",
   "execution_count": 5,
   "id": "a0817223",
   "metadata": {},
   "outputs": [
    {
     "name": "stdout",
     "output_type": "stream",
     "text": [
      "    const  SepalLengthCm  SepalWidthCm  PetalLengthCm  PetalWidthCm\n",
      "Id                                                                 \n",
      "1     1.0            5.1           3.5            1.4           0.2\n",
      "2     1.0            4.9           3.0            1.4           0.2\n",
      "3     1.0            4.7           3.2            1.3           0.2\n",
      "4     1.0            4.6           3.1            1.5           0.2\n",
      "5     1.0            5.0           3.6            1.4           0.2\n",
      "6     1.0            5.4           3.9            1.7           0.4\n",
      "7     1.0            4.6           3.4            1.4           0.3\n",
      "8     1.0            5.0           3.4            1.5           0.2\n",
      "9     1.0            4.4           2.9            1.4           0.2\n",
      "10    1.0            4.9           3.1            1.5           0.1\n"
     ]
    }
   ],
   "source": [
    "### --- Preparing the variables \n",
    "\n",
    "# - feature matrix\n",
    "X = iris_data.drop(columns='Species')\n",
    "# - we append a constant column of ones to the feature matrix\n",
    "X = sm.add_constant(X)\n",
    "print(X[:10])\n",
    "\n",
    "\n",
    "# - we impose the ordering to the categories of the target vector; \n",
    "# - the first category is the referrence category\n",
    "cat_type = pd.CategoricalDtype(categories=[\"Iris-versicolor\", \n",
    "                                           \"Iris-virginica\", \n",
    "                                           \"Iris-setosa\"], ordered=True)\n",
    "y = iris_data['Species'].astype(cat_type)"
   ]
  },
  {
   "cell_type": "code",
   "execution_count": 6,
   "id": "e050fba8",
   "metadata": {},
   "outputs": [
    {
     "name": "stdout",
     "output_type": "stream",
     "text": [
      "Optimization terminated successfully.\n",
      "         Current function value: 0.039663\n",
      "         Iterations: 26\n",
      "         Function evaluations: 27\n",
      "         Gradient evaluations: 27\n",
      "         Hessian evaluations: 26\n"
     ]
    },
    {
     "data": {
      "text/html": [
       "<table class=\"simpletable\">\n",
       "<caption>MNLogit Regression Results</caption>\n",
       "<tr>\n",
       "  <th>Dep. Variable:</th>        <td>Species</td>     <th>  No. Observations:  </th>  <td>   150</td>  \n",
       "</tr>\n",
       "<tr>\n",
       "  <th>Model:</th>                <td>MNLogit</td>     <th>  Df Residuals:      </th>  <td>   140</td>  \n",
       "</tr>\n",
       "<tr>\n",
       "  <th>Method:</th>                 <td>MLE</td>       <th>  Df Model:          </th>  <td>     8</td>  \n",
       "</tr>\n",
       "<tr>\n",
       "  <th>Date:</th>            <td>Sat, 06 May 2023</td> <th>  Pseudo R-squ.:     </th>  <td>0.9639</td>  \n",
       "</tr>\n",
       "<tr>\n",
       "  <th>Time:</th>                <td>00:11:38</td>     <th>  Log-Likelihood:    </th> <td> -5.9494</td> \n",
       "</tr>\n",
       "<tr>\n",
       "  <th>converged:</th>             <td>True</td>       <th>  LL-Null:           </th> <td> -164.79</td> \n",
       "</tr>\n",
       "<tr>\n",
       "  <th>Covariance Type:</th>     <td>nonrobust</td>    <th>  LLR p-value:       </th> <td>7.056e-64</td>\n",
       "</tr>\n",
       "</table>\n",
       "<table class=\"simpletable\">\n",
       "<tr>\n",
       "  <th>Species=Iris-virginica</th>    <th>coef</th>     <th>std err</th>      <th>z</th>      <th>P>|z|</th>  <th>[0.025</th>    <th>0.975]</th>  \n",
       "</tr>\n",
       "<tr>\n",
       "  <th>const</th>                  <td>  -42.6241</td> <td>   25.698</td> <td>   -1.659</td> <td> 0.097</td> <td>  -92.992</td> <td>    7.744</td>\n",
       "</tr>\n",
       "<tr>\n",
       "  <th>SepalLengthCm</th>          <td>   -2.4650</td> <td>    2.394</td> <td>   -1.030</td> <td> 0.303</td> <td>   -7.158</td> <td>    2.227</td>\n",
       "</tr>\n",
       "<tr>\n",
       "  <th>SepalWidthCm</th>           <td>   -6.6810</td> <td>    4.479</td> <td>   -1.492</td> <td> 0.136</td> <td>  -15.460</td> <td>    2.098</td>\n",
       "</tr>\n",
       "<tr>\n",
       "  <th>PetalLengthCm</th>          <td>    9.4273</td> <td>    4.735</td> <td>    1.991</td> <td> 0.046</td> <td>    0.146</td> <td>   18.708</td>\n",
       "</tr>\n",
       "<tr>\n",
       "  <th>PetalWidthCm</th>           <td>   18.2837</td> <td>    9.741</td> <td>    1.877</td> <td> 0.061</td> <td>   -0.808</td> <td>   37.375</td>\n",
       "</tr>\n",
       "<tr>\n",
       "  <th>Species=Iris-setosa</th>    <th>coef</th>     <th>std err</th>      <th>z</th>      <th>P>|z|</th>  <th>[0.025</th>    <th>0.975]</th>  \n",
       "</tr>\n",
       "<tr>\n",
       "  <th>const</th>               <td>    1.2685</td> <td> 3115.887</td> <td>    0.000</td> <td> 1.000</td> <td>-6105.758</td> <td> 6108.295</td>\n",
       "</tr>\n",
       "<tr>\n",
       "  <th>SepalLengthCm</th>       <td>    2.1956</td> <td>  882.047</td> <td>    0.002</td> <td> 0.998</td> <td>-1726.584</td> <td> 1730.976</td>\n",
       "</tr>\n",
       "<tr>\n",
       "  <th>SepalWidthCm</th>        <td>    6.4425</td> <td>  431.475</td> <td>    0.015</td> <td> 0.988</td> <td> -839.233</td> <td>  852.118</td>\n",
       "</tr>\n",
       "<tr>\n",
       "  <th>PetalLengthCm</th>       <td>  -10.8411</td> <td>  560.407</td> <td>   -0.019</td> <td> 0.985</td> <td>-1109.218</td> <td> 1087.536</td>\n",
       "</tr>\n",
       "<tr>\n",
       "  <th>PetalWidthCm</th>        <td>   -5.5832</td> <td> 1076.319</td> <td>   -0.005</td> <td> 0.996</td> <td>-2115.129</td> <td> 2103.963</td>\n",
       "</tr>\n",
       "</table>"
      ],
      "text/plain": [
       "<class 'statsmodels.iolib.summary.Summary'>\n",
       "\"\"\"\n",
       "                          MNLogit Regression Results                          \n",
       "==============================================================================\n",
       "Dep. Variable:                Species   No. Observations:                  150\n",
       "Model:                        MNLogit   Df Residuals:                      140\n",
       "Method:                           MLE   Df Model:                            8\n",
       "Date:                Sat, 06 May 2023   Pseudo R-squ.:                  0.9639\n",
       "Time:                        00:11:38   Log-Likelihood:                -5.9494\n",
       "converged:                       True   LL-Null:                       -164.79\n",
       "Covariance Type:            nonrobust   LLR p-value:                 7.056e-64\n",
       "=======================================================================================\n",
       "Species=Iris-virginica       coef    std err          z      P>|z|      [0.025      0.975]\n",
       "------------------------------------------------------------------------------------------\n",
       "const                    -42.6241     25.698     -1.659      0.097     -92.992       7.744\n",
       "SepalLengthCm             -2.4650      2.394     -1.030      0.303      -7.158       2.227\n",
       "SepalWidthCm              -6.6810      4.479     -1.492      0.136     -15.460       2.098\n",
       "PetalLengthCm              9.4273      4.735      1.991      0.046       0.146      18.708\n",
       "PetalWidthCm              18.2837      9.741      1.877      0.061      -0.808      37.375\n",
       "------------------------------------------------------------------------------------------\n",
       "Species=Iris-setosa       coef    std err          z      P>|z|      [0.025      0.975]\n",
       "---------------------------------------------------------------------------------------\n",
       "const                   1.2685   3115.887      0.000      1.000   -6105.758    6108.295\n",
       "SepalLengthCm           2.1956    882.047      0.002      0.998   -1726.584    1730.976\n",
       "SepalWidthCm            6.4425    431.475      0.015      0.988    -839.233     852.118\n",
       "PetalLengthCm         -10.8411    560.407     -0.019      0.985   -1109.218    1087.536\n",
       "PetalWidthCm           -5.5832   1076.319     -0.005      0.996   -2115.129    2103.963\n",
       "=======================================================================================\n",
       "\"\"\""
      ]
     },
     "execution_count": 6,
     "metadata": {},
     "output_type": "execute_result"
    }
   ],
   "source": [
    "# - fitting the MNR model to the data; \n",
    "# - we use the Newton's Conjugate Gradient method as \n",
    "# - the optimizer to compute the models coefficients\n",
    "mnr_model = sm.MNLogit(exog=X, endog=y).fit(method='ncg', maxiter=150)\n",
    "mnr_model.summary()"
   ]
  },
  {
   "cell_type": "code",
   "execution_count": 7,
   "id": "96985430",
   "metadata": {},
   "outputs": [
    {
     "data": {
      "text/plain": [
       "array([[49.,  1.,  0.],\n",
       "       [ 1., 49.,  0.],\n",
       "       [ 0.,  0., 50.]])"
      ]
     },
     "execution_count": 7,
     "metadata": {},
     "output_type": "execute_result"
    }
   ],
   "source": [
    "# - confusion matrix for our model and given data; \n",
    "# - rows/columns are on par with the ordering of categorical variable\n",
    "mnr_model.pred_table()"
   ]
  },
  {
   "cell_type": "code",
   "execution_count": 8,
   "id": "7bea8fad",
   "metadata": {},
   "outputs": [
    {
     "data": {
      "image/png": "[encoded data removed]",
      "text/plain": [
       "<Figure size 800x600 with 2 Axes>"
      ]
     },
     "metadata": {},
     "output_type": "display_data"
    }
   ],
   "source": [
    "ConfusionMatrixDisplay(mnr_model.pred_table(), display_labels=y.value_counts().index.to_list()).plot();"
   ]
  },
  {
   "cell_type": "code",
   "execution_count": 9,
   "id": "0738a08d",
   "metadata": {},
   "outputs": [
    {
     "name": "stdout",
     "output_type": "stream",
     "text": [
      "Correct observations: 148.0\n",
      "Total observations: 150.0\n",
      "The accuracy of our model: 0.9867\n"
     ]
    }
   ],
   "source": [
    "# - accuracy of the model\n",
    "correct_classes = np.trace(mnr_model.pred_table())\n",
    "print(f'Correct observations: {correct_classes}')\n",
    "num_obs = np.sum(mnr_model.pred_table())\n",
    "print(f'Total observations: {num_obs}')\n",
    "print(f'The accuracy of our model: {round(correct_classes/num_obs, 4)}')"
   ]
  },
  {
   "cell_type": "code",
   "execution_count": 10,
   "id": "321639e5",
   "metadata": {},
   "outputs": [
    {
     "data": {
      "text/plain": [
       "array([[7.41125993e-09, 1.15691965e-35, 9.99999993e-01],\n",
       "       [2.88110802e-07, 2.07898383e-32, 9.99999712e-01],\n",
       "       [4.16729326e-08, 5.04109728e-34, 9.99999958e-01],\n",
       "       [8.64266383e-07, 1.71937382e-31, 9.99999136e-01],\n",
       "       [4.84676016e-09, 4.96321518e-36, 9.99999995e-01],\n",
       "       [2.30190564e-08, 7.76397915e-34, 9.99999977e-01],\n",
       "       [7.39468847e-08, 4.80628656e-33, 9.99999926e-01],\n",
       "       [5.19830060e-08, 5.19879646e-34, 9.99999948e-01],\n",
       "       [1.64479719e-06, 7.94019900e-31, 9.99998355e-01],\n",
       "       [2.55927514e-07, 3.90503168e-33, 9.99999744e-01]])"
      ]
     },
     "execution_count": 10,
     "metadata": {},
     "output_type": "execute_result"
    }
   ],
   "source": [
    "# - model's prediction of probabilities; \n",
    "# - columns correspond to the ordering of categorical variable\n",
    "mnr_model.predict()[:10]"
   ]
  },
  {
   "cell_type": "code",
   "execution_count": 11,
   "id": "8811e0b3",
   "metadata": {},
   "outputs": [
    {
     "data": {
      "text/plain": [
       "array([2, 2, 2, 2, 2, 2, 2, 2, 2, 2, 2, 2, 2, 2, 2, 2, 2, 2, 2, 2, 2, 2,\n",
       "       2, 2, 2, 2, 2, 2, 2, 2, 2, 2, 2, 2, 2, 2, 2, 2, 2, 2, 2, 2, 2, 2,\n",
       "       2, 2, 2, 2, 2, 2, 0, 0, 0, 0, 0, 0, 0, 0, 0, 0, 0, 0, 0, 0, 0, 0,\n",
       "       0, 0, 0, 0, 0, 0, 0, 0, 0, 0, 0, 0, 0, 0, 0, 0, 0, 1, 0, 0, 0, 0,\n",
       "       0, 0, 0, 0, 0, 0, 0, 0, 0, 0, 0, 0, 1, 1, 1, 1, 1, 1, 1, 1, 1, 1,\n",
       "       1, 1, 1, 1, 1, 1, 1, 1, 1, 1, 1, 1, 1, 1, 1, 1, 1, 1, 1, 1, 1, 1,\n",
       "       1, 0, 1, 1, 1, 1, 1, 1, 1, 1, 1, 1, 1, 1, 1, 1, 1, 1])"
      ]
     },
     "execution_count": 11,
     "metadata": {},
     "output_type": "execute_result"
    }
   ],
   "source": [
    "# - model's prediction of categories; \n",
    "# - numbers correspond to the ordering of categorical variable\n",
    "preds = np.argmax(mnr_model.predict(), axis=-1)\n",
    "preds"
   ]
  },
  {
   "attachments": {},
   "cell_type": "markdown",
   "id": "f540f640",
   "metadata": {},
   "source": [
    "### Multicolinearity in Multinomial Regression"
   ]
  },
  {
   "cell_type": "code",
   "execution_count": 12,
   "id": "3db36c7e",
   "metadata": {},
   "outputs": [
    {
     "data": {
      "text/plain": [
       "Id\n",
       "1      2\n",
       "2      2\n",
       "3      2\n",
       "4      2\n",
       "5      2\n",
       "      ..\n",
       "146    1\n",
       "147    1\n",
       "148    1\n",
       "149    1\n",
       "150    1\n",
       "Length: 150, dtype: int8"
      ]
     },
     "execution_count": 12,
     "metadata": {},
     "output_type": "execute_result"
    }
   ],
   "source": [
    "# - Step 1: recode categorical target variable to integer values, \n",
    "# - just in order to be able to run a multiple linear regression on the data:\n",
    "y_code = y.cat.codes\n",
    "y_code"
   ]
  },
  {
   "cell_type": "code",
   "execution_count": 13,
   "id": "8b4de329",
   "metadata": {},
   "outputs": [
    {
     "data": {
      "text/html": [
       "<table class=\"simpletable\">\n",
       "<caption>OLS Regression Results</caption>\n",
       "<tr>\n",
       "  <th>Dep. Variable:</th>            <td>y</td>        <th>  R-squared:         </th> <td>   0.571</td>\n",
       "</tr>\n",
       "<tr>\n",
       "  <th>Model:</th>                   <td>OLS</td>       <th>  Adj. R-squared:    </th> <td>   0.559</td>\n",
       "</tr>\n",
       "<tr>\n",
       "  <th>Method:</th>             <td>Least Squares</td>  <th>  F-statistic:       </th> <td>   48.17</td>\n",
       "</tr>\n",
       "<tr>\n",
       "  <th>Date:</th>             <td>Sat, 06 May 2023</td> <th>  Prob (F-statistic):</th> <td>1.02e-25</td>\n",
       "</tr>\n",
       "<tr>\n",
       "  <th>Time:</th>                 <td>00:11:39</td>     <th>  Log-Likelihood:    </th> <td> -119.03</td>\n",
       "</tr>\n",
       "<tr>\n",
       "  <th>No. Observations:</th>      <td>   150</td>      <th>  AIC:               </th> <td>   248.1</td>\n",
       "</tr>\n",
       "<tr>\n",
       "  <th>Df Residuals:</th>          <td>   145</td>      <th>  BIC:               </th> <td>   263.1</td>\n",
       "</tr>\n",
       "<tr>\n",
       "  <th>Df Model:</th>              <td>     4</td>      <th>                     </th>     <td> </td>   \n",
       "</tr>\n",
       "<tr>\n",
       "  <th>Covariance Type:</th>      <td>nonrobust</td>    <th>                     </th>     <td> </td>   \n",
       "</tr>\n",
       "</table>\n",
       "<table class=\"simpletable\">\n",
       "<tr>\n",
       "        <td></td>           <th>coef</th>     <th>std err</th>      <th>t</th>      <th>P>|t|</th>  <th>[0.025</th>    <th>0.975]</th>  \n",
       "</tr>\n",
       "<tr>\n",
       "  <th>const</th>         <td>   -0.4405</td> <td>    0.509</td> <td>   -0.866</td> <td> 0.388</td> <td>   -1.446</td> <td>    0.565</td>\n",
       "</tr>\n",
       "<tr>\n",
       "  <th>SepalLengthCm</th> <td>    0.0872</td> <td>    0.143</td> <td>    0.608</td> <td> 0.544</td> <td>   -0.196</td> <td>    0.371</td>\n",
       "</tr>\n",
       "<tr>\n",
       "  <th>SepalWidthCm</th>  <td>    0.6832</td> <td>    0.149</td> <td>    4.586</td> <td> 0.000</td> <td>    0.389</td> <td>    0.978</td>\n",
       "</tr>\n",
       "<tr>\n",
       "  <th>PetalLengthCm</th> <td>   -0.4413</td> <td>    0.142</td> <td>   -3.117</td> <td> 0.002</td> <td>   -0.721</td> <td>   -0.161</td>\n",
       "</tr>\n",
       "<tr>\n",
       "  <th>PetalWidthCm</th>  <td>    0.4198</td> <td>    0.235</td> <td>    1.789</td> <td> 0.076</td> <td>   -0.044</td> <td>    0.884</td>\n",
       "</tr>\n",
       "</table>\n",
       "<table class=\"simpletable\">\n",
       "<tr>\n",
       "  <th>Omnibus:</th>       <td>28.857</td> <th>  Durbin-Watson:     </th> <td>   0.448</td>\n",
       "</tr>\n",
       "<tr>\n",
       "  <th>Prob(Omnibus):</th> <td> 0.000</td> <th>  Jarque-Bera (JB):  </th> <td>   7.904</td>\n",
       "</tr>\n",
       "<tr>\n",
       "  <th>Skew:</th>          <td>-0.222</td> <th>  Prob(JB):          </th> <td>  0.0192</td>\n",
       "</tr>\n",
       "<tr>\n",
       "  <th>Kurtosis:</th>      <td> 1.966</td> <th>  Cond. No.          </th> <td>    91.8</td>\n",
       "</tr>\n",
       "</table><br/><br/>Notes:<br/>[1] Standard Errors assume that the covariance matrix of the errors is correctly specified."
      ],
      "text/plain": [
       "<class 'statsmodels.iolib.summary.Summary'>\n",
       "\"\"\"\n",
       "                            OLS Regression Results                            \n",
       "==============================================================================\n",
       "Dep. Variable:                      y   R-squared:                       0.571\n",
       "Model:                            OLS   Adj. R-squared:                  0.559\n",
       "Method:                 Least Squares   F-statistic:                     48.17\n",
       "Date:                Sat, 06 May 2023   Prob (F-statistic):           1.02e-25\n",
       "Time:                        00:11:39   Log-Likelihood:                -119.03\n",
       "No. Observations:                 150   AIC:                             248.1\n",
       "Df Residuals:                     145   BIC:                             263.1\n",
       "Df Model:                           4                                         \n",
       "Covariance Type:            nonrobust                                         \n",
       "=================================================================================\n",
       "                    coef    std err          t      P>|t|      [0.025      0.975]\n",
       "---------------------------------------------------------------------------------\n",
       "const            -0.4405      0.509     -0.866      0.388      -1.446       0.565\n",
       "SepalLengthCm     0.0872      0.143      0.608      0.544      -0.196       0.371\n",
       "SepalWidthCm      0.6832      0.149      4.586      0.000       0.389       0.978\n",
       "PetalLengthCm    -0.4413      0.142     -3.117      0.002      -0.721      -0.161\n",
       "PetalWidthCm      0.4198      0.235      1.789      0.076      -0.044       0.884\n",
       "==============================================================================\n",
       "Omnibus:                       28.857   Durbin-Watson:                   0.448\n",
       "Prob(Omnibus):                  0.000   Jarque-Bera (JB):                7.904\n",
       "Skew:                          -0.222   Prob(JB):                       0.0192\n",
       "Kurtosis:                       1.966   Cond. No.                         91.8\n",
       "==============================================================================\n",
       "\n",
       "Notes:\n",
       "[1] Standard Errors assume that the covariance matrix of the errors is correctly specified.\n",
       "\"\"\""
      ]
     },
     "execution_count": 13,
     "metadata": {},
     "output_type": "execute_result"
    }
   ],
   "source": [
    "### --- Step 2: produce a Multiple Linear Regression model for the data \n",
    "mnr_model = sm.OLS(exog=X, endog=y_code).fit()\n",
    "mnr_model.summary()"
   ]
  },
  {
   "cell_type": "code",
   "execution_count": 14,
   "id": "cc299782",
   "metadata": {},
   "outputs": [
    {
     "data": {
      "text/plain": [
       "Index(['SepalLengthCm', 'SepalWidthCm', 'PetalLengthCm', 'PetalWidthCm'], dtype='object')"
      ]
     },
     "execution_count": 14,
     "metadata": {},
     "output_type": "execute_result"
    }
   ],
   "source": [
    "# --- Step 3: compute VIFs for the predictors\n",
    "predictors = iris_data.columns.drop('Species')\n",
    "predictors"
   ]
  },
  {
   "cell_type": "code",
   "execution_count": 15,
   "id": "3bd77834",
   "metadata": {},
   "outputs": [],
   "source": [
    "# - appending the columns of ones to the predictors' data\n",
    "model_frame_predictors = sm.add_constant(iris_data[predictors])"
   ]
  },
  {
   "cell_type": "code",
   "execution_count": 16,
   "id": "69def740",
   "metadata": {},
   "outputs": [
    {
     "data": {
      "text/html": [
       "<div>\n",
       "<style scoped>\n",
       "    .dataframe tbody tr th:only-of-type {\n",
       "        vertical-align: middle;\n",
       "    }\n",
       "\n",
       "    .dataframe tbody tr th {\n",
       "        vertical-align: top;\n",
       "    }\n",
       "\n",
       "    .dataframe thead th {\n",
       "        text-align: right;\n",
       "    }\n",
       "</style>\n",
       "<table border=\"1\" class=\"dataframe\">\n",
       "  <thead>\n",
       "    <tr style=\"text-align: right;\">\n",
       "      <th></th>\n",
       "      <th>SepalLengthCm</th>\n",
       "      <th>SepalWidthCm</th>\n",
       "      <th>PetalLengthCm</th>\n",
       "      <th>PetalWidthCm</th>\n",
       "    </tr>\n",
       "  </thead>\n",
       "  <tbody>\n",
       "    <tr>\n",
       "      <th>0</th>\n",
       "      <td>7.103113</td>\n",
       "      <td>2.099039</td>\n",
       "      <td>31.397292</td>\n",
       "      <td>16.141564</td>\n",
       "    </tr>\n",
       "  </tbody>\n",
       "</table>\n",
       "</div>"
      ],
      "text/plain": [
       "   SepalLengthCm  SepalWidthCm  PetalLengthCm  PetalWidthCm\n",
       "0       7.103113      2.099039      31.397292     16.141564"
      ]
     },
     "execution_count": 16,
     "metadata": {},
     "output_type": "execute_result"
    }
   ],
   "source": [
    "# - computing VIFs\n",
    "vifs = [variance_inflation_factor(model_frame_predictors.values, i) for i in range(1, len(predictors)+1)]\n",
    "vifs = np.array(vifs).reshape(1, -1)\n",
    "pd.DataFrame(vifs, columns=predictors)"
   ]
  },
  {
   "attachments": {},
   "cell_type": "markdown",
   "id": "8866cb56",
   "metadata": {},
   "source": [
    "### Multinomial Logistic Regression using scikit-learn"
   ]
  },
  {
   "attachments": {},
   "cell_type": "markdown",
   "id": "0229035e",
   "metadata": {},
   "source": [
    "Scikit-Learn Documentation\n",
    "\n",
    "- [sklearn.linear_model.LogisticRegression](https://scikit-learn.org/stable/modules/generated/sklearn.linear_model.LogisticRegression.html)\n",
    "- [sklearn.preprocessing.StandardScaler](https://scikit-learn.org/stable/modules/generated/sklearn.preprocessing.StandardScaler.html)\n",
    "- [sklearn.metrics.confusion_matrix](https://scikit-learn.org/stable/modules/generated/sklearn.metrics.confusion_matrix.html)"
   ]
  },
  {
   "cell_type": "code",
   "execution_count": 17,
   "id": "02d2e405",
   "metadata": {},
   "outputs": [],
   "source": [
    "# - import scikit-learn\n",
    "from sklearn.linear_model import LogisticRegression\n",
    "from sklearn.metrics import confusion_matrix\n",
    "from sklearn.preprocessing import StandardScaler"
   ]
  },
  {
   "cell_type": "code",
   "execution_count": 18,
   "id": "cf46aba5",
   "metadata": {},
   "outputs": [],
   "source": [
    "# - Preparing the variables \n",
    "\n",
    "# - feature matrix\n",
    "X = iris_data.drop(columns='Species').values\n",
    "\n",
    "# - scale feature matrix for regularization\n",
    "# - define standard scaler\n",
    "scaler = StandardScaler()\n",
    "# - transform data\n",
    "scaled = scaler.fit_transform(X)\n",
    "\n",
    "# - target variable\n",
    "y = iris_data['Species']"
   ]
  },
  {
   "attachments": {},
   "cell_type": "markdown",
   "id": "b30d265a",
   "metadata": {},
   "source": [
    "**N.B.** scikit-learn does not implement the referrence category automatically! "
   ]
  },
  {
   "cell_type": "code",
   "execution_count": 19,
   "id": "cf8326b8",
   "metadata": {},
   "outputs": [
    {
     "data": {
      "text/html": [
       "<style>#sk-container-id-1 {color: black;background-color: white;}#sk-container-id-1 pre{padding: 0;}#sk-container-id-1 div.sk-toggleable {background-color: white;}#sk-container-id-1 label.sk-toggleable__label {cursor: pointer;display: block;width: 100%;margin-bottom: 0;padding: 0.3em;box-sizing: border-box;text-align: center;}#sk-container-id-1 label.sk-toggleable__label-arrow:before {content: \"▸\";float: left;margin-right: 0.25em;color: #696969;}#sk-container-id-1 label.sk-toggleable__label-arrow:hover:before {color: black;}#sk-container-id-1 div.sk-estimator:hover label.sk-toggleable__label-arrow:before {color: black;}#sk-container-id-1 div.sk-toggleable__content {max-height: 0;max-width: 0;overflow: hidden;text-align: left;background-color: #f0f8ff;}#sk-container-id-1 div.sk-toggleable__content pre {margin: 0.2em;color: black;border-radius: 0.25em;background-color: #f0f8ff;}#sk-container-id-1 input.sk-toggleable__control:checked~div.sk-toggleable__content {max-height: 200px;max-width: 100%;overflow: auto;}#sk-container-id-1 input.sk-toggleable__control:checked~label.sk-toggleable__label-arrow:before {content: \"▾\";}#sk-container-id-1 div.sk-estimator input.sk-toggleable__control:checked~label.sk-toggleable__label {background-color: #d4ebff;}#sk-container-id-1 div.sk-label input.sk-toggleable__control:checked~label.sk-toggleable__label {background-color: #d4ebff;}#sk-container-id-1 input.sk-hidden--visually {border: 0;clip: rect(1px 1px 1px 1px);clip: rect(1px, 1px, 1px, 1px);height: 1px;margin: -1px;overflow: hidden;padding: 0;position: absolute;width: 1px;}#sk-container-id-1 div.sk-estimator {font-family: monospace;background-color: #f0f8ff;border: 1px dotted black;border-radius: 0.25em;box-sizing: border-box;margin-bottom: 0.5em;}#sk-container-id-1 div.sk-estimator:hover {background-color: #d4ebff;}#sk-container-id-1 div.sk-parallel-item::after {content: \"\";width: 100%;border-bottom: 1px solid gray;flex-grow: 1;}#sk-container-id-1 div.sk-label:hover label.sk-toggleable__label {background-color: #d4ebff;}#sk-container-id-1 div.sk-serial::before {content: \"\";position: absolute;border-left: 1px solid gray;box-sizing: border-box;top: 0;bottom: 0;left: 50%;z-index: 0;}#sk-container-id-1 div.sk-serial {display: flex;flex-direction: column;align-items: center;background-color: white;padding-right: 0.2em;padding-left: 0.2em;position: relative;}#sk-container-id-1 div.sk-item {position: relative;z-index: 1;}#sk-container-id-1 div.sk-parallel {display: flex;align-items: stretch;justify-content: center;background-color: white;position: relative;}#sk-container-id-1 div.sk-item::before, #sk-container-id-1 div.sk-parallel-item::before {content: \"\";position: absolute;border-left: 1px solid gray;box-sizing: border-box;top: 0;bottom: 0;left: 50%;z-index: -1;}#sk-container-id-1 div.sk-parallel-item {display: flex;flex-direction: column;z-index: 1;position: relative;background-color: white;}#sk-container-id-1 div.sk-parallel-item:first-child::after {align-self: flex-end;width: 50%;}#sk-container-id-1 div.sk-parallel-item:last-child::after {align-self: flex-start;width: 50%;}#sk-container-id-1 div.sk-parallel-item:only-child::after {width: 0;}#sk-container-id-1 div.sk-dashed-wrapped {border: 1px dashed gray;margin: 0 0.4em 0.5em 0.4em;box-sizing: border-box;padding-bottom: 0.4em;background-color: white;}#sk-container-id-1 div.sk-label label {font-family: monospace;font-weight: bold;display: inline-block;line-height: 1.2em;}#sk-container-id-1 div.sk-label-container {text-align: center;}#sk-container-id-1 div.sk-container {/* jupyter's `normalize.less` sets `[hidden] { display: none; }` but bootstrap.min.css set `[hidden] { display: none !important; }` so we also need the `!important` here to be able to override the default hidden behavior on the sphinx rendered scikit-learn.org. See: https://github.com/scikit-learn/scikit-learn/issues/21755 */display: inline-block !important;position: relative;}#sk-container-id-1 div.sk-text-repr-fallback {display: none;}</style><div id=\"sk-container-id-1\" class=\"sk-top-container\"><div class=\"sk-text-repr-fallback\"><pre>LogisticRegression(penalty=&#x27;none&#x27;, solver=&#x27;newton-cg&#x27;)</pre><b>In a Jupyter environment, please rerun this cell to show the HTML representation or trust the notebook. <br />On GitHub, the HTML representation is unable to render, please try loading this page with nbviewer.org.</b></div><div class=\"sk-container\" hidden><div class=\"sk-item\"><div class=\"sk-estimator sk-toggleable\"><input class=\"sk-toggleable__control sk-hidden--visually\" id=\"sk-estimator-id-1\" type=\"checkbox\" checked><label for=\"sk-estimator-id-1\" class=\"sk-toggleable__label sk-toggleable__label-arrow\">LogisticRegression</label><div class=\"sk-toggleable__content\"><pre>LogisticRegression(penalty=&#x27;none&#x27;, solver=&#x27;newton-cg&#x27;)</pre></div></div></div></div></div>"
      ],
      "text/plain": [
       "LogisticRegression(penalty='none', solver='newton-cg')"
      ]
     },
     "execution_count": 19,
     "metadata": {},
     "output_type": "execute_result"
    }
   ],
   "source": [
    "# - Fitting the logistic model to the numerical data\n",
    "# - scikit-learn does not implement the referrence category automatically \n",
    "log_reg = LogisticRegression(solver='newton-cg', \n",
    "                             penalty='none')\n",
    "log_reg.fit(X, y)"
   ]
  },
  {
   "cell_type": "code",
   "execution_count": 20,
   "id": "3f54bca8",
   "metadata": {},
   "outputs": [
    {
     "data": {
      "text/plain": [
       "(array([[  4.88575344,   7.84767306, -12.84148798,  -6.66362742],\n",
       "        [ -1.21026772,  -0.58338902,   1.70604111,  -5.81126865],\n",
       "        [ -3.67548572,  -7.26428404,  11.13544687,  12.47489607]]),\n",
       " array([  2.32919685,  20.15437297, -22.48356982]))"
      ]
     },
     "execution_count": 20,
     "metadata": {},
     "output_type": "execute_result"
    }
   ],
   "source": [
    "# - coefficents of the model; \n",
    "# - rows correspond to the order of appearance of categories in the target variable\n",
    "log_reg.coef_, log_reg.intercept_"
   ]
  },
  {
   "cell_type": "code",
   "execution_count": 21,
   "id": "b6a7d557",
   "metadata": {},
   "outputs": [
    {
     "data": {
      "text/plain": [
       "0.9867"
      ]
     },
     "execution_count": 21,
     "metadata": {},
     "output_type": "execute_result"
    }
   ],
   "source": [
    "# - model's accuracy\n",
    "round(log_reg.score(X, y), 4)"
   ]
  },
  {
   "cell_type": "code",
   "execution_count": 22,
   "id": "83de5cce",
   "metadata": {},
   "outputs": [
    {
     "data": {
      "text/plain": [
       "array(['Iris-setosa', 'Iris-setosa', 'Iris-setosa', 'Iris-setosa',\n",
       "       'Iris-setosa', 'Iris-setosa', 'Iris-setosa', 'Iris-setosa',\n",
       "       'Iris-setosa', 'Iris-setosa'], dtype=object)"
      ]
     },
     "execution_count": 22,
     "metadata": {},
     "output_type": "execute_result"
    }
   ],
   "source": [
    "# - predictions\n",
    "y_pred = log_reg.predict(X)\n",
    "y_pred[:10]"
   ]
  },
  {
   "cell_type": "code",
   "execution_count": 23,
   "id": "38890955",
   "metadata": {},
   "outputs": [
    {
     "data": {
      "text/plain": [
       "array([[50,  0,  0],\n",
       "       [ 0, 49,  1],\n",
       "       [ 0,  1, 49]])"
      ]
     },
     "execution_count": 23,
     "metadata": {},
     "output_type": "execute_result"
    }
   ],
   "source": [
    "# - confusion matrix for the given data\n",
    "# - rows/columns rows correspond to the \n",
    "# - order of appearance of categories in the target variable\n",
    "confusion_matrix(y, y_pred)"
   ]
  },
  {
   "cell_type": "code",
   "execution_count": 24,
   "id": "99f9a8f2",
   "metadata": {},
   "outputs": [
    {
     "data": {
      "image/png": "[encoded data removed]",
      "text/plain": [
       "<Figure size 800x600 with 2 Axes>"
      ]
     },
     "metadata": {},
     "output_type": "display_data"
    }
   ],
   "source": [
    "plot_confusion_matrix(log_reg, X, y);"
   ]
  },
  {
   "attachments": {},
   "cell_type": "markdown",
   "id": "7b1f3112",
   "metadata": {},
   "source": [
    "## 2. Regularization of Multinomial Regression"
   ]
  },
  {
   "attachments": {},
   "cell_type": "markdown",
   "id": "dcc33964",
   "metadata": {},
   "source": [
    "Scikit-Learn Documentation\n",
    "\n",
    "- [sklearn.metrics.f1_score](https://scikit-learn.org/stable/modules/generated/sklearn.metrics.f1_score.html)"
   ]
  },
  {
   "cell_type": "code",
   "execution_count": 25,
   "id": "38ad01e3",
   "metadata": {},
   "outputs": [
    {
     "data": {
      "text/html": [
       "<div>\n",
       "<style scoped>\n",
       "    .dataframe tbody tr th:only-of-type {\n",
       "        vertical-align: middle;\n",
       "    }\n",
       "\n",
       "    .dataframe tbody tr th {\n",
       "        vertical-align: top;\n",
       "    }\n",
       "\n",
       "    .dataframe thead th {\n",
       "        text-align: right;\n",
       "    }\n",
       "</style>\n",
       "<table border=\"1\" class=\"dataframe\">\n",
       "  <thead>\n",
       "    <tr style=\"text-align: right;\">\n",
       "      <th></th>\n",
       "      <th>fixed acidity</th>\n",
       "      <th>volatile acidity</th>\n",
       "      <th>citric acid</th>\n",
       "      <th>residual sugar</th>\n",
       "      <th>chlorides</th>\n",
       "      <th>free sulfur dioxide</th>\n",
       "      <th>total sulfur dioxide</th>\n",
       "      <th>density</th>\n",
       "      <th>pH</th>\n",
       "      <th>sulphates</th>\n",
       "      <th>alcohol</th>\n",
       "      <th>quality</th>\n",
       "    </tr>\n",
       "  </thead>\n",
       "  <tbody>\n",
       "    <tr>\n",
       "      <th>0</th>\n",
       "      <td>7.4</td>\n",
       "      <td>0.70</td>\n",
       "      <td>0.00</td>\n",
       "      <td>1.9</td>\n",
       "      <td>0.076</td>\n",
       "      <td>11.0</td>\n",
       "      <td>34.0</td>\n",
       "      <td>0.9978</td>\n",
       "      <td>3.51</td>\n",
       "      <td>0.56</td>\n",
       "      <td>9.4</td>\n",
       "      <td>5</td>\n",
       "    </tr>\n",
       "    <tr>\n",
       "      <th>1</th>\n",
       "      <td>7.8</td>\n",
       "      <td>0.88</td>\n",
       "      <td>0.00</td>\n",
       "      <td>2.6</td>\n",
       "      <td>0.098</td>\n",
       "      <td>25.0</td>\n",
       "      <td>67.0</td>\n",
       "      <td>0.9968</td>\n",
       "      <td>3.20</td>\n",
       "      <td>0.68</td>\n",
       "      <td>9.8</td>\n",
       "      <td>5</td>\n",
       "    </tr>\n",
       "    <tr>\n",
       "      <th>2</th>\n",
       "      <td>7.8</td>\n",
       "      <td>0.76</td>\n",
       "      <td>0.04</td>\n",
       "      <td>2.3</td>\n",
       "      <td>0.092</td>\n",
       "      <td>15.0</td>\n",
       "      <td>54.0</td>\n",
       "      <td>0.9970</td>\n",
       "      <td>3.26</td>\n",
       "      <td>0.65</td>\n",
       "      <td>9.8</td>\n",
       "      <td>5</td>\n",
       "    </tr>\n",
       "    <tr>\n",
       "      <th>3</th>\n",
       "      <td>11.2</td>\n",
       "      <td>0.28</td>\n",
       "      <td>0.56</td>\n",
       "      <td>1.9</td>\n",
       "      <td>0.075</td>\n",
       "      <td>17.0</td>\n",
       "      <td>60.0</td>\n",
       "      <td>0.9980</td>\n",
       "      <td>3.16</td>\n",
       "      <td>0.58</td>\n",
       "      <td>9.8</td>\n",
       "      <td>6</td>\n",
       "    </tr>\n",
       "    <tr>\n",
       "      <th>4</th>\n",
       "      <td>7.4</td>\n",
       "      <td>0.70</td>\n",
       "      <td>0.00</td>\n",
       "      <td>1.9</td>\n",
       "      <td>0.076</td>\n",
       "      <td>11.0</td>\n",
       "      <td>34.0</td>\n",
       "      <td>0.9978</td>\n",
       "      <td>3.51</td>\n",
       "      <td>0.56</td>\n",
       "      <td>9.4</td>\n",
       "      <td>5</td>\n",
       "    </tr>\n",
       "    <tr>\n",
       "      <th>5</th>\n",
       "      <td>7.4</td>\n",
       "      <td>0.66</td>\n",
       "      <td>0.00</td>\n",
       "      <td>1.8</td>\n",
       "      <td>0.075</td>\n",
       "      <td>13.0</td>\n",
       "      <td>40.0</td>\n",
       "      <td>0.9978</td>\n",
       "      <td>3.51</td>\n",
       "      <td>0.56</td>\n",
       "      <td>9.4</td>\n",
       "      <td>5</td>\n",
       "    </tr>\n",
       "    <tr>\n",
       "      <th>6</th>\n",
       "      <td>7.9</td>\n",
       "      <td>0.60</td>\n",
       "      <td>0.06</td>\n",
       "      <td>1.6</td>\n",
       "      <td>0.069</td>\n",
       "      <td>15.0</td>\n",
       "      <td>59.0</td>\n",
       "      <td>0.9964</td>\n",
       "      <td>3.30</td>\n",
       "      <td>0.46</td>\n",
       "      <td>9.4</td>\n",
       "      <td>5</td>\n",
       "    </tr>\n",
       "    <tr>\n",
       "      <th>7</th>\n",
       "      <td>7.3</td>\n",
       "      <td>0.65</td>\n",
       "      <td>0.00</td>\n",
       "      <td>1.2</td>\n",
       "      <td>0.065</td>\n",
       "      <td>15.0</td>\n",
       "      <td>21.0</td>\n",
       "      <td>0.9946</td>\n",
       "      <td>3.39</td>\n",
       "      <td>0.47</td>\n",
       "      <td>10.0</td>\n",
       "      <td>7</td>\n",
       "    </tr>\n",
       "    <tr>\n",
       "      <th>8</th>\n",
       "      <td>7.8</td>\n",
       "      <td>0.58</td>\n",
       "      <td>0.02</td>\n",
       "      <td>2.0</td>\n",
       "      <td>0.073</td>\n",
       "      <td>9.0</td>\n",
       "      <td>18.0</td>\n",
       "      <td>0.9968</td>\n",
       "      <td>3.36</td>\n",
       "      <td>0.57</td>\n",
       "      <td>9.5</td>\n",
       "      <td>7</td>\n",
       "    </tr>\n",
       "    <tr>\n",
       "      <th>9</th>\n",
       "      <td>7.5</td>\n",
       "      <td>0.50</td>\n",
       "      <td>0.36</td>\n",
       "      <td>6.1</td>\n",
       "      <td>0.071</td>\n",
       "      <td>17.0</td>\n",
       "      <td>102.0</td>\n",
       "      <td>0.9978</td>\n",
       "      <td>3.35</td>\n",
       "      <td>0.80</td>\n",
       "      <td>10.5</td>\n",
       "      <td>5</td>\n",
       "    </tr>\n",
       "  </tbody>\n",
       "</table>\n",
       "</div>"
      ],
      "text/plain": [
       "   fixed acidity  volatile acidity  citric acid  residual sugar  chlorides  \\\n",
       "0            7.4              0.70         0.00             1.9      0.076   \n",
       "1            7.8              0.88         0.00             2.6      0.098   \n",
       "2            7.8              0.76         0.04             2.3      0.092   \n",
       "3           11.2              0.28         0.56             1.9      0.075   \n",
       "4            7.4              0.70         0.00             1.9      0.076   \n",
       "5            7.4              0.66         0.00             1.8      0.075   \n",
       "6            7.9              0.60         0.06             1.6      0.069   \n",
       "7            7.3              0.65         0.00             1.2      0.065   \n",
       "8            7.8              0.58         0.02             2.0      0.073   \n",
       "9            7.5              0.50         0.36             6.1      0.071   \n",
       "\n",
       "   free sulfur dioxide  total sulfur dioxide  density    pH  sulphates  \\\n",
       "0                 11.0                  34.0   0.9978  3.51       0.56   \n",
       "1                 25.0                  67.0   0.9968  3.20       0.68   \n",
       "2                 15.0                  54.0   0.9970  3.26       0.65   \n",
       "3                 17.0                  60.0   0.9980  3.16       0.58   \n",
       "4                 11.0                  34.0   0.9978  3.51       0.56   \n",
       "5                 13.0                  40.0   0.9978  3.51       0.56   \n",
       "6                 15.0                  59.0   0.9964  3.30       0.46   \n",
       "7                 15.0                  21.0   0.9946  3.39       0.47   \n",
       "8                  9.0                  18.0   0.9968  3.36       0.57   \n",
       "9                 17.0                 102.0   0.9978  3.35       0.80   \n",
       "\n",
       "   alcohol  quality  \n",
       "0      9.4        5  \n",
       "1      9.8        5  \n",
       "2      9.8        5  \n",
       "3      9.8        6  \n",
       "4      9.4        5  \n",
       "5      9.4        5  \n",
       "6      9.4        5  \n",
       "7     10.0        7  \n",
       "8      9.5        7  \n",
       "9     10.5        5  "
      ]
     },
     "execution_count": 25,
     "metadata": {},
     "output_type": "execute_result"
    }
   ],
   "source": [
    "# - loading the dataset\n",
    "# - UCI ML: https://archive.ics.uci.edu/ml/machine-learning-databases/wine-quality/) \n",
    "# - (download winequality-red.csv)\n",
    "# - place it in your _data/ directory\n",
    "wine_data = pd.read_csv(os.path.join(data_dir, 'winequality-red.csv'), sep=';')\n",
    "wine_data.head(10)"
   ]
  },
  {
   "attachments": {},
   "cell_type": "markdown",
   "id": "c80e18aa",
   "metadata": {},
   "source": [
    "### Target: predict wine quality from all the predictors"
   ]
  },
  {
   "cell_type": "code",
   "execution_count": 26,
   "id": "6b5ffd4d",
   "metadata": {},
   "outputs": [
    {
     "name": "stdout",
     "output_type": "stream",
     "text": [
      "<class 'pandas.core.frame.DataFrame'>\n",
      "RangeIndex: 1599 entries, 0 to 1598\n",
      "Data columns (total 12 columns):\n",
      " #   Column                Non-Null Count  Dtype  \n",
      "---  ------                --------------  -----  \n",
      " 0   fixed acidity         1599 non-null   float64\n",
      " 1   volatile acidity      1599 non-null   float64\n",
      " 2   citric acid           1599 non-null   float64\n",
      " 3   residual sugar        1599 non-null   float64\n",
      " 4   chlorides             1599 non-null   float64\n",
      " 5   free sulfur dioxide   1599 non-null   float64\n",
      " 6   total sulfur dioxide  1599 non-null   float64\n",
      " 7   density               1599 non-null   float64\n",
      " 8   pH                    1599 non-null   float64\n",
      " 9   sulphates             1599 non-null   float64\n",
      " 10  alcohol               1599 non-null   float64\n",
      " 11  quality               1599 non-null   int64  \n",
      "dtypes: float64(11), int64(1)\n",
      "memory usage: 150.0 KB\n"
     ]
    }
   ],
   "source": [
    "wine_data.info()"
   ]
  },
  {
   "cell_type": "code",
   "execution_count": 27,
   "id": "6cfe5043",
   "metadata": {},
   "outputs": [
    {
     "data": {
      "text/plain": [
       "Index(['fixed acidity', 'volatile acidity', 'citric acid', 'residual sugar',\n",
       "       'chlorides', 'free sulfur dioxide', 'total sulfur dioxide', 'density',\n",
       "       'pH', 'sulphates', 'alcohol'],\n",
       "      dtype='object')"
      ]
     },
     "execution_count": 27,
     "metadata": {},
     "output_type": "execute_result"
    }
   ],
   "source": [
    "predictors = wine_data.columns.drop('quality')\n",
    "predictors"
   ]
  },
  {
   "cell_type": "code",
   "execution_count": 28,
   "id": "7ba71d1c",
   "metadata": {},
   "outputs": [
    {
     "name": "stdout",
     "output_type": "stream",
     "text": [
      "<class 'pandas.core.series.Series'>\n",
      "RangeIndex: 1599 entries, 0 to 1598\n",
      "Series name: quality\n",
      "Non-Null Count  Dtype   \n",
      "--------------  -----   \n",
      "1599 non-null   category\n",
      "dtypes: category(1)\n",
      "memory usage: 1.9 KB\n"
     ]
    }
   ],
   "source": [
    "# - converting 'quality' variable which is numerical into ordered categorical\n",
    "wine_data['quality'] = wine_data['quality'].astype(pd.CategoricalDtype(ordered=True))\n",
    "wine_data['quality'].info()"
   ]
  },
  {
   "cell_type": "code",
   "execution_count": 29,
   "id": "23631fee",
   "metadata": {},
   "outputs": [
    {
     "data": {
      "text/plain": [
       "0    5\n",
       "1    5\n",
       "2    5\n",
       "3    6\n",
       "4    5\n",
       "Name: quality, dtype: category\n",
       "Categories (6, int64): [3 < 4 < 5 < 6 < 7 < 8]"
      ]
     },
     "execution_count": 29,
     "metadata": {},
     "output_type": "execute_result"
    }
   ],
   "source": [
    "wine_data['quality'].head()"
   ]
  },
  {
   "cell_type": "code",
   "execution_count": 30,
   "id": "e5d028de",
   "metadata": {},
   "outputs": [
    {
     "data": {
      "text/plain": [
       "5    681\n",
       "6    638\n",
       "7    199\n",
       "4     53\n",
       "8     18\n",
       "3     10\n",
       "Name: quality, dtype: int64"
      ]
     },
     "execution_count": 30,
     "metadata": {},
     "output_type": "execute_result"
    }
   ],
   "source": [
    "wine_data['quality'].value_counts()"
   ]
  },
  {
   "cell_type": "code",
   "execution_count": 31,
   "id": "9119d68c",
   "metadata": {},
   "outputs": [],
   "source": [
    "### --- Preparing the variables \n",
    "\n",
    "# - feature matrix\n",
    "X = wine_data.drop(columns='quality')\n",
    "\n",
    "# - scale feature matrix for regularization\n",
    "# - define standard scaler\n",
    "scaler = StandardScaler()\n",
    "# - transform data\n",
    "scaled = scaler.fit_transform(X)\n",
    "\n",
    "# - target vector\n",
    "y = wine_data['quality']"
   ]
  },
  {
   "attachments": {},
   "cell_type": "markdown",
   "id": "7471a1c6",
   "metadata": {},
   "source": [
    "### Regularization of the model coefficients: Ridge (L2) Regularization"
   ]
  },
  {
   "attachments": {},
   "cell_type": "markdown",
   "id": "f4966745",
   "metadata": {},
   "source": [
    "Now we are going to use scikit-learn to perform *Regularized* Multinomial Logistic Regression; we'll be using the Ridge Regression. \n",
    "\n",
    "The Ridge Regression model is obtained by minimizing the function\n",
    "\n",
    "$$-C\\cdot LL + \\frac{1}{2}L_2^2,$$\n",
    "\n",
    "where $LL$ is Log-Likelihood of the 'ordinary' MNR, and $L_2^2$ is the squared *Frobenius norm* of model parameters matrix $W$:\n",
    "\n",
    "$$L_2^2 = ||W||_F^2 = \\sum_{i=1}^k\\sum_{j=1}^K(\\beta_i^{(j)})^2;$$\n",
    "\n",
    "$k$ is the number of predictors, $K$ number of categories of the targert variable, and $\\beta_i^{(j)}$ are model parameters. $C$ is the *Regularization (hyper)parameter* and it is the **inverse** of penalization hyperparameter $\\alpha$."
   ]
  },
  {
   "cell_type": "code",
   "execution_count": 32,
   "id": "5c02ffe5",
   "metadata": {},
   "outputs": [],
   "source": [
    "# - import scikit-learn\n",
    "from sklearn.linear_model import LogisticRegression\n",
    "from sklearn.metrics import confusion_matrix, f1_score"
   ]
  },
  {
   "attachments": {},
   "cell_type": "markdown",
   "id": "75fa3485",
   "metadata": {},
   "source": [
    "**NOTE.**"
   ]
  },
  {
   "cell_type": "code",
   "execution_count": 33,
   "id": "3c0149e7",
   "metadata": {},
   "outputs": [
    {
     "data": {
      "text/plain": [
       "5    681\n",
       "6    638\n",
       "7    199\n",
       "4     53\n",
       "8     18\n",
       "3     10\n",
       "Name: quality, dtype: int64"
      ]
     },
     "execution_count": 33,
     "metadata": {},
     "output_type": "execute_result"
    }
   ],
   "source": [
    "y.value_counts()"
   ]
  },
  {
   "cell_type": "code",
   "execution_count": 34,
   "id": "a85827ad",
   "metadata": {},
   "outputs": [
    {
     "data": {
      "text/html": [
       "<style>#sk-container-id-2 {color: black;background-color: white;}#sk-container-id-2 pre{padding: 0;}#sk-container-id-2 div.sk-toggleable {background-color: white;}#sk-container-id-2 label.sk-toggleable__label {cursor: pointer;display: block;width: 100%;margin-bottom: 0;padding: 0.3em;box-sizing: border-box;text-align: center;}#sk-container-id-2 label.sk-toggleable__label-arrow:before {content: \"▸\";float: left;margin-right: 0.25em;color: #696969;}#sk-container-id-2 label.sk-toggleable__label-arrow:hover:before {color: black;}#sk-container-id-2 div.sk-estimator:hover label.sk-toggleable__label-arrow:before {color: black;}#sk-container-id-2 div.sk-toggleable__content {max-height: 0;max-width: 0;overflow: hidden;text-align: left;background-color: #f0f8ff;}#sk-container-id-2 div.sk-toggleable__content pre {margin: 0.2em;color: black;border-radius: 0.25em;background-color: #f0f8ff;}#sk-container-id-2 input.sk-toggleable__control:checked~div.sk-toggleable__content {max-height: 200px;max-width: 100%;overflow: auto;}#sk-container-id-2 input.sk-toggleable__control:checked~label.sk-toggleable__label-arrow:before {content: \"▾\";}#sk-container-id-2 div.sk-estimator input.sk-toggleable__control:checked~label.sk-toggleable__label {background-color: #d4ebff;}#sk-container-id-2 div.sk-label input.sk-toggleable__control:checked~label.sk-toggleable__label {background-color: #d4ebff;}#sk-container-id-2 input.sk-hidden--visually {border: 0;clip: rect(1px 1px 1px 1px);clip: rect(1px, 1px, 1px, 1px);height: 1px;margin: -1px;overflow: hidden;padding: 0;position: absolute;width: 1px;}#sk-container-id-2 div.sk-estimator {font-family: monospace;background-color: #f0f8ff;border: 1px dotted black;border-radius: 0.25em;box-sizing: border-box;margin-bottom: 0.5em;}#sk-container-id-2 div.sk-estimator:hover {background-color: #d4ebff;}#sk-container-id-2 div.sk-parallel-item::after {content: \"\";width: 100%;border-bottom: 1px solid gray;flex-grow: 1;}#sk-container-id-2 div.sk-label:hover label.sk-toggleable__label {background-color: #d4ebff;}#sk-container-id-2 div.sk-serial::before {content: \"\";position: absolute;border-left: 1px solid gray;box-sizing: border-box;top: 0;bottom: 0;left: 50%;z-index: 0;}#sk-container-id-2 div.sk-serial {display: flex;flex-direction: column;align-items: center;background-color: white;padding-right: 0.2em;padding-left: 0.2em;position: relative;}#sk-container-id-2 div.sk-item {position: relative;z-index: 1;}#sk-container-id-2 div.sk-parallel {display: flex;align-items: stretch;justify-content: center;background-color: white;position: relative;}#sk-container-id-2 div.sk-item::before, #sk-container-id-2 div.sk-parallel-item::before {content: \"\";position: absolute;border-left: 1px solid gray;box-sizing: border-box;top: 0;bottom: 0;left: 50%;z-index: -1;}#sk-container-id-2 div.sk-parallel-item {display: flex;flex-direction: column;z-index: 1;position: relative;background-color: white;}#sk-container-id-2 div.sk-parallel-item:first-child::after {align-self: flex-end;width: 50%;}#sk-container-id-2 div.sk-parallel-item:last-child::after {align-self: flex-start;width: 50%;}#sk-container-id-2 div.sk-parallel-item:only-child::after {width: 0;}#sk-container-id-2 div.sk-dashed-wrapped {border: 1px dashed gray;margin: 0 0.4em 0.5em 0.4em;box-sizing: border-box;padding-bottom: 0.4em;background-color: white;}#sk-container-id-2 div.sk-label label {font-family: monospace;font-weight: bold;display: inline-block;line-height: 1.2em;}#sk-container-id-2 div.sk-label-container {text-align: center;}#sk-container-id-2 div.sk-container {/* jupyter's `normalize.less` sets `[hidden] { display: none; }` but bootstrap.min.css set `[hidden] { display: none !important; }` so we also need the `!important` here to be able to override the default hidden behavior on the sphinx rendered scikit-learn.org. See: https://github.com/scikit-learn/scikit-learn/issues/21755 */display: inline-block !important;position: relative;}#sk-container-id-2 div.sk-text-repr-fallback {display: none;}</style><div id=\"sk-container-id-2\" class=\"sk-top-container\"><div class=\"sk-text-repr-fallback\"><pre>LogisticRegression(C=250, class_weight=&#x27;balanced&#x27;, solver=&#x27;newton-cg&#x27;)</pre><b>In a Jupyter environment, please rerun this cell to show the HTML representation or trust the notebook. <br />On GitHub, the HTML representation is unable to render, please try loading this page with nbviewer.org.</b></div><div class=\"sk-container\" hidden><div class=\"sk-item\"><div class=\"sk-estimator sk-toggleable\"><input class=\"sk-toggleable__control sk-hidden--visually\" id=\"sk-estimator-id-2\" type=\"checkbox\" checked><label for=\"sk-estimator-id-2\" class=\"sk-toggleable__label sk-toggleable__label-arrow\">LogisticRegression</label><div class=\"sk-toggleable__content\"><pre>LogisticRegression(C=250, class_weight=&#x27;balanced&#x27;, solver=&#x27;newton-cg&#x27;)</pre></div></div></div></div></div>"
      ],
      "text/plain": [
       "LogisticRegression(C=250, class_weight='balanced', solver='newton-cg')"
      ]
     },
     "execution_count": 34,
     "metadata": {},
     "output_type": "execute_result"
    }
   ],
   "source": [
    "### --- Fitting a Ridge MNR Regularized model on the given data, with the regularization parameter C = 250\n",
    "\n",
    "# - NOTE: LogisticRegression from scikit-learn implements L2 regularization BY DEFAULT\n",
    "# - so, you actually don't need to pass 'penalty' parameter in order to implement Ridge Regularization\n",
    "# - if you want to perform MNR without any regularization with scikit-learn, \n",
    "# - you need to pass 'penalty=none' parameter\n",
    "\n",
    "log_reg = LogisticRegression(solver='newton-cg', \n",
    "                             penalty='l2', \n",
    "                             class_weight='balanced',\n",
    "                             C=250)\n",
    "log_reg.fit(X, y)"
   ]
  },
  {
   "cell_type": "code",
   "execution_count": 35,
   "id": "372b419f",
   "metadata": {},
   "outputs": [
    {
     "data": {
      "text/plain": [
       "array([-28.62597869,  15.90070921,   3.76549278,  -3.24949981,\n",
       "        -0.16154749,  12.37082399])"
      ]
     },
     "execution_count": 35,
     "metadata": {},
     "output_type": "execute_result"
    }
   ],
   "source": [
    "# - intercept of the model; entries correspond to the orderdering of the categories in the target variable \n",
    "log_reg.intercept_"
   ]
  },
  {
   "cell_type": "code",
   "execution_count": 36,
   "id": "0ece286c",
   "metadata": {},
   "outputs": [
    {
     "data": {
      "text/plain": [
       "array([[ 6.79137598e-01,  9.80402162e+00,  2.45490277e+00,\n",
       "         2.67786218e-01,  2.03987564e+01,  1.12619494e-01,\n",
       "        -7.65432558e-02,  7.27246134e+00,  1.02745935e+01,\n",
       "        -3.23070732e+00, -2.46990709e+00],\n",
       "       [-8.98891592e-02,  2.04744874e+00,  2.55335383e-01,\n",
       "         1.02394501e-01,  1.02054222e+01, -4.97651920e-02,\n",
       "         1.82697427e-02, -1.91774425e+01,  2.47413955e+00,\n",
       "        -2.44856165e+00, -3.67050758e-01],\n",
       "       [-1.27467800e-01, -1.45766001e+00, -1.41089507e+00,\n",
       "        -4.28888594e-02,  8.69817710e+00, -3.55917844e-02,\n",
       "         3.58240747e-02,  7.21194519e+00, -2.97569105e-01,\n",
       "        -2.61419242e+00, -6.08108089e-01],\n",
       "       [-5.47770923e-02, -3.56112105e+00, -2.26106101e+00,\n",
       "        -6.76195675e-02,  4.26190389e+00, -1.70125598e-02,\n",
       "         2.07886026e-02,  7.76153727e+00, -1.03605812e+00,\n",
       "        -2.84752057e-01,  2.74478914e-01],\n",
       "       [ 4.70388316e-02, -5.73631122e+00, -1.64358454e+00,\n",
       "        -1.22905636e-02, -3.84948684e+00, -1.62465794e-02,\n",
       "         1.31332044e-02, -3.19537482e+00, -1.87102715e+00,\n",
       "         2.79401434e+00,  1.09500826e+00],\n",
       "       [-4.54042377e-01, -1.09637808e+00,  2.60530247e+00,\n",
       "        -2.47381729e-01, -3.97147728e+01,  5.99662175e-03,\n",
       "        -1.14723685e-02,  1.26873527e-01, -9.54407863e+00,\n",
       "         5.78419911e+00,  2.07557876e+00]])"
      ]
     },
     "execution_count": 36,
     "metadata": {},
     "output_type": "execute_result"
    }
   ],
   "source": [
    "# - coefficents of the model; rows correspond to the ordering of the categories in the target variable;\n",
    "# - columns correspond to the predictors\n",
    "log_reg.coef_"
   ]
  },
  {
   "cell_type": "code",
   "execution_count": 37,
   "id": "61f2ad72",
   "metadata": {},
   "outputs": [
    {
     "data": {
      "text/plain": [
       "0.4277673545966229"
      ]
     },
     "execution_count": 37,
     "metadata": {},
     "output_type": "execute_result"
    }
   ],
   "source": [
    "# - accuracy of Ridge Regularization\n",
    "log_reg.score(X, y)"
   ]
  },
  {
   "attachments": {},
   "cell_type": "markdown",
   "id": "e208699a",
   "metadata": {},
   "source": [
    "F1 score"
   ]
  },
  {
   "cell_type": "code",
   "execution_count": 38,
   "id": "9a3d229b",
   "metadata": {},
   "outputs": [
    {
     "data": {
      "text/plain": [
       "array([4, 5, 5, ..., 6, 4, 6])"
      ]
     },
     "execution_count": 38,
     "metadata": {},
     "output_type": "execute_result"
    }
   ],
   "source": [
    "y_hat = log_reg.predict(X)\n",
    "y_hat"
   ]
  },
  {
   "cell_type": "code",
   "execution_count": 39,
   "id": "0d6b8ca0",
   "metadata": {},
   "outputs": [
    {
     "data": {
      "text/plain": [
       "0.4741"
      ]
     },
     "execution_count": 39,
     "metadata": {},
     "output_type": "execute_result"
    }
   ],
   "source": [
    "np.round(f1_score(y, y_hat, average='weighted'), 4)"
   ]
  },
  {
   "cell_type": "code",
   "execution_count": 40,
   "id": "267fdd9c",
   "metadata": {},
   "outputs": [],
   "source": [
    "### --- Varying the regularization parameter for the Ridge Regularized Model\n",
    "n_Cs = 100\n",
    "Cs = np.linspace(1e-2, 500, n_Cs)\n",
    "\n",
    "l2_coefs = []\n",
    "accuracies = []\n",
    "frob_norms_matrix = []\n",
    "w_f1_scores = []\n",
    "for C in Cs:\n",
    "    \n",
    "    # - fitting a Ridge Regularization\n",
    "    ridge = LogisticRegression(solver='newton-cg', \n",
    "                               C=C, \n",
    "                               class_weight='balanced',\n",
    "                               max_iter=1000,\n",
    "                               n_jobs = -1)\n",
    "    ridge.fit(X, y)\n",
    "    \n",
    "    # - squared L2 norm of model coefficients vectors for each category\n",
    "    l2_c = np.linalg.norm(ridge.coef_, ord=2, axis=0)**2\n",
    "    \n",
    "    # - accuracy of a fitted Regularized Model\n",
    "    acc = ridge.score(X, y)\n",
    "    \n",
    "    # - squared Frobenius norm of model coefficient matrix\n",
    "    frob = np.linalg.norm(ridge.coef_, ord=2)**2\n",
    "\n",
    "    # - predict \n",
    "    y_hat = ridge.predict(X)\n",
    "    \n",
    "    # - weighted F1 score\n",
    "    f1 = f1_score(y, y_hat, average='weighted')\n",
    "    \n",
    "    l2_coefs.append(l2_c)\n",
    "    accuracies.append(acc)\n",
    "    frob_norms_matrix.append(frob)\n",
    "    w_f1_scores.append(f1)"
   ]
  },
  {
   "cell_type": "code",
   "execution_count": 41,
   "id": "eaa98508",
   "metadata": {},
   "outputs": [
    {
     "data": {
      "image/png": "[encoded data removed]",
      "text/plain": [
       "<Figure size 800x600 with 1 Axes>"
      ]
     },
     "metadata": {},
     "output_type": "display_data"
    }
   ],
   "source": [
    "### --- Plotting the dependence of model parameters vs. the regularization hyperparameter\n",
    "ax = plt.gca()\n",
    "\n",
    "ax.plot(Cs, l2_coefs)\n",
    "ax.axvline(x=250, c='g', ls='--') # green line, corresponding to C = 250\n",
    "plt.xlabel(\"C\")\n",
    "plt.ylabel(\"weights\")\n",
    "plt.title(\"Ridge coefficients as a function of the regularization\")\n",
    "plt.axis(\"tight\")\n",
    "plt.legend(predictors)\n",
    "plt.show()"
   ]
  },
  {
   "cell_type": "code",
   "execution_count": 42,
   "id": "4f538ea7",
   "metadata": {},
   "outputs": [
    {
     "data": {
      "image/png": "[encoded data removed]",
      "text/plain": [
       "<Figure size 800x600 with 1 Axes>"
      ]
     },
     "metadata": {},
     "output_type": "display_data"
    }
   ],
   "source": [
    "### --- Plotting the dependence of weighted F1 vs. the regularization hyperparameter\n",
    "ax = plt.gca()\n",
    "\n",
    "ax.plot(Cs, w_f1_scores)\n",
    "ax.axvline(x=250, c='g', ls='--') # green line, corresponding to C = 250\n",
    "plt.xlabel(\"C\")\n",
    "plt.ylabel(\"F1\")\n",
    "plt.title(\"Weighted F1 as a function of the regularization\")\n",
    "plt.axis(\"tight\")\n",
    "plt.show()"
   ]
  },
  {
   "cell_type": "code",
   "execution_count": 43,
   "id": "b09859c1",
   "metadata": {},
   "outputs": [
    {
     "data": {
      "image/png": "[encoded data removed]",
      "text/plain": [
       "<Figure size 1600x600 with 2 Axes>"
      ]
     },
     "metadata": {},
     "output_type": "display_data"
    }
   ],
   "source": [
    "### --- Plotting the dependance of various model metrics vs. the regularization hyperparameter\n",
    "ig, ax = plt.subplots(1, 2, figsize=(16, 6), sharex=True)\n",
    "\n",
    "# - squared Frobenius vs. C\n",
    "ax[0].plot(Cs, frob_norms_matrix)\n",
    "ax[0].axvline(x=250, c='g', ls='--') # green line, corresponding to C = 250\n",
    "ax[0].set_xlabel(\"C\")\n",
    "ax[0].set_ylabel(\"Frob. norm$^2$\")\n",
    "ax[0].set_title(\"Squared Frobenius norm as a function of the regularization\")\n",
    "ax[0].axis(\"tight\")\n",
    "\n",
    "# - accuracy vs. C\n",
    "ax[1].plot(Cs, accuracies)\n",
    "ax[1].axvline(x=250, c='g', ls='--') # green line\n",
    "ax[1].set_xlabel(\"C\")\n",
    "ax[1].set_ylabel(\"Accuracy\")\n",
    "ax[1].set_title(\"Model accuracy as a function of the regularization\")\n",
    "ax[1].axis(\"tight\");"
   ]
  },
  {
   "cell_type": "code",
   "execution_count": 44,
   "id": "422a4393",
   "metadata": {},
   "outputs": [
    {
     "data": {
      "text/plain": [
       "10.11080808080808"
      ]
     },
     "execution_count": 44,
     "metadata": {},
     "output_type": "execute_result"
    }
   ],
   "source": [
    "bestC = Cs[np.argmax(w_f1_scores)]\n",
    "bestC"
   ]
  },
  {
   "cell_type": "code",
   "execution_count": 45,
   "id": "52af2038",
   "metadata": {},
   "outputs": [
    {
     "data": {
      "text/html": [
       "<style>#sk-container-id-3 {color: black;background-color: white;}#sk-container-id-3 pre{padding: 0;}#sk-container-id-3 div.sk-toggleable {background-color: white;}#sk-container-id-3 label.sk-toggleable__label {cursor: pointer;display: block;width: 100%;margin-bottom: 0;padding: 0.3em;box-sizing: border-box;text-align: center;}#sk-container-id-3 label.sk-toggleable__label-arrow:before {content: \"▸\";float: left;margin-right: 0.25em;color: #696969;}#sk-container-id-3 label.sk-toggleable__label-arrow:hover:before {color: black;}#sk-container-id-3 div.sk-estimator:hover label.sk-toggleable__label-arrow:before {color: black;}#sk-container-id-3 div.sk-toggleable__content {max-height: 0;max-width: 0;overflow: hidden;text-align: left;background-color: #f0f8ff;}#sk-container-id-3 div.sk-toggleable__content pre {margin: 0.2em;color: black;border-radius: 0.25em;background-color: #f0f8ff;}#sk-container-id-3 input.sk-toggleable__control:checked~div.sk-toggleable__content {max-height: 200px;max-width: 100%;overflow: auto;}#sk-container-id-3 input.sk-toggleable__control:checked~label.sk-toggleable__label-arrow:before {content: \"▾\";}#sk-container-id-3 div.sk-estimator input.sk-toggleable__control:checked~label.sk-toggleable__label {background-color: #d4ebff;}#sk-container-id-3 div.sk-label input.sk-toggleable__control:checked~label.sk-toggleable__label {background-color: #d4ebff;}#sk-container-id-3 input.sk-hidden--visually {border: 0;clip: rect(1px 1px 1px 1px);clip: rect(1px, 1px, 1px, 1px);height: 1px;margin: -1px;overflow: hidden;padding: 0;position: absolute;width: 1px;}#sk-container-id-3 div.sk-estimator {font-family: monospace;background-color: #f0f8ff;border: 1px dotted black;border-radius: 0.25em;box-sizing: border-box;margin-bottom: 0.5em;}#sk-container-id-3 div.sk-estimator:hover {background-color: #d4ebff;}#sk-container-id-3 div.sk-parallel-item::after {content: \"\";width: 100%;border-bottom: 1px solid gray;flex-grow: 1;}#sk-container-id-3 div.sk-label:hover label.sk-toggleable__label {background-color: #d4ebff;}#sk-container-id-3 div.sk-serial::before {content: \"\";position: absolute;border-left: 1px solid gray;box-sizing: border-box;top: 0;bottom: 0;left: 50%;z-index: 0;}#sk-container-id-3 div.sk-serial {display: flex;flex-direction: column;align-items: center;background-color: white;padding-right: 0.2em;padding-left: 0.2em;position: relative;}#sk-container-id-3 div.sk-item {position: relative;z-index: 1;}#sk-container-id-3 div.sk-parallel {display: flex;align-items: stretch;justify-content: center;background-color: white;position: relative;}#sk-container-id-3 div.sk-item::before, #sk-container-id-3 div.sk-parallel-item::before {content: \"\";position: absolute;border-left: 1px solid gray;box-sizing: border-box;top: 0;bottom: 0;left: 50%;z-index: -1;}#sk-container-id-3 div.sk-parallel-item {display: flex;flex-direction: column;z-index: 1;position: relative;background-color: white;}#sk-container-id-3 div.sk-parallel-item:first-child::after {align-self: flex-end;width: 50%;}#sk-container-id-3 div.sk-parallel-item:last-child::after {align-self: flex-start;width: 50%;}#sk-container-id-3 div.sk-parallel-item:only-child::after {width: 0;}#sk-container-id-3 div.sk-dashed-wrapped {border: 1px dashed gray;margin: 0 0.4em 0.5em 0.4em;box-sizing: border-box;padding-bottom: 0.4em;background-color: white;}#sk-container-id-3 div.sk-label label {font-family: monospace;font-weight: bold;display: inline-block;line-height: 1.2em;}#sk-container-id-3 div.sk-label-container {text-align: center;}#sk-container-id-3 div.sk-container {/* jupyter's `normalize.less` sets `[hidden] { display: none; }` but bootstrap.min.css set `[hidden] { display: none !important; }` so we also need the `!important` here to be able to override the default hidden behavior on the sphinx rendered scikit-learn.org. See: https://github.com/scikit-learn/scikit-learn/issues/21755 */display: inline-block !important;position: relative;}#sk-container-id-3 div.sk-text-repr-fallback {display: none;}</style><div id=\"sk-container-id-3\" class=\"sk-top-container\"><div class=\"sk-text-repr-fallback\"><pre>LogisticRegression(C=10.11080808080808, class_weight=&#x27;balanced&#x27;, max_iter=1000,\n",
       "                   n_jobs=-1, solver=&#x27;newton-cg&#x27;)</pre><b>In a Jupyter environment, please rerun this cell to show the HTML representation or trust the notebook. <br />On GitHub, the HTML representation is unable to render, please try loading this page with nbviewer.org.</b></div><div class=\"sk-container\" hidden><div class=\"sk-item\"><div class=\"sk-estimator sk-toggleable\"><input class=\"sk-toggleable__control sk-hidden--visually\" id=\"sk-estimator-id-3\" type=\"checkbox\" checked><label for=\"sk-estimator-id-3\" class=\"sk-toggleable__label sk-toggleable__label-arrow\">LogisticRegression</label><div class=\"sk-toggleable__content\"><pre>LogisticRegression(C=10.11080808080808, class_weight=&#x27;balanced&#x27;, max_iter=1000,\n",
       "                   n_jobs=-1, solver=&#x27;newton-cg&#x27;)</pre></div></div></div></div></div>"
      ],
      "text/plain": [
       "LogisticRegression(C=10.11080808080808, class_weight='balanced', max_iter=1000,\n",
       "                   n_jobs=-1, solver='newton-cg')"
      ]
     },
     "execution_count": 45,
     "metadata": {},
     "output_type": "execute_result"
    }
   ],
   "source": [
    "### --- Fitting an assumed approximation of the best Ridge Regularized model\n",
    "ridge_best = LogisticRegression(C=bestC, \n",
    "                                class_weight='balanced',\n",
    "                                solver='newton-cg',\n",
    "                                max_iter=1000,\n",
    "                                n_jobs = -1)\n",
    "ridge_best.fit(X, y)"
   ]
  },
  {
   "cell_type": "code",
   "execution_count": 46,
   "id": "215a691f",
   "metadata": {},
   "outputs": [
    {
     "data": {
      "text/plain": [
       "array([-13.78306536,  -0.56242191,  10.95853998,   2.79638463,\n",
       "        -5.80478766,   6.39535032])"
      ]
     },
     "execution_count": 46,
     "metadata": {},
     "output_type": "execute_result"
    }
   ],
   "source": [
    "ridge_best.intercept_"
   ]
  },
  {
   "cell_type": "code",
   "execution_count": 47,
   "id": "d184ac8d",
   "metadata": {},
   "outputs": [
    {
     "data": {
      "text/plain": [
       "array([[ 5.37901946e-01,  9.46308923e+00,  2.59559603e+00,\n",
       "         2.47960572e-01,  9.87222124e+00,  1.18281069e-01,\n",
       "        -7.82611195e-02,  3.24368172e-01,  7.82189556e+00,\n",
       "        -1.84005989e+00, -2.28902179e+00],\n",
       "       [-1.43644429e-01,  2.34122822e+00,  6.53998350e-01,\n",
       "         1.06703097e-01,  3.23146452e+00, -4.38834378e-02,\n",
       "         1.54175303e-02, -7.46499904e-01,  1.98213187e+00,\n",
       "        -1.92061446e+00, -3.68630039e-01],\n",
       "       [-1.39006776e-01, -9.55300887e-01, -9.35219991e-01,\n",
       "        -1.98797095e-02,  2.54257087e+00, -2.99341528e-02,\n",
       "         3.29345016e-02,  3.20580565e-01, -3.75721140e-01,\n",
       "        -2.18754521e+00, -6.43573727e-01],\n",
       "       [-2.84756803e-02, -3.09086141e+00, -1.88150934e+00,\n",
       "        -4.68049588e-02,  6.21134324e-01, -1.39617133e-02,\n",
       "         1.88850139e-02,  3.40940183e-01, -6.74374448e-01,\n",
       "        -4.07286774e-01,  2.46848292e-01],\n",
       "       [ 1.04959399e-01, -5.57761616e+00, -1.61367830e+00,\n",
       "        -1.71826037e-02, -2.97753002e+00, -1.87124522e-02,\n",
       "         1.34843038e-02, -1.42535290e-01, -1.15201989e+00,\n",
       "         2.03797341e+00,  1.08668241e+00],\n",
       "       [-3.31734459e-01, -2.18053900e+00,  1.18081326e+00,\n",
       "        -2.70796397e-01, -1.32898609e+01, -1.17893131e-02,\n",
       "        -2.46023014e-03, -9.68537268e-02, -7.60191195e+00,\n",
       "         4.31753293e+00,  1.96769486e+00]])"
      ]
     },
     "execution_count": 47,
     "metadata": {},
     "output_type": "execute_result"
    }
   ],
   "source": [
    "ridge_best.coef_"
   ]
  },
  {
   "cell_type": "code",
   "execution_count": 48,
   "id": "f4f580ef",
   "metadata": {},
   "outputs": [
    {
     "data": {
      "text/plain": [
       "0.4352720450281426"
      ]
     },
     "execution_count": 48,
     "metadata": {},
     "output_type": "execute_result"
    }
   ],
   "source": [
    "# - accuracy of our model\n",
    "ridge_best.score(X, y)"
   ]
  },
  {
   "cell_type": "code",
   "execution_count": 49,
   "id": "bc13dc71",
   "metadata": {},
   "outputs": [
    {
     "data": {
      "text/plain": [
       "0.48269820510557326"
      ]
     },
     "execution_count": 49,
     "metadata": {},
     "output_type": "execute_result"
    }
   ],
   "source": [
    "# - F1\n",
    "# - predict \n",
    "y_hat = ridge_best.predict(X)\n",
    "# - weighted F1 score\n",
    "f1 = f1_score(y, y_hat, average='weighted')\n",
    "f1"
   ]
  },
  {
   "attachments": {},
   "cell_type": "markdown",
   "id": "daa4a6d0",
   "metadata": {},
   "source": [
    "### LASSO (L1) Regularization"
   ]
  },
  {
   "attachments": {},
   "cell_type": "markdown",
   "id": "309ae72a",
   "metadata": {},
   "source": [
    "*LASSO* is another way to regularize MNR model. It's obtained by minimizing the function\n",
    "\n",
    "$$-C\\cdot LL + \\frac{1}{2}L_1,$$\n",
    "\n",
    "where $LL$ is Log-Likelihood of the 'ordinary' MNR, and $L_1$ is the $L_1$ norm of model parameters matrix $W$:\n",
    "\n",
    "$$L_1 = ||W||_1 = \\sum_{i=1}^k\\sum_{j=1}^K|\\beta_i^{(j)}|.$$\n",
    "\n",
    "$C$ is, of course regularization hyperparameter."
   ]
  },
  {
   "cell_type": "code",
   "execution_count": 50,
   "id": "a07d8f7f",
   "metadata": {},
   "outputs": [],
   "source": [
    "### --- Varying the penalization parameter for the LASSO Regularized Model\n",
    "n_Cs = 100\n",
    "Cs = np.linspace(1e-2, 500, n_Cs)\n",
    "\n",
    "l1_coefs = []\n",
    "accuracies = []\n",
    "l1_norms_matrix = []\n",
    "w_f1_scores = []\n",
    "for C in Cs:\n",
    "    # - fitting a LASSO Regularization\n",
    "    # - when using 'saga' solver, we need to set multi_class='multinomial' argument explicitly\n",
    "    lasso = LogisticRegression(solver='saga', \n",
    "                               multi_class='multinomial', \n",
    "                               penalty='l1', \n",
    "                               C=C, \n",
    "                               class_weight='balanced',\n",
    "                               max_iter=10**5,\n",
    "                               n_jobs=-1)\n",
    "    lasso.fit(X, y)\n",
    "    \n",
    "    # - L1 norm of model coefficients vectors for each category\n",
    "    l1_c = np.linalg.norm(lasso.coef_, ord=1, axis=0)\n",
    "    \n",
    "    # - accuracy of a fitted Regularized Model\n",
    "    acc = lasso.score(X, y)\n",
    "    \n",
    "    # - L1 norm of model coefficient matrix\n",
    "    l1_m = np.linalg.norm(lasso.coef_, ord=1)\n",
    "\n",
    "    # - predict \n",
    "    y_hat = lasso.predict(X)\n",
    "    \n",
    "    # - weighted F1 score\n",
    "    f1 = f1_score(y, y_hat, average='weighted')\n",
    "    \n",
    "    l1_coefs.append(l1_c)\n",
    "    accuracies.append(acc)\n",
    "    l1_norms_matrix.append(l1_m)\n",
    "    w_f1_scores.append(f1)"
   ]
  },
  {
   "cell_type": "code",
   "execution_count": 51,
   "id": "dab11f94",
   "metadata": {},
   "outputs": [
    {
     "data": {
      "image/png": "[encoded data removed]",
      "text/plain": [
       "<Figure size 800x600 with 1 Axes>"
      ]
     },
     "metadata": {},
     "output_type": "display_data"
    }
   ],
   "source": [
    "### --- Plotting the dependence of model parameters vs. the regularization hyperparameter\n",
    "ax = plt.gca()\n",
    "\n",
    "ax.plot(Cs, l1_coefs)\n",
    "plt.xlabel(\"C\")\n",
    "plt.ylabel(\"weights\")\n",
    "plt.title(\"LASSO coefficients as a function of the regularization\")\n",
    "plt.axis(\"tight\")\n",
    "plt.legend(predictors)\n",
    "plt.show()"
   ]
  },
  {
   "cell_type": "code",
   "execution_count": 52,
   "id": "83f91db2",
   "metadata": {},
   "outputs": [
    {
     "data": {
      "image/png": "[encoded data removed]",
      "text/plain": [
       "<Figure size 800x600 with 1 Axes>"
      ]
     },
     "metadata": {},
     "output_type": "display_data"
    }
   ],
   "source": [
    "### --- Plotting the dependence of weighted F1 vs. the regularization hyperparameter\n",
    "ax = plt.gca()\n",
    "\n",
    "ax.plot(Cs, w_f1_scores)\n",
    "ax.axvline(x=250, c='g', ls='--') # green line, corresponding to C = 250\n",
    "plt.xlabel(\"C\")\n",
    "plt.ylabel(\"F1\")\n",
    "plt.title(\"Weighted F1 as a function of the regularization\")\n",
    "plt.axis(\"tight\")\n",
    "plt.show()"
   ]
  },
  {
   "cell_type": "code",
   "execution_count": 53,
   "id": "3afbe5a0",
   "metadata": {},
   "outputs": [
    {
     "data": {
      "image/png": "[encoded data removed]",
      "text/plain": [
       "<Figure size 1600x600 with 2 Axes>"
      ]
     },
     "metadata": {},
     "output_type": "display_data"
    }
   ],
   "source": [
    "### --- Plotting the dependance of various model metrics vs. the regularization hyperparameter\n",
    "ig, ax = plt.subplots(1, 2, figsize=(16, 6), sharex=True)\n",
    "\n",
    "\n",
    "# - L1-norm vs. C\n",
    "ax[0].plot(Cs, l1_norms_matrix)\n",
    "ax[0].set_xlabel(\"C\")\n",
    "ax[0].set_ylabel(\"$L_1$ norm\")\n",
    "ax[0].set_title(\"$L_1$ norm as a function of the regularization\")\n",
    "ax[0].axis(\"tight\")\n",
    "\n",
    "# - Model accuracy vs. C\n",
    "ax[1].plot(Cs, accuracies)\n",
    "ax[1].set_xlabel(\"C\")\n",
    "ax[1].set_ylabel(\"Accuracy\")\n",
    "ax[1].set_title(\"Model accuracy as a function of the regularization\")\n",
    "ax[1].axis(\"tight\");"
   ]
  },
  {
   "cell_type": "code",
   "execution_count": 54,
   "id": "de1ae915",
   "metadata": {},
   "outputs": [
    {
     "data": {
      "text/plain": [
       "20.211616161616163"
      ]
     },
     "execution_count": 54,
     "metadata": {},
     "output_type": "execute_result"
    }
   ],
   "source": [
    "bestC = Cs[np.argmax(w_f1_scores)]\n",
    "bestC"
   ]
  },
  {
   "cell_type": "code",
   "execution_count": 55,
   "id": "dceac477",
   "metadata": {},
   "outputs": [
    {
     "data": {
      "text/html": [
       "<style>#sk-container-id-4 {color: black;background-color: white;}#sk-container-id-4 pre{padding: 0;}#sk-container-id-4 div.sk-toggleable {background-color: white;}#sk-container-id-4 label.sk-toggleable__label {cursor: pointer;display: block;width: 100%;margin-bottom: 0;padding: 0.3em;box-sizing: border-box;text-align: center;}#sk-container-id-4 label.sk-toggleable__label-arrow:before {content: \"▸\";float: left;margin-right: 0.25em;color: #696969;}#sk-container-id-4 label.sk-toggleable__label-arrow:hover:before {color: black;}#sk-container-id-4 div.sk-estimator:hover label.sk-toggleable__label-arrow:before {color: black;}#sk-container-id-4 div.sk-toggleable__content {max-height: 0;max-width: 0;overflow: hidden;text-align: left;background-color: #f0f8ff;}#sk-container-id-4 div.sk-toggleable__content pre {margin: 0.2em;color: black;border-radius: 0.25em;background-color: #f0f8ff;}#sk-container-id-4 input.sk-toggleable__control:checked~div.sk-toggleable__content {max-height: 200px;max-width: 100%;overflow: auto;}#sk-container-id-4 input.sk-toggleable__control:checked~label.sk-toggleable__label-arrow:before {content: \"▾\";}#sk-container-id-4 div.sk-estimator input.sk-toggleable__control:checked~label.sk-toggleable__label {background-color: #d4ebff;}#sk-container-id-4 div.sk-label input.sk-toggleable__control:checked~label.sk-toggleable__label {background-color: #d4ebff;}#sk-container-id-4 input.sk-hidden--visually {border: 0;clip: rect(1px 1px 1px 1px);clip: rect(1px, 1px, 1px, 1px);height: 1px;margin: -1px;overflow: hidden;padding: 0;position: absolute;width: 1px;}#sk-container-id-4 div.sk-estimator {font-family: monospace;background-color: #f0f8ff;border: 1px dotted black;border-radius: 0.25em;box-sizing: border-box;margin-bottom: 0.5em;}#sk-container-id-4 div.sk-estimator:hover {background-color: #d4ebff;}#sk-container-id-4 div.sk-parallel-item::after {content: \"\";width: 100%;border-bottom: 1px solid gray;flex-grow: 1;}#sk-container-id-4 div.sk-label:hover label.sk-toggleable__label {background-color: #d4ebff;}#sk-container-id-4 div.sk-serial::before {content: \"\";position: absolute;border-left: 1px solid gray;box-sizing: border-box;top: 0;bottom: 0;left: 50%;z-index: 0;}#sk-container-id-4 div.sk-serial {display: flex;flex-direction: column;align-items: center;background-color: white;padding-right: 0.2em;padding-left: 0.2em;position: relative;}#sk-container-id-4 div.sk-item {position: relative;z-index: 1;}#sk-container-id-4 div.sk-parallel {display: flex;align-items: stretch;justify-content: center;background-color: white;position: relative;}#sk-container-id-4 div.sk-item::before, #sk-container-id-4 div.sk-parallel-item::before {content: \"\";position: absolute;border-left: 1px solid gray;box-sizing: border-box;top: 0;bottom: 0;left: 50%;z-index: -1;}#sk-container-id-4 div.sk-parallel-item {display: flex;flex-direction: column;z-index: 1;position: relative;background-color: white;}#sk-container-id-4 div.sk-parallel-item:first-child::after {align-self: flex-end;width: 50%;}#sk-container-id-4 div.sk-parallel-item:last-child::after {align-self: flex-start;width: 50%;}#sk-container-id-4 div.sk-parallel-item:only-child::after {width: 0;}#sk-container-id-4 div.sk-dashed-wrapped {border: 1px dashed gray;margin: 0 0.4em 0.5em 0.4em;box-sizing: border-box;padding-bottom: 0.4em;background-color: white;}#sk-container-id-4 div.sk-label label {font-family: monospace;font-weight: bold;display: inline-block;line-height: 1.2em;}#sk-container-id-4 div.sk-label-container {text-align: center;}#sk-container-id-4 div.sk-container {/* jupyter's `normalize.less` sets `[hidden] { display: none; }` but bootstrap.min.css set `[hidden] { display: none !important; }` so we also need the `!important` here to be able to override the default hidden behavior on the sphinx rendered scikit-learn.org. See: https://github.com/scikit-learn/scikit-learn/issues/21755 */display: inline-block !important;position: relative;}#sk-container-id-4 div.sk-text-repr-fallback {display: none;}</style><div id=\"sk-container-id-4\" class=\"sk-top-container\"><div class=\"sk-text-repr-fallback\"><pre>LogisticRegression(C=20.211616161616163, class_weight=&#x27;balanced&#x27;,\n",
       "                   max_iter=100000, multi_class=&#x27;multinomial&#x27;, n_jobs=-1,\n",
       "                   penalty=&#x27;l1&#x27;, solver=&#x27;saga&#x27;)</pre><b>In a Jupyter environment, please rerun this cell to show the HTML representation or trust the notebook. <br />On GitHub, the HTML representation is unable to render, please try loading this page with nbviewer.org.</b></div><div class=\"sk-container\" hidden><div class=\"sk-item\"><div class=\"sk-estimator sk-toggleable\"><input class=\"sk-toggleable__control sk-hidden--visually\" id=\"sk-estimator-id-4\" type=\"checkbox\" checked><label for=\"sk-estimator-id-4\" class=\"sk-toggleable__label sk-toggleable__label-arrow\">LogisticRegression</label><div class=\"sk-toggleable__content\"><pre>LogisticRegression(C=20.211616161616163, class_weight=&#x27;balanced&#x27;,\n",
       "                   max_iter=100000, multi_class=&#x27;multinomial&#x27;, n_jobs=-1,\n",
       "                   penalty=&#x27;l1&#x27;, solver=&#x27;saga&#x27;)</pre></div></div></div></div></div>"
      ],
      "text/plain": [
       "LogisticRegression(C=20.211616161616163, class_weight='balanced',\n",
       "                   max_iter=100000, multi_class='multinomial', n_jobs=-1,\n",
       "                   penalty='l1', solver='saga')"
      ]
     },
     "execution_count": 55,
     "metadata": {},
     "output_type": "execute_result"
    }
   ],
   "source": [
    "# - fitting an assumed best approximation for C\n",
    "lasso_best = LogisticRegression(C=bestC, \n",
    "                                solver='saga', \n",
    "                                penalty='l1', \n",
    "                                class_weight='balanced',\n",
    "                                n_jobs=-1,\n",
    "                                multi_class='multinomial', \n",
    "                                max_iter=10**5)\n",
    "lasso_best.fit(X, y)"
   ]
  },
  {
   "cell_type": "code",
   "execution_count": 56,
   "id": "1688767c",
   "metadata": {},
   "outputs": [
    {
     "data": {
      "text/plain": [
       "array([ 0.35543719,  0.28107618,  0.55281133,  0.05051695, -0.53957089,\n",
       "       -0.70027076])"
      ]
     },
     "execution_count": 56,
     "metadata": {},
     "output_type": "execute_result"
    }
   ],
   "source": [
    "lasso_best.intercept_"
   ]
  },
  {
   "cell_type": "code",
   "execution_count": 57,
   "id": "ae34633c",
   "metadata": {},
   "outputs": [
    {
     "data": {
      "text/plain": [
       "array([[ 3.35366121e-01,  3.98821482e+00, -5.12010518e-01,\n",
       "         1.91360312e-01,  6.27220216e-01,  8.28035813e-02,\n",
       "        -5.73611312e-02,  3.57824944e-01,  2.36114277e+00,\n",
       "        -4.66123082e-01, -1.28432251e+00],\n",
       "       [-1.13306498e-01,  1.06170082e+00, -4.49570118e-01,\n",
       "         1.14642623e-01,  4.23152087e-02, -3.38749218e-02,\n",
       "         1.02133130e-02,  2.70997277e-01,  1.29512297e+00,\n",
       "        -4.97564131e-01, -3.67718453e-01],\n",
       "       [ 6.66203180e-03, -1.56224941e-01, -4.86638782e-01,\n",
       "         5.51696922e-03,  8.16224459e-02, -2.03997256e-02,\n",
       "         2.69472737e-02,  5.47694659e-01,  1.47173801e+00,\n",
       "        -4.70991885e-01, -5.67691418e-01],\n",
       "       [-3.83189117e-02, -1.20317195e+00, -2.10544762e-01,\n",
       "        -2.17529935e-02, -1.00492387e-01,  7.40258035e-04,\n",
       "         8.76431766e-03,  4.71949283e-02,  6.26032509e-02,\n",
       "        -2.66216757e-02,  1.02606969e-01],\n",
       "       [-3.95568833e-02, -2.21783753e+00,  5.06310115e-01,\n",
       "        -2.08662878e-02, -2.73551047e-01, -4.63926331e-03,\n",
       "         3.06844592e-03, -5.36221254e-01, -1.65059511e+00,\n",
       "         5.00496820e-01,  7.40673516e-01],\n",
       "       [-1.40005941e-01, -1.46701403e+00,  1.16383976e+00,\n",
       "        -2.61062669e-01, -3.77097765e-01, -1.44164533e-02,\n",
       "        -1.59517623e-03, -6.99114896e-01, -3.55125746e+00,\n",
       "         9.63339153e-01,  1.37739710e+00]])"
      ]
     },
     "execution_count": 57,
     "metadata": {},
     "output_type": "execute_result"
    }
   ],
   "source": [
    "lasso_best.coef_"
   ]
  },
  {
   "cell_type": "code",
   "execution_count": 58,
   "id": "bcb52bfe",
   "metadata": {},
   "outputs": [
    {
     "data": {
      "text/plain": [
       "0.36647904940587867"
      ]
     },
     "execution_count": 58,
     "metadata": {},
     "output_type": "execute_result"
    }
   ],
   "source": [
    "lasso_best.score(X, y)"
   ]
  },
  {
   "attachments": {},
   "cell_type": "markdown",
   "id": "ea05b957",
   "metadata": {},
   "source": [
    "## 3. Cross-Validation of Multinomial Regression"
   ]
  },
  {
   "attachments": {},
   "cell_type": "markdown",
   "id": "2f6351a2",
   "metadata": {},
   "source": [
    "In order to find the most optimal penalization hyperparameter we may use *cross-validation* across the 'grid' of hyperparameters, fitting a model for every $C$ in the grid, and then choosing the best perfoming-one (i.e. with the highest accuracy).\n",
    "\n",
    "K-fold cross-validation (CV) is a common technique used to estimate the performance of a predictive model. In k-fold CV, the dataset is randomly split into k equally sized folds, and the model is trained and evaluated k times.\n",
    "\n",
    "The steps of k-fold CV can be summarized as follows:\n",
    "\n",
    "- Shuffle the dataset randomly.\n",
    "- Split the dataset into k equally sized folds.\n",
    "- For each fold:\n",
    "   - Use the current fold as the validation set.\n",
    "   - Use the remaining k-1 folds as the training set.\n",
    "   - Train the model on the training set and evaluate its performance on the validation set.\n",
    "Calculate the average performance of the model across all k iterations.\n",
    "\n",
    "K-fold CV is useful because it addresses some of the limitations of other cross-validation methods. For example, it is more computationally efficient than LOOCV, as it only requires fitting the model k times, rather than n times. K-fold CV can also help to reduce overfitting compared to simpler methods like hold-out validation, as it allows the model to be trained and evaluated on multiple subsets of the data.\n",
    "\n",
    "The value of k is typically chosen to balance the trade-off between bias and variance in the performance estimate. Common choices for k include 5 and 10, but other values can also be used. It's worth noting that larger values of k will result in smaller bias but higher variance in the performance estimate, while smaller values of k will result in higher bias but lower variance.\n",
    "\n",
    "Overall, k-fold CV is a widely used technique for estimating the performance of a predictive model and can be a useful tool for model selection and hyperparameter tuning."
   ]
  },
  {
   "attachments": {},
   "cell_type": "markdown",
   "id": "44e216b4",
   "metadata": {},
   "source": [
    "### CV for Ridge (L2) Regularization"
   ]
  },
  {
   "attachments": {},
   "cell_type": "markdown",
   "id": "1e504c84",
   "metadata": {},
   "source": [
    "Scikit-Learn Documentation\n",
    "\n",
    "- [sklearn.linear_model.LogisticRegressionCV](https://scikit-learn.org/stable/modules/generated/sklearn.linear_model.LogisticRegressionCV.html)"
   ]
  },
  {
   "cell_type": "code",
   "execution_count": 59,
   "id": "fd14cc68",
   "metadata": {},
   "outputs": [
    {
     "data": {
      "text/html": [
       "<style>#sk-container-id-5 {color: black;background-color: white;}#sk-container-id-5 pre{padding: 0;}#sk-container-id-5 div.sk-toggleable {background-color: white;}#sk-container-id-5 label.sk-toggleable__label {cursor: pointer;display: block;width: 100%;margin-bottom: 0;padding: 0.3em;box-sizing: border-box;text-align: center;}#sk-container-id-5 label.sk-toggleable__label-arrow:before {content: \"▸\";float: left;margin-right: 0.25em;color: #696969;}#sk-container-id-5 label.sk-toggleable__label-arrow:hover:before {color: black;}#sk-container-id-5 div.sk-estimator:hover label.sk-toggleable__label-arrow:before {color: black;}#sk-container-id-5 div.sk-toggleable__content {max-height: 0;max-width: 0;overflow: hidden;text-align: left;background-color: #f0f8ff;}#sk-container-id-5 div.sk-toggleable__content pre {margin: 0.2em;color: black;border-radius: 0.25em;background-color: #f0f8ff;}#sk-container-id-5 input.sk-toggleable__control:checked~div.sk-toggleable__content {max-height: 200px;max-width: 100%;overflow: auto;}#sk-container-id-5 input.sk-toggleable__control:checked~label.sk-toggleable__label-arrow:before {content: \"▾\";}#sk-container-id-5 div.sk-estimator input.sk-toggleable__control:checked~label.sk-toggleable__label {background-color: #d4ebff;}#sk-container-id-5 div.sk-label input.sk-toggleable__control:checked~label.sk-toggleable__label {background-color: #d4ebff;}#sk-container-id-5 input.sk-hidden--visually {border: 0;clip: rect(1px 1px 1px 1px);clip: rect(1px, 1px, 1px, 1px);height: 1px;margin: -1px;overflow: hidden;padding: 0;position: absolute;width: 1px;}#sk-container-id-5 div.sk-estimator {font-family: monospace;background-color: #f0f8ff;border: 1px dotted black;border-radius: 0.25em;box-sizing: border-box;margin-bottom: 0.5em;}#sk-container-id-5 div.sk-estimator:hover {background-color: #d4ebff;}#sk-container-id-5 div.sk-parallel-item::after {content: \"\";width: 100%;border-bottom: 1px solid gray;flex-grow: 1;}#sk-container-id-5 div.sk-label:hover label.sk-toggleable__label {background-color: #d4ebff;}#sk-container-id-5 div.sk-serial::before {content: \"\";position: absolute;border-left: 1px solid gray;box-sizing: border-box;top: 0;bottom: 0;left: 50%;z-index: 0;}#sk-container-id-5 div.sk-serial {display: flex;flex-direction: column;align-items: center;background-color: white;padding-right: 0.2em;padding-left: 0.2em;position: relative;}#sk-container-id-5 div.sk-item {position: relative;z-index: 1;}#sk-container-id-5 div.sk-parallel {display: flex;align-items: stretch;justify-content: center;background-color: white;position: relative;}#sk-container-id-5 div.sk-item::before, #sk-container-id-5 div.sk-parallel-item::before {content: \"\";position: absolute;border-left: 1px solid gray;box-sizing: border-box;top: 0;bottom: 0;left: 50%;z-index: -1;}#sk-container-id-5 div.sk-parallel-item {display: flex;flex-direction: column;z-index: 1;position: relative;background-color: white;}#sk-container-id-5 div.sk-parallel-item:first-child::after {align-self: flex-end;width: 50%;}#sk-container-id-5 div.sk-parallel-item:last-child::after {align-self: flex-start;width: 50%;}#sk-container-id-5 div.sk-parallel-item:only-child::after {width: 0;}#sk-container-id-5 div.sk-dashed-wrapped {border: 1px dashed gray;margin: 0 0.4em 0.5em 0.4em;box-sizing: border-box;padding-bottom: 0.4em;background-color: white;}#sk-container-id-5 div.sk-label label {font-family: monospace;font-weight: bold;display: inline-block;line-height: 1.2em;}#sk-container-id-5 div.sk-label-container {text-align: center;}#sk-container-id-5 div.sk-container {/* jupyter's `normalize.less` sets `[hidden] { display: none; }` but bootstrap.min.css set `[hidden] { display: none !important; }` so we also need the `!important` here to be able to override the default hidden behavior on the sphinx rendered scikit-learn.org. See: https://github.com/scikit-learn/scikit-learn/issues/21755 */display: inline-block !important;position: relative;}#sk-container-id-5 div.sk-text-repr-fallback {display: none;}</style><div id=\"sk-container-id-5\" class=\"sk-top-container\"><div class=\"sk-text-repr-fallback\"><pre>LogisticRegressionCV(class_weight=&#x27;balanced&#x27;, max_iter=1000,\n",
       "                     multi_class=&#x27;multinomial&#x27;, n_jobs=-1, solver=&#x27;newton-cg&#x27;)</pre><b>In a Jupyter environment, please rerun this cell to show the HTML representation or trust the notebook. <br />On GitHub, the HTML representation is unable to render, please try loading this page with nbviewer.org.</b></div><div class=\"sk-container\" hidden><div class=\"sk-item\"><div class=\"sk-estimator sk-toggleable\"><input class=\"sk-toggleable__control sk-hidden--visually\" id=\"sk-estimator-id-5\" type=\"checkbox\" checked><label for=\"sk-estimator-id-5\" class=\"sk-toggleable__label sk-toggleable__label-arrow\">LogisticRegressionCV</label><div class=\"sk-toggleable__content\"><pre>LogisticRegressionCV(class_weight=&#x27;balanced&#x27;, max_iter=1000,\n",
       "                     multi_class=&#x27;multinomial&#x27;, n_jobs=-1, solver=&#x27;newton-cg&#x27;)</pre></div></div></div></div></div>"
      ],
      "text/plain": [
       "LogisticRegressionCV(class_weight='balanced', max_iter=1000,\n",
       "                     multi_class='multinomial', n_jobs=-1, solver='newton-cg')"
      ]
     },
     "execution_count": 59,
     "metadata": {},
     "output_type": "execute_result"
    }
   ],
   "source": [
    "from sklearn.linear_model import LogisticRegressionCV\n",
    "\n",
    "# - Performing the cross-validation across 10 \n",
    "# - log-distributed values of C in the [10^(-4), 10^4] interval\n",
    "ridgeCV = LogisticRegressionCV(Cs=10, \n",
    "                               solver='newton-cg',\n",
    "                               class_weight='balanced', \n",
    "                               multi_class='multinomial', \n",
    "                               max_iter=1000,\n",
    "                               n_jobs=-1)\n",
    "ridgeCV.fit(X, y)"
   ]
  },
  {
   "cell_type": "code",
   "execution_count": 60,
   "id": "5ca8ac84",
   "metadata": {},
   "outputs": [
    {
     "data": {
      "text/plain": [
       "array([10000., 10000., 10000., 10000., 10000., 10000.])"
      ]
     },
     "execution_count": 60,
     "metadata": {},
     "output_type": "execute_result"
    }
   ],
   "source": [
    "# - regularization hyperparameters for the best model\n",
    "# - note that we do not obtain a single C, but a set of regularization hyperparameters\n",
    "# - each entry corresponds to the best regularization value for a given category\n",
    "ridgeCV.C_"
   ]
  },
  {
   "cell_type": "code",
   "execution_count": 61,
   "id": "f9535fcc",
   "metadata": {},
   "outputs": [
    {
     "data": {
      "text/plain": [
       "array([-168.41538021,  333.17734935, -106.00191093, -116.62443137,\n",
       "         54.70782804,    3.15654512])"
      ]
     },
     "execution_count": 61,
     "metadata": {},
     "output_type": "execute_result"
    }
   ],
   "source": [
    "ridgeCV.intercept_"
   ]
  },
  {
   "cell_type": "code",
   "execution_count": 62,
   "id": "00889a0b",
   "metadata": {
    "scrolled": true
   },
   "outputs": [
    {
     "data": {
      "text/plain": [
       "array([[ 5.62683360e-01,  9.89087912e+00,  2.65350837e+00,\n",
       "         1.88194734e-01,  2.33356176e+01,  1.19190589e-01,\n",
       "        -7.92776545e-02,  1.47917483e+02,  1.03690310e+01,\n",
       "        -3.84073530e+00, -2.43177008e+00],\n",
       "       [ 2.21405994e-01,  2.33049683e+00,  1.57526067e-01,\n",
       "         2.34415757e-01,  1.21701049e+01, -5.65971641e-02,\n",
       "         2.04892170e-02, -3.43077246e+02,  3.91371328e+00,\n",
       "        -1.91393888e+00, -6.26555589e-01],\n",
       "       [-2.30603718e-01, -1.79480045e+00, -1.63469322e+00,\n",
       "        -8.43070241e-02,  1.05165575e+01, -3.65308271e-02,\n",
       "         3.69829764e-02,  1.19615884e+02, -9.19756848e-01,\n",
       "        -2.90669663e+00, -5.05480319e-01],\n",
       "       [-1.58641265e-01, -3.94733998e+00, -2.51894842e+00,\n",
       "        -1.11283516e-01,  5.37780944e+00, -1.78251859e-02,\n",
       "         2.18163617e-02,  1.23825117e+02, -1.70529659e+00,\n",
       "        -4.10290354e-01,  3.89029725e-01],\n",
       "       [ 7.67160088e-02, -5.64825818e+00, -1.56576774e+00,\n",
       "         1.88596217e-02, -3.17142506e+00, -1.74767175e-02,\n",
       "         1.34925456e-02, -5.87597727e+01, -1.74211782e+00,\n",
       "         3.01767495e+00,  1.05297180e+00],\n",
       "       [-4.71560381e-01, -8.30977341e-01,  2.90837494e+00,\n",
       "        -2.45879572e-01, -4.82286644e+01,  9.23930436e-03,\n",
       "        -1.35034476e-02,  1.04785344e+01, -9.91557299e+00,\n",
       "         6.05398621e+00,  2.12180447e+00]])"
      ]
     },
     "execution_count": 62,
     "metadata": {},
     "output_type": "execute_result"
    }
   ],
   "source": [
    "ridgeCV.coef_"
   ]
  },
  {
   "cell_type": "code",
   "execution_count": 63,
   "id": "0d200e2f",
   "metadata": {},
   "outputs": [
    {
     "data": {
      "text/plain": [
       "0.44090056285178236"
      ]
     },
     "execution_count": 63,
     "metadata": {},
     "output_type": "execute_result"
    }
   ],
   "source": [
    "# - accuracy of the model obtained through the cross-validation\n",
    "ridgeCV.score(X, y)"
   ]
  },
  {
   "cell_type": "code",
   "execution_count": 64,
   "id": "2332176f",
   "metadata": {},
   "outputs": [
    {
     "data": {
      "text/plain": [
       "array([[  7,   3,   0,   0,   0,   0],\n",
       "       [ 12,  24,   9,   6,   1,   1],\n",
       "       [ 61, 112, 361, 102,  32,  13],\n",
       "       [ 21,  78, 135, 213, 123,  68],\n",
       "       [  0,  14,   6,  32,  87,  60],\n",
       "       [  0,   0,   0,   0,   5,  13]])"
      ]
     },
     "execution_count": 64,
     "metadata": {},
     "output_type": "execute_result"
    }
   ],
   "source": [
    "confusion_matrix(y, ridgeCV.predict(X))"
   ]
  },
  {
   "attachments": {},
   "cell_type": "markdown",
   "id": "1473b653",
   "metadata": {},
   "source": [
    "### CV for LASSO (L1) Regularization"
   ]
  },
  {
   "cell_type": "code",
   "execution_count": 65,
   "id": "e37bdb9c",
   "metadata": {},
   "outputs": [
    {
     "data": {
      "text/html": [
       "<style>#sk-container-id-6 {color: black;background-color: white;}#sk-container-id-6 pre{padding: 0;}#sk-container-id-6 div.sk-toggleable {background-color: white;}#sk-container-id-6 label.sk-toggleable__label {cursor: pointer;display: block;width: 100%;margin-bottom: 0;padding: 0.3em;box-sizing: border-box;text-align: center;}#sk-container-id-6 label.sk-toggleable__label-arrow:before {content: \"▸\";float: left;margin-right: 0.25em;color: #696969;}#sk-container-id-6 label.sk-toggleable__label-arrow:hover:before {color: black;}#sk-container-id-6 div.sk-estimator:hover label.sk-toggleable__label-arrow:before {color: black;}#sk-container-id-6 div.sk-toggleable__content {max-height: 0;max-width: 0;overflow: hidden;text-align: left;background-color: #f0f8ff;}#sk-container-id-6 div.sk-toggleable__content pre {margin: 0.2em;color: black;border-radius: 0.25em;background-color: #f0f8ff;}#sk-container-id-6 input.sk-toggleable__control:checked~div.sk-toggleable__content {max-height: 200px;max-width: 100%;overflow: auto;}#sk-container-id-6 input.sk-toggleable__control:checked~label.sk-toggleable__label-arrow:before {content: \"▾\";}#sk-container-id-6 div.sk-estimator input.sk-toggleable__control:checked~label.sk-toggleable__label {background-color: #d4ebff;}#sk-container-id-6 div.sk-label input.sk-toggleable__control:checked~label.sk-toggleable__label {background-color: #d4ebff;}#sk-container-id-6 input.sk-hidden--visually {border: 0;clip: rect(1px 1px 1px 1px);clip: rect(1px, 1px, 1px, 1px);height: 1px;margin: -1px;overflow: hidden;padding: 0;position: absolute;width: 1px;}#sk-container-id-6 div.sk-estimator {font-family: monospace;background-color: #f0f8ff;border: 1px dotted black;border-radius: 0.25em;box-sizing: border-box;margin-bottom: 0.5em;}#sk-container-id-6 div.sk-estimator:hover {background-color: #d4ebff;}#sk-container-id-6 div.sk-parallel-item::after {content: \"\";width: 100%;border-bottom: 1px solid gray;flex-grow: 1;}#sk-container-id-6 div.sk-label:hover label.sk-toggleable__label {background-color: #d4ebff;}#sk-container-id-6 div.sk-serial::before {content: \"\";position: absolute;border-left: 1px solid gray;box-sizing: border-box;top: 0;bottom: 0;left: 50%;z-index: 0;}#sk-container-id-6 div.sk-serial {display: flex;flex-direction: column;align-items: center;background-color: white;padding-right: 0.2em;padding-left: 0.2em;position: relative;}#sk-container-id-6 div.sk-item {position: relative;z-index: 1;}#sk-container-id-6 div.sk-parallel {display: flex;align-items: stretch;justify-content: center;background-color: white;position: relative;}#sk-container-id-6 div.sk-item::before, #sk-container-id-6 div.sk-parallel-item::before {content: \"\";position: absolute;border-left: 1px solid gray;box-sizing: border-box;top: 0;bottom: 0;left: 50%;z-index: -1;}#sk-container-id-6 div.sk-parallel-item {display: flex;flex-direction: column;z-index: 1;position: relative;background-color: white;}#sk-container-id-6 div.sk-parallel-item:first-child::after {align-self: flex-end;width: 50%;}#sk-container-id-6 div.sk-parallel-item:last-child::after {align-self: flex-start;width: 50%;}#sk-container-id-6 div.sk-parallel-item:only-child::after {width: 0;}#sk-container-id-6 div.sk-dashed-wrapped {border: 1px dashed gray;margin: 0 0.4em 0.5em 0.4em;box-sizing: border-box;padding-bottom: 0.4em;background-color: white;}#sk-container-id-6 div.sk-label label {font-family: monospace;font-weight: bold;display: inline-block;line-height: 1.2em;}#sk-container-id-6 div.sk-label-container {text-align: center;}#sk-container-id-6 div.sk-container {/* jupyter's `normalize.less` sets `[hidden] { display: none; }` but bootstrap.min.css set `[hidden] { display: none !important; }` so we also need the `!important` here to be able to override the default hidden behavior on the sphinx rendered scikit-learn.org. See: https://github.com/scikit-learn/scikit-learn/issues/21755 */display: inline-block !important;position: relative;}#sk-container-id-6 div.sk-text-repr-fallback {display: none;}</style><div id=\"sk-container-id-6\" class=\"sk-top-container\"><div class=\"sk-text-repr-fallback\"><pre>LogisticRegressionCV(class_weight=&#x27;balanced&#x27;, max_iter=100000,\n",
       "                     multi_class=&#x27;multinomial&#x27;, n_jobs=-1, penalty=&#x27;l1&#x27;,\n",
       "                     solver=&#x27;saga&#x27;)</pre><b>In a Jupyter environment, please rerun this cell to show the HTML representation or trust the notebook. <br />On GitHub, the HTML representation is unable to render, please try loading this page with nbviewer.org.</b></div><div class=\"sk-container\" hidden><div class=\"sk-item\"><div class=\"sk-estimator sk-toggleable\"><input class=\"sk-toggleable__control sk-hidden--visually\" id=\"sk-estimator-id-6\" type=\"checkbox\" checked><label for=\"sk-estimator-id-6\" class=\"sk-toggleable__label sk-toggleable__label-arrow\">LogisticRegressionCV</label><div class=\"sk-toggleable__content\"><pre>LogisticRegressionCV(class_weight=&#x27;balanced&#x27;, max_iter=100000,\n",
       "                     multi_class=&#x27;multinomial&#x27;, n_jobs=-1, penalty=&#x27;l1&#x27;,\n",
       "                     solver=&#x27;saga&#x27;)</pre></div></div></div></div></div>"
      ],
      "text/plain": [
       "LogisticRegressionCV(class_weight='balanced', max_iter=100000,\n",
       "                     multi_class='multinomial', n_jobs=-1, penalty='l1',\n",
       "                     solver='saga')"
      ]
     },
     "execution_count": 65,
     "metadata": {},
     "output_type": "execute_result"
    }
   ],
   "source": [
    "# - Performing the cross-validation across 10 \n",
    "# - log-distributed values of C in the [10^(-4), 10^4] interval\n",
    "lassoCV = LogisticRegressionCV(Cs=10, \n",
    "                               solver='saga', \n",
    "                               penalty='l1', \n",
    "                               class_weight='balanced',\n",
    "                               n_jobs=-1,\n",
    "                               multi_class='multinomial', \n",
    "                               max_iter=10**5)\n",
    "lassoCV.fit(X, y)"
   ]
  },
  {
   "cell_type": "code",
   "execution_count": 66,
   "id": "3aecfe37",
   "metadata": {},
   "outputs": [
    {
     "data": {
      "text/plain": [
       "array([21.5443469, 21.5443469, 21.5443469, 21.5443469, 21.5443469,\n",
       "       21.5443469])"
      ]
     },
     "execution_count": 66,
     "metadata": {},
     "output_type": "execute_result"
    }
   ],
   "source": [
    "# - regularization values obtained through the cross-validation\n",
    "lassoCV.C_"
   ]
  },
  {
   "cell_type": "code",
   "execution_count": 67,
   "id": "80faf207",
   "metadata": {},
   "outputs": [
    {
     "data": {
      "text/plain": [
       "array([ 1.68999985,  1.08657767,  0.70775179,  0.03439685, -1.06170135,\n",
       "       -2.45702481])"
      ]
     },
     "execution_count": 67,
     "metadata": {},
     "output_type": "execute_result"
    }
   ],
   "source": [
    "lassoCV.intercept_"
   ]
  },
  {
   "cell_type": "code",
   "execution_count": 68,
   "id": "bf01119b",
   "metadata": {},
   "outputs": [
    {
     "data": {
      "text/plain": [
       "array([[ 2.98009195e-01,  4.19226306e+00, -8.43179034e-02,\n",
       "         1.91595766e-01,  2.25063489e-01,  8.80684684e-02,\n",
       "        -6.21801247e-02,  3.31927581e-02,  1.54269750e+00,\n",
       "        -1.40281390e-01, -1.09597313e+00],\n",
       "       [-1.26674999e-01,  1.10556498e+00, -2.77813118e-01,\n",
       "         1.19066440e-01,  5.01252862e-03, -2.90594035e-02,\n",
       "         5.52978363e-03,  2.02903054e-02,  8.38972496e-01,\n",
       "        -3.44614740e-01, -2.55205821e-01],\n",
       "       [ 7.07681014e-03, -2.54103646e-02, -2.57071444e-01,\n",
       "         8.26274107e-03,  1.37264306e-02, -1.55951275e-02,\n",
       "         2.24667204e-02,  2.28079816e-01,  1.10759004e+00,\n",
       "        -2.85717655e-01, -4.35068311e-01],\n",
       "       [-3.06409738e-02, -8.96419180e-01, -6.52071956e-02,\n",
       "        -1.76940976e-02, -2.59661998e-02,  5.71134067e-03,\n",
       "         4.28075940e-03, -5.43188992e-03, -1.56952277e-01,\n",
       "        -3.26347202e-02,  1.76252549e-01],\n",
       "       [ 5.66002015e-03, -2.06979928e+00,  1.96068030e-01,\n",
       "        -1.10066516e-02, -4.93281767e-02, -8.77373131e-04,\n",
       "        -5.90181113e-04, -1.91793188e-01, -1.78011541e+00,\n",
       "         2.58206431e-01,  8.02011417e-01],\n",
       "       [-5.38134851e-02, -9.39580745e-01,  6.44631234e-01,\n",
       "        -2.59423310e-01, -7.37301990e-02, -9.13237404e-03,\n",
       "        -5.66437832e-03, -1.18660699e-01, -3.54763628e+00,\n",
       "         6.98345308e-01,  1.45212500e+00]])"
      ]
     },
     "execution_count": 68,
     "metadata": {},
     "output_type": "execute_result"
    }
   ],
   "source": [
    "lassoCV.coef_"
   ]
  },
  {
   "cell_type": "code",
   "execution_count": 69,
   "id": "40d9c3ec",
   "metadata": {},
   "outputs": [
    {
     "data": {
      "text/plain": [
       "0.3545966228893058"
      ]
     },
     "execution_count": 69,
     "metadata": {},
     "output_type": "execute_result"
    }
   ],
   "source": [
    "# - accuracy of the model obtained through the cross-validation\n",
    "lassoCV.score(X, y)"
   ]
  },
  {
   "attachments": {},
   "cell_type": "markdown",
   "id": "fa03a522",
   "metadata": {},
   "source": [
    "### CV for Elastic-Net Regularization"
   ]
  },
  {
   "attachments": {},
   "cell_type": "markdown",
   "id": "d1a8ff4e",
   "metadata": {},
   "source": [
    "Both Ridge and LASSO Regularizations are a part of a more general *Elastic-net* Regularization, obtaned by minimizing the function \n",
    "\n",
    "$$-C\\cdot LL + \\rho L_1 + \\frac{1 - \\rho}{2}L_2^2$$\n",
    "\n",
    "where $\\rho\\in[0,1]$ is yet another hyperparameter, called *$L_1$-ratio*. For $\\rho = 0$ one recovers Ridge Regularization, and for $\\rho = 1$ LASSO Regularization."
   ]
  },
  {
   "attachments": {},
   "cell_type": "markdown",
   "id": "e2d75d57",
   "metadata": {},
   "source": [
    "Since there are two hyperparameters to tune, here we will perform cross-validation for each one, in parallel. \n",
    "\n",
    "We make a grid of values for hyperparameters $\\rho$ and $C$. For every value of $\\rho$ we perform a *k-fold cross-validation*: we split the data in $k$ *folds*, i.e. subsets. Then we select all but one fold to be the *test folds*; all the remaining folds are *train folds*. We fit the model on train folds, and evaluate the performance on the test fold, as an indicator of how it handles the unseen data. After this, we a new fold is chosen as the test fold, while the previous test fold becomes another train fold; we train and evaluate the model in this new setting. We repeat this procedure $k$ times and obtain $k$ different models. We select a combination of hyperparameters which performed the best. \n",
    "\n",
    "Note that we will not use values 0 and 1 for $\\rho$, as this would lead to *Ridge* and *LASSO* regularization, respectivelly."
   ]
  },
  {
   "attachments": {},
   "cell_type": "markdown",
   "id": "9994d705",
   "metadata": {},
   "source": [
    "First, we preform $k$-fold CV only for hyperparameter $C$, while keeping $\\rho = 0.5$ fixed. "
   ]
  },
  {
   "cell_type": "code",
   "execution_count": 70,
   "id": "ea135b00",
   "metadata": {},
   "outputs": [
    {
     "data": {
      "text/html": [
       "<style>#sk-container-id-7 {color: black;background-color: white;}#sk-container-id-7 pre{padding: 0;}#sk-container-id-7 div.sk-toggleable {background-color: white;}#sk-container-id-7 label.sk-toggleable__label {cursor: pointer;display: block;width: 100%;margin-bottom: 0;padding: 0.3em;box-sizing: border-box;text-align: center;}#sk-container-id-7 label.sk-toggleable__label-arrow:before {content: \"▸\";float: left;margin-right: 0.25em;color: #696969;}#sk-container-id-7 label.sk-toggleable__label-arrow:hover:before {color: black;}#sk-container-id-7 div.sk-estimator:hover label.sk-toggleable__label-arrow:before {color: black;}#sk-container-id-7 div.sk-toggleable__content {max-height: 0;max-width: 0;overflow: hidden;text-align: left;background-color: #f0f8ff;}#sk-container-id-7 div.sk-toggleable__content pre {margin: 0.2em;color: black;border-radius: 0.25em;background-color: #f0f8ff;}#sk-container-id-7 input.sk-toggleable__control:checked~div.sk-toggleable__content {max-height: 200px;max-width: 100%;overflow: auto;}#sk-container-id-7 input.sk-toggleable__control:checked~label.sk-toggleable__label-arrow:before {content: \"▾\";}#sk-container-id-7 div.sk-estimator input.sk-toggleable__control:checked~label.sk-toggleable__label {background-color: #d4ebff;}#sk-container-id-7 div.sk-label input.sk-toggleable__control:checked~label.sk-toggleable__label {background-color: #d4ebff;}#sk-container-id-7 input.sk-hidden--visually {border: 0;clip: rect(1px 1px 1px 1px);clip: rect(1px, 1px, 1px, 1px);height: 1px;margin: -1px;overflow: hidden;padding: 0;position: absolute;width: 1px;}#sk-container-id-7 div.sk-estimator {font-family: monospace;background-color: #f0f8ff;border: 1px dotted black;border-radius: 0.25em;box-sizing: border-box;margin-bottom: 0.5em;}#sk-container-id-7 div.sk-estimator:hover {background-color: #d4ebff;}#sk-container-id-7 div.sk-parallel-item::after {content: \"\";width: 100%;border-bottom: 1px solid gray;flex-grow: 1;}#sk-container-id-7 div.sk-label:hover label.sk-toggleable__label {background-color: #d4ebff;}#sk-container-id-7 div.sk-serial::before {content: \"\";position: absolute;border-left: 1px solid gray;box-sizing: border-box;top: 0;bottom: 0;left: 50%;z-index: 0;}#sk-container-id-7 div.sk-serial {display: flex;flex-direction: column;align-items: center;background-color: white;padding-right: 0.2em;padding-left: 0.2em;position: relative;}#sk-container-id-7 div.sk-item {position: relative;z-index: 1;}#sk-container-id-7 div.sk-parallel {display: flex;align-items: stretch;justify-content: center;background-color: white;position: relative;}#sk-container-id-7 div.sk-item::before, #sk-container-id-7 div.sk-parallel-item::before {content: \"\";position: absolute;border-left: 1px solid gray;box-sizing: border-box;top: 0;bottom: 0;left: 50%;z-index: -1;}#sk-container-id-7 div.sk-parallel-item {display: flex;flex-direction: column;z-index: 1;position: relative;background-color: white;}#sk-container-id-7 div.sk-parallel-item:first-child::after {align-self: flex-end;width: 50%;}#sk-container-id-7 div.sk-parallel-item:last-child::after {align-self: flex-start;width: 50%;}#sk-container-id-7 div.sk-parallel-item:only-child::after {width: 0;}#sk-container-id-7 div.sk-dashed-wrapped {border: 1px dashed gray;margin: 0 0.4em 0.5em 0.4em;box-sizing: border-box;padding-bottom: 0.4em;background-color: white;}#sk-container-id-7 div.sk-label label {font-family: monospace;font-weight: bold;display: inline-block;line-height: 1.2em;}#sk-container-id-7 div.sk-label-container {text-align: center;}#sk-container-id-7 div.sk-container {/* jupyter's `normalize.less` sets `[hidden] { display: none; }` but bootstrap.min.css set `[hidden] { display: none !important; }` so we also need the `!important` here to be able to override the default hidden behavior on the sphinx rendered scikit-learn.org. See: https://github.com/scikit-learn/scikit-learn/issues/21755 */display: inline-block !important;position: relative;}#sk-container-id-7 div.sk-text-repr-fallback {display: none;}</style><div id=\"sk-container-id-7\" class=\"sk-top-container\"><div class=\"sk-text-repr-fallback\"><pre>LogisticRegressionCV(Cs=5, class_weight=&#x27;balanced&#x27;, cv=5, l1_ratios=[0.5],\n",
       "                     max_iter=100000, multi_class=&#x27;multinomial&#x27;, n_jobs=-1,\n",
       "                     penalty=&#x27;elasticnet&#x27;, solver=&#x27;saga&#x27;)</pre><b>In a Jupyter environment, please rerun this cell to show the HTML representation or trust the notebook. <br />On GitHub, the HTML representation is unable to render, please try loading this page with nbviewer.org.</b></div><div class=\"sk-container\" hidden><div class=\"sk-item\"><div class=\"sk-estimator sk-toggleable\"><input class=\"sk-toggleable__control sk-hidden--visually\" id=\"sk-estimator-id-7\" type=\"checkbox\" checked><label for=\"sk-estimator-id-7\" class=\"sk-toggleable__label sk-toggleable__label-arrow\">LogisticRegressionCV</label><div class=\"sk-toggleable__content\"><pre>LogisticRegressionCV(Cs=5, class_weight=&#x27;balanced&#x27;, cv=5, l1_ratios=[0.5],\n",
       "                     max_iter=100000, multi_class=&#x27;multinomial&#x27;, n_jobs=-1,\n",
       "                     penalty=&#x27;elasticnet&#x27;, solver=&#x27;saga&#x27;)</pre></div></div></div></div></div>"
      ],
      "text/plain": [
       "LogisticRegressionCV(Cs=5, class_weight='balanced', cv=5, l1_ratios=[0.5],\n",
       "                     max_iter=100000, multi_class='multinomial', n_jobs=-1,\n",
       "                     penalty='elasticnet', solver='saga')"
      ]
     },
     "execution_count": 70,
     "metadata": {},
     "output_type": "execute_result"
    }
   ],
   "source": [
    "### --- Performing the cross-validation across 10 log-distributed values of C in the [10^(-4), 10^4] interval\n",
    "# - and one fixed value for \\rho = 0.5; we perform 5-fold CV\n",
    "elNetCV = LogisticRegressionCV(penalty='elasticnet', \n",
    "                               Cs=5, \n",
    "                               l1_ratios=[.5], \n",
    "                               solver='saga', \n",
    "                               n_jobs=-1,\n",
    "                               class_weight='balanced',\n",
    "                               multi_class='multinomial', \n",
    "                               max_iter=10**5, \n",
    "                               cv=5)\n",
    "elNetCV.fit(X, y)"
   ]
  },
  {
   "cell_type": "code",
   "execution_count": 71,
   "id": "9cd5f047",
   "metadata": {},
   "outputs": [
    {
     "data": {
      "text/plain": [
       "array([1., 1., 1., 1., 1., 1.])"
      ]
     },
     "execution_count": 71,
     "metadata": {},
     "output_type": "execute_result"
    }
   ],
   "source": [
    "elNetCV.C_"
   ]
  },
  {
   "cell_type": "code",
   "execution_count": 72,
   "id": "ff89f8c1",
   "metadata": {
    "scrolled": true
   },
   "outputs": [
    {
     "data": {
      "text/plain": [
       "0.36460287679799874"
      ]
     },
     "execution_count": 72,
     "metadata": {},
     "output_type": "execute_result"
    }
   ],
   "source": [
    "elNetCV.score(X, y)"
   ]
  },
  {
   "attachments": {},
   "cell_type": "markdown",
   "id": "9179baa7",
   "metadata": {},
   "source": [
    "Now we perform $k$-fold CV for both hyperparameters $C$ and $\\rho$ in parallel. "
   ]
  },
  {
   "cell_type": "code",
   "execution_count": 73,
   "id": "11d621b5",
   "metadata": {},
   "outputs": [
    {
     "data": {
      "text/html": [
       "<style>#sk-container-id-8 {color: black;background-color: white;}#sk-container-id-8 pre{padding: 0;}#sk-container-id-8 div.sk-toggleable {background-color: white;}#sk-container-id-8 label.sk-toggleable__label {cursor: pointer;display: block;width: 100%;margin-bottom: 0;padding: 0.3em;box-sizing: border-box;text-align: center;}#sk-container-id-8 label.sk-toggleable__label-arrow:before {content: \"▸\";float: left;margin-right: 0.25em;color: #696969;}#sk-container-id-8 label.sk-toggleable__label-arrow:hover:before {color: black;}#sk-container-id-8 div.sk-estimator:hover label.sk-toggleable__label-arrow:before {color: black;}#sk-container-id-8 div.sk-toggleable__content {max-height: 0;max-width: 0;overflow: hidden;text-align: left;background-color: #f0f8ff;}#sk-container-id-8 div.sk-toggleable__content pre {margin: 0.2em;color: black;border-radius: 0.25em;background-color: #f0f8ff;}#sk-container-id-8 input.sk-toggleable__control:checked~div.sk-toggleable__content {max-height: 200px;max-width: 100%;overflow: auto;}#sk-container-id-8 input.sk-toggleable__control:checked~label.sk-toggleable__label-arrow:before {content: \"▾\";}#sk-container-id-8 div.sk-estimator input.sk-toggleable__control:checked~label.sk-toggleable__label {background-color: #d4ebff;}#sk-container-id-8 div.sk-label input.sk-toggleable__control:checked~label.sk-toggleable__label {background-color: #d4ebff;}#sk-container-id-8 input.sk-hidden--visually {border: 0;clip: rect(1px 1px 1px 1px);clip: rect(1px, 1px, 1px, 1px);height: 1px;margin: -1px;overflow: hidden;padding: 0;position: absolute;width: 1px;}#sk-container-id-8 div.sk-estimator {font-family: monospace;background-color: #f0f8ff;border: 1px dotted black;border-radius: 0.25em;box-sizing: border-box;margin-bottom: 0.5em;}#sk-container-id-8 div.sk-estimator:hover {background-color: #d4ebff;}#sk-container-id-8 div.sk-parallel-item::after {content: \"\";width: 100%;border-bottom: 1px solid gray;flex-grow: 1;}#sk-container-id-8 div.sk-label:hover label.sk-toggleable__label {background-color: #d4ebff;}#sk-container-id-8 div.sk-serial::before {content: \"\";position: absolute;border-left: 1px solid gray;box-sizing: border-box;top: 0;bottom: 0;left: 50%;z-index: 0;}#sk-container-id-8 div.sk-serial {display: flex;flex-direction: column;align-items: center;background-color: white;padding-right: 0.2em;padding-left: 0.2em;position: relative;}#sk-container-id-8 div.sk-item {position: relative;z-index: 1;}#sk-container-id-8 div.sk-parallel {display: flex;align-items: stretch;justify-content: center;background-color: white;position: relative;}#sk-container-id-8 div.sk-item::before, #sk-container-id-8 div.sk-parallel-item::before {content: \"\";position: absolute;border-left: 1px solid gray;box-sizing: border-box;top: 0;bottom: 0;left: 50%;z-index: -1;}#sk-container-id-8 div.sk-parallel-item {display: flex;flex-direction: column;z-index: 1;position: relative;background-color: white;}#sk-container-id-8 div.sk-parallel-item:first-child::after {align-self: flex-end;width: 50%;}#sk-container-id-8 div.sk-parallel-item:last-child::after {align-self: flex-start;width: 50%;}#sk-container-id-8 div.sk-parallel-item:only-child::after {width: 0;}#sk-container-id-8 div.sk-dashed-wrapped {border: 1px dashed gray;margin: 0 0.4em 0.5em 0.4em;box-sizing: border-box;padding-bottom: 0.4em;background-color: white;}#sk-container-id-8 div.sk-label label {font-family: monospace;font-weight: bold;display: inline-block;line-height: 1.2em;}#sk-container-id-8 div.sk-label-container {text-align: center;}#sk-container-id-8 div.sk-container {/* jupyter's `normalize.less` sets `[hidden] { display: none; }` but bootstrap.min.css set `[hidden] { display: none !important; }` so we also need the `!important` here to be able to override the default hidden behavior on the sphinx rendered scikit-learn.org. See: https://github.com/scikit-learn/scikit-learn/issues/21755 */display: inline-block !important;position: relative;}#sk-container-id-8 div.sk-text-repr-fallback {display: none;}</style><div id=\"sk-container-id-8\" class=\"sk-top-container\"><div class=\"sk-text-repr-fallback\"><pre>LogisticRegressionCV(Cs=30, class_weight=&#x27;balanced&#x27;, cv=5,\n",
       "                     l1_ratios=array([0.  , 0.01, 0.05, 0.1 , 0.15, 0.2 , 0.25, 0.3 , 0.35, 0.4 , 0.45,\n",
       "       0.5 , 0.55, 0.6 , 0.65, 0.7 , 0.75, 0.8 , 0.85, 0.9 , 0.95, 0.99,\n",
       "       1.  ]),\n",
       "                     max_iter=10000, multi_class=&#x27;multinomial&#x27;, n_jobs=-1,\n",
       "                     penalty=&#x27;elasticnet&#x27;, solver=&#x27;saga&#x27;)</pre><b>In a Jupyter environment, please rerun this cell to show the HTML representation or trust the notebook. <br />On GitHub, the HTML representation is unable to render, please try loading this page with nbviewer.org.</b></div><div class=\"sk-container\" hidden><div class=\"sk-item\"><div class=\"sk-estimator sk-toggleable\"><input class=\"sk-toggleable__control sk-hidden--visually\" id=\"sk-estimator-id-8\" type=\"checkbox\" checked><label for=\"sk-estimator-id-8\" class=\"sk-toggleable__label sk-toggleable__label-arrow\">LogisticRegressionCV</label><div class=\"sk-toggleable__content\"><pre>LogisticRegressionCV(Cs=30, class_weight=&#x27;balanced&#x27;, cv=5,\n",
       "                     l1_ratios=array([0.  , 0.01, 0.05, 0.1 , 0.15, 0.2 , 0.25, 0.3 , 0.35, 0.4 , 0.45,\n",
       "       0.5 , 0.55, 0.6 , 0.65, 0.7 , 0.75, 0.8 , 0.85, 0.9 , 0.95, 0.99,\n",
       "       1.  ]),\n",
       "                     max_iter=10000, multi_class=&#x27;multinomial&#x27;, n_jobs=-1,\n",
       "                     penalty=&#x27;elasticnet&#x27;, solver=&#x27;saga&#x27;)</pre></div></div></div></div></div>"
      ],
      "text/plain": [
       "LogisticRegressionCV(Cs=30, class_weight='balanced', cv=5,\n",
       "                     l1_ratios=array([0.  , 0.01, 0.05, 0.1 , 0.15, 0.2 , 0.25, 0.3 , 0.35, 0.4 , 0.45,\n",
       "       0.5 , 0.55, 0.6 , 0.65, 0.7 , 0.75, 0.8 , 0.85, 0.9 , 0.95, 0.99,\n",
       "       1.  ]),\n",
       "                     max_iter=10000, multi_class='multinomial', n_jobs=-1,\n",
       "                     penalty='elasticnet', solver='saga')"
      ]
     },
     "execution_count": 73,
     "metadata": {},
     "output_type": "execute_result"
    }
   ],
   "source": [
    "### --- Performing the cross-validation across 10 log-distributed values of C in the [10^(-4), 10^4] interval\n",
    "# - and \\rho selects value from the grid\n",
    "\n",
    "rhos = np.array([0., 0.01, 0.05, 0.1 , 0.15, 0.2 , 0.25, 0.3 , 0.35, 0.4, \n",
    "                 0.45, 0.5 , 0.55, 0.6 , 0.65, 0.7 , 0.75, 0.8 , 0.85, 0.9,\n",
    "                 0.95, 0.99, 1.])\n",
    "\n",
    "elNetCV = LogisticRegressionCV(penalty='elasticnet', \n",
    "                               Cs=30, \n",
    "                               l1_ratios=rhos, \n",
    "                               class_weight='balanced',\n",
    "                               n_jobs=-1,\n",
    "                               solver='saga', \n",
    "                               multi_class='multinomial',\n",
    "                               max_iter=10**4, \n",
    "                               cv=5)\n",
    "elNetCV.fit(X, y)"
   ]
  },
  {
   "cell_type": "code",
   "execution_count": 74,
   "id": "ef825c6b",
   "metadata": {},
   "outputs": [
    {
     "data": {
      "text/plain": [
       "array([0.00035622, 0.00035622, 0.00035622, 0.00035622, 0.00035622,\n",
       "       0.00035622])"
      ]
     },
     "execution_count": 74,
     "metadata": {},
     "output_type": "execute_result"
    }
   ],
   "source": [
    "elNetCV.C_"
   ]
  },
  {
   "cell_type": "code",
   "execution_count": 75,
   "id": "2d3f0966",
   "metadata": {},
   "outputs": [
    {
     "data": {
      "text/plain": [
       "array([0.99, 0.99, 0.99, 0.99, 0.99, 0.99])"
      ]
     },
     "execution_count": 75,
     "metadata": {},
     "output_type": "execute_result"
    }
   ],
   "source": [
    "elNetCV.l1_ratio_"
   ]
  },
  {
   "cell_type": "code",
   "execution_count": 76,
   "id": "113d3e69",
   "metadata": {},
   "outputs": [
    {
     "data": {
      "text/plain": [
       "0.2764227642276423"
      ]
     },
     "execution_count": 76,
     "metadata": {},
     "output_type": "execute_result"
    }
   ],
   "source": [
    "elNetCV.score(X, y)"
   ]
  },
  {
   "cell_type": "code",
   "execution_count": 77,
   "id": "b72498e0",
   "metadata": {},
   "outputs": [
    {
     "data": {
      "text/plain": [
       "0.23918309158277687"
      ]
     },
     "execution_count": 77,
     "metadata": {},
     "output_type": "execute_result"
    }
   ],
   "source": [
    "# - F1\n",
    "# - predict \n",
    "y_hat = elNetCV.predict(X)\n",
    "# - weighted F1 score\n",
    "f1 = f1_score(y, y_hat, average='weighted')\n",
    "f1"
   ]
  },
  {
   "attachments": {},
   "cell_type": "markdown",
   "id": "177d30f9",
   "metadata": {},
   "source": [
    "### Leave-Out-One Cross-Validation (LOOCV) for Multiple Linear Regression"
   ]
  },
  {
   "attachments": {},
   "cell_type": "markdown",
   "id": "2c50726e",
   "metadata": {},
   "source": [
    "LOOCV (Leave-One-Out Cross-Validation) is a cross-validation method for estimating the performance of a predictive model. The main idea behind LOOCV is to split the dataset into n subsets, where n is the number of observations in the dataset. For each iteration, one observation is left out to serve as the validation set, and the model is trained on the remaining n-1 observations. This process is repeated n times, with each observation being left out once, and the performance of the model is evaluated on each validation set.\n",
    "\n",
    "The steps of LOOCV can be summarized as follows:\n",
    "\n",
    "For each observation in the dataset:\n",
    "\n",
    "- Use that observation as the validation set\n",
    "- Train the model on the remaining n-1 observations\n",
    "- Evaluate the performance of the model on the validation set\n",
    "\n",
    "and then calculate the average performance of the model across all n iterations\n",
    "\n",
    "LOOCV has several advantages over other cross-validation methods. First, it maximizes the use of the available data for training the model, as all but one observation are used for each training iteration. Second, it provides an unbiased estimate of the model's performance on new, unseen data, as each observation serves as a validation set exactly once. Finally, LOOCV works well for small datasets, as it is not subject to the same sampling variability as other cross-validation methods.\n",
    "\n",
    "However, LOOCV can also be computationally expensive, especially for large datasets, as it requires fitting the model n times."
   ]
  },
  {
   "attachments": {},
   "cell_type": "markdown",
   "id": "d1942f2e",
   "metadata": {},
   "source": [
    "Scikit-Learn Documentation\n",
    "\n",
    "- [sklearn.preprocessing.OneHotEncoder](https://scikit-learn.org/stable/modules/generated/sklearn.preprocessing.OneHotEncoder.html)\n",
    "- [sklearn.model_selection.LeaveOneOut](https://scikit-learn.org/stable/modules/generated/sklearn.model_selection.LeaveOneOut.html)\n",
    "- [sklearn.model_selection.cross_val_score](https://scikit-learn.org/stable/modules/generated/sklearn.model_selection.cross_val_score.html)"
   ]
  },
  {
   "cell_type": "code",
   "execution_count": 78,
   "id": "790c0ab3",
   "metadata": {},
   "outputs": [
    {
     "name": "stdout",
     "output_type": "stream",
     "text": [
      "(1000, 21)\n"
     ]
    },
    {
     "data": {
      "text/html": [
       "<div>\n",
       "<style scoped>\n",
       "    .dataframe tbody tr th:only-of-type {\n",
       "        vertical-align: middle;\n",
       "    }\n",
       "\n",
       "    .dataframe tbody tr th {\n",
       "        vertical-align: top;\n",
       "    }\n",
       "\n",
       "    .dataframe thead th {\n",
       "        text-align: right;\n",
       "    }\n",
       "</style>\n",
       "<table border=\"1\" class=\"dataframe\">\n",
       "  <thead>\n",
       "    <tr style=\"text-align: right;\">\n",
       "      <th></th>\n",
       "      <th>id</th>\n",
       "      <th>date</th>\n",
       "      <th>price</th>\n",
       "      <th>bedrooms</th>\n",
       "      <th>bathrooms</th>\n",
       "      <th>sqft_living</th>\n",
       "      <th>sqft_lot</th>\n",
       "      <th>floors</th>\n",
       "      <th>waterfront</th>\n",
       "      <th>view</th>\n",
       "      <th>...</th>\n",
       "      <th>grade</th>\n",
       "      <th>sqft_above</th>\n",
       "      <th>sqft_basement</th>\n",
       "      <th>yr_built</th>\n",
       "      <th>yr_renovated</th>\n",
       "      <th>zipcode</th>\n",
       "      <th>lat</th>\n",
       "      <th>long</th>\n",
       "      <th>sqft_living15</th>\n",
       "      <th>sqft_lot15</th>\n",
       "    </tr>\n",
       "  </thead>\n",
       "  <tbody>\n",
       "    <tr>\n",
       "      <th>735</th>\n",
       "      <td>2591820310</td>\n",
       "      <td>20141006T000000</td>\n",
       "      <td>365000.0</td>\n",
       "      <td>4</td>\n",
       "      <td>2.25</td>\n",
       "      <td>2070</td>\n",
       "      <td>8893</td>\n",
       "      <td>2.0</td>\n",
       "      <td>0</td>\n",
       "      <td>0</td>\n",
       "      <td>...</td>\n",
       "      <td>8</td>\n",
       "      <td>2070</td>\n",
       "      <td>0</td>\n",
       "      <td>1986</td>\n",
       "      <td>0</td>\n",
       "      <td>98058</td>\n",
       "      <td>47.4388</td>\n",
       "      <td>-122.162</td>\n",
       "      <td>2390</td>\n",
       "      <td>7700</td>\n",
       "    </tr>\n",
       "    <tr>\n",
       "      <th>2830</th>\n",
       "      <td>7974200820</td>\n",
       "      <td>20140821T000000</td>\n",
       "      <td>865000.0</td>\n",
       "      <td>5</td>\n",
       "      <td>3.00</td>\n",
       "      <td>2900</td>\n",
       "      <td>6730</td>\n",
       "      <td>1.0</td>\n",
       "      <td>0</td>\n",
       "      <td>0</td>\n",
       "      <td>...</td>\n",
       "      <td>8</td>\n",
       "      <td>1830</td>\n",
       "      <td>1070</td>\n",
       "      <td>1977</td>\n",
       "      <td>0</td>\n",
       "      <td>98115</td>\n",
       "      <td>47.6784</td>\n",
       "      <td>-122.285</td>\n",
       "      <td>2370</td>\n",
       "      <td>6283</td>\n",
       "    </tr>\n",
       "    <tr>\n",
       "      <th>4106</th>\n",
       "      <td>7701450110</td>\n",
       "      <td>20140815T000000</td>\n",
       "      <td>1038000.0</td>\n",
       "      <td>4</td>\n",
       "      <td>2.50</td>\n",
       "      <td>3770</td>\n",
       "      <td>10893</td>\n",
       "      <td>2.0</td>\n",
       "      <td>0</td>\n",
       "      <td>2</td>\n",
       "      <td>...</td>\n",
       "      <td>11</td>\n",
       "      <td>3770</td>\n",
       "      <td>0</td>\n",
       "      <td>1997</td>\n",
       "      <td>0</td>\n",
       "      <td>98006</td>\n",
       "      <td>47.5646</td>\n",
       "      <td>-122.129</td>\n",
       "      <td>3710</td>\n",
       "      <td>9685</td>\n",
       "    </tr>\n",
       "    <tr>\n",
       "      <th>16218</th>\n",
       "      <td>9522300010</td>\n",
       "      <td>20150331T000000</td>\n",
       "      <td>1490000.0</td>\n",
       "      <td>3</td>\n",
       "      <td>3.50</td>\n",
       "      <td>4560</td>\n",
       "      <td>14608</td>\n",
       "      <td>2.0</td>\n",
       "      <td>0</td>\n",
       "      <td>2</td>\n",
       "      <td>...</td>\n",
       "      <td>12</td>\n",
       "      <td>4560</td>\n",
       "      <td>0</td>\n",
       "      <td>1990</td>\n",
       "      <td>0</td>\n",
       "      <td>98034</td>\n",
       "      <td>47.6995</td>\n",
       "      <td>-122.228</td>\n",
       "      <td>4050</td>\n",
       "      <td>14226</td>\n",
       "    </tr>\n",
       "    <tr>\n",
       "      <th>19964</th>\n",
       "      <td>9510861140</td>\n",
       "      <td>20140714T000000</td>\n",
       "      <td>711000.0</td>\n",
       "      <td>3</td>\n",
       "      <td>2.50</td>\n",
       "      <td>2550</td>\n",
       "      <td>5376</td>\n",
       "      <td>2.0</td>\n",
       "      <td>0</td>\n",
       "      <td>0</td>\n",
       "      <td>...</td>\n",
       "      <td>9</td>\n",
       "      <td>2550</td>\n",
       "      <td>0</td>\n",
       "      <td>2004</td>\n",
       "      <td>0</td>\n",
       "      <td>98052</td>\n",
       "      <td>47.6647</td>\n",
       "      <td>-122.083</td>\n",
       "      <td>2250</td>\n",
       "      <td>4050</td>\n",
       "    </tr>\n",
       "    <tr>\n",
       "      <th>1227</th>\n",
       "      <td>1761300310</td>\n",
       "      <td>20140827T000000</td>\n",
       "      <td>211000.0</td>\n",
       "      <td>4</td>\n",
       "      <td>2.00</td>\n",
       "      <td>1710</td>\n",
       "      <td>8288</td>\n",
       "      <td>1.5</td>\n",
       "      <td>0</td>\n",
       "      <td>0</td>\n",
       "      <td>...</td>\n",
       "      <td>7</td>\n",
       "      <td>1710</td>\n",
       "      <td>0</td>\n",
       "      <td>1970</td>\n",
       "      <td>0</td>\n",
       "      <td>98031</td>\n",
       "      <td>47.3947</td>\n",
       "      <td>-122.174</td>\n",
       "      <td>1710</td>\n",
       "      <td>7200</td>\n",
       "    </tr>\n",
       "    <tr>\n",
       "      <th>18849</th>\n",
       "      <td>7732410120</td>\n",
       "      <td>20140819T000000</td>\n",
       "      <td>790000.0</td>\n",
       "      <td>4</td>\n",
       "      <td>2.50</td>\n",
       "      <td>2690</td>\n",
       "      <td>8036</td>\n",
       "      <td>2.0</td>\n",
       "      <td>0</td>\n",
       "      <td>0</td>\n",
       "      <td>...</td>\n",
       "      <td>9</td>\n",
       "      <td>2690</td>\n",
       "      <td>0</td>\n",
       "      <td>1987</td>\n",
       "      <td>0</td>\n",
       "      <td>98007</td>\n",
       "      <td>47.6596</td>\n",
       "      <td>-122.144</td>\n",
       "      <td>2420</td>\n",
       "      <td>8087</td>\n",
       "    </tr>\n",
       "    <tr>\n",
       "      <th>19369</th>\n",
       "      <td>7010701383</td>\n",
       "      <td>20141017T000000</td>\n",
       "      <td>680000.0</td>\n",
       "      <td>3</td>\n",
       "      <td>2.50</td>\n",
       "      <td>1800</td>\n",
       "      <td>4400</td>\n",
       "      <td>1.0</td>\n",
       "      <td>0</td>\n",
       "      <td>0</td>\n",
       "      <td>...</td>\n",
       "      <td>7</td>\n",
       "      <td>1350</td>\n",
       "      <td>450</td>\n",
       "      <td>1970</td>\n",
       "      <td>0</td>\n",
       "      <td>98199</td>\n",
       "      <td>47.6599</td>\n",
       "      <td>-122.396</td>\n",
       "      <td>1920</td>\n",
       "      <td>4400</td>\n",
       "    </tr>\n",
       "    <tr>\n",
       "      <th>20164</th>\n",
       "      <td>291310170</td>\n",
       "      <td>20140804T000000</td>\n",
       "      <td>384500.0</td>\n",
       "      <td>3</td>\n",
       "      <td>2.50</td>\n",
       "      <td>1600</td>\n",
       "      <td>2610</td>\n",
       "      <td>2.0</td>\n",
       "      <td>0</td>\n",
       "      <td>0</td>\n",
       "      <td>...</td>\n",
       "      <td>8</td>\n",
       "      <td>1600</td>\n",
       "      <td>0</td>\n",
       "      <td>2005</td>\n",
       "      <td>0</td>\n",
       "      <td>98027</td>\n",
       "      <td>47.5344</td>\n",
       "      <td>-122.068</td>\n",
       "      <td>1445</td>\n",
       "      <td>1288</td>\n",
       "    </tr>\n",
       "    <tr>\n",
       "      <th>7139</th>\n",
       "      <td>4232901990</td>\n",
       "      <td>20140516T000000</td>\n",
       "      <td>605000.0</td>\n",
       "      <td>2</td>\n",
       "      <td>1.00</td>\n",
       "      <td>910</td>\n",
       "      <td>3600</td>\n",
       "      <td>1.0</td>\n",
       "      <td>0</td>\n",
       "      <td>0</td>\n",
       "      <td>...</td>\n",
       "      <td>7</td>\n",
       "      <td>910</td>\n",
       "      <td>0</td>\n",
       "      <td>1909</td>\n",
       "      <td>0</td>\n",
       "      <td>98119</td>\n",
       "      <td>47.6341</td>\n",
       "      <td>-122.361</td>\n",
       "      <td>1720</td>\n",
       "      <td>3600</td>\n",
       "    </tr>\n",
       "  </tbody>\n",
       "</table>\n",
       "<p>10 rows × 21 columns</p>\n",
       "</div>"
      ],
      "text/plain": [
       "               id             date      price  bedrooms  bathrooms  \\\n",
       "735    2591820310  20141006T000000   365000.0         4       2.25   \n",
       "2830   7974200820  20140821T000000   865000.0         5       3.00   \n",
       "4106   7701450110  20140815T000000  1038000.0         4       2.50   \n",
       "16218  9522300010  20150331T000000  1490000.0         3       3.50   \n",
       "19964  9510861140  20140714T000000   711000.0         3       2.50   \n",
       "1227   1761300310  20140827T000000   211000.0         4       2.00   \n",
       "18849  7732410120  20140819T000000   790000.0         4       2.50   \n",
       "19369  7010701383  20141017T000000   680000.0         3       2.50   \n",
       "20164   291310170  20140804T000000   384500.0         3       2.50   \n",
       "7139   4232901990  20140516T000000   605000.0         2       1.00   \n",
       "\n",
       "       sqft_living  sqft_lot  floors  waterfront  view  ...  grade  \\\n",
       "735           2070      8893     2.0           0     0  ...      8   \n",
       "2830          2900      6730     1.0           0     0  ...      8   \n",
       "4106          3770     10893     2.0           0     2  ...     11   \n",
       "16218         4560     14608     2.0           0     2  ...     12   \n",
       "19964         2550      5376     2.0           0     0  ...      9   \n",
       "1227          1710      8288     1.5           0     0  ...      7   \n",
       "18849         2690      8036     2.0           0     0  ...      9   \n",
       "19369         1800      4400     1.0           0     0  ...      7   \n",
       "20164         1600      2610     2.0           0     0  ...      8   \n",
       "7139           910      3600     1.0           0     0  ...      7   \n",
       "\n",
       "       sqft_above  sqft_basement  yr_built  yr_renovated  zipcode      lat  \\\n",
       "735          2070              0      1986             0    98058  47.4388   \n",
       "2830         1830           1070      1977             0    98115  47.6784   \n",
       "4106         3770              0      1997             0    98006  47.5646   \n",
       "16218        4560              0      1990             0    98034  47.6995   \n",
       "19964        2550              0      2004             0    98052  47.6647   \n",
       "1227         1710              0      1970             0    98031  47.3947   \n",
       "18849        2690              0      1987             0    98007  47.6596   \n",
       "19369        1350            450      1970             0    98199  47.6599   \n",
       "20164        1600              0      2005             0    98027  47.5344   \n",
       "7139          910              0      1909             0    98119  47.6341   \n",
       "\n",
       "          long  sqft_living15  sqft_lot15  \n",
       "735   -122.162           2390        7700  \n",
       "2830  -122.285           2370        6283  \n",
       "4106  -122.129           3710        9685  \n",
       "16218 -122.228           4050       14226  \n",
       "19964 -122.083           2250        4050  \n",
       "1227  -122.174           1710        7200  \n",
       "18849 -122.144           2420        8087  \n",
       "19369 -122.396           1920        4400  \n",
       "20164 -122.068           1445        1288  \n",
       "7139  -122.361           1720        3600  \n",
       "\n",
       "[10 rows x 21 columns]"
      ]
     },
     "execution_count": 78,
     "metadata": {},
     "output_type": "execute_result"
    }
   ],
   "source": [
    "data_set = pd.read_csv(os.path.join(data_dir, 'kc_house_data.csv'))\n",
    "data_set = data_set.sample(n=1000, random_state=42)\n",
    "print(data_set.shape)\n",
    "data_set.head(10)"
   ]
  },
  {
   "cell_type": "code",
   "execution_count": 79,
   "id": "8643605e",
   "metadata": {},
   "outputs": [
    {
     "name": "stdout",
     "output_type": "stream",
     "text": [
      "<class 'pandas.core.frame.DataFrame'>\n",
      "Int64Index: 1000 entries, 735 to 2265\n",
      "Data columns (total 21 columns):\n",
      " #   Column         Non-Null Count  Dtype  \n",
      "---  ------         --------------  -----  \n",
      " 0   id             1000 non-null   int64  \n",
      " 1   date           1000 non-null   object \n",
      " 2   price          1000 non-null   float64\n",
      " 3   bedrooms       1000 non-null   int64  \n",
      " 4   bathrooms      1000 non-null   float64\n",
      " 5   sqft_living    1000 non-null   int64  \n",
      " 6   sqft_lot       1000 non-null   int64  \n",
      " 7   floors         1000 non-null   float64\n",
      " 8   waterfront     1000 non-null   int64  \n",
      " 9   view           1000 non-null   int64  \n",
      " 10  condition      1000 non-null   int64  \n",
      " 11  grade          1000 non-null   int64  \n",
      " 12  sqft_above     1000 non-null   int64  \n",
      " 13  sqft_basement  1000 non-null   int64  \n",
      " 14  yr_built       1000 non-null   int64  \n",
      " 15  yr_renovated   1000 non-null   int64  \n",
      " 16  zipcode        1000 non-null   int64  \n",
      " 17  lat            1000 non-null   float64\n",
      " 18  long           1000 non-null   float64\n",
      " 19  sqft_living15  1000 non-null   int64  \n",
      " 20  sqft_lot15     1000 non-null   int64  \n",
      "dtypes: float64(5), int64(15), object(1)\n",
      "memory usage: 171.9+ KB\n"
     ]
    }
   ],
   "source": [
    "data_set.info()"
   ]
  },
  {
   "cell_type": "code",
   "execution_count": 80,
   "id": "e0947ce7",
   "metadata": {},
   "outputs": [
    {
     "data": {
      "text/html": [
       "<div>\n",
       "<style scoped>\n",
       "    .dataframe tbody tr th:only-of-type {\n",
       "        vertical-align: middle;\n",
       "    }\n",
       "\n",
       "    .dataframe tbody tr th {\n",
       "        vertical-align: top;\n",
       "    }\n",
       "\n",
       "    .dataframe thead th {\n",
       "        text-align: right;\n",
       "    }\n",
       "</style>\n",
       "<table border=\"1\" class=\"dataframe\">\n",
       "  <thead>\n",
       "    <tr style=\"text-align: right;\">\n",
       "      <th></th>\n",
       "      <th>price</th>\n",
       "      <th>bedrooms</th>\n",
       "      <th>bathrooms</th>\n",
       "      <th>sqft_living</th>\n",
       "      <th>sqft_lot</th>\n",
       "      <th>floors</th>\n",
       "      <th>waterfront</th>\n",
       "      <th>view</th>\n",
       "      <th>condition</th>\n",
       "      <th>grade</th>\n",
       "      <th>sqft_above</th>\n",
       "      <th>sqft_basement</th>\n",
       "      <th>yr_built</th>\n",
       "      <th>zipcode</th>\n",
       "      <th>sqft_living15</th>\n",
       "      <th>sqft_lot15</th>\n",
       "    </tr>\n",
       "  </thead>\n",
       "  <tbody>\n",
       "    <tr>\n",
       "      <th>735</th>\n",
       "      <td>365000.0</td>\n",
       "      <td>4</td>\n",
       "      <td>2.25</td>\n",
       "      <td>2070</td>\n",
       "      <td>8893</td>\n",
       "      <td>2.0</td>\n",
       "      <td>0</td>\n",
       "      <td>0</td>\n",
       "      <td>4</td>\n",
       "      <td>8</td>\n",
       "      <td>2070</td>\n",
       "      <td>0</td>\n",
       "      <td>1986</td>\n",
       "      <td>98058</td>\n",
       "      <td>2390</td>\n",
       "      <td>7700</td>\n",
       "    </tr>\n",
       "    <tr>\n",
       "      <th>2830</th>\n",
       "      <td>865000.0</td>\n",
       "      <td>5</td>\n",
       "      <td>3.00</td>\n",
       "      <td>2900</td>\n",
       "      <td>6730</td>\n",
       "      <td>1.0</td>\n",
       "      <td>0</td>\n",
       "      <td>0</td>\n",
       "      <td>5</td>\n",
       "      <td>8</td>\n",
       "      <td>1830</td>\n",
       "      <td>1070</td>\n",
       "      <td>1977</td>\n",
       "      <td>98115</td>\n",
       "      <td>2370</td>\n",
       "      <td>6283</td>\n",
       "    </tr>\n",
       "    <tr>\n",
       "      <th>4106</th>\n",
       "      <td>1038000.0</td>\n",
       "      <td>4</td>\n",
       "      <td>2.50</td>\n",
       "      <td>3770</td>\n",
       "      <td>10893</td>\n",
       "      <td>2.0</td>\n",
       "      <td>0</td>\n",
       "      <td>2</td>\n",
       "      <td>3</td>\n",
       "      <td>11</td>\n",
       "      <td>3770</td>\n",
       "      <td>0</td>\n",
       "      <td>1997</td>\n",
       "      <td>98006</td>\n",
       "      <td>3710</td>\n",
       "      <td>9685</td>\n",
       "    </tr>\n",
       "    <tr>\n",
       "      <th>16218</th>\n",
       "      <td>1490000.0</td>\n",
       "      <td>3</td>\n",
       "      <td>3.50</td>\n",
       "      <td>4560</td>\n",
       "      <td>14608</td>\n",
       "      <td>2.0</td>\n",
       "      <td>0</td>\n",
       "      <td>2</td>\n",
       "      <td>3</td>\n",
       "      <td>12</td>\n",
       "      <td>4560</td>\n",
       "      <td>0</td>\n",
       "      <td>1990</td>\n",
       "      <td>98034</td>\n",
       "      <td>4050</td>\n",
       "      <td>14226</td>\n",
       "    </tr>\n",
       "    <tr>\n",
       "      <th>19964</th>\n",
       "      <td>711000.0</td>\n",
       "      <td>3</td>\n",
       "      <td>2.50</td>\n",
       "      <td>2550</td>\n",
       "      <td>5376</td>\n",
       "      <td>2.0</td>\n",
       "      <td>0</td>\n",
       "      <td>0</td>\n",
       "      <td>3</td>\n",
       "      <td>9</td>\n",
       "      <td>2550</td>\n",
       "      <td>0</td>\n",
       "      <td>2004</td>\n",
       "      <td>98052</td>\n",
       "      <td>2250</td>\n",
       "      <td>4050</td>\n",
       "    </tr>\n",
       "  </tbody>\n",
       "</table>\n",
       "</div>"
      ],
      "text/plain": [
       "           price  bedrooms  bathrooms  sqft_living  sqft_lot  floors  \\\n",
       "735     365000.0         4       2.25         2070      8893     2.0   \n",
       "2830    865000.0         5       3.00         2900      6730     1.0   \n",
       "4106   1038000.0         4       2.50         3770     10893     2.0   \n",
       "16218  1490000.0         3       3.50         4560     14608     2.0   \n",
       "19964   711000.0         3       2.50         2550      5376     2.0   \n",
       "\n",
       "       waterfront  view  condition  grade  sqft_above  sqft_basement  \\\n",
       "735             0     0          4      8        2070              0   \n",
       "2830            0     0          5      8        1830           1070   \n",
       "4106            0     2          3     11        3770              0   \n",
       "16218           0     2          3     12        4560              0   \n",
       "19964           0     0          3      9        2550              0   \n",
       "\n",
       "       yr_built  zipcode  sqft_living15  sqft_lot15  \n",
       "735        1986    98058           2390        7700  \n",
       "2830       1977    98115           2370        6283  \n",
       "4106       1997    98006           3710        9685  \n",
       "16218      1990    98034           4050       14226  \n",
       "19964      2004    98052           2250        4050  "
      ]
     },
     "execution_count": 80,
     "metadata": {},
     "output_type": "execute_result"
    }
   ],
   "source": [
    "# - we remove some redundant or problematic predictors\n",
    "model_frame = data_set.drop(columns = ['id', 'lat', 'long', 'date', 'yr_renovated'])\n",
    "model_frame.head()"
   ]
  },
  {
   "cell_type": "code",
   "execution_count": 81,
   "id": "8d97ccc7",
   "metadata": {},
   "outputs": [],
   "source": [
    "# - we separate categorical from the numerical and binary predictors\n",
    "categorical_df = model_frame[['zipcode', 'view']]\n",
    "numerical_df = model_frame.drop(columns = ['zipcode', 'view'])"
   ]
  },
  {
   "cell_type": "code",
   "execution_count": 82,
   "id": "77455f18",
   "metadata": {},
   "outputs": [
    {
     "data": {
      "text/plain": [
       "70"
      ]
     },
     "execution_count": 82,
     "metadata": {},
     "output_type": "execute_result"
    }
   ],
   "source": [
    "# - number of zipcode categories\n",
    "len(categorical_df['zipcode'].unique())"
   ]
  },
  {
   "cell_type": "code",
   "execution_count": 83,
   "id": "b1a8e7c6",
   "metadata": {},
   "outputs": [
    {
     "data": {
      "text/plain": [
       "array([0, 2, 3, 4, 1])"
      ]
     },
     "execution_count": 83,
     "metadata": {},
     "output_type": "execute_result"
    }
   ],
   "source": [
    "# - view categories\n",
    "categorical_df['view'].unique()"
   ]
  },
  {
   "cell_type": "code",
   "execution_count": 84,
   "id": "fb07b74f",
   "metadata": {},
   "outputs": [
    {
     "data": {
      "text/plain": [
       "(1000, 73)"
      ]
     },
     "execution_count": 84,
     "metadata": {},
     "output_type": "execute_result"
    }
   ],
   "source": [
    "### --- Encoding the categorical variables\n",
    "from sklearn.preprocessing import OneHotEncoder\n",
    "\n",
    "# - for each categorical variables we employ Dummy Encoding\n",
    "# - we take the value appearing the first as the reference category\n",
    "\n",
    "# - encoding the 'view' variable\n",
    "enc_view = OneHotEncoder(drop='first', sparse=False)\n",
    "dummy_view = enc_view.fit_transform(categorical_df['view'].values.reshape(-1, 1))\n",
    "\n",
    "# - encoding the 'zipcode' variable\n",
    "enc_zipcode = OneHotEncoder(drop='first', sparse=False)\n",
    "dummy_zipcode = enc_zipcode.fit_transform(categorical_df['zipcode'].values.reshape(-1, 1))\n",
    "\n",
    "# - concatenating encoded variables into a single binary matrix\n",
    "# - it has 73 columns: 69 (i.e. 70-1) for the 'zipcode', and 4 (5-1) for the 'view'\n",
    "X0 = np.concatenate((dummy_view, dummy_zipcode), axis=-1)\n",
    "X0.shape"
   ]
  },
  {
   "cell_type": "code",
   "execution_count": 85,
   "id": "42908bed",
   "metadata": {},
   "outputs": [
    {
     "name": "stdout",
     "output_type": "stream",
     "text": [
      "(1000, 86)\n"
     ]
    }
   ],
   "source": [
    "### --- Constructing the feature matrix and the target vector\n",
    "\n",
    "# - dropping the dependent (numerical) 'price' variable\n",
    "X1 = numerical_df.drop(columns='price').values\n",
    "\n",
    "# - conncatenating the encoded variables matrix with the matrix of numerical variables values\n",
    "X = np.concatenate((X0, X1), axis=-1)\n",
    "print(X.shape)\n",
    "\n",
    "# - standardize X\n",
    "# - define standard scaler\n",
    "scaler = StandardScaler()\n",
    "# - transform data\n",
    "scaled = scaler.fit_transform(X)\n",
    "\n",
    "# - target vector values\n",
    "y = numerical_df['price'].values"
   ]
  },
  {
   "attachments": {},
   "cell_type": "markdown",
   "id": "2b7db6ac",
   "metadata": {},
   "source": [
    "Use [Mean Absolute Error (MAE)](https://en.wikipedia.org/wiki/Mean_absolute_error) to score the LOOCV model.\n",
    "\n",
    "The Mean Absolute Error (MAE) can be defined mathematically using the following equation:\n",
    "\n",
    "$$\n",
    "MAE = \\frac{1}{n} \\sum_{i=1}^n |y_i - \\hat{y}_i|\n",
    "$$\n",
    "\n",
    "where $n$ is the number of samples, $y_i$ is the true value of the $i$-th sample, and $\\hat{y}_i$ is the predicted value of the $i$-th sample. The absolute difference between the true and predicted values, $|y_i - \\hat{y}_i|$, is taken for each sample, and the average of these absolute differences is calculated to obtain the MAE. \n",
    "\n",
    "The MAE measures the average magnitude of the errors between the predicted and true values, and is commonly used as a metric for evaluating the performance of regression models. The MAE is expressed in the same units as the original data, which makes it easy to interpret and compare across different models or datasets."
   ]
  },
  {
   "cell_type": "code",
   "execution_count": 86,
   "id": "759628ac",
   "metadata": {},
   "outputs": [
    {
     "name": "stdout",
     "output_type": "stream",
     "text": [
      "Mean MAE: 151300.27\n"
     ]
    }
   ],
   "source": [
    "from sklearn.model_selection import LeaveOneOut, cross_val_score\n",
    "from sklearn.linear_model import LinearRegression\n",
    "\n",
    "# Create a linear regression object\n",
    "lr = LinearRegression()\n",
    "\n",
    "# Create a LOOCV object\n",
    "loo = LeaveOneOut()\n",
    "\n",
    "# Fit and score the model using LOOCV\n",
    "scores = cross_val_score(lr, \n",
    "                         X, y, \n",
    "                         cv=loo, \n",
    "                         scoring=\"neg_mean_absolute_error\")\n",
    "\n",
    "# Calculate the Mean MAE across all validation sets\n",
    "mean_score = -scores.mean()\n",
    "print(\"Mean MAE: {:.2f}\".format(mean_score))"
   ]
  },
  {
   "attachments": {},
   "cell_type": "markdown",
   "id": "e259036f",
   "metadata": {},
   "source": [
    "### Further Reading"
   ]
  },
  {
   "attachments": {},
   "cell_type": "markdown",
   "id": "0b27e0c3",
   "metadata": {},
   "source": [
    "- [Multinomial logistic regression, From Wikipedia The Free Encyclopedia](https://en.wikipedia.org/wiki/Multinomial_logistic_regression)\n",
    "- [A Gentle Introduction to k-fold Cross-Validation, by Jason Brownlee](https://machinelearningmastery.com/k-fold-cross-validation/)\n",
    "- [LOOCV for Evaluating Machine Learning Algorithms, by Jason Brownlee ](https://machinelearningmastery.com/loocv-for-evaluating-machine-learning-algorithms/)\n",
    "- [Mean absolute error, From Wikipedia The Free Encyclopedia](https://en.wikipedia.org/wiki/Mean_absolute_error)"
   ]
  },
  {
   "attachments": {},
   "cell_type": "markdown",
   "id": "86f63398",
   "metadata": {},
   "source": [
    "***"
   ]
  },
  {
   "attachments": {},
   "cell_type": "markdown",
   "id": "0794ec11",
   "metadata": {},
   "source": [
    "DataKolektiv, 2022/23.\n",
    "\n",
    "[hello@datakolektiv.com](mailto:goran.milovanovic@datakolektiv.com)\n",
    "\n",
    "![](../img/DK_Logo_100.png)"
   ]
  },
  {
   "attachments": {},
   "cell_type": "markdown",
   "id": "e85cbf9a",
   "metadata": {},
   "source": [
    "<font size=1>License: [GPLv3](https://www.gnu.org/licenses/gpl-3.0.txt) This Notebook is free software: you can redistribute it and/or modify it under the terms of the GNU General Public License as published by the Free Software Foundation, either version 3 of the License, or (at your option) any later version. This Notebook is distributed in the hope that it will be useful, but WITHOUT ANY WARRANTY; without even the implied warranty of MERCHANTABILITY or FITNESS FOR A PARTICULAR PURPOSE. See the GNU General Public License for more details. You should have received a copy of the GNU General Public License along with this Notebook. If not, see http://www.gnu.org/licenses/.</font>"
   ]
  }
 ],
 "metadata": {
  "kernelspec": {
   "display_name": "Python 3",
   "language": "python",
   "name": "python3"
  },
  "language_info": {
   "codemirror_mode": {
    "name": "ipython",
    "version": 3
   },
   "file_extension": ".py",
   "mimetype": "text/x-python",
   "name": "python",
   "nbconvert_exporter": "python",
   "pygments_lexer": "ipython3",
   "version": "3.8.10"
  }
 },
 "nbformat": 4,
 "nbformat_minor": 5
}
