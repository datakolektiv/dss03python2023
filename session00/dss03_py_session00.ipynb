{
 "cells": [
  {
   "attachments": {},
   "cell_type": "markdown",
   "metadata": {},
   "source": [
    "# DATA SCIENCE SESSIONS VOL. 3\n",
    "### A Foundational Python Data Science Course\n",
    "## Session 00: Introduction and Prerequisites\n",
    "\n",
    "[&larr; Back to course webpage](https://datakolektiv.com/)\n",
    "\n",
    "Feedback should be send to [goran.milovanovic@datakolektiv.com](mailto:goran.milovanovic@datakolektiv.com). \n",
    "\n",
    "These notebooks accompany the DATA SCIENCE SESSIONS VOL. 3 :: A Foundational Python Data Science Course."
   ]
  },
  {
   "cell_type": "markdown",
   "metadata": {},
   "source": [
    "![](../img/IntroRDataScience_NonTech-1.jpg)"
   ]
  },
  {
   "attachments": {},
   "cell_type": "markdown",
   "metadata": {},
   "source": [
    "### Lecturers\n",
    "\n",
    "[Goran S. Milovanović, PhD, DataKolektiv, Chief Scientist & Owner](https://www.linkedin.com/in/gmilovanovic/)\n",
    "\n",
    "[Aleksandar Cvetković, PhD, DataKolektiv, Consultant](https://www.linkedin.com/in/alegzndr/)\n",
    "\n",
    "[Ilija Lazarević, MA, DataKolektiv, Consultant](https://www.linkedin.com/in/ilijalazarevic/)"
   ]
  },
  {
   "cell_type": "markdown",
   "metadata": {},
   "source": [
    "![](../img/DK_Logo_100.png)"
   ]
  },
  {
   "cell_type": "markdown",
   "metadata": {},
   "source": [
    "***"
   ]
  },
  {
   "attachments": {},
   "cell_type": "markdown",
   "metadata": {},
   "source": [
    "### 0. What do we want to do today?\n",
    "\n",
    "Our goal in Session 00 is to prepare ourselves technically for what follows.\n",
    "\n",
    "#### Prerequisites\n",
    "\n",
    "Make one directory on your computer that you will use for this course: **dssvol03python**\n",
    "\n",
    "In the **dssvol03python** directory create the following sub-directories\n",
    "- `_data`\n",
    "- `_analytics`\n",
    "- `_img`\n",
    "- `_reports`\n",
    "\n",
    "Below you will find sections on how to perform all necessary installations for Windows (0.1), macOS (0.2), and Ubuntu/Debian (0.3). Section 0.4 provides an overview of the installed packages. Section 1 has some test code: run it. Finally, **do not forget** to take a look at the **A highly recommended To Do** section. "
   ]
  },
  {
   "attachments": {},
   "cell_type": "markdown",
   "metadata": {},
   "source": [
    "#### 0.1 Installations for Windows\n",
    "\n",
    "- **Install Python 3.8 for Windows:**\n",
    "   - Go to https://www.python.org/downloads/release/python-3810/, scroll down and download the recommended Python 3.8.10 installer for Windows (N.B. pick a [32-bit](https://www.python.org/ftp/python/3.8.10/python-3.8.10.exe) or a 64-bit architecture accordingly; we will assume a [64-bit version](https://www.python.org/ftp/python/3.8.10/python-3.8.10-amd64.exe) in the next steps)\n",
    "   - When the download is complete, run **python-3.8.10-amd64.exe**, then **check Add Python 3.8 to PATH** and **click Install now**\n",
    "   - Test installation\n",
    "      - find **IDLE (Python 3.8 64-bit)** program and run it\n",
    "      - type `print(\"Hello world\")` in the IDLE console and press ENTER\n",
    "      - type `exit()` to close the IDLE Python console\n",
    "      - find Terminal and open it\n",
    "      - type `python` and press ENTER\n",
    "      - type `print(\"Hello world\")` and press ENTER\n",
    "      - type `exit()` to leave Python\n",
    "      - type `exit` and press ENTER to close Windows Terminal\n",
    "- **Install Visual Studio Code (VS Code) for Windows**\n",
    "   - Go to [https://code.visualstudio.com/download](https://code.visualstudio.com/download) and download the VS Code installer for Windows\n",
    "   - Run the downloaded **VSCodeUserSetup-x64-1.75.1.exe** file\n",
    "- **Install the Jupyter Extension for Visual Studio Code and fine-tune**\n",
    "   - Open VS Code \n",
    "   - You will find five icons in a vertical arrangement near the left edge of the VS Code window; click the fifth icon \"Extensions\"\n",
    "   - In the search bar, type: jupyter notebook\n",
    "   - Install the following extensions:\n",
    "      - Jupyter\n",
    "      - Jupyter Notebook Renderers\n",
    "   - in VS Code: **File -> New File** -> then in the search bar: **Jupyter Notebook**\n",
    "   - select \"Jupyter Notebook .ipynb Support -> a new untitled document opens\n",
    "   - VS Code will pop a question in the lower right corner of its window: Do you want to install the recommended extensions for Python? - **click Install**\n",
    "   - Close VS Code\n",
    "- **Create a Python Virtual Environment to use with this course**\n",
    "   - We will do this following the instructions in [this Medium post](https://medium.com/co-learning-lounge/create-virtual-environment-python-windows-2021-d947c3a3ca78) (please read everything carefully)\n",
    "   - Open Windows Terminal (**but open Powershell** if you are running Windows 10)\n",
    "   - type `Get-ExecutionPolicy` and press ENTER\n",
    "      - if the answer is **Restricted**, then: \n",
    "         - close Windows Terminal\n",
    "         - find **Powershell** and right-click: **Run as administrator**\n",
    "         - type `set-executionpolicy remotesigned` and press ENTER\n",
    "         - Type `A` [Yes to all] and press ENTER\n",
    "         - close Powershell and start Windows Terminal again;\n",
    "      - if the answer was **not Restricted** in the first place, just proceed with the instructions\n",
    "   - Navigate to your **dssvol03python** course directory:\n",
    "      - the `ls` command lists all files in directories in the directory were you are currently working from\n",
    "      - the `cd` command changes the directory, e.g. `cd ___DataKolektiv\\`\n",
    "      - use `ls` and `cd` to find and enter your **dssvol03python** directory\n",
    "      - to confirm, when you do `ls` in your **dssvol03python** directory, it should list the already existing `_data`, `_analytics`, `_reports`, and `_img` directories\n",
    "      - type `python -m venv dsspython` and press ENTER\n",
    "      - type `.\\dsspython\\Scripts\\activate` and press ENTER\n",
    "      - you now have activated a virtual environment called `dsspython` which is currently empty (e.g. no site-packages are still installed; there is a new directory in your course directory now, called `dsspython`); you can deactivate it by typing `deactivate`, but do not do that now, because we need to complete:\n",
    "   - **The installation of packages used in this course**\n",
    "      - In your active `dsspython` course virtual environment\n",
    "      - We will install the following packages (for starters): `Numpy`, `Scipy`, `Pandas`, `scikit-learn`, `Statsmodels`, `Plotly`, `Matplotlib`, `Seaborn`, `Requests`:\n",
    "         - type `pip install numpy` and press ENTER\n",
    "         - type `pip install scipy` and press ENTER\n",
    "         - type `pip install pandas` and press ENTER\n",
    "         - type `pip install matplotlib` and press ENTER\n",
    "         - type `pip install seaborn` and press ENTER\n",
    "         - type `pip install plotly==5.13.0` and press ENTER\n",
    "         - type `pip install -U scikit-learn` and press ENTER\n",
    "         - type `pip install statsmodels` and press ENTER\n",
    "         - type `pip install requests` and press ENTER\n",
    "         - type `pip freeze` and press ENTER (for an overview of all installed packages in the virtual environment and their corresponding version numbers).\n",
    "      - close your Windows Terminal by typing: `exit` (and press ENTER)\n",
    "- **And now for something completely different: install Git for Windows**\n",
    "   - download the latest version of Git for Windows from [https://git-scm.com/downloads](https://git-scm.com/downloads)\n",
    "   - run the downloaded **Git-2.39.2-64-bit.exe** file and just follow all the recommended settings during the installation\n",
    "   - open Windows Terminal\n",
    "   - navigate to your course directory: **dssvol03python** \n",
    "   - type `git clone https://github.com/datakolektiv/dss03python2023.git`\n",
    "   - now type `ls` and press enter\n",
    "   - a new directory called `dss03python2023` will be found: all course code, notebooks, data, and other resources will be kept there. Every time we add something new to the course, we will instruct you how to pull the changes from the course GitHub repository into your `dss03python2023` directory and the all new material will be available to you.\n",
    "- **TEST installations**\n",
    "   - open VS Code\n",
    "   - **File → open folder → find your dssvol03python course directory and open it**\n",
    "   - Select **Yes I trust the authors of the repository**\n",
    "   - On the left-hand navigation in VS Code open the **dssvol03python** directory and click the **session00** directory\n",
    "   - open **dss03_py_session00.ipynb**\n",
    "   - in the upper right corner there is the **select kernel option**\n",
    "   - Click it and select the **dsspython (Python 3.8.10)** virtual environment that we have created\n",
    "   - Click **Clear all outputs**\n",
    "   - Click **Run All**\n",
    "      - **NOTE**: A message \"Running cells with `dsspython` requires the ipykernel package\" might pop-up: just **click Install**\n",
    "   - ... and if everything works, i.e. the whole notebook is run and the results of the code generated - **you are all set!**\n",
    "\n",
    "You can compare the results obtained with the `dss_03py_session00.html` file in the repository - it is just an HTML render of the test notebook that you have just run."
   ]
  },
  {
   "attachments": {},
   "cell_type": "markdown",
   "metadata": {},
   "source": [
    "#### 0.2 Installations for macOS\n",
    "\n",
    "- **Follow [Install Python on macOS](https://www.codingforentrepreneurs.com/guides/install-python-on-macos/) to install Python**\n",
    "   - Follow **sections 1 - 2** to install Python\n",
    "   - **NOTE**: you will find the Python 3.8.10 installer here: [https://www.python.org/downloads/release/python-3810/](https://www.python.org/downloads/release/python-3810/) - **please check if you are running Apple Silicon or Intel and download the respective installer**\n",
    "   - Test installation\n",
    "      - find Terminal and open it\n",
    "      - type `python3` and press ENTER\n",
    "      - type `print(\"Hello world\")` and press ENTER\n",
    "      - type `exit()` to leave Python\n",
    "      - type `exit` and press ENTER to close Terminal and than **CMD+Q** to close its window\n",
    "- **Install Visual Studio Code (VS Code) for macOS**\n",
    "   - just follow the instructions: [https://code.visualstudio.com/docs/setup/mac](https://code.visualstudio.com/docs/setup/mac)\n",
    "- **Install the Jupyter Extension for Visual Studio Code and fine-tune**\n",
    "   - Open VS Code \n",
    "   - You will find five icons in a vertical arrangement near the left edge of the VS Code window; click the fifth icon \"Extensions\"\n",
    "   - In the search bar, type: jupyter notebook\n",
    "   - Install the following extensions:\n",
    "      - Jupyter\n",
    "      - Jupyter Notebook Renderers\n",
    "   - in VS Code: **File -> New File** -> then in the search bar: **Jupyter Notebook**\n",
    "   - select \"Jupyter Notebook .ipynb Support -> a new untitled document opens\n",
    "   - VS Code will pop a question in the lower right corner of its window: Do you want to install the recommended extensions for Python? - **click Install**\n",
    "   - Close VS Code\n",
    "- **Create a Python Virtual Environment to use with this course**\n",
    "   - Open Terminal\n",
    "   - Navigate to your **dssvol03python** course directory:\n",
    "      - the `ls` command lists all files in directories in the directory were you are currently working from\n",
    "      - the `cd` command changes the directory, e.g. `cd ___DataKolektiv\\`\n",
    "      - use `ls` and `cd` to find and enter your **dssvol03python** directory\n",
    "      - to confirm, when you do `ls` in your **dssvol03python** directory, it should list the already existing `_data`, `_analytics`, `_reports`, and `_img` directories\n",
    "      - type `python -m venv dsspython` and press ENTER\n",
    "      - type `source dsspython/bin/activate` and press ENTER\n",
    "      - you now have activated a virtual environment called `dsspython` which is currently empty (e.g. no site-packages are still installed; there is a new directory in your course directory now, called `dsspython`); you can deactivate it by typing `deactivate`, but do not do that now, because we need to complete:\n",
    "   - **The installation of packages used in this course**\n",
    "      - In your active `dsspython` course virtual environment\n",
    "      - We will install the following packages (for starters): `Numpy`, `Scipy`, `Pandas`, `scikit-learn`, `Statsmodels`, `Plotly`, `Matplotlib`, `Seaborn`, `Requests`:\n",
    "         - type `pip install numpy` and press ENTER\n",
    "         - type `pip install scipy` and press ENTER\n",
    "         - type `pip install pandas` and press ENTER\n",
    "         - type `pip install matplotlib` and press ENTER\n",
    "         - type `pip install seaborn` and press ENTER\n",
    "         - type `pip install plotly==5.13.0` and press ENTER\n",
    "         - type `pip install -U scikit-learn` and press ENTER\n",
    "         - type `pip install statsmodels` and press ENTER\n",
    "         - type `pip install requests` and press ENTER\n",
    "         - type `pip freeze` and press ENTER (for an overview of all installed packages in the virtual environment and their corresponding version numbers).\n",
    "      - close your Windows Terminal by typing: `exit` (and press ENTER)\n",
    "- **And now for something completely different: install Git for macOS**\n",
    "   - The easiest way to do this is to [install Brew first](https://brew.sh/), and then [use Brew to install Git](https://git-scm.com/download/mac) (just copy and paste the following commands in your Terminal):\n",
    "      - `/bin/bash -c \"$(curl -fsSL https://raw.githubusercontent.com/Homebrew/install/HEAD/install.sh)\"`\n",
    "      - `brew install git`\n",
    "   - open Terminal\n",
    "   - navigate to your course directory: **dssvol03python** \n",
    "   - type `git clone https://github.com/datakolektiv/dss03python2023.git`\n",
    "   - now type `ls` and press enter\n",
    "   - a new directory called `dss03python2023` will be found: all course code, notebooks, data, and other resources will be kept there. Every time we add something new to the course, we will instruct you how to pull the changes from the course GitHub repository into your `dss03python2023` directory and the all new material will be available to you.\n",
    "- **TEST installations**\n",
    "   - open VS Code\n",
    "   - **File → open folder → find your dssvol03python course directory and open it**\n",
    "   - Select **Yes I trust the authors of the repository**\n",
    "   - On the left-hand navigation in VS Code open the **dss03python2023** directory and click the **session00** directory\n",
    "   - open **dss03_py_session00.ipynb**\n",
    "   - in the upper right corner there is the **select kernel option**\n",
    "   - Click it and select the **dsspython (Python 3.8.10)** virtual environment that we have created\n",
    "   - Click **Clear all outputs**\n",
    "   - Click **Run All**\n",
    "      - **NOTE**: A message \"Running cells with `dsspython` requires the ipykernel package\" might pop-up: just **click Install**\n",
    "   - ... and if everything works, i.e. the whole notebook is run and the results of the code generated - **you are all set!**\n",
    "\n",
    "You can compare the results obtained with the `dss_03py_session00.html` file in the repository - it is just an HTML render of the test notebook that you have just run."
   ]
  },
  {
   "attachments": {},
   "cell_type": "markdown",
   "metadata": {},
   "source": [
    "#### 0.3 Installations Ubuntu/Debian\n",
    "\n",
    "- **Python is already installed; we recommend using Python 3.8.10 for this course; in general, anything Python 3.x should do;**\n",
    "- **Install Visual Studio Code (VS Code)**\n",
    "   - just follow the instructions: [https://code.visualstudio.com/docs/setup/linux](https://code.visualstudio.com/docs/setup/linux)\n",
    "- **Install the Jupyter Extension for Visual Studio Code and fine-tune**\n",
    "   - Open VS Code \n",
    "   - You will find five icons in a vertical arrangement near the left edge of the VS Code window; click the fifth icon \"Extensions\"\n",
    "   - In the search bar, type: jupyter notebook\n",
    "   - Install the following extensions:\n",
    "      - Jupyter\n",
    "      - Jupyter Notebook Renderers\n",
    "   - in VS Code: **File -> New File** -> then in the search bar: **Jupyter Notebook**\n",
    "   - select \"Jupyter Notebook .ipynb Support -> a new untitled document opens\n",
    "   - VS Code will pop a question in the lower right corner of its window: Do you want to install the recommended extensions for Python? - **click Install**\n",
    "   - Close VS Code\n",
    "- **Create a Python Virtual Environment to use with this course**\n",
    "   - Open Terminal\n",
    "   - Navigate to your **dssvol03python** course directory:\n",
    "      - the `ls` command lists all files in directories in the directory were you are currently working from\n",
    "      - the `cd` command changes the directory, e.g. `cd ___DataKolektiv\\`\n",
    "      - use `ls` and `cd` to find and enter your **dssvol03python** directory\n",
    "      - to confirm, when you do `ls` in your **dssvol03python** directory, it should list the already existing `_data`, `_analytics`, `_reports`, and `_img` directories\n",
    "      - type `python -m venv dsspython` and press ENTER\n",
    "      - type `source dsspython/bin/activate` and press ENTER\n",
    "      - you now have activated a virtual environment called `dsspython` which is currently empty (e.g. no site-packages are still installed; there is a new directory in your course directory now, called `dsspython`); you can deactivate it by typing `deactivate`, but do not do that now, because we need to complete:\n",
    "   - **The installation of packages used in this course**\n",
    "      - In your active `dsspython` course virtual environment\n",
    "      - We will install the following packages (for starters): `Numpy`, `Scipy`, `Pandas`, `scikit-learn`, `Statsmodels`, `Plotly`, `Matplotlib`, `Seaborn`, `Requests`:\n",
    "         - type `pip install numpy` and press ENTER\n",
    "         - type `pip install scipy` and press ENTER\n",
    "         - type `pip install pandas` and press ENTER\n",
    "         - type `pip install matplotlib` and press ENTER\n",
    "         - type `pip install seaborn` and press ENTER\n",
    "         - type `pip install plotly==5.13.0` and press ENTER\n",
    "         - type `pip install -U scikit-learn` and press ENTER\n",
    "         - type `pip install statsmodels` and press ENTER\n",
    "         - type `pip install requests` and press ENTER\n",
    "         - type `pip install ipython` and press ENTER\n",
    "         - type `pip freeze` and press ENTER (for an overview of all installed packages in the virtual environment and their corresponding version numbers).\n",
    "      - close your Windows Terminal by typing: `exit` (and press ENTER)\n",
    "- **And now for something completely different: install Git**\n",
    "   - Follow the instructions: https://phoenixnap.com/kb/how-to-install-git-on-ubuntu (go for Method 1)\n",
    "   - navigate to your course directory: **dssvol03python** \n",
    "   - type `git clone https://github.com/datakolektiv/dss03python2023.git`\n",
    "   - now type `ls` and press enter\n",
    "   - a new directory called **dss03python2023** will be found: all course code, notebooks, data, and other resources will be kept there. Every time we add something new to the course, we will instruct you how to pull the changes from the course GitHub repository into your **dss03python2023** directory and the all new material will be available to you.\n",
    "\n",
    "- **TEST installations**\n",
    "   - open VS Code\n",
    "   - **File → open folder → find your dssvol03python course directory and open it**\n",
    "   - Select **Yes I trust the authors of the repository**\n",
    "   - On the left-hand navigation in VS Code open the **dss03python2023** directory and click the **session00** directory\n",
    "   - open **dss03_py_session00.ipynb**\n",
    "   - in the upper right corner there is the **select kernel option**\n",
    "   - Click it and select the **dsspython (Python 3.8.10)** virtual environment that we have created\n",
    "   - Click **Clear all outputs**\n",
    "   - Click **Run All**\n",
    "      - **NOTE**: A message \"Running cells with `dsspython` requires the ipykernel package\" might pop-up: just **click Install**\n",
    "   - ... and if everything works, i.e. the whole notebook is run and the results of the code generated - **you are all set!**\n",
    "\n",
    "You can compare the results obtained with the `dss_03py_session00.html` file in the repository - it is just an HTML render of the test notebook that you have just run."
   ]
  },
  {
   "attachments": {},
   "cell_type": "markdown",
   "metadata": {},
   "source": [
    "#### 0.4 What packages have we installed?\n",
    "\n",
    "![](../img/session00_logos.png)\n",
    "\n",
    "- [NumPy](https://numpy.org/) is a library for the Python programming language, adding support for large, multi-dimensional arrays and matrices, along with a large collection of high-level mathematical functions to operate on these arrays. Essentially, NumPy makes Python a vector programming language, similar to R and other languages that are tailored made for efficient computation in Statistical Machine Learning.\n",
    "\n",
    "- [Pandas](https://pandas.pydata.org/) is is built on top of Numpy and use for data manipulation, management, and analysis. Most important, Pandas adds the `DataFrame` class to Python, providing the essential means to load, manage, persiste, and manipulate tabular data in Python.\n",
    "\n",
    "- [SciPy](https://scipy.org/) SciPy provides algorithms for optimization, integration, interpolation, eigenvalue problems, algebraic equations, differential equations, statistics and many other classes of problems. Its [Statistical functions](https://docs.scipy.org/doc/scipy/reference/stats.html) module encompasses essential functions used in probability and mathematical statistics.\n",
    "\n",
    "- [Matplotlib](https://matplotlib.org/) A standard visualization package.\n",
    "\n",
    "- [Seaborn](https://seaborn.pydata.org/) An advanced visualization package, based on Matplotlib.\n",
    "\n",
    "- [Plotly](https://plotly.com/) Plotly is an advanced, industrial standarard visualization package that creates powerfull interactive visualizations.\n",
    "\n",
    "- [statsmodels](https://www.statsmodels.org/stable/index.html) statsmodels \"... is a Python module that provides classes and functions for the estimation of many different statistical models, as well as for conducting statistical tests, and statistical data exploration. An extensive list of result statistics are available for each estimator.\"\n",
    "\n",
    "- [scikit-learn](https://scikit-learn.org/stable/) is a standard Python Machine Learning library. It encompasses tons of efficient implementations of ML algorithms and is widely used in production and research in Data Science and ML. \n",
    "\n",
    "- [IPython kernel](https://ipython.readthedocs.io/en/stable/install/kernel_install.html) - this is here to support work in Jupyter Notebooks. "
   ]
  },
  {
   "cell_type": "markdown",
   "metadata": {},
   "source": [
    "### 1. Simple Linear Regression with `scikit-learn`"
   ]
  },
  {
   "cell_type": "markdown",
   "metadata": {},
   "source": [
    "**Note.** If the installations went well, you should be able to execute all of the following by running this Jupyter Notebook."
   ]
  },
  {
   "attachments": {},
   "cell_type": "markdown",
   "metadata": {},
   "source": [
    "Import packages"
   ]
  },
  {
   "cell_type": "code",
   "execution_count": 1,
   "metadata": {},
   "outputs": [],
   "source": [
    "# - pckgs\n",
    "import pandas as pd\n",
    "import matplotlib.pyplot as plt\n",
    "%matplotlib inline"
   ]
  },
  {
   "attachments": {},
   "cell_type": "markdown",
   "metadata": {},
   "source": [
    "Load some data: enter `iris`"
   ]
  },
  {
   "cell_type": "code",
   "execution_count": 2,
   "metadata": {},
   "outputs": [
    {
     "data": {
      "text/html": [
       "<div>\n",
       "<style scoped>\n",
       "    .dataframe tbody tr th:only-of-type {\n",
       "        vertical-align: middle;\n",
       "    }\n",
       "\n",
       "    .dataframe tbody tr th {\n",
       "        vertical-align: top;\n",
       "    }\n",
       "\n",
       "    .dataframe thead th {\n",
       "        text-align: right;\n",
       "    }\n",
       "</style>\n",
       "<table border=\"1\" class=\"dataframe\">\n",
       "  <thead>\n",
       "    <tr style=\"text-align: right;\">\n",
       "      <th></th>\n",
       "      <th>sepal length (cm)</th>\n",
       "      <th>sepal width (cm)</th>\n",
       "      <th>petal length (cm)</th>\n",
       "      <th>petal width (cm)</th>\n",
       "    </tr>\n",
       "  </thead>\n",
       "  <tbody>\n",
       "    <tr>\n",
       "      <th>0</th>\n",
       "      <td>5.1</td>\n",
       "      <td>3.5</td>\n",
       "      <td>1.4</td>\n",
       "      <td>0.2</td>\n",
       "    </tr>\n",
       "    <tr>\n",
       "      <th>1</th>\n",
       "      <td>4.9</td>\n",
       "      <td>3.0</td>\n",
       "      <td>1.4</td>\n",
       "      <td>0.2</td>\n",
       "    </tr>\n",
       "    <tr>\n",
       "      <th>2</th>\n",
       "      <td>4.7</td>\n",
       "      <td>3.2</td>\n",
       "      <td>1.3</td>\n",
       "      <td>0.2</td>\n",
       "    </tr>\n",
       "    <tr>\n",
       "      <th>3</th>\n",
       "      <td>4.6</td>\n",
       "      <td>3.1</td>\n",
       "      <td>1.5</td>\n",
       "      <td>0.2</td>\n",
       "    </tr>\n",
       "    <tr>\n",
       "      <th>4</th>\n",
       "      <td>5.0</td>\n",
       "      <td>3.6</td>\n",
       "      <td>1.4</td>\n",
       "      <td>0.2</td>\n",
       "    </tr>\n",
       "    <tr>\n",
       "      <th>5</th>\n",
       "      <td>5.4</td>\n",
       "      <td>3.9</td>\n",
       "      <td>1.7</td>\n",
       "      <td>0.4</td>\n",
       "    </tr>\n",
       "    <tr>\n",
       "      <th>6</th>\n",
       "      <td>4.6</td>\n",
       "      <td>3.4</td>\n",
       "      <td>1.4</td>\n",
       "      <td>0.3</td>\n",
       "    </tr>\n",
       "    <tr>\n",
       "      <th>7</th>\n",
       "      <td>5.0</td>\n",
       "      <td>3.4</td>\n",
       "      <td>1.5</td>\n",
       "      <td>0.2</td>\n",
       "    </tr>\n",
       "    <tr>\n",
       "      <th>8</th>\n",
       "      <td>4.4</td>\n",
       "      <td>2.9</td>\n",
       "      <td>1.4</td>\n",
       "      <td>0.2</td>\n",
       "    </tr>\n",
       "    <tr>\n",
       "      <th>9</th>\n",
       "      <td>4.9</td>\n",
       "      <td>3.1</td>\n",
       "      <td>1.5</td>\n",
       "      <td>0.1</td>\n",
       "    </tr>\n",
       "  </tbody>\n",
       "</table>\n",
       "</div>"
      ],
      "text/plain": [
       "   sepal length (cm)  sepal width (cm)  petal length (cm)  petal width (cm)\n",
       "0                5.1               3.5                1.4               0.2\n",
       "1                4.9               3.0                1.4               0.2\n",
       "2                4.7               3.2                1.3               0.2\n",
       "3                4.6               3.1                1.5               0.2\n",
       "4                5.0               3.6                1.4               0.2\n",
       "5                5.4               3.9                1.7               0.4\n",
       "6                4.6               3.4                1.4               0.3\n",
       "7                5.0               3.4                1.5               0.2\n",
       "8                4.4               2.9                1.4               0.2\n",
       "9                4.9               3.1                1.5               0.1"
      ]
     },
     "execution_count": 2,
     "metadata": {},
     "output_type": "execute_result"
    }
   ],
   "source": [
    "# - data\n",
    "from sklearn.datasets import load_iris\n",
    "ds = load_iris()\n",
    "data_set = pd.DataFrame(data=ds.data, columns=ds.feature_names)\n",
    "data_set.head(10)"
   ]
  },
  {
   "cell_type": "markdown",
   "metadata": {},
   "source": [
    "The shape of data"
   ]
  },
  {
   "cell_type": "code",
   "execution_count": 3,
   "metadata": {},
   "outputs": [
    {
     "data": {
      "text/plain": [
       "(150, 4)"
      ]
     },
     "execution_count": 3,
     "metadata": {},
     "output_type": "execute_result"
    }
   ],
   "source": [
    "data_set.shape"
   ]
  },
  {
   "cell_type": "markdown",
   "metadata": {},
   "source": [
    "Correlations"
   ]
  },
  {
   "cell_type": "code",
   "execution_count": 4,
   "metadata": {},
   "outputs": [
    {
     "data": {
      "text/html": [
       "<div>\n",
       "<style scoped>\n",
       "    .dataframe tbody tr th:only-of-type {\n",
       "        vertical-align: middle;\n",
       "    }\n",
       "\n",
       "    .dataframe tbody tr th {\n",
       "        vertical-align: top;\n",
       "    }\n",
       "\n",
       "    .dataframe thead th {\n",
       "        text-align: right;\n",
       "    }\n",
       "</style>\n",
       "<table border=\"1\" class=\"dataframe\">\n",
       "  <thead>\n",
       "    <tr style=\"text-align: right;\">\n",
       "      <th></th>\n",
       "      <th>sepal length (cm)</th>\n",
       "      <th>sepal width (cm)</th>\n",
       "      <th>petal length (cm)</th>\n",
       "      <th>petal width (cm)</th>\n",
       "    </tr>\n",
       "  </thead>\n",
       "  <tbody>\n",
       "    <tr>\n",
       "      <th>sepal length (cm)</th>\n",
       "      <td>1.000000</td>\n",
       "      <td>-0.117570</td>\n",
       "      <td>0.871754</td>\n",
       "      <td>0.817941</td>\n",
       "    </tr>\n",
       "    <tr>\n",
       "      <th>sepal width (cm)</th>\n",
       "      <td>-0.117570</td>\n",
       "      <td>1.000000</td>\n",
       "      <td>-0.428440</td>\n",
       "      <td>-0.366126</td>\n",
       "    </tr>\n",
       "    <tr>\n",
       "      <th>petal length (cm)</th>\n",
       "      <td>0.871754</td>\n",
       "      <td>-0.428440</td>\n",
       "      <td>1.000000</td>\n",
       "      <td>0.962865</td>\n",
       "    </tr>\n",
       "    <tr>\n",
       "      <th>petal width (cm)</th>\n",
       "      <td>0.817941</td>\n",
       "      <td>-0.366126</td>\n",
       "      <td>0.962865</td>\n",
       "      <td>1.000000</td>\n",
       "    </tr>\n",
       "  </tbody>\n",
       "</table>\n",
       "</div>"
      ],
      "text/plain": [
       "                   sepal length (cm)  sepal width (cm)  petal length (cm)  \\\n",
       "sepal length (cm)           1.000000         -0.117570           0.871754   \n",
       "sepal width (cm)           -0.117570          1.000000          -0.428440   \n",
       "petal length (cm)           0.871754         -0.428440           1.000000   \n",
       "petal width (cm)            0.817941         -0.366126           0.962865   \n",
       "\n",
       "                   petal width (cm)  \n",
       "sepal length (cm)          0.817941  \n",
       "sepal width (cm)          -0.366126  \n",
       "petal length (cm)          0.962865  \n",
       "petal width (cm)           1.000000  "
      ]
     },
     "execution_count": 4,
     "metadata": {},
     "output_type": "execute_result"
    }
   ],
   "source": [
    "data_set.corr()"
   ]
  },
  {
   "cell_type": "markdown",
   "metadata": {},
   "source": [
    "Visualize correlation matrix w. Seaborn"
   ]
  },
  {
   "cell_type": "code",
   "execution_count": 5,
   "metadata": {},
   "outputs": [
    {
     "data": {
      "text/plain": [
       "<AxesSubplot: >"
      ]
     },
     "execution_count": 5,
     "metadata": {},
     "output_type": "execute_result"
    },
    {
     "data": {
      "image/png": "[encoded data removed]",
      "text/plain": [
       "<Figure size 1600x600 with 2 Axes>"
      ]
     },
     "metadata": {},
     "output_type": "display_data"
    }
   ],
   "source": [
    "# - Seaborn\n",
    "import seaborn as sns\n",
    "cor_mat = data_set.corr()\n",
    "plt.figure(figsize=(16, 6))\n",
    "sns.heatmap(cor_mat, annot = True)"
   ]
  },
  {
   "cell_type": "markdown",
   "metadata": {},
   "source": [
    "Check"
   ]
  },
  {
   "cell_type": "code",
   "execution_count": 6,
   "metadata": {},
   "outputs": [
    {
     "data": {
      "text/plain": [
       "sepal length (cm)    float64\n",
       "sepal width (cm)     float64\n",
       "petal length (cm)    float64\n",
       "petal width (cm)     float64\n",
       "dtype: object"
      ]
     },
     "execution_count": 6,
     "metadata": {},
     "output_type": "execute_result"
    }
   ],
   "source": [
    "data_set.dtypes"
   ]
  },
  {
   "cell_type": "code",
   "execution_count": 7,
   "metadata": {},
   "outputs": [
    {
     "data": {
      "text/plain": [
       "(150, 4)"
      ]
     },
     "execution_count": 7,
     "metadata": {},
     "output_type": "execute_result"
    }
   ],
   "source": [
    "data_set.shape"
   ]
  },
  {
   "cell_type": "markdown",
   "metadata": {},
   "source": [
    "Perform Simple Linear Regression with `scikit-learn`: attempt to predict the `petal length (cm)` value from `sepal length (cm)`"
   ]
  },
  {
   "cell_type": "code",
   "execution_count": 8,
   "metadata": {},
   "outputs": [
    {
     "name": "stdout",
     "output_type": "stream",
     "text": [
      "The slope of the regression line is: 1.85843297825484\n",
      "The intercept of the regression line is: -7.10144336960245\n"
     ]
    }
   ],
   "source": [
    "# - numpy\n",
    "import numpy as np\n",
    "# - scikit-learn\n",
    "from sklearn.linear_model import LinearRegression\n",
    "# - fit linear model: \n",
    "# - reshape, since we have only one predictor\n",
    "X = np.array(data_set['sepal length (cm)']).reshape(-1, 1)\n",
    "y = np.array(data_set['petal length (cm)']).reshape(-1, 1)\n",
    "# - fit linear model\n",
    "linear_model = LinearRegression().fit(X, y)\n",
    "# - report\n",
    "print(\"The slope of the regression line is: \" + str(np.double(linear_model.coef_)))\n",
    "print(\"The intercept of the regression line is: \" + str(np.double(linear_model.intercept_)))"
   ]
  },
  {
   "cell_type": "markdown",
   "metadata": {},
   "source": [
    "Visualize"
   ]
  },
  {
   "cell_type": "code",
   "execution_count": 9,
   "metadata": {},
   "outputs": [
    {
     "data": {
      "image/png": "[encoded data removed]",
      "text/plain": [
       "<Figure size 800x800 with 1 Axes>"
      ]
     },
     "metadata": {},
     "output_type": "display_data"
    }
   ],
   "source": [
    "plt.figure(figsize=(8, 8))\n",
    "plt.box(False)\n",
    "plt.scatter(X, y, color = 'green', marker = '.')\n",
    "plt.plot(X, linear_model.predict(X), color = 'blue', linewidth=.5)\n",
    "plt.title('Iris: sepal length vs petal length')\n",
    "plt.xlabel('sepal length (cm)')\n",
    "plt.ylabel('petal length (cm)')\n",
    "plt.show()"
   ]
  },
  {
   "attachments": {},
   "cell_type": "markdown",
   "metadata": {},
   "source": [
    "### A highly recommended To Do\n",
    "- Watch [Complete Python Pandas Data Science Tutorial! (Reading CSV/Excel files, Sorting, Filtering, Groupby)](https://www.youtube.com/watch?v=vmEHCJofslg)\n",
    "- Watch [Python NumPy Tutorial for Beginners](https://www.youtube.com/watch?v=QUT1VHiLmmI)\n",
    "- Read chapter [Introduction to NumPy](https://jakevdp.github.io/PythonDataScienceHandbook/02.00-introduction-to-numpy.html) from [Python Data Science Handbook, Jake VanderPlas](https://jakevdp.github.io/PythonDataScienceHandbook/)"
   ]
  },
  {
   "cell_type": "markdown",
   "metadata": {},
   "source": [
    "<hr>"
   ]
  },
  {
   "attachments": {},
   "cell_type": "markdown",
   "metadata": {},
   "source": [
    "DataKolektiv, 2022/23.\n",
    "\n",
    "[hello@datakolektiv.com](mailto:goran.milovanovic@datakolektiv.com)\n",
    "\n",
    "![](../img/DK_Logo_100.png)"
   ]
  },
  {
   "cell_type": "markdown",
   "metadata": {},
   "source": [
    "<font size=1>License: [GPLv3](https://www.gnu.org/licenses/gpl-3.0.txt) This Notebook is free software: you can redistribute it and/or modify it under the terms of the GNU General Public License as published by the Free Software Foundation, either version 3 of the License, or (at your option) any later version. This Notebook is distributed in the hope that it will be useful, but WITHOUT ANY WARRANTY; without even the implied warranty of MERCHANTABILITY or FITNESS FOR A PARTICULAR PURPOSE. See the GNU General Public License for more details. You should have received a copy of the GNU General Public License along with this Notebook. If not, see http://www.gnu.org/licenses/.</font>"
   ]
  }
 ],
 "metadata": {
  "kernelspec": {
   "display_name": "dss00python2023",
   "language": "python",
   "name": "python3"
  },
  "language_info": {
   "codemirror_mode": {
    "name": "ipython",
    "version": 3
   },
   "file_extension": ".py",
   "mimetype": "text/x-python",
   "name": "python",
   "nbconvert_exporter": "python",
   "pygments_lexer": "ipython3",
   "version": "3.9.16"
  },
  "orig_nbformat": 4,
  "vscode": {
   "interpreter": {
    "hash": "1cd3978be751434017ac2cef9d5b4683bcdb1c1d31a8fa91ec8c7c13b7681774"
   }
  }
 },
 "nbformat": 4,
 "nbformat_minor": 2
}
