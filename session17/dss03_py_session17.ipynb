{
 "cells": [
  {
   "cell_type": "markdown",
   "id": "d32f79a7",
   "metadata": {},
   "source": [
    "# DATA SCIENCE SESSIONS VOL. 3\n",
    "### A Foundational Python Data Science Course\n",
    "## Session 17: Generalized Linear Models II. Binomial Logistic Regression and ROC analysis. Regularization of BLR. \n",
    "\n",
    "[&larr; Back to course webpage](https://datakolektiv.com/)\n",
    "\n",
    "Feedback should be send to [goran.milovanovic@datakolektiv.com](mailto:goran.milovanovic@datakolektiv.com). \n",
    "\n",
    "These notebooks accompany the DATA SCIENCE SESSIONS VOL. 3 :: A Foundational Python Data Science Course."
   ]
  },
  {
   "cell_type": "markdown",
   "id": "ea45fcc0",
   "metadata": {},
   "source": [
    "![](../img/IntroRDataScience_NonTech-1.jpg)"
   ]
  },
  {
   "cell_type": "markdown",
   "id": "688624f5",
   "metadata": {},
   "source": [
    "### Lecturers\n",
    "\n",
    "[Goran S. Milovanović, PhD, DataKolektiv, Chief Scientist & Owner](https://www.linkedin.com/in/gmilovanovic/)\n",
    "\n",
    "[Aleksandar Cvetković, PhD, DataKolektiv, Consultant](https://www.linkedin.com/in/alegzndr/)\n",
    "\n",
    "[Ilija Lazarević, MA, DataKolektiv, Consultant](https://www.linkedin.com/in/ilijalazarevic/)"
   ]
  },
  {
   "cell_type": "markdown",
   "id": "33bdb3f9",
   "metadata": {},
   "source": [
    "![](../img/DK_Logo_100.png)"
   ]
  },
  {
   "cell_type": "markdown",
   "id": "132e11e2",
   "metadata": {},
   "source": [
    "***"
   ]
  },
  {
   "cell_type": "code",
   "execution_count": null,
   "id": "6fc5fc1a",
   "metadata": {},
   "outputs": [],
   "source": [
    "### --- Setup - importing the libraries\n",
    "\n",
    "# - supress those annoying 'Future Warning'\n",
    "import warnings\n",
    "warnings.simplefilter(action='ignore', category=FutureWarning)\n",
    "\n",
    "# - data\n",
    "import numpy as np\n",
    "import pandas as pd\n",
    "\n",
    "# - os\n",
    "import os\n",
    "\n",
    "# - ml\n",
    "import statsmodels.api as sm\n",
    "import statsmodels.formula.api as smf\n",
    "from statsmodels.stats.outliers_influence import variance_inflation_factor\n",
    "\n",
    "# - visualization\n",
    "import matplotlib.pyplot as plt\n",
    "import seaborn as sns\n",
    "\n",
    "# - parameters\n",
    "%matplotlib inline\n",
    "pd.options.mode.chained_assignment = None  # default='warn'\n",
    "sns.set_theme()\n",
    "# - rng\n",
    "rng = np.random.default_rng()\n",
    "# - plots\n",
    "plt.rc(\"figure\", figsize=(8, 6))\n",
    "plt.rc(\"font\", size=14)\n",
    "sns.set_theme(style='white')\n",
    "\n",
    "# - directory tree\n",
    "data_dir = os.path.join(os.getcwd(), '_data')"
   ]
  },
  {
   "cell_type": "markdown",
   "id": "7bc8baac",
   "metadata": {},
   "source": [
    "## 1. Binomial Logistic Regression, ROC analysis."
   ]
  },
  {
   "cell_type": "code",
   "execution_count": 2,
   "id": "81fc53a0",
   "metadata": {},
   "outputs": [
    {
     "data": {
      "text/html": [
       "<div>\n",
       "<style scoped>\n",
       "    .dataframe tbody tr th:only-of-type {\n",
       "        vertical-align: middle;\n",
       "    }\n",
       "\n",
       "    .dataframe tbody tr th {\n",
       "        vertical-align: top;\n",
       "    }\n",
       "\n",
       "    .dataframe thead th {\n",
       "        text-align: right;\n",
       "    }\n",
       "</style>\n",
       "<table border=\"1\" class=\"dataframe\">\n",
       "  <thead>\n",
       "    <tr style=\"text-align: right;\">\n",
       "      <th></th>\n",
       "      <th>customerID</th>\n",
       "      <th>tenure</th>\n",
       "      <th>PhoneService</th>\n",
       "      <th>Contract</th>\n",
       "      <th>PaperlessBilling</th>\n",
       "      <th>PaymentMethod</th>\n",
       "      <th>MonthlyCharges</th>\n",
       "      <th>TotalCharges</th>\n",
       "      <th>Churn</th>\n",
       "    </tr>\n",
       "  </thead>\n",
       "  <tbody>\n",
       "    <tr>\n",
       "      <th>0</th>\n",
       "      <td>7590-VHVEG</td>\n",
       "      <td>1</td>\n",
       "      <td>No</td>\n",
       "      <td>Month-to-month</td>\n",
       "      <td>Yes</td>\n",
       "      <td>Electronic check</td>\n",
       "      <td>29.85</td>\n",
       "      <td>29.85</td>\n",
       "      <td>No</td>\n",
       "    </tr>\n",
       "    <tr>\n",
       "      <th>1</th>\n",
       "      <td>5575-GNVDE</td>\n",
       "      <td>34</td>\n",
       "      <td>Yes</td>\n",
       "      <td>One year</td>\n",
       "      <td>No</td>\n",
       "      <td>Mailed check</td>\n",
       "      <td>56.95</td>\n",
       "      <td>1889.5</td>\n",
       "      <td>No</td>\n",
       "    </tr>\n",
       "    <tr>\n",
       "      <th>2</th>\n",
       "      <td>3668-QPYBK</td>\n",
       "      <td>2</td>\n",
       "      <td>Yes</td>\n",
       "      <td>Month-to-month</td>\n",
       "      <td>Yes</td>\n",
       "      <td>Mailed check</td>\n",
       "      <td>53.85</td>\n",
       "      <td>108.15</td>\n",
       "      <td>Yes</td>\n",
       "    </tr>\n",
       "    <tr>\n",
       "      <th>3</th>\n",
       "      <td>7795-CFOCW</td>\n",
       "      <td>45</td>\n",
       "      <td>No</td>\n",
       "      <td>One year</td>\n",
       "      <td>No</td>\n",
       "      <td>Bank transfer (automatic)</td>\n",
       "      <td>42.30</td>\n",
       "      <td>1840.75</td>\n",
       "      <td>No</td>\n",
       "    </tr>\n",
       "    <tr>\n",
       "      <th>4</th>\n",
       "      <td>9237-HQITU</td>\n",
       "      <td>2</td>\n",
       "      <td>Yes</td>\n",
       "      <td>Month-to-month</td>\n",
       "      <td>Yes</td>\n",
       "      <td>Electronic check</td>\n",
       "      <td>70.70</td>\n",
       "      <td>151.65</td>\n",
       "      <td>Yes</td>\n",
       "    </tr>\n",
       "    <tr>\n",
       "      <th>5</th>\n",
       "      <td>9305-CDSKC</td>\n",
       "      <td>8</td>\n",
       "      <td>Yes</td>\n",
       "      <td>Month-to-month</td>\n",
       "      <td>Yes</td>\n",
       "      <td>Electronic check</td>\n",
       "      <td>99.65</td>\n",
       "      <td>820.5</td>\n",
       "      <td>Yes</td>\n",
       "    </tr>\n",
       "    <tr>\n",
       "      <th>6</th>\n",
       "      <td>1452-KIOVK</td>\n",
       "      <td>22</td>\n",
       "      <td>Yes</td>\n",
       "      <td>Month-to-month</td>\n",
       "      <td>Yes</td>\n",
       "      <td>Credit card (automatic)</td>\n",
       "      <td>89.10</td>\n",
       "      <td>1949.4</td>\n",
       "      <td>No</td>\n",
       "    </tr>\n",
       "    <tr>\n",
       "      <th>7</th>\n",
       "      <td>6713-OKOMC</td>\n",
       "      <td>10</td>\n",
       "      <td>No</td>\n",
       "      <td>Month-to-month</td>\n",
       "      <td>No</td>\n",
       "      <td>Mailed check</td>\n",
       "      <td>29.75</td>\n",
       "      <td>301.9</td>\n",
       "      <td>No</td>\n",
       "    </tr>\n",
       "    <tr>\n",
       "      <th>8</th>\n",
       "      <td>7892-POOKP</td>\n",
       "      <td>28</td>\n",
       "      <td>Yes</td>\n",
       "      <td>Month-to-month</td>\n",
       "      <td>Yes</td>\n",
       "      <td>Electronic check</td>\n",
       "      <td>104.80</td>\n",
       "      <td>3046.05</td>\n",
       "      <td>Yes</td>\n",
       "    </tr>\n",
       "    <tr>\n",
       "      <th>9</th>\n",
       "      <td>6388-TABGU</td>\n",
       "      <td>62</td>\n",
       "      <td>Yes</td>\n",
       "      <td>One year</td>\n",
       "      <td>No</td>\n",
       "      <td>Bank transfer (automatic)</td>\n",
       "      <td>56.15</td>\n",
       "      <td>3487.95</td>\n",
       "      <td>No</td>\n",
       "    </tr>\n",
       "  </tbody>\n",
       "</table>\n",
       "</div>"
      ],
      "text/plain": [
       "   customerID  tenure PhoneService        Contract PaperlessBilling  \\\n",
       "0  7590-VHVEG       1           No  Month-to-month              Yes   \n",
       "1  5575-GNVDE      34          Yes        One year               No   \n",
       "2  3668-QPYBK       2          Yes  Month-to-month              Yes   \n",
       "3  7795-CFOCW      45           No        One year               No   \n",
       "4  9237-HQITU       2          Yes  Month-to-month              Yes   \n",
       "5  9305-CDSKC       8          Yes  Month-to-month              Yes   \n",
       "6  1452-KIOVK      22          Yes  Month-to-month              Yes   \n",
       "7  6713-OKOMC      10           No  Month-to-month               No   \n",
       "8  7892-POOKP      28          Yes  Month-to-month              Yes   \n",
       "9  6388-TABGU      62          Yes        One year               No   \n",
       "\n",
       "               PaymentMethod  MonthlyCharges TotalCharges Churn  \n",
       "0           Electronic check           29.85        29.85    No  \n",
       "1               Mailed check           56.95       1889.5    No  \n",
       "2               Mailed check           53.85       108.15   Yes  \n",
       "3  Bank transfer (automatic)           42.30      1840.75    No  \n",
       "4           Electronic check           70.70       151.65   Yes  \n",
       "5           Electronic check           99.65        820.5   Yes  \n",
       "6    Credit card (automatic)           89.10       1949.4    No  \n",
       "7               Mailed check           29.75        301.9    No  \n",
       "8           Electronic check          104.80      3046.05   Yes  \n",
       "9  Bank transfer (automatic)           56.15      3487.95    No  "
      ]
     },
     "execution_count": 2,
     "metadata": {},
     "output_type": "execute_result"
    }
   ],
   "source": [
    "# - loading the dataset\n",
    "# - GitHub: https://github.com/dijendersaini/Customer-Churn-Model/blob/master/churn_data.csv\n",
    "# - place it in your _data/ directory\n",
    "churn_data = pd.read_csv(os.path.join(data_dir, 'churn_data.csv'))\n",
    "churn_data.head(10)"
   ]
  },
  {
   "cell_type": "code",
   "execution_count": 3,
   "id": "8544e07b",
   "metadata": {},
   "outputs": [
    {
     "name": "stdout",
     "output_type": "stream",
     "text": [
      "<class 'pandas.core.frame.DataFrame'>\n",
      "RangeIndex: 7043 entries, 0 to 7042\n",
      "Data columns (total 9 columns):\n",
      " #   Column            Non-Null Count  Dtype  \n",
      "---  ------            --------------  -----  \n",
      " 0   customerID        7043 non-null   object \n",
      " 1   tenure            7043 non-null   int64  \n",
      " 2   PhoneService      7043 non-null   object \n",
      " 3   Contract          7043 non-null   object \n",
      " 4   PaperlessBilling  7043 non-null   object \n",
      " 5   PaymentMethod     7043 non-null   object \n",
      " 6   MonthlyCharges    7043 non-null   float64\n",
      " 7   TotalCharges      7043 non-null   object \n",
      " 8   Churn             7043 non-null   object \n",
      "dtypes: float64(1), int64(1), object(7)\n",
      "memory usage: 495.3+ KB\n"
     ]
    }
   ],
   "source": [
    "churn_data.info()"
   ]
  },
  {
   "cell_type": "code",
   "execution_count": 4,
   "id": "7d5ab9c5",
   "metadata": {},
   "outputs": [],
   "source": [
    "# - use .replace method to replace empty strings with NaN values\n",
    "churn_data = churn_data.replace(r'^\\s*$', np.nan, regex=True)"
   ]
  },
  {
   "cell_type": "code",
   "execution_count": 5,
   "id": "42a958c8",
   "metadata": {},
   "outputs": [],
   "source": [
    "# - we drop all the entries with missing values\n",
    "churn_data = churn_data.dropna().reset_index(drop=True)"
   ]
  },
  {
   "cell_type": "code",
   "execution_count": 6,
   "id": "5053b772",
   "metadata": {},
   "outputs": [
    {
     "name": "stdout",
     "output_type": "stream",
     "text": [
      "<class 'pandas.core.frame.DataFrame'>\n",
      "RangeIndex: 7032 entries, 0 to 7031\n",
      "Data columns (total 9 columns):\n",
      " #   Column            Non-Null Count  Dtype  \n",
      "---  ------            --------------  -----  \n",
      " 0   customerID        7032 non-null   object \n",
      " 1   tenure            7032 non-null   int64  \n",
      " 2   PhoneService      7032 non-null   object \n",
      " 3   Contract          7032 non-null   object \n",
      " 4   PaperlessBilling  7032 non-null   object \n",
      " 5   PaymentMethod     7032 non-null   object \n",
      " 6   MonthlyCharges    7032 non-null   float64\n",
      " 7   TotalCharges      7032 non-null   float64\n",
      " 8   Churn             7032 non-null   object \n",
      "dtypes: float64(2), int64(1), object(6)\n",
      "memory usage: 494.6+ KB\n"
     ]
    }
   ],
   "source": [
    "# - notice that 'TotalCharges' values are non-numeric type, but they should be\n",
    "# - this is due to the empty string values that were previously present\n",
    "# - we convert them to numeric type\n",
    "churn_data['TotalCharges'] = churn_data['TotalCharges'].astype('float')\n",
    "churn_data.info()"
   ]
  },
  {
   "cell_type": "markdown",
   "id": "c1dbcd46",
   "metadata": {},
   "source": [
    "### Target: Predict churn from all numeric predictors"
   ]
  },
  {
   "cell_type": "code",
   "execution_count": 7,
   "id": "e32fe04c",
   "metadata": {},
   "outputs": [
    {
     "data": {
      "text/html": [
       "<div>\n",
       "<style scoped>\n",
       "    .dataframe tbody tr th:only-of-type {\n",
       "        vertical-align: middle;\n",
       "    }\n",
       "\n",
       "    .dataframe tbody tr th {\n",
       "        vertical-align: top;\n",
       "    }\n",
       "\n",
       "    .dataframe thead th {\n",
       "        text-align: right;\n",
       "    }\n",
       "</style>\n",
       "<table border=\"1\" class=\"dataframe\">\n",
       "  <thead>\n",
       "    <tr style=\"text-align: right;\">\n",
       "      <th></th>\n",
       "      <th>Churn</th>\n",
       "      <th>tenure</th>\n",
       "      <th>MonthlyCharges</th>\n",
       "      <th>TotalCharges</th>\n",
       "    </tr>\n",
       "  </thead>\n",
       "  <tbody>\n",
       "    <tr>\n",
       "      <th>0</th>\n",
       "      <td>No</td>\n",
       "      <td>1</td>\n",
       "      <td>29.85</td>\n",
       "      <td>29.85</td>\n",
       "    </tr>\n",
       "    <tr>\n",
       "      <th>1</th>\n",
       "      <td>No</td>\n",
       "      <td>34</td>\n",
       "      <td>56.95</td>\n",
       "      <td>1889.50</td>\n",
       "    </tr>\n",
       "    <tr>\n",
       "      <th>2</th>\n",
       "      <td>Yes</td>\n",
       "      <td>2</td>\n",
       "      <td>53.85</td>\n",
       "      <td>108.15</td>\n",
       "    </tr>\n",
       "    <tr>\n",
       "      <th>3</th>\n",
       "      <td>No</td>\n",
       "      <td>45</td>\n",
       "      <td>42.30</td>\n",
       "      <td>1840.75</td>\n",
       "    </tr>\n",
       "    <tr>\n",
       "      <th>4</th>\n",
       "      <td>Yes</td>\n",
       "      <td>2</td>\n",
       "      <td>70.70</td>\n",
       "      <td>151.65</td>\n",
       "    </tr>\n",
       "  </tbody>\n",
       "</table>\n",
       "</div>"
      ],
      "text/plain": [
       "  Churn  tenure  MonthlyCharges  TotalCharges\n",
       "0    No       1           29.85         29.85\n",
       "1    No      34           56.95       1889.50\n",
       "2   Yes       2           53.85        108.15\n",
       "3    No      45           42.30       1840.75\n",
       "4   Yes       2           70.70        151.65"
      ]
     },
     "execution_count": 7,
     "metadata": {},
     "output_type": "execute_result"
    }
   ],
   "source": [
    "### --- Preparing the model frame\n",
    "\n",
    "# - extracting 'Churn' and all the numerical features columns\n",
    "model_frame = churn_data[['Churn', 'tenure', 'MonthlyCharges', 'TotalCharges']]\n",
    "model_frame.head()"
   ]
  },
  {
   "cell_type": "code",
   "execution_count": 8,
   "id": "cdca99db",
   "metadata": {},
   "outputs": [
    {
     "data": {
      "text/html": [
       "<div>\n",
       "<style scoped>\n",
       "    .dataframe tbody tr th:only-of-type {\n",
       "        vertical-align: middle;\n",
       "    }\n",
       "\n",
       "    .dataframe tbody tr th {\n",
       "        vertical-align: top;\n",
       "    }\n",
       "\n",
       "    .dataframe thead th {\n",
       "        text-align: right;\n",
       "    }\n",
       "</style>\n",
       "<table border=\"1\" class=\"dataframe\">\n",
       "  <thead>\n",
       "    <tr style=\"text-align: right;\">\n",
       "      <th></th>\n",
       "      <th>Churn</th>\n",
       "      <th>tenure</th>\n",
       "      <th>MonthlyCharges</th>\n",
       "      <th>TotalCharges</th>\n",
       "    </tr>\n",
       "  </thead>\n",
       "  <tbody>\n",
       "    <tr>\n",
       "      <th>0</th>\n",
       "      <td>0</td>\n",
       "      <td>1</td>\n",
       "      <td>29.85</td>\n",
       "      <td>29.85</td>\n",
       "    </tr>\n",
       "    <tr>\n",
       "      <th>1</th>\n",
       "      <td>0</td>\n",
       "      <td>34</td>\n",
       "      <td>56.95</td>\n",
       "      <td>1889.50</td>\n",
       "    </tr>\n",
       "    <tr>\n",
       "      <th>2</th>\n",
       "      <td>1</td>\n",
       "      <td>2</td>\n",
       "      <td>53.85</td>\n",
       "      <td>108.15</td>\n",
       "    </tr>\n",
       "    <tr>\n",
       "      <th>3</th>\n",
       "      <td>0</td>\n",
       "      <td>45</td>\n",
       "      <td>42.30</td>\n",
       "      <td>1840.75</td>\n",
       "    </tr>\n",
       "    <tr>\n",
       "      <th>4</th>\n",
       "      <td>1</td>\n",
       "      <td>2</td>\n",
       "      <td>70.70</td>\n",
       "      <td>151.65</td>\n",
       "    </tr>\n",
       "  </tbody>\n",
       "</table>\n",
       "</div>"
      ],
      "text/plain": [
       "   Churn  tenure  MonthlyCharges  TotalCharges\n",
       "0      0       1           29.85         29.85\n",
       "1      0      34           56.95       1889.50\n",
       "2      1       2           53.85        108.15\n",
       "3      0      45           42.30       1840.75\n",
       "4      1       2           70.70        151.65"
      ]
     },
     "execution_count": 8,
     "metadata": {},
     "output_type": "execute_result"
    }
   ],
   "source": [
    "# - encoding 'Churn' values to binary values\n",
    "model_frame['Churn'] = model_frame['Churn'].apply(lambda x: int(x == 'Yes'))\n",
    "model_frame.head()"
   ]
  },
  {
   "cell_type": "code",
   "execution_count": 9,
   "id": "108b597a",
   "metadata": {},
   "outputs": [
    {
     "data": {
      "text/plain": [
       "Index(['tenure', 'MonthlyCharges', 'TotalCharges'], dtype='object')"
      ]
     },
     "execution_count": 9,
     "metadata": {},
     "output_type": "execute_result"
    }
   ],
   "source": [
    "predictors = model_frame.columns.drop('Churn')\n",
    "predictors"
   ]
  },
  {
   "cell_type": "code",
   "execution_count": 10,
   "id": "34522482",
   "metadata": {},
   "outputs": [
    {
     "data": {
      "text/plain": [
       "'Churn ~ tenure + MonthlyCharges + TotalCharges'"
      ]
     },
     "execution_count": 10,
     "metadata": {},
     "output_type": "execute_result"
    }
   ],
   "source": [
    "# --- Composing the fomula of the model\n",
    "\n",
    "# - right side of the formula\n",
    "formula = ' + '.join(predictors)\n",
    "\n",
    "# - left side of the formula\n",
    "formula = 'Churn ~ ' + formula\n",
    "\n",
    "formula"
   ]
  },
  {
   "cell_type": "code",
   "execution_count": 11,
   "id": "689faf3d",
   "metadata": {},
   "outputs": [
    {
     "name": "stdout",
     "output_type": "stream",
     "text": [
      "Optimization terminated successfully.\n",
      "         Current function value: 0.453372\n",
      "         Iterations 7\n"
     ]
    }
   ],
   "source": [
    "# - fitting BLR model to the data\n",
    "binomial_linear_model = smf.logit(formula=formula, data=model_frame).fit()"
   ]
  },
  {
   "cell_type": "code",
   "execution_count": 12,
   "id": "b0404b0f",
   "metadata": {},
   "outputs": [
    {
     "data": {
      "text/html": [
       "<table class=\"simpletable\">\n",
       "<caption>Logit Regression Results</caption>\n",
       "<tr>\n",
       "  <th>Dep. Variable:</th>         <td>Churn</td>      <th>  No. Observations:  </th>  <td>  7032</td> \n",
       "</tr>\n",
       "<tr>\n",
       "  <th>Model:</th>                 <td>Logit</td>      <th>  Df Residuals:      </th>  <td>  7028</td> \n",
       "</tr>\n",
       "<tr>\n",
       "  <th>Method:</th>                 <td>MLE</td>       <th>  Df Model:          </th>  <td>     3</td> \n",
       "</tr>\n",
       "<tr>\n",
       "  <th>Date:</th>            <td>Mon, 01 May 2023</td> <th>  Pseudo R-squ.:     </th>  <td>0.2170</td> \n",
       "</tr>\n",
       "<tr>\n",
       "  <th>Time:</th>                <td>20:16:58</td>     <th>  Log-Likelihood:    </th> <td> -3188.1</td>\n",
       "</tr>\n",
       "<tr>\n",
       "  <th>converged:</th>             <td>True</td>       <th>  LL-Null:           </th> <td> -4071.7</td>\n",
       "</tr>\n",
       "<tr>\n",
       "  <th>Covariance Type:</th>     <td>nonrobust</td>    <th>  LLR p-value:       </th>  <td> 0.000</td> \n",
       "</tr>\n",
       "</table>\n",
       "<table class=\"simpletable\">\n",
       "<tr>\n",
       "         <td></td>           <th>coef</th>     <th>std err</th>      <th>z</th>      <th>P>|z|</th>  <th>[0.025</th>    <th>0.975]</th>  \n",
       "</tr>\n",
       "<tr>\n",
       "  <th>Intercept</th>      <td>   -1.5988</td> <td>    0.117</td> <td>  -13.628</td> <td> 0.000</td> <td>   -1.829</td> <td>   -1.369</td>\n",
       "</tr>\n",
       "<tr>\n",
       "  <th>tenure</th>         <td>   -0.0671</td> <td>    0.005</td> <td>  -12.297</td> <td> 0.000</td> <td>   -0.078</td> <td>   -0.056</td>\n",
       "</tr>\n",
       "<tr>\n",
       "  <th>MonthlyCharges</th> <td>    0.0302</td> <td>    0.002</td> <td>   17.585</td> <td> 0.000</td> <td>    0.027</td> <td>    0.034</td>\n",
       "</tr>\n",
       "<tr>\n",
       "  <th>TotalCharges</th>   <td>    0.0001</td> <td> 6.14e-05</td> <td>    2.361</td> <td> 0.018</td> <td> 2.47e-05</td> <td>    0.000</td>\n",
       "</tr>\n",
       "</table>"
      ],
      "text/plain": [
       "<class 'statsmodels.iolib.summary.Summary'>\n",
       "\"\"\"\n",
       "                           Logit Regression Results                           \n",
       "==============================================================================\n",
       "Dep. Variable:                  Churn   No. Observations:                 7032\n",
       "Model:                          Logit   Df Residuals:                     7028\n",
       "Method:                           MLE   Df Model:                            3\n",
       "Date:                Mon, 01 May 2023   Pseudo R-squ.:                  0.2170\n",
       "Time:                        20:16:58   Log-Likelihood:                -3188.1\n",
       "converged:                       True   LL-Null:                       -4071.7\n",
       "Covariance Type:            nonrobust   LLR p-value:                     0.000\n",
       "==================================================================================\n",
       "                     coef    std err          z      P>|z|      [0.025      0.975]\n",
       "----------------------------------------------------------------------------------\n",
       "Intercept         -1.5988      0.117    -13.628      0.000      -1.829      -1.369\n",
       "tenure            -0.0671      0.005    -12.297      0.000      -0.078      -0.056\n",
       "MonthlyCharges     0.0302      0.002     17.585      0.000       0.027       0.034\n",
       "TotalCharges       0.0001   6.14e-05      2.361      0.018    2.47e-05       0.000\n",
       "==================================================================================\n",
       "\"\"\""
      ]
     },
     "execution_count": 12,
     "metadata": {},
     "output_type": "execute_result"
    }
   ],
   "source": [
    "binomial_linear_model.summary()"
   ]
  },
  {
   "cell_type": "code",
   "execution_count": 13,
   "id": "1120fc8a",
   "metadata": {},
   "outputs": [
    {
     "data": {
      "text/plain": [
       "array([0.31861382, 0.13162129, 0.47723817, 0.04417324, 0.60445587,\n",
       "       0.72962176, 0.47459352, 0.2095354 , 0.53216748, 0.02770232])"
      ]
     },
     "execution_count": 13,
     "metadata": {},
     "output_type": "execute_result"
    }
   ],
   "source": [
    "# - predicting the probabilities\n",
    "probabilities = binomial_linear_model.predict()\n",
    "probabilities[:10]"
   ]
  },
  {
   "cell_type": "code",
   "execution_count": 14,
   "id": "75954dbc",
   "metadata": {},
   "outputs": [
    {
     "data": {
      "text/plain": [
       "array([0, 0, 0, 0, 1, 1, 0, 0, 1, 0])"
      ]
     },
     "execution_count": 14,
     "metadata": {},
     "output_type": "execute_result"
    }
   ],
   "source": [
    "# - predicting binary labels, taking \\sigma = 0.5\n",
    "predictions = (probabilities > .5).astype('int')\n",
    "predictions[:10]"
   ]
  },
  {
   "cell_type": "code",
   "execution_count": 15,
   "id": "4fb26342",
   "metadata": {},
   "outputs": [
    {
     "data": {
      "text/html": [
       "<div>\n",
       "<style scoped>\n",
       "    .dataframe tbody tr th:only-of-type {\n",
       "        vertical-align: middle;\n",
       "    }\n",
       "\n",
       "    .dataframe tbody tr th {\n",
       "        vertical-align: top;\n",
       "    }\n",
       "\n",
       "    .dataframe thead th {\n",
       "        text-align: right;\n",
       "    }\n",
       "</style>\n",
       "<table border=\"1\" class=\"dataframe\">\n",
       "  <thead>\n",
       "    <tr style=\"text-align: right;\">\n",
       "      <th></th>\n",
       "      <th>observation</th>\n",
       "      <th>prediction</th>\n",
       "    </tr>\n",
       "  </thead>\n",
       "  <tbody>\n",
       "    <tr>\n",
       "      <th>0</th>\n",
       "      <td>0</td>\n",
       "      <td>0</td>\n",
       "    </tr>\n",
       "    <tr>\n",
       "      <th>1</th>\n",
       "      <td>0</td>\n",
       "      <td>0</td>\n",
       "    </tr>\n",
       "    <tr>\n",
       "      <th>2</th>\n",
       "      <td>1</td>\n",
       "      <td>0</td>\n",
       "    </tr>\n",
       "    <tr>\n",
       "      <th>3</th>\n",
       "      <td>0</td>\n",
       "      <td>0</td>\n",
       "    </tr>\n",
       "    <tr>\n",
       "      <th>4</th>\n",
       "      <td>1</td>\n",
       "      <td>1</td>\n",
       "    </tr>\n",
       "  </tbody>\n",
       "</table>\n",
       "</div>"
      ],
      "text/plain": [
       "   observation  prediction\n",
       "0            0           0\n",
       "1            0           0\n",
       "2            1           0\n",
       "3            0           0\n",
       "4            1           1"
      ]
     },
     "execution_count": 15,
     "metadata": {},
     "output_type": "execute_result"
    }
   ],
   "source": [
    "# - observed vs. predicted labels\n",
    "\n",
    "predictions_df = pd.DataFrame()\n",
    "\n",
    "predictions_df['observation'] = model_frame['Churn']\n",
    "predictions_df['prediction'] = predictions\n",
    "\n",
    "predictions_df.head()"
   ]
  },
  {
   "cell_type": "code",
   "execution_count": 16,
   "id": "b169acc4",
   "metadata": {},
   "outputs": [
    {
     "data": {
      "text/plain": [
       "0.4425"
      ]
     },
     "execution_count": 16,
     "metadata": {},
     "output_type": "execute_result"
    }
   ],
   "source": [
    "# - model true positive rate (hit rate)\n",
    "hit = (predictions_df['observation'] == 1)&(predictions_df['prediction'] == 1)\n",
    "hit = np.sum(hit)/np.sum(predictions_df['observation'] == 1)\n",
    "np.round(hit, 4)"
   ]
  },
  {
   "cell_type": "code",
   "execution_count": 17,
   "id": "e5a1d1eb",
   "metadata": {},
   "outputs": [
    {
     "data": {
      "text/plain": [
       "0.091"
      ]
     },
     "execution_count": 17,
     "metadata": {},
     "output_type": "execute_result"
    }
   ],
   "source": [
    "# - model false positive rate (fallse alarm rate)\n",
    "fa = (predictions_df['observation'] == 0)&(predictions_df['prediction'] == 1)\n",
    "fa = np.sum(fa)/np.sum(predictions_df['observation'] == 0)\n",
    "np.round(fa, 4)"
   ]
  },
  {
   "attachments": {},
   "cell_type": "markdown",
   "id": "8a6c4124",
   "metadata": {},
   "source": [
    "NOTE: Ubaci Miss Rate i Correct Rejection."
   ]
  },
  {
   "cell_type": "code",
   "execution_count": 18,
   "id": "a756eae3",
   "metadata": {},
   "outputs": [],
   "source": [
    "### --- Constructing the ROC curve of the model\n",
    "\n",
    "# - calculating model metrics for varying decision criteria \\sigma\n",
    "dec_criterion = np.arange(.01, .99, step=.01)\n",
    "\n",
    "observations = model_frame['Churn']\n",
    "\n",
    "hits = []\n",
    "fas = []\n",
    "accuracies = []\n",
    "\n",
    "for x in dec_criterion:\n",
    "    \n",
    "    predictions =  probabilities > x\n",
    "    \n",
    "    accuracy = np.sum(observations == predictions)/len(observations)\n",
    "    hit = np.sum((observations == 1)&(predictions == 1))/np.sum(observations == 1)\n",
    "    fa = np.sum((observations == 0)&(predictions == 1))/np.sum(observations == 0)\n",
    "    \n",
    "    accuracies.append(accuracy)\n",
    "    fas.append(fa)\n",
    "    hits.append(hit)"
   ]
  },
  {
   "cell_type": "code",
   "execution_count": 19,
   "id": "2858c9c8",
   "metadata": {},
   "outputs": [
    {
     "data": {
      "text/html": [
       "<div>\n",
       "<style scoped>\n",
       "    .dataframe tbody tr th:only-of-type {\n",
       "        vertical-align: middle;\n",
       "    }\n",
       "\n",
       "    .dataframe tbody tr th {\n",
       "        vertical-align: top;\n",
       "    }\n",
       "\n",
       "    .dataframe thead th {\n",
       "        text-align: right;\n",
       "    }\n",
       "</style>\n",
       "<table border=\"1\" class=\"dataframe\">\n",
       "  <thead>\n",
       "    <tr style=\"text-align: right;\">\n",
       "      <th></th>\n",
       "      <th>hit</th>\n",
       "      <th>fa</th>\n",
       "      <th>accuracy</th>\n",
       "      <th>dec</th>\n",
       "    </tr>\n",
       "  </thead>\n",
       "  <tbody>\n",
       "    <tr>\n",
       "      <th>0</th>\n",
       "      <td>0.998930</td>\n",
       "      <td>0.935890</td>\n",
       "      <td>0.312571</td>\n",
       "      <td>0.01</td>\n",
       "    </tr>\n",
       "    <tr>\n",
       "      <th>1</th>\n",
       "      <td>0.993579</td>\n",
       "      <td>0.889793</td>\n",
       "      <td>0.344994</td>\n",
       "      <td>0.02</td>\n",
       "    </tr>\n",
       "    <tr>\n",
       "      <th>2</th>\n",
       "      <td>0.989834</td>\n",
       "      <td>0.847182</td>\n",
       "      <td>0.375284</td>\n",
       "      <td>0.03</td>\n",
       "    </tr>\n",
       "    <tr>\n",
       "      <th>3</th>\n",
       "      <td>0.987694</td>\n",
       "      <td>0.809413</td>\n",
       "      <td>0.402446</td>\n",
       "      <td>0.04</td>\n",
       "    </tr>\n",
       "    <tr>\n",
       "      <th>4</th>\n",
       "      <td>0.979668</td>\n",
       "      <td>0.771063</td>\n",
       "      <td>0.428470</td>\n",
       "      <td>0.05</td>\n",
       "    </tr>\n",
       "  </tbody>\n",
       "</table>\n",
       "</div>"
      ],
      "text/plain": [
       "        hit        fa  accuracy   dec\n",
       "0  0.998930  0.935890  0.312571  0.01\n",
       "1  0.993579  0.889793  0.344994  0.02\n",
       "2  0.989834  0.847182  0.375284  0.03\n",
       "3  0.987694  0.809413  0.402446  0.04\n",
       "4  0.979668  0.771063  0.428470  0.05"
      ]
     },
     "execution_count": 19,
     "metadata": {},
     "output_type": "execute_result"
    }
   ],
   "source": [
    "roc_frame = pd.DataFrame()\n",
    "\n",
    "roc_frame['hit'] = hits\n",
    "roc_frame['fa'] = fas\n",
    "roc_frame['accuracy'] = accuracies\n",
    "roc_frame['dec'] = dec_criterion\n",
    "\n",
    "roc_frame.head()"
   ]
  },
  {
   "cell_type": "code",
   "execution_count": 20,
   "id": "fe8602e6",
   "metadata": {},
   "outputs": [
    {
     "data": {
      "text/html": [
       "<div>\n",
       "<style scoped>\n",
       "    .dataframe tbody tr th:only-of-type {\n",
       "        vertical-align: middle;\n",
       "    }\n",
       "\n",
       "    .dataframe tbody tr th {\n",
       "        vertical-align: top;\n",
       "    }\n",
       "\n",
       "    .dataframe thead th {\n",
       "        text-align: right;\n",
       "    }\n",
       "</style>\n",
       "<table border=\"1\" class=\"dataframe\">\n",
       "  <thead>\n",
       "    <tr style=\"text-align: right;\">\n",
       "      <th></th>\n",
       "      <th>hit</th>\n",
       "      <th>fa</th>\n",
       "      <th>accuracy</th>\n",
       "      <th>dec</th>\n",
       "      <th>diff</th>\n",
       "    </tr>\n",
       "  </thead>\n",
       "  <tbody>\n",
       "    <tr>\n",
       "      <th>0</th>\n",
       "      <td>0.998930</td>\n",
       "      <td>0.935890</td>\n",
       "      <td>0.312571</td>\n",
       "      <td>0.01</td>\n",
       "      <td>0.063040</td>\n",
       "    </tr>\n",
       "    <tr>\n",
       "      <th>1</th>\n",
       "      <td>0.993579</td>\n",
       "      <td>0.889793</td>\n",
       "      <td>0.344994</td>\n",
       "      <td>0.02</td>\n",
       "      <td>0.103787</td>\n",
       "    </tr>\n",
       "    <tr>\n",
       "      <th>2</th>\n",
       "      <td>0.989834</td>\n",
       "      <td>0.847182</td>\n",
       "      <td>0.375284</td>\n",
       "      <td>0.03</td>\n",
       "      <td>0.142652</td>\n",
       "    </tr>\n",
       "    <tr>\n",
       "      <th>3</th>\n",
       "      <td>0.987694</td>\n",
       "      <td>0.809413</td>\n",
       "      <td>0.402446</td>\n",
       "      <td>0.04</td>\n",
       "      <td>0.178281</td>\n",
       "    </tr>\n",
       "    <tr>\n",
       "      <th>4</th>\n",
       "      <td>0.979668</td>\n",
       "      <td>0.771063</td>\n",
       "      <td>0.428470</td>\n",
       "      <td>0.05</td>\n",
       "      <td>0.208605</td>\n",
       "    </tr>\n",
       "  </tbody>\n",
       "</table>\n",
       "</div>"
      ],
      "text/plain": [
       "        hit        fa  accuracy   dec      diff\n",
       "0  0.998930  0.935890  0.312571  0.01  0.063040\n",
       "1  0.993579  0.889793  0.344994  0.02  0.103787\n",
       "2  0.989834  0.847182  0.375284  0.03  0.142652\n",
       "3  0.987694  0.809413  0.402446  0.04  0.178281\n",
       "4  0.979668  0.771063  0.428470  0.05  0.208605"
      ]
     },
     "execution_count": 20,
     "metadata": {},
     "output_type": "execute_result"
    }
   ],
   "source": [
    "# - difference between the hit and false alarm rates\n",
    "roc_frame['diff'] = roc_frame['hit'] - roc_frame['fa']\n",
    "roc_frame.head()"
   ]
  },
  {
   "cell_type": "code",
   "execution_count": 21,
   "id": "6cb4b744",
   "metadata": {},
   "outputs": [
    {
     "data": {
      "text/plain": [
       "24"
      ]
     },
     "execution_count": 21,
     "metadata": {},
     "output_type": "execute_result"
    }
   ],
   "source": [
    "# - identifying the entry with the highest hit-false alarm rate difference\n",
    "diff_argmax = roc_frame['diff'].argmax()\n",
    "diff_argmax"
   ]
  },
  {
   "cell_type": "code",
   "execution_count": 22,
   "id": "935e1e94",
   "metadata": {},
   "outputs": [
    {
     "data": {
      "image/png": "[encoded data removed]",
      "text/plain": [
       "<Figure size 800x600 with 1 Axes>"
      ]
     },
     "metadata": {},
     "output_type": "display_data"
    }
   ],
   "source": [
    "# - plotting the ROC curve of the model\n",
    "# - the point with the biggest hit-false alarm rate difference is marked\n",
    "sns.lineplot(data=roc_frame, x='dec', y='dec', color='black')\n",
    "sns.lineplot(data=roc_frame, x='fa', y='hit')\n",
    "\n",
    "plt.scatter(x=roc_frame.loc[diff_argmax, 'fa'], y=roc_frame.loc[diff_argmax, 'hit'], c='r')\n",
    "plt.text(x=roc_frame.loc[diff_argmax, 'fa']-.08, y=roc_frame.loc[diff_argmax, 'hit'], s='Here!')\n",
    "\n",
    "sns.despine(offset=10, trim=True)\n",
    "plt.xlabel('True Negative (False Alarm) Rate', fontsize=14)\n",
    "plt.ylabel('True Positive (Hit) Rate', fontsize=14)\n",
    "plt.title('ROC Analysis for the Binomial Regression Model', fontsize=16);"
   ]
  },
  {
   "cell_type": "markdown",
   "id": "364bde08",
   "metadata": {},
   "source": [
    "### The Akaike Information Criterion (AIC)\n",
    "\n",
    "The Akaike Information Criterion (AIC) is a statistical measure used to evaluate the goodness-of-fit of a model. It is based on the principle of parsimony, which states that simpler models should be preferred over more complex ones, all else being equal.\n",
    "\n",
    "The AIC is defined as follows:\n",
    "\n",
    "$$AIC = -2\\ln(\\mathcal{L}) + 2k $$\n",
    "\n",
    "where $\\mathcal{L}$ is the model likelihood and $k$ is the number of parameters in the model.\n",
    "\n",
    "The AIC penalizes models with more parameters, by adding a penalty term $2k$ to the log-likelihood $-2\\ln(\\mathcal{L})$. This penalty term is larger for models with more parameters, and hence it discourages overfitting and encourages simpler models.\n",
    "\n",
    "The AIC can be used to compare different models and select the best one based on their AIC values. The model with the lowest AIC value is preferred, as it strikes a good balance between goodness-of-fit and simplicity."
   ]
  },
  {
   "cell_type": "code",
   "execution_count": 23,
   "id": "aac918a8",
   "metadata": {},
   "outputs": [
    {
     "data": {
      "text/plain": [
       "6384.226174634843"
      ]
     },
     "execution_count": 23,
     "metadata": {},
     "output_type": "execute_result"
    }
   ],
   "source": [
    "# - Akaike Information Criterion (AIC)\n",
    "binomial_linear_model.aic"
   ]
  },
  {
   "cell_type": "code",
   "execution_count": 24,
   "id": "b6d22e23",
   "metadata": {},
   "outputs": [
    {
     "data": {
      "text/plain": [
       "6382.226174634843"
      ]
     },
     "execution_count": 24,
     "metadata": {},
     "output_type": "execute_result"
    }
   ],
   "source": [
    "# - another way to compute AIC\n",
    "model_loglike = binomial_linear_model.llf\n",
    "model_loglike\n",
    "aic = -2*model_loglike + 2*len(predictors)\n",
    "aic"
   ]
  },
  {
   "cell_type": "markdown",
   "id": "2adf6d05",
   "metadata": {},
   "source": [
    "Model effect: comparison to the Null Model"
   ]
  },
  {
   "cell_type": "code",
   "execution_count": 25,
   "id": "7ea41f52",
   "metadata": {},
   "outputs": [
    {
     "data": {
      "text/plain": [
       "-3188.1130873174216"
      ]
     },
     "execution_count": 25,
     "metadata": {},
     "output_type": "execute_result"
    }
   ],
   "source": [
    "# - Log-likelihood of model\n",
    "model_loglike = binomial_linear_model.llf\n",
    "model_loglike"
   ]
  },
  {
   "cell_type": "code",
   "execution_count": 26,
   "id": "a162bc44",
   "metadata": {},
   "outputs": [
    {
     "data": {
      "text/plain": [
       "-4071.6775733255813"
      ]
     },
     "execution_count": 26,
     "metadata": {},
     "output_type": "execute_result"
    }
   ],
   "source": [
    "# Value of the constant-only loglikelihood\n",
    "null_loglike = binomial_linear_model.llnull\n",
    "null_loglike"
   ]
  },
  {
   "cell_type": "code",
   "execution_count": 27,
   "id": "817370b5",
   "metadata": {},
   "outputs": [
    {
     "data": {
      "text/plain": [
       "1767.1289720163195"
      ]
     },
     "execution_count": 27,
     "metadata": {},
     "output_type": "execute_result"
    }
   ],
   "source": [
    "# - Comparison to the Null Model which follows the Chi-Square distribution\n",
    "\n",
    "# - differece between deviances of the Null Model and our model:\n",
    "# - Likelihood ratio chi-squared statistic; -2*(llnull - llf)\n",
    "dev_diff = binomial_linear_model.llr\n",
    "dev_diff"
   ]
  },
  {
   "attachments": {},
   "cell_type": "markdown",
   "id": "647bd61a",
   "metadata": {},
   "source": [
    "Ovo ispod je Chi-Sq, testiraj npr."
   ]
  },
  {
   "cell_type": "code",
   "execution_count": 28,
   "id": "f12aad7e",
   "metadata": {},
   "outputs": [
    {
     "data": {
      "text/plain": [
       "1767.1289720163195"
      ]
     },
     "execution_count": 28,
     "metadata": {},
     "output_type": "execute_result"
    }
   ],
   "source": [
    "-2*(null_loglike - model_loglike)"
   ]
  },
  {
   "cell_type": "markdown",
   "id": "996d6ccc",
   "metadata": {},
   "source": [
    "### Target: Predict churn from all the predictors"
   ]
  },
  {
   "cell_type": "code",
   "execution_count": 29,
   "id": "82a28cd5",
   "metadata": {},
   "outputs": [
    {
     "data": {
      "text/plain": [
       "Intercept         0.202133\n",
       "tenure            0.935088\n",
       "MonthlyCharges    1.030660\n",
       "TotalCharges      1.000145\n",
       "dtype: float64"
      ]
     },
     "execution_count": 29,
     "metadata": {},
     "output_type": "execute_result"
    }
   ],
   "source": [
    "# - exponential of the parameters and AIC of the model using only numerical predictors (a reminder)\n",
    "np.exp(binomial_linear_model.params)"
   ]
  },
  {
   "cell_type": "code",
   "execution_count": 30,
   "id": "ebf7abeb",
   "metadata": {},
   "outputs": [
    {
     "data": {
      "text/plain": [
       "6384.226174634843"
      ]
     },
     "execution_count": 30,
     "metadata": {},
     "output_type": "execute_result"
    }
   ],
   "source": [
    "binomial_linear_model.aic"
   ]
  },
  {
   "cell_type": "code",
   "execution_count": 31,
   "id": "12c63be5",
   "metadata": {},
   "outputs": [
    {
     "data": {
      "text/html": [
       "<div>\n",
       "<style scoped>\n",
       "    .dataframe tbody tr th:only-of-type {\n",
       "        vertical-align: middle;\n",
       "    }\n",
       "\n",
       "    .dataframe tbody tr th {\n",
       "        vertical-align: top;\n",
       "    }\n",
       "\n",
       "    .dataframe thead th {\n",
       "        text-align: right;\n",
       "    }\n",
       "</style>\n",
       "<table border=\"1\" class=\"dataframe\">\n",
       "  <thead>\n",
       "    <tr style=\"text-align: right;\">\n",
       "      <th></th>\n",
       "      <th>tenure</th>\n",
       "      <th>PhoneService</th>\n",
       "      <th>Contract</th>\n",
       "      <th>PaperlessBilling</th>\n",
       "      <th>PaymentMethod</th>\n",
       "      <th>MonthlyCharges</th>\n",
       "      <th>TotalCharges</th>\n",
       "      <th>Churn</th>\n",
       "    </tr>\n",
       "  </thead>\n",
       "  <tbody>\n",
       "    <tr>\n",
       "      <th>0</th>\n",
       "      <td>1</td>\n",
       "      <td>No</td>\n",
       "      <td>Month-to-month</td>\n",
       "      <td>Yes</td>\n",
       "      <td>Electronic check</td>\n",
       "      <td>29.85</td>\n",
       "      <td>29.85</td>\n",
       "      <td>No</td>\n",
       "    </tr>\n",
       "    <tr>\n",
       "      <th>1</th>\n",
       "      <td>34</td>\n",
       "      <td>Yes</td>\n",
       "      <td>One year</td>\n",
       "      <td>No</td>\n",
       "      <td>Mailed check</td>\n",
       "      <td>56.95</td>\n",
       "      <td>1889.50</td>\n",
       "      <td>No</td>\n",
       "    </tr>\n",
       "    <tr>\n",
       "      <th>2</th>\n",
       "      <td>2</td>\n",
       "      <td>Yes</td>\n",
       "      <td>Month-to-month</td>\n",
       "      <td>Yes</td>\n",
       "      <td>Mailed check</td>\n",
       "      <td>53.85</td>\n",
       "      <td>108.15</td>\n",
       "      <td>Yes</td>\n",
       "    </tr>\n",
       "    <tr>\n",
       "      <th>3</th>\n",
       "      <td>45</td>\n",
       "      <td>No</td>\n",
       "      <td>One year</td>\n",
       "      <td>No</td>\n",
       "      <td>Bank transfer (automatic)</td>\n",
       "      <td>42.30</td>\n",
       "      <td>1840.75</td>\n",
       "      <td>No</td>\n",
       "    </tr>\n",
       "    <tr>\n",
       "      <th>4</th>\n",
       "      <td>2</td>\n",
       "      <td>Yes</td>\n",
       "      <td>Month-to-month</td>\n",
       "      <td>Yes</td>\n",
       "      <td>Electronic check</td>\n",
       "      <td>70.70</td>\n",
       "      <td>151.65</td>\n",
       "      <td>Yes</td>\n",
       "    </tr>\n",
       "  </tbody>\n",
       "</table>\n",
       "</div>"
      ],
      "text/plain": [
       "   tenure PhoneService        Contract PaperlessBilling  \\\n",
       "0       1           No  Month-to-month              Yes   \n",
       "1      34          Yes        One year               No   \n",
       "2       2          Yes  Month-to-month              Yes   \n",
       "3      45           No        One year               No   \n",
       "4       2          Yes  Month-to-month              Yes   \n",
       "\n",
       "               PaymentMethod  MonthlyCharges  TotalCharges Churn  \n",
       "0           Electronic check           29.85         29.85    No  \n",
       "1               Mailed check           56.95       1889.50    No  \n",
       "2               Mailed check           53.85        108.15   Yes  \n",
       "3  Bank transfer (automatic)           42.30       1840.75    No  \n",
       "4           Electronic check           70.70        151.65   Yes  "
      ]
     },
     "execution_count": 31,
     "metadata": {},
     "output_type": "execute_result"
    }
   ],
   "source": [
    "### --- Prepering the dataset\n",
    "\n",
    "# - droping the 'customerID' column\n",
    "model_frame = churn_data.drop(columns='customerID')\n",
    "model_frame.head()"
   ]
  },
  {
   "cell_type": "code",
   "execution_count": 32,
   "id": "10eed7f2",
   "metadata": {},
   "outputs": [
    {
     "name": "stdout",
     "output_type": "stream",
     "text": [
      "<class 'pandas.core.frame.DataFrame'>\n",
      "RangeIndex: 7032 entries, 0 to 7031\n",
      "Data columns (total 8 columns):\n",
      " #   Column            Non-Null Count  Dtype  \n",
      "---  ------            --------------  -----  \n",
      " 0   tenure            7032 non-null   int64  \n",
      " 1   PhoneService      7032 non-null   object \n",
      " 2   Contract          7032 non-null   object \n",
      " 3   PaperlessBilling  7032 non-null   object \n",
      " 4   PaymentMethod     7032 non-null   object \n",
      " 5   MonthlyCharges    7032 non-null   float64\n",
      " 6   TotalCharges      7032 non-null   float64\n",
      " 7   Churn             7032 non-null   object \n",
      "dtypes: float64(2), int64(1), object(5)\n",
      "memory usage: 439.6+ KB\n"
     ]
    }
   ],
   "source": [
    "model_frame.info()"
   ]
  },
  {
   "cell_type": "code",
   "execution_count": null,
   "id": "3e0d613a",
   "metadata": {},
   "outputs": [],
   "source": [
    "### --- Preparing the dataset\n",
    "\n",
    "# - droping the 'customerID' column\n",
    "model_frame = churn_data.drop(columns='customerID')\n",
    "model_frame.head()"
   ]
  },
  {
   "cell_type": "code",
   "execution_count": null,
   "id": "953b885b",
   "metadata": {},
   "outputs": [],
   "source": [
    "# - encoding 'Churn' column to binary values\n",
    "model_frame['Churn'] = model_frame['Churn'].apply(lambda x: int(x == 'Yes'))\n",
    "model_frame.head()"
   ]
  },
  {
   "cell_type": "code",
   "execution_count": null,
   "id": "ea6a7b2e",
   "metadata": {},
   "outputs": [],
   "source": [
    "predictors = model_frame.columns.drop('Churn')\n",
    "predictors"
   ]
  },
  {
   "cell_type": "code",
   "execution_count": null,
   "id": "e282b9a9",
   "metadata": {},
   "outputs": [],
   "source": [
    "# --- Composing the fomula of the model\n",
    "\n",
    "# - right side of the formula\n",
    "formula = ' + '.join(predictors)\n",
    "\n",
    "# - left side of the formula\n",
    "formula = 'Churn ~ ' + formula\n",
    "\n",
    "formula"
   ]
  },
  {
   "cell_type": "code",
   "execution_count": null,
   "id": "17a05170",
   "metadata": {},
   "outputs": [],
   "source": [
    "# - fitting BLR model to the data\n",
    "binomial_linear_model = smf.logit(formula=formula, data=model_frame).fit()"
   ]
  },
  {
   "cell_type": "code",
   "execution_count": null,
   "id": "824aa421",
   "metadata": {},
   "outputs": [],
   "source": [
    "binomial_linear_model.summary()"
   ]
  },
  {
   "cell_type": "code",
   "execution_count": null,
   "id": "fff519d1",
   "metadata": {},
   "outputs": [],
   "source": [
    "# - exponentials of the new model parameters\n",
    "np.exp(binomial_linear_model.params)"
   ]
  },
  {
   "cell_type": "code",
   "execution_count": null,
   "id": "71cf2422",
   "metadata": {},
   "outputs": [],
   "source": [
    "# - AIC of the new model\n",
    "binomial_linear_model.aic"
   ]
  },
  {
   "cell_type": "code",
   "execution_count": null,
   "id": "0436fba0",
   "metadata": {},
   "outputs": [],
   "source": [
    "### --- Constructing the ROC curve of the model\n",
    "\n",
    "# - calculating model metrics for varying decision criteria \\sigma\n",
    "dec_criterion = np.arange(.01, .99, step=.01)\n",
    "\n",
    "probabilities = binomial_linear_model.predict()\n",
    "observations = model_frame['Churn']\n",
    "\n",
    "hits = []\n",
    "fas = []\n",
    "accuracies = []\n",
    "\n",
    "for x in dec_criterion:\n",
    "    \n",
    "    predictions =  probabilities > x\n",
    "    \n",
    "    accuracy = np.sum(observations == predictions)/len(observations)\n",
    "    hit = np.sum((observations == 1)&(predictions == 1))/np.sum(observations == 1)\n",
    "    fa = np.sum((observations == 0)&(predictions == 1))/np.sum(observations == 0)\n",
    "    \n",
    "    accuracies.append(accuracy)\n",
    "    fas.append(fa)\n",
    "    hits.append(hit)"
   ]
  },
  {
   "cell_type": "code",
   "execution_count": null,
   "id": "c203f9a4",
   "metadata": {
    "scrolled": true
   },
   "outputs": [],
   "source": [
    "roc_frame = pd.DataFrame()\n",
    "\n",
    "roc_frame['hit'] = hits\n",
    "roc_frame['fa'] = fas\n",
    "roc_frame['accuracy'] = accuracies\n",
    "roc_frame['dec'] = dec_criterion\n",
    "roc_frame['diff'] = roc_frame['hit'] - roc_frame['fa']\n",
    "\n",
    "roc_frame.head()"
   ]
  },
  {
   "cell_type": "code",
   "execution_count": null,
   "id": "42af6ee7",
   "metadata": {},
   "outputs": [],
   "source": [
    "# - identifying the entry with the highest hit-false alarm rate difference\n",
    "diff_argmax = roc_frame['diff'].argmax()\n",
    "diff_argmax"
   ]
  },
  {
   "cell_type": "code",
   "execution_count": null,
   "id": "025eb5ae",
   "metadata": {},
   "outputs": [],
   "source": [
    "# - plotting the ROC curve of the model\n",
    "# - the point with the biggest hit-false alarm rate difference is marked\n",
    "sns.lineplot(data=roc_frame, x='dec', y='dec', color='black')\n",
    "sns.lineplot(data=roc_frame, x='fa', y='hit')\n",
    "\n",
    "plt.scatter(x=roc_frame.loc[diff_argmax, 'fa'], y=roc_frame.loc[diff_argmax, 'hit'], c='r')\n",
    "plt.text(x=roc_frame.loc[diff_argmax, 'fa']-.08, y=roc_frame.loc[diff_argmax, 'hit'], s='Here!')\n",
    "\n",
    "sns.despine(offset=10, trim=True)\n",
    "plt.xlabel('True Negative (False Alarm) Rate', fontsize=14)\n",
    "plt.ylabel('True Positive (Hit) Rate', fontsize=14)\n",
    "plt.title('ROC Analysis for the Binomial Regression Model', fontsize=16);"
   ]
  },
  {
   "cell_type": "markdown",
   "id": "8fde9117",
   "metadata": {},
   "source": [
    "## 2. BLR using scikit-learn"
   ]
  },
  {
   "cell_type": "markdown",
   "id": "8c7b32b3",
   "metadata": {},
   "source": [
    "### Target: Predicting churn from numerical predictors"
   ]
  },
  {
   "cell_type": "code",
   "execution_count": null,
   "id": "6da40698",
   "metadata": {},
   "outputs": [],
   "source": [
    "# - import scikit-learn\n",
    "from sklearn.linear_model import LogisticRegression\n",
    "from sklearn.metrics import confusion_matrix\n",
    "from sklearn.preprocessing import LabelEncoder, OneHotEncoder"
   ]
  },
  {
   "cell_type": "code",
   "execution_count": null,
   "id": "9e5b1f59",
   "metadata": {},
   "outputs": [],
   "source": [
    "### --- Preparing the variables \n",
    "\n",
    "# - feature matrix\n",
    "X = churn_data[['tenure', 'MonthlyCharges', 'TotalCharges']].values\n",
    "\n",
    "# - target variable\n",
    "y = churn_data['Churn'].apply(lambda x: int(x == 'Yes'))"
   ]
  },
  {
   "cell_type": "code",
   "execution_count": null,
   "id": "c4f607ab",
   "metadata": {},
   "outputs": [],
   "source": [
    "## --- Fitting the logistic model to the numerical data\n",
    "log_reg = LogisticRegression()\n",
    "log_reg.fit(X, y)"
   ]
  },
  {
   "cell_type": "code",
   "execution_count": null,
   "id": "35970a63",
   "metadata": {},
   "outputs": [],
   "source": [
    "# - coefficients of the model\n",
    "log_reg.coef_, log_reg.intercept_"
   ]
  },
  {
   "cell_type": "code",
   "execution_count": null,
   "id": "32021d84",
   "metadata": {},
   "outputs": [],
   "source": [
    "# - coefficients of the model\n",
    "log_reg.coef_, log_reg.intercept_"
   ]
  },
  {
   "cell_type": "code",
   "execution_count": null,
   "id": "24d5e789",
   "metadata": {},
   "outputs": [],
   "source": [
    "# - model's accuracy\n",
    "round(log_reg.score(X, y), 4)"
   ]
  },
  {
   "cell_type": "code",
   "execution_count": null,
   "id": "3f4db258",
   "metadata": {},
   "outputs": [],
   "source": [
    "# - confusion matrix for the given data\n",
    "y_pred = log_reg.predict(X)\n",
    "confusion_matrix(y, y_pred)"
   ]
  },
  {
   "cell_type": "markdown",
   "id": "dd58a9de",
   "metadata": {},
   "source": [
    "### Target: Predicting churn from all the predictors"
   ]
  },
  {
   "cell_type": "code",
   "execution_count": null,
   "id": "10a14d6a",
   "metadata": {},
   "outputs": [],
   "source": [
    "churn_data.head()"
   ]
  },
  {
   "cell_type": "code",
   "execution_count": null,
   "id": "89b557e9",
   "metadata": {},
   "outputs": [],
   "source": [
    "### --- Composing the feature matrix\n",
    "\n",
    "# - dropping all the non-numerical and non-binary categorical columns\n",
    "X0 = churn_data.drop(columns=['customerID', 'Contract', 'PaymentMethod', 'Churn'])\n",
    "\n",
    "# - encoding binary categorical features to binary values\n",
    "X0['PaperlessBilling'] = X0['PaperlessBilling'].apply(lambda x: int(x == 'Yes'))\n",
    "X0['PhoneService'] = X0['PhoneService'].apply(lambda x: int(x == 'Yes'))\n",
    "\n",
    "X0.head()"
   ]
  },
  {
   "cell_type": "code",
   "execution_count": null,
   "id": "02d095fe",
   "metadata": {},
   "outputs": [],
   "source": [
    "# - casting the data frame into a matrix\n",
    "X0 = X0.values\n",
    "X0"
   ]
  },
  {
   "cell_type": "code",
   "execution_count": null,
   "id": "3e73a538",
   "metadata": {},
   "outputs": [],
   "source": [
    "# - categories of the 'Contract' variable\n",
    "churn_data['Contract'].unique()"
   ]
  },
  {
   "cell_type": "code",
   "execution_count": null,
   "id": "377975be",
   "metadata": {},
   "outputs": [],
   "source": [
    "# - categories of the 'PaymentMethod' variable\n",
    "churn_data['PaymentMethod'].unique()"
   ]
  },
  {
   "cell_type": "code",
   "execution_count": null,
   "id": "f06e8690",
   "metadata": {},
   "outputs": [],
   "source": [
    "# - we want to recreate the previous statsmodels model that was using all the predictors\n",
    "# - to achieve this we one-hot (dummy) encode non-binary categorical predictors\n",
    "# - statsmodels chooses the first category in order of appearance in the dataset as the reference category\n",
    "# - we pass the reference category manually as an argument to the OneHotEncoder\n",
    "\n",
    "enc_contract = OneHotEncoder(drop=['Month-to-month'], sparse=False)\n",
    "dummy_contract = enc_contract.fit_transform(churn_data['Contract'].values.reshape(-1, 1))\n",
    "\n",
    "enc_payment = OneHotEncoder(drop=['Bank transfer (automatic)'], sparse=False)\n",
    "dummy_payment = enc_payment.fit_transform(churn_data['PaymentMethod'].values.reshape(-1, 1))"
   ]
  },
  {
   "cell_type": "code",
   "execution_count": null,
   "id": "d1fc2a31",
   "metadata": {},
   "outputs": [],
   "source": [
    "# - concatenating values of the numerical predictors and encoded binary values with the encoded non-binary values\n",
    "# - into a feature matrix\n",
    "X = np.concatenate((X0, dummy_contract, dummy_payment), axis=-1)\n",
    "display(X)\n",
    "\n",
    "# - target variable; encoding to binary values\n",
    "y = churn_data['Churn'].apply(lambda x: int(x == 'Yes'))"
   ]
  },
  {
   "cell_type": "code",
   "execution_count": null,
   "id": "9b8227ff",
   "metadata": {},
   "outputs": [],
   "source": [
    "### --- Fitting the logistic model to all the data\n",
    "log_reg = LogisticRegression(solver='newton-cg', penalty='none')\n",
    "log_reg.fit(X, y)"
   ]
  },
  {
   "cell_type": "code",
   "execution_count": null,
   "id": "eeaec82d",
   "metadata": {},
   "outputs": [],
   "source": [
    "# - model's accuracy\n",
    "round(log_reg.score(X, y), 4)"
   ]
  },
  {
   "cell_type": "code",
   "execution_count": null,
   "id": "c5268b66",
   "metadata": {},
   "outputs": [],
   "source": [
    "# - exponential of the model parameters\n",
    "# - ordering corresponds to the ordering of the features in the feature matrix\n",
    "np.exp(log_reg.coef_), np.exp(log_reg.intercept_)"
   ]
  },
  {
   "cell_type": "code",
   "execution_count": null,
   "id": "61b1d691",
   "metadata": {},
   "outputs": [],
   "source": [
    "# - confusion matrix for the given data\n",
    "y_pred = log_reg.predict(X)\n",
    "confusion_matrix(y, y_pred)"
   ]
  },
  {
   "cell_type": "markdown",
   "id": "51bbe1e2",
   "metadata": {},
   "source": [
    "## 3. Regularization of BLR"
   ]
  },
  {
   "cell_type": "code",
   "execution_count": null,
   "id": "33f8f433",
   "metadata": {},
   "outputs": [],
   "source": []
  },
  {
   "cell_type": "markdown",
   "id": "b04e221f",
   "metadata": {},
   "source": [
    "### Further Reading"
   ]
  },
  {
   "cell_type": "code",
   "execution_count": null,
   "id": "5fe021d9",
   "metadata": {},
   "outputs": [],
   "source": []
  },
  {
   "cell_type": "markdown",
   "id": "8ebaade5",
   "metadata": {},
   "source": [
    "***"
   ]
  },
  {
   "cell_type": "code",
   "execution_count": null,
   "id": "8fd752e9",
   "metadata": {},
   "outputs": [],
   "source": []
  }
 ],
 "metadata": {
  "kernelspec": {
   "display_name": "Python 3",
   "language": "python",
   "name": "python3"
  },
  "language_info": {
   "codemirror_mode": {
    "name": "ipython",
    "version": 3
   },
   "file_extension": ".py",
   "mimetype": "text/x-python",
   "name": "python",
   "nbconvert_exporter": "python",
   "pygments_lexer": "ipython3",
   "version": "3.9.16"
  }
 },
 "nbformat": 4,
 "nbformat_minor": 5
}
