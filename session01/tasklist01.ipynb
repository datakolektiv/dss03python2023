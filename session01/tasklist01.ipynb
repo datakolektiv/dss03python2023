{
 "cells": [
  {
   "cell_type": "markdown",
   "id": "f2edda15",
   "metadata": {},
   "source": [
    "# DATA SCIENCE SESSIONS VOL. 3\n",
    "### A Foundational Python Data Science Course\n",
    "## Tasklist 01: Feeling Python for Data Science: Basics + Intuitive Understanding of Python\n",
    "\n",
    "[&larr; Back to course webpage](https://datakolektiv.com/)\n",
    "\n",
    "Feedback should be send to [goran.milovanovic@datakolektiv.com](mailto:goran.milovanovic@datakolektiv.com). \n",
    "\n",
    "These notebooks accompany the DATA SCIENCE SESSIONS VOL. 3 :: A Foundational Python Data Science Course."
   ]
  },
  {
   "cell_type": "markdown",
   "id": "2da6c10e",
   "metadata": {},
   "source": [
    "![](../img/IntroRDataScience_NonTech-1.jpg)"
   ]
  },
  {
   "cell_type": "markdown",
   "id": "8cb89fa6",
   "metadata": {},
   "source": [
    "### Lecturers\n",
    "\n",
    "[Goran S. Milovanović, PhD, DataKolektiv, Chief Scientist & Owner](https://www.linkedin.com/in/gmilovanovic/)\n",
    "\n",
    "[Aleksandar Cvetković, PhD, DataKolektiv, Consultant](https://www.linkedin.com/in/alegzndr/)\n",
    "\n",
    "[Ilija Lazarević, MA, DataKolektiv, Consultant](https://www.linkedin.com/in/ilijalazarevic/)"
   ]
  },
  {
   "cell_type": "markdown",
   "id": "7e8cd829",
   "metadata": {},
   "source": [
    "![](../img/DK_Logo_100.png)"
   ]
  },
  {
   "cell_type": "markdown",
   "id": "986826ef",
   "metadata": {},
   "source": [
    "## Intro \n",
    "\n",
    "In this tasklist you'll get to exercise on fundamental Python data sructures you've learned about during your first live session. While some of the exercises cover conepts exactly as you've covered them in the live session, other exercises will introduce some new concepts. The details on these new conepts are purposefully left out, and you'll be required to search online for their explanations and examples. During your work as data scientist/programmer you'll be faced with new stuff almost on everyday basis. Knowing how to read, understand and apply online resources in these cases is an essential skill. This is what we want you to exercise as well. \n",
    "\n",
    "Some of those *new concepts* exercises will explicitly hint you what new method you should apply, leaving out the details. Others, however, will require of you to find the appropriate method yourself. Again, this is to underline the fact that asking the right question, recognizing the right thing, and properly implementing it to your problem is actually an indication of how good a data scientist/programmer you are, not the contrary. \n",
    "\n",
    "And now, let's dive in:)"
   ]
  },
  {
   "cell_type": "markdown",
   "id": "48a8f067",
   "metadata": {},
   "source": [
    "## Functions"
   ]
  },
  {
   "cell_type": "markdown",
   "id": "892bdc36",
   "metadata": {},
   "source": [
    "**01.** Write a function `func_a` which calculates sum of two given numbers."
   ]
  },
  {
   "cell_type": "code",
   "execution_count": null,
   "id": "7eb0402c",
   "metadata": {},
   "outputs": [],
   "source": [
    "### your code here ###"
   ]
  },
  {
   "cell_type": "markdown",
   "id": "4aac7150",
   "metadata": {},
   "source": [
    "**02.** Write a function `func_b` which calculates 25% of a given number."
   ]
  },
  {
   "cell_type": "code",
   "execution_count": null,
   "id": "ec7a8e80",
   "metadata": {},
   "outputs": [],
   "source": [
    "### your code here ###"
   ]
  },
  {
   "cell_type": "markdown",
   "id": "cefa3002",
   "metadata": {},
   "source": [
    "**03.** Using a function composition of functions `func_a` and `func_b` calculate 25% of a sum of 33 and 67."
   ]
  },
  {
   "cell_type": "code",
   "execution_count": null,
   "id": "221ef923",
   "metadata": {},
   "outputs": [],
   "source": [
    "### your code here ###"
   ]
  },
  {
   "cell_type": "markdown",
   "id": "b18f4916",
   "metadata": {},
   "source": [
    "**04.** Write a function `circumference` which calculates circumference of a circle for a given `radius`."
   ]
  },
  {
   "cell_type": "code",
   "execution_count": null,
   "id": "4ba9d469",
   "metadata": {},
   "outputs": [],
   "source": [
    "### your code here ###"
   ]
  },
  {
   "cell_type": "markdown",
   "id": "a7f25fd1",
   "metadata": {},
   "source": [
    "## Strings"
   ]
  },
  {
   "cell_type": "markdown",
   "id": "bc122d36",
   "metadata": {},
   "source": [
    "**05.** Use `.replace()` method on a string `'caparapa'` to change it to `'cipiripi'`.\n",
    "\n",
    "*Hint: You are encouraged to use The Internet and search for examples of how the* `.replace()` *method works:)*"
   ]
  },
  {
   "cell_type": "code",
   "execution_count": null,
   "id": "1bebe791",
   "metadata": {},
   "outputs": [],
   "source": [
    "### your code here ###"
   ]
  },
  {
   "cell_type": "markdown",
   "id": "e5130bbf",
   "metadata": {},
   "source": [
    "**06.** Change all capital letters in the string `'wAvEs'` to small letters. \n",
    "\n",
    "*Hint: Again, you are encouraged to use The Internet to search for the appropriate string method.*"
   ]
  },
  {
   "cell_type": "code",
   "execution_count": null,
   "id": "fc27d3a7",
   "metadata": {},
   "outputs": [],
   "source": [
    "### your code here ###"
   ]
  },
  {
   "cell_type": "markdown",
   "id": "bcbf7a68",
   "metadata": {},
   "source": [
    "**07.** Using string indexing, select character `'S'` from the string `'missiSsippi'`."
   ]
  },
  {
   "cell_type": "code",
   "execution_count": null,
   "id": "e2f29f4b",
   "metadata": {},
   "outputs": [],
   "source": [
    "### your code here ###"
   ]
  },
  {
   "cell_type": "markdown",
   "id": "37a4e1a9",
   "metadata": {},
   "source": [
    "**08.** Using index slicing extract the string `'lips'` from the string `'eclipse'`."
   ]
  },
  {
   "cell_type": "code",
   "execution_count": null,
   "id": "f5b4cfaf",
   "metadata": {},
   "outputs": [],
   "source": [
    "### your code here ###"
   ]
  },
  {
   "cell_type": "markdown",
   "id": "5c20c811",
   "metadata": {},
   "source": [
    "## Lists"
   ]
  },
  {
   "cell_type": "markdown",
   "id": "183ee0f4",
   "metadata": {},
   "source": [
    "**09.** Using list indexing, select the character `'x'` from the given lists."
   ]
  },
  {
   "cell_type": "code",
   "execution_count": null,
   "id": "6f594032",
   "metadata": {},
   "outputs": [],
   "source": [
    "l_1 = ['o', 'o', 'x', 'o']\n",
    "\n",
    "### your code here ###"
   ]
  },
  {
   "cell_type": "code",
   "execution_count": null,
   "id": "38e497fe",
   "metadata": {},
   "outputs": [],
   "source": [
    "l_2 = ['o', ['x', 'o'], 'o', 'o']\n",
    "\n",
    "### your code here ###"
   ]
  },
  {
   "cell_type": "code",
   "execution_count": null,
   "id": "6e6bc382",
   "metadata": {},
   "outputs": [],
   "source": [
    "l_3 = ['o', 'o', 'o', [['o', 'o', 'x'], 'o', 'o'], 'o']\n",
    "\n",
    "### your code here ###"
   ]
  },
  {
   "cell_type": "markdown",
   "id": "0e85c67c",
   "metadata": {},
   "source": [
    "**10.**\n",
    "\n",
    "**a)** Using `.pop()` method extract character `'t'` from the list `l_4` and assign it to a variable `char`. Then, print out `l_4`. What happens? "
   ]
  },
  {
   "cell_type": "code",
   "execution_count": null,
   "id": "16bcb1e6",
   "metadata": {},
   "outputs": [],
   "source": [
    "l_4 = ['h', 'a', 't']\n",
    "\n",
    "### your code here ###"
   ]
  },
  {
   "cell_type": "markdown",
   "id": "6ff90638",
   "metadata": {},
   "source": [
    "**b)** Append `char` to the end of the list `l_5`."
   ]
  },
  {
   "cell_type": "code",
   "execution_count": null,
   "id": "7e8df0de",
   "metadata": {},
   "outputs": [],
   "source": [
    "l_5 = ['c', 'a']\n",
    "\n",
    "### your code here ###"
   ]
  },
  {
   "cell_type": "markdown",
   "id": "ff161107",
   "metadata": {},
   "source": [
    "**c)** Find a way to insert `char` into the list l_6, so that its elements spell out `'Python'`."
   ]
  },
  {
   "cell_type": "code",
   "execution_count": null,
   "id": "a96468a8",
   "metadata": {},
   "outputs": [],
   "source": [
    "l_6 = ['P', 'y', 'h', 'o', 'n']\n",
    "\n",
    "### your code here ###"
   ]
  },
  {
   "cell_type": "markdown",
   "id": "9cbdc414",
   "metadata": {},
   "source": [
    "**11.** Using `.sort()` method sort the elements of the list `l_7` into ascending order. Then, using the same method, find a way to sort elements of the list `l_8` into descending order."
   ]
  },
  {
   "cell_type": "code",
   "execution_count": null,
   "id": "27f8858a",
   "metadata": {},
   "outputs": [],
   "source": [
    "l_7 = [2, 9, 5, 0, 7, 1, 3]\n",
    "\n",
    "### your code here ###"
   ]
  },
  {
   "cell_type": "code",
   "execution_count": null,
   "id": "dc48db3c",
   "metadata": {},
   "outputs": [],
   "source": [
    "l_8 = [3, 7, 4, 2, 0, 5, 1, 6]\n",
    "\n",
    "### your code here ###"
   ]
  },
  {
   "cell_type": "markdown",
   "id": "a057ccfd",
   "metadata": {},
   "source": [
    "## Dictionaries "
   ]
  },
  {
   "cell_type": "markdown",
   "id": "a2be41c0",
   "metadata": {},
   "source": [
    "**12.** Construct a dictionary with several elements where `key:value` pair corresponds to `State:Capital` pair."
   ]
  },
  {
   "cell_type": "code",
   "execution_count": null,
   "id": "35d33d57",
   "metadata": {},
   "outputs": [],
   "source": [
    "### your code here ###"
   ]
  },
  {
   "cell_type": "markdown",
   "id": "1a6dae70",
   "metadata": {},
   "source": [
    "**13.** Use appropriate dictionary methods to \n",
    "\n",
    "- List all the states \n",
    "- List all the capital cities \n",
    "- List all the `(State, Capital)` tupples \n",
    "\n",
    "from the dictionary you defined in **12**."
   ]
  },
  {
   "cell_type": "code",
   "execution_count": null,
   "id": "be0ec569",
   "metadata": {},
   "outputs": [],
   "source": [
    "### your code here ###"
   ]
  },
  {
   "cell_type": "code",
   "execution_count": null,
   "id": "910b6a0f",
   "metadata": {},
   "outputs": [],
   "source": [
    "### your code here ###"
   ]
  },
  {
   "cell_type": "code",
   "execution_count": null,
   "id": "fa1b7b18",
   "metadata": {},
   "outputs": [],
   "source": [
    "### your code here ###"
   ]
  },
  {
   "cell_type": "markdown",
   "id": "d933275b",
   "metadata": {},
   "source": [
    "**14.** Using appropriate keys and indices extract the character `'x'` from the following dictionaries."
   ]
  },
  {
   "cell_type": "code",
   "execution_count": null,
   "id": "862111ff",
   "metadata": {},
   "outputs": [],
   "source": [
    "d_1 = {'key1':'o', 'key2':'-', 'key3':'x'}\n",
    "\n",
    "### your code here ###"
   ]
  },
  {
   "cell_type": "code",
   "execution_count": null,
   "id": "6f38d327",
   "metadata": {},
   "outputs": [],
   "source": [
    "d_2 = {'key1':['o', 'x', 'o'], 'key2':'-', 'key3':'o'}\n",
    "\n",
    "### your code here ###"
   ]
  },
  {
   "cell_type": "code",
   "execution_count": null,
   "id": "2de7e4ea",
   "metadata": {},
   "outputs": [],
   "source": [
    "d_3 = {'key1':'-', 'key2':{'nested_key1':'o', 'nested_key2':'x'}, 'key3':'o'}\n",
    "\n",
    "### your code here ###"
   ]
  },
  {
   "cell_type": "markdown",
   "id": "4694b294",
   "metadata": {},
   "source": [
    "## Sets"
   ]
  },
  {
   "cell_type": "markdown",
   "id": "dc342250",
   "metadata": {},
   "source": [
    "**15.** Sets in Python always contain unique elements only, while lists can have repeating elements. Try using `set()` function on the given list to see it for yourself!"
   ]
  },
  {
   "cell_type": "code",
   "execution_count": null,
   "id": "d5a6764b",
   "metadata": {},
   "outputs": [],
   "source": [
    "l_9 = [3, 4, 4, 5, 3, 1, 1, 1, 3, 4, 1, 5, 7, 2, 6, 1]\n",
    "\n",
    "### your code here ###"
   ]
  },
  {
   "cell_type": "markdown",
   "id": "c6bf23b9",
   "metadata": {},
   "source": [
    "**16.** From the set you obtained in **15**, using an appropriate set method, form a set\n",
    "- with all the digits 0-9\n",
    "- containing only odd numbers"
   ]
  },
  {
   "cell_type": "code",
   "execution_count": null,
   "id": "710fee3a",
   "metadata": {},
   "outputs": [],
   "source": [
    "### your code here ###"
   ]
  },
  {
   "cell_type": "code",
   "execution_count": null,
   "id": "ffa8de28",
   "metadata": {},
   "outputs": [],
   "source": [
    "### your code here ###"
   ]
  },
  {
   "cell_type": "markdown",
   "id": "d9518477",
   "metadata": {},
   "source": [
    "DataKolektiv, 2022/23.\n",
    "\n",
    "[hello@datakolektiv.com](mailto:goran.milovanovic@datakolektiv.com)\n",
    "\n",
    "![](../img/DK_Logo_100.png)"
   ]
  },
  {
   "cell_type": "markdown",
   "id": "b699e18b",
   "metadata": {},
   "source": [
    "<font size=1>License: [GPLv3](https://www.gnu.org/licenses/gpl-3.0.txt) This Notebook is free software: you can redistribute it and/or modify it under the terms of the GNU General Public License as published by the Free Software Foundation, either version 3 of the License, or (at your option) any later version. This Notebook is distributed in the hope that it will be useful, but WITHOUT ANY WARRANTY; without even the implied warranty of MERCHANTABILITY or FITNESS FOR A PARTICULAR PURPOSE. See the GNU General Public License for more details. You should have received a copy of the GNU General Public License along with this Notebook. If not, see http://www.gnu.org/licenses/.</font>"
   ]
  },
  {
   "cell_type": "code",
   "execution_count": null,
   "id": "efc728a1",
   "metadata": {},
   "outputs": [],
   "source": []
  }
 ],
 "metadata": {
  "kernelspec": {
   "display_name": "Python 3",
   "language": "python",
   "name": "python3"
  },
  "language_info": {
   "codemirror_mode": {
    "name": "ipython",
    "version": 3
   },
   "file_extension": ".py",
   "mimetype": "text/x-python",
   "name": "python",
   "nbconvert_exporter": "python",
   "pygments_lexer": "ipython3",
   "version": "3.8.8"
  }
 },
 "nbformat": 4,
 "nbformat_minor": 5
}
