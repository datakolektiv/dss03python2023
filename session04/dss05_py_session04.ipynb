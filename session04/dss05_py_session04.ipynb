{
 "cells": [
  {
   "cell_type": "markdown",
   "id": "8756e5a5",
   "metadata": {},
   "source": [
    "# DATA SCIENCE SESSIONS VOL. 3\n",
    "### A Foundational Python Data Science Course\n",
    "## Session 04: Numpy: basic vector arithmetic, linear algebra, and broadcasting.\n",
    "\n",
    "[&larr; Back to course webpage](https://datakolektiv.com/)\n",
    "\n",
    "Feedback should be send to [goran.milovanovic@datakolektiv.com](mailto:goran.milovanovic@datakolektiv.com). \n",
    "\n",
    "These notebooks accompany the DATA SCIENCE SESSIONS VOL. 3 :: A Foundational Python Data Science Course."
   ]
  },
  {
   "cell_type": "markdown",
   "id": "7eae5285",
   "metadata": {},
   "source": [
    "![](../img/IntroRDataScience_NonTech-1.jpg)"
   ]
  },
  {
   "cell_type": "markdown",
   "id": "7f805ab6",
   "metadata": {},
   "source": [
    "### Lecturers\n",
    "\n",
    "[Goran S. Milovanović, PhD, DataKolektiv, Chief Scientist & Owner](https://www.linkedin.com/in/gmilovanovic/)\n",
    "\n",
    "[Aleksandar Cvetković, PhD, DataKolektiv, Consultant](https://www.linkedin.com/in/alegzndr/)\n",
    "\n",
    "[Ilija Lazarević, MA, DataKolektiv, Consultant](https://www.linkedin.com/in/ilijalazarevic/)"
   ]
  },
  {
   "cell_type": "markdown",
   "id": "013596c4",
   "metadata": {},
   "source": [
    "![](../img/DK_Logo_100.png)"
   ]
  },
  {
   "cell_type": "markdown",
   "id": "02296118",
   "metadata": {},
   "source": [
    "***"
   ]
  },
  {
   "cell_type": "markdown",
   "id": "f4fd1d5d",
   "metadata": {},
   "source": [
    "## 0. What do we want to do today?\n",
    "\n",
    "Our goal in Session 04 is to learn the basics of **Numpy**, a powerful number-crunching machinery that turn Python into a **vector programming language** - a kind of language ideally suited for mathematical statistics and Data Science.  \n",
    "\n",
    "Along the way we will begin to understand how Numpy runs under Pandas and what is the relationship between them. And the basics of vector and matrix arithmetic in Numpy, of course. And how to vectorize a function with Numpy. And plenty of other things as well! "
   ]
  },
  {
   "cell_type": "markdown",
   "id": "d3d2e9f9",
   "metadata": {},
   "source": [
    "### Where am I?\n"
   ]
  },
  {
   "cell_type": "code",
   "execution_count": 1,
   "id": "9db969f7",
   "metadata": {},
   "outputs": [
    {
     "name": "stdout",
     "output_type": "stream",
     "text": [
      "C:\\Users\\alegza\\Desktop\\Data_Science\\dss03python2023\\session04\n",
      "['.ipynb_checkpoints', 'dss03_py_session04.html', 'dss03_py_session04.ipynb', 'dss05_py_session04.ipynb', 'tasklist04.html', 'tasklist04.ipynb', 'tasklist04_solutions.html', 'tasklist04_solutions.ipynb', '_data']\n",
      "['just_numbers.txt', 'MovieRatings.csv', 'numpy_array.csv', 'numpy_array_2.csv']\n"
     ]
    }
   ],
   "source": [
    "import os\n",
    "work_dir = os.getcwd()\n",
    "print(work_dir)\n",
    "print(os.listdir(work_dir))\n",
    "data_dir = os.path.join(work_dir, \"_data\")\n",
    "print(os.listdir(data_dir))"
   ]
  },
  {
   "cell_type": "markdown",
   "id": "c4edb1b9",
   "metadata": {},
   "source": [
    "## 1. Arrays"
   ]
  },
  {
   "cell_type": "code",
   "execution_count": 2,
   "id": "25934432",
   "metadata": {},
   "outputs": [],
   "source": [
    "# first, of course, we import numpy\n",
    "import numpy as np\n",
    "\n",
    "# and we'll need pandas at some point as well\n",
    "import pandas as pd"
   ]
  },
  {
   "cell_type": "markdown",
   "id": "79ace330",
   "metadata": {},
   "source": [
    "As Data Frames are the main actors of Pandas module, so are the _**arrays**_ the main actors of Numpy module. The most well-known arrays are *vectors* and *matrices*, and are types of arrays that we will be working throughout this course. Mathematically, arrays represent _**tensors**_. \n",
    "\n",
    "Each array/tensor is a mathematical object containing multitude of values, and _**array dimensionality**_ represents a number of *indices* we need in order to locate a given value within a given array. "
   ]
  },
  {
   "cell_type": "markdown",
   "id": "9b405680",
   "metadata": {},
   "source": [
    "For example, let's observe the following **vector**:\n",
    "\n",
    "$$\\mathbf{v} = (2, 0, -1, 5).$$\n",
    "\n",
    "We want to locate value -1. When asked *Where is -1 located?*, we answer: *On the **3rd** position.*. Se what happened there? We needed just one index in order to locate it. Therefore, **vectors are one-dimensional arrays**."
   ]
  },
  {
   "cell_type": "markdown",
   "id": "8aae995b",
   "metadata": {},
   "source": [
    "More generally, we write vectors as\n",
    "\n",
    "$$\\mathbf{v} = (v_1, v_2, \\ldots, v_n),$$\n",
    "\n",
    "where its every element $v_i$ is determined by only one index $i$. "
   ]
  },
  {
   "cell_type": "markdown",
   "id": "0b2e4aba",
   "metadata": {},
   "source": [
    "***"
   ]
  },
  {
   "cell_type": "markdown",
   "id": "ab3ea29f",
   "metadata": {},
   "source": [
    "Now, observe the following **matrix**:\n",
    "    \n",
    "$$A = \n",
    "\\begin{pmatrix}\n",
    "3 & -1\\\\\n",
    "0 & 2\n",
    "\\end{pmatrix}.\n",
    "$$\n",
    "\n",
    "We want to locate value -1 again. Where do we find it? In the **1st row** and the **2nd column**. So, now we needed two indices in order to locate it. Therefore, **matrices are two-dimensional arrays**."
   ]
  },
  {
   "cell_type": "markdown",
   "id": "58339451",
   "metadata": {},
   "source": [
    "More generally, we write matrices as\n",
    "\n",
    "$$A = \n",
    "\\begin{pmatrix}\n",
    "a_{11} & a_{12} & \\cdots & a_{1n}\\\\\n",
    "a_{21} & a_{22} & \\cdots & a_{2n}\\\\\n",
    "\\vdots & \\vdots & \\ddots & \\vdots\\\\\n",
    "a_{m1} & a_{m2} & \\cdots & a_{mn}\\\n",
    "\\end{pmatrix}.\n",
    "$$\n",
    "\n",
    "where its every element $a_{ij}$ is determined by two indices $ij$, where the first one $i$ stands for the row number, and the second one $j$ stands for column number. "
   ]
  },
  {
   "cell_type": "markdown",
   "id": "d4cf770d",
   "metadata": {},
   "source": [
    "***"
   ]
  },
  {
   "cell_type": "markdown",
   "id": "38df9c28",
   "metadata": {},
   "source": [
    "3-, 4-, and other higher-dimensional arrays would require 3, 4, and more indices to locate one of its elements. They can be represented, respectively, as \"cubic\", 4D, 5D, etc. matrices. "
   ]
  },
  {
   "cell_type": "markdown",
   "id": "cfb608c3",
   "metadata": {},
   "source": [
    "And what about zero-dimensional arrays? Well, those are just our good old numbers, which we can sometimes refer as _**scalars**_."
   ]
  },
  {
   "cell_type": "markdown",
   "id": "53729e4e",
   "metadata": {},
   "source": [
    "But now, how do we create and manipulate those objects in Python, i.e. Numpy?"
   ]
  },
  {
   "cell_type": "markdown",
   "id": "9e468287",
   "metadata": {},
   "source": [
    "## 2. Vectors"
   ]
  },
  {
   "cell_type": "markdown",
   "id": "db32fcbd",
   "metadata": {},
   "source": [
    "One of the most direct ways to create a vector in Numpy is by casting a list into a vector by using `np.array()` function."
   ]
  },
  {
   "cell_type": "code",
   "execution_count": 3,
   "id": "3490c8fe",
   "metadata": {},
   "outputs": [
    {
     "data": {
      "text/plain": [
       "array([ 2,  0, -1,  5])"
      ]
     },
     "execution_count": 3,
     "metadata": {},
     "output_type": "execute_result"
    }
   ],
   "source": [
    "#defining a vector\n",
    "v = np.array([2, 0, -1, 5])\n",
    "v"
   ]
  },
  {
   "cell_type": "code",
   "execution_count": 4,
   "id": "df343687",
   "metadata": {},
   "outputs": [
    {
     "data": {
      "text/plain": [
       "numpy.ndarray"
      ]
     },
     "execution_count": 4,
     "metadata": {},
     "output_type": "execute_result"
    }
   ],
   "source": [
    "type(v)"
   ]
  },
  {
   "cell_type": "markdown",
   "id": "97da048c",
   "metadata": {},
   "source": [
    "`ndarray` stands for *n-dimensional array*; and, as we saw - vectors are one-dimensional arrays:"
   ]
  },
  {
   "cell_type": "code",
   "execution_count": 5,
   "id": "afde00ab",
   "metadata": {},
   "outputs": [
    {
     "data": {
      "text/plain": [
       "1"
      ]
     },
     "execution_count": 5,
     "metadata": {},
     "output_type": "execute_result"
    }
   ],
   "source": [
    "v.ndim"
   ]
  },
  {
   "cell_type": "markdown",
   "id": "3bf9583a",
   "metadata": {},
   "source": [
    "But, doesn't vector $\\mathbf{v}$ have 4 dimensions?"
   ]
  },
  {
   "cell_type": "code",
   "execution_count": 6,
   "id": "013ac253",
   "metadata": {},
   "outputs": [
    {
     "data": {
      "text/plain": [
       "(4,)"
      ]
     },
     "execution_count": 6,
     "metadata": {},
     "output_type": "execute_result"
    }
   ],
   "source": [
    "v.shape"
   ]
  },
  {
   "cell_type": "markdown",
   "id": "8dbe519c",
   "metadata": {},
   "source": [
    "Yes, but that's the dimensionality of the particular vector $\\mathbf{v}$. But the *(array) dimensionality* of vector $\\mathbf{v}$, or any other vector, as an *array object*, is always *one*, regardless of its number of coordinates. "
   ]
  },
  {
   "cell_type": "markdown",
   "id": "c014a674",
   "metadata": {},
   "source": [
    "***"
   ]
  },
  {
   "cell_type": "markdown",
   "id": "0e681c54",
   "metadata": {},
   "source": [
    "Allright, and how we locate, say -1 value of vector $\\mathbf{v}$ using Numpy? Simple, the same way as with lists! (where indexing starts, of course, from 0)"
   ]
  },
  {
   "cell_type": "code",
   "execution_count": 7,
   "id": "d548dbe3",
   "metadata": {},
   "outputs": [
    {
     "data": {
      "text/plain": [
       "-1"
      ]
     },
     "execution_count": 7,
     "metadata": {},
     "output_type": "execute_result"
    }
   ],
   "source": [
    "v[2]"
   ]
  },
  {
   "cell_type": "markdown",
   "id": "310454d7",
   "metadata": {},
   "source": [
    "Vectors can also be sliced as lists:"
   ]
  },
  {
   "cell_type": "code",
   "execution_count": 8,
   "id": "70428167",
   "metadata": {},
   "outputs": [
    {
     "data": {
      "text/plain": [
       "array([-1.111, 46.   , 91.   ,  0.   ])"
      ]
     },
     "execution_count": 8,
     "metadata": {},
     "output_type": "execute_result"
    }
   ],
   "source": [
    "vec = np.array([3, 7.5, -1.111, 46, 91, 0, 3])\n",
    "\n",
    "vec[2:6]"
   ]
  },
  {
   "cell_type": "code",
   "execution_count": 9,
   "id": "7917e798",
   "metadata": {},
   "outputs": [
    {
     "data": {
      "text/plain": [
       "array([-1.111, 46.   , 91.   ,  0.   ,  3.   ])"
      ]
     },
     "execution_count": 9,
     "metadata": {},
     "output_type": "execute_result"
    }
   ],
   "source": [
    "vec[2:]"
   ]
  },
  {
   "cell_type": "code",
   "execution_count": 10,
   "id": "2a30f4ab",
   "metadata": {},
   "outputs": [
    {
     "data": {
      "text/plain": [
       "array([ 3.   ,  7.5  , -1.111, 46.   , 91.   ,  0.   ])"
      ]
     },
     "execution_count": 10,
     "metadata": {},
     "output_type": "execute_result"
    }
   ],
   "source": [
    "vec[:6]"
   ]
  },
  {
   "cell_type": "code",
   "execution_count": 11,
   "id": "9d87295f",
   "metadata": {},
   "outputs": [
    {
     "data": {
      "text/plain": [
       "array([ 7.5, 46. ,  0. ])"
      ]
     },
     "execution_count": 11,
     "metadata": {},
     "output_type": "execute_result"
    }
   ],
   "source": [
    "vec[1:6:2]"
   ]
  },
  {
   "cell_type": "markdown",
   "id": "1c0703e8",
   "metadata": {},
   "source": [
    "We can subset a vector using list of coordinates:"
   ]
  },
  {
   "cell_type": "code",
   "execution_count": 12,
   "id": "67c4c9e6",
   "metadata": {},
   "outputs": [
    {
     "data": {
      "text/plain": [
       "array([ 7.5, 46. ,  3. ])"
      ]
     },
     "execution_count": 12,
     "metadata": {},
     "output_type": "execute_result"
    }
   ],
   "source": [
    "vec[[1, 3, 6]]"
   ]
  },
  {
   "cell_type": "markdown",
   "id": "5711e75d",
   "metadata": {},
   "source": [
    "***"
   ]
  },
  {
   "cell_type": "markdown",
   "id": "da2a6de1",
   "metadata": {},
   "source": [
    "But what makes list and vectors different. First thing, lists in Python can contain elements of different data types, while vectors (and, generally, all Numpy arrays) have elements only of a **single type**."
   ]
  },
  {
   "cell_type": "code",
   "execution_count": 13,
   "id": "ae4e3ccf",
   "metadata": {},
   "outputs": [],
   "source": [
    "l = [1, \"abcd\", -3.2]"
   ]
  },
  {
   "cell_type": "code",
   "execution_count": 14,
   "id": "bc93b549",
   "metadata": {},
   "outputs": [],
   "source": [
    "vec_l = np.array([1, \"abcd\", -3.2])"
   ]
  },
  {
   "cell_type": "code",
   "execution_count": 15,
   "id": "05d32121",
   "metadata": {},
   "outputs": [
    {
     "data": {
      "text/plain": [
       "dtype('<U32')"
      ]
     },
     "execution_count": 15,
     "metadata": {},
     "output_type": "execute_result"
    }
   ],
   "source": [
    "vec_l.dtype"
   ]
  },
  {
   "cell_type": "markdown",
   "id": "d2dd575e",
   "metadata": {},
   "source": [
    "This means that all of array elements are converted into strings!"
   ]
  },
  {
   "cell_type": "code",
   "execution_count": 16,
   "id": "701024cb",
   "metadata": {},
   "outputs": [
    {
     "data": {
      "text/plain": [
       "numpy.str_"
      ]
     },
     "execution_count": 16,
     "metadata": {},
     "output_type": "execute_result"
    }
   ],
   "source": [
    "type(vec_l[0])"
   ]
  },
  {
   "cell_type": "code",
   "execution_count": 17,
   "id": "41ab4082",
   "metadata": {},
   "outputs": [
    {
     "data": {
      "text/plain": [
       "dtype('float64')"
      ]
     },
     "execution_count": 17,
     "metadata": {},
     "output_type": "execute_result"
    }
   ],
   "source": [
    "#but\n",
    "vec.dtype"
   ]
  },
  {
   "cell_type": "code",
   "execution_count": 18,
   "id": "e372e550",
   "metadata": {},
   "outputs": [
    {
     "data": {
      "text/plain": [
       "numpy.float64"
      ]
     },
     "execution_count": 18,
     "metadata": {},
     "output_type": "execute_result"
    }
   ],
   "source": [
    "type(vec[0])"
   ]
  },
  {
   "cell_type": "markdown",
   "id": "10cb3ec3",
   "metadata": {},
   "source": [
    "Even if we defined the first element of `vec` as an integer, `np.array()` has cast it into a float. We can actually pass `dtype` argument into `np.array()` to specify the type of its elements:"
   ]
  },
  {
   "cell_type": "code",
   "execution_count": 19,
   "id": "1dfcd71b",
   "metadata": {},
   "outputs": [
    {
     "data": {
      "text/plain": [
       "dtype('int32')"
      ]
     },
     "execution_count": 19,
     "metadata": {},
     "output_type": "execute_result"
    }
   ],
   "source": [
    "vec_a = np.array([1, 2, 3, 4])\n",
    "\n",
    "vec_a.dtype"
   ]
  },
  {
   "cell_type": "code",
   "execution_count": 20,
   "id": "088db921",
   "metadata": {},
   "outputs": [
    {
     "data": {
      "text/plain": [
       "dtype('float64')"
      ]
     },
     "execution_count": 20,
     "metadata": {},
     "output_type": "execute_result"
    }
   ],
   "source": [
    "vec_a = np.array([1, 2, 3, 4], dtype='float')\n",
    "\n",
    "vec_a.dtype"
   ]
  },
  {
   "cell_type": "code",
   "execution_count": 21,
   "id": "ddf16958",
   "metadata": {},
   "outputs": [
    {
     "data": {
      "text/plain": [
       "array([1., 2., 3., 4.])"
      ]
     },
     "execution_count": 21,
     "metadata": {},
     "output_type": "execute_result"
    }
   ],
   "source": [
    "vec_a"
   ]
  },
  {
   "cell_type": "code",
   "execution_count": 22,
   "id": "6a5e7aa2",
   "metadata": {},
   "outputs": [
    {
     "data": {
      "text/plain": [
       "array([1, 2, 3, 4])"
      ]
     },
     "execution_count": 22,
     "metadata": {},
     "output_type": "execute_result"
    }
   ],
   "source": [
    "vec_b = np.array([1, 2.2, 3.8, 4], dtype='int')\n",
    "\n",
    "vec_b"
   ]
  },
  {
   "cell_type": "code",
   "execution_count": 23,
   "id": "ef493d04",
   "metadata": {},
   "outputs": [
    {
     "ename": "ValueError",
     "evalue": "invalid literal for int() with base 10: 'abcd'",
     "output_type": "error",
     "traceback": [
      "\u001b[1;31m---------------------------------------------------------------------------\u001b[0m",
      "\u001b[1;31mValueError\u001b[0m                                Traceback (most recent call last)",
      "\u001b[1;32m<ipython-input-23-afc372ef1e64>\u001b[0m in \u001b[0;36m<module>\u001b[1;34m\u001b[0m\n\u001b[1;32m----> 1\u001b[1;33m \u001b[0mvec_l\u001b[0m \u001b[1;33m=\u001b[0m \u001b[0mnp\u001b[0m\u001b[1;33m.\u001b[0m\u001b[0marray\u001b[0m\u001b[1;33m(\u001b[0m\u001b[1;33m[\u001b[0m\u001b[1;36m1\u001b[0m\u001b[1;33m,\u001b[0m \u001b[1;34m\"abcd\"\u001b[0m\u001b[1;33m,\u001b[0m \u001b[1;33m-\u001b[0m\u001b[1;36m3.2\u001b[0m\u001b[1;33m]\u001b[0m\u001b[1;33m,\u001b[0m \u001b[0mdtype\u001b[0m\u001b[1;33m=\u001b[0m\u001b[1;34m'int'\u001b[0m\u001b[1;33m)\u001b[0m\u001b[1;33m\u001b[0m\u001b[1;33m\u001b[0m\u001b[0m\n\u001b[0m",
      "\u001b[1;31mValueError\u001b[0m: invalid literal for int() with base 10: 'abcd'"
     ]
    }
   ],
   "source": [
    "vec_l = np.array([1, \"abcd\", -3.2], dtype='int')"
   ]
  },
  {
   "cell_type": "markdown",
   "id": "5a30e4af",
   "metadata": {},
   "source": [
    "What are some other ways to create vectors in Numpy?"
   ]
  },
  {
   "cell_type": "code",
   "execution_count": 24,
   "id": "80cbdcb5",
   "metadata": {},
   "outputs": [
    {
     "data": {
      "text/plain": [
       "array([4, 4, 4, 4, 4, 4, 4, 4, 4, 4])"
      ]
     },
     "execution_count": 24,
     "metadata": {},
     "output_type": "execute_result"
    }
   ],
   "source": [
    "# repetition\n",
    "np.repeat(4, repeats=10)"
   ]
  },
  {
   "cell_type": "markdown",
   "id": "a162fff0",
   "metadata": {},
   "source": [
    "`np.arange()` and `np.linspace()` are quite useful:"
   ]
  },
  {
   "cell_type": "code",
   "execution_count": 25,
   "id": "94ffb77e",
   "metadata": {},
   "outputs": [
    {
     "data": {
      "text/plain": [
       "array([0, 1, 2, 3, 4, 5, 6, 7, 8, 9])"
      ]
     },
     "execution_count": 25,
     "metadata": {},
     "output_type": "execute_result"
    }
   ],
   "source": [
    "np.arange(10)"
   ]
  },
  {
   "cell_type": "code",
   "execution_count": 26,
   "id": "86713838",
   "metadata": {},
   "outputs": [
    {
     "data": {
      "text/plain": [
       "array([3, 4, 5, 6, 7, 8, 9])"
      ]
     },
     "execution_count": 26,
     "metadata": {},
     "output_type": "execute_result"
    }
   ],
   "source": [
    "np.arange(3, 10)"
   ]
  },
  {
   "cell_type": "code",
   "execution_count": 27,
   "id": "08d15abf",
   "metadata": {},
   "outputs": [
    {
     "data": {
      "text/plain": [
       "array([3, 5, 7, 9])"
      ]
     },
     "execution_count": 27,
     "metadata": {},
     "output_type": "execute_result"
    }
   ],
   "source": [
    "np.arange(3, 10, 2)"
   ]
  },
  {
   "cell_type": "code",
   "execution_count": 28,
   "id": "bd4a7ac2",
   "metadata": {},
   "outputs": [
    {
     "data": {
      "text/plain": [
       "array([3. , 3.2, 3.4, 3.6, 3.8, 4. , 4.2, 4.4, 4.6, 4.8, 5. , 5.2, 5.4,\n",
       "       5.6, 5.8, 6. , 6.2, 6.4, 6.6, 6.8, 7. , 7.2, 7.4, 7.6, 7.8, 8. ,\n",
       "       8.2, 8.4, 8.6, 8.8, 9. , 9.2, 9.4, 9.6, 9.8])"
      ]
     },
     "execution_count": 28,
     "metadata": {},
     "output_type": "execute_result"
    }
   ],
   "source": [
    "np.arange(3, 10, .2)"
   ]
  },
  {
   "cell_type": "code",
   "execution_count": 29,
   "id": "28b140a9",
   "metadata": {},
   "outputs": [
    {
     "data": {
      "text/plain": [
       "array([ 1.,  2.,  3.,  4.,  5.,  6.,  7.,  8.,  9., 10.])"
      ]
     },
     "execution_count": 29,
     "metadata": {},
     "output_type": "execute_result"
    }
   ],
   "source": [
    "np.linspace(1, 10, 10)"
   ]
  },
  {
   "cell_type": "code",
   "execution_count": 30,
   "id": "a24096b5",
   "metadata": {
    "scrolled": true
   },
   "outputs": [
    {
     "data": {
      "text/plain": [
       "array([ 1.    ,  1.5625,  2.125 ,  2.6875,  3.25  ,  3.8125,  4.375 ,\n",
       "        4.9375,  5.5   ,  6.0625,  6.625 ,  7.1875,  7.75  ,  8.3125,\n",
       "        8.875 ,  9.4375, 10.    ])"
      ]
     },
     "execution_count": 30,
     "metadata": {},
     "output_type": "execute_result"
    }
   ],
   "source": [
    "np.linspace(1, 10, 17)"
   ]
  },
  {
   "cell_type": "code",
   "execution_count": 31,
   "id": "4cd47518",
   "metadata": {
    "scrolled": true
   },
   "outputs": [
    {
     "data": {
      "text/plain": [
       "(17,)"
      ]
     },
     "execution_count": 31,
     "metadata": {},
     "output_type": "execute_result"
    }
   ],
   "source": [
    "np.linspace(1, 10, 17).shape"
   ]
  },
  {
   "cell_type": "code",
   "execution_count": 32,
   "id": "77c6ccbe",
   "metadata": {},
   "outputs": [
    {
     "data": {
      "text/plain": [
       "array([ 1,  1,  2,  2,  3,  3,  4,  4,  5,  6,  6,  7,  7,  8,  8,  9, 10])"
      ]
     },
     "execution_count": 32,
     "metadata": {},
     "output_type": "execute_result"
    }
   ],
   "source": [
    "np.linspace(1, 10, 17, dtype='int')"
   ]
  },
  {
   "cell_type": "markdown",
   "id": "d319199a",
   "metadata": {},
   "source": [
    "You can use `np.zeros()` and `np.ones()` to create vectors of all zeros or ones:"
   ]
  },
  {
   "cell_type": "code",
   "execution_count": 33,
   "id": "4aa2503e",
   "metadata": {},
   "outputs": [
    {
     "data": {
      "text/plain": [
       "array([0., 0., 0., 0., 0., 0., 0., 0., 0., 0.])"
      ]
     },
     "execution_count": 33,
     "metadata": {},
     "output_type": "execute_result"
    }
   ],
   "source": [
    "np.zeros(10)"
   ]
  },
  {
   "cell_type": "code",
   "execution_count": 34,
   "id": "95ed4de4",
   "metadata": {
    "scrolled": true
   },
   "outputs": [
    {
     "data": {
      "text/plain": [
       "array([1., 1., 1., 1., 1., 1., 1., 1., 1., 1.])"
      ]
     },
     "execution_count": 34,
     "metadata": {},
     "output_type": "execute_result"
    }
   ],
   "source": [
    "np.ones(10)"
   ]
  },
  {
   "cell_type": "markdown",
   "id": "668faee4",
   "metadata": {},
   "source": [
    "***"
   ]
  },
  {
   "cell_type": "markdown",
   "id": "25e7a70a",
   "metadata": {},
   "source": [
    "Similarly as with Pandas, we can select vector elements using conditions and logical operators. "
   ]
  },
  {
   "cell_type": "code",
   "execution_count": 35,
   "id": "f4989fb4",
   "metadata": {},
   "outputs": [
    {
     "name": "stdout",
     "output_type": "stream",
     "text": [
      "[  1.   2.   3.   4.   5.   6.   7.   8.   9.  10.  11.  12.  13.  14.\n",
      "  15.  16.  17.  18.  19.  20.  21.  22.  23.  24.  25.  26.  27.  28.\n",
      "  29.  30.  31.  32.  33.  34.  35.  36.  37.  38.  39.  40.  41.  42.\n",
      "  43.  44.  45.  46.  47.  48.  49.  50.  51.  52.  53.  54.  55.  56.\n",
      "  57.  58.  59.  60.  61.  62.  63.  64.  65.  66.  67.  68.  69.  70.\n",
      "  71.  72.  73.  74.  75.  76.  77.  78.  79.  80.  81.  82.  83.  84.\n",
      "  85.  86.  87.  88.  89.  90.  91.  92.  93.  94.  95.  96.  97.  98.\n",
      "  99. 100.]\n"
     ]
    }
   ],
   "source": [
    "vec = np.linspace(1, 100, 100)\n",
    "print(vec)"
   ]
  },
  {
   "cell_type": "code",
   "execution_count": 36,
   "id": "9caf0bac",
   "metadata": {},
   "outputs": [
    {
     "name": "stdout",
     "output_type": "stream",
     "text": [
      "[False False False False False False False False False False False False\n",
      " False False False False False False False False False False False False\n",
      " False False False False False False False False False False False False\n",
      " False False False False False False False False False False False False\n",
      " False False  True  True  True  True  True  True  True  True  True  True\n",
      "  True  True  True  True  True  True  True  True  True  True  True  True\n",
      "  True  True  True  True  True  True  True  True  True  True  True  True\n",
      "  True  True  True  True  True  True  True  True  True  True  True  True\n",
      "  True  True  True  True]\n"
     ]
    }
   ],
   "source": [
    "cond = vec > 50\n",
    "print(cond)"
   ]
  },
  {
   "cell_type": "code",
   "execution_count": 37,
   "id": "b263568f",
   "metadata": {},
   "outputs": [
    {
     "data": {
      "text/plain": [
       "array([ 51.,  52.,  53.,  54.,  55.,  56.,  57.,  58.,  59.,  60.,  61.,\n",
       "        62.,  63.,  64.,  65.,  66.,  67.,  68.,  69.,  70.,  71.,  72.,\n",
       "        73.,  74.,  75.,  76.,  77.,  78.,  79.,  80.,  81.,  82.,  83.,\n",
       "        84.,  85.,  86.,  87.,  88.,  89.,  90.,  91.,  92.,  93.,  94.,\n",
       "        95.,  96.,  97.,  98.,  99., 100.])"
      ]
     },
     "execution_count": 37,
     "metadata": {},
     "output_type": "execute_result"
    }
   ],
   "source": [
    "vec[cond]"
   ]
  },
  {
   "cell_type": "code",
   "execution_count": 40,
   "id": "4cba8e05",
   "metadata": {},
   "outputs": [
    {
     "data": {
      "text/plain": [
       "array([ 1.,  2.,  3.,  4.,  5.,  6.,  7.,  8.,  9., 10., 11., 12., 13.,\n",
       "       14., 15., 16., 17., 18., 19., 20., 21., 22., 23., 24., 25., 26.,\n",
       "       27., 28., 29., 30., 31., 32., 33., 34., 35., 36., 37., 38., 39.,\n",
       "       40., 41., 42., 43., 44., 45., 46., 47., 48., 49.])"
      ]
     },
     "execution_count": 40,
     "metadata": {},
     "output_type": "execute_result"
    }
   ],
   "source": [
    "# or simply\n",
    "vec[vec < 50]"
   ]
  },
  {
   "cell_type": "code",
   "execution_count": 41,
   "id": "2a2a082c",
   "metadata": {},
   "outputs": [
    {
     "data": {
      "text/plain": [
       "array([11., 12., 13., 14., 15., 16., 17., 18., 19., 20., 21., 22., 23.,\n",
       "       24., 25., 26., 27., 28., 29., 30., 31., 32., 33., 34., 35., 36.,\n",
       "       37., 38., 39., 40., 41., 42., 43., 44., 45., 46., 47., 48., 49.])"
      ]
     },
     "execution_count": 41,
     "metadata": {},
     "output_type": "execute_result"
    }
   ],
   "source": [
    "vec[(vec < 50) & (vec > 10)]"
   ]
  },
  {
   "cell_type": "markdown",
   "id": "238ebcd7",
   "metadata": {},
   "source": [
    "***"
   ]
  },
  {
   "cell_type": "markdown",
   "id": "ba907686",
   "metadata": {},
   "source": [
    "Geometrically, a n-dimensional vector can be represented as a point in n-dimensional space, or as an 'arrow' from the coordinate center to the given point. This interpretation is actually quite important for machine learning, as every datapoint can be abstracted to a point in a higher-dimensional space. In this manner a dataset becomes a set of points in space with its geometry, and machine learning algorithms work by exploiting the geometry of the dataset."
   ]
  },
  {
   "cell_type": "markdown",
   "id": "9434a134",
   "metadata": {},
   "source": [
    "### 2.1. Elementwise operations with vectors"
   ]
  },
  {
   "cell_type": "markdown",
   "id": "5e9cdeec",
   "metadata": {},
   "source": [
    "One thing we can do with vectors/numpy arrays is perform mathematical operations, which we can't do with lists... at least no in an elegant fashion as with Numpy."
   ]
  },
  {
   "cell_type": "markdown",
   "id": "060776cb",
   "metadata": {},
   "source": [
    "Vector addition/subtraction (which is performed elementwise)\n",
    "\n",
    "$$\\mathbf{u} + \\mathbf{v} = (u_1, u_2, \\ldots, u_n) \\pm (v_1, v_2, \\ldots, v_n) = (u_1\\pm v_1, u_2\\pm v_2, \\ldots, u_n\\pm v_n).$$"
   ]
  },
  {
   "cell_type": "code",
   "execution_count": 42,
   "id": "8a2c7c3d",
   "metadata": {},
   "outputs": [
    {
     "data": {
      "text/plain": [
       "array([10, 11,  6])"
      ]
     },
     "execution_count": 42,
     "metadata": {},
     "output_type": "execute_result"
    }
   ],
   "source": [
    "v1 = np.array([3, 2, 1])\n",
    "v2 = np.array([7, 9, 5])\n",
    "\n",
    "v1 + v2"
   ]
  },
  {
   "cell_type": "code",
   "execution_count": 43,
   "id": "bd00ca1e",
   "metadata": {},
   "outputs": [
    {
     "data": {
      "text/plain": [
       "array([-4, -7, -4])"
      ]
     },
     "execution_count": 43,
     "metadata": {},
     "output_type": "execute_result"
    }
   ],
   "source": [
    "v1 - v2"
   ]
  },
  {
   "cell_type": "markdown",
   "id": "2543c2d2",
   "metadata": {},
   "source": [
    "What if we had lists?"
   ]
  },
  {
   "cell_type": "code",
   "execution_count": 44,
   "id": "d1fc635b",
   "metadata": {},
   "outputs": [
    {
     "data": {
      "text/plain": [
       "[3, 2, 1, 7, 9, 5]"
      ]
     },
     "execution_count": 44,
     "metadata": {},
     "output_type": "execute_result"
    }
   ],
   "source": [
    "l1 = [3, 2, 1]\n",
    "l2 = [7, 9, 5]\n",
    "\n",
    "l1 + l2"
   ]
  },
  {
   "cell_type": "markdown",
   "id": "db41383c",
   "metadata": {},
   "source": [
    "Not what we really wanted... We would have to do something like this:"
   ]
  },
  {
   "cell_type": "code",
   "execution_count": 45,
   "id": "4b91d838",
   "metadata": {},
   "outputs": [
    {
     "data": {
      "text/plain": [
       "[10, 11, 6]"
      ]
     },
     "execution_count": 45,
     "metadata": {},
     "output_type": "execute_result"
    }
   ],
   "source": [
    "l_sum = []\n",
    "\n",
    "for x, y in zip(l1, l2):\n",
    "    l_sum.append(x + y)\n",
    "    \n",
    "l_sum"
   ]
  },
  {
   "cell_type": "markdown",
   "id": "2023f8ec",
   "metadata": {},
   "source": [
    "Not quite as elegant as with Numpy..."
   ]
  },
  {
   "cell_type": "markdown",
   "id": "2e48df56",
   "metadata": {},
   "source": [
    "We can also multiply vector by a scalar\n",
    "\n",
    "$$\\lambda\\mathbf{v} = \\lambda(v_1, v_2, \\ldots, v_n) = (\\lambda v_1, \\lambda v_2, \\ldots, \\lambda v_n).$$\n",
    "\n",
    "This operation has an interesting interpretation:\n",
    "\n",
    "- if $\\lambda > 1$, then it elongates the vector $\\mathbf{v}$;\n",
    "- if $\\lambda < 1$, then it contracts the vector $\\mathbf{v}$."
   ]
  },
  {
   "cell_type": "code",
   "execution_count": 46,
   "id": "5531171b",
   "metadata": {},
   "outputs": [
    {
     "data": {
      "text/plain": [
       "array([12,  8,  4])"
      ]
     },
     "execution_count": 46,
     "metadata": {},
     "output_type": "execute_result"
    }
   ],
   "source": [
    "v1 = np.array([3, 2, 1])\n",
    "\n",
    "4*v1"
   ]
  },
  {
   "cell_type": "markdown",
   "id": "5feec42b",
   "metadata": {},
   "source": [
    "A _**vector norm**_ measures the _**intesity**_, i.e. the 'size' of the vector, i.e. the distance of the point from the coordinate center. There are many vector norms, and we'll speak about them more later in the course, but the most used one is _**Euclidean norm**_ or $L_2$ norm:\n",
    "\n",
    "$$||\\mathbf{v}|| = \\sqrt{v_1^2 + v_2^2 + \\cdots + v_n^2}.$$"
   ]
  },
  {
   "cell_type": "code",
   "execution_count": 47,
   "id": "0a48997f",
   "metadata": {},
   "outputs": [
    {
     "data": {
      "text/plain": [
       "3.7416573867739413"
      ]
     },
     "execution_count": 47,
     "metadata": {},
     "output_type": "execute_result"
    }
   ],
   "source": [
    "np.linalg.norm(v1)"
   ]
  },
  {
   "cell_type": "code",
   "execution_count": 48,
   "id": "ed799568",
   "metadata": {},
   "outputs": [
    {
     "data": {
      "text/plain": [
       "14.966629547095765"
      ]
     },
     "execution_count": 48,
     "metadata": {},
     "output_type": "execute_result"
    }
   ],
   "source": [
    "np.linalg.norm(4*v1)"
   ]
  },
  {
   "cell_type": "code",
   "execution_count": 49,
   "id": "0203cb75",
   "metadata": {},
   "outputs": [
    {
     "data": {
      "text/plain": [
       "0.9354143466934853"
      ]
     },
     "execution_count": 49,
     "metadata": {},
     "output_type": "execute_result"
    }
   ],
   "source": [
    "np.linalg.norm(.25*v1)"
   ]
  },
  {
   "cell_type": "markdown",
   "id": "51e3b563",
   "metadata": {},
   "source": [
    "`linalg` in `np.linalg` is a submodule of Numpy used for performing many beautiful calculations from Linear Algebra. "
   ]
  },
  {
   "cell_type": "markdown",
   "id": "23a66ffa",
   "metadata": {},
   "source": [
    "Furthermore, we can do elementwise vector product:"
   ]
  },
  {
   "cell_type": "code",
   "execution_count": 50,
   "id": "3dd77d73",
   "metadata": {},
   "outputs": [
    {
     "data": {
      "text/plain": [
       "array([21, 18,  5])"
      ]
     },
     "execution_count": 50,
     "metadata": {},
     "output_type": "execute_result"
    }
   ],
   "source": [
    "v1 = np.array([3, 2, 1])\n",
    "v2 = np.array([7, 9, 5])\n",
    "\n",
    "v1*v2"
   ]
  },
  {
   "cell_type": "markdown",
   "id": "55ae2f61",
   "metadata": {},
   "source": [
    "However, mathematically, this isn't *true* vector product; we'll talk more about vector products later on.  "
   ]
  },
  {
   "cell_type": "markdown",
   "id": "c31035db",
   "metadata": {},
   "source": [
    "We can also do elementwise vector division (true vector division mathematically isn't even defined), and all kind of other mathematically dubious vector elemetwise operations with Numpy (which can be still quite useful!)"
   ]
  },
  {
   "cell_type": "code",
   "execution_count": 51,
   "id": "85a0733e",
   "metadata": {},
   "outputs": [
    {
     "data": {
      "text/plain": [
       "array([0.42857143, 0.22222222, 0.2       ])"
      ]
     },
     "execution_count": 51,
     "metadata": {},
     "output_type": "execute_result"
    }
   ],
   "source": [
    "v1/v2"
   ]
  },
  {
   "cell_type": "code",
   "execution_count": 52,
   "id": "5df35ba7",
   "metadata": {},
   "outputs": [
    {
     "data": {
      "text/plain": [
       "array([0.42857143, 0.28571429, 0.14285714])"
      ]
     },
     "execution_count": 52,
     "metadata": {},
     "output_type": "execute_result"
    }
   ],
   "source": [
    "v1/7"
   ]
  },
  {
   "cell_type": "code",
   "execution_count": 53,
   "id": "30276a44",
   "metadata": {},
   "outputs": [
    {
     "data": {
      "text/plain": [
       "array([2.33333333, 3.5       , 7.        ])"
      ]
     },
     "execution_count": 53,
     "metadata": {},
     "output_type": "execute_result"
    }
   ],
   "source": [
    "7/v1"
   ]
  },
  {
   "cell_type": "code",
   "execution_count": 54,
   "id": "8eb38e03",
   "metadata": {},
   "outputs": [
    {
     "data": {
      "text/plain": [
       "array([9, 4, 1], dtype=int32)"
      ]
     },
     "execution_count": 54,
     "metadata": {},
     "output_type": "execute_result"
    }
   ],
   "source": [
    "# but this is not mathematically correct square of a vector!\n",
    "v1**2"
   ]
  },
  {
   "cell_type": "code",
   "execution_count": 55,
   "id": "7995a6e5",
   "metadata": {},
   "outputs": [
    {
     "data": {
      "text/plain": [
       "array([8, 4, 2], dtype=int32)"
      ]
     },
     "execution_count": 55,
     "metadata": {},
     "output_type": "execute_result"
    }
   ],
   "source": [
    "2**v1"
   ]
  },
  {
   "cell_type": "code",
   "execution_count": 56,
   "id": "3005c5cb",
   "metadata": {},
   "outputs": [
    {
     "data": {
      "text/plain": [
       "array([343,  81,   5], dtype=int32)"
      ]
     },
     "execution_count": 56,
     "metadata": {},
     "output_type": "execute_result"
    }
   ],
   "source": [
    "v2**v1"
   ]
  },
  {
   "cell_type": "markdown",
   "id": "b75749fa",
   "metadata": {},
   "source": [
    "What makes Numpy perform these elemetwise operations so seamlessly? It's due to  _**vectorization**_ and _**broadcasting**_."
   ]
  },
  {
   "cell_type": "markdown",
   "id": "25efe704",
   "metadata": {},
   "source": [
    "### 2.2. Vectorization and Broadcasting"
   ]
  },
  {
   "cell_type": "markdown",
   "id": "34c2bb4d",
   "metadata": {},
   "source": [
    "Vectorization is another Numpy feature which lets you perform various mathematical operations on Numpy arrays elementwise, which is impossible to do directly on lists. \n",
    "\n",
    "\n",
    "Say, we want to find a square root of every element in a given list:"
   ]
  },
  {
   "cell_type": "code",
   "execution_count": 57,
   "id": "b653ad46",
   "metadata": {},
   "outputs": [
    {
     "ename": "TypeError",
     "evalue": "must be real number, not list",
     "output_type": "error",
     "traceback": [
      "\u001b[1;31m---------------------------------------------------------------------------\u001b[0m",
      "\u001b[1;31mTypeError\u001b[0m                                 Traceback (most recent call last)",
      "\u001b[1;32m<ipython-input-57-4419174e26ef>\u001b[0m in \u001b[0;36m<module>\u001b[1;34m\u001b[0m\n\u001b[0;32m      3\u001b[0m \u001b[0ml\u001b[0m \u001b[1;33m=\u001b[0m \u001b[1;33m[\u001b[0m\u001b[1;36m10\u001b[0m\u001b[1;33m,\u001b[0m \u001b[1;36m20\u001b[0m\u001b[1;33m,\u001b[0m \u001b[1;36m30\u001b[0m\u001b[1;33m,\u001b[0m \u001b[1;36m40\u001b[0m\u001b[1;33m,\u001b[0m \u001b[1;36m50\u001b[0m\u001b[1;33m,\u001b[0m \u001b[1;36m60\u001b[0m\u001b[1;33m,\u001b[0m \u001b[1;36m70\u001b[0m\u001b[1;33m,\u001b[0m \u001b[1;36m80\u001b[0m\u001b[1;33m,\u001b[0m \u001b[1;36m90\u001b[0m\u001b[1;33m,\u001b[0m \u001b[1;36m100\u001b[0m\u001b[1;33m]\u001b[0m\u001b[1;33m\u001b[0m\u001b[1;33m\u001b[0m\u001b[0m\n\u001b[0;32m      4\u001b[0m \u001b[1;33m\u001b[0m\u001b[0m\n\u001b[1;32m----> 5\u001b[1;33m \u001b[0mmath\u001b[0m\u001b[1;33m.\u001b[0m\u001b[0msqrt\u001b[0m\u001b[1;33m(\u001b[0m\u001b[0ml\u001b[0m\u001b[1;33m)\u001b[0m\u001b[1;33m\u001b[0m\u001b[1;33m\u001b[0m\u001b[0m\n\u001b[0m",
      "\u001b[1;31mTypeError\u001b[0m: must be real number, not list"
     ]
    }
   ],
   "source": [
    "import math\n",
    "\n",
    "l = [10, 20, 30, 40, 50, 60, 70, 80, 90, 100]\n",
    "\n",
    "math.sqrt(l)"
   ]
  },
  {
   "cell_type": "markdown",
   "id": "c31e965c",
   "metadata": {},
   "source": [
    "List comprehension might be a way to go:"
   ]
  },
  {
   "cell_type": "code",
   "execution_count": 58,
   "id": "ee4a0a15",
   "metadata": {},
   "outputs": [
    {
     "data": {
      "text/plain": [
       "[3.1622776601683795,\n",
       " 4.47213595499958,\n",
       " 5.477225575051661,\n",
       " 6.324555320336759,\n",
       " 7.0710678118654755,\n",
       " 7.745966692414834,\n",
       " 8.366600265340756,\n",
       " 8.94427190999916,\n",
       " 9.486832980505138,\n",
       " 10.0]"
      ]
     },
     "execution_count": 58,
     "metadata": {},
     "output_type": "execute_result"
    }
   ],
   "source": [
    "[math.sqrt(el) for el in l]"
   ]
  },
  {
   "cell_type": "markdown",
   "id": "ad25e7e7",
   "metadata": {},
   "source": [
    "But Numpy offers a more elegant way to do it!"
   ]
  },
  {
   "cell_type": "code",
   "execution_count": 59,
   "id": "7bae9044",
   "metadata": {},
   "outputs": [
    {
     "data": {
      "text/plain": [
       "array([ 3.16227766,  4.47213595,  5.47722558,  6.32455532,  7.07106781,\n",
       "        7.74596669,  8.36660027,  8.94427191,  9.48683298, 10.        ])"
      ]
     },
     "execution_count": 59,
     "metadata": {},
     "output_type": "execute_result"
    }
   ],
   "source": [
    "np.sqrt(l)"
   ]
  },
  {
   "cell_type": "markdown",
   "id": "293cd2eb",
   "metadata": {},
   "source": [
    "And not only square root, you can use many many more mathematical functions in this manner:"
   ]
  },
  {
   "cell_type": "code",
   "execution_count": 60,
   "id": "a1f1d278",
   "metadata": {},
   "outputs": [
    {
     "data": {
      "text/plain": [
       "array([-0.54402111,  0.91294525, -0.98803162,  0.74511316, -0.26237485,\n",
       "       -0.30481062,  0.77389068, -0.99388865,  0.89399666, -0.50636564])"
      ]
     },
     "execution_count": 60,
     "metadata": {},
     "output_type": "execute_result"
    }
   ],
   "source": [
    "np.sin(l)"
   ]
  },
  {
   "cell_type": "code",
   "execution_count": 61,
   "id": "56bee72b",
   "metadata": {},
   "outputs": [
    {
     "data": {
      "text/plain": [
       "array([2.20264658e+04, 4.85165195e+08, 1.06864746e+13, 2.35385267e+17,\n",
       "       5.18470553e+21, 1.14200739e+26, 2.51543867e+30, 5.54062238e+34,\n",
       "       1.22040329e+39, 2.68811714e+43])"
      ]
     },
     "execution_count": 61,
     "metadata": {},
     "output_type": "execute_result"
    }
   ],
   "source": [
    "np.exp(l)"
   ]
  },
  {
   "cell_type": "code",
   "execution_count": 62,
   "id": "787a8d07",
   "metadata": {},
   "outputs": [
    {
     "data": {
      "text/plain": [
       "array([0.54402111, 0.91294525, 0.98803162, 0.74511316, 0.26237485,\n",
       "       0.30481062, 0.77389068, 0.99388865, 0.89399666, 0.50636564])"
      ]
     },
     "execution_count": 62,
     "metadata": {},
     "output_type": "execute_result"
    }
   ],
   "source": [
    "np.abs(np.sin(l))"
   ]
  },
  {
   "cell_type": "code",
   "execution_count": 63,
   "id": "ba71f3c9",
   "metadata": {},
   "outputs": [
    {
     "data": {
      "text/plain": [
       "array([-0.839,  0.408,  0.154, -0.667,  0.965, -0.952,  0.633, -0.11 ,\n",
       "       -0.448,  0.862])"
      ]
     },
     "execution_count": 63,
     "metadata": {},
     "output_type": "execute_result"
    }
   ],
   "source": [
    "np.round(np.cos(l), 3)"
   ]
  },
  {
   "cell_type": "code",
   "execution_count": 64,
   "id": "f82ecda1",
   "metadata": {},
   "outputs": [
    {
     "data": {
      "text/plain": [
       "array([-0.839,  0.408,  0.154, -0.667,  0.965, -0.952,  0.633, -0.11 ,\n",
       "       -0.448,  0.862])"
      ]
     },
     "execution_count": 64,
     "metadata": {},
     "output_type": "execute_result"
    }
   ],
   "source": [
    "#or easier\n",
    "np.cos(l).round(3)"
   ]
  },
  {
   "cell_type": "markdown",
   "id": "cbdbee9c",
   "metadata": {},
   "source": [
    "What happens here is that Numpy *vectorizes* the given function over the given vector/list and applies it on its every element.\n",
    "\n",
    "Now let's vectorize our own function:"
   ]
  },
  {
   "cell_type": "code",
   "execution_count": 65,
   "id": "4f44ab60",
   "metadata": {},
   "outputs": [],
   "source": [
    "def plus_one(x):\n",
    "    return x + 1"
   ]
  },
  {
   "cell_type": "code",
   "execution_count": 66,
   "id": "a917cd63",
   "metadata": {},
   "outputs": [
    {
     "ename": "TypeError",
     "evalue": "can only concatenate list (not \"int\") to list",
     "output_type": "error",
     "traceback": [
      "\u001b[1;31m---------------------------------------------------------------------------\u001b[0m",
      "\u001b[1;31mTypeError\u001b[0m                                 Traceback (most recent call last)",
      "\u001b[1;32m<ipython-input-66-e66be2e1a37a>\u001b[0m in \u001b[0;36m<module>\u001b[1;34m\u001b[0m\n\u001b[1;32m----> 1\u001b[1;33m \u001b[0mplus_one\u001b[0m\u001b[1;33m(\u001b[0m\u001b[0ml\u001b[0m\u001b[1;33m)\u001b[0m\u001b[1;33m\u001b[0m\u001b[1;33m\u001b[0m\u001b[0m\n\u001b[0m",
      "\u001b[1;32m<ipython-input-65-4a2fc73d7fee>\u001b[0m in \u001b[0;36mplus_one\u001b[1;34m(x)\u001b[0m\n\u001b[0;32m      1\u001b[0m \u001b[1;32mdef\u001b[0m \u001b[0mplus_one\u001b[0m\u001b[1;33m(\u001b[0m\u001b[0mx\u001b[0m\u001b[1;33m)\u001b[0m\u001b[1;33m:\u001b[0m\u001b[1;33m\u001b[0m\u001b[1;33m\u001b[0m\u001b[0m\n\u001b[1;32m----> 2\u001b[1;33m     \u001b[1;32mreturn\u001b[0m \u001b[0mx\u001b[0m \u001b[1;33m+\u001b[0m \u001b[1;36m1\u001b[0m\u001b[1;33m\u001b[0m\u001b[1;33m\u001b[0m\u001b[0m\n\u001b[0m",
      "\u001b[1;31mTypeError\u001b[0m: can only concatenate list (not \"int\") to list"
     ]
    }
   ],
   "source": [
    "plus_one(l)"
   ]
  },
  {
   "cell_type": "code",
   "execution_count": 67,
   "id": "6018319e",
   "metadata": {},
   "outputs": [
    {
     "data": {
      "text/plain": [
       "array([ 11,  21,  31,  41,  51,  61,  71,  81,  91, 101])"
      ]
     },
     "execution_count": 67,
     "metadata": {},
     "output_type": "execute_result"
    }
   ],
   "source": [
    "plus_one_vec = np.vectorize(plus_one)\n",
    "plus_one_vec(l)"
   ]
  },
  {
   "cell_type": "markdown",
   "id": "835a1e2b",
   "metadata": {},
   "source": [
    "**N.B.** Call to `plus_one_vec()`, i.e. `plus_one_vec(l)` has automatically turned the `l` list into a Numpy vector before execution. Now `plus_one_v()` is a *vectorized* version of `plus_one()`."
   ]
  },
  {
   "cell_type": "markdown",
   "id": "76971e89",
   "metadata": {},
   "source": [
    "Now, let's assume that the probabilities of options `A`, `B`, `A1`, and `B1` are known to the decision maker, and that we have, of course, $P(A)+P(B)=1$ and $P(A1)+P(B1)=1$:\n",
    "\n",
    "- **P(A) = .55**: Stay home, watch a movie. (costs \\$5 to rent a movie via online services)\n",
    "- **P(B) = .45**: Go to cinema, watch a movie. (costs \\$10 to buy a ticket)\n",
    "\n",
    "\n",
    "- **P(A1) = .75**: Stay home, play a board game. (costs \\$10 to buy a board game)\n",
    "- **P(B1) = .25**: Go to the board game club, play a board game. (costs \\$3.5 to enter the club)"
   ]
  },
  {
   "cell_type": "markdown",
   "id": "99a158a7",
   "metadata": {},
   "source": [
    "Now, with the utility function of exponent $\\rho=.67$, the decision maker evaluates **the expected utility** of lotteries $(A, B)$ and $(A1, B1)$ in the following way:"
   ]
  },
  {
   "cell_type": "code",
   "execution_count": 68,
   "id": "af4ca4b7",
   "metadata": {},
   "outputs": [
    {
     "name": "stdout",
     "output_type": "stream",
     "text": [
      "EU(A,B) = 3.7216687887050215\n",
      "EU(A1,B1) = 4.086729704552689\n"
     ]
    }
   ],
   "source": [
    "# - power-utility function exponent:\n",
    "rho = .67\n",
    "\n",
    "# lottery (A,B)\n",
    "pa = .55\n",
    "pb = .45\n",
    "ca = 5\n",
    "cb = 10\n",
    "eu_ab = pa*ca**rho + pb*cb**rho\n",
    "print(\"EU(A,B) = \" + str(eu_ab))\n",
    "\n",
    "# lottery (A1,B1)\n",
    "pa1 = .75\n",
    "pb1 = .25\n",
    "ca1 = 10\n",
    "cb1 = 3.5\n",
    "eu_a1b1 = pa1*ca1**rho + pb1*cb1**rho\n",
    "print(\"EU(A1,B1) = \" + str(eu_a1b1))"
   ]
  },
  {
   "cell_type": "markdown",
   "id": "099a5168",
   "metadata": {},
   "source": [
    "And since monetary values constitue costs in this example, the decision maker - if cares only about the utility of money - should choose $(A,B)$ over $(A1,B1)$ according to the principle of Maximum Expected Utility."
   ]
  },
  {
   "cell_type": "markdown",
   "id": "74fa079c",
   "metadata": {},
   "source": [
    "A Python function to compute the expected utility of a lottery:"
   ]
  },
  {
   "cell_type": "code",
   "execution_count": 69,
   "id": "20a89951",
   "metadata": {},
   "outputs": [
    {
     "data": {
      "text/plain": [
       "4.086729704552689"
      ]
     },
     "execution_count": 69,
     "metadata": {},
     "output_type": "execute_result"
    }
   ],
   "source": [
    "def eu(p1, p2, v1, v2, rho):\n",
    "    leu = p1*v1**rho + p2*v2**rho\n",
    "    return(leu)\n",
    "    \n",
    "# test eu()\n",
    "eu(p1=.75, p2=.25, v1=10, v2=3.5, rho=.67)"
   ]
  },
  {
   "cell_type": "markdown",
   "id": "bdc55bb0",
   "metadata": {},
   "source": [
    "Ok, now that works. However: what if we need to evaluate many lotteries at once?"
   ]
  },
  {
   "cell_type": "code",
   "execution_count": 70,
   "id": "42943686",
   "metadata": {},
   "outputs": [
    {
     "data": {
      "text/html": [
       "<div>\n",
       "<style scoped>\n",
       "    .dataframe tbody tr th:only-of-type {\n",
       "        vertical-align: middle;\n",
       "    }\n",
       "\n",
       "    .dataframe tbody tr th {\n",
       "        vertical-align: top;\n",
       "    }\n",
       "\n",
       "    .dataframe thead th {\n",
       "        text-align: right;\n",
       "    }\n",
       "</style>\n",
       "<table border=\"1\" class=\"dataframe\">\n",
       "  <thead>\n",
       "    <tr style=\"text-align: right;\">\n",
       "      <th></th>\n",
       "      <th>pA</th>\n",
       "      <th>vA</th>\n",
       "      <th>pB</th>\n",
       "      <th>vB</th>\n",
       "    </tr>\n",
       "  </thead>\n",
       "  <tbody>\n",
       "    <tr>\n",
       "      <th>0</th>\n",
       "      <td>0.15</td>\n",
       "      <td>10</td>\n",
       "      <td>0.85</td>\n",
       "      <td>8</td>\n",
       "    </tr>\n",
       "    <tr>\n",
       "      <th>1</th>\n",
       "      <td>0.33</td>\n",
       "      <td>20</td>\n",
       "      <td>0.77</td>\n",
       "      <td>17</td>\n",
       "    </tr>\n",
       "    <tr>\n",
       "      <th>2</th>\n",
       "      <td>0.84</td>\n",
       "      <td>30</td>\n",
       "      <td>0.16</td>\n",
       "      <td>45</td>\n",
       "    </tr>\n",
       "  </tbody>\n",
       "</table>\n",
       "</div>"
      ],
      "text/plain": [
       "     pA  vA    pB  vB\n",
       "0  0.15  10  0.85   8\n",
       "1  0.33  20  0.77  17\n",
       "2  0.84  30  0.16  45"
      ]
     },
     "execution_count": 70,
     "metadata": {},
     "output_type": "execute_result"
    }
   ],
   "source": [
    "pA = [.15, .33, .84]\n",
    "vA = [10, 20, 30]\n",
    "pB = [.85, .77, .16]\n",
    "vB = [8, 17, 45]\n",
    "lots = pd.DataFrame({'pA':pA,\n",
    "                     'vA':vA,\n",
    "                     'pB':pB,\n",
    "                     'vB':vB})\n",
    "lots"
   ]
  },
  {
   "cell_type": "markdown",
   "id": "c6c3224e",
   "metadata": {},
   "source": [
    "Vectorized `eu()` via Numpy:"
   ]
  },
  {
   "cell_type": "code",
   "execution_count": 71,
   "id": "25bdb5c4",
   "metadata": {},
   "outputs": [],
   "source": [
    "def eu_v(lotteries, rho):\n",
    "    uA = np.power(lotteries['vA'], rho)\n",
    "    uB = np.power(lotteries['vB'], rho)\n",
    "    leu = pA*uA+pB*uB\n",
    "    return leu"
   ]
  },
  {
   "cell_type": "code",
   "execution_count": 72,
   "id": "b25e739a",
   "metadata": {},
   "outputs": [
    {
     "data": {
      "text/plain": [
       "0     4.125252\n",
       "1     7.595015\n",
       "2    10.252668\n",
       "dtype: float64"
      ]
     },
     "execution_count": 72,
     "metadata": {},
     "output_type": "execute_result"
    }
   ],
   "source": [
    "eu_v(lots,rho)"
   ]
  },
  {
   "cell_type": "markdown",
   "id": "48c6847f",
   "metadata": {},
   "source": [
    "**Yes:** you can perform vectorized operations and use vectorized functions on `pd.DataFrame` columns.\n",
    "**Remember:** a `pd.Series` object is, essentialy, a `np.array` with an index attached."
   ]
  },
  {
   "cell_type": "markdown",
   "id": "6da93f9c",
   "metadata": {},
   "source": [
    "Check (first lottery only):"
   ]
  },
  {
   "cell_type": "code",
   "execution_count": 73,
   "id": "8abaa2a4",
   "metadata": {},
   "outputs": [
    {
     "data": {
      "text/plain": [
       "4.125251582123641"
      ]
     },
     "execution_count": 73,
     "metadata": {},
     "output_type": "execute_result"
    }
   ],
   "source": [
    "pA[0]*vA[0]**rho + pB[0]*vB[0]**rho"
   ]
  },
  {
   "cell_type": "markdown",
   "id": "ef5f9e60",
   "metadata": {},
   "source": [
    "Check (second lottery only):"
   ]
  },
  {
   "cell_type": "code",
   "execution_count": 74,
   "id": "ec963533",
   "metadata": {},
   "outputs": [
    {
     "data": {
      "text/plain": [
       "7.595014907577726"
      ]
     },
     "execution_count": 74,
     "metadata": {},
     "output_type": "execute_result"
    }
   ],
   "source": [
    "pA[1]*vA[1]**rho + pB[1]*vB[1]**rho"
   ]
  },
  {
   "cell_type": "markdown",
   "id": "ea41625a",
   "metadata": {},
   "source": [
    "**N.B.** `np.vectorize` is not really recommended. As the Numpy documentation states:\n",
    "> The vectorize function is provided primarily for convenience, not for performance. The implementation is essentially a for loop.\n",
    "[numpy.vectorize](https://numpy.org/doc/stable/reference/generated/numpy.vectorize.html)\n",
    "\n",
    "You should always write your own vectorized functions with Numpy."
   ]
  },
  {
   "cell_type": "markdown",
   "id": "7ced22ee",
   "metadata": {},
   "source": [
    "***"
   ]
  },
  {
   "cell_type": "markdown",
   "id": "f9e4ddaa",
   "metadata": {},
   "source": [
    "Adding (or subtracting) vector and a scalar is not mathematically well-defined operation\n",
    "\n",
    "$$\\mathbf{v} \\pm \\lambda$$\n",
    "\n",
    "However, with Numpy we can still do it!"
   ]
  },
  {
   "cell_type": "code",
   "execution_count": 75,
   "id": "032c14fa",
   "metadata": {},
   "outputs": [
    {
     "data": {
      "text/plain": [
       "array([3, 2, 1])"
      ]
     },
     "execution_count": 75,
     "metadata": {},
     "output_type": "execute_result"
    }
   ],
   "source": [
    "v1"
   ]
  },
  {
   "cell_type": "code",
   "execution_count": 76,
   "id": "450b0edc",
   "metadata": {},
   "outputs": [
    {
     "data": {
      "text/plain": [
       "array([4, 3, 2])"
      ]
     },
     "execution_count": 76,
     "metadata": {},
     "output_type": "execute_result"
    }
   ],
   "source": [
    "v1 + 1"
   ]
  },
  {
   "cell_type": "code",
   "execution_count": 77,
   "id": "b44714e8",
   "metadata": {},
   "outputs": [
    {
     "data": {
      "text/plain": [
       "array([ 1,  0, -1])"
      ]
     },
     "execution_count": 77,
     "metadata": {},
     "output_type": "execute_result"
    }
   ],
   "source": [
    "v1 - 2"
   ]
  },
  {
   "cell_type": "markdown",
   "id": "44c796e0",
   "metadata": {},
   "source": [
    "By the grace of _**broadcasting**_, Numpy can handle this. What happens here actually? It's quite simple: Numpy *broadcasts* a scalar to an array of corresponding shape and performs the given operation:\n",
    "\n",
    "$$\\mathbf{v} + \\lambda \\rightarrow (v_1, v_2, \\ldots, v_n) \\pm (\\lambda, \\lambda, \\ldots, \\lambda).$$"
   ]
  },
  {
   "cell_type": "markdown",
   "id": "adebf95c",
   "metadata": {},
   "source": [
    "### 2.4. Vector products"
   ]
  },
  {
   "cell_type": "markdown",
   "id": "a662592f",
   "metadata": {},
   "source": [
    "One of the most important vector product in machine learning is the _**dot**_/_**inner**_/_**scalar**_ product of two vectors. Inner product of two vectors is a _**scalar**_ computed using the following formula:\n",
    "\n",
    "$$\\mathbf{u}\\cdot\\mathbf{v} = \\sum_{i=1}^n u_iv_i.$$"
   ]
  },
  {
   "cell_type": "markdown",
   "id": "8baacd12",
   "metadata": {},
   "source": [
    "Basically, it means the following: multiple two vectors elementwise, and sum all the elements. "
   ]
  },
  {
   "cell_type": "markdown",
   "id": "a75b0be2",
   "metadata": {},
   "source": [
    "![](../img/dot.png)"
   ]
  },
  {
   "cell_type": "markdown",
   "id": "727399dc",
   "metadata": {},
   "source": [
    "In Numpy, we do it using `np.dot()` or `@` operator (which is preferred, since it's faster than `np.dot()`)."
   ]
  },
  {
   "cell_type": "code",
   "execution_count": 78,
   "id": "06e43a91",
   "metadata": {},
   "outputs": [],
   "source": [
    "v1 = np.array([3, 2, 1])\n",
    "v2 = np.array([7, 9, 5])"
   ]
  },
  {
   "cell_type": "code",
   "execution_count": 79,
   "id": "a610eab0",
   "metadata": {},
   "outputs": [
    {
     "data": {
      "text/plain": [
       "44"
      ]
     },
     "execution_count": 79,
     "metadata": {},
     "output_type": "execute_result"
    }
   ],
   "source": [
    "np.dot(v1, v2)"
   ]
  },
  {
   "cell_type": "code",
   "execution_count": 80,
   "id": "3ffd6aab",
   "metadata": {},
   "outputs": [
    {
     "data": {
      "text/plain": [
       "44"
      ]
     },
     "execution_count": 80,
     "metadata": {},
     "output_type": "execute_result"
    }
   ],
   "source": [
    "v1 @ v2"
   ]
  },
  {
   "cell_type": "markdown",
   "id": "376981d3",
   "metadata": {},
   "source": [
    "Dot product is used in language models to measure how words are similar to one another - as words can be *embedded* as vectors into high-dimensional space. "
   ]
  },
  {
   "cell_type": "markdown",
   "id": "0c1a4526",
   "metadata": {},
   "source": [
    "***"
   ]
  },
  {
   "cell_type": "markdown",
   "id": "7e16bbab",
   "metadata": {},
   "source": [
    "<img src=\"..\\img\\perceptron.png\" width=\"250\">"
   ]
  },
  {
   "cell_type": "markdown",
   "id": "e441174a",
   "metadata": {},
   "source": [
    "_**Perceptron**_ is the simplest possible neural network. It consists of *input vector* $\\mathbf{x} = (x_1, x_2, \\ldots, x_k)$, *weights* $\\mathbf{w} = (w_1, w_2, \\ldots, w_k)$, (non-linear) *activation function* $f$ and output $\\hat{y}$.\n",
    "\n",
    "Weights $\\mathbf{w}$ are the learnable parameter of the model, and perceptron calculates output value $\\hat{y}$ via\n",
    "\n",
    "$$ \\hat{y} = f(\\mathbf{x}\\cdot\\mathbf{w}). $$"
   ]
  },
  {
   "cell_type": "markdown",
   "id": "fea6f88b",
   "metadata": {},
   "source": [
    "A perceptron learns model parameters in two steps:\n",
    "- forward feed\n",
    "- backpropagation.\n",
    "\n",
    "In *forward feed* we simply calculate the output value $\\hat{y}$ from the given input $\\mathbf{x}$ and current weights $\\mathbf{w}$ via the above formula. The value $\\hat{y}$ is in fact the predicted value of the target variable $y$. "
   ]
  },
  {
   "cell_type": "markdown",
   "id": "cc1167d6",
   "metadata": {},
   "source": [
    "*Backpropagation* is where the perceptron improves itself by updating its weights. It is a much complex affair than the forward-feed, as it requires some advanced math, involving partial derivatives, chain rules, tensor algebra and numerical optimization. We won't go into details of backprobagation, as it fairly surpasses the scope of this course. "
   ]
  },
  {
   "cell_type": "markdown",
   "id": "c35e5fc7",
   "metadata": {},
   "source": [
    "Say, we have trained a simple perceptron to predict weight of a fish given its dimension. Assume that we have obtained the following weight via training procedure:"
   ]
  },
  {
   "cell_type": "code",
   "execution_count": 81,
   "id": "714b99c6",
   "metadata": {},
   "outputs": [],
   "source": [
    "weights = np.array([9.77, 1.23, 1.11])"
   ]
  },
  {
   "cell_type": "markdown",
   "id": "00531c24",
   "metadata": {},
   "source": [
    "And our fish has has the following `length`, `height` and `width` dimensions:"
   ]
  },
  {
   "cell_type": "code",
   "execution_count": 82,
   "id": "ef16b831",
   "metadata": {},
   "outputs": [],
   "source": [
    "fish = np.array([23.2, 11.52, 4.02])"
   ]
  },
  {
   "cell_type": "markdown",
   "id": "86034da3",
   "metadata": {},
   "source": [
    "We predict fish weight by using the dot product:"
   ]
  },
  {
   "cell_type": "code",
   "execution_count": 83,
   "id": "8f9d500b",
   "metadata": {},
   "outputs": [
    {
     "data": {
      "text/plain": [
       "245.29579999999999"
      ]
     },
     "execution_count": 83,
     "metadata": {},
     "output_type": "execute_result"
    }
   ],
   "source": [
    "predict = np.max(fish @ weights, 0)\n",
    "predict"
   ]
  },
  {
   "cell_type": "markdown",
   "id": "9d815b57",
   "metadata": {},
   "source": [
    "`np.max(x, 0)` is called *ReLU* function, and it is often used as an activation function in neural networks."
   ]
  },
  {
   "cell_type": "markdown",
   "id": "8b99e25c",
   "metadata": {},
   "source": [
    "***"
   ]
  },
  {
   "cell_type": "markdown",
   "id": "706eff7d",
   "metadata": {},
   "source": [
    "Another type of vector product you might come across is _**outer product**_. Outer product of two vectors is a **matrix**. Assume the both vectors $\\mathbf{u}$ & $\\mathbf{v}$ are n-dimensional. Then, their outer product gives $n\\times n$ matrix defined by\n",
    "\n",
    "$$\\mathbf{u} \\otimes \\mathbf{v} = [u_iv_j]$$"
   ]
  },
  {
   "cell_type": "markdown",
   "id": "19695a86",
   "metadata": {},
   "source": [
    "![](../img/outer.png)"
   ]
  },
  {
   "cell_type": "markdown",
   "id": "4ca89d51",
   "metadata": {},
   "source": [
    "We perfomr outer product in Numpy using `np.outer()`. "
   ]
  },
  {
   "cell_type": "code",
   "execution_count": 84,
   "id": "1962c09e",
   "metadata": {},
   "outputs": [
    {
     "data": {
      "text/plain": [
       "array([[21, 27, 15],\n",
       "       [14, 18, 10],\n",
       "       [ 7,  9,  5]])"
      ]
     },
     "execution_count": 84,
     "metadata": {},
     "output_type": "execute_result"
    }
   ],
   "source": [
    "v1 = np.array([3, 2, 1])\n",
    "v2 = np.array([7, 9, 5])\n",
    "\n",
    "np.outer(v1, v2)"
   ]
  },
  {
   "cell_type": "markdown",
   "id": "71f14c2c",
   "metadata": {},
   "source": [
    "For outer product, vectors needn't be the same size."
   ]
  },
  {
   "cell_type": "code",
   "execution_count": 85,
   "id": "25d3e173",
   "metadata": {},
   "outputs": [],
   "source": [
    "v3 = np.array([-1, 0, 1, 10])"
   ]
  },
  {
   "cell_type": "code",
   "execution_count": 86,
   "id": "7603c992",
   "metadata": {
    "scrolled": true
   },
   "outputs": [
    {
     "data": {
      "text/plain": [
       "array([[-3,  0,  3, 30],\n",
       "       [-2,  0,  2, 20],\n",
       "       [-1,  0,  1, 10]])"
      ]
     },
     "execution_count": 86,
     "metadata": {},
     "output_type": "execute_result"
    }
   ],
   "source": [
    "np.outer(v1, v3)"
   ]
  },
  {
   "cell_type": "markdown",
   "id": "01280472",
   "metadata": {},
   "source": [
    "The outer product is not comutative!"
   ]
  },
  {
   "cell_type": "code",
   "execution_count": 87,
   "id": "54412a59",
   "metadata": {},
   "outputs": [
    {
     "data": {
      "text/plain": [
       "array([[-3, -2, -1],\n",
       "       [ 0,  0,  0],\n",
       "       [ 3,  2,  1],\n",
       "       [30, 20, 10]])"
      ]
     },
     "execution_count": 87,
     "metadata": {},
     "output_type": "execute_result"
    }
   ],
   "source": [
    "np.outer(v3, v1)"
   ]
  },
  {
   "cell_type": "markdown",
   "id": "642bab16",
   "metadata": {},
   "source": [
    "So, we have already took a peak into matrices, so let's move on to see what we can do with Numpy and matrices."
   ]
  },
  {
   "cell_type": "markdown",
   "id": "a13a84f9",
   "metadata": {},
   "source": [
    "## 3. Matrices"
   ]
  },
  {
   "cell_type": "markdown",
   "id": "ac9d9d9b",
   "metadata": {},
   "source": [
    "As we said before - matrices are two-dimensional arrays, as we always need two indices to locate any of its elements. Each matrix has a $n\\times m$ shape, where $n$ represnts the number of its *rows* and $m$ number of its *columns*. Rows and columns of a matrix are also often referred as its *axes*."
   ]
  },
  {
   "cell_type": "markdown",
   "id": "05077f9f",
   "metadata": {},
   "source": [
    "The most straightforward way to define matrix in Numpy is to cast a nested list of lists:"
   ]
  },
  {
   "cell_type": "code",
   "execution_count": 88,
   "id": "26069306",
   "metadata": {},
   "outputs": [
    {
     "data": {
      "text/plain": [
       "array([[ 1,  2,  3,  4],\n",
       "       [ 5,  6,  7,  8],\n",
       "       [ 9, 10, 11, 12]])"
      ]
     },
     "execution_count": 88,
     "metadata": {},
     "output_type": "execute_result"
    }
   ],
   "source": [
    "l = [[1, 2, 3, 4], [5, 6, 7, 8], [9, 10, 11, 12]]\n",
    "\n",
    "A = np.array(l)\n",
    "A"
   ]
  },
  {
   "cell_type": "code",
   "execution_count": 89,
   "id": "4fa47356",
   "metadata": {},
   "outputs": [
    {
     "data": {
      "text/plain": [
       "(3, 4)"
      ]
     },
     "execution_count": 89,
     "metadata": {},
     "output_type": "execute_result"
    }
   ],
   "source": [
    "A.shape"
   ]
  },
  {
   "cell_type": "markdown",
   "id": "4627c477",
   "metadata": {},
   "source": [
    "Remember the difference between the `.shape` and `.ndim`!"
   ]
  },
  {
   "cell_type": "code",
   "execution_count": 90,
   "id": "427e1be9",
   "metadata": {},
   "outputs": [
    {
     "data": {
      "text/plain": [
       "2"
      ]
     },
     "execution_count": 90,
     "metadata": {},
     "output_type": "execute_result"
    }
   ],
   "source": [
    "A.ndim"
   ]
  },
  {
   "cell_type": "markdown",
   "id": "5a69b63f",
   "metadata": {},
   "source": [
    "Every matrix will have its *array dimensionality* equal to two, regardless of its shape."
   ]
  },
  {
   "cell_type": "markdown",
   "id": "e564b4f2",
   "metadata": {},
   "source": [
    "You can also create matrices from vectors by *reshaping* them using `.reshape()`:"
   ]
  },
  {
   "cell_type": "code",
   "execution_count": 91,
   "id": "85ebd5bc",
   "metadata": {},
   "outputs": [
    {
     "data": {
      "text/plain": [
       "array([ 1,  2,  3,  4,  5,  6,  7,  8,  9, 10, 11, 12])"
      ]
     },
     "execution_count": 91,
     "metadata": {},
     "output_type": "execute_result"
    }
   ],
   "source": [
    "v = np.arange(1, 13)\n",
    "v"
   ]
  },
  {
   "cell_type": "code",
   "execution_count": 92,
   "id": "c5c529af",
   "metadata": {},
   "outputs": [
    {
     "data": {
      "text/plain": [
       "array([[ 1,  2,  3,  4,  5,  6],\n",
       "       [ 7,  8,  9, 10, 11, 12]])"
      ]
     },
     "execution_count": 92,
     "metadata": {},
     "output_type": "execute_result"
    }
   ],
   "source": [
    "v.reshape(2, 6)"
   ]
  },
  {
   "cell_type": "code",
   "execution_count": 93,
   "id": "57ec7cb6",
   "metadata": {},
   "outputs": [
    {
     "data": {
      "text/plain": [
       "array([[ 1,  2,  3],\n",
       "       [ 4,  5,  6],\n",
       "       [ 7,  8,  9],\n",
       "       [10, 11, 12]])"
      ]
     },
     "execution_count": 93,
     "metadata": {},
     "output_type": "execute_result"
    }
   ],
   "source": [
    "v.reshape(4, 3)"
   ]
  },
  {
   "cell_type": "code",
   "execution_count": 94,
   "id": "9c2d877b",
   "metadata": {},
   "outputs": [
    {
     "ename": "ValueError",
     "evalue": "cannot reshape array of size 12 into shape (7,3)",
     "output_type": "error",
     "traceback": [
      "\u001b[1;31m---------------------------------------------------------------------------\u001b[0m",
      "\u001b[1;31mValueError\u001b[0m                                Traceback (most recent call last)",
      "\u001b[1;32m<ipython-input-94-9fd96ffac44a>\u001b[0m in \u001b[0;36m<module>\u001b[1;34m\u001b[0m\n\u001b[0;32m      1\u001b[0m \u001b[1;31m# BUT!\u001b[0m\u001b[1;33m\u001b[0m\u001b[1;33m\u001b[0m\u001b[1;33m\u001b[0m\u001b[0m\n\u001b[1;32m----> 2\u001b[1;33m \u001b[0mv\u001b[0m\u001b[1;33m.\u001b[0m\u001b[0mreshape\u001b[0m\u001b[1;33m(\u001b[0m\u001b[1;36m7\u001b[0m\u001b[1;33m,\u001b[0m \u001b[1;36m3\u001b[0m\u001b[1;33m)\u001b[0m\u001b[1;33m\u001b[0m\u001b[1;33m\u001b[0m\u001b[0m\n\u001b[0m",
      "\u001b[1;31mValueError\u001b[0m: cannot reshape array of size 12 into shape (7,3)"
     ]
    }
   ],
   "source": [
    "# BUT!\n",
    "v.reshape(7, 3)"
   ]
  },
  {
   "cell_type": "markdown",
   "id": "921fbb42",
   "metadata": {},
   "source": [
    "When reshaping, you must always make sure you can reshape your vector into compatible shape. You can see more on reshaping in this session's tasklist."
   ]
  },
  {
   "cell_type": "markdown",
   "id": "1cf818ff",
   "metadata": {},
   "source": [
    "Another way to create a matrix from vectors is by stacking them using `np.vstack()`."
   ]
  },
  {
   "cell_type": "code",
   "execution_count": 95,
   "id": "9475d0ae",
   "metadata": {},
   "outputs": [
    {
     "data": {
      "text/plain": [
       "array([[3, 2, 1],\n",
       "       [7, 9, 5],\n",
       "       [1, 0, 2]])"
      ]
     },
     "execution_count": 95,
     "metadata": {},
     "output_type": "execute_result"
    }
   ],
   "source": [
    "v1 = np.array([3, 2, 1])\n",
    "v2 = np.array([7, 9, 5])\n",
    "v4 = np.array([1, 0, 2])\n",
    "\n",
    "np.vstack([v1, v2, v4])"
   ]
  },
  {
   "cell_type": "code",
   "execution_count": 96,
   "id": "166442a0",
   "metadata": {},
   "outputs": [
    {
     "data": {
      "text/plain": [
       "array([[1., 1., 1., 1.],\n",
       "       [1., 1., 1., 1.],\n",
       "       [1., 1., 1., 1.]])"
      ]
     },
     "execution_count": 96,
     "metadata": {},
     "output_type": "execute_result"
    }
   ],
   "source": [
    "# matrix of ones\n",
    "np.ones(shape=(3, 4))"
   ]
  },
  {
   "cell_type": "code",
   "execution_count": 97,
   "id": "3323f498",
   "metadata": {},
   "outputs": [
    {
     "data": {
      "text/plain": [
       "array([[0., 0.],\n",
       "       [0., 0.],\n",
       "       [0., 0.],\n",
       "       [0., 0.],\n",
       "       [0., 0.]])"
      ]
     },
     "execution_count": 97,
     "metadata": {},
     "output_type": "execute_result"
    }
   ],
   "source": [
    "# matrix of zeros\n",
    "np.zeros((5, 2))"
   ]
  },
  {
   "cell_type": "markdown",
   "id": "724d52cf",
   "metadata": {},
   "source": [
    "A very important matrix in linear algebra is the *identity matrix*, which has ones on its main diagonal, and zeros elsewhere:"
   ]
  },
  {
   "cell_type": "code",
   "execution_count": 98,
   "id": "72cbc1a6",
   "metadata": {},
   "outputs": [
    {
     "data": {
      "text/plain": [
       "array([[1., 0., 0., 0.],\n",
       "       [0., 1., 0., 0.],\n",
       "       [0., 0., 1., 0.],\n",
       "       [0., 0., 0., 1.]])"
      ]
     },
     "execution_count": 98,
     "metadata": {},
     "output_type": "execute_result"
    }
   ],
   "source": [
    "np.identity(4)"
   ]
  },
  {
   "cell_type": "markdown",
   "id": "458ee495",
   "metadata": {},
   "source": [
    "Identity matrix is a special case of *diagonal matrix*:"
   ]
  },
  {
   "cell_type": "code",
   "execution_count": 99,
   "id": "bc80aa9f",
   "metadata": {},
   "outputs": [
    {
     "data": {
      "text/plain": [
       "array([[-2.  ,  0.  ,  0.  ,  0.  ],\n",
       "       [ 0.  ,  3.14,  0.  ,  0.  ],\n",
       "       [ 0.  ,  0.  ,  6.  ,  0.  ],\n",
       "       [ 0.  ,  0.  ,  0.  ,  1.  ]])"
      ]
     },
     "execution_count": 99,
     "metadata": {},
     "output_type": "execute_result"
    }
   ],
   "source": [
    "np.diag([-2, 3.14, 6, 1])"
   ]
  },
  {
   "cell_type": "markdown",
   "id": "b6e0492e",
   "metadata": {},
   "source": [
    "A very important operation for matrices is _**matrix transpose**_ which reverses its axes (i.e. matrix transpose makes it rows into a columns and vice versa). If $A = [a_{ij}]$ is some matrix of $m\\times n$ shape, then its transpose is:\n",
    "\n",
    "$$A^T = [a_{ji}],$$\n",
    "\n",
    "and it is of shape $n\\times m$.\n",
    "\n",
    "To perform matrix transpose in Numpy, just attach `.T` to a matrix."
   ]
  },
  {
   "cell_type": "code",
   "execution_count": 100,
   "id": "ff7e1d1b",
   "metadata": {},
   "outputs": [
    {
     "data": {
      "text/plain": [
       "array([[ 1,  2,  3,  4],\n",
       "       [ 5,  6,  7,  8],\n",
       "       [ 9, 10, 11, 12]])"
      ]
     },
     "execution_count": 100,
     "metadata": {},
     "output_type": "execute_result"
    }
   ],
   "source": [
    "A"
   ]
  },
  {
   "cell_type": "code",
   "execution_count": 101,
   "id": "359dcf26",
   "metadata": {},
   "outputs": [
    {
     "data": {
      "text/plain": [
       "(3, 4)"
      ]
     },
     "execution_count": 101,
     "metadata": {},
     "output_type": "execute_result"
    }
   ],
   "source": [
    "A.shape"
   ]
  },
  {
   "cell_type": "code",
   "execution_count": 102,
   "id": "e2965974",
   "metadata": {},
   "outputs": [
    {
     "data": {
      "text/plain": [
       "array([[ 1,  5,  9],\n",
       "       [ 2,  6, 10],\n",
       "       [ 3,  7, 11],\n",
       "       [ 4,  8, 12]])"
      ]
     },
     "execution_count": 102,
     "metadata": {},
     "output_type": "execute_result"
    }
   ],
   "source": [
    "A.T"
   ]
  },
  {
   "cell_type": "code",
   "execution_count": 103,
   "id": "8bb23dc9",
   "metadata": {},
   "outputs": [
    {
     "data": {
      "text/plain": [
       "(4, 3)"
      ]
     },
     "execution_count": 103,
     "metadata": {},
     "output_type": "execute_result"
    }
   ],
   "source": [
    "A.T.shape"
   ]
  },
  {
   "cell_type": "markdown",
   "id": "5766c989",
   "metadata": {},
   "source": [
    "***"
   ]
  },
  {
   "cell_type": "markdown",
   "id": "5e316b32",
   "metadata": {},
   "source": [
    "In order to select a given element of a matrix, you need two indices:"
   ]
  },
  {
   "cell_type": "code",
   "execution_count": 104,
   "id": "ba49e08a",
   "metadata": {},
   "outputs": [
    {
     "data": {
      "text/plain": [
       "array([[ 1,  2,  3,  4,  5,  6],\n",
       "       [ 7,  8,  9, 10, 11, 12],\n",
       "       [13, 14, 15, 16, 17, 18],\n",
       "       [19, 20, 21, 22, 23, 24],\n",
       "       [25, 26, 27, 28, 29, 30]])"
      ]
     },
     "execution_count": 104,
     "metadata": {},
     "output_type": "execute_result"
    }
   ],
   "source": [
    "B = np.arange(1, 31).reshape(5, 6)\n",
    "B"
   ]
  },
  {
   "cell_type": "code",
   "execution_count": 105,
   "id": "4d626919",
   "metadata": {},
   "outputs": [
    {
     "data": {
      "text/plain": [
       "11"
      ]
     },
     "execution_count": 105,
     "metadata": {},
     "output_type": "execute_result"
    }
   ],
   "source": [
    "B[1, 4]"
   ]
  },
  {
   "cell_type": "code",
   "execution_count": 106,
   "id": "e0b5f9b1",
   "metadata": {},
   "outputs": [
    {
     "data": {
      "text/plain": [
       "26"
      ]
     },
     "execution_count": 106,
     "metadata": {},
     "output_type": "execute_result"
    }
   ],
   "source": [
    "B[4, 1]"
   ]
  },
  {
   "cell_type": "markdown",
   "id": "39f0adc5",
   "metadata": {},
   "source": [
    "The first coordinate always corresponds to rows, and the second to columns.\n",
    "\n",
    "We can also slice matrices by rows, colums, or bothways."
   ]
  },
  {
   "cell_type": "code",
   "execution_count": 107,
   "id": "49d03c67",
   "metadata": {},
   "outputs": [
    {
     "data": {
      "text/plain": [
       "array([[19, 20, 21, 22, 23, 24],\n",
       "       [25, 26, 27, 28, 29, 30]])"
      ]
     },
     "execution_count": 107,
     "metadata": {},
     "output_type": "execute_result"
    }
   ],
   "source": [
    "# slicing by rows\n",
    "B[3:]"
   ]
  },
  {
   "cell_type": "code",
   "execution_count": 108,
   "id": "4cad4420",
   "metadata": {},
   "outputs": [
    {
     "data": {
      "text/plain": [
       "array([[ 1,  2,  3,  4,  5,  6],\n",
       "       [ 7,  8,  9, 10, 11, 12],\n",
       "       [13, 14, 15, 16, 17, 18]])"
      ]
     },
     "execution_count": 108,
     "metadata": {},
     "output_type": "execute_result"
    }
   ],
   "source": [
    "B[:3]"
   ]
  },
  {
   "cell_type": "code",
   "execution_count": 109,
   "id": "f54f4886",
   "metadata": {},
   "outputs": [
    {
     "data": {
      "text/plain": [
       "array([[ 7,  8,  9, 10, 11, 12],\n",
       "       [19, 20, 21, 22, 23, 24]])"
      ]
     },
     "execution_count": 109,
     "metadata": {},
     "output_type": "execute_result"
    }
   ],
   "source": [
    "B[1:4:2]"
   ]
  },
  {
   "cell_type": "code",
   "execution_count": 110,
   "id": "561933a3",
   "metadata": {},
   "outputs": [
    {
     "data": {
      "text/plain": [
       "array([[ 4,  5,  6],\n",
       "       [10, 11, 12],\n",
       "       [16, 17, 18],\n",
       "       [22, 23, 24],\n",
       "       [28, 29, 30]])"
      ]
     },
     "execution_count": 110,
     "metadata": {},
     "output_type": "execute_result"
    }
   ],
   "source": [
    "# slicing by columns\n",
    "B[:, 3:]"
   ]
  },
  {
   "cell_type": "code",
   "execution_count": 111,
   "id": "a3a51f3d",
   "metadata": {},
   "outputs": [
    {
     "data": {
      "text/plain": [
       "array([[ 1,  2,  3],\n",
       "       [ 7,  8,  9],\n",
       "       [13, 14, 15],\n",
       "       [19, 20, 21],\n",
       "       [25, 26, 27]])"
      ]
     },
     "execution_count": 111,
     "metadata": {},
     "output_type": "execute_result"
    }
   ],
   "source": [
    "B[:, :3]"
   ]
  },
  {
   "cell_type": "code",
   "execution_count": 112,
   "id": "afaccb24",
   "metadata": {},
   "outputs": [
    {
     "data": {
      "text/plain": [
       "array([[ 2,  4],\n",
       "       [ 8, 10],\n",
       "       [14, 16],\n",
       "       [20, 22],\n",
       "       [26, 28]])"
      ]
     },
     "execution_count": 112,
     "metadata": {},
     "output_type": "execute_result"
    }
   ],
   "source": [
    "B[:, 1:4:2]"
   ]
  },
  {
   "cell_type": "code",
   "execution_count": 113,
   "id": "99491f6a",
   "metadata": {},
   "outputs": [
    {
     "data": {
      "text/plain": [
       "array([[ 9, 10, 11],\n",
       "       [15, 16, 17],\n",
       "       [21, 22, 23]])"
      ]
     },
     "execution_count": 113,
     "metadata": {},
     "output_type": "execute_result"
    }
   ],
   "source": [
    "# bothways\n",
    "B[1:4, 2:5]"
   ]
  },
  {
   "cell_type": "code",
   "execution_count": 114,
   "id": "07da0594",
   "metadata": {},
   "outputs": [
    {
     "data": {
      "text/plain": [
       "array([[ 7,  8,  9, 10, 11],\n",
       "       [13, 14, 15, 16, 17],\n",
       "       [19, 20, 21, 22, 23],\n",
       "       [25, 26, 27, 28, 29]])"
      ]
     },
     "execution_count": 114,
     "metadata": {},
     "output_type": "execute_result"
    }
   ],
   "source": [
    "B[1:, :5]"
   ]
  },
  {
   "cell_type": "markdown",
   "id": "ca33c95a",
   "metadata": {},
   "source": [
    "You can also select particular rows/columns using indexing."
   ]
  },
  {
   "cell_type": "code",
   "execution_count": 115,
   "id": "eabd322d",
   "metadata": {},
   "outputs": [
    {
     "data": {
      "text/plain": [
       "array([[ 1,  2,  3,  4,  5,  6],\n",
       "       [25, 26, 27, 28, 29, 30],\n",
       "       [13, 14, 15, 16, 17, 18]])"
      ]
     },
     "execution_count": 115,
     "metadata": {},
     "output_type": "execute_result"
    }
   ],
   "source": [
    "# whole rows\n",
    "B[[0, -1, 2]]"
   ]
  },
  {
   "cell_type": "code",
   "execution_count": 116,
   "id": "3125d50f",
   "metadata": {},
   "outputs": [
    {
     "data": {
      "text/plain": [
       "array([[ 1,  6,  3],\n",
       "       [ 7, 12,  9],\n",
       "       [13, 18, 15],\n",
       "       [19, 24, 21],\n",
       "       [25, 30, 27]])"
      ]
     },
     "execution_count": 116,
     "metadata": {},
     "output_type": "execute_result"
    }
   ],
   "source": [
    "# whole columns\n",
    "B[:, [0, -1, 2]]"
   ]
  },
  {
   "cell_type": "code",
   "execution_count": 117,
   "id": "6611fbd1",
   "metadata": {},
   "outputs": [
    {
     "data": {
      "text/plain": [
       "array([ 2, 28, 13])"
      ]
     },
     "execution_count": 117,
     "metadata": {},
     "output_type": "execute_result"
    }
   ],
   "source": [
    "# particular elements\n",
    "B[[0, -1, 2], [1, 3, 0]]"
   ]
  },
  {
   "cell_type": "code",
   "execution_count": 118,
   "id": "42488674",
   "metadata": {},
   "outputs": [
    {
     "data": {
      "text/plain": [
       "array([[ 1,  2,  3,  4,  5,  6],\n",
       "       [ 7,  8,  9, 10, 11, 12],\n",
       "       [13, 14, 15, 16, 17, 18],\n",
       "       [19, 20, 21, 22, 23, 24],\n",
       "       [25, 26, 27, 28, 29, 30]])"
      ]
     },
     "execution_count": 118,
     "metadata": {},
     "output_type": "execute_result"
    }
   ],
   "source": [
    "B"
   ]
  },
  {
   "cell_type": "markdown",
   "id": "7765f028",
   "metadata": {},
   "source": [
    "We can also use `np.ix_` to subset a submatrix from a given matrix."
   ]
  },
  {
   "cell_type": "code",
   "execution_count": 119,
   "id": "ffea972d",
   "metadata": {},
   "outputs": [
    {
     "data": {
      "text/plain": [
       "array([[ 7,  8,  9, 10, 11, 12],\n",
       "       [25, 26, 27, 28, 29, 30]])"
      ]
     },
     "execution_count": 119,
     "metadata": {},
     "output_type": "execute_result"
    }
   ],
   "source": [
    "B[np.ix_([1, 4])]"
   ]
  },
  {
   "cell_type": "code",
   "execution_count": 120,
   "id": "db738e7f",
   "metadata": {},
   "outputs": [
    {
     "data": {
      "text/plain": [
       "array([[ 7, 10, 12],\n",
       "       [25, 28, 30]])"
      ]
     },
     "execution_count": 120,
     "metadata": {},
     "output_type": "execute_result"
    }
   ],
   "source": [
    "B[np.ix_([1, 4], [0, 3, 5])]"
   ]
  },
  {
   "cell_type": "markdown",
   "id": "0a625e97",
   "metadata": {},
   "source": [
    "You can also use conditional indexing on matrices, but it will reduce it to vector of values satisfying given conditions."
   ]
  },
  {
   "cell_type": "code",
   "execution_count": 121,
   "id": "56253d0c",
   "metadata": {},
   "outputs": [
    {
     "name": "stdout",
     "output_type": "stream",
     "text": [
      "[[  1.   2.   3.   4.   5.   6.   7.   8.   9.  10.]\n",
      " [ 11.  12.  13.  14.  15.  16.  17.  18.  19.  20.]\n",
      " [ 21.  22.  23.  24.  25.  26.  27.  28.  29.  30.]\n",
      " [ 31.  32.  33.  34.  35.  36.  37.  38.  39.  40.]\n",
      " [ 41.  42.  43.  44.  45.  46.  47.  48.  49.  50.]\n",
      " [ 51.  52.  53.  54.  55.  56.  57.  58.  59.  60.]\n",
      " [ 61.  62.  63.  64.  65.  66.  67.  68.  69.  70.]\n",
      " [ 71.  72.  73.  74.  75.  76.  77.  78.  79.  80.]\n",
      " [ 81.  82.  83.  84.  85.  86.  87.  88.  89.  90.]\n",
      " [ 91.  92.  93.  94.  95.  96.  97.  98.  99. 100.]]\n"
     ]
    }
   ],
   "source": [
    "C = np.linspace(1, 100, 100).reshape(10, 10)\n",
    "print(C)"
   ]
  },
  {
   "cell_type": "code",
   "execution_count": 122,
   "id": "656c5145",
   "metadata": {},
   "outputs": [
    {
     "data": {
      "text/plain": [
       "array([11., 12., 13., 14., 15., 16., 17., 18., 19., 20., 21., 22., 23.,\n",
       "       24., 25., 26., 27., 28., 29., 30., 31., 32., 33., 34., 35., 36.,\n",
       "       37., 38., 39., 40., 41., 42., 43., 44., 45., 46., 47., 48., 49.])"
      ]
     },
     "execution_count": 122,
     "metadata": {},
     "output_type": "execute_result"
    }
   ],
   "source": [
    "c_cond = C[(C < 50) & (C > 10)]\n",
    "c_cond"
   ]
  },
  {
   "cell_type": "code",
   "execution_count": 123,
   "id": "82dc1745",
   "metadata": {},
   "outputs": [
    {
     "data": {
      "text/plain": [
       "1"
      ]
     },
     "execution_count": 123,
     "metadata": {},
     "output_type": "execute_result"
    }
   ],
   "source": [
    "c_cond.ndim"
   ]
  },
  {
   "cell_type": "markdown",
   "id": "1b63d3ad",
   "metadata": {},
   "source": [
    "### 3.1 Array reduction"
   ]
  },
  {
   "cell_type": "markdown",
   "id": "4876bd36",
   "metadata": {},
   "source": [
    "Say, we want to sum all the elements of a given matrix. We can do it using `np.sum()`."
   ]
  },
  {
   "cell_type": "code",
   "execution_count": 124,
   "id": "6303be22",
   "metadata": {},
   "outputs": [
    {
     "data": {
      "text/plain": [
       "array([[ 1,  2,  3,  4,  5,  6],\n",
       "       [ 7,  8,  9, 10, 11, 12],\n",
       "       [13, 14, 15, 16, 17, 18],\n",
       "       [19, 20, 21, 22, 23, 24],\n",
       "       [25, 26, 27, 28, 29, 30]])"
      ]
     },
     "execution_count": 124,
     "metadata": {},
     "output_type": "execute_result"
    }
   ],
   "source": [
    "B"
   ]
  },
  {
   "cell_type": "code",
   "execution_count": 125,
   "id": "caa8af1e",
   "metadata": {},
   "outputs": [
    {
     "data": {
      "text/plain": [
       "465"
      ]
     },
     "execution_count": 125,
     "metadata": {},
     "output_type": "execute_result"
    }
   ],
   "source": [
    "np.sum(B)"
   ]
  },
  {
   "cell_type": "code",
   "execution_count": 126,
   "id": "45547fa5",
   "metadata": {},
   "outputs": [
    {
     "data": {
      "text/plain": [
       "465"
      ]
     },
     "execution_count": 126,
     "metadata": {},
     "output_type": "execute_result"
    }
   ],
   "source": [
    "# or like this\n",
    "B.sum()"
   ]
  },
  {
   "cell_type": "markdown",
   "id": "99bb5460",
   "metadata": {},
   "source": [
    "In this manner we have reduced our matrix to a single number. But what if we wanted to sum by every row/column. Then we need to specify an axis."
   ]
  },
  {
   "cell_type": "code",
   "execution_count": 127,
   "id": "8a32cba2",
   "metadata": {},
   "outputs": [
    {
     "data": {
      "text/plain": [
       "array([65, 70, 75, 80, 85, 90])"
      ]
     },
     "execution_count": 127,
     "metadata": {},
     "output_type": "execute_result"
    }
   ],
   "source": [
    "# row-reduction\n",
    "np.sum(B, axis=0)"
   ]
  },
  {
   "cell_type": "markdown",
   "id": "fabe9eb2",
   "metadata": {},
   "source": [
    "By specifying `axis=0`, we have performed *row-reduction* by suming every row, column-by-column. Effectively we have obtained a sum of every column in this manner."
   ]
  },
  {
   "cell_type": "code",
   "execution_count": 128,
   "id": "0418645a",
   "metadata": {},
   "outputs": [
    {
     "data": {
      "text/plain": [
       "array([65, 70, 75, 80, 85, 90])"
      ]
     },
     "execution_count": 128,
     "metadata": {},
     "output_type": "execute_result"
    }
   ],
   "source": [
    "# another way to do it\n",
    "B.sum(0)"
   ]
  },
  {
   "cell_type": "markdown",
   "id": "dcd35d87",
   "metadata": {},
   "source": [
    "More formally, if we have matrix $B = [b_{ij}]$ of shape $m\\times n$, we reduce it to n-dimensional vector $\\mathbf{x}$ with elements\n",
    "\n",
    "$$x_j = \\sum_{i=1}^m b_{ij}\\qquad j=1,\\ldots,n.$$"
   ]
  },
  {
   "cell_type": "code",
   "execution_count": 129,
   "id": "6357e07c",
   "metadata": {},
   "outputs": [
    {
     "data": {
      "text/plain": [
       "array([ 21,  57,  93, 129, 165])"
      ]
     },
     "execution_count": 129,
     "metadata": {},
     "output_type": "execute_result"
    }
   ],
   "source": [
    "np.sum(B, axis=1)"
   ]
  },
  {
   "cell_type": "markdown",
   "id": "4e45b999",
   "metadata": {},
   "source": [
    "By specifying `axis=1`, we have performed *column-reduction* by suming every column, row-by-row. Effectively we have obtained a sum of every row in this manner."
   ]
  },
  {
   "cell_type": "code",
   "execution_count": 130,
   "id": "1166a4f6",
   "metadata": {},
   "outputs": [
    {
     "data": {
      "text/plain": [
       "array([ 21,  57,  93, 129, 165])"
      ]
     },
     "execution_count": 130,
     "metadata": {},
     "output_type": "execute_result"
    }
   ],
   "source": [
    "# another way to do it\n",
    "B.sum(1)"
   ]
  },
  {
   "cell_type": "markdown",
   "id": "30cd57e7",
   "metadata": {},
   "source": [
    "More formally, if we have matrix $B = [b_{ij}]$ of shape $m\\times n$, we reduce it to m-dimensional vector $\\mathbf{y}$ with elements\n",
    "\n",
    "$$y_i = \\sum_{j=1}^n b_{ij}\\qquad i=1,\\ldots,m.$$"
   ]
  },
  {
   "cell_type": "markdown",
   "id": "cbf91c3c",
   "metadata": {},
   "source": [
    "We can use many other operations in this manner, such as `np.mean()`, `np.max()`, `np.min()`, etc."
   ]
  },
  {
   "cell_type": "code",
   "execution_count": 131,
   "id": "831e27ca",
   "metadata": {},
   "outputs": [
    {
     "data": {
      "text/plain": [
       "15.5"
      ]
     },
     "execution_count": 131,
     "metadata": {},
     "output_type": "execute_result"
    }
   ],
   "source": [
    "# whole matrix reduction\n",
    "np.mean(B)"
   ]
  },
  {
   "cell_type": "code",
   "execution_count": 132,
   "id": "74350cd7",
   "metadata": {},
   "outputs": [
    {
     "data": {
      "text/plain": [
       "array([13., 14., 15., 16., 17., 18.])"
      ]
     },
     "execution_count": 132,
     "metadata": {},
     "output_type": "execute_result"
    }
   ],
   "source": [
    "# row-reduction\n",
    "np.mean(B, axis=0)"
   ]
  },
  {
   "cell_type": "code",
   "execution_count": 133,
   "id": "a3353584",
   "metadata": {},
   "outputs": [
    {
     "data": {
      "text/plain": [
       "array([ 3.5,  9.5, 15.5, 21.5, 27.5])"
      ]
     },
     "execution_count": 133,
     "metadata": {},
     "output_type": "execute_result"
    }
   ],
   "source": [
    "# column-reduction\n",
    "B.mean(1)"
   ]
  },
  {
   "cell_type": "markdown",
   "id": "54794e0a",
   "metadata": {},
   "source": [
    "A pair of very useful Numpy functions which can perform array reduction are `np.any()` and `np.all()` which can check whether at leas one, or all, elements of the array satisfy a given condition."
   ]
  },
  {
   "cell_type": "code",
   "execution_count": 134,
   "id": "7bd206de",
   "metadata": {},
   "outputs": [
    {
     "data": {
      "text/plain": [
       "array([[ 1,  2,  3,  4,  5,  6],\n",
       "       [ 7,  8,  9, 10, 11, 12],\n",
       "       [13, 14, 15, 16, 17, 18],\n",
       "       [19, 20, 21, 22, 23, 24],\n",
       "       [25, 26, 27, 28, 29, 30]])"
      ]
     },
     "execution_count": 134,
     "metadata": {},
     "output_type": "execute_result"
    }
   ],
   "source": [
    "B"
   ]
  },
  {
   "cell_type": "code",
   "execution_count": 135,
   "id": "d2eaeded",
   "metadata": {},
   "outputs": [
    {
     "data": {
      "text/plain": [
       "True"
      ]
     },
     "execution_count": 135,
     "metadata": {},
     "output_type": "execute_result"
    }
   ],
   "source": [
    "np.any(B > 15)"
   ]
  },
  {
   "cell_type": "code",
   "execution_count": 136,
   "id": "8721edbd",
   "metadata": {},
   "outputs": [
    {
     "data": {
      "text/plain": [
       "array([ True,  True,  True,  True,  True,  True])"
      ]
     },
     "execution_count": 136,
     "metadata": {},
     "output_type": "execute_result"
    }
   ],
   "source": [
    "np.any(B > 15, axis=0)"
   ]
  },
  {
   "cell_type": "code",
   "execution_count": 137,
   "id": "5bdbec10",
   "metadata": {},
   "outputs": [
    {
     "data": {
      "text/plain": [
       "array([False, False,  True,  True,  True])"
      ]
     },
     "execution_count": 137,
     "metadata": {},
     "output_type": "execute_result"
    }
   ],
   "source": [
    "np.any(B > 15, axis=1)"
   ]
  },
  {
   "cell_type": "code",
   "execution_count": 138,
   "id": "78b1d091",
   "metadata": {},
   "outputs": [
    {
     "data": {
      "text/plain": [
       "False"
      ]
     },
     "execution_count": 138,
     "metadata": {},
     "output_type": "execute_result"
    }
   ],
   "source": [
    "np.all(B > 15)"
   ]
  },
  {
   "cell_type": "code",
   "execution_count": 139,
   "id": "ff9b161b",
   "metadata": {},
   "outputs": [
    {
     "data": {
      "text/plain": [
       "array([False, False, False, False, False, False])"
      ]
     },
     "execution_count": 139,
     "metadata": {},
     "output_type": "execute_result"
    }
   ],
   "source": [
    "np.all(B > 15, axis=0)"
   ]
  },
  {
   "cell_type": "code",
   "execution_count": 140,
   "id": "bbc4c6eb",
   "metadata": {},
   "outputs": [
    {
     "data": {
      "text/plain": [
       "array([False, False, False,  True,  True])"
      ]
     },
     "execution_count": 140,
     "metadata": {},
     "output_type": "execute_result"
    }
   ],
   "source": [
    "np.all(B > 15, axis=1)"
   ]
  },
  {
   "cell_type": "markdown",
   "id": "7d76f24d",
   "metadata": {},
   "source": [
    "### 3.2. np.nan"
   ]
  },
  {
   "cell_type": "markdown",
   "id": "ed986340",
   "metadata": {},
   "source": [
    "Missing values in Numpy are represented as `np.nan`. Let's see what happens if we wanted to apply some of the array-reducing functions defined above to an array containing missing values."
   ]
  },
  {
   "cell_type": "code",
   "execution_count": 141,
   "id": "92f0bfb6",
   "metadata": {},
   "outputs": [
    {
     "data": {
      "text/plain": [
       "array([[ 1., nan,  2.],\n",
       "       [ 3.,  4.,  5.],\n",
       "       [nan, nan,  7.]])"
      ]
     },
     "execution_count": 141,
     "metadata": {},
     "output_type": "execute_result"
    }
   ],
   "source": [
    "C = np.array([[1, np.nan, 2], [3, 4, 5], [np.nan, np.nan, 7]])\n",
    "C"
   ]
  },
  {
   "cell_type": "code",
   "execution_count": 142,
   "id": "b943131b",
   "metadata": {},
   "outputs": [
    {
     "data": {
      "text/plain": [
       "nan"
      ]
     },
     "execution_count": 142,
     "metadata": {},
     "output_type": "execute_result"
    }
   ],
   "source": [
    "C.mean()"
   ]
  },
  {
   "cell_type": "markdown",
   "id": "db48824c",
   "metadata": {},
   "source": [
    "Ooops..."
   ]
  },
  {
   "cell_type": "code",
   "execution_count": 143,
   "id": "be641327",
   "metadata": {},
   "outputs": [
    {
     "data": {
      "text/plain": [
       "array([       nan,        nan, 4.66666667])"
      ]
     },
     "execution_count": 143,
     "metadata": {},
     "output_type": "execute_result"
    }
   ],
   "source": [
    "C.mean(0)"
   ]
  },
  {
   "cell_type": "code",
   "execution_count": 144,
   "id": "a81feca7",
   "metadata": {},
   "outputs": [
    {
     "data": {
      "text/plain": [
       "array([nan,  4., nan])"
      ]
     },
     "execution_count": 144,
     "metadata": {},
     "output_type": "execute_result"
    }
   ],
   "source": [
    "C.mean(1)"
   ]
  },
  {
   "cell_type": "markdown",
   "id": "33673694",
   "metadata": {},
   "source": [
    "Can we do something about it? Maybe using some conditional slicing? Here `np.isnan()` can help which returns `True` if a value is `np.nan`, and otherwise `False`."
   ]
  },
  {
   "cell_type": "code",
   "execution_count": 145,
   "id": "29db22c5",
   "metadata": {},
   "outputs": [
    {
     "data": {
      "text/plain": [
       "array([[False,  True, False],\n",
       "       [False, False, False],\n",
       "       [ True,  True, False]])"
      ]
     },
     "execution_count": 145,
     "metadata": {},
     "output_type": "execute_result"
    }
   ],
   "source": [
    "np.isnan(C)"
   ]
  },
  {
   "cell_type": "code",
   "execution_count": 146,
   "id": "b4f166cf",
   "metadata": {},
   "outputs": [
    {
     "data": {
      "text/plain": [
       "array([1., 2., 3., 4., 5., 7.])"
      ]
     },
     "execution_count": 146,
     "metadata": {},
     "output_type": "execute_result"
    }
   ],
   "source": [
    "C[~np.isnan(C)]"
   ]
  },
  {
   "cell_type": "code",
   "execution_count": 147,
   "id": "f7940faf",
   "metadata": {},
   "outputs": [
    {
     "data": {
      "text/plain": [
       "3.6666666666666665"
      ]
     },
     "execution_count": 147,
     "metadata": {},
     "output_type": "execute_result"
    }
   ],
   "source": [
    "C[~np.isnan(C)].mean()"
   ]
  },
  {
   "cell_type": "code",
   "execution_count": 148,
   "id": "03041185",
   "metadata": {},
   "outputs": [
    {
     "data": {
      "text/plain": [
       "3.6666666666666665"
      ]
     },
     "execution_count": 148,
     "metadata": {},
     "output_type": "execute_result"
    }
   ],
   "source": [
    "# But whatch out!\n",
    "C[~np.isnan(C)].mean(0)"
   ]
  },
  {
   "cell_type": "code",
   "execution_count": 149,
   "id": "69adb0d9",
   "metadata": {},
   "outputs": [
    {
     "ename": "AxisError",
     "evalue": "axis 1 is out of bounds for array of dimension 1",
     "output_type": "error",
     "traceback": [
      "\u001b[1;31m---------------------------------------------------------------------------\u001b[0m",
      "\u001b[1;31mAxisError\u001b[0m                                 Traceback (most recent call last)",
      "\u001b[1;32m<ipython-input-149-4feffba5474e>\u001b[0m in \u001b[0;36m<module>\u001b[1;34m\u001b[0m\n\u001b[1;32m----> 1\u001b[1;33m \u001b[0mC\u001b[0m\u001b[1;33m[\u001b[0m\u001b[1;33m~\u001b[0m\u001b[0mnp\u001b[0m\u001b[1;33m.\u001b[0m\u001b[0misnan\u001b[0m\u001b[1;33m(\u001b[0m\u001b[0mC\u001b[0m\u001b[1;33m)\u001b[0m\u001b[1;33m]\u001b[0m\u001b[1;33m.\u001b[0m\u001b[0mmean\u001b[0m\u001b[1;33m(\u001b[0m\u001b[1;36m1\u001b[0m\u001b[1;33m)\u001b[0m\u001b[1;33m\u001b[0m\u001b[1;33m\u001b[0m\u001b[0m\n\u001b[0m",
      "\u001b[1;32m~\\anaconda3\\lib\\site-packages\\numpy\\core\\_methods.py\u001b[0m in \u001b[0;36m_mean\u001b[1;34m(a, axis, dtype, out, keepdims, where)\u001b[0m\n\u001b[0;32m    165\u001b[0m     \u001b[0mis_float16_result\u001b[0m \u001b[1;33m=\u001b[0m \u001b[1;32mFalse\u001b[0m\u001b[1;33m\u001b[0m\u001b[1;33m\u001b[0m\u001b[0m\n\u001b[0;32m    166\u001b[0m \u001b[1;33m\u001b[0m\u001b[0m\n\u001b[1;32m--> 167\u001b[1;33m     \u001b[0mrcount\u001b[0m \u001b[1;33m=\u001b[0m \u001b[0m_count_reduce_items\u001b[0m\u001b[1;33m(\u001b[0m\u001b[0marr\u001b[0m\u001b[1;33m,\u001b[0m \u001b[0maxis\u001b[0m\u001b[1;33m,\u001b[0m \u001b[0mkeepdims\u001b[0m\u001b[1;33m=\u001b[0m\u001b[0mkeepdims\u001b[0m\u001b[1;33m,\u001b[0m \u001b[0mwhere\u001b[0m\u001b[1;33m=\u001b[0m\u001b[0mwhere\u001b[0m\u001b[1;33m)\u001b[0m\u001b[1;33m\u001b[0m\u001b[1;33m\u001b[0m\u001b[0m\n\u001b[0m\u001b[0;32m    168\u001b[0m     \u001b[1;32mif\u001b[0m \u001b[0mrcount\u001b[0m \u001b[1;33m==\u001b[0m \u001b[1;36m0\u001b[0m \u001b[1;32mif\u001b[0m \u001b[0mwhere\u001b[0m \u001b[1;32mis\u001b[0m \u001b[1;32mTrue\u001b[0m \u001b[1;32melse\u001b[0m \u001b[0mumr_any\u001b[0m\u001b[1;33m(\u001b[0m\u001b[0mrcount\u001b[0m \u001b[1;33m==\u001b[0m \u001b[1;36m0\u001b[0m\u001b[1;33m,\u001b[0m \u001b[0maxis\u001b[0m\u001b[1;33m=\u001b[0m\u001b[1;32mNone\u001b[0m\u001b[1;33m)\u001b[0m\u001b[1;33m:\u001b[0m\u001b[1;33m\u001b[0m\u001b[1;33m\u001b[0m\u001b[0m\n\u001b[0;32m    169\u001b[0m         \u001b[0mwarnings\u001b[0m\u001b[1;33m.\u001b[0m\u001b[0mwarn\u001b[0m\u001b[1;33m(\u001b[0m\u001b[1;34m\"Mean of empty slice.\"\u001b[0m\u001b[1;33m,\u001b[0m \u001b[0mRuntimeWarning\u001b[0m\u001b[1;33m,\u001b[0m \u001b[0mstacklevel\u001b[0m\u001b[1;33m=\u001b[0m\u001b[1;36m2\u001b[0m\u001b[1;33m)\u001b[0m\u001b[1;33m\u001b[0m\u001b[1;33m\u001b[0m\u001b[0m\n",
      "\u001b[1;32m~\\anaconda3\\lib\\site-packages\\numpy\\core\\_methods.py\u001b[0m in \u001b[0;36m_count_reduce_items\u001b[1;34m(arr, axis, keepdims, where)\u001b[0m\n\u001b[0;32m     74\u001b[0m         \u001b[0mitems\u001b[0m \u001b[1;33m=\u001b[0m \u001b[0mnt\u001b[0m\u001b[1;33m.\u001b[0m\u001b[0mintp\u001b[0m\u001b[1;33m(\u001b[0m\u001b[1;36m1\u001b[0m\u001b[1;33m)\u001b[0m\u001b[1;33m\u001b[0m\u001b[1;33m\u001b[0m\u001b[0m\n\u001b[0;32m     75\u001b[0m         \u001b[1;32mfor\u001b[0m \u001b[0max\u001b[0m \u001b[1;32min\u001b[0m \u001b[0maxis\u001b[0m\u001b[1;33m:\u001b[0m\u001b[1;33m\u001b[0m\u001b[1;33m\u001b[0m\u001b[0m\n\u001b[1;32m---> 76\u001b[1;33m             \u001b[0mitems\u001b[0m \u001b[1;33m*=\u001b[0m \u001b[0marr\u001b[0m\u001b[1;33m.\u001b[0m\u001b[0mshape\u001b[0m\u001b[1;33m[\u001b[0m\u001b[0mmu\u001b[0m\u001b[1;33m.\u001b[0m\u001b[0mnormalize_axis_index\u001b[0m\u001b[1;33m(\u001b[0m\u001b[0max\u001b[0m\u001b[1;33m,\u001b[0m \u001b[0marr\u001b[0m\u001b[1;33m.\u001b[0m\u001b[0mndim\u001b[0m\u001b[1;33m)\u001b[0m\u001b[1;33m]\u001b[0m\u001b[1;33m\u001b[0m\u001b[1;33m\u001b[0m\u001b[0m\n\u001b[0m\u001b[0;32m     77\u001b[0m     \u001b[1;32melse\u001b[0m\u001b[1;33m:\u001b[0m\u001b[1;33m\u001b[0m\u001b[1;33m\u001b[0m\u001b[0m\n\u001b[0;32m     78\u001b[0m         \u001b[1;31m# TODO: Optimize case when `where` is broadcast along a non-reduction\u001b[0m\u001b[1;33m\u001b[0m\u001b[1;33m\u001b[0m\u001b[1;33m\u001b[0m\u001b[0m\n",
      "\u001b[1;31mAxisError\u001b[0m: axis 1 is out of bounds for array of dimension 1"
     ]
    }
   ],
   "source": [
    "C[~np.isnan(C)].mean(1)"
   ]
  },
  {
   "cell_type": "markdown",
   "id": "74e0e656",
   "metadata": {},
   "source": [
    "This is not what we wanted - we wanted row/column-reduction. Luckily Numpy has a handy function in store for us: `np.nanmean()`."
   ]
  },
  {
   "cell_type": "code",
   "execution_count": 150,
   "id": "9732773f",
   "metadata": {},
   "outputs": [
    {
     "data": {
      "text/plain": [
       "3.6666666666666665"
      ]
     },
     "execution_count": 150,
     "metadata": {},
     "output_type": "execute_result"
    }
   ],
   "source": [
    "np.nanmean(C)"
   ]
  },
  {
   "cell_type": "code",
   "execution_count": 151,
   "id": "7174a0d4",
   "metadata": {},
   "outputs": [
    {
     "data": {
      "text/plain": [
       "array([2.        , 4.        , 4.66666667])"
      ]
     },
     "execution_count": 151,
     "metadata": {},
     "output_type": "execute_result"
    }
   ],
   "source": [
    "np.nanmean(C, axis=0)"
   ]
  },
  {
   "cell_type": "code",
   "execution_count": 152,
   "id": "06482fc6",
   "metadata": {},
   "outputs": [
    {
     "data": {
      "text/plain": [
       "array([1.5, 4. , 7. ])"
      ]
     },
     "execution_count": 152,
     "metadata": {},
     "output_type": "execute_result"
    }
   ],
   "source": [
    "np.nanmean(C, axis=1)"
   ]
  },
  {
   "cell_type": "markdown",
   "id": "0c2fed7b",
   "metadata": {},
   "source": [
    "And there's pletora of these 'nan-handling' functions in Numpy to make our life easier when faced with `np.nan`, such as `np.nansum()`, `np.nanmax()`, etc, which all allow array-reduction."
   ]
  },
  {
   "cell_type": "code",
   "execution_count": 153,
   "id": "273ad43f",
   "metadata": {},
   "outputs": [
    {
     "data": {
      "text/plain": [
       "nan"
      ]
     },
     "execution_count": 153,
     "metadata": {},
     "output_type": "execute_result"
    }
   ],
   "source": [
    "np.sum(C)"
   ]
  },
  {
   "cell_type": "code",
   "execution_count": 154,
   "id": "99adbc75",
   "metadata": {},
   "outputs": [
    {
     "data": {
      "text/plain": [
       "22.0"
      ]
     },
     "execution_count": 154,
     "metadata": {},
     "output_type": "execute_result"
    }
   ],
   "source": [
    "np.nansum(C)"
   ]
  },
  {
   "cell_type": "code",
   "execution_count": 155,
   "id": "d6680677",
   "metadata": {},
   "outputs": [
    {
     "data": {
      "text/plain": [
       "array([ 3., 12.,  7.])"
      ]
     },
     "execution_count": 155,
     "metadata": {},
     "output_type": "execute_result"
    }
   ],
   "source": [
    "np.nansum(C, axis=1)"
   ]
  },
  {
   "cell_type": "markdown",
   "id": "db5a11fd",
   "metadata": {},
   "source": [
    "### 3.3. Elementwise operations with matrices"
   ]
  },
  {
   "cell_type": "markdown",
   "id": "c7548a4c",
   "metadata": {},
   "source": [
    "As with vectors, we can define add/subtract two matrices $A = [a_{ij}]$ and $B = [b_{ij}]$:\n",
    "\n",
    "\n",
    "$$ A \\pm B = [a_{ij} \\pm b_{ij}]. $$"
   ]
  },
  {
   "cell_type": "code",
   "execution_count": 156,
   "id": "388e6a20",
   "metadata": {},
   "outputs": [
    {
     "data": {
      "text/plain": [
       "array([[1, 2],\n",
       "       [3, 4]])"
      ]
     },
     "execution_count": 156,
     "metadata": {},
     "output_type": "execute_result"
    }
   ],
   "source": [
    "A = np.array([[1, 2], [3, 4]])\n",
    "A"
   ]
  },
  {
   "cell_type": "code",
   "execution_count": 157,
   "id": "7c50b34e",
   "metadata": {},
   "outputs": [
    {
     "data": {
      "text/plain": [
       "array([[1, 0],\n",
       "       [2, 3]])"
      ]
     },
     "execution_count": 157,
     "metadata": {},
     "output_type": "execute_result"
    }
   ],
   "source": [
    "B = np.array([[1, 0], [2, 3]])\n",
    "B"
   ]
  },
  {
   "cell_type": "code",
   "execution_count": 158,
   "id": "bb10abd8",
   "metadata": {},
   "outputs": [
    {
     "data": {
      "text/plain": [
       "array([[2, 2],\n",
       "       [5, 7]])"
      ]
     },
     "execution_count": 158,
     "metadata": {},
     "output_type": "execute_result"
    }
   ],
   "source": [
    "A + B"
   ]
  },
  {
   "cell_type": "code",
   "execution_count": 159,
   "id": "0ef61498",
   "metadata": {},
   "outputs": [
    {
     "data": {
      "text/plain": [
       "array([[0, 2],\n",
       "       [1, 1]])"
      ]
     },
     "execution_count": 159,
     "metadata": {},
     "output_type": "execute_result"
    }
   ],
   "source": [
    "A - B"
   ]
  },
  {
   "cell_type": "markdown",
   "id": "39d365e2",
   "metadata": {},
   "source": [
    "We can also multiply matrix $A = [a_{ij}]$ by a scalar $\\lambda$:\n",
    "\n",
    "$$\\lambda A = [\\lambda a_{ij}].$$"
   ]
  },
  {
   "cell_type": "code",
   "execution_count": 160,
   "id": "df8f9868",
   "metadata": {},
   "outputs": [
    {
     "data": {
      "text/plain": [
       "array([[ 4,  8],\n",
       "       [12, 16]])"
      ]
     },
     "execution_count": 160,
     "metadata": {},
     "output_type": "execute_result"
    }
   ],
   "source": [
    "4*A"
   ]
  },
  {
   "cell_type": "code",
   "execution_count": 161,
   "id": "95cada5b",
   "metadata": {},
   "outputs": [
    {
     "data": {
      "text/plain": [
       "array([[0.25, 0.5 ],\n",
       "       [0.75, 1.  ]])"
      ]
     },
     "execution_count": 161,
     "metadata": {},
     "output_type": "execute_result"
    }
   ],
   "source": [
    "# and even do this\n",
    "A/4"
   ]
  },
  {
   "cell_type": "markdown",
   "id": "f8c30e4f",
   "metadata": {},
   "source": [
    "We can multiply two matrices elementwise, but mathematically, this is not a *true* matrix product:"
   ]
  },
  {
   "cell_type": "code",
   "execution_count": 162,
   "id": "7a61998b",
   "metadata": {},
   "outputs": [
    {
     "data": {
      "text/plain": [
       "array([[ 1,  0],\n",
       "       [ 6, 12]])"
      ]
     },
     "execution_count": 162,
     "metadata": {},
     "output_type": "execute_result"
    }
   ],
   "source": [
    "A*B"
   ]
  },
  {
   "cell_type": "markdown",
   "id": "bd56272c",
   "metadata": {},
   "source": [
    "As with vectors, Numpy allows us to perform all kinds of elementwise mathematical atrocities on matrices:"
   ]
  },
  {
   "cell_type": "code",
   "execution_count": 163,
   "id": "d4f2b602",
   "metadata": {},
   "outputs": [
    {
     "data": {
      "text/plain": [
       "array([[4.        , 2.        ],\n",
       "       [1.33333333, 1.        ]])"
      ]
     },
     "execution_count": 163,
     "metadata": {},
     "output_type": "execute_result"
    }
   ],
   "source": [
    "4/A"
   ]
  },
  {
   "cell_type": "code",
   "execution_count": 164,
   "id": "7ebc77e5",
   "metadata": {},
   "outputs": [
    {
     "data": {
      "text/plain": [
       "array([[ 1,  8],\n",
       "       [27, 64]], dtype=int32)"
      ]
     },
     "execution_count": 164,
     "metadata": {},
     "output_type": "execute_result"
    }
   ],
   "source": [
    "A**3"
   ]
  },
  {
   "cell_type": "code",
   "execution_count": 165,
   "id": "2ac365f0",
   "metadata": {},
   "outputs": [
    {
     "data": {
      "text/plain": [
       "array([[ 3,  9],\n",
       "       [27, 81]], dtype=int32)"
      ]
     },
     "execution_count": 165,
     "metadata": {},
     "output_type": "execute_result"
    }
   ],
   "source": [
    "3**A"
   ]
  },
  {
   "cell_type": "code",
   "execution_count": 166,
   "id": "14839470",
   "metadata": {},
   "outputs": [
    {
     "data": {
      "text/plain": [
       "array([[1.        , 0.        ],\n",
       "       [0.66666667, 0.75      ]])"
      ]
     },
     "execution_count": 166,
     "metadata": {},
     "output_type": "execute_result"
    }
   ],
   "source": [
    "B/A"
   ]
  },
  {
   "cell_type": "code",
   "execution_count": 167,
   "id": "c0ae3bea",
   "metadata": {},
   "outputs": [
    {
     "data": {
      "text/plain": [
       "array([[ 1,  1],\n",
       "       [ 9, 64]], dtype=int32)"
      ]
     },
     "execution_count": 167,
     "metadata": {},
     "output_type": "execute_result"
    }
   ],
   "source": [
    "A**B"
   ]
  },
  {
   "cell_type": "markdown",
   "id": "085b726a",
   "metadata": {},
   "source": [
    "***"
   ]
  },
  {
   "cell_type": "markdown",
   "id": "f9e39ff9",
   "metadata": {},
   "source": [
    "Vectorization and broadcasting also work on matrices."
   ]
  },
  {
   "cell_type": "code",
   "execution_count": 168,
   "id": "30a73ecc",
   "metadata": {},
   "outputs": [
    {
     "data": {
      "text/plain": [
       "array([[1.        , 1.41421356],\n",
       "       [1.73205081, 2.        ]])"
      ]
     },
     "execution_count": 168,
     "metadata": {},
     "output_type": "execute_result"
    }
   ],
   "source": [
    "np.sqrt(A)"
   ]
  },
  {
   "cell_type": "code",
   "execution_count": 169,
   "id": "53ec1b39",
   "metadata": {},
   "outputs": [
    {
     "data": {
      "text/plain": [
       "array([[ 2.71828183,  7.3890561 ],\n",
       "       [20.08553692, 54.59815003]])"
      ]
     },
     "execution_count": 169,
     "metadata": {},
     "output_type": "execute_result"
    }
   ],
   "source": [
    "np.exp(A)"
   ]
  },
  {
   "cell_type": "code",
   "execution_count": 170,
   "id": "37304e41",
   "metadata": {},
   "outputs": [
    {
     "data": {
      "text/plain": [
       "array([[0.    , 0.6931],\n",
       "       [1.0986, 1.3863]])"
      ]
     },
     "execution_count": 170,
     "metadata": {},
     "output_type": "execute_result"
    }
   ],
   "source": [
    "np.log(A).round(4)"
   ]
  },
  {
   "cell_type": "markdown",
   "id": "dd4f024b",
   "metadata": {},
   "source": [
    "And broadcasting as well"
   ]
  },
  {
   "cell_type": "code",
   "execution_count": 171,
   "id": "18b21b33",
   "metadata": {},
   "outputs": [
    {
     "data": {
      "text/plain": [
       "array([[2, 3],\n",
       "       [4, 5]])"
      ]
     },
     "execution_count": 171,
     "metadata": {},
     "output_type": "execute_result"
    }
   ],
   "source": [
    "A + 1"
   ]
  },
  {
   "cell_type": "markdown",
   "id": "cba4dc3c",
   "metadata": {},
   "source": [
    "But, broadcasting can a bit more interesting with matrices:"
   ]
  },
  {
   "cell_type": "code",
   "execution_count": 172,
   "id": "62881625",
   "metadata": {},
   "outputs": [
    {
     "data": {
      "text/plain": [
       "array([[1, 2],\n",
       "       [3, 4]])"
      ]
     },
     "execution_count": 172,
     "metadata": {},
     "output_type": "execute_result"
    }
   ],
   "source": [
    "A"
   ]
  },
  {
   "cell_type": "code",
   "execution_count": 173,
   "id": "e35810c9",
   "metadata": {},
   "outputs": [
    {
     "data": {
      "text/plain": [
       "array([[2, 4],\n",
       "       [4, 6]])"
      ]
     },
     "execution_count": 173,
     "metadata": {},
     "output_type": "execute_result"
    }
   ],
   "source": [
    "A + np.array([1, 2])"
   ]
  },
  {
   "cell_type": "code",
   "execution_count": 174,
   "id": "428c8b23",
   "metadata": {},
   "outputs": [
    {
     "ename": "ValueError",
     "evalue": "operands could not be broadcast together with shapes (2,2) (3,) ",
     "output_type": "error",
     "traceback": [
      "\u001b[1;31m---------------------------------------------------------------------------\u001b[0m",
      "\u001b[1;31mValueError\u001b[0m                                Traceback (most recent call last)",
      "\u001b[1;32m<ipython-input-174-7dc5ffb10e04>\u001b[0m in \u001b[0;36m<module>\u001b[1;34m\u001b[0m\n\u001b[1;32m----> 1\u001b[1;33m \u001b[0mA\u001b[0m \u001b[1;33m+\u001b[0m \u001b[0mnp\u001b[0m\u001b[1;33m.\u001b[0m\u001b[0marray\u001b[0m\u001b[1;33m(\u001b[0m\u001b[1;33m[\u001b[0m\u001b[1;36m1\u001b[0m\u001b[1;33m,\u001b[0m \u001b[1;36m2\u001b[0m\u001b[1;33m,\u001b[0m \u001b[1;36m3\u001b[0m\u001b[1;33m]\u001b[0m\u001b[1;33m)\u001b[0m\u001b[1;33m\u001b[0m\u001b[1;33m\u001b[0m\u001b[0m\n\u001b[0m",
      "\u001b[1;31mValueError\u001b[0m: operands could not be broadcast together with shapes (2,2) (3,) "
     ]
    }
   ],
   "source": [
    "A + np.array([1, 2, 3])"
   ]
  },
  {
   "cell_type": "markdown",
   "id": "c9d9bac5",
   "metadata": {},
   "source": [
    "### 3.4. Random Arrays "
   ]
  },
  {
   "cell_type": "markdown",
   "id": "c01592ca",
   "metadata": {},
   "source": [
    "`np.random` is a submodule of Numpy that lets us create arrays of random numbers with various underlying distributions. We'll use this submodule quite a lot later in the course, but now we'll just introduce its basics.  \n",
    "\n",
    "In order to use this submodule, we need first to set up a **_random number generator_** (RNG) using some preset _**seed**_. RNGs with the same seed will always produce the same sequence of random numbers, which is very convenient if we want to reproduce the same stochastic outcomes across different sessions and devices."
   ]
  },
  {
   "cell_type": "code",
   "execution_count": 175,
   "id": "9a1ef365",
   "metadata": {},
   "outputs": [],
   "source": [
    "rng = np.random.default_rng(seed=1023)"
   ]
  },
  {
   "cell_type": "markdown",
   "id": "fd6ac91b",
   "metadata": {},
   "source": [
    "To create a single random number, just invoke `.random()` from the RNG; this will output _**uniformly at random**_ a single number in (0, 1) interval. "
   ]
  },
  {
   "cell_type": "code",
   "execution_count": 176,
   "id": "cd1e81b3",
   "metadata": {},
   "outputs": [
    {
     "data": {
      "text/plain": [
       "0.3388690800085262"
      ]
     },
     "execution_count": 176,
     "metadata": {},
     "output_type": "execute_result"
    }
   ],
   "source": [
    "rng.random()"
   ]
  },
  {
   "cell_type": "markdown",
   "id": "cb289606",
   "metadata": {},
   "source": [
    "If we want to produce arrays of random numbers, we just need to input the shape of an array as an argument in `.random()`:"
   ]
  },
  {
   "cell_type": "code",
   "execution_count": 177,
   "id": "7b7d9dc0",
   "metadata": {},
   "outputs": [
    {
     "data": {
      "text/plain": [
       "array([0.90589874, 0.90960195, 0.74722338, 0.82310232, 0.26763656])"
      ]
     },
     "execution_count": 177,
     "metadata": {},
     "output_type": "execute_result"
    }
   ],
   "source": [
    "#random vector\n",
    "rng.random(5)"
   ]
  },
  {
   "cell_type": "code",
   "execution_count": 178,
   "id": "dc436fc9",
   "metadata": {},
   "outputs": [
    {
     "data": {
      "text/plain": [
       "array([[0.08770086, 0.26731961, 0.70165033, 0.77665833],\n",
       "       [0.37364504, 0.16165231, 0.30668439, 0.29964548],\n",
       "       [0.74861583, 0.77756489, 0.41837499, 0.28090607]])"
      ]
     },
     "execution_count": 178,
     "metadata": {},
     "output_type": "execute_result"
    }
   ],
   "source": [
    "#random matrix\n",
    "rng.random((3, 4))"
   ]
  },
  {
   "cell_type": "markdown",
   "id": "c5124674",
   "metadata": {},
   "source": [
    "Of course, this will always give arrays with elements in the interval (0, 1). If we wanted to obtain radnom numbers in some $(a, b)$, we need to apply the following transformation:\n",
    "\n",
    "$$(b-a)\\mathbf{R} + a,$$\n",
    "\n",
    "where $\\mathbf{R}$ is some random array with values from (0, 1). "
   ]
  },
  {
   "cell_type": "markdown",
   "id": "ac6d1d93",
   "metadata": {},
   "source": [
    "Say, we want a $3\\times 3$ random matrix with elements from the (1, 3) interval. Then, we do:"
   ]
  },
  {
   "cell_type": "code",
   "execution_count": 179,
   "id": "969e357a",
   "metadata": {},
   "outputs": [
    {
     "data": {
      "text/plain": [
       "array([[1.64791418, 2.79781784, 1.63019139],\n",
       "       [2.65456578, 1.09530772, 2.51737659],\n",
       "       [2.64654227, 1.26135216, 1.8672306 ]])"
      ]
     },
     "execution_count": 179,
     "metadata": {},
     "output_type": "execute_result"
    }
   ],
   "source": [
    "(3-1)*rng.random((3, 3)) + 1"
   ]
  },
  {
   "cell_type": "markdown",
   "id": "104553a5",
   "metadata": {},
   "source": [
    "Notice the use of scalar-matrix multiplication and broadcasting here?"
   ]
  },
  {
   "cell_type": "markdown",
   "id": "d9c28d0d",
   "metadata": {},
   "source": [
    "### 3.5. Matrix products"
   ]
  },
  {
   "cell_type": "markdown",
   "id": "bf3f2b57",
   "metadata": {},
   "source": [
    "A mathematically proper matrix product between two matrices $A = [a_{ik}]$ of shape $m\\times l$ and $B = [b_{kj}]$ of shape $l\\times n$ is a $m\\times n$ matrix with elemets defined as:\n",
    "\n",
    "$$AB = [c_{ij}] = \\Big[\\sum_{k=1}^l a_{ik}b_{kj}\\Big].$$\n",
    "\n",
    "Basically, every element of $c_{ij}$ is a *scalar product* of $i$-th row of matrix $A$ and $j$-th column of matrix $B$."
   ]
  },
  {
   "cell_type": "markdown",
   "id": "722d0ab2",
   "metadata": {},
   "source": [
    "We perform matrix product in Numpy by using `np.dot()` or `@` operator. (And **not** using `*`!)"
   ]
  },
  {
   "cell_type": "code",
   "execution_count": 180,
   "id": "4e58116b",
   "metadata": {},
   "outputs": [
    {
     "data": {
      "text/plain": [
       "array([[ 1,  0, -1,  1],\n",
       "       [ 0, -1,  1,  0]])"
      ]
     },
     "execution_count": 180,
     "metadata": {},
     "output_type": "execute_result"
    }
   ],
   "source": [
    "A = np.array([[1, 0, -1, 1], [0, -1, 1, 0]])\n",
    "A"
   ]
  },
  {
   "cell_type": "code",
   "execution_count": 181,
   "id": "957ca768",
   "metadata": {},
   "outputs": [
    {
     "data": {
      "text/plain": [
       "(2, 4)"
      ]
     },
     "execution_count": 181,
     "metadata": {},
     "output_type": "execute_result"
    }
   ],
   "source": [
    "A.shape"
   ]
  },
  {
   "cell_type": "code",
   "execution_count": 182,
   "id": "0ccded63",
   "metadata": {},
   "outputs": [
    {
     "data": {
      "text/plain": [
       "array([[ 1,  0],\n",
       "       [ 0,  1],\n",
       "       [-1,  0],\n",
       "       [ 0, -1]])"
      ]
     },
     "execution_count": 182,
     "metadata": {},
     "output_type": "execute_result"
    }
   ],
   "source": [
    "B = np.array([[1, 0], [0, 1], [-1, 0], [0, -1]])\n",
    "B"
   ]
  },
  {
   "cell_type": "code",
   "execution_count": 183,
   "id": "6d1421de",
   "metadata": {},
   "outputs": [
    {
     "data": {
      "text/plain": [
       "(4, 2)"
      ]
     },
     "execution_count": 183,
     "metadata": {},
     "output_type": "execute_result"
    }
   ],
   "source": [
    "B.shape"
   ]
  },
  {
   "cell_type": "code",
   "execution_count": 184,
   "id": "333c5633",
   "metadata": {},
   "outputs": [
    {
     "data": {
      "text/plain": [
       "array([[ 2, -1],\n",
       "       [-1, -1]])"
      ]
     },
     "execution_count": 184,
     "metadata": {},
     "output_type": "execute_result"
    }
   ],
   "source": [
    "A @ B"
   ]
  },
  {
   "cell_type": "code",
   "execution_count": 185,
   "id": "29526cd5",
   "metadata": {},
   "outputs": [
    {
     "data": {
      "text/plain": [
       "array([[ 2, -1],\n",
       "       [-1, -1]])"
      ]
     },
     "execution_count": 185,
     "metadata": {},
     "output_type": "execute_result"
    }
   ],
   "source": [
    "np.dot(A, B)"
   ]
  },
  {
   "cell_type": "code",
   "execution_count": 186,
   "id": "25da020d",
   "metadata": {},
   "outputs": [
    {
     "data": {
      "text/plain": [
       "(2, 2)"
      ]
     },
     "execution_count": 186,
     "metadata": {},
     "output_type": "execute_result"
    }
   ],
   "source": [
    "np.dot(A, B).shape"
   ]
  },
  {
   "cell_type": "code",
   "execution_count": 187,
   "id": "5e590713",
   "metadata": {},
   "outputs": [
    {
     "ename": "ValueError",
     "evalue": "operands could not be broadcast together with shapes (2,4) (4,2) ",
     "output_type": "error",
     "traceback": [
      "\u001b[1;31m---------------------------------------------------------------------------\u001b[0m",
      "\u001b[1;31mValueError\u001b[0m                                Traceback (most recent call last)",
      "\u001b[1;32m<ipython-input-187-47896efed660>\u001b[0m in \u001b[0;36m<module>\u001b[1;34m\u001b[0m\n\u001b[1;32m----> 1\u001b[1;33m \u001b[0mA\u001b[0m\u001b[1;33m*\u001b[0m\u001b[0mB\u001b[0m\u001b[1;33m\u001b[0m\u001b[1;33m\u001b[0m\u001b[0m\n\u001b[0m",
      "\u001b[1;31mValueError\u001b[0m: operands could not be broadcast together with shapes (2,4) (4,2) "
     ]
    }
   ],
   "source": [
    "A*B"
   ]
  },
  {
   "cell_type": "markdown",
   "id": "c1bb03f1",
   "metadata": {},
   "source": [
    "Matrix product is not comutative, i.e. $AB \\neq BA$"
   ]
  },
  {
   "cell_type": "code",
   "execution_count": 188,
   "id": "005ba0bc",
   "metadata": {},
   "outputs": [
    {
     "data": {
      "text/plain": [
       "array([[ 2, -1],\n",
       "       [-1, -1]])"
      ]
     },
     "execution_count": 188,
     "metadata": {},
     "output_type": "execute_result"
    }
   ],
   "source": [
    "A @ B"
   ]
  },
  {
   "cell_type": "code",
   "execution_count": 189,
   "id": "81f0f7c1",
   "metadata": {},
   "outputs": [
    {
     "data": {
      "text/plain": [
       "array([[ 1,  0, -1,  1],\n",
       "       [ 0, -1,  1,  0],\n",
       "       [-1,  0,  1, -1],\n",
       "       [ 0,  1, -1,  0]])"
      ]
     },
     "execution_count": 189,
     "metadata": {},
     "output_type": "execute_result"
    }
   ],
   "source": [
    "B @ A"
   ]
  },
  {
   "cell_type": "markdown",
   "id": "a2639d8d",
   "metadata": {},
   "source": [
    "We can perform matrix product on matrices on different shape, but they need to be compatible."
   ]
  },
  {
   "cell_type": "code",
   "execution_count": 190,
   "id": "c926e4e1",
   "metadata": {},
   "outputs": [
    {
     "data": {
      "text/plain": [
       "array([[1, 2, 3],\n",
       "       [3, 5, 6]])"
      ]
     },
     "execution_count": 190,
     "metadata": {},
     "output_type": "execute_result"
    }
   ],
   "source": [
    "C = np.array([[1, 2, 3], [3, 5, 6]])\n",
    "C"
   ]
  },
  {
   "cell_type": "code",
   "execution_count": 191,
   "id": "1ac3217e",
   "metadata": {},
   "outputs": [
    {
     "data": {
      "text/plain": [
       "(2, 3)"
      ]
     },
     "execution_count": 191,
     "metadata": {},
     "output_type": "execute_result"
    }
   ],
   "source": [
    "C.shape"
   ]
  },
  {
   "cell_type": "code",
   "execution_count": 192,
   "id": "e1770361",
   "metadata": {},
   "outputs": [
    {
     "ename": "ValueError",
     "evalue": "matmul: Input operand 1 has a mismatch in its core dimension 0, with gufunc signature (n?,k),(k,m?)->(n?,m?) (size 2 is different from 4)",
     "output_type": "error",
     "traceback": [
      "\u001b[1;31m---------------------------------------------------------------------------\u001b[0m",
      "\u001b[1;31mValueError\u001b[0m                                Traceback (most recent call last)",
      "\u001b[1;32m<ipython-input-192-f8af5a33431b>\u001b[0m in \u001b[0;36m<module>\u001b[1;34m\u001b[0m\n\u001b[1;32m----> 1\u001b[1;33m \u001b[0mA\u001b[0m \u001b[1;33m@\u001b[0m \u001b[0mC\u001b[0m\u001b[1;33m\u001b[0m\u001b[1;33m\u001b[0m\u001b[0m\n\u001b[0m",
      "\u001b[1;31mValueError\u001b[0m: matmul: Input operand 1 has a mismatch in its core dimension 0, with gufunc signature (n?,k),(k,m?)->(n?,m?) (size 2 is different from 4)"
     ]
    }
   ],
   "source": [
    "A @ C"
   ]
  },
  {
   "cell_type": "code",
   "execution_count": null,
   "id": "498ec99c",
   "metadata": {},
   "outputs": [],
   "source": [
    "B @ C"
   ]
  },
  {
   "cell_type": "code",
   "execution_count": 193,
   "id": "13a2d9e7",
   "metadata": {},
   "outputs": [
    {
     "ename": "ValueError",
     "evalue": "matmul: Input operand 1 has a mismatch in its core dimension 0, with gufunc signature (n?,k),(k,m?)->(n?,m?) (size 4 is different from 3)",
     "output_type": "error",
     "traceback": [
      "\u001b[1;31m---------------------------------------------------------------------------\u001b[0m",
      "\u001b[1;31mValueError\u001b[0m                                Traceback (most recent call last)",
      "\u001b[1;32m<ipython-input-193-7e38339ce4ae>\u001b[0m in \u001b[0;36m<module>\u001b[1;34m\u001b[0m\n\u001b[1;32m----> 1\u001b[1;33m \u001b[0mC\u001b[0m \u001b[1;33m@\u001b[0m \u001b[0mB\u001b[0m\u001b[1;33m\u001b[0m\u001b[1;33m\u001b[0m\u001b[0m\n\u001b[0m",
      "\u001b[1;31mValueError\u001b[0m: matmul: Input operand 1 has a mismatch in its core dimension 0, with gufunc signature (n?,k),(k,m?)->(n?,m?) (size 4 is different from 3)"
     ]
    }
   ],
   "source": [
    "C @ B"
   ]
  },
  {
   "cell_type": "markdown",
   "id": "7e8351ce",
   "metadata": {},
   "source": [
    "Identity matrix acts as a *neutral element*, it doesn't change a matrix it is multiplied with, the same way as when you multiply a number by 1:"
   ]
  },
  {
   "cell_type": "code",
   "execution_count": 194,
   "id": "8dc43aef",
   "metadata": {},
   "outputs": [
    {
     "data": {
      "text/plain": [
       "array([[1., 2.],\n",
       "       [3., 4.]])"
      ]
     },
     "execution_count": 194,
     "metadata": {},
     "output_type": "execute_result"
    }
   ],
   "source": [
    "D = np.array([[1, 2], [3, 4]])\n",
    "I = np.identity(2)\n",
    "\n",
    "D @ I"
   ]
  },
  {
   "cell_type": "markdown",
   "id": "bbb8f15b",
   "metadata": {},
   "source": [
    "![](../img/matrix_prod.png)"
   ]
  },
  {
   "cell_type": "markdown",
   "id": "4c4c6026",
   "metadata": {},
   "source": [
    "***"
   ]
  },
  {
   "cell_type": "markdown",
   "id": "59bea36e",
   "metadata": {},
   "source": [
    "_**Outer product**_ of two matrices $A = [a_{ij}]$ and $B = [b_{ij}]$ of shapes $n\\times n$ is a **matrix** of shape $n^2\\times n^2$, where every element of first matrix is multiplied by every element of the second. More formally:\n",
    "\n",
    "$$A\\otimes B = [a_ib_j].$$"
   ]
  },
  {
   "cell_type": "markdown",
   "id": "a3db5567",
   "metadata": {},
   "source": [
    "In Numpy we use `np.outer()` to perform outer product of two matrices."
   ]
  },
  {
   "cell_type": "code",
   "execution_count": 195,
   "id": "19f46c17",
   "metadata": {},
   "outputs": [
    {
     "data": {
      "text/plain": [
       "array([[0, 1, 2],\n",
       "       [3, 4, 5],\n",
       "       [6, 7, 8]])"
      ]
     },
     "execution_count": 195,
     "metadata": {},
     "output_type": "execute_result"
    }
   ],
   "source": [
    "E = np.arange(0, 9).reshape(3, 3)\n",
    "E"
   ]
  },
  {
   "cell_type": "code",
   "execution_count": 196,
   "id": "cbc9735d",
   "metadata": {},
   "outputs": [
    {
     "data": {
      "text/plain": [
       "array([[ 9, 10, 11],\n",
       "       [12, 13, 14],\n",
       "       [15, 16, 17]])"
      ]
     },
     "execution_count": 196,
     "metadata": {},
     "output_type": "execute_result"
    }
   ],
   "source": [
    "F = np.arange(9, 18).reshape(3, 3)\n",
    "F"
   ]
  },
  {
   "cell_type": "code",
   "execution_count": 197,
   "id": "807ab28c",
   "metadata": {},
   "outputs": [
    {
     "data": {
      "text/plain": [
       "array([[  0,   0,   0,   0,   0,   0,   0,   0,   0],\n",
       "       [  9,  10,  11,  12,  13,  14,  15,  16,  17],\n",
       "       [ 18,  20,  22,  24,  26,  28,  30,  32,  34],\n",
       "       [ 27,  30,  33,  36,  39,  42,  45,  48,  51],\n",
       "       [ 36,  40,  44,  48,  52,  56,  60,  64,  68],\n",
       "       [ 45,  50,  55,  60,  65,  70,  75,  80,  85],\n",
       "       [ 54,  60,  66,  72,  78,  84,  90,  96, 102],\n",
       "       [ 63,  70,  77,  84,  91,  98, 105, 112, 119],\n",
       "       [ 72,  80,  88,  96, 104, 112, 120, 128, 136]])"
      ]
     },
     "execution_count": 197,
     "metadata": {},
     "output_type": "execute_result"
    }
   ],
   "source": [
    "np.outer(E, F)"
   ]
  },
  {
   "cell_type": "code",
   "execution_count": 198,
   "id": "9576ac07",
   "metadata": {},
   "outputs": [
    {
     "data": {
      "text/plain": [
       "(9, 9)"
      ]
     },
     "execution_count": 198,
     "metadata": {},
     "output_type": "execute_result"
    }
   ],
   "source": [
    "np.outer(E, F).shape"
   ]
  },
  {
   "cell_type": "markdown",
   "id": "1eb32fc8",
   "metadata": {},
   "source": [
    "<img src=\"..\\img\\matrix_outer.png\" width=\"500\">"
   ]
  },
  {
   "cell_type": "markdown",
   "id": "14cf3f22",
   "metadata": {},
   "source": [
    "### 3.6. Matrix-vector product"
   ]
  },
  {
   "cell_type": "markdown",
   "id": "469e3b95",
   "metadata": {},
   "source": [
    "_**Matrix-vector product**_ is one of the most important operations in Linear Algebra and Machine Learning. *Right matrix-vector product* is a product between matrix $A =[a_{ij}]$ of shape $m\\times n$ and $n$-dimensional vector $\\mathbf{v}$ is $m$-dimensional **vector**, with its elements defined as:\n",
    "\n",
    "$$(A\\mathbf{v})_i = \\sum_{j=1}^n a_{ij}v_j,\\qquad i=1,\\ldots,m.$$\n",
    "\n",
    "Basically, $i$-th element of the vector $A\\mathbf{v}$ is a *scalar product* between $i$-th row of matrix $A$ and a vector $\\mathbf{v}$.\n",
    "\n",
    "Or, $A\\mathbf{v}$ can be considered as a matrix product between matrix $A$ and a vector $\\mathbf{v}$ considered as a matrix of shape $n\\times 1$ (called also _**column matrix**_)."
   ]
  },
  {
   "cell_type": "markdown",
   "id": "0c2b1e06",
   "metadata": {},
   "source": [
    "We perform (right) matrix-vector product in Numpy using either `np.dot()` or `@` operator."
   ]
  },
  {
   "cell_type": "code",
   "execution_count": 199,
   "id": "1f1eccfc",
   "metadata": {},
   "outputs": [
    {
     "data": {
      "text/plain": [
       "array([[ 0,  1,  2,  3],\n",
       "       [ 4,  5,  6,  7],\n",
       "       [ 8,  9, 10, 11]])"
      ]
     },
     "execution_count": 199,
     "metadata": {},
     "output_type": "execute_result"
    }
   ],
   "source": [
    "A = np.arange(0, 12).reshape(3, 4)\n",
    "A"
   ]
  },
  {
   "cell_type": "code",
   "execution_count": 200,
   "id": "ab2098ea",
   "metadata": {},
   "outputs": [],
   "source": [
    "v1 = np.array([0, 1, -1, 2])"
   ]
  },
  {
   "cell_type": "code",
   "execution_count": 201,
   "id": "91fcff93",
   "metadata": {},
   "outputs": [
    {
     "data": {
      "text/plain": [
       "array([ 5, 13, 21])"
      ]
     },
     "execution_count": 201,
     "metadata": {},
     "output_type": "execute_result"
    }
   ],
   "source": [
    "np.dot(A, v1)"
   ]
  },
  {
   "cell_type": "code",
   "execution_count": 202,
   "id": "8bbf11a1",
   "metadata": {},
   "outputs": [
    {
     "data": {
      "text/plain": [
       "array([ 5, 13, 21])"
      ]
     },
     "execution_count": 202,
     "metadata": {},
     "output_type": "execute_result"
    }
   ],
   "source": [
    "A @ v1"
   ]
  },
  {
   "cell_type": "markdown",
   "id": "4f4f7133",
   "metadata": {},
   "source": [
    "*Left matrix-vector product* is a product between a $m$-dimensional vector $\\mathbf{v}$ and matrix $A =[a_{ij}]$ of shape $m\\times n$ is $n$-dimensional **vector**, with its elements defined as:\n",
    "\n",
    "$$(\\mathbf{v}^TA)_j = \\sum_{i=1}^m a_{ij}v_i,\\qquad j=1,\\ldots,n.$$\n",
    "\n",
    "Basically, $j$-th element of the vector $\\mathbf{v}^TA$ is a *scalar product* between vector $\\mathbf{v}$ and $j$-th column of matrix $A$.\n",
    "\n",
    "Or, $\\mathbf{v}^TA$ can be considered as a matrix product between vector $\\mathbf{v}^T$ considered as a matrix of shape $1\\times m$ (called also _**row matrix**_) and a matrix $A$."
   ]
  },
  {
   "cell_type": "markdown",
   "id": "75ba5d06",
   "metadata": {},
   "source": [
    "Left matrix-vector product is used less than the right one, and it is implemented in Numpy the same way: via `np.dot()` or `@` operator."
   ]
  },
  {
   "cell_type": "code",
   "execution_count": 203,
   "id": "87f66e68",
   "metadata": {},
   "outputs": [],
   "source": [
    "v2 = np.array([-1, 0, 1]) "
   ]
  },
  {
   "cell_type": "code",
   "execution_count": 204,
   "id": "433688dd",
   "metadata": {},
   "outputs": [
    {
     "data": {
      "text/plain": [
       "array([8, 8, 8, 8])"
      ]
     },
     "execution_count": 204,
     "metadata": {},
     "output_type": "execute_result"
    }
   ],
   "source": [
    "np.dot(v2, A)"
   ]
  },
  {
   "cell_type": "code",
   "execution_count": 205,
   "id": "325b5b75",
   "metadata": {},
   "outputs": [
    {
     "data": {
      "text/plain": [
       "array([8, 8, 8, 8])"
      ]
     },
     "execution_count": 205,
     "metadata": {},
     "output_type": "execute_result"
    }
   ],
   "source": [
    "v2 @ A"
   ]
  },
  {
   "cell_type": "markdown",
   "id": "c556f5a3",
   "metadata": {},
   "source": [
    "![](../img/matrix_vector.jpeg)"
   ]
  },
  {
   "cell_type": "markdown",
   "id": "e948d433",
   "metadata": {},
   "source": [
    "Geometrically, a matrix maps a vector/point-in-space to another vector/point-in-space via matrix-vector product. We can also say that a matrix *transforms* a vector. For example, matrix"
   ]
  },
  {
   "cell_type": "code",
   "execution_count": 206,
   "id": "ff599544",
   "metadata": {},
   "outputs": [],
   "source": [
    "B = np.array([[1, 2, 0], [3, -1, 4], [0, 5, 1]])"
   ]
  },
  {
   "cell_type": "markdown",
   "id": "bb06d461",
   "metadata": {},
   "source": [
    "transform vector"
   ]
  },
  {
   "cell_type": "code",
   "execution_count": 207,
   "id": "122baee7",
   "metadata": {},
   "outputs": [],
   "source": [
    "vec = np.array([1, 0, 0])"
   ]
  },
  {
   "cell_type": "markdown",
   "id": "0aae86b6",
   "metadata": {},
   "source": [
    "to a vector"
   ]
  },
  {
   "cell_type": "code",
   "execution_count": 208,
   "id": "a1390933",
   "metadata": {},
   "outputs": [
    {
     "data": {
      "text/plain": [
       "array([1, 3, 0])"
      ]
     },
     "execution_count": 208,
     "metadata": {},
     "output_type": "execute_result"
    }
   ],
   "source": [
    "B @ vec"
   ]
  },
  {
   "cell_type": "markdown",
   "id": "67aae619",
   "metadata": {},
   "source": [
    "If we have a set of points in space, then a matrix will *linearly* transform this set. In fact, it is through a matrix-vector product that a true mathematical nature of matrices is revealed - matrix is a representation of a *linear transformation/deformation* of a space, as space can be considered as a set of all the possible points. Let's illustrate this. (and don't worry about this code, it's for illustrative purposes only!)"
   ]
  },
  {
   "cell_type": "code",
   "execution_count": 215,
   "id": "8a6fb43e",
   "metadata": {},
   "outputs": [],
   "source": [
    "import matplotlib.pyplot as plt\n",
    "import matplotlib as mpl\n",
    "from matplotlib import cm\n",
    "import matplotlib.gridspec as gridspec\n",
    "%matplotlib inline\n",
    "mpl.rc('axes', labelsize=14)\n",
    "mpl.rc('xtick', labelsize=12)\n",
    "mpl.rc('ytick', labelsize=12)"
   ]
  },
  {
   "cell_type": "code",
   "execution_count": 216,
   "id": "1ac23e3c",
   "metadata": {},
   "outputs": [],
   "source": [
    "def plotTransformedData(original_df, trans_df, colors, size, limits):\n",
    "    \n",
    "    fig = plt.figure(figsize=(18, 5))\n",
    "    spec = gridspec.GridSpec(nrows=1, ncols=2, figure=fig)\n",
    "    ax_0 = fig.add_subplot(spec[0, 0])\n",
    "    ax_1 = fig.add_subplot(spec[0, 1])\n",
    "    \n",
    "    for ax in [ax_0, ax_1]:\n",
    "        ax.set_xlim(limits[0], limits[1])\n",
    "        ax.set_xticks(np.arange(limits[0] + .25, limits[1], .5))\n",
    "        ax.set_xlabel('x', fontname='serif')\n",
    "        ax.set_ylim(limits[2], limits[3])\n",
    "        ax.set_yticks(np.arange(limits[2] + .25, limits[3], .5))\n",
    "        ax.set_ylabel('y', fontname='serif')\n",
    "        \n",
    "        \n",
    "    ax_0.scatter(original_df['x'], original_df['y'], c=colors, s=size)\n",
    "    ax_0.set_title('Original Data', fontname='serif', fontsize=16)\n",
    "    \n",
    "    ax_1.scatter(trans_df['x'], trans_df['y'], c=colors, s=size)\n",
    "    ax_1.set_title('Transformed Data', fontname='serif', fontsize=16)"
   ]
  },
  {
   "cell_type": "code",
   "execution_count": 217,
   "id": "464e7b00",
   "metadata": {},
   "outputs": [],
   "source": [
    "data = np.array([[x, y] for x in [0, .2, .4, .6, .8, 1] for y in [0, .2, .4, .6, .8, 1]])"
   ]
  },
  {
   "cell_type": "code",
   "execution_count": 218,
   "id": "acba6dbe",
   "metadata": {
    "scrolled": true
   },
   "outputs": [
    {
     "data": {
      "text/html": [
       "<div>\n",
       "<style scoped>\n",
       "    .dataframe tbody tr th:only-of-type {\n",
       "        vertical-align: middle;\n",
       "    }\n",
       "\n",
       "    .dataframe tbody tr th {\n",
       "        vertical-align: top;\n",
       "    }\n",
       "\n",
       "    .dataframe thead th {\n",
       "        text-align: right;\n",
       "    }\n",
       "</style>\n",
       "<table border=\"1\" class=\"dataframe\">\n",
       "  <thead>\n",
       "    <tr style=\"text-align: right;\">\n",
       "      <th></th>\n",
       "      <th>x</th>\n",
       "      <th>y</th>\n",
       "    </tr>\n",
       "  </thead>\n",
       "  <tbody>\n",
       "    <tr>\n",
       "      <th>0</th>\n",
       "      <td>0.0</td>\n",
       "      <td>0.0</td>\n",
       "    </tr>\n",
       "    <tr>\n",
       "      <th>1</th>\n",
       "      <td>0.0</td>\n",
       "      <td>0.2</td>\n",
       "    </tr>\n",
       "    <tr>\n",
       "      <th>2</th>\n",
       "      <td>0.0</td>\n",
       "      <td>0.4</td>\n",
       "    </tr>\n",
       "    <tr>\n",
       "      <th>3</th>\n",
       "      <td>0.0</td>\n",
       "      <td>0.6</td>\n",
       "    </tr>\n",
       "    <tr>\n",
       "      <th>4</th>\n",
       "      <td>0.0</td>\n",
       "      <td>0.8</td>\n",
       "    </tr>\n",
       "    <tr>\n",
       "      <th>5</th>\n",
       "      <td>0.0</td>\n",
       "      <td>1.0</td>\n",
       "    </tr>\n",
       "    <tr>\n",
       "      <th>6</th>\n",
       "      <td>0.2</td>\n",
       "      <td>0.0</td>\n",
       "    </tr>\n",
       "    <tr>\n",
       "      <th>7</th>\n",
       "      <td>0.2</td>\n",
       "      <td>0.2</td>\n",
       "    </tr>\n",
       "    <tr>\n",
       "      <th>8</th>\n",
       "      <td>0.2</td>\n",
       "      <td>0.4</td>\n",
       "    </tr>\n",
       "    <tr>\n",
       "      <th>9</th>\n",
       "      <td>0.2</td>\n",
       "      <td>0.6</td>\n",
       "    </tr>\n",
       "    <tr>\n",
       "      <th>10</th>\n",
       "      <td>0.2</td>\n",
       "      <td>0.8</td>\n",
       "    </tr>\n",
       "    <tr>\n",
       "      <th>11</th>\n",
       "      <td>0.2</td>\n",
       "      <td>1.0</td>\n",
       "    </tr>\n",
       "    <tr>\n",
       "      <th>12</th>\n",
       "      <td>0.4</td>\n",
       "      <td>0.0</td>\n",
       "    </tr>\n",
       "    <tr>\n",
       "      <th>13</th>\n",
       "      <td>0.4</td>\n",
       "      <td>0.2</td>\n",
       "    </tr>\n",
       "    <tr>\n",
       "      <th>14</th>\n",
       "      <td>0.4</td>\n",
       "      <td>0.4</td>\n",
       "    </tr>\n",
       "    <tr>\n",
       "      <th>15</th>\n",
       "      <td>0.4</td>\n",
       "      <td>0.6</td>\n",
       "    </tr>\n",
       "    <tr>\n",
       "      <th>16</th>\n",
       "      <td>0.4</td>\n",
       "      <td>0.8</td>\n",
       "    </tr>\n",
       "    <tr>\n",
       "      <th>17</th>\n",
       "      <td>0.4</td>\n",
       "      <td>1.0</td>\n",
       "    </tr>\n",
       "    <tr>\n",
       "      <th>18</th>\n",
       "      <td>0.6</td>\n",
       "      <td>0.0</td>\n",
       "    </tr>\n",
       "    <tr>\n",
       "      <th>19</th>\n",
       "      <td>0.6</td>\n",
       "      <td>0.2</td>\n",
       "    </tr>\n",
       "    <tr>\n",
       "      <th>20</th>\n",
       "      <td>0.6</td>\n",
       "      <td>0.4</td>\n",
       "    </tr>\n",
       "    <tr>\n",
       "      <th>21</th>\n",
       "      <td>0.6</td>\n",
       "      <td>0.6</td>\n",
       "    </tr>\n",
       "    <tr>\n",
       "      <th>22</th>\n",
       "      <td>0.6</td>\n",
       "      <td>0.8</td>\n",
       "    </tr>\n",
       "    <tr>\n",
       "      <th>23</th>\n",
       "      <td>0.6</td>\n",
       "      <td>1.0</td>\n",
       "    </tr>\n",
       "    <tr>\n",
       "      <th>24</th>\n",
       "      <td>0.8</td>\n",
       "      <td>0.0</td>\n",
       "    </tr>\n",
       "    <tr>\n",
       "      <th>25</th>\n",
       "      <td>0.8</td>\n",
       "      <td>0.2</td>\n",
       "    </tr>\n",
       "    <tr>\n",
       "      <th>26</th>\n",
       "      <td>0.8</td>\n",
       "      <td>0.4</td>\n",
       "    </tr>\n",
       "    <tr>\n",
       "      <th>27</th>\n",
       "      <td>0.8</td>\n",
       "      <td>0.6</td>\n",
       "    </tr>\n",
       "    <tr>\n",
       "      <th>28</th>\n",
       "      <td>0.8</td>\n",
       "      <td>0.8</td>\n",
       "    </tr>\n",
       "    <tr>\n",
       "      <th>29</th>\n",
       "      <td>0.8</td>\n",
       "      <td>1.0</td>\n",
       "    </tr>\n",
       "    <tr>\n",
       "      <th>30</th>\n",
       "      <td>1.0</td>\n",
       "      <td>0.0</td>\n",
       "    </tr>\n",
       "    <tr>\n",
       "      <th>31</th>\n",
       "      <td>1.0</td>\n",
       "      <td>0.2</td>\n",
       "    </tr>\n",
       "    <tr>\n",
       "      <th>32</th>\n",
       "      <td>1.0</td>\n",
       "      <td>0.4</td>\n",
       "    </tr>\n",
       "    <tr>\n",
       "      <th>33</th>\n",
       "      <td>1.0</td>\n",
       "      <td>0.6</td>\n",
       "    </tr>\n",
       "    <tr>\n",
       "      <th>34</th>\n",
       "      <td>1.0</td>\n",
       "      <td>0.8</td>\n",
       "    </tr>\n",
       "    <tr>\n",
       "      <th>35</th>\n",
       "      <td>1.0</td>\n",
       "      <td>1.0</td>\n",
       "    </tr>\n",
       "  </tbody>\n",
       "</table>\n",
       "</div>"
      ],
      "text/plain": [
       "      x    y\n",
       "0   0.0  0.0\n",
       "1   0.0  0.2\n",
       "2   0.0  0.4\n",
       "3   0.0  0.6\n",
       "4   0.0  0.8\n",
       "5   0.0  1.0\n",
       "6   0.2  0.0\n",
       "7   0.2  0.2\n",
       "8   0.2  0.4\n",
       "9   0.2  0.6\n",
       "10  0.2  0.8\n",
       "11  0.2  1.0\n",
       "12  0.4  0.0\n",
       "13  0.4  0.2\n",
       "14  0.4  0.4\n",
       "15  0.4  0.6\n",
       "16  0.4  0.8\n",
       "17  0.4  1.0\n",
       "18  0.6  0.0\n",
       "19  0.6  0.2\n",
       "20  0.6  0.4\n",
       "21  0.6  0.6\n",
       "22  0.6  0.8\n",
       "23  0.6  1.0\n",
       "24  0.8  0.0\n",
       "25  0.8  0.2\n",
       "26  0.8  0.4\n",
       "27  0.8  0.6\n",
       "28  0.8  0.8\n",
       "29  0.8  1.0\n",
       "30  1.0  0.0\n",
       "31  1.0  0.2\n",
       "32  1.0  0.4\n",
       "33  1.0  0.6\n",
       "34  1.0  0.8\n",
       "35  1.0  1.0"
      ]
     },
     "execution_count": 218,
     "metadata": {},
     "output_type": "execute_result"
    }
   ],
   "source": [
    "data = pd.DataFrame(data, columns=['x', 'y'])\n",
    "data"
   ]
  },
  {
   "cell_type": "code",
   "execution_count": 219,
   "id": "c16eec8f",
   "metadata": {},
   "outputs": [],
   "source": [
    "r = (data['x'].values - data['x'].min())/(data['x'].max() - data['x'].min())\n",
    "g = np.zeros(len(r))\n",
    "b = np.zeros(len(r))\n",
    "\n",
    "colors = np.array([r, g, b]).T\n",
    "sizes = data['x'].values*100 + data['y'].values*10 + 10\n",
    "limits = [-2.25, 2.25, -2.25, 2.25]"
   ]
  },
  {
   "cell_type": "code",
   "execution_count": 220,
   "id": "31c37ee2",
   "metadata": {},
   "outputs": [],
   "source": [
    "# -------------------- Define X NumpPy Array -------------------- #\n",
    "# Data Matrix\n",
    "X = data.values\n",
    "\n",
    "\n",
    "# -------------------- Define 13 NumPy Arrays -------------------- #\n",
    "I = np.eye(2)\n",
    "\n",
    "A1 = -I #reflection\n",
    "A2 = np.diag([.5, 1]) #contraction\n",
    "A3 = np.array([[np.cos(np.pi/4), -np.sin(np.pi/4)], [np.sin(np.pi/4), np.cos(np.pi/4)]]) #rotation\n",
    "A4 = np.diag([-1, 1]) #reflection\n",
    "A5 = np.diag([1, 2]) #expansion\n",
    "A6 = np.array([[1, 0], [.5, 1]]) #shearing\n",
    "A7 = np.array([[1, .5], [0, 1]]) #shearing\n",
    "A8 = np.fliplr(A1) #reflection\n",
    "A9 = np.diag([1, 0]) #projection\n",
    "A10 = np.diag([0, 1]) #projection\n",
    "A11 = np.diag([1, -1]) #reflection\n",
    "A12 = np.fliplr(I) #reflection\n",
    "A13 = I #identity"
   ]
  },
  {
   "cell_type": "code",
   "execution_count": 221,
   "id": "38fa331d",
   "metadata": {},
   "outputs": [
    {
     "data": {
      "image/png": "[encoded data removed]",
      "text/plain": [
       "<Figure size 1296x360 with 2 Axes>"
      ]
     },
     "metadata": {
      "needs_background": "light"
     },
     "output_type": "display_data"
    }
   ],
   "source": [
    "# Perform Matrix Multiplication\n",
    "X_trans = A7@X.T\n",
    "\n",
    "# Plot Transformation\n",
    "data_trans = pd.DataFrame(X_trans.T, columns=['x', 'y'])\n",
    "plotTransformedData(data, data_trans, colors=colors, size=sizes, limits=limits)"
   ]
  },
  {
   "cell_type": "markdown",
   "id": "42e7925f",
   "metadata": {},
   "source": [
    "## 4. Three- and higher-dimensional arrays"
   ]
  },
  {
   "cell_type": "markdown",
   "id": "6a048f5c",
   "metadata": {},
   "source": [
    "Many things we said before regarding vectors and matrices can be (more-or-less) intuitively generalized to higher-dimensional arrays. For the illustration purposes, here we'll work with three-dimensional arrays only."
   ]
  },
  {
   "cell_type": "markdown",
   "id": "cc3afd26",
   "metadata": {},
   "source": [
    "We can represent 3-dimensional arrays as \"cubic matrices\", where each 'slice' of this 3D array is a 2D matrix. Every element of a 3D array is determined by three indices. For example, element $a_{ijk}$ belongs to $j$-th row and $k$-th column of $i$-th slice/matrix of an array. "
   ]
  },
  {
   "cell_type": "markdown",
   "id": "c984ddab",
   "metadata": {},
   "source": [
    "We can also define 3D array in Numpy by casting from nested lists:"
   ]
  },
  {
   "cell_type": "code",
   "execution_count": 222,
   "id": "ef983b45",
   "metadata": {},
   "outputs": [
    {
     "data": {
      "text/plain": [
       "array([[[ 1,  2,  3],\n",
       "        [ 4,  5,  6],\n",
       "        [ 7,  8,  9]],\n",
       "\n",
       "       [[10, 11, 12],\n",
       "        [13, 14, 15],\n",
       "        [16, 17, 18]],\n",
       "\n",
       "       [[19, 20, 21],\n",
       "        [22, 23, 24],\n",
       "        [25, 26, 27]]])"
      ]
     },
     "execution_count": 222,
     "metadata": {},
     "output_type": "execute_result"
    }
   ],
   "source": [
    "T = np.array([\n",
    "            [[1, 2, 3], [4, 5, 6], [7, 8, 9]], \n",
    "            [[10, 11, 12], [13, 14, 15], [16, 17, 18]],\n",
    "            [[19, 20, 21], [22, 23, 24], [25, 26, 27]]\n",
    "                                                        ])\n",
    "T"
   ]
  },
  {
   "cell_type": "code",
   "execution_count": 223,
   "id": "8cfb756f",
   "metadata": {},
   "outputs": [
    {
     "data": {
      "text/plain": [
       "(3, 3, 3)"
      ]
     },
     "execution_count": 223,
     "metadata": {},
     "output_type": "execute_result"
    }
   ],
   "source": [
    "T.shape"
   ]
  },
  {
   "cell_type": "code",
   "execution_count": 224,
   "id": "cba267d9",
   "metadata": {},
   "outputs": [
    {
     "data": {
      "text/plain": [
       "3"
      ]
     },
     "execution_count": 224,
     "metadata": {},
     "output_type": "execute_result"
    }
   ],
   "source": [
    "T.ndim"
   ]
  },
  {
   "cell_type": "markdown",
   "id": "487623dc",
   "metadata": {},
   "source": [
    "Or we can do it by vector reshaping, from `rng.random()`, etc..."
   ]
  },
  {
   "cell_type": "code",
   "execution_count": 225,
   "id": "57c85987",
   "metadata": {},
   "outputs": [
    {
     "data": {
      "text/plain": [
       "array([[[ 1,  2,  3,  4],\n",
       "        [ 5,  6,  7,  8]],\n",
       "\n",
       "       [[ 9, 10, 11, 12],\n",
       "        [13, 14, 15, 16]],\n",
       "\n",
       "       [[17, 18, 19, 20],\n",
       "        [21, 22, 23, 24]]])"
      ]
     },
     "execution_count": 225,
     "metadata": {},
     "output_type": "execute_result"
    }
   ],
   "source": [
    "K = np.arange(1, 25).reshape(3, 2, 4)\n",
    "K"
   ]
  },
  {
   "cell_type": "code",
   "execution_count": 226,
   "id": "d5d3c204",
   "metadata": {},
   "outputs": [
    {
     "data": {
      "text/plain": [
       "array([[[0.07271263, 0.39638942, 0.80351088, 0.10134486, 0.34580118],\n",
       "        [0.69768652, 0.53980059, 0.54679781, 0.03815066, 0.39936818],\n",
       "        [0.97174967, 0.92946276, 0.41339343, 0.32846362, 0.23539889]],\n",
       "\n",
       "       [[0.30868807, 0.20622709, 0.92177695, 0.8203502 , 0.62621573],\n",
       "        [0.71169896, 0.41944266, 0.71884477, 0.21838528, 0.07710331],\n",
       "        [0.68839601, 0.1169028 , 0.15159822, 0.18488999, 0.93080639]]])"
      ]
     },
     "execution_count": 226,
     "metadata": {},
     "output_type": "execute_result"
    }
   ],
   "source": [
    "rng.random((2, 3, 5))"
   ]
  },
  {
   "cell_type": "markdown",
   "id": "1c41d5be",
   "metadata": {},
   "source": [
    "We can search for elements using indexing, perform slicing..."
   ]
  },
  {
   "cell_type": "code",
   "execution_count": 227,
   "id": "f6f2ba42",
   "metadata": {},
   "outputs": [
    {
     "data": {
      "text/plain": [
       "20"
      ]
     },
     "execution_count": 227,
     "metadata": {},
     "output_type": "execute_result"
    }
   ],
   "source": [
    "K[2, 0, 3]"
   ]
  },
  {
   "cell_type": "code",
   "execution_count": 228,
   "id": "73b47bc8",
   "metadata": {
    "scrolled": true
   },
   "outputs": [
    {
     "data": {
      "text/plain": [
       "array([[[10, 11],\n",
       "        [14, 15]],\n",
       "\n",
       "       [[18, 19],\n",
       "        [22, 23]]])"
      ]
     },
     "execution_count": 228,
     "metadata": {},
     "output_type": "execute_result"
    }
   ],
   "source": [
    "K[1:, :, 1:3]"
   ]
  },
  {
   "cell_type": "code",
   "execution_count": 229,
   "id": "6e8c5625",
   "metadata": {},
   "outputs": [
    {
     "data": {
      "text/plain": [
       "array([[[ 6,  7]],\n",
       "\n",
       "       [[22, 23]]])"
      ]
     },
     "execution_count": 229,
     "metadata": {},
     "output_type": "execute_result"
    }
   ],
   "source": [
    "K[np.ix_([0, 2], [1], [1, 2])]"
   ]
  },
  {
   "cell_type": "markdown",
   "id": "617675ae",
   "metadata": {},
   "source": [
    "Vectorization and broadcasting also work here."
   ]
  },
  {
   "cell_type": "code",
   "execution_count": 230,
   "id": "bc4b7c31",
   "metadata": {},
   "outputs": [
    {
     "data": {
      "text/plain": [
       "array([[[1.18000000e+00, 3.63000000e+00, 1.00200000e+01, 2.72900000e+01],\n",
       "        [7.42000000e+01, 2.01710000e+02, 5.48320000e+02, 1.49048000e+03]],\n",
       "\n",
       "       [[4.05154000e+03, 1.10132300e+04, 2.99370700e+04, 8.13774000e+04],\n",
       "        [2.21206700e+05, 6.01302140e+05, 1.63450869e+06, 4.44305526e+06]],\n",
       "\n",
       "       [[1.20774764e+07, 3.28299846e+07, 8.92411505e+07, 2.42582598e+08],\n",
       "        [6.59407867e+08, 1.79245642e+09, 4.87240172e+09, 1.32445611e+10]]])"
      ]
     },
     "execution_count": 230,
     "metadata": {},
     "output_type": "execute_result"
    }
   ],
   "source": [
    "np.sinh(K).round(2)"
   ]
  },
  {
   "cell_type": "code",
   "execution_count": 231,
   "id": "d6447e93",
   "metadata": {},
   "outputs": [
    {
     "data": {
      "text/plain": [
       "array([[[ 2,  3,  4,  5],\n",
       "        [ 6,  7,  8,  9]],\n",
       "\n",
       "       [[10, 11, 12, 13],\n",
       "        [14, 15, 16, 17]],\n",
       "\n",
       "       [[18, 19, 20, 21],\n",
       "        [22, 23, 24, 25]]])"
      ]
     },
     "execution_count": 231,
     "metadata": {},
     "output_type": "execute_result"
    }
   ],
   "source": [
    "K + 1"
   ]
  },
  {
   "cell_type": "code",
   "execution_count": 232,
   "id": "46a3d57f",
   "metadata": {},
   "outputs": [
    {
     "data": {
      "text/plain": [
       "array([[[ 2.,  3.,  4.,  5.],\n",
       "        [ 6.,  7.,  8.,  9.]],\n",
       "\n",
       "       [[10., 11., 12., 13.],\n",
       "        [14., 15., 16., 17.]],\n",
       "\n",
       "       [[18., 19., 20., 21.],\n",
       "        [22., 23., 24., 25.]]])"
      ]
     },
     "execution_count": 232,
     "metadata": {},
     "output_type": "execute_result"
    }
   ],
   "source": [
    "K + np.ones(4)"
   ]
  },
  {
   "cell_type": "code",
   "execution_count": 233,
   "id": "24e7c0ca",
   "metadata": {},
   "outputs": [
    {
     "data": {
      "text/plain": [
       "array([[[ 2,  3,  4,  5],\n",
       "        [ 4,  5,  6,  7]],\n",
       "\n",
       "       [[10, 11, 12, 13],\n",
       "        [12, 13, 14, 15]],\n",
       "\n",
       "       [[18, 19, 20, 21],\n",
       "        [20, 21, 22, 23]]])"
      ]
     },
     "execution_count": 233,
     "metadata": {},
     "output_type": "execute_result"
    }
   ],
   "source": [
    "K + np.array([[1, 1, 1, 1], [-1, -1, -1, -1]])"
   ]
  },
  {
   "cell_type": "markdown",
   "id": "04ddf8cd",
   "metadata": {},
   "source": [
    "Array reduction also works here..."
   ]
  },
  {
   "cell_type": "code",
   "execution_count": 234,
   "id": "2ad3a6c3",
   "metadata": {},
   "outputs": [
    {
     "data": {
      "text/plain": [
       "1"
      ]
     },
     "execution_count": 234,
     "metadata": {},
     "output_type": "execute_result"
    }
   ],
   "source": [
    "np.min(K)"
   ]
  },
  {
   "cell_type": "code",
   "execution_count": 235,
   "id": "2a1584bd",
   "metadata": {},
   "outputs": [
    {
     "data": {
      "text/plain": [
       "array([[1, 2, 3, 4],\n",
       "       [5, 6, 7, 8]])"
      ]
     },
     "execution_count": 235,
     "metadata": {},
     "output_type": "execute_result"
    }
   ],
   "source": [
    "np.min(K, axis=0)"
   ]
  },
  {
   "cell_type": "code",
   "execution_count": 236,
   "id": "9824f404",
   "metadata": {},
   "outputs": [
    {
     "data": {
      "text/plain": [
       "array([1, 2, 3, 4])"
      ]
     },
     "execution_count": 236,
     "metadata": {},
     "output_type": "execute_result"
    }
   ],
   "source": [
    "np.min(K, axis=(0, 1))"
   ]
  },
  {
   "cell_type": "code",
   "execution_count": 237,
   "id": "2c29d65d",
   "metadata": {},
   "outputs": [
    {
     "data": {
      "text/plain": [
       "array([1, 5])"
      ]
     },
     "execution_count": 237,
     "metadata": {},
     "output_type": "execute_result"
    }
   ],
   "source": [
    "np.min(K, axis=(0, 2))"
   ]
  },
  {
   "cell_type": "markdown",
   "id": "e2a157d8",
   "metadata": {},
   "source": [
    "You can also perform all kinds of elementwise operations on these arrays, as well as various exotic array products, but describing them all would require us to venture into the realm of Tensor Algebra, which is outside of our scope. "
   ]
  },
  {
   "cell_type": "markdown",
   "id": "967bbe34",
   "metadata": {},
   "source": [
    "## 5. Numpy and Pandas"
   ]
  },
  {
   "cell_type": "markdown",
   "id": "9bda1f4b",
   "metadata": {},
   "source": [
    "Numpy and Pandas work perfectly in tandem. In fact - a Data Frame can be observed as 2D array, or more precisely, as 2D *indexed array*, while Series can be observed as 1D indexed arrays."
   ]
  },
  {
   "cell_type": "code",
   "execution_count": 238,
   "id": "0e487cf7",
   "metadata": {},
   "outputs": [
    {
     "data": {
      "text/html": [
       "<div>\n",
       "<style scoped>\n",
       "    .dataframe tbody tr th:only-of-type {\n",
       "        vertical-align: middle;\n",
       "    }\n",
       "\n",
       "    .dataframe tbody tr th {\n",
       "        vertical-align: top;\n",
       "    }\n",
       "\n",
       "    .dataframe thead th {\n",
       "        text-align: right;\n",
       "    }\n",
       "</style>\n",
       "<table border=\"1\" class=\"dataframe\">\n",
       "  <thead>\n",
       "    <tr style=\"text-align: right;\">\n",
       "      <th></th>\n",
       "      <th>FILM</th>\n",
       "      <th>RottenTomatoes</th>\n",
       "      <th>Metacritic</th>\n",
       "      <th>IMDB</th>\n",
       "      <th>Fandango_Stars</th>\n",
       "    </tr>\n",
       "  </thead>\n",
       "  <tbody>\n",
       "    <tr>\n",
       "      <th>0</th>\n",
       "      <td>Avengers: Age of Ultron (2015)</td>\n",
       "      <td>74</td>\n",
       "      <td>66</td>\n",
       "      <td>7.8</td>\n",
       "      <td>5.0</td>\n",
       "    </tr>\n",
       "    <tr>\n",
       "      <th>1</th>\n",
       "      <td>Cinderella (2015)</td>\n",
       "      <td>85</td>\n",
       "      <td>67</td>\n",
       "      <td>7.1</td>\n",
       "      <td>5.0</td>\n",
       "    </tr>\n",
       "    <tr>\n",
       "      <th>2</th>\n",
       "      <td>Ant-Man (2015)</td>\n",
       "      <td>80</td>\n",
       "      <td>64</td>\n",
       "      <td>7.8</td>\n",
       "      <td>5.0</td>\n",
       "    </tr>\n",
       "    <tr>\n",
       "      <th>3</th>\n",
       "      <td>Do You Believe? (2015)</td>\n",
       "      <td>18</td>\n",
       "      <td>22</td>\n",
       "      <td>5.4</td>\n",
       "      <td>5.0</td>\n",
       "    </tr>\n",
       "    <tr>\n",
       "      <th>4</th>\n",
       "      <td>Hot Tub Time Machine 2 (2015)</td>\n",
       "      <td>14</td>\n",
       "      <td>29</td>\n",
       "      <td>5.1</td>\n",
       "      <td>3.5</td>\n",
       "    </tr>\n",
       "  </tbody>\n",
       "</table>\n",
       "</div>"
      ],
      "text/plain": [
       "                             FILM  RottenTomatoes  Metacritic  IMDB  \\\n",
       "0  Avengers: Age of Ultron (2015)              74          66   7.8   \n",
       "1               Cinderella (2015)              85          67   7.1   \n",
       "2                  Ant-Man (2015)              80          64   7.8   \n",
       "3          Do You Believe? (2015)              18          22   5.4   \n",
       "4   Hot Tub Time Machine 2 (2015)              14          29   5.1   \n",
       "\n",
       "   Fandango_Stars  \n",
       "0             5.0  \n",
       "1             5.0  \n",
       "2             5.0  \n",
       "3             5.0  \n",
       "4             3.5  "
      ]
     },
     "execution_count": 238,
     "metadata": {},
     "output_type": "execute_result"
    }
   ],
   "source": [
    "data_set = pd.read_csv(os.path.join(data_dir, \"MovieRatings.csv\"),\n",
    "                       index_col=0)\n",
    "data_set.head()"
   ]
  },
  {
   "cell_type": "code",
   "execution_count": 239,
   "id": "d62e8365",
   "metadata": {},
   "outputs": [
    {
     "data": {
      "text/plain": [
       "0    74\n",
       "1    85\n",
       "2    80\n",
       "3    18\n",
       "4    14\n",
       "5    63\n",
       "6    42\n",
       "7    86\n",
       "8    99\n",
       "9    89\n",
       "Name: RottenTomatoes, dtype: int64"
      ]
     },
     "execution_count": 239,
     "metadata": {},
     "output_type": "execute_result"
    }
   ],
   "source": [
    "rt = data_set.iloc[:, 1]\n",
    "rt[0:10]"
   ]
  },
  {
   "cell_type": "code",
   "execution_count": 240,
   "id": "f6ff6e53",
   "metadata": {},
   "outputs": [
    {
     "data": {
      "text/plain": [
       "60.84931506849315"
      ]
     },
     "execution_count": 240,
     "metadata": {},
     "output_type": "execute_result"
    }
   ],
   "source": [
    "rt.mean()"
   ]
  },
  {
   "cell_type": "code",
   "execution_count": 241,
   "id": "81e45781",
   "metadata": {},
   "outputs": [
    {
     "data": {
      "text/plain": [
       "63.5"
      ]
     },
     "execution_count": 241,
     "metadata": {},
     "output_type": "execute_result"
    }
   ],
   "source": [
    "rt.median()"
   ]
  },
  {
   "cell_type": "code",
   "execution_count": 242,
   "id": "28c1c288",
   "metadata": {},
   "outputs": [
    {
     "data": {
      "text/plain": [
       "910.1564478034952"
      ]
     },
     "execution_count": 242,
     "metadata": {},
     "output_type": "execute_result"
    }
   ],
   "source": [
    "rt.var()"
   ]
  },
  {
   "cell_type": "code",
   "execution_count": 243,
   "id": "fb70030f",
   "metadata": {},
   "outputs": [
    {
     "data": {
      "text/plain": [
       "30.16879924364732"
      ]
     },
     "execution_count": 243,
     "metadata": {},
     "output_type": "execute_result"
    }
   ],
   "source": [
    "rt.std()"
   ]
  },
  {
   "cell_type": "code",
   "execution_count": 244,
   "id": "38d8d9ec",
   "metadata": {},
   "outputs": [
    {
     "data": {
      "text/plain": [
       "0       75\n",
       "1       86\n",
       "2       81\n",
       "3       19\n",
       "4       15\n",
       "      ... \n",
       "141     88\n",
       "142     98\n",
       "143     98\n",
       "144    101\n",
       "145     88\n",
       "Name: RottenTomatoes, Length: 146, dtype: int64"
      ]
     },
     "execution_count": 244,
     "metadata": {},
     "output_type": "execute_result"
    }
   ],
   "source": [
    "rt + 1"
   ]
  },
  {
   "cell_type": "markdown",
   "id": "c72ca2c0",
   "metadata": {},
   "source": [
    "You can do that in the DataFrame directly:"
   ]
  },
  {
   "cell_type": "code",
   "execution_count": 245,
   "id": "8fd13509",
   "metadata": {},
   "outputs": [],
   "source": [
    "data_set['RottenTomatoes'] = data_set['RottenTomatoes'] + 1"
   ]
  },
  {
   "cell_type": "code",
   "execution_count": 246,
   "id": "d0deb163",
   "metadata": {},
   "outputs": [
    {
     "data": {
      "text/html": [
       "<div>\n",
       "<style scoped>\n",
       "    .dataframe tbody tr th:only-of-type {\n",
       "        vertical-align: middle;\n",
       "    }\n",
       "\n",
       "    .dataframe tbody tr th {\n",
       "        vertical-align: top;\n",
       "    }\n",
       "\n",
       "    .dataframe thead th {\n",
       "        text-align: right;\n",
       "    }\n",
       "</style>\n",
       "<table border=\"1\" class=\"dataframe\">\n",
       "  <thead>\n",
       "    <tr style=\"text-align: right;\">\n",
       "      <th></th>\n",
       "      <th>FILM</th>\n",
       "      <th>RottenTomatoes</th>\n",
       "      <th>Metacritic</th>\n",
       "      <th>IMDB</th>\n",
       "      <th>Fandango_Stars</th>\n",
       "    </tr>\n",
       "  </thead>\n",
       "  <tbody>\n",
       "    <tr>\n",
       "      <th>0</th>\n",
       "      <td>Avengers: Age of Ultron (2015)</td>\n",
       "      <td>75</td>\n",
       "      <td>66</td>\n",
       "      <td>7.8</td>\n",
       "      <td>5.0</td>\n",
       "    </tr>\n",
       "    <tr>\n",
       "      <th>1</th>\n",
       "      <td>Cinderella (2015)</td>\n",
       "      <td>86</td>\n",
       "      <td>67</td>\n",
       "      <td>7.1</td>\n",
       "      <td>5.0</td>\n",
       "    </tr>\n",
       "    <tr>\n",
       "      <th>2</th>\n",
       "      <td>Ant-Man (2015)</td>\n",
       "      <td>81</td>\n",
       "      <td>64</td>\n",
       "      <td>7.8</td>\n",
       "      <td>5.0</td>\n",
       "    </tr>\n",
       "    <tr>\n",
       "      <th>3</th>\n",
       "      <td>Do You Believe? (2015)</td>\n",
       "      <td>19</td>\n",
       "      <td>22</td>\n",
       "      <td>5.4</td>\n",
       "      <td>5.0</td>\n",
       "    </tr>\n",
       "    <tr>\n",
       "      <th>4</th>\n",
       "      <td>Hot Tub Time Machine 2 (2015)</td>\n",
       "      <td>15</td>\n",
       "      <td>29</td>\n",
       "      <td>5.1</td>\n",
       "      <td>3.5</td>\n",
       "    </tr>\n",
       "  </tbody>\n",
       "</table>\n",
       "</div>"
      ],
      "text/plain": [
       "                             FILM  RottenTomatoes  Metacritic  IMDB  \\\n",
       "0  Avengers: Age of Ultron (2015)              75          66   7.8   \n",
       "1               Cinderella (2015)              86          67   7.1   \n",
       "2                  Ant-Man (2015)              81          64   7.8   \n",
       "3          Do You Believe? (2015)              19          22   5.4   \n",
       "4   Hot Tub Time Machine 2 (2015)              15          29   5.1   \n",
       "\n",
       "   Fandango_Stars  \n",
       "0             5.0  \n",
       "1             5.0  \n",
       "2             5.0  \n",
       "3             5.0  \n",
       "4             3.5  "
      ]
     },
     "execution_count": 246,
     "metadata": {},
     "output_type": "execute_result"
    }
   ],
   "source": [
    "data_set.head(5)"
   ]
  },
  {
   "cell_type": "code",
   "execution_count": 247,
   "id": "033a3fdd",
   "metadata": {},
   "outputs": [
    {
     "data": {
      "text/plain": [
       "58.80821917808219"
      ]
     },
     "execution_count": 247,
     "metadata": {},
     "output_type": "execute_result"
    }
   ],
   "source": [
    "data_set['Metacritic'].mean()"
   ]
  },
  {
   "cell_type": "code",
   "execution_count": 248,
   "id": "703bdbbc",
   "metadata": {},
   "outputs": [
    {
     "name": "stderr",
     "output_type": "stream",
     "text": [
      "<ipython-input-248-d38ade19696c>:1: FutureWarning: Dropping of nuisance columns in DataFrame reductions (with 'numeric_only=None') is deprecated; in a future version this will raise TypeError.  Select only valid columns before calling the reduction.\n",
      "  data_set.mean()\n"
     ]
    },
    {
     "data": {
      "text/plain": [
       "RottenTomatoes    61.849315\n",
       "Metacritic        58.808219\n",
       "IMDB               6.736986\n",
       "Fandango_Stars     4.089041\n",
       "dtype: float64"
      ]
     },
     "execution_count": 248,
     "metadata": {},
     "output_type": "execute_result"
    }
   ],
   "source": [
    "data_set.mean()"
   ]
  },
  {
   "cell_type": "code",
   "execution_count": 249,
   "id": "4bf26b58",
   "metadata": {},
   "outputs": [
    {
     "name": "stderr",
     "output_type": "stream",
     "text": [
      "<ipython-input-249-5c60d097d30f>:1: FutureWarning: Dropping of nuisance columns in DataFrame reductions (with 'numeric_only=None') is deprecated; in a future version this will raise TypeError.  Select only valid columns before calling the reduction.\n",
      "  data_set.mean(1)\n"
     ]
    },
    {
     "data": {
      "text/plain": [
       "0      38.450\n",
       "1      41.275\n",
       "2      39.450\n",
       "3      12.850\n",
       "4      13.150\n",
       "        ...  \n",
       "141    41.600\n",
       "142    47.925\n",
       "143    49.475\n",
       "144    50.575\n",
       "145    41.550\n",
       "Length: 146, dtype: float64"
      ]
     },
     "execution_count": 249,
     "metadata": {},
     "output_type": "execute_result"
    }
   ],
   "source": [
    "data_set.mean(1)"
   ]
  },
  {
   "cell_type": "markdown",
   "id": "427770b7",
   "metadata": {},
   "source": [
    "## 6. Linear Regression with Numpy"
   ]
  },
  {
   "cell_type": "markdown",
   "id": "15f6d3b3",
   "metadata": {},
   "source": [
    "A group of ten students took tests A, B, and C. We are now interested in their performance on some test D taken in the end of their first year in college.\n",
    "\n",
    "To our best knowledge, and knowing what major programs they have enrolled, we judge the test A result to be the most important indicator of their future performance, test B to be a little less relevant, and test C a poor indicator.\n",
    "\n",
    "We hypothesize that \n",
    "\n",
    "- if we put some multiplicative weights on test results say, i.e.\n",
    "- we weight test A (weight: $\\beta_1$), test B (weight: $\\beta_2$), and test C (weight: $\\beta_3$)\n",
    "- and add some constant, say $\\beta_0$ to, $\\beta_1A + \\beta_2B + \\beta_3C$ (let's represent the constant by $\\beta_0$)\n",
    "- we could predict their 1st year performance in college by\n",
    "\n",
    "$$D = \\beta_0 + \\beta_1A + \\beta_2B + \\beta_3C$$\n",
    "\n",
    "Following a convention, we could say that we have a linear regression model of the following form \n",
    "\n",
    "$$Y = \\beta_0 + \\beta_1X_1 + \\beta_2X_2 + \\beta_3X_3$$\n",
    "\n",
    "where $Y$ represents their 1st year performance on test D, while $X_1$, $X_2$, and $X_3$ stand for our A, B, and C test scores. We call $X_1$, $X_2$, and $X_3$ **the predictors**.\n",
    "\n",
    "Let's assume that we already know the optimal values for $\\beta_0$, $\\beta_1$, $\\beta_2$ and $\\beta_3$, and that these values are:\n",
    "\n",
    "- $\\beta_0=7.96$,\n",
    "- $\\beta_1=5.71$,\n",
    "- $\\beta_2=2.23$, and\n",
    "- $\\beta_3=.65$.\n",
    "\n",
    "We will also say that $\\beta_0$, $\\beta_1$, $\\beta_2$, and $\\beta_3$ are our **regression coefficients**\n",
    "\n",
    "Given the following data, how could we make Numpy compute $Y$ - the model predictions - for us?"
   ]
  },
  {
   "cell_type": "code",
   "execution_count": 250,
   "id": "5f03b5c2",
   "metadata": {},
   "outputs": [
    {
     "data": {
      "text/html": [
       "<div>\n",
       "<style scoped>\n",
       "    .dataframe tbody tr th:only-of-type {\n",
       "        vertical-align: middle;\n",
       "    }\n",
       "\n",
       "    .dataframe tbody tr th {\n",
       "        vertical-align: top;\n",
       "    }\n",
       "\n",
       "    .dataframe thead th {\n",
       "        text-align: right;\n",
       "    }\n",
       "</style>\n",
       "<table border=\"1\" class=\"dataframe\">\n",
       "  <thead>\n",
       "    <tr style=\"text-align: right;\">\n",
       "      <th></th>\n",
       "      <th>A</th>\n",
       "      <th>B</th>\n",
       "      <th>C</th>\n",
       "    </tr>\n",
       "  </thead>\n",
       "  <tbody>\n",
       "    <tr>\n",
       "      <th>0</th>\n",
       "      <td>10</td>\n",
       "      <td>6</td>\n",
       "      <td>4</td>\n",
       "    </tr>\n",
       "    <tr>\n",
       "      <th>1</th>\n",
       "      <td>7</td>\n",
       "      <td>3</td>\n",
       "      <td>5</td>\n",
       "    </tr>\n",
       "    <tr>\n",
       "      <th>2</th>\n",
       "      <td>6</td>\n",
       "      <td>3</td>\n",
       "      <td>8</td>\n",
       "    </tr>\n",
       "    <tr>\n",
       "      <th>3</th>\n",
       "      <td>2</td>\n",
       "      <td>7</td>\n",
       "      <td>7</td>\n",
       "    </tr>\n",
       "    <tr>\n",
       "      <th>4</th>\n",
       "      <td>8</td>\n",
       "      <td>7</td>\n",
       "      <td>8</td>\n",
       "    </tr>\n",
       "    <tr>\n",
       "      <th>5</th>\n",
       "      <td>8</td>\n",
       "      <td>1</td>\n",
       "      <td>9</td>\n",
       "    </tr>\n",
       "    <tr>\n",
       "      <th>6</th>\n",
       "      <td>9</td>\n",
       "      <td>4</td>\n",
       "      <td>10</td>\n",
       "    </tr>\n",
       "    <tr>\n",
       "      <th>7</th>\n",
       "      <td>5</td>\n",
       "      <td>2</td>\n",
       "      <td>2</td>\n",
       "    </tr>\n",
       "    <tr>\n",
       "      <th>8</th>\n",
       "      <td>10</td>\n",
       "      <td>10</td>\n",
       "      <td>9</td>\n",
       "    </tr>\n",
       "    <tr>\n",
       "      <th>9</th>\n",
       "      <td>7</td>\n",
       "      <td>9</td>\n",
       "      <td>10</td>\n",
       "    </tr>\n",
       "  </tbody>\n",
       "</table>\n",
       "</div>"
      ],
      "text/plain": [
       "    A   B   C\n",
       "0  10   6   4\n",
       "1   7   3   5\n",
       "2   6   3   8\n",
       "3   2   7   7\n",
       "4   8   7   8\n",
       "5   8   1   9\n",
       "6   9   4  10\n",
       "7   5   2   2\n",
       "8  10  10   9\n",
       "9   7   9  10"
      ]
     },
     "execution_count": 250,
     "metadata": {},
     "output_type": "execute_result"
    }
   ],
   "source": [
    "test_scores = pd.DataFrame({'A':[10, 7, 6, 2, 8, 8, 9, 5, 10, 7],\n",
    "                            'B':[6, 3, 3, 7, 7, 1, 4, 2, 10, 9],\n",
    "                            'C':[4, 5, 8, 7, 8, 9, 10, 2, 9, 10]})\n",
    "test_scores"
   ]
  },
  {
   "cell_type": "code",
   "execution_count": 251,
   "id": "2167d352",
   "metadata": {},
   "outputs": [
    {
     "data": {
      "text/plain": [
       "(10, 3)"
      ]
     },
     "execution_count": 251,
     "metadata": {},
     "output_type": "execute_result"
    }
   ],
   "source": [
    "test_scores.shape"
   ]
  },
  {
   "cell_type": "code",
   "execution_count": 252,
   "id": "c0437364",
   "metadata": {},
   "outputs": [
    {
     "data": {
      "text/plain": [
       "array([7.96, 5.71, 2.23, 0.65])"
      ]
     },
     "execution_count": 252,
     "metadata": {},
     "output_type": "execute_result"
    }
   ],
   "source": [
    "betas = np.array([7.96, 5.71, 2.23, .65])\n",
    "betas"
   ]
  },
  {
   "cell_type": "code",
   "execution_count": 253,
   "id": "d8271941",
   "metadata": {},
   "outputs": [
    {
     "name": "stdout",
     "output_type": "stream",
     "text": [
      "(10,)\n",
      "[81.04 57.87 54.11 39.54 74.45 61.72 74.77 42.27 93.21 74.5 ]\n"
     ]
    }
   ],
   "source": [
    "def linear_predict(design_matrix, coeffs):\n",
    "    # - add a column of ones for the intercept term\n",
    "    ones_column = np.ones((test_scores.shape[0], 1))\n",
    "    aug_features = np.hstack((ones_column, design_matrix))\n",
    "    # - compute the predictions\n",
    "    predictions = np.dot(aug_features, coeffs)    \n",
    "    return(predictions)\n",
    "\n",
    "# - test\n",
    "predictions = linear_predict(test_scores, betas)\n",
    "print(predictions.shape)\n",
    "print(predictions)"
   ]
  },
  {
   "cell_type": "markdown",
   "id": "359099e4",
   "metadata": {},
   "source": [
    "Let's analyse this ^^ step by step."
   ]
  },
  {
   "cell_type": "markdown",
   "id": "ed743150",
   "metadata": {},
   "source": [
    "Add a column of 1s for $\\beta_0$ (the intercept) to the design matrix, to obtain an *augmented matrix*:"
   ]
  },
  {
   "cell_type": "code",
   "execution_count": 254,
   "id": "f77c2bb3",
   "metadata": {},
   "outputs": [
    {
     "data": {
      "text/plain": [
       "array([[1.],\n",
       "       [1.],\n",
       "       [1.],\n",
       "       [1.],\n",
       "       [1.],\n",
       "       [1.],\n",
       "       [1.],\n",
       "       [1.],\n",
       "       [1.],\n",
       "       [1.]])"
      ]
     },
     "execution_count": 254,
     "metadata": {},
     "output_type": "execute_result"
    }
   ],
   "source": [
    "ones_column = np.ones((test_scores.shape[0], 1))\n",
    "ones_column"
   ]
  },
  {
   "cell_type": "code",
   "execution_count": 255,
   "id": "739706d0",
   "metadata": {},
   "outputs": [
    {
     "data": {
      "text/plain": [
       "array([[ 1., 10.,  6.,  4.],\n",
       "       [ 1.,  7.,  3.,  5.],\n",
       "       [ 1.,  6.,  3.,  8.],\n",
       "       [ 1.,  2.,  7.,  7.],\n",
       "       [ 1.,  8.,  7.,  8.],\n",
       "       [ 1.,  8.,  1.,  9.],\n",
       "       [ 1.,  9.,  4., 10.],\n",
       "       [ 1.,  5.,  2.,  2.],\n",
       "       [ 1., 10., 10.,  9.],\n",
       "       [ 1.,  7.,  9., 10.]])"
      ]
     },
     "execution_count": 255,
     "metadata": {},
     "output_type": "execute_result"
    }
   ],
   "source": [
    "aug_features = np.hstack((ones_column, test_scores))\n",
    "aug_features"
   ]
  },
  {
   "cell_type": "markdown",
   "id": "aa092e41",
   "metadata": {},
   "source": [
    "The regression coefficients:"
   ]
  },
  {
   "cell_type": "code",
   "execution_count": 256,
   "id": "3e7e3b1c",
   "metadata": {},
   "outputs": [
    {
     "data": {
      "text/plain": [
       "array([7.96, 5.71, 2.23, 0.65])"
      ]
     },
     "execution_count": 256,
     "metadata": {},
     "output_type": "execute_result"
    }
   ],
   "source": [
    "betas"
   ]
  },
  {
   "cell_type": "markdown",
   "id": "5bd8002a",
   "metadata": {},
   "source": [
    "Predict test score D:"
   ]
  },
  {
   "cell_type": "code",
   "execution_count": 257,
   "id": "becae127",
   "metadata": {},
   "outputs": [
    {
     "data": {
      "text/plain": [
       "array([81.04, 57.87, 54.11, 39.54, 74.45, 61.72, 74.77, 42.27, 93.21,\n",
       "       74.5 ])"
      ]
     },
     "execution_count": 257,
     "metadata": {},
     "output_type": "execute_result"
    }
   ],
   "source": [
    "np.dot(aug_features, betas)  "
   ]
  },
  {
   "cell_type": "markdown",
   "id": "67960196",
   "metadata": {},
   "source": [
    "Prediction of D for the first student (first row in `test_scores`):"
   ]
  },
  {
   "cell_type": "code",
   "execution_count": 258,
   "id": "9157a95f",
   "metadata": {},
   "outputs": [
    {
     "data": {
      "text/plain": [
       "81.03999999999999"
      ]
     },
     "execution_count": 258,
     "metadata": {},
     "output_type": "execute_result"
    }
   ],
   "source": [
    "7.96 + 5.71*10 + 2.23*6 + .65*4"
   ]
  },
  {
   "cell_type": "markdown",
   "id": "87fb617d",
   "metadata": {},
   "source": [
    "### Further reading"
   ]
  },
  {
   "cell_type": "markdown",
   "id": "173b96c8",
   "metadata": {},
   "source": [
    "Excellent read: [Introduction to Pandas and NumPy from Codecademy](https://www.codecademy.com/article/introduction-to-numpy-and-pandas)"
   ]
  },
  {
   "cell_type": "markdown",
   "id": "bbebde24",
   "metadata": {},
   "source": [
    "### Readings and Videos\n",
    "- [Bill Lubanovic, Introducing Python, 1st Edition](https://www.oreilly.com/library/view/introducing-python-2nd/9781492051374/), Chapter 4.\n",
    "- [freeCodeCamp.org: Python NumPy Tutorial for Beginners](https://www.youtube.com/watch?v=QUT1VHiLmmI)\n",
    "- [Rob Mulla: A Gentle Introduction to Pandas Data Analysis (on Kaggle)](https://www.youtube.com/watch?v=_Eb0utIRdkw)"
   ]
  },
  {
   "cell_type": "markdown",
   "id": "1ec11b7d",
   "metadata": {},
   "source": [
    "***"
   ]
  },
  {
   "cell_type": "markdown",
   "id": "c3c652a4",
   "metadata": {},
   "source": [
    "DataKolektiv, 2022/23.\n",
    "\n",
    "[hello@datakolektiv.com](mailto:goran.milovanovic@datakolektiv.com)\n",
    "\n",
    "![](../img/DK_Logo_100.png)"
   ]
  },
  {
   "cell_type": "markdown",
   "id": "01e5b0da",
   "metadata": {},
   "source": [
    "<font size=1>License: [GPLv3](https://www.gnu.org/licenses/gpl-3.0.txt) This Notebook is free software: you can redistribute it and/or modify it under the terms of the GNU General Public License as published by the Free Software Foundation, either version 3 of the License, or (at your option) any later version. This Notebook is distributed in the hope that it will be useful, but WITHOUT ANY WARRANTY; without even the implied warranty of MERCHANTABILITY or FITNESS FOR A PARTICULAR PURPOSE. See the GNU General Public License for more details. You should have received a copy of the GNU General Public License along with this Notebook. If not, see http://www.gnu.org/licenses/.</font>"
   ]
  }
 ],
 "metadata": {
  "kernelspec": {
   "display_name": "Python 3",
   "language": "python",
   "name": "python3"
  },
  "language_info": {
   "codemirror_mode": {
    "name": "ipython",
    "version": 3
   },
   "file_extension": ".py",
   "mimetype": "text/x-python",
   "name": "python",
   "nbconvert_exporter": "python",
   "pygments_lexer": "ipython3",
   "version": "3.8.8"
  }
 },
 "nbformat": 4,
 "nbformat_minor": 5
}
