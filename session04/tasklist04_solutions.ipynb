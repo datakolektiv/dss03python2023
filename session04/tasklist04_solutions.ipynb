{
 "cells": [
  {
   "cell_type": "markdown",
   "id": "6162b1c1",
   "metadata": {},
   "source": [
    "# DATA SCIENCE SESSIONS VOL. 3\n",
    "### A Foundational Python Data Science Course\n",
    "## Task List 04: Numpy \n",
    "\n",
    "[&larr; Back to course webpage](https://datakolektiv.com/)\n",
    "\n",
    "Feedback should be send to [goran.milovanovic@datakolektiv.com](mailto:goran.milovanovic@datakolektiv.com). \n",
    "\n",
    "These notebooks accompany the DATA SCIENCE SESSIONS VOL. 3 :: A Foundational Python Data Science Course."
   ]
  },
  {
   "cell_type": "markdown",
   "id": "9ff27c32",
   "metadata": {},
   "source": [
    "![](../img/IntroRDataScience_NonTech-1.jpg)"
   ]
  },
  {
   "cell_type": "markdown",
   "id": "e992a32f",
   "metadata": {},
   "source": [
    "### Lecturers\n",
    "\n",
    "[Goran S. Milovanović, PhD, DataKolektiv, Chief Scientist & Owner](https://www.linkedin.com/in/gmilovanovic/)\n",
    "\n",
    "[Aleksandar Cvetković, PhD, DataKolektiv, Consultant](https://www.linkedin.com/in/alegzndr/)\n",
    "\n",
    "[Ilija Lazarević, MA, DataKolektiv, Consultant](https://www.linkedin.com/in/ilijalazarevic/)"
   ]
  },
  {
   "cell_type": "markdown",
   "id": "79e0bc51",
   "metadata": {},
   "source": [
    "![](../img/DK_Logo_100.png)"
   ]
  },
  {
   "cell_type": "markdown",
   "id": "b22614c5",
   "metadata": {},
   "source": [
    "### Intro\n",
    "\n",
    "Handling NumPy arrays can seem like a nightmare at first. But it's all about practice. Take a deep breath, and good luck!"
   ]
  },
  {
   "cell_type": "code",
   "execution_count": 1,
   "id": "5bf8dd47",
   "metadata": {},
   "outputs": [],
   "source": [
    "import numpy as np"
   ]
  },
  {
   "cell_type": "markdown",
   "id": "445498a6",
   "metadata": {},
   "source": [
    "**01.** Using `np.array()` create\n",
    "- A *vector* (i.e. one-dimensional array) of lenght 5\n",
    "- A *matrix* (i.e. two-dimensional array) of shape 2x3"
   ]
  },
  {
   "cell_type": "code",
   "execution_count": 2,
   "id": "30364348",
   "metadata": {},
   "outputs": [
    {
     "data": {
      "text/plain": [
       "array([0, 1, 2, 3, 4])"
      ]
     },
     "execution_count": 2,
     "metadata": {},
     "output_type": "execute_result"
    }
   ],
   "source": [
    "np.array([0, 1, 2, 3, 4])"
   ]
  },
  {
   "cell_type": "code",
   "execution_count": 3,
   "id": "c0d50b30",
   "metadata": {},
   "outputs": [
    {
     "data": {
      "text/plain": [
       "array([[1, 2, 3],\n",
       "       [3, 2, 1]])"
      ]
     },
     "execution_count": 3,
     "metadata": {},
     "output_type": "execute_result"
    }
   ],
   "source": [
    "np.array([[1, 2, 3], [3, 2, 1]])"
   ]
  },
  {
   "cell_type": "markdown",
   "id": "62915f8f",
   "metadata": {},
   "source": [
    "**02.** `.reshape()` array method is most commonly used to reshape vectors into matrices of desired (allowable) shape. Let's see it in action:"
   ]
  },
  {
   "cell_type": "code",
   "execution_count": 4,
   "id": "b004bd91",
   "metadata": {},
   "outputs": [
    {
     "name": "stdout",
     "output_type": "stream",
     "text": [
      "[1. 1. 1. 1. 1. 1.]\n",
      "(6,)\n"
     ]
    }
   ],
   "source": [
    "v_2 = np.ones(6)\n",
    "print(v_2)\n",
    "print(v_2.shape)"
   ]
  },
  {
   "cell_type": "markdown",
   "id": "58dafdad",
   "metadata": {},
   "source": [
    "`v_2` is a vector of ones of lenght 6. Run the cells below to see what happens when we reshape it."
   ]
  },
  {
   "cell_type": "code",
   "execution_count": 5,
   "id": "ab5fb978",
   "metadata": {},
   "outputs": [
    {
     "data": {
      "text/plain": [
       "array([[1., 1., 1.],\n",
       "       [1., 1., 1.]])"
      ]
     },
     "execution_count": 5,
     "metadata": {},
     "output_type": "execute_result"
    }
   ],
   "source": [
    "v_2a = v_2.reshape((2, 3))\n",
    "v_2a"
   ]
  },
  {
   "cell_type": "code",
   "execution_count": 6,
   "id": "512f500a",
   "metadata": {},
   "outputs": [
    {
     "data": {
      "text/plain": [
       "(2, 3)"
      ]
     },
     "execution_count": 6,
     "metadata": {},
     "output_type": "execute_result"
    }
   ],
   "source": [
    "v_2a.shape"
   ]
  },
  {
   "cell_type": "markdown",
   "id": "b2216616",
   "metadata": {},
   "source": [
    "And what happens if we do this?"
   ]
  },
  {
   "cell_type": "code",
   "execution_count": 7,
   "id": "4cb590f0",
   "metadata": {},
   "outputs": [
    {
     "data": {
      "text/plain": [
       "array([[1., 1.],\n",
       "       [1., 1.],\n",
       "       [1., 1.]])"
      ]
     },
     "execution_count": 7,
     "metadata": {},
     "output_type": "execute_result"
    }
   ],
   "source": [
    "v_2b = v_2.reshape((3, 2))\n",
    "v_2b"
   ]
  },
  {
   "cell_type": "code",
   "execution_count": 8,
   "id": "26c2b525",
   "metadata": {},
   "outputs": [
    {
     "data": {
      "text/plain": [
       "(3, 2)"
      ]
     },
     "execution_count": 8,
     "metadata": {},
     "output_type": "execute_result"
    }
   ],
   "source": [
    "v_2b.shape"
   ]
  },
  {
   "cell_type": "markdown",
   "id": "7d28dc39",
   "metadata": {},
   "source": [
    "And this? "
   ]
  },
  {
   "cell_type": "code",
   "execution_count": 9,
   "id": "399581d1",
   "metadata": {},
   "outputs": [
    {
     "ename": "ValueError",
     "evalue": "cannot reshape array of size 6 into shape (4,2)",
     "output_type": "error",
     "traceback": [
      "\u001b[1;31m---------------------------------------------------------------------------\u001b[0m",
      "\u001b[1;31mValueError\u001b[0m                                Traceback (most recent call last)",
      "\u001b[1;32m<ipython-input-9-2a8eb9a95932>\u001b[0m in \u001b[0;36m<module>\u001b[1;34m\u001b[0m\n\u001b[1;32m----> 1\u001b[1;33m \u001b[0mv_2\u001b[0m\u001b[1;33m.\u001b[0m\u001b[0mreshape\u001b[0m\u001b[1;33m(\u001b[0m\u001b[1;33m(\u001b[0m\u001b[1;36m4\u001b[0m\u001b[1;33m,\u001b[0m \u001b[1;36m2\u001b[0m\u001b[1;33m)\u001b[0m\u001b[1;33m)\u001b[0m\u001b[1;33m\u001b[0m\u001b[1;33m\u001b[0m\u001b[0m\n\u001b[0m",
      "\u001b[1;31mValueError\u001b[0m: cannot reshape array of size 6 into shape (4,2)"
     ]
    }
   ],
   "source": [
    "v_2.reshape((4, 2))"
   ]
  },
  {
   "cell_type": "markdown",
   "id": "6ec0a529",
   "metadata": {},
   "source": [
    "Why the error?"
   ]
  },
  {
   "cell_type": "markdown",
   "id": "6593111b",
   "metadata": {},
   "source": [
    "Now, create a vector of zeros of length 12 and reshape it to some matrix."
   ]
  },
  {
   "cell_type": "code",
   "execution_count": 10,
   "id": "3268674b",
   "metadata": {},
   "outputs": [
    {
     "data": {
      "text/plain": [
       "array([[0., 0., 0.],\n",
       "       [0., 0., 0.],\n",
       "       [0., 0., 0.],\n",
       "       [0., 0., 0.]])"
      ]
     },
     "execution_count": 10,
     "metadata": {},
     "output_type": "execute_result"
    }
   ],
   "source": [
    "np.zeros(12).reshape(4, 3)"
   ]
  },
  {
   "cell_type": "markdown",
   "id": "cd483a2b",
   "metadata": {},
   "source": [
    "**03.** -1 is a very special number when used with reshape. Let's make a vector of ones of lenght 20:"
   ]
  },
  {
   "cell_type": "code",
   "execution_count": 11,
   "id": "0635bed3",
   "metadata": {},
   "outputs": [
    {
     "data": {
      "text/plain": [
       "array([1., 1., 1., 1., 1., 1., 1., 1., 1., 1., 1., 1., 1., 1., 1., 1., 1.,\n",
       "       1., 1., 1.])"
      ]
     },
     "execution_count": 11,
     "metadata": {},
     "output_type": "execute_result"
    }
   ],
   "source": [
    "v_3 = np.ones(20)\n",
    "v_3"
   ]
  },
  {
   "cell_type": "markdown",
   "id": "1cb23945",
   "metadata": {},
   "source": [
    "Now see what happens if we use `.reshape((5, -1))` on it:"
   ]
  },
  {
   "cell_type": "code",
   "execution_count": 12,
   "id": "59ac20ba",
   "metadata": {},
   "outputs": [
    {
     "name": "stdout",
     "output_type": "stream",
     "text": [
      "[[1. 1. 1. 1.]\n",
      " [1. 1. 1. 1.]\n",
      " [1. 1. 1. 1.]\n",
      " [1. 1. 1. 1.]\n",
      " [1. 1. 1. 1.]]\n",
      "(5, 4)\n"
     ]
    }
   ],
   "source": [
    "v_3a = v_3.reshape((5, -1))\n",
    "print(v_3a)\n",
    "print(v_3a.shape)"
   ]
  },
  {
   "cell_type": "markdown",
   "id": "f477dc40",
   "metadata": {},
   "source": [
    "What do you think will happen if we use `.reshape((-1, 10))` on `v_3`?"
   ]
  },
  {
   "cell_type": "code",
   "execution_count": 13,
   "id": "0c39e75a",
   "metadata": {},
   "outputs": [
    {
     "data": {
      "text/plain": [
       "array([[1., 1., 1., 1., 1., 1., 1., 1., 1., 1.],\n",
       "       [1., 1., 1., 1., 1., 1., 1., 1., 1., 1.]])"
      ]
     },
     "execution_count": 13,
     "metadata": {},
     "output_type": "execute_result"
    }
   ],
   "source": [
    "v_3.reshape(-1, 10)"
   ]
  },
  {
   "cell_type": "markdown",
   "id": "b7c01941",
   "metadata": {},
   "source": [
    "Later on in the course, when implementing Machine Learning, you'll be sometimes required to reshape a vector into *row matrix* or *column matrix*. What are those? See for yourself, on the example of the following vector:"
   ]
  },
  {
   "cell_type": "code",
   "execution_count": 14,
   "id": "581bf2ce",
   "metadata": {},
   "outputs": [
    {
     "name": "stdout",
     "output_type": "stream",
     "text": [
      "[1. 1. 1. 1. 1.]\n",
      "(5,)\n"
     ]
    }
   ],
   "source": [
    "v = np.ones(5)\n",
    "print(v)\n",
    "print(v.shape)"
   ]
  },
  {
   "cell_type": "markdown",
   "id": "1b51cfd8",
   "metadata": {},
   "source": [
    "- Row matrix"
   ]
  },
  {
   "cell_type": "code",
   "execution_count": 15,
   "id": "dc01cd96",
   "metadata": {},
   "outputs": [
    {
     "name": "stdout",
     "output_type": "stream",
     "text": [
      "[[1. 1. 1. 1. 1.]]\n",
      "(1, 5)\n"
     ]
    }
   ],
   "source": [
    "v_row = v.reshape(1, -1)\n",
    "print(v_row)\n",
    "print(v_row.shape)"
   ]
  },
  {
   "cell_type": "markdown",
   "id": "27d27d8b",
   "metadata": {},
   "source": [
    "- Column matrix"
   ]
  },
  {
   "cell_type": "code",
   "execution_count": 16,
   "id": "82e33231",
   "metadata": {},
   "outputs": [
    {
     "name": "stdout",
     "output_type": "stream",
     "text": [
      "[[1.]\n",
      " [1.]\n",
      " [1.]\n",
      " [1.]\n",
      " [1.]]\n",
      "(5, 1)\n"
     ]
    }
   ],
   "source": [
    "v_col = v.reshape(-1, 1)\n",
    "print(v_col)\n",
    "print(v_col.shape)"
   ]
  },
  {
   "cell_type": "markdown",
   "id": "8c61b890",
   "metadata": {},
   "source": [
    "**04.** Let"
   ]
  },
  {
   "cell_type": "code",
   "execution_count": 17,
   "id": "af35a592",
   "metadata": {},
   "outputs": [
    {
     "name": "stdout",
     "output_type": "stream",
     "text": [
      "x =  [-1  0  1]\n",
      "-------------\n",
      "y =  [1 0 0]\n",
      "-------------\n",
      "A = \n",
      " [[1. 0. 0.]\n",
      " [0. 1. 0.]\n",
      " [0. 0. 1.]]\n",
      "-------------\n",
      "B = \n",
      " [[ 2  0  0]\n",
      " [ 0  1  0]\n",
      " [ 0  0 -2]]\n"
     ]
    }
   ],
   "source": [
    "x = np.array([-1, 0, 1])\n",
    "y = np.array([1, 0, 0])\n",
    "\n",
    "A = np.eye(3) #this creates a 3x3 identity matrix\n",
    "B = np.diag((2, 1, -2)) #this creates a diagonal matrix with the given elements on the main diagonal\n",
    "\n",
    "print('x = ', x)\n",
    "print('-------------')\n",
    "print('y = ', y)\n",
    "print('-------------')\n",
    "print('A = \\n', A)\n",
    "print('-------------')\n",
    "print('B = \\n', B)"
   ]
  },
  {
   "cell_type": "markdown",
   "id": "39634cad",
   "metadata": {},
   "source": [
    "Compute \n",
    "\n",
    "- $x\\cdot y$ (the inner product)\n",
    "- $Ay$\n",
    "- $AB$\n",
    "- $xBy$\n",
    "- $B^TA$\n",
    "- $AB - 4BA$"
   ]
  },
  {
   "cell_type": "code",
   "execution_count": 18,
   "id": "ed924c3a",
   "metadata": {},
   "outputs": [
    {
     "data": {
      "text/plain": [
       "-1"
      ]
     },
     "execution_count": 18,
     "metadata": {},
     "output_type": "execute_result"
    }
   ],
   "source": [
    "x@y"
   ]
  },
  {
   "cell_type": "code",
   "execution_count": 19,
   "id": "4e86b79d",
   "metadata": {},
   "outputs": [
    {
     "data": {
      "text/plain": [
       "array([1., 0., 0.])"
      ]
     },
     "execution_count": 19,
     "metadata": {},
     "output_type": "execute_result"
    }
   ],
   "source": [
    "A@y"
   ]
  },
  {
   "cell_type": "code",
   "execution_count": 20,
   "id": "dcafb7a6",
   "metadata": {},
   "outputs": [
    {
     "data": {
      "text/plain": [
       "array([[ 2.,  0.,  0.],\n",
       "       [ 0.,  1.,  0.],\n",
       "       [ 0.,  0., -2.]])"
      ]
     },
     "execution_count": 20,
     "metadata": {},
     "output_type": "execute_result"
    }
   ],
   "source": [
    "A@B"
   ]
  },
  {
   "cell_type": "code",
   "execution_count": 21,
   "id": "08b79da2",
   "metadata": {},
   "outputs": [
    {
     "data": {
      "text/plain": [
       "-2"
      ]
     },
     "execution_count": 21,
     "metadata": {},
     "output_type": "execute_result"
    }
   ],
   "source": [
    "x@B@y"
   ]
  },
  {
   "cell_type": "code",
   "execution_count": 22,
   "id": "511807d0",
   "metadata": {},
   "outputs": [
    {
     "data": {
      "text/plain": [
       "array([[ 2.,  0.,  0.],\n",
       "       [ 0.,  1.,  0.],\n",
       "       [ 0.,  0., -2.]])"
      ]
     },
     "execution_count": 22,
     "metadata": {},
     "output_type": "execute_result"
    }
   ],
   "source": [
    "B.T@A"
   ]
  },
  {
   "cell_type": "code",
   "execution_count": 23,
   "id": "f53a0667",
   "metadata": {},
   "outputs": [
    {
     "data": {
      "text/plain": [
       "array([[-6.,  0.,  0.],\n",
       "       [ 0., -3.,  0.],\n",
       "       [ 0.,  0.,  6.]])"
      ]
     },
     "execution_count": 23,
     "metadata": {},
     "output_type": "execute_result"
    }
   ],
   "source": [
    "A@B - 4*B@A"
   ]
  },
  {
   "cell_type": "markdown",
   "id": "8cd2b56b",
   "metadata": {},
   "source": [
    "Notice the outputs of the operations above? Depending on the operands involved, you can obtain either a vector, a matrix or a *scalar*, i.e. a number. Knowing what kind of output to expect for given inputs is very useful when doing *Linear Algebra*.\n",
    "\n",
    "But why all this? Why Linear Algebra? Well, because\n",
    "\n",
    "$$ {\\rm No\\ Linear\\ Algebra} \\Rightarrow {\\rm No\\ Machine\\ Learning}. $$\n",
    "\n",
    "But, don't worry - we aren't going to do some fancy Linear Algebra in this course. We'll just cover the most basic concepts, needed to understand the mathematics behind Machine Learning and utilizing ML in Python. And should you decide to venture into *Deep Learning* - area of ML dealing with *Neural Networks* (used for Computer Vision, Chatbots and Natural Language Understanding/Generation), be prepared to do Linear Algebra quite a bit:)"
   ]
  },
  {
   "cell_type": "markdown",
   "id": "f2672eaa",
   "metadata": {},
   "source": [
    "**05.** Using indexing and index slicing extract from matrix `A_5` the following:\n",
    "\n",
    "- an element in its third row and second column\n",
    "- an element in its last column and second row\n",
    "- its first row\n",
    "- its third column\n",
    "- its last two columns\n",
    "- its first and third row\n",
    "- all its elements in the interesction of its last two rows and first two columns\n",
    "- all its elements in the intesection of its two middle rows and two middle columns"
   ]
  },
  {
   "cell_type": "code",
   "execution_count": 24,
   "id": "0c38a86a",
   "metadata": {},
   "outputs": [
    {
     "data": {
      "text/plain": [
       "array([[ 1,  2,  3,  4],\n",
       "       [ 5,  6,  7,  8],\n",
       "       [ 9, 10, 11, 12],\n",
       "       [13, 14, 15, 16]])"
      ]
     },
     "execution_count": 24,
     "metadata": {},
     "output_type": "execute_result"
    }
   ],
   "source": [
    "A_5 = np.array([[1, 2, 3, 4], [5, 6, 7, 8], [9, 10, 11, 12], [13, 14, 15, 16]])\n",
    "A_5"
   ]
  },
  {
   "cell_type": "code",
   "execution_count": 25,
   "id": "fc7c490c",
   "metadata": {},
   "outputs": [
    {
     "data": {
      "text/plain": [
       "10"
      ]
     },
     "execution_count": 25,
     "metadata": {},
     "output_type": "execute_result"
    }
   ],
   "source": [
    "A_5[2, 1]"
   ]
  },
  {
   "cell_type": "code",
   "execution_count": 26,
   "id": "c8b343ac",
   "metadata": {},
   "outputs": [
    {
     "data": {
      "text/plain": [
       "8"
      ]
     },
     "execution_count": 26,
     "metadata": {},
     "output_type": "execute_result"
    }
   ],
   "source": [
    "A_5[1, -1]"
   ]
  },
  {
   "cell_type": "code",
   "execution_count": 27,
   "id": "fed63e01",
   "metadata": {},
   "outputs": [
    {
     "data": {
      "text/plain": [
       "array([1, 2, 3, 4])"
      ]
     },
     "execution_count": 27,
     "metadata": {},
     "output_type": "execute_result"
    }
   ],
   "source": [
    "A_5[0]"
   ]
  },
  {
   "cell_type": "code",
   "execution_count": 28,
   "id": "437c1a02",
   "metadata": {},
   "outputs": [
    {
     "data": {
      "text/plain": [
       "array([ 3,  7, 11, 15])"
      ]
     },
     "execution_count": 28,
     "metadata": {},
     "output_type": "execute_result"
    }
   ],
   "source": [
    "A_5[:, 2]"
   ]
  },
  {
   "cell_type": "code",
   "execution_count": 29,
   "id": "48e393fb",
   "metadata": {},
   "outputs": [
    {
     "data": {
      "text/plain": [
       "array([[ 3,  4],\n",
       "       [ 7,  8],\n",
       "       [11, 12],\n",
       "       [15, 16]])"
      ]
     },
     "execution_count": 29,
     "metadata": {},
     "output_type": "execute_result"
    }
   ],
   "source": [
    "A_5[:, -2:]"
   ]
  },
  {
   "cell_type": "code",
   "execution_count": 30,
   "id": "485b7542",
   "metadata": {},
   "outputs": [
    {
     "data": {
      "text/plain": [
       "array([[ 1,  2,  3,  4],\n",
       "       [ 9, 10, 11, 12]])"
      ]
     },
     "execution_count": 30,
     "metadata": {},
     "output_type": "execute_result"
    }
   ],
   "source": [
    "A_5[[0, 2]]"
   ]
  },
  {
   "cell_type": "code",
   "execution_count": 31,
   "id": "30697ae8",
   "metadata": {},
   "outputs": [
    {
     "data": {
      "text/plain": [
       "array([[ 9, 10],\n",
       "       [13, 14]])"
      ]
     },
     "execution_count": 31,
     "metadata": {},
     "output_type": "execute_result"
    }
   ],
   "source": [
    "A_5[-2:, :2]"
   ]
  },
  {
   "cell_type": "code",
   "execution_count": 32,
   "id": "4b31ff31",
   "metadata": {},
   "outputs": [
    {
     "data": {
      "text/plain": [
       "array([[ 6,  7],\n",
       "       [10, 11]])"
      ]
     },
     "execution_count": 32,
     "metadata": {},
     "output_type": "execute_result"
    }
   ],
   "source": [
    "A_5[1:3, 1:3]"
   ]
  },
  {
   "cell_type": "markdown",
   "id": "0bbb98dc",
   "metadata": {},
   "source": [
    "**06.** Using conditional indexing, find all the elements of matrix `A_6` which are:\n",
    "\n",
    "- strictly greater than 1\n",
    "- not equal to zero\n",
    "- strictly lesser than -1 or greater than 2\n",
    "- in the [0, 3] segment (endpoints included) "
   ]
  },
  {
   "cell_type": "code",
   "execution_count": 33,
   "id": "e32fb181",
   "metadata": {},
   "outputs": [
    {
     "data": {
      "text/plain": [
       "array([[ 0, -1,  3,  4,  2],\n",
       "       [ 0,  2,  0, -4,  1],\n",
       "       [ 0,  0, -5,  2,  1],\n",
       "       [ 5, -1,  2,  0, -2]])"
      ]
     },
     "execution_count": 33,
     "metadata": {},
     "output_type": "execute_result"
    }
   ],
   "source": [
    "A_6 = np.array([[0, -1, 3, 4, 2], [0, 2, 0, -4, 1], [0, 0, -5, 2, 1], [5, -1, 2, 0, -2]])\n",
    "A_6"
   ]
  },
  {
   "cell_type": "code",
   "execution_count": 34,
   "id": "7fa48853",
   "metadata": {},
   "outputs": [
    {
     "data": {
      "text/plain": [
       "array([3, 4, 2, 2, 2, 5, 2])"
      ]
     },
     "execution_count": 34,
     "metadata": {},
     "output_type": "execute_result"
    }
   ],
   "source": [
    "A_6[A_6 > 1]"
   ]
  },
  {
   "cell_type": "code",
   "execution_count": 35,
   "id": "becb64c6",
   "metadata": {},
   "outputs": [
    {
     "data": {
      "text/plain": [
       "array([-1,  3,  4,  2,  2, -4,  1, -5,  2,  1,  5, -1,  2, -2])"
      ]
     },
     "execution_count": 35,
     "metadata": {},
     "output_type": "execute_result"
    }
   ],
   "source": [
    "A_6[A_6 != 0]"
   ]
  },
  {
   "cell_type": "code",
   "execution_count": 36,
   "id": "4c480c42",
   "metadata": {},
   "outputs": [
    {
     "data": {
      "text/plain": [
       "array([ 3,  4, -4, -5,  5, -2])"
      ]
     },
     "execution_count": 36,
     "metadata": {},
     "output_type": "execute_result"
    }
   ],
   "source": [
    "A_6[(A_6 < -1) | (A_6 > 2)]"
   ]
  },
  {
   "cell_type": "code",
   "execution_count": 37,
   "id": "1a1bd4ee",
   "metadata": {},
   "outputs": [
    {
     "data": {
      "text/plain": [
       "array([0, 3, 2, 0, 2, 0, 1, 0, 0, 2, 1, 2, 0])"
      ]
     },
     "execution_count": 37,
     "metadata": {},
     "output_type": "execute_result"
    }
   ],
   "source": [
    "A_6[(0 <= A_6) & (A_6 <= 3)]"
   ]
  },
  {
   "cell_type": "markdown",
   "id": "a7e70f5f",
   "metadata": {},
   "source": [
    "**07.** Generate a random 3x7 matrix of floats, and then select all its entries greater or equal than 0.5 ."
   ]
  },
  {
   "cell_type": "code",
   "execution_count": 38,
   "id": "a6cf9b60",
   "metadata": {},
   "outputs": [
    {
     "data": {
      "text/plain": [
       "array([[0.32218655, 0.42254094, 0.93416154, 0.49415356, 0.70406788,\n",
       "        0.61466864, 0.11818428],\n",
       "       [0.0835413 , 0.60577599, 0.58774302, 0.36734695, 0.83716114,\n",
       "        0.19979126, 0.55713137],\n",
       "       [0.52032081, 0.92721543, 0.99438839, 0.56422673, 0.94694738,\n",
       "        0.72339524, 0.9699269 ]])"
      ]
     },
     "execution_count": 38,
     "metadata": {},
     "output_type": "execute_result"
    }
   ],
   "source": [
    "A_7 = np.random.random(size=(3, 7))\n",
    "A_7"
   ]
  },
  {
   "cell_type": "code",
   "execution_count": 39,
   "id": "119aabeb",
   "metadata": {},
   "outputs": [
    {
     "data": {
      "text/plain": [
       "array([0.93416154, 0.70406788, 0.61466864, 0.60577599, 0.58774302,\n",
       "       0.83716114, 0.55713137, 0.52032081, 0.92721543, 0.99438839,\n",
       "       0.56422673, 0.94694738, 0.72339524, 0.9699269 ])"
      ]
     },
     "execution_count": 39,
     "metadata": {},
     "output_type": "execute_result"
    }
   ],
   "source": [
    "A_7[A_7 >= .5]"
   ]
  },
  {
   "cell_type": "markdown",
   "id": "5bfc1307",
   "metadata": {},
   "source": [
    "**08.** `np.linspace()` creates a vector of equaly distant points between the two given points. Similar to this is `np.arange()` which produces a vector of equaly distant points between the two given points. Wait, what's the difference then? \n",
    "\n",
    " - for `np.linspace()` you specify the <u>number of points</u> between the two given points\n",
    " - for `np.arange()` you specify the <u>stepsize</u> between the numbers in the interval between the given two points\n",
    " \n",
    "To check this for yourself, do the following:\n",
    "\n",
    " - Make an array of 17 equally distributed points between 0 and 2\n",
    " - Make an array of points between 0 and 2 with stepsize 0.25"
   ]
  },
  {
   "cell_type": "code",
   "execution_count": 40,
   "id": "63b87452",
   "metadata": {},
   "outputs": [
    {
     "data": {
      "text/plain": [
       "array([0.   , 0.125, 0.25 , 0.375, 0.5  , 0.625, 0.75 , 0.875, 1.   ,\n",
       "       1.125, 1.25 , 1.375, 1.5  , 1.625, 1.75 , 1.875, 2.   ])"
      ]
     },
     "execution_count": 40,
     "metadata": {},
     "output_type": "execute_result"
    }
   ],
   "source": [
    "np.linspace(0, 2, 17)"
   ]
  },
  {
   "cell_type": "code",
   "execution_count": 41,
   "id": "d3ceadf3",
   "metadata": {},
   "outputs": [
    {
     "data": {
      "text/plain": [
       "array([0.  , 0.25, 0.5 , 0.75, 1.  , 1.25, 1.5 , 1.75])"
      ]
     },
     "execution_count": 41,
     "metadata": {},
     "output_type": "execute_result"
    }
   ],
   "source": [
    "np.arange(0, 2, .25)"
   ]
  },
  {
   "cell_type": "markdown",
   "id": "a0cb7544",
   "metadata": {},
   "source": [
    "Notice the difference? What happens to the endpoints of those two arrays?"
   ]
  },
  {
   "cell_type": "markdown",
   "id": "d633653a",
   "metadata": {},
   "source": [
    "**09.** Create the same array using both `np.linspace()` and `np.arange()`."
   ]
  },
  {
   "cell_type": "code",
   "execution_count": 42,
   "id": "704c0023",
   "metadata": {},
   "outputs": [
    {
     "data": {
      "text/plain": [
       "array([0.  , 0.25, 0.5 , 0.75, 1.  , 1.25, 1.5 , 1.75, 2.  ])"
      ]
     },
     "execution_count": 42,
     "metadata": {},
     "output_type": "execute_result"
    }
   ],
   "source": [
    "np.linspace(0, 2, 9)"
   ]
  },
  {
   "cell_type": "code",
   "execution_count": 43,
   "id": "5f435b8b",
   "metadata": {},
   "outputs": [
    {
     "data": {
      "text/plain": [
       "array([0.  , 0.25, 0.5 , 0.75, 1.  , 1.25, 1.5 , 1.75, 2.  ])"
      ]
     },
     "execution_count": 43,
     "metadata": {},
     "output_type": "execute_result"
    }
   ],
   "source": [
    "np.arange(0, 2.25, .25)"
   ]
  },
  {
   "cell_type": "markdown",
   "id": "4369af2c",
   "metadata": {},
   "source": [
    "**10.** `np.concatenate()` let's you stack two (or more) vectors/matrices next to one antoher or on top of each other. Given to vectors `v_10a` and `v_10b` use it to:\n",
    "   - produce a new vector by stacking them one next to another (horizontal stacking)\n",
    "   - produce a new matrix by stacking them on top of each other (vertical stacking) "
   ]
  },
  {
   "cell_type": "code",
   "execution_count": 44,
   "id": "83f47279",
   "metadata": {},
   "outputs": [],
   "source": [
    "v_10a = np.array([1, 2, 3])\n",
    "v_10b = np.array([4, 5, 6])"
   ]
  },
  {
   "cell_type": "code",
   "execution_count": 45,
   "id": "1209df19",
   "metadata": {},
   "outputs": [
    {
     "data": {
      "text/plain": [
       "array([1, 2, 3, 4, 5, 6])"
      ]
     },
     "execution_count": 45,
     "metadata": {},
     "output_type": "execute_result"
    }
   ],
   "source": [
    "np.concatenate((v_10a, v_10b), axis=0)"
   ]
  },
  {
   "cell_type": "code",
   "execution_count": 46,
   "id": "ae945d68",
   "metadata": {},
   "outputs": [
    {
     "data": {
      "text/plain": [
       "array([[1, 2, 3],\n",
       "       [4, 5, 6]])"
      ]
     },
     "execution_count": 46,
     "metadata": {},
     "output_type": "execute_result"
    }
   ],
   "source": [
    "v_10a = v_10a.reshape(1, -1)\n",
    "v_10b = v_10b.reshape(1, -1)\n",
    "\n",
    "np.concatenate((v_10a, v_10b), axis=0)"
   ]
  },
  {
   "cell_type": "markdown",
   "id": "4648ba7d",
   "metadata": {},
   "source": [
    "Now, do the same for matrices `A_10a` and `A_10b`."
   ]
  },
  {
   "cell_type": "code",
   "execution_count": 47,
   "id": "8c3ca14b",
   "metadata": {},
   "outputs": [
    {
     "data": {
      "text/plain": [
       "array([[1, 2],\n",
       "       [3, 4]])"
      ]
     },
     "execution_count": 47,
     "metadata": {},
     "output_type": "execute_result"
    }
   ],
   "source": [
    "A_10a = np.array([[1, 2], [3, 4]])\n",
    "A_10a"
   ]
  },
  {
   "cell_type": "code",
   "execution_count": 48,
   "id": "2340a73a",
   "metadata": {},
   "outputs": [
    {
     "data": {
      "text/plain": [
       "array([[-3, -2],\n",
       "       [ 1,  0]])"
      ]
     },
     "execution_count": 48,
     "metadata": {},
     "output_type": "execute_result"
    }
   ],
   "source": [
    "A_10b = np.array([[-3, -2], [1, 0]])\n",
    "A_10b"
   ]
  },
  {
   "cell_type": "code",
   "execution_count": 49,
   "id": "bbc5e80a",
   "metadata": {},
   "outputs": [
    {
     "data": {
      "text/plain": [
       "array([[ 1,  2, -3, -2],\n",
       "       [ 3,  4,  1,  0]])"
      ]
     },
     "execution_count": 49,
     "metadata": {},
     "output_type": "execute_result"
    }
   ],
   "source": [
    "np.concatenate((A_10a, A_10b), axis=1)"
   ]
  },
  {
   "cell_type": "code",
   "execution_count": 50,
   "id": "4c3439f2",
   "metadata": {},
   "outputs": [
    {
     "data": {
      "text/plain": [
       "array([[ 1,  2],\n",
       "       [ 3,  4],\n",
       "       [-3, -2],\n",
       "       [ 1,  0]])"
      ]
     },
     "execution_count": 50,
     "metadata": {},
     "output_type": "execute_result"
    }
   ],
   "source": [
    "np.concatenate((A_10a, A_10b), axis=0)"
   ]
  },
  {
   "cell_type": "markdown",
   "id": "1014af64",
   "metadata": {},
   "source": [
    "What are the shapes of newly obtained matrices?"
   ]
  },
  {
   "cell_type": "code",
   "execution_count": 51,
   "id": "53c8fa16",
   "metadata": {
    "scrolled": true
   },
   "outputs": [
    {
     "data": {
      "text/plain": [
       "(2, 4)"
      ]
     },
     "execution_count": 51,
     "metadata": {},
     "output_type": "execute_result"
    }
   ],
   "source": [
    "(2, 4)"
   ]
  },
  {
   "cell_type": "code",
   "execution_count": 52,
   "id": "d906ac02",
   "metadata": {},
   "outputs": [
    {
     "data": {
      "text/plain": [
       "(4, 2)"
      ]
     },
     "execution_count": 52,
     "metadata": {},
     "output_type": "execute_result"
    }
   ],
   "source": [
    "(4, 2)"
   ]
  },
  {
   "cell_type": "markdown",
   "id": "6b4cbf55",
   "metadata": {},
   "source": [
    "**11**. Given a 2x3 matrix `A_11` use\n",
    "\n",
    " - `np.vstack()` to expand it by two rows with some matrix `A_11a` you define\n",
    " - `np.hstack()` to expand it by two column with some matrix `A_11b` you define\n",
    " \n",
    "*Hint: Watch for the shapes!*"
   ]
  },
  {
   "cell_type": "code",
   "execution_count": 53,
   "id": "e41ee789",
   "metadata": {},
   "outputs": [
    {
     "data": {
      "text/plain": [
       "array([[1, 7, 1],\n",
       "       [7, 1, 7]])"
      ]
     },
     "execution_count": 53,
     "metadata": {},
     "output_type": "execute_result"
    }
   ],
   "source": [
    "A_11 = np.array([[1, 7, 1], [7, 1, 7]])\n",
    "A_11"
   ]
  },
  {
   "cell_type": "code",
   "execution_count": 54,
   "id": "37ba1922",
   "metadata": {},
   "outputs": [
    {
     "data": {
      "text/plain": [
       "array([[ 1,  0,  0],\n",
       "       [ 0,  0, -1]])"
      ]
     },
     "execution_count": 54,
     "metadata": {},
     "output_type": "execute_result"
    }
   ],
   "source": [
    "A_11a = np.array([[1, 0, 0], [0, 0, -1]])\n",
    "A_11a"
   ]
  },
  {
   "cell_type": "code",
   "execution_count": 55,
   "id": "7d33b32b",
   "metadata": {},
   "outputs": [
    {
     "data": {
      "text/plain": [
       "array([[ 1,  7,  1],\n",
       "       [ 7,  1,  7],\n",
       "       [ 1,  0,  0],\n",
       "       [ 0,  0, -1]])"
      ]
     },
     "execution_count": 55,
     "metadata": {},
     "output_type": "execute_result"
    }
   ],
   "source": [
    "np.vstack((A_11, A_11a))"
   ]
  },
  {
   "cell_type": "code",
   "execution_count": 56,
   "id": "0897b1b6",
   "metadata": {},
   "outputs": [
    {
     "data": {
      "text/plain": [
       "array([[ 1,  0],\n",
       "       [ 0, -1]])"
      ]
     },
     "execution_count": 56,
     "metadata": {},
     "output_type": "execute_result"
    }
   ],
   "source": [
    "A_11b = np.array([[1, 0], [0, -1]])\n",
    "A_11b"
   ]
  },
  {
   "cell_type": "code",
   "execution_count": 57,
   "id": "1b81bcdd",
   "metadata": {},
   "outputs": [
    {
     "data": {
      "text/plain": [
       "array([[ 1,  7,  1,  1,  0],\n",
       "       [ 7,  1,  7,  0, -1]])"
      ]
     },
     "execution_count": 57,
     "metadata": {},
     "output_type": "execute_result"
    }
   ],
   "source": [
    "np.hstack((A_11, A_11b))"
   ]
  },
  {
   "cell_type": "markdown",
   "id": "f5b22ea6",
   "metadata": {},
   "source": [
    "**12.** Find a way to turn matrix `A_12` into a vector containing its elements. \n",
    "\n",
    "*Hint: Try listening to Bolero.*"
   ]
  },
  {
   "cell_type": "code",
   "execution_count": 58,
   "id": "34428f54",
   "metadata": {},
   "outputs": [
    {
     "data": {
      "text/plain": [
       "array([[4, 7],\n",
       "       [7, 4],\n",
       "       [4, 7]])"
      ]
     },
     "execution_count": 58,
     "metadata": {},
     "output_type": "execute_result"
    }
   ],
   "source": [
    "A_12 = np.array([[4, 7], [7, 4], [4, 7]])\n",
    "A_12"
   ]
  },
  {
   "cell_type": "code",
   "execution_count": 59,
   "id": "18b7dd0b",
   "metadata": {},
   "outputs": [
    {
     "data": {
      "text/plain": [
       "array([4, 7, 7, 4, 4, 7])"
      ]
     },
     "execution_count": 59,
     "metadata": {},
     "output_type": "execute_result"
    }
   ],
   "source": [
    "A_12.ravel()"
   ]
  },
  {
   "cell_type": "markdown",
   "id": "d775f7a8",
   "metadata": {},
   "source": [
    "**13.** For the matrix `A_13` find \n",
    "\n",
    "- mean of all of its elements\n",
    "- mean of all of its elements in the second column\n",
    "- mean of all of its elements for every row"
   ]
  },
  {
   "cell_type": "code",
   "execution_count": 60,
   "id": "cef91cc5",
   "metadata": {},
   "outputs": [
    {
     "data": {
      "text/plain": [
       "array([[ 1. ,  2. ,  3. ,  4. ],\n",
       "       [-1. , -2. , -3. , -4. ],\n",
       "       [ 0.1,  0.2,  0.3,  0.4]])"
      ]
     },
     "execution_count": 60,
     "metadata": {},
     "output_type": "execute_result"
    }
   ],
   "source": [
    "A_13 = np.array([[1, 2, 3, 4], [-1, -2, -3, -4], [.1, .2, .3, .4]])\n",
    "A_13"
   ]
  },
  {
   "cell_type": "code",
   "execution_count": 61,
   "id": "8828a8e4",
   "metadata": {},
   "outputs": [
    {
     "data": {
      "text/plain": [
       "0.08333333333333333"
      ]
     },
     "execution_count": 61,
     "metadata": {},
     "output_type": "execute_result"
    }
   ],
   "source": [
    "A_13.mean()"
   ]
  },
  {
   "cell_type": "code",
   "execution_count": 62,
   "id": "9d6bf465",
   "metadata": {},
   "outputs": [
    {
     "data": {
      "text/plain": [
       "0.06666666666666667"
      ]
     },
     "execution_count": 62,
     "metadata": {},
     "output_type": "execute_result"
    }
   ],
   "source": [
    "A_13[:, 1].mean()"
   ]
  },
  {
   "cell_type": "code",
   "execution_count": 63,
   "id": "bfffd84e",
   "metadata": {},
   "outputs": [
    {
     "data": {
      "text/plain": [
       "array([ 2.5 , -2.5 ,  0.25])"
      ]
     },
     "execution_count": 63,
     "metadata": {},
     "output_type": "execute_result"
    }
   ],
   "source": [
    "np.mean(A_13, axis=1)"
   ]
  },
  {
   "cell_type": "markdown",
   "id": "a1dcd2cd",
   "metadata": {},
   "source": [
    "**14.** For matrix `A_14` find\n",
    "\n",
    "- standard deviation of all of its elements\n",
    "- standard deviation of all of its elements for every column"
   ]
  },
  {
   "cell_type": "code",
   "execution_count": 64,
   "id": "48a54c9e",
   "metadata": {},
   "outputs": [
    {
     "data": {
      "text/plain": [
       "array([[ 1. ,  2. ,  nan,  4. ],\n",
       "       [-1. ,  nan,  nan, -4. ],\n",
       "       [ nan,  0.2,  0.3,  0.4]])"
      ]
     },
     "execution_count": 64,
     "metadata": {},
     "output_type": "execute_result"
    }
   ],
   "source": [
    "A_14 = np.array([[1, 2, np.nan, 4], [-1, np.nan, np.nan, -4], [np.nan, .2, .3, .4]])\n",
    "A_14"
   ]
  },
  {
   "cell_type": "code",
   "execution_count": 65,
   "id": "5614c964",
   "metadata": {},
   "outputs": [
    {
     "data": {
      "text/plain": [
       "2.1575086905966336"
      ]
     },
     "execution_count": 65,
     "metadata": {},
     "output_type": "execute_result"
    }
   ],
   "source": [
    "np.nanstd(A_14)"
   ]
  },
  {
   "cell_type": "code",
   "execution_count": 66,
   "id": "d040df10",
   "metadata": {},
   "outputs": [
    {
     "data": {
      "text/plain": [
       "array([1.        , 0.9       , 0.        , 3.27142511])"
      ]
     },
     "execution_count": 66,
     "metadata": {},
     "output_type": "execute_result"
    }
   ],
   "source": [
    "np.nanstd(A_14, axis=0)"
   ]
  },
  {
   "cell_type": "markdown",
   "id": "98b00a36",
   "metadata": {},
   "source": [
    "**15.** `np.argmin()` and `np.argmax()` are two very useful functions for finding an <u>index (position)</u> of the minimal/maximal value of an array. Given matrix `A_15` find\n",
    "\n",
    "- position of its biggest element\n",
    "- indices of every smallest element from its columns\n",
    "- position of its biggest negative element"
   ]
  },
  {
   "cell_type": "code",
   "execution_count": 67,
   "id": "b6bf472f",
   "metadata": {},
   "outputs": [
    {
     "data": {
      "text/plain": [
       "array([[ 1, -1,  3,  4],\n",
       "       [ 2, -6, -3,  0],\n",
       "       [ 7, -4,  5, -5],\n",
       "       [ 8,  9,  6, -7]])"
      ]
     },
     "execution_count": 67,
     "metadata": {},
     "output_type": "execute_result"
    }
   ],
   "source": [
    "A_15 = np.array([[1, -1, 3, 4], [2, -6, -3, 0], [7, -4, 5, -5], [8, 9, 6, -7]])\n",
    "A_15"
   ]
  },
  {
   "cell_type": "code",
   "execution_count": 68,
   "id": "1696f0b1",
   "metadata": {},
   "outputs": [
    {
     "data": {
      "text/plain": [
       "13"
      ]
     },
     "execution_count": 68,
     "metadata": {},
     "output_type": "execute_result"
    }
   ],
   "source": [
    "np.argmax(A_15)"
   ]
  },
  {
   "cell_type": "code",
   "execution_count": 69,
   "id": "b2009697",
   "metadata": {},
   "outputs": [
    {
     "data": {
      "text/plain": [
       "array([0, 1, 1, 3], dtype=int64)"
      ]
     },
     "execution_count": 69,
     "metadata": {},
     "output_type": "execute_result"
    }
   ],
   "source": [
    "np.argmin(A_15, axis=0)"
   ]
  },
  {
   "cell_type": "code",
   "execution_count": 70,
   "id": "4fc45fa5",
   "metadata": {},
   "outputs": [
    {
     "data": {
      "text/plain": [
       "1"
      ]
     },
     "execution_count": 70,
     "metadata": {},
     "output_type": "execute_result"
    }
   ],
   "source": [
    "np.argmax(A_15 == np.max(A_15[A_15 < 0]))"
   ]
  },
  {
   "cell_type": "markdown",
   "id": "c8f827fe",
   "metadata": {},
   "source": [
    "**16.** `np.where()` is a function which can change elements of the array based on some condition, in a single line of code. For example, given a matrix `A_16`"
   ]
  },
  {
   "cell_type": "code",
   "execution_count": 71,
   "id": "fc25924e",
   "metadata": {},
   "outputs": [
    {
     "data": {
      "text/plain": [
       "array([[ 1, -1,  3,  4],\n",
       "       [ 2, -6, -3,  0],\n",
       "       [ 7, -4,  5, -5],\n",
       "       [ 8,  9,  6, -7]])"
      ]
     },
     "execution_count": 71,
     "metadata": {},
     "output_type": "execute_result"
    }
   ],
   "source": [
    "A_16 = np.copy(A_15)\n",
    "A_16"
   ]
  },
  {
   "cell_type": "code",
   "execution_count": 72,
   "id": "6feb8b2e",
   "metadata": {},
   "outputs": [
    {
     "data": {
      "text/plain": [
       "array([[  1,  -2,   9,  16],\n",
       "       [  4, -12,  -6,   0],\n",
       "       [ 49,  -8,  25, -10],\n",
       "       [ 64,  81,  36, -14]])"
      ]
     },
     "execution_count": 72,
     "metadata": {},
     "output_type": "execute_result"
    }
   ],
   "source": [
    "np.where(A_16 > 0, A_16**2, 2*A_16)"
   ]
  },
  {
   "cell_type": "markdown",
   "id": "765c1cd7",
   "metadata": {},
   "source": [
    "squares all its positive values and doubles all its negative values."
   ]
  },
  {
   "cell_type": "markdown",
   "id": "19f6aee7",
   "metadata": {},
   "source": [
    "Now, using `np.where()` divide all even values of matrix A_16 by two, while leaving odd values the same. "
   ]
  },
  {
   "cell_type": "code",
   "execution_count": 73,
   "id": "c8b95581",
   "metadata": {},
   "outputs": [
    {
     "data": {
      "text/plain": [
       "array([[ 1, -1,  3,  2],\n",
       "       [ 1, -3, -3,  0],\n",
       "       [ 7, -2,  5, -5],\n",
       "       [ 4,  9,  3, -7]])"
      ]
     },
     "execution_count": 73,
     "metadata": {},
     "output_type": "execute_result"
    }
   ],
   "source": [
    "np.where(A_16 % 2 == 0, A_16//2, A_16)"
   ]
  },
  {
   "cell_type": "markdown",
   "id": "1e92baa8",
   "metadata": {},
   "source": [
    "DataKolektiv, 2022/23.\n",
    "\n",
    "[hello@datakolektiv.com](mailto:goran.milovanovic@datakolektiv.com)\n",
    "\n",
    "![](../img/DK_Logo_100.png)"
   ]
  },
  {
   "cell_type": "markdown",
   "id": "5a0162be",
   "metadata": {},
   "source": [
    "<font size=1>License: [GPLv3](https://www.gnu.org/licenses/gpl-3.0.txt) This Notebook is free software: you can redistribute it and/or modify it under the terms of the GNU General Public License as published by the Free Software Foundation, either version 3 of the License, or (at your option) any later version. This Notebook is distributed in the hope that it will be useful, but WITHOUT ANY WARRANTY; without even the implied warranty of MERCHANTABILITY or FITNESS FOR A PARTICULAR PURPOSE. See the GNU General Public License for more details. You should have received a copy of the GNU General Public License along with this Notebook. If not, see http://www.gnu.org/licenses/.</font>"
   ]
  },
  {
   "cell_type": "code",
   "execution_count": null,
   "id": "bdb4e554",
   "metadata": {},
   "outputs": [],
   "source": []
  }
 ],
 "metadata": {
  "kernelspec": {
   "display_name": "Python 3",
   "language": "python",
   "name": "python3"
  },
  "language_info": {
   "codemirror_mode": {
    "name": "ipython",
    "version": 3
   },
   "file_extension": ".py",
   "mimetype": "text/x-python",
   "name": "python",
   "nbconvert_exporter": "python",
   "pygments_lexer": "ipython3",
   "version": "3.8.8"
  }
 },
 "nbformat": 4,
 "nbformat_minor": 5
}
