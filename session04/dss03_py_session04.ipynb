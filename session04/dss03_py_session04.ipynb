{
 "cells": [
  {
   "cell_type": "markdown",
   "metadata": {},
   "source": [
    "# DATA SCIENCE SESSIONS VOL. 3\n",
    "### A Foundational Python Data Science Course\n",
    "## Session 04: Broadcasting and basic vector arithmetic in Numpy.\n",
    "\n",
    "[&larr; Back to course webpage](https://datakolektiv.com/)\n",
    "\n",
    "Feedback should be send to [goran.milovanovic@datakolektiv.com](mailto:goran.milovanovic@datakolektiv.com). \n",
    "\n",
    "These notebooks accompany the DATA SCIENCE SESSIONS VOL. 3 :: A Foundational Python Data Science Course."
   ]
  },
  {
   "cell_type": "markdown",
   "metadata": {},
   "source": [
    "![](../img/IntroRDataScience_NonTech-1.jpg)"
   ]
  },
  {
   "cell_type": "markdown",
   "metadata": {},
   "source": [
    "### Lecturers\n",
    "\n",
    "[Goran S. Milovanović, PhD, DataKolektiv, Chief Scientist & Owner](https://www.linkedin.com/in/gmilovanovic/)\n",
    "\n",
    "[Aleksandar Cvetković, PhD, DataKolektiv, Consultant](https://www.linkedin.com/in/alegzndr/)\n",
    "\n",
    "[Ilija Lazarević, MA, DataKolektiv, Consultant](https://www.linkedin.com/in/ilijalazarevic/)"
   ]
  },
  {
   "cell_type": "markdown",
   "metadata": {},
   "source": [
    "![](../img/DK_Logo_100.png)"
   ]
  },
  {
   "cell_type": "markdown",
   "metadata": {},
   "source": [
    "***"
   ]
  },
  {
   "cell_type": "markdown",
   "metadata": {},
   "source": [
    "### 0. What do we want to do today?\n",
    "\n",
    "Our goal in Session 04 is to learn the basics of **Numpy**, a powerful number-crunching machinery that turn Python into a **vector programming language** - a kind of language ideally suited for mathematical statistics and Data Science.  \n",
    "\n",
    "Along the way we will begin to understand how Numpy runs under Pandas and what is the relationship between them. And the basics of vector arithmetic in Numpy, of course. And how to vectorize a function with Numpy. And plenty of other things as well! "
   ]
  },
  {
   "cell_type": "markdown",
   "metadata": {},
   "source": [
    "### 1. Where am I?"
   ]
  },
  {
   "cell_type": "code",
   "execution_count": 1,
   "metadata": {},
   "outputs": [
    {
     "name": "stdout",
     "output_type": "stream",
     "text": [
      "/Users/goransm/Work/___DataKolektiv/_EDU/DSS_Vol00_PythonDS_2023/dss03python2023/session04\n",
      "['.DS_Store', 'dss03_py_session04.ipynb', 'dss03_py_session04.html', 'numpy_array.csv', 'numpy_array_2.csv', '.ipynb_checkpoints', '_data']\n",
      "['just_numbers.txt', 'numpy_array.csv', 'numpy_array_2.csv', 'MovieRatings.csv']\n"
     ]
    }
   ],
   "source": [
    "import os\n",
    "work_dir = os.getcwd()\n",
    "print(work_dir)\n",
    "print(os.listdir(work_dir))\n",
    "data_dir = os.path.join(work_dir, \"_data\")\n",
    "print(os.listdir(data_dir))"
   ]
  },
  {
   "cell_type": "markdown",
   "metadata": {},
   "source": [
    "### 2. Numpy, alright. A gentle introduction."
   ]
  },
  {
   "cell_type": "code",
   "execution_count": 2,
   "metadata": {},
   "outputs": [],
   "source": [
    "import numpy as np\n",
    "# - set RGN sed\n",
    "np.random.seed(777) "
   ]
  },
  {
   "cell_type": "markdown",
   "metadata": {},
   "source": [
    "**N.B.** The `np.random.seed(777)` thing will be explained in the session."
   ]
  },
  {
   "cell_type": "markdown",
   "metadata": {},
   "source": [
    "Lists seem like an ideal Python structure to hold numerical data. But there are things lists can and cannot do:"
   ]
  },
  {
   "cell_type": "code",
   "execution_count": 3,
   "metadata": {},
   "outputs": [
    {
     "data": {
      "text/plain": [
       "10.0"
      ]
     },
     "execution_count": 3,
     "metadata": {},
     "output_type": "execute_result"
    }
   ],
   "source": [
    "import math\n",
    "l_1 = [10, 20, 30, 40, 50, 60, 70, 80, 90, 100]\n",
    "math.sqrt(l_1[-1])"
   ]
  },
  {
   "cell_type": "markdown",
   "metadata": {},
   "source": [
    "What if we need to take the square rooth of **all** elements in `l_1`?"
   ]
  },
  {
   "cell_type": "code",
   "execution_count": 4,
   "metadata": {},
   "outputs": [
    {
     "name": "stdout",
     "output_type": "stream",
     "text": [
      "[3.1622776601683795, 4.47213595499958, 5.477225575051661, 6.324555320336759, 7.0710678118654755, 7.745966692414834, 8.366600265340756, 8.94427190999916, 9.486832980505138, 10.0]\n"
     ]
    }
   ],
   "source": [
    "sqrt_l_1 = [math.sqrt(x) for x in l_1]\n",
    "print(sqrt_l_1)"
   ]
  },
  {
   "cell_type": "markdown",
   "metadata": {},
   "source": [
    "That would do. But this:"
   ]
  },
  {
   "cell_type": "code",
   "execution_count": 5,
   "metadata": {},
   "outputs": [
    {
     "ename": "TypeError",
     "evalue": "must be real number, not list",
     "output_type": "error",
     "traceback": [
      "\u001b[0;31m---------------------------------------------------------------------------\u001b[0m",
      "\u001b[0;31mTypeError\u001b[0m                                 Traceback (most recent call last)",
      "\u001b[1;32m/Users/goransm/Work/___DataKolektiv/_EDU/DSS_Vol00_PythonDS_2023/dss03python2023/session04/dss03_py_session04.ipynb Cell 17\u001b[0m in \u001b[0;36m1\n\u001b[0;32m----> <a href='vscode-notebook-cell:/Users/goransm/Work/___DataKolektiv/_EDU/DSS_Vol00_PythonDS_2023/dss03python2023/session04/dss03_py_session04.ipynb#Y521sZmlsZQ%3D%3D?line=0'>1</a>\u001b[0m math\u001b[39m.\u001b[39msqrt(l_1)\n",
      "\u001b[0;31mTypeError\u001b[0m: must be real number, not list"
     ]
    }
   ],
   "source": [
    "math.sqrt(l_1)"
   ]
  },
  {
   "cell_type": "markdown",
   "metadata": {},
   "source": [
    "**does not work.** Now,"
   ]
  },
  {
   "cell_type": "code",
   "execution_count": 6,
   "metadata": {},
   "outputs": [
    {
     "name": "stdout",
     "output_type": "stream",
     "text": [
      "[ 10  20  30  40  50  60  70  80  90 100]\n"
     ]
    }
   ],
   "source": [
    "v_1 = np.array(l_1)\n",
    "print(v_1)"
   ]
  },
  {
   "cell_type": "code",
   "execution_count": 7,
   "metadata": {},
   "outputs": [
    {
     "data": {
      "text/plain": [
       "numpy.ndarray"
      ]
     },
     "execution_count": 7,
     "metadata": {},
     "output_type": "execute_result"
    }
   ],
   "source": [
    "type(v_1)"
   ]
  },
  {
   "cell_type": "code",
   "execution_count": 8,
   "metadata": {},
   "outputs": [
    {
     "data": {
      "text/plain": [
       "array([ 3.16227766,  4.47213595,  5.47722558,  6.32455532,  7.07106781,\n",
       "        7.74596669,  8.36660027,  8.94427191,  9.48683298, 10.        ])"
      ]
     },
     "execution_count": 8,
     "metadata": {},
     "output_type": "execute_result"
    }
   ],
   "source": [
    "np.sqrt(v_1)"
   ]
  },
  {
   "cell_type": "markdown",
   "metadata": {},
   "source": [
    "More fun:"
   ]
  },
  {
   "cell_type": "code",
   "execution_count": 9,
   "metadata": {},
   "outputs": [
    {
     "ename": "TypeError",
     "evalue": "can only concatenate list (not \"int\") to list",
     "output_type": "error",
     "traceback": [
      "\u001b[0;31m---------------------------------------------------------------------------\u001b[0m",
      "\u001b[0;31mTypeError\u001b[0m                                 Traceback (most recent call last)",
      "\u001b[1;32m/Users/goransm/Work/___DataKolektiv/_EDU/DSS_Vol00_PythonDS_2023/dss03python2023/session04/dss03_py_session04.ipynb Cell 23\u001b[0m in \u001b[0;36m1\n\u001b[0;32m----> <a href='vscode-notebook-cell:/Users/goransm/Work/___DataKolektiv/_EDU/DSS_Vol00_PythonDS_2023/dss03python2023/session04/dss03_py_session04.ipynb#Y530sZmlsZQ%3D%3D?line=0'>1</a>\u001b[0m l_1 \u001b[39m+\u001b[39m \u001b[39m1\u001b[39m\n",
      "\u001b[0;31mTypeError\u001b[0m: can only concatenate list (not \"int\") to list"
     ]
    }
   ],
   "source": [
    "l_1 + 1"
   ]
  },
  {
   "cell_type": "code",
   "execution_count": 10,
   "metadata": {},
   "outputs": [
    {
     "data": {
      "text/plain": [
       "[11, 21, 31, 41, 51, 61, 71, 81, 91, 101]"
      ]
     },
     "execution_count": 10,
     "metadata": {},
     "output_type": "execute_result"
    }
   ],
   "source": [
    "[x+1 for x in l_1]"
   ]
  },
  {
   "cell_type": "markdown",
   "metadata": {},
   "source": [
    "However, w. Numpy:"
   ]
  },
  {
   "cell_type": "code",
   "execution_count": 11,
   "metadata": {},
   "outputs": [
    {
     "data": {
      "text/plain": [
       "array([ 11,  21,  31,  41,  51,  61,  71,  81,  91, 101])"
      ]
     },
     "execution_count": 11,
     "metadata": {},
     "output_type": "execute_result"
    }
   ],
   "source": [
    "v_1 + 1"
   ]
  },
  {
   "cell_type": "markdown",
   "metadata": {},
   "source": [
    "Operations, like `+`, `-`, `*`, `**` and similar - as well as Numpy, *vectorized* functions, are applied to all elements of a Numpy vector simultaneously - unlike in lists that we need to iterate in order to achieve the same effect."
   ]
  },
  {
   "cell_type": "code",
   "execution_count": 12,
   "metadata": {},
   "outputs": [
    {
     "data": {
      "text/plain": [
       "array([  100,   400,   900,  1600,  2500,  3600,  4900,  6400,  8100,\n",
       "       10000])"
      ]
     },
     "execution_count": 12,
     "metadata": {},
     "output_type": "execute_result"
    }
   ],
   "source": [
    "v_1 ** 2"
   ]
  },
  {
   "cell_type": "markdown",
   "metadata": {},
   "source": [
    "#### Vectorizing functions w. Numpy"
   ]
  },
  {
   "cell_type": "code",
   "execution_count": 13,
   "metadata": {},
   "outputs": [
    {
     "data": {
      "text/plain": [
       "6"
      ]
     },
     "execution_count": 13,
     "metadata": {},
     "output_type": "execute_result"
    }
   ],
   "source": [
    "def plus_one(x):\n",
    "    return(x+1)\n",
    "plus_one(5)"
   ]
  },
  {
   "cell_type": "code",
   "execution_count": 14,
   "metadata": {},
   "outputs": [
    {
     "data": {
      "text/plain": [
       "11"
      ]
     },
     "execution_count": 14,
     "metadata": {},
     "output_type": "execute_result"
    }
   ],
   "source": [
    "plus_one(l_1[0])"
   ]
  },
  {
   "cell_type": "code",
   "execution_count": 15,
   "metadata": {},
   "outputs": [
    {
     "ename": "TypeError",
     "evalue": "can only concatenate list (not \"int\") to list",
     "output_type": "error",
     "traceback": [
      "\u001b[0;31m---------------------------------------------------------------------------\u001b[0m",
      "\u001b[0;31mTypeError\u001b[0m                                 Traceback (most recent call last)",
      "\u001b[1;32m/Users/goransm/Work/___DataKolektiv/_EDU/DSS_Vol00_PythonDS_2023/dss03python2023/session04/dss03_py_session04.ipynb Cell 32\u001b[0m in \u001b[0;36m1\n\u001b[0;32m----> <a href='vscode-notebook-cell:/Users/goransm/Work/___DataKolektiv/_EDU/DSS_Vol00_PythonDS_2023/dss03python2023/session04/dss03_py_session04.ipynb#Y542sZmlsZQ%3D%3D?line=0'>1</a>\u001b[0m plus_one(l_1)\n",
      "\u001b[1;32m/Users/goransm/Work/___DataKolektiv/_EDU/DSS_Vol00_PythonDS_2023/dss03python2023/session04/dss03_py_session04.ipynb Cell 32\u001b[0m in \u001b[0;36m2\n\u001b[1;32m      <a href='vscode-notebook-cell:/Users/goransm/Work/___DataKolektiv/_EDU/DSS_Vol00_PythonDS_2023/dss03python2023/session04/dss03_py_session04.ipynb#Y542sZmlsZQ%3D%3D?line=0'>1</a>\u001b[0m \u001b[39mdef\u001b[39;00m \u001b[39mplus_one\u001b[39m(x):\n\u001b[0;32m----> <a href='vscode-notebook-cell:/Users/goransm/Work/___DataKolektiv/_EDU/DSS_Vol00_PythonDS_2023/dss03python2023/session04/dss03_py_session04.ipynb#Y542sZmlsZQ%3D%3D?line=1'>2</a>\u001b[0m     \u001b[39mreturn\u001b[39;00m(x\u001b[39m+\u001b[39;49m\u001b[39m1\u001b[39;49m)\n",
      "\u001b[0;31mTypeError\u001b[0m: can only concatenate list (not \"int\") to list"
     ]
    }
   ],
   "source": [
    "plus_one(l_1)"
   ]
  },
  {
   "cell_type": "markdown",
   "metadata": {},
   "source": [
    "Oh, no. No, no, no, look:"
   ]
  },
  {
   "cell_type": "code",
   "execution_count": 16,
   "metadata": {},
   "outputs": [
    {
     "data": {
      "text/plain": [
       "array([ 11,  21,  31,  41,  51,  61,  71,  81,  91, 101])"
      ]
     },
     "execution_count": 16,
     "metadata": {},
     "output_type": "execute_result"
    }
   ],
   "source": [
    "plus_one_v = np.vectorize(plus_one)\n",
    "plus_one_v(l_1)"
   ]
  },
  {
   "cell_type": "markdown",
   "metadata": {},
   "source": [
    "**N.B.** My call to `plus_one_v()`, i.e. `plus_one_v(l_1)` has automatically turned the `l_1` list into a Numpy vector before execution. Now `plus_one_v()` is a *vectorized* version of `plus_one()`."
   ]
  },
  {
   "cell_type": "markdown",
   "metadata": {},
   "source": [
    "Let's vectorize something else, w/o help from `np.vectorize()`. In Decision Theory, specifically in Choice under Risk, there is the concept of the Expected Utility of a set of risky options (called a *lottery* when put together), e.g.:\n",
    "\n",
    "- **Option A**: Stay home, watch a movie. (costs \\$5 to rent a movie via online services)\n",
    "- **Option B**: Go to cinema, watch a movie. (costs \\$10 to buy a ticket)\n",
    "\n",
    "\n",
    "\n",
    "- **Option A1**: Stay home, play a board game. (costs \\$10 to buy a board game)\n",
    "- **Option B1:** Go to the board game club, play a board game. (costs \\$3.5 to enter the club)\n",
    "\n",
    "Let's assume that a decision maker has a Utility Function $u(x)$ for money that maps monetary value to utiliy, and that $u(x)$ takes a form of a power-utility function, i.e. $u(x) = x^{\\rho}$ with some exponent $\\rho$ controlling the function. "
   ]
  },
  {
   "cell_type": "code",
   "execution_count": 17,
   "metadata": {},
   "outputs": [
    {
     "data": {
      "text/plain": [
       "<AxesSubplot: xlabel='money'>"
      ]
     },
     "execution_count": 17,
     "metadata": {},
     "output_type": "execute_result"
    },
    {
     "data": {
      "image/png": "[encoded data removed]",
      "text/plain": [
       "<Figure size 640x480 with 1 Axes>"
      ]
     },
     "metadata": {},
     "output_type": "display_data"
    }
   ],
   "source": [
    "import pandas as pd\n",
    "rho = .67\n",
    "x = np.linspace(0, 10, 1000)\n",
    "ux = x**rho\n",
    "utility_data = pd.DataFrame({'money':x, 'utility':ux})\n",
    "utility_data.plot.line(x='money',y='utility')"
   ]
  },
  {
   "cell_type": "markdown",
   "metadata": {},
   "source": [
    "What is `np.linspace()`?"
   ]
  },
  {
   "cell_type": "code",
   "execution_count": 18,
   "metadata": {},
   "outputs": [
    {
     "data": {
      "text/plain": [
       "array([  1.,   2.,   3.,   4.,   5.,   6.,   7.,   8.,   9.,  10.,  11.,\n",
       "        12.,  13.,  14.,  15.,  16.,  17.,  18.,  19.,  20.,  21.,  22.,\n",
       "        23.,  24.,  25.,  26.,  27.,  28.,  29.,  30.,  31.,  32.,  33.,\n",
       "        34.,  35.,  36.,  37.,  38.,  39.,  40.,  41.,  42.,  43.,  44.,\n",
       "        45.,  46.,  47.,  48.,  49.,  50.,  51.,  52.,  53.,  54.,  55.,\n",
       "        56.,  57.,  58.,  59.,  60.,  61.,  62.,  63.,  64.,  65.,  66.,\n",
       "        67.,  68.,  69.,  70.,  71.,  72.,  73.,  74.,  75.,  76.,  77.,\n",
       "        78.,  79.,  80.,  81.,  82.,  83.,  84.,  85.,  86.,  87.,  88.,\n",
       "        89.,  90.,  91.,  92.,  93.,  94.,  95.,  96.,  97.,  98.,  99.,\n",
       "       100.])"
      ]
     },
     "execution_count": 18,
     "metadata": {},
     "output_type": "execute_result"
    }
   ],
   "source": [
    "np.linspace(1,100,100)"
   ]
  },
  {
   "cell_type": "markdown",
   "metadata": {},
   "source": [
    "Now, let's assume that the probabilities of options `A`, `B`, `A1`, and `B1` are known to the decision maker, and that we have, of course, $P(A)+P(B)=1$ and $P(A1)+P(B1)=1$:\n",
    "\n",
    "- **P(A) = .55**: Stay home, watch a movie. (costs \\$5 to rent a movie via online services)\n",
    "- **P(B) = .45**: Go to cinema, watch a movie. (costs \\$10 to buy a ticket)\n",
    "\n",
    "\n",
    "- **P(A1) = .75**: Stay home, play a board game. (costs \\$10 to buy a board game)\n",
    "- **P(B1) = .25**: Go to the board game club, play a board game. (costs \\$3.5 to enter the club)"
   ]
  },
  {
   "cell_type": "markdown",
   "metadata": {},
   "source": [
    "Now, with the utility function of exponent $\\rho=.67$, the decision maker evaluates **the expected utility** of lotteries $(A, B)$ and $(A1, B1)$ in the following way:"
   ]
  },
  {
   "cell_type": "code",
   "execution_count": 19,
   "metadata": {},
   "outputs": [
    {
     "name": "stdout",
     "output_type": "stream",
     "text": [
      "EU(A,B) = 3.7216687887050215\n",
      "EU(A1,B1) = 4.086729704552689\n"
     ]
    }
   ],
   "source": [
    "# - power-utility function exponent:\n",
    "rho = .67\n",
    "\n",
    "# lottery (A,B)\n",
    "pa = .55\n",
    "pb = .45\n",
    "ca = 5\n",
    "cb = 10\n",
    "eu_ab = pa*ca**rho + pb*cb**rho\n",
    "print(\"EU(A,B) = \" + str(eu_ab))\n",
    "\n",
    "# lottery (A1,B1)\n",
    "pa1 = .75\n",
    "pb1 = .25\n",
    "ca1 = 10\n",
    "cb1 = 3.5\n",
    "eu_a1b1 = pa1*ca1**rho + pb1*cb1**rho\n",
    "print(\"EU(A1,B1) = \" + str(eu_a1b1))"
   ]
  },
  {
   "cell_type": "markdown",
   "metadata": {},
   "source": [
    "And since monetary values constitue costs in this example, the decision maker - if cares only about the utility of money - should choose $(A,B)$ over $(A1,B1)$ according to the principle of Maximum Expected Utility."
   ]
  },
  {
   "cell_type": "markdown",
   "metadata": {},
   "source": [
    "A Python function to compute the expected utility of a lottery:"
   ]
  },
  {
   "cell_type": "code",
   "execution_count": 20,
   "metadata": {},
   "outputs": [
    {
     "data": {
      "text/plain": [
       "5.355434031971493"
      ]
     },
     "execution_count": 20,
     "metadata": {},
     "output_type": "execute_result"
    }
   ],
   "source": [
    "def eu(p1, p2, v1, v2, rho):\n",
    "    leu = p1*v1**rho + p2*v2**rho\n",
    "    return(leu)\n",
    "    \n",
    "# test eu()\n",
    "eu(p1=.55, p2=.45, v1=10, v2=3, rho=.88)"
   ]
  },
  {
   "cell_type": "markdown",
   "metadata": {},
   "source": [
    "Ok, now that works. However: what if we need to evaluate many lotteries at once?"
   ]
  },
  {
   "cell_type": "code",
   "execution_count": 21,
   "metadata": {},
   "outputs": [
    {
     "data": {
      "text/html": [
       "<div>\n",
       "<style scoped>\n",
       "    .dataframe tbody tr th:only-of-type {\n",
       "        vertical-align: middle;\n",
       "    }\n",
       "\n",
       "    .dataframe tbody tr th {\n",
       "        vertical-align: top;\n",
       "    }\n",
       "\n",
       "    .dataframe thead th {\n",
       "        text-align: right;\n",
       "    }\n",
       "</style>\n",
       "<table border=\"1\" class=\"dataframe\">\n",
       "  <thead>\n",
       "    <tr style=\"text-align: right;\">\n",
       "      <th></th>\n",
       "      <th>pA</th>\n",
       "      <th>vA</th>\n",
       "      <th>pB</th>\n",
       "      <th>vB</th>\n",
       "    </tr>\n",
       "  </thead>\n",
       "  <tbody>\n",
       "    <tr>\n",
       "      <th>0</th>\n",
       "      <td>0.15</td>\n",
       "      <td>10</td>\n",
       "      <td>0.85</td>\n",
       "      <td>8</td>\n",
       "    </tr>\n",
       "    <tr>\n",
       "      <th>1</th>\n",
       "      <td>0.33</td>\n",
       "      <td>20</td>\n",
       "      <td>0.77</td>\n",
       "      <td>17</td>\n",
       "    </tr>\n",
       "    <tr>\n",
       "      <th>2</th>\n",
       "      <td>0.84</td>\n",
       "      <td>30</td>\n",
       "      <td>0.16</td>\n",
       "      <td>45</td>\n",
       "    </tr>\n",
       "  </tbody>\n",
       "</table>\n",
       "</div>"
      ],
      "text/plain": [
       "     pA  vA    pB  vB\n",
       "0  0.15  10  0.85   8\n",
       "1  0.33  20  0.77  17\n",
       "2  0.84  30  0.16  45"
      ]
     },
     "execution_count": 21,
     "metadata": {},
     "output_type": "execute_result"
    }
   ],
   "source": [
    "pA = [.15, .33, .84]\n",
    "vA = [10, 20, 30]\n",
    "pB = [.85, .77, .16]\n",
    "vB = [8, 17, 45]\n",
    "lots = pd.DataFrame({'pA':pA,\n",
    "                     'vA':vA,\n",
    "                     'pB':pB,\n",
    "                     'vB':vB})\n",
    "lots"
   ]
  },
  {
   "cell_type": "markdown",
   "metadata": {},
   "source": [
    "Vectorized `eu()` via Numpy:"
   ]
  },
  {
   "cell_type": "code",
   "execution_count": 22,
   "metadata": {},
   "outputs": [],
   "source": [
    "def eu_v(lotteries, rho):\n",
    "    uA = np.power(lotteries['vA'], rho)\n",
    "    uB = np.power(lotteries['vB'], rho)\n",
    "    leu = pA*uA+pB*uB\n",
    "    return leu"
   ]
  },
  {
   "cell_type": "code",
   "execution_count": 23,
   "metadata": {},
   "outputs": [
    {
     "data": {
      "text/plain": [
       "0     4.125252\n",
       "1     7.595015\n",
       "2    10.252668\n",
       "dtype: float64"
      ]
     },
     "execution_count": 23,
     "metadata": {},
     "output_type": "execute_result"
    }
   ],
   "source": [
    "eu_v(lots,rho)"
   ]
  },
  {
   "cell_type": "markdown",
   "metadata": {},
   "source": [
    "**Yes:** you can perform vectorized operations and use vectorized functions on `pd.DataFrame` columns.\n",
    "**Remember:** a `pd.Series` object is, essentialy, a `np.array` with an index attached."
   ]
  },
  {
   "cell_type": "markdown",
   "metadata": {},
   "source": [
    "Check (first lottery only):"
   ]
  },
  {
   "cell_type": "code",
   "execution_count": 24,
   "metadata": {},
   "outputs": [
    {
     "data": {
      "text/plain": [
       "4.125251582123641"
      ]
     },
     "execution_count": 24,
     "metadata": {},
     "output_type": "execute_result"
    }
   ],
   "source": [
    "pA[0]*vA[0]**rho + pB[0]*vB[0]**rho"
   ]
  },
  {
   "cell_type": "markdown",
   "metadata": {},
   "source": [
    "Check (second lottery only):"
   ]
  },
  {
   "cell_type": "code",
   "execution_count": 25,
   "metadata": {},
   "outputs": [
    {
     "data": {
      "text/plain": [
       "7.595014907577726"
      ]
     },
     "execution_count": 25,
     "metadata": {},
     "output_type": "execute_result"
    }
   ],
   "source": [
    "pA[1]*vA[1]**rho + pB[1]*vB[1]**rho"
   ]
  },
  {
   "cell_type": "markdown",
   "metadata": {},
   "source": [
    "**N.B.** `np.vectorize` is not really recommended. As the Numpy documentation states:\n",
    "> The vectorize function is provided primarily for convenience, not for performance. The implementation is essentially a for loop.\n",
    "[numpy.vectorize](https://numpy.org/doc/stable/reference/generated/numpy.vectorize.html)\n",
    "\n",
    "You should always write your own vectorized functions with Numpy."
   ]
  },
  {
   "cell_type": "markdown",
   "metadata": {},
   "source": [
    "### 3. Numpy, step by step."
   ]
  },
  {
   "cell_type": "code",
   "execution_count": 26,
   "metadata": {},
   "outputs": [
    {
     "data": {
      "text/plain": [
       "array([2, 4, 6])"
      ]
     },
     "execution_count": 26,
     "metadata": {},
     "output_type": "execute_result"
    }
   ],
   "source": [
    "a = [1, 2, 3]\n",
    "b = [2, 2, 2]\n",
    "# - a*b rises an error\n",
    "# - TypeError: can't multiply sequence by non-int of type 'list'\n",
    "\n",
    "# - Numpy\n",
    "a = np.array([1, 2, 3])\n",
    "b = np.array([2, 2, 2])\n",
    "a*b"
   ]
  },
  {
   "cell_type": "markdown",
   "metadata": {},
   "source": [
    "#### Element-wise operations"
   ]
  },
  {
   "cell_type": "code",
   "execution_count": 27,
   "metadata": {},
   "outputs": [
    {
     "data": {
      "text/plain": [
       "array([5, 7, 9])"
      ]
     },
     "execution_count": 27,
     "metadata": {},
     "output_type": "execute_result"
    }
   ],
   "source": [
    "a = np.array([1, 2, 3])\n",
    "b = np.array([4, 5, 6])\n",
    "a+b"
   ]
  },
  {
   "cell_type": "code",
   "execution_count": 28,
   "metadata": {},
   "outputs": [
    {
     "data": {
      "text/plain": [
       "array([  100,  1000, 10000])"
      ]
     },
     "execution_count": 28,
     "metadata": {},
     "output_type": "execute_result"
    }
   ],
   "source": [
    "a = np.array([10, 10, 10])\n",
    "b = np.array([2, 3, 4])\n",
    "a**b"
   ]
  },
  {
   "cell_type": "code",
   "execution_count": 29,
   "metadata": {},
   "outputs": [
    {
     "data": {
      "text/plain": [
       "array([  100,  1000, 10000])"
      ]
     },
     "execution_count": 29,
     "metadata": {},
     "output_type": "execute_result"
    }
   ],
   "source": [
    "a = np.repeat(10, repeats=3)\n",
    "b = np.array([2, 3, 4])\n",
    "a**b"
   ]
  },
  {
   "cell_type": "code",
   "execution_count": 30,
   "metadata": {},
   "outputs": [
    {
     "data": {
      "text/plain": [
       "array([10, 10, 10])"
      ]
     },
     "execution_count": 30,
     "metadata": {},
     "output_type": "execute_result"
    }
   ],
   "source": [
    "np.repeat(10, repeats=3)"
   ]
  },
  {
   "cell_type": "code",
   "execution_count": 31,
   "metadata": {},
   "outputs": [
    {
     "name": "stdout",
     "output_type": "stream",
     "text": [
      "[10, 10, 10]\n"
     ]
    }
   ],
   "source": [
    "a = np.repeat(10, repeats=3)\n",
    "type(a.tolist())\n",
    "print(a.tolist())"
   ]
  },
  {
   "cell_type": "code",
   "execution_count": 32,
   "metadata": {},
   "outputs": [
    {
     "data": {
      "text/plain": [
       "[10, 10, 10]"
      ]
     },
     "execution_count": 32,
     "metadata": {},
     "output_type": "execute_result"
    }
   ],
   "source": [
    "a = np.repeat(10, repeats=3)\n",
    "list(a)"
   ]
  },
  {
   "cell_type": "markdown",
   "metadata": {},
   "source": [
    "#### Matrices"
   ]
  },
  {
   "cell_type": "code",
   "execution_count": 33,
   "metadata": {},
   "outputs": [
    {
     "name": "stdout",
     "output_type": "stream",
     "text": [
      "[[1 2 3]\n",
      " [4 5 6]\n",
      " [7 8 9]]\n"
     ]
    }
   ],
   "source": [
    "mat = np.array([[1, 2, 3], \n",
    "                [4, 5, 6], \n",
    "                [7, 8, 9]])\n",
    "print(mat)"
   ]
  },
  {
   "cell_type": "markdown",
   "metadata": {},
   "source": [
    "Shape"
   ]
  },
  {
   "cell_type": "code",
   "execution_count": 34,
   "metadata": {},
   "outputs": [
    {
     "data": {
      "text/plain": [
       "(3, 3)"
      ]
     },
     "execution_count": 34,
     "metadata": {},
     "output_type": "execute_result"
    }
   ],
   "source": [
    "mat.shape"
   ]
  },
  {
   "cell_type": "markdown",
   "metadata": {},
   "source": [
    "#### Subsetting vectors, matrices, and multidimensional arrays"
   ]
  },
  {
   "cell_type": "markdown",
   "metadata": {},
   "source": [
    "Subsetting Numpy arrays"
   ]
  },
  {
   "cell_type": "code",
   "execution_count": 35,
   "metadata": {},
   "outputs": [
    {
     "name": "stdout",
     "output_type": "stream",
     "text": [
      "[[1 2 3]\n",
      " [4 5 6]\n",
      " [7 8 9]]\n"
     ]
    },
    {
     "data": {
      "text/plain": [
       "1"
      ]
     },
     "execution_count": 35,
     "metadata": {},
     "output_type": "execute_result"
    }
   ],
   "source": [
    "print(mat)\n",
    "mat[0, 0]"
   ]
  },
  {
   "cell_type": "code",
   "execution_count": 36,
   "metadata": {},
   "outputs": [
    {
     "name": "stdout",
     "output_type": "stream",
     "text": [
      "[[1 2 3]\n",
      " [4 5 6]\n",
      " [7 8 9]]\n"
     ]
    },
    {
     "data": {
      "text/plain": [
       "2"
      ]
     },
     "execution_count": 36,
     "metadata": {},
     "output_type": "execute_result"
    }
   ],
   "source": [
    "print(mat)\n",
    "mat[0, 1]"
   ]
  },
  {
   "cell_type": "markdown",
   "metadata": {},
   "source": [
    "Rows"
   ]
  },
  {
   "cell_type": "code",
   "execution_count": 37,
   "metadata": {},
   "outputs": [
    {
     "name": "stdout",
     "output_type": "stream",
     "text": [
      "[[1 2 3]\n",
      " [4 5 6]\n",
      " [7 8 9]]\n"
     ]
    },
    {
     "data": {
      "text/plain": [
       "array([1, 2, 3])"
      ]
     },
     "execution_count": 37,
     "metadata": {},
     "output_type": "execute_result"
    }
   ],
   "source": [
    "print(mat)\n",
    "mat[0, :]"
   ]
  },
  {
   "cell_type": "code",
   "execution_count": 38,
   "metadata": {},
   "outputs": [
    {
     "name": "stdout",
     "output_type": "stream",
     "text": [
      "[[1 2 3]\n",
      " [4 5 6]\n",
      " [7 8 9]]\n"
     ]
    },
    {
     "data": {
      "text/plain": [
       "array([4, 5, 6])"
      ]
     },
     "execution_count": 38,
     "metadata": {},
     "output_type": "execute_result"
    }
   ],
   "source": [
    "print(mat)\n",
    "mat[1, :]"
   ]
  },
  {
   "cell_type": "markdown",
   "metadata": {},
   "source": [
    "Columns"
   ]
  },
  {
   "cell_type": "code",
   "execution_count": 39,
   "metadata": {},
   "outputs": [
    {
     "name": "stdout",
     "output_type": "stream",
     "text": [
      "[[1 2 3]\n",
      " [4 5 6]\n",
      " [7 8 9]]\n"
     ]
    },
    {
     "data": {
      "text/plain": [
       "array([2, 5, 8])"
      ]
     },
     "execution_count": 39,
     "metadata": {},
     "output_type": "execute_result"
    }
   ],
   "source": [
    "print(mat)\n",
    "mat[:, 1]"
   ]
  },
  {
   "cell_type": "code",
   "execution_count": 40,
   "metadata": {},
   "outputs": [
    {
     "name": "stdout",
     "output_type": "stream",
     "text": [
      "[[1 2 3]\n",
      " [4 5 6]\n",
      " [7 8 9]]\n"
     ]
    },
    {
     "data": {
      "text/plain": [
       "array([3, 6, 9])"
      ]
     },
     "execution_count": 40,
     "metadata": {},
     "output_type": "execute_result"
    }
   ],
   "source": [
    "print(mat)\n",
    "mat[:, 2]"
   ]
  },
  {
   "cell_type": "markdown",
   "metadata": {},
   "source": [
    "Use a list to subset a NumPy array"
   ]
  },
  {
   "cell_type": "code",
   "execution_count": 41,
   "metadata": {},
   "outputs": [
    {
     "name": "stdout",
     "output_type": "stream",
     "text": [
      "[ 1  2  3  4  5  6  7  8  9 10]\n"
     ]
    }
   ],
   "source": [
    "v = np.linspace(1, 10, 10, dtype=\"int\")\n",
    "print(v)"
   ]
  },
  {
   "cell_type": "code",
   "execution_count": 42,
   "metadata": {},
   "outputs": [
    {
     "data": {
      "text/plain": [
       "array([1, 3, 5])"
      ]
     },
     "execution_count": 42,
     "metadata": {},
     "output_type": "execute_result"
    }
   ],
   "source": [
    "v[[0, 2, 4]]"
   ]
  },
  {
   "cell_type": "markdown",
   "metadata": {},
   "source": [
    "Shape"
   ]
  },
  {
   "cell_type": "code",
   "execution_count": 43,
   "metadata": {},
   "outputs": [
    {
     "data": {
      "text/plain": [
       "(3,)"
      ]
     },
     "execution_count": 43,
     "metadata": {},
     "output_type": "execute_result"
    }
   ],
   "source": [
    "a = np.array([1, 2, 3])\n",
    "a.shape"
   ]
  },
  {
   "cell_type": "markdown",
   "metadata": {},
   "source": [
    "Dimension"
   ]
  },
  {
   "cell_type": "code",
   "execution_count": 44,
   "metadata": {},
   "outputs": [
    {
     "data": {
      "text/plain": [
       "1"
      ]
     },
     "execution_count": 44,
     "metadata": {},
     "output_type": "execute_result"
    }
   ],
   "source": [
    "a.ndim"
   ]
  },
  {
   "cell_type": "code",
   "execution_count": 45,
   "metadata": {},
   "outputs": [
    {
     "data": {
      "text/plain": [
       "2"
      ]
     },
     "execution_count": 45,
     "metadata": {},
     "output_type": "execute_result"
    }
   ],
   "source": [
    "mat.ndim"
   ]
  },
  {
   "cell_type": "code",
   "execution_count": 46,
   "metadata": {},
   "outputs": [
    {
     "name": "stdout",
     "output_type": "stream",
     "text": [
      "[[[ 1  2  3]\n",
      "  [ 4  5  6]\n",
      "  [ 7  8  9]]\n",
      "\n",
      " [[10 11 12]\n",
      "  [13 14 15]\n",
      "  [16 17 18]]\n",
      "\n",
      " [[19 20 21]\n",
      "  [22 23 24]\n",
      "  [25 26 27]]]\n"
     ]
    }
   ],
   "source": [
    "multiarray = np.array([\n",
    "                        [[1, 2, 3], [4, 5, 6], [7, 8, 9]], \n",
    "                        [[10, 11, 12], [13, 14, 15], [16, 17, 18]],\n",
    "                        [[19, 20, 21], [22, 23, 24], [25, 26, 27]]\n",
    "                    ])\n",
    "print(multiarray)"
   ]
  },
  {
   "cell_type": "markdown",
   "metadata": {},
   "source": [
    "Dimension"
   ]
  },
  {
   "cell_type": "code",
   "execution_count": 47,
   "metadata": {},
   "outputs": [
    {
     "data": {
      "text/plain": [
       "3"
      ]
     },
     "execution_count": 47,
     "metadata": {},
     "output_type": "execute_result"
    }
   ],
   "source": [
    "multiarray.ndim"
   ]
  },
  {
   "cell_type": "markdown",
   "metadata": {},
   "source": [
    "Easier:"
   ]
  },
  {
   "cell_type": "code",
   "execution_count": 48,
   "metadata": {},
   "outputs": [
    {
     "name": "stdout",
     "output_type": "stream",
     "text": [
      "[[[ 1  2  3]\n",
      "  [ 4  5  6]\n",
      "  [ 7  8  9]]\n",
      "\n",
      " [[10 11 12]\n",
      "  [13 14 15]\n",
      "  [16 17 18]]\n",
      "\n",
      " [[19 20 21]\n",
      "  [22 23 24]\n",
      "  [25 26 27]]]\n"
     ]
    }
   ],
   "source": [
    "multiarray = np.linspace(1,27, 27, dtype=int)\n",
    "multiarray = np.reshape(multiarray, newshape=(3,3,3))\n",
    "print(multiarray)"
   ]
  },
  {
   "cell_type": "code",
   "execution_count": 49,
   "metadata": {},
   "outputs": [
    {
     "data": {
      "text/plain": [
       "(3, 3, 3)"
      ]
     },
     "execution_count": 49,
     "metadata": {},
     "output_type": "execute_result"
    }
   ],
   "source": [
    "multiarray.shape"
   ]
  },
  {
   "cell_type": "markdown",
   "metadata": {},
   "source": [
    "`np.linspace()`"
   ]
  },
  {
   "cell_type": "code",
   "execution_count": 50,
   "metadata": {
    "scrolled": true
   },
   "outputs": [
    {
     "data": {
      "text/plain": [
       "array([-10.        ,  -9.7979798 ,  -9.5959596 ,  -9.39393939,\n",
       "        -9.19191919,  -8.98989899,  -8.78787879,  -8.58585859,\n",
       "        -8.38383838,  -8.18181818,  -7.97979798,  -7.77777778,\n",
       "        -7.57575758,  -7.37373737,  -7.17171717,  -6.96969697,\n",
       "        -6.76767677,  -6.56565657,  -6.36363636,  -6.16161616,\n",
       "        -5.95959596,  -5.75757576,  -5.55555556,  -5.35353535,\n",
       "        -5.15151515,  -4.94949495,  -4.74747475,  -4.54545455,\n",
       "        -4.34343434,  -4.14141414,  -3.93939394,  -3.73737374,\n",
       "        -3.53535354,  -3.33333333,  -3.13131313,  -2.92929293,\n",
       "        -2.72727273,  -2.52525253,  -2.32323232,  -2.12121212,\n",
       "        -1.91919192,  -1.71717172,  -1.51515152,  -1.31313131,\n",
       "        -1.11111111,  -0.90909091,  -0.70707071,  -0.50505051,\n",
       "        -0.3030303 ,  -0.1010101 ,   0.1010101 ,   0.3030303 ,\n",
       "         0.50505051,   0.70707071,   0.90909091,   1.11111111,\n",
       "         1.31313131,   1.51515152,   1.71717172,   1.91919192,\n",
       "         2.12121212,   2.32323232,   2.52525253,   2.72727273,\n",
       "         2.92929293,   3.13131313,   3.33333333,   3.53535354,\n",
       "         3.73737374,   3.93939394,   4.14141414,   4.34343434,\n",
       "         4.54545455,   4.74747475,   4.94949495,   5.15151515,\n",
       "         5.35353535,   5.55555556,   5.75757576,   5.95959596,\n",
       "         6.16161616,   6.36363636,   6.56565657,   6.76767677,\n",
       "         6.96969697,   7.17171717,   7.37373737,   7.57575758,\n",
       "         7.77777778,   7.97979798,   8.18181818,   8.38383838,\n",
       "         8.58585859,   8.78787879,   8.98989899,   9.19191919,\n",
       "         9.39393939,   9.5959596 ,   9.7979798 ,  10.        ])"
      ]
     },
     "execution_count": 50,
     "metadata": {},
     "output_type": "execute_result"
    }
   ],
   "source": [
    "np.linspace(-10, 10, 100)"
   ]
  },
  {
   "cell_type": "markdown",
   "metadata": {},
   "source": [
    "`np.arrange()`"
   ]
  },
  {
   "cell_type": "code",
   "execution_count": 51,
   "metadata": {},
   "outputs": [
    {
     "data": {
      "text/plain": [
       "array([ 1,  2,  3,  4,  5,  6,  7,  8,  9, 10])"
      ]
     },
     "execution_count": 51,
     "metadata": {},
     "output_type": "execute_result"
    }
   ],
   "source": [
    "np.arange(1, 11)"
   ]
  },
  {
   "cell_type": "markdown",
   "metadata": {},
   "source": [
    "Subsetting: work outside in"
   ]
  },
  {
   "cell_type": "markdown",
   "metadata": {},
   "source": [
    "First layer od a 3D structure:"
   ]
  },
  {
   "cell_type": "code",
   "execution_count": 52,
   "metadata": {},
   "outputs": [
    {
     "data": {
      "text/plain": [
       "array([[1, 2, 3],\n",
       "       [4, 5, 6],\n",
       "       [7, 8, 9]])"
      ]
     },
     "execution_count": 52,
     "metadata": {},
     "output_type": "execute_result"
    }
   ],
   "source": [
    "multiarray[0, :, :]"
   ]
  },
  {
   "cell_type": "markdown",
   "metadata": {},
   "source": [
    "Second layer od a 3D structure:"
   ]
  },
  {
   "cell_type": "code",
   "execution_count": 53,
   "metadata": {},
   "outputs": [
    {
     "data": {
      "text/plain": [
       "array([[10, 11, 12],\n",
       "       [13, 14, 15],\n",
       "       [16, 17, 18]])"
      ]
     },
     "execution_count": 53,
     "metadata": {},
     "output_type": "execute_result"
    }
   ],
   "source": [
    "multiarray[1, :, :]"
   ]
  },
  {
   "cell_type": "markdown",
   "metadata": {},
   "source": [
    "Third layer od a 3D structure:"
   ]
  },
  {
   "cell_type": "code",
   "execution_count": 54,
   "metadata": {},
   "outputs": [
    {
     "data": {
      "text/plain": [
       "array([[19, 20, 21],\n",
       "       [22, 23, 24],\n",
       "       [25, 26, 27]])"
      ]
     },
     "execution_count": 54,
     "metadata": {},
     "output_type": "execute_result"
    }
   ],
   "source": [
    "multiarray[2, :, :]"
   ]
  },
  {
   "cell_type": "markdown",
   "metadata": {},
   "source": [
    "Second rows from all layers"
   ]
  },
  {
   "cell_type": "code",
   "execution_count": 55,
   "metadata": {},
   "outputs": [
    {
     "data": {
      "text/plain": [
       "array([[ 4,  5,  6],\n",
       "       [13, 14, 15],\n",
       "       [22, 23, 24]])"
      ]
     },
     "execution_count": 55,
     "metadata": {},
     "output_type": "execute_result"
    }
   ],
   "source": [
    "multiarray[:, 1, :]"
   ]
  },
  {
   "cell_type": "markdown",
   "metadata": {},
   "source": [
    "Second columns from all layers"
   ]
  },
  {
   "cell_type": "code",
   "execution_count": 56,
   "metadata": {},
   "outputs": [
    {
     "data": {
      "text/plain": [
       "array([[ 2,  5,  8],\n",
       "       [11, 14, 17],\n",
       "       [20, 23, 26]])"
      ]
     },
     "execution_count": 56,
     "metadata": {},
     "output_type": "execute_result"
    }
   ],
   "source": [
    "multiarray[:, :, 1]"
   ]
  },
  {
   "cell_type": "code",
   "execution_count": 57,
   "metadata": {},
   "outputs": [
    {
     "name": "stdout",
     "output_type": "stream",
     "text": [
      "[[1 2 3]\n",
      " [4 5 6]\n",
      " [7 8 9]]\n"
     ]
    }
   ],
   "source": [
    "print(mat)"
   ]
  },
  {
   "cell_type": "markdown",
   "metadata": {},
   "source": [
    "Pick a single element"
   ]
  },
  {
   "cell_type": "code",
   "execution_count": 58,
   "metadata": {},
   "outputs": [
    {
     "data": {
      "text/plain": [
       "5"
      ]
     },
     "execution_count": 58,
     "metadata": {},
     "output_type": "execute_result"
    }
   ],
   "source": [
    "mat[1, 1]"
   ]
  },
  {
   "cell_type": "code",
   "execution_count": 59,
   "metadata": {},
   "outputs": [
    {
     "data": {
      "text/plain": [
       "5"
      ]
     },
     "execution_count": 59,
     "metadata": {},
     "output_type": "execute_result"
    }
   ],
   "source": [
    "mat[1, -2]"
   ]
  },
  {
   "cell_type": "markdown",
   "metadata": {},
   "source": [
    "Stepsize"
   ]
  },
  {
   "cell_type": "code",
   "execution_count": 60,
   "metadata": {},
   "outputs": [
    {
     "data": {
      "text/plain": [
       "[1, 3, 5, 7, 9]"
      ]
     },
     "execution_count": 60,
     "metadata": {},
     "output_type": "execute_result"
    }
   ],
   "source": [
    "a = [1, 2, 3, 4, 5, 6, 7, 8, 9, 10]\n",
    "a[0:10:2]"
   ]
  },
  {
   "cell_type": "code",
   "execution_count": 61,
   "metadata": {},
   "outputs": [
    {
     "data": {
      "text/plain": [
       "[2, 4, 6, 8, 10]"
      ]
     },
     "execution_count": 61,
     "metadata": {},
     "output_type": "execute_result"
    }
   ],
   "source": [
    "a[1:10:2]"
   ]
  },
  {
   "cell_type": "markdown",
   "metadata": {},
   "source": [
    "Set the value of an element"
   ]
  },
  {
   "cell_type": "code",
   "execution_count": 62,
   "metadata": {},
   "outputs": [
    {
     "name": "stdout",
     "output_type": "stream",
     "text": [
      "[[1 2 3]\n",
      " [4 5 6]\n",
      " [7 8 9]]\n"
     ]
    }
   ],
   "source": [
    "print(mat)"
   ]
  },
  {
   "cell_type": "code",
   "execution_count": 63,
   "metadata": {},
   "outputs": [
    {
     "name": "stdout",
     "output_type": "stream",
     "text": [
      "[[ 1 17  3]\n",
      " [ 4  5  6]\n",
      " [ 7  8  9]]\n"
     ]
    }
   ],
   "source": [
    "mat[0, 1] = 17\n",
    "print(mat)"
   ]
  },
  {
   "cell_type": "markdown",
   "metadata": {},
   "source": [
    "Change whole row"
   ]
  },
  {
   "cell_type": "code",
   "execution_count": 64,
   "metadata": {},
   "outputs": [
    {
     "name": "stdout",
     "output_type": "stream",
     "text": [
      "[[ 8  9 11]\n",
      " [ 4  5  6]\n",
      " [ 7  8  9]]\n"
     ]
    }
   ],
   "source": [
    "mat[0, :] = [8, 9, 11]\n",
    "print(mat)"
   ]
  },
  {
   "cell_type": "markdown",
   "metadata": {},
   "source": [
    "Stacking arrays"
   ]
  },
  {
   "cell_type": "code",
   "execution_count": 65,
   "metadata": {},
   "outputs": [
    {
     "name": "stdout",
     "output_type": "stream",
     "text": [
      "[[1 1 1 1]\n",
      " [2 2 2 2]]\n"
     ]
    }
   ],
   "source": [
    "v1 = np.array([1, 1, 1, 1])\n",
    "v2 = np.array([2, 2, 2, 2])\n",
    "vstacked = np.vstack([v1, v2])\n",
    "print(vstacked)"
   ]
  },
  {
   "cell_type": "code",
   "execution_count": 66,
   "metadata": {},
   "outputs": [
    {
     "name": "stdout",
     "output_type": "stream",
     "text": [
      "[1 1 1 1 2 2 2 2]\n"
     ]
    }
   ],
   "source": [
    "v1 = np.array([1, 1, 1, 1])\n",
    "v2 = np.array([2, 2, 2, 2])\n",
    "hstacked = np.hstack([v1, v2])\n",
    "print(hstacked)"
   ]
  },
  {
   "cell_type": "markdown",
   "metadata": {},
   "source": [
    "### Some algebraic operations"
   ]
  },
  {
   "cell_type": "markdown",
   "metadata": {},
   "source": [
    "Transpose"
   ]
  },
  {
   "cell_type": "code",
   "execution_count": 67,
   "metadata": {},
   "outputs": [
    {
     "data": {
      "text/plain": [
       "array([[ 8,  9, 11],\n",
       "       [ 4,  5,  6],\n",
       "       [ 7,  8,  9]])"
      ]
     },
     "execution_count": 67,
     "metadata": {},
     "output_type": "execute_result"
    }
   ],
   "source": [
    "mat"
   ]
  },
  {
   "cell_type": "code",
   "execution_count": 68,
   "metadata": {},
   "outputs": [
    {
     "data": {
      "text/plain": [
       "array([[ 8,  4,  7],\n",
       "       [ 9,  5,  8],\n",
       "       [11,  6,  9]])"
      ]
     },
     "execution_count": 68,
     "metadata": {},
     "output_type": "execute_result"
    }
   ],
   "source": [
    "mat.T"
   ]
  },
  {
   "cell_type": "markdown",
   "metadata": {},
   "source": [
    "Works on `pd.DataFrame` too:"
   ]
  },
  {
   "cell_type": "code",
   "execution_count": 69,
   "metadata": {},
   "outputs": [
    {
     "name": "stdout",
     "output_type": "stream",
     "text": [
      "     pA  vA    pB  vB\n",
      "0  0.15  10  0.85   8\n",
      "1  0.33  20  0.77  17\n",
      "2  0.84  30  0.16  45\n"
     ]
    }
   ],
   "source": [
    "print(lots)"
   ]
  },
  {
   "cell_type": "code",
   "execution_count": 70,
   "metadata": {},
   "outputs": [
    {
     "data": {
      "text/html": [
       "<div>\n",
       "<style scoped>\n",
       "    .dataframe tbody tr th:only-of-type {\n",
       "        vertical-align: middle;\n",
       "    }\n",
       "\n",
       "    .dataframe tbody tr th {\n",
       "        vertical-align: top;\n",
       "    }\n",
       "\n",
       "    .dataframe thead th {\n",
       "        text-align: right;\n",
       "    }\n",
       "</style>\n",
       "<table border=\"1\" class=\"dataframe\">\n",
       "  <thead>\n",
       "    <tr style=\"text-align: right;\">\n",
       "      <th></th>\n",
       "      <th>vA</th>\n",
       "      <th>vB</th>\n",
       "    </tr>\n",
       "  </thead>\n",
       "  <tbody>\n",
       "    <tr>\n",
       "      <th>0</th>\n",
       "      <td>10</td>\n",
       "      <td>8</td>\n",
       "    </tr>\n",
       "    <tr>\n",
       "      <th>1</th>\n",
       "      <td>20</td>\n",
       "      <td>17</td>\n",
       "    </tr>\n",
       "    <tr>\n",
       "      <th>2</th>\n",
       "      <td>30</td>\n",
       "      <td>45</td>\n",
       "    </tr>\n",
       "  </tbody>\n",
       "</table>\n",
       "</div>"
      ],
      "text/plain": [
       "   vA  vB\n",
       "0  10   8\n",
       "1  20  17\n",
       "2  30  45"
      ]
     },
     "execution_count": 70,
     "metadata": {},
     "output_type": "execute_result"
    }
   ],
   "source": [
    "lots[['vA','vB']]"
   ]
  },
  {
   "cell_type": "code",
   "execution_count": 71,
   "metadata": {},
   "outputs": [
    {
     "data": {
      "text/html": [
       "<div>\n",
       "<style scoped>\n",
       "    .dataframe tbody tr th:only-of-type {\n",
       "        vertical-align: middle;\n",
       "    }\n",
       "\n",
       "    .dataframe tbody tr th {\n",
       "        vertical-align: top;\n",
       "    }\n",
       "\n",
       "    .dataframe thead th {\n",
       "        text-align: right;\n",
       "    }\n",
       "</style>\n",
       "<table border=\"1\" class=\"dataframe\">\n",
       "  <thead>\n",
       "    <tr style=\"text-align: right;\">\n",
       "      <th></th>\n",
       "      <th>0</th>\n",
       "      <th>1</th>\n",
       "      <th>2</th>\n",
       "    </tr>\n",
       "  </thead>\n",
       "  <tbody>\n",
       "    <tr>\n",
       "      <th>vA</th>\n",
       "      <td>10</td>\n",
       "      <td>20</td>\n",
       "      <td>30</td>\n",
       "    </tr>\n",
       "    <tr>\n",
       "      <th>vB</th>\n",
       "      <td>8</td>\n",
       "      <td>17</td>\n",
       "      <td>45</td>\n",
       "    </tr>\n",
       "  </tbody>\n",
       "</table>\n",
       "</div>"
      ],
      "text/plain": [
       "     0   1   2\n",
       "vA  10  20  30\n",
       "vB   8  17  45"
      ]
     },
     "execution_count": 71,
     "metadata": {},
     "output_type": "execute_result"
    }
   ],
   "source": [
    "lots[['vA','vB']].T"
   ]
  },
  {
   "cell_type": "markdown",
   "metadata": {},
   "source": [
    "Multiply matrix by a scalar constant, elementwise"
   ]
  },
  {
   "cell_type": "code",
   "execution_count": 72,
   "metadata": {},
   "outputs": [
    {
     "data": {
      "text/plain": [
       "array([[24, 27, 33],\n",
       "       [12, 15, 18],\n",
       "       [21, 24, 27]])"
      ]
     },
     "execution_count": 72,
     "metadata": {},
     "output_type": "execute_result"
    }
   ],
   "source": [
    "c = 3\n",
    "c * mat"
   ]
  },
  {
   "cell_type": "markdown",
   "metadata": {},
   "source": [
    "Matrix times matrix, **elementwise**"
   ]
  },
  {
   "cell_type": "code",
   "execution_count": 73,
   "metadata": {},
   "outputs": [
    {
     "name": "stdout",
     "output_type": "stream",
     "text": [
      "[[1 1 1]\n",
      " [2 2 2]\n",
      " [3 3 3]]\n",
      "[[ 8  9 11]\n",
      " [ 4  5  6]\n",
      " [ 7  8  9]]\n",
      "Element-wise product is:\n"
     ]
    },
    {
     "data": {
      "text/plain": [
       "array([[ 8,  9, 11],\n",
       "       [ 8, 10, 12],\n",
       "       [21, 24, 27]])"
      ]
     },
     "execution_count": 73,
     "metadata": {},
     "output_type": "execute_result"
    }
   ],
   "source": [
    "mat1 = np.array([[1, 1, 1], [2, 2, 2], [3, 3, 3]])\n",
    "print(mat1)\n",
    "print(mat)\n",
    "print(\"Element-wise product is:\")\n",
    "mat1 * mat"
   ]
  },
  {
   "cell_type": "markdown",
   "metadata": {},
   "source": [
    "the same as:"
   ]
  },
  {
   "cell_type": "code",
   "execution_count": 74,
   "metadata": {},
   "outputs": [
    {
     "data": {
      "text/plain": [
       "array([[ 8,  9, 11],\n",
       "       [ 8, 10, 12],\n",
       "       [21, 24, 27]])"
      ]
     },
     "execution_count": 74,
     "metadata": {},
     "output_type": "execute_result"
    }
   ],
   "source": [
    "np.multiply(mat1, mat)"
   ]
  },
  {
   "cell_type": "markdown",
   "metadata": {},
   "source": [
    "Vector by vector, **elementwise**:"
   ]
  },
  {
   "cell_type": "code",
   "execution_count": 75,
   "metadata": {},
   "outputs": [
    {
     "data": {
      "text/plain": [
       "array([32, 45, 66])"
      ]
     },
     "execution_count": 75,
     "metadata": {},
     "output_type": "execute_result"
    }
   ],
   "source": [
    "x = mat[0, :]\n",
    "y = mat[1, :]\n",
    "x*y"
   ]
  },
  {
   "cell_type": "markdown",
   "metadata": {},
   "source": [
    "Algebraic operations: the dot product"
   ]
  },
  {
   "cell_type": "code",
   "execution_count": 76,
   "metadata": {},
   "outputs": [
    {
     "name": "stdout",
     "output_type": "stream",
     "text": [
      "[1 2 3]\n",
      "[5 6 7]\n"
     ]
    }
   ],
   "source": [
    "v1 = np.array([1, 2, 3])\n",
    "v2 = np.array([5, 6, 7])\n",
    "print(v1)\n",
    "print(v2)"
   ]
  },
  {
   "cell_type": "code",
   "execution_count": 77,
   "metadata": {},
   "outputs": [
    {
     "data": {
      "text/plain": [
       "38"
      ]
     },
     "execution_count": 77,
     "metadata": {},
     "output_type": "execute_result"
    }
   ],
   "source": [
    "np.dot(v2, v1)"
   ]
  },
  {
   "cell_type": "markdown",
   "metadata": {},
   "source": [
    "Also, w. `@`:"
   ]
  },
  {
   "cell_type": "code",
   "execution_count": 78,
   "metadata": {},
   "outputs": [
    {
     "data": {
      "text/plain": [
       "38"
      ]
     },
     "execution_count": 78,
     "metadata": {},
     "output_type": "execute_result"
    }
   ],
   "source": [
    "v1 @ v2"
   ]
  },
  {
   "cell_type": "code",
   "execution_count": 79,
   "metadata": {},
   "outputs": [
    {
     "data": {
      "text/plain": [
       "38"
      ]
     },
     "execution_count": 79,
     "metadata": {},
     "output_type": "execute_result"
    }
   ],
   "source": [
    "v2 @ v1"
   ]
  },
  {
   "cell_type": "markdown",
   "metadata": {},
   "source": [
    "Do not forget that this product **is not commutative for matrices**:"
   ]
  },
  {
   "cell_type": "code",
   "execution_count": 80,
   "metadata": {},
   "outputs": [
    {
     "name": "stdout",
     "output_type": "stream",
     "text": [
      "[[1 1 1]\n",
      " [2 2 2]\n",
      " [3 3 3]]\n",
      "[[ 8  9 11]\n",
      " [ 4  5  6]\n",
      " [ 7  8  9]]\n",
      "Dot product: np.dot(mat1, mat)\n"
     ]
    },
    {
     "data": {
      "text/plain": [
       "array([[19, 22, 26],\n",
       "       [38, 44, 52],\n",
       "       [57, 66, 78]])"
      ]
     },
     "execution_count": 80,
     "metadata": {},
     "output_type": "execute_result"
    }
   ],
   "source": [
    "print(mat1)\n",
    "print(mat)\n",
    "print(\"Dot product: np.dot(mat1, mat)\")\n",
    "np.dot(mat1, mat)"
   ]
  },
  {
   "cell_type": "code",
   "execution_count": 81,
   "metadata": {},
   "outputs": [
    {
     "name": "stdout",
     "output_type": "stream",
     "text": [
      "Dot product: np.dot(mat, mat1)\n"
     ]
    },
    {
     "data": {
      "text/plain": [
       "array([[59, 59, 59],\n",
       "       [32, 32, 32],\n",
       "       [50, 50, 50]])"
      ]
     },
     "execution_count": 81,
     "metadata": {},
     "output_type": "execute_result"
    }
   ],
   "source": [
    "print(\"Dot product: np.dot(mat, mat1)\")\n",
    "np.dot(mat, mat1)"
   ]
  },
  {
   "cell_type": "markdown",
   "metadata": {},
   "source": [
    "Using `@` is preferred (as it is faster):"
   ]
  },
  {
   "cell_type": "code",
   "execution_count": 82,
   "metadata": {},
   "outputs": [
    {
     "data": {
      "text/plain": [
       "array([[59, 59, 59],\n",
       "       [32, 32, 32],\n",
       "       [50, 50, 50]])"
      ]
     },
     "execution_count": 82,
     "metadata": {},
     "output_type": "execute_result"
    }
   ],
   "source": [
    "mat @ mat1"
   ]
  },
  {
   "cell_type": "code",
   "execution_count": 83,
   "metadata": {},
   "outputs": [
    {
     "data": {
      "text/plain": [
       "array([[19, 22, 26],\n",
       "       [38, 44, 52],\n",
       "       [57, 66, 78]])"
      ]
     },
     "execution_count": 83,
     "metadata": {},
     "output_type": "execute_result"
    }
   ],
   "source": [
    "mat1 @ mat"
   ]
  },
  {
   "cell_type": "markdown",
   "metadata": {},
   "source": [
    "Dot product: vector times matrix"
   ]
  },
  {
   "cell_type": "code",
   "execution_count": 84,
   "metadata": {},
   "outputs": [
    {
     "name": "stdout",
     "output_type": "stream",
     "text": [
      "[1 2 3]\n",
      "[[ 8  9 11]\n",
      " [ 4  5  6]\n",
      " [ 7  8  9]]\n"
     ]
    }
   ],
   "source": [
    "a = np.array([1, 2, 3])\n",
    "print(a)\n",
    "print(mat)"
   ]
  },
  {
   "cell_type": "code",
   "execution_count": 85,
   "metadata": {},
   "outputs": [
    {
     "data": {
      "text/plain": [
       "array([37, 43, 50])"
      ]
     },
     "execution_count": 85,
     "metadata": {},
     "output_type": "execute_result"
    }
   ],
   "source": [
    "np.dot(a, mat)"
   ]
  },
  {
   "cell_type": "code",
   "execution_count": 86,
   "metadata": {},
   "outputs": [
    {
     "name": "stdout",
     "output_type": "stream",
     "text": [
      "[1 2 3]\n",
      "[[ 8  9 11]\n",
      " [ 4  5  6]\n",
      " [ 7  8  9]]\n"
     ]
    },
    {
     "data": {
      "text/plain": [
       "array([59, 32, 50])"
      ]
     },
     "execution_count": 86,
     "metadata": {},
     "output_type": "execute_result"
    }
   ],
   "source": [
    "print(a)\n",
    "print(mat)\n",
    "np.dot(mat, a)"
   ]
  },
  {
   "cell_type": "code",
   "execution_count": 87,
   "metadata": {},
   "outputs": [
    {
     "name": "stdout",
     "output_type": "stream",
     "text": [
      "[1 2 3]\n",
      "[[ 8  9 11]\n",
      " [ 4  5  6]\n",
      " [ 7  8  9]]\n"
     ]
    },
    {
     "data": {
      "text/plain": [
       "array([59, 32, 50])"
      ]
     },
     "execution_count": 87,
     "metadata": {},
     "output_type": "execute_result"
    }
   ],
   "source": [
    "print(a)\n",
    "print(mat)\n",
    "np.dot(a, mat.T)"
   ]
  },
  {
   "cell_type": "code",
   "execution_count": 88,
   "metadata": {},
   "outputs": [
    {
     "name": "stdout",
     "output_type": "stream",
     "text": [
      "[1 2 3]\n",
      "[[ 8  9 11]\n",
      " [ 4  5  6]\n",
      " [ 7  8  9]]\n"
     ]
    },
    {
     "data": {
      "text/plain": [
       "array([37, 43, 50])"
      ]
     },
     "execution_count": 88,
     "metadata": {},
     "output_type": "execute_result"
    }
   ],
   "source": [
    "print(a)\n",
    "print(mat)\n",
    "np.dot(mat.T, a)"
   ]
  },
  {
   "cell_type": "code",
   "execution_count": 89,
   "metadata": {},
   "outputs": [
    {
     "data": {
      "text/plain": [
       "array([59, 32, 50])"
      ]
     },
     "execution_count": 89,
     "metadata": {},
     "output_type": "execute_result"
    }
   ],
   "source": [
    "np.dot(mat, a)"
   ]
  },
  {
   "cell_type": "markdown",
   "metadata": {},
   "source": [
    "Type"
   ]
  },
  {
   "cell_type": "code",
   "execution_count": 90,
   "metadata": {},
   "outputs": [
    {
     "data": {
      "text/plain": [
       "dtype('int64')"
      ]
     },
     "execution_count": 90,
     "metadata": {},
     "output_type": "execute_result"
    }
   ],
   "source": [
    "a.dtype"
   ]
  },
  {
   "cell_type": "markdown",
   "metadata": {},
   "source": [
    "Size (the total number of elements)"
   ]
  },
  {
   "cell_type": "code",
   "execution_count": 91,
   "metadata": {},
   "outputs": [
    {
     "data": {
      "text/plain": [
       "3"
      ]
     },
     "execution_count": 91,
     "metadata": {},
     "output_type": "execute_result"
    }
   ],
   "source": [
    "a.size"
   ]
  },
  {
   "cell_type": "markdown",
   "metadata": {},
   "source": [
    "Float array"
   ]
  },
  {
   "cell_type": "code",
   "execution_count": 92,
   "metadata": {},
   "outputs": [
    {
     "data": {
      "text/plain": [
       "dtype('float64')"
      ]
     },
     "execution_count": 92,
     "metadata": {},
     "output_type": "execute_result"
    }
   ],
   "source": [
    "a = np.array([[1.1, 2, 3.14], [2, 2.22, 1.41]])\n",
    "a.dtype"
   ]
  },
  {
   "cell_type": "markdown",
   "metadata": {},
   "source": [
    "Outer product of vectors"
   ]
  },
  {
   "cell_type": "code",
   "execution_count": 93,
   "metadata": {},
   "outputs": [
    {
     "name": "stdout",
     "output_type": "stream",
     "text": [
      "[1 2 3]\n",
      "[5 6 7]\n"
     ]
    },
    {
     "data": {
      "text/plain": [
       "array([[ 5,  6,  7],\n",
       "       [10, 12, 14],\n",
       "       [15, 18, 21]])"
      ]
     },
     "execution_count": 93,
     "metadata": {},
     "output_type": "execute_result"
    }
   ],
   "source": [
    "print(v1)\n",
    "print(v2)\n",
    "np.outer(v1, v2)"
   ]
  },
  {
   "cell_type": "code",
   "execution_count": 94,
   "metadata": {},
   "outputs": [
    {
     "data": {
      "text/plain": [
       "array([[ 5, 10, 15],\n",
       "       [ 6, 12, 18],\n",
       "       [ 7, 14, 21]])"
      ]
     },
     "execution_count": 94,
     "metadata": {},
     "output_type": "execute_result"
    }
   ],
   "source": [
    "np.outer(v2, v1)"
   ]
  },
  {
   "cell_type": "code",
   "execution_count": 95,
   "metadata": {},
   "outputs": [
    {
     "name": "stdout",
     "output_type": "stream",
     "text": [
      "[1 2 3]\n",
      "[4 5 6 7]\n"
     ]
    },
    {
     "data": {
      "text/plain": [
       "array([[ 4,  5,  6,  7],\n",
       "       [ 8, 10, 12, 14],\n",
       "       [12, 15, 18, 21]])"
      ]
     },
     "execution_count": 95,
     "metadata": {},
     "output_type": "execute_result"
    }
   ],
   "source": [
    "v2 = np.array([4, 5, 6, 7])\n",
    "print(v1)\n",
    "print(v2)\n",
    "np.outer(v1, v2)"
   ]
  },
  {
   "cell_type": "code",
   "execution_count": 96,
   "metadata": {},
   "outputs": [
    {
     "name": "stdout",
     "output_type": "stream",
     "text": [
      "[[ 8  9 11]\n",
      " [ 4  5  6]\n",
      " [ 7  8  9]]\n",
      "[[1 1 1]\n",
      " [2 2 2]\n",
      " [3 3 3]]\n"
     ]
    },
    {
     "data": {
      "text/plain": [
       "array([[ 8,  8,  8, 16, 16, 16, 24, 24, 24],\n",
       "       [ 9,  9,  9, 18, 18, 18, 27, 27, 27],\n",
       "       [11, 11, 11, 22, 22, 22, 33, 33, 33],\n",
       "       [ 4,  4,  4,  8,  8,  8, 12, 12, 12],\n",
       "       [ 5,  5,  5, 10, 10, 10, 15, 15, 15],\n",
       "       [ 6,  6,  6, 12, 12, 12, 18, 18, 18],\n",
       "       [ 7,  7,  7, 14, 14, 14, 21, 21, 21],\n",
       "       [ 8,  8,  8, 16, 16, 16, 24, 24, 24],\n",
       "       [ 9,  9,  9, 18, 18, 18, 27, 27, 27]])"
      ]
     },
     "execution_count": 96,
     "metadata": {},
     "output_type": "execute_result"
    }
   ],
   "source": [
    "print(mat)\n",
    "print(mat1)\n",
    "np.outer(mat, mat1)"
   ]
  },
  {
   "cell_type": "code",
   "execution_count": 97,
   "metadata": {},
   "outputs": [
    {
     "data": {
      "text/plain": [
       "array([[ 8,  9, 11,  4,  5,  6,  7,  8,  9],\n",
       "       [ 8,  9, 11,  4,  5,  6,  7,  8,  9],\n",
       "       [ 8,  9, 11,  4,  5,  6,  7,  8,  9],\n",
       "       [16, 18, 22,  8, 10, 12, 14, 16, 18],\n",
       "       [16, 18, 22,  8, 10, 12, 14, 16, 18],\n",
       "       [16, 18, 22,  8, 10, 12, 14, 16, 18],\n",
       "       [24, 27, 33, 12, 15, 18, 21, 24, 27],\n",
       "       [24, 27, 33, 12, 15, 18, 21, 24, 27],\n",
       "       [24, 27, 33, 12, 15, 18, 21, 24, 27]])"
      ]
     },
     "execution_count": 97,
     "metadata": {},
     "output_type": "execute_result"
    }
   ],
   "source": [
    "np.outer(mat1, mat)"
   ]
  },
  {
   "cell_type": "markdown",
   "metadata": {},
   "source": [
    "### Broadcasting"
   ]
  },
  {
   "cell_type": "markdown",
   "metadata": {},
   "source": [
    "From the Numpy [Broadcasting](https://numpy.org/doc/stable/user/basics.broadcasting.html#) documentation:\n",
    "\n",
    "> The term broadcasting describes how NumPy treats arrays with different shapes during arithmetic operations. Subject to certain constraints, the smaller array is “broadcast” across the larger array so that they have compatible shapes. Broadcasting provides a means of vectorizing array operations so that looping occurs in C instead of Python. It does this without making needless copies of data and usually leads to efficient algorithm implementations. There are, however, cases where broadcasting is a bad idea because it leads to inefficient use of memory that slows computation."
   ]
  },
  {
   "cell_type": "code",
   "execution_count": 98,
   "metadata": {},
   "outputs": [
    {
     "data": {
      "text/plain": [
       "array([[2, 4, 6],\n",
       "       [5, 7, 9]])"
      ]
     },
     "execution_count": 98,
     "metadata": {},
     "output_type": "execute_result"
    }
   ],
   "source": [
    "a = np.array([1, 2, 3])\n",
    "b = np.array([[1, 2, 3], [4, 5, 6]])\n",
    "a+b"
   ]
  },
  {
   "cell_type": "code",
   "execution_count": 99,
   "metadata": {},
   "outputs": [
    {
     "data": {
      "text/plain": [
       "array([[ 1,  4,  9],\n",
       "       [ 4, 10, 18]])"
      ]
     },
     "execution_count": 99,
     "metadata": {},
     "output_type": "execute_result"
    }
   ],
   "source": [
    "a*b"
   ]
  },
  {
   "cell_type": "markdown",
   "metadata": {},
   "source": [
    "Example from NumPy [Broadcasting](https://numpy.org/doc/stable/user/basics.broadcasting.html) documentation: *A Practical Example: Vector Quantization*"
   ]
  },
  {
   "cell_type": "code",
   "execution_count": 100,
   "metadata": {},
   "outputs": [
    {
     "name": "stdout",
     "output_type": "stream",
     "text": [
      "[[ -9.  15.]\n",
      " [ 21.   5.]\n",
      " [-66. -33.]\n",
      " [-54. -15.]]\n",
      "[17.49285568 21.58703314 73.79024326 56.04462508]\n",
      "0\n",
      "17.4928556845359\n"
     ]
    }
   ],
   "source": [
    "# - one data point\n",
    "observation = np.array([111.0, 188.0])\n",
    "# - several data points\n",
    "codes = np.array([[102.0, 203.0],\n",
    "    [132.0, 193.0],\n",
    "    [45.0, 155.0],\n",
    "    [57.0, 173.0]])\n",
    "# - the minimal distance between codes and observation:\n",
    "diff = codes - observation\n",
    "print(diff)\n",
    "# - Euclidean distances\n",
    "dist = np.sqrt(np.sum(diff**2,axis=1))\n",
    "print(dist)\n",
    "# - indice of the minimum\n",
    "w_min = np.argmin(dist)\n",
    "print(w_min)\n",
    "# - minimal distance\n",
    "print(dist[w_min])"
   ]
  },
  {
   "cell_type": "markdown",
   "metadata": {},
   "source": [
    "### More repeating of things"
   ]
  },
  {
   "cell_type": "code",
   "execution_count": 101,
   "metadata": {},
   "outputs": [
    {
     "data": {
      "text/plain": [
       "array([1., 1., 1., 1., 1., 1., 1., 1., 1., 1.])"
      ]
     },
     "execution_count": 101,
     "metadata": {},
     "output_type": "execute_result"
    }
   ],
   "source": [
    "np.ones(10)"
   ]
  },
  {
   "cell_type": "code",
   "execution_count": 102,
   "metadata": {
    "scrolled": true
   },
   "outputs": [
    {
     "data": {
      "text/plain": [
       "array([1, 1, 1, 1, 1, 1, 1, 1, 1, 1])"
      ]
     },
     "execution_count": 102,
     "metadata": {},
     "output_type": "execute_result"
    }
   ],
   "source": [
    "np.ones(10, dtype=int)"
   ]
  },
  {
   "cell_type": "code",
   "execution_count": 103,
   "metadata": {},
   "outputs": [
    {
     "data": {
      "text/plain": [
       "array([[1., 1., 1., 1., 1.],\n",
       "       [1., 1., 1., 1., 1.]])"
      ]
     },
     "execution_count": 103,
     "metadata": {},
     "output_type": "execute_result"
    }
   ],
   "source": [
    "np.ones((2, 5))"
   ]
  },
  {
   "cell_type": "code",
   "execution_count": 104,
   "metadata": {},
   "outputs": [
    {
     "data": {
      "text/plain": [
       "array([0., 0., 0., 0.])"
      ]
     },
     "execution_count": 104,
     "metadata": {},
     "output_type": "execute_result"
    }
   ],
   "source": [
    "np.zeros(4)"
   ]
  },
  {
   "cell_type": "code",
   "execution_count": 105,
   "metadata": {},
   "outputs": [
    {
     "data": {
      "text/plain": [
       "array([[0., 0.],\n",
       "       [0., 0.],\n",
       "       [0., 0.],\n",
       "       [0., 0.],\n",
       "       [0., 0.]])"
      ]
     },
     "execution_count": 105,
     "metadata": {},
     "output_type": "execute_result"
    }
   ],
   "source": [
    "np.zeros((5, 2))"
   ]
  },
  {
   "cell_type": "code",
   "execution_count": 106,
   "metadata": {},
   "outputs": [
    {
     "data": {
      "text/plain": [
       "array([[10, 10],\n",
       "       [10, 10]])"
      ]
     },
     "execution_count": 106,
     "metadata": {},
     "output_type": "execute_result"
    }
   ],
   "source": [
    "np.full((2,2), 10)"
   ]
  },
  {
   "cell_type": "code",
   "execution_count": 107,
   "metadata": {},
   "outputs": [
    {
     "data": {
      "text/plain": [
       "array([0.15266373, 0.30235661, 0.06203641])"
      ]
     },
     "execution_count": 107,
     "metadata": {},
     "output_type": "execute_result"
    }
   ],
   "source": [
    "np.random.random(3)"
   ]
  },
  {
   "cell_type": "code",
   "execution_count": 108,
   "metadata": {
    "scrolled": true
   },
   "outputs": [
    {
     "data": {
      "text/plain": [
       "array([[0.45986034, 0.83525338, 0.92699705],\n",
       "       [0.72698898, 0.76849622, 0.26920507],\n",
       "       [0.64402929, 0.09337326, 0.07968589]])"
      ]
     },
     "execution_count": 108,
     "metadata": {},
     "output_type": "execute_result"
    }
   ],
   "source": [
    "np.random.random((3, 3))"
   ]
  },
  {
   "cell_type": "code",
   "execution_count": 109,
   "metadata": {},
   "outputs": [
    {
     "data": {
      "text/plain": [
       "array([[ 2, -2,  0],\n",
       "       [-1, -1, -1],\n",
       "       [ 3,  2,  1]])"
      ]
     },
     "execution_count": 109,
     "metadata": {},
     "output_type": "execute_result"
    }
   ],
   "source": [
    "np.random.randint(-3, 4, size=(3, 3))"
   ]
  },
  {
   "cell_type": "code",
   "execution_count": 110,
   "metadata": {},
   "outputs": [
    {
     "name": "stdout",
     "output_type": "stream",
     "text": [
      "[1 3 5]\n"
     ]
    },
    {
     "data": {
      "text/plain": [
       "array([1, 1, 1, 3, 3, 3, 5, 5, 5])"
      ]
     },
     "execution_count": 110,
     "metadata": {},
     "output_type": "execute_result"
    }
   ],
   "source": [
    "v = np.array([1, 3, 5])\n",
    "print(v)\n",
    "np.repeat(v, repeats=3)"
   ]
  },
  {
   "cell_type": "code",
   "execution_count": 111,
   "metadata": {},
   "outputs": [
    {
     "name": "stdout",
     "output_type": "stream",
     "text": [
      "[[1 2 3]\n",
      " [4 5 6]]\n"
     ]
    }
   ],
   "source": [
    "a = np.array([[1, 2, 3], [4, 5, 6]])\n",
    "print(a)"
   ]
  },
  {
   "cell_type": "code",
   "execution_count": 112,
   "metadata": {},
   "outputs": [
    {
     "data": {
      "text/plain": [
       "array([[1, 2, 3],\n",
       "       [1, 2, 3],\n",
       "       [4, 5, 6],\n",
       "       [4, 5, 6]])"
      ]
     },
     "execution_count": 112,
     "metadata": {},
     "output_type": "execute_result"
    }
   ],
   "source": [
    "np.repeat(a, repeats=2, axis=0)"
   ]
  },
  {
   "cell_type": "code",
   "execution_count": 113,
   "metadata": {},
   "outputs": [
    {
     "data": {
      "text/plain": [
       "array([[1, 1, 2, 2, 3, 3],\n",
       "       [4, 4, 5, 5, 6, 6]])"
      ]
     },
     "execution_count": 113,
     "metadata": {},
     "output_type": "execute_result"
    }
   ],
   "source": [
    "np.repeat(a, repeats=2, axis=1)"
   ]
  },
  {
   "cell_type": "code",
   "execution_count": 114,
   "metadata": {},
   "outputs": [
    {
     "name": "stdout",
     "output_type": "stream",
     "text": [
      "2\n"
     ]
    },
    {
     "data": {
      "text/plain": [
       "array([[1, 2, 3],\n",
       "       [1, 2, 3]])"
      ]
     },
     "execution_count": 114,
     "metadata": {},
     "output_type": "execute_result"
    }
   ],
   "source": [
    "a = np.array([[1, 2, 3]])\n",
    "print(a.ndim)\n",
    "np.repeat(a, repeats=2, axis=0)"
   ]
  },
  {
   "cell_type": "code",
   "execution_count": 115,
   "metadata": {},
   "outputs": [
    {
     "name": "stdout",
     "output_type": "stream",
     "text": [
      "2\n"
     ]
    },
    {
     "data": {
      "text/plain": [
       "array([[1, 1, 2, 2, 3, 3]])"
      ]
     },
     "execution_count": 115,
     "metadata": {},
     "output_type": "execute_result"
    }
   ],
   "source": [
    "a = np.array([[1, 2, 3]])\n",
    "print(a.ndim)\n",
    "np.repeat(a, repeats=2, axis=1)"
   ]
  },
  {
   "cell_type": "markdown",
   "metadata": {},
   "source": [
    "### Find elements based on conditions"
   ]
  },
  {
   "cell_type": "code",
   "execution_count": 116,
   "metadata": {},
   "outputs": [
    {
     "name": "stdout",
     "output_type": "stream",
     "text": [
      "[  1.   2.   3.   4.   5.   6.   7.   8.   9.  10.  11.  12.  13.  14.\n",
      "  15.  16.  17.  18.  19.  20.  21.  22.  23.  24.  25.  26.  27.  28.\n",
      "  29.  30.  31.  32.  33.  34.  35.  36.  37.  38.  39.  40.  41.  42.\n",
      "  43.  44.  45.  46.  47.  48.  49.  50.  51.  52.  53.  54.  55.  56.\n",
      "  57.  58.  59.  60.  61.  62.  63.  64.  65.  66.  67.  68.  69.  70.\n",
      "  71.  72.  73.  74.  75.  76.  77.  78.  79.  80.  81.  82.  83.  84.\n",
      "  85.  86.  87.  88.  89.  90.  91.  92.  93.  94.  95.  96.  97.  98.\n",
      "  99. 100.]\n"
     ]
    }
   ],
   "source": [
    "v1 = np.linspace(1, 100, 100)\n",
    "print(v1)"
   ]
  },
  {
   "cell_type": "code",
   "execution_count": 117,
   "metadata": {},
   "outputs": [
    {
     "name": "stdout",
     "output_type": "stream",
     "text": [
      "[False False False False False False False False False False False False\n",
      " False False False False False False False False False False False False\n",
      " False False False False False False False False False False False False\n",
      " False False False False False False False False False False False False\n",
      " False False  True  True  True  True  True  True  True  True  True  True\n",
      "  True  True  True  True  True  True  True  True  True  True  True  True\n",
      "  True  True  True  True  True  True  True  True  True  True  True  True\n",
      "  True  True  True  True  True  True  True  True  True  True  True  True\n",
      "  True  True  True  True]\n"
     ]
    }
   ],
   "source": [
    "cond = v1 > 50\n",
    "print(cond)"
   ]
  },
  {
   "cell_type": "code",
   "execution_count": 118,
   "metadata": {},
   "outputs": [
    {
     "data": {
      "text/plain": [
       "array([ 51.,  52.,  53.,  54.,  55.,  56.,  57.,  58.,  59.,  60.,  61.,\n",
       "        62.,  63.,  64.,  65.,  66.,  67.,  68.,  69.,  70.,  71.,  72.,\n",
       "        73.,  74.,  75.,  76.,  77.,  78.,  79.,  80.,  81.,  82.,  83.,\n",
       "        84.,  85.,  86.,  87.,  88.,  89.,  90.,  91.,  92.,  93.,  94.,\n",
       "        95.,  96.,  97.,  98.,  99., 100.])"
      ]
     },
     "execution_count": 118,
     "metadata": {},
     "output_type": "execute_result"
    }
   ],
   "source": [
    "v1[cond]"
   ]
  },
  {
   "cell_type": "code",
   "execution_count": 119,
   "metadata": {},
   "outputs": [
    {
     "data": {
      "text/plain": [
       "array([ 1.,  2.,  3.,  4.,  5.,  6.,  7.,  8.,  9., 10., 11., 12., 13.,\n",
       "       14., 15., 16., 17., 18., 19., 20., 21., 22., 23., 24., 25., 26.,\n",
       "       27., 28., 29., 30., 31., 32., 33., 34., 35., 36., 37., 38., 39.,\n",
       "       40., 41., 42., 43., 44., 45., 46., 47., 48., 49.])"
      ]
     },
     "execution_count": 119,
     "metadata": {},
     "output_type": "execute_result"
    }
   ],
   "source": [
    "v1[v1 < 50]"
   ]
  },
  {
   "cell_type": "code",
   "execution_count": 120,
   "metadata": {},
   "outputs": [
    {
     "data": {
      "text/plain": [
       "array([11., 12., 13., 14., 15., 16., 17., 18., 19., 20., 21., 22., 23.,\n",
       "       24., 25., 26., 27., 28., 29., 30., 31., 32., 33., 34., 35., 36.,\n",
       "       37., 38., 39., 40., 41., 42., 43., 44., 45., 46., 47., 48., 49.])"
      ]
     },
     "execution_count": 120,
     "metadata": {},
     "output_type": "execute_result"
    }
   ],
   "source": [
    "v1[(v1 < 50) & (v1 > 10)]"
   ]
  },
  {
   "cell_type": "code",
   "execution_count": 121,
   "metadata": {},
   "outputs": [
    {
     "name": "stdout",
     "output_type": "stream",
     "text": [
      "[[ 8  9 11]\n",
      " [ 4  5  6]\n",
      " [ 7  8  9]]\n"
     ]
    }
   ],
   "source": [
    "print(mat)"
   ]
  },
  {
   "cell_type": "code",
   "execution_count": 122,
   "metadata": {},
   "outputs": [
    {
     "data": {
      "text/plain": [
       "array([ 8,  9, 11,  6,  7,  8,  9])"
      ]
     },
     "execution_count": 122,
     "metadata": {},
     "output_type": "execute_result"
    }
   ],
   "source": [
    "mat[mat > 5]"
   ]
  },
  {
   "cell_type": "markdown",
   "metadata": {},
   "source": [
    "`np.any()`"
   ]
  },
  {
   "cell_type": "code",
   "execution_count": 123,
   "metadata": {},
   "outputs": [
    {
     "name": "stdout",
     "output_type": "stream",
     "text": [
      "[[1 2 3]\n",
      " [4 5 6]\n",
      " [7 8 9]]\n"
     ]
    }
   ],
   "source": [
    "my_matrix = np.array([\n",
    "        [1, 2, 3],\n",
    "        [4, 5, 6],\n",
    "        [7, 8 , 9]\n",
    "    ])\n",
    "print(my_matrix)"
   ]
  },
  {
   "cell_type": "code",
   "execution_count": 124,
   "metadata": {},
   "outputs": [
    {
     "data": {
      "text/plain": [
       "True"
      ]
     },
     "execution_count": 124,
     "metadata": {},
     "output_type": "execute_result"
    }
   ],
   "source": [
    "np.any(my_matrix>7)\n"
   ]
  },
  {
   "cell_type": "markdown",
   "metadata": {},
   "source": [
    "`np.any()` on columns:"
   ]
  },
  {
   "cell_type": "code",
   "execution_count": 125,
   "metadata": {},
   "outputs": [
    {
     "data": {
      "text/plain": [
       "array([False,  True,  True])"
      ]
     },
     "execution_count": 125,
     "metadata": {},
     "output_type": "execute_result"
    }
   ],
   "source": [
    "np.any(my_matrix>7, axis=0)"
   ]
  },
  {
   "cell_type": "markdown",
   "metadata": {},
   "source": [
    "`np.any()` on rows:"
   ]
  },
  {
   "cell_type": "code",
   "execution_count": 126,
   "metadata": {},
   "outputs": [
    {
     "data": {
      "text/plain": [
       "array([False, False,  True])"
      ]
     },
     "execution_count": 126,
     "metadata": {},
     "output_type": "execute_result"
    }
   ],
   "source": [
    "np.any(my_matrix>7, axis=1)"
   ]
  },
  {
   "cell_type": "markdown",
   "metadata": {},
   "source": [
    "Confused about axes? (e.g. `axis=0` for columns, `axis=1` for rows)\n",
    "\n",
    "> Axes are defined for arrays with more than one dimension. A 2-dimensional array has two corresponding axes: the first running vertically downwards across rows (axis 0), and the second running horizontally across columns (axis 1)."
   ]
  },
  {
   "cell_type": "markdown",
   "metadata": {},
   "source": [
    "`np.all()`"
   ]
  },
  {
   "cell_type": "code",
   "execution_count": 127,
   "metadata": {},
   "outputs": [
    {
     "data": {
      "text/plain": [
       "False"
      ]
     },
     "execution_count": 127,
     "metadata": {},
     "output_type": "execute_result"
    }
   ],
   "source": [
    "np.all(my_matrix > 7)"
   ]
  },
  {
   "cell_type": "code",
   "execution_count": 128,
   "metadata": {},
   "outputs": [
    {
     "data": {
      "text/plain": [
       "True"
      ]
     },
     "execution_count": 128,
     "metadata": {},
     "output_type": "execute_result"
    }
   ],
   "source": [
    "np.all(my_matrix > 0)"
   ]
  },
  {
   "cell_type": "markdown",
   "metadata": {},
   "source": [
    "### The treatment of missing values in NumPy"
   ]
  },
  {
   "cell_type": "code",
   "execution_count": 129,
   "metadata": {},
   "outputs": [
    {
     "name": "stdout",
     "output_type": "stream",
     "text": [
      "[ 1.  2.  3.  4. nan  6.  7. nan  8.  9.]\n"
     ]
    }
   ],
   "source": [
    "v = np.array([1, 2, 3, 4, np.nan, 6, 7, np.nan, 8, 9])\n",
    "print(v)"
   ]
  },
  {
   "cell_type": "code",
   "execution_count": 130,
   "metadata": {},
   "outputs": [
    {
     "data": {
      "text/plain": [
       "nan"
      ]
     },
     "execution_count": 130,
     "metadata": {},
     "output_type": "execute_result"
    }
   ],
   "source": [
    "v.mean()"
   ]
  },
  {
   "cell_type": "code",
   "execution_count": 131,
   "metadata": {},
   "outputs": [
    {
     "name": "stdout",
     "output_type": "stream",
     "text": [
      "40.0\n",
      "8\n"
     ]
    },
    {
     "data": {
      "text/plain": [
       "5.0"
      ]
     },
     "execution_count": 131,
     "metadata": {},
     "output_type": "execute_result"
    }
   ],
   "source": [
    "s = np.sum(v[np.logical_not(np.isnan(v))])\n",
    "print(s)\n",
    "n = v[np.logical_not(np.isnan(v))].size\n",
    "print(n)\n",
    "s/n"
   ]
  },
  {
   "cell_type": "code",
   "execution_count": 132,
   "metadata": {},
   "outputs": [
    {
     "name": "stdout",
     "output_type": "stream",
     "text": [
      "[False False False False  True False False  True False False]\n",
      "[ True  True  True  True False  True  True False  True  True]\n"
     ]
    }
   ],
   "source": [
    "print(np.isnan(v))\n",
    "print(np.logical_not(np.isnan(v)))"
   ]
  },
  {
   "cell_type": "markdown",
   "metadata": {},
   "source": [
    "Also you can do:"
   ]
  },
  {
   "cell_type": "code",
   "execution_count": 133,
   "metadata": {},
   "outputs": [
    {
     "data": {
      "text/plain": [
       "5.0"
      ]
     },
     "execution_count": 133,
     "metadata": {},
     "output_type": "execute_result"
    }
   ],
   "source": [
    "v = np.array([1, 2, 3, 4, np.nan, 6, 7, np.nan, 8, 9]) \n",
    "v1 = v[~np.isnan(v)]\n",
    "v1.mean()"
   ]
  },
  {
   "cell_type": "code",
   "execution_count": 134,
   "metadata": {},
   "outputs": [
    {
     "data": {
      "text/plain": [
       "5.0"
      ]
     },
     "execution_count": 134,
     "metadata": {},
     "output_type": "execute_result"
    }
   ],
   "source": [
    "v[~np.isnan(v)].mean()"
   ]
  },
  {
   "cell_type": "markdown",
   "metadata": {},
   "source": [
    "But you should definitelly use `numpy.nanmean()`:"
   ]
  },
  {
   "cell_type": "code",
   "execution_count": 135,
   "metadata": {},
   "outputs": [
    {
     "data": {
      "text/plain": [
       "5.0"
      ]
     },
     "execution_count": 135,
     "metadata": {},
     "output_type": "execute_result"
    }
   ],
   "source": [
    "np.nanmean(v)"
   ]
  },
  {
   "cell_type": "markdown",
   "metadata": {},
   "source": [
    "#### Reading `.txt` data from the local filesystem"
   ]
  },
  {
   "cell_type": "code",
   "execution_count": 136,
   "metadata": {},
   "outputs": [
    {
     "name": "stdout",
     "output_type": "stream",
     "text": [
      "[[ 1.  2.  3.  4.  5.]\n",
      " [ 6.  7.  8.  9. 10.]\n",
      " [11. 12. 13. 14. 15.]]\n"
     ]
    }
   ],
   "source": [
    "filename = os.path.join(data_dir, 'just_numbers.txt')\n",
    "data = np.genfromtxt(filename, delimiter=\",\")\n",
    "print(data)"
   ]
  },
  {
   "cell_type": "markdown",
   "metadata": {},
   "source": [
    "#### Write `.csv` data from the local filesystem"
   ]
  },
  {
   "cell_type": "code",
   "execution_count": 137,
   "metadata": {},
   "outputs": [
    {
     "name": "stdout",
     "output_type": "stream",
     "text": [
      "[ 0  1  2  3  4  5  6  7  8  9 10 11]\n",
      "[[ 0  1  2]\n",
      " [ 3  4  5]\n",
      " [ 6  7  8]\n",
      " [ 9 10 11]]\n"
     ]
    }
   ],
   "source": [
    "data = np.arange(12)\n",
    "print(data)\n",
    "my_array = np.reshape(data, (4, 3))\n",
    "print(my_array)"
   ]
  },
  {
   "cell_type": "code",
   "execution_count": 138,
   "metadata": {},
   "outputs": [],
   "source": [
    "filename = os.path.join(data_dir, 'numpy_array.csv')\n",
    "np.savetxt(filename, my_array, delimiter=',', fmt='%i', newline='\\n')"
   ]
  },
  {
   "cell_type": "markdown",
   "metadata": {},
   "source": [
    "With the Python `csv` module"
   ]
  },
  {
   "cell_type": "code",
   "execution_count": 139,
   "metadata": {},
   "outputs": [
    {
     "name": "stdout",
     "output_type": "stream",
     "text": [
      "[[ 1  2  3  4]\n",
      " [ 5  6  7  8]\n",
      " [ 9 10 11 12]\n",
      " [13 14 15 16]]\n"
     ]
    }
   ],
   "source": [
    "my_array = np.linspace(1,16,16, dtype=int)\n",
    "my_array = np.reshape(my_array, (4,4))\n",
    "print(my_array)\n",
    "import csv\n",
    "f = open(os.path.join(data_dir,'numpy_array_2.csv'),'w')\n",
    "writer = csv.writer(f)\n",
    "for row in my_array:\n",
    "    writer.writerow(row)\n",
    "f.close() "
   ]
  },
  {
   "cell_type": "markdown",
   "metadata": {},
   "source": [
    "#### Type conversion in Numpy"
   ]
  },
  {
   "cell_type": "markdown",
   "metadata": {},
   "source": [
    "`astype()`"
   ]
  },
  {
   "cell_type": "code",
   "execution_count": 140,
   "metadata": {},
   "outputs": [
    {
     "data": {
      "text/plain": [
       "array([[ 1,  2,  3,  4],\n",
       "       [ 5,  6,  7,  8],\n",
       "       [ 9, 10, 11, 12],\n",
       "       [13, 14, 15, 16]])"
      ]
     },
     "execution_count": 140,
     "metadata": {},
     "output_type": "execute_result"
    }
   ],
   "source": [
    "my_array"
   ]
  },
  {
   "cell_type": "code",
   "execution_count": 141,
   "metadata": {},
   "outputs": [
    {
     "data": {
      "text/plain": [
       "array([[ 1,  2,  3,  4],\n",
       "       [ 5,  6,  7,  8],\n",
       "       [ 9, 10, 11, 12],\n",
       "       [13, 14, 15, 16]], dtype=int32)"
      ]
     },
     "execution_count": 141,
     "metadata": {},
     "output_type": "execute_result"
    }
   ],
   "source": [
    "my_array.astype(\"int32\")"
   ]
  },
  {
   "cell_type": "markdown",
   "metadata": {},
   "source": [
    "### 4. Apply a Linear Regression Model w. known coefficients in Numpy"
   ]
  },
  {
   "cell_type": "markdown",
   "metadata": {},
   "source": [
    "Let's say we have a linear regression model of the following form \n",
    "\n",
    "$$Y = \\beta_0 + \\beta_1X_1 + \\beta_2X_2 + \\beta_3X_3$$\n",
    "\n",
    "and known regression coefficients $\\beta_1=1.71$, $\\beta_2=-2.23$, and $\\beta_3=.65$, and $\\beta_0=7.96$\n",
    "\n",
    "Given the following data, how could we make Numpy compute $Y$ - the model predictions - for us?"
   ]
  },
  {
   "cell_type": "markdown",
   "metadata": {},
   "source": [
    "I will use `np.random.random_sample()` to produce data: "
   ]
  },
  {
   "cell_type": "code",
   "execution_count": 142,
   "metadata": {},
   "outputs": [
    {
     "data": {
      "text/plain": [
       "array([0.11971063, 0.80222757, 0.95463658, 0.22229189, 0.55087939,\n",
       "       0.21958895, 0.21684853, 0.05136832, 0.04649963, 0.60489611])"
      ]
     },
     "execution_count": 142,
     "metadata": {},
     "output_type": "execute_result"
    }
   ],
   "source": [
    "np.random.random_sample(10)"
   ]
  },
  {
   "cell_type": "markdown",
   "metadata": {},
   "source": [
    "Here's the design (a.k.a. regressor) matrix:"
   ]
  },
  {
   "cell_type": "code",
   "execution_count": 143,
   "metadata": {
    "scrolled": true
   },
   "outputs": [
    {
     "name": "stdout",
     "output_type": "stream",
     "text": [
      "(100, 3)\n"
     ]
    },
    {
     "data": {
      "text/plain": [
       "array([[9.67393024, 3.99198151, 3.81103882],\n",
       "       [0.41183362, 6.68666028, 0.32179191],\n",
       "       [8.83193974, 0.07058816, 1.36206079],\n",
       "       [0.3191882 , 5.85506281, 8.08618384],\n",
       "       [8.20071873, 0.56943827, 5.37428876],\n",
       "       [8.12817145, 8.98256645, 5.13624712],\n",
       "       [0.84330142, 2.29569639, 7.94760193],\n",
       "       [6.22123037, 4.48113969, 4.2727216 ],\n",
       "       [8.16568821, 5.01729839, 0.84021562],\n",
       "       [9.02222043, 8.06743232, 8.1262066 ],\n",
       "       [5.16602361, 9.82177508, 3.96025133],\n",
       "       [5.36181474, 1.01454152, 9.60940918],\n",
       "       [7.7765282 , 9.70085705, 4.16495104],\n",
       "       [2.92481279, 8.0061028 , 3.60016562],\n",
       "       [9.6504448 , 5.14890349, 4.67470046],\n",
       "       [5.07797642, 9.8844518 , 8.98307704],\n",
       "       [0.69865206, 6.50173116, 6.92025531],\n",
       "       [5.98010462, 4.91959257, 1.17660596],\n",
       "       [9.41292491, 5.9294877 , 9.11216404],\n",
       "       [8.78149334, 0.7004202 , 4.72798585],\n",
       "       [5.69877414, 7.15523717, 3.85791601],\n",
       "       [2.52914444, 7.57701493, 5.79264442],\n",
       "       [9.65585371, 5.98899829, 4.69168556],\n",
       "       [3.02520524, 6.58776519, 8.92013918],\n",
       "       [0.3803091 , 6.96007712, 1.44040584],\n",
       "       [6.7580631 , 1.96287747, 4.04448773],\n",
       "       [3.07093032, 8.92301742, 8.84177663],\n",
       "       [9.89817369, 6.5336188 , 5.73835688],\n",
       "       [4.83531497, 5.73990898, 4.72145836],\n",
       "       [9.30841178, 5.31182498, 9.51264845],\n",
       "       [4.94714009, 4.85471409, 7.99608522],\n",
       "       [3.40014938, 9.48993524, 7.2363461 ],\n",
       "       [9.40638545, 6.64939226, 6.70302906],\n",
       "       [4.052351  , 5.03904967, 8.53079796],\n",
       "       [3.75922173, 5.77516974, 7.96149035],\n",
       "       [0.97553992, 4.66286127, 7.05347577],\n",
       "       [4.21342929, 1.68596778, 9.00969356],\n",
       "       [7.76156864, 6.53091177, 7.67564648],\n",
       "       [1.65108282, 1.87837877, 9.29562936],\n",
       "       [4.17465283, 4.28206068, 3.7520674 ],\n",
       "       [6.47211459, 3.76158319, 6.96443556],\n",
       "       [0.16199912, 8.10323507, 2.19287399],\n",
       "       [6.55403344, 4.26238857, 4.37872425],\n",
       "       [0.26618638, 9.20256846, 3.45835045],\n",
       "       [0.35314283, 0.38956084, 0.69351807],\n",
       "       [0.16606013, 6.36836438, 2.22010519],\n",
       "       [7.63320728, 3.21558486, 6.42001442],\n",
       "       [9.89547732, 5.51456109, 3.70111303],\n",
       "       [0.44170285, 7.70204206, 3.59728913],\n",
       "       [1.39441839, 5.28862323, 2.76829953],\n",
       "       [6.84177457, 2.84597745, 6.73179835],\n",
       "       [8.1086461 , 9.13897352, 9.79974957],\n",
       "       [8.24158976, 4.27812059, 8.60902416],\n",
       "       [5.01091093, 9.60702953, 8.5500407 ],\n",
       "       [4.0531579 , 6.44512889, 9.20921758],\n",
       "       [0.89948695, 9.84998297, 3.99210082],\n",
       "       [8.45068112, 4.56521068, 9.14762957],\n",
       "       [0.8839096 , 3.8147369 , 4.44471251],\n",
       "       [8.86393702, 4.45002586, 4.52821208],\n",
       "       [5.15045092, 4.08951023, 0.0988662 ],\n",
       "       [8.34559309, 6.07025066, 1.58183561],\n",
       "       [9.07216231, 1.66756311, 8.58005847],\n",
       "       [5.82424118, 3.21126552, 4.13457016],\n",
       "       [8.59967448, 1.10547236, 9.26738609],\n",
       "       [8.98155643, 7.0240175 , 5.52772647],\n",
       "       [2.84710422, 5.96394582, 0.51897917],\n",
       "       [4.37469415, 5.88584049, 4.14557008],\n",
       "       [2.90535986, 9.16993337, 7.1117772 ],\n",
       "       [4.87572627, 7.90899109, 8.40364128],\n",
       "       [1.90245768, 3.23280184, 2.06042764],\n",
       "       [0.56975659, 5.41620494, 0.74004577],\n",
       "       [1.78380459, 8.93691337, 4.93456825],\n",
       "       [8.74258106, 2.36537796, 8.43161398],\n",
       "       [4.43762513, 6.39520371, 6.6483241 ],\n",
       "       [4.52385992, 8.42388365, 9.28594403],\n",
       "       [6.99911622, 7.85266986, 4.92819585],\n",
       "       [5.55183171, 9.1390797 , 6.62079297],\n",
       "       [5.46654839, 3.5497921 , 5.45324966],\n",
       "       [5.68456417, 3.46916597, 0.52736739],\n",
       "       [7.47823828, 2.61740157, 9.49120945],\n",
       "       [4.96392755, 4.94358501, 9.29378392],\n",
       "       [1.07954065, 9.10884307, 6.89398336],\n",
       "       [5.15018884, 0.10405841, 3.63847483],\n",
       "       [9.75717644, 3.51897973, 5.03706355],\n",
       "       [6.59596811, 6.00668178, 4.91253305],\n",
       "       [4.20126779, 0.22425274, 1.3473516 ],\n",
       "       [7.56022695, 3.09752014, 9.67474047],\n",
       "       [5.40150584, 3.20550007, 5.41147185],\n",
       "       [6.02469894, 2.67286879, 5.08154688],\n",
       "       [9.02117331, 2.02694899, 2.95894858],\n",
       "       [8.52865786, 9.9972686 , 7.34526908],\n",
       "       [2.24036879, 5.01717197, 5.5740025 ],\n",
       "       [2.19957959, 1.0703594 , 2.20870903],\n",
       "       [8.17222123, 5.08048634, 8.27146719],\n",
       "       [4.91654685, 6.57776308, 2.10391135],\n",
       "       [4.08305332, 1.8031773 , 7.06280147],\n",
       "       [8.94419504, 1.24111714, 6.90500315],\n",
       "       [5.91089568, 1.8318559 , 0.42064275],\n",
       "       [9.41307089, 9.73106601, 1.81330825],\n",
       "       [4.00696599, 2.07066999, 2.86602521]])"
      ]
     },
     "execution_count": 143,
     "metadata": {},
     "output_type": "execute_result"
    }
   ],
   "source": [
    "# - betas: intercept first\n",
    "betas = np.array([7.96, 1.71, -2.23, .65])\n",
    "x1 = np.random.random_sample(100)*10\n",
    "x2 = np.random.random_sample(100)*10\n",
    "x3 = np.random.random_sample(100)*10\n",
    "features = np.array([x1, x2, x3]).T\n",
    "print(features.shape)\n",
    "features"
   ]
  },
  {
   "cell_type": "code",
   "execution_count": 144,
   "metadata": {},
   "outputs": [
    {
     "name": "stdout",
     "output_type": "stream",
     "text": [
      "(100,)\n",
      "[18.07747718 -6.03785221 23.79054486  0.70504125 24.20666938  5.16661063\n",
      "  9.44858373 11.38263145 11.28089158 10.67965716 -2.5344947  21.11239159\n",
      "  2.33217017 -2.55207172 16.01876111  0.44001223 -0.84599951  7.98008135\n",
      " 16.75625066 24.48760738  4.25637031 -0.84668743 14.16563928  4.24047504\n",
      " -5.97437963 17.76798817 -0.93988319 14.04583905  6.49733952 18.21523594\n",
      " 10.79105253 -2.68467517 13.57374326  9.19745813  6.68460938  3.81475187\n",
      " 17.26155676 11.65751933 12.63672604  7.98850484 15.16586854 -8.40782762\n",
      " 12.50844144 -9.85862117  8.14594032 -4.51442137 18.0150396  14.98951845\n",
      " -6.12200398  0.35022034 17.68857374  7.81571109 18.10877529  0.6625083\n",
      "  6.50425399 -9.87247381 18.17620411  3.85368525 16.13711249  7.7119263\n",
      "  9.72249835 25.33176982 13.44580092 26.22404094 11.24792466 -0.1337145\n",
      "  5.00992325 -2.89813087  4.12280863  5.3433325  -2.66282351 -5.7115416\n",
      " 23.11556986  5.60844537  2.94640354  5.62036226  1.37699991 12.93637364\n",
      " 10.28715342 21.08026811 11.46508108 -6.02561634 18.89978132 20.07153822\n",
      "  9.03735159 15.51986284 20.26909948 13.56576651 15.60474326 20.78942668\n",
      "  5.02452087  4.22583876 10.77004051 15.98146744  3.06642584 15.51175675\n",
      " 24.97513437 14.25601074  3.53472439 12.05723414]\n"
     ]
    }
   ],
   "source": [
    "def linear_predict(design_matrix, coeffs):\n",
    "    # - add a column of ones for the intercept term\n",
    "    features_with_intercept = np.hstack((np.ones((design_matrix.shape[0], 1)), design_matrix))\n",
    "    # - compute the predictions\n",
    "    predictions = np.dot(features_with_intercept, coeffs)    \n",
    "    return(predictions)\n",
    "\n",
    "# - test\n",
    "predictions = linear_predict(features, betas)\n",
    "print(predictions.shape)\n",
    "print(predictions)"
   ]
  },
  {
   "attachments": {},
   "cell_type": "markdown",
   "metadata": {},
   "source": [
    "Let's analyse this ^^ step by step:"
   ]
  },
  {
   "cell_type": "code",
   "execution_count": 145,
   "metadata": {
    "scrolled": true
   },
   "outputs": [
    {
     "data": {
      "text/plain": [
       "array([[1.],\n",
       "       [1.],\n",
       "       [1.],\n",
       "       [1.],\n",
       "       [1.],\n",
       "       [1.],\n",
       "       [1.],\n",
       "       [1.],\n",
       "       [1.],\n",
       "       [1.],\n",
       "       [1.],\n",
       "       [1.],\n",
       "       [1.],\n",
       "       [1.],\n",
       "       [1.],\n",
       "       [1.],\n",
       "       [1.],\n",
       "       [1.],\n",
       "       [1.],\n",
       "       [1.],\n",
       "       [1.],\n",
       "       [1.],\n",
       "       [1.],\n",
       "       [1.],\n",
       "       [1.],\n",
       "       [1.],\n",
       "       [1.],\n",
       "       [1.],\n",
       "       [1.],\n",
       "       [1.],\n",
       "       [1.],\n",
       "       [1.],\n",
       "       [1.],\n",
       "       [1.],\n",
       "       [1.],\n",
       "       [1.],\n",
       "       [1.],\n",
       "       [1.],\n",
       "       [1.],\n",
       "       [1.],\n",
       "       [1.],\n",
       "       [1.],\n",
       "       [1.],\n",
       "       [1.],\n",
       "       [1.],\n",
       "       [1.],\n",
       "       [1.],\n",
       "       [1.],\n",
       "       [1.],\n",
       "       [1.],\n",
       "       [1.],\n",
       "       [1.],\n",
       "       [1.],\n",
       "       [1.],\n",
       "       [1.],\n",
       "       [1.],\n",
       "       [1.],\n",
       "       [1.],\n",
       "       [1.],\n",
       "       [1.],\n",
       "       [1.],\n",
       "       [1.],\n",
       "       [1.],\n",
       "       [1.],\n",
       "       [1.],\n",
       "       [1.],\n",
       "       [1.],\n",
       "       [1.],\n",
       "       [1.],\n",
       "       [1.],\n",
       "       [1.],\n",
       "       [1.],\n",
       "       [1.],\n",
       "       [1.],\n",
       "       [1.],\n",
       "       [1.],\n",
       "       [1.],\n",
       "       [1.],\n",
       "       [1.],\n",
       "       [1.],\n",
       "       [1.],\n",
       "       [1.],\n",
       "       [1.],\n",
       "       [1.],\n",
       "       [1.],\n",
       "       [1.],\n",
       "       [1.],\n",
       "       [1.],\n",
       "       [1.],\n",
       "       [1.],\n",
       "       [1.],\n",
       "       [1.],\n",
       "       [1.],\n",
       "       [1.],\n",
       "       [1.],\n",
       "       [1.],\n",
       "       [1.],\n",
       "       [1.],\n",
       "       [1.],\n",
       "       [1.]])"
      ]
     },
     "execution_count": 145,
     "metadata": {},
     "output_type": "execute_result"
    }
   ],
   "source": [
    "np.ones((features.shape[0], 1))"
   ]
  },
  {
   "cell_type": "code",
   "execution_count": 146,
   "metadata": {
    "scrolled": true
   },
   "outputs": [
    {
     "name": "stdout",
     "output_type": "stream",
     "text": [
      "[[1.         9.67393024 3.99198151 3.81103882]\n",
      " [1.         0.41183362 6.68666028 0.32179191]\n",
      " [1.         8.83193974 0.07058816 1.36206079]\n",
      " [1.         0.3191882  5.85506281 8.08618384]\n",
      " [1.         8.20071873 0.56943827 5.37428876]\n",
      " [1.         8.12817145 8.98256645 5.13624712]\n",
      " [1.         0.84330142 2.29569639 7.94760193]\n",
      " [1.         6.22123037 4.48113969 4.2727216 ]\n",
      " [1.         8.16568821 5.01729839 0.84021562]\n",
      " [1.         9.02222043 8.06743232 8.1262066 ]\n",
      " [1.         5.16602361 9.82177508 3.96025133]\n",
      " [1.         5.36181474 1.01454152 9.60940918]\n",
      " [1.         7.7765282  9.70085705 4.16495104]\n",
      " [1.         2.92481279 8.0061028  3.60016562]\n",
      " [1.         9.6504448  5.14890349 4.67470046]\n",
      " [1.         5.07797642 9.8844518  8.98307704]\n",
      " [1.         0.69865206 6.50173116 6.92025531]\n",
      " [1.         5.98010462 4.91959257 1.17660596]\n",
      " [1.         9.41292491 5.9294877  9.11216404]\n",
      " [1.         8.78149334 0.7004202  4.72798585]\n",
      " [1.         5.69877414 7.15523717 3.85791601]\n",
      " [1.         2.52914444 7.57701493 5.79264442]\n",
      " [1.         9.65585371 5.98899829 4.69168556]\n",
      " [1.         3.02520524 6.58776519 8.92013918]\n",
      " [1.         0.3803091  6.96007712 1.44040584]\n",
      " [1.         6.7580631  1.96287747 4.04448773]\n",
      " [1.         3.07093032 8.92301742 8.84177663]\n",
      " [1.         9.89817369 6.5336188  5.73835688]\n",
      " [1.         4.83531497 5.73990898 4.72145836]\n",
      " [1.         9.30841178 5.31182498 9.51264845]\n",
      " [1.         4.94714009 4.85471409 7.99608522]\n",
      " [1.         3.40014938 9.48993524 7.2363461 ]\n",
      " [1.         9.40638545 6.64939226 6.70302906]\n",
      " [1.         4.052351   5.03904967 8.53079796]\n",
      " [1.         3.75922173 5.77516974 7.96149035]\n",
      " [1.         0.97553992 4.66286127 7.05347577]\n",
      " [1.         4.21342929 1.68596778 9.00969356]\n",
      " [1.         7.76156864 6.53091177 7.67564648]\n",
      " [1.         1.65108282 1.87837877 9.29562936]\n",
      " [1.         4.17465283 4.28206068 3.7520674 ]\n",
      " [1.         6.47211459 3.76158319 6.96443556]\n",
      " [1.         0.16199912 8.10323507 2.19287399]\n",
      " [1.         6.55403344 4.26238857 4.37872425]\n",
      " [1.         0.26618638 9.20256846 3.45835045]\n",
      " [1.         0.35314283 0.38956084 0.69351807]\n",
      " [1.         0.16606013 6.36836438 2.22010519]\n",
      " [1.         7.63320728 3.21558486 6.42001442]\n",
      " [1.         9.89547732 5.51456109 3.70111303]\n",
      " [1.         0.44170285 7.70204206 3.59728913]\n",
      " [1.         1.39441839 5.28862323 2.76829953]\n",
      " [1.         6.84177457 2.84597745 6.73179835]\n",
      " [1.         8.1086461  9.13897352 9.79974957]\n",
      " [1.         8.24158976 4.27812059 8.60902416]\n",
      " [1.         5.01091093 9.60702953 8.5500407 ]\n",
      " [1.         4.0531579  6.44512889 9.20921758]\n",
      " [1.         0.89948695 9.84998297 3.99210082]\n",
      " [1.         8.45068112 4.56521068 9.14762957]\n",
      " [1.         0.8839096  3.8147369  4.44471251]\n",
      " [1.         8.86393702 4.45002586 4.52821208]\n",
      " [1.         5.15045092 4.08951023 0.0988662 ]\n",
      " [1.         8.34559309 6.07025066 1.58183561]\n",
      " [1.         9.07216231 1.66756311 8.58005847]\n",
      " [1.         5.82424118 3.21126552 4.13457016]\n",
      " [1.         8.59967448 1.10547236 9.26738609]\n",
      " [1.         8.98155643 7.0240175  5.52772647]\n",
      " [1.         2.84710422 5.96394582 0.51897917]\n",
      " [1.         4.37469415 5.88584049 4.14557008]\n",
      " [1.         2.90535986 9.16993337 7.1117772 ]\n",
      " [1.         4.87572627 7.90899109 8.40364128]\n",
      " [1.         1.90245768 3.23280184 2.06042764]\n",
      " [1.         0.56975659 5.41620494 0.74004577]\n",
      " [1.         1.78380459 8.93691337 4.93456825]\n",
      " [1.         8.74258106 2.36537796 8.43161398]\n",
      " [1.         4.43762513 6.39520371 6.6483241 ]\n",
      " [1.         4.52385992 8.42388365 9.28594403]\n",
      " [1.         6.99911622 7.85266986 4.92819585]\n",
      " [1.         5.55183171 9.1390797  6.62079297]\n",
      " [1.         5.46654839 3.5497921  5.45324966]\n",
      " [1.         5.68456417 3.46916597 0.52736739]\n",
      " [1.         7.47823828 2.61740157 9.49120945]\n",
      " [1.         4.96392755 4.94358501 9.29378392]\n",
      " [1.         1.07954065 9.10884307 6.89398336]\n",
      " [1.         5.15018884 0.10405841 3.63847483]\n",
      " [1.         9.75717644 3.51897973 5.03706355]\n",
      " [1.         6.59596811 6.00668178 4.91253305]\n",
      " [1.         4.20126779 0.22425274 1.3473516 ]\n",
      " [1.         7.56022695 3.09752014 9.67474047]\n",
      " [1.         5.40150584 3.20550007 5.41147185]\n",
      " [1.         6.02469894 2.67286879 5.08154688]\n",
      " [1.         9.02117331 2.02694899 2.95894858]\n",
      " [1.         8.52865786 9.9972686  7.34526908]\n",
      " [1.         2.24036879 5.01717197 5.5740025 ]\n",
      " [1.         2.19957959 1.0703594  2.20870903]\n",
      " [1.         8.17222123 5.08048634 8.27146719]\n",
      " [1.         4.91654685 6.57776308 2.10391135]\n",
      " [1.         4.08305332 1.8031773  7.06280147]\n",
      " [1.         8.94419504 1.24111714 6.90500315]\n",
      " [1.         5.91089568 1.8318559  0.42064275]\n",
      " [1.         9.41307089 9.73106601 1.81330825]\n",
      " [1.         4.00696599 2.07066999 2.86602521]]\n"
     ]
    }
   ],
   "source": [
    "aug_features = np.hstack((np.ones((features.shape[0], 1)), features))\n",
    "print(aug_features)"
   ]
  },
  {
   "cell_type": "code",
   "execution_count": 147,
   "metadata": {},
   "outputs": [
    {
     "data": {
      "text/plain": [
       "array([ 7.96,  1.71, -2.23,  0.65])"
      ]
     },
     "execution_count": 147,
     "metadata": {},
     "output_type": "execute_result"
    }
   ],
   "source": [
    "betas"
   ]
  },
  {
   "cell_type": "code",
   "execution_count": 148,
   "metadata": {},
   "outputs": [
    {
     "data": {
      "text/plain": [
       "array([18.07747718, -6.03785221, 23.79054486,  0.70504125, 24.20666938,\n",
       "        5.16661063,  9.44858373, 11.38263145, 11.28089158, 10.67965716,\n",
       "       -2.5344947 , 21.11239159,  2.33217017, -2.55207172, 16.01876111,\n",
       "        0.44001223, -0.84599951,  7.98008135, 16.75625066, 24.48760738,\n",
       "        4.25637031, -0.84668743, 14.16563928,  4.24047504, -5.97437963,\n",
       "       17.76798817, -0.93988319, 14.04583905,  6.49733952, 18.21523594,\n",
       "       10.79105253, -2.68467517, 13.57374326,  9.19745813,  6.68460938,\n",
       "        3.81475187, 17.26155676, 11.65751933, 12.63672604,  7.98850484,\n",
       "       15.16586854, -8.40782762, 12.50844144, -9.85862117,  8.14594032,\n",
       "       -4.51442137, 18.0150396 , 14.98951845, -6.12200398,  0.35022034,\n",
       "       17.68857374,  7.81571109, 18.10877529,  0.6625083 ,  6.50425399,\n",
       "       -9.87247381, 18.17620411,  3.85368525, 16.13711249,  7.7119263 ,\n",
       "        9.72249835, 25.33176982, 13.44580092, 26.22404094, 11.24792466,\n",
       "       -0.1337145 ,  5.00992325, -2.89813087,  4.12280863,  5.3433325 ,\n",
       "       -2.66282351, -5.7115416 , 23.11556986,  5.60844537,  2.94640354,\n",
       "        5.62036226,  1.37699991, 12.93637364, 10.28715342, 21.08026811,\n",
       "       11.46508108, -6.02561634, 18.89978132, 20.07153822,  9.03735159,\n",
       "       15.51986284, 20.26909948, 13.56576651, 15.60474326, 20.78942668,\n",
       "        5.02452087,  4.22583876, 10.77004051, 15.98146744,  3.06642584,\n",
       "       15.51175675, 24.97513437, 14.25601074,  3.53472439, 12.05723414])"
      ]
     },
     "execution_count": 148,
     "metadata": {},
     "output_type": "execute_result"
    }
   ],
   "source": [
    "np.dot(aug_features, betas)  "
   ]
  },
  {
   "cell_type": "markdown",
   "metadata": {},
   "source": [
    "### 5. Numpy and Pandas"
   ]
  },
  {
   "cell_type": "code",
   "execution_count": 149,
   "metadata": {},
   "outputs": [
    {
     "data": {
      "text/html": [
       "<div>\n",
       "<style scoped>\n",
       "    .dataframe tbody tr th:only-of-type {\n",
       "        vertical-align: middle;\n",
       "    }\n",
       "\n",
       "    .dataframe tbody tr th {\n",
       "        vertical-align: top;\n",
       "    }\n",
       "\n",
       "    .dataframe thead th {\n",
       "        text-align: right;\n",
       "    }\n",
       "</style>\n",
       "<table border=\"1\" class=\"dataframe\">\n",
       "  <thead>\n",
       "    <tr style=\"text-align: right;\">\n",
       "      <th></th>\n",
       "      <th>FILM</th>\n",
       "      <th>RottenTomatoes</th>\n",
       "      <th>Metacritic</th>\n",
       "      <th>IMDB</th>\n",
       "      <th>Fandango_Stars</th>\n",
       "    </tr>\n",
       "  </thead>\n",
       "  <tbody>\n",
       "    <tr>\n",
       "      <th>0</th>\n",
       "      <td>Avengers: Age of Ultron (2015)</td>\n",
       "      <td>74</td>\n",
       "      <td>66</td>\n",
       "      <td>7.8</td>\n",
       "      <td>5.0</td>\n",
       "    </tr>\n",
       "    <tr>\n",
       "      <th>1</th>\n",
       "      <td>Cinderella (2015)</td>\n",
       "      <td>85</td>\n",
       "      <td>67</td>\n",
       "      <td>7.1</td>\n",
       "      <td>5.0</td>\n",
       "    </tr>\n",
       "    <tr>\n",
       "      <th>2</th>\n",
       "      <td>Ant-Man (2015)</td>\n",
       "      <td>80</td>\n",
       "      <td>64</td>\n",
       "      <td>7.8</td>\n",
       "      <td>5.0</td>\n",
       "    </tr>\n",
       "    <tr>\n",
       "      <th>3</th>\n",
       "      <td>Do You Believe? (2015)</td>\n",
       "      <td>18</td>\n",
       "      <td>22</td>\n",
       "      <td>5.4</td>\n",
       "      <td>5.0</td>\n",
       "    </tr>\n",
       "    <tr>\n",
       "      <th>4</th>\n",
       "      <td>Hot Tub Time Machine 2 (2015)</td>\n",
       "      <td>14</td>\n",
       "      <td>29</td>\n",
       "      <td>5.1</td>\n",
       "      <td>3.5</td>\n",
       "    </tr>\n",
       "  </tbody>\n",
       "</table>\n",
       "</div>"
      ],
      "text/plain": [
       "                             FILM  RottenTomatoes  Metacritic  IMDB  \\\n",
       "0  Avengers: Age of Ultron (2015)              74          66   7.8   \n",
       "1               Cinderella (2015)              85          67   7.1   \n",
       "2                  Ant-Man (2015)              80          64   7.8   \n",
       "3          Do You Believe? (2015)              18          22   5.4   \n",
       "4   Hot Tub Time Machine 2 (2015)              14          29   5.1   \n",
       "\n",
       "   Fandango_Stars  \n",
       "0             5.0  \n",
       "1             5.0  \n",
       "2             5.0  \n",
       "3             5.0  \n",
       "4             3.5  "
      ]
     },
     "execution_count": 149,
     "metadata": {},
     "output_type": "execute_result"
    }
   ],
   "source": [
    "data_set = pd.read_csv(os.path.join(data_dir, \"MovieRatings.csv\"),\n",
    "                       index_col=0)\n",
    "data_set.head()"
   ]
  },
  {
   "cell_type": "code",
   "execution_count": 150,
   "metadata": {},
   "outputs": [
    {
     "data": {
      "text/plain": [
       "0    74\n",
       "1    85\n",
       "2    80\n",
       "3    18\n",
       "4    14\n",
       "5    63\n",
       "6    42\n",
       "7    86\n",
       "8    99\n",
       "9    89\n",
       "Name: RottenTomatoes, dtype: int64"
      ]
     },
     "execution_count": 150,
     "metadata": {},
     "output_type": "execute_result"
    }
   ],
   "source": [
    "rt = data_set.iloc[:, 1]\n",
    "rt[0:10]"
   ]
  },
  {
   "cell_type": "code",
   "execution_count": 151,
   "metadata": {},
   "outputs": [
    {
     "data": {
      "text/plain": [
       "60.84931506849315"
      ]
     },
     "execution_count": 151,
     "metadata": {},
     "output_type": "execute_result"
    }
   ],
   "source": [
    "rt.mean()"
   ]
  },
  {
   "cell_type": "code",
   "execution_count": 152,
   "metadata": {},
   "outputs": [
    {
     "data": {
      "text/plain": [
       "63.5"
      ]
     },
     "execution_count": 152,
     "metadata": {},
     "output_type": "execute_result"
    }
   ],
   "source": [
    "rt.median()"
   ]
  },
  {
   "cell_type": "code",
   "execution_count": 153,
   "metadata": {},
   "outputs": [
    {
     "data": {
      "text/plain": [
       "910.1564478034954"
      ]
     },
     "execution_count": 153,
     "metadata": {},
     "output_type": "execute_result"
    }
   ],
   "source": [
    "rt.var()"
   ]
  },
  {
   "cell_type": "code",
   "execution_count": 154,
   "metadata": {},
   "outputs": [
    {
     "data": {
      "text/plain": [
       "30.168799243647324"
      ]
     },
     "execution_count": 154,
     "metadata": {},
     "output_type": "execute_result"
    }
   ],
   "source": [
    "rt.std()"
   ]
  },
  {
   "cell_type": "code",
   "execution_count": 155,
   "metadata": {},
   "outputs": [
    {
     "data": {
      "text/plain": [
       "0       75\n",
       "1       86\n",
       "2       81\n",
       "3       19\n",
       "4       15\n",
       "      ... \n",
       "141     88\n",
       "142     98\n",
       "143     98\n",
       "144    101\n",
       "145     88\n",
       "Name: RottenTomatoes, Length: 146, dtype: int64"
      ]
     },
     "execution_count": 155,
     "metadata": {},
     "output_type": "execute_result"
    }
   ],
   "source": [
    "rt + 1"
   ]
  },
  {
   "cell_type": "markdown",
   "metadata": {},
   "source": [
    "You can do that in the DataFrame directly:"
   ]
  },
  {
   "cell_type": "code",
   "execution_count": 156,
   "metadata": {},
   "outputs": [
    {
     "name": "stdout",
     "output_type": "stream",
     "text": [
      "                             FILM  RottenTomatoes  Metacritic  IMDB  \\\n",
      "0  Avengers: Age of Ultron (2015)              74          66   7.8   \n",
      "1               Cinderella (2015)              85          67   7.1   \n",
      "2                  Ant-Man (2015)              80          64   7.8   \n",
      "3          Do You Believe? (2015)              18          22   5.4   \n",
      "4   Hot Tub Time Machine 2 (2015)              14          29   5.1   \n",
      "\n",
      "   Fandango_Stars  \n",
      "0             5.0  \n",
      "1             5.0  \n",
      "2             5.0  \n",
      "3             5.0  \n",
      "4             3.5  \n",
      "                             FILM  RottenTomatoes  Metacritic  IMDB  \\\n",
      "0  Avengers: Age of Ultron (2015)              75          66   7.8   \n",
      "1               Cinderella (2015)              86          67   7.1   \n",
      "2                  Ant-Man (2015)              81          64   7.8   \n",
      "3          Do You Believe? (2015)              19          22   5.4   \n",
      "4   Hot Tub Time Machine 2 (2015)              15          29   5.1   \n",
      "\n",
      "   Fandango_Stars  \n",
      "0             5.0  \n",
      "1             5.0  \n",
      "2             5.0  \n",
      "3             5.0  \n",
      "4             3.5  \n"
     ]
    }
   ],
   "source": [
    "print(data_set.head(5))\n",
    "data_set['RottenTomatoes'] = data_set['RottenTomatoes'] + 1\n",
    "print(data_set.head(5))"
   ]
  },
  {
   "cell_type": "code",
   "execution_count": 157,
   "metadata": {},
   "outputs": [
    {
     "data": {
      "text/plain": [
       "pandas.core.series.Series"
      ]
     },
     "execution_count": 157,
     "metadata": {},
     "output_type": "execute_result"
    }
   ],
   "source": [
    "type(rt)"
   ]
  },
  {
   "cell_type": "markdown",
   "metadata": {},
   "source": [
    "Essentially, you can think of Pandas Series are Numpy arrays with indexes!"
   ]
  },
  {
   "cell_type": "markdown",
   "metadata": {},
   "source": [
    "**N.B.** Excellent read: [Introduction to Pandas and NumPy from Codecademy](https://www.codecademy.com/article/introduction-to-numpy-and-pandas)"
   ]
  },
  {
   "attachments": {},
   "cell_type": "markdown",
   "metadata": {},
   "source": [
    "### Readings and Videos\n",
    "- [Bill Lubanovic, Introducing Python, 1st Edition](https://www.oreilly.com/library/view/introducing-python-2nd/9781492051374/), Chapter 4.\n",
    "- [freeCodeCamp.org: Python NumPy Tutorial for Beginners](https://www.youtube.com/watch?v=QUT1VHiLmmI)\n",
    "- [Rob Mulla: A Gentle Introduction to Pandas Data Analysis (on Kaggle)](https://www.youtube.com/watch?v=_Eb0utIRdkw)"
   ]
  },
  {
   "cell_type": "markdown",
   "metadata": {},
   "source": [
    "DataKolektiv, 2022/23.\n",
    "\n",
    "[hello@datakolektiv.com](mailto:goran.milovanovic@datakolektiv.com)\n",
    "\n",
    "![](../img/DK_Logo_100.png)"
   ]
  },
  {
   "cell_type": "markdown",
   "metadata": {},
   "source": [
    "<font size=1>License: [GPLv3](https://www.gnu.org/licenses/gpl-3.0.txt) This Notebook is free software: you can redistribute it and/or modify it under the terms of the GNU General Public License as published by the Free Software Foundation, either version 3 of the License, or (at your option) any later version. This Notebook is distributed in the hope that it will be useful, but WITHOUT ANY WARRANTY; without even the implied warranty of MERCHANTABILITY or FITNESS FOR A PARTICULAR PURPOSE. See the GNU General Public License for more details. You should have received a copy of the GNU General Public License along with this Notebook. If not, see http://www.gnu.org/licenses/.</font>"
   ]
  }
 ],
 "metadata": {
  "kernelspec": {
   "display_name": "Python 3 (ipykernel)",
   "language": "python",
   "name": "python3"
  },
  "language_info": {
   "codemirror_mode": {
    "name": "ipython",
    "version": 3
   },
   "file_extension": ".py",
   "mimetype": "text/x-python",
   "name": "python",
   "nbconvert_exporter": "python",
   "pygments_lexer": "ipython3",
   "version": "3.9.16"
  },
  "vscode": {
   "interpreter": {
    "hash": "1cd3978be751434017ac2cef9d5b4683bcdb1c1d31a8fa91ec8c7c13b7681774"
   }
  }
 },
 "nbformat": 4,
 "nbformat_minor": 2
}
