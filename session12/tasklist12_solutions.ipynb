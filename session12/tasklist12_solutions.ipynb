{
 "cells": [
  {
   "attachments": {},
   "cell_type": "markdown",
   "id": "67b65bdc",
   "metadata": {},
   "source": [
    "# DATA SCIENCE SESSIONS VOL. 3\n",
    "### A Foundational Python Data Science Course\n",
    "## Tasklist 12: Statistical Hypothesis Testing + Correlation(s).\n",
    "\n",
    "[&larr; Back to course webpage](https://datakolektiv.com/)\n",
    "\n",
    "Feedback should be send to [goran.milovanovic@datakolektiv.com](mailto:goran.milovanovic@datakolektiv.com). \n",
    "\n",
    "These notebooks accompany the DATA SCIENCE SESSIONS VOL. 3 :: A Foundational Python Data Science Course."
   ]
  },
  {
   "cell_type": "markdown",
   "id": "aa4dbdf7",
   "metadata": {},
   "source": [
    "![](../img/IntroRDataScience_NonTech-1.jpg)"
   ]
  },
  {
   "cell_type": "markdown",
   "id": "e5e97431",
   "metadata": {},
   "source": [
    "### Lecturers\n",
    "\n",
    "[Goran S. Milovanović, PhD, DataKolektiv, Chief Scientist & Owner](https://www.linkedin.com/in/gmilovanovic/)\n",
    "\n",
    "[Aleksandar Cvetković, PhD, DataKolektiv, Consultant](https://www.linkedin.com/in/alegzndr/)\n",
    "\n",
    "[Ilija Lazarević, MA, DataKolektiv, Consultant](https://www.linkedin.com/in/ilijalazarevic/)"
   ]
  },
  {
   "cell_type": "markdown",
   "id": "2d9da7dd",
   "metadata": {},
   "source": [
    "![](../img/DK_Logo_100.png)"
   ]
  },
  {
   "cell_type": "markdown",
   "id": "f52c2322",
   "metadata": {},
   "source": [
    "***"
   ]
  },
  {
   "attachments": {},
   "cell_type": "markdown",
   "id": "fc6f6683",
   "metadata": {},
   "source": [
    "### Intro \n",
    "\n",
    "The goal of this Tasklist is to consolidate our knowledge of applied Probability Theory so to be able to formulate and solve problems in the Statistical Hypothesis Framework that we have covered in our Session 12. Later on we will touch upon correlation(s) again. Let's do it: "
   ]
  },
  {
   "attachments": {},
   "cell_type": "markdown",
   "id": "c5b40a79",
   "metadata": {},
   "source": [
    "Import the Python modules that you need (hint: check Session 12):"
   ]
  },
  {
   "cell_type": "code",
   "execution_count": 1,
   "id": "84ef5bc1",
   "metadata": {},
   "outputs": [],
   "source": [
    "### your code here ###\n",
    "import numpy as np\n",
    "import pandas as pd\n",
    "import scipy"
   ]
  },
  {
   "attachments": {},
   "cell_type": "markdown",
   "id": "6523ac68",
   "metadata": {},
   "source": [
    "**N.B.** We have some datasets prepared for this task list, found in the `_data` directory."
   ]
  },
  {
   "cell_type": "code",
   "execution_count": 2,
   "id": "613bb18d",
   "metadata": {},
   "outputs": [
    {
     "data": {
      "text/plain": [
       "['chi_square_table.csv']"
      ]
     },
     "execution_count": 2,
     "metadata": {},
     "output_type": "execute_result"
    }
   ],
   "source": [
    "import os\n",
    "work_dir = os.getcwd()\n",
    "data_dir = os.path.join(work_dir, \"_data\")\n",
    "os.listdir(data_dir)"
   ]
  },
  {
   "attachments": {},
   "cell_type": "markdown",
   "id": "af1584f6",
   "metadata": {},
   "source": [
    "**01.** We will use the `chi_square_table.csv` dataset here.Read through the secion on $\\chi^2$ distrubution and the related $\\chi^2$ statistical test in Session 12 again. Using only Numpy, Pandas, and SciPy, perform a $\\chi^2$ test for the following data set (you will need to compute he test stastics by hand - use Numpy). Compute the probability of Type I Error (the $p$ value), report the test statistic, the $p$ value, and make a conclusion."
   ]
  },
  {
   "cell_type": "code",
   "execution_count": 11,
   "id": "356a64b8",
   "metadata": {},
   "outputs": [
    {
     "data": {
      "text/html": [
       "<div>\n",
       "<style scoped>\n",
       "    .dataframe tbody tr th:only-of-type {\n",
       "        vertical-align: middle;\n",
       "    }\n",
       "\n",
       "    .dataframe tbody tr th {\n",
       "        vertical-align: top;\n",
       "    }\n",
       "\n",
       "    .dataframe thead th {\n",
       "        text-align: right;\n",
       "    }\n",
       "</style>\n",
       "<table border=\"1\" class=\"dataframe\">\n",
       "  <thead>\n",
       "    <tr style=\"text-align: right;\">\n",
       "      <th></th>\n",
       "      <th>expected</th>\n",
       "      <th>observed</th>\n",
       "    </tr>\n",
       "  </thead>\n",
       "  <tbody>\n",
       "    <tr>\n",
       "      <th>0</th>\n",
       "      <td>20</td>\n",
       "      <td>80</td>\n",
       "    </tr>\n",
       "    <tr>\n",
       "      <th>1</th>\n",
       "      <td>30</td>\n",
       "      <td>20</td>\n",
       "    </tr>\n",
       "    <tr>\n",
       "      <th>2</th>\n",
       "      <td>50</td>\n",
       "      <td>70</td>\n",
       "    </tr>\n",
       "    <tr>\n",
       "      <th>3</th>\n",
       "      <td>20</td>\n",
       "      <td>10</td>\n",
       "    </tr>\n",
       "    <tr>\n",
       "      <th>4</th>\n",
       "      <td>40</td>\n",
       "      <td>60</td>\n",
       "    </tr>\n",
       "    <tr>\n",
       "      <th>5</th>\n",
       "      <td>40</td>\n",
       "      <td>30</td>\n",
       "    </tr>\n",
       "    <tr>\n",
       "      <th>6</th>\n",
       "      <td>70</td>\n",
       "      <td>40</td>\n",
       "    </tr>\n",
       "    <tr>\n",
       "      <th>7</th>\n",
       "      <td>50</td>\n",
       "      <td>30</td>\n",
       "    </tr>\n",
       "    <tr>\n",
       "      <th>8</th>\n",
       "      <td>40</td>\n",
       "      <td>20</td>\n",
       "    </tr>\n",
       "    <tr>\n",
       "      <th>9</th>\n",
       "      <td>60</td>\n",
       "      <td>60</td>\n",
       "    </tr>\n",
       "    <tr>\n",
       "      <th>10</th>\n",
       "      <td>15</td>\n",
       "      <td>15</td>\n",
       "    </tr>\n",
       "    <tr>\n",
       "      <th>11</th>\n",
       "      <td>40</td>\n",
       "      <td>30</td>\n",
       "    </tr>\n",
       "    <tr>\n",
       "      <th>12</th>\n",
       "      <td>20</td>\n",
       "      <td>30</td>\n",
       "    </tr>\n",
       "    <tr>\n",
       "      <th>13</th>\n",
       "      <td>50</td>\n",
       "      <td>30</td>\n",
       "    </tr>\n",
       "    <tr>\n",
       "      <th>14</th>\n",
       "      <td>60</td>\n",
       "      <td>40</td>\n",
       "    </tr>\n",
       "    <tr>\n",
       "      <th>15</th>\n",
       "      <td>20</td>\n",
       "      <td>30</td>\n",
       "    </tr>\n",
       "    <tr>\n",
       "      <th>16</th>\n",
       "      <td>60</td>\n",
       "      <td>60</td>\n",
       "    </tr>\n",
       "    <tr>\n",
       "      <th>17</th>\n",
       "      <td>30</td>\n",
       "      <td>40</td>\n",
       "    </tr>\n",
       "    <tr>\n",
       "      <th>18</th>\n",
       "      <td>40</td>\n",
       "      <td>50</td>\n",
       "    </tr>\n",
       "    <tr>\n",
       "      <th>19</th>\n",
       "      <td>20</td>\n",
       "      <td>30</td>\n",
       "    </tr>\n",
       "  </tbody>\n",
       "</table>\n",
       "</div>"
      ],
      "text/plain": [
       "    expected  observed\n",
       "0         20        80\n",
       "1         30        20\n",
       "2         50        70\n",
       "3         20        10\n",
       "4         40        60\n",
       "5         40        30\n",
       "6         70        40\n",
       "7         50        30\n",
       "8         40        20\n",
       "9         60        60\n",
       "10        15        15\n",
       "11        40        30\n",
       "12        20        30\n",
       "13        50        30\n",
       "14        60        40\n",
       "15        20        30\n",
       "16        60        60\n",
       "17        30        40\n",
       "18        40        50\n",
       "19        20        30"
      ]
     },
     "metadata": {},
     "output_type": "display_data"
    },
    {
     "name": "stdout",
     "output_type": "stream",
     "text": [
      "The Chi-Square is: 277.6904761904762\n",
      "The Type I Error probability is: 0.0\n"
     ]
    }
   ],
   "source": [
    "### your code here ###\n",
    "from scipy.stats import chi2\n",
    "chisq_frame = pd.read_csv(os.path.join(data_dir, \"chi_square_table.csv\"))\n",
    "display(chisq_frame)\n",
    "chsq = np.sum((chisq_frame['observed']-chisq_frame['expected'])**2/chisq_frame['expected'])\n",
    "print(f'The Chi-Square is: {chsq }')\n",
    "p = 1 - chi2.cdf(x=chsq, df=2)\n",
    "print(f'The Type I Error probability is: {p }')"
   ]
  },
  {
   "attachments": {},
   "cell_type": "markdown",
   "id": "c05ceef7",
   "metadata": {},
   "source": [
    "**02.** Use the same dataset as in **01.** to do the following:\n",
    "\n",
    "- study the [scipy.stats.chisquare](https://docs.scipy.org/doc/scipy/reference/generated/scipy.stats.chisquare.html) documentation\n",
    "- import `chisquare` from `scipy.stats`\n",
    "- and use the `chisquare` method to perform the $\\chi^2$ test.\n",
    "- Note: `ddof` in `scipy.stats.chisquare` is your number of degrees of freedom, which is $k-1$ for the $\\chi^2$ test with $k$ categories."
   ]
  },
  {
   "cell_type": "code",
   "execution_count": 17,
   "id": "cb112d2b",
   "metadata": {},
   "outputs": [
    {
     "data": {
      "text/plain": [
       "Power_divergenceResult(statistic=277.6904761904762, pvalue=nan)"
      ]
     },
     "execution_count": 17,
     "metadata": {},
     "output_type": "execute_result"
    }
   ],
   "source": [
    "### your code here ###\n",
    "from scipy.stats import chisquare\n",
    "k = chisq_frame.shape[0]\n",
    "scipy.stats.chisquare(f_obs = chisq_frame['observed'], \n",
    "                      f_exp= chisq_frame['expected'], \n",
    "                      ddof=k-1, \n",
    "                      axis=0)"
   ]
  },
  {
   "attachments": {},
   "cell_type": "markdown",
   "id": "d7633198",
   "metadata": {},
   "source": [
    "Confused by something in the results? Well, that is the reason why perhaps you should learn how to do Statistical Hypothesis Testing by hand! Read through this discussion (but do not expect the answer to what worries you): [Getting nan for p values in scipy chisquare: Don't know why?](https://stackoverflow.com/questions/40380217/getting-nan-for-p-values-in-scipy-chisquare-dont-know-why)."
   ]
  },
  {
   "attachments": {},
   "cell_type": "markdown",
   "id": "b614c8b4",
   "metadata": {},
   "source": [
    "**03.** A t-test against a constant value: create a random vector of size `1,000` from the Normal Distribution with $\\mu=5$ and $\\sigma=2$ and test if its mean is statistically significantly different from `5.3`. Use SciPy to compute the t-test and report your results (you will probably need to import something). Explain the finding in your own words!"
   ]
  },
  {
   "cell_type": "code",
   "execution_count": 22,
   "id": "aacb71dd",
   "metadata": {},
   "outputs": [
    {
     "name": "stdout",
     "output_type": "stream",
     "text": [
      "The vector mean is: 5.306840309367837\n",
      "t-statistic: 0.034871091290508104, p-value: 0.9722527454871368\n"
     ]
    }
   ],
   "source": [
    "### your code here ###\n",
    "from scipy.stats import ttest_1samp\n",
    "from scipy.stats import norm\n",
    "rvs = norm.rvs(loc=5, scale=2, size=100)\n",
    "print(f'The vector mean is: {np.mean(rvs)}')\n",
    "t_stat, p_val = ttest_1samp(rvs, popmean=5.3)\n",
    "# report\n",
    "print(f\"t-statistic: {t_stat}, p-value: {p_val}\")"
   ]
  },
  {
   "attachments": {},
   "cell_type": "markdown",
   "id": "bd429bf8",
   "metadata": {},
   "source": [
    "**04.** A t-test for independent measures. We are assuming the following:\n",
    "\n",
    "- People educated in Math via method A score, on the average, 78 points on some standardized test X; while\n",
    "- people educated in Math via method B score, on the average, 65 points on some standardized test X;\n",
    "- the standard deviation of the test scores is always 14.\n",
    "\n",
    "Generate two random vectors of size `1,000` each that represent this hypotheses and perform an independent measures t-test for two group means using SciPy. Explain: what justifies the use of and *independent t-test* in this case? Are the two methods empirically really likely to yield different results?"
   ]
  },
  {
   "cell_type": "code",
   "execution_count": 23,
   "id": "94fea61c",
   "metadata": {},
   "outputs": [
    {
     "name": "stdout",
     "output_type": "stream",
     "text": [
      "t-statistic: 20.930937933334025, p-value: 4.0634306158916473e-88\n"
     ]
    }
   ],
   "source": [
    "### your code here ###\n",
    "from scipy.stats import ttest_ind\n",
    "\n",
    "sample1 = norm.rvs(loc=78, scale=14, size=1000)\n",
    "sample2 = norm.rvs(loc=65, scale=14, size=1000)\n",
    "\n",
    "t_stat, p_val = ttest_ind(sample1, sample2)\n",
    "\n",
    "print(f\"t-statistic: {t_stat}, p-value: {p_val}\")"
   ]
  },
  {
   "attachments": {},
   "cell_type": "markdown",
   "id": "bde66c58",
   "metadata": {},
   "source": [
    "**05.** A t-test for repeated measures (paired t-test). We are assuming the following:\n",
    "\n",
    "- Before training with DataKolektiv, people typically (on the average) can score 67 points on some standardize test Y;\n",
    "- while after training with DataKolektiv they score 88 points on the average;\n",
    "- it is known that the standard deviation of the test scores is 28.\n",
    "\n",
    "Generate two random vectors of size `1,000` each that represent these hypotheses and perform an dependent measures t-test for two group means using SciPy. Explain: what justifies the use of a *paired t-test* in this case? According to the test result, is the DataKolektiv training really effective? Explain the finding."
   ]
  },
  {
   "cell_type": "code",
   "execution_count": 24,
   "id": "a386bca0",
   "metadata": {},
   "outputs": [
    {
     "name": "stdout",
     "output_type": "stream",
     "text": [
      "t-statistic: -17.77793206383763, p-value: 1.2044123443551853e-61\n"
     ]
    }
   ],
   "source": [
    "### your code here ###\n",
    "from scipy.stats import ttest_rel\n",
    "\n",
    "sample1 = norm.rvs(loc=67, scale=28, size=1000)\n",
    "sample2 = norm.rvs(loc=88, scale=28, size=1000)\n",
    "\n",
    "t_stat, p_val = ttest_rel(sample1, sample2)\n",
    "\n",
    "print(f\"t-statistic: {t_stat}, p-value: {p_val}\")"
   ]
  },
  {
   "attachments": {},
   "cell_type": "markdown",
   "id": "c827d180",
   "metadata": {},
   "source": [
    "**06.** Correlation. Generate two random, normally distributed vectors with $\\mu=5$ and $\\mu=7.5$, both having the same $\\sigma=2.3$, both of size `1,000`. Use Numpy `np.cov()` (**N.B.** mind the documentation - the `ddof` argument!) to compute the sample covariance between these two vectors, then standardize them and compute the Pearson correlation coefficient. Use Pandas to visualize produce the respective scatterplot."
   ]
  },
  {
   "cell_type": "code",
   "execution_count": 29,
   "id": "55dd403f",
   "metadata": {},
   "outputs": [
    {
     "data": {
      "text/plain": [
       "<AxesSubplot: xlabel='x', ylabel='y'>"
      ]
     },
     "execution_count": 29,
     "metadata": {},
     "output_type": "execute_result"
    },
    {
     "data": {
      "image/png": "[encoded data removed]",
      "text/plain": [
       "<Figure size 640x480 with 1 Axes>"
      ]
     },
     "metadata": {},
     "output_type": "display_data"
    }
   ],
   "source": [
    "### your code here ###\n",
    "\n",
    "sample1 = norm.rvs(loc=5, scale=2.3, size=1000)\n",
    "sample2 = norm.rvs(loc=7.5, scale=2.3, size=1000)\n",
    "samples = pd.DataFrame({'x':sample1, 'y':sample2})\n",
    "samples.plot.scatter(x='x', y='y')"
   ]
  },
  {
   "cell_type": "code",
   "execution_count": 30,
   "id": "045c7a22",
   "metadata": {},
   "outputs": [
    {
     "data": {
      "text/plain": [
       "array([[5.74336955, 0.15855241],\n",
       "       [0.15855241, 5.35187264]])"
      ]
     },
     "execution_count": 30,
     "metadata": {},
     "output_type": "execute_result"
    }
   ],
   "source": [
    "### your code here ###\n",
    "np.cov(samples['x'], samples['y'], ddof=1)"
   ]
  },
  {
   "cell_type": "code",
   "execution_count": 32,
   "id": "fd070967",
   "metadata": {},
   "outputs": [
    {
     "data": {
      "text/html": [
       "<div>\n",
       "<style scoped>\n",
       "    .dataframe tbody tr th:only-of-type {\n",
       "        vertical-align: middle;\n",
       "    }\n",
       "\n",
       "    .dataframe tbody tr th {\n",
       "        vertical-align: top;\n",
       "    }\n",
       "\n",
       "    .dataframe thead th {\n",
       "        text-align: right;\n",
       "    }\n",
       "</style>\n",
       "<table border=\"1\" class=\"dataframe\">\n",
       "  <thead>\n",
       "    <tr style=\"text-align: right;\">\n",
       "      <th></th>\n",
       "      <th>x</th>\n",
       "      <th>y</th>\n",
       "      <th>zx</th>\n",
       "      <th>zy</th>\n",
       "    </tr>\n",
       "  </thead>\n",
       "  <tbody>\n",
       "    <tr>\n",
       "      <th>0</th>\n",
       "      <td>6.821190</td>\n",
       "      <td>8.889344</td>\n",
       "      <td>0.727583</td>\n",
       "      <td>0.604281</td>\n",
       "    </tr>\n",
       "    <tr>\n",
       "      <th>1</th>\n",
       "      <td>4.643629</td>\n",
       "      <td>7.296272</td>\n",
       "      <td>-0.181047</td>\n",
       "      <td>-0.084344</td>\n",
       "    </tr>\n",
       "    <tr>\n",
       "      <th>2</th>\n",
       "      <td>4.213493</td>\n",
       "      <td>8.153988</td>\n",
       "      <td>-0.360529</td>\n",
       "      <td>0.286414</td>\n",
       "    </tr>\n",
       "    <tr>\n",
       "      <th>3</th>\n",
       "      <td>3.295855</td>\n",
       "      <td>5.716540</td>\n",
       "      <td>-0.743432</td>\n",
       "      <td>-0.767202</td>\n",
       "    </tr>\n",
       "    <tr>\n",
       "      <th>4</th>\n",
       "      <td>3.437767</td>\n",
       "      <td>13.420161</td>\n",
       "      <td>-0.684216</td>\n",
       "      <td>2.562781</td>\n",
       "    </tr>\n",
       "    <tr>\n",
       "      <th>...</th>\n",
       "      <td>...</td>\n",
       "      <td>...</td>\n",
       "      <td>...</td>\n",
       "      <td>...</td>\n",
       "    </tr>\n",
       "    <tr>\n",
       "      <th>995</th>\n",
       "      <td>0.531500</td>\n",
       "      <td>9.210239</td>\n",
       "      <td>-1.896913</td>\n",
       "      <td>0.742991</td>\n",
       "    </tr>\n",
       "    <tr>\n",
       "      <th>996</th>\n",
       "      <td>5.923888</td>\n",
       "      <td>8.799845</td>\n",
       "      <td>0.353166</td>\n",
       "      <td>0.565593</td>\n",
       "    </tr>\n",
       "    <tr>\n",
       "      <th>997</th>\n",
       "      <td>8.126165</td>\n",
       "      <td>9.616544</td>\n",
       "      <td>1.272110</td>\n",
       "      <td>0.918621</td>\n",
       "    </tr>\n",
       "    <tr>\n",
       "      <th>998</th>\n",
       "      <td>5.703734</td>\n",
       "      <td>5.595650</td>\n",
       "      <td>0.261303</td>\n",
       "      <td>-0.819458</td>\n",
       "    </tr>\n",
       "    <tr>\n",
       "      <th>999</th>\n",
       "      <td>4.006564</td>\n",
       "      <td>4.687544</td>\n",
       "      <td>-0.446874</td>\n",
       "      <td>-1.211998</td>\n",
       "    </tr>\n",
       "  </tbody>\n",
       "</table>\n",
       "<p>1000 rows × 4 columns</p>\n",
       "</div>"
      ],
      "text/plain": [
       "            x          y        zx        zy\n",
       "0    6.821190   8.889344  0.727583  0.604281\n",
       "1    4.643629   7.296272 -0.181047 -0.084344\n",
       "2    4.213493   8.153988 -0.360529  0.286414\n",
       "3    3.295855   5.716540 -0.743432 -0.767202\n",
       "4    3.437767  13.420161 -0.684216  2.562781\n",
       "..        ...        ...       ...       ...\n",
       "995  0.531500   9.210239 -1.896913  0.742991\n",
       "996  5.923888   8.799845  0.353166  0.565593\n",
       "997  8.126165   9.616544  1.272110  0.918621\n",
       "998  5.703734   5.595650  0.261303 -0.819458\n",
       "999  4.006564   4.687544 -0.446874 -1.211998\n",
       "\n",
       "[1000 rows x 4 columns]"
      ]
     },
     "execution_count": 32,
     "metadata": {},
     "output_type": "execute_result"
    }
   ],
   "source": [
    "### your code here ###\n",
    "samples['zx'] = (samples['x']-np.mean(samples['x']))/np.std(samples['x'], ddof=1)\n",
    "samples['zy'] = (samples['y']-np.mean(samples['y']))/np.std(samples['y'], ddof=1)\n",
    "samples"
   ]
  },
  {
   "cell_type": "code",
   "execution_count": 33,
   "id": "cef69c4c",
   "metadata": {},
   "outputs": [
    {
     "data": {
      "text/plain": [
       "array([[1.        , 0.02859806],\n",
       "       [0.02859806, 1.        ]])"
      ]
     },
     "execution_count": 33,
     "metadata": {},
     "output_type": "execute_result"
    }
   ],
   "source": [
    "np.cov(samples['zx'], samples['zy'], ddof=1)"
   ]
  },
  {
   "cell_type": "markdown",
   "id": "f5dc0348",
   "metadata": {},
   "source": [
    "DataKolektiv, 2022/23.\n",
    "\n",
    "[hello@datakolektiv.com](mailto:goran.milovanovic@datakolektiv.com)\n",
    "\n",
    "![](../img/DK_Logo_100.png)"
   ]
  },
  {
   "cell_type": "markdown",
   "id": "6f8e160a",
   "metadata": {},
   "source": [
    "<font size=1>License: [GPLv3](https://www.gnu.org/licenses/gpl-3.0.txt) This Notebook is free software: you can redistribute it and/or modify it under the terms of the GNU General Public License as published by the Free Software Foundation, either version 3 of the License, or (at your option) any later version. This Notebook is distributed in the hope that it will be useful, but WITHOUT ANY WARRANTY; without even the implied warranty of MERCHANTABILITY or FITNESS FOR A PARTICULAR PURPOSE. See the GNU General Public License for more details. You should have received a copy of the GNU General Public License along with this Notebook. If not, see http://www.gnu.org/licenses/.</font>"
   ]
  }
 ],
 "metadata": {
  "kernelspec": {
   "display_name": "Python 3",
   "language": "python",
   "name": "python3"
  },
  "language_info": {
   "codemirror_mode": {
    "name": "ipython",
    "version": 3
   },
   "file_extension": ".py",
   "mimetype": "text/x-python",
   "name": "python",
   "nbconvert_exporter": "python",
   "pygments_lexer": "ipython3",
   "version": "3.9.16"
  }
 },
 "nbformat": 4,
 "nbformat_minor": 5
}
