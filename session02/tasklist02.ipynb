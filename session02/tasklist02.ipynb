{
 "cells": [
  {
   "cell_type": "markdown",
   "id": "ce89e130",
   "metadata": {},
   "source": [
    "# DATA SCIENCE SESSIONS VOL. 3\n",
    "### A Foundational Python Data Science Course\n",
    "## Session 02: Fundamental Data Structures and Classes. Subsetting a Pandas DataFrame.\n",
    "\n",
    "[&larr; Back to course webpage](https://datakolektiv.com/)\n",
    "\n",
    "Feedback should be send to [goran.milovanovic@datakolektiv.com](mailto:goran.milovanovic@datakolektiv.com). \n",
    "\n",
    "These notebooks accompany the DATA SCIENCE SESSIONS VOL. 3 :: A Foundational Python Data Science Course."
   ]
  },
  {
   "cell_type": "markdown",
   "id": "18e7c893",
   "metadata": {},
   "source": [
    "![](../img/IntroRDataScience_NonTech-1.jpg)"
   ]
  },
  {
   "cell_type": "markdown",
   "id": "64fab165",
   "metadata": {},
   "source": [
    "### Lecturers\n",
    "\n",
    "[Goran S. Milovanović, PhD, DataKolektiv, Chief Scientist & Owner](https://www.linkedin.com/in/gmilovanovic/)\n",
    "\n",
    "[Aleksandar Cvetković, PhD, DataKolektiv, Consultant](https://www.linkedin.com/in/alegzndr/)\n",
    "\n",
    "[Ilija Lazarević, MA, DataKolektiv, Consultant](https://www.linkedin.com/in/ilijalazarevic/)"
   ]
  },
  {
   "cell_type": "markdown",
   "id": "907530ff",
   "metadata": {},
   "source": [
    "### Intro\n",
    "\n",
    "In this tasklist you'll get to exercise data frame basics on a real-world dataset. Along with this tasklist, you'll be provided with the `MovieRatings.csv` dataset, which will be stored in your `session02/_data` folder, and load it from there. The provided dataset is quite straightforward - it contains a list of movies along with their ratings from various websites. \n",
    "\n",
    "But, before we start exploring this dataset, let's create few our small custom-made data frames:)"
   ]
  },
  {
   "cell_type": "markdown",
   "id": "828e9d56",
   "metadata": {},
   "source": [
    "**00.** Import `pandas` and `os` modules. "
   ]
  },
  {
   "cell_type": "code",
   "execution_count": 8,
   "id": "02b2bf97",
   "metadata": {},
   "outputs": [],
   "source": [
    "## your code here ##"
   ]
  },
  {
   "cell_type": "markdown",
   "id": "71c8dabe",
   "metadata": {},
   "source": [
    "**01.** Using a dictionary create a data frame containing five rows and three columns. Then, using `.drop()` method drop the middle column."
   ]
  },
  {
   "cell_type": "code",
   "execution_count": 1,
   "id": "c838d090",
   "metadata": {},
   "outputs": [],
   "source": [
    "## your code here ##"
   ]
  },
  {
   "cell_type": "markdown",
   "id": "94218b0b",
   "metadata": {},
   "source": [
    "**02.** Using `zip()` function create a data frame containing three rows and five columns. Then, using data frame indexing, extract 2nd, 3rd and 4th column of a middle row. "
   ]
  },
  {
   "cell_type": "code",
   "execution_count": 2,
   "id": "4b177430",
   "metadata": {},
   "outputs": [],
   "source": [
    "## your code here ##"
   ]
  },
  {
   "cell_type": "markdown",
   "id": "06a633ca",
   "metadata": {},
   "source": [
    "**03.** Load `MovieRatings.csv` dataset and save it as a `data_set` variable."
   ]
  },
  {
   "cell_type": "code",
   "execution_count": 3,
   "id": "db98247f",
   "metadata": {},
   "outputs": [],
   "source": [
    "## your code here ##"
   ]
  },
  {
   "cell_type": "markdown",
   "id": "16b19ea4",
   "metadata": {},
   "source": [
    "**04.** From `data_set` create a data frame showing movies with their IMDB and Rotten Tomatoes rating."
   ]
  },
  {
   "cell_type": "code",
   "execution_count": 4,
   "id": "356b022e",
   "metadata": {},
   "outputs": [],
   "source": [
    "## your code here ##"
   ]
  },
  {
   "cell_type": "markdown",
   "id": "38c8b0dc",
   "metadata": {},
   "source": [
    "**05.** `.max()` is a method that you can use to find a maximal value for a given column. For example, `data_set['Metacritic'].max()` will give you the highest Metacritic movie rating. Using similar appropriate methods find:\n",
    "- The lowest IMDB rating\n",
    "- Average Rotten Tomatoes rating\n",
    "- Median Fandango stars rating"
   ]
  },
  {
   "cell_type": "code",
   "execution_count": 5,
   "id": "af055e12",
   "metadata": {},
   "outputs": [],
   "source": [
    "## your code here ##"
   ]
  },
  {
   "cell_type": "code",
   "execution_count": 6,
   "id": "8f1db2b4",
   "metadata": {},
   "outputs": [],
   "source": [
    "## your code here ##"
   ]
  },
  {
   "cell_type": "code",
   "execution_count": 7,
   "id": "b2b836ba",
   "metadata": {},
   "outputs": [],
   "source": [
    "## your code here ##"
   ]
  },
  {
   "cell_type": "markdown",
   "id": "54e8a64a",
   "metadata": {},
   "source": [
    "**06.** Plot a histogram of IMDB ratings."
   ]
  },
  {
   "cell_type": "code",
   "execution_count": 9,
   "id": "5ff976a7",
   "metadata": {},
   "outputs": [],
   "source": [
    "## your code here ##"
   ]
  },
  {
   "cell_type": "markdown",
   "id": "0742a8c8",
   "metadata": {},
   "source": [
    "**07.** Use `.value_counts()` method on `'Fandango_Stars'` column, and see what happens:)"
   ]
  },
  {
   "cell_type": "code",
   "execution_count": 10,
   "id": "2561bd5e",
   "metadata": {},
   "outputs": [],
   "source": [
    "## your code here ##"
   ]
  },
  {
   "cell_type": "markdown",
   "id": "77dbae64",
   "metadata": {},
   "source": [
    "**08.** Use `normalize=True` argument in the `.value_counts()` method on `'Fandango_Stars` column to obtain ratios of the previous result. Then plot the new result as a pie chart."
   ]
  },
  {
   "cell_type": "code",
   "execution_count": 11,
   "id": "456cb138",
   "metadata": {},
   "outputs": [],
   "source": [
    "## your code here ##"
   ]
  },
  {
   "cell_type": "code",
   "execution_count": 12,
   "id": "81b6ae07",
   "metadata": {},
   "outputs": [],
   "source": [
    "## your code here ##"
   ]
  },
  {
   "cell_type": "markdown",
   "id": "c36ca0fb",
   "metadata": {},
   "source": [
    "**09.** Using an appropriate method sort all the movies according to their IMDB ratings. Then, using a proper argument sort them in descending order. "
   ]
  },
  {
   "cell_type": "code",
   "execution_count": 13,
   "id": "e7a86ad9",
   "metadata": {},
   "outputs": [],
   "source": [
    "## your code here ##"
   ]
  },
  {
   "cell_type": "code",
   "execution_count": 14,
   "id": "84685fc9",
   "metadata": {},
   "outputs": [],
   "source": [
    "## your code here ##"
   ]
  },
  {
   "cell_type": "markdown",
   "id": "98a39060",
   "metadata": {},
   "source": [
    "**10.** Select all movies with Rotten Tomatoes rating of 100."
   ]
  },
  {
   "cell_type": "code",
   "execution_count": 16,
   "id": "f303e23c",
   "metadata": {},
   "outputs": [],
   "source": [
    "## your code here ##"
   ]
  },
  {
   "cell_type": "markdown",
   "id": "0e6b1093",
   "metadata": {},
   "source": [
    "**11.** Select all movies with Metacritic score lower than 20."
   ]
  },
  {
   "cell_type": "code",
   "execution_count": null,
   "id": "0b3e2236",
   "metadata": {},
   "outputs": [],
   "source": [
    "## your code here ##"
   ]
  },
  {
   "cell_type": "markdown",
   "id": "f2c8d7cc",
   "metadata": {},
   "source": [
    "**12.** Select all movies with IMDB rating of 8 or higher."
   ]
  },
  {
   "cell_type": "code",
   "execution_count": 15,
   "id": "2869075c",
   "metadata": {},
   "outputs": [],
   "source": [
    "## your code here ##"
   ]
  },
  {
   "cell_type": "markdown",
   "id": "0af54543",
   "metadata": {},
   "source": [
    "**13.** Using the following logical operators you can combine several logiacl conditions to extract the data based on those conditions:\n",
    "\n",
    "- ~ NOT\n",
    "- | OR\n",
    "- & AND\n",
    "\n",
    "For example, `data_set[(cond_1) & (cond_2)]` will extract the data meeting both conditions `cond_1` AND `cond_2`. Using these logical operators extract all movies:\n",
    "\n",
    "- having not more than 3.5 Fandango Stars;\n",
    "- having Rotten Tomatoes rating either greater than 90 or lower than 10;\n",
    "- having Rotten Tomatoes score greater than 85, Metacritic score greater than 8.5 and an IMDB score greater than 8.5"
   ]
  },
  {
   "cell_type": "code",
   "execution_count": 17,
   "id": "9cba0ce9",
   "metadata": {},
   "outputs": [],
   "source": [
    "## your code here ##"
   ]
  },
  {
   "cell_type": "code",
   "execution_count": 18,
   "id": "31ef7db9",
   "metadata": {},
   "outputs": [],
   "source": [
    "## your code here ##"
   ]
  },
  {
   "cell_type": "code",
   "execution_count": 19,
   "id": "34679e32",
   "metadata": {},
   "outputs": [],
   "source": [
    "## your code here ##"
   ]
  },
  {
   "cell_type": "markdown",
   "id": "31d403d6",
   "metadata": {},
   "source": [
    "**14.** Plot a scatterplot showing the correlation between Metacritic and IMDB scores."
   ]
  },
  {
   "cell_type": "code",
   "execution_count": 20,
   "id": "4d02ec29",
   "metadata": {},
   "outputs": [],
   "source": [
    "## your code here ##"
   ]
  },
  {
   "cell_type": "markdown",
   "id": "048987e4",
   "metadata": {},
   "source": [
    "**15.** Set the index of `data_set` as the `'FILM'` column and sort the index alphabetically."
   ]
  },
  {
   "cell_type": "code",
   "execution_count": 21,
   "id": "2c63233b",
   "metadata": {},
   "outputs": [],
   "source": [
    "## your code here ##"
   ]
  },
  {
   "cell_type": "markdown",
   "id": "c2cc3abb",
   "metadata": {},
   "source": [
    "**16.** After setting the index, exctract few rows containing some of your group's favourite movies."
   ]
  },
  {
   "cell_type": "code",
   "execution_count": 22,
   "id": "8003971a",
   "metadata": {},
   "outputs": [],
   "source": [
    "## your code here ##"
   ]
  },
  {
   "cell_type": "markdown",
   "id": "bed53088",
   "metadata": {},
   "source": [
    "DataKolektiv, 2022/23.\n",
    "\n",
    "[hello@datakolektiv.com](mailto:goran.milovanovic@datakolektiv.com)\n",
    "\n",
    "![](../img/DK_Logo_100.png)"
   ]
  },
  {
   "cell_type": "markdown",
   "id": "43a1bcef",
   "metadata": {},
   "source": [
    "<font size=1>License: [GPLv3](https://www.gnu.org/licenses/gpl-3.0.txt) This Notebook is free software: you can redistribute it and/or modify it under the terms of the GNU General Public License as published by the Free Software Foundation, either version 3 of the License, or (at your option) any later version. This Notebook is distributed in the hope that it will be useful, but WITHOUT ANY WARRANTY; without even the implied warranty of MERCHANTABILITY or FITNESS FOR A PARTICULAR PURPOSE. See the GNU General Public License for more details. You should have received a copy of the GNU General Public License along with this Notebook. If not, see http://www.gnu.org/licenses/.</font>"
   ]
  },
  {
   "cell_type": "code",
   "execution_count": null,
   "id": "07a00ba7",
   "metadata": {},
   "outputs": [],
   "source": []
  }
 ],
 "metadata": {
  "kernelspec": {
   "display_name": "Python 3",
   "language": "python",
   "name": "python3"
  },
  "language_info": {
   "codemirror_mode": {
    "name": "ipython",
    "version": 3
   },
   "file_extension": ".py",
   "mimetype": "text/x-python",
   "name": "python",
   "nbconvert_exporter": "python",
   "pygments_lexer": "ipython3",
   "version": "3.8.8"
  }
 },
 "nbformat": 4,
 "nbformat_minor": 5
}
