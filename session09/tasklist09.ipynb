{
 "cells": [
  {
   "attachments": {},
   "cell_type": "markdown",
   "id": "0596f44a",
   "metadata": {},
   "source": [
    "# DATA SCIENCE SESSIONS VOL. 3\n",
    "### A Foundational Python Data Science Course\n",
    "## TaskList 09: Probability 2.\n",
    "\n",
    "[&larr; Back to course webpage](https://datakolektiv.com/)\n",
    "\n",
    "Feedback should be send to [goran.milovanovic@datakolektiv.com](mailto:goran.milovanovic@datakolektiv.com). \n",
    "\n",
    "These notebooks accompany the DATA SCIENCE SESSIONS VOL. 3 :: A Foundational Python Data Science Course."
   ]
  },
  {
   "cell_type": "markdown",
   "id": "5e41fa90",
   "metadata": {},
   "source": [
    "![](../img/IntroRDataScience_NonTech-1.jpg)"
   ]
  },
  {
   "cell_type": "markdown",
   "id": "80a8469f",
   "metadata": {},
   "source": [
    "### Lecturers\n",
    "\n",
    "[Goran S. Milovanović, PhD, DataKolektiv, Chief Scientist & Owner](https://www.linkedin.com/in/gmilovanovic/)\n",
    "\n",
    "[Aleksandar Cvetković, PhD, DataKolektiv, Consultant](https://www.linkedin.com/in/alegzndr/)\n",
    "\n",
    "[Ilija Lazarević, MA, DataKolektiv, Consultant](https://www.linkedin.com/in/ilijalazarevic/)"
   ]
  },
  {
   "cell_type": "markdown",
   "id": "20821a04",
   "metadata": {},
   "source": [
    "![](../img/DK_Logo_100.png)"
   ]
  },
  {
   "cell_type": "markdown",
   "id": "b39d0c5b",
   "metadata": {},
   "source": [
    "***"
   ]
  },
  {
   "attachments": {},
   "cell_type": "markdown",
   "id": "0ee740f1",
   "metadata": {},
   "source": [
    "### Intro\n",
    "\n",
    "In this tasklist we will deal with the basics of Probability Theory as presented in Session 08 and 09. \n",
    "This tasklist is meant as a refresher of what was discussed in the sessions. It is not meant to improve your Python coding skills except for very basic things in Numpy and Scipy and all in relation to Probability Theory alone. "
   ]
  },
  {
   "attachments": {},
   "cell_type": "markdown",
   "id": "e1841bac",
   "metadata": {},
   "source": [
    "**00.** Use Scipy to create 1000 random numbers from the Normal distribution with $\\mu=5$ and $\\sigma=2$. Then compute the mean from the sample that you have generated, and the standard deviation - do not forget about the $N-1$ correction!"
   ]
  },
  {
   "cell_type": "code",
   "execution_count": null,
   "id": "10a77449",
   "metadata": {},
   "outputs": [],
   "source": [
    "### Your code here ###"
   ]
  },
  {
   "attachments": {},
   "cell_type": "markdown",
   "id": "c5fb307b",
   "metadata": {},
   "source": [
    "**01.** Use Numpy to standardize all observations in your sample from $\\mathcal{N}(5, 2)$. Compute the mean and the standard deviation of the standardized observations."
   ]
  },
  {
   "cell_type": "code",
   "execution_count": null,
   "id": "1d124b5f",
   "metadata": {},
   "outputs": [],
   "source": [
    "### Your code here ###"
   ]
  },
  {
   "attachments": {},
   "cell_type": "markdown",
   "id": "a973b510",
   "metadata": {},
   "source": [
    "**02.** Recall the formula for the Expected Value (EV) of a Binomial Random Variable (RV). Use the formula to compute the mean of a Binomial RV with $n=1000$ and $p=.23$. Better: write a Python function to compute the EV of a Binomial RV and apply the function to a Binomial with $n=1000$ and $p=.23$."
   ]
  },
  {
   "cell_type": "code",
   "execution_count": null,
   "id": "905615d6",
   "metadata": {},
   "outputs": [],
   "source": [
    "### Your code here ###"
   ]
  },
  {
   "attachments": {},
   "cell_type": "markdown",
   "id": "98c95786",
   "metadata": {},
   "source": [
    "**03.** Recall the formula for the variance of a Binomial Random Variable (RV). Use the formula to compute the variance of a Binomial RV with $n=3000$ and $p=.71$. Better: write a Python function to compute the variance of a Binomial RV and apply the function to a Binomial with $n=3000$ and $p=.71$."
   ]
  },
  {
   "cell_type": "code",
   "execution_count": null,
   "id": "65065201",
   "metadata": {},
   "outputs": [],
   "source": [
    "### Your code here ###"
   ]
  },
  {
   "attachments": {},
   "cell_type": "markdown",
   "id": "902cfb1e",
   "metadata": {},
   "source": [
    "**04.** A friend of mine is running a customer support centre. They receive a call every five minutes on the average. What is the probability that they will **not** receive a call in no more ten minutes? **N.B. Tricky**."
   ]
  },
  {
   "cell_type": "code",
   "execution_count": null,
   "id": "d77faa13",
   "metadata": {},
   "outputs": [],
   "source": [
    "### Your code here ###"
   ]
  },
  {
   "attachments": {},
   "cell_type": "markdown",
   "id": "c5afb935",
   "metadata": {},
   "source": [
    "**05.** And what What is the probability that they will receive a call in no more ten minutes?"
   ]
  },
  {
   "cell_type": "code",
   "execution_count": null,
   "id": "8ff8f344",
   "metadata": {},
   "outputs": [],
   "source": [
    "### Your code here ###"
   ]
  },
  {
   "attachments": {},
   "cell_type": "markdown",
   "id": "57155dee",
   "metadata": {},
   "source": [
    "**06.** Draw a sample of 10000 uniformly distributed random numbers from the Continous Uniform Distribution on [0,1]. Recall the Normal Quantile function: use it to generate 10000 normally distributed random numbers with $\\mu=5$ and $\\sigma=2$ from the uniformly distributed ones that you have generated. Compute the mean and the standard deviation of the resulting Normal random numbers."
   ]
  },
  {
   "cell_type": "code",
   "execution_count": null,
   "id": "bd2423d2",
   "metadata": {},
   "outputs": [],
   "source": [
    "### Your code here ###"
   ]
  },
  {
   "cell_type": "markdown",
   "id": "f6df9430",
   "metadata": {},
   "source": [
    "***"
   ]
  },
  {
   "cell_type": "markdown",
   "id": "12ef95f3",
   "metadata": {},
   "source": [
    "DataKolektiv, 2022/23.\n",
    "\n",
    "[hello@datakolektiv.com](mailto:goran.milovanovic@datakolektiv.com)\n",
    "\n",
    "![](../img/DK_Logo_100.png)"
   ]
  },
  {
   "cell_type": "markdown",
   "id": "fedb123c",
   "metadata": {},
   "source": [
    "<font size=1>License: [GPLv3](https://www.gnu.org/licenses/gpl-3.0.txt) This Notebook is free software: you can redistribute it and/or modify it under the terms of the GNU General Public License as published by the Free Software Foundation, either version 3 of the License, or (at your option) any later version. This Notebook is distributed in the hope that it will be useful, but WITHOUT ANY WARRANTY; without even the implied warranty of MERCHANTABILITY or FITNESS FOR A PARTICULAR PURPOSE. See the GNU General Public License for more details. You should have received a copy of the GNU General Public License along with this Notebook. If not, see http://www.gnu.org/licenses/.</font>"
   ]
  }
 ],
 "metadata": {
  "kernelspec": {
   "display_name": "Python 3",
   "language": "python",
   "name": "python3"
  },
  "language_info": {
   "codemirror_mode": {
    "name": "ipython",
    "version": 3
   },
   "file_extension": ".py",
   "mimetype": "text/x-python",
   "name": "python",
   "nbconvert_exporter": "python",
   "pygments_lexer": "ipython3",
   "version": "3.9.16"
  }
 },
 "nbformat": 4,
 "nbformat_minor": 5
}
