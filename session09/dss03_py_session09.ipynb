{
 "cells": [
  {
   "cell_type": "markdown",
   "id": "a5fcb976",
   "metadata": {},
   "source": [
    "## 1. Continuous-type Random Variable"
   ]
  },
  {
   "cell_type": "markdown",
   "id": "5dac4951",
   "metadata": {},
   "source": [
    "We spoke about RVs that can take values from universal set $\\Omega$ which is either finit or countably infinite; these were discrete-type random variables. But what if $\\Omega$ is uncountably infinite,i.e. what if random variable $X$ can take any real number as a value? Then we have *(absolutely) continuous* random variable."
   ]
  },
  {
   "cell_type": "markdown",
   "id": "098aecb9",
   "metadata": {},
   "source": [
    "As with discrete-type RVs, continuous-type RVs have their distribution. With discrete RVs we use probability mass function (p.m.f) to describe their distribution. With continuous RVs, we have *probability density function (p.d.f)* which 'describes' them. One p.d.f. $\\varphi(x)$ of a coninuous random variable may look like this:\n",
    "\n",
    "\n",
    "**UBACI SLIKU**"
   ]
  },
  {
   "cell_type": "markdown",
   "id": "30e28481",
   "metadata": {},
   "source": [
    "Each p.d.f of a continuous RV should be defined, continuous and non-negative on the whole real-number line, and:\n",
    "\n",
    "$$\\int_{-\\infty}^{+\\infty}\\varphi(x)dx = 1.$$"
   ]
  },
  {
   "cell_type": "markdown",
   "id": "8200b521",
   "metadata": {},
   "source": [
    "Don't worry about the integral - we are not going to compute integrals in this course. But we do need them to calculate probabilities for continuous RVs. The integral above tells us that the area under the curve of p.d.f. is always equal to 1. This seems familiar? This is actually completely analogous to the fact that, for discrete RV, all probabilities in its p.m.f. need always to sum to 1. \n",
    "\n",
    "\n",
    "So, what's the probability of RV, having p.d.f as in the figure above, to take value -5.5? It's\n",
    "\n",
    "$$P(X = -5.5) = 0.$$\n",
    "\n",
    "OK, that kinda makes sense. But, what about the probability of taking value 0?\n",
    "\n",
    "$$P(X = 0) = 0.$$\n",
    "\n",
    "Wait, what? And taking value $\\sqrt{2}$?\n",
    "\n",
    "$$P(X = \\sqrt{2}) = 0.$$\n",
    "\n",
    "Is it always going to be zero? Yes. Because the probability of hitting a point exactly you want, out of uncountably infinitely many others is - of course, zero. But how we can calculate probabilities at all, if the probability of every point is zero? We just need to broaden our views - not to ask about the probability of hitting a single point $x$ among ridiculously infinitely many, but to ask about the probability of hitting any point in the small interval $\\Delta x$ which contains $x$... and uncountably infinite many other points. When working with continuous RVs we can hope to get positive probability only if we work with intervals, no matter how big or small. "
   ]
  },
  {
   "cell_type": "markdown",
   "id": "2c9d125d",
   "metadata": {},
   "source": [
    "However, to get positive probabilities, those intervals need to be either fully or partially on the *support* of p.d.f. Support is the part of p.d.f. curve where this function is positive, i.e. $\\varphi(x) > 0$. For really small intervals $\\Delta x$ that are outside of the support, i.e. for which $\\varphi(x) = 0$, there is 0 probability for RV $X$ to take any value from that interval. On the other hand, if we observe a really small interval $\\Delta x$ around the point where p.d.f. takes its maximal value - there is the highest probability of RV $X$ taking values from this interval. \n",
    "\n",
    "In other words: higher the value of $\\varphi(x)$ for some $x$ - higher the probability of RV $X$ getting some value from a very small interval $\\Delta x$ around $x$. (but not in $x$ itself; there, the probability is zero)"
   ]
  },
  {
   "cell_type": "markdown",
   "id": "c5027fd8",
   "metadata": {},
   "source": [
    "***"
   ]
  },
  {
   "cell_type": "markdown",
   "id": "d98b9c43",
   "metadata": {},
   "source": [
    "So, we can calculate probability of continuous RV in any interval. How do we calculate probability of RV $X$ taking values in some interval $[a, b]$ where $a$ and $b$ are two numbers? Simply, using the formula:\n",
    "\n",
    "$$P(a \\leqslant X \\leqslant b) = \\int_a^b\\varphi(x)dx.$$"
   ]
  },
  {
   "cell_type": "markdown",
   "id": "16199489",
   "metadata": {},
   "source": [
    "It's that integral again... And again it makes sense again. Remember that, using Kolmogorov Axioms, we defined probability as a measure? We also mentioned that integral is the measure of the area under the curve. So, using an integral to measure area under the curve of p.d.f on some interval $[a,b]$, we are actually measuring the probability of RV $X$ to take any value from that interval.\n",
    "\n",
    "Observing probabilites as integrals, i.e. areas of surfaces under the p.d.f curve is completely in-sync with Kolmogorov Axioms for probability-as-a-measure:\n",
    "\n",
    "- Both probability and area are measures, and cannot be negative;\n",
    "- Area of an empty set, or a point/line is zero. So is the probability;\n",
    "- Bigger the area, bigger the probability; and we may encompass big areas by taking long intervals or intervals around high values of p.d.f;\n",
    "- We can just sum areas of disjoint figures to get the total area; the same is for probabilities of disjoint events."
   ]
  },
  {
   "cell_type": "markdown",
   "id": "eb2ebaff",
   "metadata": {},
   "source": [
    "One more important point. We saw that for discrete RVs every point matters (even if it's infinite). For some discrete RV $X$ we have\n",
    "\n",
    "$$P(X \\leqslant k) \\neq P(X < k).$$\n",
    "\n",
    "However, this is not the case with continuous RVs; there one point doesn't make a difference (why?). So, for some continuous RV $X$ we have\n",
    "\n",
    "$$P(a \\leqslant X \\leqslant b) = P(a \\leqslant X < b) = P(a < X < b).$$"
   ]
  },
  {
   "cell_type": "markdown",
   "id": "ad6fee49",
   "metadata": {},
   "source": [
    "***"
   ]
  },
  {
   "cell_type": "markdown",
   "id": "70f6920f",
   "metadata": {},
   "source": [
    "As discrete RVs have c.d.f, so continuous RVs have one as well. Cumulative distribution function for a continuous random variable is given with \n",
    "\n",
    "$$F(a) = P(X\\leqslant a) = \\int_{-\\infty}^a\\varphi(x)dx.$$"
   ]
  },
  {
   "cell_type": "markdown",
   "id": "95d2e4cb",
   "metadata": {},
   "source": [
    "C.d.f of a continuous RV $X$ gives the probability of $X$ taking any value from the interval $(-\\infty, a]$. Or, area under the p.d.f curve on that interval. Here's how one c.d.f. of a continuous RV looks like:\n",
    "\n",
    "**UBACI SLIKU**"
   ]
  },
  {
   "cell_type": "markdown",
   "id": "f8b73c9d",
   "metadata": {},
   "source": [
    "C.d.f. is a prety handy tool for computing probabilities of continuous RVs, even more useful than p.d.f! In fact, by knowing the c.d.f we can compute probabilites while avoiding integrals, using this formula:\n",
    "\n",
    "$$P(a \\leqslant X \\leqslant b) = F(b) - F(a).$$\n",
    "\n",
    "And we can also calculate \n",
    "\n",
    "$$P(X \\geqslant a) = 1 - P(X < a) = 1 - F(a).$$"
   ]
  },
  {
   "cell_type": "markdown",
   "id": "5500027e",
   "metadata": {},
   "source": [
    "***"
   ]
  },
  {
   "cell_type": "markdown",
   "id": "33e66bd6",
   "metadata": {},
   "source": [
    "For continuous RVs very useful is *quantile function*, which is the inverse of a c.d.f:\n",
    "\n",
    "$$Q(p) = F^{-1}(p),\\qquad p\\in(0, 1).$$"
   ]
  },
  {
   "cell_type": "markdown",
   "id": "da78d8be",
   "metadata": {},
   "source": [
    "Simply put, for $p = 0.1$ we can get a value $x$ for which we can expect to find 10% of points in the interval $(-\\infty, x]$ when sampling from a RV $X$ having c.d.f $F$. \n",
    "\n",
    "The most important values for $p$ for the quantile functions are 0.25, 0.5 and 0.75, which give values for quartiles Q1, Q2 (median) and Q3. "
   ]
  },
  {
   "cell_type": "markdown",
   "id": "b3feccf9",
   "metadata": {},
   "source": [
    "## 2. Continuous-type Random Variable Distributions"
   ]
  },
  {
   "cell_type": "markdown",
   "id": "29a9497c",
   "metadata": {},
   "source": [
    "Enough of theoretical talk, and let's do some coding now. "
   ]
  },
  {
   "cell_type": "code",
   "execution_count": 1,
   "id": "08316099",
   "metadata": {},
   "outputs": [],
   "source": [
    "import numpy as np\n",
    "import pandas as pd\n",
    "import scipy\n",
    "import math\n",
    "import matplotlib.pyplot as plt\n",
    "import seaborn as sns\n",
    "\n",
    "rng = np.random.default_rng(seed=1023)"
   ]
  },
  {
   "cell_type": "markdown",
   "id": "e9e6d7f8",
   "metadata": {},
   "source": [
    "### Continuous Uniform Distribution"
   ]
  },
  {
   "cell_type": "markdown",
   "id": "5c6dff66",
   "metadata": {},
   "source": [
    "Continuous Uniform Distribution $\\mathcal{U}[a, b]$ describes an experiment where there is an arbitrary outcome that lies in the interval $[a, b]$. In other words, we can equally expect any number in the interval $[a, b]$; no part of this interval is favoured than the other. \n",
    "\n",
    "We can sample from from Uniform Distribution on [0, 1] interval using `rng.random()`:"
   ]
  },
  {
   "cell_type": "code",
   "execution_count": 2,
   "id": "78f4dddf",
   "metadata": {},
   "outputs": [
    {
     "data": {
      "text/plain": [
       "0.3388690800085262"
      ]
     },
     "execution_count": 2,
     "metadata": {},
     "output_type": "execute_result"
    }
   ],
   "source": [
    "rng.random()"
   ]
  },
  {
   "cell_type": "code",
   "execution_count": 3,
   "id": "4e080faa",
   "metadata": {},
   "outputs": [
    {
     "data": {
      "text/plain": [
       "array([0.90589874, 0.90960195, 0.74722338, 0.82310232, 0.26763656,\n",
       "       0.08770086, 0.26731961, 0.70165033, 0.77665833, 0.37364504])"
      ]
     },
     "execution_count": 3,
     "metadata": {},
     "output_type": "execute_result"
    }
   ],
   "source": [
    "rng.random(size=10)"
   ]
  },
  {
   "cell_type": "code",
   "execution_count": 4,
   "id": "a5284ede",
   "metadata": {},
   "outputs": [],
   "source": [
    "def sample_from_uniform_scatter(sample_size=10**2, perc=None):\n",
    "    \n",
    "    sample = rng.random(size=sample_size)\n",
    "\n",
    "    fig, ax = plt.subplots(figsize=(8, 6))\n",
    "\n",
    "    sns.scatterplot(x=sample, y=0, color='c')\n",
    "\n",
    "    ax.axhline(0, c='k', linestyle='--', alpha=.2)\n",
    "    \n",
    "    if perc:\n",
    "        ax.axvline(perc, c='m', linestyle='--')\n",
    "\n",
    "    ax.set_xticks(np.arange(-.1, 1.2, .1));\n",
    "    \n",
    "    return sample"
   ]
  },
  {
   "cell_type": "code",
   "execution_count": 5,
   "id": "bc09c69c",
   "metadata": {},
   "outputs": [
    {
     "data": {
      "text/plain": [
       "array([0.16165231, 0.30668439, 0.29964548, ..., 0.52466025, 0.00373206,\n",
       "       0.29818011])"
      ]
     },
     "execution_count": 5,
     "metadata": {},
     "output_type": "execute_result"
    },
    {
     "data": {
      "image/png": "[encoded data removed]",
      "text/plain": [
       "<Figure size 576x432 with 1 Axes>"
      ]
     },
     "metadata": {
      "needs_background": "light"
     },
     "output_type": "display_data"
    }
   ],
   "source": [
    "sample_from_uniform_scatter(sample_size=10**4)"
   ]
  },
  {
   "cell_type": "markdown",
   "id": "65a9937b",
   "metadata": {},
   "source": [
    "By sampling big enough sample from $\\mathcal{U}[0, 1]$ we might get a sense of how its p.d.f looks like."
   ]
  },
  {
   "cell_type": "code",
   "execution_count": 6,
   "id": "13a8e3a3",
   "metadata": {},
   "outputs": [],
   "source": [
    "def sample_from_uniform_hist(sample_size=10**6):\n",
    "    \n",
    "    fig, ax = plt.subplots(3, 1, figsize=(24, 18))\n",
    "    \n",
    "    outcomes = rng.random(size=sample_size)\n",
    "    \n",
    "    sns.histplot(ax=ax[0], x=outcomes, bins=10, stat='density')\n",
    "    sns.histplot(ax=ax[1], x=outcomes, bins=10, stat='probability')\n",
    "    sns.histplot(ax=ax[2], x=outcomes, bins=10, stat='probability', cumulative=True)\n",
    "    \n",
    "    ax[0].set_xticks(np.arange(0, 1.1, .1))\n",
    "    ax[1].set_xticks(np.arange(0, 1.1, .1))\n",
    "    ax[2].set_xticks(np.arange(0, 1.1, .1))\n",
    "    \n",
    "    ax[1].set_yticks(np.arange(0, 1.2, .2))\n",
    "    \n",
    "    ax[2].set_ylabel('Cumulative Probability')"
   ]
  },
  {
   "cell_type": "code",
   "execution_count": 7,
   "id": "ca0a6b90",
   "metadata": {},
   "outputs": [
    {
     "data": {
      "image/png": "[encoded data removed]",
      "text/plain": [
       "<Figure size 1728x1296 with 3 Axes>"
      ]
     },
     "metadata": {
      "needs_background": "light"
     },
     "output_type": "display_data"
    }
   ],
   "source": [
    "sample_from_uniform_hist(sample_size=10**6)"
   ]
  },
  {
   "cell_type": "markdown",
   "id": "cfd0ab33",
   "metadata": {},
   "source": [
    "For RV $X\\sim\\mathcal{U}[a, b]$ we have its p.d.f, c.d.f and quantile function:\n",
    "\n",
    "$$\\varphi(x) = \n",
    "\\begin{cases}\n",
    "\\frac{1}{b-a},\\quad x\\in[a, b],\\\\\n",
    "0,\\quad {\\rm otherwise}.\n",
    "\\end{cases}\n",
    "$$\n",
    "\n",
    "$$\\$$\n",
    "\n",
    "$$F(x) = \n",
    "\\begin{cases}\n",
    "0,\\quad x < a,\\\\\n",
    "\\frac{x-a}{b-a},\\quad a\\leqslant x\\leqslant b,\\\\\n",
    "1,\\quad x > b.\n",
    "\\end{cases}\n",
    "$$\n",
    "\n",
    "$$\\$$\n",
    "\n",
    "$$Q(p) = a + p(b-a).$$"
   ]
  },
  {
   "cell_type": "markdown",
   "id": "2c339739",
   "metadata": {},
   "source": [
    "*We are sampling numbers from interval $[1, 4]$ uniformly at random. What is the probability of getting a number in the subinterval $[2, 3]$?*\n",
    "\n",
    "So, we have $X\\sim\\mathcal{U}[1,4]$, and we calculate\n",
    "\n",
    "$$P(2 < X < 3) = F(3) - F(2) = \\frac{3-1}{4-1} - \\frac{2-1}{4-1} = \\frac{2}{3} - \\frac{1}{3} = \\frac{1}{3},$$\n",
    "\n",
    "Which makes sense - subinterval [2, 3] is one third of the [1, 4] interval."
   ]
  },
  {
   "cell_type": "markdown",
   "id": "026cdaa2",
   "metadata": {},
   "source": [
    "*What's the probability of getting a number greater than 3.99?*\n",
    "\n",
    "$$P(X > 3.99) = 1 - F(3.99) = 1 - \\frac{2.99}{3} \\approx 1 - 0.9967 = 0.0033.$$"
   ]
  },
  {
   "cell_type": "markdown",
   "id": "4ab3d31d",
   "metadata": {},
   "source": [
    "*If we sample numbers from interval $[0, 1]$ uniformly at random, find the point $x$ in that interval below which we expect to have 75% of our sample.*\n",
    "\n",
    "Here we use quantile function\n",
    "\n",
    "$$x = Q(0.75) = 0 + 0.75\\cdot 1 = 0.75,$$\n",
    "\n",
    "which is also an expected answer, given that we're sampling from the uniform distribution."
   ]
  },
  {
   "cell_type": "code",
   "execution_count": 8,
   "id": "ad199933",
   "metadata": {},
   "outputs": [
    {
     "data": {
      "image/png": "[encoded data removed]",
      "text/plain": [
       "<Figure size 576x432 with 1 Axes>"
      ]
     },
     "metadata": {
      "needs_background": "light"
     },
     "output_type": "display_data"
    }
   ],
   "source": [
    "sample = sample_from_uniform_scatter(sample_size=10**2, perc=.75)"
   ]
  },
  {
   "cell_type": "code",
   "execution_count": 9,
   "id": "aadf8907",
   "metadata": {},
   "outputs": [
    {
     "data": {
      "text/plain": [
       "0.76"
      ]
     },
     "execution_count": 9,
     "metadata": {},
     "output_type": "execute_result"
    }
   ],
   "source": [
    "#ratio of points below 0.75\n",
    "\n",
    "len(sample[sample < .75])/len(sample)"
   ]
  },
  {
   "cell_type": "markdown",
   "id": "a3e3285d",
   "metadata": {},
   "source": [
    "#### SciPy-stuff"
   ]
  },
  {
   "cell_type": "markdown",
   "id": "8ced947e",
   "metadata": {},
   "source": [
    "For Continuous Uniform Distribution we use `uniform` object from `scipy.stats` module:"
   ]
  },
  {
   "cell_type": "code",
   "execution_count": 10,
   "id": "5ea3eeef",
   "metadata": {},
   "outputs": [],
   "source": [
    "from scipy.stats import uniform"
   ]
  },
  {
   "cell_type": "markdown",
   "id": "f042a21a",
   "metadata": {},
   "source": [
    "By default, `uniform` samples from $\\mathcal{U}[0,1]$. If we want to sample from some other interval, we need to pass `loc` and `scale` in as arguments in its methods. Then we sample from $\\mathcal{U}[{\\rm loc,\\ loc\\ +\\ scale}]$.\n",
    "\n",
    "For example, if we want to sample from $\\mathcal{U}[-1.1,\\ \\pi]$ we do:"
   ]
  },
  {
   "cell_type": "code",
   "execution_count": 11,
   "id": "4c4b0534",
   "metadata": {},
   "outputs": [
    {
     "data": {
      "text/plain": [
       "array([ 0.19186552, -0.46685169,  2.20024603,  2.57482426, -0.62438617,\n",
       "        1.62350436, -0.91481759,  0.66637962,  2.76702304, -0.98448177,\n",
       "        1.00600182,  1.61884276,  1.33869489,  2.14427009, -0.7303674 ,\n",
       "        0.75727587,  1.04118562,  0.64884492, -1.01887676,  1.8809462 ,\n",
       "        1.45156478, -0.66235174,  1.91255349,  2.13590996,  2.62347598,\n",
       "       -0.3830177 , -0.72666457,  1.1921288 , -0.03433224,  0.07405255,\n",
       "        1.36065433,  0.1548189 ,  1.27310535, -0.53627917,  1.70684509,\n",
       "        3.0466969 , -0.60379607,  1.22273972,  1.02609667,  2.35735492,\n",
       "        2.56475772, -1.06038907,  0.15857013,  1.91765622,  2.55227084,\n",
       "        0.91029556,  0.63528973, -0.23815453, -0.2748147 ,  1.50231675,\n",
       "        1.93591095, -0.87601994,  2.54125659,  2.052421  ,  1.8989276 ,\n",
       "       -0.84080485,  2.02804905,  0.28381586,  2.21316087,  1.64756009,\n",
       "        1.5872623 ,  0.71740326,  2.53975417,  1.38869814,  2.2186971 ,\n",
       "       -0.41378878, -0.14406873,  1.98687928,  1.57990712,  2.15237299,\n",
       "        1.38585755,  1.40010441,  0.92836663,  0.23393396,  1.5204286 ,\n",
       "        0.04146601,  1.98218134, -1.0948779 , -0.00490771,  2.96316874,\n",
       "       -1.0514299 , -1.09099811, -0.43568156, -0.20564398,  0.88434528,\n",
       "        1.97242178,  2.07988833,  1.28046156,  2.42929605,  2.24250516,\n",
       "        1.27666142,  0.87643239, -0.93539145,  0.98618864,  2.89004481,\n",
       "        0.73597619,  0.24581781,  0.95405253, -0.54885983,  1.96116152])"
      ]
     },
     "execution_count": 11,
     "metadata": {},
     "output_type": "execute_result"
    }
   ],
   "source": [
    "uniform.rvs(loc=-1.1, scale=1.1 + math.pi, size=100)"
   ]
  },
  {
   "cell_type": "markdown",
   "id": "5d2556aa",
   "metadata": {},
   "source": [
    "If we want to compute a value of p.d.f for RV $X\\sim\\mathcal{U}[-1.1,\\ \\pi]$ at some point $x$, we use `.pdf()` method:"
   ]
  },
  {
   "cell_type": "code",
   "execution_count": 12,
   "id": "e24bc740",
   "metadata": {},
   "outputs": [
    {
     "data": {
      "text/plain": [
       "0.2357604988667803"
      ]
     },
     "execution_count": 12,
     "metadata": {},
     "output_type": "execute_result"
    }
   ],
   "source": [
    "uniform.pdf(x=3, loc=-1.1, scale=1.1 + math.pi)"
   ]
  },
  {
   "cell_type": "code",
   "execution_count": 13,
   "id": "9f6f354b",
   "metadata": {},
   "outputs": [
    {
     "data": {
      "text/plain": [
       "0.2357604988667803"
      ]
     },
     "execution_count": 13,
     "metadata": {},
     "output_type": "execute_result"
    }
   ],
   "source": [
    "uniform.pdf(x=math.sqrt(2), loc=-1.1, scale=1.1 + math.pi)"
   ]
  },
  {
   "cell_type": "code",
   "execution_count": 14,
   "id": "8f4d8e42",
   "metadata": {},
   "outputs": [
    {
     "data": {
      "text/plain": [
       "0.0"
      ]
     },
     "execution_count": 14,
     "metadata": {},
     "output_type": "execute_result"
    }
   ],
   "source": [
    "uniform.pdf(x=3.2, loc=-1.1, scale=1.1 + math.pi)"
   ]
  },
  {
   "cell_type": "markdown",
   "id": "54133b64",
   "metadata": {},
   "source": [
    "We can answer questions posed above for RV $X\\sim\\mathcal{U}[1, 4]$, without needing to do any calculations using `.cdf()` method:"
   ]
  },
  {
   "cell_type": "code",
   "execution_count": 15,
   "id": "8bde1172",
   "metadata": {},
   "outputs": [
    {
     "data": {
      "text/plain": [
       "0.3333333333333333"
      ]
     },
     "execution_count": 15,
     "metadata": {},
     "output_type": "execute_result"
    }
   ],
   "source": [
    "uniform.cdf(x=3, loc=1, scale=3) - uniform.cdf(x=2, loc=1, scale=3)"
   ]
  },
  {
   "cell_type": "code",
   "execution_count": 16,
   "id": "85c0a40a",
   "metadata": {},
   "outputs": [
    {
     "data": {
      "text/plain": [
       "0.0033333333333332993"
      ]
     },
     "execution_count": 16,
     "metadata": {},
     "output_type": "execute_result"
    }
   ],
   "source": [
    "1 - uniform.cdf(x=3.99, loc=1, scale=3)"
   ]
  },
  {
   "cell_type": "markdown",
   "id": "5cf58df4",
   "metadata": {},
   "source": [
    "We can also look for values of quantile function using `.ppf()` method (because quantile function is also called *percent point function*):"
   ]
  },
  {
   "cell_type": "code",
   "execution_count": 17,
   "id": "59cbfc54",
   "metadata": {},
   "outputs": [
    {
     "data": {
      "text/plain": [
       "0.75"
      ]
     },
     "execution_count": 17,
     "metadata": {},
     "output_type": "execute_result"
    }
   ],
   "source": [
    "uniform.ppf(q=.75)"
   ]
  },
  {
   "cell_type": "markdown",
   "id": "9f0bf68c",
   "metadata": {},
   "source": [
    "### Exponential Distribution"
   ]
  },
  {
   "cell_type": "markdown",
   "id": "e6a9273f",
   "metadata": {},
   "source": [
    "Exponential distribution is the distribution of time between events in a process in which same events occur continuously and independently at a constant average rate. It's denoted by $\\mathcal{E}(\\beta)$, where $\\beta$ is its parameter, called *scale parameter*, and it denotes an average time by which event should occur.\n",
    "\n",
    "We can sample from Exponential Distribution using `rng.exponential()`:"
   ]
  },
  {
   "cell_type": "code",
   "execution_count": 18,
   "id": "6d9e9597",
   "metadata": {},
   "outputs": [
    {
     "data": {
      "text/plain": [
       "5.665433724043872"
      ]
     },
     "execution_count": 18,
     "metadata": {},
     "output_type": "execute_result"
    }
   ],
   "source": [
    "rng.exponential(scale=3)"
   ]
  },
  {
   "cell_type": "markdown",
   "id": "3db601f3",
   "metadata": {},
   "source": [
    "Let's sample bigger sample from $\\mathcal{E}(3)$, to see how the points are going to be distributed."
   ]
  },
  {
   "cell_type": "code",
   "execution_count": 19,
   "id": "b150a020",
   "metadata": {},
   "outputs": [],
   "source": [
    "def sample_from_exponential_scatter(beta, sample_size=10**2, perc=None):\n",
    "    \n",
    "    sample = rng.exponential(scale=beta, size=sample_size)\n",
    "\n",
    "    fig, ax = plt.subplots(figsize=(8, 6))\n",
    "\n",
    "    sns.scatterplot(x=sample, y=0, color='c')\n",
    "\n",
    "    ax.axhline(0, c='k', linestyle='--', alpha=.2)\n",
    "    \n",
    "    if perc:\n",
    "        \n",
    "        med = -beta*np.log(1-perc)\n",
    "        ax.axvline(med, c='m', linestyle='--')\n",
    "\n",
    "\n",
    "    ax.set_xticks(np.arange(0, sample.max() + 1, 1));\n",
    "    \n",
    "    return sample"
   ]
  },
  {
   "cell_type": "code",
   "execution_count": 20,
   "id": "d2dacb6f",
   "metadata": {},
   "outputs": [
    {
     "data": {
      "image/png": "[encoded data removed]",
      "text/plain": [
       "<Figure size 576x432 with 1 Axes>"
      ]
     },
     "metadata": {
      "needs_background": "light"
     },
     "output_type": "display_data"
    }
   ],
   "source": [
    "sample_from_exponential_scatter(3, sample_size=10**2);"
   ]
  },
  {
   "cell_type": "markdown",
   "id": "b9468164",
   "metadata": {},
   "source": [
    "But to get the true feel of how p.d.f. and c.d.f look like for Exponential Distribution, we'll use the following example:\n",
    "\n",
    "Exponential Function can be used to model particle decay, which is a stochastic process. A particle decays at random time, which follows $\\mathcal{E}(\\beta)$ distribution, where $\\beta$ is an average *lifetime of a particle*. Let's observe a particle that has an average lifetime of some unit inerval $\\beta = 1$. We sample $N$ particles from a population of these particles and plot their lifetimes using histogram."
   ]
  },
  {
   "cell_type": "code",
   "execution_count": 21,
   "id": "6aa34f48",
   "metadata": {},
   "outputs": [],
   "source": [
    "def sample_from_exponential_hist(beta, sample_size=10**3):\n",
    "    \n",
    "    fig, ax = plt.subplots(3, 1, figsize=(24, 18))\n",
    "    \n",
    "    sample = rng.exponential(scale=beta, size=sample_size)\n",
    "    \n",
    "    sns.histplot(ax=ax[0], x=sample, bins=100, stat='density')\n",
    "    sns.histplot(ax=ax[1], x=sample, bins=100, stat='probability')\n",
    "    sns.histplot(ax=ax[2], x=sample, bins=100, stat='probability', cumulative=True)\n",
    "    \n",
    "    ax[0].set_xticks(np.arange(0, sample.max() + 1, 1))\n",
    "    ax[1].set_xticks(np.arange(0, sample.max() + 1, 1))\n",
    "    ax[2].set_xticks(np.arange(0, sample.max() + 1, 1))\n",
    "    \n",
    "    ax[1].set_yticks(np.arange(0, 1.2, .2))\n",
    "    \n",
    "    ax[2].set_ylabel('Cumulative Probability')"
   ]
  },
  {
   "cell_type": "code",
   "execution_count": 22,
   "id": "fb6d2350",
   "metadata": {},
   "outputs": [
    {
     "data": {
      "image/png": "[encoded data removed]",
      "text/plain": [
       "<Figure size 1728x1296 with 3 Axes>"
      ]
     },
     "metadata": {
      "needs_background": "light"
     },
     "output_type": "display_data"
    }
   ],
   "source": [
    "sample_from_exponential_hist(beta=1, sample_size=10**6)"
   ]
  },
  {
   "cell_type": "markdown",
   "id": "82b7d264",
   "metadata": {},
   "source": [
    "Distribution seems familiar? This is because we may consinder Exponential Distribution as a coninuous generalization of Geometrical Distribution."
   ]
  },
  {
   "cell_type": "markdown",
   "id": "8b2cc18c",
   "metadata": {},
   "source": [
    "For RV $X\\sim\\mathcal{E}(\\beta)$ we have its p.d.f, c.d.f and quantile function:\n",
    "\n",
    "$$\\varphi(x;\\beta) = \n",
    "\\begin{cases}\n",
    "\\frac{1}{\\beta}e^{-x/\\beta},\\quad x\\geqslant 0,\\\\\n",
    "0,\\quad x < 0.\n",
    "\\end{cases}\n",
    "$$\n",
    "\n",
    "$$\\$$\n",
    "\n",
    "$$F(x;\\beta) = \n",
    "\\begin{cases}\n",
    "1 - e^{-x/\\beta},\\quad x\\geqslant 0,\\\\\n",
    "0,\\quad x < 0.\n",
    "\\end{cases}\n",
    "$$\n",
    "\n",
    "$$\\$$\n",
    "\n",
    "$$Q(p;\\beta) = -\\beta\\ln(1 - p).$$"
   ]
  },
  {
   "cell_type": "markdown",
   "id": "395ff90f",
   "metadata": {},
   "source": [
    "#### SciPy-stuff"
   ]
  },
  {
   "cell_type": "markdown",
   "id": "71a83b10",
   "metadata": {},
   "source": [
    "For Exponential Distribution we use `expon` object from `scipy.stats` module, along with corresponding methods."
   ]
  },
  {
   "cell_type": "code",
   "execution_count": 23,
   "id": "66b444ea",
   "metadata": {},
   "outputs": [],
   "source": [
    "from scipy.stats import expon"
   ]
  },
  {
   "cell_type": "markdown",
   "id": "c9484571",
   "metadata": {},
   "source": [
    "Sampling from $\\mathcal{E}(1/3)$:"
   ]
  },
  {
   "cell_type": "code",
   "execution_count": 24,
   "id": "edbe038a",
   "metadata": {},
   "outputs": [
    {
     "data": {
      "text/plain": [
       "array([7.95995686e-01, 1.55960211e-01, 4.10266197e-02, 3.79121426e-02,\n",
       "       6.14918035e-01, 5.63374403e-01, 1.52108405e-01, 1.06639144e-01,\n",
       "       4.26702573e-01, 9.08670678e-02, 5.55846030e-01, 4.36739946e-04,\n",
       "       9.16376199e-01, 4.97516893e-01, 4.27092973e-01, 6.80104941e-04,\n",
       "       1.63849475e-01, 9.77122649e-02, 1.35749251e-01, 5.66378171e-01,\n",
       "       4.43887166e-01, 5.75295835e-02, 1.18767922e+00, 3.83845483e-01,\n",
       "       3.12403737e-02, 5.80941563e-01, 4.21368555e-01, 8.71702304e-01,\n",
       "       3.51403020e-01, 1.51201107e-01, 4.18468781e-01, 1.47257926e-01,\n",
       "       1.64537142e+00, 4.85525534e-02, 1.82978645e-01, 8.51655476e-01,\n",
       "       3.56463405e-01, 4.66551294e-01, 6.01782938e-01, 8.48077029e-02,\n",
       "       8.43596935e-02, 4.93189125e-01, 5.32047624e-01, 4.23229243e-01,\n",
       "       6.48386123e-01, 1.74149179e-01, 2.92811017e-01, 1.47496042e-01,\n",
       "       4.35930167e-01, 1.05972921e-01, 5.28326104e-01, 2.98569809e-01,\n",
       "       2.42580525e-01, 3.50084598e-02, 2.17165953e-01, 4.25877868e-01,\n",
       "       4.00420457e-01, 2.43716666e-01, 4.96597691e-02, 7.65854091e-01,\n",
       "       4.30715024e-02, 3.73870360e-02, 3.87091544e-01, 2.26350112e-01,\n",
       "       7.45376655e-03, 6.80010643e-02, 4.02036211e-02, 8.08401619e-02,\n",
       "       1.58905313e-01, 1.44465362e-02, 2.34994013e-01, 5.47471937e-03,\n",
       "       4.50110655e-02, 2.31108621e-01, 3.17724680e-01, 7.19434958e-02,\n",
       "       1.11421005e-01, 2.07342758e-01, 4.73878671e-01, 7.42229714e-01,\n",
       "       1.42638165e-02, 6.86039440e-01, 1.68984243e-01, 4.80326577e-02,\n",
       "       2.29798863e-01, 2.74310644e-01, 4.44549070e-01, 7.61986288e-02,\n",
       "       9.88811776e-02, 5.63981495e-01, 3.33892330e-01, 1.06446727e-02,\n",
       "       1.44828220e-01, 1.02226808e-02, 1.21822329e-01, 4.50984578e-01,\n",
       "       7.36688690e-02, 4.02316941e-01, 4.51208172e-01, 1.68582020e-01])"
      ]
     },
     "execution_count": 24,
     "metadata": {},
     "output_type": "execute_result"
    }
   ],
   "source": [
    "expon.rvs(scale=1/3, size=100)"
   ]
  },
  {
   "cell_type": "markdown",
   "id": "f7f3e46f",
   "metadata": {},
   "source": [
    "*It's a busy day and we are receiving, on average, 35 messages per hour. What's the probability of not getting any message in 15 minutes interval?*\n",
    "\n",
    "We need to calculate \n",
    "\n",
    "$$P(X > 0.25) = 1 - P(X\\leqslant 0.25) = 1 - F(0.25),$$\n",
    "\n",
    "where $X\\sim\\mathcal{E}\\big(\\frac{1}{35}\\big)$."
   ]
  },
  {
   "cell_type": "code",
   "execution_count": 25,
   "id": "c7919cc4",
   "metadata": {},
   "outputs": [
    {
     "data": {
      "text/plain": [
       "0.00015846132511576627"
      ]
     },
     "execution_count": 25,
     "metadata": {},
     "output_type": "execute_result"
    }
   ],
   "source": [
    "1 - expon.cdf(x=.25, scale=1/35)"
   ]
  },
  {
   "cell_type": "markdown",
   "id": "9b72e40b",
   "metadata": {},
   "source": [
    "*Let's get back to our particle decay. What's the half-life of a particle with an average lifetime of $\\beta = 1$?*\n",
    "\n",
    "For a population of particles, *half-life* is time interval within which a half of the particles in the population is expected to decay. In case you are telling to yourself that you didn't come to this course to do nuclear physics, all is fine - here you just need to do something you might be doing quite often in your job: compute the median. In this case a median for a population with $\\mathcal{E}(1)$ distribution. And you don't need to really calculate it - SciPy can do it for you, using quantile function:"
   ]
  },
  {
   "cell_type": "code",
   "execution_count": 26,
   "id": "c5bea28c",
   "metadata": {},
   "outputs": [
    {
     "data": {
      "text/plain": [
       "0.6931471805599453"
      ]
     },
     "execution_count": 26,
     "metadata": {},
     "output_type": "execute_result"
    }
   ],
   "source": [
    "expon.ppf(q=.5, scale=1)"
   ]
  },
  {
   "cell_type": "code",
   "execution_count": 27,
   "id": "d581872b",
   "metadata": {
    "scrolled": false
   },
   "outputs": [
    {
     "data": {
      "image/png": "[encoded data removed]",
      "text/plain": [
       "<Figure size 576x432 with 1 Axes>"
      ]
     },
     "metadata": {
      "needs_background": "light"
     },
     "output_type": "display_data"
    }
   ],
   "source": [
    "sample = sample_from_exponential_scatter(beta=1, sample_size=10**2, perc=.5)"
   ]
  },
  {
   "cell_type": "code",
   "execution_count": 28,
   "id": "c21adc9a",
   "metadata": {},
   "outputs": [
    {
     "data": {
      "text/plain": [
       "0.55"
      ]
     },
     "execution_count": 28,
     "metadata": {},
     "output_type": "execute_result"
    }
   ],
   "source": [
    "len(sample[sample < 0.6931])/len(sample)"
   ]
  },
  {
   "cell_type": "markdown",
   "id": "59c88766",
   "metadata": {},
   "source": [
    "*Note*: Quite often Exponential Distribution is given by its *rate parameter* $\\lambda$ which is the inverse of scale parameter $\\beta$, i.e. $\\lambda = \\frac{1}{\\beta}$."
   ]
  },
  {
   "cell_type": "markdown",
   "id": "91eb4520",
   "metadata": {},
   "source": [
    "### Normal (Gaussian) Distribution"
   ]
  },
  {
   "cell_type": "markdown",
   "id": "2f3924a7",
   "metadata": {},
   "source": [
    "Ah, the queen of distributions: well-known Normal Distribution with its so-called 'bell curve', loved and used both natural and social scientists alike. One of its main usages is using it as a distribution for random variables that have unknown distributions. This is the consequence of *Central Limit Theorem* which, loosely speaking, says that if we take a sample large enough, from a population with unknown distribution, we can approximate that distribution by Normal Distribution using the sample's mean and variance... under certain conditions of course. \n",
    "\n",
    "Normal Distribution, denoted by $\\mathcal{N}(\\mu, \\sigma^2)$, has two parameters:\n",
    "\n",
    "- $\\mu$: *mean*, which dictates the peak of the bell-curve, i.e. a point which neighbourhood should be most densly populated by samples;\n",
    "\n",
    "- $\\sigma$: *standard deviation*, which dictates the thickness of the bell-curve, i.e. the dispersion of the sample away from the mean.\n",
    "\n",
    "$\\sigma^2$ which appears in the notation above is called *variance*."
   ]
  },
  {
   "cell_type": "markdown",
   "id": "072f5ba6",
   "metadata": {},
   "source": [
    "We're going to plot p.d.f. and c.d.f of Normal Distribution by sampling. To sample from a population with Normal Distribution we use `rng.normal()` with arguments `loc` for $\\mu$ and `scale` for $\\sigma$."
   ]
  },
  {
   "cell_type": "markdown",
   "id": "c1dd5853",
   "metadata": {},
   "source": [
    "*Average height of some population is 176cm with standard deviation of 6cm. Assuming that the height in this population is normally distributed, plot the heights from a random sample drawn from this population.*"
   ]
  },
  {
   "cell_type": "markdown",
   "id": "084ac157",
   "metadata": {},
   "source": [
    "We sample from $\\mathcal{N}(176, 36)$."
   ]
  },
  {
   "cell_type": "code",
   "execution_count": 29,
   "id": "5ad669c2",
   "metadata": {},
   "outputs": [],
   "source": [
    "def sample_from_normal_scatter(mu, sigma, sample_size=10**2):\n",
    "    \n",
    "    sample = rng.normal(loc=mu, scale=sigma, size=sample_size)\n",
    "\n",
    "    fig, ax = plt.subplots(figsize=(16, 8))\n",
    "\n",
    "    sns.scatterplot(x=sample, y=0, color='c')\n",
    "\n",
    "    ax.axhline(0, c='k', linestyle='--', alpha=.2)\n",
    "    \n",
    "    ax.set_xticks(np.arange(round(sample.min()), sample.max() + 2, 2));"
   ]
  },
  {
   "cell_type": "code",
   "execution_count": 30,
   "id": "1ea868f9",
   "metadata": {},
   "outputs": [
    {
     "data": {
      "image/png": "[encoded data removed]",
      "text/plain": [
       "<Figure size 1152x576 with 1 Axes>"
      ]
     },
     "metadata": {
      "needs_background": "light"
     },
     "output_type": "display_data"
    }
   ],
   "source": [
    "sample_from_normal_scatter(mu=176, sigma=6, sample_size=10**2)"
   ]
  },
  {
   "cell_type": "code",
   "execution_count": 31,
   "id": "586160b6",
   "metadata": {},
   "outputs": [],
   "source": [
    "def sample_from_normal_hist(mu, sigma, sample_size=10**3):\n",
    "    \n",
    "    fig, ax = plt.subplots(3, 1, figsize=(24, 18))\n",
    "    \n",
    "    sample = rng.normal(loc=mu, scale=sigma, size=sample_size)\n",
    "    \n",
    "    sns.histplot(ax=ax[0], x=sample, bins=100, stat='density')\n",
    "    sns.histplot(ax=ax[1], x=sample, bins=100, stat='probability')\n",
    "    sns.histplot(ax=ax[2], x=sample, bins=100, stat='probability', cumulative=True)\n",
    "    \n",
    "    ax[0].axvline(mu, c='r')\n",
    "    \n",
    "    ax[0].axvline(mu - sigma, c='g', linestyle='--')\n",
    "    ax[0].axvline(mu + sigma, c='g', linestyle='--')\n",
    "    \n",
    "    ax[0].axvline(mu - 2*sigma, c='g', linestyle='--', alpha=.5)\n",
    "    ax[0].axvline(mu + 2*sigma, c='g', linestyle='--', alpha=.5)\n",
    "    \n",
    "    ax[0].axvline(mu - 3*sigma, c='g', linestyle='--', alpha=.25)\n",
    "    ax[0].axvline(mu + 3*sigma, c='g', linestyle='--', alpha=.25)\n",
    "\n",
    "    \n",
    "    ax[0].set_xticks(np.arange(round(sample.min()) - 1, sample.max() + sigma, sigma))\n",
    "    ax[1].set_xticks(np.arange(round(sample.min()) - 1, sample.max() + sigma, sigma))\n",
    "    ax[2].set_xticks(np.arange(round(sample.min()) - 1, sample.max() + sigma, sigma))\n",
    "    \n",
    "    ax[1].set_yticks(np.arange(0, 1.2, .2))\n",
    "    \n",
    "    ax[2].set_ylabel('Cumulative Probability')"
   ]
  },
  {
   "cell_type": "code",
   "execution_count": 32,
   "id": "7e717cb6",
   "metadata": {},
   "outputs": [
    {
     "data": {
      "image/png": "[encoded data removed]",
      "text/plain": [
       "<Figure size 1728x1296 with 3 Axes>"
      ]
     },
     "metadata": {
      "needs_background": "light"
     },
     "output_type": "display_data"
    }
   ],
   "source": [
    "sample_from_normal_hist(mu=176, sigma=6, sample_size=10**6)"
   ]
  },
  {
   "cell_type": "markdown",
   "id": "b76bc06d",
   "metadata": {},
   "source": [
    "The p.d.f for RV with Normal Distribution $X\\sim\\mathcal{N}(\\mu, \\sigma^2)$ is given by\n",
    "\n",
    "$$\\varphi(x) = \\frac{1}{\\sigma\\sqrt{2\\pi}}e^{-\\frac{1}{2}\\big(\\frac{x-\\mu}{\\sigma}\\big)^2}.$$"
   ]
  },
  {
   "cell_type": "markdown",
   "id": "67dc74e1",
   "metadata": {},
   "source": [
    "A very special Normal Distribution is the one with $\\mathcal{N}(0, 1)$, and it's called *Standard Normal Distribution*. Its p.d.f. and c.d.f. are\n",
    "\n",
    "$$\\varphi(z) = \\frac{1}{\\sqrt{2\\pi}}e^{-\\frac{z^2}{2}}$$\n",
    "\n",
    "$$\\$$\n",
    "\n",
    "$$\\Phi(z) = \\frac{1}{\\sqrt{2\\pi}}\\int_{-\\infty}^ze^{-\\frac{x^2}{2}}dx.$$"
   ]
  },
  {
   "cell_type": "markdown",
   "id": "28aa75b3",
   "metadata": {},
   "source": [
    "It's integrals again... shouldn't c.d.f relieve us of calculating integrals? Well, yes, but there's no simpler way to represent c.d.f for Standard Normal Distribution. Luckily, every statistics and probability textbook has a table of values of $\\Phi(z)$ for various values of $z$. \n",
    "\n",
    "Looking at one of those tables we obtain, for $Z\\sim\\mathcal{N}(0, 1)$, \n",
    "\n",
    "$$\\Phi(-2.27) = P(Z < -2.27) = 0.0116.$$"
   ]
  },
  {
   "cell_type": "markdown",
   "id": "adcd2ff4",
   "metadata": {},
   "source": [
    "We can plot p.d.f and c.d.f. by sampling from such $Z$:"
   ]
  },
  {
   "cell_type": "code",
   "execution_count": 33,
   "id": "d0858248",
   "metadata": {},
   "outputs": [
    {
     "data": {
      "image/png": "[encoded data removed]",
      "text/plain": [
       "<Figure size 1152x576 with 1 Axes>"
      ]
     },
     "metadata": {
      "needs_background": "light"
     },
     "output_type": "display_data"
    }
   ],
   "source": [
    "sample_from_normal_scatter(mu=0, sigma=1, sample_size=100)"
   ]
  },
  {
   "cell_type": "code",
   "execution_count": 34,
   "id": "8a9da9c5",
   "metadata": {},
   "outputs": [
    {
     "data": {
      "image/png": "[encoded data removed]",
      "text/plain": [
       "<Figure size 1728x1296 with 3 Axes>"
      ]
     },
     "metadata": {
      "needs_background": "light"
     },
     "output_type": "display_data"
    }
   ],
   "source": [
    "sample_from_normal_hist(mu=0, sigma=1, sample_size=10**6)"
   ]
  },
  {
   "cell_type": "markdown",
   "id": "b7a30fa6",
   "metadata": {},
   "source": [
    "*Average time for delivery service to deliver food is 30 minutes, with standard deviance of 10 minutes. Asuming the time for delivery is random variable with Normal Distribution, find probability of your order arriving more than five minutes late than average.*\n",
    "\n",
    "We have $X\\sim\\mathcal{N}(30, 100)$ and calculate\n",
    "\n",
    "$$P(X > 35) = 1 - P(X\\leqslant 35).$$\n",
    "\n",
    "But wait, we don't have c.d.f. for this Normal Distribution, because it's not standard. Worry not, we can *standardize* a RV $X\\sim\\mathcal{N}(\\mu, \\sigma)$ by applying the following transformation\n",
    "\n",
    "$$Z = \\frac{X - \\mu}{\\sigma}.$$\n",
    "\n",
    "RV $Z$ has the Standard Normal Distribution, and we can finde the value of its c.d.f. form the table. So, we continue our calculation:\n",
    "\n",
    "$$P(X > 35) = 1 - P(X\\leqslant 35) = 1 - P\\Big(\\frac{X - 30}{10}\\leqslant  \\frac{35 - 30}{10}\\Big) = 1 - P(Z\\leqslant 0.5) = 1 - \\Phi(0.5) = 1 - 0.6915 = 0.3085.$$"
   ]
  },
  {
   "cell_type": "markdown",
   "id": "d4d306d7",
   "metadata": {},
   "source": [
    "Do we really need even to look at the table. No, if you have SciPy:)"
   ]
  },
  {
   "cell_type": "markdown",
   "id": "537c589a",
   "metadata": {},
   "source": [
    "#### Sci-py stuff"
   ]
  },
  {
   "cell_type": "markdown",
   "id": "b459e52c",
   "metadata": {},
   "source": [
    "For Normal Distribution we use `norm` object from `scipy.stats` module, along with corresponding methods."
   ]
  },
  {
   "cell_type": "code",
   "execution_count": 35,
   "id": "909793a4",
   "metadata": {},
   "outputs": [],
   "source": [
    "from scipy.stats import norm"
   ]
  },
  {
   "cell_type": "markdown",
   "id": "1ea7b6a2",
   "metadata": {},
   "source": [
    "To compute the probability above, we just do the following:"
   ]
  },
  {
   "cell_type": "code",
   "execution_count": 36,
   "id": "bedc681f",
   "metadata": {},
   "outputs": [
    {
     "data": {
      "text/plain": [
       "0.3085375387259869"
      ]
     },
     "execution_count": 36,
     "metadata": {},
     "output_type": "execute_result"
    }
   ],
   "source": [
    "1 - norm.cdf(x=.5)"
   ]
  },
  {
   "cell_type": "markdown",
   "id": "a5cbb156",
   "metadata": {},
   "source": [
    "We don't even need to standardize the RV, we can just pass `loc` and `scale` arguments in `.cdf()` method for $\\mu$ and $\\sigma$, respectively:"
   ]
  },
  {
   "cell_type": "code",
   "execution_count": 37,
   "id": "5f76d4a1",
   "metadata": {},
   "outputs": [
    {
     "data": {
      "text/plain": [
       "0.3085375387259869"
      ]
     },
     "execution_count": 37,
     "metadata": {},
     "output_type": "execute_result"
    }
   ],
   "source": [
    "1 - norm.cdf(x=35, loc=30, scale=10)"
   ]
  },
  {
   "cell_type": "markdown",
   "id": "1fe1c1f3",
   "metadata": {},
   "source": [
    "Getting back to our height example: *what's the height below which we are to expect to find 5% population from the sample?* This requires qantile function. If you remember, we have for our RV $\\mathcal{N}(176, 36)$, so we compute: "
   ]
  },
  {
   "cell_type": "code",
   "execution_count": 38,
   "id": "e28dd0bc",
   "metadata": {},
   "outputs": [
    {
     "data": {
      "text/plain": [
       "166.13087823829116"
      ]
     },
     "execution_count": 38,
     "metadata": {},
     "output_type": "execute_result"
    }
   ],
   "source": [
    "norm.ppf(q=.05, loc=176, scale=6)"
   ]
  },
  {
   "cell_type": "markdown",
   "id": "d4bd6299",
   "metadata": {},
   "source": [
    "## 3. Mathematical Expectation and Mathematical Variance"
   ]
  },
  {
   "cell_type": "markdown",
   "id": "f45d2d33",
   "metadata": {},
   "source": [
    "In a previous example for food delivery, we said that the average time for the delivery to happen is 30 minutes. Intuitivelly, you are going to *expect* your delivery in some thirty minutes. Is this *(mathematical) expectation* (or *expected value*) some kind of 'average' of a random variable? Is the average value of a sample drawn from a distribution equal to the expected value of the distribution? Generally it isn't. But it could be almost equal. If the sample is big enough. \n",
    "\n",
    "The difference between average of a sample and an expected value of a distribution is the difference between *sample mean* and *theoretical mean*. We're going to further illuminate this difference later on; but first, let's define mathematical expectation of a random variable more formally."
   ]
  },
  {
   "cell_type": "markdown",
   "id": "4520d6cf",
   "metadata": {},
   "source": [
    "### Expectation for Discrete-type Random Variable"
   ]
  },
  {
   "cell_type": "markdown",
   "id": "81696976",
   "metadata": {},
   "source": [
    "Let $X$ be a discrete-type RV\n",
    "\n",
    "$$ X :\n",
    "\\begin{pmatrix}\n",
    "a_1 & a_2 & \\cdots & a_n\\\\\n",
    "p_1 & p_2 & \\cdots & p_n \n",
    "\\end{pmatrix}.\n",
    "$$\n",
    "\n",
    "Its expected value $EX$ is calculated as:\n",
    "\n",
    "$$EX = a_1p_1 + a_2p_2 + \\cdots + a_np_n.$$\n",
    "\n",
    "If RV $X$ takes infinite values, then this sum is infinite. "
   ]
  },
  {
   "cell_type": "markdown",
   "id": "608d8642",
   "metadata": {},
   "source": [
    "For rolling a six-sided die we have a distribution\n",
    "\n",
    "$$ X :\n",
    "\\begin{pmatrix}\n",
    "1 & 2 & 3 & 4 & 5 & 6\\\\\n",
    "\\frac{1}{6} & \\frac{1}{6} & \\frac{1}{6} & \\frac{1}{6} & \\frac{1}{6} & \\frac{1}{6}\n",
    "\\end{pmatrix},\n",
    "$$\n",
    "\n",
    "and its expected value is\n",
    "\n",
    "$$EX = \\frac{1+2+3+4+5+6}{6} = \\frac{21}{6} = 3.5 .$$"
   ]
  },
  {
   "cell_type": "markdown",
   "id": "e71d3807",
   "metadata": {},
   "source": [
    "Let's roll some dices again. We roll a die 10 times and compute its mean value. This is how we get sample mean $\\bar{X}$. "
   ]
  },
  {
   "cell_type": "code",
   "execution_count": 39,
   "id": "212d8fdf",
   "metadata": {},
   "outputs": [
    {
     "data": {
      "text/plain": [
       "array([2, 2, 5, 3, 6, 1, 4, 2, 6, 1])"
      ]
     },
     "execution_count": 39,
     "metadata": {},
     "output_type": "execute_result"
    }
   ],
   "source": [
    "die = list(range(1, 7))\n",
    "\n",
    "rolling = rng.choice(die, size=10)\n",
    "rolling"
   ]
  },
  {
   "cell_type": "code",
   "execution_count": 40,
   "id": "f0cf5c24",
   "metadata": {},
   "outputs": [
    {
     "data": {
      "text/plain": [
       "3.2"
      ]
     },
     "execution_count": 40,
     "metadata": {},
     "output_type": "execute_result"
    }
   ],
   "source": [
    "rolling.mean()"
   ]
  },
  {
   "cell_type": "markdown",
   "id": "9d113a96",
   "metadata": {},
   "source": [
    "Trying with more rolls..."
   ]
  },
  {
   "cell_type": "code",
   "execution_count": 41,
   "id": "84ade9b6",
   "metadata": {},
   "outputs": [
    {
     "data": {
      "text/plain": [
       "3.39"
      ]
     },
     "execution_count": 41,
     "metadata": {},
     "output_type": "execute_result"
    }
   ],
   "source": [
    "rng.choice(die, size=100).mean()"
   ]
  },
  {
   "cell_type": "code",
   "execution_count": 42,
   "id": "256717ab",
   "metadata": {},
   "outputs": [
    {
     "data": {
      "text/plain": [
       "3.500451"
      ]
     },
     "execution_count": 42,
     "metadata": {},
     "output_type": "execute_result"
    }
   ],
   "source": [
    "rng.choice(die, size=10**6).mean()"
   ]
  },
  {
   "cell_type": "markdown",
   "id": "554ed783",
   "metadata": {},
   "source": [
    "There it is: $\\bar{X}$ *almost* equal to $EX$. And you've guessed it - we would have $\\bar{X} = EX$ *exactly* if we rolled infinite amount of times. Thus we write\n",
    "\n",
    "$$EX = \\lim_{N\\rightarrow\\infty}\\bar{X}_N =\\lim_{N\\rightarrow\\infty}(X_1 + X_2 + \\cdots + X_N).$$"
   ]
  },
  {
   "cell_type": "markdown",
   "id": "4a0dd12e",
   "metadata": {},
   "source": [
    "So, sample mean approximates distribution mean when the sample is big enough. Or, in other words - expectation is *theoretical* mean, while the sample mean is *experimental* mean."
   ]
  },
  {
   "cell_type": "markdown",
   "id": "4538cb5d",
   "metadata": {},
   "source": [
    "***"
   ]
  },
  {
   "cell_type": "markdown",
   "id": "7c947679",
   "metadata": {},
   "source": [
    "Many distributions have ready formula for their expected values, and some of them even use it as a parameter (say, $\\lambda$ for Poission Distribution). Let's refresh on Binomial Distribution. For RV $X\\sim\\mathcal{B}(n, p)$ we have \n",
    "\n",
    "$$EX = np.$$\n",
    "\n",
    "For tossing a coin 10 times, we have $X\\sim\\mathcal{B}(10, 0.5)$ and we expect to land Tails $EX = 10\\cdot 0.5 = 5$ times. If we perofrm this experiment many times and plot the distribution of outcomes - we see the peak at 5. And we can also compute mean value of outcomes of all experiments: "
   ]
  },
  {
   "cell_type": "code",
   "execution_count": 43,
   "id": "343d34f0",
   "metadata": {},
   "outputs": [
    {
     "data": {
      "text/plain": [
       "0.500489"
      ]
     },
     "execution_count": 43,
     "metadata": {},
     "output_type": "execute_result"
    }
   ],
   "source": [
    "rng.choice([0, 1], size=10**6).mean()"
   ]
  },
  {
   "cell_type": "markdown",
   "id": "25c2fbfc",
   "metadata": {},
   "source": [
    "### Expectation for Continuous-type Random Variable"
   ]
  },
  {
   "cell_type": "markdown",
   "id": "1b32b4e4",
   "metadata": {},
   "source": [
    "For a coninuous RV $X$ with p.d.f $\\varphi(x)$ we compute its expected value with\n",
    "\n",
    "$$EX = \\int_{-\\infty}^{+\\infty}x\\varphi(x)dx.$$"
   ]
  },
  {
   "cell_type": "markdown",
   "id": "8504eaae",
   "metadata": {},
   "source": [
    "But don't worry - you don't need to compute this integral unless you reealy need; and you won't be doing that on this course, as the expectations of the distributions we're using are given in a formula.\n",
    "\n",
    "For example, for Exponential Distribution $\\mathcal{E}(\\beta)$ we have \n",
    "\n",
    "$$EX = \\beta.$$\n",
    "\n",
    "So, if we receive, on average, 35 messages in one hour ($X\\sim\\mathcal{E}\\big(\\frac{1}{35}\\big)$), the expected time to receive one message is, of course, $EX = 1/35 \\approx 0.029$, some 1.74 minutes. Beautiful. But let's check this."
   ]
  },
  {
   "cell_type": "code",
   "execution_count": 44,
   "id": "51a9d6c5",
   "metadata": {},
   "outputs": [
    {
     "data": {
      "text/plain": [
       "0.028042418988651775"
      ]
     },
     "execution_count": 44,
     "metadata": {},
     "output_type": "execute_result"
    }
   ],
   "source": [
    "rng.exponential(scale=1/35, size=10**4).mean()"
   ]
  },
  {
   "cell_type": "markdown",
   "id": "536ef68a",
   "metadata": {},
   "source": [
    "Normal Distribution is another distribution which uses mean $\\mu$ as a parameter."
   ]
  },
  {
   "cell_type": "markdown",
   "id": "d643526a",
   "metadata": {},
   "source": [
    "### Variance"
   ]
  },
  {
   "cell_type": "markdown",
   "id": "026fddf8",
   "metadata": {},
   "source": [
    "Variance is the *expected squared* deviation of a random variable from its mean. So, it's another expected value, and as such there exist *mathematical variance*, which is *theoretical* and sample variance, which is *experimental*.\n",
    "\n",
    "Mathematical variance is computed using the formula:\n",
    "\n",
    "$${\\rm Var}(X) = E[(X - EX)^2].$$\n",
    "\n",
    "\n",
    "Sample variance is computed using the formula:\n",
    "\n",
    "$$s^2 = \\frac{\\sum\\limits_{i=1}^{N}{(X_i - \\bar{X})^2}}{N - 1},$$\n",
    "\n",
    "where $N$ is the sample size and $\\bar{X}$ is the sample mean.\n",
    "\n",
    "For a sample big enough, sample variance approximates theoretical variance."
   ]
  },
  {
   "cell_type": "markdown",
   "id": "472da6d6",
   "metadata": {},
   "source": [
    "***"
   ]
  },
  {
   "cell_type": "markdown",
   "id": "53b01745",
   "metadata": {},
   "source": [
    "As for the expectation, there's no need to compute theoretical variance for frequently used distributions, as there is a formula. \n",
    "\n",
    "For Binomial Distribution $\\mathcal{B}(n, p)$ we have\n",
    "\n",
    "$${\\rm Var}(X) = np(1-p).$$\n",
    "\n",
    "Let's use this formula in our example for $\\mathcal{B}(10, 0.5)$ (tossing a coin 10 times) to see how sample variance approximate theoretical variance. So, the theoretical value is\n",
    "\n",
    "$${\\rm Var}(X) = 10\\cdot 0.5\\cdot 0.5 = 2.5.$$\n",
    "\n",
    "This means that we expect, when drawing a sample, to land Tails 5 $\\pm$ 2.5 times in 10 tosses, most of the time. "
   ]
  },
  {
   "cell_type": "code",
   "execution_count": 45,
   "id": "6b5d8214",
   "metadata": {},
   "outputs": [
    {
     "data": {
      "text/plain": [
       "0.2500540540540541"
      ]
     },
     "execution_count": 45,
     "metadata": {},
     "output_type": "execute_result"
    }
   ],
   "source": [
    "rng.choice([0, 1], size=10**3).var(ddof=1)"
   ]
  },
  {
   "cell_type": "markdown",
   "id": "64eb2a04",
   "metadata": {},
   "source": [
    "Normal distribution uses the variance as the second parameter $\\sigma$. For our population in the previous example with $\\mathcal{N}(176, 36)$ we sample and compute the variance:"
   ]
  },
  {
   "cell_type": "code",
   "execution_count": 46,
   "id": "0fffaae3",
   "metadata": {},
   "outputs": [
    {
     "data": {
      "text/plain": [
       "36.06000952749299"
      ]
     },
     "execution_count": 46,
     "metadata": {},
     "output_type": "execute_result"
    }
   ],
   "source": [
    "rng.normal(loc=176, scale=6, size=10**6).var(ddof=1)"
   ]
  },
  {
   "cell_type": "markdown",
   "id": "2bc8444c",
   "metadata": {},
   "source": [
    "#### SciPy-Stuff"
   ]
  },
  {
   "cell_type": "markdown",
   "id": "d1c6f5ae",
   "metadata": {},
   "source": [
    "We can find theoretical expectation and variance of a given distribution using `.stats()` method from the corresponding distribution in `scipy.stats` module.\n",
    "\n",
    "For $\\mathcal{B}(10, 0.5)$ we compute"
   ]
  },
  {
   "cell_type": "code",
   "execution_count": 47,
   "id": "6bd6163e",
   "metadata": {},
   "outputs": [],
   "source": [
    "from scipy.stats import binom"
   ]
  },
  {
   "cell_type": "code",
   "execution_count": 48,
   "id": "f2492d0e",
   "metadata": {},
   "outputs": [
    {
     "data": {
      "text/plain": [
       "(array(5.), array(2.5))"
      ]
     },
     "execution_count": 48,
     "metadata": {},
     "output_type": "execute_result"
    }
   ],
   "source": [
    "binom.stats(n=10, p=.5)"
   ]
  },
  {
   "cell_type": "markdown",
   "id": "4d7d146c",
   "metadata": {},
   "source": [
    "For $\\mathcal{N}(176, 36)$ we get"
   ]
  },
  {
   "cell_type": "code",
   "execution_count": 49,
   "id": "65533a76",
   "metadata": {},
   "outputs": [
    {
     "data": {
      "text/plain": [
       "(array(176.), array(36.))"
      ]
     },
     "execution_count": 49,
     "metadata": {},
     "output_type": "execute_result"
    }
   ],
   "source": [
    "norm.stats(loc=176, scale=6)"
   ]
  },
  {
   "cell_type": "markdown",
   "id": "489d5111",
   "metadata": {},
   "source": [
    "(Who would say?...)"
   ]
  },
  {
   "cell_type": "markdown",
   "id": "204d1559",
   "metadata": {},
   "source": [
    "## 4. $\\chi^2$ Distribution and the Related Test"
   ]
  },
  {
   "cell_type": "markdown",
   "id": "ce310ef9",
   "metadata": {},
   "source": [
    "Observe $k$ random variables $Z_1, Z_2, \\ldots, Z_k$ which are independent from one another and follow the same Standard Normal Distribution ($\\mathcal{N}(0,1)$). Such RVs - which are independent and have the same distribution are called *independent and identically distributed* or *IID*. So, let our IID random variables $Z_1, Z_2, \\ldots, Z_k$ all have $\\mathcal{N}(0,1)$ distribution. If we square those RVs and sum up those squares we obtain a new random variable $X$:\n",
    "\n",
    "$$X = X_1^2 + X_2^2 + \\cdot + X_k^2.$$\n",
    "\n",
    "\n",
    "This new RV $X$ has *Chi-Squared Distribution* with $k$ *degrees of freedom*, which is denoted by $\\chi^2_k$. So, $\\chi^2_k$ is a continuous-type distribution with a single parameter $k$. \n",
    "\n",
    "\n",
    "\n",
    "Let's now plot p.d.f and c.d.f of $\\chi^2_k$ by sampling. We sample by using `rng.chisquare()` and `df` argument for the degrees of freedom. \n",
    "\n",
    "We'll sample from $\\chi^2_3$"
   ]
  },
  {
   "cell_type": "code",
   "execution_count": 50,
   "id": "66d798ba",
   "metadata": {},
   "outputs": [],
   "source": [
    "def sample_from_chisquare(df, sample_size=10**3):\n",
    "    \n",
    "    fig, ax = plt.subplots(3, 1, figsize=(24, 18))\n",
    "    \n",
    "    sample = rng.chisquare(df=df, size=sample_size)\n",
    "    \n",
    "    sns.histplot(ax=ax[0], x=sample, bins=100, stat='density')\n",
    "    sns.histplot(ax=ax[1], x=sample, bins=100, stat='probability')\n",
    "    sns.histplot(ax=ax[2], x=sample, bins=100, stat='probability', cumulative=True)\n",
    "    \n",
    "    ax[0].set_xticks(np.arange(0, sample.max(), 1))\n",
    "    ax[1].set_xticks(np.arange(0, sample.max(), 1))\n",
    "    ax[2].set_xticks(np.arange(0, sample.max(), 1))\n",
    "    \n",
    "    ax[1].set_yticks(np.arange(0, 1.2, .2))\n",
    "    \n",
    "    ax[2].set_ylabel('Cumulative Probability')"
   ]
  },
  {
   "cell_type": "code",
   "execution_count": 51,
   "id": "b8724538",
   "metadata": {},
   "outputs": [
    {
     "data": {
      "image/png": "[encoded data removed]",
      "text/plain": [
       "<Figure size 1728x1296 with 3 Axes>"
      ]
     },
     "metadata": {
      "needs_background": "light"
     },
     "output_type": "display_data"
    }
   ],
   "source": [
    "sample_from_chisquare(df=3, sample_size=10**6)"
   ]
  },
  {
   "cell_type": "markdown",
   "id": "551718a4",
   "metadata": {},
   "source": [
    "Formally, the formula for p.d.f for $\\chi^2_k$ is given by\n",
    "\n",
    "$$\\varphi(x;k) = \n",
    "\\begin{cases}\n",
    "2\\frac{x^{(k/2 - 1)e^{-x/2}}}{2^{k/2}\\Gamma\\big(\\frac{k}{2}\\big)}\\quad x > 0,\\\\\n",
    "\\\\\n",
    "0,\\quad x \\leqslant 0,\n",
    "\\end{cases}\n",
    "$$\n",
    "\n",
    "where $\\Gamma$ is the *gamma function* for which $\\Gamma(n) = (n-1)!$ for every positive integer $n$. \n",
    "\n",
    "This formula might induce a headache, and the formula for c.d.f of $\\chi^2_k$ is even heavier, as it involves *lower incomplete gamma function*; yeah, I know. We won't even write it. But worry not - there are corresponding statistical tables to find values for these nerve-wracking formulas. "
   ]
  },
  {
   "cell_type": "markdown",
   "id": "ca88c12c",
   "metadata": {},
   "source": [
    "***"
   ]
  },
  {
   "cell_type": "markdown",
   "id": "6778e4ea",
   "metadata": {},
   "source": [
    "Let's get back to the plots for p.d.f and c.d.f of $\\chi^2_k$. We see there that a RV $X\\sim\\chi^2_k$ can take various positive values in the support of $\\chi^2_k$, but what do those values mean? \n",
    "\n",
    "To see this, let's draw a sample from a population with an assumed distribution. Every member of the sample can take one $k$ values, i.e. *categories*. We count those values, for each category. Based on the observed values in the sample we can make a *hypothesis* whether the sample's distribution follows the assumed distribution of the population. Now we wonder how valid our hypothesis is? To see that, we need somehow to compare *observed counts* obtained from the sample, and *expected counts* which are expected from the distribution of the population. By comparing them, we want to see how they deviate from one another, i.e. to see how much sample deviates from the distribution of the population. As a measure of this deviation we introduce $\\chi^2$ *statistic* computed by\n",
    "\n",
    "$$\\chi^2 = \\sum_{i=1}^k\\frac{({\\rm Observed\\ Counts}_i - {\\rm Expected\\ Counts}_i)^2}{{\\rm Expected\\ Counts}_i}.$$\n",
    "\n",
    "Noticing that we are having sum of squares again? These deviations are stochastic, and their values/probabilities distribute according to $\\chi^2$ distribution. We use computed $\\chi^2$ value to perform *chi-square test* and see if the distribution of the sample and the distribution of the population are the same. This is the *zero-hypothesis* of the test. The alternative hypothesis, is of course, that they are different."
   ]
  },
  {
   "cell_type": "markdown",
   "id": "b67bb392",
   "metadata": {},
   "source": [
    "***"
   ]
  },
  {
   "cell_type": "markdown",
   "id": "71bd9e3a",
   "metadata": {},
   "source": [
    "We illustrate how to perform chi-square test using the following example:\n",
    "\n",
    "*An urn contains white, blue, and red balls in proportion of 5:3:2. We draw from the urn a sample of size $n=100$ and obtain a sample with 47 white, 31 blue and 22 red balls. Can we say that the sample follwos the same distribution as the balls in the urn?*"
   ]
  },
  {
   "cell_type": "markdown",
   "id": "31f8a922",
   "metadata": {},
   "source": [
    "The distribution of the population in the urn is called *Multinomial Distribution*. It is a discrete-type distribution, and it is a generalization of the Binomial Distribution. Whereas in Binomial Distribution every repetition of experiment has a binary 'yes/no' outcome, in Multinomial Distribution every repetition has three or more outcomes, each with given probability. \n",
    "\n",
    "So, we want to check whether the drawn sample is distributed according to Multinomial Distribution. To do this, we utilize $\\chi^2$ test. First, we need to calculate expected counts. Obviously, they are 50, 30 and 20 for white, blue and red balls, respectively. Observed counts given from the sample. Now we compute $\\chi^2$ statistic:\n",
    "\n",
    "$$\\chi^2 = \\frac{(47 -50)^2}{50} + \\frac{(31 - 30)^2}{30} + \\frac{(22 - 20)^2}{20} = 0.41333... .$$ "
   ]
  },
  {
   "cell_type": "markdown",
   "id": "9e0404c0",
   "metadata": {},
   "source": [
    "Now we want to check whether the following holds:\n",
    "\n",
    "$$P(X \\geqslant \\chi^2) \\leqslant 0.05,$$\n",
    "\n",
    "where $X\\sim\\chi^2_2$. Notice the degrees of freedom? In this (and similar) settings, the d.o.fs are always one less than the number of categories. \n",
    "\n",
    "- $p = P(X \\geqslant \\chi^2)$ measures the *p-value* of the sample, i.e. the probability of obtaining a result with at least the deviance of $\\chi^2$, given that the null hypothesis is true.\n",
    "\n",
    "- $\\alpha=0.05$ is the *significance level*, and it is set for the test beforhand. Usually we take $\\alpha = 0.05$ or $\\alpha = 0.01$. \n",
    "\n",
    "We say that the result is *statistically significant* if \n",
    "\n",
    "$$p\\leqslant\\alpha,$$\n",
    "\n",
    "meaning that it is quite unlikely that the deviance of the observed results from expected results happend by chance, so we can reject the null hypothesis. \n",
    "\n",
    "Otherwise, the result is not statistically signigicant to reject the null hypothesis - the deviations of the observed results are most likely just due to the stochastic nature of sampling. "
   ]
  },
  {
   "cell_type": "markdown",
   "id": "eb27740d",
   "metadata": {},
   "source": [
    "Now, we calculate:\n",
    "\n",
    "$$p = P(X\\geqslant 0.4133) = 1 - P(X < 0.4133) = 1 - F(0.4133).$$\n",
    "\n",
    "\n",
    "To find the value of $F(0.4133)$ we can use `chi2` object from `scipy.stats` module:"
   ]
  },
  {
   "cell_type": "code",
   "execution_count": 52,
   "id": "bf12f036",
   "metadata": {},
   "outputs": [],
   "source": [
    "from scipy.stats import chi2"
   ]
  },
  {
   "cell_type": "code",
   "execution_count": 53,
   "id": "db9c8e6c",
   "metadata": {},
   "outputs": [
    {
     "data": {
      "text/plain": [
       "0.8133042566683305"
      ]
     },
     "execution_count": 53,
     "metadata": {},
     "output_type": "execute_result"
    }
   ],
   "source": [
    "1 - chi2.cdf(x=0.4133, df=2)"
   ]
  },
  {
   "cell_type": "markdown",
   "id": "8460f7a3",
   "metadata": {},
   "source": [
    "Obviously, $p > \\alpha$, so we do not reject the null hypothesis. "
   ]
  },
  {
   "cell_type": "markdown",
   "id": "b0c25095",
   "metadata": {},
   "source": [
    "*Draw a random sample of balls of size $n=100$ from some other Multinomial Distribution, and perform chi-square test against the expected value from the example above.* \n",
    "\n",
    "We use `rng.multinomial()` to sample from Multinomial Distribution, where we provide probabilities for each category using `pvals` argument."
   ]
  },
  {
   "cell_type": "code",
   "execution_count": 54,
   "id": "34fe308c",
   "metadata": {},
   "outputs": [
    {
     "data": {
      "text/plain": [
       "array([34, 23, 43], dtype=int64)"
      ]
     },
     "execution_count": 54,
     "metadata": {},
     "output_type": "execute_result"
    }
   ],
   "source": [
    "#sampling \n",
    "observed = rng.multinomial(n=100, pvals=[.3, .3, .4])\n",
    "observed"
   ]
  },
  {
   "cell_type": "code",
   "execution_count": 55,
   "id": "33b96323",
   "metadata": {},
   "outputs": [
    {
     "data": {
      "text/plain": [
       "21.962172128709927"
      ]
     },
     "execution_count": 55,
     "metadata": {},
     "output_type": "execute_result"
    }
   ],
   "source": [
    "#computing chi^2 statistic\n",
    "expected = np.array([50, 30, 20])\n",
    "\n",
    "chi_sq_stat = np.sum(((observed - expected)**2)/observed)\n",
    "chi_sq_stat"
   ]
  },
  {
   "cell_type": "code",
   "execution_count": 56,
   "id": "7759dc8b",
   "metadata": {},
   "outputs": [
    {
     "data": {
      "text/plain": [
       "1.702060201591582e-05"
      ]
     },
     "execution_count": 56,
     "metadata": {},
     "output_type": "execute_result"
    }
   ],
   "source": [
    "#computing p-value\n",
    "p_val = 1 - chi2.cdf(x=chi_sq_stat, df=2)\n",
    "p_val"
   ]
  },
  {
   "cell_type": "code",
   "execution_count": 57,
   "id": "5cbf5704",
   "metadata": {},
   "outputs": [
    {
     "name": "stdout",
     "output_type": "stream",
     "text": [
      "The result is statistically significant. Rejecting the null hypothesis.\n"
     ]
    }
   ],
   "source": [
    "if p_val > .05:\n",
    "    print('The result is not statistically significant. We do not reject the null hypothesis.')\n",
    "else:\n",
    "    print('The result is statistically significant. Rejecting the null hypothesis.')"
   ]
  },
  {
   "cell_type": "code",
   "execution_count": null,
   "id": "9b38e5ab",
   "metadata": {},
   "outputs": [],
   "source": []
  }
 ],
 "metadata": {
  "kernelspec": {
   "display_name": "Python 3",
   "language": "python",
   "name": "python3"
  },
  "language_info": {
   "codemirror_mode": {
    "name": "ipython",
    "version": 3
   },
   "file_extension": ".py",
   "mimetype": "text/x-python",
   "name": "python",
   "nbconvert_exporter": "python",
   "pygments_lexer": "ipython3",
   "version": "3.8.8"
  }
 },
 "nbformat": 4,
 "nbformat_minor": 5
}
