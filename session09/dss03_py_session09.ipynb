{
 "cells": [
  {
   "cell_type": "markdown",
   "id": "34fc5ba6",
   "metadata": {},
   "source": [
    "## 1. Continuous-type Random Variable"
   ]
  },
  {
   "cell_type": "markdown",
   "id": "e480a478",
   "metadata": {},
   "source": [
    "We spoke about RVs that can take values from universal set $\\Omega$ which is either finit or countably infinite; these were discrete-type random variables. But what if $\\Omega$ is uncountably infinite,i.e. what if random variable $X$ can take any real number as a value? Then we have *(absolutely) continuous* random variable."
   ]
  },
  {
   "cell_type": "markdown",
   "id": "881388b0",
   "metadata": {},
   "source": [
    "As with discrete-type RVs, continuous-type RVs have their distribution. With discrete RVs we use probability mass function (p.m.f) to describe their distribution. With continuous RVs, we have *probability density function (p.d.f)* which 'describes' them. One p.d.f. $\\varphi(x)$ of a coninuous random variable may look like this:\n",
    "\n",
    "\n",
    "**UBACI SLIKU**"
   ]
  },
  {
   "cell_type": "markdown",
   "id": "cf4f6a17",
   "metadata": {},
   "source": [
    "Each p.d.f of a continuous RV should be defined, continuous and non-negative on the whole real-number line, and:\n",
    "\n",
    "$$\\int_{-\\infty}^{+\\infty}\\varphi(x)dx = 1.$$"
   ]
  },
  {
   "cell_type": "markdown",
   "id": "50dbaf47",
   "metadata": {},
   "source": [
    "Don't worry about the integral - we are not going to compute integrals in this course. But we do need them to calculate probabilities for continuous RVs. The integral above tells us that the area under the curve of p.d.f. is always equal to 1. This seems familiar? This is actually completely analogous to the fact that, for discrete RV, all probabilities in its p.m.f. need always to sum to 1. \n",
    "\n",
    "\n",
    "So, what's the probability of RV, having p.d.f as in the figure above, to take value -5.5? It's\n",
    "\n",
    "$$P(X = -5.5) = 0.$$\n",
    "\n",
    "OK, that kinda makes sense. But, what about the probability of taking value 0?\n",
    "\n",
    "$$P(X = 0) = 0.$$\n",
    "\n",
    "Wait, what? And taking value $\\sqrt{2}$?\n",
    "\n",
    "$$P(X = \\sqrt{2}) = 0.$$\n",
    "\n",
    "Is it always going to be zero? Yes. Because the probability of hitting a point exactly you want, out of uncountably infinitely many others is - of course, zero. But how we can calculate probabilities at all, if the probability of every point is zero? We just need to broaden our views - not to ask about the probability of hitting a single point $x$ among ridiculously infinitely many, but to ask about the probability of hitting any point in the small interval $\\Delta x$ which contains $x$... and uncountably infinite many other points. When working with continuous RVs we can hope to get positive probability only if we work with intervals, no matter how big or small. "
   ]
  },
  {
   "cell_type": "markdown",
   "id": "53a27c39",
   "metadata": {},
   "source": [
    "However, to get positive probabilities, those intervals need to be either fully or partially on the *support* of p.d.f. Support is the part of p.d.f. curve where this function is positive, i.e. $\\varphi(x) > 0$. For really small intervals $\\Delta x$ that are outside of the support, i.e. for which $\\varphi(x) = 0$, there is 0 probability for RV $X$ to take any value from that interval. On the other hand, if we observe a really small interval $\\Delta x$ around the point where p.d.f. takes its maximal value - there is the highest probability of RV $X$ taking values from this interval. \n",
    "\n",
    "In other words: higher the value of $\\varphi(x)$ for some $x$ - higher the probability of RV $X$ getting some value from a very small interval $\\Delta x$ around $x$. (but not in $x$ itself; there, the probability is zero)"
   ]
  },
  {
   "cell_type": "markdown",
   "id": "6a23fdc2",
   "metadata": {},
   "source": [
    "***"
   ]
  },
  {
   "cell_type": "markdown",
   "id": "9e7c75af",
   "metadata": {},
   "source": [
    "So, we can calculate probability of continuous RV in any interval. How do we calculate probability of RV $X$ taking values in some interval $[a, b]$ where $a$ and $b$ are two numbers? Simply, using the formula:\n",
    "\n",
    "$$P(a \\leqslant X \\leqslant b) = \\int_a^b\\varphi(x)dx.$$"
   ]
  },
  {
   "cell_type": "markdown",
   "id": "7cb85ee2",
   "metadata": {},
   "source": [
    "It's that integral again... And again it makes sense again. Remember that, using Kolmogorov Axioms, we defined probability as a measure? We also mentioned that integral is the measure of the area under the curve. So, using an integral to measure area under the curve of p.d.f on some interval $[a,b]$, we are actually measuring the probability of RV $X$ to take any value from that interval.\n",
    "\n",
    "Observing probabilites as integrals, i.e. areas of surfaces under the p.d.f curve is completely in-sync with Kolmogorov Axioms for probability-as-a-measure:\n",
    "\n",
    "- Both probability and area are measures, and cannot be negative;\n",
    "- Area of an empty set, or a point/line is zero. So is the probability;\n",
    "- Bigger the area, bigger the probability; and we may encompass big areas by taking long intervals or intervals around high values of p.d.f;\n",
    "- We can just sum areas of disjoint figures to get the total area; the same is for probabilities of disjoint events."
   ]
  },
  {
   "cell_type": "markdown",
   "id": "32b01c93",
   "metadata": {},
   "source": [
    "One more important point. We saw that for discrete RVs every point matters (even if it's infinite). For some discrete RV $X$ we have\n",
    "\n",
    "$$P(X \\leqslant k) \\neq P(X < k).$$\n",
    "\n",
    "However, this is not the case with continuous RVs; there one point doesn't make a difference (why?). So, for some continuous RV $X$ we have\n",
    "\n",
    "$$P(a \\leqslant X \\leqslant b) = P(a \\leqslant X < b) = P(a < X < b).$$"
   ]
  },
  {
   "cell_type": "markdown",
   "id": "155b78a5",
   "metadata": {},
   "source": [
    "***"
   ]
  },
  {
   "cell_type": "markdown",
   "id": "9b70fdbf",
   "metadata": {},
   "source": [
    "As discrete RVs have c.d.f, so continuous RVs have one as well. Cumulative distribution function for a continuous random variable is given with \n",
    "\n",
    "$$F(a) = P(X\\leqslant a) = \\int_{-\\infty}^a\\varphi(x)dx.$$"
   ]
  },
  {
   "cell_type": "markdown",
   "id": "1554d6c4",
   "metadata": {},
   "source": [
    "C.d.f of a continuous RV $X$ gives the probability of $X$ taking any value from the interval $(-\\infty, a]$. Or, area under the p.d.f curve on that interval. Here's how one c.d.f. of a continuous RV looks like:\n",
    "\n",
    "**UBACI SLIKU**"
   ]
  },
  {
   "cell_type": "markdown",
   "id": "c7b77651",
   "metadata": {},
   "source": [
    "C.d.f. is a prety handy tool for computing probabilities of continuous RVs, even more useful than p.d.f! In fact, by knowing the c.d.f we can compute probabilites while avoiding integrals, using this formula:\n",
    "\n",
    "$$P(a \\leqslant X \\leqslant b) = F(b) - F(a).$$"
   ]
  },
  {
   "cell_type": "markdown",
   "id": "2684d805",
   "metadata": {},
   "source": [
    "***"
   ]
  },
  {
   "cell_type": "markdown",
   "id": "4c6ab9fc",
   "metadata": {},
   "source": [
    "For continuous RVs very useful is *quantile function*, which is the inverse of a c.d.f:\n",
    "\n",
    "$$Q(p) = F^{-1}(p).$$"
   ]
  },
  {
   "cell_type": "markdown",
   "id": "12d22f29",
   "metadata": {},
   "source": [
    "Simply put, for $p = 0.1$ we can get a value $x$ for which we can expect to find 10% of points in the interval $(-\\infty, x]$ when sampling from a RV $X$ having c.d.f $F$. \n",
    "\n",
    "The most important values for $p$ for the quantile functions are 0.25, 0.5 and 0.75, which give values for quartiles Q1, Q2 (median) and Q3. "
   ]
  },
  {
   "cell_type": "markdown",
   "id": "a206f632",
   "metadata": {},
   "source": [
    "## 2. Continuous-type Random Variable Distributions"
   ]
  },
  {
   "cell_type": "markdown",
   "id": "b4b7f6a3",
   "metadata": {},
   "source": [
    "Enough of theoretical talk, and let's do some coding now. "
   ]
  },
  {
   "cell_type": "code",
   "execution_count": 1,
   "id": "4051ffcd",
   "metadata": {},
   "outputs": [],
   "source": [
    "import numpy as np\n",
    "import pandas as pd\n",
    "import scipy\n",
    "import math\n",
    "import matplotlib.pyplot as plt\n",
    "import seaborn as sns\n",
    "\n",
    "rng = np.random.default_rng(seed=1023)"
   ]
  },
  {
   "cell_type": "markdown",
   "id": "ff62e53f",
   "metadata": {},
   "source": [
    "### Continuous Uniform Distribution"
   ]
  },
  {
   "cell_type": "markdown",
   "id": "06f4e7ff",
   "metadata": {},
   "source": [
    "Continuous Uniform Distribution $\\mathcal{U}[a, b]$ describes an experiment where there is an arbitrary outcome that lies in the interval $[a, b]$. In other words, we can equally expect any number in the interval $[a, b]$; no part of this interval is favoured than the other. \n",
    "\n",
    "We can sample from from Uniform Distribution on [0, 1] interval using `rng.random()`:"
   ]
  },
  {
   "cell_type": "code",
   "execution_count": 2,
   "id": "14e1b9db",
   "metadata": {},
   "outputs": [
    {
     "data": {
      "text/plain": [
       "0.3388690800085262"
      ]
     },
     "execution_count": 2,
     "metadata": {},
     "output_type": "execute_result"
    }
   ],
   "source": [
    "rng.random()"
   ]
  },
  {
   "cell_type": "code",
   "execution_count": 3,
   "id": "d0c9c6f6",
   "metadata": {},
   "outputs": [
    {
     "data": {
      "text/plain": [
       "array([0.90589874, 0.90960195, 0.74722338, 0.82310232, 0.26763656,\n",
       "       0.08770086, 0.26731961, 0.70165033, 0.77665833, 0.37364504])"
      ]
     },
     "execution_count": 3,
     "metadata": {},
     "output_type": "execute_result"
    }
   ],
   "source": [
    "rng.random(size=10)"
   ]
  },
  {
   "cell_type": "markdown",
   "id": "26aec069",
   "metadata": {},
   "source": [
    "By sampling big enough sample from $\\mathcal{U}[0, 1]$ we might get a sense of how its p.d.f looks like."
   ]
  },
  {
   "cell_type": "code",
   "execution_count": 71,
   "id": "7a6834a8",
   "metadata": {},
   "outputs": [],
   "source": [
    "def sample_from_uniform(sample_size=10**6):\n",
    "    \n",
    "    fig, ax = plt.subplots(3, 1, figsize=(24, 18))\n",
    "    \n",
    "    outcomes = rng.random(size=sample_size)\n",
    "    \n",
    "    sns.histplot(ax=ax[0], x=outcomes, bins=10, stat='density')\n",
    "    sns.histplot(ax=ax[1], x=outcomes, bins=10, stat='probability')\n",
    "    sns.histplot(ax=ax[2], x=outcomes, bins=10, stat='probability', cumulative=True)\n",
    "    \n",
    "    ax[0].set_xticks(np.arange(0, 1.1, .1))\n",
    "    ax[1].set_xticks(np.arange(0, 1.1, .1))\n",
    "    ax[0].set_xticks(np.arange(0, 1.1, .1))"
   ]
  },
  {
   "cell_type": "code",
   "execution_count": 72,
   "id": "ac9bba84",
   "metadata": {},
   "outputs": [
    {
     "data": {
      "image/png": "[encoded data removed]",
      "text/plain": [
       "<Figure size 1728x1296 with 3 Axes>"
      ]
     },
     "metadata": {
      "needs_background": "light"
     },
     "output_type": "display_data"
    }
   ],
   "source": [
    "sample_from_uniform(sample_size=10**6)"
   ]
  },
  {
   "cell_type": "code",
   "execution_count": null,
   "id": "5a6e857e",
   "metadata": {},
   "outputs": [],
   "source": []
  }
 ],
 "metadata": {
  "kernelspec": {
   "display_name": "Python 3",
   "language": "python",
   "name": "python3"
  },
  "language_info": {
   "codemirror_mode": {
    "name": "ipython",
    "version": 3
   },
   "file_extension": ".py",
   "mimetype": "text/x-python",
   "name": "python",
   "nbconvert_exporter": "python",
   "pygments_lexer": "ipython3",
   "version": "3.8.8"
  }
 },
 "nbformat": 4,
 "nbformat_minor": 5
}
