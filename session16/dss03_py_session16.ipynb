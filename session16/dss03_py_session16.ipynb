{
 "cells": [
  {
   "cell_type": "markdown",
   "id": "4609c518",
   "metadata": {},
   "source": [
    "# DATA SCIENCE SESSIONS VOL. 3\n",
    "### A Foundational Python Data Science Course\n",
    "## Session 16: Binomial Logistic Regression. MLEs for Binomial Logistic Regression. Multinomial Regression\n",
    "\n",
    "[&larr; Back to course webpage](https://datakolektiv.com/)\n",
    "\n",
    "Feedback should be send to [goran.milovanovic@datakolektiv.com](mailto:goran.milovanovic@datakolektiv.com). \n",
    "\n",
    "These notebooks accompany the DATA SCIENCE SESSIONS VOL. 3 :: A Foundational Python Data Science Course."
   ]
  },
  {
   "cell_type": "markdown",
   "id": "ddd35403",
   "metadata": {},
   "source": [
    "![](../img/IntroRDataScience_NonTech-1.jpg)"
   ]
  },
  {
   "cell_type": "markdown",
   "id": "56cca64d",
   "metadata": {},
   "source": [
    "### Lecturers\n",
    "\n",
    "[Goran S. Milovanović, PhD, DataKolektiv, Chief Scientist & Owner](https://www.linkedin.com/in/gmilovanovic/)\n",
    "\n",
    "[Aleksandar Cvetković, PhD, DataKolektiv, Consultant](https://www.linkedin.com/in/alegzndr/)\n",
    "\n",
    "[Ilija Lazarević, MA, DataKolektiv, Consultant](https://www.linkedin.com/in/ilijalazarevic/)"
   ]
  },
  {
   "cell_type": "markdown",
   "id": "3963c0a8",
   "metadata": {},
   "source": [
    "![](../img/DK_Logo_100.png)"
   ]
  },
  {
   "cell_type": "markdown",
   "id": "14ef0626",
   "metadata": {},
   "source": [
    "***"
   ]
  },
  {
   "cell_type": "code",
   "execution_count": 93,
   "id": "fc4bd6c2",
   "metadata": {},
   "outputs": [],
   "source": [
    "### --- Setup - importing the libraries\n",
    "\n",
    "# - supress those annoying 'Future Warning'\n",
    "import warnings\n",
    "warnings.simplefilter(action='ignore', category=FutureWarning)\n",
    "\n",
    "# - data\n",
    "import numpy as np\n",
    "import pandas as pd\n",
    "\n",
    "# - os\n",
    "import os\n",
    "\n",
    "# - ml\n",
    "import statsmodels.api as sm\n",
    "import statsmodels.formula.api as smf\n",
    "from statsmodels.stats.outliers_influence import variance_inflation_factor\n",
    "\n",
    "\n",
    "\n",
    "# - visualization\n",
    "import matplotlib.pyplot as plt\n",
    "import seaborn as sns\n",
    "\n",
    "# - parameters\n",
    "%matplotlib inline\n",
    "pd.options.mode.chained_assignment = None  # default='warn'\n",
    "sns.set_theme()\n",
    "# - rng\n",
    "rng = np.random.default_rng()\n",
    "# - plots\n",
    "plt.rc(\"figure\", figsize=(8, 6))\n",
    "plt.rc(\"font\", size=14)\n",
    "sns.set_theme(style='white')\n",
    "\n",
    "# - directory tree\n",
    "data_dir = os.path.join(os.getcwd(), '_data')"
   ]
  },
  {
   "cell_type": "markdown",
   "id": "1a6eeb8a",
   "metadata": {},
   "source": [
    "## 1. Binomial Logistic Regression"
   ]
  },
  {
   "cell_type": "code",
   "execution_count": 2,
   "id": "4aaf645f",
   "metadata": {},
   "outputs": [
    {
     "data": {
      "text/html": [
       "<div>\n",
       "<style scoped>\n",
       "    .dataframe tbody tr th:only-of-type {\n",
       "        vertical-align: middle;\n",
       "    }\n",
       "\n",
       "    .dataframe tbody tr th {\n",
       "        vertical-align: top;\n",
       "    }\n",
       "\n",
       "    .dataframe thead th {\n",
       "        text-align: right;\n",
       "    }\n",
       "</style>\n",
       "<table border=\"1\" class=\"dataframe\">\n",
       "  <thead>\n",
       "    <tr style=\"text-align: right;\">\n",
       "      <th></th>\n",
       "      <th>customerID</th>\n",
       "      <th>tenure</th>\n",
       "      <th>PhoneService</th>\n",
       "      <th>Contract</th>\n",
       "      <th>PaperlessBilling</th>\n",
       "      <th>PaymentMethod</th>\n",
       "      <th>MonthlyCharges</th>\n",
       "      <th>TotalCharges</th>\n",
       "      <th>Churn</th>\n",
       "    </tr>\n",
       "  </thead>\n",
       "  <tbody>\n",
       "    <tr>\n",
       "      <th>0</th>\n",
       "      <td>7590-VHVEG</td>\n",
       "      <td>1</td>\n",
       "      <td>No</td>\n",
       "      <td>Month-to-month</td>\n",
       "      <td>Yes</td>\n",
       "      <td>Electronic check</td>\n",
       "      <td>29.85</td>\n",
       "      <td>29.85</td>\n",
       "      <td>No</td>\n",
       "    </tr>\n",
       "    <tr>\n",
       "      <th>1</th>\n",
       "      <td>5575-GNVDE</td>\n",
       "      <td>34</td>\n",
       "      <td>Yes</td>\n",
       "      <td>One year</td>\n",
       "      <td>No</td>\n",
       "      <td>Mailed check</td>\n",
       "      <td>56.95</td>\n",
       "      <td>1889.5</td>\n",
       "      <td>No</td>\n",
       "    </tr>\n",
       "    <tr>\n",
       "      <th>2</th>\n",
       "      <td>3668-QPYBK</td>\n",
       "      <td>2</td>\n",
       "      <td>Yes</td>\n",
       "      <td>Month-to-month</td>\n",
       "      <td>Yes</td>\n",
       "      <td>Mailed check</td>\n",
       "      <td>53.85</td>\n",
       "      <td>108.15</td>\n",
       "      <td>Yes</td>\n",
       "    </tr>\n",
       "    <tr>\n",
       "      <th>3</th>\n",
       "      <td>7795-CFOCW</td>\n",
       "      <td>45</td>\n",
       "      <td>No</td>\n",
       "      <td>One year</td>\n",
       "      <td>No</td>\n",
       "      <td>Bank transfer (automatic)</td>\n",
       "      <td>42.30</td>\n",
       "      <td>1840.75</td>\n",
       "      <td>No</td>\n",
       "    </tr>\n",
       "    <tr>\n",
       "      <th>4</th>\n",
       "      <td>9237-HQITU</td>\n",
       "      <td>2</td>\n",
       "      <td>Yes</td>\n",
       "      <td>Month-to-month</td>\n",
       "      <td>Yes</td>\n",
       "      <td>Electronic check</td>\n",
       "      <td>70.70</td>\n",
       "      <td>151.65</td>\n",
       "      <td>Yes</td>\n",
       "    </tr>\n",
       "    <tr>\n",
       "      <th>5</th>\n",
       "      <td>9305-CDSKC</td>\n",
       "      <td>8</td>\n",
       "      <td>Yes</td>\n",
       "      <td>Month-to-month</td>\n",
       "      <td>Yes</td>\n",
       "      <td>Electronic check</td>\n",
       "      <td>99.65</td>\n",
       "      <td>820.5</td>\n",
       "      <td>Yes</td>\n",
       "    </tr>\n",
       "    <tr>\n",
       "      <th>6</th>\n",
       "      <td>1452-KIOVK</td>\n",
       "      <td>22</td>\n",
       "      <td>Yes</td>\n",
       "      <td>Month-to-month</td>\n",
       "      <td>Yes</td>\n",
       "      <td>Credit card (automatic)</td>\n",
       "      <td>89.10</td>\n",
       "      <td>1949.4</td>\n",
       "      <td>No</td>\n",
       "    </tr>\n",
       "    <tr>\n",
       "      <th>7</th>\n",
       "      <td>6713-OKOMC</td>\n",
       "      <td>10</td>\n",
       "      <td>No</td>\n",
       "      <td>Month-to-month</td>\n",
       "      <td>No</td>\n",
       "      <td>Mailed check</td>\n",
       "      <td>29.75</td>\n",
       "      <td>301.9</td>\n",
       "      <td>No</td>\n",
       "    </tr>\n",
       "    <tr>\n",
       "      <th>8</th>\n",
       "      <td>7892-POOKP</td>\n",
       "      <td>28</td>\n",
       "      <td>Yes</td>\n",
       "      <td>Month-to-month</td>\n",
       "      <td>Yes</td>\n",
       "      <td>Electronic check</td>\n",
       "      <td>104.80</td>\n",
       "      <td>3046.05</td>\n",
       "      <td>Yes</td>\n",
       "    </tr>\n",
       "    <tr>\n",
       "      <th>9</th>\n",
       "      <td>6388-TABGU</td>\n",
       "      <td>62</td>\n",
       "      <td>Yes</td>\n",
       "      <td>One year</td>\n",
       "      <td>No</td>\n",
       "      <td>Bank transfer (automatic)</td>\n",
       "      <td>56.15</td>\n",
       "      <td>3487.95</td>\n",
       "      <td>No</td>\n",
       "    </tr>\n",
       "  </tbody>\n",
       "</table>\n",
       "</div>"
      ],
      "text/plain": [
       "   customerID  tenure PhoneService        Contract PaperlessBilling  \\\n",
       "0  7590-VHVEG       1           No  Month-to-month              Yes   \n",
       "1  5575-GNVDE      34          Yes        One year               No   \n",
       "2  3668-QPYBK       2          Yes  Month-to-month              Yes   \n",
       "3  7795-CFOCW      45           No        One year               No   \n",
       "4  9237-HQITU       2          Yes  Month-to-month              Yes   \n",
       "5  9305-CDSKC       8          Yes  Month-to-month              Yes   \n",
       "6  1452-KIOVK      22          Yes  Month-to-month              Yes   \n",
       "7  6713-OKOMC      10           No  Month-to-month               No   \n",
       "8  7892-POOKP      28          Yes  Month-to-month              Yes   \n",
       "9  6388-TABGU      62          Yes        One year               No   \n",
       "\n",
       "               PaymentMethod  MonthlyCharges TotalCharges Churn  \n",
       "0           Electronic check           29.85        29.85    No  \n",
       "1               Mailed check           56.95       1889.5    No  \n",
       "2               Mailed check           53.85       108.15   Yes  \n",
       "3  Bank transfer (automatic)           42.30      1840.75    No  \n",
       "4           Electronic check           70.70       151.65   Yes  \n",
       "5           Electronic check           99.65        820.5   Yes  \n",
       "6    Credit card (automatic)           89.10       1949.4    No  \n",
       "7               Mailed check           29.75        301.9    No  \n",
       "8           Electronic check          104.80      3046.05   Yes  \n",
       "9  Bank transfer (automatic)           56.15      3487.95    No  "
      ]
     },
     "execution_count": 2,
     "metadata": {},
     "output_type": "execute_result"
    }
   ],
   "source": [
    "# - loading the dataset\n",
    "# - GitHub: https://github.com/dijendersaini/Customer-Churn-Model/blob/master/churn_data.csv\n",
    "# - place it in your _data/ directory\n",
    "churn_data = pd.read_csv(os.path.join(data_dir, 'churn_data.csv'))\n",
    "churn_data.head(10)"
   ]
  },
  {
   "cell_type": "markdown",
   "id": "ced58821",
   "metadata": {},
   "source": [
    "### Data Preparation"
   ]
  },
  {
   "cell_type": "code",
   "execution_count": 3,
   "id": "e1701d9d",
   "metadata": {},
   "outputs": [
    {
     "name": "stdout",
     "output_type": "stream",
     "text": [
      "<class 'pandas.core.frame.DataFrame'>\n",
      "RangeIndex: 7043 entries, 0 to 7042\n",
      "Data columns (total 9 columns):\n",
      " #   Column            Non-Null Count  Dtype  \n",
      "---  ------            --------------  -----  \n",
      " 0   customerID        7043 non-null   object \n",
      " 1   tenure            7043 non-null   int64  \n",
      " 2   PhoneService      7043 non-null   object \n",
      " 3   Contract          7043 non-null   object \n",
      " 4   PaperlessBilling  7043 non-null   object \n",
      " 5   PaymentMethod     7043 non-null   object \n",
      " 6   MonthlyCharges    7043 non-null   float64\n",
      " 7   TotalCharges      7043 non-null   object \n",
      " 8   Churn             7043 non-null   object \n",
      "dtypes: float64(1), int64(1), object(7)\n",
      "memory usage: 495.3+ KB\n"
     ]
    }
   ],
   "source": [
    "churn_data.info()"
   ]
  },
  {
   "cell_type": "code",
   "execution_count": 4,
   "id": "dd136c93",
   "metadata": {},
   "outputs": [
    {
     "data": {
      "text/plain": [
       "customerID                         4472-LVYGI\n",
       "tenure                                      0\n",
       "PhoneService                               No\n",
       "Contract                             Two year\n",
       "PaperlessBilling                          Yes\n",
       "PaymentMethod       Bank transfer (automatic)\n",
       "MonthlyCharges                          52.55\n",
       "TotalCharges                                 \n",
       "Churn                                      No\n",
       "Name: 488, dtype: object"
      ]
     },
     "execution_count": 4,
     "metadata": {},
     "output_type": "execute_result"
    }
   ],
   "source": [
    "# - some entries have missing values given as empty strings\n",
    "churn_data.loc[488]"
   ]
  },
  {
   "cell_type": "code",
   "execution_count": 5,
   "id": "4a2d3928",
   "metadata": {},
   "outputs": [
    {
     "data": {
      "text/plain": [
       "customerID                         4472-LVYGI\n",
       "tenure                                      0\n",
       "PhoneService                               No\n",
       "Contract                             Two year\n",
       "PaperlessBilling                          Yes\n",
       "PaymentMethod       Bank transfer (automatic)\n",
       "MonthlyCharges                          52.55\n",
       "TotalCharges                              NaN\n",
       "Churn                                      No\n",
       "Name: 488, dtype: object"
      ]
     },
     "execution_count": 5,
     "metadata": {},
     "output_type": "execute_result"
    }
   ],
   "source": [
    "# - use .replace method to replace empty strings with NaN values\n",
    "churn_data = churn_data.replace(r'^\\s*$', np.nan, regex=True)\n",
    "churn_data.loc[488]"
   ]
  },
  {
   "cell_type": "code",
   "execution_count": 6,
   "id": "ca5c655a",
   "metadata": {},
   "outputs": [],
   "source": [
    "# - we drop all the entries with missing values\n",
    "churn_data = churn_data.dropna().reset_index(drop=True)"
   ]
  },
  {
   "cell_type": "code",
   "execution_count": 7,
   "id": "a8488f35",
   "metadata": {},
   "outputs": [
    {
     "name": "stdout",
     "output_type": "stream",
     "text": [
      "<class 'pandas.core.frame.DataFrame'>\n",
      "RangeIndex: 7032 entries, 0 to 7031\n",
      "Data columns (total 9 columns):\n",
      " #   Column            Non-Null Count  Dtype  \n",
      "---  ------            --------------  -----  \n",
      " 0   customerID        7032 non-null   object \n",
      " 1   tenure            7032 non-null   int64  \n",
      " 2   PhoneService      7032 non-null   object \n",
      " 3   Contract          7032 non-null   object \n",
      " 4   PaperlessBilling  7032 non-null   object \n",
      " 5   PaymentMethod     7032 non-null   object \n",
      " 6   MonthlyCharges    7032 non-null   float64\n",
      " 7   TotalCharges      7032 non-null   object \n",
      " 8   Churn             7032 non-null   object \n",
      "dtypes: float64(1), int64(1), object(7)\n",
      "memory usage: 494.6+ KB\n"
     ]
    }
   ],
   "source": [
    "churn_data.info()"
   ]
  },
  {
   "cell_type": "code",
   "execution_count": 8,
   "id": "642e39fe",
   "metadata": {},
   "outputs": [
    {
     "name": "stdout",
     "output_type": "stream",
     "text": [
      "<class 'pandas.core.frame.DataFrame'>\n",
      "RangeIndex: 7032 entries, 0 to 7031\n",
      "Data columns (total 9 columns):\n",
      " #   Column            Non-Null Count  Dtype  \n",
      "---  ------            --------------  -----  \n",
      " 0   customerID        7032 non-null   object \n",
      " 1   tenure            7032 non-null   int64  \n",
      " 2   PhoneService      7032 non-null   object \n",
      " 3   Contract          7032 non-null   object \n",
      " 4   PaperlessBilling  7032 non-null   object \n",
      " 5   PaymentMethod     7032 non-null   object \n",
      " 6   MonthlyCharges    7032 non-null   float64\n",
      " 7   TotalCharges      7032 non-null   float64\n",
      " 8   Churn             7032 non-null   object \n",
      "dtypes: float64(2), int64(1), object(6)\n",
      "memory usage: 494.6+ KB\n"
     ]
    }
   ],
   "source": [
    "# - notice that 'TotalCharges' values are non-numeric type, but they should be\n",
    "# - this is due to the empty string values that were previously present\n",
    "# - we convert them to numeric type\n",
    "churn_data['TotalCharges'] =churn_data['TotalCharges'].astype('float')\n",
    "churn_data.info()"
   ]
  },
  {
   "cell_type": "markdown",
   "id": "15b1a4ce",
   "metadata": {},
   "source": [
    "### Target: Predict churn from all numeric predictors"
   ]
  },
  {
   "cell_type": "markdown",
   "id": "b3000126",
   "metadata": {},
   "source": [
    "We use Binomial Logistic Regression to predict the probability $p$ of a given observation $\\textbf{x}$, with features $(x_1, x_2, \\ldots, x_k)$, belonging to one of the two binary categories \\{0, 1\\}. We compute these probabilites via\n",
    "\n",
    "$$p = \\frac{1}{1+e^{\\beta_1x_1 + \\beta_2x_2 + \\cdots + \\beta_kx_k + \\beta_0}},$$\n",
    "\n",
    "where $\\beta_1, \\beta_2, \\ldots, \\beta_k$ are the model's parameters for the predictors, and $\\beta_0$ is the intercept of the model.\n",
    "\n",
    "In order to determine whether the predicted label $\\hat{y}$ for a given observation $\\textbf{x}$ has binary label 1 or 0, we impose a decision criterion $\\sigma$ - a number in the (0, 1) interval. If $p > \\sigma$, then we assign label $\\hat{y} = 1$ to the observation $\\textbf{x}$; else, we take $\\hat{y} = 0$. Ususally, we take $\\sigma = 0.5$.\n",
    "\n",
    "The model is optimized by MLE (Maximum Likelihood Estimation), and the interpretation of the model coefficients is the following:\n",
    "\n",
    "- for a given predictor $x_i$, the exponential of its coefficient, $e^{\\beta_i}$ tells us about the change $\\Delta_{odds}$, where $\\Delta_{odds}$ is the difference between $\\frac{p_1}{1-p_1}$ *following* a unit increase in $x_i$ and before it - given that everything else is kept constant."
   ]
  },
  {
   "cell_type": "code",
   "execution_count": 9,
   "id": "1d28531d",
   "metadata": {},
   "outputs": [
    {
     "data": {
      "text/html": [
       "<div>\n",
       "<style scoped>\n",
       "    .dataframe tbody tr th:only-of-type {\n",
       "        vertical-align: middle;\n",
       "    }\n",
       "\n",
       "    .dataframe tbody tr th {\n",
       "        vertical-align: top;\n",
       "    }\n",
       "\n",
       "    .dataframe thead th {\n",
       "        text-align: right;\n",
       "    }\n",
       "</style>\n",
       "<table border=\"1\" class=\"dataframe\">\n",
       "  <thead>\n",
       "    <tr style=\"text-align: right;\">\n",
       "      <th></th>\n",
       "      <th>Churn</th>\n",
       "      <th>tenure</th>\n",
       "      <th>MonthlyCharges</th>\n",
       "      <th>TotalCharges</th>\n",
       "    </tr>\n",
       "  </thead>\n",
       "  <tbody>\n",
       "    <tr>\n",
       "      <th>0</th>\n",
       "      <td>No</td>\n",
       "      <td>1</td>\n",
       "      <td>29.85</td>\n",
       "      <td>29.85</td>\n",
       "    </tr>\n",
       "    <tr>\n",
       "      <th>1</th>\n",
       "      <td>No</td>\n",
       "      <td>34</td>\n",
       "      <td>56.95</td>\n",
       "      <td>1889.50</td>\n",
       "    </tr>\n",
       "    <tr>\n",
       "      <th>2</th>\n",
       "      <td>Yes</td>\n",
       "      <td>2</td>\n",
       "      <td>53.85</td>\n",
       "      <td>108.15</td>\n",
       "    </tr>\n",
       "    <tr>\n",
       "      <th>3</th>\n",
       "      <td>No</td>\n",
       "      <td>45</td>\n",
       "      <td>42.30</td>\n",
       "      <td>1840.75</td>\n",
       "    </tr>\n",
       "    <tr>\n",
       "      <th>4</th>\n",
       "      <td>Yes</td>\n",
       "      <td>2</td>\n",
       "      <td>70.70</td>\n",
       "      <td>151.65</td>\n",
       "    </tr>\n",
       "  </tbody>\n",
       "</table>\n",
       "</div>"
      ],
      "text/plain": [
       "  Churn  tenure  MonthlyCharges  TotalCharges\n",
       "0    No       1           29.85         29.85\n",
       "1    No      34           56.95       1889.50\n",
       "2   Yes       2           53.85        108.15\n",
       "3    No      45           42.30       1840.75\n",
       "4   Yes       2           70.70        151.65"
      ]
     },
     "execution_count": 9,
     "metadata": {},
     "output_type": "execute_result"
    }
   ],
   "source": [
    "### --- Preparing the model frame\n",
    "\n",
    "# - extracting 'Churn' and all the numerical features columns\n",
    "model_frame = churn_data[['Churn', 'tenure', 'MonthlyCharges', 'TotalCharges']]\n",
    "model_frame.head()"
   ]
  },
  {
   "cell_type": "code",
   "execution_count": 10,
   "id": "7c330493",
   "metadata": {},
   "outputs": [
    {
     "data": {
      "text/html": [
       "<div>\n",
       "<style scoped>\n",
       "    .dataframe tbody tr th:only-of-type {\n",
       "        vertical-align: middle;\n",
       "    }\n",
       "\n",
       "    .dataframe tbody tr th {\n",
       "        vertical-align: top;\n",
       "    }\n",
       "\n",
       "    .dataframe thead th {\n",
       "        text-align: right;\n",
       "    }\n",
       "</style>\n",
       "<table border=\"1\" class=\"dataframe\">\n",
       "  <thead>\n",
       "    <tr style=\"text-align: right;\">\n",
       "      <th></th>\n",
       "      <th>Churn</th>\n",
       "      <th>tenure</th>\n",
       "      <th>MonthlyCharges</th>\n",
       "      <th>TotalCharges</th>\n",
       "    </tr>\n",
       "  </thead>\n",
       "  <tbody>\n",
       "    <tr>\n",
       "      <th>0</th>\n",
       "      <td>0</td>\n",
       "      <td>1</td>\n",
       "      <td>29.85</td>\n",
       "      <td>29.85</td>\n",
       "    </tr>\n",
       "    <tr>\n",
       "      <th>1</th>\n",
       "      <td>0</td>\n",
       "      <td>34</td>\n",
       "      <td>56.95</td>\n",
       "      <td>1889.50</td>\n",
       "    </tr>\n",
       "    <tr>\n",
       "      <th>2</th>\n",
       "      <td>1</td>\n",
       "      <td>2</td>\n",
       "      <td>53.85</td>\n",
       "      <td>108.15</td>\n",
       "    </tr>\n",
       "    <tr>\n",
       "      <th>3</th>\n",
       "      <td>0</td>\n",
       "      <td>45</td>\n",
       "      <td>42.30</td>\n",
       "      <td>1840.75</td>\n",
       "    </tr>\n",
       "    <tr>\n",
       "      <th>4</th>\n",
       "      <td>1</td>\n",
       "      <td>2</td>\n",
       "      <td>70.70</td>\n",
       "      <td>151.65</td>\n",
       "    </tr>\n",
       "  </tbody>\n",
       "</table>\n",
       "</div>"
      ],
      "text/plain": [
       "   Churn  tenure  MonthlyCharges  TotalCharges\n",
       "0      0       1           29.85         29.85\n",
       "1      0      34           56.95       1889.50\n",
       "2      1       2           53.85        108.15\n",
       "3      0      45           42.30       1840.75\n",
       "4      1       2           70.70        151.65"
      ]
     },
     "execution_count": 10,
     "metadata": {},
     "output_type": "execute_result"
    }
   ],
   "source": [
    "# - encoding 'Churn' values to binary values\n",
    "model_frame['Churn'] = model_frame['Churn'].apply(lambda x: int(x == 'Yes'))\n",
    "model_frame.head()"
   ]
  },
  {
   "cell_type": "code",
   "execution_count": 11,
   "id": "50e35668",
   "metadata": {},
   "outputs": [
    {
     "data": {
      "text/plain": [
       "Index(['tenure', 'MonthlyCharges', 'TotalCharges'], dtype='object')"
      ]
     },
     "execution_count": 11,
     "metadata": {},
     "output_type": "execute_result"
    }
   ],
   "source": [
    "predictors = model_frame.columns.drop('Churn')\n",
    "predictors"
   ]
  },
  {
   "cell_type": "code",
   "execution_count": 12,
   "id": "7368bae5",
   "metadata": {},
   "outputs": [
    {
     "data": {
      "text/plain": [
       "'Churn ~ tenure + MonthlyCharges + TotalCharges'"
      ]
     },
     "execution_count": 12,
     "metadata": {},
     "output_type": "execute_result"
    }
   ],
   "source": [
    "# --- Composing the fomula of the model\n",
    "\n",
    "# - right side of the formula\n",
    "formula = ' + '.join(predictors)\n",
    "\n",
    "# - left side of the formula\n",
    "formula = 'Churn ~ ' + formula\n",
    "\n",
    "formula"
   ]
  },
  {
   "cell_type": "code",
   "execution_count": 13,
   "id": "56b5c7b3",
   "metadata": {},
   "outputs": [
    {
     "name": "stdout",
     "output_type": "stream",
     "text": [
      "Optimization terminated successfully.\n",
      "         Current function value: 0.453372\n",
      "         Iterations 7\n"
     ]
    }
   ],
   "source": [
    "# - fitting BLR model to the data\n",
    "binomial_linear_model = smf.logit(formula=formula, data=model_frame).fit()"
   ]
  },
  {
   "cell_type": "code",
   "execution_count": 14,
   "id": "17bad920",
   "metadata": {},
   "outputs": [
    {
     "data": {
      "text/html": [
       "<table class=\"simpletable\">\n",
       "<caption>Logit Regression Results</caption>\n",
       "<tr>\n",
       "  <th>Dep. Variable:</th>         <td>Churn</td>      <th>  No. Observations:  </th>  <td>  7032</td> \n",
       "</tr>\n",
       "<tr>\n",
       "  <th>Model:</th>                 <td>Logit</td>      <th>  Df Residuals:      </th>  <td>  7028</td> \n",
       "</tr>\n",
       "<tr>\n",
       "  <th>Method:</th>                 <td>MLE</td>       <th>  Df Model:          </th>  <td>     3</td> \n",
       "</tr>\n",
       "<tr>\n",
       "  <th>Date:</th>            <td>Mon, 24 Apr 2023</td> <th>  Pseudo R-squ.:     </th>  <td>0.2170</td> \n",
       "</tr>\n",
       "<tr>\n",
       "  <th>Time:</th>                <td>17:19:18</td>     <th>  Log-Likelihood:    </th> <td> -3188.1</td>\n",
       "</tr>\n",
       "<tr>\n",
       "  <th>converged:</th>             <td>True</td>       <th>  LL-Null:           </th> <td> -4071.7</td>\n",
       "</tr>\n",
       "<tr>\n",
       "  <th>Covariance Type:</th>     <td>nonrobust</td>    <th>  LLR p-value:       </th>  <td> 0.000</td> \n",
       "</tr>\n",
       "</table>\n",
       "<table class=\"simpletable\">\n",
       "<tr>\n",
       "         <td></td>           <th>coef</th>     <th>std err</th>      <th>z</th>      <th>P>|z|</th>  <th>[0.025</th>    <th>0.975]</th>  \n",
       "</tr>\n",
       "<tr>\n",
       "  <th>Intercept</th>      <td>   -1.5988</td> <td>    0.117</td> <td>  -13.628</td> <td> 0.000</td> <td>   -1.829</td> <td>   -1.369</td>\n",
       "</tr>\n",
       "<tr>\n",
       "  <th>tenure</th>         <td>   -0.0671</td> <td>    0.005</td> <td>  -12.297</td> <td> 0.000</td> <td>   -0.078</td> <td>   -0.056</td>\n",
       "</tr>\n",
       "<tr>\n",
       "  <th>MonthlyCharges</th> <td>    0.0302</td> <td>    0.002</td> <td>   17.585</td> <td> 0.000</td> <td>    0.027</td> <td>    0.034</td>\n",
       "</tr>\n",
       "<tr>\n",
       "  <th>TotalCharges</th>   <td>    0.0001</td> <td> 6.14e-05</td> <td>    2.361</td> <td> 0.018</td> <td> 2.47e-05</td> <td>    0.000</td>\n",
       "</tr>\n",
       "</table>"
      ],
      "text/plain": [
       "<class 'statsmodels.iolib.summary.Summary'>\n",
       "\"\"\"\n",
       "                           Logit Regression Results                           \n",
       "==============================================================================\n",
       "Dep. Variable:                  Churn   No. Observations:                 7032\n",
       "Model:                          Logit   Df Residuals:                     7028\n",
       "Method:                           MLE   Df Model:                            3\n",
       "Date:                Mon, 24 Apr 2023   Pseudo R-squ.:                  0.2170\n",
       "Time:                        17:19:18   Log-Likelihood:                -3188.1\n",
       "converged:                       True   LL-Null:                       -4071.7\n",
       "Covariance Type:            nonrobust   LLR p-value:                     0.000\n",
       "==================================================================================\n",
       "                     coef    std err          z      P>|z|      [0.025      0.975]\n",
       "----------------------------------------------------------------------------------\n",
       "Intercept         -1.5988      0.117    -13.628      0.000      -1.829      -1.369\n",
       "tenure            -0.0671      0.005    -12.297      0.000      -0.078      -0.056\n",
       "MonthlyCharges     0.0302      0.002     17.585      0.000       0.027       0.034\n",
       "TotalCharges       0.0001   6.14e-05      2.361      0.018    2.47e-05       0.000\n",
       "==================================================================================\n",
       "\"\"\""
      ]
     },
     "execution_count": 14,
     "metadata": {},
     "output_type": "execute_result"
    }
   ],
   "source": [
    "binomial_linear_model.summary()"
   ]
  },
  {
   "cell_type": "code",
   "execution_count": 15,
   "id": "3770b3fc",
   "metadata": {},
   "outputs": [
    {
     "data": {
      "text/plain": [
       "Intercept        -1.598827\n",
       "tenure           -0.067114\n",
       "MonthlyCharges    0.030200\n",
       "TotalCharges      0.000145\n",
       "dtype: float64"
      ]
     },
     "execution_count": 15,
     "metadata": {},
     "output_type": "execute_result"
    }
   ],
   "source": [
    "# - model's parameters\n",
    "binomial_linear_model.params"
   ]
  },
  {
   "cell_type": "code",
   "execution_count": 16,
   "id": "5334dc3d",
   "metadata": {},
   "outputs": [
    {
     "data": {
      "text/plain": [
       "Intercept         0.202133\n",
       "tenure            0.935088\n",
       "MonthlyCharges    1.030660\n",
       "TotalCharges      1.000145\n",
       "dtype: float64"
      ]
     },
     "execution_count": 16,
     "metadata": {},
     "output_type": "execute_result"
    }
   ],
   "source": [
    "# - exponential of the model's parameters\n",
    "np.exp(binomial_linear_model.params)"
   ]
  },
  {
   "cell_type": "code",
   "execution_count": 17,
   "id": "aa7dde29",
   "metadata": {},
   "outputs": [
    {
     "data": {
      "text/plain": [
       "array([0.31861382, 0.13162129, 0.47723817, 0.04417324, 0.60445587,\n",
       "       0.72962176, 0.47459352, 0.2095354 , 0.53216748, 0.02770232])"
      ]
     },
     "execution_count": 17,
     "metadata": {},
     "output_type": "execute_result"
    }
   ],
   "source": [
    "# - predicting the probabilities\n",
    "probabilities = binomial_linear_model.predict()\n",
    "probabilities[:10]"
   ]
  },
  {
   "cell_type": "code",
   "execution_count": 18,
   "id": "77181833",
   "metadata": {},
   "outputs": [
    {
     "data": {
      "text/plain": [
       "array([0, 0, 0, 0, 1, 1, 0, 0, 1, 0])"
      ]
     },
     "execution_count": 18,
     "metadata": {},
     "output_type": "execute_result"
    }
   ],
   "source": [
    "# - predicting binary labels, taking \\sigma = 0.5\n",
    "predictions = (probabilities > .5).astype('int')\n",
    "predictions[:10]"
   ]
  },
  {
   "cell_type": "code",
   "execution_count": 19,
   "id": "37ca2a41",
   "metadata": {},
   "outputs": [
    {
     "data": {
      "text/html": [
       "<div>\n",
       "<style scoped>\n",
       "    .dataframe tbody tr th:only-of-type {\n",
       "        vertical-align: middle;\n",
       "    }\n",
       "\n",
       "    .dataframe tbody tr th {\n",
       "        vertical-align: top;\n",
       "    }\n",
       "\n",
       "    .dataframe thead th {\n",
       "        text-align: right;\n",
       "    }\n",
       "</style>\n",
       "<table border=\"1\" class=\"dataframe\">\n",
       "  <thead>\n",
       "    <tr style=\"text-align: right;\">\n",
       "      <th></th>\n",
       "      <th>observation</th>\n",
       "      <th>prediction</th>\n",
       "    </tr>\n",
       "  </thead>\n",
       "  <tbody>\n",
       "    <tr>\n",
       "      <th>0</th>\n",
       "      <td>0</td>\n",
       "      <td>0</td>\n",
       "    </tr>\n",
       "    <tr>\n",
       "      <th>1</th>\n",
       "      <td>0</td>\n",
       "      <td>0</td>\n",
       "    </tr>\n",
       "    <tr>\n",
       "      <th>2</th>\n",
       "      <td>1</td>\n",
       "      <td>0</td>\n",
       "    </tr>\n",
       "    <tr>\n",
       "      <th>3</th>\n",
       "      <td>0</td>\n",
       "      <td>0</td>\n",
       "    </tr>\n",
       "    <tr>\n",
       "      <th>4</th>\n",
       "      <td>1</td>\n",
       "      <td>1</td>\n",
       "    </tr>\n",
       "  </tbody>\n",
       "</table>\n",
       "</div>"
      ],
      "text/plain": [
       "   observation  prediction\n",
       "0            0           0\n",
       "1            0           0\n",
       "2            1           0\n",
       "3            0           0\n",
       "4            1           1"
      ]
     },
     "execution_count": 19,
     "metadata": {},
     "output_type": "execute_result"
    }
   ],
   "source": [
    "# - observed vs. predicted labels\n",
    "\n",
    "predictions_df = pd.DataFrame()\n",
    "\n",
    "predictions_df['observation'] = model_frame['Churn']\n",
    "predictions_df['prediction'] = predictions\n",
    "\n",
    "predictions_df.head()"
   ]
  },
  {
   "cell_type": "code",
   "execution_count": 20,
   "id": "bcb862cb",
   "metadata": {},
   "outputs": [
    {
     "data": {
      "text/plain": [
       "0.785"
      ]
     },
     "execution_count": 20,
     "metadata": {},
     "output_type": "execute_result"
    }
   ],
   "source": [
    "# - accuracy of the model\n",
    "accuracy = predictions_df['observation'] == predictions_df['prediction']\n",
    "accuracy = np.sum(accuracy)/len(accuracy)\n",
    "np.round(accuracy, 4)"
   ]
  },
  {
   "cell_type": "code",
   "execution_count": 21,
   "id": "2253ac20",
   "metadata": {},
   "outputs": [
    {
     "data": {
      "text/plain": [
       "0.4425"
      ]
     },
     "execution_count": 21,
     "metadata": {},
     "output_type": "execute_result"
    }
   ],
   "source": [
    "# - model true positive rate (hit rate)\n",
    "hit = (predictions_df['observation'] == 1)&(predictions_df['prediction'] == 1)\n",
    "hit = np.sum(hit)/np.sum(predictions_df['observation'] == 1)\n",
    "np.round(hit, 4)"
   ]
  },
  {
   "cell_type": "code",
   "execution_count": 22,
   "id": "c5fbc383",
   "metadata": {},
   "outputs": [
    {
     "data": {
      "text/plain": [
       "0.091"
      ]
     },
     "execution_count": 22,
     "metadata": {},
     "output_type": "execute_result"
    }
   ],
   "source": [
    "# - model false positive rate (fallse alarm rate)\n",
    "fa = (predictions_df['observation'] == 0)&(predictions_df['prediction'] == 1)\n",
    "fa = np.sum(fa)/np.sum(predictions_df['observation'] == 0)\n",
    "np.round(fa, 4)"
   ]
  },
  {
   "cell_type": "code",
   "execution_count": 23,
   "id": "24280953",
   "metadata": {},
   "outputs": [],
   "source": [
    "### --- Constructing the ROC curve of the model\n",
    "\n",
    "# - calculating model metrics for varying decision criteria \\sigma\n",
    "dec_criterion = np.arange(.01, .99, step=.01)\n",
    "\n",
    "observations = model_frame['Churn']\n",
    "\n",
    "hits = []\n",
    "fas = []\n",
    "accuracies = []\n",
    "\n",
    "for x in dec_criterion:\n",
    "    \n",
    "    predictions =  probabilities > x\n",
    "    \n",
    "    accuracy = np.sum(observations == predictions)/len(observations)\n",
    "    hit = np.sum((observations == 1)&(predictions == 1))/np.sum(observations == 1)\n",
    "    fa = np.sum((observations == 0)&(predictions == 1))/np.sum(observations == 0)\n",
    "    \n",
    "    accuracies.append(accuracy)\n",
    "    fas.append(fa)\n",
    "    hits.append(hit)"
   ]
  },
  {
   "cell_type": "code",
   "execution_count": 24,
   "id": "89bf0ec4",
   "metadata": {},
   "outputs": [
    {
     "data": {
      "text/html": [
       "<div>\n",
       "<style scoped>\n",
       "    .dataframe tbody tr th:only-of-type {\n",
       "        vertical-align: middle;\n",
       "    }\n",
       "\n",
       "    .dataframe tbody tr th {\n",
       "        vertical-align: top;\n",
       "    }\n",
       "\n",
       "    .dataframe thead th {\n",
       "        text-align: right;\n",
       "    }\n",
       "</style>\n",
       "<table border=\"1\" class=\"dataframe\">\n",
       "  <thead>\n",
       "    <tr style=\"text-align: right;\">\n",
       "      <th></th>\n",
       "      <th>hit</th>\n",
       "      <th>fa</th>\n",
       "      <th>accuracy</th>\n",
       "      <th>dec</th>\n",
       "    </tr>\n",
       "  </thead>\n",
       "  <tbody>\n",
       "    <tr>\n",
       "      <th>0</th>\n",
       "      <td>0.998930</td>\n",
       "      <td>0.935890</td>\n",
       "      <td>0.312571</td>\n",
       "      <td>0.01</td>\n",
       "    </tr>\n",
       "    <tr>\n",
       "      <th>1</th>\n",
       "      <td>0.993579</td>\n",
       "      <td>0.889793</td>\n",
       "      <td>0.344994</td>\n",
       "      <td>0.02</td>\n",
       "    </tr>\n",
       "    <tr>\n",
       "      <th>2</th>\n",
       "      <td>0.989834</td>\n",
       "      <td>0.847182</td>\n",
       "      <td>0.375284</td>\n",
       "      <td>0.03</td>\n",
       "    </tr>\n",
       "    <tr>\n",
       "      <th>3</th>\n",
       "      <td>0.987694</td>\n",
       "      <td>0.809413</td>\n",
       "      <td>0.402446</td>\n",
       "      <td>0.04</td>\n",
       "    </tr>\n",
       "    <tr>\n",
       "      <th>4</th>\n",
       "      <td>0.979668</td>\n",
       "      <td>0.771063</td>\n",
       "      <td>0.428470</td>\n",
       "      <td>0.05</td>\n",
       "    </tr>\n",
       "  </tbody>\n",
       "</table>\n",
       "</div>"
      ],
      "text/plain": [
       "        hit        fa  accuracy   dec\n",
       "0  0.998930  0.935890  0.312571  0.01\n",
       "1  0.993579  0.889793  0.344994  0.02\n",
       "2  0.989834  0.847182  0.375284  0.03\n",
       "3  0.987694  0.809413  0.402446  0.04\n",
       "4  0.979668  0.771063  0.428470  0.05"
      ]
     },
     "execution_count": 24,
     "metadata": {},
     "output_type": "execute_result"
    }
   ],
   "source": [
    "roc_frame = pd.DataFrame()\n",
    "\n",
    "roc_frame['hit'] = hits\n",
    "roc_frame['fa'] = fas\n",
    "roc_frame['accuracy'] = accuracies\n",
    "roc_frame['dec'] = dec_criterion\n",
    "\n",
    "roc_frame.head()"
   ]
  },
  {
   "cell_type": "code",
   "execution_count": 25,
   "id": "88c0cef4",
   "metadata": {},
   "outputs": [
    {
     "data": {
      "text/html": [
       "<div>\n",
       "<style scoped>\n",
       "    .dataframe tbody tr th:only-of-type {\n",
       "        vertical-align: middle;\n",
       "    }\n",
       "\n",
       "    .dataframe tbody tr th {\n",
       "        vertical-align: top;\n",
       "    }\n",
       "\n",
       "    .dataframe thead th {\n",
       "        text-align: right;\n",
       "    }\n",
       "</style>\n",
       "<table border=\"1\" class=\"dataframe\">\n",
       "  <thead>\n",
       "    <tr style=\"text-align: right;\">\n",
       "      <th></th>\n",
       "      <th>hit</th>\n",
       "      <th>fa</th>\n",
       "      <th>accuracy</th>\n",
       "      <th>dec</th>\n",
       "      <th>diff</th>\n",
       "    </tr>\n",
       "  </thead>\n",
       "  <tbody>\n",
       "    <tr>\n",
       "      <th>0</th>\n",
       "      <td>0.998930</td>\n",
       "      <td>0.935890</td>\n",
       "      <td>0.312571</td>\n",
       "      <td>0.01</td>\n",
       "      <td>0.063040</td>\n",
       "    </tr>\n",
       "    <tr>\n",
       "      <th>1</th>\n",
       "      <td>0.993579</td>\n",
       "      <td>0.889793</td>\n",
       "      <td>0.344994</td>\n",
       "      <td>0.02</td>\n",
       "      <td>0.103787</td>\n",
       "    </tr>\n",
       "    <tr>\n",
       "      <th>2</th>\n",
       "      <td>0.989834</td>\n",
       "      <td>0.847182</td>\n",
       "      <td>0.375284</td>\n",
       "      <td>0.03</td>\n",
       "      <td>0.142652</td>\n",
       "    </tr>\n",
       "    <tr>\n",
       "      <th>3</th>\n",
       "      <td>0.987694</td>\n",
       "      <td>0.809413</td>\n",
       "      <td>0.402446</td>\n",
       "      <td>0.04</td>\n",
       "      <td>0.178281</td>\n",
       "    </tr>\n",
       "    <tr>\n",
       "      <th>4</th>\n",
       "      <td>0.979668</td>\n",
       "      <td>0.771063</td>\n",
       "      <td>0.428470</td>\n",
       "      <td>0.05</td>\n",
       "      <td>0.208605</td>\n",
       "    </tr>\n",
       "  </tbody>\n",
       "</table>\n",
       "</div>"
      ],
      "text/plain": [
       "        hit        fa  accuracy   dec      diff\n",
       "0  0.998930  0.935890  0.312571  0.01  0.063040\n",
       "1  0.993579  0.889793  0.344994  0.02  0.103787\n",
       "2  0.989834  0.847182  0.375284  0.03  0.142652\n",
       "3  0.987694  0.809413  0.402446  0.04  0.178281\n",
       "4  0.979668  0.771063  0.428470  0.05  0.208605"
      ]
     },
     "execution_count": 25,
     "metadata": {},
     "output_type": "execute_result"
    }
   ],
   "source": [
    "# - difference between the hit and false alarm rates\n",
    "roc_frame['diff'] = roc_frame['hit'] - roc_frame['fa']\n",
    "roc_frame.head()"
   ]
  },
  {
   "cell_type": "code",
   "execution_count": 26,
   "id": "6b066c04",
   "metadata": {},
   "outputs": [
    {
     "data": {
      "text/plain": [
       "24"
      ]
     },
     "execution_count": 26,
     "metadata": {},
     "output_type": "execute_result"
    }
   ],
   "source": [
    "# - identifying the entry with the highest hit-false alarm rate difference\n",
    "diff_argmax = roc_frame['diff'].argmax()\n",
    "diff_argmax"
   ]
  },
  {
   "cell_type": "code",
   "execution_count": 27,
   "id": "456b293d",
   "metadata": {},
   "outputs": [
    {
     "data": {
      "image/png": "[encoded data removed]",
      "text/plain": [
       "<Figure size 576x432 with 1 Axes>"
      ]
     },
     "metadata": {},
     "output_type": "display_data"
    }
   ],
   "source": [
    "# - plotting the ROC curve of the model\n",
    "# - the point with the biggest hit-false alarm rate difference is marked\n",
    "sns.lineplot(data=roc_frame, x='dec', y='dec', color='black')\n",
    "sns.lineplot(data=roc_frame, x='fa', y='hit')\n",
    "\n",
    "plt.scatter(x=roc_frame.loc[diff_argmax, 'fa'], y=roc_frame.loc[diff_argmax, 'hit'], c='r')\n",
    "plt.text(x=roc_frame.loc[diff_argmax, 'fa']-.08, y=roc_frame.loc[diff_argmax, 'hit'], s='Here!')\n",
    "\n",
    "sns.despine(offset=10, trim=True)\n",
    "plt.xlabel('True Negative (False Alarm) Rate', fontsize=14)\n",
    "plt.ylabel('True Positive (Hit) Rate', fontsize=14)\n",
    "plt.title('ROC Analysis for the Binomial Regression Model', fontsize=16);"
   ]
  },
  {
   "cell_type": "code",
   "execution_count": 28,
   "id": "d328d054",
   "metadata": {},
   "outputs": [
    {
     "data": {
      "text/plain": [
       "-3188.1130873174216"
      ]
     },
     "execution_count": 28,
     "metadata": {},
     "output_type": "execute_result"
    }
   ],
   "source": [
    "### --- Model diagnostics\n",
    "\n",
    "# - model log-likelihood\n",
    "model_loglike = binomial_linear_model.llf\n",
    "model_loglike"
   ]
  },
  {
   "cell_type": "code",
   "execution_count": 29,
   "id": "76d715ad",
   "metadata": {},
   "outputs": [
    {
     "data": {
      "text/plain": [
       "6376.226174634843"
      ]
     },
     "execution_count": 29,
     "metadata": {},
     "output_type": "execute_result"
    }
   ],
   "source": [
    "# - model deviance\n",
    "residuals_deviance = binomial_linear_model.resid_dev\n",
    "model_deviance = np.sum(residuals_deviance**2)\n",
    "model_deviance"
   ]
  },
  {
   "cell_type": "code",
   "execution_count": 30,
   "id": "50ba07c9",
   "metadata": {},
   "outputs": [
    {
     "data": {
      "text/plain": [
       "True"
      ]
     },
     "execution_count": 30,
     "metadata": {},
     "output_type": "execute_result"
    }
   ],
   "source": [
    "# - another way to compute model deviance\n",
    "np.sum(residuals_deviance**2) == -2*model_loglike"
   ]
  },
  {
   "cell_type": "code",
   "execution_count": 31,
   "id": "85680c85",
   "metadata": {},
   "outputs": [
    {
     "data": {
      "text/plain": [
       "6384.226174634843"
      ]
     },
     "execution_count": 31,
     "metadata": {},
     "output_type": "execute_result"
    }
   ],
   "source": [
    "# - Akaike Information Criterion (AIC)\n",
    "binomial_linear_model.aic"
   ]
  },
  {
   "cell_type": "code",
   "execution_count": 32,
   "id": "7576464c",
   "metadata": {},
   "outputs": [
    {
     "data": {
      "text/plain": [
       "6382.226174634843"
      ]
     },
     "execution_count": 32,
     "metadata": {},
     "output_type": "execute_result"
    }
   ],
   "source": [
    "# - another way to compute AIC\n",
    "aic = -2*model_loglike + 2*len(predictors)\n",
    "aic"
   ]
  },
  {
   "cell_type": "code",
   "execution_count": 33,
   "id": "846e8c3f",
   "metadata": {},
   "outputs": [
    {
     "data": {
      "text/plain": [
       "1767.1289720163195"
      ]
     },
     "execution_count": 33,
     "metadata": {},
     "output_type": "execute_result"
    }
   ],
   "source": [
    "### --- Comparison to the Null Model which follows the Chi-Square distribution\n",
    "\n",
    "# - differenc between deviances of the Null Model and our model\n",
    "dev_diff = binomial_linear_model.llr\n",
    "dev_diff"
   ]
  },
  {
   "cell_type": "code",
   "execution_count": 34,
   "id": "a15e87b0",
   "metadata": {},
   "outputs": [
    {
     "data": {
      "text/plain": [
       "3.0"
      ]
     },
     "execution_count": 34,
     "metadata": {},
     "output_type": "execute_result"
    }
   ],
   "source": [
    "# - degrees of fridom\n",
    "dfs = binomial_linear_model.df_model\n",
    "dfs"
   ]
  },
  {
   "cell_type": "code",
   "execution_count": 35,
   "id": "5a6d46c5",
   "metadata": {},
   "outputs": [
    {
     "data": {
      "text/plain": [
       "0.0"
      ]
     },
     "execution_count": 35,
     "metadata": {},
     "output_type": "execute_result"
    }
   ],
   "source": [
    "# - the residuals of the model\n",
    "model_residuals = binomial_linear_model.resid_response\n",
    "\n",
    "# - calculating the p-value\n",
    "sm.stats.gof.chisquare(f_obs=model_residuals, ddof=dfs)[1]"
   ]
  },
  {
   "cell_type": "markdown",
   "id": "451864ad",
   "metadata": {},
   "source": [
    "### Target: Predict churn from all the predictors"
   ]
  },
  {
   "cell_type": "code",
   "execution_count": 36,
   "id": "4fe21629",
   "metadata": {},
   "outputs": [
    {
     "data": {
      "text/plain": [
       "Intercept         0.202133\n",
       "tenure            0.935088\n",
       "MonthlyCharges    1.030660\n",
       "TotalCharges      1.000145\n",
       "dtype: float64"
      ]
     },
     "execution_count": 36,
     "metadata": {},
     "output_type": "execute_result"
    }
   ],
   "source": [
    "# - exponential of the parameters and AIC of the model using only numerical predictors (a reminder)\n",
    "np.exp(binomial_linear_model.params)"
   ]
  },
  {
   "cell_type": "code",
   "execution_count": 37,
   "id": "186ed151",
   "metadata": {},
   "outputs": [
    {
     "data": {
      "text/plain": [
       "6384.226174634843"
      ]
     },
     "execution_count": 37,
     "metadata": {},
     "output_type": "execute_result"
    }
   ],
   "source": [
    "binomial_linear_model.aic"
   ]
  },
  {
   "cell_type": "code",
   "execution_count": 38,
   "id": "ff71d298",
   "metadata": {},
   "outputs": [
    {
     "data": {
      "text/html": [
       "<div>\n",
       "<style scoped>\n",
       "    .dataframe tbody tr th:only-of-type {\n",
       "        vertical-align: middle;\n",
       "    }\n",
       "\n",
       "    .dataframe tbody tr th {\n",
       "        vertical-align: top;\n",
       "    }\n",
       "\n",
       "    .dataframe thead th {\n",
       "        text-align: right;\n",
       "    }\n",
       "</style>\n",
       "<table border=\"1\" class=\"dataframe\">\n",
       "  <thead>\n",
       "    <tr style=\"text-align: right;\">\n",
       "      <th></th>\n",
       "      <th>tenure</th>\n",
       "      <th>PhoneService</th>\n",
       "      <th>Contract</th>\n",
       "      <th>PaperlessBilling</th>\n",
       "      <th>PaymentMethod</th>\n",
       "      <th>MonthlyCharges</th>\n",
       "      <th>TotalCharges</th>\n",
       "      <th>Churn</th>\n",
       "    </tr>\n",
       "  </thead>\n",
       "  <tbody>\n",
       "    <tr>\n",
       "      <th>0</th>\n",
       "      <td>1</td>\n",
       "      <td>No</td>\n",
       "      <td>Month-to-month</td>\n",
       "      <td>Yes</td>\n",
       "      <td>Electronic check</td>\n",
       "      <td>29.85</td>\n",
       "      <td>29.85</td>\n",
       "      <td>No</td>\n",
       "    </tr>\n",
       "    <tr>\n",
       "      <th>1</th>\n",
       "      <td>34</td>\n",
       "      <td>Yes</td>\n",
       "      <td>One year</td>\n",
       "      <td>No</td>\n",
       "      <td>Mailed check</td>\n",
       "      <td>56.95</td>\n",
       "      <td>1889.50</td>\n",
       "      <td>No</td>\n",
       "    </tr>\n",
       "    <tr>\n",
       "      <th>2</th>\n",
       "      <td>2</td>\n",
       "      <td>Yes</td>\n",
       "      <td>Month-to-month</td>\n",
       "      <td>Yes</td>\n",
       "      <td>Mailed check</td>\n",
       "      <td>53.85</td>\n",
       "      <td>108.15</td>\n",
       "      <td>Yes</td>\n",
       "    </tr>\n",
       "    <tr>\n",
       "      <th>3</th>\n",
       "      <td>45</td>\n",
       "      <td>No</td>\n",
       "      <td>One year</td>\n",
       "      <td>No</td>\n",
       "      <td>Bank transfer (automatic)</td>\n",
       "      <td>42.30</td>\n",
       "      <td>1840.75</td>\n",
       "      <td>No</td>\n",
       "    </tr>\n",
       "    <tr>\n",
       "      <th>4</th>\n",
       "      <td>2</td>\n",
       "      <td>Yes</td>\n",
       "      <td>Month-to-month</td>\n",
       "      <td>Yes</td>\n",
       "      <td>Electronic check</td>\n",
       "      <td>70.70</td>\n",
       "      <td>151.65</td>\n",
       "      <td>Yes</td>\n",
       "    </tr>\n",
       "  </tbody>\n",
       "</table>\n",
       "</div>"
      ],
      "text/plain": [
       "   tenure PhoneService        Contract PaperlessBilling  \\\n",
       "0       1           No  Month-to-month              Yes   \n",
       "1      34          Yes        One year               No   \n",
       "2       2          Yes  Month-to-month              Yes   \n",
       "3      45           No        One year               No   \n",
       "4       2          Yes  Month-to-month              Yes   \n",
       "\n",
       "               PaymentMethod  MonthlyCharges  TotalCharges Churn  \n",
       "0           Electronic check           29.85         29.85    No  \n",
       "1               Mailed check           56.95       1889.50    No  \n",
       "2               Mailed check           53.85        108.15   Yes  \n",
       "3  Bank transfer (automatic)           42.30       1840.75    No  \n",
       "4           Electronic check           70.70        151.65   Yes  "
      ]
     },
     "execution_count": 38,
     "metadata": {},
     "output_type": "execute_result"
    }
   ],
   "source": [
    "### --- Prepering the dataset\n",
    "\n",
    "# - droping the 'customerID' column\n",
    "model_frame = churn_data.drop(columns='customerID')\n",
    "model_frame.head()"
   ]
  },
  {
   "cell_type": "code",
   "execution_count": 39,
   "id": "097cc58d",
   "metadata": {},
   "outputs": [
    {
     "name": "stdout",
     "output_type": "stream",
     "text": [
      "<class 'pandas.core.frame.DataFrame'>\n",
      "RangeIndex: 7032 entries, 0 to 7031\n",
      "Data columns (total 8 columns):\n",
      " #   Column            Non-Null Count  Dtype  \n",
      "---  ------            --------------  -----  \n",
      " 0   tenure            7032 non-null   int64  \n",
      " 1   PhoneService      7032 non-null   object \n",
      " 2   Contract          7032 non-null   object \n",
      " 3   PaperlessBilling  7032 non-null   object \n",
      " 4   PaymentMethod     7032 non-null   object \n",
      " 5   MonthlyCharges    7032 non-null   float64\n",
      " 6   TotalCharges      7032 non-null   float64\n",
      " 7   Churn             7032 non-null   object \n",
      "dtypes: float64(2), int64(1), object(5)\n",
      "memory usage: 439.6+ KB\n"
     ]
    }
   ],
   "source": [
    "model_frame.info()"
   ]
  },
  {
   "cell_type": "code",
   "execution_count": 40,
   "id": "0c5c1213",
   "metadata": {},
   "outputs": [
    {
     "data": {
      "text/html": [
       "<div>\n",
       "<style scoped>\n",
       "    .dataframe tbody tr th:only-of-type {\n",
       "        vertical-align: middle;\n",
       "    }\n",
       "\n",
       "    .dataframe tbody tr th {\n",
       "        vertical-align: top;\n",
       "    }\n",
       "\n",
       "    .dataframe thead th {\n",
       "        text-align: right;\n",
       "    }\n",
       "</style>\n",
       "<table border=\"1\" class=\"dataframe\">\n",
       "  <thead>\n",
       "    <tr style=\"text-align: right;\">\n",
       "      <th></th>\n",
       "      <th>tenure</th>\n",
       "      <th>PhoneService</th>\n",
       "      <th>Contract</th>\n",
       "      <th>PaperlessBilling</th>\n",
       "      <th>PaymentMethod</th>\n",
       "      <th>MonthlyCharges</th>\n",
       "      <th>TotalCharges</th>\n",
       "      <th>Churn</th>\n",
       "    </tr>\n",
       "  </thead>\n",
       "  <tbody>\n",
       "    <tr>\n",
       "      <th>0</th>\n",
       "      <td>1</td>\n",
       "      <td>No</td>\n",
       "      <td>Month-to-month</td>\n",
       "      <td>Yes</td>\n",
       "      <td>Electronic check</td>\n",
       "      <td>29.85</td>\n",
       "      <td>29.85</td>\n",
       "      <td>0</td>\n",
       "    </tr>\n",
       "    <tr>\n",
       "      <th>1</th>\n",
       "      <td>34</td>\n",
       "      <td>Yes</td>\n",
       "      <td>One year</td>\n",
       "      <td>No</td>\n",
       "      <td>Mailed check</td>\n",
       "      <td>56.95</td>\n",
       "      <td>1889.50</td>\n",
       "      <td>0</td>\n",
       "    </tr>\n",
       "    <tr>\n",
       "      <th>2</th>\n",
       "      <td>2</td>\n",
       "      <td>Yes</td>\n",
       "      <td>Month-to-month</td>\n",
       "      <td>Yes</td>\n",
       "      <td>Mailed check</td>\n",
       "      <td>53.85</td>\n",
       "      <td>108.15</td>\n",
       "      <td>1</td>\n",
       "    </tr>\n",
       "    <tr>\n",
       "      <th>3</th>\n",
       "      <td>45</td>\n",
       "      <td>No</td>\n",
       "      <td>One year</td>\n",
       "      <td>No</td>\n",
       "      <td>Bank transfer (automatic)</td>\n",
       "      <td>42.30</td>\n",
       "      <td>1840.75</td>\n",
       "      <td>0</td>\n",
       "    </tr>\n",
       "    <tr>\n",
       "      <th>4</th>\n",
       "      <td>2</td>\n",
       "      <td>Yes</td>\n",
       "      <td>Month-to-month</td>\n",
       "      <td>Yes</td>\n",
       "      <td>Electronic check</td>\n",
       "      <td>70.70</td>\n",
       "      <td>151.65</td>\n",
       "      <td>1</td>\n",
       "    </tr>\n",
       "  </tbody>\n",
       "</table>\n",
       "</div>"
      ],
      "text/plain": [
       "   tenure PhoneService        Contract PaperlessBilling  \\\n",
       "0       1           No  Month-to-month              Yes   \n",
       "1      34          Yes        One year               No   \n",
       "2       2          Yes  Month-to-month              Yes   \n",
       "3      45           No        One year               No   \n",
       "4       2          Yes  Month-to-month              Yes   \n",
       "\n",
       "               PaymentMethod  MonthlyCharges  TotalCharges  Churn  \n",
       "0           Electronic check           29.85         29.85      0  \n",
       "1               Mailed check           56.95       1889.50      0  \n",
       "2               Mailed check           53.85        108.15      1  \n",
       "3  Bank transfer (automatic)           42.30       1840.75      0  \n",
       "4           Electronic check           70.70        151.65      1  "
      ]
     },
     "execution_count": 40,
     "metadata": {},
     "output_type": "execute_result"
    }
   ],
   "source": [
    "# - encoding 'Churn' column to binary values\n",
    "model_frame['Churn'] = model_frame['Churn'].apply(lambda x: int(x == 'Yes'))\n",
    "model_frame.head()"
   ]
  },
  {
   "cell_type": "code",
   "execution_count": 41,
   "id": "4ba4ec3d",
   "metadata": {},
   "outputs": [
    {
     "data": {
      "text/plain": [
       "Index(['tenure', 'PhoneService', 'Contract', 'PaperlessBilling',\n",
       "       'PaymentMethod', 'MonthlyCharges', 'TotalCharges'],\n",
       "      dtype='object')"
      ]
     },
     "execution_count": 41,
     "metadata": {},
     "output_type": "execute_result"
    }
   ],
   "source": [
    "predictors = model_frame.columns.drop('Churn')\n",
    "predictors"
   ]
  },
  {
   "cell_type": "code",
   "execution_count": 42,
   "id": "9622a74b",
   "metadata": {},
   "outputs": [
    {
     "data": {
      "text/plain": [
       "'Churn ~ tenure + PhoneService + Contract + PaperlessBilling + PaymentMethod + MonthlyCharges + TotalCharges'"
      ]
     },
     "execution_count": 42,
     "metadata": {},
     "output_type": "execute_result"
    }
   ],
   "source": [
    "# --- Composing the fomula of the model\n",
    "\n",
    "# - right side of the formula\n",
    "formula = ' + '.join(predictors)\n",
    "\n",
    "# - left side of the formula\n",
    "formula = 'Churn ~ ' + formula\n",
    "\n",
    "formula"
   ]
  },
  {
   "cell_type": "code",
   "execution_count": 43,
   "id": "cc8620bc",
   "metadata": {},
   "outputs": [
    {
     "name": "stdout",
     "output_type": "stream",
     "text": [
      "Optimization terminated successfully.\n",
      "         Current function value: 0.424667\n",
      "         Iterations 8\n"
     ]
    }
   ],
   "source": [
    "# - fitting BLR model to the data\n",
    "binomial_linear_model = smf.logit(formula=formula, data=model_frame).fit()"
   ]
  },
  {
   "cell_type": "code",
   "execution_count": 44,
   "id": "c1677bea",
   "metadata": {},
   "outputs": [
    {
     "data": {
      "text/html": [
       "<table class=\"simpletable\">\n",
       "<caption>Logit Regression Results</caption>\n",
       "<tr>\n",
       "  <th>Dep. Variable:</th>         <td>Churn</td>      <th>  No. Observations:  </th>  <td>  7032</td> \n",
       "</tr>\n",
       "<tr>\n",
       "  <th>Model:</th>                 <td>Logit</td>      <th>  Df Residuals:      </th>  <td>  7021</td> \n",
       "</tr>\n",
       "<tr>\n",
       "  <th>Method:</th>                 <td>MLE</td>       <th>  Df Model:          </th>  <td>    10</td> \n",
       "</tr>\n",
       "<tr>\n",
       "  <th>Date:</th>            <td>Mon, 24 Apr 2023</td> <th>  Pseudo R-squ.:     </th>  <td>0.2666</td> \n",
       "</tr>\n",
       "<tr>\n",
       "  <th>Time:</th>                <td>17:22:00</td>     <th>  Log-Likelihood:    </th> <td> -2986.3</td>\n",
       "</tr>\n",
       "<tr>\n",
       "  <th>converged:</th>             <td>True</td>       <th>  LL-Null:           </th> <td> -4071.7</td>\n",
       "</tr>\n",
       "<tr>\n",
       "  <th>Covariance Type:</th>     <td>nonrobust</td>    <th>  LLR p-value:       </th>  <td> 0.000</td> \n",
       "</tr>\n",
       "</table>\n",
       "<table class=\"simpletable\">\n",
       "<tr>\n",
       "                      <td></td>                        <th>coef</th>     <th>std err</th>      <th>z</th>      <th>P>|z|</th>  <th>[0.025</th>    <th>0.975]</th>  \n",
       "</tr>\n",
       "<tr>\n",
       "  <th>Intercept</th>                                <td>   -0.8446</td> <td>    0.176</td> <td>   -4.794</td> <td> 0.000</td> <td>   -1.190</td> <td>   -0.499</td>\n",
       "</tr>\n",
       "<tr>\n",
       "  <th>PhoneService[T.Yes]</th>                      <td>   -0.8419</td> <td>    0.122</td> <td>   -6.926</td> <td> 0.000</td> <td>   -1.080</td> <td>   -0.604</td>\n",
       "</tr>\n",
       "<tr>\n",
       "  <th>Contract[T.One year]</th>                     <td>   -0.9171</td> <td>    0.103</td> <td>   -8.876</td> <td> 0.000</td> <td>   -1.120</td> <td>   -0.715</td>\n",
       "</tr>\n",
       "<tr>\n",
       "  <th>Contract[T.Two year]</th>                     <td>   -1.8135</td> <td>    0.172</td> <td>  -10.565</td> <td> 0.000</td> <td>   -2.150</td> <td>   -1.477</td>\n",
       "</tr>\n",
       "<tr>\n",
       "  <th>PaperlessBilling[T.Yes]</th>                  <td>    0.4230</td> <td>    0.073</td> <td>    5.812</td> <td> 0.000</td> <td>    0.280</td> <td>    0.566</td>\n",
       "</tr>\n",
       "<tr>\n",
       "  <th>PaymentMethod[T.Credit card (automatic)]</th> <td>   -0.1006</td> <td>    0.112</td> <td>   -0.895</td> <td> 0.371</td> <td>   -0.321</td> <td>    0.120</td>\n",
       "</tr>\n",
       "<tr>\n",
       "  <th>PaymentMethod[T.Electronic check]</th>        <td>    0.4126</td> <td>    0.093</td> <td>    4.453</td> <td> 0.000</td> <td>    0.231</td> <td>    0.594</td>\n",
       "</tr>\n",
       "<tr>\n",
       "  <th>PaymentMethod[T.Mailed check]</th>            <td>   -0.1194</td> <td>    0.113</td> <td>   -1.061</td> <td> 0.289</td> <td>   -0.340</td> <td>    0.101</td>\n",
       "</tr>\n",
       "<tr>\n",
       "  <th>tenure</th>                                   <td>   -0.0606</td> <td>    0.006</td> <td>   -9.932</td> <td> 0.000</td> <td>   -0.073</td> <td>   -0.049</td>\n",
       "</tr>\n",
       "<tr>\n",
       "  <th>MonthlyCharges</th>                           <td>    0.0225</td> <td>    0.002</td> <td>   11.022</td> <td> 0.000</td> <td>    0.019</td> <td>    0.027</td>\n",
       "</tr>\n",
       "<tr>\n",
       "  <th>TotalCharges</th>                             <td>    0.0003</td> <td> 6.81e-05</td> <td>    4.205</td> <td> 0.000</td> <td>    0.000</td> <td>    0.000</td>\n",
       "</tr>\n",
       "</table>"
      ],
      "text/plain": [
       "<class 'statsmodels.iolib.summary.Summary'>\n",
       "\"\"\"\n",
       "                           Logit Regression Results                           \n",
       "==============================================================================\n",
       "Dep. Variable:                  Churn   No. Observations:                 7032\n",
       "Model:                          Logit   Df Residuals:                     7021\n",
       "Method:                           MLE   Df Model:                           10\n",
       "Date:                Mon, 24 Apr 2023   Pseudo R-squ.:                  0.2666\n",
       "Time:                        17:22:00   Log-Likelihood:                -2986.3\n",
       "converged:                       True   LL-Null:                       -4071.7\n",
       "Covariance Type:            nonrobust   LLR p-value:                     0.000\n",
       "============================================================================================================\n",
       "                                               coef    std err          z      P>|z|      [0.025      0.975]\n",
       "------------------------------------------------------------------------------------------------------------\n",
       "Intercept                                   -0.8446      0.176     -4.794      0.000      -1.190      -0.499\n",
       "PhoneService[T.Yes]                         -0.8419      0.122     -6.926      0.000      -1.080      -0.604\n",
       "Contract[T.One year]                        -0.9171      0.103     -8.876      0.000      -1.120      -0.715\n",
       "Contract[T.Two year]                        -1.8135      0.172    -10.565      0.000      -2.150      -1.477\n",
       "PaperlessBilling[T.Yes]                      0.4230      0.073      5.812      0.000       0.280       0.566\n",
       "PaymentMethod[T.Credit card (automatic)]    -0.1006      0.112     -0.895      0.371      -0.321       0.120\n",
       "PaymentMethod[T.Electronic check]            0.4126      0.093      4.453      0.000       0.231       0.594\n",
       "PaymentMethod[T.Mailed check]               -0.1194      0.113     -1.061      0.289      -0.340       0.101\n",
       "tenure                                      -0.0606      0.006     -9.932      0.000      -0.073      -0.049\n",
       "MonthlyCharges                               0.0225      0.002     11.022      0.000       0.019       0.027\n",
       "TotalCharges                                 0.0003   6.81e-05      4.205      0.000       0.000       0.000\n",
       "============================================================================================================\n",
       "\"\"\""
      ]
     },
     "execution_count": 44,
     "metadata": {},
     "output_type": "execute_result"
    }
   ],
   "source": [
    "binomial_linear_model.summary()"
   ]
  },
  {
   "cell_type": "code",
   "execution_count": 45,
   "id": "d2e4f1df",
   "metadata": {},
   "outputs": [
    {
     "data": {
      "text/plain": [
       "Intercept                                   0.429725\n",
       "PhoneService[T.Yes]                         0.430907\n",
       "Contract[T.One year]                        0.399695\n",
       "Contract[T.Two year]                        0.163084\n",
       "PaperlessBilling[T.Yes]                     1.526520\n",
       "PaymentMethod[T.Credit card (automatic)]    0.904265\n",
       "PaymentMethod[T.Electronic check]           1.510691\n",
       "PaymentMethod[T.Mailed check]               0.887475\n",
       "tenure                                      0.941170\n",
       "MonthlyCharges                              1.022802\n",
       "TotalCharges                                1.000286\n",
       "dtype: float64"
      ]
     },
     "execution_count": 45,
     "metadata": {},
     "output_type": "execute_result"
    }
   ],
   "source": [
    "# - exponentials of the new model parameters\n",
    "np.exp(binomial_linear_model.params)"
   ]
  },
  {
   "cell_type": "code",
   "execution_count": 46,
   "id": "2bb739aa",
   "metadata": {},
   "outputs": [
    {
     "data": {
      "text/plain": [
       "5994.512151127206"
      ]
     },
     "execution_count": 46,
     "metadata": {},
     "output_type": "execute_result"
    }
   ],
   "source": [
    "# - AIC of the new model\n",
    "binomial_linear_model.aic"
   ]
  },
  {
   "cell_type": "code",
   "execution_count": 47,
   "id": "7b154cc9",
   "metadata": {},
   "outputs": [],
   "source": [
    "### --- Constructing the ROC curve of the model\n",
    "\n",
    "# - calculating model metrics for varying decision criteria \\sigma\n",
    "dec_criterion = np.arange(.01, .99, step=.01)\n",
    "\n",
    "probabilities = binomial_linear_model.predict()\n",
    "observations = model_frame['Churn']\n",
    "\n",
    "hits = []\n",
    "fas = []\n",
    "accuracies = []\n",
    "\n",
    "for x in dec_criterion:\n",
    "    \n",
    "    predictions =  probabilities > x\n",
    "    \n",
    "    accuracy = np.sum(observations == predictions)/len(observations)\n",
    "    hit = np.sum((observations == 1)&(predictions == 1))/np.sum(observations == 1)\n",
    "    fa = np.sum((observations == 0)&(predictions == 1))/np.sum(observations == 0)\n",
    "    \n",
    "    accuracies.append(accuracy)\n",
    "    fas.append(fa)\n",
    "    hits.append(hit)"
   ]
  },
  {
   "cell_type": "code",
   "execution_count": 48,
   "id": "37bdd65c",
   "metadata": {},
   "outputs": [
    {
     "data": {
      "text/html": [
       "<div>\n",
       "<style scoped>\n",
       "    .dataframe tbody tr th:only-of-type {\n",
       "        vertical-align: middle;\n",
       "    }\n",
       "\n",
       "    .dataframe tbody tr th {\n",
       "        vertical-align: top;\n",
       "    }\n",
       "\n",
       "    .dataframe thead th {\n",
       "        text-align: right;\n",
       "    }\n",
       "</style>\n",
       "<table border=\"1\" class=\"dataframe\">\n",
       "  <thead>\n",
       "    <tr style=\"text-align: right;\">\n",
       "      <th></th>\n",
       "      <th>hit</th>\n",
       "      <th>fa</th>\n",
       "      <th>accuracy</th>\n",
       "      <th>dec</th>\n",
       "      <th>diff</th>\n",
       "    </tr>\n",
       "  </thead>\n",
       "  <tbody>\n",
       "    <tr>\n",
       "      <th>0</th>\n",
       "      <td>0.996255</td>\n",
       "      <td>0.872942</td>\n",
       "      <td>0.358077</td>\n",
       "      <td>0.01</td>\n",
       "      <td>0.123313</td>\n",
       "    </tr>\n",
       "    <tr>\n",
       "      <th>1</th>\n",
       "      <td>0.990904</td>\n",
       "      <td>0.791788</td>\n",
       "      <td>0.416240</td>\n",
       "      <td>0.02</td>\n",
       "      <td>0.199117</td>\n",
       "    </tr>\n",
       "    <tr>\n",
       "      <th>2</th>\n",
       "      <td>0.986624</td>\n",
       "      <td>0.731551</td>\n",
       "      <td>0.459329</td>\n",
       "      <td>0.03</td>\n",
       "      <td>0.255072</td>\n",
       "    </tr>\n",
       "    <tr>\n",
       "      <th>3</th>\n",
       "      <td>0.983414</td>\n",
       "      <td>0.688166</td>\n",
       "      <td>0.490330</td>\n",
       "      <td>0.04</td>\n",
       "      <td>0.295248</td>\n",
       "    </tr>\n",
       "    <tr>\n",
       "      <th>4</th>\n",
       "      <td>0.979668</td>\n",
       "      <td>0.653883</td>\n",
       "      <td>0.514505</td>\n",
       "      <td>0.05</td>\n",
       "      <td>0.325785</td>\n",
       "    </tr>\n",
       "  </tbody>\n",
       "</table>\n",
       "</div>"
      ],
      "text/plain": [
       "        hit        fa  accuracy   dec      diff\n",
       "0  0.996255  0.872942  0.358077  0.01  0.123313\n",
       "1  0.990904  0.791788  0.416240  0.02  0.199117\n",
       "2  0.986624  0.731551  0.459329  0.03  0.255072\n",
       "3  0.983414  0.688166  0.490330  0.04  0.295248\n",
       "4  0.979668  0.653883  0.514505  0.05  0.325785"
      ]
     },
     "execution_count": 48,
     "metadata": {},
     "output_type": "execute_result"
    }
   ],
   "source": [
    "roc_frame = pd.DataFrame()\n",
    "\n",
    "roc_frame['hit'] = hits\n",
    "roc_frame['fa'] = fas\n",
    "roc_frame['accuracy'] = accuracies\n",
    "roc_frame['dec'] = dec_criterion\n",
    "roc_frame['diff'] = roc_frame['hit'] - roc_frame['fa']\n",
    "\n",
    "roc_frame.head()"
   ]
  },
  {
   "cell_type": "code",
   "execution_count": 49,
   "id": "823ec499",
   "metadata": {},
   "outputs": [
    {
     "data": {
      "text/plain": [
       "23"
      ]
     },
     "execution_count": 49,
     "metadata": {},
     "output_type": "execute_result"
    }
   ],
   "source": [
    "# - identifying the entry with the highest hit-false alarm rate difference\n",
    "diff_argmax = roc_frame['diff'].argmax()\n",
    "diff_argmax"
   ]
  },
  {
   "cell_type": "code",
   "execution_count": 50,
   "id": "88891277",
   "metadata": {},
   "outputs": [
    {
     "data": {
      "image/png": "[encoded data removed]",
      "text/plain": [
       "<Figure size 576x432 with 1 Axes>"
      ]
     },
     "metadata": {},
     "output_type": "display_data"
    }
   ],
   "source": [
    "# - plotting the ROC curve of the model\n",
    "# - the point with the biggest hit-false alarm rate difference is marked\n",
    "sns.lineplot(data=roc_frame, x='dec', y='dec', color='black')\n",
    "sns.lineplot(data=roc_frame, x='fa', y='hit')\n",
    "\n",
    "plt.scatter(x=roc_frame.loc[diff_argmax, 'fa'], y=roc_frame.loc[diff_argmax, 'hit'], c='r')\n",
    "plt.text(x=roc_frame.loc[diff_argmax, 'fa']-.08, y=roc_frame.loc[diff_argmax, 'hit'], s='Here!')\n",
    "\n",
    "sns.despine(offset=10, trim=True)\n",
    "plt.xlabel('True Negative (False Alarm) Rate', fontsize=14)\n",
    "plt.ylabel('True Positive (Hit) Rate', fontsize=14)\n",
    "plt.title('ROC Analysis for the Binomial Regression Model', fontsize=16);"
   ]
  },
  {
   "cell_type": "markdown",
   "id": "24fd0adf",
   "metadata": {},
   "source": [
    "## 2. BLR using scikit-learn"
   ]
  },
  {
   "cell_type": "markdown",
   "id": "7ed7dee9",
   "metadata": {},
   "source": [
    "### Target: Predicting churn from numerical predictors"
   ]
  },
  {
   "cell_type": "code",
   "execution_count": 51,
   "id": "381f5430",
   "metadata": {},
   "outputs": [],
   "source": [
    "# - import scikit-learn\n",
    "from sklearn.linear_model import LogisticRegression\n",
    "from sklearn.metrics import confusion_matrix\n",
    "from sklearn.preprocessing import LabelEncoder, OneHotEncoder"
   ]
  },
  {
   "cell_type": "code",
   "execution_count": 52,
   "id": "6b2f1d56",
   "metadata": {},
   "outputs": [],
   "source": [
    "### --- Preparing the variables \n",
    "\n",
    "# - feature matrix\n",
    "X = churn_data[['tenure', 'MonthlyCharges', 'TotalCharges']].values\n",
    "\n",
    "# - target variable\n",
    "y = churn_data['Churn'].apply(lambda x: int(x == 'Yes'))"
   ]
  },
  {
   "cell_type": "code",
   "execution_count": 53,
   "id": "1a26bbce",
   "metadata": {},
   "outputs": [
    {
     "data": {
      "text/html": [
       "<style>#sk-container-id-1 {color: black;background-color: white;}#sk-container-id-1 pre{padding: 0;}#sk-container-id-1 div.sk-toggleable {background-color: white;}#sk-container-id-1 label.sk-toggleable__label {cursor: pointer;display: block;width: 100%;margin-bottom: 0;padding: 0.3em;box-sizing: border-box;text-align: center;}#sk-container-id-1 label.sk-toggleable__label-arrow:before {content: \"▸\";float: left;margin-right: 0.25em;color: #696969;}#sk-container-id-1 label.sk-toggleable__label-arrow:hover:before {color: black;}#sk-container-id-1 div.sk-estimator:hover label.sk-toggleable__label-arrow:before {color: black;}#sk-container-id-1 div.sk-toggleable__content {max-height: 0;max-width: 0;overflow: hidden;text-align: left;background-color: #f0f8ff;}#sk-container-id-1 div.sk-toggleable__content pre {margin: 0.2em;color: black;border-radius: 0.25em;background-color: #f0f8ff;}#sk-container-id-1 input.sk-toggleable__control:checked~div.sk-toggleable__content {max-height: 200px;max-width: 100%;overflow: auto;}#sk-container-id-1 input.sk-toggleable__control:checked~label.sk-toggleable__label-arrow:before {content: \"▾\";}#sk-container-id-1 div.sk-estimator input.sk-toggleable__control:checked~label.sk-toggleable__label {background-color: #d4ebff;}#sk-container-id-1 div.sk-label input.sk-toggleable__control:checked~label.sk-toggleable__label {background-color: #d4ebff;}#sk-container-id-1 input.sk-hidden--visually {border: 0;clip: rect(1px 1px 1px 1px);clip: rect(1px, 1px, 1px, 1px);height: 1px;margin: -1px;overflow: hidden;padding: 0;position: absolute;width: 1px;}#sk-container-id-1 div.sk-estimator {font-family: monospace;background-color: #f0f8ff;border: 1px dotted black;border-radius: 0.25em;box-sizing: border-box;margin-bottom: 0.5em;}#sk-container-id-1 div.sk-estimator:hover {background-color: #d4ebff;}#sk-container-id-1 div.sk-parallel-item::after {content: \"\";width: 100%;border-bottom: 1px solid gray;flex-grow: 1;}#sk-container-id-1 div.sk-label:hover label.sk-toggleable__label {background-color: #d4ebff;}#sk-container-id-1 div.sk-serial::before {content: \"\";position: absolute;border-left: 1px solid gray;box-sizing: border-box;top: 0;bottom: 0;left: 50%;z-index: 0;}#sk-container-id-1 div.sk-serial {display: flex;flex-direction: column;align-items: center;background-color: white;padding-right: 0.2em;padding-left: 0.2em;position: relative;}#sk-container-id-1 div.sk-item {position: relative;z-index: 1;}#sk-container-id-1 div.sk-parallel {display: flex;align-items: stretch;justify-content: center;background-color: white;position: relative;}#sk-container-id-1 div.sk-item::before, #sk-container-id-1 div.sk-parallel-item::before {content: \"\";position: absolute;border-left: 1px solid gray;box-sizing: border-box;top: 0;bottom: 0;left: 50%;z-index: -1;}#sk-container-id-1 div.sk-parallel-item {display: flex;flex-direction: column;z-index: 1;position: relative;background-color: white;}#sk-container-id-1 div.sk-parallel-item:first-child::after {align-self: flex-end;width: 50%;}#sk-container-id-1 div.sk-parallel-item:last-child::after {align-self: flex-start;width: 50%;}#sk-container-id-1 div.sk-parallel-item:only-child::after {width: 0;}#sk-container-id-1 div.sk-dashed-wrapped {border: 1px dashed gray;margin: 0 0.4em 0.5em 0.4em;box-sizing: border-box;padding-bottom: 0.4em;background-color: white;}#sk-container-id-1 div.sk-label label {font-family: monospace;font-weight: bold;display: inline-block;line-height: 1.2em;}#sk-container-id-1 div.sk-label-container {text-align: center;}#sk-container-id-1 div.sk-container {/* jupyter's `normalize.less` sets `[hidden] { display: none; }` but bootstrap.min.css set `[hidden] { display: none !important; }` so we also need the `!important` here to be able to override the default hidden behavior on the sphinx rendered scikit-learn.org. See: https://github.com/scikit-learn/scikit-learn/issues/21755 */display: inline-block !important;position: relative;}#sk-container-id-1 div.sk-text-repr-fallback {display: none;}</style><div id=\"sk-container-id-1\" class=\"sk-top-container\"><div class=\"sk-text-repr-fallback\"><pre>LogisticRegression()</pre><b>In a Jupyter environment, please rerun this cell to show the HTML representation or trust the notebook. <br />On GitHub, the HTML representation is unable to render, please try loading this page with nbviewer.org.</b></div><div class=\"sk-container\" hidden><div class=\"sk-item\"><div class=\"sk-estimator sk-toggleable\"><input class=\"sk-toggleable__control sk-hidden--visually\" id=\"sk-estimator-id-1\" type=\"checkbox\" checked><label for=\"sk-estimator-id-1\" class=\"sk-toggleable__label sk-toggleable__label-arrow\">LogisticRegression</label><div class=\"sk-toggleable__content\"><pre>LogisticRegression()</pre></div></div></div></div></div>"
      ],
      "text/plain": [
       "LogisticRegression()"
      ]
     },
     "execution_count": 53,
     "metadata": {},
     "output_type": "execute_result"
    }
   ],
   "source": [
    "## --- Fitting the logistic model to the numerical data\n",
    "log_reg = LogisticRegression()\n",
    "log_reg.fit(X, y)"
   ]
  },
  {
   "cell_type": "code",
   "execution_count": 54,
   "id": "7de490d9",
   "metadata": {},
   "outputs": [
    {
     "data": {
      "text/plain": [
       "(array([[-0.06711264,  0.03019993,  0.00014507]]), array([-1.59884834]))"
      ]
     },
     "execution_count": 54,
     "metadata": {},
     "output_type": "execute_result"
    }
   ],
   "source": [
    "# - coefficients of the model\n",
    "log_reg.coef_, log_reg.intercept_"
   ]
  },
  {
   "cell_type": "code",
   "execution_count": 55,
   "id": "4f5c8d3e",
   "metadata": {},
   "outputs": [
    {
     "data": {
      "text/plain": [
       "(array([[0.93508987, 1.03066058, 1.00014508]]), array([0.20212917]))"
      ]
     },
     "execution_count": 55,
     "metadata": {},
     "output_type": "execute_result"
    }
   ],
   "source": [
    "# - exponentials of the model coefficients\n",
    "np.exp(log_reg.coef_), np.exp(log_reg.intercept_)"
   ]
  },
  {
   "cell_type": "code",
   "execution_count": 56,
   "id": "703989fb",
   "metadata": {},
   "outputs": [
    {
     "data": {
      "text/plain": [
       "0.785"
      ]
     },
     "execution_count": 56,
     "metadata": {},
     "output_type": "execute_result"
    }
   ],
   "source": [
    "# - model's accuracy\n",
    "round(log_reg.score(X, y), 4)"
   ]
  },
  {
   "cell_type": "code",
   "execution_count": 57,
   "id": "cf199264",
   "metadata": {},
   "outputs": [
    {
     "data": {
      "text/plain": [
       "array([[4693,  470],\n",
       "       [1042,  827]], dtype=int64)"
      ]
     },
     "execution_count": 57,
     "metadata": {},
     "output_type": "execute_result"
    }
   ],
   "source": [
    "# - confusion matrix for the given data\n",
    "y_pred = log_reg.predict(X)\n",
    "confusion_matrix(y, y_pred)"
   ]
  },
  {
   "cell_type": "markdown",
   "id": "5a786242",
   "metadata": {},
   "source": [
    "### Target: Predicting churn from all the predictors"
   ]
  },
  {
   "cell_type": "code",
   "execution_count": 58,
   "id": "1037d7e5",
   "metadata": {},
   "outputs": [
    {
     "data": {
      "text/html": [
       "<div>\n",
       "<style scoped>\n",
       "    .dataframe tbody tr th:only-of-type {\n",
       "        vertical-align: middle;\n",
       "    }\n",
       "\n",
       "    .dataframe tbody tr th {\n",
       "        vertical-align: top;\n",
       "    }\n",
       "\n",
       "    .dataframe thead th {\n",
       "        text-align: right;\n",
       "    }\n",
       "</style>\n",
       "<table border=\"1\" class=\"dataframe\">\n",
       "  <thead>\n",
       "    <tr style=\"text-align: right;\">\n",
       "      <th></th>\n",
       "      <th>customerID</th>\n",
       "      <th>tenure</th>\n",
       "      <th>PhoneService</th>\n",
       "      <th>Contract</th>\n",
       "      <th>PaperlessBilling</th>\n",
       "      <th>PaymentMethod</th>\n",
       "      <th>MonthlyCharges</th>\n",
       "      <th>TotalCharges</th>\n",
       "      <th>Churn</th>\n",
       "    </tr>\n",
       "  </thead>\n",
       "  <tbody>\n",
       "    <tr>\n",
       "      <th>0</th>\n",
       "      <td>7590-VHVEG</td>\n",
       "      <td>1</td>\n",
       "      <td>No</td>\n",
       "      <td>Month-to-month</td>\n",
       "      <td>Yes</td>\n",
       "      <td>Electronic check</td>\n",
       "      <td>29.85</td>\n",
       "      <td>29.85</td>\n",
       "      <td>No</td>\n",
       "    </tr>\n",
       "    <tr>\n",
       "      <th>1</th>\n",
       "      <td>5575-GNVDE</td>\n",
       "      <td>34</td>\n",
       "      <td>Yes</td>\n",
       "      <td>One year</td>\n",
       "      <td>No</td>\n",
       "      <td>Mailed check</td>\n",
       "      <td>56.95</td>\n",
       "      <td>1889.50</td>\n",
       "      <td>No</td>\n",
       "    </tr>\n",
       "    <tr>\n",
       "      <th>2</th>\n",
       "      <td>3668-QPYBK</td>\n",
       "      <td>2</td>\n",
       "      <td>Yes</td>\n",
       "      <td>Month-to-month</td>\n",
       "      <td>Yes</td>\n",
       "      <td>Mailed check</td>\n",
       "      <td>53.85</td>\n",
       "      <td>108.15</td>\n",
       "      <td>Yes</td>\n",
       "    </tr>\n",
       "    <tr>\n",
       "      <th>3</th>\n",
       "      <td>7795-CFOCW</td>\n",
       "      <td>45</td>\n",
       "      <td>No</td>\n",
       "      <td>One year</td>\n",
       "      <td>No</td>\n",
       "      <td>Bank transfer (automatic)</td>\n",
       "      <td>42.30</td>\n",
       "      <td>1840.75</td>\n",
       "      <td>No</td>\n",
       "    </tr>\n",
       "    <tr>\n",
       "      <th>4</th>\n",
       "      <td>9237-HQITU</td>\n",
       "      <td>2</td>\n",
       "      <td>Yes</td>\n",
       "      <td>Month-to-month</td>\n",
       "      <td>Yes</td>\n",
       "      <td>Electronic check</td>\n",
       "      <td>70.70</td>\n",
       "      <td>151.65</td>\n",
       "      <td>Yes</td>\n",
       "    </tr>\n",
       "  </tbody>\n",
       "</table>\n",
       "</div>"
      ],
      "text/plain": [
       "   customerID  tenure PhoneService        Contract PaperlessBilling  \\\n",
       "0  7590-VHVEG       1           No  Month-to-month              Yes   \n",
       "1  5575-GNVDE      34          Yes        One year               No   \n",
       "2  3668-QPYBK       2          Yes  Month-to-month              Yes   \n",
       "3  7795-CFOCW      45           No        One year               No   \n",
       "4  9237-HQITU       2          Yes  Month-to-month              Yes   \n",
       "\n",
       "               PaymentMethod  MonthlyCharges  TotalCharges Churn  \n",
       "0           Electronic check           29.85         29.85    No  \n",
       "1               Mailed check           56.95       1889.50    No  \n",
       "2               Mailed check           53.85        108.15   Yes  \n",
       "3  Bank transfer (automatic)           42.30       1840.75    No  \n",
       "4           Electronic check           70.70        151.65   Yes  "
      ]
     },
     "execution_count": 58,
     "metadata": {},
     "output_type": "execute_result"
    }
   ],
   "source": [
    "churn_data.head()"
   ]
  },
  {
   "cell_type": "code",
   "execution_count": 59,
   "id": "26ccb8be",
   "metadata": {},
   "outputs": [
    {
     "data": {
      "text/html": [
       "<div>\n",
       "<style scoped>\n",
       "    .dataframe tbody tr th:only-of-type {\n",
       "        vertical-align: middle;\n",
       "    }\n",
       "\n",
       "    .dataframe tbody tr th {\n",
       "        vertical-align: top;\n",
       "    }\n",
       "\n",
       "    .dataframe thead th {\n",
       "        text-align: right;\n",
       "    }\n",
       "</style>\n",
       "<table border=\"1\" class=\"dataframe\">\n",
       "  <thead>\n",
       "    <tr style=\"text-align: right;\">\n",
       "      <th></th>\n",
       "      <th>tenure</th>\n",
       "      <th>PhoneService</th>\n",
       "      <th>PaperlessBilling</th>\n",
       "      <th>MonthlyCharges</th>\n",
       "      <th>TotalCharges</th>\n",
       "    </tr>\n",
       "  </thead>\n",
       "  <tbody>\n",
       "    <tr>\n",
       "      <th>0</th>\n",
       "      <td>1</td>\n",
       "      <td>0</td>\n",
       "      <td>1</td>\n",
       "      <td>29.85</td>\n",
       "      <td>29.85</td>\n",
       "    </tr>\n",
       "    <tr>\n",
       "      <th>1</th>\n",
       "      <td>34</td>\n",
       "      <td>1</td>\n",
       "      <td>0</td>\n",
       "      <td>56.95</td>\n",
       "      <td>1889.50</td>\n",
       "    </tr>\n",
       "    <tr>\n",
       "      <th>2</th>\n",
       "      <td>2</td>\n",
       "      <td>1</td>\n",
       "      <td>1</td>\n",
       "      <td>53.85</td>\n",
       "      <td>108.15</td>\n",
       "    </tr>\n",
       "    <tr>\n",
       "      <th>3</th>\n",
       "      <td>45</td>\n",
       "      <td>0</td>\n",
       "      <td>0</td>\n",
       "      <td>42.30</td>\n",
       "      <td>1840.75</td>\n",
       "    </tr>\n",
       "    <tr>\n",
       "      <th>4</th>\n",
       "      <td>2</td>\n",
       "      <td>1</td>\n",
       "      <td>1</td>\n",
       "      <td>70.70</td>\n",
       "      <td>151.65</td>\n",
       "    </tr>\n",
       "  </tbody>\n",
       "</table>\n",
       "</div>"
      ],
      "text/plain": [
       "   tenure  PhoneService  PaperlessBilling  MonthlyCharges  TotalCharges\n",
       "0       1             0                 1           29.85         29.85\n",
       "1      34             1                 0           56.95       1889.50\n",
       "2       2             1                 1           53.85        108.15\n",
       "3      45             0                 0           42.30       1840.75\n",
       "4       2             1                 1           70.70        151.65"
      ]
     },
     "execution_count": 59,
     "metadata": {},
     "output_type": "execute_result"
    }
   ],
   "source": [
    "### --- Composing the feature matrix\n",
    "\n",
    "# - dropping all the non-numerical and non-binary categorical columns\n",
    "X0 = churn_data.drop(columns=['customerID', 'Contract', 'PaymentMethod', 'Churn'])\n",
    "\n",
    "# - encoding binary categorical features to binary values\n",
    "X0['PaperlessBilling'] = X0['PaperlessBilling'].apply(lambda x: int(x == 'Yes'))\n",
    "X0['PhoneService'] = X0['PhoneService'].apply(lambda x: int(x == 'Yes'))\n",
    "\n",
    "X0.head()"
   ]
  },
  {
   "cell_type": "code",
   "execution_count": 60,
   "id": "7300a460",
   "metadata": {},
   "outputs": [],
   "source": [
    "# - casting the data frame into a matrix\n",
    "X0 = X0.values"
   ]
  },
  {
   "cell_type": "code",
   "execution_count": 61,
   "id": "287a9e6a",
   "metadata": {},
   "outputs": [
    {
     "data": {
      "text/plain": [
       "array(['Month-to-month', 'One year', 'Two year'], dtype=object)"
      ]
     },
     "execution_count": 61,
     "metadata": {},
     "output_type": "execute_result"
    }
   ],
   "source": [
    "# - categories of the 'Contract' variable\n",
    "churn_data['Contract'].unique()"
   ]
  },
  {
   "cell_type": "code",
   "execution_count": 62,
   "id": "eda8dcaa",
   "metadata": {},
   "outputs": [
    {
     "data": {
      "text/plain": [
       "array(['Electronic check', 'Mailed check', 'Bank transfer (automatic)',\n",
       "       'Credit card (automatic)'], dtype=object)"
      ]
     },
     "execution_count": 62,
     "metadata": {},
     "output_type": "execute_result"
    }
   ],
   "source": [
    "# - categories of the 'PaymentMethod' variable\n",
    "churn_data['PaymentMethod'].unique()"
   ]
  },
  {
   "cell_type": "code",
   "execution_count": 63,
   "id": "c0cc4986",
   "metadata": {},
   "outputs": [],
   "source": [
    "# - we want to recreate the previous statsmodels model that was using all the predictors\n",
    "# - to achieve this we one-hot (dummy) encode non-binary categorical predictors\n",
    "# - statsmodels chooses the first category in order of appearance in the dataset as the reference category\n",
    "# - we pass the reference category manually as an argument to the OneHotEncoder\n",
    "\n",
    "enc_contract = OneHotEncoder(drop=['Month-to-month'], sparse=False)\n",
    "dummy_contract = enc_contract.fit_transform(churn_data['Contract'].values.reshape(-1, 1))\n",
    "\n",
    "enc_payment = OneHotEncoder(drop=['Bank transfer (automatic)'], sparse=False)\n",
    "dummy_payment = enc_payment.fit_transform(churn_data['PaymentMethod'].values.reshape(-1, 1))"
   ]
  },
  {
   "cell_type": "code",
   "execution_count": 64,
   "id": "6fe8d740",
   "metadata": {},
   "outputs": [],
   "source": [
    "# - concatenating values of the numerical predictors and encoded binary values with the encoded non-binary values\n",
    "# - into a feature matrix\n",
    "X = np.concatenate((X0, dummy_contract, dummy_payment), axis=-1)\n",
    "\n",
    "# - target variable; encoding to binary values\n",
    "y = churn_data['Churn'].apply(lambda x: int(x == 'Yes'))"
   ]
  },
  {
   "cell_type": "code",
   "execution_count": 65,
   "id": "0b9b5b88",
   "metadata": {},
   "outputs": [
    {
     "data": {
      "text/html": [
       "<style>#sk-container-id-2 {color: black;background-color: white;}#sk-container-id-2 pre{padding: 0;}#sk-container-id-2 div.sk-toggleable {background-color: white;}#sk-container-id-2 label.sk-toggleable__label {cursor: pointer;display: block;width: 100%;margin-bottom: 0;padding: 0.3em;box-sizing: border-box;text-align: center;}#sk-container-id-2 label.sk-toggleable__label-arrow:before {content: \"▸\";float: left;margin-right: 0.25em;color: #696969;}#sk-container-id-2 label.sk-toggleable__label-arrow:hover:before {color: black;}#sk-container-id-2 div.sk-estimator:hover label.sk-toggleable__label-arrow:before {color: black;}#sk-container-id-2 div.sk-toggleable__content {max-height: 0;max-width: 0;overflow: hidden;text-align: left;background-color: #f0f8ff;}#sk-container-id-2 div.sk-toggleable__content pre {margin: 0.2em;color: black;border-radius: 0.25em;background-color: #f0f8ff;}#sk-container-id-2 input.sk-toggleable__control:checked~div.sk-toggleable__content {max-height: 200px;max-width: 100%;overflow: auto;}#sk-container-id-2 input.sk-toggleable__control:checked~label.sk-toggleable__label-arrow:before {content: \"▾\";}#sk-container-id-2 div.sk-estimator input.sk-toggleable__control:checked~label.sk-toggleable__label {background-color: #d4ebff;}#sk-container-id-2 div.sk-label input.sk-toggleable__control:checked~label.sk-toggleable__label {background-color: #d4ebff;}#sk-container-id-2 input.sk-hidden--visually {border: 0;clip: rect(1px 1px 1px 1px);clip: rect(1px, 1px, 1px, 1px);height: 1px;margin: -1px;overflow: hidden;padding: 0;position: absolute;width: 1px;}#sk-container-id-2 div.sk-estimator {font-family: monospace;background-color: #f0f8ff;border: 1px dotted black;border-radius: 0.25em;box-sizing: border-box;margin-bottom: 0.5em;}#sk-container-id-2 div.sk-estimator:hover {background-color: #d4ebff;}#sk-container-id-2 div.sk-parallel-item::after {content: \"\";width: 100%;border-bottom: 1px solid gray;flex-grow: 1;}#sk-container-id-2 div.sk-label:hover label.sk-toggleable__label {background-color: #d4ebff;}#sk-container-id-2 div.sk-serial::before {content: \"\";position: absolute;border-left: 1px solid gray;box-sizing: border-box;top: 0;bottom: 0;left: 50%;z-index: 0;}#sk-container-id-2 div.sk-serial {display: flex;flex-direction: column;align-items: center;background-color: white;padding-right: 0.2em;padding-left: 0.2em;position: relative;}#sk-container-id-2 div.sk-item {position: relative;z-index: 1;}#sk-container-id-2 div.sk-parallel {display: flex;align-items: stretch;justify-content: center;background-color: white;position: relative;}#sk-container-id-2 div.sk-item::before, #sk-container-id-2 div.sk-parallel-item::before {content: \"\";position: absolute;border-left: 1px solid gray;box-sizing: border-box;top: 0;bottom: 0;left: 50%;z-index: -1;}#sk-container-id-2 div.sk-parallel-item {display: flex;flex-direction: column;z-index: 1;position: relative;background-color: white;}#sk-container-id-2 div.sk-parallel-item:first-child::after {align-self: flex-end;width: 50%;}#sk-container-id-2 div.sk-parallel-item:last-child::after {align-self: flex-start;width: 50%;}#sk-container-id-2 div.sk-parallel-item:only-child::after {width: 0;}#sk-container-id-2 div.sk-dashed-wrapped {border: 1px dashed gray;margin: 0 0.4em 0.5em 0.4em;box-sizing: border-box;padding-bottom: 0.4em;background-color: white;}#sk-container-id-2 div.sk-label label {font-family: monospace;font-weight: bold;display: inline-block;line-height: 1.2em;}#sk-container-id-2 div.sk-label-container {text-align: center;}#sk-container-id-2 div.sk-container {/* jupyter's `normalize.less` sets `[hidden] { display: none; }` but bootstrap.min.css set `[hidden] { display: none !important; }` so we also need the `!important` here to be able to override the default hidden behavior on the sphinx rendered scikit-learn.org. See: https://github.com/scikit-learn/scikit-learn/issues/21755 */display: inline-block !important;position: relative;}#sk-container-id-2 div.sk-text-repr-fallback {display: none;}</style><div id=\"sk-container-id-2\" class=\"sk-top-container\"><div class=\"sk-text-repr-fallback\"><pre>LogisticRegression(penalty=&#x27;none&#x27;, solver=&#x27;newton-cg&#x27;)</pre><b>In a Jupyter environment, please rerun this cell to show the HTML representation or trust the notebook. <br />On GitHub, the HTML representation is unable to render, please try loading this page with nbviewer.org.</b></div><div class=\"sk-container\" hidden><div class=\"sk-item\"><div class=\"sk-estimator sk-toggleable\"><input class=\"sk-toggleable__control sk-hidden--visually\" id=\"sk-estimator-id-2\" type=\"checkbox\" checked><label for=\"sk-estimator-id-2\" class=\"sk-toggleable__label sk-toggleable__label-arrow\">LogisticRegression</label><div class=\"sk-toggleable__content\"><pre>LogisticRegression(penalty=&#x27;none&#x27;, solver=&#x27;newton-cg&#x27;)</pre></div></div></div></div></div>"
      ],
      "text/plain": [
       "LogisticRegression(penalty='none', solver='newton-cg')"
      ]
     },
     "execution_count": 65,
     "metadata": {},
     "output_type": "execute_result"
    }
   ],
   "source": [
    "### --- Fitting the logistic model to all the data\n",
    "# - the hyperparameters are selected as to recreate the statsmode's model\n",
    "# - experimenting with hyperparameters is encouraged\n",
    "log_reg = LogisticRegression(solver='newton-cg', penalty='none')\n",
    "log_reg.fit(X, y)"
   ]
  },
  {
   "cell_type": "code",
   "execution_count": 66,
   "id": "ad818962",
   "metadata": {},
   "outputs": [
    {
     "data": {
      "text/plain": [
       "0.7964"
      ]
     },
     "execution_count": 66,
     "metadata": {},
     "output_type": "execute_result"
    }
   ],
   "source": [
    "# - model's accuracy\n",
    "round(log_reg.score(X, y), 4)"
   ]
  },
  {
   "cell_type": "code",
   "execution_count": 67,
   "id": "ce94ff9e",
   "metadata": {},
   "outputs": [
    {
     "data": {
      "text/plain": [
       "(array([[0.9411695 , 0.43090698, 1.52652008, 1.0228018 , 1.00028639,\n",
       "         0.39969521, 0.16308371, 0.90426493, 1.51069097, 0.88747495]]),\n",
       " array([0.42972508]))"
      ]
     },
     "execution_count": 67,
     "metadata": {},
     "output_type": "execute_result"
    }
   ],
   "source": [
    "# - exponential of the model parameters\n",
    "# - ordering corresponds to the ordering of the features in the feature matrix\n",
    "np.exp(log_reg.coef_), np.exp(log_reg.intercept_)"
   ]
  },
  {
   "cell_type": "code",
   "execution_count": 68,
   "id": "b7777c68",
   "metadata": {},
   "outputs": [
    {
     "data": {
      "text/plain": [
       "array([[4615,  548],\n",
       "       [ 884,  985]], dtype=int64)"
      ]
     },
     "execution_count": 68,
     "metadata": {},
     "output_type": "execute_result"
    }
   ],
   "source": [
    "# - confusion matrix for the given data\n",
    "y_pred = log_reg.predict(X)\n",
    "confusion_matrix(y, y_pred)"
   ]
  },
  {
   "cell_type": "markdown",
   "id": "c75fc9da",
   "metadata": {},
   "source": [
    "## 3. MLEs for Binomial Logistic Regression"
   ]
  },
  {
   "cell_type": "code",
   "execution_count": null,
   "id": "691ad603",
   "metadata": {},
   "outputs": [],
   "source": []
  },
  {
   "cell_type": "markdown",
   "id": "56992fef",
   "metadata": {},
   "source": [
    "## 4. Multinomial Logistic Regression"
   ]
  },
  {
   "cell_type": "code",
   "execution_count": 69,
   "id": "ea73198f",
   "metadata": {},
   "outputs": [
    {
     "data": {
      "text/html": [
       "<div>\n",
       "<style scoped>\n",
       "    .dataframe tbody tr th:only-of-type {\n",
       "        vertical-align: middle;\n",
       "    }\n",
       "\n",
       "    .dataframe tbody tr th {\n",
       "        vertical-align: top;\n",
       "    }\n",
       "\n",
       "    .dataframe thead th {\n",
       "        text-align: right;\n",
       "    }\n",
       "</style>\n",
       "<table border=\"1\" class=\"dataframe\">\n",
       "  <thead>\n",
       "    <tr style=\"text-align: right;\">\n",
       "      <th></th>\n",
       "      <th>SepalLengthCm</th>\n",
       "      <th>SepalWidthCm</th>\n",
       "      <th>PetalLengthCm</th>\n",
       "      <th>PetalWidthCm</th>\n",
       "      <th>Species</th>\n",
       "    </tr>\n",
       "    <tr>\n",
       "      <th>Id</th>\n",
       "      <th></th>\n",
       "      <th></th>\n",
       "      <th></th>\n",
       "      <th></th>\n",
       "      <th></th>\n",
       "    </tr>\n",
       "  </thead>\n",
       "  <tbody>\n",
       "    <tr>\n",
       "      <th>1</th>\n",
       "      <td>5.1</td>\n",
       "      <td>3.5</td>\n",
       "      <td>1.4</td>\n",
       "      <td>0.2</td>\n",
       "      <td>Iris-setosa</td>\n",
       "    </tr>\n",
       "    <tr>\n",
       "      <th>2</th>\n",
       "      <td>4.9</td>\n",
       "      <td>3.0</td>\n",
       "      <td>1.4</td>\n",
       "      <td>0.2</td>\n",
       "      <td>Iris-setosa</td>\n",
       "    </tr>\n",
       "    <tr>\n",
       "      <th>3</th>\n",
       "      <td>4.7</td>\n",
       "      <td>3.2</td>\n",
       "      <td>1.3</td>\n",
       "      <td>0.2</td>\n",
       "      <td>Iris-setosa</td>\n",
       "    </tr>\n",
       "    <tr>\n",
       "      <th>4</th>\n",
       "      <td>4.6</td>\n",
       "      <td>3.1</td>\n",
       "      <td>1.5</td>\n",
       "      <td>0.2</td>\n",
       "      <td>Iris-setosa</td>\n",
       "    </tr>\n",
       "    <tr>\n",
       "      <th>5</th>\n",
       "      <td>5.0</td>\n",
       "      <td>3.6</td>\n",
       "      <td>1.4</td>\n",
       "      <td>0.2</td>\n",
       "      <td>Iris-setosa</td>\n",
       "    </tr>\n",
       "    <tr>\n",
       "      <th>6</th>\n",
       "      <td>5.4</td>\n",
       "      <td>3.9</td>\n",
       "      <td>1.7</td>\n",
       "      <td>0.4</td>\n",
       "      <td>Iris-setosa</td>\n",
       "    </tr>\n",
       "    <tr>\n",
       "      <th>7</th>\n",
       "      <td>4.6</td>\n",
       "      <td>3.4</td>\n",
       "      <td>1.4</td>\n",
       "      <td>0.3</td>\n",
       "      <td>Iris-setosa</td>\n",
       "    </tr>\n",
       "    <tr>\n",
       "      <th>8</th>\n",
       "      <td>5.0</td>\n",
       "      <td>3.4</td>\n",
       "      <td>1.5</td>\n",
       "      <td>0.2</td>\n",
       "      <td>Iris-setosa</td>\n",
       "    </tr>\n",
       "    <tr>\n",
       "      <th>9</th>\n",
       "      <td>4.4</td>\n",
       "      <td>2.9</td>\n",
       "      <td>1.4</td>\n",
       "      <td>0.2</td>\n",
       "      <td>Iris-setosa</td>\n",
       "    </tr>\n",
       "    <tr>\n",
       "      <th>10</th>\n",
       "      <td>4.9</td>\n",
       "      <td>3.1</td>\n",
       "      <td>1.5</td>\n",
       "      <td>0.1</td>\n",
       "      <td>Iris-setosa</td>\n",
       "    </tr>\n",
       "  </tbody>\n",
       "</table>\n",
       "</div>"
      ],
      "text/plain": [
       "    SepalLengthCm  SepalWidthCm  PetalLengthCm  PetalWidthCm      Species\n",
       "Id                                                                       \n",
       "1             5.1           3.5            1.4           0.2  Iris-setosa\n",
       "2             4.9           3.0            1.4           0.2  Iris-setosa\n",
       "3             4.7           3.2            1.3           0.2  Iris-setosa\n",
       "4             4.6           3.1            1.5           0.2  Iris-setosa\n",
       "5             5.0           3.6            1.4           0.2  Iris-setosa\n",
       "6             5.4           3.9            1.7           0.4  Iris-setosa\n",
       "7             4.6           3.4            1.4           0.3  Iris-setosa\n",
       "8             5.0           3.4            1.5           0.2  Iris-setosa\n",
       "9             4.4           2.9            1.4           0.2  Iris-setosa\n",
       "10            4.9           3.1            1.5           0.1  Iris-setosa"
      ]
     },
     "execution_count": 69,
     "metadata": {},
     "output_type": "execute_result"
    }
   ],
   "source": [
    "# - loading the dataset\n",
    "# - Kaggle: https://www.kaggle.com/datasets/uciml/iris\n",
    "# - place it in your _data/ directory\n",
    "iris_data = pd.read_csv(os.path.join(data_dir, 'Iris.csv'), index_col='Id')\n",
    "iris_data.head(10)"
   ]
  },
  {
   "cell_type": "code",
   "execution_count": 70,
   "id": "e2253536",
   "metadata": {},
   "outputs": [
    {
     "data": {
      "text/plain": [
       "Iris-setosa        50\n",
       "Iris-versicolor    50\n",
       "Iris-virginica     50\n",
       "Name: Species, dtype: int64"
      ]
     },
     "execution_count": 70,
     "metadata": {},
     "output_type": "execute_result"
    }
   ],
   "source": [
    "# - counting the instances of each category\n",
    "iris_data['Species'].value_counts()"
   ]
  },
  {
   "cell_type": "code",
   "execution_count": 71,
   "id": "14f9d7e7",
   "metadata": {},
   "outputs": [
    {
     "name": "stdout",
     "output_type": "stream",
     "text": [
      "<class 'pandas.core.frame.DataFrame'>\n",
      "Int64Index: 150 entries, 1 to 150\n",
      "Data columns (total 5 columns):\n",
      " #   Column         Non-Null Count  Dtype  \n",
      "---  ------         --------------  -----  \n",
      " 0   SepalLengthCm  150 non-null    float64\n",
      " 1   SepalWidthCm   150 non-null    float64\n",
      " 2   PetalLengthCm  150 non-null    float64\n",
      " 3   PetalWidthCm   150 non-null    float64\n",
      " 4   Species        150 non-null    object \n",
      "dtypes: float64(4), object(1)\n",
      "memory usage: 7.0+ KB\n"
     ]
    }
   ],
   "source": [
    "# - info on the variables\n",
    "iris_data.info()"
   ]
  },
  {
   "cell_type": "markdown",
   "id": "f59557bd",
   "metadata": {},
   "source": [
    "### Target: predict species from all continuous predictors"
   ]
  },
  {
   "cell_type": "markdown",
   "id": "f4ae5739",
   "metadata": {},
   "source": [
    "We use Multinomial Logistic Regression Model to predict the most probable category for the given observation $\\textbf{x}$ with features $(x_1, x_2, \\ldots, x_k)$. Assume that our target variable $y$ belongs to one of categories from the set $\\{1, 2, \\ldots, C\\}$. In MNR we usually select one category as the referrence category; let that be the category $C$. Then, the probability that the target variable $y$ belongs to category $c = 1,\\ldots,C-1$ is calculated via\n",
    "\n",
    "$$P(y = c) = \\frac{e^{\\beta^{(c)}_1x_1 + \\beta^{(c)}_2x_2 + \\cdots + \\beta^{(c)}_kx_k + \\beta_0}}{1+\\sum_{j=1}^{C-1}e^{\\beta^{(j)}_1x_1 + \\beta^{(j)}_2x_2 + \\cdots + \\beta^{(j)}_kx_k + \\beta_0}},$$\n",
    "\n",
    "and the probability that it belogns to the referrence category $C$ is \n",
    "\n",
    "$$P(y = C) = \\frac{1}{1+\\sum_{j=1}^{C-1}e^{\\beta^{(j)}_1x_1 + \\beta^{(j)}_2x_2 + \\cdots + \\beta^{(j)}_kx_k + \\beta_0}},$$\n",
    "\n",
    "where $\\beta^{(j)}_1, \\beta^{(j)}_2, \\ldots, \\beta^{(j)}_k,\\ j=1,\\ldots,C$ are the model's parameters for predictors and target variable categories, and $n$ is the intercept of the model.\n",
    "\n",
    "After calculating all the probabilities $P(y = c),\\ c=1,\\ldots,C$ we predict the target variable as\n",
    "\n",
    "$$\\hat{y} = \\textrm{argmax}_{c=1,\\ldots,C}P(y=c).$$\n",
    "\n",
    "The model is estimated by MLE (Maximum Likelihood Estimation). For each category $c$ - except for the referrence $C$, of course - we obtain a set of coefficients. Each model coefficient, in each category, tells us about the $\\Delta_{odds}$ in favor of the target category, for a unit change of a predictor, in comparison with the baseline category, and given that everything else is kept constant."
   ]
  },
  {
   "cell_type": "code",
   "execution_count": 72,
   "id": "84fc776e",
   "metadata": {},
   "outputs": [
    {
     "name": "stdout",
     "output_type": "stream",
     "text": [
      "    const  SepalLengthCm  SepalWidthCm  PetalLengthCm  PetalWidthCm\n",
      "Id                                                                 \n",
      "1     1.0            5.1           3.5            1.4           0.2\n",
      "2     1.0            4.9           3.0            1.4           0.2\n",
      "3     1.0            4.7           3.2            1.3           0.2\n",
      "4     1.0            4.6           3.1            1.5           0.2\n",
      "5     1.0            5.0           3.6            1.4           0.2\n",
      "6     1.0            5.4           3.9            1.7           0.4\n",
      "7     1.0            4.6           3.4            1.4           0.3\n",
      "8     1.0            5.0           3.4            1.5           0.2\n",
      "9     1.0            4.4           2.9            1.4           0.2\n",
      "10    1.0            4.9           3.1            1.5           0.1\n"
     ]
    }
   ],
   "source": [
    "### --- Preparing the variables \n",
    "\n",
    "# - feature matrix\n",
    "X = iris_data.drop(columns='Species')\n",
    "# - we append a constant column of ones to the feature matrix\n",
    "X = sm.add_constant(X)\n",
    "print(X[:10])\n",
    "\n",
    "\n",
    "# - we impose the ordering to the categories of the target vector; the first category is the referrence category\n",
    "cat_type = pd.CategoricalDtype(categories=[\"Iris-versicolor\", \"Iris-virginica\", \"Iris-setosa\"], ordered=True)\n",
    "y = iris_data['Species'].astype(cat_type)"
   ]
  },
  {
   "cell_type": "code",
   "execution_count": 83,
   "id": "de73ee2f",
   "metadata": {},
   "outputs": [
    {
     "name": "stdout",
     "output_type": "stream",
     "text": [
      "Optimization terminated successfully.\n",
      "         Current function value: 0.039663\n",
      "         Iterations: 116\n",
      "         Function evaluations: 117\n",
      "         Gradient evaluations: 117\n",
      "         Hessian evaluations: 116\n"
     ]
    },
    {
     "data": {
      "text/html": [
       "<table class=\"simpletable\">\n",
       "<caption>MNLogit Regression Results</caption>\n",
       "<tr>\n",
       "  <th>Dep. Variable:</th>        <td>Species</td>     <th>  No. Observations:  </th>  <td>   150</td>  \n",
       "</tr>\n",
       "<tr>\n",
       "  <th>Model:</th>                <td>MNLogit</td>     <th>  Df Residuals:      </th>  <td>   140</td>  \n",
       "</tr>\n",
       "<tr>\n",
       "  <th>Method:</th>                 <td>MLE</td>       <th>  Df Model:          </th>  <td>     8</td>  \n",
       "</tr>\n",
       "<tr>\n",
       "  <th>Date:</th>            <td>Mon, 24 Apr 2023</td> <th>  Pseudo R-squ.:     </th>  <td>0.9639</td>  \n",
       "</tr>\n",
       "<tr>\n",
       "  <th>Time:</th>                <td>17:33:57</td>     <th>  Log-Likelihood:    </th> <td> -5.9494</td> \n",
       "</tr>\n",
       "<tr>\n",
       "  <th>converged:</th>             <td>True</td>       <th>  LL-Null:           </th> <td> -164.79</td> \n",
       "</tr>\n",
       "<tr>\n",
       "  <th>Covariance Type:</th>     <td>nonrobust</td>    <th>  LLR p-value:       </th> <td>7.056e-64</td>\n",
       "</tr>\n",
       "</table>\n",
       "<table class=\"simpletable\">\n",
       "<tr>\n",
       "  <th>Species=Iris-virginica</th>    <th>coef</th>     <th>std err</th>      <th>z</th>      <th>P>|z|</th>  <th>[0.025</th>    <th>0.975]</th>  \n",
       "</tr>\n",
       "<tr>\n",
       "  <th>const</th>                  <td>  -42.6378</td> <td>   25.707</td> <td>   -1.659</td> <td> 0.097</td> <td>  -93.023</td> <td>    7.748</td>\n",
       "</tr>\n",
       "<tr>\n",
       "  <th>SepalLengthCm</th>          <td>   -2.4650</td> <td>    2.394</td> <td>   -1.030</td> <td> 0.303</td> <td>   -7.158</td> <td>    2.228</td>\n",
       "</tr>\n",
       "<tr>\n",
       "  <th>SepalWidthCm</th>           <td>   -6.6814</td> <td>    4.480</td> <td>   -1.491</td> <td> 0.136</td> <td>  -15.461</td> <td>    2.099</td>\n",
       "</tr>\n",
       "<tr>\n",
       "  <th>PetalLengthCm</th>          <td>    9.4294</td> <td>    4.737</td> <td>    1.990</td> <td> 0.047</td> <td>    0.145</td> <td>   18.714</td>\n",
       "</tr>\n",
       "<tr>\n",
       "  <th>PetalWidthCm</th>           <td>   18.2859</td> <td>    9.743</td> <td>    1.877</td> <td> 0.061</td> <td>   -0.809</td> <td>   37.381</td>\n",
       "</tr>\n",
       "<tr>\n",
       "  <th>Species=Iris-setosa</th>    <th>coef</th>     <th>std err</th>      <th>z</th>      <th>P>|z|</th>  <th>[0.025</th>    <th>0.975]</th>  \n",
       "</tr>\n",
       "<tr>\n",
       "  <th>const</th>               <td>    1.2464</td> <td> 2814.348</td> <td>    0.000</td> <td> 1.000</td> <td>-5514.774</td> <td> 5517.267</td>\n",
       "</tr>\n",
       "<tr>\n",
       "  <th>SepalLengthCm</th>       <td>    2.1570</td> <td>  796.124</td> <td>    0.003</td> <td> 0.998</td> <td>-1558.216</td> <td> 1562.531</td>\n",
       "</tr>\n",
       "<tr>\n",
       "  <th>SepalWidthCm</th>        <td>    6.3632</td> <td>  392.430</td> <td>    0.016</td> <td> 0.987</td> <td> -762.785</td> <td>  775.511</td>\n",
       "</tr>\n",
       "<tr>\n",
       "  <th>PetalLengthCm</th>       <td>  -10.6666</td> <td>  514.181</td> <td>   -0.021</td> <td> 0.983</td> <td>-1018.443</td> <td>  997.110</td>\n",
       "</tr>\n",
       "<tr>\n",
       "  <th>PetalWidthCm</th>        <td>   -5.4860</td> <td>  974.930</td> <td>   -0.006</td> <td> 0.996</td> <td>-1916.313</td> <td> 1905.341</td>\n",
       "</tr>\n",
       "</table>"
      ],
      "text/plain": [
       "<class 'statsmodels.iolib.summary.Summary'>\n",
       "\"\"\"\n",
       "                          MNLogit Regression Results                          \n",
       "==============================================================================\n",
       "Dep. Variable:                Species   No. Observations:                  150\n",
       "Model:                        MNLogit   Df Residuals:                      140\n",
       "Method:                           MLE   Df Model:                            8\n",
       "Date:                Mon, 24 Apr 2023   Pseudo R-squ.:                  0.9639\n",
       "Time:                        17:33:57   Log-Likelihood:                -5.9494\n",
       "converged:                       True   LL-Null:                       -164.79\n",
       "Covariance Type:            nonrobust   LLR p-value:                 7.056e-64\n",
       "=======================================================================================\n",
       "Species=Iris-virginica       coef    std err          z      P>|z|      [0.025      0.975]\n",
       "------------------------------------------------------------------------------------------\n",
       "const                    -42.6378     25.707     -1.659      0.097     -93.023       7.748\n",
       "SepalLengthCm             -2.4650      2.394     -1.030      0.303      -7.158       2.228\n",
       "SepalWidthCm              -6.6814      4.480     -1.491      0.136     -15.461       2.099\n",
       "PetalLengthCm              9.4294      4.737      1.990      0.047       0.145      18.714\n",
       "PetalWidthCm              18.2859      9.743      1.877      0.061      -0.809      37.381\n",
       "------------------------------------------------------------------------------------------\n",
       "Species=Iris-setosa       coef    std err          z      P>|z|      [0.025      0.975]\n",
       "---------------------------------------------------------------------------------------\n",
       "const                   1.2464   2814.348      0.000      1.000   -5514.774    5517.267\n",
       "SepalLengthCm           2.1570    796.124      0.003      0.998   -1558.216    1562.531\n",
       "SepalWidthCm            6.3632    392.430      0.016      0.987    -762.785     775.511\n",
       "PetalLengthCm         -10.6666    514.181     -0.021      0.983   -1018.443     997.110\n",
       "PetalWidthCm           -5.4860    974.930     -0.006      0.996   -1916.313    1905.341\n",
       "=======================================================================================\n",
       "\"\"\""
      ]
     },
     "execution_count": 83,
     "metadata": {},
     "output_type": "execute_result"
    }
   ],
   "source": [
    "# - fitting the MNR model to the data; we use the Newton's Conjugate Gradient method as the optimizer to compute the\n",
    "#models coefficients\n",
    "mnr_model = sm.MNLogit(exog=X, endog=y).fit(method='ncg', maxiter=150)\n",
    "mnr_model.summary()"
   ]
  },
  {
   "cell_type": "code",
   "execution_count": 84,
   "id": "e56ed02e",
   "metadata": {},
   "outputs": [
    {
     "data": {
      "text/plain": [
       "array([[49.,  1.,  0.],\n",
       "       [ 1., 49.,  0.],\n",
       "       [ 0.,  0., 50.]])"
      ]
     },
     "execution_count": 84,
     "metadata": {},
     "output_type": "execute_result"
    }
   ],
   "source": [
    "# - confusion matrix for our model and given data; rows/columns are on par with the ordering of categorical variable\n",
    "mnr_model.pred_table()"
   ]
  },
  {
   "cell_type": "code",
   "execution_count": 85,
   "id": "c912d6b1",
   "metadata": {},
   "outputs": [
    {
     "name": "stdout",
     "output_type": "stream",
     "text": [
      "The accuracy of our model: 0.9867\n"
     ]
    }
   ],
   "source": [
    "# - accuracy of the model\n",
    "print(f'The accuracy of our model: {round(148/150, 4)}')"
   ]
  },
  {
   "cell_type": "code",
   "execution_count": 86,
   "id": "45c85668",
   "metadata": {},
   "outputs": [
    {
     "data": {
      "text/plain": [
       "array([[9.34872753e-09, 1.44324732e-35, 9.99999991e-01],\n",
       "       [3.46621493e-07, 2.47392957e-32, 9.99999653e-01],\n",
       "       [5.14366413e-08, 6.15260257e-34, 9.99999949e-01],\n",
       "       [1.01809267e-06, 2.00366351e-31, 9.99998982e-01],\n",
       "       [6.13878953e-09, 6.21664320e-36, 9.99999994e-01],\n",
       "       [2.82201171e-08, 9.42229344e-34, 9.99999972e-01],\n",
       "       [8.98984023e-08, 5.77985326e-33, 9.99999910e-01],\n",
       "       [6.36830880e-08, 6.30010984e-34, 9.99999936e-01],\n",
       "       [1.92574911e-06, 9.19522343e-31, 9.99998074e-01],\n",
       "       [3.07960805e-07, 4.64760530e-33, 9.99999692e-01]])"
      ]
     },
     "execution_count": 86,
     "metadata": {},
     "output_type": "execute_result"
    }
   ],
   "source": [
    "# - model's prediction of probabilities; columns correspond to the ordering of categorical variable\n",
    "mnr_model.predict()[:10]"
   ]
  },
  {
   "cell_type": "code",
   "execution_count": 87,
   "id": "4d63497a",
   "metadata": {},
   "outputs": [
    {
     "data": {
      "text/plain": [
       "array([2, 2, 2, 2, 2, 2, 2, 2, 2, 2, 2, 2, 2, 2, 2, 2, 2, 2, 2, 2, 2, 2,\n",
       "       2, 2, 2, 2, 2, 2, 2, 2, 2, 2, 2, 2, 2, 2, 2, 2, 2, 2, 2, 2, 2, 2,\n",
       "       2, 2, 2, 2, 2, 2, 0, 0, 0, 0, 0, 0, 0, 0, 0, 0, 0, 0, 0, 0, 0, 0,\n",
       "       0, 0, 0, 0, 0, 0, 0, 0, 0, 0, 0, 0, 0, 0, 0, 0, 0, 1, 0, 0, 0, 0,\n",
       "       0, 0, 0, 0, 0, 0, 0, 0, 0, 0, 0, 0, 1, 1, 1, 1, 1, 1, 1, 1, 1, 1,\n",
       "       1, 1, 1, 1, 1, 1, 1, 1, 1, 1, 1, 1, 1, 1, 1, 1, 1, 1, 1, 1, 1, 1,\n",
       "       1, 0, 1, 1, 1, 1, 1, 1, 1, 1, 1, 1, 1, 1, 1, 1, 1, 1], dtype=int64)"
      ]
     },
     "execution_count": 87,
     "metadata": {},
     "output_type": "execute_result"
    }
   ],
   "source": [
    "# - model's prediction of categories; numbers correspond to the ordering of categorical variable\n",
    "preds = np.argmax(mnr_model.predict(), axis=-1)\n",
    "preds"
   ]
  },
  {
   "cell_type": "markdown",
   "id": "3c4b6bd4",
   "metadata": {},
   "source": [
    "### Multicolinearity in Multinomial Regression"
   ]
  },
  {
   "cell_type": "code",
   "execution_count": 88,
   "id": "8593ef98",
   "metadata": {},
   "outputs": [
    {
     "data": {
      "text/plain": [
       "Id\n",
       "1      2\n",
       "2      2\n",
       "3      2\n",
       "4      2\n",
       "5      2\n",
       "      ..\n",
       "146    1\n",
       "147    1\n",
       "148    1\n",
       "149    1\n",
       "150    1\n",
       "Length: 150, dtype: int8"
      ]
     },
     "execution_count": 88,
     "metadata": {},
     "output_type": "execute_result"
    }
   ],
   "source": [
    "### --- Step 1: recode categorical target variable to integer values, \n",
    "# - just in order to be able to run a multiple linear regression on the data:\n",
    "y = y.cat.codes\n",
    "y"
   ]
  },
  {
   "cell_type": "code",
   "execution_count": 89,
   "id": "6edf57fa",
   "metadata": {},
   "outputs": [
    {
     "data": {
      "text/html": [
       "<table class=\"simpletable\">\n",
       "<caption>OLS Regression Results</caption>\n",
       "<tr>\n",
       "  <th>Dep. Variable:</th>            <td>y</td>        <th>  R-squared:         </th> <td>   0.571</td>\n",
       "</tr>\n",
       "<tr>\n",
       "  <th>Model:</th>                   <td>OLS</td>       <th>  Adj. R-squared:    </th> <td>   0.559</td>\n",
       "</tr>\n",
       "<tr>\n",
       "  <th>Method:</th>             <td>Least Squares</td>  <th>  F-statistic:       </th> <td>   48.17</td>\n",
       "</tr>\n",
       "<tr>\n",
       "  <th>Date:</th>             <td>Mon, 24 Apr 2023</td> <th>  Prob (F-statistic):</th> <td>1.02e-25</td>\n",
       "</tr>\n",
       "<tr>\n",
       "  <th>Time:</th>                 <td>17:35:19</td>     <th>  Log-Likelihood:    </th> <td> -119.03</td>\n",
       "</tr>\n",
       "<tr>\n",
       "  <th>No. Observations:</th>      <td>   150</td>      <th>  AIC:               </th> <td>   248.1</td>\n",
       "</tr>\n",
       "<tr>\n",
       "  <th>Df Residuals:</th>          <td>   145</td>      <th>  BIC:               </th> <td>   263.1</td>\n",
       "</tr>\n",
       "<tr>\n",
       "  <th>Df Model:</th>              <td>     4</td>      <th>                     </th>     <td> </td>   \n",
       "</tr>\n",
       "<tr>\n",
       "  <th>Covariance Type:</th>      <td>nonrobust</td>    <th>                     </th>     <td> </td>   \n",
       "</tr>\n",
       "</table>\n",
       "<table class=\"simpletable\">\n",
       "<tr>\n",
       "        <td></td>           <th>coef</th>     <th>std err</th>      <th>t</th>      <th>P>|t|</th>  <th>[0.025</th>    <th>0.975]</th>  \n",
       "</tr>\n",
       "<tr>\n",
       "  <th>const</th>         <td>   -0.4405</td> <td>    0.509</td> <td>   -0.866</td> <td> 0.388</td> <td>   -1.446</td> <td>    0.565</td>\n",
       "</tr>\n",
       "<tr>\n",
       "  <th>SepalLengthCm</th> <td>    0.0872</td> <td>    0.143</td> <td>    0.608</td> <td> 0.544</td> <td>   -0.196</td> <td>    0.371</td>\n",
       "</tr>\n",
       "<tr>\n",
       "  <th>SepalWidthCm</th>  <td>    0.6832</td> <td>    0.149</td> <td>    4.586</td> <td> 0.000</td> <td>    0.389</td> <td>    0.978</td>\n",
       "</tr>\n",
       "<tr>\n",
       "  <th>PetalLengthCm</th> <td>   -0.4413</td> <td>    0.142</td> <td>   -3.117</td> <td> 0.002</td> <td>   -0.721</td> <td>   -0.161</td>\n",
       "</tr>\n",
       "<tr>\n",
       "  <th>PetalWidthCm</th>  <td>    0.4198</td> <td>    0.235</td> <td>    1.789</td> <td> 0.076</td> <td>   -0.044</td> <td>    0.884</td>\n",
       "</tr>\n",
       "</table>\n",
       "<table class=\"simpletable\">\n",
       "<tr>\n",
       "  <th>Omnibus:</th>       <td>28.857</td> <th>  Durbin-Watson:     </th> <td>   0.448</td>\n",
       "</tr>\n",
       "<tr>\n",
       "  <th>Prob(Omnibus):</th> <td> 0.000</td> <th>  Jarque-Bera (JB):  </th> <td>   7.904</td>\n",
       "</tr>\n",
       "<tr>\n",
       "  <th>Skew:</th>          <td>-0.222</td> <th>  Prob(JB):          </th> <td>  0.0192</td>\n",
       "</tr>\n",
       "<tr>\n",
       "  <th>Kurtosis:</th>      <td> 1.966</td> <th>  Cond. No.          </th> <td>    91.8</td>\n",
       "</tr>\n",
       "</table><br/><br/>Notes:<br/>[1] Standard Errors assume that the covariance matrix of the errors is correctly specified."
      ],
      "text/plain": [
       "<class 'statsmodels.iolib.summary.Summary'>\n",
       "\"\"\"\n",
       "                            OLS Regression Results                            \n",
       "==============================================================================\n",
       "Dep. Variable:                      y   R-squared:                       0.571\n",
       "Model:                            OLS   Adj. R-squared:                  0.559\n",
       "Method:                 Least Squares   F-statistic:                     48.17\n",
       "Date:                Mon, 24 Apr 2023   Prob (F-statistic):           1.02e-25\n",
       "Time:                        17:35:19   Log-Likelihood:                -119.03\n",
       "No. Observations:                 150   AIC:                             248.1\n",
       "Df Residuals:                     145   BIC:                             263.1\n",
       "Df Model:                           4                                         \n",
       "Covariance Type:            nonrobust                                         \n",
       "=================================================================================\n",
       "                    coef    std err          t      P>|t|      [0.025      0.975]\n",
       "---------------------------------------------------------------------------------\n",
       "const            -0.4405      0.509     -0.866      0.388      -1.446       0.565\n",
       "SepalLengthCm     0.0872      0.143      0.608      0.544      -0.196       0.371\n",
       "SepalWidthCm      0.6832      0.149      4.586      0.000       0.389       0.978\n",
       "PetalLengthCm    -0.4413      0.142     -3.117      0.002      -0.721      -0.161\n",
       "PetalWidthCm      0.4198      0.235      1.789      0.076      -0.044       0.884\n",
       "==============================================================================\n",
       "Omnibus:                       28.857   Durbin-Watson:                   0.448\n",
       "Prob(Omnibus):                  0.000   Jarque-Bera (JB):                7.904\n",
       "Skew:                          -0.222   Prob(JB):                       0.0192\n",
       "Kurtosis:                       1.966   Cond. No.                         91.8\n",
       "==============================================================================\n",
       "\n",
       "Notes:\n",
       "[1] Standard Errors assume that the covariance matrix of the errors is correctly specified.\n",
       "\"\"\""
      ]
     },
     "execution_count": 89,
     "metadata": {},
     "output_type": "execute_result"
    }
   ],
   "source": [
    "### --- Step 2: produce a Multiple Linear Regression model for the data \n",
    "mnr_model = sm.OLS(exog=X, endog=y).fit()\n",
    "mnr_model.summary()"
   ]
  },
  {
   "cell_type": "code",
   "execution_count": 90,
   "id": "e7a6c2b6",
   "metadata": {},
   "outputs": [
    {
     "data": {
      "text/plain": [
       "Index(['SepalLengthCm', 'SepalWidthCm', 'PetalLengthCm', 'PetalWidthCm'], dtype='object')"
      ]
     },
     "execution_count": 90,
     "metadata": {},
     "output_type": "execute_result"
    }
   ],
   "source": [
    "# --- Step 3: compute VIFs for the predictors\n",
    "predictors = iris_data.columns.drop('Species')\n",
    "predictors"
   ]
  },
  {
   "cell_type": "code",
   "execution_count": 91,
   "id": "2b6f7e15",
   "metadata": {},
   "outputs": [],
   "source": [
    "# - appending the columns of ones to the predictors' data\n",
    "model_frame_predictors = sm.add_constant(iris_data[predictors])"
   ]
  },
  {
   "cell_type": "code",
   "execution_count": 94,
   "id": "c9c4a1f5",
   "metadata": {},
   "outputs": [
    {
     "data": {
      "text/html": [
       "<div>\n",
       "<style scoped>\n",
       "    .dataframe tbody tr th:only-of-type {\n",
       "        vertical-align: middle;\n",
       "    }\n",
       "\n",
       "    .dataframe tbody tr th {\n",
       "        vertical-align: top;\n",
       "    }\n",
       "\n",
       "    .dataframe thead th {\n",
       "        text-align: right;\n",
       "    }\n",
       "</style>\n",
       "<table border=\"1\" class=\"dataframe\">\n",
       "  <thead>\n",
       "    <tr style=\"text-align: right;\">\n",
       "      <th></th>\n",
       "      <th>SepalLengthCm</th>\n",
       "      <th>SepalWidthCm</th>\n",
       "      <th>PetalLengthCm</th>\n",
       "      <th>PetalWidthCm</th>\n",
       "    </tr>\n",
       "  </thead>\n",
       "  <tbody>\n",
       "    <tr>\n",
       "      <th>0</th>\n",
       "      <td>7.103113</td>\n",
       "      <td>2.099039</td>\n",
       "      <td>31.397292</td>\n",
       "      <td>16.141564</td>\n",
       "    </tr>\n",
       "  </tbody>\n",
       "</table>\n",
       "</div>"
      ],
      "text/plain": [
       "   SepalLengthCm  SepalWidthCm  PetalLengthCm  PetalWidthCm\n",
       "0       7.103113      2.099039      31.397292     16.141564"
      ]
     },
     "execution_count": 94,
     "metadata": {},
     "output_type": "execute_result"
    }
   ],
   "source": [
    "# - computing VIFs\n",
    "vifs = [variance_inflation_factor(model_frame_predictors.values, i) for i in range(1, len(predictors)+1)]\n",
    "vifs = np.array(vifs).reshape(1, -1)\n",
    "vifs\n",
    "pd.DataFrame(vifs, columns=predictors)"
   ]
  },
  {
   "cell_type": "markdown",
   "id": "67e66dcd",
   "metadata": {},
   "source": [
    "### Multinomial Logistic Regression using scikit-learn"
   ]
  },
  {
   "cell_type": "code",
   "execution_count": 95,
   "id": "439a3b63",
   "metadata": {},
   "outputs": [],
   "source": [
    "# - import scikit-learn\n",
    "from sklearn.linear_model import LogisticRegression\n",
    "from sklearn.metrics import confusion_matrix"
   ]
  },
  {
   "cell_type": "code",
   "execution_count": 96,
   "id": "89165ce2",
   "metadata": {},
   "outputs": [],
   "source": [
    "### --- Preparing the variables \n",
    "\n",
    "# - feature matrix\n",
    "X = iris_data.drop(columns='Species').values\n",
    "\n",
    "# - target variable\n",
    "y = iris_data['Species']"
   ]
  },
  {
   "cell_type": "code",
   "execution_count": 97,
   "id": "178f72bd",
   "metadata": {},
   "outputs": [
    {
     "data": {
      "text/html": [
       "<style>#sk-container-id-3 {color: black;background-color: white;}#sk-container-id-3 pre{padding: 0;}#sk-container-id-3 div.sk-toggleable {background-color: white;}#sk-container-id-3 label.sk-toggleable__label {cursor: pointer;display: block;width: 100%;margin-bottom: 0;padding: 0.3em;box-sizing: border-box;text-align: center;}#sk-container-id-3 label.sk-toggleable__label-arrow:before {content: \"▸\";float: left;margin-right: 0.25em;color: #696969;}#sk-container-id-3 label.sk-toggleable__label-arrow:hover:before {color: black;}#sk-container-id-3 div.sk-estimator:hover label.sk-toggleable__label-arrow:before {color: black;}#sk-container-id-3 div.sk-toggleable__content {max-height: 0;max-width: 0;overflow: hidden;text-align: left;background-color: #f0f8ff;}#sk-container-id-3 div.sk-toggleable__content pre {margin: 0.2em;color: black;border-radius: 0.25em;background-color: #f0f8ff;}#sk-container-id-3 input.sk-toggleable__control:checked~div.sk-toggleable__content {max-height: 200px;max-width: 100%;overflow: auto;}#sk-container-id-3 input.sk-toggleable__control:checked~label.sk-toggleable__label-arrow:before {content: \"▾\";}#sk-container-id-3 div.sk-estimator input.sk-toggleable__control:checked~label.sk-toggleable__label {background-color: #d4ebff;}#sk-container-id-3 div.sk-label input.sk-toggleable__control:checked~label.sk-toggleable__label {background-color: #d4ebff;}#sk-container-id-3 input.sk-hidden--visually {border: 0;clip: rect(1px 1px 1px 1px);clip: rect(1px, 1px, 1px, 1px);height: 1px;margin: -1px;overflow: hidden;padding: 0;position: absolute;width: 1px;}#sk-container-id-3 div.sk-estimator {font-family: monospace;background-color: #f0f8ff;border: 1px dotted black;border-radius: 0.25em;box-sizing: border-box;margin-bottom: 0.5em;}#sk-container-id-3 div.sk-estimator:hover {background-color: #d4ebff;}#sk-container-id-3 div.sk-parallel-item::after {content: \"\";width: 100%;border-bottom: 1px solid gray;flex-grow: 1;}#sk-container-id-3 div.sk-label:hover label.sk-toggleable__label {background-color: #d4ebff;}#sk-container-id-3 div.sk-serial::before {content: \"\";position: absolute;border-left: 1px solid gray;box-sizing: border-box;top: 0;bottom: 0;left: 50%;z-index: 0;}#sk-container-id-3 div.sk-serial {display: flex;flex-direction: column;align-items: center;background-color: white;padding-right: 0.2em;padding-left: 0.2em;position: relative;}#sk-container-id-3 div.sk-item {position: relative;z-index: 1;}#sk-container-id-3 div.sk-parallel {display: flex;align-items: stretch;justify-content: center;background-color: white;position: relative;}#sk-container-id-3 div.sk-item::before, #sk-container-id-3 div.sk-parallel-item::before {content: \"\";position: absolute;border-left: 1px solid gray;box-sizing: border-box;top: 0;bottom: 0;left: 50%;z-index: -1;}#sk-container-id-3 div.sk-parallel-item {display: flex;flex-direction: column;z-index: 1;position: relative;background-color: white;}#sk-container-id-3 div.sk-parallel-item:first-child::after {align-self: flex-end;width: 50%;}#sk-container-id-3 div.sk-parallel-item:last-child::after {align-self: flex-start;width: 50%;}#sk-container-id-3 div.sk-parallel-item:only-child::after {width: 0;}#sk-container-id-3 div.sk-dashed-wrapped {border: 1px dashed gray;margin: 0 0.4em 0.5em 0.4em;box-sizing: border-box;padding-bottom: 0.4em;background-color: white;}#sk-container-id-3 div.sk-label label {font-family: monospace;font-weight: bold;display: inline-block;line-height: 1.2em;}#sk-container-id-3 div.sk-label-container {text-align: center;}#sk-container-id-3 div.sk-container {/* jupyter's `normalize.less` sets `[hidden] { display: none; }` but bootstrap.min.css set `[hidden] { display: none !important; }` so we also need the `!important` here to be able to override the default hidden behavior on the sphinx rendered scikit-learn.org. See: https://github.com/scikit-learn/scikit-learn/issues/21755 */display: inline-block !important;position: relative;}#sk-container-id-3 div.sk-text-repr-fallback {display: none;}</style><div id=\"sk-container-id-3\" class=\"sk-top-container\"><div class=\"sk-text-repr-fallback\"><pre>LogisticRegression(penalty=&#x27;none&#x27;, solver=&#x27;newton-cg&#x27;)</pre><b>In a Jupyter environment, please rerun this cell to show the HTML representation or trust the notebook. <br />On GitHub, the HTML representation is unable to render, please try loading this page with nbviewer.org.</b></div><div class=\"sk-container\" hidden><div class=\"sk-item\"><div class=\"sk-estimator sk-toggleable\"><input class=\"sk-toggleable__control sk-hidden--visually\" id=\"sk-estimator-id-3\" type=\"checkbox\" checked><label for=\"sk-estimator-id-3\" class=\"sk-toggleable__label sk-toggleable__label-arrow\">LogisticRegression</label><div class=\"sk-toggleable__content\"><pre>LogisticRegression(penalty=&#x27;none&#x27;, solver=&#x27;newton-cg&#x27;)</pre></div></div></div></div></div>"
      ],
      "text/plain": [
       "LogisticRegression(penalty='none', solver='newton-cg')"
      ]
     },
     "execution_count": 97,
     "metadata": {},
     "output_type": "execute_result"
    }
   ],
   "source": [
    "### --- Fitting the logistic model to the numerical data\n",
    "# - scikit-learn does not implement the referrence category automatically \n",
    "# - experiment with hyperparameters to produce more accurate model\n",
    "log_reg = LogisticRegression(solver='newton-cg', penalty='none')\n",
    "log_reg.fit(X, y)"
   ]
  },
  {
   "cell_type": "code",
   "execution_count": 98,
   "id": "be935c6d",
   "metadata": {},
   "outputs": [
    {
     "data": {
      "text/plain": [
       "(array([[  4.88501685,   7.84683378, -12.83914117,  -6.66236914],\n",
       "        [ -1.20989943,  -0.58296936,   1.70486765,  -5.81189786],\n",
       "        [ -3.67511742,  -7.26386442,  11.13427351,  12.47426701]]),\n",
       " array([  2.32878337,  20.15458005, -22.48336342]))"
      ]
     },
     "execution_count": 98,
     "metadata": {},
     "output_type": "execute_result"
    }
   ],
   "source": [
    "# - coefficents of the model; rows correspond to the order of appearance of categories in the target variable\n",
    "log_reg.coef_, log_reg.intercept_"
   ]
  },
  {
   "cell_type": "code",
   "execution_count": 99,
   "id": "63dead08",
   "metadata": {},
   "outputs": [
    {
     "data": {
      "text/plain": [
       "0.9867"
      ]
     },
     "execution_count": 99,
     "metadata": {},
     "output_type": "execute_result"
    }
   ],
   "source": [
    "# - model's accuracy\n",
    "round(log_reg.score(X, y), 4)"
   ]
  },
  {
   "cell_type": "code",
   "execution_count": 100,
   "id": "c5416aa8",
   "metadata": {},
   "outputs": [
    {
     "data": {
      "text/plain": [
       "array(['Iris-setosa', 'Iris-setosa', 'Iris-setosa', 'Iris-setosa',\n",
       "       'Iris-setosa', 'Iris-setosa', 'Iris-setosa', 'Iris-setosa',\n",
       "       'Iris-setosa', 'Iris-setosa'], dtype=object)"
      ]
     },
     "execution_count": 100,
     "metadata": {},
     "output_type": "execute_result"
    }
   ],
   "source": [
    "# - predictions\n",
    "y_pred = log_reg.predict(X)\n",
    "y_pred[:10]"
   ]
  },
  {
   "cell_type": "code",
   "execution_count": 101,
   "id": "114fcbcd",
   "metadata": {},
   "outputs": [
    {
     "data": {
      "text/plain": [
       "array([[50,  0,  0],\n",
       "       [ 0, 49,  1],\n",
       "       [ 0,  1, 49]], dtype=int64)"
      ]
     },
     "execution_count": 101,
     "metadata": {},
     "output_type": "execute_result"
    }
   ],
   "source": [
    "# - confusion matrix for the given data\n",
    "# - rows/columns rows correspond to the order of appearance of categories in the target variable\n",
    "confusion_matrix(y, y_pred)"
   ]
  },
  {
   "cell_type": "markdown",
   "id": "3f5e62f9",
   "metadata": {},
   "source": [
    "## 5. Regularization of MLR"
   ]
  },
  {
   "cell_type": "code",
   "execution_count": 102,
   "id": "2ee973f4",
   "metadata": {},
   "outputs": [
    {
     "data": {
      "text/html": [
       "<div>\n",
       "<style scoped>\n",
       "    .dataframe tbody tr th:only-of-type {\n",
       "        vertical-align: middle;\n",
       "    }\n",
       "\n",
       "    .dataframe tbody tr th {\n",
       "        vertical-align: top;\n",
       "    }\n",
       "\n",
       "    .dataframe thead th {\n",
       "        text-align: right;\n",
       "    }\n",
       "</style>\n",
       "<table border=\"1\" class=\"dataframe\">\n",
       "  <thead>\n",
       "    <tr style=\"text-align: right;\">\n",
       "      <th></th>\n",
       "      <th>fixed acidity</th>\n",
       "      <th>volatile acidity</th>\n",
       "      <th>citric acid</th>\n",
       "      <th>residual sugar</th>\n",
       "      <th>chlorides</th>\n",
       "      <th>free sulfur dioxide</th>\n",
       "      <th>total sulfur dioxide</th>\n",
       "      <th>density</th>\n",
       "      <th>pH</th>\n",
       "      <th>sulphates</th>\n",
       "      <th>alcohol</th>\n",
       "      <th>quality</th>\n",
       "    </tr>\n",
       "  </thead>\n",
       "  <tbody>\n",
       "    <tr>\n",
       "      <th>0</th>\n",
       "      <td>7.4</td>\n",
       "      <td>0.70</td>\n",
       "      <td>0.00</td>\n",
       "      <td>1.9</td>\n",
       "      <td>0.076</td>\n",
       "      <td>11.0</td>\n",
       "      <td>34.0</td>\n",
       "      <td>0.9978</td>\n",
       "      <td>3.51</td>\n",
       "      <td>0.56</td>\n",
       "      <td>9.4</td>\n",
       "      <td>5</td>\n",
       "    </tr>\n",
       "    <tr>\n",
       "      <th>1</th>\n",
       "      <td>7.8</td>\n",
       "      <td>0.88</td>\n",
       "      <td>0.00</td>\n",
       "      <td>2.6</td>\n",
       "      <td>0.098</td>\n",
       "      <td>25.0</td>\n",
       "      <td>67.0</td>\n",
       "      <td>0.9968</td>\n",
       "      <td>3.20</td>\n",
       "      <td>0.68</td>\n",
       "      <td>9.8</td>\n",
       "      <td>5</td>\n",
       "    </tr>\n",
       "    <tr>\n",
       "      <th>2</th>\n",
       "      <td>7.8</td>\n",
       "      <td>0.76</td>\n",
       "      <td>0.04</td>\n",
       "      <td>2.3</td>\n",
       "      <td>0.092</td>\n",
       "      <td>15.0</td>\n",
       "      <td>54.0</td>\n",
       "      <td>0.9970</td>\n",
       "      <td>3.26</td>\n",
       "      <td>0.65</td>\n",
       "      <td>9.8</td>\n",
       "      <td>5</td>\n",
       "    </tr>\n",
       "    <tr>\n",
       "      <th>3</th>\n",
       "      <td>11.2</td>\n",
       "      <td>0.28</td>\n",
       "      <td>0.56</td>\n",
       "      <td>1.9</td>\n",
       "      <td>0.075</td>\n",
       "      <td>17.0</td>\n",
       "      <td>60.0</td>\n",
       "      <td>0.9980</td>\n",
       "      <td>3.16</td>\n",
       "      <td>0.58</td>\n",
       "      <td>9.8</td>\n",
       "      <td>6</td>\n",
       "    </tr>\n",
       "    <tr>\n",
       "      <th>4</th>\n",
       "      <td>7.4</td>\n",
       "      <td>0.70</td>\n",
       "      <td>0.00</td>\n",
       "      <td>1.9</td>\n",
       "      <td>0.076</td>\n",
       "      <td>11.0</td>\n",
       "      <td>34.0</td>\n",
       "      <td>0.9978</td>\n",
       "      <td>3.51</td>\n",
       "      <td>0.56</td>\n",
       "      <td>9.4</td>\n",
       "      <td>5</td>\n",
       "    </tr>\n",
       "    <tr>\n",
       "      <th>5</th>\n",
       "      <td>7.4</td>\n",
       "      <td>0.66</td>\n",
       "      <td>0.00</td>\n",
       "      <td>1.8</td>\n",
       "      <td>0.075</td>\n",
       "      <td>13.0</td>\n",
       "      <td>40.0</td>\n",
       "      <td>0.9978</td>\n",
       "      <td>3.51</td>\n",
       "      <td>0.56</td>\n",
       "      <td>9.4</td>\n",
       "      <td>5</td>\n",
       "    </tr>\n",
       "    <tr>\n",
       "      <th>6</th>\n",
       "      <td>7.9</td>\n",
       "      <td>0.60</td>\n",
       "      <td>0.06</td>\n",
       "      <td>1.6</td>\n",
       "      <td>0.069</td>\n",
       "      <td>15.0</td>\n",
       "      <td>59.0</td>\n",
       "      <td>0.9964</td>\n",
       "      <td>3.30</td>\n",
       "      <td>0.46</td>\n",
       "      <td>9.4</td>\n",
       "      <td>5</td>\n",
       "    </tr>\n",
       "    <tr>\n",
       "      <th>7</th>\n",
       "      <td>7.3</td>\n",
       "      <td>0.65</td>\n",
       "      <td>0.00</td>\n",
       "      <td>1.2</td>\n",
       "      <td>0.065</td>\n",
       "      <td>15.0</td>\n",
       "      <td>21.0</td>\n",
       "      <td>0.9946</td>\n",
       "      <td>3.39</td>\n",
       "      <td>0.47</td>\n",
       "      <td>10.0</td>\n",
       "      <td>7</td>\n",
       "    </tr>\n",
       "    <tr>\n",
       "      <th>8</th>\n",
       "      <td>7.8</td>\n",
       "      <td>0.58</td>\n",
       "      <td>0.02</td>\n",
       "      <td>2.0</td>\n",
       "      <td>0.073</td>\n",
       "      <td>9.0</td>\n",
       "      <td>18.0</td>\n",
       "      <td>0.9968</td>\n",
       "      <td>3.36</td>\n",
       "      <td>0.57</td>\n",
       "      <td>9.5</td>\n",
       "      <td>7</td>\n",
       "    </tr>\n",
       "    <tr>\n",
       "      <th>9</th>\n",
       "      <td>7.5</td>\n",
       "      <td>0.50</td>\n",
       "      <td>0.36</td>\n",
       "      <td>6.1</td>\n",
       "      <td>0.071</td>\n",
       "      <td>17.0</td>\n",
       "      <td>102.0</td>\n",
       "      <td>0.9978</td>\n",
       "      <td>3.35</td>\n",
       "      <td>0.80</td>\n",
       "      <td>10.5</td>\n",
       "      <td>5</td>\n",
       "    </tr>\n",
       "  </tbody>\n",
       "</table>\n",
       "</div>"
      ],
      "text/plain": [
       "   fixed acidity  volatile acidity  citric acid  residual sugar  chlorides  \\\n",
       "0            7.4              0.70         0.00             1.9      0.076   \n",
       "1            7.8              0.88         0.00             2.6      0.098   \n",
       "2            7.8              0.76         0.04             2.3      0.092   \n",
       "3           11.2              0.28         0.56             1.9      0.075   \n",
       "4            7.4              0.70         0.00             1.9      0.076   \n",
       "5            7.4              0.66         0.00             1.8      0.075   \n",
       "6            7.9              0.60         0.06             1.6      0.069   \n",
       "7            7.3              0.65         0.00             1.2      0.065   \n",
       "8            7.8              0.58         0.02             2.0      0.073   \n",
       "9            7.5              0.50         0.36             6.1      0.071   \n",
       "\n",
       "   free sulfur dioxide  total sulfur dioxide  density    pH  sulphates  \\\n",
       "0                 11.0                  34.0   0.9978  3.51       0.56   \n",
       "1                 25.0                  67.0   0.9968  3.20       0.68   \n",
       "2                 15.0                  54.0   0.9970  3.26       0.65   \n",
       "3                 17.0                  60.0   0.9980  3.16       0.58   \n",
       "4                 11.0                  34.0   0.9978  3.51       0.56   \n",
       "5                 13.0                  40.0   0.9978  3.51       0.56   \n",
       "6                 15.0                  59.0   0.9964  3.30       0.46   \n",
       "7                 15.0                  21.0   0.9946  3.39       0.47   \n",
       "8                  9.0                  18.0   0.9968  3.36       0.57   \n",
       "9                 17.0                 102.0   0.9978  3.35       0.80   \n",
       "\n",
       "   alcohol  quality  \n",
       "0      9.4        5  \n",
       "1      9.8        5  \n",
       "2      9.8        5  \n",
       "3      9.8        6  \n",
       "4      9.4        5  \n",
       "5      9.4        5  \n",
       "6      9.4        5  \n",
       "7     10.0        7  \n",
       "8      9.5        7  \n",
       "9     10.5        5  "
      ]
     },
     "execution_count": 102,
     "metadata": {},
     "output_type": "execute_result"
    }
   ],
   "source": [
    "# - loading the dataset\n",
    "# - UCI ML: https://archive.ics.uci.edu/ml/machine-learning-databases/wine-quality/) (download winequality-red.csv)\n",
    "# - place it in your _data/ directory\n",
    "wine_data = pd.read_csv(os.path.join(data_dir, 'winequality-red.csv'), sep=';')\n",
    "wine_data.head(10)"
   ]
  },
  {
   "cell_type": "markdown",
   "id": "f9a3bfa3",
   "metadata": {},
   "source": [
    "### Target: predict wine quality from all the predictors"
   ]
  },
  {
   "cell_type": "code",
   "execution_count": 103,
   "id": "3e416dd5",
   "metadata": {},
   "outputs": [
    {
     "name": "stdout",
     "output_type": "stream",
     "text": [
      "<class 'pandas.core.frame.DataFrame'>\n",
      "RangeIndex: 1599 entries, 0 to 1598\n",
      "Data columns (total 12 columns):\n",
      " #   Column                Non-Null Count  Dtype  \n",
      "---  ------                --------------  -----  \n",
      " 0   fixed acidity         1599 non-null   float64\n",
      " 1   volatile acidity      1599 non-null   float64\n",
      " 2   citric acid           1599 non-null   float64\n",
      " 3   residual sugar        1599 non-null   float64\n",
      " 4   chlorides             1599 non-null   float64\n",
      " 5   free sulfur dioxide   1599 non-null   float64\n",
      " 6   total sulfur dioxide  1599 non-null   float64\n",
      " 7   density               1599 non-null   float64\n",
      " 8   pH                    1599 non-null   float64\n",
      " 9   sulphates             1599 non-null   float64\n",
      " 10  alcohol               1599 non-null   float64\n",
      " 11  quality               1599 non-null   int64  \n",
      "dtypes: float64(11), int64(1)\n",
      "memory usage: 150.0 KB\n"
     ]
    }
   ],
   "source": [
    "wine_data.info()"
   ]
  },
  {
   "cell_type": "code",
   "execution_count": 104,
   "id": "db46216f",
   "metadata": {},
   "outputs": [
    {
     "data": {
      "text/plain": [
       "Index(['fixed acidity', 'volatile acidity', 'citric acid', 'residual sugar',\n",
       "       'chlorides', 'free sulfur dioxide', 'total sulfur dioxide', 'density',\n",
       "       'pH', 'sulphates', 'alcohol'],\n",
       "      dtype='object')"
      ]
     },
     "execution_count": 104,
     "metadata": {},
     "output_type": "execute_result"
    }
   ],
   "source": [
    "predictors = wine_data.columns.drop('quality')\n",
    "predictors"
   ]
  },
  {
   "cell_type": "code",
   "execution_count": 105,
   "id": "23df32b9",
   "metadata": {},
   "outputs": [
    {
     "name": "stdout",
     "output_type": "stream",
     "text": [
      "<class 'pandas.core.series.Series'>\n",
      "RangeIndex: 1599 entries, 0 to 1598\n",
      "Series name: quality\n",
      "Non-Null Count  Dtype   \n",
      "--------------  -----   \n",
      "1599 non-null   category\n",
      "dtypes: category(1)\n",
      "memory usage: 1.9 KB\n"
     ]
    }
   ],
   "source": [
    "# - converting 'quality' variable which is numerical into ordered categorical\n",
    "wine_data['quality'] = wine_data['quality'].astype(pd.CategoricalDtype(ordered=True))\n",
    "wine_data['quality'].info()"
   ]
  },
  {
   "cell_type": "code",
   "execution_count": 106,
   "id": "e654e8ea",
   "metadata": {},
   "outputs": [
    {
     "data": {
      "text/plain": [
       "0    5\n",
       "1    5\n",
       "2    5\n",
       "3    6\n",
       "4    5\n",
       "Name: quality, dtype: category\n",
       "Categories (6, int64): [3 < 4 < 5 < 6 < 7 < 8]"
      ]
     },
     "execution_count": 106,
     "metadata": {},
     "output_type": "execute_result"
    }
   ],
   "source": [
    "wine_data['quality'].head()"
   ]
  },
  {
   "cell_type": "code",
   "execution_count": 107,
   "id": "936f4b58",
   "metadata": {},
   "outputs": [
    {
     "data": {
      "text/plain": [
       "5    681\n",
       "6    638\n",
       "7    199\n",
       "4     53\n",
       "8     18\n",
       "3     10\n",
       "Name: quality, dtype: int64"
      ]
     },
     "execution_count": 107,
     "metadata": {},
     "output_type": "execute_result"
    }
   ],
   "source": [
    "wine_data['quality'].value_counts()"
   ]
  },
  {
   "cell_type": "code",
   "execution_count": 108,
   "id": "9cd8440d",
   "metadata": {},
   "outputs": [],
   "source": [
    "### --- Preparing the variables \n",
    "\n",
    "# - feature matrix\n",
    "X = wine_data.drop(columns='quality')\n",
    "# - we append a constant column of ones to the feature matrix\n",
    "X = sm.add_constant(X)\n",
    "\n",
    "# - target vector\n",
    "y = wine_data['quality']"
   ]
  },
  {
   "cell_type": "code",
   "execution_count": 109,
   "id": "cf57a0c0",
   "metadata": {},
   "outputs": [
    {
     "name": "stdout",
     "output_type": "stream",
     "text": [
      "Optimization terminated successfully.\n",
      "         Current function value: 0.913760\n",
      "         Iterations: 46\n",
      "         Function evaluations: 78\n",
      "         Gradient evaluations: 78\n",
      "         Hessian evaluations: 46\n"
     ]
    },
    {
     "data": {
      "text/html": [
       "<table class=\"simpletable\">\n",
       "<caption>MNLogit Regression Results</caption>\n",
       "<tr>\n",
       "  <th>Dep. Variable:</th>        <td>quality</td>     <th>  No. Observations:  </th>   <td>  1599</td>  \n",
       "</tr>\n",
       "<tr>\n",
       "  <th>Model:</th>                <td>MNLogit</td>     <th>  Df Residuals:      </th>   <td>  1539</td>  \n",
       "</tr>\n",
       "<tr>\n",
       "  <th>Method:</th>                 <td>MLE</td>       <th>  Df Model:          </th>   <td>    55</td>  \n",
       "</tr>\n",
       "<tr>\n",
       "  <th>Date:</th>            <td>Mon, 24 Apr 2023</td> <th>  Pseudo R-squ.:     </th>   <td>0.2287</td>  \n",
       "</tr>\n",
       "<tr>\n",
       "  <th>Time:</th>                <td>17:41:18</td>     <th>  Log-Likelihood:    </th>  <td> -1461.1</td> \n",
       "</tr>\n",
       "<tr>\n",
       "  <th>converged:</th>             <td>True</td>       <th>  LL-Null:           </th>  <td> -1894.2</td> \n",
       "</tr>\n",
       "<tr>\n",
       "  <th>Covariance Type:</th>     <td>nonrobust</td>    <th>  LLR p-value:       </th> <td>2.987e-146</td>\n",
       "</tr>\n",
       "</table>\n",
       "<table class=\"simpletable\">\n",
       "<tr>\n",
       "        <th>quality=4</th>         <th>coef</th>     <th>std err</th>      <th>z</th>      <th>P>|z|</th>  <th>[0.025</th>    <th>0.975]</th>  \n",
       "</tr>\n",
       "<tr>\n",
       "  <th>const</th>                <td>  150.7854</td> <td>  547.752</td> <td>    0.275</td> <td> 0.783</td> <td> -922.789</td> <td> 1224.360</td>\n",
       "</tr>\n",
       "<tr>\n",
       "  <th>fixed acidity</th>        <td>   -0.6119</td> <td>    0.688</td> <td>   -0.889</td> <td> 0.374</td> <td>   -1.961</td> <td>    0.737</td>\n",
       "</tr>\n",
       "<tr>\n",
       "  <th>volatile acidity</th>     <td>   -4.8509</td> <td>    2.448</td> <td>   -1.981</td> <td> 0.048</td> <td>   -9.649</td> <td>   -0.052</td>\n",
       "</tr>\n",
       "<tr>\n",
       "  <th>citric acid</th>          <td>   -2.3627</td> <td>    4.063</td> <td>   -0.581</td> <td> 0.561</td> <td>  -10.326</td> <td>    5.601</td>\n",
       "</tr>\n",
       "<tr>\n",
       "  <th>residual sugar</th>       <td>    0.1666</td> <td>    0.312</td> <td>    0.533</td> <td> 0.594</td> <td>   -0.446</td> <td>    0.779</td>\n",
       "</tr>\n",
       "<tr>\n",
       "  <th>chlorides</th>            <td>  -10.3956</td> <td>    7.560</td> <td>   -1.375</td> <td> 0.169</td> <td>  -25.212</td> <td>    4.421</td>\n",
       "</tr>\n",
       "<tr>\n",
       "  <th>free sulfur dioxide</th>  <td>   -0.1601</td> <td>    0.091</td> <td>   -1.757</td> <td> 0.079</td> <td>   -0.339</td> <td>    0.018</td>\n",
       "</tr>\n",
       "<tr>\n",
       "  <th>total sulfur dioxide</th> <td>    0.0839</td> <td>    0.050</td> <td>    1.678</td> <td> 0.093</td> <td>   -0.014</td> <td>    0.182</td>\n",
       "</tr>\n",
       "<tr>\n",
       "  <th>density</th>              <td> -131.9670</td> <td>  557.829</td> <td>   -0.237</td> <td> 0.813</td> <td>-1225.292</td> <td>  961.358</td>\n",
       "</tr>\n",
       "<tr>\n",
       "  <th>pH</th>                   <td>   -7.1129</td> <td>    5.073</td> <td>   -1.402</td> <td> 0.161</td> <td>  -17.056</td> <td>    2.831</td>\n",
       "</tr>\n",
       "<tr>\n",
       "  <th>sulphates</th>            <td>    1.1854</td> <td>    3.746</td> <td>    0.316</td> <td> 0.752</td> <td>   -6.156</td> <td>    8.527</td>\n",
       "</tr>\n",
       "<tr>\n",
       "  <th>alcohol</th>              <td>    1.5048</td> <td>    0.877</td> <td>    1.715</td> <td> 0.086</td> <td>   -0.215</td> <td>    3.225</td>\n",
       "</tr>\n",
       "<tr>\n",
       "        <th>quality=5</th>         <th>coef</th>     <th>std err</th>      <th>z</th>      <th>P>|z|</th>  <th>[0.025</th>    <th>0.975]</th>  \n",
       "</tr>\n",
       "<tr>\n",
       "  <th>const</th>                <td> -104.0851</td> <td>  522.960</td> <td>   -0.199</td> <td> 0.842</td> <td>-1129.067</td> <td>  920.897</td>\n",
       "</tr>\n",
       "<tr>\n",
       "  <th>fixed acidity</th>        <td>   -0.9018</td> <td>    0.651</td> <td>   -1.386</td> <td> 0.166</td> <td>   -2.177</td> <td>    0.373</td>\n",
       "</tr>\n",
       "<tr>\n",
       "  <th>volatile acidity</th>     <td>   -7.8053</td> <td>    2.408</td> <td>   -3.241</td> <td> 0.001</td> <td>  -12.525</td> <td>   -3.086</td>\n",
       "</tr>\n",
       "<tr>\n",
       "  <th>citric acid</th>          <td>   -2.7974</td> <td>    3.904</td> <td>   -0.716</td> <td> 0.474</td> <td>  -10.450</td> <td>    4.855</td>\n",
       "</tr>\n",
       "<tr>\n",
       "  <th>residual sugar</th>       <td>   -0.1348</td> <td>    0.298</td> <td>   -0.453</td> <td> 0.651</td> <td>   -0.719</td> <td>    0.449</td>\n",
       "</tr>\n",
       "<tr>\n",
       "  <th>chlorides</th>            <td>  -12.8486</td> <td>    6.884</td> <td>   -1.867</td> <td> 0.062</td> <td>  -26.340</td> <td>    0.643</td>\n",
       "</tr>\n",
       "<tr>\n",
       "  <th>free sulfur dioxide</th>  <td>   -0.1366</td> <td>    0.088</td> <td>   -1.545</td> <td> 0.122</td> <td>   -0.310</td> <td>    0.037</td>\n",
       "</tr>\n",
       "<tr>\n",
       "  <th>total sulfur dioxide</th> <td>    0.0994</td> <td>    0.049</td> <td>    2.011</td> <td> 0.044</td> <td>    0.003</td> <td>    0.196</td>\n",
       "</tr>\n",
       "<tr>\n",
       "  <th>density</th>              <td>  143.4813</td> <td>  532.630</td> <td>    0.269</td> <td> 0.788</td> <td> -900.455</td> <td> 1187.417</td>\n",
       "</tr>\n",
       "<tr>\n",
       "  <th>pH</th>                   <td>  -10.8172</td> <td>    4.888</td> <td>   -2.213</td> <td> 0.027</td> <td>  -20.398</td> <td>   -1.237</td>\n",
       "</tr>\n",
       "<tr>\n",
       "  <th>sulphates</th>            <td>    0.9416</td> <td>    3.538</td> <td>    0.266</td> <td> 0.790</td> <td>   -5.994</td> <td>    7.877</td>\n",
       "</tr>\n",
       "<tr>\n",
       "  <th>alcohol</th>              <td>    1.4625</td> <td>    0.852</td> <td>    1.717</td> <td> 0.086</td> <td>   -0.207</td> <td>    3.132</td>\n",
       "</tr>\n",
       "<tr>\n",
       "        <th>quality=6</th>         <th>coef</th>     <th>std err</th>      <th>z</th>      <th>P>|z|</th>  <th>[0.025</th>    <th>0.975]</th>  \n",
       "</tr>\n",
       "<tr>\n",
       "  <th>const</th>                <td>  -71.9561</td> <td>  524.277</td> <td>   -0.137</td> <td> 0.891</td> <td>-1099.519</td> <td>  955.607</td>\n",
       "</tr>\n",
       "<tr>\n",
       "  <th>fixed acidity</th>        <td>   -0.7707</td> <td>    0.651</td> <td>   -1.184</td> <td> 0.236</td> <td>   -2.046</td> <td>    0.505</td>\n",
       "</tr>\n",
       "<tr>\n",
       "  <th>volatile acidity</th>     <td>  -10.4437</td> <td>    2.432</td> <td>   -4.294</td> <td> 0.000</td> <td>  -15.211</td> <td>   -5.676</td>\n",
       "</tr>\n",
       "<tr>\n",
       "  <th>citric acid</th>          <td>   -4.0991</td> <td>    3.919</td> <td>   -1.046</td> <td> 0.296</td> <td>  -11.780</td> <td>    3.581</td>\n",
       "</tr>\n",
       "<tr>\n",
       "  <th>residual sugar</th>       <td>   -0.0872</td> <td>    0.299</td> <td>   -0.291</td> <td> 0.771</td> <td>   -0.674</td> <td>    0.499</td>\n",
       "</tr>\n",
       "<tr>\n",
       "  <th>chlorides</th>            <td>  -15.5298</td> <td>    6.965</td> <td>   -2.230</td> <td> 0.026</td> <td>  -29.181</td> <td>   -1.879</td>\n",
       "</tr>\n",
       "<tr>\n",
       "  <th>free sulfur dioxide</th>  <td>   -0.1152</td> <td>    0.088</td> <td>   -1.303</td> <td> 0.193</td> <td>   -0.289</td> <td>    0.058</td>\n",
       "</tr>\n",
       "<tr>\n",
       "  <th>total sulfur dioxide</th> <td>    0.0831</td> <td>    0.049</td> <td>    1.680</td> <td> 0.093</td> <td>   -0.014</td> <td>    0.180</td>\n",
       "</tr>\n",
       "<tr>\n",
       "  <th>density</th>              <td>  102.7745</td> <td>  533.925</td> <td>    0.192</td> <td> 0.847</td> <td> -943.699</td> <td> 1149.248</td>\n",
       "</tr>\n",
       "<tr>\n",
       "  <th>pH</th>                   <td>  -10.8040</td> <td>    4.895</td> <td>   -2.207</td> <td> 0.027</td> <td>  -20.397</td> <td>   -1.211</td>\n",
       "</tr>\n",
       "<tr>\n",
       "  <th>sulphates</th>            <td>    3.3265</td> <td>    3.547</td> <td>    0.938</td> <td> 0.348</td> <td>   -3.625</td> <td>   10.278</td>\n",
       "</tr>\n",
       "<tr>\n",
       "  <th>alcohol</th>              <td>    2.2466</td> <td>    0.854</td> <td>    2.631</td> <td> 0.009</td> <td>    0.573</td> <td>    3.920</td>\n",
       "</tr>\n",
       "<tr>\n",
       "        <th>quality=7</th>         <th>coef</th>     <th>std err</th>      <th>z</th>      <th>P>|z|</th>  <th>[0.025</th>    <th>0.975]</th>  \n",
       "</tr>\n",
       "<tr>\n",
       "  <th>const</th>                <td>  110.3545</td> <td>  532.965</td> <td>    0.207</td> <td> 0.836</td> <td> -934.239</td> <td> 1154.947</td>\n",
       "</tr>\n",
       "<tr>\n",
       "  <th>fixed acidity</th>        <td>   -0.5539</td> <td>    0.660</td> <td>   -0.840</td> <td> 0.401</td> <td>   -1.847</td> <td>    0.739</td>\n",
       "</tr>\n",
       "<tr>\n",
       "  <th>volatile acidity</th>     <td>  -12.4942</td> <td>    2.548</td> <td>   -4.904</td> <td> 0.000</td> <td>  -17.488</td> <td>   -7.501</td>\n",
       "</tr>\n",
       "<tr>\n",
       "  <th>citric acid</th>          <td>   -3.4084</td> <td>    3.994</td> <td>   -0.853</td> <td> 0.393</td> <td>  -11.236</td> <td>    4.419</td>\n",
       "</tr>\n",
       "<tr>\n",
       "  <th>residual sugar</th>       <td>    0.1293</td> <td>    0.306</td> <td>    0.423</td> <td> 0.672</td> <td>   -0.470</td> <td>    0.729</td>\n",
       "</tr>\n",
       "<tr>\n",
       "  <th>chlorides</th>            <td>  -22.5771</td> <td>    7.679</td> <td>   -2.940</td> <td> 0.003</td> <td>  -37.628</td> <td>   -7.526</td>\n",
       "</tr>\n",
       "<tr>\n",
       "  <th>free sulfur dioxide</th>  <td>   -0.1129</td> <td>    0.089</td> <td>   -1.266</td> <td> 0.205</td> <td>   -0.288</td> <td>    0.062</td>\n",
       "</tr>\n",
       "<tr>\n",
       "  <th>total sulfur dioxide</th> <td>    0.0730</td> <td>    0.050</td> <td>    1.469</td> <td> 0.142</td> <td>   -0.024</td> <td>    0.170</td>\n",
       "</tr>\n",
       "<tr>\n",
       "  <th>density</th>              <td>  -91.5019</td> <td>  542.825</td> <td>   -0.169</td> <td> 0.866</td> <td>-1155.420</td> <td>  972.416</td>\n",
       "</tr>\n",
       "<tr>\n",
       "  <th>pH</th>                   <td>  -10.4309</td> <td>    4.977</td> <td>   -2.096</td> <td> 0.036</td> <td>  -20.186</td> <td>   -0.676</td>\n",
       "</tr>\n",
       "<tr>\n",
       "  <th>sulphates</th>            <td>    6.1363</td> <td>    3.581</td> <td>    1.714</td> <td> 0.087</td> <td>   -0.882</td> <td>   13.154</td>\n",
       "</tr>\n",
       "<tr>\n",
       "  <th>alcohol</th>              <td>    2.7929</td> <td>    0.862</td> <td>    3.239</td> <td> 0.001</td> <td>    1.103</td> <td>    4.483</td>\n",
       "</tr>\n",
       "<tr>\n",
       "        <th>quality=8</th>         <th>coef</th>     <th>std err</th>      <th>z</th>      <th>P>|z|</th>  <th>[0.025</th>    <th>0.975]</th>  \n",
       "</tr>\n",
       "<tr>\n",
       "  <th>const</th>                <td>   16.4134</td> <td>  622.164</td> <td>    0.026</td> <td> 0.979</td> <td>-1203.006</td> <td> 1235.832</td>\n",
       "</tr>\n",
       "<tr>\n",
       "  <th>fixed acidity</th>        <td>   -1.0994</td> <td>    0.764</td> <td>   -1.440</td> <td> 0.150</td> <td>   -2.596</td> <td>    0.397</td>\n",
       "</tr>\n",
       "<tr>\n",
       "  <th>volatile acidity</th>     <td>   -8.7279</td> <td>    3.354</td> <td>   -2.602</td> <td> 0.009</td> <td>  -15.301</td> <td>   -2.155</td>\n",
       "</tr>\n",
       "<tr>\n",
       "  <th>citric acid</th>          <td>   -0.5451</td> <td>    4.662</td> <td>   -0.117</td> <td> 0.907</td> <td>   -9.683</td> <td>    8.593</td>\n",
       "</tr>\n",
       "<tr>\n",
       "  <th>residual sugar</th>       <td>   -0.0568</td> <td>    0.426</td> <td>   -0.133</td> <td> 0.894</td> <td>   -0.892</td> <td>    0.779</td>\n",
       "</tr>\n",
       "<tr>\n",
       "  <th>chlorides</th>            <td>  -47.4693</td> <td>   17.779</td> <td>   -2.670</td> <td> 0.008</td> <td>  -82.315</td> <td>  -12.624</td>\n",
       "</tr>\n",
       "<tr>\n",
       "  <th>free sulfur dioxide</th>  <td>   -0.1051</td> <td>    0.096</td> <td>   -1.089</td> <td> 0.276</td> <td>   -0.294</td> <td>    0.084</td>\n",
       "</tr>\n",
       "<tr>\n",
       "  <th>total sulfur dioxide</th> <td>    0.0569</td> <td>    0.052</td> <td>    1.093</td> <td> 0.274</td> <td>   -0.045</td> <td>    0.159</td>\n",
       "</tr>\n",
       "<tr>\n",
       "  <th>density</th>              <td>   15.5386</td> <td>  634.354</td> <td>    0.024</td> <td> 0.980</td> <td>-1227.772</td> <td> 1258.849</td>\n",
       "</tr>\n",
       "<tr>\n",
       "  <th>pH</th>                   <td>  -16.6706</td> <td>    5.867</td> <td>   -2.842</td> <td> 0.004</td> <td>  -28.169</td> <td>   -5.172</td>\n",
       "</tr>\n",
       "<tr>\n",
       "  <th>sulphates</th>            <td>    7.9065</td> <td>    3.853</td> <td>    2.052</td> <td> 0.040</td> <td>    0.355</td> <td>   15.458</td>\n",
       "</tr>\n",
       "<tr>\n",
       "  <th>alcohol</th>              <td>    3.5475</td> <td>    0.953</td> <td>    3.722</td> <td> 0.000</td> <td>    1.679</td> <td>    5.416</td>\n",
       "</tr>\n",
       "</table>"
      ],
      "text/plain": [
       "<class 'statsmodels.iolib.summary.Summary'>\n",
       "\"\"\"\n",
       "                          MNLogit Regression Results                          \n",
       "==============================================================================\n",
       "Dep. Variable:                quality   No. Observations:                 1599\n",
       "Model:                        MNLogit   Df Residuals:                     1539\n",
       "Method:                           MLE   Df Model:                           55\n",
       "Date:                Mon, 24 Apr 2023   Pseudo R-squ.:                  0.2287\n",
       "Time:                        17:41:18   Log-Likelihood:                -1461.1\n",
       "converged:                       True   LL-Null:                       -1894.2\n",
       "Covariance Type:            nonrobust   LLR p-value:                2.987e-146\n",
       "========================================================================================\n",
       "           quality=4       coef    std err          z      P>|z|      [0.025      0.975]\n",
       "----------------------------------------------------------------------------------------\n",
       "const                  150.7854    547.752      0.275      0.783    -922.789    1224.360\n",
       "fixed acidity           -0.6119      0.688     -0.889      0.374      -1.961       0.737\n",
       "volatile acidity        -4.8509      2.448     -1.981      0.048      -9.649      -0.052\n",
       "citric acid             -2.3627      4.063     -0.581      0.561     -10.326       5.601\n",
       "residual sugar           0.1666      0.312      0.533      0.594      -0.446       0.779\n",
       "chlorides              -10.3956      7.560     -1.375      0.169     -25.212       4.421\n",
       "free sulfur dioxide     -0.1601      0.091     -1.757      0.079      -0.339       0.018\n",
       "total sulfur dioxide     0.0839      0.050      1.678      0.093      -0.014       0.182\n",
       "density               -131.9670    557.829     -0.237      0.813   -1225.292     961.358\n",
       "pH                      -7.1129      5.073     -1.402      0.161     -17.056       2.831\n",
       "sulphates                1.1854      3.746      0.316      0.752      -6.156       8.527\n",
       "alcohol                  1.5048      0.877      1.715      0.086      -0.215       3.225\n",
       "----------------------------------------------------------------------------------------\n",
       "           quality=5       coef    std err          z      P>|z|      [0.025      0.975]\n",
       "----------------------------------------------------------------------------------------\n",
       "const                 -104.0851    522.960     -0.199      0.842   -1129.067     920.897\n",
       "fixed acidity           -0.9018      0.651     -1.386      0.166      -2.177       0.373\n",
       "volatile acidity        -7.8053      2.408     -3.241      0.001     -12.525      -3.086\n",
       "citric acid             -2.7974      3.904     -0.716      0.474     -10.450       4.855\n",
       "residual sugar          -0.1348      0.298     -0.453      0.651      -0.719       0.449\n",
       "chlorides              -12.8486      6.884     -1.867      0.062     -26.340       0.643\n",
       "free sulfur dioxide     -0.1366      0.088     -1.545      0.122      -0.310       0.037\n",
       "total sulfur dioxide     0.0994      0.049      2.011      0.044       0.003       0.196\n",
       "density                143.4813    532.630      0.269      0.788    -900.455    1187.417\n",
       "pH                     -10.8172      4.888     -2.213      0.027     -20.398      -1.237\n",
       "sulphates                0.9416      3.538      0.266      0.790      -5.994       7.877\n",
       "alcohol                  1.4625      0.852      1.717      0.086      -0.207       3.132\n",
       "----------------------------------------------------------------------------------------\n",
       "           quality=6       coef    std err          z      P>|z|      [0.025      0.975]\n",
       "----------------------------------------------------------------------------------------\n",
       "const                  -71.9561    524.277     -0.137      0.891   -1099.519     955.607\n",
       "fixed acidity           -0.7707      0.651     -1.184      0.236      -2.046       0.505\n",
       "volatile acidity       -10.4437      2.432     -4.294      0.000     -15.211      -5.676\n",
       "citric acid             -4.0991      3.919     -1.046      0.296     -11.780       3.581\n",
       "residual sugar          -0.0872      0.299     -0.291      0.771      -0.674       0.499\n",
       "chlorides              -15.5298      6.965     -2.230      0.026     -29.181      -1.879\n",
       "free sulfur dioxide     -0.1152      0.088     -1.303      0.193      -0.289       0.058\n",
       "total sulfur dioxide     0.0831      0.049      1.680      0.093      -0.014       0.180\n",
       "density                102.7745    533.925      0.192      0.847    -943.699    1149.248\n",
       "pH                     -10.8040      4.895     -2.207      0.027     -20.397      -1.211\n",
       "sulphates                3.3265      3.547      0.938      0.348      -3.625      10.278\n",
       "alcohol                  2.2466      0.854      2.631      0.009       0.573       3.920\n",
       "----------------------------------------------------------------------------------------\n",
       "           quality=7       coef    std err          z      P>|z|      [0.025      0.975]\n",
       "----------------------------------------------------------------------------------------\n",
       "const                  110.3545    532.965      0.207      0.836    -934.239    1154.947\n",
       "fixed acidity           -0.5539      0.660     -0.840      0.401      -1.847       0.739\n",
       "volatile acidity       -12.4942      2.548     -4.904      0.000     -17.488      -7.501\n",
       "citric acid             -3.4084      3.994     -0.853      0.393     -11.236       4.419\n",
       "residual sugar           0.1293      0.306      0.423      0.672      -0.470       0.729\n",
       "chlorides              -22.5771      7.679     -2.940      0.003     -37.628      -7.526\n",
       "free sulfur dioxide     -0.1129      0.089     -1.266      0.205      -0.288       0.062\n",
       "total sulfur dioxide     0.0730      0.050      1.469      0.142      -0.024       0.170\n",
       "density                -91.5019    542.825     -0.169      0.866   -1155.420     972.416\n",
       "pH                     -10.4309      4.977     -2.096      0.036     -20.186      -0.676\n",
       "sulphates                6.1363      3.581      1.714      0.087      -0.882      13.154\n",
       "alcohol                  2.7929      0.862      3.239      0.001       1.103       4.483\n",
       "----------------------------------------------------------------------------------------\n",
       "           quality=8       coef    std err          z      P>|z|      [0.025      0.975]\n",
       "----------------------------------------------------------------------------------------\n",
       "const                   16.4134    622.164      0.026      0.979   -1203.006    1235.832\n",
       "fixed acidity           -1.0994      0.764     -1.440      0.150      -2.596       0.397\n",
       "volatile acidity        -8.7279      3.354     -2.602      0.009     -15.301      -2.155\n",
       "citric acid             -0.5451      4.662     -0.117      0.907      -9.683       8.593\n",
       "residual sugar          -0.0568      0.426     -0.133      0.894      -0.892       0.779\n",
       "chlorides              -47.4693     17.779     -2.670      0.008     -82.315     -12.624\n",
       "free sulfur dioxide     -0.1051      0.096     -1.089      0.276      -0.294       0.084\n",
       "total sulfur dioxide     0.0569      0.052      1.093      0.274      -0.045       0.159\n",
       "density                 15.5386    634.354      0.024      0.980   -1227.772    1258.849\n",
       "pH                     -16.6706      5.867     -2.842      0.004     -28.169      -5.172\n",
       "sulphates                7.9065      3.853      2.052      0.040       0.355      15.458\n",
       "alcohol                  3.5475      0.953      3.722      0.000       1.679       5.416\n",
       "========================================================================================\n",
       "\"\"\""
      ]
     },
     "execution_count": 109,
     "metadata": {},
     "output_type": "execute_result"
    }
   ],
   "source": [
    "# - fitting the MNR model to the data; we use the Newton's Conjugate Gradient method as the optimizer to compute the\n",
    "#models coefficients\n",
    "mnr_model = sm.MNLogit(exog=X, endog=y).fit(method='ncg', maxiter=100)\n",
    "mnr_model.summary()"
   ]
  },
  {
   "cell_type": "code",
   "execution_count": 110,
   "id": "a8403c9c",
   "metadata": {},
   "outputs": [
    {
     "data": {
      "text/plain": [
       "array([[  2.,   0.,   7.,   1.,   0.,   0.],\n",
       "       [  1.,   1.,  34.,  15.,   2.,   0.],\n",
       "       [  2.,   0., 514., 159.,   6.,   0.],\n",
       "       [  0.,   0., 207., 391.,  40.,   0.],\n",
       "       [  0.,   0.,  13., 120.,  66.,   0.],\n",
       "       [  0.,   0.,   0.,  10.,   8.,   0.]])"
      ]
     },
     "execution_count": 110,
     "metadata": {},
     "output_type": "execute_result"
    }
   ],
   "source": [
    "# - confusion matrix for the model prdictions; ordering of rows/columns correspond to the oredering of the classes\n",
    "conf_matrix = mnr_model.pred_table()\n",
    "conf_matrix"
   ]
  },
  {
   "cell_type": "code",
   "execution_count": 111,
   "id": "c13504a8",
   "metadata": {},
   "outputs": [
    {
     "data": {
      "text/plain": [
       "0.6091307066916823"
      ]
     },
     "execution_count": 111,
     "metadata": {},
     "output_type": "execute_result"
    }
   ],
   "source": [
    "# - accuracy of the model\n",
    "mnr_acc = np.sum(np.diag(conf_matrix))/np.sum(conf_matrix)\n",
    "mnr_acc"
   ]
  },
  {
   "cell_type": "markdown",
   "id": "b4baf32e",
   "metadata": {},
   "source": [
    "### Ridge (L2) Regularization"
   ]
  },
  {
   "cell_type": "markdown",
   "id": "7a41f88c",
   "metadata": {},
   "source": [
    "Now we are going to use scikit-learn to perform *Regularized* Multinomial Logistic Regression; we'll be using the Ridge Regression. \n",
    "\n",
    "The Ridge Regression model is obtained by minimizing the function\n",
    "\n",
    "$$-C\\cdot LL + \\frac{1}{2}L_2^2,$$\n",
    "\n",
    "where $LL$ is Log-Likelihood of the 'ordinary' MNR, and $L_2^2$ is the squared *Frobenius norm* of model parameters matrix $W$:\n",
    "\n",
    "$$L_2^2 = ||W||_F^2 = \\sum_{i=1}^k\\sum_{j=1}^K(\\beta_i^{(j)})^2;$$\n",
    "\n",
    "$k$ is the number of predictors, $K$ number of categories of the targert variable, and $\\beta_i^{(j)}$ are model parameters. $C$ is the *Regularization (hyper)parameter* and it the invers of penalization hyperparameter $\\alpha$."
   ]
  },
  {
   "cell_type": "code",
   "execution_count": 112,
   "id": "eed2b356",
   "metadata": {},
   "outputs": [],
   "source": [
    "# - import scikit-learn\n",
    "from sklearn.linear_model import LogisticRegression\n",
    "from sklearn.metrics import confusion_matrix"
   ]
  },
  {
   "cell_type": "code",
   "execution_count": 113,
   "id": "102c9b04",
   "metadata": {},
   "outputs": [],
   "source": [
    "### --- Preparing the variables \n",
    "\n",
    "# - feature matrix\n",
    "X = wine_data.drop(columns='quality').values\n",
    "\n",
    "# - target variable\n",
    "y = wine_data['quality']"
   ]
  },
  {
   "cell_type": "code",
   "execution_count": 114,
   "id": "4e78ed7f",
   "metadata": {},
   "outputs": [
    {
     "data": {
      "text/html": [
       "<style>#sk-container-id-4 {color: black;background-color: white;}#sk-container-id-4 pre{padding: 0;}#sk-container-id-4 div.sk-toggleable {background-color: white;}#sk-container-id-4 label.sk-toggleable__label {cursor: pointer;display: block;width: 100%;margin-bottom: 0;padding: 0.3em;box-sizing: border-box;text-align: center;}#sk-container-id-4 label.sk-toggleable__label-arrow:before {content: \"▸\";float: left;margin-right: 0.25em;color: #696969;}#sk-container-id-4 label.sk-toggleable__label-arrow:hover:before {color: black;}#sk-container-id-4 div.sk-estimator:hover label.sk-toggleable__label-arrow:before {color: black;}#sk-container-id-4 div.sk-toggleable__content {max-height: 0;max-width: 0;overflow: hidden;text-align: left;background-color: #f0f8ff;}#sk-container-id-4 div.sk-toggleable__content pre {margin: 0.2em;color: black;border-radius: 0.25em;background-color: #f0f8ff;}#sk-container-id-4 input.sk-toggleable__control:checked~div.sk-toggleable__content {max-height: 200px;max-width: 100%;overflow: auto;}#sk-container-id-4 input.sk-toggleable__control:checked~label.sk-toggleable__label-arrow:before {content: \"▾\";}#sk-container-id-4 div.sk-estimator input.sk-toggleable__control:checked~label.sk-toggleable__label {background-color: #d4ebff;}#sk-container-id-4 div.sk-label input.sk-toggleable__control:checked~label.sk-toggleable__label {background-color: #d4ebff;}#sk-container-id-4 input.sk-hidden--visually {border: 0;clip: rect(1px 1px 1px 1px);clip: rect(1px, 1px, 1px, 1px);height: 1px;margin: -1px;overflow: hidden;padding: 0;position: absolute;width: 1px;}#sk-container-id-4 div.sk-estimator {font-family: monospace;background-color: #f0f8ff;border: 1px dotted black;border-radius: 0.25em;box-sizing: border-box;margin-bottom: 0.5em;}#sk-container-id-4 div.sk-estimator:hover {background-color: #d4ebff;}#sk-container-id-4 div.sk-parallel-item::after {content: \"\";width: 100%;border-bottom: 1px solid gray;flex-grow: 1;}#sk-container-id-4 div.sk-label:hover label.sk-toggleable__label {background-color: #d4ebff;}#sk-container-id-4 div.sk-serial::before {content: \"\";position: absolute;border-left: 1px solid gray;box-sizing: border-box;top: 0;bottom: 0;left: 50%;z-index: 0;}#sk-container-id-4 div.sk-serial {display: flex;flex-direction: column;align-items: center;background-color: white;padding-right: 0.2em;padding-left: 0.2em;position: relative;}#sk-container-id-4 div.sk-item {position: relative;z-index: 1;}#sk-container-id-4 div.sk-parallel {display: flex;align-items: stretch;justify-content: center;background-color: white;position: relative;}#sk-container-id-4 div.sk-item::before, #sk-container-id-4 div.sk-parallel-item::before {content: \"\";position: absolute;border-left: 1px solid gray;box-sizing: border-box;top: 0;bottom: 0;left: 50%;z-index: -1;}#sk-container-id-4 div.sk-parallel-item {display: flex;flex-direction: column;z-index: 1;position: relative;background-color: white;}#sk-container-id-4 div.sk-parallel-item:first-child::after {align-self: flex-end;width: 50%;}#sk-container-id-4 div.sk-parallel-item:last-child::after {align-self: flex-start;width: 50%;}#sk-container-id-4 div.sk-parallel-item:only-child::after {width: 0;}#sk-container-id-4 div.sk-dashed-wrapped {border: 1px dashed gray;margin: 0 0.4em 0.5em 0.4em;box-sizing: border-box;padding-bottom: 0.4em;background-color: white;}#sk-container-id-4 div.sk-label label {font-family: monospace;font-weight: bold;display: inline-block;line-height: 1.2em;}#sk-container-id-4 div.sk-label-container {text-align: center;}#sk-container-id-4 div.sk-container {/* jupyter's `normalize.less` sets `[hidden] { display: none; }` but bootstrap.min.css set `[hidden] { display: none !important; }` so we also need the `!important` here to be able to override the default hidden behavior on the sphinx rendered scikit-learn.org. See: https://github.com/scikit-learn/scikit-learn/issues/21755 */display: inline-block !important;position: relative;}#sk-container-id-4 div.sk-text-repr-fallback {display: none;}</style><div id=\"sk-container-id-4\" class=\"sk-top-container\"><div class=\"sk-text-repr-fallback\"><pre>LogisticRegression(C=250, solver=&#x27;newton-cg&#x27;)</pre><b>In a Jupyter environment, please rerun this cell to show the HTML representation or trust the notebook. <br />On GitHub, the HTML representation is unable to render, please try loading this page with nbviewer.org.</b></div><div class=\"sk-container\" hidden><div class=\"sk-item\"><div class=\"sk-estimator sk-toggleable\"><input class=\"sk-toggleable__control sk-hidden--visually\" id=\"sk-estimator-id-4\" type=\"checkbox\" checked><label for=\"sk-estimator-id-4\" class=\"sk-toggleable__label sk-toggleable__label-arrow\">LogisticRegression</label><div class=\"sk-toggleable__content\"><pre>LogisticRegression(C=250, solver=&#x27;newton-cg&#x27;)</pre></div></div></div></div></div>"
      ],
      "text/plain": [
       "LogisticRegression(C=250, solver='newton-cg')"
      ]
     },
     "execution_count": 114,
     "metadata": {},
     "output_type": "execute_result"
    }
   ],
   "source": [
    "### --- Fitting a Ridge MNR Regularized model on the given data, with the regularization parameter C = 250\n",
    "\n",
    "# - NOTE: LogisticRegression from scikit-learn implements L2 regularization BY DEFAULT\n",
    "# - so, you actually don't need to pass 'penalty' parameter in order to implement Ridge Regularization\n",
    "# - if you want to perform MNR without any regularization with scikit-learn, you need to pass 'penalty=none' parameter\n",
    "\n",
    "log_reg = LogisticRegression(solver='newton-cg', penalty='l2', C=250)\n",
    "log_reg.fit(X, y)"
   ]
  },
  {
   "cell_type": "code",
   "execution_count": 115,
   "id": "bb5c110f",
   "metadata": {},
   "outputs": [
    {
     "data": {
      "text/plain": [
       "array([-21.92075208,   1.95548122,   8.43134916,   2.14612481,\n",
       "         2.8028652 ,   6.58493168])"
      ]
     },
     "execution_count": 115,
     "metadata": {},
     "output_type": "execute_result"
    }
   ],
   "source": [
    "# - intercept of the model; entries correspond to the orderdering of the categories in the target variable \n",
    "log_reg.intercept_"
   ]
  },
  {
   "cell_type": "code",
   "execution_count": 116,
   "id": "872c9be8",
   "metadata": {},
   "outputs": [
    {
     "data": {
      "text/plain": [
       "array([[ 6.14803951e-01,  7.56763474e+00,  2.45865287e+00,\n",
       "         1.14608834e-02,  1.40139205e+01,  1.04510711e-01,\n",
       "        -6.66259221e-02,  3.69122587e-01,  8.72678197e+00,\n",
       "        -2.72743545e+00, -1.87880504e+00],\n",
       "       [-1.13518559e-01,  2.80313116e+00,  1.59509973e-01,\n",
       "         1.14656962e-01,  5.27580878e+00, -5.30471209e-02,\n",
       "         1.69277450e-02, -3.07275513e+00,  1.44599702e+00,\n",
       "        -2.27686797e+00, -3.21108286e-01],\n",
       "       [-1.08836596e-01, -2.44317524e-01, -5.78272970e-01,\n",
       "        -7.99026847e-02,  3.61521325e+00, -3.29943230e-02,\n",
       "         3.37384507e-02,  4.80080982e+00, -7.93598622e-01,\n",
       "        -2.17469094e+00, -5.90818556e-01],\n",
       "       [-1.57653049e-02, -2.89753100e+00, -1.86281805e+00,\n",
       "        -4.66663039e-02,  9.91879988e-01, -1.13792937e-02,\n",
       "         1.73276089e-02,  3.33634205e+00, -9.78561474e-01,\n",
       "         1.27877313e-01,  2.27470082e-01],\n",
       "       [ 3.77687787e-02, -5.39289727e+00, -1.43891422e+00,\n",
       "         9.54358594e-02, -6.43978670e+00, -6.89353735e-03,\n",
       "         6.38593128e-03, -5.26050024e+00, -1.53619932e+00,\n",
       "         2.68808375e+00,  9.38377394e-01],\n",
       "       [-4.14452270e-01, -1.83602011e+00,  1.26184239e+00,\n",
       "        -9.49847164e-02, -1.74570359e+01, -1.96435890e-04,\n",
       "        -7.75381413e-03, -1.73019096e-01, -6.86441957e+00,\n",
       "         4.36303330e+00,  1.62488441e+00]])"
      ]
     },
     "execution_count": 116,
     "metadata": {},
     "output_type": "execute_result"
    }
   ],
   "source": [
    "# - coefficents of the model; rows correspond to the ordering of the categories in the target variable;\n",
    "# - columns correspond to the predictors\n",
    "log_reg.coef_"
   ]
  },
  {
   "cell_type": "code",
   "execution_count": 117,
   "id": "bc80c5d7",
   "metadata": {},
   "outputs": [
    {
     "data": {
      "text/plain": [
       "0.610381488430269"
      ]
     },
     "execution_count": 117,
     "metadata": {},
     "output_type": "execute_result"
    }
   ],
   "source": [
    "# - accuracy of Ridge Regularization\n",
    "log_reg.score(X, y)"
   ]
  },
  {
   "cell_type": "code",
   "execution_count": 118,
   "id": "ceb7c093",
   "metadata": {},
   "outputs": [
    {
     "data": {
      "text/plain": [
       "0.6091307066916823"
      ]
     },
     "execution_count": 118,
     "metadata": {},
     "output_type": "execute_result"
    }
   ],
   "source": [
    "# - accuracy of statsmodel's MNR model without the regularization\n",
    "mnr_acc"
   ]
  },
  {
   "cell_type": "code",
   "execution_count": 119,
   "id": "e9ff8b36",
   "metadata": {},
   "outputs": [],
   "source": [
    "### --- Varying the regularization parameter for the Ridge Regularized Model\n",
    "n_Cs = 25\n",
    "Cs = np.linspace(1e-2, 500, n_Cs)\n",
    "\n",
    "l2_coefs = []\n",
    "accuracies = []\n",
    "frob_norms_matrix = []\n",
    "for C in Cs:\n",
    "    \n",
    "    # - fitting a Ridge Regularization\n",
    "    ridge = LogisticRegression(solver='newton-cg', C=C, max_iter=1000)\n",
    "    ridge.fit(X, y)\n",
    "    \n",
    "    # - squared L2 norm of model coefficients vectors for each category\n",
    "    l2_c = np.linalg.norm(ridge.coef_, ord=2, axis=0)**2\n",
    "    \n",
    "    # - accuracy of a fitted Regularized Model\n",
    "    acc = ridge.score(X, y)\n",
    "    \n",
    "    # - squared Frobenius norm of model coefficient matrix\n",
    "    frob = np.linalg.norm(ridge.coef_, ord=2)**2\n",
    "    \n",
    "    l2_coefs.append(l2_c)\n",
    "    accuracies.append(acc)\n",
    "    frob_norms_matrix.append(frob)"
   ]
  },
  {
   "cell_type": "code",
   "execution_count": 120,
   "id": "0a6f036e",
   "metadata": {},
   "outputs": [
    {
     "data": {
      "image/png": "[encoded data removed]",
      "text/plain": [
       "<Figure size 576x432 with 1 Axes>"
      ]
     },
     "metadata": {},
     "output_type": "display_data"
    }
   ],
   "source": [
    "### --- Plotting the dependence of model parameters vs. the regularization hyperparameter\n",
    "ax = plt.gca()\n",
    "\n",
    "ax.plot(Cs, l2_coefs)\n",
    "ax.axvline(x=1, c='r', ls='--') # red line, corresponding to C = 0\n",
    "ax.axvline(x=250, c='g', ls='--') # green line, corresponding to C = 250\n",
    "plt.xlabel(\"C\")\n",
    "plt.ylabel(\"weights\")\n",
    "plt.title(\"Ridge coefficients as a function of the regularization\")\n",
    "plt.axis(\"tight\")\n",
    "plt.legend(predictors)\n",
    "plt.show()"
   ]
  },
  {
   "cell_type": "code",
   "execution_count": 121,
   "id": "b6b89c80",
   "metadata": {},
   "outputs": [
    {
     "data": {
      "image/png": "[encoded data removed]",
      "text/plain": [
       "<Figure size 1152x432 with 2 Axes>"
      ]
     },
     "metadata": {},
     "output_type": "display_data"
    }
   ],
   "source": [
    "### --- Plotting the dependance of various model metrics vs. the regularization hyperparameter\n",
    "ig, ax = plt.subplots(1, 2, figsize=(16, 6), sharex=True)\n",
    "\n",
    "\n",
    "# - squared Frobenius vs. C\n",
    "ax[0].plot(Cs, frob_norms_matrix)\n",
    "ax[0].axvline(x=1, c='r', ls='--') # red line, corresponding to C = 1\n",
    "ax[0].axvline(x=250, c='g', ls='--') # green line, corresponding to C = 250\n",
    "ax[0].set_xlabel(\"C\")\n",
    "ax[0].set_ylabel(\"Frob. norm$^2$\")\n",
    "ax[0].set_title(\"Squared Frobenius norm as a function of the regularization\")\n",
    "ax[0].axis(\"tight\")\n",
    "\n",
    "# - accuracy vs. C\n",
    "ax[1].plot(Cs, accuracies)\n",
    "ax[1].axvline(x=1, c='r', ls='--') # red line\n",
    "ax[1].axvline(x=250, c='g', ls='--') # green line\n",
    "ax[1].set_xlabel(\"C\")\n",
    "ax[1].set_ylabel(\"Accuracy\")\n",
    "ax[1].set_title(\"Model accuracy as a function of the regularization\")\n",
    "ax[1].axis(\"tight\");"
   ]
  },
  {
   "cell_type": "markdown",
   "id": "cc02d241",
   "metadata": {},
   "source": [
    "From the right graph above, we may assume that for regularization hyperparameter C ~ 12.5 we may obtain a good approximation of the best model."
   ]
  },
  {
   "cell_type": "code",
   "execution_count": 122,
   "id": "1b9b1207",
   "metadata": {},
   "outputs": [
    {
     "data": {
      "text/html": [
       "<style>#sk-container-id-5 {color: black;background-color: white;}#sk-container-id-5 pre{padding: 0;}#sk-container-id-5 div.sk-toggleable {background-color: white;}#sk-container-id-5 label.sk-toggleable__label {cursor: pointer;display: block;width: 100%;margin-bottom: 0;padding: 0.3em;box-sizing: border-box;text-align: center;}#sk-container-id-5 label.sk-toggleable__label-arrow:before {content: \"▸\";float: left;margin-right: 0.25em;color: #696969;}#sk-container-id-5 label.sk-toggleable__label-arrow:hover:before {color: black;}#sk-container-id-5 div.sk-estimator:hover label.sk-toggleable__label-arrow:before {color: black;}#sk-container-id-5 div.sk-toggleable__content {max-height: 0;max-width: 0;overflow: hidden;text-align: left;background-color: #f0f8ff;}#sk-container-id-5 div.sk-toggleable__content pre {margin: 0.2em;color: black;border-radius: 0.25em;background-color: #f0f8ff;}#sk-container-id-5 input.sk-toggleable__control:checked~div.sk-toggleable__content {max-height: 200px;max-width: 100%;overflow: auto;}#sk-container-id-5 input.sk-toggleable__control:checked~label.sk-toggleable__label-arrow:before {content: \"▾\";}#sk-container-id-5 div.sk-estimator input.sk-toggleable__control:checked~label.sk-toggleable__label {background-color: #d4ebff;}#sk-container-id-5 div.sk-label input.sk-toggleable__control:checked~label.sk-toggleable__label {background-color: #d4ebff;}#sk-container-id-5 input.sk-hidden--visually {border: 0;clip: rect(1px 1px 1px 1px);clip: rect(1px, 1px, 1px, 1px);height: 1px;margin: -1px;overflow: hidden;padding: 0;position: absolute;width: 1px;}#sk-container-id-5 div.sk-estimator {font-family: monospace;background-color: #f0f8ff;border: 1px dotted black;border-radius: 0.25em;box-sizing: border-box;margin-bottom: 0.5em;}#sk-container-id-5 div.sk-estimator:hover {background-color: #d4ebff;}#sk-container-id-5 div.sk-parallel-item::after {content: \"\";width: 100%;border-bottom: 1px solid gray;flex-grow: 1;}#sk-container-id-5 div.sk-label:hover label.sk-toggleable__label {background-color: #d4ebff;}#sk-container-id-5 div.sk-serial::before {content: \"\";position: absolute;border-left: 1px solid gray;box-sizing: border-box;top: 0;bottom: 0;left: 50%;z-index: 0;}#sk-container-id-5 div.sk-serial {display: flex;flex-direction: column;align-items: center;background-color: white;padding-right: 0.2em;padding-left: 0.2em;position: relative;}#sk-container-id-5 div.sk-item {position: relative;z-index: 1;}#sk-container-id-5 div.sk-parallel {display: flex;align-items: stretch;justify-content: center;background-color: white;position: relative;}#sk-container-id-5 div.sk-item::before, #sk-container-id-5 div.sk-parallel-item::before {content: \"\";position: absolute;border-left: 1px solid gray;box-sizing: border-box;top: 0;bottom: 0;left: 50%;z-index: -1;}#sk-container-id-5 div.sk-parallel-item {display: flex;flex-direction: column;z-index: 1;position: relative;background-color: white;}#sk-container-id-5 div.sk-parallel-item:first-child::after {align-self: flex-end;width: 50%;}#sk-container-id-5 div.sk-parallel-item:last-child::after {align-self: flex-start;width: 50%;}#sk-container-id-5 div.sk-parallel-item:only-child::after {width: 0;}#sk-container-id-5 div.sk-dashed-wrapped {border: 1px dashed gray;margin: 0 0.4em 0.5em 0.4em;box-sizing: border-box;padding-bottom: 0.4em;background-color: white;}#sk-container-id-5 div.sk-label label {font-family: monospace;font-weight: bold;display: inline-block;line-height: 1.2em;}#sk-container-id-5 div.sk-label-container {text-align: center;}#sk-container-id-5 div.sk-container {/* jupyter's `normalize.less` sets `[hidden] { display: none; }` but bootstrap.min.css set `[hidden] { display: none !important; }` so we also need the `!important` here to be able to override the default hidden behavior on the sphinx rendered scikit-learn.org. See: https://github.com/scikit-learn/scikit-learn/issues/21755 */display: inline-block !important;position: relative;}#sk-container-id-5 div.sk-text-repr-fallback {display: none;}</style><div id=\"sk-container-id-5\" class=\"sk-top-container\"><div class=\"sk-text-repr-fallback\"><pre>LogisticRegression(C=12.5, solver=&#x27;newton-cg&#x27;)</pre><b>In a Jupyter environment, please rerun this cell to show the HTML representation or trust the notebook. <br />On GitHub, the HTML representation is unable to render, please try loading this page with nbviewer.org.</b></div><div class=\"sk-container\" hidden><div class=\"sk-item\"><div class=\"sk-estimator sk-toggleable\"><input class=\"sk-toggleable__control sk-hidden--visually\" id=\"sk-estimator-id-5\" type=\"checkbox\" checked><label for=\"sk-estimator-id-5\" class=\"sk-toggleable__label sk-toggleable__label-arrow\">LogisticRegression</label><div class=\"sk-toggleable__content\"><pre>LogisticRegression(C=12.5, solver=&#x27;newton-cg&#x27;)</pre></div></div></div></div></div>"
      ],
      "text/plain": [
       "LogisticRegression(C=12.5, solver='newton-cg')"
      ]
     },
     "execution_count": 122,
     "metadata": {},
     "output_type": "execute_result"
    }
   ],
   "source": [
    "### --- Fitting an assumed approximation of the best Ridge Regularized model\n",
    "ridge_best = LogisticRegression(C=12.5, solver='newton-cg')\n",
    "ridge_best.fit(X, y)"
   ]
  },
  {
   "cell_type": "code",
   "execution_count": 123,
   "id": "bf4b0b6e",
   "metadata": {},
   "outputs": [
    {
     "data": {
      "text/plain": [
       "array([-5.36870319, -0.40200138, 11.58437309,  3.49235553, -4.55844927,\n",
       "       -4.74757479])"
      ]
     },
     "execution_count": 123,
     "metadata": {},
     "output_type": "execute_result"
    }
   ],
   "source": [
    "ridge_best.intercept_"
   ]
  },
  {
   "cell_type": "code",
   "execution_count": 124,
   "id": "775b193c",
   "metadata": {},
   "outputs": [
    {
     "data": {
      "text/plain": [
       "array([[ 3.45549775e-01,  6.58733940e+00,  1.36310056e+00,\n",
       "         9.23288000e-02,  3.03620804e+00,  8.65226195e-02,\n",
       "        -6.34795536e-02,  2.68289765e-02,  3.83621757e+00,\n",
       "        -1.03498214e+00, -1.53389937e+00],\n",
       "       [-1.28796833e-01,  2.91022314e+00,  4.25363277e-01,\n",
       "         1.16383928e-01,  1.81702215e+00, -4.80549423e-02,\n",
       "         1.45603721e-02, -1.43138264e-01,  1.44750820e+00,\n",
       "        -1.93177259e+00, -3.85766308e-01],\n",
       "       [-8.69221363e-02,  6.00823040e-02, -1.86469471e-01,\n",
       "        -7.78867289e-02,  2.24085323e+00, -2.76364534e-02,\n",
       "         3.12840393e-02,  2.63178557e-01, -2.91219185e-01,\n",
       "        -2.28454575e+00, -6.66343573e-01],\n",
       "       [ 1.11162390e-02, -2.53942397e+00, -1.44085328e+00,\n",
       "        -4.64611861e-02,  2.20915151e-01, -6.14488130e-03,\n",
       "         1.49491281e-02,  1.89260606e-01, -3.73775558e-01,\n",
       "        -1.14570432e-01,  1.55758454e-01],\n",
       "       [ 6.53378941e-02, -5.04475830e+00, -1.07785365e+00,\n",
       "         8.43238762e-02, -4.14733996e+00, -2.33029029e-03,\n",
       "         4.76181586e-03, -3.01191618e-01, -8.08393553e-01,\n",
       "         2.27083839e+00,  8.79433165e-01],\n",
       "       [-2.06284939e-01, -1.97346258e+00,  9.16712559e-01,\n",
       "        -1.68688689e-01, -3.16765861e+00, -2.35605213e-03,\n",
       "        -2.07580181e-03, -3.49382588e-02, -3.81033748e+00,\n",
       "         3.09503252e+00,  1.55081764e+00]])"
      ]
     },
     "execution_count": 124,
     "metadata": {},
     "output_type": "execute_result"
    }
   ],
   "source": [
    "ridge_best.coef_"
   ]
  },
  {
   "cell_type": "code",
   "execution_count": 125,
   "id": "d9287ab9",
   "metadata": {},
   "outputs": [
    {
     "data": {
      "text/plain": [
       "0.6128830519074422"
      ]
     },
     "execution_count": 125,
     "metadata": {},
     "output_type": "execute_result"
    }
   ],
   "source": [
    "# - accuracy of our model\n",
    "ridge_best.score(X, y)"
   ]
  },
  {
   "cell_type": "markdown",
   "id": "37e4a46c",
   "metadata": {},
   "source": [
    "### LASSO (L1) Regularization"
   ]
  },
  {
   "cell_type": "markdown",
   "id": "1e6e488d",
   "metadata": {},
   "source": [
    "*LASSO* is another way to regularize MNR model. It's obtained by minimizing the function\n",
    "\n",
    "$$-C\\cdot LL + \\frac{1}{2}L_1,$$\n",
    "\n",
    "where $LL$ is Log-Likelihood of the 'ordinary' MNR, and $L_1$ is the $L_1$ norm of model parameters matrix $W$:\n",
    "\n",
    "$$L_1 = ||W||_1 = \\sum_{i=1}^k\\sum_{j=1}^K|\\beta_i^{(j)}|.$$\n",
    "\n",
    "$C$ is, of course regularization hyperparameter."
   ]
  },
  {
   "cell_type": "markdown",
   "id": "fd606882",
   "metadata": {},
   "source": [
    "Both Ridge and LASSO Regularizations are a part of a more general *Elastic-net* Regularization, obtaned by minimizing the function \n",
    "\n",
    "$$-C\\cdot LL + \\rho L_1 + \\frac{1 - \\rho}{2}L_2^2$$\n",
    "\n",
    "where $\\rho\\in[0,1]$ is yet another hyperparameter. For $\\rho = 0$ one recovers Ridge Regularization, and for $\\rho = 1$ LASSO Regularization."
   ]
  },
  {
   "cell_type": "code",
   "execution_count": 126,
   "id": "7d286357",
   "metadata": {},
   "outputs": [],
   "source": [
    "### --- Varying the penalization parameter for the LASSO Regularized Model\n",
    "n_Cs = 25\n",
    "Cs = np.linspace(1e-2, 500, n_Cs)\n",
    "\n",
    "l1_coefs = []\n",
    "accuracies = []\n",
    "l1_norms_matrix = []\n",
    "for C in Cs:\n",
    "    # - fitting a LASSO Regularization\n",
    "    ridge = LogisticRegression(solver='liblinear', penalty='l1', C=C, max_iter=1000)\n",
    "    ridge.fit(X, y)\n",
    "    \n",
    "    # - L1 norm of model coefficients vectors for each category\n",
    "    l1_c = np.linalg.norm(ridge.coef_, ord=1, axis=0)\n",
    "    \n",
    "    # - accuracy of a fitted Regularized Model\n",
    "    acc = ridge.score(X, y)\n",
    "    \n",
    "    # - L1 norm of model coefficient matrix\n",
    "    l1_m = np.linalg.norm(ridge.coef_, ord=1)\n",
    "    \n",
    "    l1_coefs.append(l1_c)\n",
    "    accuracies.append(acc)\n",
    "    l1_norms_matrix.append(l1_m)"
   ]
  },
  {
   "cell_type": "code",
   "execution_count": 128,
   "id": "93549a1f",
   "metadata": {},
   "outputs": [
    {
     "data": {
      "image/png": "[encoded data removed]",
      "text/plain": [
       "<Figure size 576x432 with 1 Axes>"
      ]
     },
     "metadata": {},
     "output_type": "display_data"
    }
   ],
   "source": [
    "### --- Plotting the dependence of model parameters vs. the regularization hyperparameter\n",
    "ax = plt.gca()\n",
    "\n",
    "ax.plot(Cs, l1_coefs)\n",
    "ax.axvline(x=1, c='r', ls='--') # red line, corresponding to C = 1\n",
    "plt.xlabel(\"C\")\n",
    "plt.ylabel(\"weights\")\n",
    "plt.title(\"LASSO coefficients as a function of the regularization\")\n",
    "plt.axis(\"tight\")\n",
    "plt.legend(predictors)\n",
    "plt.show()"
   ]
  },
  {
   "cell_type": "code",
   "execution_count": 129,
   "id": "d73e1aba",
   "metadata": {},
   "outputs": [
    {
     "data": {
      "image/png": "[encoded data removed]",
      "text/plain": [
       "<Figure size 1152x432 with 2 Axes>"
      ]
     },
     "metadata": {},
     "output_type": "display_data"
    }
   ],
   "source": [
    "### --- Plotting the dependance of various model metrics vs. the regularization hyperparameter\n",
    "ig, ax = plt.subplots(1, 2, figsize=(16, 6), sharex=True)\n",
    "\n",
    "\n",
    "# - L1-norm vs. C\n",
    "ax[0].plot(Cs, l1_norms_matrix)\n",
    "ax[0].axvline(x=1, c='r', ls='--') # red line\n",
    "ax[0].set_xlabel(\"C\")\n",
    "ax[0].set_ylabel(\"$L_1$ norm\")\n",
    "ax[0].set_title(\"$L_1$ norm as a function of the regularization\")\n",
    "ax[0].axis(\"tight\")\n",
    "\n",
    "# - Model accuracy vs. C\n",
    "ax[1].plot(Cs, accuracies)\n",
    "ax[1].axvline(x=1, c='r', ls='--') # red line\n",
    "ax[1].set_xlabel(\"C\")\n",
    "ax[1].set_ylabel(\"Accuracy\")\n",
    "ax[1].set_title(\"Model accuracy as a function of the regularization\")\n",
    "ax[1].axis(\"tight\");"
   ]
  },
  {
   "cell_type": "code",
   "execution_count": 130,
   "id": "fdfc336c",
   "metadata": {},
   "outputs": [
    {
     "data": {
      "text/html": [
       "<style>#sk-container-id-6 {color: black;background-color: white;}#sk-container-id-6 pre{padding: 0;}#sk-container-id-6 div.sk-toggleable {background-color: white;}#sk-container-id-6 label.sk-toggleable__label {cursor: pointer;display: block;width: 100%;margin-bottom: 0;padding: 0.3em;box-sizing: border-box;text-align: center;}#sk-container-id-6 label.sk-toggleable__label-arrow:before {content: \"▸\";float: left;margin-right: 0.25em;color: #696969;}#sk-container-id-6 label.sk-toggleable__label-arrow:hover:before {color: black;}#sk-container-id-6 div.sk-estimator:hover label.sk-toggleable__label-arrow:before {color: black;}#sk-container-id-6 div.sk-toggleable__content {max-height: 0;max-width: 0;overflow: hidden;text-align: left;background-color: #f0f8ff;}#sk-container-id-6 div.sk-toggleable__content pre {margin: 0.2em;color: black;border-radius: 0.25em;background-color: #f0f8ff;}#sk-container-id-6 input.sk-toggleable__control:checked~div.sk-toggleable__content {max-height: 200px;max-width: 100%;overflow: auto;}#sk-container-id-6 input.sk-toggleable__control:checked~label.sk-toggleable__label-arrow:before {content: \"▾\";}#sk-container-id-6 div.sk-estimator input.sk-toggleable__control:checked~label.sk-toggleable__label {background-color: #d4ebff;}#sk-container-id-6 div.sk-label input.sk-toggleable__control:checked~label.sk-toggleable__label {background-color: #d4ebff;}#sk-container-id-6 input.sk-hidden--visually {border: 0;clip: rect(1px 1px 1px 1px);clip: rect(1px, 1px, 1px, 1px);height: 1px;margin: -1px;overflow: hidden;padding: 0;position: absolute;width: 1px;}#sk-container-id-6 div.sk-estimator {font-family: monospace;background-color: #f0f8ff;border: 1px dotted black;border-radius: 0.25em;box-sizing: border-box;margin-bottom: 0.5em;}#sk-container-id-6 div.sk-estimator:hover {background-color: #d4ebff;}#sk-container-id-6 div.sk-parallel-item::after {content: \"\";width: 100%;border-bottom: 1px solid gray;flex-grow: 1;}#sk-container-id-6 div.sk-label:hover label.sk-toggleable__label {background-color: #d4ebff;}#sk-container-id-6 div.sk-serial::before {content: \"\";position: absolute;border-left: 1px solid gray;box-sizing: border-box;top: 0;bottom: 0;left: 50%;z-index: 0;}#sk-container-id-6 div.sk-serial {display: flex;flex-direction: column;align-items: center;background-color: white;padding-right: 0.2em;padding-left: 0.2em;position: relative;}#sk-container-id-6 div.sk-item {position: relative;z-index: 1;}#sk-container-id-6 div.sk-parallel {display: flex;align-items: stretch;justify-content: center;background-color: white;position: relative;}#sk-container-id-6 div.sk-item::before, #sk-container-id-6 div.sk-parallel-item::before {content: \"\";position: absolute;border-left: 1px solid gray;box-sizing: border-box;top: 0;bottom: 0;left: 50%;z-index: -1;}#sk-container-id-6 div.sk-parallel-item {display: flex;flex-direction: column;z-index: 1;position: relative;background-color: white;}#sk-container-id-6 div.sk-parallel-item:first-child::after {align-self: flex-end;width: 50%;}#sk-container-id-6 div.sk-parallel-item:last-child::after {align-self: flex-start;width: 50%;}#sk-container-id-6 div.sk-parallel-item:only-child::after {width: 0;}#sk-container-id-6 div.sk-dashed-wrapped {border: 1px dashed gray;margin: 0 0.4em 0.5em 0.4em;box-sizing: border-box;padding-bottom: 0.4em;background-color: white;}#sk-container-id-6 div.sk-label label {font-family: monospace;font-weight: bold;display: inline-block;line-height: 1.2em;}#sk-container-id-6 div.sk-label-container {text-align: center;}#sk-container-id-6 div.sk-container {/* jupyter's `normalize.less` sets `[hidden] { display: none; }` but bootstrap.min.css set `[hidden] { display: none !important; }` so we also need the `!important` here to be able to override the default hidden behavior on the sphinx rendered scikit-learn.org. See: https://github.com/scikit-learn/scikit-learn/issues/21755 */display: inline-block !important;position: relative;}#sk-container-id-6 div.sk-text-repr-fallback {display: none;}</style><div id=\"sk-container-id-6\" class=\"sk-top-container\"><div class=\"sk-text-repr-fallback\"><pre>LogisticRegression(C=12.5, penalty=&#x27;l1&#x27;, solver=&#x27;liblinear&#x27;)</pre><b>In a Jupyter environment, please rerun this cell to show the HTML representation or trust the notebook. <br />On GitHub, the HTML representation is unable to render, please try loading this page with nbviewer.org.</b></div><div class=\"sk-container\" hidden><div class=\"sk-item\"><div class=\"sk-estimator sk-toggleable\"><input class=\"sk-toggleable__control sk-hidden--visually\" id=\"sk-estimator-id-6\" type=\"checkbox\" checked><label for=\"sk-estimator-id-6\" class=\"sk-toggleable__label sk-toggleable__label-arrow\">LogisticRegression</label><div class=\"sk-toggleable__content\"><pre>LogisticRegression(C=12.5, penalty=&#x27;l1&#x27;, solver=&#x27;liblinear&#x27;)</pre></div></div></div></div></div>"
      ],
      "text/plain": [
       "LogisticRegression(C=12.5, penalty='l1', solver='liblinear')"
      ]
     },
     "execution_count": 130,
     "metadata": {},
     "output_type": "execute_result"
    }
   ],
   "source": [
    "# - fitting an assumed best approximation for C = 12.5\n",
    "lasso_best = LogisticRegression(C=12.5, solver='liblinear', penalty='l1')\n",
    "lasso_best.fit(X, y)"
   ]
  },
  {
   "cell_type": "code",
   "execution_count": 131,
   "id": "26efad06",
   "metadata": {},
   "outputs": [
    {
     "data": {
      "text/plain": [
       "array([-6.78867169, -2.93809375,  4.10616238, -1.47719585, -4.21432216,\n",
       "        0.        ])"
      ]
     },
     "execution_count": 131,
     "metadata": {},
     "output_type": "execute_result"
    }
   ],
   "source": [
    "lasso_best.intercept_"
   ]
  },
  {
   "cell_type": "code",
   "execution_count": 132,
   "id": "ebacec0f",
   "metadata": {},
   "outputs": [
    {
     "data": {
      "text/plain": [
       "array([[ 3.64844742e-01,  7.90397242e+00,  2.08003448e+00,\n",
       "         8.57185151e-02,  6.59233075e+00,  1.24899543e-01,\n",
       "        -9.27420756e-02, -2.75631089e+00,  3.80479547e+00,\n",
       "        -2.94578514e-01, -1.62495141e+00],\n",
       "       [-1.43529973e-01,  3.72320910e+00,  7.92457116e-01,\n",
       "         1.74363470e-01,  9.33308461e-01, -2.60738184e-02,\n",
       "        -1.04456861e-02, -2.56915966e+00,  1.33439983e+00,\n",
       "        -9.16365459e-01, -2.65261811e-01],\n",
       "       [-7.59283476e-02,  1.72046772e+00,  5.97307887e-01,\n",
       "        -6.28850559e-02,  2.97500485e+00, -1.96127656e-02,\n",
       "         1.86497490e-02,  4.79754623e+00,  1.14894982e-01,\n",
       "        -2.38232004e+00, -8.85936701e-01],\n",
       "       [ 6.95271856e-02, -1.70235079e+00, -1.30797393e+00,\n",
       "        -2.11108184e-02, -1.63831200e-01,  2.30622529e-02,\n",
       "        -1.22762363e-02, -1.29839274e+00,  1.59676925e-01,\n",
       "         8.75552913e-01,  2.07903800e-01],\n",
       "       [ 7.05694939e-02, -3.45556951e+00, -6.50683591e-02,\n",
       "         1.38549637e-01, -7.42584879e+00,  1.29783269e-02,\n",
       "        -1.62761309e-02, -4.74937862e+00, -8.15065782e-01,\n",
       "         3.00305739e+00,  8.60068878e-01],\n",
       "       [-3.61248881e-01,  5.87174354e-01,  2.40510341e+00,\n",
       "        -1.25369934e-01, -1.28214415e+01,  1.09306272e-02,\n",
       "        -2.16287179e-02,  0.00000000e+00, -5.04957984e+00,\n",
       "         3.44090973e+00,  1.21267541e+00]])"
      ]
     },
     "execution_count": 132,
     "metadata": {},
     "output_type": "execute_result"
    }
   ],
   "source": [
    "lasso_best.coef_"
   ]
  },
  {
   "cell_type": "code",
   "execution_count": 133,
   "id": "d90b5808",
   "metadata": {},
   "outputs": [
    {
     "data": {
      "text/plain": [
       "0.5972482801751094"
      ]
     },
     "execution_count": 133,
     "metadata": {},
     "output_type": "execute_result"
    }
   ],
   "source": [
    "lasso_best.score(X, y)"
   ]
  },
  {
   "cell_type": "code",
   "execution_count": 134,
   "id": "ed068d35",
   "metadata": {},
   "outputs": [
    {
     "data": {
      "text/plain": [
       "0.6091307066916823"
      ]
     },
     "execution_count": 134,
     "metadata": {},
     "output_type": "execute_result"
    }
   ],
   "source": [
    "mnr_acc"
   ]
  },
  {
   "cell_type": "markdown",
   "id": "b940d96c",
   "metadata": {},
   "source": [
    "### Further Reading"
   ]
  },
  {
   "cell_type": "code",
   "execution_count": null,
   "id": "8ad196fb",
   "metadata": {},
   "outputs": [],
   "source": []
  },
  {
   "cell_type": "markdown",
   "id": "4071b62b",
   "metadata": {},
   "source": [
    "***"
   ]
  },
  {
   "cell_type": "markdown",
   "id": "012d9eaa",
   "metadata": {},
   "source": [
    "DataKolektiv, 2022/23.\n",
    "\n",
    "[hello@datakolektiv.com](mailto:goran.milovanovic@datakolektiv.com)\n",
    "\n",
    "![](../img/DK_Logo_100.png)"
   ]
  },
  {
   "cell_type": "markdown",
   "id": "4ec890e1",
   "metadata": {},
   "source": [
    "<font size=1>License: [GPLv3](https://www.gnu.org/licenses/gpl-3.0.txt) This Notebook is free software: you can redistribute it and/or modify it under the terms of the GNU General Public License as published by the Free Software Foundation, either version 3 of the License, or (at your option) any later version. This Notebook is distributed in the hope that it will be useful, but WITHOUT ANY WARRANTY; without even the implied warranty of MERCHANTABILITY or FITNESS FOR A PARTICULAR PURPOSE. See the GNU General Public License for more details. You should have received a copy of the GNU General Public License along with this Notebook. If not, see http://www.gnu.org/licenses/.</font>"
   ]
  }
 ],
 "metadata": {
  "kernelspec": {
   "display_name": "Python 3",
   "language": "python",
   "name": "python3"
  },
  "language_info": {
   "codemirror_mode": {
    "name": "ipython",
    "version": 3
   },
   "file_extension": ".py",
   "mimetype": "text/x-python",
   "name": "python",
   "nbconvert_exporter": "python",
   "pygments_lexer": "ipython3",
   "version": "3.8.8"
  }
 },
 "nbformat": 4,
 "nbformat_minor": 5
}
