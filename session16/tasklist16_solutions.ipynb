{
 "cells": [
  {
   "cell_type": "markdown",
   "id": "1eb50e3e",
   "metadata": {},
   "source": [
    "# DATA SCIENCE SESSIONS VOL. 3\n",
    "### A Foundational Python Data Science Course\n",
    "## Tasklist 16: Binomial Logistic Regression. \n",
    "\n",
    "[&larr; Back to course webpage](https://datakolektiv.com/)\n",
    "\n",
    "Feedback should be send to [goran.milovanovic@datakolektiv.com](mailto:goran.milovanovic@datakolektiv.com). \n",
    "\n",
    "These notebooks accompany the DATA SCIENCE SESSIONS VOL. 3 :: A Foundational Python Data Science Course."
   ]
  },
  {
   "cell_type": "markdown",
   "id": "50a2e922",
   "metadata": {},
   "source": [
    "![](../img/IntroRDataScience_NonTech-1.jpg)"
   ]
  },
  {
   "cell_type": "markdown",
   "id": "645ebc0d",
   "metadata": {},
   "source": [
    "### Lecturers\n",
    "\n",
    "[Goran S. Milovanović, PhD, DataKolektiv, Chief Scientist & Owner](https://www.linkedin.com/in/gmilovanovic/)\n",
    "\n",
    "[Aleksandar Cvetković, PhD, DataKolektiv, Consultant](https://www.linkedin.com/in/alegzndr/)\n",
    "\n",
    "[Ilija Lazarević, MA, DataKolektiv, Consultant](https://www.linkedin.com/in/ilijalazarevic/)"
   ]
  },
  {
   "cell_type": "markdown",
   "id": "726f9a1b",
   "metadata": {},
   "source": [
    "![](../img/DK_Logo_100.png)"
   ]
  },
  {
   "cell_type": "markdown",
   "id": "b63bcccf",
   "metadata": {},
   "source": [
    "***"
   ]
  },
  {
   "cell_type": "markdown",
   "id": "2eafa2ed",
   "metadata": {},
   "source": [
    "### Intro "
   ]
  },
  {
   "cell_type": "markdown",
   "id": "2227d1e5",
   "metadata": {},
   "source": [
    "In this Tasklist you'll get to implement Binomial Logistic Regression. This notebook is intended to be used alongside with the notebooks from live sessions and previous tasklists. We'll try to keep things simple here - for EDAs of the given dataset it will suffice to give some basic information and plot some simple graphs. As for ML the model, it doesn't need to be highly accurate - here, the goal is just to implement `statsmodels`, and interpret the results. So, let's dig in!"
   ]
  },
  {
   "cell_type": "code",
   "execution_count": 1,
   "id": "283f5aae",
   "metadata": {},
   "outputs": [],
   "source": [
    "# suppressing those annoying warnings\n",
    "import warnings\n",
    "\n",
    "warnings.filterwarnings(\"ignore\")"
   ]
  },
  {
   "cell_type": "code",
   "execution_count": 2,
   "id": "dc3e7812",
   "metadata": {},
   "outputs": [],
   "source": [
    "# importing necessary libraries\n",
    "import os \n",
    "\n",
    "import numpy as np\n",
    "import pandas as pd\n",
    "\n",
    "import matplotlib.pyplot as plt\n",
    "import seaborn as sns\n",
    "\n",
    "import statsmodels.api as sm\n",
    "import statsmodels.formula.api as smf\n",
    "from statsmodels.stats.outliers_influence import variance_inflation_factor\n",
    "\n",
    "from scipy import stats \n",
    "\n",
    "from statsmodels.regression.linear_model import RegressionResultsWrapper\n",
    "\n",
    "from sklearn.linear_model import LinearRegression\n",
    "from sklearn.metrics import r2_score"
   ]
  },
  {
   "cell_type": "code",
   "execution_count": 3,
   "id": "db543f83",
   "metadata": {},
   "outputs": [
    {
     "data": {
      "text/plain": [
       "['binary.csv',\n",
       " 'churn_data 2.csv',\n",
       " 'churn_data.csv',\n",
       " 'Fish.csv',\n",
       " 'Iris.csv',\n",
       " 'winequality-red.csv',\n",
       " 'winequality-white.csv',\n",
       " 'winequality.names']"
      ]
     },
     "execution_count": 3,
     "metadata": {},
     "output_type": "execute_result"
    }
   ],
   "source": [
    "# setting the working directory\n",
    "\n",
    "work_dir = os.getcwd()\n",
    "data_dir = os.path.join(work_dir, \"_data\")\n",
    "os.listdir(data_dir)"
   ]
  },
  {
   "cell_type": "markdown",
   "id": "84102e75",
   "metadata": {},
   "source": [
    "## Binomial Logistic Regression"
   ]
  },
  {
   "cell_type": "markdown",
   "id": "90b946e9",
   "metadata": {},
   "source": [
    "**00.** You'll implement BLR on [*ULCA Admission*](https://stats.idre.ucla.edu/stat/data/binary.csv) dataset, which lists various scores of candidates, based on their success in previous education stage, and whether the candidate was accepted to ULCA or not. The name of this dataset file is `binary.csv`. "
   ]
  },
  {
   "cell_type": "code",
   "execution_count": 4,
   "id": "2197d208",
   "metadata": {},
   "outputs": [
    {
     "data": {
      "text/html": [
       "<div>\n",
       "<style scoped>\n",
       "    .dataframe tbody tr th:only-of-type {\n",
       "        vertical-align: middle;\n",
       "    }\n",
       "\n",
       "    .dataframe tbody tr th {\n",
       "        vertical-align: top;\n",
       "    }\n",
       "\n",
       "    .dataframe thead th {\n",
       "        text-align: right;\n",
       "    }\n",
       "</style>\n",
       "<table border=\"1\" class=\"dataframe\">\n",
       "  <thead>\n",
       "    <tr style=\"text-align: right;\">\n",
       "      <th></th>\n",
       "      <th>admit</th>\n",
       "      <th>gre</th>\n",
       "      <th>gpa</th>\n",
       "      <th>rank</th>\n",
       "    </tr>\n",
       "  </thead>\n",
       "  <tbody>\n",
       "    <tr>\n",
       "      <th>0</th>\n",
       "      <td>0</td>\n",
       "      <td>380</td>\n",
       "      <td>3.61</td>\n",
       "      <td>3</td>\n",
       "    </tr>\n",
       "    <tr>\n",
       "      <th>1</th>\n",
       "      <td>1</td>\n",
       "      <td>660</td>\n",
       "      <td>3.67</td>\n",
       "      <td>3</td>\n",
       "    </tr>\n",
       "    <tr>\n",
       "      <th>2</th>\n",
       "      <td>1</td>\n",
       "      <td>800</td>\n",
       "      <td>4.00</td>\n",
       "      <td>1</td>\n",
       "    </tr>\n",
       "    <tr>\n",
       "      <th>3</th>\n",
       "      <td>1</td>\n",
       "      <td>640</td>\n",
       "      <td>3.19</td>\n",
       "      <td>4</td>\n",
       "    </tr>\n",
       "    <tr>\n",
       "      <th>4</th>\n",
       "      <td>0</td>\n",
       "      <td>520</td>\n",
       "      <td>2.93</td>\n",
       "      <td>4</td>\n",
       "    </tr>\n",
       "    <tr>\n",
       "      <th>...</th>\n",
       "      <td>...</td>\n",
       "      <td>...</td>\n",
       "      <td>...</td>\n",
       "      <td>...</td>\n",
       "    </tr>\n",
       "    <tr>\n",
       "      <th>395</th>\n",
       "      <td>0</td>\n",
       "      <td>620</td>\n",
       "      <td>4.00</td>\n",
       "      <td>2</td>\n",
       "    </tr>\n",
       "    <tr>\n",
       "      <th>396</th>\n",
       "      <td>0</td>\n",
       "      <td>560</td>\n",
       "      <td>3.04</td>\n",
       "      <td>3</td>\n",
       "    </tr>\n",
       "    <tr>\n",
       "      <th>397</th>\n",
       "      <td>0</td>\n",
       "      <td>460</td>\n",
       "      <td>2.63</td>\n",
       "      <td>2</td>\n",
       "    </tr>\n",
       "    <tr>\n",
       "      <th>398</th>\n",
       "      <td>0</td>\n",
       "      <td>700</td>\n",
       "      <td>3.65</td>\n",
       "      <td>2</td>\n",
       "    </tr>\n",
       "    <tr>\n",
       "      <th>399</th>\n",
       "      <td>0</td>\n",
       "      <td>600</td>\n",
       "      <td>3.89</td>\n",
       "      <td>3</td>\n",
       "    </tr>\n",
       "  </tbody>\n",
       "</table>\n",
       "<p>400 rows × 4 columns</p>\n",
       "</div>"
      ],
      "text/plain": [
       "     admit  gre   gpa  rank\n",
       "0        0  380  3.61     3\n",
       "1        1  660  3.67     3\n",
       "2        1  800  4.00     1\n",
       "3        1  640  3.19     4\n",
       "4        0  520  2.93     4\n",
       "..     ...  ...   ...   ...\n",
       "395      0  620  4.00     2\n",
       "396      0  560  3.04     3\n",
       "397      0  460  2.63     2\n",
       "398      0  700  3.65     2\n",
       "399      0  600  3.89     3\n",
       "\n",
       "[400 rows x 4 columns]"
      ]
     },
     "execution_count": 4,
     "metadata": {},
     "output_type": "execute_result"
    }
   ],
   "source": [
    "# importing the dataset\n",
    "df = pd.read_csv(os.path.join(data_dir, 'binary.csv'))\n",
    "df"
   ]
  },
  {
   "cell_type": "markdown",
   "id": "c132181f",
   "metadata": {},
   "source": [
    "The fields of this dataset are:\n",
    "\n",
    "- `admit`: binary variable; whether the candidate is accepted `[1]` or not `[0]` to ULCA. This is going to be our target variable;\n",
    "\n",
    "\n",
    "- `gre`: *Graduate Record Examinations* - score of the GRE exam, a standardized exam, required for admission to gradute programs (prijemni);\n",
    "\n",
    "\n",
    "- `gpa`: *Grade Point Average* - score based on candidate's grades in previous education stage on 1.0 - 4.0 scale;\n",
    "\n",
    "\n",
    "- `rank`: categorical variable; - candidate's rank based on his succes in previous education stage, compared to other students in their class on 1 - 4 discrete scale. A candidate with low `gpa` score and high rank is an indication that they come from a weaker class; a candidate with high `gpa` score and low rank comes from though class."
   ]
  },
  {
   "cell_type": "markdown",
   "id": "6a140b40",
   "metadata": {},
   "source": [
    "**01.** Let's inspect our data using `.info()` method:"
   ]
  },
  {
   "cell_type": "code",
   "execution_count": 5,
   "id": "9e84d4d2",
   "metadata": {},
   "outputs": [
    {
     "name": "stdout",
     "output_type": "stream",
     "text": [
      "<class 'pandas.core.frame.DataFrame'>\n",
      "RangeIndex: 400 entries, 0 to 399\n",
      "Data columns (total 4 columns):\n",
      " #   Column  Non-Null Count  Dtype  \n",
      "---  ------  --------------  -----  \n",
      " 0   admit   400 non-null    int64  \n",
      " 1   gre     400 non-null    int64  \n",
      " 2   gpa     400 non-null    float64\n",
      " 3   rank    400 non-null    int64  \n",
      "dtypes: float64(1), int64(3)\n",
      "memory usage: 12.6 KB\n"
     ]
    }
   ],
   "source": [
    "df.info()"
   ]
  },
  {
   "cell_type": "markdown",
   "id": "9c930ba7",
   "metadata": {},
   "source": [
    "As we see, there are no `NaN` values, which is good. However, `rank`, which is a categorical variable is read as a numerical variable. \n",
    "\n",
    "Now, using `pd.CategoricalDtype` with argument `ordered=True`, cast the `rank` column to categorical type."
   ]
  },
  {
   "cell_type": "code",
   "execution_count": 37,
   "id": "0601d341",
   "metadata": {
    "scrolled": true
   },
   "outputs": [
    {
     "name": "stdout",
     "output_type": "stream",
     "text": [
      "<class 'pandas.core.frame.DataFrame'>\n",
      "RangeIndex: 400 entries, 0 to 399\n",
      "Data columns (total 4 columns):\n",
      " #   Column  Non-Null Count  Dtype   \n",
      "---  ------  --------------  -----   \n",
      " 0   admit   400 non-null    int64   \n",
      " 1   gre     400 non-null    int64   \n",
      " 2   gpa     400 non-null    float64 \n",
      " 3   rank    400 non-null    category\n",
      "dtypes: category(1), float64(1), int64(2)\n",
      "memory usage: 10.1 KB\n"
     ]
    }
   ],
   "source": [
    "# = Notice that we list ranks in reverse: 4th rank is actually the lowest rank!\n",
    "\n",
    "cat_type = pd.CategoricalDtype(categories=[4, 3, 2, 1], ordered=True)\n",
    "df['rank'] = df['rank'].astype(cat_type)\n",
    "df.info()"
   ]
  },
  {
   "cell_type": "code",
   "execution_count": 38,
   "id": "a819ac1a",
   "metadata": {},
   "outputs": [
    {
     "data": {
      "text/plain": [
       "0      3\n",
       "1      3\n",
       "2      1\n",
       "3      4\n",
       "4      4\n",
       "      ..\n",
       "395    2\n",
       "396    3\n",
       "397    2\n",
       "398    2\n",
       "399    3\n",
       "Name: rank, Length: 400, dtype: category\n",
       "Categories (4, int64): [4 < 3 < 2 < 1]"
      ]
     },
     "execution_count": 38,
     "metadata": {},
     "output_type": "execute_result"
    }
   ],
   "source": [
    "df['rank']"
   ]
  },
  {
   "cell_type": "markdown",
   "id": "df8aa552",
   "metadata": {},
   "source": [
    "**02.** Perform some elementary EDA to depict how the values of `gre`, `gpa` and `rank` are distributed among the binary values of `admint` target variable. "
   ]
  },
  {
   "cell_type": "code",
   "execution_count": 39,
   "id": "c20b0ef4",
   "metadata": {},
   "outputs": [
    {
     "data": {
      "image/png": "[encoded data removed]",
      "text/plain": [
       "<Figure size 864x1080 with 3 Axes>"
      ]
     },
     "metadata": {
      "needs_background": "light"
     },
     "output_type": "display_data"
    }
   ],
   "source": [
    "fig, ax = plt.subplots(3, 1, figsize=(12, 15))\n",
    "\n",
    "sns.boxplot(ax=ax[0], data=df, x='gre', y='admit', orient='h');\n",
    "sns.boxplot(ax=ax[1], data=df, x='gpa', y='admit', orient='h');\n",
    "sns.histplot(ax=ax[2], data=df, x='rank', hue='admit', stat='count', multiple='stack');\n",
    "\n",
    "ax[2].set_xticks([1, 2, 3, 4]);"
   ]
  },
  {
   "cell_type": "markdown",
   "id": "74fd9389",
   "metadata": {},
   "source": [
    "We notice some outliers in `gre` and `gpa`. Also we can see that there might be some slight imbalance in the data in favor of not admitted. Let's check this out."
   ]
  },
  {
   "cell_type": "code",
   "execution_count": 40,
   "id": "c5d37d49",
   "metadata": {},
   "outputs": [
    {
     "data": {
      "text/plain": [
       "0    0.6825\n",
       "1    0.3175\n",
       "Name: admit, dtype: float64"
      ]
     },
     "execution_count": 40,
     "metadata": {},
     "output_type": "execute_result"
    }
   ],
   "source": [
    "df['admit'].value_counts(normalize=True)"
   ]
  },
  {
   "cell_type": "markdown",
   "id": "baeda314",
   "metadata": {},
   "source": [
    "The imbalance is actually not that slight at all - there are two times more non-admitted candidates!"
   ]
  },
  {
   "cell_type": "markdown",
   "id": "7cc849d0",
   "metadata": {},
   "source": [
    "**03.** Compute the correlation between the values of numerical variables in this data? Are these results statistically significant?  "
   ]
  },
  {
   "cell_type": "code",
   "execution_count": 42,
   "id": "c3be8e66",
   "metadata": {},
   "outputs": [
    {
     "data": {
      "text/html": [
       "<div>\n",
       "<style scoped>\n",
       "    .dataframe tbody tr th:only-of-type {\n",
       "        vertical-align: middle;\n",
       "    }\n",
       "\n",
       "    .dataframe tbody tr th {\n",
       "        vertical-align: top;\n",
       "    }\n",
       "\n",
       "    .dataframe thead th {\n",
       "        text-align: right;\n",
       "    }\n",
       "</style>\n",
       "<table border=\"1\" class=\"dataframe\">\n",
       "  <thead>\n",
       "    <tr style=\"text-align: right;\">\n",
       "      <th></th>\n",
       "      <th>gre</th>\n",
       "      <th>gpa</th>\n",
       "    </tr>\n",
       "  </thead>\n",
       "  <tbody>\n",
       "    <tr>\n",
       "      <th>gre</th>\n",
       "      <td>1.000000</td>\n",
       "      <td>0.384266</td>\n",
       "    </tr>\n",
       "    <tr>\n",
       "      <th>gpa</th>\n",
       "      <td>0.384266</td>\n",
       "      <td>1.000000</td>\n",
       "    </tr>\n",
       "  </tbody>\n",
       "</table>\n",
       "</div>"
      ],
      "text/plain": [
       "          gre       gpa\n",
       "gre  1.000000  0.384266\n",
       "gpa  0.384266  1.000000"
      ]
     },
     "execution_count": 42,
     "metadata": {},
     "output_type": "execute_result"
    }
   ],
   "source": [
    "df[['gre', 'gpa']].corr(method='pearson')"
   ]
  },
  {
   "cell_type": "markdown",
   "id": "bafddd10",
   "metadata": {},
   "source": [
    "There actually isn't some significant correlation between the given variables. But is this result statistically significant?"
   ]
  },
  {
   "cell_type": "code",
   "execution_count": 43,
   "id": "af640e42",
   "metadata": {},
   "outputs": [
    {
     "data": {
      "text/plain": [
       "(0.38426587802084944, 1.595773903084386e-15)"
      ]
     },
     "execution_count": 43,
     "metadata": {},
     "output_type": "execute_result"
    }
   ],
   "source": [
    "stats.pearsonr(df['gre'], df['gpa'])"
   ]
  },
  {
   "cell_type": "markdown",
   "id": "a7919daf",
   "metadata": {},
   "source": [
    "With $p$-value $\\approx 0$ we can consider this result statistically significant."
   ]
  },
  {
   "cell_type": "markdown",
   "id": "e38a0ac7",
   "metadata": {},
   "source": [
    "**04.** Use `.logit()` from `stasmodels` to fit a Binomial Logistic Regression model to the given data; this model should predict probabilities for `admit` binary labels from all the other variables."
   ]
  },
  {
   "cell_type": "code",
   "execution_count": 45,
   "id": "999403b9",
   "metadata": {},
   "outputs": [
    {
     "data": {
      "text/plain": [
       "Index(['gre', 'gpa', 'rank'], dtype='object')"
      ]
     },
     "execution_count": 45,
     "metadata": {},
     "output_type": "execute_result"
    }
   ],
   "source": [
    "### --- Prepering the dataset\n",
    "\n",
    "predictors = df.columns.drop('admit')\n",
    "predictors"
   ]
  },
  {
   "cell_type": "code",
   "execution_count": 46,
   "id": "20795873",
   "metadata": {},
   "outputs": [
    {
     "data": {
      "text/plain": [
       "'admit ~ gre + gpa + rank'"
      ]
     },
     "execution_count": 46,
     "metadata": {},
     "output_type": "execute_result"
    }
   ],
   "source": [
    "# --- Composing the fomula of the model\n",
    "\n",
    "# - right side of the formula\n",
    "formula = ' + '.join(predictors)\n",
    "\n",
    "# - left side of the formula\n",
    "formula = 'admit ~ ' + formula\n",
    "\n",
    "formula"
   ]
  },
  {
   "cell_type": "code",
   "execution_count": 48,
   "id": "7dfcc406",
   "metadata": {},
   "outputs": [
    {
     "name": "stdout",
     "output_type": "stream",
     "text": [
      "Optimization terminated successfully.\n",
      "         Current function value: 0.573147\n",
      "         Iterations 6\n"
     ]
    }
   ],
   "source": [
    "binomial_linear_model = smf.logit(formula=formula, data=df).fit()"
   ]
  },
  {
   "cell_type": "markdown",
   "id": "f492d1c5",
   "metadata": {},
   "source": [
    "**05.** Looking at the model summary, answer: Is the model statistically significant? What about the predictors of the model?"
   ]
  },
  {
   "cell_type": "code",
   "execution_count": 51,
   "id": "a30e2063",
   "metadata": {},
   "outputs": [
    {
     "data": {
      "text/html": [
       "<table class=\"simpletable\">\n",
       "<caption>Logit Regression Results</caption>\n",
       "<tr>\n",
       "  <th>Dep. Variable:</th>         <td>admit</td>      <th>  No. Observations:  </th>  <td>   400</td>  \n",
       "</tr>\n",
       "<tr>\n",
       "  <th>Model:</th>                 <td>Logit</td>      <th>  Df Residuals:      </th>  <td>   394</td>  \n",
       "</tr>\n",
       "<tr>\n",
       "  <th>Method:</th>                 <td>MLE</td>       <th>  Df Model:          </th>  <td>     5</td>  \n",
       "</tr>\n",
       "<tr>\n",
       "  <th>Date:</th>            <td>Sat, 06 May 2023</td> <th>  Pseudo R-squ.:     </th>  <td>0.08292</td> \n",
       "</tr>\n",
       "<tr>\n",
       "  <th>Time:</th>                <td>17:41:41</td>     <th>  Log-Likelihood:    </th> <td> -229.26</td> \n",
       "</tr>\n",
       "<tr>\n",
       "  <th>converged:</th>             <td>True</td>       <th>  LL-Null:           </th> <td> -249.99</td> \n",
       "</tr>\n",
       "<tr>\n",
       "  <th>Covariance Type:</th>     <td>nonrobust</td>    <th>  LLR p-value:       </th> <td>7.578e-08</td>\n",
       "</tr>\n",
       "</table>\n",
       "<table class=\"simpletable\">\n",
       "<tr>\n",
       "      <td></td>         <th>coef</th>     <th>std err</th>      <th>z</th>      <th>P>|z|</th>  <th>[0.025</th>    <th>0.975]</th>  \n",
       "</tr>\n",
       "<tr>\n",
       "  <th>Intercept</th> <td>   -5.5414</td> <td>    1.138</td> <td>   -4.869</td> <td> 0.000</td> <td>   -7.772</td> <td>   -3.311</td>\n",
       "</tr>\n",
       "<tr>\n",
       "  <th>rank[T.3]</th> <td>    0.2113</td> <td>    0.393</td> <td>    0.538</td> <td> 0.591</td> <td>   -0.559</td> <td>    0.981</td>\n",
       "</tr>\n",
       "<tr>\n",
       "  <th>rank[T.2]</th> <td>    0.8760</td> <td>    0.367</td> <td>    2.389</td> <td> 0.017</td> <td>    0.157</td> <td>    1.595</td>\n",
       "</tr>\n",
       "<tr>\n",
       "  <th>rank[T.1]</th> <td>    1.5515</td> <td>    0.418</td> <td>    3.713</td> <td> 0.000</td> <td>    0.733</td> <td>    2.370</td>\n",
       "</tr>\n",
       "<tr>\n",
       "  <th>gre</th>       <td>    0.0023</td> <td>    0.001</td> <td>    2.070</td> <td> 0.038</td> <td>    0.000</td> <td>    0.004</td>\n",
       "</tr>\n",
       "<tr>\n",
       "  <th>gpa</th>       <td>    0.8040</td> <td>    0.332</td> <td>    2.423</td> <td> 0.015</td> <td>    0.154</td> <td>    1.454</td>\n",
       "</tr>\n",
       "</table>"
      ],
      "text/plain": [
       "<class 'statsmodels.iolib.summary.Summary'>\n",
       "\"\"\"\n",
       "                           Logit Regression Results                           \n",
       "==============================================================================\n",
       "Dep. Variable:                  admit   No. Observations:                  400\n",
       "Model:                          Logit   Df Residuals:                      394\n",
       "Method:                           MLE   Df Model:                            5\n",
       "Date:                Sat, 06 May 2023   Pseudo R-squ.:                 0.08292\n",
       "Time:                        17:41:41   Log-Likelihood:                -229.26\n",
       "converged:                       True   LL-Null:                       -249.99\n",
       "Covariance Type:            nonrobust   LLR p-value:                 7.578e-08\n",
       "==============================================================================\n",
       "                 coef    std err          z      P>|z|      [0.025      0.975]\n",
       "------------------------------------------------------------------------------\n",
       "Intercept     -5.5414      1.138     -4.869      0.000      -7.772      -3.311\n",
       "rank[T.3]      0.2113      0.393      0.538      0.591      -0.559       0.981\n",
       "rank[T.2]      0.8760      0.367      2.389      0.017       0.157       1.595\n",
       "rank[T.1]      1.5515      0.418      3.713      0.000       0.733       2.370\n",
       "gre            0.0023      0.001      2.070      0.038       0.000       0.004\n",
       "gpa            0.8040      0.332      2.423      0.015       0.154       1.454\n",
       "==============================================================================\n",
       "\"\"\""
      ]
     },
     "execution_count": 51,
     "metadata": {},
     "output_type": "execute_result"
    }
   ],
   "source": [
    "binomial_linear_model.summary()"
   ]
  },
  {
   "cell_type": "markdown",
   "id": "7209f33a",
   "metadata": {},
   "source": [
    "With $p$-value $\\approx 0$ we can consider this result statistically significant. As for the predictors, all but `rank` = 3 class, are statistically significant.  "
   ]
  },
  {
   "cell_type": "markdown",
   "id": "361ee72b",
   "metadata": {},
   "source": [
    "**06.** Interpret the values of model coefficients. \n",
    "\n",
    "*Hint:* Try taking their exponentials."
   ]
  },
  {
   "cell_type": "code",
   "execution_count": 52,
   "id": "23ed3471",
   "metadata": {},
   "outputs": [
    {
     "data": {
      "text/plain": [
       "Intercept    0.003921\n",
       "rank[T.3]    1.235233\n",
       "rank[T.2]    2.401325\n",
       "rank[T.1]    4.718371\n",
       "gre          1.002267\n",
       "gpa          2.234545\n",
       "dtype: float64"
      ]
     },
     "execution_count": 52,
     "metadata": {},
     "output_type": "execute_result"
    }
   ],
   "source": [
    "np.exp(binomial_linear_model.params)"
   ]
  },
  {
   "cell_type": "markdown",
   "id": "ee6e8b89",
   "metadata": {},
   "source": [
    "Taking the exponentials of the model coefficients, we conclude the following:\n",
    "\n",
    "- Being of `rank` = 2 or `rank` = 1 increases the odds of being addmited; escpecially if the candidate is of the 1st rank. Note that we are taking `rank` = 4 as a reference category, so we might also interpret these results as: if the candidate would raise they rank from the lowest to the first two (all other stats being equal) their odds for being admitted would've increased as well.\n",
    "\n",
    "- The same holds true for increasing to `rank` = 3, but note that we cannot consider this result to be statistically significant. \n",
    "\n",
    "- Increasing `gre` doesn't seem to improve candidate's odds for admittance significantly.\n",
    "\n",
    "- Increasing `gpa` does well improve candidate's odds to be admitted. \n",
    "\n",
    "From all said, we can see that being in first two ranks and obtaining a high `gpa` score is mostly important for a candidate to be admitted. "
   ]
  },
  {
   "cell_type": "markdown",
   "id": "1593dd04",
   "metadata": {},
   "source": [
    "**07.** Use the model on train data to predict the probabilities of a candidate being admitted to ULCA. We predict that a candidate will be admitted if the predicted probability is higher than 0.5."
   ]
  },
  {
   "cell_type": "code",
   "execution_count": 55,
   "id": "b9273906",
   "metadata": {},
   "outputs": [],
   "source": [
    "probabilities = binomial_linear_model.predict()\n",
    "predictions = (probabilities > .5).astype('int')"
   ]
  },
  {
   "cell_type": "code",
   "execution_count": 56,
   "id": "49da0775",
   "metadata": {},
   "outputs": [
    {
     "data": {
      "text/html": [
       "<div>\n",
       "<style scoped>\n",
       "    .dataframe tbody tr th:only-of-type {\n",
       "        vertical-align: middle;\n",
       "    }\n",
       "\n",
       "    .dataframe tbody tr th {\n",
       "        vertical-align: top;\n",
       "    }\n",
       "\n",
       "    .dataframe thead th {\n",
       "        text-align: right;\n",
       "    }\n",
       "</style>\n",
       "<table border=\"1\" class=\"dataframe\">\n",
       "  <thead>\n",
       "    <tr style=\"text-align: right;\">\n",
       "      <th></th>\n",
       "      <th>observation</th>\n",
       "      <th>prediction</th>\n",
       "    </tr>\n",
       "  </thead>\n",
       "  <tbody>\n",
       "    <tr>\n",
       "      <th>0</th>\n",
       "      <td>0</td>\n",
       "      <td>0</td>\n",
       "    </tr>\n",
       "    <tr>\n",
       "      <th>1</th>\n",
       "      <td>1</td>\n",
       "      <td>0</td>\n",
       "    </tr>\n",
       "    <tr>\n",
       "      <th>2</th>\n",
       "      <td>1</td>\n",
       "      <td>1</td>\n",
       "    </tr>\n",
       "    <tr>\n",
       "      <th>3</th>\n",
       "      <td>1</td>\n",
       "      <td>0</td>\n",
       "    </tr>\n",
       "    <tr>\n",
       "      <th>4</th>\n",
       "      <td>0</td>\n",
       "      <td>0</td>\n",
       "    </tr>\n",
       "  </tbody>\n",
       "</table>\n",
       "</div>"
      ],
      "text/plain": [
       "   observation  prediction\n",
       "0            0           0\n",
       "1            1           0\n",
       "2            1           1\n",
       "3            1           0\n",
       "4            0           0"
      ]
     },
     "execution_count": 56,
     "metadata": {},
     "output_type": "execute_result"
    }
   ],
   "source": [
    "predictions_df = pd.DataFrame()\n",
    "\n",
    "predictions_df['observation'] = df['admit']\n",
    "predictions_df['prediction'] = predictions\n",
    "\n",
    "predictions_df.head()"
   ]
  },
  {
   "cell_type": "markdown",
   "id": "99861277",
   "metadata": {},
   "source": [
    "**08.** Evaluate model performance on train data by calculating its accuracy."
   ]
  },
  {
   "cell_type": "code",
   "execution_count": 57,
   "id": "afb75964",
   "metadata": {},
   "outputs": [
    {
     "data": {
      "text/plain": [
       "0.71"
      ]
     },
     "execution_count": 57,
     "metadata": {},
     "output_type": "execute_result"
    }
   ],
   "source": [
    "# - accuracy of the model\n",
    "accuracy = predictions_df['observation'] == predictions_df['prediction']\n",
    "accuracy = np.sum(accuracy)/len(accuracy)\n",
    "np.round(accuracy, 4)"
   ]
  },
  {
   "cell_type": "markdown",
   "id": "79d9fe98",
   "metadata": {},
   "source": [
    "**09.** What is the log-likelihood of the model?"
   ]
  },
  {
   "cell_type": "code",
   "execution_count": 58,
   "id": "5d85a3f7",
   "metadata": {},
   "outputs": [
    {
     "data": {
      "text/plain": [
       "-229.25874623794948"
      ]
     },
     "execution_count": 58,
     "metadata": {},
     "output_type": "execute_result"
    }
   ],
   "source": [
    "# - Log-likelihood of model\n",
    "model_loglike = binomial_linear_model.llf\n",
    "model_loglike"
   ]
  },
  {
   "cell_type": "markdown",
   "id": "6344bdb2",
   "metadata": {},
   "source": [
    "**Note:** A good further exercise could be improving the accuracy of the model. Even from EDA we can already see what steps could be undertaken: checking those two outliers `gre` and the one in `gpa`. Also, balancing the dataset is another way to go. "
   ]
  },
  {
   "cell_type": "markdown",
   "id": "07c947eb",
   "metadata": {},
   "source": [
    "***"
   ]
  },
  {
   "cell_type": "markdown",
   "id": "d240cdce",
   "metadata": {},
   "source": [
    "DataKolektiv, 2022/23.\n",
    "\n",
    "[hello@datakolektiv.com](mailto:goran.milovanovic@datakolektiv.com)\n",
    "\n",
    "![](../img/DK_Logo_100.png)"
   ]
  },
  {
   "cell_type": "markdown",
   "id": "9c9d4273",
   "metadata": {},
   "source": [
    "<font size=1>License: [GPLv3](https://www.gnu.org/licenses/gpl-3.0.txt) This Notebook is free software: you can redistribute it and/or modify it under the terms of the GNU General Public License as published by the Free Software Foundation, either version 3 of the License, or (at your option) any later version. This Notebook is distributed in the hope that it will be useful, but WITHOUT ANY WARRANTY; without even the implied warranty of MERCHANTABILITY or FITNESS FOR A PARTICULAR PURPOSE. See the GNU General Public License for more details. You should have received a copy of the GNU General Public License along with this Notebook. If not, see http://www.gnu.org/licenses/.</font>"
   ]
  }
 ],
 "metadata": {
  "kernelspec": {
   "display_name": "Python 3",
   "language": "python",
   "name": "python3"
  },
  "language_info": {
   "codemirror_mode": {
    "name": "ipython",
    "version": 3
   },
   "file_extension": ".py",
   "mimetype": "text/x-python",
   "name": "python",
   "nbconvert_exporter": "python",
   "pygments_lexer": "ipython3",
   "version": "3.8.8"
  }
 },
 "nbformat": 4,
 "nbformat_minor": 5
}
