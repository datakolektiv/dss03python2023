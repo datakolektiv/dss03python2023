{
 "cells": [
  {
   "cell_type": "markdown",
   "id": "1eb50e3e",
   "metadata": {},
   "source": [
    "# DATA SCIENCE SESSIONS VOL. 3\n",
    "### A Foundational Python Data Science Course\n",
    "## Tasklist 16: Binomial Logistic Regression. \n",
    "\n",
    "[&larr; Back to course webpage](https://datakolektiv.com/)\n",
    "\n",
    "Feedback should be send to [goran.milovanovic@datakolektiv.com](mailto:goran.milovanovic@datakolektiv.com). \n",
    "\n",
    "These notebooks accompany the DATA SCIENCE SESSIONS VOL. 3 :: A Foundational Python Data Science Course."
   ]
  },
  {
   "cell_type": "markdown",
   "id": "50a2e922",
   "metadata": {},
   "source": [
    "![](../img/IntroRDataScience_NonTech-1.jpg)"
   ]
  },
  {
   "cell_type": "markdown",
   "id": "645ebc0d",
   "metadata": {},
   "source": [
    "### Lecturers\n",
    "\n",
    "[Goran S. Milovanović, PhD, DataKolektiv, Chief Scientist & Owner](https://www.linkedin.com/in/gmilovanovic/)\n",
    "\n",
    "[Aleksandar Cvetković, PhD, DataKolektiv, Consultant](https://www.linkedin.com/in/alegzndr/)\n",
    "\n",
    "[Ilija Lazarević, MA, DataKolektiv, Consultant](https://www.linkedin.com/in/ilijalazarevic/)"
   ]
  },
  {
   "cell_type": "markdown",
   "id": "726f9a1b",
   "metadata": {},
   "source": [
    "![](../img/DK_Logo_100.png)"
   ]
  },
  {
   "cell_type": "markdown",
   "id": "b63bcccf",
   "metadata": {},
   "source": [
    "***"
   ]
  },
  {
   "cell_type": "markdown",
   "id": "2eafa2ed",
   "metadata": {},
   "source": [
    "### Intro "
   ]
  },
  {
   "cell_type": "markdown",
   "id": "2227d1e5",
   "metadata": {},
   "source": [
    "In this Tasklist you'll get to implement Binomial Logistic Regression. This notebook is intended to be used alongside with the notebooks from live sessions and previous tasklists. We'll try to keep things simple here - for EDAs of the given dataset it will suffice to give some basic information and plot some simple graphs. As for ML the model, it doesn't need to be highly accurate - here, the goal is just to implement `statsmodels`, and interpret the results. So, let's dig in!"
   ]
  },
  {
   "cell_type": "code",
   "execution_count": 1,
   "id": "283f5aae",
   "metadata": {},
   "outputs": [],
   "source": [
    "# suppressing those annoying warnings\n",
    "import warnings\n",
    "\n",
    "warnings.filterwarnings(\"ignore\")"
   ]
  },
  {
   "cell_type": "code",
   "execution_count": 2,
   "id": "dc3e7812",
   "metadata": {},
   "outputs": [],
   "source": [
    "# importing necessary libraries\n",
    "import os \n",
    "\n",
    "import numpy as np\n",
    "import pandas as pd\n",
    "\n",
    "import matplotlib.pyplot as plt\n",
    "import seaborn as sns\n",
    "\n",
    "import statsmodels.api as sm\n",
    "import statsmodels.formula.api as smf\n",
    "from statsmodels.stats.outliers_influence import variance_inflation_factor\n",
    "\n",
    "from scipy import stats \n",
    "\n",
    "from statsmodels.regression.linear_model import RegressionResultsWrapper\n",
    "\n",
    "from sklearn.linear_model import LinearRegression\n",
    "from sklearn.metrics import r2_score"
   ]
  },
  {
   "cell_type": "code",
   "execution_count": 3,
   "id": "db543f83",
   "metadata": {},
   "outputs": [
    {
     "data": {
      "text/plain": [
       "['binary.csv', 'Fish.csv', 'winequality-white.csv', 'winequality.names']"
      ]
     },
     "execution_count": 3,
     "metadata": {},
     "output_type": "execute_result"
    }
   ],
   "source": [
    "# setting the working directory\n",
    "\n",
    "work_dir = os.getcwd()\n",
    "data_dir = os.path.join(work_dir, \"_data\")\n",
    "os.listdir(data_dir)"
   ]
  },
  {
   "cell_type": "markdown",
   "id": "84102e75",
   "metadata": {},
   "source": [
    "## Binomial Logistic Regression"
   ]
  },
  {
   "cell_type": "markdown",
   "id": "90b946e9",
   "metadata": {},
   "source": [
    "**00.** You'll implement BLR on [*ULCA Admission*](https://stats.idre.ucla.edu/stat/data/binary.csv) dataset, which lists various scores of candidates, based on their success in previous education stage, and whether the candidate was accepted to ULCA or not. The name of this dataset file is `binary.csv`. "
   ]
  },
  {
   "cell_type": "code",
   "execution_count": 4,
   "id": "2197d208",
   "metadata": {},
   "outputs": [
    {
     "data": {
      "text/html": [
       "<div>\n",
       "<style scoped>\n",
       "    .dataframe tbody tr th:only-of-type {\n",
       "        vertical-align: middle;\n",
       "    }\n",
       "\n",
       "    .dataframe tbody tr th {\n",
       "        vertical-align: top;\n",
       "    }\n",
       "\n",
       "    .dataframe thead th {\n",
       "        text-align: right;\n",
       "    }\n",
       "</style>\n",
       "<table border=\"1\" class=\"dataframe\">\n",
       "  <thead>\n",
       "    <tr style=\"text-align: right;\">\n",
       "      <th></th>\n",
       "      <th>admit</th>\n",
       "      <th>gre</th>\n",
       "      <th>gpa</th>\n",
       "      <th>rank</th>\n",
       "    </tr>\n",
       "  </thead>\n",
       "  <tbody>\n",
       "    <tr>\n",
       "      <th>0</th>\n",
       "      <td>0</td>\n",
       "      <td>380</td>\n",
       "      <td>3.61</td>\n",
       "      <td>3</td>\n",
       "    </tr>\n",
       "    <tr>\n",
       "      <th>1</th>\n",
       "      <td>1</td>\n",
       "      <td>660</td>\n",
       "      <td>3.67</td>\n",
       "      <td>3</td>\n",
       "    </tr>\n",
       "    <tr>\n",
       "      <th>2</th>\n",
       "      <td>1</td>\n",
       "      <td>800</td>\n",
       "      <td>4.00</td>\n",
       "      <td>1</td>\n",
       "    </tr>\n",
       "    <tr>\n",
       "      <th>3</th>\n",
       "      <td>1</td>\n",
       "      <td>640</td>\n",
       "      <td>3.19</td>\n",
       "      <td>4</td>\n",
       "    </tr>\n",
       "    <tr>\n",
       "      <th>4</th>\n",
       "      <td>0</td>\n",
       "      <td>520</td>\n",
       "      <td>2.93</td>\n",
       "      <td>4</td>\n",
       "    </tr>\n",
       "    <tr>\n",
       "      <th>...</th>\n",
       "      <td>...</td>\n",
       "      <td>...</td>\n",
       "      <td>...</td>\n",
       "      <td>...</td>\n",
       "    </tr>\n",
       "    <tr>\n",
       "      <th>395</th>\n",
       "      <td>0</td>\n",
       "      <td>620</td>\n",
       "      <td>4.00</td>\n",
       "      <td>2</td>\n",
       "    </tr>\n",
       "    <tr>\n",
       "      <th>396</th>\n",
       "      <td>0</td>\n",
       "      <td>560</td>\n",
       "      <td>3.04</td>\n",
       "      <td>3</td>\n",
       "    </tr>\n",
       "    <tr>\n",
       "      <th>397</th>\n",
       "      <td>0</td>\n",
       "      <td>460</td>\n",
       "      <td>2.63</td>\n",
       "      <td>2</td>\n",
       "    </tr>\n",
       "    <tr>\n",
       "      <th>398</th>\n",
       "      <td>0</td>\n",
       "      <td>700</td>\n",
       "      <td>3.65</td>\n",
       "      <td>2</td>\n",
       "    </tr>\n",
       "    <tr>\n",
       "      <th>399</th>\n",
       "      <td>0</td>\n",
       "      <td>600</td>\n",
       "      <td>3.89</td>\n",
       "      <td>3</td>\n",
       "    </tr>\n",
       "  </tbody>\n",
       "</table>\n",
       "<p>400 rows × 4 columns</p>\n",
       "</div>"
      ],
      "text/plain": [
       "     admit  gre   gpa  rank\n",
       "0        0  380  3.61     3\n",
       "1        1  660  3.67     3\n",
       "2        1  800  4.00     1\n",
       "3        1  640  3.19     4\n",
       "4        0  520  2.93     4\n",
       "..     ...  ...   ...   ...\n",
       "395      0  620  4.00     2\n",
       "396      0  560  3.04     3\n",
       "397      0  460  2.63     2\n",
       "398      0  700  3.65     2\n",
       "399      0  600  3.89     3\n",
       "\n",
       "[400 rows x 4 columns]"
      ]
     },
     "execution_count": 4,
     "metadata": {},
     "output_type": "execute_result"
    }
   ],
   "source": [
    "# importing the dataset\n",
    "df = pd.read_csv(os.path.join(data_dir, 'binary.csv'))\n",
    "df"
   ]
  },
  {
   "cell_type": "markdown",
   "id": "c132181f",
   "metadata": {},
   "source": [
    "The fields of this dataset are:\n",
    "\n",
    "- `admit`: binary variable; whether the candidate is accepted `[1]` or not `[0]` to ULCA. This is going to be our target variable;\n",
    "\n",
    "\n",
    "- `gre`: *Graduate Record Examinations* - score of the GRE exam, a standardized exam, required for admission to gradute programs (prijemni);\n",
    "\n",
    "\n",
    "- `gpa`: *Grade Point Average* - score based on candidate's grades in previous education stage on 1.0 - 4.0 scale;\n",
    "\n",
    "\n",
    "- `rank`: categorical variable; - candidate's rank based on his succes in previous education stage, compared to other students in their class on 1 - 4 discrete scale. A candidate with low `gpa` score and high rank is an indication that they come from a weaker class; a candidate with high `gpa` score and low rank comes from though class."
   ]
  },
  {
   "cell_type": "markdown",
   "id": "6a140b40",
   "metadata": {},
   "source": [
    "**01.** Let's inspect our data using `.info()` method:"
   ]
  },
  {
   "cell_type": "code",
   "execution_count": 5,
   "id": "9e84d4d2",
   "metadata": {},
   "outputs": [
    {
     "name": "stdout",
     "output_type": "stream",
     "text": [
      "<class 'pandas.core.frame.DataFrame'>\n",
      "RangeIndex: 400 entries, 0 to 399\n",
      "Data columns (total 4 columns):\n",
      " #   Column  Non-Null Count  Dtype  \n",
      "---  ------  --------------  -----  \n",
      " 0   admit   400 non-null    int64  \n",
      " 1   gre     400 non-null    int64  \n",
      " 2   gpa     400 non-null    float64\n",
      " 3   rank    400 non-null    int64  \n",
      "dtypes: float64(1), int64(3)\n",
      "memory usage: 12.6 KB\n"
     ]
    }
   ],
   "source": [
    "df.info()"
   ]
  },
  {
   "cell_type": "markdown",
   "id": "9c930ba7",
   "metadata": {},
   "source": [
    "As we see, there are no `NaN` values, which is good. However, `rank`, which is a categorical variable is read as a numerical variable. \n",
    "\n",
    "Now, using `pd.CategoricalDtype` with argument `ordered=True`, cast the `rank` column to categorical type."
   ]
  },
  {
   "cell_type": "code",
   "execution_count": 6,
   "id": "0601d341",
   "metadata": {},
   "outputs": [],
   "source": [
    "### your code here ###"
   ]
  },
  {
   "cell_type": "markdown",
   "id": "df8aa552",
   "metadata": {},
   "source": [
    "**02.** Perform some elementary EDA to depict how the values of `gre`, `gpa` and `rank` are distributed among the binary values of `admint` target variable. "
   ]
  },
  {
   "cell_type": "code",
   "execution_count": 7,
   "id": "c20b0ef4",
   "metadata": {},
   "outputs": [],
   "source": [
    "### your code here ###"
   ]
  },
  {
   "cell_type": "markdown",
   "id": "7cc849d0",
   "metadata": {},
   "source": [
    "**03.** Compute the correlation between the values of numerical variables in this data? Are these results statistically significant?  "
   ]
  },
  {
   "cell_type": "code",
   "execution_count": 8,
   "id": "c3be8e66",
   "metadata": {},
   "outputs": [],
   "source": [
    "### your code here ###"
   ]
  },
  {
   "cell_type": "markdown",
   "id": "e38a0ac7",
   "metadata": {},
   "source": [
    "**04.** Use `.logit()` from `stasmodels` to fit a Binomial Logistic Regression model to the given data; this model should predict probabilities for `admit` binary labels from all the other variables."
   ]
  },
  {
   "cell_type": "code",
   "execution_count": 9,
   "id": "999403b9",
   "metadata": {},
   "outputs": [],
   "source": [
    "### your code here ###"
   ]
  },
  {
   "cell_type": "markdown",
   "id": "f492d1c5",
   "metadata": {},
   "source": [
    "**05.** Looking at the model summary, answer: Is the model statistically significant? What about the predictors of the model?"
   ]
  },
  {
   "cell_type": "code",
   "execution_count": 10,
   "id": "a30e2063",
   "metadata": {},
   "outputs": [],
   "source": [
    "### your code here ###"
   ]
  },
  {
   "cell_type": "markdown",
   "id": "361ee72b",
   "metadata": {},
   "source": [
    "**06.** Interpret the values of model coefficients. \n",
    "\n",
    "*Hint:* Try taking their exponentials."
   ]
  },
  {
   "cell_type": "code",
   "execution_count": 11,
   "id": "23ed3471",
   "metadata": {},
   "outputs": [],
   "source": [
    "### your code here ###"
   ]
  },
  {
   "cell_type": "markdown",
   "id": "1593dd04",
   "metadata": {},
   "source": [
    "**07.** Use the model on train data to predict the probabilities of a candidate being admitted to ULCA. We predict that a candidate will be admitted if the predicted probability is higher than 0.5."
   ]
  },
  {
   "cell_type": "code",
   "execution_count": 12,
   "id": "49da0775",
   "metadata": {},
   "outputs": [],
   "source": [
    "### your code here ###"
   ]
  },
  {
   "cell_type": "markdown",
   "id": "99861277",
   "metadata": {},
   "source": [
    "**08.** Evaluate model performance on train data by calculating its accuracy."
   ]
  },
  {
   "cell_type": "code",
   "execution_count": 13,
   "id": "afb75964",
   "metadata": {},
   "outputs": [],
   "source": [
    "### your code here ###"
   ]
  },
  {
   "cell_type": "markdown",
   "id": "79d9fe98",
   "metadata": {},
   "source": [
    "**09.** What is the log-likelihood of the model?"
   ]
  },
  {
   "cell_type": "code",
   "execution_count": 14,
   "id": "5d85a3f7",
   "metadata": {},
   "outputs": [],
   "source": [
    "### your code here ###"
   ]
  },
  {
   "cell_type": "markdown",
   "id": "07c947eb",
   "metadata": {},
   "source": [
    "***"
   ]
  },
  {
   "cell_type": "markdown",
   "id": "d240cdce",
   "metadata": {},
   "source": [
    "DataKolektiv, 2022/23.\n",
    "\n",
    "[hello@datakolektiv.com](mailto:goran.milovanovic@datakolektiv.com)\n",
    "\n",
    "![](../img/DK_Logo_100.png)"
   ]
  },
  {
   "cell_type": "markdown",
   "id": "9c9d4273",
   "metadata": {},
   "source": [
    "<font size=1>License: [GPLv3](https://www.gnu.org/licenses/gpl-3.0.txt) This Notebook is free software: you can redistribute it and/or modify it under the terms of the GNU General Public License as published by the Free Software Foundation, either version 3 of the License, or (at your option) any later version. This Notebook is distributed in the hope that it will be useful, but WITHOUT ANY WARRANTY; without even the implied warranty of MERCHANTABILITY or FITNESS FOR A PARTICULAR PURPOSE. See the GNU General Public License for more details. You should have received a copy of the GNU General Public License along with this Notebook. If not, see http://www.gnu.org/licenses/.</font>"
   ]
  }
 ],
 "metadata": {
  "kernelspec": {
   "display_name": "Python 3",
   "language": "python",
   "name": "python3"
  },
  "language_info": {
   "codemirror_mode": {
    "name": "ipython",
    "version": 3
   },
   "file_extension": ".py",
   "mimetype": "text/x-python",
   "name": "python",
   "nbconvert_exporter": "python",
   "pygments_lexer": "ipython3",
   "version": "3.8.8"
  }
 },
 "nbformat": 4,
 "nbformat_minor": 5
}
