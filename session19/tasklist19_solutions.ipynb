{
 "cells": [
  {
   "cell_type": "markdown",
   "id": "d8e68df6",
   "metadata": {},
   "source": [
    "# DATA SCIENCE SESSIONS VOL. 3\n",
    "### A Foundational Python Data Science Course\n",
    "## Tasklist 19: Generalized Linear Models IV. Poisson Regression. Negative Binomial Regression. \n",
    "\n",
    "[&larr; Back to course webpage](https://datakolektiv.com/)\n",
    "\n",
    "Feedback should be send to [goran.milovanovic@datakolektiv.com](mailto:goran.milovanovic@datakolektiv.com). \n",
    "\n",
    "These notebooks accompany the DATA SCIENCE SESSIONS VOL. 3 :: A Foundational Python Data Science Course."
   ]
  },
  {
   "cell_type": "markdown",
   "id": "71bb11b7",
   "metadata": {},
   "source": [
    "![](../img/IntroRDataScience_NonTech-1.jpg)"
   ]
  },
  {
   "cell_type": "markdown",
   "id": "12ee7b27",
   "metadata": {},
   "source": [
    "### Lecturers\n",
    "\n",
    "[Goran S. Milovanović, PhD, DataKolektiv, Chief Scientist & Owner](https://www.linkedin.com/in/gmilovanovic/)\n",
    "\n",
    "[Aleksandar Cvetković, PhD, DataKolektiv, Consultant](https://www.linkedin.com/in/alegzndr/)\n",
    "\n",
    "[Ilija Lazarević, MA, DataKolektiv, Consultant](https://www.linkedin.com/in/ilijalazarevic/)"
   ]
  },
  {
   "cell_type": "markdown",
   "id": "4d622e9d",
   "metadata": {},
   "source": [
    "![](../img/DK_Logo_100.png)"
   ]
  },
  {
   "cell_type": "markdown",
   "id": "d8c0ec9a",
   "metadata": {},
   "source": [
    "***"
   ]
  },
  {
   "cell_type": "markdown",
   "id": "de160cec",
   "metadata": {},
   "source": [
    "In this tasklist you'll get to practice Poisson and Negative Binomial Regression some more. Everything you need to know for this tasklist is already laid out in Session19 notebook, so you can dive in right away."
   ]
  },
  {
   "cell_type": "code",
   "execution_count": 1,
   "id": "29e1eaa0",
   "metadata": {},
   "outputs": [],
   "source": [
    "### --- Setup - importing the libraries\n",
    "\n",
    "# - supress those annoying 'Future Warning'\n",
    "import warnings\n",
    "warnings.simplefilter(action='ignore', category=FutureWarning)\n",
    "\n",
    "# - data\n",
    "import numpy as np\n",
    "import pandas as pd\n",
    "\n",
    "# - os\n",
    "import os\n",
    "\n",
    "# - ml\n",
    "from sklearn.linear_model import PoissonRegressor\n",
    "from sklearn.preprocessing import StandardScaler\n",
    "from sklearn.pipeline import Pipeline\n",
    "from sklearn.model_selection import GridSearchCV\n",
    "from sklearn.model_selection import KFold\n",
    "\n",
    "import statsmodels.api as sm\n",
    "import statsmodels.formula.api as smf\n",
    "\n",
    "# - visualization\n",
    "import matplotlib.pyplot as plt\n",
    "import seaborn as sns\n",
    "\n",
    "# - parameters\n",
    "%matplotlib inline\n",
    "\n",
    "pd.options.mode.chained_assignment = None  # default='warn'\n",
    "sns.set_theme()\n",
    "\n",
    "# - rng\n",
    "rng = np.random.default_rng(1234)\n",
    "\n",
    "# - plots\n",
    "plt.rc(\"figure\", figsize=(8, 6))\n",
    "plt.rc(\"font\", size=14)\n",
    "sns.set_theme(style='white')\n",
    "\n",
    "# - directory tree\n",
    "data_dir = os.path.join(os.getcwd(), '_data')"
   ]
  },
  {
   "cell_type": "markdown",
   "id": "58f8906b",
   "metadata": {},
   "source": [
    "We'll take a look at `Household Size in the Philippines` dataset, taken from the book [Beyond Multiple Linear Regression: Applied Generalized Linear Models and Multilevel Models in R, Paul Roback and Julie Legler](https://bookdown.org/roback/bookdown-BeyondMLR/); the dataset can be downloaded [here](https://github.com/proback/BeyondMLR), and you can also find it as `fHH1.csv` file in `_data` folder."
   ]
  },
  {
   "cell_type": "code",
   "execution_count": 2,
   "id": "b088e5fe",
   "metadata": {},
   "outputs": [
    {
     "data": {
      "text/html": [
       "<div>\n",
       "<style scoped>\n",
       "    .dataframe tbody tr th:only-of-type {\n",
       "        vertical-align: middle;\n",
       "    }\n",
       "\n",
       "    .dataframe tbody tr th {\n",
       "        vertical-align: top;\n",
       "    }\n",
       "\n",
       "    .dataframe thead th {\n",
       "        text-align: right;\n",
       "    }\n",
       "</style>\n",
       "<table border=\"1\" class=\"dataframe\">\n",
       "  <thead>\n",
       "    <tr style=\"text-align: right;\">\n",
       "      <th></th>\n",
       "      <th>location</th>\n",
       "      <th>age</th>\n",
       "      <th>total</th>\n",
       "      <th>numLT5</th>\n",
       "      <th>roof</th>\n",
       "    </tr>\n",
       "  </thead>\n",
       "  <tbody>\n",
       "    <tr>\n",
       "      <th>0</th>\n",
       "      <td>CentralLuzon</td>\n",
       "      <td>65</td>\n",
       "      <td>0</td>\n",
       "      <td>0</td>\n",
       "      <td>Predominantly Strong Material</td>\n",
       "    </tr>\n",
       "    <tr>\n",
       "      <th>1</th>\n",
       "      <td>MetroManila</td>\n",
       "      <td>75</td>\n",
       "      <td>3</td>\n",
       "      <td>0</td>\n",
       "      <td>Predominantly Strong Material</td>\n",
       "    </tr>\n",
       "    <tr>\n",
       "      <th>2</th>\n",
       "      <td>DavaoRegion</td>\n",
       "      <td>54</td>\n",
       "      <td>4</td>\n",
       "      <td>0</td>\n",
       "      <td>Predominantly Strong Material</td>\n",
       "    </tr>\n",
       "    <tr>\n",
       "      <th>3</th>\n",
       "      <td>Visayas</td>\n",
       "      <td>49</td>\n",
       "      <td>3</td>\n",
       "      <td>0</td>\n",
       "      <td>Predominantly Strong Material</td>\n",
       "    </tr>\n",
       "    <tr>\n",
       "      <th>4</th>\n",
       "      <td>MetroManila</td>\n",
       "      <td>74</td>\n",
       "      <td>3</td>\n",
       "      <td>0</td>\n",
       "      <td>Predominantly Strong Material</td>\n",
       "    </tr>\n",
       "    <tr>\n",
       "      <th>...</th>\n",
       "      <td>...</td>\n",
       "      <td>...</td>\n",
       "      <td>...</td>\n",
       "      <td>...</td>\n",
       "      <td>...</td>\n",
       "    </tr>\n",
       "    <tr>\n",
       "      <th>1495</th>\n",
       "      <td>Visayas</td>\n",
       "      <td>37</td>\n",
       "      <td>2</td>\n",
       "      <td>0</td>\n",
       "      <td>Predominantly Strong Material</td>\n",
       "    </tr>\n",
       "    <tr>\n",
       "      <th>1496</th>\n",
       "      <td>MetroManila</td>\n",
       "      <td>45</td>\n",
       "      <td>3</td>\n",
       "      <td>1</td>\n",
       "      <td>Predominantly Strong Material</td>\n",
       "    </tr>\n",
       "    <tr>\n",
       "      <th>1497</th>\n",
       "      <td>MetroManila</td>\n",
       "      <td>34</td>\n",
       "      <td>4</td>\n",
       "      <td>1</td>\n",
       "      <td>Predominantly Strong Material</td>\n",
       "    </tr>\n",
       "    <tr>\n",
       "      <th>1498</th>\n",
       "      <td>IlocosRegion</td>\n",
       "      <td>58</td>\n",
       "      <td>3</td>\n",
       "      <td>0</td>\n",
       "      <td>Predominantly Strong Material</td>\n",
       "    </tr>\n",
       "    <tr>\n",
       "      <th>1499</th>\n",
       "      <td>IlocosRegion</td>\n",
       "      <td>78</td>\n",
       "      <td>1</td>\n",
       "      <td>0</td>\n",
       "      <td>Predominantly Strong Material</td>\n",
       "    </tr>\n",
       "  </tbody>\n",
       "</table>\n",
       "<p>1500 rows × 5 columns</p>\n",
       "</div>"
      ],
      "text/plain": [
       "          location  age  total  numLT5                           roof\n",
       "0     CentralLuzon   65      0       0  Predominantly Strong Material\n",
       "1      MetroManila   75      3       0  Predominantly Strong Material\n",
       "2      DavaoRegion   54      4       0  Predominantly Strong Material\n",
       "3          Visayas   49      3       0  Predominantly Strong Material\n",
       "4      MetroManila   74      3       0  Predominantly Strong Material\n",
       "...            ...  ...    ...     ...                            ...\n",
       "1495       Visayas   37      2       0  Predominantly Strong Material\n",
       "1496   MetroManila   45      3       1  Predominantly Strong Material\n",
       "1497   MetroManila   34      4       1  Predominantly Strong Material\n",
       "1498  IlocosRegion   58      3       0  Predominantly Strong Material\n",
       "1499  IlocosRegion   78      1       0  Predominantly Strong Material\n",
       "\n",
       "[1500 rows x 5 columns]"
      ]
     },
     "execution_count": 2,
     "metadata": {},
     "output_type": "execute_result"
    }
   ],
   "source": [
    "df = pd.read_csv(os.path.join(data_dir, \"fHH1.csv\"))\n",
    "df"
   ]
  },
  {
   "cell_type": "markdown",
   "id": "775e751a",
   "metadata": {},
   "source": [
    "What we would like to do is to be able to predict the total variable, which represents the number of people living in a household (other than the head of the household), from the following covariates:\n",
    "\n",
    "- `location`: where the house is located (regions in the Philippines, whose The Philippine Statistics Authority (PSA) spearheads from the Family Income and Expenditure Survey (FIES) are the source of this dataset);\n",
    "- `age`: the age of the head of household;\n",
    "- `numLT5`: the number of people in the household under 5 years of age;\n",
    "- `roof`: the type of roof in the household (either Predominantly Light/Salvaged Material, or Predominantly Strong Material: stronger material can sometimes be used as a proxy for greater wealth)."
   ]
  },
  {
   "cell_type": "code",
   "execution_count": 3,
   "id": "a70979b4",
   "metadata": {},
   "outputs": [
    {
     "name": "stdout",
     "output_type": "stream",
     "text": [
      "<class 'pandas.core.frame.DataFrame'>\n",
      "RangeIndex: 1500 entries, 0 to 1499\n",
      "Data columns (total 5 columns):\n",
      " #   Column    Non-Null Count  Dtype \n",
      "---  ------    --------------  ----- \n",
      " 0   location  1500 non-null   object\n",
      " 1   age       1500 non-null   int64 \n",
      " 2   total     1500 non-null   int64 \n",
      " 3   numLT5    1500 non-null   int64 \n",
      " 4   roof      1500 non-null   object\n",
      "dtypes: int64(3), object(2)\n",
      "memory usage: 58.7+ KB\n"
     ]
    }
   ],
   "source": [
    "df.info()"
   ]
  },
  {
   "cell_type": "markdown",
   "id": "f3bc5da0",
   "metadata": {},
   "source": [
    "As we can see, the dataset does not contain missing values, and the types of variables are consistent with their definitions; so, no need for cleaning this dataset. "
   ]
  },
  {
   "cell_type": "markdown",
   "id": "52b4af08",
   "metadata": {},
   "source": [
    "**01.** Make a countplot showing the counts of every value present in the `total` variable. What distribution does this chart resemble?"
   ]
  },
  {
   "cell_type": "code",
   "execution_count": 4,
   "id": "7fe27a14",
   "metadata": {},
   "outputs": [
    {
     "data": {
      "image/png": "[encoded data removed]",
      "text/plain": [
       "<Figure size 576x432 with 1 Axes>"
      ]
     },
     "metadata": {},
     "output_type": "display_data"
    }
   ],
   "source": [
    "sns.countplot(df['total']);"
   ]
  },
  {
   "cell_type": "markdown",
   "id": "dd2806d8",
   "metadata": {},
   "source": [
    "**02.** Perform one-hot encoding of every categorical predictor in the dataset."
   ]
  },
  {
   "cell_type": "code",
   "execution_count": 5,
   "id": "3b6ce1c9",
   "metadata": {},
   "outputs": [
    {
     "data": {
      "text/html": [
       "<div>\n",
       "<style scoped>\n",
       "    .dataframe tbody tr th:only-of-type {\n",
       "        vertical-align: middle;\n",
       "    }\n",
       "\n",
       "    .dataframe tbody tr th {\n",
       "        vertical-align: top;\n",
       "    }\n",
       "\n",
       "    .dataframe thead th {\n",
       "        text-align: right;\n",
       "    }\n",
       "</style>\n",
       "<table border=\"1\" class=\"dataframe\">\n",
       "  <thead>\n",
       "    <tr style=\"text-align: right;\">\n",
       "      <th></th>\n",
       "      <th>age</th>\n",
       "      <th>total</th>\n",
       "      <th>numLT5</th>\n",
       "      <th>location_DavaoRegion</th>\n",
       "      <th>location_IlocosRegion</th>\n",
       "      <th>location_MetroManila</th>\n",
       "      <th>location_Visayas</th>\n",
       "      <th>roof_Predominantly Strong Material</th>\n",
       "    </tr>\n",
       "  </thead>\n",
       "  <tbody>\n",
       "    <tr>\n",
       "      <th>0</th>\n",
       "      <td>65</td>\n",
       "      <td>0</td>\n",
       "      <td>0</td>\n",
       "      <td>0</td>\n",
       "      <td>0</td>\n",
       "      <td>0</td>\n",
       "      <td>0</td>\n",
       "      <td>1</td>\n",
       "    </tr>\n",
       "    <tr>\n",
       "      <th>1</th>\n",
       "      <td>75</td>\n",
       "      <td>3</td>\n",
       "      <td>0</td>\n",
       "      <td>0</td>\n",
       "      <td>0</td>\n",
       "      <td>1</td>\n",
       "      <td>0</td>\n",
       "      <td>1</td>\n",
       "    </tr>\n",
       "    <tr>\n",
       "      <th>2</th>\n",
       "      <td>54</td>\n",
       "      <td>4</td>\n",
       "      <td>0</td>\n",
       "      <td>1</td>\n",
       "      <td>0</td>\n",
       "      <td>0</td>\n",
       "      <td>0</td>\n",
       "      <td>1</td>\n",
       "    </tr>\n",
       "    <tr>\n",
       "      <th>3</th>\n",
       "      <td>49</td>\n",
       "      <td>3</td>\n",
       "      <td>0</td>\n",
       "      <td>0</td>\n",
       "      <td>0</td>\n",
       "      <td>0</td>\n",
       "      <td>1</td>\n",
       "      <td>1</td>\n",
       "    </tr>\n",
       "    <tr>\n",
       "      <th>4</th>\n",
       "      <td>74</td>\n",
       "      <td>3</td>\n",
       "      <td>0</td>\n",
       "      <td>0</td>\n",
       "      <td>0</td>\n",
       "      <td>1</td>\n",
       "      <td>0</td>\n",
       "      <td>1</td>\n",
       "    </tr>\n",
       "    <tr>\n",
       "      <th>...</th>\n",
       "      <td>...</td>\n",
       "      <td>...</td>\n",
       "      <td>...</td>\n",
       "      <td>...</td>\n",
       "      <td>...</td>\n",
       "      <td>...</td>\n",
       "      <td>...</td>\n",
       "      <td>...</td>\n",
       "    </tr>\n",
       "    <tr>\n",
       "      <th>1495</th>\n",
       "      <td>37</td>\n",
       "      <td>2</td>\n",
       "      <td>0</td>\n",
       "      <td>0</td>\n",
       "      <td>0</td>\n",
       "      <td>0</td>\n",
       "      <td>1</td>\n",
       "      <td>1</td>\n",
       "    </tr>\n",
       "    <tr>\n",
       "      <th>1496</th>\n",
       "      <td>45</td>\n",
       "      <td>3</td>\n",
       "      <td>1</td>\n",
       "      <td>0</td>\n",
       "      <td>0</td>\n",
       "      <td>1</td>\n",
       "      <td>0</td>\n",
       "      <td>1</td>\n",
       "    </tr>\n",
       "    <tr>\n",
       "      <th>1497</th>\n",
       "      <td>34</td>\n",
       "      <td>4</td>\n",
       "      <td>1</td>\n",
       "      <td>0</td>\n",
       "      <td>0</td>\n",
       "      <td>1</td>\n",
       "      <td>0</td>\n",
       "      <td>1</td>\n",
       "    </tr>\n",
       "    <tr>\n",
       "      <th>1498</th>\n",
       "      <td>58</td>\n",
       "      <td>3</td>\n",
       "      <td>0</td>\n",
       "      <td>0</td>\n",
       "      <td>1</td>\n",
       "      <td>0</td>\n",
       "      <td>0</td>\n",
       "      <td>1</td>\n",
       "    </tr>\n",
       "    <tr>\n",
       "      <th>1499</th>\n",
       "      <td>78</td>\n",
       "      <td>1</td>\n",
       "      <td>0</td>\n",
       "      <td>0</td>\n",
       "      <td>1</td>\n",
       "      <td>0</td>\n",
       "      <td>0</td>\n",
       "      <td>1</td>\n",
       "    </tr>\n",
       "  </tbody>\n",
       "</table>\n",
       "<p>1500 rows × 8 columns</p>\n",
       "</div>"
      ],
      "text/plain": [
       "      age  total  numLT5  location_DavaoRegion  location_IlocosRegion  \\\n",
       "0      65      0       0                     0                      0   \n",
       "1      75      3       0                     0                      0   \n",
       "2      54      4       0                     1                      0   \n",
       "3      49      3       0                     0                      0   \n",
       "4      74      3       0                     0                      0   \n",
       "...   ...    ...     ...                   ...                    ...   \n",
       "1495   37      2       0                     0                      0   \n",
       "1496   45      3       1                     0                      0   \n",
       "1497   34      4       1                     0                      0   \n",
       "1498   58      3       0                     0                      1   \n",
       "1499   78      1       0                     0                      1   \n",
       "\n",
       "      location_MetroManila  location_Visayas  \\\n",
       "0                        0                 0   \n",
       "1                        1                 0   \n",
       "2                        0                 0   \n",
       "3                        0                 1   \n",
       "4                        1                 0   \n",
       "...                    ...               ...   \n",
       "1495                     0                 1   \n",
       "1496                     1                 0   \n",
       "1497                     1                 0   \n",
       "1498                     0                 0   \n",
       "1499                     0                 0   \n",
       "\n",
       "      roof_Predominantly Strong Material  \n",
       "0                                      1  \n",
       "1                                      1  \n",
       "2                                      1  \n",
       "3                                      1  \n",
       "4                                      1  \n",
       "...                                  ...  \n",
       "1495                                   1  \n",
       "1496                                   1  \n",
       "1497                                   1  \n",
       "1498                                   1  \n",
       "1499                                   1  \n",
       "\n",
       "[1500 rows x 8 columns]"
      ]
     },
     "execution_count": 5,
     "metadata": {},
     "output_type": "execute_result"
    }
   ],
   "source": [
    "df = pd.get_dummies(df, columns=['location', 'roof'], drop_first=True)\n",
    "df"
   ]
  },
  {
   "cell_type": "markdown",
   "id": "54037beb",
   "metadata": {},
   "source": [
    "**03.** \n",
    "\n",
    "**a)** Using `statsmodels` fit Poisson Regression on the given data to predict values of `total` variable from the rest of the variables. "
   ]
  },
  {
   "cell_type": "code",
   "execution_count": 6,
   "id": "ea239b14",
   "metadata": {},
   "outputs": [],
   "source": [
    "# X, y\n",
    "X = df.drop('total', axis=1)\n",
    "y = df['total']"
   ]
  },
  {
   "cell_type": "code",
   "execution_count": 7,
   "id": "ffafd087",
   "metadata": {},
   "outputs": [
    {
     "name": "stdout",
     "output_type": "stream",
     "text": [
      "                 Generalized Linear Model Regression Results                  \n",
      "==============================================================================\n",
      "Dep. Variable:                  total   No. Observations:                 1500\n",
      "Model:                            GLM   Df Residuals:                     1492\n",
      "Model Family:                 Poisson   Df Model:                            7\n",
      "Link Function:                    log   Scale:                          1.0000\n",
      "Method:                          IRLS   Log-Likelihood:                -3135.4\n",
      "Date:                Sun, 28 May 2023   Deviance:                       1897.9\n",
      "Time:                        23:59:00   Pearson chi2:                 1.76e+03\n",
      "No. Iterations:                     5                                         \n",
      "Covariance Type:            nonrobust                                         \n",
      "======================================================================================================\n",
      "                                         coef    std err          z      P>|z|      [0.025      0.975]\n",
      "------------------------------------------------------------------------------------------------------\n",
      "const                                  1.0613      0.075     14.140      0.000       0.914       1.208\n",
      "age                                   -0.0002      0.001     -0.235      0.814      -0.002       0.002\n",
      "numLT5                                 0.3643      0.017     21.995      0.000       0.332       0.397\n",
      "location_DavaoRegion                  -0.0459      0.054     -0.852      0.394      -0.152       0.060\n",
      "location_IlocosRegion                  0.0090      0.053      0.171      0.864      -0.094       0.112\n",
      "location_MetroManila                   0.0381      0.047      0.807      0.420      -0.055       0.131\n",
      "location_Visayas                       0.0486      0.042      1.151      0.250      -0.034       0.131\n",
      "roof_Predominantly Strong Material     0.0597      0.044      1.366      0.172      -0.026       0.145\n",
      "======================================================================================================\n"
     ]
    }
   ],
   "source": [
    "# Add a constant to the independent variable matrix\n",
    "X1 = sm.add_constant(X)\n",
    "\n",
    "# Fit a Poisson regression model\n",
    "poisson_model = sm.GLM(y, X1, family=sm.families.Poisson())\n",
    "poisson_results = poisson_model.fit()\n",
    "\n",
    "print(poisson_results.summary())"
   ]
  },
  {
   "cell_type": "markdown",
   "id": "1f74fabd",
   "metadata": {},
   "source": [
    "**b)** Take the exponentials of model coefficients and interpret the values."
   ]
  },
  {
   "cell_type": "code",
   "execution_count": 8,
   "id": "720813e3",
   "metadata": {
    "scrolled": false
   },
   "outputs": [
    {
     "data": {
      "text/plain": [
       "const                                 2.890241\n",
       "age                                   0.999774\n",
       "numLT5                                1.439566\n",
       "location_DavaoRegion                  0.955113\n",
       "location_IlocosRegion                 1.009072\n",
       "location_MetroManila                  1.038876\n",
       "location_Visayas                      1.049838\n",
       "roof_Predominantly Strong Material    1.061533\n",
       "dtype: float64"
      ]
     },
     "execution_count": 8,
     "metadata": {},
     "output_type": "execute_result"
    }
   ],
   "source": [
    "np.exp(poisson_results.params)"
   ]
  },
  {
   "cell_type": "markdown",
   "id": "d6d8911e",
   "metadata": {},
   "source": [
    "In Poisson regression, taking the exponentiation of the coefficients (e.g. $e^{\\beta_1}$) provides the expected count ratio associated with each independent variable. It quantifies the **multiplicative effect on the expected count of events** for a one-unit increase in the corresponding independent variable, assuming all other variables are held constant."
   ]
  },
  {
   "cell_type": "markdown",
   "id": "80fb41b2",
   "metadata": {},
   "source": [
    "**c)** Compute AIC of the model. "
   ]
  },
  {
   "cell_type": "code",
   "execution_count": 9,
   "id": "2002ef95",
   "metadata": {},
   "outputs": [
    {
     "name": "stdout",
     "output_type": "stream",
     "text": [
      "AIC: 6286.755454462616\n"
     ]
    }
   ],
   "source": [
    "# AIC = -2 * LL + 2 * k\n",
    "ll = poisson_results.llf\n",
    "k = X1.shape[1]\n",
    "aic = -2*ll + 2*k\n",
    "print(f'AIC: {aic}')"
   ]
  },
  {
   "cell_type": "markdown",
   "id": "527b2864",
   "metadata": {},
   "source": [
    "**d)** Is there overdispersion in the model?"
   ]
  },
  {
   "cell_type": "code",
   "execution_count": 10,
   "id": "e0ee1980",
   "metadata": {},
   "outputs": [
    {
     "name": "stdout",
     "output_type": "stream",
     "text": [
      "Ratio of Deviance to Degrees of Freedom:  1.272034853614132\n"
     ]
    }
   ],
   "source": [
    "# To test for overdispersion, we calculate the ratio of the deviance to the degrees of freedom\n",
    "# If this ratio is significantly greater than 1, it indicates overdispersion\n",
    "ratio = poisson_results.deviance / poisson_results.df_resid\n",
    "print('Ratio of Deviance to Degrees of Freedom: ', ratio)"
   ]
  },
  {
   "cell_type": "markdown",
   "id": "1c70dfe5",
   "metadata": {},
   "source": [
    "**04.** \n",
    "\n",
    "**a)** Use `scikit-learn` to fit Poisson Regression on the given data to predict values of `total` variable from the rest of the variables. Do not perform regularization."
   ]
  },
  {
   "cell_type": "code",
   "execution_count": 11,
   "id": "ecdc2051",
   "metadata": {},
   "outputs": [
    {
     "data": {
      "text/html": [
       "<style>#sk-container-id-1 {color: black;background-color: white;}#sk-container-id-1 pre{padding: 0;}#sk-container-id-1 div.sk-toggleable {background-color: white;}#sk-container-id-1 label.sk-toggleable__label {cursor: pointer;display: block;width: 100%;margin-bottom: 0;padding: 0.3em;box-sizing: border-box;text-align: center;}#sk-container-id-1 label.sk-toggleable__label-arrow:before {content: \"▸\";float: left;margin-right: 0.25em;color: #696969;}#sk-container-id-1 label.sk-toggleable__label-arrow:hover:before {color: black;}#sk-container-id-1 div.sk-estimator:hover label.sk-toggleable__label-arrow:before {color: black;}#sk-container-id-1 div.sk-toggleable__content {max-height: 0;max-width: 0;overflow: hidden;text-align: left;background-color: #f0f8ff;}#sk-container-id-1 div.sk-toggleable__content pre {margin: 0.2em;color: black;border-radius: 0.25em;background-color: #f0f8ff;}#sk-container-id-1 input.sk-toggleable__control:checked~div.sk-toggleable__content {max-height: 200px;max-width: 100%;overflow: auto;}#sk-container-id-1 input.sk-toggleable__control:checked~label.sk-toggleable__label-arrow:before {content: \"▾\";}#sk-container-id-1 div.sk-estimator input.sk-toggleable__control:checked~label.sk-toggleable__label {background-color: #d4ebff;}#sk-container-id-1 div.sk-label input.sk-toggleable__control:checked~label.sk-toggleable__label {background-color: #d4ebff;}#sk-container-id-1 input.sk-hidden--visually {border: 0;clip: rect(1px 1px 1px 1px);clip: rect(1px, 1px, 1px, 1px);height: 1px;margin: -1px;overflow: hidden;padding: 0;position: absolute;width: 1px;}#sk-container-id-1 div.sk-estimator {font-family: monospace;background-color: #f0f8ff;border: 1px dotted black;border-radius: 0.25em;box-sizing: border-box;margin-bottom: 0.5em;}#sk-container-id-1 div.sk-estimator:hover {background-color: #d4ebff;}#sk-container-id-1 div.sk-parallel-item::after {content: \"\";width: 100%;border-bottom: 1px solid gray;flex-grow: 1;}#sk-container-id-1 div.sk-label:hover label.sk-toggleable__label {background-color: #d4ebff;}#sk-container-id-1 div.sk-serial::before {content: \"\";position: absolute;border-left: 1px solid gray;box-sizing: border-box;top: 0;bottom: 0;left: 50%;z-index: 0;}#sk-container-id-1 div.sk-serial {display: flex;flex-direction: column;align-items: center;background-color: white;padding-right: 0.2em;padding-left: 0.2em;position: relative;}#sk-container-id-1 div.sk-item {position: relative;z-index: 1;}#sk-container-id-1 div.sk-parallel {display: flex;align-items: stretch;justify-content: center;background-color: white;position: relative;}#sk-container-id-1 div.sk-item::before, #sk-container-id-1 div.sk-parallel-item::before {content: \"\";position: absolute;border-left: 1px solid gray;box-sizing: border-box;top: 0;bottom: 0;left: 50%;z-index: -1;}#sk-container-id-1 div.sk-parallel-item {display: flex;flex-direction: column;z-index: 1;position: relative;background-color: white;}#sk-container-id-1 div.sk-parallel-item:first-child::after {align-self: flex-end;width: 50%;}#sk-container-id-1 div.sk-parallel-item:last-child::after {align-self: flex-start;width: 50%;}#sk-container-id-1 div.sk-parallel-item:only-child::after {width: 0;}#sk-container-id-1 div.sk-dashed-wrapped {border: 1px dashed gray;margin: 0 0.4em 0.5em 0.4em;box-sizing: border-box;padding-bottom: 0.4em;background-color: white;}#sk-container-id-1 div.sk-label label {font-family: monospace;font-weight: bold;display: inline-block;line-height: 1.2em;}#sk-container-id-1 div.sk-label-container {text-align: center;}#sk-container-id-1 div.sk-container {/* jupyter's `normalize.less` sets `[hidden] { display: none; }` but bootstrap.min.css set `[hidden] { display: none !important; }` so we also need the `!important` here to be able to override the default hidden behavior on the sphinx rendered scikit-learn.org. See: https://github.com/scikit-learn/scikit-learn/issues/21755 */display: inline-block !important;position: relative;}#sk-container-id-1 div.sk-text-repr-fallback {display: none;}</style><div id=\"sk-container-id-1\" class=\"sk-top-container\"><div class=\"sk-text-repr-fallback\"><pre>Pipeline(steps=[(&#x27;regressor&#x27;, PoissonRegressor(alpha=0, max_iter=10000))])</pre><b>In a Jupyter environment, please rerun this cell to show the HTML representation or trust the notebook. <br />On GitHub, the HTML representation is unable to render, please try loading this page with nbviewer.org.</b></div><div class=\"sk-container\" hidden><div class=\"sk-item sk-dashed-wrapped\"><div class=\"sk-label-container\"><div class=\"sk-label sk-toggleable\"><input class=\"sk-toggleable__control sk-hidden--visually\" id=\"sk-estimator-id-1\" type=\"checkbox\" ><label for=\"sk-estimator-id-1\" class=\"sk-toggleable__label sk-toggleable__label-arrow\">Pipeline</label><div class=\"sk-toggleable__content\"><pre>Pipeline(steps=[(&#x27;regressor&#x27;, PoissonRegressor(alpha=0, max_iter=10000))])</pre></div></div></div><div class=\"sk-serial\"><div class=\"sk-item\"><div class=\"sk-estimator sk-toggleable\"><input class=\"sk-toggleable__control sk-hidden--visually\" id=\"sk-estimator-id-2\" type=\"checkbox\" ><label for=\"sk-estimator-id-2\" class=\"sk-toggleable__label sk-toggleable__label-arrow\">PoissonRegressor</label><div class=\"sk-toggleable__content\"><pre>PoissonRegressor(alpha=0, max_iter=10000)</pre></div></div></div></div></div></div></div>"
      ],
      "text/plain": [
       "Pipeline(steps=[('regressor', PoissonRegressor(alpha=0, max_iter=10000))])"
      ]
     },
     "execution_count": 11,
     "metadata": {},
     "output_type": "execute_result"
    }
   ],
   "source": [
    "# X, y\n",
    "X = df.drop('total', axis=1)\n",
    "y = df['total']\n",
    "\n",
    "# Create a pipeline for preprocessing and Poisson Regression\n",
    "pipeline = Pipeline([\n",
    "    ('regressor', PoissonRegressor(alpha=0, max_iter=10000))\n",
    "])\n",
    "\n",
    "# Fit L2 regularized Poisson regression model\n",
    "pipeline.fit(X, y)"
   ]
  },
  {
   "cell_type": "code",
   "execution_count": 12,
   "id": "c5d5faf3",
   "metadata": {},
   "outputs": [
    {
     "data": {
      "text/plain": [
       "array([3.02336214, 3.13388266, 2.89492611, ..., 4.5533608 , 3.05560153,\n",
       "       3.04184862])"
      ]
     },
     "execution_count": 12,
     "metadata": {},
     "output_type": "execute_result"
    }
   ],
   "source": [
    "# this gives non-integer values\n",
    "pipeline.predict(X)"
   ]
  },
  {
   "cell_type": "code",
   "execution_count": 13,
   "id": "a7c1c17d",
   "metadata": {},
   "outputs": [
    {
     "data": {
      "text/plain": [
       "array([3., 3., 3., ..., 5., 3., 3.])"
      ]
     },
     "execution_count": 13,
     "metadata": {},
     "output_type": "execute_result"
    }
   ],
   "source": [
    "# but we need integer values, so we round\n",
    "\n",
    "pipeline.predict(X).round()"
   ]
  },
  {
   "cell_type": "markdown",
   "id": "8f03d362",
   "metadata": {},
   "source": [
    "**b)** What's $D^2$ score of the model?"
   ]
  },
  {
   "cell_type": "code",
   "execution_count": 14,
   "id": "a1622c1c",
   "metadata": {},
   "outputs": [
    {
     "name": "stdout",
     "output_type": "stream",
     "text": [
      "D2 =  0.1966621930352931\n"
     ]
    }
   ],
   "source": [
    "# How good is the model?\n",
    "d2 = pipeline.score(X,y)\n",
    "print(\"D2 = \", d2)"
   ]
  },
  {
   "cell_type": "markdown",
   "id": "5de33f22",
   "metadata": {},
   "source": [
    "**05.** Using `scikit-learn` and cross-validation, fit Poisson Regression with $L_2$ regularization. Calculate AIC and $D^2$ score of the optimally regularized model."
   ]
  },
  {
   "cell_type": "code",
   "execution_count": 15,
   "id": "d7ea11ac",
   "metadata": {},
   "outputs": [
    {
     "name": "stdout",
     "output_type": "stream",
     "text": [
      "Best Parameters:  {'regressor__alpha': 0.1}\n",
      "Best Score:  0.18854127084119318\n"
     ]
    }
   ],
   "source": [
    "# Create a pipeline for preprocessing and Poisson Regression\n",
    "pipeline = Pipeline([\n",
    "    ('regressor', PoissonRegressor(max_iter=10000))\n",
    "])\n",
    "\n",
    "# Define the parameter grid for tuning\n",
    "param_grid = {\n",
    "    'regressor__alpha': [0, .01 , .1, .25, .5, .75, 1, 2, 5, 10, 20, 50, 100] \n",
    "}\n",
    "\n",
    "# Create a cross-validation strategy\n",
    "cv = KFold(n_splits=5)\n",
    "\n",
    "# Perform grid search cross-validation\n",
    "grid_search = GridSearchCV(estimator=pipeline, \n",
    "                           param_grid=param_grid, \n",
    "                           cv=cv)\n",
    "grid_search.fit(X, y)\n",
    "\n",
    "# Print the best parameters and best score\n",
    "print(\"Best Parameters: \", grid_search.best_params_)\n",
    "print(\"Best Score: \", grid_search.best_score_)"
   ]
  },
  {
   "cell_type": "code",
   "execution_count": 16,
   "id": "46437f21",
   "metadata": {},
   "outputs": [
    {
     "name": "stdout",
     "output_type": "stream",
     "text": [
      "Intercept: 1.0968796525318354\n",
      "Coefficients: [-0.00040866  0.3500844  -0.04146293  0.00373767  0.02945356  0.0418979\n",
      "  0.04528022]\n",
      "exp(Intercept): 2.994806592033563\n",
      "exp(Coefficients): [0.99959143 1.41918733 0.9593849  1.00374466 1.02989161 1.04278801\n",
      " 1.04632102]\n",
      "D2 =  0.19625557144657058\n"
     ]
    }
   ],
   "source": [
    "# optimal alpha\n",
    "l2_penalty = grid_search.best_params_['regressor__alpha']\n",
    "\n",
    "# Create a pipeline for preprocessing and Poisson Regression\n",
    "pipeline = Pipeline([\n",
    "    ('regressor', PoissonRegressor(alpha=l2_penalty, max_iter=10000))\n",
    "])\n",
    "\n",
    "# Fit L2 regularized Poisson regression model\n",
    "pipeline.fit(X, y)\n",
    "\n",
    "# Grab model\n",
    "optimal_model = pipeline.named_steps['regressor']\n",
    "\n",
    "# Print the exp(coefficients)\n",
    "coefficients = optimal_model.coef_\n",
    "exp_coefficients = np.exp(optimal_model.coef_)\n",
    "intercept = optimal_model.intercept_\n",
    "exp_intercept = np.exp(optimal_model.intercept_)\n",
    "print(\"Intercept:\", intercept)\n",
    "print(\"Coefficients:\", coefficients)\n",
    "print(\"exp(Intercept):\", exp_intercept)\n",
    "print(\"exp(Coefficients):\", exp_coefficients)\n",
    "\n",
    "# How good is the model?\n",
    "d2 = optimal_model.score(X,y)\n",
    "print(\"D2 = \", d2)"
   ]
  },
  {
   "cell_type": "markdown",
   "id": "bcdcedde",
   "metadata": {},
   "source": [
    "`scikit-learn` does not have a support for easy calculation of AIC as `statsmodels` has. A way to find AIC score would be to fit the Regularized Poisson Regression Model with optimal $\\alpha$ via `statsmodels` `.fit_regularized()`. Unfortunately, this option supports only Elastic-Net Regularization, and not $L_2$ - as we did in this task. "
   ]
  },
  {
   "cell_type": "markdown",
   "id": "9d6d3034",
   "metadata": {},
   "source": [
    "**06.** Using `statsmodels` fit Negative Binomial Regression. Compute AIC and $D^2$ score of this model. Is there some significant improvement over Poisson Regression model? Why?"
   ]
  },
  {
   "cell_type": "code",
   "execution_count": 17,
   "id": "7fdf4c7c",
   "metadata": {},
   "outputs": [
    {
     "name": "stdout",
     "output_type": "stream",
     "text": [
      "Optimization terminated successfully.\n",
      "         Current function value: 2.085137\n",
      "         Iterations: 24\n",
      "         Function evaluations: 31\n",
      "         Gradient evaluations: 31\n",
      "                     NegativeBinomial Regression Results                      \n",
      "==============================================================================\n",
      "Dep. Variable:                  total   No. Observations:                 1500\n",
      "Model:               NegativeBinomial   Df Residuals:                     1492\n",
      "Method:                           MLE   Df Model:                            7\n",
      "Date:                Sun, 28 May 2023   Pseudo R-squ.:                 0.05238\n",
      "Time:                        23:59:10   Log-Likelihood:                -3127.7\n",
      "converged:                       True   LL-Null:                       -3300.6\n",
      "Covariance Type:            nonrobust   LLR p-value:                 9.827e-71\n",
      "======================================================================================================\n",
      "                                         coef    std err          z      P>|z|      [0.025      0.975]\n",
      "------------------------------------------------------------------------------------------------------\n",
      "const                                  1.0802      0.081     13.310      0.000       0.921       1.239\n",
      "age                                   -0.0006      0.001     -0.564      0.573      -0.003       0.001\n",
      "numLT5                                 0.3678      0.019     19.674      0.000       0.331       0.404\n",
      "location_DavaoRegion                  -0.0495      0.058     -0.858      0.391      -0.163       0.064\n",
      "location_IlocosRegion                  0.0087      0.057      0.154      0.878      -0.102       0.120\n",
      "location_MetroManila                   0.0396      0.051      0.781      0.435      -0.060       0.139\n",
      "location_Visayas                       0.0460      0.045      1.016      0.310      -0.043       0.135\n",
      "roof_Predominantly Strong Material     0.0594      0.047      1.260      0.208      -0.033       0.152\n",
      "alpha                                  0.0404      0.012      3.493      0.000       0.018       0.063\n",
      "======================================================================================================\n"
     ]
    }
   ],
   "source": [
    "from statsmodels.discrete.discrete_model import NegativeBinomial\n",
    "\n",
    "# Fit the negative binomial regression model\n",
    "model = NegativeBinomial(endog=y, exog=X1)\n",
    "res = model.fit()\n",
    "\n",
    "# Print the model summary\n",
    "print(res.summary())"
   ]
  },
  {
   "cell_type": "code",
   "execution_count": 18,
   "id": "425fedd0",
   "metadata": {},
   "outputs": [
    {
     "name": "stdout",
     "output_type": "stream",
     "text": [
      "AIC: 6271.409922193197\n"
     ]
    }
   ],
   "source": [
    "# AIC = -2 * LL + 2 * k\n",
    "ll = res.llf\n",
    "k = X1.shape[1]\n",
    "aic = -2*ll + 2*k\n",
    "print(f'AIC: {aic}')"
   ]
  },
  {
   "cell_type": "code",
   "execution_count": 19,
   "id": "47aa6220",
   "metadata": {},
   "outputs": [
    {
     "name": "stdout",
     "output_type": "stream",
     "text": [
      "512.5990351849497\n",
      "1385.5307499368441\n",
      "Residual Deviance: 1898.1297851217937\n",
      "Null Deviance: 2362.4880915998583\n",
      "D2: 0.19655477127235166\n"
     ]
    }
   ],
   "source": [
    "def calculate_dev(y_true,y_pred, scalar=False):\n",
    "    if not scalar:\n",
    "        score = np.zeros(y_true.size)\n",
    "        y0 = np.where(y_true==0)[0]\n",
    "        yn0 = np.where(y_true!=0)[0]\n",
    "        score[y0] = 2*(0 - (y_true[y0]-y_pred[y0]))\n",
    "        print(score[y0].sum())\n",
    "        score[yn0] = 2*(y_true[yn0] * np.log(y_true[yn0]/y_pred[yn0]) - (y_true[yn0]-y_pred[yn0]))\n",
    "        print(score[yn0].sum())\n",
    "        return(score.sum())\n",
    "    else:\n",
    "        score = np.zeros(y_true.size)\n",
    "        y0 = np.where(y_true==0)[0]\n",
    "        yn0 = np.where(y_true!=0)[0]\n",
    "        score[y0] = 2*(0 - (y_true[y0]-y_pred))\n",
    "        score[yn0] = 2*(y_true[yn0] * np.log(y_true[yn0]/y_pred) - (y_true[yn0]-y_pred))\n",
    "        return(score.sum())\n",
    "\n",
    "res_deviance = calculate_dev(y, res.predict())\n",
    "null_deviance = calculate_dev(y, np.mean(y), scalar=True)\n",
    "print(f'Residual Deviance: {res_deviance}')\n",
    "print(f'Null Deviance: {null_deviance}')\n",
    "d2 = 1-(res_deviance/null_deviance)\n",
    "print(f'D2: {d2}')"
   ]
  },
  {
   "cell_type": "markdown",
   "id": "ea8034a0",
   "metadata": {},
   "source": [
    "There isn't some significant improvement over Poisson Regression Model, as can be seen by comparing the two AIC scores. This is because there's not big overdispersion in the given data, as it can be seen from the `alpha` coefficient of the Negative Binomial Regression."
   ]
  },
  {
   "cell_type": "markdown",
   "id": "f964e0df",
   "metadata": {},
   "source": [
    "DataKolektiv, 2022/23.\n",
    "\n",
    "[hello@datakolektiv.com](mailto:goran.milovanovic@datakolektiv.com)\n",
    "\n",
    "![](../img/DK_Logo_100.png)"
   ]
  },
  {
   "cell_type": "markdown",
   "id": "0db78983",
   "metadata": {},
   "source": [
    "<font size=1>License: [GPLv3](https://www.gnu.org/licenses/gpl-3.0.txt) This Notebook is free software: you can redistribute it and/or modify it under the terms of the GNU General Public License as published by the Free Software Foundation, either version 3 of the License, or (at your option) any later version. This Notebook is distributed in the hope that it will be useful, but WITHOUT ANY WARRANTY; without even the implied warranty of MERCHANTABILITY or FITNESS FOR A PARTICULAR PURPOSE. See the GNU General Public License for more details. You should have received a copy of the GNU General Public License along with this Notebook. If not, see http://www.gnu.org/licenses/.</font>"
   ]
  }
 ],
 "metadata": {
  "kernelspec": {
   "display_name": "Python 3",
   "language": "python",
   "name": "python3"
  },
  "language_info": {
   "codemirror_mode": {
    "name": "ipython",
    "version": 3
   },
   "file_extension": ".py",
   "mimetype": "text/x-python",
   "name": "python",
   "nbconvert_exporter": "python",
   "pygments_lexer": "ipython3",
   "version": "3.8.8"
  }
 },
 "nbformat": 4,
 "nbformat_minor": 5
}
