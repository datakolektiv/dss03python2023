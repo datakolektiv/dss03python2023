{
 "cells": [
  {
   "cell_type": "markdown",
   "id": "d8e68df6",
   "metadata": {},
   "source": [
    "# DATA SCIENCE SESSIONS VOL. 3\n",
    "### A Foundational Python Data Science Course\n",
    "## Tasklist 19: Generalized Linear Models IV. Poisson Regression. Negative Binomial Regression. \n",
    "\n",
    "[&larr; Back to course webpage](https://datakolektiv.com/)\n",
    "\n",
    "Feedback should be send to [goran.milovanovic@datakolektiv.com](mailto:goran.milovanovic@datakolektiv.com). \n",
    "\n",
    "These notebooks accompany the DATA SCIENCE SESSIONS VOL. 3 :: A Foundational Python Data Science Course."
   ]
  },
  {
   "cell_type": "markdown",
   "id": "71bb11b7",
   "metadata": {},
   "source": [
    "![](../img/IntroRDataScience_NonTech-1.jpg)"
   ]
  },
  {
   "cell_type": "markdown",
   "id": "12ee7b27",
   "metadata": {},
   "source": [
    "### Lecturers\n",
    "\n",
    "[Goran S. Milovanović, PhD, DataKolektiv, Chief Scientist & Owner](https://www.linkedin.com/in/gmilovanovic/)\n",
    "\n",
    "[Aleksandar Cvetković, PhD, DataKolektiv, Consultant](https://www.linkedin.com/in/alegzndr/)\n",
    "\n",
    "[Ilija Lazarević, MA, DataKolektiv, Consultant](https://www.linkedin.com/in/ilijalazarevic/)"
   ]
  },
  {
   "cell_type": "markdown",
   "id": "4d622e9d",
   "metadata": {},
   "source": [
    "![](../img/DK_Logo_100.png)"
   ]
  },
  {
   "cell_type": "markdown",
   "id": "d8c0ec9a",
   "metadata": {},
   "source": [
    "***"
   ]
  },
  {
   "cell_type": "markdown",
   "id": "de160cec",
   "metadata": {},
   "source": [
    "In this tasklist you'll get to practice Poisson and Negative Binomial Regression some more. Everything you need to know for this tasklist is already laid out in Session19 notebook, so you can dive in right away."
   ]
  },
  {
   "cell_type": "code",
   "execution_count": 1,
   "id": "29e1eaa0",
   "metadata": {},
   "outputs": [],
   "source": [
    "### --- Setup - importing the libraries\n",
    "\n",
    "# - supress those annoying 'Future Warning'\n",
    "import warnings\n",
    "warnings.simplefilter(action='ignore', category=FutureWarning)\n",
    "\n",
    "# - data\n",
    "import numpy as np\n",
    "import pandas as pd\n",
    "\n",
    "# - os\n",
    "import os\n",
    "\n",
    "# - ml\n",
    "from sklearn.linear_model import PoissonRegressor\n",
    "from sklearn.preprocessing import StandardScaler\n",
    "from sklearn.pipeline import Pipeline\n",
    "from sklearn.model_selection import GridSearchCV\n",
    "from sklearn.model_selection import KFold\n",
    "\n",
    "import statsmodels.api as sm\n",
    "import statsmodels.formula.api as smf\n",
    "\n",
    "# - visualization\n",
    "import matplotlib.pyplot as plt\n",
    "import seaborn as sns\n",
    "\n",
    "# - parameters\n",
    "%matplotlib inline\n",
    "\n",
    "pd.options.mode.chained_assignment = None  # default='warn'\n",
    "sns.set_theme()\n",
    "\n",
    "# - rng\n",
    "rng = np.random.default_rng(1234)\n",
    "\n",
    "# - plots\n",
    "plt.rc(\"figure\", figsize=(8, 6))\n",
    "plt.rc(\"font\", size=14)\n",
    "sns.set_theme(style='white')\n",
    "\n",
    "# - directory tree\n",
    "data_dir = os.path.join(os.getcwd(), '_data')"
   ]
  },
  {
   "cell_type": "markdown",
   "id": "58f8906b",
   "metadata": {},
   "source": [
    "We'll take a look at `Household Size in the Philippines` dataset, taken from the book [Beyond Multiple Linear Regression: Applied Generalized Linear Models and Multilevel Models in R, Paul Roback and Julie Legler](https://bookdown.org/roback/bookdown-BeyondMLR/); the dataset can be downloaded [here](https://github.com/proback/BeyondMLR), and you can also find it as `fHH1.csv` file in `_data` folder."
   ]
  },
  {
   "cell_type": "code",
   "execution_count": 2,
   "id": "b088e5fe",
   "metadata": {},
   "outputs": [
    {
     "data": {
      "text/html": [
       "<div>\n",
       "<style scoped>\n",
       "    .dataframe tbody tr th:only-of-type {\n",
       "        vertical-align: middle;\n",
       "    }\n",
       "\n",
       "    .dataframe tbody tr th {\n",
       "        vertical-align: top;\n",
       "    }\n",
       "\n",
       "    .dataframe thead th {\n",
       "        text-align: right;\n",
       "    }\n",
       "</style>\n",
       "<table border=\"1\" class=\"dataframe\">\n",
       "  <thead>\n",
       "    <tr style=\"text-align: right;\">\n",
       "      <th></th>\n",
       "      <th>location</th>\n",
       "      <th>age</th>\n",
       "      <th>total</th>\n",
       "      <th>numLT5</th>\n",
       "      <th>roof</th>\n",
       "    </tr>\n",
       "  </thead>\n",
       "  <tbody>\n",
       "    <tr>\n",
       "      <th>0</th>\n",
       "      <td>CentralLuzon</td>\n",
       "      <td>65</td>\n",
       "      <td>0</td>\n",
       "      <td>0</td>\n",
       "      <td>Predominantly Strong Material</td>\n",
       "    </tr>\n",
       "    <tr>\n",
       "      <th>1</th>\n",
       "      <td>MetroManila</td>\n",
       "      <td>75</td>\n",
       "      <td>3</td>\n",
       "      <td>0</td>\n",
       "      <td>Predominantly Strong Material</td>\n",
       "    </tr>\n",
       "    <tr>\n",
       "      <th>2</th>\n",
       "      <td>DavaoRegion</td>\n",
       "      <td>54</td>\n",
       "      <td>4</td>\n",
       "      <td>0</td>\n",
       "      <td>Predominantly Strong Material</td>\n",
       "    </tr>\n",
       "    <tr>\n",
       "      <th>3</th>\n",
       "      <td>Visayas</td>\n",
       "      <td>49</td>\n",
       "      <td>3</td>\n",
       "      <td>0</td>\n",
       "      <td>Predominantly Strong Material</td>\n",
       "    </tr>\n",
       "    <tr>\n",
       "      <th>4</th>\n",
       "      <td>MetroManila</td>\n",
       "      <td>74</td>\n",
       "      <td>3</td>\n",
       "      <td>0</td>\n",
       "      <td>Predominantly Strong Material</td>\n",
       "    </tr>\n",
       "    <tr>\n",
       "      <th>...</th>\n",
       "      <td>...</td>\n",
       "      <td>...</td>\n",
       "      <td>...</td>\n",
       "      <td>...</td>\n",
       "      <td>...</td>\n",
       "    </tr>\n",
       "    <tr>\n",
       "      <th>1495</th>\n",
       "      <td>Visayas</td>\n",
       "      <td>37</td>\n",
       "      <td>2</td>\n",
       "      <td>0</td>\n",
       "      <td>Predominantly Strong Material</td>\n",
       "    </tr>\n",
       "    <tr>\n",
       "      <th>1496</th>\n",
       "      <td>MetroManila</td>\n",
       "      <td>45</td>\n",
       "      <td>3</td>\n",
       "      <td>1</td>\n",
       "      <td>Predominantly Strong Material</td>\n",
       "    </tr>\n",
       "    <tr>\n",
       "      <th>1497</th>\n",
       "      <td>MetroManila</td>\n",
       "      <td>34</td>\n",
       "      <td>4</td>\n",
       "      <td>1</td>\n",
       "      <td>Predominantly Strong Material</td>\n",
       "    </tr>\n",
       "    <tr>\n",
       "      <th>1498</th>\n",
       "      <td>IlocosRegion</td>\n",
       "      <td>58</td>\n",
       "      <td>3</td>\n",
       "      <td>0</td>\n",
       "      <td>Predominantly Strong Material</td>\n",
       "    </tr>\n",
       "    <tr>\n",
       "      <th>1499</th>\n",
       "      <td>IlocosRegion</td>\n",
       "      <td>78</td>\n",
       "      <td>1</td>\n",
       "      <td>0</td>\n",
       "      <td>Predominantly Strong Material</td>\n",
       "    </tr>\n",
       "  </tbody>\n",
       "</table>\n",
       "<p>1500 rows × 5 columns</p>\n",
       "</div>"
      ],
      "text/plain": [
       "          location  age  total  numLT5                           roof\n",
       "0     CentralLuzon   65      0       0  Predominantly Strong Material\n",
       "1      MetroManila   75      3       0  Predominantly Strong Material\n",
       "2      DavaoRegion   54      4       0  Predominantly Strong Material\n",
       "3          Visayas   49      3       0  Predominantly Strong Material\n",
       "4      MetroManila   74      3       0  Predominantly Strong Material\n",
       "...            ...  ...    ...     ...                            ...\n",
       "1495       Visayas   37      2       0  Predominantly Strong Material\n",
       "1496   MetroManila   45      3       1  Predominantly Strong Material\n",
       "1497   MetroManila   34      4       1  Predominantly Strong Material\n",
       "1498  IlocosRegion   58      3       0  Predominantly Strong Material\n",
       "1499  IlocosRegion   78      1       0  Predominantly Strong Material\n",
       "\n",
       "[1500 rows x 5 columns]"
      ]
     },
     "execution_count": 2,
     "metadata": {},
     "output_type": "execute_result"
    }
   ],
   "source": [
    "df = pd.read_csv(os.path.join(data_dir, \"fHH1.csv\"))\n",
    "df"
   ]
  },
  {
   "cell_type": "markdown",
   "id": "775e751a",
   "metadata": {},
   "source": [
    "What we would like to do is to be able to predict the total variable, which represents the number of people living in a household (other than the head of the household), from the following covariates:\n",
    "\n",
    "- `location`: where the house is located (regions in the Philippines, whose The Philippine Statistics Authority (PSA) spearheads from the Family Income and Expenditure Survey (FIES) are the source of this dataset);\n",
    "- `age`: the age of the head of household;\n",
    "- `numLT5`: the number of people in the household under 5 years of age;\n",
    "- `roof`: the type of roof in the household (either Predominantly Light/Salvaged Material, or Predominantly Strong Material: stronger material can sometimes be used as a proxy for greater wealth)."
   ]
  },
  {
   "cell_type": "code",
   "execution_count": 3,
   "id": "a70979b4",
   "metadata": {},
   "outputs": [
    {
     "name": "stdout",
     "output_type": "stream",
     "text": [
      "<class 'pandas.core.frame.DataFrame'>\n",
      "RangeIndex: 1500 entries, 0 to 1499\n",
      "Data columns (total 5 columns):\n",
      " #   Column    Non-Null Count  Dtype \n",
      "---  ------    --------------  ----- \n",
      " 0   location  1500 non-null   object\n",
      " 1   age       1500 non-null   int64 \n",
      " 2   total     1500 non-null   int64 \n",
      " 3   numLT5    1500 non-null   int64 \n",
      " 4   roof      1500 non-null   object\n",
      "dtypes: int64(3), object(2)\n",
      "memory usage: 58.7+ KB\n"
     ]
    }
   ],
   "source": [
    "df.info()"
   ]
  },
  {
   "cell_type": "markdown",
   "id": "f3bc5da0",
   "metadata": {},
   "source": [
    "As we can see, the dataset does not contain missing values, and the types of variables are consistent with their definitions; so, no need for cleaning this dataset. "
   ]
  },
  {
   "cell_type": "markdown",
   "id": "52b4af08",
   "metadata": {},
   "source": [
    "**01.** Make a countplot showing the counts of every value present in the `total` variable. What distribution does this chart resemble?"
   ]
  },
  {
   "cell_type": "code",
   "execution_count": 4,
   "id": "7fe27a14",
   "metadata": {},
   "outputs": [],
   "source": [
    "### your code here ###"
   ]
  },
  {
   "cell_type": "markdown",
   "id": "dd2806d8",
   "metadata": {},
   "source": [
    "**02.** Perform one-hot encoding of every categorical predictor in the dataset."
   ]
  },
  {
   "cell_type": "code",
   "execution_count": 5,
   "id": "3b6ce1c9",
   "metadata": {},
   "outputs": [],
   "source": [
    "### your code here ###"
   ]
  },
  {
   "cell_type": "markdown",
   "id": "54037beb",
   "metadata": {},
   "source": [
    "**03.** \n",
    "\n",
    "**a)** Using `statsmodels` fit Poisson Regression on the given data to predict values of `total` variable from the rest of the variables. "
   ]
  },
  {
   "cell_type": "code",
   "execution_count": 6,
   "id": "ea239b14",
   "metadata": {},
   "outputs": [],
   "source": [
    "### your code here ###"
   ]
  },
  {
   "cell_type": "markdown",
   "id": "1f74fabd",
   "metadata": {},
   "source": [
    "**b)** Take the exponentials of model coefficients and interpret the values."
   ]
  },
  {
   "cell_type": "code",
   "execution_count": 7,
   "id": "720813e3",
   "metadata": {},
   "outputs": [],
   "source": [
    "### your code here ###"
   ]
  },
  {
   "cell_type": "markdown",
   "id": "80fb41b2",
   "metadata": {},
   "source": [
    "**c)** Compute AIC of the model. "
   ]
  },
  {
   "cell_type": "code",
   "execution_count": 8,
   "id": "2002ef95",
   "metadata": {},
   "outputs": [],
   "source": [
    "### your code here ###"
   ]
  },
  {
   "cell_type": "markdown",
   "id": "527b2864",
   "metadata": {},
   "source": [
    "**d)** Is there overdispersion in the model?"
   ]
  },
  {
   "cell_type": "code",
   "execution_count": 9,
   "id": "e0ee1980",
   "metadata": {},
   "outputs": [],
   "source": [
    "### your code here ###"
   ]
  },
  {
   "cell_type": "markdown",
   "id": "1c70dfe5",
   "metadata": {},
   "source": [
    "**04.** \n",
    "\n",
    "**a)** Use `scikit-learn` to fit Poisson Regression on the given data to predict values of `total` variable from the rest of the variables. Do not perform regularization."
   ]
  },
  {
   "cell_type": "code",
   "execution_count": 10,
   "id": "ecdc2051",
   "metadata": {},
   "outputs": [],
   "source": [
    "### your code here ###"
   ]
  },
  {
   "cell_type": "markdown",
   "id": "8f03d362",
   "metadata": {},
   "source": [
    "**b)** What's $D^2$ score of the model?"
   ]
  },
  {
   "cell_type": "code",
   "execution_count": 11,
   "id": "a1622c1c",
   "metadata": {},
   "outputs": [],
   "source": [
    "### your code here ###"
   ]
  },
  {
   "cell_type": "markdown",
   "id": "5de33f22",
   "metadata": {},
   "source": [
    "**05.** Using `scikit-learn` and cross-validation, fit Poisson Regression with $L_2$ regularization. Calculate AIC and $D^2$ score of the optimally regularized model."
   ]
  },
  {
   "cell_type": "code",
   "execution_count": 12,
   "id": "d7ea11ac",
   "metadata": {},
   "outputs": [],
   "source": [
    "### your code here ###"
   ]
  },
  {
   "cell_type": "markdown",
   "id": "9d6d3034",
   "metadata": {},
   "source": [
    "**06.** Using `statsmodels` fit Negative Binomial Regression. Compute AIC and $D^2$ score of this model. Is there some significant improvement over Poisson Regression model? Why?"
   ]
  },
  {
   "cell_type": "code",
   "execution_count": 13,
   "id": "7fdf4c7c",
   "metadata": {},
   "outputs": [],
   "source": [
    "### your code here ###"
   ]
  },
  {
   "cell_type": "markdown",
   "id": "f964e0df",
   "metadata": {},
   "source": [
    "DataKolektiv, 2022/23.\n",
    "\n",
    "[hello@datakolektiv.com](mailto:goran.milovanovic@datakolektiv.com)\n",
    "\n",
    "![](../img/DK_Logo_100.png)"
   ]
  },
  {
   "cell_type": "markdown",
   "id": "0db78983",
   "metadata": {},
   "source": [
    "<font size=1>License: [GPLv3](https://www.gnu.org/licenses/gpl-3.0.txt) This Notebook is free software: you can redistribute it and/or modify it under the terms of the GNU General Public License as published by the Free Software Foundation, either version 3 of the License, or (at your option) any later version. This Notebook is distributed in the hope that it will be useful, but WITHOUT ANY WARRANTY; without even the implied warranty of MERCHANTABILITY or FITNESS FOR A PARTICULAR PURPOSE. See the GNU General Public License for more details. You should have received a copy of the GNU General Public License along with this Notebook. If not, see http://www.gnu.org/licenses/.</font>"
   ]
  }
 ],
 "metadata": {
  "kernelspec": {
   "display_name": "Python 3",
   "language": "python",
   "name": "python3"
  },
  "language_info": {
   "codemirror_mode": {
    "name": "ipython",
    "version": 3
   },
   "file_extension": ".py",
   "mimetype": "text/x-python",
   "name": "python",
   "nbconvert_exporter": "python",
   "pygments_lexer": "ipython3",
   "version": "3.8.8"
  }
 },
 "nbformat": 4,
 "nbformat_minor": 5
}
