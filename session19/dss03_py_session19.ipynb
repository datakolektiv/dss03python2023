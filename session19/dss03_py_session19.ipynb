{
 "cells": [
  {
   "attachments": {},
   "cell_type": "markdown",
   "id": "45045c69",
   "metadata": {},
   "source": [
    "# DATA SCIENCE SESSIONS VOL. 3\n",
    "### A Foundational Python Data Science Course\n",
    "## Session 19: Generalized Linear Models IV. Poisson Regression. Zero-Inflated Poisson Regression. Negative Binomial Regression. \n",
    "\n",
    "[&larr; Back to course webpage](https://datakolektiv.com/)\n",
    "\n",
    "Feedback should be send to [goran.milovanovic@datakolektiv.com](mailto:goran.milovanovic@datakolektiv.com). \n",
    "\n",
    "These notebooks accompany the DATA SCIENCE SESSIONS VOL. 3 :: A Foundational Python Data Science Course."
   ]
  },
  {
   "attachments": {},
   "cell_type": "markdown",
   "id": "62cd48f6",
   "metadata": {},
   "source": [
    "![](../img/IntroRDataScience_NonTech-1.jpg)"
   ]
  },
  {
   "attachments": {},
   "cell_type": "markdown",
   "id": "500b83fb",
   "metadata": {},
   "source": [
    "### Lecturers\n",
    "\n",
    "[Goran S. Milovanović, PhD, DataKolektiv, Chief Scientist & Owner](https://www.linkedin.com/in/gmilovanovic/)\n",
    "\n",
    "[Aleksandar Cvetković, PhD, DataKolektiv, Consultant](https://www.linkedin.com/in/alegzndr/)\n",
    "\n",
    "[Ilija Lazarević, MA, DataKolektiv, Consultant](https://www.linkedin.com/in/ilijalazarevic/)"
   ]
  },
  {
   "attachments": {},
   "cell_type": "markdown",
   "id": "ab6dd040",
   "metadata": {},
   "source": [
    "![](../img/DK_Logo_100.png)"
   ]
  },
  {
   "attachments": {},
   "cell_type": "markdown",
   "id": "1110a258",
   "metadata": {},
   "source": [
    "***"
   ]
  },
  {
   "cell_type": "code",
   "execution_count": 1,
   "id": "a4a7b078",
   "metadata": {},
   "outputs": [],
   "source": [
    "### --- Setup - importing the libraries\n",
    "\n",
    "# - supress those annoying 'Future Warning'\n",
    "import warnings\n",
    "warnings.simplefilter(action='ignore', category=FutureWarning)\n",
    "\n",
    "# - data\n",
    "import numpy as np\n",
    "import pandas as pd\n",
    "\n",
    "# - os\n",
    "import os\n",
    "\n",
    "# - ml\n",
    "from sklearn.linear_model import PoissonRegressor\n",
    "from sklearn.preprocessing import StandardScaler\n",
    "from sklearn.pipeline import Pipeline\n",
    "from sklearn.model_selection import GridSearchCV\n",
    "from sklearn.model_selection import KFold\n",
    "\n",
    "import statsmodels.api as sm\n",
    "import statsmodels.formula.api as smf\n",
    "\n",
    "# - visualization\n",
    "import matplotlib.pyplot as plt\n",
    "import seaborn as sns\n",
    "\n",
    "# - parameters\n",
    "%matplotlib inline\n",
    "\n",
    "pd.options.mode.chained_assignment = None  # default='warn'\n",
    "sns.set_theme()\n",
    "\n",
    "# - rng\n",
    "rng = np.random.default_rng(1234)\n",
    "\n",
    "# - plots\n",
    "plt.rc(\"figure\", figsize=(8, 6))\n",
    "plt.rc(\"font\", size=14)\n",
    "sns.set_theme(style='white')\n",
    "\n",
    "# - directory tree\n",
    "data_dir = os.path.join(os.getcwd(), '_data')"
   ]
  },
  {
   "attachments": {},
   "cell_type": "markdown",
   "id": "0998760c",
   "metadata": {},
   "source": [
    "## 1. Poisson Regression"
   ]
  },
  {
   "attachments": {},
   "cell_type": "markdown",
   "id": "d2048ef9",
   "metadata": {},
   "source": [
    "Poisson regression is a statistical modeling technique used to analyze data that follows a Poisson distribution. The Poisson distribution is commonly used to model count data, where the number of occurrences of an event is of interest. Poisson regression extends this concept by allowing the analysis of multiple predictors or independent variables to explain the count response variable.\n",
    "\n",
    "In Poisson regression, the dependent variable is assumed to follow a Poisson distribution, which means it represents counts of events occurring within a fixed interval of time or space. The independent variables are typically continuous, categorical, or a combination of both. The goal is to estimate the relationship between the independent variables and the expected count of events.\n",
    "\n",
    "The key assumption in Poisson regression is that the mean and variance of the dependent variable are equal. This assumption is known as equidispersion. However, count data often exhibit overdispersion, where the variance exceeds the mean. In such cases, the Negative Binomial regression, which accounts for overdispersion, may be more appropriate.\n",
    "\n",
    "Poisson regression uses the log-link function to model the relationship between the predictors and the expected count. The log transformation ensures that the predicted counts are positive. The model estimates coefficients for each independent variable, indicating how they contribute to the expected count. These coefficients can be interpreted as the change in the log count for a one-unit change in the corresponding predictor, assuming all other variables are held constant.\n",
    "\n",
    "Poisson regression is used in various fields where count data analysis is relevant, such as:\n",
    "\n",
    "- Epidemiology: Analyzing disease incidence or event counts.\n",
    "- Finance: Modeling the frequency of rare events like defaults or insurance claims.\n",
    "- Social sciences: Examining the number of criminal offenses or the frequency of certain behaviors.\n",
    "- Marketing: Analyzing the number of customer purchases or website visits.\n",
    "- Ecology: Studying population counts or species abundance."
   ]
  },
  {
   "attachments": {},
   "cell_type": "markdown",
   "id": "30cbc780",
   "metadata": {},
   "source": [
    "### Refresher: Poisson Distribution"
   ]
  },
  {
   "attachments": {},
   "cell_type": "markdown",
   "id": "aaea9b64",
   "metadata": {},
   "source": [
    "Poisson Distribution gives an answer to the following question: *if the average number of occurences of an event during some time interval is $\\lambda$ - what is the probability of that event occuring $k$ times during the that interval?* \n",
    "\n",
    "Poisson Distribution has only one parameter: average number of occurences $\\lambda$.\n",
    "\n",
    "Random variable $X$ having Poisson Distribution has (countably) infinite values.\n",
    "\n",
    "We can calculate probabilities theoretically using a formula for a RV having Geometric Distribution:\n",
    "\n",
    "$$P(X=k) = \\frac{\\lambda^ke^{-\\lambda}}{k!}.$$"
   ]
  },
  {
   "cell_type": "code",
   "execution_count": 2,
   "id": "aa840b91",
   "metadata": {},
   "outputs": [
    {
     "data": {
      "image/png": "[encoded data removed]",
      "text/plain": [
       "<Figure size 2000x600 with 1 Axes>"
      ]
     },
     "metadata": {},
     "output_type": "display_data"
    }
   ],
   "source": [
    "def sample_from_poisson(lam, no_tries=10**6, k=None):\n",
    "    \n",
    "    outcomes = rng.poisson(lam, size=no_tries)\n",
    "    no_outcomes = np.unique(outcomes, return_counts=True)\n",
    "\n",
    "\n",
    "    fig, ax = plt.subplots(figsize=(20, 6))\n",
    "\n",
    "    sns.barplot(ax = ax, x = no_outcomes[0], y = no_outcomes[1]/no_tries)\n",
    "    \n",
    "    \n",
    "    if k:\n",
    "        p_theor = lam**k*np.exp(-lam)/np.math.factorial(k)\n",
    "        ax.axhline(p_theor, c='m', linestyle='--')\n",
    "\n",
    "\n",
    "    ax.set_yticks(np.arange(0, np.max(no_outcomes[1]/no_tries) + .025, .025)); \n",
    "\n",
    "sample_from_poisson(lam=10, no_tries=10**6)"
   ]
  },
  {
   "cell_type": "code",
   "execution_count": 3,
   "id": "59df9395",
   "metadata": {},
   "outputs": [
    {
     "data": {
      "image/png": "[encoded data removed]",
      "text/plain": [
       "<Figure size 2200x600 with 2 Axes>"
      ]
     },
     "metadata": {},
     "output_type": "display_data"
    }
   ],
   "source": [
    "def cdf_poisson(lam):\n",
    "    outcomes = rng.poisson(lam, size=10**6)\n",
    "    no_outcomes = np.unique(outcomes, return_counts=True)\n",
    "\n",
    "\n",
    "    fig, ax = plt.subplots(2, 1, figsize=(22, 6))\n",
    "\n",
    "    sns.barplot(ax = ax[0], x = no_outcomes[0], y = no_outcomes[1]/10**6)\n",
    "    sns.barplot(ax = ax[1], x = no_outcomes[0], y = np.cumsum(no_outcomes[1]/10**6))\n",
    "\n",
    "    ax[0].set_yticks(np.arange(0, 1.2, .2));     \n",
    "    ax[1].set_yticks(np.arange(0, 1.2, .2)); \n",
    "\n",
    "cdf_poisson(lam=17)"
   ]
  },
  {
   "attachments": {},
   "cell_type": "markdown",
   "id": "0b01ad9f",
   "metadata": {},
   "source": [
    "### Poisson Regression: simple model derivation"
   ]
  },
  {
   "attachments": {},
   "cell_type": "markdown",
   "id": "13b6773e",
   "metadata": {},
   "source": [
    "As in all GLMs in general, the problem to be solved is how to apply the Linear Model in a situation where our data fail to satisfy its assumptions. The *Poisson regression* deals with the situation where our observations - the outcome variable - are *counts per some unit of time or space*. \n",
    "\n",
    "To introduce the crucial model assumption precisely before we derive the model, Poisson regression assumes the response variable $Y$ has a Poisson distribution, and assumes the *logarithm of its expected value* can be modeled by a linear combination of (a) predictors and (b) coefficients (that need to be estimated, of course). More precisely, the Poisson regression models $\\lambda_i$, the average number of occurrences of a phenomenon, as a function of one or more predictors. For example, we could consider the average number of car accidents in some state **S** in year **Y** as a function of a specific set of regulations that were in force in that state in that year. Let's take a closer look at the model:\n",
    "\n",
    "$$log(\\lambda_i) = \\beta_0 + \\beta_1x_i$$\n",
    "\n",
    "or more generally\n",
    "\n",
    "$$log(\\lambda) = \\beta_0 + \\beta_1X$$\n",
    "\n",
    "while assuming that where the observed values $Y_i$ follow a Poisson distribution with $\\lambda = \\lambda_i$ for a given $x_i$. For each observation then we could have a different value of $\\lambda$ depending on a particular value of the predictor $X$. The model is easily expanded to encompass more predictors:\n",
    "\n",
    "$$log(\\lambda) = \\beta_0 + \\beta_1X_1 + \\beta_2X_2 + ... + \\beta_nX_n$$\n",
    "\n",
    "The model assumptions are:\n",
    "\n",
    "- **Poisson outcome:** the outcome is a count per unit of time or space and follows a Poisson distribution;\n",
    "- **independence:** all observations are independent of one another; \n",
    "- **the mean is equal to the variance:** simply, because by definition we know that the mean of a Poisson variable must be equal to its variance; and\n",
    "- **Linearity:** as in all linear models, of course, and specifically here the log of the mean rate $log(\\lambda)$ must be a linear combination of $X$."
   ]
  },
  {
   "attachments": {},
   "cell_type": "markdown",
   "id": "4492f1ad",
   "metadata": {},
   "source": [
    "Let's start with the equation:\n",
    "\n",
    "$$\n",
    "\\log(\\lambda) = \\beta_0 + \\beta_1X\n",
    "$$\n",
    "\n",
    "where $X$ represents the independent variable, $\\lambda$ represents the expected count of events (also known as the rate parameter) for a given value of $X$, and $\\beta_0$ and $\\beta_1$ are the coefficients to be estimated, and immediately it follows that\n",
    "\n",
    "$$\n",
    "\\lambda = e^{\\beta_0 + \\beta_1X}\n",
    "$$\n",
    "\n",
    "In Poisson Regression, we assume that the dependent variable, denoted as $Y$, follows a Poisson distribution with parameter $\\lambda$. The Poisson distribution describes the probability of observing a given number of events within a fixed interval.\n",
    "\n",
    "For each observation, we have a value of $X$ and a corresponding observed count of events $Y$. Our goal is to estimate the coefficients $\\beta_0$ and $\\beta_1$ that best fit the observed data.\n",
    "\n",
    "The Poisson probability mass function (PMF) is given by:\n",
    "\n",
    "$$\n",
    "P(Y=y) = \\frac{e^{-\\lambda}\\lambda^y}{y!}\n",
    "$$\n",
    "\n",
    "We can rewrite this equation using the equation $\\lambda = e^{\\beta_0 + \\beta_1X}$:\n",
    "\n",
    "$$\n",
    "P(Y=y) = \\frac{e^{-(e^{\\beta_0 + \\beta_1X})}(e^{\\beta_0 + \\beta_1X})^y}{y!}\n",
    "$$\n",
    "\n",
    "To estimate the coefficients $\\beta_0$ and $\\beta_1$, we use the method of maximum likelihood estimation (MLE). The likelihood function is defined as the joint probability of observing the given set of $Y$ values given the corresponding $X$ values and the model:\n",
    "\n",
    "$$\n",
    "L(\\beta_0, \\beta_1) = \\prod_{i=1}^n P(Y=y_i)\n",
    "$$\n",
    "\n",
    "To simplify calculations, it is common to work with the log-likelihood function:\n",
    "\n",
    "$$\n",
    "\\ell(\\beta_0, \\beta_1) = \\log L(\\beta_0, \\beta_1) = \\sum_{i=1}^n \\log P(Y=y_i)\n",
    "$$\n",
    "\n",
    "Substituting the Poisson PMF into the log-likelihood function, we get:\n",
    "\n",
    "$$\n",
    "\\ell(\\beta_0, \\beta_1) = \\sum_{i=1}^n \\left[-e^{(e^{\\beta_0 + \\beta_1X_i})} + y_i(\\beta_0 + \\beta_1X_i) - \\log(y_i!)\\right]\n",
    "$$\n",
    "\n",
    "The goal is to find the values of $\\beta_0$ and $\\beta_1$ that maximize the log-likelihood function. This can be achieved using numerical optimization techniques such as gradient descent or specialized algorithms.\n",
    "\n",
    "By maximizing the log-likelihood function, we obtain the estimated coefficients $\\hat{\\beta}_0$ and $\\hat{\\beta}_1$. These estimates represent the logarithm of the expected count ratios associated with the independent variable, assuming all other variables are held constant. Thus, the model equation becomes:\n",
    "\n",
    "$$\n",
    "\\log(\\hat{\\lambda}) = \\hat{\\beta}_0 + \\hat{\\beta}_1X\n",
    "$$\n",
    "\n",
    "Finally, to predict the count of events for a new observation with an independent variable value $X^*$, we substitute the estimated coefficients into the model equation:\n",
    "\n",
    "$$\n",
    "\\hat{\\lambda}^* = e^{\\hat{\\beta}_0 + \\hat{\\beta}_1X^*}\n",
    "$$\n",
    "\n",
    "where $\\hat{\\lambda}^*$ represents the predicted expected count of events for the new observation."
   ]
  },
  {
   "attachments": {},
   "cell_type": "markdown",
   "id": "2ccdd321",
   "metadata": {},
   "source": [
    "### L2 Regularized Poisson Regression in `sklearn`\n",
    "\n",
    "- [sklearn.linear_model.PoissonRegressor](https://scikit-learn.org/stable/modules/generated/sklearn.linear_model.PoissonRegressor.html)\n",
    "\n",
    "**N.B.** Poisson Regression in `sklearn` supports only the $L2$ (Ridge) regularization.\n",
    "\n",
    "The equation for L2 regularized Poisson regression, including the regularization term, is as follows:\n",
    "\n",
    "$$\n",
    "\\log(\\lambda) = \\beta_0 + \\beta_1X_1 + \\beta_2X_2 + \\ldots + \\beta_kX_k + \\frac{\\alpha}{2} \\sum_{j=1}^{k} \\beta_j^2\n",
    "$$\n",
    "\n",
    "where:\n",
    "- $\\log(\\lambda)$ represents the logarithm of the expected count or rate parameter.\n",
    "- $\\beta_0, \\beta_1, \\ldots, \\beta_k$ are the coefficients to be estimated.\n",
    "- $X_1, X_2, \\ldots, X_k$ are the independent variables.\n",
    "- $\\alpha$ is the regularization parameter that controls the strength of regularization.\n",
    "- $\\sum_{j=1}^{k} \\beta_j^2$ represents the L2 norm (squared sum) of the coefficient vector.\n",
    "\n",
    "The regularization term $\\frac{\\alpha}{2} \\sum_{j=1}^{k} \\beta_j^2$ is multiplied by the regularization parameter $\\alpha$ and added to the objective function. This term penalizes large coefficient values, encouraging smaller coefficients and preventing overfitting.\n",
    "\n",
    "During the coefficient estimation process, the model minimizes the negative log-likelihood function while considering the L2 regularization term. The optimization process aims to find the optimal coefficients that balance fitting the data and reducing the magnitude of the coefficients."
   ]
  },
  {
   "attachments": {},
   "cell_type": "markdown",
   "id": "75e35685",
   "metadata": {},
   "source": [
    "#### Example"
   ]
  },
  {
   "attachments": {},
   "cell_type": "markdown",
   "id": "2e441fe4",
   "metadata": {},
   "source": [
    "Consider the following data set: [ww.ats.ucla.edu/stat/data/poisson_sim.csv](ww.ats.ucla.edu/stat/data/poisson_sim.csv) (found in your `_data` directory):"
   ]
  },
  {
   "cell_type": "code",
   "execution_count": 4,
   "id": "e3e4e640",
   "metadata": {},
   "outputs": [
    {
     "data": {
      "text/html": [
       "<div>\n",
       "<style scoped>\n",
       "    .dataframe tbody tr th:only-of-type {\n",
       "        vertical-align: middle;\n",
       "    }\n",
       "\n",
       "    .dataframe tbody tr th {\n",
       "        vertical-align: top;\n",
       "    }\n",
       "\n",
       "    .dataframe thead th {\n",
       "        text-align: right;\n",
       "    }\n",
       "</style>\n",
       "<table border=\"1\" class=\"dataframe\">\n",
       "  <thead>\n",
       "    <tr style=\"text-align: right;\">\n",
       "      <th></th>\n",
       "      <th>num_awards</th>\n",
       "      <th>prog</th>\n",
       "      <th>math</th>\n",
       "    </tr>\n",
       "  </thead>\n",
       "  <tbody>\n",
       "    <tr>\n",
       "      <th>0</th>\n",
       "      <td>0</td>\n",
       "      <td>3</td>\n",
       "      <td>41</td>\n",
       "    </tr>\n",
       "    <tr>\n",
       "      <th>1</th>\n",
       "      <td>0</td>\n",
       "      <td>1</td>\n",
       "      <td>41</td>\n",
       "    </tr>\n",
       "    <tr>\n",
       "      <th>2</th>\n",
       "      <td>0</td>\n",
       "      <td>3</td>\n",
       "      <td>44</td>\n",
       "    </tr>\n",
       "    <tr>\n",
       "      <th>3</th>\n",
       "      <td>0</td>\n",
       "      <td>3</td>\n",
       "      <td>42</td>\n",
       "    </tr>\n",
       "    <tr>\n",
       "      <th>4</th>\n",
       "      <td>0</td>\n",
       "      <td>3</td>\n",
       "      <td>40</td>\n",
       "    </tr>\n",
       "    <tr>\n",
       "      <th>...</th>\n",
       "      <td>...</td>\n",
       "      <td>...</td>\n",
       "      <td>...</td>\n",
       "    </tr>\n",
       "    <tr>\n",
       "      <th>195</th>\n",
       "      <td>2</td>\n",
       "      <td>2</td>\n",
       "      <td>71</td>\n",
       "    </tr>\n",
       "    <tr>\n",
       "      <th>196</th>\n",
       "      <td>2</td>\n",
       "      <td>3</td>\n",
       "      <td>75</td>\n",
       "    </tr>\n",
       "    <tr>\n",
       "      <th>197</th>\n",
       "      <td>1</td>\n",
       "      <td>2</td>\n",
       "      <td>71</td>\n",
       "    </tr>\n",
       "    <tr>\n",
       "      <th>198</th>\n",
       "      <td>0</td>\n",
       "      <td>2</td>\n",
       "      <td>72</td>\n",
       "    </tr>\n",
       "    <tr>\n",
       "      <th>199</th>\n",
       "      <td>3</td>\n",
       "      <td>2</td>\n",
       "      <td>73</td>\n",
       "    </tr>\n",
       "  </tbody>\n",
       "</table>\n",
       "<p>200 rows × 3 columns</p>\n",
       "</div>"
      ],
      "text/plain": [
       "     num_awards  prog  math\n",
       "0             0     3    41\n",
       "1             0     1    41\n",
       "2             0     3    44\n",
       "3             0     3    42\n",
       "4             0     3    40\n",
       "..          ...   ...   ...\n",
       "195           2     2    71\n",
       "196           2     3    75\n",
       "197           1     2    71\n",
       "198           0     2    72\n",
       "199           3     2    73\n",
       "\n",
       "[200 rows x 3 columns]"
      ]
     },
     "execution_count": 4,
     "metadata": {},
     "output_type": "execute_result"
    }
   ],
   "source": [
    "data_set = pd.read_csv(os.path.join(data_dir, \"poisson_sim.csv\"))\n",
    "data_set.drop('id', axis=1, inplace=True)\n",
    "data_set"
   ]
  },
  {
   "attachments": {},
   "cell_type": "markdown",
   "id": "e8354dbf",
   "metadata": {},
   "source": [
    "The task here is to predict `num_awards` from `prog` and `math`:\n",
    "\n",
    ">In this example, num_awards is the outcome variable and indicates the number of awards earned by students at a high school in a year, math is a continuous predictor variable and represents students’ scores on their math final exam, and prog is a categorical predictor variable with three levels indicating the type of program in which the students were enrolled. It is coded as 1 = “General”, 2 = “Academic” and 3 = “Vocational”. Let’s start with loading the data and looking at some descriptive statistics.[https://stats.oarc.ucla.edu/r/dae/poisson-regression/](https://stats.oarc.ucla.edu/r/dae/poisson-regression/)"
   ]
  },
  {
   "cell_type": "code",
   "execution_count": 5,
   "id": "581b6eaa",
   "metadata": {},
   "outputs": [
    {
     "data": {
      "text/plain": [
       "0    124\n",
       "1     49\n",
       "2     13\n",
       "3      9\n",
       "5      2\n",
       "4      2\n",
       "6      1\n",
       "Name: num_awards, dtype: int64"
      ]
     },
     "execution_count": 5,
     "metadata": {},
     "output_type": "execute_result"
    }
   ],
   "source": [
    "data_set['num_awards'].value_counts()"
   ]
  },
  {
   "cell_type": "code",
   "execution_count": 6,
   "id": "3505a5fe",
   "metadata": {},
   "outputs": [
    {
     "data": {
      "text/plain": [
       "2    105\n",
       "3     50\n",
       "1     45\n",
       "Name: prog, dtype: int64"
      ]
     },
     "execution_count": 6,
     "metadata": {},
     "output_type": "execute_result"
    }
   ],
   "source": [
    "data_set['prog'].value_counts()"
   ]
  },
  {
   "attachments": {},
   "cell_type": "markdown",
   "id": "24cf3193",
   "metadata": {},
   "source": [
    "Dummy Coding:"
   ]
  },
  {
   "cell_type": "code",
   "execution_count": 7,
   "id": "6848c1fa",
   "metadata": {},
   "outputs": [
    {
     "data": {
      "text/html": [
       "<div>\n",
       "<style scoped>\n",
       "    .dataframe tbody tr th:only-of-type {\n",
       "        vertical-align: middle;\n",
       "    }\n",
       "\n",
       "    .dataframe tbody tr th {\n",
       "        vertical-align: top;\n",
       "    }\n",
       "\n",
       "    .dataframe thead th {\n",
       "        text-align: right;\n",
       "    }\n",
       "</style>\n",
       "<table border=\"1\" class=\"dataframe\">\n",
       "  <thead>\n",
       "    <tr style=\"text-align: right;\">\n",
       "      <th></th>\n",
       "      <th>num_awards</th>\n",
       "      <th>math</th>\n",
       "      <th>prog_2</th>\n",
       "      <th>prog_3</th>\n",
       "    </tr>\n",
       "  </thead>\n",
       "  <tbody>\n",
       "    <tr>\n",
       "      <th>0</th>\n",
       "      <td>0</td>\n",
       "      <td>41</td>\n",
       "      <td>0</td>\n",
       "      <td>1</td>\n",
       "    </tr>\n",
       "    <tr>\n",
       "      <th>1</th>\n",
       "      <td>0</td>\n",
       "      <td>41</td>\n",
       "      <td>0</td>\n",
       "      <td>0</td>\n",
       "    </tr>\n",
       "    <tr>\n",
       "      <th>2</th>\n",
       "      <td>0</td>\n",
       "      <td>44</td>\n",
       "      <td>0</td>\n",
       "      <td>1</td>\n",
       "    </tr>\n",
       "    <tr>\n",
       "      <th>3</th>\n",
       "      <td>0</td>\n",
       "      <td>42</td>\n",
       "      <td>0</td>\n",
       "      <td>1</td>\n",
       "    </tr>\n",
       "    <tr>\n",
       "      <th>4</th>\n",
       "      <td>0</td>\n",
       "      <td>40</td>\n",
       "      <td>0</td>\n",
       "      <td>1</td>\n",
       "    </tr>\n",
       "    <tr>\n",
       "      <th>...</th>\n",
       "      <td>...</td>\n",
       "      <td>...</td>\n",
       "      <td>...</td>\n",
       "      <td>...</td>\n",
       "    </tr>\n",
       "    <tr>\n",
       "      <th>195</th>\n",
       "      <td>2</td>\n",
       "      <td>71</td>\n",
       "      <td>1</td>\n",
       "      <td>0</td>\n",
       "    </tr>\n",
       "    <tr>\n",
       "      <th>196</th>\n",
       "      <td>2</td>\n",
       "      <td>75</td>\n",
       "      <td>0</td>\n",
       "      <td>1</td>\n",
       "    </tr>\n",
       "    <tr>\n",
       "      <th>197</th>\n",
       "      <td>1</td>\n",
       "      <td>71</td>\n",
       "      <td>1</td>\n",
       "      <td>0</td>\n",
       "    </tr>\n",
       "    <tr>\n",
       "      <th>198</th>\n",
       "      <td>0</td>\n",
       "      <td>72</td>\n",
       "      <td>1</td>\n",
       "      <td>0</td>\n",
       "    </tr>\n",
       "    <tr>\n",
       "      <th>199</th>\n",
       "      <td>3</td>\n",
       "      <td>73</td>\n",
       "      <td>1</td>\n",
       "      <td>0</td>\n",
       "    </tr>\n",
       "  </tbody>\n",
       "</table>\n",
       "<p>200 rows × 4 columns</p>\n",
       "</div>"
      ],
      "text/plain": [
       "     num_awards  math  prog_2  prog_3\n",
       "0             0    41       0       1\n",
       "1             0    41       0       0\n",
       "2             0    44       0       1\n",
       "3             0    42       0       1\n",
       "4             0    40       0       1\n",
       "..          ...   ...     ...     ...\n",
       "195           2    71       1       0\n",
       "196           2    75       0       1\n",
       "197           1    71       1       0\n",
       "198           0    72       1       0\n",
       "199           3    73       1       0\n",
       "\n",
       "[200 rows x 4 columns]"
      ]
     },
     "execution_count": 7,
     "metadata": {},
     "output_type": "execute_result"
    }
   ],
   "source": [
    "data_set = pd.get_dummies(data_set, columns=['prog'], drop_first=True)\n",
    "data_set"
   ]
  },
  {
   "attachments": {},
   "cell_type": "markdown",
   "id": "cc3d1be8",
   "metadata": {},
   "source": [
    "Enter [sklearn.linear_model.PoissonRegressor](https://scikit-learn.org/stable/modules/generated/sklearn.linear_model.PoissonRegressor.html):"
   ]
  },
  {
   "cell_type": "code",
   "execution_count": 8,
   "id": "05fd529a",
   "metadata": {},
   "outputs": [
    {
     "name": "stdout",
     "output_type": "stream",
     "text": [
      "Intercept: -5.247119295242063\n",
      "Coefficients: [0.07015208 1.08387669 0.369829  ]\n"
     ]
    }
   ],
   "source": [
    "# X, y\n",
    "X = data_set.drop('num_awards', axis=1)\n",
    "y = data_set['num_awards']\n",
    "\n",
    "# Create a pipeline for preprocessing and Poisson Regression\n",
    "pipeline = Pipeline([\n",
    "    ('regressor', PoissonRegressor(alpha=0, max_iter=10000))\n",
    "])\n",
    "\n",
    "# Fit L2 regularized Poisson regression model\n",
    "pipeline.fit(X, y)\n",
    "\n",
    "# Print the coefficients\n",
    "coefficients = pipeline.named_steps['regressor'].coef_\n",
    "intercept = pipeline.named_steps['regressor'].intercept_\n",
    "\n",
    "print(\"Intercept:\", intercept)\n",
    "print(\"Coefficients:\", coefficients)"
   ]
  },
  {
   "attachments": {},
   "cell_type": "markdown",
   "id": "e4910bef",
   "metadata": {},
   "source": [
    "In Poisson regression, taking the exponentiation of the coefficients (e.g. $e^{\\beta_1}$) provides the expected count ratio associated with each independent variable. It quantifies the **multiplicative effect on the expected count of events** for a one-unit increase in the corresponding independent variable, assuming all other variables are held constant."
   ]
  },
  {
   "cell_type": "code",
   "execution_count": 9,
   "id": "53c9fb8b",
   "metadata": {},
   "outputs": [
    {
     "data": {
      "text/plain": [
       "array([1.07267131, 2.95611733, 1.44748707])"
      ]
     },
     "execution_count": 9,
     "metadata": {},
     "output_type": "execute_result"
    }
   ],
   "source": [
    "np.exp(coefficients)"
   ]
  },
  {
   "attachments": {},
   "cell_type": "markdown",
   "id": "2223daed",
   "metadata": {},
   "source": [
    "In `statsmodels`:"
   ]
  },
  {
   "cell_type": "code",
   "execution_count": 10,
   "id": "57f1c7dc",
   "metadata": {},
   "outputs": [
    {
     "name": "stdout",
     "output_type": "stream",
     "text": [
      "                 Generalized Linear Model Regression Results                  \n",
      "==============================================================================\n",
      "Dep. Variable:             num_awards   No. Observations:                  200\n",
      "Model:                            GLM   Df Residuals:                      196\n",
      "Model Family:                 Poisson   Df Model:                            3\n",
      "Link Function:                    Log   Scale:                          1.0000\n",
      "Method:                          IRLS   Log-Likelihood:                -182.75\n",
      "Date:                Sat, 13 May 2023   Deviance:                       189.45\n",
      "Time:                        03:25:03   Pearson chi2:                     212.\n",
      "No. Iterations:                     5   Pseudo R-squ. (CS):             0.3881\n",
      "Covariance Type:            nonrobust                                         \n",
      "==============================================================================\n",
      "                 coef    std err          z      P>|z|      [0.025      0.975]\n",
      "------------------------------------------------------------------------------\n",
      "const         -5.2471      0.658     -7.969      0.000      -6.538      -3.957\n",
      "math           0.0702      0.011      6.619      0.000       0.049       0.091\n",
      "prog_2         1.0839      0.358      3.025      0.002       0.382       1.786\n",
      "prog_3         0.3698      0.441      0.838      0.402      -0.495       1.234\n",
      "==============================================================================\n",
      "Ratio of Deviance to Degrees of Freedom:  0.9665796934198643\n"
     ]
    }
   ],
   "source": [
    "import statsmodels.api as sm\n",
    "\n",
    "# Add a constant to the independent variable matrix\n",
    "X1 = sm.add_constant(X)\n",
    "\n",
    "# Fit a Poisson regression model\n",
    "poisson_model = sm.GLM(y, X1, family=sm.families.Poisson())\n",
    "poisson_results = poisson_model.fit()\n",
    "\n",
    "print(poisson_results.summary())\n",
    "\n",
    "# To test for overdispersion, we calculate the ratio of the deviance to the degrees of freedom\n",
    "# If this ratio is significantly greater than 1, it indicates overdispersion\n",
    "ratio = poisson_results.deviance / poisson_results.df_resid\n",
    "print('Ratio of Deviance to Degrees of Freedom: ', ratio)"
   ]
  },
  {
   "attachments": {},
   "cell_type": "markdown",
   "id": "8983fcaa",
   "metadata": {},
   "source": [
    "AIC"
   ]
  },
  {
   "cell_type": "code",
   "execution_count": 11,
   "id": "faae98f7",
   "metadata": {},
   "outputs": [
    {
     "name": "stdout",
     "output_type": "stream",
     "text": [
      "AIC: 373.5045031329651\n"
     ]
    }
   ],
   "source": [
    "# AIC = -2 * LL + 2 * k\n",
    "ll = poisson_results.llf\n",
    "k = X1.shape[1]\n",
    "aic = -2*ll + 2*k\n",
    "print(f'AIC: {aic}')"
   ]
  },
  {
   "attachments": {},
   "cell_type": "markdown",
   "id": "77433730",
   "metadata": {},
   "source": [
    "**Q.** Why divide Residual Deviance to Residual degrees of freedom?\n",
    "\n",
    "#### Overdispersion\n",
    "\n",
    "Overdispersion is indicated when the residual deviance is significantly greater than the residual degrees of freedom. If the residual deviance is substantially larger than the residual degrees of freedom, it suggests that the variance of the data is greater than what can be explained by the Poisson distribution, indicating the presence of overdispersion. Idealy, the ratio of Residual Deviance to Residual DDoF should be **1**."
   ]
  },
  {
   "attachments": {},
   "cell_type": "markdown",
   "id": "da2e15ed",
   "metadata": {},
   "source": [
    "#### Why is Overdispersion important to consider in Poisson Regression?\n"
   ]
  },
  {
   "attachments": {},
   "cell_type": "markdown",
   "id": "926b4690",
   "metadata": {},
   "source": [
    "In Poisson regression, **equidispersion** refers to the assumption that the variance of the dependent variable (count data) is equal to its mean. This assumption implies that the dispersion parameter, which represents the ratio of the variance to the mean, is constant across all values of the independent variables."
   ]
  },
  {
   "cell_type": "code",
   "execution_count": 12,
   "id": "296274bd",
   "metadata": {},
   "outputs": [
    {
     "data": {
      "image/png": "[encoded data removed]",
      "text/plain": [
       "<Figure size 800x600 with 1 Axes>"
      ]
     },
     "metadata": {},
     "output_type": "display_data"
    }
   ],
   "source": [
    "# Step 1: Generate 1000 random samples from Poisson distribution\n",
    "sample_size = 1000\n",
    "lambdas = np.random.uniform(low=0, high=10, size=sample_size)\n",
    "\n",
    "# Step 2: Compute the mean and variance of each sample\n",
    "sample_means = np.zeros(sample_size)\n",
    "sample_variances = np.zeros(sample_size)\n",
    "\n",
    "for i in range(lambdas.size):\n",
    "    sample = np.random.poisson(lambdas[i], size=100000)\n",
    "    sample_means[i] = np.mean(sample)\n",
    "    sample_variances[i] = np.var(sample)\n",
    "\n",
    "# Step 3: Visualize the relationship between sample means and variances\n",
    "sns.scatterplot(x=sample_means, y=sample_variances)\n",
    "plt.xlabel('Sample Mean')\n",
    "plt.ylabel('Sample Variance')\n",
    "plt.title('Relationship between Poissin Sample Means and Variances\\n')\n",
    "plt.show()"
   ]
  },
  {
   "attachments": {},
   "cell_type": "markdown",
   "id": "6cea22ca",
   "metadata": {},
   "source": [
    "### Cross-Validation across $\\alpha$"
   ]
  },
  {
   "attachments": {},
   "cell_type": "markdown",
   "id": "fe4c0f9a",
   "metadata": {},
   "source": [
    "We have set the value of $\\alpha$, the L2 penalty strength, to zero. Now we want to use cross-validation in order to determine the best value of $\\alpha$ for the problem at hand.\n",
    "\n",
    "For the PoissonRegressor in scikit-learn, the default scoring metric is the [mean Poisson deviance](https://scikit-learn.org/stable/modules/generated/sklearn.metrics.mean_poisson_deviance.html), which is a measure of how well the model fits the data based on the Poisson distribution. The lower the mean Poisson deviance, the better the model fits the data."
   ]
  },
  {
   "cell_type": "code",
   "execution_count": 13,
   "id": "6abf8462",
   "metadata": {},
   "outputs": [
    {
     "name": "stdout",
     "output_type": "stream",
     "text": [
      "Best Parameters:  {'regressor__alpha': 0.01}\n",
      "Best Score:  0.05972784891778191\n"
     ]
    }
   ],
   "source": [
    "# X, y\n",
    "X = data_set.drop('num_awards', axis=1)\n",
    "y = data_set['num_awards']\n",
    "\n",
    "# Create a pipeline for preprocessing and Poisson Regression\n",
    "pipeline = Pipeline([\n",
    "    ('regressor', PoissonRegressor(max_iter=10000))\n",
    "])\n",
    "\n",
    "# Define the parameter grid for tuning\n",
    "param_grid = {\n",
    "    'regressor__alpha': [0, .01 , .1, .25, .5, .75, 1, 2, 5, 10, 20, 50, 100] \n",
    "}\n",
    "\n",
    "# Create a cross-validation strategy\n",
    "cv = KFold(n_splits=5)\n",
    "\n",
    "# Perform grid search cross-validation\n",
    "grid_search = GridSearchCV(estimator=pipeline, \n",
    "                           param_grid=param_grid, \n",
    "                           cv=cv)\n",
    "grid_search.fit(X, y)\n",
    "\n",
    "# Print the best parameters and best score\n",
    "print(\"Best Parameters: \", grid_search.best_params_)\n",
    "print(\"Best Score: \", grid_search.best_score_)"
   ]
  },
  {
   "attachments": {},
   "cell_type": "markdown",
   "id": "80ab08f8",
   "metadata": {},
   "source": [
    "We will now re-train the optimal model on the whole data set."
   ]
  },
  {
   "cell_type": "code",
   "execution_count": 14,
   "id": "d5be45ad",
   "metadata": {},
   "outputs": [
    {
     "name": "stdout",
     "output_type": "stream",
     "text": [
      "Intercept: -5.1298895279103895\n",
      "Coefficients: [0.07170807 0.85390973 0.1459363 ]\n",
      "exp(Intercept): 0.005917214124585116\n",
      "exp(Coefficients): [1.07434167 2.34881214 1.15712248]\n",
      "D2 =  0.3398938334424878\n"
     ]
    }
   ],
   "source": [
    "# optimal alpha\n",
    "l2_penalty = grid_search.best_params_['regressor__alpha']\n",
    "\n",
    "# Create a pipeline for preprocessing and Poisson Regression\n",
    "pipeline = Pipeline([\n",
    "    ('regressor', PoissonRegressor(alpha=l2_penalty, max_iter=10000))\n",
    "])\n",
    "\n",
    "# Fit L2 regularized Poisson regression model\n",
    "pipeline.fit(X, y)\n",
    "\n",
    "# Grab model\n",
    "optimal_model = pipeline.named_steps['regressor']\n",
    "\n",
    "# Print the exp(coefficients)\n",
    "coefficients = optimal_model.coef_\n",
    "exp_coefficients = np.exp(optimal_model.coef_)\n",
    "intercept = optimal_model.intercept_\n",
    "exp_intercept = np.exp(optimal_model.intercept_)\n",
    "print(\"Intercept:\", intercept)\n",
    "print(\"Coefficients:\", coefficients)\n",
    "print(\"exp(Intercept):\", exp_intercept)\n",
    "print(\"exp(Coefficients):\", exp_coefficients)\n",
    "\n",
    "# How good is the model?\n",
    "d2 = optimal_model.score(X,y)\n",
    "print(\"D2 = \", d2)"
   ]
  },
  {
   "attachments": {},
   "cell_type": "markdown",
   "id": "464dc0e9",
   "metadata": {},
   "source": [
    "$D^2$ is defined as \n",
    "\n",
    "$$D^2=1-\\frac{D(y_{true}, y_{pred})}{D_null}$$\n",
    "\n",
    "$D_{null}$ is the null deviance, i.e. the deviance of a model with intercept alone, which corresponds to $y_{pred}=\\bar{y}$.\n",
    "\n",
    "Best possible score is 1.0 and it can be negative."
   ]
  },
  {
   "attachments": {},
   "cell_type": "markdown",
   "id": "79981c8c",
   "metadata": {},
   "source": [
    "For a fitted Poisson regression the deviance is equal to\n",
    "\n",
    "$$D = 2 \\sum^{n}_{i=1} \\{ Y_{i} \\log(Y_{i}/\\mu_{i}) - (Y_{i}-\\mu_{i}) \\}$$\n",
    "\n",
    "where $\\mu_{i}$ is the predicted expected counts, and where if $Y_i=0$, the $Y_{i} \\log(Y_{i}/\\mu_{i})$ term is taken to be zero, and\n",
    "\n",
    "$$\\mu_{i} = \\exp(\\hat{\\beta}_{0} + \\hat{\\beta}_{1}X_{1} + ... + \\hat{\\beta}_{p} X_{p})$$\n",
    "\n",
    "The deviance is a measure of the discrepancy between the observed counts ($y_{\\text{true}}$) and the predicted values ($\\hat{y}_{\\text{pred}}$) from the Poisson regression model. It quantifies how well the model predicts the observed data. A lower deviance value indicates a better fit to the data."
   ]
  },
  {
   "cell_type": "code",
   "execution_count": 15,
   "id": "391c7803",
   "metadata": {},
   "outputs": [
    {
     "name": "stdout",
     "output_type": "stream",
     "text": [
      "Residual Deviance: 189.89421590971443\n",
      "Null Deviance: 287.67223445286476\n",
      "D2: 0.3398938334424878\n"
     ]
    }
   ],
   "source": [
    "def calculate_dev(y_true,y_pred):\n",
    "    if y_pred.size > 1:\n",
    "        score = np.zeros(y_true.size)\n",
    "        y0 = np.where(y_true==0)[0]\n",
    "        yn0 = np.where(y_true!=0)[0]\n",
    "        score[y0] = 2*(0 - (y_true[y0]-y_pred[y0]))\n",
    "        score[yn0] = 2*(y_true[yn0] * np.log(y_true[yn0]/y_pred[yn0]) - (y_true[yn0]-y_pred[yn0]))\n",
    "        return(score.sum())\n",
    "    else:\n",
    "        score = np.zeros(y_true.size)\n",
    "        y0 = np.where(y_true==0)[0]\n",
    "        yn0 = np.where(y_true!=0)[0]\n",
    "        score[y0] = 2*(0 - (y_true[y0]-y_pred))\n",
    "        score[yn0] = 2*(y_true[yn0] * np.log(y_true[yn0]/y_pred) - (y_true[yn0]-y_pred))\n",
    "        return(score.sum())\n",
    "\n",
    "res_deviance = calculate_dev(y, optimal_model.predict(X))\n",
    "null_deviance = calculate_dev(y, np.mean(y))\n",
    "print(f'Residual Deviance: {res_deviance}')\n",
    "print(f'Null Deviance: {null_deviance}')\n",
    "d2 = 1-(res_deviance/null_deviance)\n",
    "print(f'D2: {d2}')"
   ]
  },
  {
   "attachments": {},
   "cell_type": "markdown",
   "id": "9ceee356",
   "metadata": {},
   "source": [
    "Overdispersion?"
   ]
  },
  {
   "cell_type": "code",
   "execution_count": 16,
   "id": "faecd9a7",
   "metadata": {},
   "outputs": [
    {
     "name": "stdout",
     "output_type": "stream",
     "text": [
      "Residual Degrees of freedom: 196\n",
      "Residual Deviance: 189.89421590971443\n"
     ]
    },
    {
     "data": {
      "text/plain": [
       "0.9688480403556858"
      ]
     },
     "execution_count": 16,
     "metadata": {},
     "output_type": "execute_result"
    }
   ],
   "source": [
    "num_params = optimal_model.coef_.size + 1\n",
    "ddof = y.size - num_params\n",
    "print(f'Residual Degrees of freedom: {ddof}')\n",
    "print(f'Residual Deviance: {res_deviance}')\n",
    "res_deviance/ddof"
   ]
  },
  {
   "attachments": {},
   "cell_type": "markdown",
   "id": "c31e8e01",
   "metadata": {},
   "source": [
    "### Model predictions"
   ]
  },
  {
   "attachments": {},
   "cell_type": "markdown",
   "id": "39d25a98",
   "metadata": {},
   "source": [
    "In scikit-learn's `PoissonRegressor`, the predicted values obtained from `model.predict(X)` are already on the scale of the expected counts ($\\lambda$) rather than the logarithm of the expected counts. "
   ]
  },
  {
   "cell_type": "code",
   "execution_count": 17,
   "id": "c8ab3ea8",
   "metadata": {},
   "outputs": [
    {
     "data": {
      "text/html": [
       "<div>\n",
       "<style scoped>\n",
       "    .dataframe tbody tr th:only-of-type {\n",
       "        vertical-align: middle;\n",
       "    }\n",
       "\n",
       "    .dataframe tbody tr th {\n",
       "        vertical-align: top;\n",
       "    }\n",
       "\n",
       "    .dataframe thead th {\n",
       "        text-align: right;\n",
       "    }\n",
       "</style>\n",
       "<table border=\"1\" class=\"dataframe\">\n",
       "  <thead>\n",
       "    <tr style=\"text-align: right;\">\n",
       "      <th></th>\n",
       "      <th>observed</th>\n",
       "      <th>predicted</th>\n",
       "    </tr>\n",
       "  </thead>\n",
       "  <tbody>\n",
       "    <tr>\n",
       "      <th>0</th>\n",
       "      <td>0</td>\n",
       "      <td>0.129520</td>\n",
       "    </tr>\n",
       "    <tr>\n",
       "      <th>1</th>\n",
       "      <td>0</td>\n",
       "      <td>0.111933</td>\n",
       "    </tr>\n",
       "    <tr>\n",
       "      <th>2</th>\n",
       "      <td>0</td>\n",
       "      <td>0.160606</td>\n",
       "    </tr>\n",
       "    <tr>\n",
       "      <th>3</th>\n",
       "      <td>0</td>\n",
       "      <td>0.139148</td>\n",
       "    </tr>\n",
       "    <tr>\n",
       "      <th>4</th>\n",
       "      <td>0</td>\n",
       "      <td>0.120557</td>\n",
       "    </tr>\n",
       "    <tr>\n",
       "      <th>...</th>\n",
       "      <td>...</td>\n",
       "      <td>...</td>\n",
       "    </tr>\n",
       "    <tr>\n",
       "      <th>195</th>\n",
       "      <td>2</td>\n",
       "      <td>2.259838</td>\n",
       "    </tr>\n",
       "    <tr>\n",
       "      <th>196</th>\n",
       "      <td>2</td>\n",
       "      <td>1.483126</td>\n",
       "    </tr>\n",
       "    <tr>\n",
       "      <th>197</th>\n",
       "      <td>1</td>\n",
       "      <td>2.259838</td>\n",
       "    </tr>\n",
       "    <tr>\n",
       "      <th>198</th>\n",
       "      <td>0</td>\n",
       "      <td>2.427839</td>\n",
       "    </tr>\n",
       "    <tr>\n",
       "      <th>199</th>\n",
       "      <td>3</td>\n",
       "      <td>2.608328</td>\n",
       "    </tr>\n",
       "  </tbody>\n",
       "</table>\n",
       "<p>200 rows × 2 columns</p>\n",
       "</div>"
      ],
      "text/plain": [
       "     observed  predicted\n",
       "0           0   0.129520\n",
       "1           0   0.111933\n",
       "2           0   0.160606\n",
       "3           0   0.139148\n",
       "4           0   0.120557\n",
       "..        ...        ...\n",
       "195         2   2.259838\n",
       "196         2   1.483126\n",
       "197         1   2.259838\n",
       "198         0   2.427839\n",
       "199         3   2.608328\n",
       "\n",
       "[200 rows x 2 columns]"
      ]
     },
     "execution_count": 17,
     "metadata": {},
     "output_type": "execute_result"
    }
   ],
   "source": [
    "preds = optimal_model.predict(X)\n",
    "\n",
    "predictions = pd.DataFrame({'observed': y, \n",
    "                            'predicted': preds})\n",
    "predictions"
   ]
  },
  {
   "attachments": {},
   "cell_type": "markdown",
   "id": "ba3bf862",
   "metadata": {},
   "source": [
    "## 2. Zero-inflated regression\n",
    "\n",
    "[statsmodels.discrete.count_model.ZeroInflatedPoisson](https://www.statsmodels.org/dev/generated/statsmodels.discrete.count_model.ZeroInflatedPoisson.html)"
   ]
  },
  {
   "attachments": {},
   "cell_type": "markdown",
   "id": "06cdd337",
   "metadata": {},
   "source": [
    "Zero-inflated regression is a type of regression analysis that addresses the issue of excessive zeros in count data. It is specifically designed for situations where the count data contains an excess of zero values that cannot be adequately explained by a standard count regression model, such as Poisson or Negative Binomial regression.\n",
    "\n",
    "In many real-world datasets, count data often exhibit an overabundance of zero values that cannot be explained solely by the underlying count process. This excess of zeros can be attributed to two distinct processes:\n",
    "\n",
    "Structural Zeros: These zeros represent the absence of an event or outcome that could potentially occur. For example, in a study on the number of hospital visits, individuals who have not visited the hospital would contribute structural zeros.\n",
    "\n",
    "Sampling Zeros: These zeros arise due to the specific sampling process used to collect the data. They are not inherent to the phenomenon being studied but rather occur by chance. For instance, in a study on the number of defects in manufactured products, a sampling zero might represent a product with zero defects due to random chance.\n",
    "\n",
    "Zero-inflated regression models address these two processes separately by considering a mixture of two components within the model:\n",
    "\n",
    "- Binary Component: This component models the probability of excess zeros occurring. It is typically modeled using a logistic regression model or a related approach. The binary component estimates the probability of the structural zeros, i.e., the probability that a count observation is exactly zero.\n",
    "\n",
    "- Count Component: This component models the count values that are greater than zero. It is typically modeled using a count regression model (e.g., Poisson or Negative Binomial regression) applied to the non-zero part of the data.\n",
    "\n",
    "By incorporating both the binary and count components, zero-inflated regression models provide a more comprehensive approach to capture the excess zeros in the count data. These models estimate the probability of structural zeros and provide estimates for the count component that consider only the non-zero observations. This allows for a more accurate analysis and prediction of count data with excessive zeros."
   ]
  },
  {
   "cell_type": "code",
   "execution_count": 18,
   "id": "61ae1576",
   "metadata": {},
   "outputs": [
    {
     "data": {
      "text/html": [
       "<div>\n",
       "<style scoped>\n",
       "    .dataframe tbody tr th:only-of-type {\n",
       "        vertical-align: middle;\n",
       "    }\n",
       "\n",
       "    .dataframe tbody tr th {\n",
       "        vertical-align: top;\n",
       "    }\n",
       "\n",
       "    .dataframe thead th {\n",
       "        text-align: right;\n",
       "    }\n",
       "</style>\n",
       "<table border=\"1\" class=\"dataframe\">\n",
       "  <thead>\n",
       "    <tr style=\"text-align: right;\">\n",
       "      <th></th>\n",
       "      <th>math</th>\n",
       "      <th>prog_2</th>\n",
       "      <th>prog_3</th>\n",
       "    </tr>\n",
       "  </thead>\n",
       "  <tbody>\n",
       "    <tr>\n",
       "      <th>0</th>\n",
       "      <td>41</td>\n",
       "      <td>0</td>\n",
       "      <td>1</td>\n",
       "    </tr>\n",
       "    <tr>\n",
       "      <th>1</th>\n",
       "      <td>41</td>\n",
       "      <td>0</td>\n",
       "      <td>0</td>\n",
       "    </tr>\n",
       "    <tr>\n",
       "      <th>2</th>\n",
       "      <td>44</td>\n",
       "      <td>0</td>\n",
       "      <td>1</td>\n",
       "    </tr>\n",
       "    <tr>\n",
       "      <th>3</th>\n",
       "      <td>42</td>\n",
       "      <td>0</td>\n",
       "      <td>1</td>\n",
       "    </tr>\n",
       "    <tr>\n",
       "      <th>4</th>\n",
       "      <td>40</td>\n",
       "      <td>0</td>\n",
       "      <td>1</td>\n",
       "    </tr>\n",
       "    <tr>\n",
       "      <th>...</th>\n",
       "      <td>...</td>\n",
       "      <td>...</td>\n",
       "      <td>...</td>\n",
       "    </tr>\n",
       "    <tr>\n",
       "      <th>195</th>\n",
       "      <td>71</td>\n",
       "      <td>1</td>\n",
       "      <td>0</td>\n",
       "    </tr>\n",
       "    <tr>\n",
       "      <th>196</th>\n",
       "      <td>75</td>\n",
       "      <td>0</td>\n",
       "      <td>1</td>\n",
       "    </tr>\n",
       "    <tr>\n",
       "      <th>197</th>\n",
       "      <td>71</td>\n",
       "      <td>1</td>\n",
       "      <td>0</td>\n",
       "    </tr>\n",
       "    <tr>\n",
       "      <th>198</th>\n",
       "      <td>72</td>\n",
       "      <td>1</td>\n",
       "      <td>0</td>\n",
       "    </tr>\n",
       "    <tr>\n",
       "      <th>199</th>\n",
       "      <td>73</td>\n",
       "      <td>1</td>\n",
       "      <td>0</td>\n",
       "    </tr>\n",
       "  </tbody>\n",
       "</table>\n",
       "<p>200 rows × 3 columns</p>\n",
       "</div>"
      ],
      "text/plain": [
       "     math  prog_2  prog_3\n",
       "0      41       0       1\n",
       "1      41       0       0\n",
       "2      44       0       1\n",
       "3      42       0       1\n",
       "4      40       0       1\n",
       "..    ...     ...     ...\n",
       "195    71       1       0\n",
       "196    75       0       1\n",
       "197    71       1       0\n",
       "198    72       1       0\n",
       "199    73       1       0\n",
       "\n",
       "[200 rows x 3 columns]"
      ]
     },
     "execution_count": 18,
     "metadata": {},
     "output_type": "execute_result"
    }
   ],
   "source": [
    "X"
   ]
  },
  {
   "cell_type": "code",
   "execution_count": 19,
   "id": "7c488dd4",
   "metadata": {},
   "outputs": [
    {
     "data": {
      "text/plain": [
       "0      0\n",
       "1      0\n",
       "2      0\n",
       "3      0\n",
       "4      0\n",
       "      ..\n",
       "195    2\n",
       "196    2\n",
       "197    1\n",
       "198    0\n",
       "199    3\n",
       "Name: num_awards, Length: 200, dtype: int64"
      ]
     },
     "execution_count": 19,
     "metadata": {},
     "output_type": "execute_result"
    }
   ],
   "source": [
    "y"
   ]
  },
  {
   "cell_type": "code",
   "execution_count": 20,
   "id": "b6636dda",
   "metadata": {},
   "outputs": [
    {
     "data": {
      "text/plain": [
       "0    124\n",
       "1     49\n",
       "2     13\n",
       "3      9\n",
       "5      2\n",
       "4      2\n",
       "6      1\n",
       "Name: num_awards, dtype: int64"
      ]
     },
     "execution_count": 20,
     "metadata": {},
     "output_type": "execute_result"
    }
   ],
   "source": [
    "y.value_counts()"
   ]
  },
  {
   "cell_type": "code",
   "execution_count": 21,
   "id": "74672302",
   "metadata": {},
   "outputs": [
    {
     "name": "stdout",
     "output_type": "stream",
     "text": [
      "Warning: Maximum number of iterations has been exceeded.\n",
      "         Current function value: 0.912897\n",
      "         Iterations: 35\n",
      "         Function evaluations: 40\n",
      "         Gradient evaluations: 40\n",
      "                     ZeroInflatedPoisson Regression Results                    \n",
      "===============================================================================\n",
      "Dep. Variable:              num_awards   No. Observations:                  200\n",
      "Model:             ZeroInflatedPoisson   Df Residuals:                      196\n",
      "Method:                            MLE   Df Model:                            3\n",
      "Date:                 Sat, 13 May 2023   Pseudo R-squ.:                  0.1749\n",
      "Time:                         03:25:09   Log-Likelihood:                -182.58\n",
      "converged:                       False   LL-Null:                       -221.28\n",
      "Covariance Type:             nonrobust   LLR p-value:                 1.103e-16\n",
      "=================================================================================\n",
      "                    coef    std err          z      P>|z|      [0.025      0.975]\n",
      "---------------------------------------------------------------------------------\n",
      "inflate_const    -3.0012      1.383     -2.171      0.030      -5.711      -0.291\n",
      "const            -5.1922      0.669     -7.762      0.000      -6.503      -3.881\n",
      "math              0.0700      0.011      6.476      0.000       0.049       0.091\n",
      "prog_2            1.0860      0.361      3.009      0.003       0.379       1.793\n",
      "prog_3            0.3690      0.444      0.831      0.406      -0.501       1.239\n",
      "=================================================================================\n"
     ]
    },
    {
     "name": "stderr",
     "output_type": "stream",
     "text": [
      "/Users/goransm/Work/___DataKolektiv/_EDU/DSS_Vol00_PythonDS_2023/dss00python2023/lib/python3.9/site-packages/statsmodels/base/model.py:604: ConvergenceWarning: Maximum Likelihood optimization failed to converge. Check mle_retvals\n",
      "  warnings.warn(\"Maximum Likelihood optimization failed to \"\n",
      "/Users/goransm/Work/___DataKolektiv/_EDU/DSS_Vol00_PythonDS_2023/dss00python2023/lib/python3.9/site-packages/statsmodels/base/model.py:604: ConvergenceWarning: Maximum Likelihood optimization failed to converge. Check mle_retvals\n",
      "  warnings.warn(\"Maximum Likelihood optimization failed to \"\n"
     ]
    }
   ],
   "source": [
    "from statsmodels.discrete.count_model import ZeroInflatedPoisson\n",
    "\n",
    "# add constant to X\n",
    "X1 = sm.add_constant(X)\n",
    "\n",
    "# Fit the zero-inflated Poisson regression model\n",
    "zi_model = ZeroInflatedPoisson(endog=y, exog=X1)\n",
    "res = zi_model.fit()\n",
    "\n",
    "# Print the model summary\n",
    "print(res.summary())"
   ]
  },
  {
   "cell_type": "code",
   "execution_count": 22,
   "id": "b95e94fc",
   "metadata": {},
   "outputs": [
    {
     "data": {
      "text/plain": [
       "inflate_const   -3.001218\n",
       "const           -5.192212\n",
       "math             0.070012\n",
       "prog_2           1.085964\n",
       "prog_3           0.369015\n",
       "dtype: float64"
      ]
     },
     "execution_count": 22,
     "metadata": {},
     "output_type": "execute_result"
    }
   ],
   "source": [
    "res.params"
   ]
  },
  {
   "attachments": {},
   "cell_type": "markdown",
   "id": "096828f5",
   "metadata": {},
   "source": [
    "AIC"
   ]
  },
  {
   "cell_type": "code",
   "execution_count": 23,
   "id": "eff322ee",
   "metadata": {},
   "outputs": [
    {
     "name": "stdout",
     "output_type": "stream",
     "text": [
      "AIC: 373.15889296016417\n"
     ]
    }
   ],
   "source": [
    "# AIC = -2 * LL + 2 * k\n",
    "ll = res.llf\n",
    "k = X1.shape[1]\n",
    "aic = -2*ll + 2*k\n",
    "print(f'AIC: {aic}')"
   ]
  },
  {
   "attachments": {},
   "cell_type": "markdown",
   "id": "8a5a6115",
   "metadata": {},
   "source": [
    "## 3. Negative Binomial Regression\n",
    "\n",
    "[statsmodels.discrete.discrete_model.NegativeBinomial](https://www.statsmodels.org/dev/generated/statsmodels.discrete.discrete_model.NegativeBinomial.html)"
   ]
  },
  {
   "attachments": {},
   "cell_type": "markdown",
   "id": "2379008d",
   "metadata": {},
   "source": [
    "Negative Binomial Regression is a statistical regression technique used to model count data with overdispersion, where the variance of the data exceeds the mean. It is an extension of the Poisson regression model, which assumes that the mean and variance of the count data are equal.\n",
    "\n",
    "Overdispersion: The Negative Binomial Regression accounts for overdispersion by allowing the variance to be larger than the mean, unlike the Poisson regression model. Overdispersion occurs when there is more variability in the data than can be explained by a Poisson distribution.\n",
    "\n",
    "Regression Model: Negative Binomial Regression extends the Poisson regression by introducing an additional parameter called the dispersion parameter, $\\alpha$. This parameter captures the extra variation in the data beyond what is predicted by the mean.\n",
    "\n",
    "Interpretation of Coefficients: The coefficients in Negative Binomial Regression represent the change in the expected count for a one-unit change in the corresponding predictor variable, holding other variables constant. They can be interpreted similarly to coefficients in Poisson regression."
   ]
  },
  {
   "cell_type": "code",
   "execution_count": 24,
   "id": "438d9e58",
   "metadata": {},
   "outputs": [
    {
     "name": "stdout",
     "output_type": "stream",
     "text": [
      "Optimization terminated successfully.\n",
      "         Current function value: 0.909527\n",
      "         Iterations: 30\n",
      "         Function evaluations: 35\n",
      "         Gradient evaluations: 35\n",
      "                     NegativeBinomial Regression Results                      \n",
      "==============================================================================\n",
      "Dep. Variable:             num_awards   No. Observations:                  200\n",
      "Model:               NegativeBinomial   Df Residuals:                      196\n",
      "Method:                           MLE   Df Model:                            3\n",
      "Date:                Sat, 13 May 2023   Pseudo R-squ.:                  0.1632\n",
      "Time:                        03:25:09   Log-Likelihood:                -181.91\n",
      "converged:                       True   LL-Null:                       -217.37\n",
      "Covariance Type:            nonrobust   LLR p-value:                 2.696e-15\n",
      "==============================================================================\n",
      "                 coef    std err          z      P>|z|      [0.025      0.975]\n",
      "------------------------------------------------------------------------------\n",
      "const         -5.2933      0.709     -7.467      0.000      -6.683      -3.904\n",
      "math           0.0711      0.012      6.109      0.000       0.048       0.094\n",
      "prog_2         1.0751      0.368      2.924      0.003       0.355       1.796\n",
      "prog_3         0.3670      0.453      0.811      0.418      -0.520       1.254\n",
      "alpha          0.1635      0.149      1.095      0.274      -0.129       0.456\n",
      "==============================================================================\n"
     ]
    }
   ],
   "source": [
    "from statsmodels.discrete.discrete_model import NegativeBinomial\n",
    "\n",
    "# Add constant column to X for intercept term\n",
    "X1 = sm.add_constant(X)\n",
    "\n",
    "# Fit the negative binomial regression model\n",
    "model = NegativeBinomial(endog=y, exog=X1)\n",
    "res = model.fit()\n",
    "\n",
    "# Print the model summary\n",
    "print(res.summary())"
   ]
  },
  {
   "attachments": {},
   "cell_type": "markdown",
   "id": "c982f967",
   "metadata": {},
   "source": [
    "AIC"
   ]
  },
  {
   "cell_type": "code",
   "execution_count": 25,
   "id": "6c72a494",
   "metadata": {},
   "outputs": [
    {
     "name": "stdout",
     "output_type": "stream",
     "text": [
      "AIC: 371.8108937266304\n"
     ]
    }
   ],
   "source": [
    "# AIC = -2 * LL + 2 * k\n",
    "ll = res.llf\n",
    "k = X1.shape[1]\n",
    "aic = -2*ll + 2*k\n",
    "print(f'AIC: {aic}')"
   ]
  },
  {
   "attachments": {},
   "cell_type": "markdown",
   "id": "77cc3c83",
   "metadata": {},
   "source": [
    "In `statsmodels`' Negative Binomial regression, the heterogeneity parameter $\\alpha$ represents the dispersion parameter of the negative binomial distribution. It quantifies the level of overdispersion or underdispersion in the data.\n",
    "\n",
    "The dispersion parameter $\\alpha$ is estimated during the fitting process of the negative binomial regression model. It reflects the extent to which the observed variance of the dependent variable deviates from the mean, considering the count distribution assumption.\n",
    "\n",
    "The interpretation of the $\\alpha$ value in negative binomial regression is as follows:\n",
    "\n",
    "- $\\alpha$ = 0: This corresponds to the special case of a Poisson distribution, where the variance is equal to the mean. In this scenario, there is no dispersion present, and the negative binomial regression model reduces to a Poisson regression model.\n",
    "\n",
    "- $\\alpha$ > 0: When alpha is greater than zero, it indicates overdispersion. This means that the observed variance is higher than what would be expected under a Poisson distribution assumption. A larger alpha value suggests a higher degree of overdispersion.\n",
    "\n",
    "- $\\alpha$ < 0: In rare cases, a negative alpha value can occur, indicating underdispersion. This implies that the observed variance is lower than expected under a Poisson distribution assumption. However, negative alpha values are not commonly encountered in practice.\n",
    "\n",
    "It's worth noting that the alpha value obtained from the negative binomial regression is on the log scale. If you wish to interpret it directly, you can exponentiate the value to obtain the dispersion parameter.\n",
    "\n",
    "In summary, the alpha parameter in statsmodels' negative binomial regression represents the dispersion parameter of the negative binomial distribution. A higher alpha value indicates greater overdispersion in the data, while a lower alpha value suggests less overdispersion or even underdispersion."
   ]
  },
  {
   "cell_type": "code",
   "execution_count": 26,
   "id": "79c50050",
   "metadata": {},
   "outputs": [
    {
     "data": {
      "text/plain": [
       "const    -5.293314\n",
       "math      0.071069\n",
       "prog_2    1.075071\n",
       "prog_3    0.366960\n",
       "alpha     0.163541\n",
       "dtype: float64"
      ]
     },
     "execution_count": 26,
     "metadata": {},
     "output_type": "execute_result"
    }
   ],
   "source": [
    "res.params"
   ]
  },
  {
   "attachments": {},
   "cell_type": "markdown",
   "id": "8c5bbcdb",
   "metadata": {},
   "source": [
    "#### Example"
   ]
  },
  {
   "cell_type": "code",
   "execution_count": 27,
   "id": "15f65ad2",
   "metadata": {},
   "outputs": [
    {
     "data": {
      "text/html": [
       "<div>\n",
       "<style scoped>\n",
       "    .dataframe tbody tr th:only-of-type {\n",
       "        vertical-align: middle;\n",
       "    }\n",
       "\n",
       "    .dataframe tbody tr th {\n",
       "        vertical-align: top;\n",
       "    }\n",
       "\n",
       "    .dataframe thead th {\n",
       "        text-align: right;\n",
       "    }\n",
       "</style>\n",
       "<table border=\"1\" class=\"dataframe\">\n",
       "  <thead>\n",
       "    <tr style=\"text-align: right;\">\n",
       "      <th></th>\n",
       "      <th>gender</th>\n",
       "      <th>math</th>\n",
       "      <th>daysabs</th>\n",
       "      <th>prog</th>\n",
       "    </tr>\n",
       "  </thead>\n",
       "  <tbody>\n",
       "    <tr>\n",
       "      <th>0</th>\n",
       "      <td>male</td>\n",
       "      <td>63</td>\n",
       "      <td>4</td>\n",
       "      <td>2</td>\n",
       "    </tr>\n",
       "    <tr>\n",
       "      <th>1</th>\n",
       "      <td>male</td>\n",
       "      <td>27</td>\n",
       "      <td>4</td>\n",
       "      <td>2</td>\n",
       "    </tr>\n",
       "    <tr>\n",
       "      <th>2</th>\n",
       "      <td>female</td>\n",
       "      <td>20</td>\n",
       "      <td>2</td>\n",
       "      <td>2</td>\n",
       "    </tr>\n",
       "    <tr>\n",
       "      <th>3</th>\n",
       "      <td>female</td>\n",
       "      <td>16</td>\n",
       "      <td>3</td>\n",
       "      <td>2</td>\n",
       "    </tr>\n",
       "    <tr>\n",
       "      <th>4</th>\n",
       "      <td>female</td>\n",
       "      <td>2</td>\n",
       "      <td>3</td>\n",
       "      <td>2</td>\n",
       "    </tr>\n",
       "    <tr>\n",
       "      <th>...</th>\n",
       "      <td>...</td>\n",
       "      <td>...</td>\n",
       "      <td>...</td>\n",
       "      <td>...</td>\n",
       "    </tr>\n",
       "    <tr>\n",
       "      <th>309</th>\n",
       "      <td>male</td>\n",
       "      <td>26</td>\n",
       "      <td>1</td>\n",
       "      <td>2</td>\n",
       "    </tr>\n",
       "    <tr>\n",
       "      <th>310</th>\n",
       "      <td>female</td>\n",
       "      <td>79</td>\n",
       "      <td>3</td>\n",
       "      <td>3</td>\n",
       "    </tr>\n",
       "    <tr>\n",
       "      <th>311</th>\n",
       "      <td>female</td>\n",
       "      <td>59</td>\n",
       "      <td>0</td>\n",
       "      <td>2</td>\n",
       "    </tr>\n",
       "    <tr>\n",
       "      <th>312</th>\n",
       "      <td>female</td>\n",
       "      <td>90</td>\n",
       "      <td>0</td>\n",
       "      <td>3</td>\n",
       "    </tr>\n",
       "    <tr>\n",
       "      <th>313</th>\n",
       "      <td>female</td>\n",
       "      <td>77</td>\n",
       "      <td>2</td>\n",
       "      <td>3</td>\n",
       "    </tr>\n",
       "  </tbody>\n",
       "</table>\n",
       "<p>314 rows × 4 columns</p>\n",
       "</div>"
      ],
      "text/plain": [
       "     gender  math  daysabs  prog\n",
       "0      male    63        4     2\n",
       "1      male    27        4     2\n",
       "2    female    20        2     2\n",
       "3    female    16        3     2\n",
       "4    female     2        3     2\n",
       "..      ...   ...      ...   ...\n",
       "309    male    26        1     2\n",
       "310  female    79        3     3\n",
       "311  female    59        0     2\n",
       "312  female    90        0     3\n",
       "313  female    77        2     3\n",
       "\n",
       "[314 rows x 4 columns]"
      ]
     },
     "execution_count": 27,
     "metadata": {},
     "output_type": "execute_result"
    }
   ],
   "source": [
    "data_set = pd.read_csv(os.path.join(data_dir, \"nb_data.csv\"))\n",
    "data_set.drop('id', axis=1, inplace=True)\n",
    "data_set"
   ]
  },
  {
   "cell_type": "code",
   "execution_count": 28,
   "id": "914575c9",
   "metadata": {},
   "outputs": [
    {
     "data": {
      "text/html": [
       "<div>\n",
       "<style scoped>\n",
       "    .dataframe tbody tr th:only-of-type {\n",
       "        vertical-align: middle;\n",
       "    }\n",
       "\n",
       "    .dataframe tbody tr th {\n",
       "        vertical-align: top;\n",
       "    }\n",
       "\n",
       "    .dataframe thead th {\n",
       "        text-align: right;\n",
       "    }\n",
       "</style>\n",
       "<table border=\"1\" class=\"dataframe\">\n",
       "  <thead>\n",
       "    <tr style=\"text-align: right;\">\n",
       "      <th></th>\n",
       "      <th>math</th>\n",
       "      <th>daysabs</th>\n",
       "      <th>prog_2</th>\n",
       "      <th>prog_3</th>\n",
       "      <th>gender_male</th>\n",
       "    </tr>\n",
       "  </thead>\n",
       "  <tbody>\n",
       "    <tr>\n",
       "      <th>0</th>\n",
       "      <td>63</td>\n",
       "      <td>4</td>\n",
       "      <td>1</td>\n",
       "      <td>0</td>\n",
       "      <td>1</td>\n",
       "    </tr>\n",
       "    <tr>\n",
       "      <th>1</th>\n",
       "      <td>27</td>\n",
       "      <td>4</td>\n",
       "      <td>1</td>\n",
       "      <td>0</td>\n",
       "      <td>1</td>\n",
       "    </tr>\n",
       "    <tr>\n",
       "      <th>2</th>\n",
       "      <td>20</td>\n",
       "      <td>2</td>\n",
       "      <td>1</td>\n",
       "      <td>0</td>\n",
       "      <td>0</td>\n",
       "    </tr>\n",
       "    <tr>\n",
       "      <th>3</th>\n",
       "      <td>16</td>\n",
       "      <td>3</td>\n",
       "      <td>1</td>\n",
       "      <td>0</td>\n",
       "      <td>0</td>\n",
       "    </tr>\n",
       "    <tr>\n",
       "      <th>4</th>\n",
       "      <td>2</td>\n",
       "      <td>3</td>\n",
       "      <td>1</td>\n",
       "      <td>0</td>\n",
       "      <td>0</td>\n",
       "    </tr>\n",
       "    <tr>\n",
       "      <th>...</th>\n",
       "      <td>...</td>\n",
       "      <td>...</td>\n",
       "      <td>...</td>\n",
       "      <td>...</td>\n",
       "      <td>...</td>\n",
       "    </tr>\n",
       "    <tr>\n",
       "      <th>309</th>\n",
       "      <td>26</td>\n",
       "      <td>1</td>\n",
       "      <td>1</td>\n",
       "      <td>0</td>\n",
       "      <td>1</td>\n",
       "    </tr>\n",
       "    <tr>\n",
       "      <th>310</th>\n",
       "      <td>79</td>\n",
       "      <td>3</td>\n",
       "      <td>0</td>\n",
       "      <td>1</td>\n",
       "      <td>0</td>\n",
       "    </tr>\n",
       "    <tr>\n",
       "      <th>311</th>\n",
       "      <td>59</td>\n",
       "      <td>0</td>\n",
       "      <td>1</td>\n",
       "      <td>0</td>\n",
       "      <td>0</td>\n",
       "    </tr>\n",
       "    <tr>\n",
       "      <th>312</th>\n",
       "      <td>90</td>\n",
       "      <td>0</td>\n",
       "      <td>0</td>\n",
       "      <td>1</td>\n",
       "      <td>0</td>\n",
       "    </tr>\n",
       "    <tr>\n",
       "      <th>313</th>\n",
       "      <td>77</td>\n",
       "      <td>2</td>\n",
       "      <td>0</td>\n",
       "      <td>1</td>\n",
       "      <td>0</td>\n",
       "    </tr>\n",
       "  </tbody>\n",
       "</table>\n",
       "<p>314 rows × 5 columns</p>\n",
       "</div>"
      ],
      "text/plain": [
       "     math  daysabs  prog_2  prog_3  gender_male\n",
       "0      63        4       1       0            1\n",
       "1      27        4       1       0            1\n",
       "2      20        2       1       0            0\n",
       "3      16        3       1       0            0\n",
       "4       2        3       1       0            0\n",
       "..    ...      ...     ...     ...          ...\n",
       "309    26        1       1       0            1\n",
       "310    79        3       0       1            0\n",
       "311    59        0       1       0            0\n",
       "312    90        0       0       1            0\n",
       "313    77        2       0       1            0\n",
       "\n",
       "[314 rows x 5 columns]"
      ]
     },
     "execution_count": 28,
     "metadata": {},
     "output_type": "execute_result"
    }
   ],
   "source": [
    "data_set = pd.get_dummies(data_set, columns=['prog', 'gender'], drop_first=True)\n",
    "data_set"
   ]
  },
  {
   "attachments": {},
   "cell_type": "markdown",
   "id": "96da50cd",
   "metadata": {},
   "source": [
    "`X`, `y`"
   ]
  },
  {
   "cell_type": "code",
   "execution_count": 29,
   "id": "a45e73af",
   "metadata": {},
   "outputs": [],
   "source": [
    "X = data_set.drop('daysabs', axis=1)\n",
    "y = data_set['daysabs']"
   ]
  },
  {
   "attachments": {},
   "cell_type": "markdown",
   "id": "297159c9",
   "metadata": {},
   "source": [
    "#### Poisson"
   ]
  },
  {
   "cell_type": "code",
   "execution_count": 30,
   "id": "800216ab",
   "metadata": {},
   "outputs": [
    {
     "name": "stdout",
     "output_type": "stream",
     "text": [
      "                 Generalized Linear Model Regression Results                  \n",
      "==============================================================================\n",
      "Dep. Variable:                daysabs   No. Observations:                  314\n",
      "Model:                            GLM   Df Residuals:                      309\n",
      "Model Family:                 Poisson   Df Model:                            4\n",
      "Link Function:                    Log   Scale:                          1.0000\n",
      "Method:                          IRLS   Log-Likelihood:                -1315.1\n",
      "Date:                Sat, 13 May 2023   Deviance:                       1746.8\n",
      "Time:                        03:25:09   Pearson chi2:                 2.01e+03\n",
      "No. Iterations:                     5   Pseudo R-squ. (CS):             0.7768\n",
      "Covariance Type:            nonrobust                                         \n",
      "===============================================================================\n",
      "                  coef    std err          z      P>|z|      [0.025      0.975]\n",
      "-------------------------------------------------------------------------------\n",
      "const           2.7595      0.064     43.270      0.000       2.634       2.884\n",
      "math           -0.0070      0.001     -7.437      0.000      -0.009      -0.005\n",
      "prog_2         -0.4260      0.057     -7.510      0.000      -0.537      -0.315\n",
      "prog_3         -1.2707      0.078    -16.308      0.000      -1.423      -1.118\n",
      "gender_male    -0.2425      0.047     -5.184      0.000      -0.334      -0.151\n",
      "===============================================================================\n",
      "Ratio of Deviance to Degrees of Freedom:  5.653223525762625\n"
     ]
    }
   ],
   "source": [
    "# Add a constant to the independent variable matrix\n",
    "X1 = sm.add_constant(X)\n",
    "\n",
    "# Fit a Poisson regression model\n",
    "poisson_model = sm.GLM(y, X1, family=sm.families.Poisson())\n",
    "poisson_results = poisson_model.fit()\n",
    "\n",
    "print(poisson_results.summary())\n",
    "\n",
    "# To test for overdispersion, we calculate the ratio of the deviance to the degrees of freedom\n",
    "# If this ratio is significantly greater than 1, it indicates overdispersion\n",
    "ratio = poisson_results.deviance / poisson_results.df_resid\n",
    "print('Ratio of Deviance to Degrees of Freedom: ', ratio)"
   ]
  },
  {
   "attachments": {},
   "cell_type": "markdown",
   "id": "4d20a08e",
   "metadata": {},
   "source": [
    "AIC"
   ]
  },
  {
   "cell_type": "code",
   "execution_count": 31,
   "id": "fdeac3d1",
   "metadata": {},
   "outputs": [
    {
     "name": "stdout",
     "output_type": "stream",
     "text": [
      "AIC: 2640.1776172636164\n"
     ]
    }
   ],
   "source": [
    "# AIC = -2 * LL + 2 * k\n",
    "ll = poisson_results.llf\n",
    "k = X1.shape[1]\n",
    "aic = -2*ll + 2*k\n",
    "print(f'AIC: {aic}')"
   ]
  },
  {
   "attachments": {},
   "cell_type": "markdown",
   "id": "4bac2e66",
   "metadata": {},
   "source": [
    "#### Negative Binomial"
   ]
  },
  {
   "cell_type": "code",
   "execution_count": 32,
   "id": "0354e212",
   "metadata": {},
   "outputs": [
    {
     "name": "stdout",
     "output_type": "stream",
     "text": [
      "Optimization terminated successfully.\n",
      "         Current function value: 2.752081\n",
      "         Iterations: 23\n",
      "         Function evaluations: 29\n",
      "         Gradient evaluations: 29\n",
      "                     NegativeBinomial Regression Results                      \n",
      "==============================================================================\n",
      "Dep. Variable:                daysabs   No. Observations:                  314\n",
      "Model:               NegativeBinomial   Df Residuals:                      309\n",
      "Method:                           MLE   Df Model:                            4\n",
      "Date:                Sat, 13 May 2023   Pseudo R-squ.:                 0.03605\n",
      "Time:                        03:25:09   Log-Likelihood:                -864.15\n",
      "converged:                       True   LL-Null:                       -896.47\n",
      "Covariance Type:            nonrobust   LLR p-value:                 3.068e-13\n",
      "===============================================================================\n",
      "                  coef    std err          z      P>|z|      [0.025      0.975]\n",
      "-------------------------------------------------------------------------------\n",
      "const           2.7075      0.203     13.333      0.000       2.309       3.105\n",
      "math           -0.0062      0.002     -2.503      0.012      -0.011      -0.001\n",
      "prog_2         -0.4245      0.182     -2.336      0.020      -0.781      -0.068\n",
      "prog_3         -1.2526      0.201     -6.220      0.000      -1.647      -0.858\n",
      "gender_male    -0.2111      0.122     -1.725      0.085      -0.451       0.029\n",
      "alpha           0.9548      0.099      9.675      0.000       0.761       1.148\n",
      "===============================================================================\n"
     ]
    }
   ],
   "source": [
    "# Add constant column to X for intercept term\n",
    "X1 = sm.add_constant(X)\n",
    "\n",
    "# Fit the negative binomial regression model\n",
    "model = NegativeBinomial(endog=y, exog=X1)\n",
    "results_nb = model.fit()\n",
    "\n",
    "# Print the model summary\n",
    "print(results_nb.summary())"
   ]
  },
  {
   "attachments": {},
   "cell_type": "markdown",
   "id": "0e4d2c28",
   "metadata": {},
   "source": [
    "AIC"
   ]
  },
  {
   "cell_type": "code",
   "execution_count": 33,
   "id": "2d950556",
   "metadata": {},
   "outputs": [
    {
     "name": "stdout",
     "output_type": "stream",
     "text": [
      "AIC: 1738.3070963921077\n"
     ]
    }
   ],
   "source": [
    "# AIC = -2 * LL + 2 * k\n",
    "ll = results_nb.llf\n",
    "k = X1.shape[1]\n",
    "aic = -2*ll + 2*k\n",
    "print(f'AIC: {aic}')"
   ]
  },
  {
   "attachments": {},
   "cell_type": "markdown",
   "id": "e259036f",
   "metadata": {},
   "source": [
    "### Further Reading"
   ]
  },
  {
   "attachments": {},
   "cell_type": "markdown",
   "id": "0b27e0c3",
   "metadata": {},
   "source": [
    "- [Regression with Count Data: Poisson and Negative Binomial, Matthew E. Clapham](https://www.youtube.com/watch?v=uGKnoAw-PFQ)\n",
    "- [An Introduction to the Poisson Regression Model, Morten Nyboe Tabor](https://www.youtube.com/watch?v=U-bMvccsn08)\n",
    "- [Introduction to Poisson regression models for count data, Gabriele Durrant, NCRM](https://www.ncrm.ac.uk/resources/online/all/?id=20429)\n",
    "- [Poisson regression, English Wikipedia](https://en.wikipedia.org/wiki/Poisson_regression)"
   ]
  },
  {
   "attachments": {},
   "cell_type": "markdown",
   "id": "86f63398",
   "metadata": {},
   "source": [
    "***"
   ]
  },
  {
   "attachments": {},
   "cell_type": "markdown",
   "id": "0794ec11",
   "metadata": {},
   "source": [
    "DataKolektiv, 2022/23.\n",
    "\n",
    "[hello@datakolektiv.com](mailto:goran.milovanovic@datakolektiv.com)\n",
    "\n",
    "![](../img/DK_Logo_100.png)"
   ]
  },
  {
   "attachments": {},
   "cell_type": "markdown",
   "id": "e85cbf9a",
   "metadata": {},
   "source": [
    "<font size=1>License: [GPLv3](https://www.gnu.org/licenses/gpl-3.0.txt) This Notebook is free software: you can redistribute it and/or modify it under the terms of the GNU General Public License as published by the Free Software Foundation, either version 3 of the License, or (at your option) any later version. This Notebook is distributed in the hope that it will be useful, but WITHOUT ANY WARRANTY; without even the implied warranty of MERCHANTABILITY or FITNESS FOR A PARTICULAR PURPOSE. See the GNU General Public License for more details. You should have received a copy of the GNU General Public License along with this Notebook. If not, see http://www.gnu.org/licenses/.</font>"
   ]
  }
 ],
 "metadata": {
  "kernelspec": {
   "display_name": "Python 3",
   "language": "python",
   "name": "python3"
  },
  "language_info": {
   "codemirror_mode": {
    "name": "ipython",
    "version": 3
   },
   "file_extension": ".py",
   "mimetype": "text/x-python",
   "name": "python",
   "nbconvert_exporter": "python",
   "pygments_lexer": "ipython3",
   "version": "3.9.16"
  }
 },
 "nbformat": 4,
 "nbformat_minor": 5
}
