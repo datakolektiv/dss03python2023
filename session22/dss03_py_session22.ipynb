{
 "cells": [
  {
   "cell_type": "markdown",
   "id": "b4fdff4e",
   "metadata": {},
   "source": [
    "# DATA SCIENCE SESSIONS VOL. 3\n",
    "### A Foundational Python Data Science Course\n",
    "## Session 22: Random Forest Classification and Regression\n",
    "\n",
    "[&larr; Back to course webpage](https://datakolektiv.com/)\n",
    "\n",
    "Feedback should be send to [goran.milovanovic@datakolektiv.com](mailto:goran.milovanovic@datakolektiv.com). \n",
    "\n",
    "These notebooks accompany the DATA SCIENCE SESSIONS VOL. 3 :: A Foundational Python Data Science Course."
   ]
  },
  {
   "cell_type": "markdown",
   "id": "476c8d5d",
   "metadata": {},
   "source": [
    "![](../img/IntroRDataScience_NonTech-1.jpg)"
   ]
  },
  {
   "cell_type": "markdown",
   "id": "cacc961f",
   "metadata": {},
   "source": [
    "### Lecturers\n",
    "\n",
    "[Goran S. Milovanović, PhD, DataKolektiv, Chief Scientist & Owner](https://www.linkedin.com/in/gmilovanovic/)\n",
    "\n",
    "[Aleksandar Cvetković, PhD, DataKolektiv, Consultant](https://www.linkedin.com/in/alegzndr/)\n",
    "\n",
    "[Ilija Lazarević, MA, DataKolektiv, Consultant](https://www.linkedin.com/in/ilijalazarevic/)"
   ]
  },
  {
   "cell_type": "markdown",
   "id": "f70155c7",
   "metadata": {},
   "source": [
    "![](../img/DK_Logo_100.png)"
   ]
  },
  {
   "cell_type": "markdown",
   "id": "a5f73576",
   "metadata": {},
   "source": [
    "***"
   ]
  },
  {
   "cell_type": "code",
   "execution_count": 1,
   "id": "da61986b",
   "metadata": {},
   "outputs": [],
   "source": [
    "### --- Setup - importing the libraries\n",
    "\n",
    "# - supress those annoying 'Future Warning'\n",
    "import warnings\n",
    "warnings.simplefilter(action='ignore', category=FutureWarning)\n",
    "warnings.simplefilter(action='ignore', category=UserWarning)\n",
    "\n",
    "\n",
    "# - data\n",
    "import numpy as np\n",
    "import pandas as pd\n",
    "\n",
    "# - os\n",
    "import os\n",
    "\n",
    "# - ml\n",
    "import statsmodels.api as sm\n",
    "import statsmodels.formula.api as smf\n",
    "from statsmodels.stats.outliers_influence import variance_inflation_factor\n",
    "\n",
    "# - visualization\n",
    "import matplotlib.pyplot as plt\n",
    "import seaborn as sns\n",
    "\n",
    "import collections\n",
    "\n",
    "# - directory tree\n",
    "data_dir = os.path.join(os.getcwd(), '_data')"
   ]
  },
  {
   "cell_type": "markdown",
   "id": "b3806db8",
   "metadata": {},
   "source": [
    "Today we will introduce an idea even more powerful than the Decision Tree model to solve classification and regression problems: the **Random Forest** model. In order to understand Random Forests we will introduce some important theoretical concepts: *Bootstrap aggregating* (a.k.a. *Bagging*), *Out-of-bag (OOB)* error, and *Feature Bagging* (a.k.a. the *random subspace method* or *attribute bagging*). We will see how these approaches in Machine Learning prevent overfitting in the training of a complex model like Random Forest."
   ]
  },
  {
   "cell_type": "markdown",
   "id": "d7c72631",
   "metadata": {},
   "source": [
    "## 1. Random Forest Classification"
   ]
  },
  {
   "cell_type": "markdown",
   "id": "7a6f9347",
   "metadata": {},
   "source": [
    "For Random Forest Classification we use `RandomForestClassifier` from `scikit-learn`. But first, let's look at the data we are going to fit our model on."
   ]
  },
  {
   "cell_type": "code",
   "execution_count": 2,
   "id": "5bda1ae0",
   "metadata": {},
   "outputs": [
    {
     "data": {
      "text/html": [
       "<div>\n",
       "<style scoped>\n",
       "    .dataframe tbody tr th:only-of-type {\n",
       "        vertical-align: middle;\n",
       "    }\n",
       "\n",
       "    .dataframe tbody tr th {\n",
       "        vertical-align: top;\n",
       "    }\n",
       "\n",
       "    .dataframe thead th {\n",
       "        text-align: right;\n",
       "    }\n",
       "</style>\n",
       "<table border=\"1\" class=\"dataframe\">\n",
       "  <thead>\n",
       "    <tr style=\"text-align: right;\">\n",
       "      <th></th>\n",
       "      <th>satisfaction_level</th>\n",
       "      <th>last_evaluation</th>\n",
       "      <th>number_project</th>\n",
       "      <th>average_montly_hours</th>\n",
       "      <th>time_spend_company</th>\n",
       "      <th>Work_accident</th>\n",
       "      <th>left</th>\n",
       "      <th>promotion_last_5years</th>\n",
       "      <th>sales</th>\n",
       "      <th>salary</th>\n",
       "    </tr>\n",
       "  </thead>\n",
       "  <tbody>\n",
       "    <tr>\n",
       "      <th>0</th>\n",
       "      <td>0.38</td>\n",
       "      <td>0.53</td>\n",
       "      <td>2</td>\n",
       "      <td>157</td>\n",
       "      <td>3</td>\n",
       "      <td>0</td>\n",
       "      <td>1</td>\n",
       "      <td>0</td>\n",
       "      <td>sales</td>\n",
       "      <td>low</td>\n",
       "    </tr>\n",
       "    <tr>\n",
       "      <th>1</th>\n",
       "      <td>0.80</td>\n",
       "      <td>0.86</td>\n",
       "      <td>5</td>\n",
       "      <td>262</td>\n",
       "      <td>6</td>\n",
       "      <td>0</td>\n",
       "      <td>1</td>\n",
       "      <td>0</td>\n",
       "      <td>sales</td>\n",
       "      <td>medium</td>\n",
       "    </tr>\n",
       "    <tr>\n",
       "      <th>2</th>\n",
       "      <td>0.11</td>\n",
       "      <td>0.88</td>\n",
       "      <td>7</td>\n",
       "      <td>272</td>\n",
       "      <td>4</td>\n",
       "      <td>0</td>\n",
       "      <td>1</td>\n",
       "      <td>0</td>\n",
       "      <td>sales</td>\n",
       "      <td>medium</td>\n",
       "    </tr>\n",
       "    <tr>\n",
       "      <th>3</th>\n",
       "      <td>0.72</td>\n",
       "      <td>0.87</td>\n",
       "      <td>5</td>\n",
       "      <td>223</td>\n",
       "      <td>5</td>\n",
       "      <td>0</td>\n",
       "      <td>1</td>\n",
       "      <td>0</td>\n",
       "      <td>sales</td>\n",
       "      <td>low</td>\n",
       "    </tr>\n",
       "    <tr>\n",
       "      <th>4</th>\n",
       "      <td>0.37</td>\n",
       "      <td>0.52</td>\n",
       "      <td>2</td>\n",
       "      <td>159</td>\n",
       "      <td>3</td>\n",
       "      <td>0</td>\n",
       "      <td>1</td>\n",
       "      <td>0</td>\n",
       "      <td>sales</td>\n",
       "      <td>low</td>\n",
       "    </tr>\n",
       "    <tr>\n",
       "      <th>...</th>\n",
       "      <td>...</td>\n",
       "      <td>...</td>\n",
       "      <td>...</td>\n",
       "      <td>...</td>\n",
       "      <td>...</td>\n",
       "      <td>...</td>\n",
       "      <td>...</td>\n",
       "      <td>...</td>\n",
       "      <td>...</td>\n",
       "      <td>...</td>\n",
       "    </tr>\n",
       "    <tr>\n",
       "      <th>14994</th>\n",
       "      <td>0.40</td>\n",
       "      <td>0.57</td>\n",
       "      <td>2</td>\n",
       "      <td>151</td>\n",
       "      <td>3</td>\n",
       "      <td>0</td>\n",
       "      <td>1</td>\n",
       "      <td>0</td>\n",
       "      <td>support</td>\n",
       "      <td>low</td>\n",
       "    </tr>\n",
       "    <tr>\n",
       "      <th>14995</th>\n",
       "      <td>0.37</td>\n",
       "      <td>0.48</td>\n",
       "      <td>2</td>\n",
       "      <td>160</td>\n",
       "      <td>3</td>\n",
       "      <td>0</td>\n",
       "      <td>1</td>\n",
       "      <td>0</td>\n",
       "      <td>support</td>\n",
       "      <td>low</td>\n",
       "    </tr>\n",
       "    <tr>\n",
       "      <th>14996</th>\n",
       "      <td>0.37</td>\n",
       "      <td>0.53</td>\n",
       "      <td>2</td>\n",
       "      <td>143</td>\n",
       "      <td>3</td>\n",
       "      <td>0</td>\n",
       "      <td>1</td>\n",
       "      <td>0</td>\n",
       "      <td>support</td>\n",
       "      <td>low</td>\n",
       "    </tr>\n",
       "    <tr>\n",
       "      <th>14997</th>\n",
       "      <td>0.11</td>\n",
       "      <td>0.96</td>\n",
       "      <td>6</td>\n",
       "      <td>280</td>\n",
       "      <td>4</td>\n",
       "      <td>0</td>\n",
       "      <td>1</td>\n",
       "      <td>0</td>\n",
       "      <td>support</td>\n",
       "      <td>low</td>\n",
       "    </tr>\n",
       "    <tr>\n",
       "      <th>14998</th>\n",
       "      <td>0.37</td>\n",
       "      <td>0.52</td>\n",
       "      <td>2</td>\n",
       "      <td>158</td>\n",
       "      <td>3</td>\n",
       "      <td>0</td>\n",
       "      <td>1</td>\n",
       "      <td>0</td>\n",
       "      <td>support</td>\n",
       "      <td>low</td>\n",
       "    </tr>\n",
       "  </tbody>\n",
       "</table>\n",
       "<p>14999 rows × 10 columns</p>\n",
       "</div>"
      ],
      "text/plain": [
       "       satisfaction_level  last_evaluation  number_project  \\\n",
       "0                    0.38             0.53               2   \n",
       "1                    0.80             0.86               5   \n",
       "2                    0.11             0.88               7   \n",
       "3                    0.72             0.87               5   \n",
       "4                    0.37             0.52               2   \n",
       "...                   ...              ...             ...   \n",
       "14994                0.40             0.57               2   \n",
       "14995                0.37             0.48               2   \n",
       "14996                0.37             0.53               2   \n",
       "14997                0.11             0.96               6   \n",
       "14998                0.37             0.52               2   \n",
       "\n",
       "       average_montly_hours  time_spend_company  Work_accident  left  \\\n",
       "0                       157                   3              0     1   \n",
       "1                       262                   6              0     1   \n",
       "2                       272                   4              0     1   \n",
       "3                       223                   5              0     1   \n",
       "4                       159                   3              0     1   \n",
       "...                     ...                 ...            ...   ...   \n",
       "14994                   151                   3              0     1   \n",
       "14995                   160                   3              0     1   \n",
       "14996                   143                   3              0     1   \n",
       "14997                   280                   4              0     1   \n",
       "14998                   158                   3              0     1   \n",
       "\n",
       "       promotion_last_5years    sales  salary  \n",
       "0                          0    sales     low  \n",
       "1                          0    sales  medium  \n",
       "2                          0    sales  medium  \n",
       "3                          0    sales     low  \n",
       "4                          0    sales     low  \n",
       "...                      ...      ...     ...  \n",
       "14994                      0  support     low  \n",
       "14995                      0  support     low  \n",
       "14996                      0  support     low  \n",
       "14997                      0  support     low  \n",
       "14998                      0  support     low  \n",
       "\n",
       "[14999 rows x 10 columns]"
      ]
     },
     "execution_count": 2,
     "metadata": {},
     "output_type": "execute_result"
    }
   ],
   "source": [
    "df = pd.read_csv(os.path.join(data_dir, 'HR_comma_sep.csv'))\n",
    "df"
   ]
  },
  {
   "cell_type": "markdown",
   "id": "031783b2",
   "metadata": {},
   "source": [
    "The task is to predict the value of `left` variable - whether the employee has left the company or not - from a set of predictors encompassing the following:\n",
    "\n",
    " - `satisfaction_level`: a measure of employee’s level of satisfaction\n",
    " - `last_evaluation`: the result of a last evaluation\n",
    " - `number_projects`: in how many projects did the employee took part\n",
    " - `average_monthly_hours`: how working hours monthly on average\n",
    " - `time_spend_company`: for how long is the employee with us\n",
    " - `Work_accident`: any work accidents?\n",
    " - `promotion_last_5years`: did the promotion occur in the last five years?\n",
    " - `sales`: department (sales, accounting, hr, technical, support, management, IT, product_mng, marketing, RandD)\n",
    " - `salary`: salary class (low, medium, high)\n"
   ]
  },
  {
   "cell_type": "markdown",
   "id": "9514809d",
   "metadata": {},
   "source": [
    "### Random Forests: the Algorithm\n",
    "\n",
    "There are three important concepts to understand how Random Forest builds upon Decision Trees:\n",
    "\n",
    " - **Bootstrap aggregating (Bagging).** We begin with some training set for our model, $D$. Bagging generates $m$ new training sets, $D_i,\\ i=1, 2, \\ldots, m$, by randomly sampling from $D$, uniformly and *with replacement*. The samples obtained in this way are known as *bootstrap samples*. In Random Forests, $m$ simpler models - Decision Trees, precisely - are fitted for each $D_i$ bootstrap sample. \n",
    " \n",
    " \n",
    " - **Out-of-bag (OOB) error.** Each time a new bootstrap sample $D_i$ is produced, some data points remain *out of the bag*, are not used in model training, and form the **OOB set** (the *Out-of-bag set*). The OOB error is a *prediction error* which is computed from the OOB set, where the prediction is obtained by averaging the response (in regression) or as a majority vote (in classification) from all the trees in the forest that were not trained on that particular OOB instance.\n",
    " \n",
    " \n",
    " - **The Random Subspace Method (Feature Bagging).** The Random Subspace Method is a method to control for the complexity of the decision trees grown in a Random Forest model. **On each new split**, only a randomly chosen *subset of predictors* is used to find the optimal split. The Random Forests algorithm, as we will see, has a control parameter that determines how many features are randomly selected to produce a new split."
   ]
  },
  {
   "cell_type": "markdown",
   "id": "6afb6e90",
   "metadata": {},
   "source": [
    "![](rand_forest.jpg)"
   ]
  },
  {
   "cell_type": "markdown",
   "id": "9930ebd9",
   "metadata": {},
   "source": [
    "***"
   ]
  },
  {
   "cell_type": "code",
   "execution_count": 3,
   "id": "32fa1f50",
   "metadata": {},
   "outputs": [],
   "source": [
    "# encoding 'salary' categorical variable\n",
    "\n",
    "df['salary'] = pd.Categorical(df['salary'], categories=['low', 'medium', 'high'], ordered=True)\n",
    "df['salary'] = df['salary'].cat.codes"
   ]
  },
  {
   "cell_type": "code",
   "execution_count": 4,
   "id": "452e8455",
   "metadata": {},
   "outputs": [],
   "source": [
    "# encoding 'sales' categorical variable\n",
    "\n",
    "df['sales'] = pd.Categorical(df['sales'])\n",
    "df['sales'] = df['sales'].cat.codes"
   ]
  },
  {
   "cell_type": "code",
   "execution_count": 5,
   "id": "4326232e",
   "metadata": {},
   "outputs": [],
   "source": [
    "# feature matrix\n",
    "X = df.drop(columns = 'left')\n",
    "\n",
    "# target vector\n",
    "y = df['left']"
   ]
  },
  {
   "cell_type": "markdown",
   "id": "2b05278b",
   "metadata": {},
   "source": [
    "We now perform 5-fold cross validation for a set of Random Forests across the following control parameters:\n",
    "\n",
    "- `n_estimators`: the number of trees to grow\n",
    "- `max_features`: the number of variables to randomly sample as candidates at each split (to control Feature Bagging).\n",
    "\n",
    "\n",
    "We will take the model with the highest ROC-AUC score, and then do a final (re)fit on that model."
   ]
  },
  {
   "cell_type": "code",
   "execution_count": 6,
   "id": "cbd12a55",
   "metadata": {},
   "outputs": [],
   "source": [
    "from sklearn.ensemble import RandomForestClassifier\n",
    "from sklearn.model_selection import GridSearchCV\n",
    "\n",
    "# defining grid of parameters\n",
    "param_grid = {\n",
    "    'n_estimators':np.arange(250, 1250, 250),\n",
    "    'max_features':np.arange(3, df.shape[1])\n",
    "}\n",
    "\n",
    "rf = RandomForestClassifier(random_state=1023)\n",
    "\n",
    "grid_search = GridSearchCV(estimator=rf, param_grid=param_grid, cv=5, n_jobs=-1,\n",
    "                          scoring=['accuracy', 'recall', 'f1', 'roc_auc'],\n",
    "                          refit='roc_auc')"
   ]
  },
  {
   "cell_type": "code",
   "execution_count": 7,
   "id": "e989c105",
   "metadata": {},
   "outputs": [
    {
     "data": {
      "text/html": [
       "<style>#sk-container-id-1 {color: black;background-color: white;}#sk-container-id-1 pre{padding: 0;}#sk-container-id-1 div.sk-toggleable {background-color: white;}#sk-container-id-1 label.sk-toggleable__label {cursor: pointer;display: block;width: 100%;margin-bottom: 0;padding: 0.3em;box-sizing: border-box;text-align: center;}#sk-container-id-1 label.sk-toggleable__label-arrow:before {content: \"▸\";float: left;margin-right: 0.25em;color: #696969;}#sk-container-id-1 label.sk-toggleable__label-arrow:hover:before {color: black;}#sk-container-id-1 div.sk-estimator:hover label.sk-toggleable__label-arrow:before {color: black;}#sk-container-id-1 div.sk-toggleable__content {max-height: 0;max-width: 0;overflow: hidden;text-align: left;background-color: #f0f8ff;}#sk-container-id-1 div.sk-toggleable__content pre {margin: 0.2em;color: black;border-radius: 0.25em;background-color: #f0f8ff;}#sk-container-id-1 input.sk-toggleable__control:checked~div.sk-toggleable__content {max-height: 200px;max-width: 100%;overflow: auto;}#sk-container-id-1 input.sk-toggleable__control:checked~label.sk-toggleable__label-arrow:before {content: \"▾\";}#sk-container-id-1 div.sk-estimator input.sk-toggleable__control:checked~label.sk-toggleable__label {background-color: #d4ebff;}#sk-container-id-1 div.sk-label input.sk-toggleable__control:checked~label.sk-toggleable__label {background-color: #d4ebff;}#sk-container-id-1 input.sk-hidden--visually {border: 0;clip: rect(1px 1px 1px 1px);clip: rect(1px, 1px, 1px, 1px);height: 1px;margin: -1px;overflow: hidden;padding: 0;position: absolute;width: 1px;}#sk-container-id-1 div.sk-estimator {font-family: monospace;background-color: #f0f8ff;border: 1px dotted black;border-radius: 0.25em;box-sizing: border-box;margin-bottom: 0.5em;}#sk-container-id-1 div.sk-estimator:hover {background-color: #d4ebff;}#sk-container-id-1 div.sk-parallel-item::after {content: \"\";width: 100%;border-bottom: 1px solid gray;flex-grow: 1;}#sk-container-id-1 div.sk-label:hover label.sk-toggleable__label {background-color: #d4ebff;}#sk-container-id-1 div.sk-serial::before {content: \"\";position: absolute;border-left: 1px solid gray;box-sizing: border-box;top: 0;bottom: 0;left: 50%;z-index: 0;}#sk-container-id-1 div.sk-serial {display: flex;flex-direction: column;align-items: center;background-color: white;padding-right: 0.2em;padding-left: 0.2em;position: relative;}#sk-container-id-1 div.sk-item {position: relative;z-index: 1;}#sk-container-id-1 div.sk-parallel {display: flex;align-items: stretch;justify-content: center;background-color: white;position: relative;}#sk-container-id-1 div.sk-item::before, #sk-container-id-1 div.sk-parallel-item::before {content: \"\";position: absolute;border-left: 1px solid gray;box-sizing: border-box;top: 0;bottom: 0;left: 50%;z-index: -1;}#sk-container-id-1 div.sk-parallel-item {display: flex;flex-direction: column;z-index: 1;position: relative;background-color: white;}#sk-container-id-1 div.sk-parallel-item:first-child::after {align-self: flex-end;width: 50%;}#sk-container-id-1 div.sk-parallel-item:last-child::after {align-self: flex-start;width: 50%;}#sk-container-id-1 div.sk-parallel-item:only-child::after {width: 0;}#sk-container-id-1 div.sk-dashed-wrapped {border: 1px dashed gray;margin: 0 0.4em 0.5em 0.4em;box-sizing: border-box;padding-bottom: 0.4em;background-color: white;}#sk-container-id-1 div.sk-label label {font-family: monospace;font-weight: bold;display: inline-block;line-height: 1.2em;}#sk-container-id-1 div.sk-label-container {text-align: center;}#sk-container-id-1 div.sk-container {/* jupyter's `normalize.less` sets `[hidden] { display: none; }` but bootstrap.min.css set `[hidden] { display: none !important; }` so we also need the `!important` here to be able to override the default hidden behavior on the sphinx rendered scikit-learn.org. See: https://github.com/scikit-learn/scikit-learn/issues/21755 */display: inline-block !important;position: relative;}#sk-container-id-1 div.sk-text-repr-fallback {display: none;}</style><div id=\"sk-container-id-1\" class=\"sk-top-container\"><div class=\"sk-text-repr-fallback\"><pre>GridSearchCV(cv=5, estimator=RandomForestClassifier(random_state=1023),\n",
       "             n_jobs=-1,\n",
       "             param_grid={&#x27;max_features&#x27;: array([3, 4, 5, 6, 7, 8, 9]),\n",
       "                         &#x27;n_estimators&#x27;: array([ 250,  500,  750, 1000])},\n",
       "             refit=&#x27;roc_auc&#x27;, scoring=[&#x27;accuracy&#x27;, &#x27;recall&#x27;, &#x27;f1&#x27;, &#x27;roc_auc&#x27;])</pre><b>In a Jupyter environment, please rerun this cell to show the HTML representation or trust the notebook. <br />On GitHub, the HTML representation is unable to render, please try loading this page with nbviewer.org.</b></div><div class=\"sk-container\" hidden><div class=\"sk-item sk-dashed-wrapped\"><div class=\"sk-label-container\"><div class=\"sk-label sk-toggleable\"><input class=\"sk-toggleable__control sk-hidden--visually\" id=\"sk-estimator-id-1\" type=\"checkbox\" ><label for=\"sk-estimator-id-1\" class=\"sk-toggleable__label sk-toggleable__label-arrow\">GridSearchCV</label><div class=\"sk-toggleable__content\"><pre>GridSearchCV(cv=5, estimator=RandomForestClassifier(random_state=1023),\n",
       "             n_jobs=-1,\n",
       "             param_grid={&#x27;max_features&#x27;: array([3, 4, 5, 6, 7, 8, 9]),\n",
       "                         &#x27;n_estimators&#x27;: array([ 250,  500,  750, 1000])},\n",
       "             refit=&#x27;roc_auc&#x27;, scoring=[&#x27;accuracy&#x27;, &#x27;recall&#x27;, &#x27;f1&#x27;, &#x27;roc_auc&#x27;])</pre></div></div></div><div class=\"sk-parallel\"><div class=\"sk-parallel-item\"><div class=\"sk-item\"><div class=\"sk-label-container\"><div class=\"sk-label sk-toggleable\"><input class=\"sk-toggleable__control sk-hidden--visually\" id=\"sk-estimator-id-2\" type=\"checkbox\" ><label for=\"sk-estimator-id-2\" class=\"sk-toggleable__label sk-toggleable__label-arrow\">estimator: RandomForestClassifier</label><div class=\"sk-toggleable__content\"><pre>RandomForestClassifier(random_state=1023)</pre></div></div></div><div class=\"sk-serial\"><div class=\"sk-item\"><div class=\"sk-estimator sk-toggleable\"><input class=\"sk-toggleable__control sk-hidden--visually\" id=\"sk-estimator-id-3\" type=\"checkbox\" ><label for=\"sk-estimator-id-3\" class=\"sk-toggleable__label sk-toggleable__label-arrow\">RandomForestClassifier</label><div class=\"sk-toggleable__content\"><pre>RandomForestClassifier(random_state=1023)</pre></div></div></div></div></div></div></div></div></div></div>"
      ],
      "text/plain": [
       "GridSearchCV(cv=5, estimator=RandomForestClassifier(random_state=1023),\n",
       "             n_jobs=-1,\n",
       "             param_grid={'max_features': array([3, 4, 5, 6, 7, 8, 9]),\n",
       "                         'n_estimators': array([ 250,  500,  750, 1000])},\n",
       "             refit='roc_auc', scoring=['accuracy', 'recall', 'f1', 'roc_auc'])"
      ]
     },
     "execution_count": 7,
     "metadata": {},
     "output_type": "execute_result"
    }
   ],
   "source": [
    "# iterating through the grid of parameters by using 5-fold CV\n",
    "grid_search.fit(X, y)"
   ]
  },
  {
   "cell_type": "code",
   "execution_count": 9,
   "id": "096b851f",
   "metadata": {},
   "outputs": [
    {
     "data": {
      "text/plain": [
       "0.9940062397252655"
      ]
     },
     "execution_count": 9,
     "metadata": {},
     "output_type": "execute_result"
    }
   ],
   "source": [
    "# the highest ROC-AUC score\n",
    "grid_search.best_score_"
   ]
  },
  {
   "cell_type": "code",
   "execution_count": 10,
   "id": "ca6750da",
   "metadata": {},
   "outputs": [
    {
     "data": {
      "text/plain": [
       "{'max_features': 4, 'n_estimators': 1000}"
      ]
     },
     "execution_count": 10,
     "metadata": {},
     "output_type": "execute_result"
    }
   ],
   "source": [
    "# optimal parameters\n",
    "grid_search.best_params_"
   ]
  },
  {
   "cell_type": "code",
   "execution_count": 11,
   "id": "b0cad991",
   "metadata": {},
   "outputs": [
    {
     "data": {
      "text/plain": [
       "{'mean_fit_time': array([ 3.50263448,  7.33124013, 11.17665834, 15.39973259,  4.24626284,\n",
       "         8.85991054, 13.43102689, 18.28441887,  5.08824983, 10.40177264,\n",
       "        15.54358172, 21.80931768,  6.89690156, 12.03841815, 18.37791533,\n",
       "        24.61839614,  6.87830353, 13.72554445, 20.55893564, 27.58181424,\n",
       "         7.76964364, 15.42040401, 26.49029632, 36.03563032,  9.94107699,\n",
       "        17.88557005, 28.27261162, 38.12976317]),\n",
       " 'std_fit_time': array([0.0661168 , 0.1927338 , 0.53481377, 0.5826409 , 0.13786487,\n",
       "        0.17161791, 0.80735572, 0.46403022, 0.1114165 , 0.21031193,\n",
       "        0.40969776, 1.39961345, 0.66005728, 0.39245593, 0.46621784,\n",
       "        0.59393496, 0.31729709, 0.31065413, 0.59032384, 0.75400619,\n",
       "        0.32912157, 0.47342223, 1.76258002, 0.84673559, 0.59240101,\n",
       "        0.48152405, 3.24993616, 4.9019738 ]),\n",
       " 'mean_score_time': array([0.35108552, 0.78121114, 1.18978105, 1.35044875, 0.35182581,\n",
       "        0.67451491, 1.0575417 , 1.38768129, 0.36432958, 0.66199751,\n",
       "        1.05181313, 1.40166483, 0.33868923, 0.70399361, 1.08646941,\n",
       "        1.38046961, 0.33211222, 0.68698311, 0.99010448, 1.3078001 ,\n",
       "        0.33689895, 0.72637982, 1.20856643, 1.47482896, 0.38743258,\n",
       "        0.65171528, 1.24779344, 1.28713837]),\n",
       " 'std_score_time': array([0.00931852, 0.08488045, 0.25274827, 0.04563274, 0.02422633,\n",
       "        0.01609891, 0.02492457, 0.14981523, 0.04584335, 0.02003184,\n",
       "        0.12298671, 0.11848519, 0.01531961, 0.09109485, 0.13191876,\n",
       "        0.06362375, 0.00756892, 0.07216135, 0.02141768, 0.01250867,\n",
       "        0.01050529, 0.09355926, 0.09019123, 0.07337654, 0.03412448,\n",
       "        0.00970738, 0.05574869, 0.33207526]),\n",
       " 'param_max_features': masked_array(data=[3, 3, 3, 3, 4, 4, 4, 4, 5, 5, 5, 5, 6, 6, 6, 6, 7, 7,\n",
       "                    7, 7, 8, 8, 8, 8, 9, 9, 9, 9],\n",
       "              mask=[False, False, False, False, False, False, False, False,\n",
       "                    False, False, False, False, False, False, False, False,\n",
       "                    False, False, False, False, False, False, False, False,\n",
       "                    False, False, False, False],\n",
       "        fill_value='?',\n",
       "             dtype=object),\n",
       " 'param_n_estimators': masked_array(data=[250, 500, 750, 1000, 250, 500, 750, 1000, 250, 500,\n",
       "                    750, 1000, 250, 500, 750, 1000, 250, 500, 750, 1000,\n",
       "                    250, 500, 750, 1000, 250, 500, 750, 1000],\n",
       "              mask=[False, False, False, False, False, False, False, False,\n",
       "                    False, False, False, False, False, False, False, False,\n",
       "                    False, False, False, False, False, False, False, False,\n",
       "                    False, False, False, False],\n",
       "        fill_value='?',\n",
       "             dtype=object),\n",
       " 'params': [{'max_features': 3, 'n_estimators': 250},\n",
       "  {'max_features': 3, 'n_estimators': 500},\n",
       "  {'max_features': 3, 'n_estimators': 750},\n",
       "  {'max_features': 3, 'n_estimators': 1000},\n",
       "  {'max_features': 4, 'n_estimators': 250},\n",
       "  {'max_features': 4, 'n_estimators': 500},\n",
       "  {'max_features': 4, 'n_estimators': 750},\n",
       "  {'max_features': 4, 'n_estimators': 1000},\n",
       "  {'max_features': 5, 'n_estimators': 250},\n",
       "  {'max_features': 5, 'n_estimators': 500},\n",
       "  {'max_features': 5, 'n_estimators': 750},\n",
       "  {'max_features': 5, 'n_estimators': 1000},\n",
       "  {'max_features': 6, 'n_estimators': 250},\n",
       "  {'max_features': 6, 'n_estimators': 500},\n",
       "  {'max_features': 6, 'n_estimators': 750},\n",
       "  {'max_features': 6, 'n_estimators': 1000},\n",
       "  {'max_features': 7, 'n_estimators': 250},\n",
       "  {'max_features': 7, 'n_estimators': 500},\n",
       "  {'max_features': 7, 'n_estimators': 750},\n",
       "  {'max_features': 7, 'n_estimators': 1000},\n",
       "  {'max_features': 8, 'n_estimators': 250},\n",
       "  {'max_features': 8, 'n_estimators': 500},\n",
       "  {'max_features': 8, 'n_estimators': 750},\n",
       "  {'max_features': 8, 'n_estimators': 1000},\n",
       "  {'max_features': 9, 'n_estimators': 250},\n",
       "  {'max_features': 9, 'n_estimators': 500},\n",
       "  {'max_features': 9, 'n_estimators': 750},\n",
       "  {'max_features': 9, 'n_estimators': 1000}],\n",
       " 'split0_test_accuracy': array([0.99866667, 0.99866667, 0.99866667, 0.999     , 0.99833333,\n",
       "        0.99833333, 0.99833333, 0.99866667, 0.99833333, 0.99833333,\n",
       "        0.99833333, 0.99833333, 0.99833333, 0.99833333, 0.99833333,\n",
       "        0.99833333, 0.99833333, 0.998     , 0.998     , 0.99833333,\n",
       "        0.998     , 0.998     , 0.99766667, 0.998     , 0.99733333,\n",
       "        0.99666667, 0.997     , 0.99733333]),\n",
       " 'split1_test_accuracy': array([0.981     , 0.98133333, 0.981     , 0.981     , 0.98166667,\n",
       "        0.98133333, 0.98166667, 0.98166667, 0.98166667, 0.98166667,\n",
       "        0.98166667, 0.98133333, 0.98066667, 0.98066667, 0.98066667,\n",
       "        0.98066667, 0.97966667, 0.98      , 0.98      , 0.98      ,\n",
       "        0.97766667, 0.978     , 0.978     , 0.97833333, 0.978     ,\n",
       "        0.97833333, 0.97866667, 0.97833333]),\n",
       " 'split2_test_accuracy': array([0.98533333, 0.98566667, 0.98566667, 0.986     , 0.98666667,\n",
       "        0.98633333, 0.98666667, 0.98666667, 0.986     , 0.98566667,\n",
       "        0.98566667, 0.986     , 0.98533333, 0.985     , 0.985     ,\n",
       "        0.98533333, 0.98466667, 0.98433333, 0.98433333, 0.98433333,\n",
       "        0.983     , 0.98366667, 0.98333333, 0.984     , 0.982     ,\n",
       "        0.982     , 0.98233333, 0.982     ]),\n",
       " 'split3_test_accuracy': array([0.999     , 0.99933333, 0.99933333, 0.99933333, 0.999     ,\n",
       "        0.99866667, 0.99866667, 0.99866667, 0.99833333, 0.99866667,\n",
       "        0.99866667, 0.99866667, 0.99833333, 0.99833333, 0.99833333,\n",
       "        0.99833333, 0.998     , 0.99833333, 0.998     , 0.99833333,\n",
       "        0.99833333, 0.99833333, 0.99833333, 0.99833333, 0.99833333,\n",
       "        0.99833333, 0.99833333, 0.99833333]),\n",
       " 'split4_test_accuracy': array([0.99466489, 0.99466489, 0.99466489, 0.99466489, 0.99466489,\n",
       "        0.99466489, 0.99466489, 0.99466489, 0.993998  , 0.993998  ,\n",
       "        0.993998  , 0.993998  , 0.993998  , 0.993998  , 0.993998  ,\n",
       "        0.993998  , 0.993998  , 0.993998  , 0.993998  , 0.993998  ,\n",
       "        0.99333111, 0.99333111, 0.993998  , 0.99333111, 0.99333111,\n",
       "        0.99333111, 0.99333111, 0.99333111]),\n",
       " 'mean_test_accuracy': array([0.99173298, 0.99193298, 0.99186631, 0.99199964, 0.99206631,\n",
       "        0.99186631, 0.99199964, 0.99206631, 0.99166627, 0.99166627,\n",
       "        0.99166627, 0.99166627, 0.99133293, 0.99126627, 0.99126627,\n",
       "        0.99133293, 0.99093293, 0.99093293, 0.99086627, 0.9909996 ,\n",
       "        0.99006622, 0.99026622, 0.99026627, 0.99039956, 0.98979956,\n",
       "        0.98973289, 0.98993289, 0.98986622]),\n",
       " 'std_test_accuracy': array([0.00728881, 0.00719987, 0.00729857, 0.00730588, 0.00680313,\n",
       "        0.0068914 , 0.00673616, 0.00679986, 0.00672956, 0.0068539 ,\n",
       "        0.0068539 , 0.00689592, 0.00713972, 0.00719676, 0.00719676,\n",
       "        0.00713972, 0.00748731, 0.00744564, 0.00738028, 0.00750983,\n",
       "        0.0083142 , 0.00810305, 0.00815225, 0.007948  , 0.00827185,\n",
       "        0.00805903, 0.00795915, 0.00817729]),\n",
       " 'rank_test_accuracy': array([ 8,  5,  6,  3,  1,  6,  3,  1,  9,  9,  9,  9, 13, 15, 15, 13, 18,\n",
       "        18, 20, 17, 24, 23, 22, 21, 27, 28, 25, 26]),\n",
       " 'split0_test_recall': array([1., 1., 1., 1., 1., 1., 1., 1., 1., 1., 1., 1., 1., 1., 1., 1., 1.,\n",
       "        1., 1., 1., 1., 1., 1., 1., 1., 1., 1., 1.]),\n",
       " 'split1_test_recall': array([0.92997199, 0.93137255, 0.92997199, 0.92997199, 0.93417367,\n",
       "        0.93277311, 0.93277311, 0.93277311, 0.93277311, 0.93277311,\n",
       "        0.93277311, 0.93277311, 0.93277311, 0.93277311, 0.93277311,\n",
       "        0.93277311, 0.92997199, 0.93137255, 0.93137255, 0.93137255,\n",
       "        0.92436975, 0.92577031, 0.92577031, 0.92717087, 0.92717087,\n",
       "        0.92717087, 0.92717087, 0.92717087]),\n",
       " 'split2_test_recall': array([0.94537815, 0.94537815, 0.94537815, 0.94677871, 0.94957983,\n",
       "        0.94817927, 0.94957983, 0.94957983, 0.94817927, 0.94817927,\n",
       "        0.94817927, 0.94957983, 0.94537815, 0.94537815, 0.94537815,\n",
       "        0.94677871, 0.94677871, 0.94537815, 0.94537815, 0.94537815,\n",
       "        0.94537815, 0.94537815, 0.94537815, 0.94537815, 0.94677871,\n",
       "        0.94677871, 0.94677871, 0.94537815]),\n",
       " 'split3_test_recall': array([1., 1., 1., 1., 1., 1., 1., 1., 1., 1., 1., 1., 1., 1., 1., 1., 1.,\n",
       "        1., 1., 1., 1., 1., 1., 1., 1., 1., 1., 1.]),\n",
       " 'split4_test_recall': array([1., 1., 1., 1., 1., 1., 1., 1., 1., 1., 1., 1., 1., 1., 1., 1., 1.,\n",
       "        1., 1., 1., 1., 1., 1., 1., 1., 1., 1., 1.]),\n",
       " 'mean_test_recall': array([0.97507003, 0.97535014, 0.97507003, 0.97535014, 0.9767507 ,\n",
       "        0.97619048, 0.97647059, 0.97647059, 0.97619048, 0.97619048,\n",
       "        0.97619048, 0.97647059, 0.97563025, 0.97563025, 0.97563025,\n",
       "        0.97591036, 0.97535014, 0.97535014, 0.97535014, 0.97535014,\n",
       "        0.97394958, 0.97422969, 0.97422969, 0.9745098 , 0.97478992,\n",
       "        0.97478992, 0.97478992, 0.9745098 ]),\n",
       " 'std_test_recall': array([0.03091909, 0.03051293, 0.03091909, 0.03065404, 0.02888823,\n",
       "        0.02956476, 0.02930352, 0.02930352, 0.02956476, 0.02956476,\n",
       "        0.02956476, 0.02930352, 0.03011172, 0.03011172, 0.03011172,\n",
       "        0.02983423, 0.03065404, 0.03051293, 0.03051293, 0.03051293,\n",
       "        0.03258944, 0.03216535, 0.03216535, 0.03174548, 0.03149237,\n",
       "        0.03149237, 0.03149237, 0.03174548]),\n",
       " 'rank_test_recall': array([19, 13, 19, 13,  1,  5,  2,  2,  5,  5,  5,  2, 10, 10, 10,  9, 13,\n",
       "        13, 13, 13, 28, 26, 26, 24, 21, 21, 21, 24]),\n",
       " 'split0_test_f1': array([0.9972106 , 0.9972106 , 0.9972106 , 0.99790649, 0.99651568,\n",
       "        0.99651568, 0.99651568, 0.9972106 , 0.99651568, 0.99651568,\n",
       "        0.99651568, 0.99651568, 0.99651568, 0.99651568, 0.99651568,\n",
       "        0.99651568, 0.99651568, 0.99582173, 0.99582173, 0.99651568,\n",
       "        0.99582173, 0.99582173, 0.99512874, 0.99582173, 0.99443672,\n",
       "        0.99305556, 0.99374566, 0.99443672]),\n",
       " 'split1_test_f1': array([0.95884477, 0.95959596, 0.95884477, 0.95884477, 0.96040317,\n",
       "        0.95965418, 0.96034607, 0.96034607, 0.96034607, 0.96034607,\n",
       "        0.96034607, 0.95965418, 0.95827338, 0.95827338, 0.95827338,\n",
       "        0.95827338, 0.95608351, 0.95683453, 0.95683453, 0.95683453,\n",
       "        0.9516943 , 0.95244957, 0.95244957, 0.95320374, 0.95251799,\n",
       "        0.95320374, 0.95389049, 0.95320374]),\n",
       " 'split2_test_f1': array([0.96843615, 0.96913137, 0.96913137, 0.96987088, 0.9713467 ,\n",
       "        0.97060932, 0.9713467 , 0.9713467 , 0.96991404, 0.96921976,\n",
       "        0.96921976, 0.96995708, 0.96843615, 0.96774194, 0.96774194,\n",
       "        0.96848138, 0.96709585, 0.96635648, 0.96635648, 0.96635648,\n",
       "        0.96359743, 0.96497498, 0.96428571, 0.96566524, 0.96159317,\n",
       "        0.96159317, 0.96227758, 0.96153846]),\n",
       " 'split3_test_f1': array([0.99790356, 0.9986014 , 0.9986014 , 0.9986014 , 0.99790356,\n",
       "        0.9972067 , 0.9972067 , 0.9972067 , 0.99651082, 0.9972067 ,\n",
       "        0.9972067 , 0.9972067 , 0.99651082, 0.99651082, 0.99651082,\n",
       "        0.99651082, 0.9958159 , 0.99651082, 0.9958159 , 0.99651082,\n",
       "        0.99651082, 0.99651082, 0.99651082, 0.99651082, 0.99651082,\n",
       "        0.99651082, 0.99651082, 0.99651082]),\n",
       " 'split4_test_f1': array([0.98891967, 0.98891967, 0.98891967, 0.98891967, 0.98891967,\n",
       "        0.98891967, 0.98891967, 0.98891967, 0.98755187, 0.98755187,\n",
       "        0.98755187, 0.98755187, 0.98755187, 0.98755187, 0.98755187,\n",
       "        0.98755187, 0.98755187, 0.98755187, 0.98755187, 0.98755187,\n",
       "        0.98618785, 0.98618785, 0.98755187, 0.98618785, 0.98618785,\n",
       "        0.98618785, 0.98618785, 0.98618785]),\n",
       " 'mean_test_f1': array([0.98226295, 0.9826918 , 0.98254156, 0.98282864, 0.98301776,\n",
       "        0.98258111, 0.98286697, 0.98300595, 0.98216769, 0.98216802,\n",
       "        0.98216802, 0.9821771 , 0.98145758, 0.98131874, 0.98131874,\n",
       "        0.98146662, 0.98061256, 0.98061508, 0.9804761 , 0.98075387,\n",
       "        0.97876242, 0.97918899, 0.97918534, 0.97947787, 0.97824931,\n",
       "        0.97811023, 0.97852248, 0.97837552]),\n",
       " 'std_test_f1': array([0.01582381, 0.0156205 , 0.01584393, 0.01585151, 0.01473938,\n",
       "        0.01494808, 0.01461819, 0.01475001, 0.01460763, 0.01486511,\n",
       "        0.01486511, 0.01494646, 0.01547612, 0.01559497, 0.01559497,\n",
       "        0.01546852, 0.01622702, 0.01612983, 0.0159947 , 0.01626252,\n",
       "        0.01802122, 0.01756538, 0.01767011, 0.01722432, 0.01787771,\n",
       "        0.01743754, 0.01723203, 0.01769174]),\n",
       " 'rank_test_f1': array([ 8,  5,  7,  4,  1,  6,  3,  2, 12, 10, 10,  9, 14, 15, 15, 13, 19,\n",
       "        18, 20, 17, 24, 22, 23, 21, 27, 28, 25, 26]),\n",
       " 'split0_test_roc_auc': array([0.999914  , 0.99990819, 0.99990941, 0.99990421, 0.9998935 ,\n",
       "        0.99989136, 0.99989411, 0.99988279, 0.99987024, 0.99988034,\n",
       "        0.99987758, 0.99987973, 0.99947331, 0.99966366, 0.99965999,\n",
       "        0.99983045, 0.99948494, 0.99947239, 0.99946565, 0.99983443,\n",
       "        0.99987055, 0.99986106, 0.99986259, 0.99985922, 0.99967499,\n",
       "        0.99967468, 0.99966978, 0.99967101]),\n",
       " 'split1_test_roc_auc': array([0.98421797, 0.98341506, 0.98311332, 0.98326373, 0.98414628,\n",
       "        0.98471852, 0.98446487, 0.98444404, 0.98345795, 0.98377929,\n",
       "        0.98342058, 0.98376153, 0.98265689, 0.98329253, 0.98401303,\n",
       "        0.98416803, 0.9820724 , 0.98176821, 0.98195262, 0.98194619,\n",
       "        0.98082194, 0.98182366, 0.98147566, 0.98127379, 0.97967288,\n",
       "        0.98014372, 0.98028953, 0.98084277]),\n",
       " 'split2_test_roc_auc': array([0.98630686, 0.98633841, 0.9867682 , 0.98675809, 0.98581672,\n",
       "        0.98495255, 0.98630717, 0.98661963, 0.98546903, 0.98573738,\n",
       "        0.98632953, 0.98684202, 0.98426116, 0.98498962, 0.98536825,\n",
       "        0.98565498, 0.9827687 , 0.98347909, 0.98425932, 0.98427709,\n",
       "        0.98176331, 0.98257173, 0.98391592, 0.98412821, 0.97922992,\n",
       "        0.97916896, 0.98034988, 0.98106242]),\n",
       " 'split3_test_roc_auc': array([0.99944982, 0.99942532, 0.999618  , 0.99960483, 0.99947678,\n",
       "        0.9996471 , 0.99963393, 0.99961923, 0.9994823 , 0.99946269,\n",
       "        0.99945411, 0.99944982, 0.99947402, 0.99946269, 0.99963699,\n",
       "        0.99962566, 0.99947372, 0.99946637, 0.99945963, 0.9994535 ,\n",
       "        0.99948352, 0.99947678, 0.99947127, 0.99964557, 0.999463  ,\n",
       "        0.99945289, 0.99945105, 0.99944799]),\n",
       " 'split4_test_roc_auc': array([0.99959669, 0.99956236, 0.99956298, 0.9995544 , 0.99954581,\n",
       "        0.99950291, 0.99947962, 0.99946552, 0.99944468, 0.99941281,\n",
       "        0.99936868, 0.9993981 , 0.99894452, 0.9993368 , 0.99929819,\n",
       "        0.99929083, 0.99892797, 0.99926264, 0.99924977, 0.99923689,\n",
       "        0.99843395, 0.99838185, 0.9990763 , 0.99914128, 0.99844192,\n",
       "        0.99838675, 0.99872816, 0.99870977]),\n",
       " 'mean_test_roc_auc': array([0.99389707, 0.99372987, 0.99379438, 0.99381705, 0.99377582,\n",
       "        0.99374249, 0.99395594, 0.99400624, 0.99354484, 0.9936545 ,\n",
       "        0.9936901 , 0.99386624, 0.99296198, 0.99334906, 0.99359529,\n",
       "        0.99371399, 0.99254555, 0.99268974, 0.9928774 , 0.99294962,\n",
       "        0.99207465, 0.99242301, 0.99276035, 0.99280961, 0.99129654,\n",
       "        0.9913654 , 0.99169768, 0.99194679]),\n",
       " 'std_test_roc_auc': array([0.00708263, 0.00728912, 0.00732171, 0.00727558, 0.00720132,\n",
       "        0.00727393, 0.00702277, 0.00695472, 0.0074436 , 0.00729184,\n",
       "        0.00725805, 0.00706236, 0.0077781 , 0.00753814, 0.00728436,\n",
       "        0.00720462, 0.00827241, 0.00823706, 0.00801199, 0.00806869,\n",
       "        0.00882106, 0.00836639, 0.00825757, 0.00830613, 0.00968151,\n",
       "        0.00957528, 0.00929532, 0.00898263]),\n",
       " 'rank_test_roc_auc': array([ 3,  9,  6,  5,  7,  8,  2,  1, 14, 12, 11,  4, 16, 15, 13, 10, 22,\n",
       "        21, 18, 17, 24, 23, 20, 19, 28, 27, 26, 25])}"
      ]
     },
     "execution_count": 11,
     "metadata": {},
     "output_type": "execute_result"
    }
   ],
   "source": [
    "# results from each parameter choice and every fold from parameter grid\n",
    "grid_search.cv_results_"
   ]
  },
  {
   "cell_type": "markdown",
   "id": "12117bbb",
   "metadata": {},
   "source": [
    "Let's get a better view of the cross-validation results:"
   ]
  },
  {
   "cell_type": "code",
   "execution_count": 12,
   "id": "469097a6",
   "metadata": {
    "scrolled": true
   },
   "outputs": [
    {
     "data": {
      "text/html": [
       "<div>\n",
       "<style scoped>\n",
       "    .dataframe tbody tr th:only-of-type {\n",
       "        vertical-align: middle;\n",
       "    }\n",
       "\n",
       "    .dataframe tbody tr th {\n",
       "        vertical-align: top;\n",
       "    }\n",
       "\n",
       "    .dataframe thead th {\n",
       "        text-align: right;\n",
       "    }\n",
       "</style>\n",
       "<table border=\"1\" class=\"dataframe\">\n",
       "  <thead>\n",
       "    <tr style=\"text-align: right;\">\n",
       "      <th></th>\n",
       "      <th>roc-auc</th>\n",
       "      <th>accuracy</th>\n",
       "      <th>recall</th>\n",
       "      <th>f1</th>\n",
       "      <th>max_features</th>\n",
       "      <th>n_trees</th>\n",
       "    </tr>\n",
       "  </thead>\n",
       "  <tbody>\n",
       "    <tr>\n",
       "      <th>0</th>\n",
       "      <td>0.993897</td>\n",
       "      <td>0.991733</td>\n",
       "      <td>0.975070</td>\n",
       "      <td>0.982263</td>\n",
       "      <td>3</td>\n",
       "      <td>250</td>\n",
       "    </tr>\n",
       "    <tr>\n",
       "      <th>1</th>\n",
       "      <td>0.993730</td>\n",
       "      <td>0.991933</td>\n",
       "      <td>0.975350</td>\n",
       "      <td>0.982692</td>\n",
       "      <td>3</td>\n",
       "      <td>500</td>\n",
       "    </tr>\n",
       "    <tr>\n",
       "      <th>2</th>\n",
       "      <td>0.993794</td>\n",
       "      <td>0.991866</td>\n",
       "      <td>0.975070</td>\n",
       "      <td>0.982542</td>\n",
       "      <td>3</td>\n",
       "      <td>750</td>\n",
       "    </tr>\n",
       "    <tr>\n",
       "      <th>3</th>\n",
       "      <td>0.993817</td>\n",
       "      <td>0.992000</td>\n",
       "      <td>0.975350</td>\n",
       "      <td>0.982829</td>\n",
       "      <td>3</td>\n",
       "      <td>1000</td>\n",
       "    </tr>\n",
       "    <tr>\n",
       "      <th>4</th>\n",
       "      <td>0.993776</td>\n",
       "      <td>0.992066</td>\n",
       "      <td>0.976751</td>\n",
       "      <td>0.983018</td>\n",
       "      <td>4</td>\n",
       "      <td>250</td>\n",
       "    </tr>\n",
       "    <tr>\n",
       "      <th>5</th>\n",
       "      <td>0.993742</td>\n",
       "      <td>0.991866</td>\n",
       "      <td>0.976190</td>\n",
       "      <td>0.982581</td>\n",
       "      <td>4</td>\n",
       "      <td>500</td>\n",
       "    </tr>\n",
       "    <tr>\n",
       "      <th>6</th>\n",
       "      <td>0.993956</td>\n",
       "      <td>0.992000</td>\n",
       "      <td>0.976471</td>\n",
       "      <td>0.982867</td>\n",
       "      <td>4</td>\n",
       "      <td>750</td>\n",
       "    </tr>\n",
       "    <tr>\n",
       "      <th>7</th>\n",
       "      <td>0.994006</td>\n",
       "      <td>0.992066</td>\n",
       "      <td>0.976471</td>\n",
       "      <td>0.983006</td>\n",
       "      <td>4</td>\n",
       "      <td>1000</td>\n",
       "    </tr>\n",
       "    <tr>\n",
       "      <th>8</th>\n",
       "      <td>0.993545</td>\n",
       "      <td>0.991666</td>\n",
       "      <td>0.976190</td>\n",
       "      <td>0.982168</td>\n",
       "      <td>5</td>\n",
       "      <td>250</td>\n",
       "    </tr>\n",
       "    <tr>\n",
       "      <th>9</th>\n",
       "      <td>0.993655</td>\n",
       "      <td>0.991666</td>\n",
       "      <td>0.976190</td>\n",
       "      <td>0.982168</td>\n",
       "      <td>5</td>\n",
       "      <td>500</td>\n",
       "    </tr>\n",
       "    <tr>\n",
       "      <th>10</th>\n",
       "      <td>0.993690</td>\n",
       "      <td>0.991666</td>\n",
       "      <td>0.976190</td>\n",
       "      <td>0.982168</td>\n",
       "      <td>5</td>\n",
       "      <td>750</td>\n",
       "    </tr>\n",
       "    <tr>\n",
       "      <th>11</th>\n",
       "      <td>0.993866</td>\n",
       "      <td>0.991666</td>\n",
       "      <td>0.976471</td>\n",
       "      <td>0.982177</td>\n",
       "      <td>5</td>\n",
       "      <td>1000</td>\n",
       "    </tr>\n",
       "    <tr>\n",
       "      <th>12</th>\n",
       "      <td>0.992962</td>\n",
       "      <td>0.991333</td>\n",
       "      <td>0.975630</td>\n",
       "      <td>0.981458</td>\n",
       "      <td>6</td>\n",
       "      <td>250</td>\n",
       "    </tr>\n",
       "    <tr>\n",
       "      <th>13</th>\n",
       "      <td>0.993349</td>\n",
       "      <td>0.991266</td>\n",
       "      <td>0.975630</td>\n",
       "      <td>0.981319</td>\n",
       "      <td>6</td>\n",
       "      <td>500</td>\n",
       "    </tr>\n",
       "    <tr>\n",
       "      <th>14</th>\n",
       "      <td>0.993595</td>\n",
       "      <td>0.991266</td>\n",
       "      <td>0.975630</td>\n",
       "      <td>0.981319</td>\n",
       "      <td>6</td>\n",
       "      <td>750</td>\n",
       "    </tr>\n",
       "    <tr>\n",
       "      <th>15</th>\n",
       "      <td>0.993714</td>\n",
       "      <td>0.991333</td>\n",
       "      <td>0.975910</td>\n",
       "      <td>0.981467</td>\n",
       "      <td>6</td>\n",
       "      <td>1000</td>\n",
       "    </tr>\n",
       "    <tr>\n",
       "      <th>16</th>\n",
       "      <td>0.992546</td>\n",
       "      <td>0.990933</td>\n",
       "      <td>0.975350</td>\n",
       "      <td>0.980613</td>\n",
       "      <td>7</td>\n",
       "      <td>250</td>\n",
       "    </tr>\n",
       "    <tr>\n",
       "      <th>17</th>\n",
       "      <td>0.992690</td>\n",
       "      <td>0.990933</td>\n",
       "      <td>0.975350</td>\n",
       "      <td>0.980615</td>\n",
       "      <td>7</td>\n",
       "      <td>500</td>\n",
       "    </tr>\n",
       "    <tr>\n",
       "      <th>18</th>\n",
       "      <td>0.992877</td>\n",
       "      <td>0.990866</td>\n",
       "      <td>0.975350</td>\n",
       "      <td>0.980476</td>\n",
       "      <td>7</td>\n",
       "      <td>750</td>\n",
       "    </tr>\n",
       "    <tr>\n",
       "      <th>19</th>\n",
       "      <td>0.992950</td>\n",
       "      <td>0.991000</td>\n",
       "      <td>0.975350</td>\n",
       "      <td>0.980754</td>\n",
       "      <td>7</td>\n",
       "      <td>1000</td>\n",
       "    </tr>\n",
       "    <tr>\n",
       "      <th>20</th>\n",
       "      <td>0.992075</td>\n",
       "      <td>0.990066</td>\n",
       "      <td>0.973950</td>\n",
       "      <td>0.978762</td>\n",
       "      <td>8</td>\n",
       "      <td>250</td>\n",
       "    </tr>\n",
       "    <tr>\n",
       "      <th>21</th>\n",
       "      <td>0.992423</td>\n",
       "      <td>0.990266</td>\n",
       "      <td>0.974230</td>\n",
       "      <td>0.979189</td>\n",
       "      <td>8</td>\n",
       "      <td>500</td>\n",
       "    </tr>\n",
       "    <tr>\n",
       "      <th>22</th>\n",
       "      <td>0.992760</td>\n",
       "      <td>0.990266</td>\n",
       "      <td>0.974230</td>\n",
       "      <td>0.979185</td>\n",
       "      <td>8</td>\n",
       "      <td>750</td>\n",
       "    </tr>\n",
       "    <tr>\n",
       "      <th>23</th>\n",
       "      <td>0.992810</td>\n",
       "      <td>0.990400</td>\n",
       "      <td>0.974510</td>\n",
       "      <td>0.979478</td>\n",
       "      <td>8</td>\n",
       "      <td>1000</td>\n",
       "    </tr>\n",
       "    <tr>\n",
       "      <th>24</th>\n",
       "      <td>0.991297</td>\n",
       "      <td>0.989800</td>\n",
       "      <td>0.974790</td>\n",
       "      <td>0.978249</td>\n",
       "      <td>9</td>\n",
       "      <td>250</td>\n",
       "    </tr>\n",
       "    <tr>\n",
       "      <th>25</th>\n",
       "      <td>0.991365</td>\n",
       "      <td>0.989733</td>\n",
       "      <td>0.974790</td>\n",
       "      <td>0.978110</td>\n",
       "      <td>9</td>\n",
       "      <td>500</td>\n",
       "    </tr>\n",
       "    <tr>\n",
       "      <th>26</th>\n",
       "      <td>0.991698</td>\n",
       "      <td>0.989933</td>\n",
       "      <td>0.974790</td>\n",
       "      <td>0.978522</td>\n",
       "      <td>9</td>\n",
       "      <td>750</td>\n",
       "    </tr>\n",
       "    <tr>\n",
       "      <th>27</th>\n",
       "      <td>0.991947</td>\n",
       "      <td>0.989866</td>\n",
       "      <td>0.974510</td>\n",
       "      <td>0.978376</td>\n",
       "      <td>9</td>\n",
       "      <td>1000</td>\n",
       "    </tr>\n",
       "  </tbody>\n",
       "</table>\n",
       "</div>"
      ],
      "text/plain": [
       "     roc-auc  accuracy    recall        f1 max_features n_trees\n",
       "0   0.993897  0.991733  0.975070  0.982263            3     250\n",
       "1   0.993730  0.991933  0.975350  0.982692            3     500\n",
       "2   0.993794  0.991866  0.975070  0.982542            3     750\n",
       "3   0.993817  0.992000  0.975350  0.982829            3    1000\n",
       "4   0.993776  0.992066  0.976751  0.983018            4     250\n",
       "5   0.993742  0.991866  0.976190  0.982581            4     500\n",
       "6   0.993956  0.992000  0.976471  0.982867            4     750\n",
       "7   0.994006  0.992066  0.976471  0.983006            4    1000\n",
       "8   0.993545  0.991666  0.976190  0.982168            5     250\n",
       "9   0.993655  0.991666  0.976190  0.982168            5     500\n",
       "10  0.993690  0.991666  0.976190  0.982168            5     750\n",
       "11  0.993866  0.991666  0.976471  0.982177            5    1000\n",
       "12  0.992962  0.991333  0.975630  0.981458            6     250\n",
       "13  0.993349  0.991266  0.975630  0.981319            6     500\n",
       "14  0.993595  0.991266  0.975630  0.981319            6     750\n",
       "15  0.993714  0.991333  0.975910  0.981467            6    1000\n",
       "16  0.992546  0.990933  0.975350  0.980613            7     250\n",
       "17  0.992690  0.990933  0.975350  0.980615            7     500\n",
       "18  0.992877  0.990866  0.975350  0.980476            7     750\n",
       "19  0.992950  0.991000  0.975350  0.980754            7    1000\n",
       "20  0.992075  0.990066  0.973950  0.978762            8     250\n",
       "21  0.992423  0.990266  0.974230  0.979189            8     500\n",
       "22  0.992760  0.990266  0.974230  0.979185            8     750\n",
       "23  0.992810  0.990400  0.974510  0.979478            8    1000\n",
       "24  0.991297  0.989800  0.974790  0.978249            9     250\n",
       "25  0.991365  0.989733  0.974790  0.978110            9     500\n",
       "26  0.991698  0.989933  0.974790  0.978522            9     750\n",
       "27  0.991947  0.989866  0.974510  0.978376            9    1000"
      ]
     },
     "execution_count": 12,
     "metadata": {},
     "output_type": "execute_result"
    }
   ],
   "source": [
    "results = pd.DataFrame(columns = ['roc-auc', 'accuracy', 'recall', 'f1', 'max_features', 'n_trees'])\n",
    "\n",
    "results['roc-auc'] = grid_search.cv_results_['mean_test_roc_auc']\n",
    "results['accuracy'] = grid_search.cv_results_['mean_test_accuracy']\n",
    "results['recall'] = grid_search.cv_results_['mean_test_recall']\n",
    "results['f1'] = grid_search.cv_results_['mean_test_f1']\n",
    "results['max_features'] = grid_search.cv_results_['param_max_features']\n",
    "results['n_trees'] = grid_search.cv_results_['param_n_estimators']\n",
    "\n",
    "results"
   ]
  },
  {
   "cell_type": "code",
   "execution_count": 13,
   "id": "4c434112",
   "metadata": {},
   "outputs": [
    {
     "data": {
      "image/png": "[encoded data removed]",
      "text/plain": [
       "<Figure size 576x288 with 1 Axes>"
      ]
     },
     "metadata": {
      "needs_background": "light"
     },
     "output_type": "display_data"
    }
   ],
   "source": [
    "fig, ax = plt.subplots(figsize=(8, 4))\n",
    "\n",
    "\n",
    "sns.lineplot(ax=ax, data=results, x='max_features', y='roc-auc', hue='n_trees', palette='Set2', marker='o')\n",
    "plt.grid(linewidth=.25)\n",
    "plt.title('Random Forests CV: ROC-AUC');"
   ]
  },
  {
   "cell_type": "code",
   "execution_count": 14,
   "id": "341ce6fe",
   "metadata": {},
   "outputs": [
    {
     "data": {
      "image/png": "[encoded data removed]",
      "text/plain": [
       "<Figure size 576x288 with 1 Axes>"
      ]
     },
     "metadata": {
      "needs_background": "light"
     },
     "output_type": "display_data"
    }
   ],
   "source": [
    "fig, ax = plt.subplots(figsize=(8, 4))\n",
    "\n",
    "\n",
    "sns.lineplot(ax=ax, data=results, x='max_features', y='accuracy', hue='n_trees', palette='Set2', marker='o')\n",
    "plt.grid(linewidth=.25)\n",
    "plt.title('Random Forests CV: Accuracy');"
   ]
  },
  {
   "cell_type": "code",
   "execution_count": 15,
   "id": "d9d04e5e",
   "metadata": {},
   "outputs": [
    {
     "data": {
      "image/png": "[encoded data removed]",
      "text/plain": [
       "<Figure size 576x288 with 1 Axes>"
      ]
     },
     "metadata": {
      "needs_background": "light"
     },
     "output_type": "display_data"
    }
   ],
   "source": [
    "fig, ax = plt.subplots(figsize=(8, 4))\n",
    "\n",
    "\n",
    "sns.lineplot(ax=ax, data=results, x='max_features', y='recall', hue='n_trees', palette='Set2', marker='o')\n",
    "plt.grid(linewidth=.25)\n",
    "plt.title('Random Forests CV: Recall');"
   ]
  },
  {
   "cell_type": "code",
   "execution_count": 16,
   "id": "58bb4b1b",
   "metadata": {},
   "outputs": [
    {
     "data": {
      "image/png": "[encoded data removed]",
      "text/plain": [
       "<Figure size 576x288 with 1 Axes>"
      ]
     },
     "metadata": {
      "needs_background": "light"
     },
     "output_type": "display_data"
    }
   ],
   "source": [
    "fig, ax = plt.subplots(figsize=(8, 4))\n",
    "\n",
    "\n",
    "sns.lineplot(ax=ax, data=results, x='max_features', y='f1', hue='n_trees', palette='Set2', marker='o')\n",
    "plt.grid(linewidth=.25)\n",
    "plt.title('Random Forests CV: F1 Score');"
   ]
  },
  {
   "cell_type": "code",
   "execution_count": 17,
   "id": "ba1d4def",
   "metadata": {},
   "outputs": [
    {
     "data": {
      "text/plain": [
       "0.0068671244749649585"
      ]
     },
     "execution_count": 17,
     "metadata": {},
     "output_type": "execute_result"
    }
   ],
   "source": [
    "# OOB score from the most optimal RF Classifier\n",
    "rf_class_opt = RandomForestClassifier(oob_score=True, **grid_search.best_params_, random_state=1023, n_jobs=-1)\n",
    "rf_class_opt.fit(X, y)\n",
    "1 - rf_class_opt.oob_score_"
   ]
  },
  {
   "cell_type": "markdown",
   "id": "cdf0432c",
   "metadata": {},
   "source": [
    "Can we actually do more with less trees?"
   ]
  },
  {
   "cell_type": "code",
   "execution_count": 18,
   "id": "76132324",
   "metadata": {},
   "outputs": [],
   "source": [
    "# fitting RF Classifiers for fixed number of max_features, while varying number of trees, up to 250\n",
    "\n",
    "oob_errors = []\n",
    "\n",
    "for n_trees in range(1, 251):\n",
    "    rfc = RandomForestClassifier(n_estimators=n_trees, max_features=4, oob_score=True,  random_state=1023, n_jobs=-1)\n",
    "    rfc.fit(X, y)\n",
    "    oob_errors.append(1 - rfc.oob_score_)\n",
    "    \n",
    "oob_errors = np.array(oob_errors)"
   ]
  },
  {
   "cell_type": "code",
   "execution_count": 19,
   "id": "f7baaac7",
   "metadata": {},
   "outputs": [
    {
     "data": {
      "image/png": "[encoded data removed]",
      "text/plain": [
       "<Figure size 864x432 with 1 Axes>"
      ]
     },
     "metadata": {
      "needs_background": "light"
     },
     "output_type": "display_data"
    }
   ],
   "source": [
    "# visualizing OBB errors for various forest sizes\n",
    "\n",
    "fig, ax = plt.subplots(figsize=(12, 6))\n",
    "\n",
    "\n",
    "sns.lineplot(ax=ax, x=np.arange(1, len(oob_errors)+1), y=oob_errors, marker='o')\n",
    "plt.grid(linewidth=.25)\n",
    "plt.xlabel('Number of Trees')\n",
    "plt.ylabel('OOB Error')\n",
    "plt.title('Cumulative OOB Error');"
   ]
  },
  {
   "cell_type": "markdown",
   "id": "cbee2f03",
   "metadata": {},
   "source": [
    "The optimal number of trees (for up to 250) is:"
   ]
  },
  {
   "cell_type": "code",
   "execution_count": 20,
   "id": "17038318",
   "metadata": {},
   "outputs": [
    {
     "data": {
      "text/plain": [
       "145"
      ]
     },
     "execution_count": 20,
     "metadata": {},
     "output_type": "execute_result"
    }
   ],
   "source": [
    "np.array(oob_errors).argmin()"
   ]
  },
  {
   "cell_type": "code",
   "execution_count": 21,
   "id": "95a93c98",
   "metadata": {},
   "outputs": [
    {
     "data": {
      "text/plain": [
       "0.0068004533635576125"
      ]
     },
     "execution_count": 21,
     "metadata": {},
     "output_type": "execute_result"
    }
   ],
   "source": [
    "oob_errors[146]"
   ]
  },
  {
   "cell_type": "markdown",
   "id": "066d4512",
   "metadata": {},
   "source": [
    "With even less OOB error! So not only can we have much faster model with significantly less trees, but we also get more robust model. Let's now fit this model. "
   ]
  },
  {
   "cell_type": "code",
   "execution_count": 22,
   "id": "55f5e60d",
   "metadata": {},
   "outputs": [
    {
     "data": {
      "text/html": [
       "<style>#sk-container-id-2 {color: black;background-color: white;}#sk-container-id-2 pre{padding: 0;}#sk-container-id-2 div.sk-toggleable {background-color: white;}#sk-container-id-2 label.sk-toggleable__label {cursor: pointer;display: block;width: 100%;margin-bottom: 0;padding: 0.3em;box-sizing: border-box;text-align: center;}#sk-container-id-2 label.sk-toggleable__label-arrow:before {content: \"▸\";float: left;margin-right: 0.25em;color: #696969;}#sk-container-id-2 label.sk-toggleable__label-arrow:hover:before {color: black;}#sk-container-id-2 div.sk-estimator:hover label.sk-toggleable__label-arrow:before {color: black;}#sk-container-id-2 div.sk-toggleable__content {max-height: 0;max-width: 0;overflow: hidden;text-align: left;background-color: #f0f8ff;}#sk-container-id-2 div.sk-toggleable__content pre {margin: 0.2em;color: black;border-radius: 0.25em;background-color: #f0f8ff;}#sk-container-id-2 input.sk-toggleable__control:checked~div.sk-toggleable__content {max-height: 200px;max-width: 100%;overflow: auto;}#sk-container-id-2 input.sk-toggleable__control:checked~label.sk-toggleable__label-arrow:before {content: \"▾\";}#sk-container-id-2 div.sk-estimator input.sk-toggleable__control:checked~label.sk-toggleable__label {background-color: #d4ebff;}#sk-container-id-2 div.sk-label input.sk-toggleable__control:checked~label.sk-toggleable__label {background-color: #d4ebff;}#sk-container-id-2 input.sk-hidden--visually {border: 0;clip: rect(1px 1px 1px 1px);clip: rect(1px, 1px, 1px, 1px);height: 1px;margin: -1px;overflow: hidden;padding: 0;position: absolute;width: 1px;}#sk-container-id-2 div.sk-estimator {font-family: monospace;background-color: #f0f8ff;border: 1px dotted black;border-radius: 0.25em;box-sizing: border-box;margin-bottom: 0.5em;}#sk-container-id-2 div.sk-estimator:hover {background-color: #d4ebff;}#sk-container-id-2 div.sk-parallel-item::after {content: \"\";width: 100%;border-bottom: 1px solid gray;flex-grow: 1;}#sk-container-id-2 div.sk-label:hover label.sk-toggleable__label {background-color: #d4ebff;}#sk-container-id-2 div.sk-serial::before {content: \"\";position: absolute;border-left: 1px solid gray;box-sizing: border-box;top: 0;bottom: 0;left: 50%;z-index: 0;}#sk-container-id-2 div.sk-serial {display: flex;flex-direction: column;align-items: center;background-color: white;padding-right: 0.2em;padding-left: 0.2em;position: relative;}#sk-container-id-2 div.sk-item {position: relative;z-index: 1;}#sk-container-id-2 div.sk-parallel {display: flex;align-items: stretch;justify-content: center;background-color: white;position: relative;}#sk-container-id-2 div.sk-item::before, #sk-container-id-2 div.sk-parallel-item::before {content: \"\";position: absolute;border-left: 1px solid gray;box-sizing: border-box;top: 0;bottom: 0;left: 50%;z-index: -1;}#sk-container-id-2 div.sk-parallel-item {display: flex;flex-direction: column;z-index: 1;position: relative;background-color: white;}#sk-container-id-2 div.sk-parallel-item:first-child::after {align-self: flex-end;width: 50%;}#sk-container-id-2 div.sk-parallel-item:last-child::after {align-self: flex-start;width: 50%;}#sk-container-id-2 div.sk-parallel-item:only-child::after {width: 0;}#sk-container-id-2 div.sk-dashed-wrapped {border: 1px dashed gray;margin: 0 0.4em 0.5em 0.4em;box-sizing: border-box;padding-bottom: 0.4em;background-color: white;}#sk-container-id-2 div.sk-label label {font-family: monospace;font-weight: bold;display: inline-block;line-height: 1.2em;}#sk-container-id-2 div.sk-label-container {text-align: center;}#sk-container-id-2 div.sk-container {/* jupyter's `normalize.less` sets `[hidden] { display: none; }` but bootstrap.min.css set `[hidden] { display: none !important; }` so we also need the `!important` here to be able to override the default hidden behavior on the sphinx rendered scikit-learn.org. See: https://github.com/scikit-learn/scikit-learn/issues/21755 */display: inline-block !important;position: relative;}#sk-container-id-2 div.sk-text-repr-fallback {display: none;}</style><div id=\"sk-container-id-2\" class=\"sk-top-container\"><div class=\"sk-text-repr-fallback\"><pre>RandomForestClassifier(max_features=3, n_estimators=146, n_jobs=-1,\n",
       "                       oob_score=True, random_state=1023)</pre><b>In a Jupyter environment, please rerun this cell to show the HTML representation or trust the notebook. <br />On GitHub, the HTML representation is unable to render, please try loading this page with nbviewer.org.</b></div><div class=\"sk-container\" hidden><div class=\"sk-item\"><div class=\"sk-estimator sk-toggleable\"><input class=\"sk-toggleable__control sk-hidden--visually\" id=\"sk-estimator-id-4\" type=\"checkbox\" checked><label for=\"sk-estimator-id-4\" class=\"sk-toggleable__label sk-toggleable__label-arrow\">RandomForestClassifier</label><div class=\"sk-toggleable__content\"><pre>RandomForestClassifier(max_features=3, n_estimators=146, n_jobs=-1,\n",
       "                       oob_score=True, random_state=1023)</pre></div></div></div></div></div>"
      ],
      "text/plain": [
       "RandomForestClassifier(max_features=3, n_estimators=146, n_jobs=-1,\n",
       "                       oob_score=True, random_state=1023)"
      ]
     },
     "execution_count": 22,
     "metadata": {},
     "output_type": "execute_result"
    }
   ],
   "source": [
    "rfc_redux = RandomForestClassifier(n_estimators=146, max_features=3, oob_score=True, random_state=1023, n_jobs=-1)\n",
    "rfc_redux.fit(X, y)"
   ]
  },
  {
   "cell_type": "code",
   "execution_count": 23,
   "id": "55f6f3fc",
   "metadata": {},
   "outputs": [],
   "source": [
    "# checking some metrics for this model \n",
    "from sklearn.metrics import recall_score, f1_score, roc_auc_score"
   ]
  },
  {
   "cell_type": "code",
   "execution_count": 24,
   "id": "2211f9b4",
   "metadata": {},
   "outputs": [
    {
     "data": {
      "text/plain": [
       "1.0"
      ]
     },
     "execution_count": 24,
     "metadata": {},
     "output_type": "execute_result"
    }
   ],
   "source": [
    "recall_score(y, rfc_redux.predict(X))"
   ]
  },
  {
   "cell_type": "code",
   "execution_count": 25,
   "id": "9342a581",
   "metadata": {},
   "outputs": [
    {
     "data": {
      "text/plain": [
       "1.0"
      ]
     },
     "execution_count": 25,
     "metadata": {},
     "output_type": "execute_result"
    }
   ],
   "source": [
    "f1_score(y, rfc_redux.predict(X))"
   ]
  },
  {
   "cell_type": "code",
   "execution_count": 26,
   "id": "d3874277",
   "metadata": {},
   "outputs": [
    {
     "data": {
      "text/plain": [
       "1.0"
      ]
     },
     "execution_count": 26,
     "metadata": {},
     "output_type": "execute_result"
    }
   ],
   "source": [
    "roc_auc_score(y, rfc_redux.predict(X))"
   ]
  },
  {
   "cell_type": "code",
   "execution_count": 27,
   "id": "965198f6",
   "metadata": {},
   "outputs": [
    {
     "data": {
      "text/html": [
       "<div>\n",
       "<style scoped>\n",
       "    .dataframe tbody tr th:only-of-type {\n",
       "        vertical-align: middle;\n",
       "    }\n",
       "\n",
       "    .dataframe tbody tr th {\n",
       "        vertical-align: top;\n",
       "    }\n",
       "\n",
       "    .dataframe thead th {\n",
       "        text-align: right;\n",
       "    }\n",
       "</style>\n",
       "<table border=\"1\" class=\"dataframe\">\n",
       "  <thead>\n",
       "    <tr style=\"text-align: right;\">\n",
       "      <th></th>\n",
       "      <th>Feature</th>\n",
       "      <th>Feature Importance</th>\n",
       "    </tr>\n",
       "  </thead>\n",
       "  <tbody>\n",
       "    <tr>\n",
       "      <th>0</th>\n",
       "      <td>satisfaction_level</td>\n",
       "      <td>0.344227</td>\n",
       "    </tr>\n",
       "    <tr>\n",
       "      <th>1</th>\n",
       "      <td>last_evaluation</td>\n",
       "      <td>0.126451</td>\n",
       "    </tr>\n",
       "    <tr>\n",
       "      <th>2</th>\n",
       "      <td>number_project</td>\n",
       "      <td>0.177128</td>\n",
       "    </tr>\n",
       "    <tr>\n",
       "      <th>3</th>\n",
       "      <td>average_montly_hours</td>\n",
       "      <td>0.138312</td>\n",
       "    </tr>\n",
       "    <tr>\n",
       "      <th>4</th>\n",
       "      <td>time_spend_company</td>\n",
       "      <td>0.185796</td>\n",
       "    </tr>\n",
       "    <tr>\n",
       "      <th>5</th>\n",
       "      <td>Work_accident</td>\n",
       "      <td>0.006434</td>\n",
       "    </tr>\n",
       "    <tr>\n",
       "      <th>6</th>\n",
       "      <td>promotion_last_5years</td>\n",
       "      <td>0.000897</td>\n",
       "    </tr>\n",
       "    <tr>\n",
       "      <th>7</th>\n",
       "      <td>sales</td>\n",
       "      <td>0.012098</td>\n",
       "    </tr>\n",
       "    <tr>\n",
       "      <th>8</th>\n",
       "      <td>salary</td>\n",
       "      <td>0.008657</td>\n",
       "    </tr>\n",
       "  </tbody>\n",
       "</table>\n",
       "</div>"
      ],
      "text/plain": [
       "                 Feature  Feature Importance\n",
       "0     satisfaction_level            0.344227\n",
       "1        last_evaluation            0.126451\n",
       "2         number_project            0.177128\n",
       "3   average_montly_hours            0.138312\n",
       "4     time_spend_company            0.185796\n",
       "5          Work_accident            0.006434\n",
       "6  promotion_last_5years            0.000897\n",
       "7                  sales            0.012098\n",
       "8                 salary            0.008657"
      ]
     },
     "execution_count": 27,
     "metadata": {},
     "output_type": "execute_result"
    }
   ],
   "source": [
    "# calculating importance scores\n",
    "\n",
    "pd.DataFrame(zip(rfc_redux.feature_names_in_, rfc_redux.feature_importances_), columns=['Feature', 'Feature Importance'])"
   ]
  },
  {
   "cell_type": "markdown",
   "id": "0986db48",
   "metadata": {},
   "source": [
    "## 2. Random Forest Regression"
   ]
  },
  {
   "cell_type": "markdown",
   "id": "4a220bd2",
   "metadata": {},
   "source": [
    "For Random Forest Regression we use `RandomForestRegressor` from `scikit-learn`; but, data first. We use `Boston Housing` for this section which can be found [here](https://github.com/selva86/datasets/blob/master/BostonHousing.csv)."
   ]
  },
  {
   "cell_type": "code",
   "execution_count": 28,
   "id": "2eca3516",
   "metadata": {},
   "outputs": [
    {
     "data": {
      "text/html": [
       "<div>\n",
       "<style scoped>\n",
       "    .dataframe tbody tr th:only-of-type {\n",
       "        vertical-align: middle;\n",
       "    }\n",
       "\n",
       "    .dataframe tbody tr th {\n",
       "        vertical-align: top;\n",
       "    }\n",
       "\n",
       "    .dataframe thead th {\n",
       "        text-align: right;\n",
       "    }\n",
       "</style>\n",
       "<table border=\"1\" class=\"dataframe\">\n",
       "  <thead>\n",
       "    <tr style=\"text-align: right;\">\n",
       "      <th></th>\n",
       "      <th>crim</th>\n",
       "      <th>zn</th>\n",
       "      <th>indus</th>\n",
       "      <th>chas</th>\n",
       "      <th>nox</th>\n",
       "      <th>rm</th>\n",
       "      <th>age</th>\n",
       "      <th>dis</th>\n",
       "      <th>rad</th>\n",
       "      <th>tax</th>\n",
       "      <th>ptratio</th>\n",
       "      <th>b</th>\n",
       "      <th>lstat</th>\n",
       "      <th>medv</th>\n",
       "    </tr>\n",
       "  </thead>\n",
       "  <tbody>\n",
       "    <tr>\n",
       "      <th>0</th>\n",
       "      <td>0.00632</td>\n",
       "      <td>18.0</td>\n",
       "      <td>2.31</td>\n",
       "      <td>0</td>\n",
       "      <td>0.538</td>\n",
       "      <td>6.575</td>\n",
       "      <td>65.2</td>\n",
       "      <td>4.0900</td>\n",
       "      <td>1</td>\n",
       "      <td>296</td>\n",
       "      <td>15.3</td>\n",
       "      <td>396.90</td>\n",
       "      <td>4.98</td>\n",
       "      <td>24.0</td>\n",
       "    </tr>\n",
       "    <tr>\n",
       "      <th>1</th>\n",
       "      <td>0.02731</td>\n",
       "      <td>0.0</td>\n",
       "      <td>7.07</td>\n",
       "      <td>0</td>\n",
       "      <td>0.469</td>\n",
       "      <td>6.421</td>\n",
       "      <td>78.9</td>\n",
       "      <td>4.9671</td>\n",
       "      <td>2</td>\n",
       "      <td>242</td>\n",
       "      <td>17.8</td>\n",
       "      <td>396.90</td>\n",
       "      <td>9.14</td>\n",
       "      <td>21.6</td>\n",
       "    </tr>\n",
       "    <tr>\n",
       "      <th>2</th>\n",
       "      <td>0.02729</td>\n",
       "      <td>0.0</td>\n",
       "      <td>7.07</td>\n",
       "      <td>0</td>\n",
       "      <td>0.469</td>\n",
       "      <td>7.185</td>\n",
       "      <td>61.1</td>\n",
       "      <td>4.9671</td>\n",
       "      <td>2</td>\n",
       "      <td>242</td>\n",
       "      <td>17.8</td>\n",
       "      <td>392.83</td>\n",
       "      <td>4.03</td>\n",
       "      <td>34.7</td>\n",
       "    </tr>\n",
       "    <tr>\n",
       "      <th>3</th>\n",
       "      <td>0.03237</td>\n",
       "      <td>0.0</td>\n",
       "      <td>2.18</td>\n",
       "      <td>0</td>\n",
       "      <td>0.458</td>\n",
       "      <td>6.998</td>\n",
       "      <td>45.8</td>\n",
       "      <td>6.0622</td>\n",
       "      <td>3</td>\n",
       "      <td>222</td>\n",
       "      <td>18.7</td>\n",
       "      <td>394.63</td>\n",
       "      <td>2.94</td>\n",
       "      <td>33.4</td>\n",
       "    </tr>\n",
       "    <tr>\n",
       "      <th>4</th>\n",
       "      <td>0.06905</td>\n",
       "      <td>0.0</td>\n",
       "      <td>2.18</td>\n",
       "      <td>0</td>\n",
       "      <td>0.458</td>\n",
       "      <td>7.147</td>\n",
       "      <td>54.2</td>\n",
       "      <td>6.0622</td>\n",
       "      <td>3</td>\n",
       "      <td>222</td>\n",
       "      <td>18.7</td>\n",
       "      <td>396.90</td>\n",
       "      <td>5.33</td>\n",
       "      <td>36.2</td>\n",
       "    </tr>\n",
       "    <tr>\n",
       "      <th>...</th>\n",
       "      <td>...</td>\n",
       "      <td>...</td>\n",
       "      <td>...</td>\n",
       "      <td>...</td>\n",
       "      <td>...</td>\n",
       "      <td>...</td>\n",
       "      <td>...</td>\n",
       "      <td>...</td>\n",
       "      <td>...</td>\n",
       "      <td>...</td>\n",
       "      <td>...</td>\n",
       "      <td>...</td>\n",
       "      <td>...</td>\n",
       "      <td>...</td>\n",
       "    </tr>\n",
       "    <tr>\n",
       "      <th>501</th>\n",
       "      <td>0.06263</td>\n",
       "      <td>0.0</td>\n",
       "      <td>11.93</td>\n",
       "      <td>0</td>\n",
       "      <td>0.573</td>\n",
       "      <td>6.593</td>\n",
       "      <td>69.1</td>\n",
       "      <td>2.4786</td>\n",
       "      <td>1</td>\n",
       "      <td>273</td>\n",
       "      <td>21.0</td>\n",
       "      <td>391.99</td>\n",
       "      <td>9.67</td>\n",
       "      <td>22.4</td>\n",
       "    </tr>\n",
       "    <tr>\n",
       "      <th>502</th>\n",
       "      <td>0.04527</td>\n",
       "      <td>0.0</td>\n",
       "      <td>11.93</td>\n",
       "      <td>0</td>\n",
       "      <td>0.573</td>\n",
       "      <td>6.120</td>\n",
       "      <td>76.7</td>\n",
       "      <td>2.2875</td>\n",
       "      <td>1</td>\n",
       "      <td>273</td>\n",
       "      <td>21.0</td>\n",
       "      <td>396.90</td>\n",
       "      <td>9.08</td>\n",
       "      <td>20.6</td>\n",
       "    </tr>\n",
       "    <tr>\n",
       "      <th>503</th>\n",
       "      <td>0.06076</td>\n",
       "      <td>0.0</td>\n",
       "      <td>11.93</td>\n",
       "      <td>0</td>\n",
       "      <td>0.573</td>\n",
       "      <td>6.976</td>\n",
       "      <td>91.0</td>\n",
       "      <td>2.1675</td>\n",
       "      <td>1</td>\n",
       "      <td>273</td>\n",
       "      <td>21.0</td>\n",
       "      <td>396.90</td>\n",
       "      <td>5.64</td>\n",
       "      <td>23.9</td>\n",
       "    </tr>\n",
       "    <tr>\n",
       "      <th>504</th>\n",
       "      <td>0.10959</td>\n",
       "      <td>0.0</td>\n",
       "      <td>11.93</td>\n",
       "      <td>0</td>\n",
       "      <td>0.573</td>\n",
       "      <td>6.794</td>\n",
       "      <td>89.3</td>\n",
       "      <td>2.3889</td>\n",
       "      <td>1</td>\n",
       "      <td>273</td>\n",
       "      <td>21.0</td>\n",
       "      <td>393.45</td>\n",
       "      <td>6.48</td>\n",
       "      <td>22.0</td>\n",
       "    </tr>\n",
       "    <tr>\n",
       "      <th>505</th>\n",
       "      <td>0.04741</td>\n",
       "      <td>0.0</td>\n",
       "      <td>11.93</td>\n",
       "      <td>0</td>\n",
       "      <td>0.573</td>\n",
       "      <td>6.030</td>\n",
       "      <td>80.8</td>\n",
       "      <td>2.5050</td>\n",
       "      <td>1</td>\n",
       "      <td>273</td>\n",
       "      <td>21.0</td>\n",
       "      <td>396.90</td>\n",
       "      <td>7.88</td>\n",
       "      <td>11.9</td>\n",
       "    </tr>\n",
       "  </tbody>\n",
       "</table>\n",
       "<p>506 rows × 14 columns</p>\n",
       "</div>"
      ],
      "text/plain": [
       "        crim    zn  indus  chas    nox     rm   age     dis  rad  tax  \\\n",
       "0    0.00632  18.0   2.31     0  0.538  6.575  65.2  4.0900    1  296   \n",
       "1    0.02731   0.0   7.07     0  0.469  6.421  78.9  4.9671    2  242   \n",
       "2    0.02729   0.0   7.07     0  0.469  7.185  61.1  4.9671    2  242   \n",
       "3    0.03237   0.0   2.18     0  0.458  6.998  45.8  6.0622    3  222   \n",
       "4    0.06905   0.0   2.18     0  0.458  7.147  54.2  6.0622    3  222   \n",
       "..       ...   ...    ...   ...    ...    ...   ...     ...  ...  ...   \n",
       "501  0.06263   0.0  11.93     0  0.573  6.593  69.1  2.4786    1  273   \n",
       "502  0.04527   0.0  11.93     0  0.573  6.120  76.7  2.2875    1  273   \n",
       "503  0.06076   0.0  11.93     0  0.573  6.976  91.0  2.1675    1  273   \n",
       "504  0.10959   0.0  11.93     0  0.573  6.794  89.3  2.3889    1  273   \n",
       "505  0.04741   0.0  11.93     0  0.573  6.030  80.8  2.5050    1  273   \n",
       "\n",
       "     ptratio       b  lstat  medv  \n",
       "0       15.3  396.90   4.98  24.0  \n",
       "1       17.8  396.90   9.14  21.6  \n",
       "2       17.8  392.83   4.03  34.7  \n",
       "3       18.7  394.63   2.94  33.4  \n",
       "4       18.7  396.90   5.33  36.2  \n",
       "..       ...     ...    ...   ...  \n",
       "501     21.0  391.99   9.67  22.4  \n",
       "502     21.0  396.90   9.08  20.6  \n",
       "503     21.0  396.90   5.64  23.9  \n",
       "504     21.0  393.45   6.48  22.0  \n",
       "505     21.0  396.90   7.88  11.9  \n",
       "\n",
       "[506 rows x 14 columns]"
      ]
     },
     "execution_count": 28,
     "metadata": {},
     "output_type": "execute_result"
    }
   ],
   "source": [
    "df = pd.read_csv(os.path.join(data_dir, 'BostonHousing.csv'), sep=',')\n",
    "df"
   ]
  },
  {
   "cell_type": "markdown",
   "id": "4f7a3a46",
   "metadata": {},
   "source": [
    "Here are the variables:\n",
    "\n",
    "- `crim`: per capita crime rate by town\n",
    "- `zn`: proportion of residential land zoned for lots over 25,000 sq.ft.\n",
    "- `indus`: proportion of non-retail business acres per town.\n",
    "- `chas`: Charles River dummy variable (1 if tract bounds river; 0 otherwise)\n",
    "- `nox`: nitric oxides concentration (parts per 10 million)\n",
    "- `rm`: average number of rooms per dwelling\n",
    "- `age`: proportion of owner-occupied units built prior to 1940\n",
    "- `dis`: weighted distances to five Boston employment centers\n",
    "- `rad`: index of accessibility to radial highways\n",
    "- `tax`: full-value property-tax rate per \\$10,000\n",
    "- `ptratio`: pupil-teacher ratio by town\n",
    "- `b`: $1000(B_k - 0.63)^2$ where $B_k$ is the proportion of blacks by town\n",
    "- `lstat`: % lower status of the population\n",
    "- `medv`: Median value of owner-occupied homes in $1000’s\n",
    "\n",
    "The `medv` variable is the outcome."
   ]
  },
  {
   "cell_type": "code",
   "execution_count": 29,
   "id": "624455a7",
   "metadata": {},
   "outputs": [],
   "source": [
    "df = df.drop(columns='b')"
   ]
  },
  {
   "cell_type": "code",
   "execution_count": 30,
   "id": "0f40809b",
   "metadata": {},
   "outputs": [],
   "source": [
    "# feature matrix \n",
    "X = df.drop(columns='medv')\n",
    "\n",
    "# target variable\n",
    "y = df['medv']"
   ]
  },
  {
   "cell_type": "code",
   "execution_count": 31,
   "id": "49767c19",
   "metadata": {},
   "outputs": [
    {
     "data": {
      "text/html": [
       "<style>#sk-container-id-3 {color: black;background-color: white;}#sk-container-id-3 pre{padding: 0;}#sk-container-id-3 div.sk-toggleable {background-color: white;}#sk-container-id-3 label.sk-toggleable__label {cursor: pointer;display: block;width: 100%;margin-bottom: 0;padding: 0.3em;box-sizing: border-box;text-align: center;}#sk-container-id-3 label.sk-toggleable__label-arrow:before {content: \"▸\";float: left;margin-right: 0.25em;color: #696969;}#sk-container-id-3 label.sk-toggleable__label-arrow:hover:before {color: black;}#sk-container-id-3 div.sk-estimator:hover label.sk-toggleable__label-arrow:before {color: black;}#sk-container-id-3 div.sk-toggleable__content {max-height: 0;max-width: 0;overflow: hidden;text-align: left;background-color: #f0f8ff;}#sk-container-id-3 div.sk-toggleable__content pre {margin: 0.2em;color: black;border-radius: 0.25em;background-color: #f0f8ff;}#sk-container-id-3 input.sk-toggleable__control:checked~div.sk-toggleable__content {max-height: 200px;max-width: 100%;overflow: auto;}#sk-container-id-3 input.sk-toggleable__control:checked~label.sk-toggleable__label-arrow:before {content: \"▾\";}#sk-container-id-3 div.sk-estimator input.sk-toggleable__control:checked~label.sk-toggleable__label {background-color: #d4ebff;}#sk-container-id-3 div.sk-label input.sk-toggleable__control:checked~label.sk-toggleable__label {background-color: #d4ebff;}#sk-container-id-3 input.sk-hidden--visually {border: 0;clip: rect(1px 1px 1px 1px);clip: rect(1px, 1px, 1px, 1px);height: 1px;margin: -1px;overflow: hidden;padding: 0;position: absolute;width: 1px;}#sk-container-id-3 div.sk-estimator {font-family: monospace;background-color: #f0f8ff;border: 1px dotted black;border-radius: 0.25em;box-sizing: border-box;margin-bottom: 0.5em;}#sk-container-id-3 div.sk-estimator:hover {background-color: #d4ebff;}#sk-container-id-3 div.sk-parallel-item::after {content: \"\";width: 100%;border-bottom: 1px solid gray;flex-grow: 1;}#sk-container-id-3 div.sk-label:hover label.sk-toggleable__label {background-color: #d4ebff;}#sk-container-id-3 div.sk-serial::before {content: \"\";position: absolute;border-left: 1px solid gray;box-sizing: border-box;top: 0;bottom: 0;left: 50%;z-index: 0;}#sk-container-id-3 div.sk-serial {display: flex;flex-direction: column;align-items: center;background-color: white;padding-right: 0.2em;padding-left: 0.2em;position: relative;}#sk-container-id-3 div.sk-item {position: relative;z-index: 1;}#sk-container-id-3 div.sk-parallel {display: flex;align-items: stretch;justify-content: center;background-color: white;position: relative;}#sk-container-id-3 div.sk-item::before, #sk-container-id-3 div.sk-parallel-item::before {content: \"\";position: absolute;border-left: 1px solid gray;box-sizing: border-box;top: 0;bottom: 0;left: 50%;z-index: -1;}#sk-container-id-3 div.sk-parallel-item {display: flex;flex-direction: column;z-index: 1;position: relative;background-color: white;}#sk-container-id-3 div.sk-parallel-item:first-child::after {align-self: flex-end;width: 50%;}#sk-container-id-3 div.sk-parallel-item:last-child::after {align-self: flex-start;width: 50%;}#sk-container-id-3 div.sk-parallel-item:only-child::after {width: 0;}#sk-container-id-3 div.sk-dashed-wrapped {border: 1px dashed gray;margin: 0 0.4em 0.5em 0.4em;box-sizing: border-box;padding-bottom: 0.4em;background-color: white;}#sk-container-id-3 div.sk-label label {font-family: monospace;font-weight: bold;display: inline-block;line-height: 1.2em;}#sk-container-id-3 div.sk-label-container {text-align: center;}#sk-container-id-3 div.sk-container {/* jupyter's `normalize.less` sets `[hidden] { display: none; }` but bootstrap.min.css set `[hidden] { display: none !important; }` so we also need the `!important` here to be able to override the default hidden behavior on the sphinx rendered scikit-learn.org. See: https://github.com/scikit-learn/scikit-learn/issues/21755 */display: inline-block !important;position: relative;}#sk-container-id-3 div.sk-text-repr-fallback {display: none;}</style><div id=\"sk-container-id-3\" class=\"sk-top-container\"><div class=\"sk-text-repr-fallback\"><pre>RandomForestRegressor(max_features=7, n_estimators=1000, n_jobs=-1,\n",
       "                      random_state=1023)</pre><b>In a Jupyter environment, please rerun this cell to show the HTML representation or trust the notebook. <br />On GitHub, the HTML representation is unable to render, please try loading this page with nbviewer.org.</b></div><div class=\"sk-container\" hidden><div class=\"sk-item\"><div class=\"sk-estimator sk-toggleable\"><input class=\"sk-toggleable__control sk-hidden--visually\" id=\"sk-estimator-id-5\" type=\"checkbox\" checked><label for=\"sk-estimator-id-5\" class=\"sk-toggleable__label sk-toggleable__label-arrow\">RandomForestRegressor</label><div class=\"sk-toggleable__content\"><pre>RandomForestRegressor(max_features=7, n_estimators=1000, n_jobs=-1,\n",
       "                      random_state=1023)</pre></div></div></div></div></div>"
      ],
      "text/plain": [
       "RandomForestRegressor(max_features=7, n_estimators=1000, n_jobs=-1,\n",
       "                      random_state=1023)"
      ]
     },
     "execution_count": 31,
     "metadata": {},
     "output_type": "execute_result"
    }
   ],
   "source": [
    "# fitting RFR\n",
    "from sklearn.ensemble import RandomForestRegressor\n",
    "\n",
    "\n",
    "rf_reg = RandomForestRegressor(n_estimators=1000, max_features=7, criterion='squared_error', random_state=1023, n_jobs=-1)\n",
    "\n",
    "rf_reg.fit(X, y)"
   ]
  },
  {
   "cell_type": "code",
   "execution_count": 32,
   "id": "2020396f",
   "metadata": {},
   "outputs": [
    {
     "data": {
      "text/plain": [
       "0.984586232013264"
      ]
     },
     "execution_count": 32,
     "metadata": {},
     "output_type": "execute_result"
    }
   ],
   "source": [
    "# checking some model metrics\n",
    "\n",
    "rf_reg.score(X, y)"
   ]
  },
  {
   "cell_type": "code",
   "execution_count": 33,
   "id": "b70134e0",
   "metadata": {},
   "outputs": [
    {
     "data": {
      "text/plain": [
       "1.3012234521343624"
      ]
     },
     "execution_count": 33,
     "metadata": {},
     "output_type": "execute_result"
    }
   ],
   "source": [
    "from sklearn.metrics import mean_squared_error\n",
    "\n",
    "mean_squared_error(y, rf_reg.predict(X))"
   ]
  },
  {
   "cell_type": "markdown",
   "id": "2355c810",
   "metadata": {},
   "source": [
    "Again - can we do more for less? We fit RFRs with smaller number of trees, up to 250."
   ]
  },
  {
   "cell_type": "code",
   "execution_count": 34,
   "id": "70ee6eac",
   "metadata": {},
   "outputs": [],
   "source": [
    "mse = []\n",
    "for n in range(1, 251):\n",
    "    rfr = RandomForestRegressor(n_estimators=n, max_features=7, random_state=1023, n_jobs=-1)\n",
    "    rfr.fit(X, y)\n",
    "    mse.append(mean_squared_error(y, rfr.predict(X)))\n",
    "    \n",
    "mse = np.array(mse)"
   ]
  },
  {
   "cell_type": "code",
   "execution_count": 35,
   "id": "687105e0",
   "metadata": {},
   "outputs": [
    {
     "data": {
      "image/png": "[encoded data removed]",
      "text/plain": [
       "<Figure size 864x432 with 1 Axes>"
      ]
     },
     "metadata": {
      "needs_background": "light"
     },
     "output_type": "display_data"
    }
   ],
   "source": [
    "# visualizing MSE for various forest sizes\n",
    "fig, ax = plt.subplots(figsize=(12, 6))\n",
    "\n",
    "\n",
    "sns.lineplot(ax=ax, x=np.arange(1, len(mse)+1), y=mse)\n",
    "plt.grid(linewidth=.25)\n",
    "plt.xlabel('Number of Trees')\n",
    "plt.ylabel('MSE')\n",
    "plt.title('MSE of Random Forest Regressors');"
   ]
  },
  {
   "cell_type": "code",
   "execution_count": 36,
   "id": "727b43ba",
   "metadata": {},
   "outputs": [
    {
     "data": {
      "text/plain": [
       "107"
      ]
     },
     "execution_count": 36,
     "metadata": {},
     "output_type": "execute_result"
    }
   ],
   "source": [
    "# and the winner is...\n",
    "mse.argmin()"
   ]
  },
  {
   "cell_type": "code",
   "execution_count": 37,
   "id": "858214b5",
   "metadata": {},
   "outputs": [
    {
     "data": {
      "text/plain": [
       "1.3247833139769105"
      ]
     },
     "execution_count": 37,
     "metadata": {},
     "output_type": "execute_result"
    }
   ],
   "source": [
    "mse[108]"
   ]
  },
  {
   "cell_type": "code",
   "execution_count": 38,
   "id": "fc2191e3",
   "metadata": {},
   "outputs": [
    {
     "data": {
      "text/html": [
       "<style>#sk-container-id-4 {color: black;background-color: white;}#sk-container-id-4 pre{padding: 0;}#sk-container-id-4 div.sk-toggleable {background-color: white;}#sk-container-id-4 label.sk-toggleable__label {cursor: pointer;display: block;width: 100%;margin-bottom: 0;padding: 0.3em;box-sizing: border-box;text-align: center;}#sk-container-id-4 label.sk-toggleable__label-arrow:before {content: \"▸\";float: left;margin-right: 0.25em;color: #696969;}#sk-container-id-4 label.sk-toggleable__label-arrow:hover:before {color: black;}#sk-container-id-4 div.sk-estimator:hover label.sk-toggleable__label-arrow:before {color: black;}#sk-container-id-4 div.sk-toggleable__content {max-height: 0;max-width: 0;overflow: hidden;text-align: left;background-color: #f0f8ff;}#sk-container-id-4 div.sk-toggleable__content pre {margin: 0.2em;color: black;border-radius: 0.25em;background-color: #f0f8ff;}#sk-container-id-4 input.sk-toggleable__control:checked~div.sk-toggleable__content {max-height: 200px;max-width: 100%;overflow: auto;}#sk-container-id-4 input.sk-toggleable__control:checked~label.sk-toggleable__label-arrow:before {content: \"▾\";}#sk-container-id-4 div.sk-estimator input.sk-toggleable__control:checked~label.sk-toggleable__label {background-color: #d4ebff;}#sk-container-id-4 div.sk-label input.sk-toggleable__control:checked~label.sk-toggleable__label {background-color: #d4ebff;}#sk-container-id-4 input.sk-hidden--visually {border: 0;clip: rect(1px 1px 1px 1px);clip: rect(1px, 1px, 1px, 1px);height: 1px;margin: -1px;overflow: hidden;padding: 0;position: absolute;width: 1px;}#sk-container-id-4 div.sk-estimator {font-family: monospace;background-color: #f0f8ff;border: 1px dotted black;border-radius: 0.25em;box-sizing: border-box;margin-bottom: 0.5em;}#sk-container-id-4 div.sk-estimator:hover {background-color: #d4ebff;}#sk-container-id-4 div.sk-parallel-item::after {content: \"\";width: 100%;border-bottom: 1px solid gray;flex-grow: 1;}#sk-container-id-4 div.sk-label:hover label.sk-toggleable__label {background-color: #d4ebff;}#sk-container-id-4 div.sk-serial::before {content: \"\";position: absolute;border-left: 1px solid gray;box-sizing: border-box;top: 0;bottom: 0;left: 50%;z-index: 0;}#sk-container-id-4 div.sk-serial {display: flex;flex-direction: column;align-items: center;background-color: white;padding-right: 0.2em;padding-left: 0.2em;position: relative;}#sk-container-id-4 div.sk-item {position: relative;z-index: 1;}#sk-container-id-4 div.sk-parallel {display: flex;align-items: stretch;justify-content: center;background-color: white;position: relative;}#sk-container-id-4 div.sk-item::before, #sk-container-id-4 div.sk-parallel-item::before {content: \"\";position: absolute;border-left: 1px solid gray;box-sizing: border-box;top: 0;bottom: 0;left: 50%;z-index: -1;}#sk-container-id-4 div.sk-parallel-item {display: flex;flex-direction: column;z-index: 1;position: relative;background-color: white;}#sk-container-id-4 div.sk-parallel-item:first-child::after {align-self: flex-end;width: 50%;}#sk-container-id-4 div.sk-parallel-item:last-child::after {align-self: flex-start;width: 50%;}#sk-container-id-4 div.sk-parallel-item:only-child::after {width: 0;}#sk-container-id-4 div.sk-dashed-wrapped {border: 1px dashed gray;margin: 0 0.4em 0.5em 0.4em;box-sizing: border-box;padding-bottom: 0.4em;background-color: white;}#sk-container-id-4 div.sk-label label {font-family: monospace;font-weight: bold;display: inline-block;line-height: 1.2em;}#sk-container-id-4 div.sk-label-container {text-align: center;}#sk-container-id-4 div.sk-container {/* jupyter's `normalize.less` sets `[hidden] { display: none; }` but bootstrap.min.css set `[hidden] { display: none !important; }` so we also need the `!important` here to be able to override the default hidden behavior on the sphinx rendered scikit-learn.org. See: https://github.com/scikit-learn/scikit-learn/issues/21755 */display: inline-block !important;position: relative;}#sk-container-id-4 div.sk-text-repr-fallback {display: none;}</style><div id=\"sk-container-id-4\" class=\"sk-top-container\"><div class=\"sk-text-repr-fallback\"><pre>RandomForestRegressor(max_features=7, n_estimators=108, n_jobs=-1,\n",
       "                      random_state=1023)</pre><b>In a Jupyter environment, please rerun this cell to show the HTML representation or trust the notebook. <br />On GitHub, the HTML representation is unable to render, please try loading this page with nbviewer.org.</b></div><div class=\"sk-container\" hidden><div class=\"sk-item\"><div class=\"sk-estimator sk-toggleable\"><input class=\"sk-toggleable__control sk-hidden--visually\" id=\"sk-estimator-id-6\" type=\"checkbox\" checked><label for=\"sk-estimator-id-6\" class=\"sk-toggleable__label sk-toggleable__label-arrow\">RandomForestRegressor</label><div class=\"sk-toggleable__content\"><pre>RandomForestRegressor(max_features=7, n_estimators=108, n_jobs=-1,\n",
       "                      random_state=1023)</pre></div></div></div></div></div>"
      ],
      "text/plain": [
       "RandomForestRegressor(max_features=7, n_estimators=108, n_jobs=-1,\n",
       "                      random_state=1023)"
      ]
     },
     "execution_count": 38,
     "metadata": {},
     "output_type": "execute_result"
    }
   ],
   "source": [
    "# fitting the smaller model\n",
    "\n",
    "rfr_redux = RandomForestRegressor(n_estimators=108, max_features=7, random_state=1023, n_jobs=-1)\n",
    "rfr_redux.fit(X, y)"
   ]
  },
  {
   "cell_type": "code",
   "execution_count": 39,
   "id": "50eeb1f1",
   "metadata": {},
   "outputs": [
    {
     "data": {
      "text/plain": [
       "0.9844493754334269"
      ]
     },
     "execution_count": 39,
     "metadata": {},
     "output_type": "execute_result"
    }
   ],
   "source": [
    "rfr_redux.score(X, y)"
   ]
  },
  {
   "cell_type": "code",
   "execution_count": 40,
   "id": "d68db5fe",
   "metadata": {},
   "outputs": [
    {
     "data": {
      "image/png": "[encoded data removed]",
      "text/plain": [
       "<Figure size 864x432 with 1 Axes>"
      ]
     },
     "metadata": {
      "needs_background": "light"
     },
     "output_type": "display_data"
    }
   ],
   "source": [
    "# visualizing MSE for various forest sizes\n",
    "\n",
    "fig, ax = plt.subplots(figsize=(12, 6))\n",
    "\n",
    "\n",
    "sns.scatterplot(ax=ax, x=rfr_redux.predict(X), y=y)\n",
    "ax.plot(np.arange(y.min(), y.max() + 1), np.arange(y.min(), y.max() + 1), 'r')\n",
    "plt.xlabel('Predicted medv')\n",
    "plt.ylabel('Observed medv')\n",
    "plt.title('Random Forest Regressor: Observed vs. Predicted Values');"
   ]
  },
  {
   "cell_type": "markdown",
   "id": "381d643b",
   "metadata": {},
   "source": [
    "### Further Reading"
   ]
  },
  {
   "cell_type": "markdown",
   "id": "bc9a3876",
   "metadata": {},
   "source": [
    "[Bagging (Bootstrap Aggregation), from Corporate Finance Institute](https://corporatefinanceinstitute.com/resources/data-science/bagging-bootstrap-aggregation/)\n",
    "\n",
    "[Understanding Random Forest: How the Algorithm Works and Why it Is So Effective, Tony Yiu, Towards Data Science, Medium](https://towardsdatascience.com/understanding-random-forest-58381e0602d2#_=_)"
   ]
  },
  {
   "cell_type": "markdown",
   "id": "564b2e4f",
   "metadata": {},
   "source": [
    "***"
   ]
  },
  {
   "cell_type": "markdown",
   "id": "1f2b1095",
   "metadata": {},
   "source": [
    "DataKolektiv, 2022/23.\n",
    "\n",
    "[hello@datakolektiv.com](mailto:goran.milovanovic@datakolektiv.com)\n",
    "\n",
    "![](../img/DK_Logo_100.png)"
   ]
  },
  {
   "cell_type": "markdown",
   "id": "01c4c0a1",
   "metadata": {},
   "source": [
    "<font size=1>License: [GPLv3](https://www.gnu.org/licenses/gpl-3.0.txt) This Notebook is free software: you can redistribute it and/or modify it under the terms of the GNU General Public License as published by the Free Software Foundation, either version 3 of the License, or (at your option) any later version. This Notebook is distributed in the hope that it will be useful, but WITHOUT ANY WARRANTY; without even the implied warranty of MERCHANTABILITY or FITNESS FOR A PARTICULAR PURPOSE. See the GNU General Public License for more details. You should have received a copy of the GNU General Public License along with this Notebook. If not, see http://www.gnu.org/licenses/.</font>"
   ]
  }
 ],
 "metadata": {
  "kernelspec": {
   "display_name": "Python 3",
   "language": "python",
   "name": "python3"
  },
  "language_info": {
   "codemirror_mode": {
    "name": "ipython",
    "version": 3
   },
   "file_extension": ".py",
   "mimetype": "text/x-python",
   "name": "python",
   "nbconvert_exporter": "python",
   "pygments_lexer": "ipython3",
   "version": "3.8.8"
  }
 },
 "nbformat": 4,
 "nbformat_minor": 5
}
