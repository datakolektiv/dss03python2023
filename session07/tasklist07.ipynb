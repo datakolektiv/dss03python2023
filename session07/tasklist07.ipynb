{
 "cells": [
  {
   "cell_type": "markdown",
   "id": "0596f44a",
   "metadata": {},
   "source": [
    "# DATA SCIENCE SESSIONS VOL. 3\n",
    "### A Foundational Python Data Science Course\n",
    "## TaskList 07: Relational Structure + Pivot\n",
    "\n",
    "[&larr; Back to course webpage](https://datakolektiv.com/)\n",
    "\n",
    "Feedback should be send to [goran.milovanovic@datakolektiv.com](mailto:goran.milovanovic@datakolektiv.com). \n",
    "\n",
    "These notebooks accompany the DATA SCIENCE SESSIONS VOL. 3 :: A Foundational Python Data Science Course."
   ]
  },
  {
   "cell_type": "markdown",
   "id": "5e41fa90",
   "metadata": {},
   "source": [
    "![](../img/IntroRDataScience_NonTech-1.jpg)"
   ]
  },
  {
   "cell_type": "markdown",
   "id": "80a8469f",
   "metadata": {},
   "source": [
    "### Lecturers\n",
    "\n",
    "[Goran S. Milovanović, PhD, DataKolektiv, Chief Scientist & Owner](https://www.linkedin.com/in/gmilovanovic/)\n",
    "\n",
    "[Aleksandar Cvetković, PhD, DataKolektiv, Consultant](https://www.linkedin.com/in/alegzndr/)\n",
    "\n",
    "[Ilija Lazarević, MA, DataKolektiv, Consultant](https://www.linkedin.com/in/ilijalazarevic/)"
   ]
  },
  {
   "cell_type": "markdown",
   "id": "20821a04",
   "metadata": {},
   "source": [
    "![](../img/DK_Logo_100.png)"
   ]
  },
  {
   "cell_type": "markdown",
   "id": "b39d0c5b",
   "metadata": {},
   "source": [
    "***"
   ]
  },
  {
   "cell_type": "markdown",
   "id": "0ee740f1",
   "metadata": {},
   "source": [
    "### Intro\n",
    "\n",
    "In this TaskList you'll load several tables from `nycflight13` dataset and searching for the required information by joining them. Furthermore, in last few exercises you'll be constructing pivot tables and switching between wide and long format. Good luck!"
   ]
  },
  {
   "cell_type": "markdown",
   "id": "e1841bac",
   "metadata": {},
   "source": [
    "**00.** Import all the necessary Python libraries for this work, and then load the following datasets from `_data` directory in `session07` folder:\n",
    "\n",
    "- `flights.csv`\n",
    "- `airlines.csv`\n",
    "- `airports.csv`\n",
    "- `planes.csv`"
   ]
  },
  {
   "cell_type": "code",
   "execution_count": null,
   "id": "10a77449",
   "metadata": {},
   "outputs": [],
   "source": [
    "### your code here ###"
   ]
  },
  {
   "cell_type": "markdown",
   "id": "c5fb307b",
   "metadata": {},
   "source": [
    "**01.** By joining `flights` and `airlines` datasets, count how many flights have been carried out by every listed airline company? What's the distribution of flights in percentages?"
   ]
  },
  {
   "cell_type": "code",
   "execution_count": null,
   "id": "1d124b5f",
   "metadata": {},
   "outputs": [],
   "source": [
    "### your code here ###"
   ]
  },
  {
   "cell_type": "markdown",
   "id": "a973b510",
   "metadata": {},
   "source": [
    "**02.** By joining `flights` and `airports` datasets, compute average delay of departure for flights across different origin airports. Include the standard deviation of the delay too."
   ]
  },
  {
   "cell_type": "code",
   "execution_count": null,
   "id": "905615d6",
   "metadata": {},
   "outputs": [],
   "source": [
    "### your code here ###"
   ]
  },
  {
   "cell_type": "markdown",
   "id": "98c95786",
   "metadata": {},
   "source": [
    "**03.** By joining `flights` and `planes`, count how many flights were carried out using planes produced strictly before year 2000. \n",
    "\n",
    "*Note:* You'll notice that both the dataset have column `year`. Even though they have the same name, they contain completely different data - one is the year when a flight was carried out, the other is the year when a plane was produce. In order to reslove this ambiguity, you may use `suffixes` argument in the `.merge()` Data Frame method."
   ]
  },
  {
   "cell_type": "code",
   "execution_count": null,
   "id": "65065201",
   "metadata": {},
   "outputs": [],
   "source": [
    "### your code here ###"
   ]
  },
  {
   "cell_type": "markdown",
   "id": "902cfb1e",
   "metadata": {},
   "source": [
    "**04.** Using the merged dataset obtained in the Task 03, list all the flights carried out by the oldest airplane models. "
   ]
  },
  {
   "cell_type": "code",
   "execution_count": null,
   "id": "d77faa13",
   "metadata": {},
   "outputs": [],
   "source": [
    "### your code here ###"
   ]
  },
  {
   "cell_type": "markdown",
   "id": "c5afb935",
   "metadata": {},
   "source": [
    "**05.** By semi-joining `flights` and `planes` datasets, compute the average flight distance of all the flights carried out by planes with Turbo-jet engines."
   ]
  },
  {
   "cell_type": "code",
   "execution_count": null,
   "id": "8ff8f344",
   "metadata": {},
   "outputs": [],
   "source": [
    "### your code here ###"
   ]
  },
  {
   "cell_type": "markdown",
   "id": "57155dee",
   "metadata": {},
   "source": [
    "**06.** Calculate median departure delay by grouping `flights` dataset by both `carrier` and `origin` of the flight. Then, using `pd.pivot()` function on that result, create a pivot table showing median departure delays for each `carrier`-`origin` combination."
   ]
  },
  {
   "cell_type": "code",
   "execution_count": null,
   "id": "bd2423d2",
   "metadata": {},
   "outputs": [],
   "source": [
    "### your code here ###"
   ]
  },
  {
   "cell_type": "markdown",
   "id": "fd6dcb87",
   "metadata": {},
   "source": [
    "**07.** The previous result could also be acomplished by using `.pivot_table()` Data Frame method, without needing to previously to group/aggregate data: `pivot_table()` does that for you.\n",
    "\n",
    "Now, using `.pivot_table()` method on `flights` dataset display longest `air_time`s for each `origin`-`dest`ination combination."
   ]
  },
  {
   "cell_type": "code",
   "execution_count": null,
   "id": "d7ad09ae",
   "metadata": {},
   "outputs": [],
   "source": [
    "### your code here ###"
   ]
  },
  {
   "cell_type": "markdown",
   "id": "c624aa37",
   "metadata": {},
   "source": [
    "**08.** Using `.melt()` method change the result table from Task 07 from wide to long format."
   ]
  },
  {
   "cell_type": "code",
   "execution_count": null,
   "id": "a2b932e5",
   "metadata": {},
   "outputs": [],
   "source": [
    "### your code here ###"
   ]
  },
  {
   "cell_type": "markdown",
   "id": "f6df9430",
   "metadata": {},
   "source": [
    "***"
   ]
  },
  {
   "cell_type": "markdown",
   "id": "12ef95f3",
   "metadata": {},
   "source": [
    "DataKolektiv, 2022/23.\n",
    "\n",
    "[hello@datakolektiv.com](mailto:goran.milovanovic@datakolektiv.com)\n",
    "\n",
    "![](../img/DK_Logo_100.png)"
   ]
  },
  {
   "cell_type": "markdown",
   "id": "fedb123c",
   "metadata": {},
   "source": [
    "<font size=1>License: [GPLv3](https://www.gnu.org/licenses/gpl-3.0.txt) This Notebook is free software: you can redistribute it and/or modify it under the terms of the GNU General Public License as published by the Free Software Foundation, either version 3 of the License, or (at your option) any later version. This Notebook is distributed in the hope that it will be useful, but WITHOUT ANY WARRANTY; without even the implied warranty of MERCHANTABILITY or FITNESS FOR A PARTICULAR PURPOSE. See the GNU General Public License for more details. You should have received a copy of the GNU General Public License along with this Notebook. If not, see http://www.gnu.org/licenses/.</font>"
   ]
  }
 ],
 "metadata": {
  "kernelspec": {
   "display_name": "Python 3",
   "language": "python",
   "name": "python3"
  },
  "language_info": {
   "codemirror_mode": {
    "name": "ipython",
    "version": 3
   },
   "file_extension": ".py",
   "mimetype": "text/x-python",
   "name": "python",
   "nbconvert_exporter": "python",
   "pygments_lexer": "ipython3",
   "version": "3.8.8"
  }
 },
 "nbformat": 4,
 "nbformat_minor": 5
}
